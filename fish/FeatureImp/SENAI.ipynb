{
 "cells": [
  {
   "cell_type": "code",
   "execution_count": null,
   "metadata": {},
   "outputs": [],
   "source": [
    "\n",
    "Modelagem de sistemas\n",
    "slide de apresentacao\n",
    " \n",
    "Para cada um dos subtópicos do primeiro Módulo solicitar uma contrução no gamma.app\n",
    "Processo de desenvolvimento de Software  \n",
    "Ciclo de vida de Um Projeto.\n",
    "Método Engenharia de Software.\n",
    "Análises de Risco\n",
    "Requisitos Funcionais e Não funcionais de um  sistema\n",
    "Gestão de projetos - Atividade Construção de planilha da gestão do projeto do TCC - 8 horas \n",
    "\n",
    "Metodologias de desenvolvimento de software\n",
    "Desenvolvimento em Cascata \n",
    "Desenvolvimento Iterativo Incremental \n",
    "Técnicas de Desenvolvimento  \n",
    "Desenvolvimento Ágil \n",
    "Exemplos de desenvolvimento Ágil \n",
    "Definicao da equipe, funcoes e todo o resto  - Atividade Microsoft Forms sobre o conteudo até aqui  = 2 horas\n",
    "\n",
    "UML \n",
    "Exemplo textual selecionar os objetos, atributos e metodos\n",
    "Construcao do modelo feito do contexto textual\n",
    "Introducao ao Miro e modelo da aula anterior\n",
    "Projeto em python com atributos e métodos, Exercicio no MIRO do projeto em python\n",
    "\n",
    "Tipos de modelos\n",
    "modelo estrutural\n",
    "modelos de caso \n",
    "modelos de sequencia\n",
    "conforme o projeto de TCC -\n",
    "modelo estrutural do TCC  -                              Terceira Atividade\n",
    "modelo de sequencia do TCC -                             Terceira Atividade\n",
    "e adicao dos metodos ao modelo estrutural do TCC         Terceira Atividade\n",
    "\n",
    "Solciitar construação no gama.app Aula sobre diferenca entre desenvolvimento clássico(cascata) e desenvolviemnto ágil\n",
    "Solciitar construação no gama.app Aula sobre desenevolvimento ágil e os seua atores e suas obrigações\n",
    "\n",
    "\n",
    "\n",
    "IOT:\n",
    "estudar app inventor - Aula\n",
    "IOT temporizador    -> no arduino e no appinventor\n",
    "módulo RFID - estudar\n",
    "\n",
    "email do joao impressao\n",
    "joao.oliveira@sistemafiep.org.br\n"
   ]
  }
 ],
 "metadata": {
  "language_info": {
   "name": "python"
  }
 },
 "nbformat": 4,
 "nbformat_minor": 2
}
