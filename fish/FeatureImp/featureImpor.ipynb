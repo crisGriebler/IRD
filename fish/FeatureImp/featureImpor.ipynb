{
 "cells": [
  {
   "cell_type": "code",
   "execution_count": null,
   "metadata": {},
   "outputs": [],
   "source": [
    "## July demand on FISHTRADER\n",
    "\n",
    "## 3 tasks:\n",
    "## first stage:\n",
    "\n",
    "##-Estudo de feature importance separado por intervalos de pesos. (100 gramas)\n",
    "##-Agrupamento(cluster) para avaliar se peixes com pesos similares tem feature importance similares.\n",
    "## - Estudar modelo que identifica limite em variavel(peso) p divisao dos dados\n",
    "##-Treinamento de dois modelos com divisão de limite e avaliação de R^2\n",
    "\n",
    "## Biometria 7, add data to the DB\n",
    "## update the feeding of the fishes and calculate the expenses of each fish\n",
    "## Update LAtes with fish trader project\n",
    "## Send to others of the team (fish)\n",
    "\n",
    "## Look for video how to add profissional experience in LAttes\n",
    "## add profissional experience in lattes (wellbe, fishtrader, Senai, Penguin technologies)\n",
    "\n",
    "## Add Senai-Londrina and Senai-Curitiba experience in lattes\n",
    "## Learn deploy of LLM, and APis with python\n",
    "## Apply to concurso MTI (MAndar doc para assinatura do Leo-Senai, mandar mesmo doc para a Nati)\n",
    "\n",
    "## SEcond Stage\n",
    "##-Treino com rede neural ou treino de dois modelos\n",
    "\n",
    "\n",
    "\n",
    "\n",
    "\n",
    "# Identificar semelhanca em conteudo de CNU e MGI e estudar primeira os conteudo semelhantes"
   ]
  },
  {
   "cell_type": "markdown",
   "metadata": {},
   "source": [
    "## Conteudos MGI\n",
    "\n",
    "#ANÁLISES DE DADOS E INFORMAÇÕES: 1. Coleta, tratamento, armazenamento, integração e recuperação de dados. 2. Banco de dados relacionais. 3. Modelagem dimensional. 4. Big #Data. 5. Mineração de dados. 5.1. Modelo de referência CRISPDM. 5.2. Técnicas para préprocessamento de‐‐ dados. 5.3. Técnicas e tarefas de mineração de dados. 6. #Aprendizado de Máquina 6.1. Classificação. 6.2. Regras de associação. 6.3. Análise de agrupamentos (clusterização). 6.4. Detecção de anomalias. 6.5. Mineração de texto. #6.5. Processamento de Linguagem Natural (PLN) (Análise de Sentimentos, Classificação de textos, Análise de tópicos). 7. Tipos de análise de dados. 7.1. Análise descritiva. #7.2. Análise preditiva. 7.3. Análise prescritiva. 8. Visualização e análise exploratória de dados. 9. Tecnologias de análise de dados. 9.1. Planilhas. 9.2. SQL. 9.3. Python #e suas bibliotecas (pandas, numpy, matplotlib, scikit-learn) 9.4 Power BI, Tableau e Qlik Sense.\n",
    "\n",
    "#NOÇÕES DE ESTATÍSTICA: 1. Metodologia e utilização da estatística. Variáveis quantitativas e qualitativas. Séries estatísticas. 2. Organização e apresentação de variáveis. #3. Estatística descritiva e análise exploratória de dados. Distribuição de frequências: absoluta, relativa, acumulada. Medidas de posição: média, moda, mediana e #separatrizes. Medidas de dispersão: desviopadrão, variância, coeficiente‐ de variação. Correlação. Histogramas e curvas de frequência. Diagrama boxplot. Avaliação de #outliers. 4. Análise de dados categorizados.\n",
    "#403 – Especialista em Desenvolvimento de Software\n"
   ]
  },
  {
   "cell_type": "markdown",
   "metadata": {},
   "source": []
  },
  {
   "cell_type": "markdown",
   "metadata": {},
   "source": []
  }
 ],
 "metadata": {
  "language_info": {
   "name": "python"
  }
 },
 "nbformat": 4,
 "nbformat_minor": 2
}
