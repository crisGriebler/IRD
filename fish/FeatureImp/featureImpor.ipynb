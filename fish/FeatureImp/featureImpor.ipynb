{
 "cells": [
  {
   "cell_type": "code",
   "execution_count": null,
   "metadata": {},
   "outputs": [],
   "source": [
    "## July demand on FISHTRADER\n",
    "\n",
    "## 3 tasks:\n",
    "## first stage:\n",
    "\n",
    "##-Estudo de feature importance separado por intervalos de pesos. (100 gramas)\n",
    "##-Agrupamento(cluster) para avaliar se peixes com pesos similares tem feature importance similares.\n",
    "##-Treinamento de dois modelos com divisão de limite e avaliação de R^2\n",
    "## Biometria 7, add data to the DB\n",
    "## update the feeding of the fishes \n",
    "\n",
    "\n",
    "## SEcond Stage\n",
    "##-Treino com rede neural ou treino de dois modelos"
   ]
  }
 ],
 "metadata": {
  "language_info": {
   "name": "python"
  }
 },
 "nbformat": 4,
 "nbformat_minor": 2
}
