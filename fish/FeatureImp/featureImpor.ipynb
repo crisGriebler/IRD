{
 "cells": [
  {
   "cell_type": "code",
   "execution_count": null,
   "metadata": {},
   "outputs": [],
   "source": [
    "## July demand on FISHTRADER\n",
    "\n",
    "## 3 tasks:\n",
    "## first stage:\n",
    "\n",
    "##-Estudo de feature importance separado por intervalos de pesos. (100 gramas)\n",
    "##-Agrupamento(cluster) para avaliar se peixes com pesos similares tem feature importance similares.\n",
    "## - Estudar modelo que identifica limite em variavel(peso) p divisao dos dados\n",
    "##-Treinamento de dois modelos com divisão de limite e avaliação de R^2\n",
    "\n",
    "## Biometria 7, add data to the DB\n",
    "## update the feeding of the fishes and calculate the expenses of each fish\n",
    "## Update LAtes with fish trader project\n",
    "## Send to others of the team (fish)\n",
    "\n",
    "## Look for video how to add profissional experience in LAttes\n",
    "## add profissional experience in lattes (wellbe, fishtrader, Senai, Penguin technologies)\n",
    "\n",
    "## Add Senai-Londrina experience in lattes\n",
    "## Learn deploy of LLM, and APis with python\n",
    "## Apply to concurso MTI (MAndar doc para assinatura do Leo-Senai, mandar mesmo doc para a Nati)\n",
    "\n",
    "\n",
    "## SEcond Stage\n",
    "##-Treino com rede neural ou treino de dois modelos"
   ]
  }
 ],
 "metadata": {
  "language_info": {
   "name": "python"
  }
 },
 "nbformat": 4,
 "nbformat_minor": 2
}
