{
 "cells": [
  {
   "cell_type": "code",
   "execution_count": null,
   "metadata": {},
   "outputs": [],
   "source": [
    "## July demand\n",
    "\n",
    "##submit article with new table and pages' number done!\n",
    "\n",
    "## 3 tasks:\n",
    "## first stage:\n",
    "\n",
    "##- Estudo de feature importance separado por intervalos de pesos. (100 gramas)\n",
    "##- Agrupamento(cluster) para avaliar se peixes com pesos similares tem feature importance similares.\n",
    "## - Estudar modelo que identifica limite em variavel(peso) p divisao dos dados\n",
    "##-Treinamento de dois modelos com divisão de limite e avaliação de R^2\n",
    "\n",
    "## Biometria 7, add data to the DB\n",
    "## update the feeding of the fishes and calculate the expenses of each fish\n",
    "## Update LAtes with fish trader project\n",
    "## Send to others of the team (fish)\n",
    "\n",
    "## Look for video how to add profissional experience in LAttes\n",
    "## add profissional experience in lattes (wellbe, fishtrader, Senai, Penguin technologies)\n",
    "\n",
    "## Add Senai-Londrina and Senai-Curitiba experience in lattes\n",
    "## Learn deploy of LLM, and APis with python\n",
    "## Apply to concurso MTI (MAndar doc para assinatura do Leo-Senai, mandar mesmo doc para a Nati)\n",
    "\n",
    "## SEcond Stage\n",
    "##-Treino com rede neural ou treino de dois modelos\n",
    "\n",
    "\n",
    "\n",
    "\n",
    "\n",
    "# Identificar semelhanca em conteudo de CNU e MGI e estudar primeira os conteudo semelhantes"
   ]
  },
  {
   "cell_type": "markdown",
   "metadata": {},
   "source": [
    "## Condicoes para concurso no MGI\n",
    "possuir Diploma de graduação de nível superior em qualquer área de conhecimento e no mínimo uma das condições descritas abaixo:\n",
    "e.1) e experiência profissional de 5 anos nas áreas de Tecnologia da Informação e Comunicação, Ciência de Dados, Administração Pública, Comunicação, Administração, Ciência da Informação ou Engenharias;\n",
    "e.2) título de mestre ou doutor nas áreas de Tecnologia da Informação e Comunicação, Ciência de Dados, Administração Pública, Comunicação, Administração, Ciência da Informação ou Engenharias.\n",
    "\n",
    "## Conteudos MGI\n",
    "\n",
    "### GERAL\n",
    "\n",
    "LÍNGUA PORTUGUESA: 1. Compreensão e interpretação de texto. 2. Tipologia e gêneros textuais. 3. Figuras de linguagem. 4. Significação de palavras e expressões. 5. Relações de sinonímia e de antonímia. 6. Ortografia. 7. Acentuação gráfica. 8. Uso da crase. 9. Fonética e Fonologia: som e fonema, encontros vocálicos e consonantais e dígrafos. 10. Morfologia: classes de palavras variáveis e invariáveis e seus empregos no texto. 11. Locuções verbais (perífrases verbais). 12. Funções do “que” e do “se”. 13. Formação de palavras. 14. Elementos de comunicação. 15. Sintaxe: relações sintático-semânticas estabelecidas entre orações, períodos ou parágrafos (período simples e período composto por coordenação e subordinação). 16. Concordância verbal e nominal. 17. Regência verbal e nominal. 18. Colocação pronominal. 19. Emprego dos sinais de pontuação e sua função no texto. 20. Elementos de coesão. 21. Função textual dos vocábulos. 22. Variação linguística.\n",
    "\n",
    "RACIOCÍNIO LÓGICO: 1. Estruturas lógicas. 2. Lógica de argumentação: analogias, inferências, deduções e conclusões. 3. Lógica sentencial (ou proposicional): Proposições simples e compostas. Tabelas verdade. Equivalências. Leis De Morgan. Diagramas lógicos. 4. Lógica de primeira ordem. 5. Princípios de contagem e probabilidade. 6. Operações com conjuntos. 7. Raciocínio lógico envolvendo problemas aritméticos, geométricos e matriciais.\n",
    "DIREITO ADMINISTRATIVO: 1. Lei nº 14.133/2021 – conhecimentos básicos sobre normas de contratação e compras. 2. Lei 13.460/2017 – Direitos dos usuários de serviços públicos. 3. Decreto 9.094/2017 – Simplificação de serviços públicos. 4. Lei nº 8.745/1993 (arts. 8º a 12) – Dispõe sobre a contratação por tempo determinado.\n",
    "\n",
    "GESTÃO NO SETOR PÚBLICO: 1. Noções básicas da gestão ágil de projetos: cooperação; flexibilidade de escopo; iteratividade; autonomia e empoderamento de equipes; programação em pares e Manifesto Ágil. 2. Noções de metodologias ágeis de desenvolvimento: Scrum e Kanban 3. Noções de Gerenciamento de projetos segundo o PMBOK 7ª Edição.\n",
    "\n",
    "GOVERNO DIGITAL: 1. Lei 14.129/2021 – Governo digital. 2. Decreto 8.936/2016 – Plataforma GOV.BR. 3. Decreto 9.094/2017. 4. Decreto 10.332/2020, alterado pelo Decreto nº 11.260/2022 – Estratégia de Governo Digital. 5. Sistema de Administração dos Recursos de Tecnologia da Informação (SISP). 6. Lei nº 14.063/2020 e Decreto 10.543/2020 – Assinatura Eletrônica. 7. Lei nº13.444/2017 – Identificação Civil Nacional. 8. Lei nº 14.534/2023 e Decreto 10.977/2022 – Carteira de Identidade. 9. Programa de Privacidade e Segurança da Informação (PPSI) (Portaria SGD/MGI 852/2023) 9.1 Cartilha do PPSI. 10. Infraestrutura Nacional de Dados (IND) 10.1 Governança de Dados. 10.2 Interoperabilidade. 10.3. Catálogo de Bases de Dados. 10.4 Privacidade e Segurança. 11. Lei Geral de Proteção de Dados Pessoais (Lei 13.709/2018 e alterações). 12. Política Nacional de Segurança da Informação (Decreto 9.637/2018). 13. Política Nacional de Cibersegurança (Decreto 11.856/2023). 14. Rede Nacional de Governo Digital – Rede Gov.br (Portaria 23, de 04 de Abril de 2019).\n",
    "\n",
    "\n",
    "\n",
    "## ESPECIFICAS DO CARGO ESPECIALISTA EM CIENTISTA DE DADOS\n",
    "\n",
    "#ANÁLISES DE DADOS E INFORMAÇÕES: 1. Coleta, tratamento, armazenamento, integração e recuperação de dados. 2. Banco de dados relacionais. 3. Modelagem dimensional. 4. Big #Data. 5. Mineração de dados. 5.1. Modelo de referência CRISPDM. 5.2. Técnicas para préprocessamento de‐‐ dados. 5.3. Técnicas e tarefas de mineração de dados. 6. #Aprendizado de Máquina 6.1. Classificação. 6.2. Regras de associação. 6.3. Análise de agrupamentos (clusterização). 6.4. Detecção de anomalias. 6.5. Mineração de texto. #6.5. Processamento de Linguagem Natural (PLN) (Análise de Sentimentos, Classificação de textos, Análise de tópicos). 7. Tipos de análise de dados. 7.1. Análise descritiva. #7.2. Análise preditiva. 7.3. Análise prescritiva. 8. Visualização e análise exploratória de dados. 9. Tecnologias de análise de dados. 9.1. Planilhas. 9.2. SQL. 9.3. Python #e suas bibliotecas (pandas, numpy, matplotlib, scikit-learn) 9.4 Power BI, Tableau e Qlik Sense.\n",
    "\n",
    "#NOÇÕES DE ESTATÍSTICA: 1. Metodologia e utilização da estatística. Variáveis quantitativas e qualitativas. Séries estatísticas. 2. Organização e apresentação de variáveis. #3. Estatística descritiva e análise exploratória de dados. Distribuição de frequências: absoluta, relativa, acumulada. Medidas de posição: média, moda, mediana e #separatrizes. Medidas de dispersão: desviopadrão, variância, coeficiente‐ de variação. Correlação. Histogramas e curvas de frequência. Diagrama boxplot. Avaliação de #outliers. 4. Análise de dados categorizados.\n",
    "#403 – Especialista em Desenvolvimento de Software\n"
   ]
  },
  {
   "cell_type": "markdown",
   "metadata": {},
   "source": [
    "## CNU\n",
    "\n",
    "EIXO TEMÁTICO 1 – GESTÃO GOVERNAMENTAL E GOVERNANÇA PÚBLICA\n",
    "1 Planejamento e gestão estratégica: conceitos, princípios, etapas, níveis, métodos e ferramentas. 1.1 Balanced Scorecard\n",
    "(BSC). 1.2 Matriz SWOT. 1.3 Estabelecimento de objetivos e metas organizacionais. 1.4 Métodos de desdobramento de objetivos\n",
    "e metas e elaboração de planos de ação e mapas estratégicos. 1.5 Implementação de estratégias. 1.6 Análise de cenários. 1.7\n",
    "Ferramentas de gestão. 1.8 Metodologias para medição de desempenho. 1.9 Indicadores de desempenho: conceito, formulação\n",
    "e análise. 1.10 Detalhamento da ferramenta de avaliação de desempenho: OKR. 2 Gestão de projetos. 2.1 Conceitos básicos.\n",
    "2.2 Processos do PMBOK. 2.3 Gerenciamento da integração, do escopo, do tempo, de custos, da qualidade, de recursos\n",
    "humanos, de comunicações, de riscos, de aquisições, de partes interessadas. 2.4 Metodologias ágeis. 3 Gestão de processos\n",
    "de negócio. 3.1 Conceitos da abordagem por processos. 3.2 Técnicas de mapeamento, análise, melhoria e integração de\n",
    "processos. 3.3 Modelagem de processos com BPMN (versão 2.0). 3.4 Desenho de serviços públicos. 4 Gestão de riscos:\n",
    "princípios, objetos, técnicas, modelos nacionais e internacionais, integração ao planejamento. 4.1 Processo de Gestão de Riscos:\n",
    "comunicação, consulta, contextualização, identificação, análise, tratamento, monitoramento e retroalimentação. 4.2 Boas práticas\n",
    "de gestão de Riscos. 5 Inovação na gestão pública. 6 Governo eletrônico; transparência da administração pública; controle social\n",
    "e cidadania; accountability. 7 Comunicação na gestão pública. 8 compras governamentais. 8.1 Processos de compras e gestão\n",
    "de contratos. 8.2 Contratações de tecnologia da informação. 8.3 Sustentabilidade das contratações. 8.4 Compras centralizadas.\n",
    "9 Organização sistêmica da administração pública federal. 9.1 Sistemas estruturantes e estruturadores da administração pública\n",
    "federal.\n",
    "\n",
    "\n"
   ]
  },
  {
   "cell_type": "markdown",
   "metadata": {},
   "source": []
  }
 ],
 "metadata": {
  "language_info": {
   "name": "python"
  }
 },
 "nbformat": 4,
 "nbformat_minor": 2
}
