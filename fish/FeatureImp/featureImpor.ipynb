{
 "cells": [
  {
   "cell_type": "code",
   "execution_count": null,
   "metadata": {},
   "outputs": [],
   "source": [
    "## July demand on FISHTRADER\n",
    "\n",
    "## 3 tasks:\n",
    "## first stage:\n",
    "\n",
    "##-Estudo de feature importance separado por intervalos de pesos. (100 gramas)\n",
    "##-Agrupamento(cluster) para avaliar se peixes com pesos similares tem feature importance similares.\n",
    "##-Treinamento de dois modelos com divisão de limite e avaliação de R^2\n",
    "## Biometria 7, add data to the DB\n",
    "## update the feeding of the fishes and calculate the expenses of each fish\n",
    "## Update LAtes with fish trader project\n",
    "## Send to others of the team (fish)\n",
    "## add profissional experience in lattes (wellbe, fishtrader, Senai, Penguin technologies)\n",
    "## Add Senai experience in lattes\n",
    "## Learn deploy of LLM, and APis with python\n",
    "## Apply to concurso MTI\n",
    "\n",
    "\n",
    "## SEcond Stage\n",
    "##-Treino com rede neural ou treino de dois modelos"
   ]
  }
 ],
 "metadata": {
  "language_info": {
   "name": "python"
  }
 },
 "nbformat": 4,
 "nbformat_minor": 2
}
