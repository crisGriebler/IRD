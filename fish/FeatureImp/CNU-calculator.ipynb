{
 "cells": [
  {
   "cell_type": "code",
   "execution_count": null,
   "metadata": {},
   "outputs": [],
   "source": [
    "import pandas as pd\n",
    "import matplotlib as plt\n",
    "import numpy as np"
   ]
  },
  {
   "cell_type": "code",
   "execution_count": null,
   "metadata": {},
   "outputs": [],
   "source": [
    "def calculate_total_points(num_questions_eixo1, num_questions_eixo2, num_questions_eixo3, num_questions_eixo4,\n",
    "                           num_questions_conhecimentos_gerais, grade_dissertacao,\n",
    "                           weight_eixo1, weight_eixo2, weight_eixo3, weight_eixo4):\n",
    "    # Calculating the points for each Eixo Temático\n",
    "    points_eixo1 = num_questions_eixo1 * weight_eixo1\n",
    "    points_eixo2 = num_questions_eixo2 * weight_eixo2\n",
    "    points_eixo3 = num_questions_eixo3 * weight_eixo3\n",
    "    points_eixo4 = num_questions_eixo4 * weight_eixo4\n",
    "\n",
    "    # Calculating the points for Conhecimentos Gerais (assuming it has a weight of 1)\n",
    "    points_conhecimentos_gerais = num_questions_conhecimentos_gerais * 1\n",
    "\n",
    "    # Summing up all the points\n",
    "    total_points = (points_eixo1 + points_eixo2 + points_eixo3 + points_eixo4 + \n",
    "                    points_conhecimentos_gerais + grade_dissertacao)\n",
    "\n",
    "    return total_points\n",
    "\n",
    "# Example usage:\n",
    "num_questions_eixo1 = int(input(\"Enter the number of questions for Eixo 1: \"))\n",
    "num_questions_eixo2 = int(input(\"Enter the number of questions for Eixo 2: \"))\n",
    "num_questions_eixo3 = int(input(\"Enter the number of questions for Eixo 3: \"))\n",
    "num_questions_eixo4 = int(input(\"Enter the number of questions for Eixo 4: \"))\n",
    "num_questions_conhecimentos_gerais = int(input(\"Enter the number of questions for Conhecimentos Gerais: \"))\n",
    "grade_dissertacao = float(input(\"Enter the grade of the dissertacao: \"))\n",
    "\n",
    "weight_eixo1 = float(input(\"Enter the weight for Eixo 1: \"))\n",
    "weight_eixo2 = float(input(\"Enter the weight for Eixo 2: \"))\n",
    "weight_eixo3 = float(input(\"Enter the weight for Eixo 3: \"))\n",
    "weight_eixo4 = float(input(\"Enter the weight for Eixo 4: \"))\n",
    "\n",
    "total_points = calculate_total_points(num_questions_eixo1, num_questions_eixo2, num_questions_eixo3, num_questions_eixo4,\n",
    "                                      num_questions_conhecimentos_gerais, grade_dissertacao,\n",
    "                                      weight_eixo1, weight_eixo2, weight_eixo3, weight_eixo4)\n",
    "\n",
    "print(f\"Total Points: {total_points}\")\n"
   ]
  }
 ],
 "metadata": {
  "language_info": {
   "name": "python"
  }
 },
 "nbformat": 4,
 "nbformat_minor": 2
}
