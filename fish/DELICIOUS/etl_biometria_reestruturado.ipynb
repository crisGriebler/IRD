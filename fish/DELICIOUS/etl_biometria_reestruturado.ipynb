{
 "cells": [
  {
   "cell_type": "markdown",
   "id": "913da682",
   "metadata": {},
   "source": [
    "# 📊 ETL e Análise de Dados de Biometria de Tilápias"
   ]
  },
  {
   "cell_type": "markdown",
   "id": "5b9b0124",
   "metadata": {},
   "source": [
    "## 📦 1. Importação de Bibliotecas"
   ]
  },
  {
   "cell_type": "code",
   "execution_count": 1,
   "id": "3d5c2f51",
   "metadata": {},
   "outputs": [],
   "source": [
    "import os\n",
    "import pandas as pd\n",
    "from glob import glob\n",
    "import plotly.express as px\n",
    "import ipywidgets as widgets\n",
    "from IPython.display import display"
   ]
  },
  {
   "cell_type": "markdown",
   "id": "2c312f2b",
   "metadata": {},
   "source": [
    "## ⚙️ 2. Função de ETL para Leitura dos Arquivos de Biometria"
   ]
  },
  {
   "cell_type": "code",
   "execution_count": 2,
   "id": "1e5189fe",
   "metadata": {},
   "outputs": [],
   "source": [
    "def load_biometria_data(path_folder=\"biometria\"):\n",
    "    all_files = glob(os.path.join(path_folder, \"*.xlsx\"))\n",
    "    all_data = []\n",
    "\n",
    "    for file in all_files:\n",
    "        try:\n",
    "            xls = pd.ExcelFile(file)\n",
    "            if \"01 (2)\" not in xls.sheet_names:\n",
    "                print(f\"⚠️ Aba '01 (2)' não encontrada em: {file}\")\n",
    "                continue\n",
    "\n",
    "            df = xls.parse(\"01 (2)\", header=12)\n",
    "            df.columns = [str(col).strip().upper().replace(\" \", \"_\") for col in df.columns]\n",
    "            df[\"FILENAME\"] = os.path.basename(file)\n",
    "\n",
    "            if \"ULTIMA_BIOMETRIA\" in df.columns:\n",
    "                df[\"DATA_BIOMETRIA\"] = pd.to_datetime(df[\"ULTIMA_BIOMETRIA\"], errors=\"coerce\")\n",
    "            else:\n",
    "                df[\"DATA_BIOMETRIA\"] = pd.NaT\n",
    "\n",
    "            cols_to_keep = {\n",
    "                \"UNID.PRODUÇÃO\": \"TANQUE\",\n",
    "                \"PESO_ATUAL\": \"PESO_ATUAL\",\n",
    "                \"Nº_DE_PEIXES_ATUAL\": \"N_PEIXES_ATUAL\",\n",
    "                \"BIOM_ATUAL\": \"BIOMASSA_ATUAL\"\n",
    "            }\n",
    "\n",
    "            missing_cols = [col for col in cols_to_keep if col not in df.columns]\n",
    "            if missing_cols:\n",
    "                print(f\"⚠️ Colunas ausentes em {file}: {missing_cols}\")\n",
    "                continue\n",
    "\n",
    "            temp_df = df[list(cols_to_keep.keys())].rename(columns=cols_to_keep)\n",
    "            temp_df[\"DATA_BIOMETRIA\"] = df[\"DATA_BIOMETRIA\"]\n",
    "            temp_df[\"FILENAME\"] = df[\"FILENAME\"]\n",
    "\n",
    "            temp_df = temp_df.dropna(subset=[\"TANQUE\", \"DATA_BIOMETRIA\", \"PESO_ATUAL\"])\n",
    "            all_data.append(temp_df)\n",
    "\n",
    "        except Exception as e:\n",
    "            print(f\"⚠️ Erro ao ler {file}: {e}\")\n",
    "\n",
    "    if all_data:\n",
    "        return pd.concat(all_data, ignore_index=True)\n",
    "    else:\n",
    "        return pd.DataFrame()"
   ]
  },
  {
   "cell_type": "markdown",
   "id": "9fcfc7b4",
   "metadata": {},
   "source": [
    "## 📈 3. Visualização Interativa do Peso por Biometria"
   ]
  },
  {
   "cell_type": "code",
   "execution_count": 3,
   "id": "d8efbb52",
   "metadata": {},
   "outputs": [],
   "source": [
    "def plot_peso_biometria(df_biom):\n",
    "    df_biom[\"DATA_BIOMETRIA\"] = pd.to_datetime(df_biom[\"DATA_BIOMETRIA\"], errors=\"coerce\")\n",
    "    tanques = sorted(df_biom[\"TANQUE\"].dropna().unique())\n",
    "    dropdown = widgets.Dropdown(options=tanques, description='Tanque:', layout=widgets.Layout(width='50%'))\n",
    "\n",
    "    def update_plot(tanque):\n",
    "        df_tanque = df_biom[df_biom[\"TANQUE\"] == tanque].sort_values(\"DATA_BIOMETRIA\")\n",
    "\n",
    "        fig = px.line(\n",
    "            df_tanque,\n",
    "            x=\"DATA_BIOMETRIA\",\n",
    "            y=\"PESO_ATUAL\",\n",
    "            title=f\"Evolução do Peso Atual - {tanque}\",\n",
    "            markers=True,\n",
    "            labels={\n",
    "                \"DATA_BIOMETRIA\": \"Data da Biometria\",\n",
    "                \"PESO_ATUAL\": \"Peso Médio (g)\"\n",
    "            }\n",
    "        )\n",
    "\n",
    "        fig.update_traces(line=dict(width=3, color=\"black\"),\n",
    "                          marker=dict(size=8, color=\"darkblue\", symbol=\"circle\"))\n",
    "\n",
    "        fig.update_layout(\n",
    "            template=\"plotly_white\",\n",
    "            title_font=dict(size=20, color='black'),\n",
    "            font=dict(color='black'),\n",
    "            title_x=0.5,\n",
    "            plot_bgcolor='white',\n",
    "            paper_bgcolor='white',\n",
    "            xaxis=dict(\n",
    "                title=\"Data\",\n",
    "                showgrid=True,\n",
    "                gridcolor='lightgray',\n",
    "                linecolor='black',\n",
    "                tickfont=dict(color='black'),\n",
    "                titlefont=dict(color='black'),\n",
    "                tickformat='%b/%Y'\n",
    "            ),\n",
    "            yaxis=dict(\n",
    "                title=\"Peso Atual (g)\",\n",
    "                showgrid=True,\n",
    "                gridcolor='lightgray',\n",
    "                linecolor='black',\n",
    "                tickfont=dict(color='black'),\n",
    "                titlefont=dict(color='black')\n",
    "            ),\n",
    "            margin=dict(t=60, l=60, r=40, b=60)\n",
    "        )\n",
    "\n",
    "        fig.show()\n",
    "\n",
    "    widgets.interact(update_plot, tanque=dropdown)"
   ]
  },
  {
   "cell_type": "markdown",
   "id": "a00c01e2",
   "metadata": {},
   "source": [
    "## 📊 4. Análise Estatística da Biometria"
   ]
  },
  {
   "cell_type": "code",
   "execution_count": 4,
   "id": "a99cf9d0",
   "metadata": {},
   "outputs": [
    {
     "ename": "NameError",
     "evalue": "name 'df_biometria_final' is not defined",
     "output_type": "error",
     "traceback": [
      "\u001b[1;31m---------------------------------------------------------------------------\u001b[0m",
      "\u001b[1;31mNameError\u001b[0m                                 Traceback (most recent call last)",
      "Cell \u001b[1;32mIn[4], line 2\u001b[0m\n\u001b[0;32m      1\u001b[0m \u001b[38;5;66;03m# Suponha que df_biometria_final já foi carregado\u001b[39;00m\n\u001b[1;32m----> 2\u001b[0m df_biometria_final[\u001b[38;5;124m\"\u001b[39m\u001b[38;5;124mDATA_BIOMETRIA\u001b[39m\u001b[38;5;124m\"\u001b[39m] \u001b[38;5;241m=\u001b[39m pd\u001b[38;5;241m.\u001b[39mto_datetime(\u001b[43mdf_biometria_final\u001b[49m[\u001b[38;5;124m\"\u001b[39m\u001b[38;5;124mDATA_BIOMETRIA\u001b[39m\u001b[38;5;124m\"\u001b[39m])\n\u001b[0;32m      3\u001b[0m df_biometria_final[\u001b[38;5;124m\"\u001b[39m\u001b[38;5;124mPESO_ATUAL\u001b[39m\u001b[38;5;124m\"\u001b[39m] \u001b[38;5;241m=\u001b[39m pd\u001b[38;5;241m.\u001b[39mto_numeric(df_biometria_final[\u001b[38;5;124m\"\u001b[39m\u001b[38;5;124mPESO_ATUAL\u001b[39m\u001b[38;5;124m\"\u001b[39m], errors\u001b[38;5;241m=\u001b[39m\u001b[38;5;124m\"\u001b[39m\u001b[38;5;124mcoerce\u001b[39m\u001b[38;5;124m\"\u001b[39m)\n\u001b[0;32m      4\u001b[0m df_biometria_final[\u001b[38;5;124m\"\u001b[39m\u001b[38;5;124mN_PEIXES_ATUAL\u001b[39m\u001b[38;5;124m\"\u001b[39m] \u001b[38;5;241m=\u001b[39m pd\u001b[38;5;241m.\u001b[39mto_numeric(df_biometria_final[\u001b[38;5;124m\"\u001b[39m\u001b[38;5;124mN_PEIXES_ATUAL\u001b[39m\u001b[38;5;124m\"\u001b[39m], errors\u001b[38;5;241m=\u001b[39m\u001b[38;5;124m\"\u001b[39m\u001b[38;5;124mcoerce\u001b[39m\u001b[38;5;124m\"\u001b[39m)\n",
      "\u001b[1;31mNameError\u001b[0m: name 'df_biometria_final' is not defined"
     ]
    }
   ],
   "source": [
    "# Suponha que df_biometria_final já foi carregado\n",
    "df_biometria_final[\"DATA_BIOMETRIA\"] = pd.to_datetime(df_biometria_final[\"DATA_BIOMETRIA\"])\n",
    "df_biometria_final[\"PESO_ATUAL\"] = pd.to_numeric(df_biometria_final[\"PESO_ATUAL\"], errors=\"coerce\")\n",
    "df_biometria_final[\"N_PEIXES_ATUAL\"] = pd.to_numeric(df_biometria_final[\"N_PEIXES_ATUAL\"], errors=\"coerce\")\n",
    "df_biometria_final[\"BIOMASSA_ATUAL\"] = pd.to_numeric(df_biometria_final[\"BIOMASSA_ATUAL\"], errors=\"coerce\")\n",
    "\n",
    "# Estatísticas descritivas\n",
    "df_biometria_final.describe()\n",
    "\n",
    "# GMD\n",
    "df_biometria_final = df_biometria_final.sort_values([\"TANQUE\", \"DATA_BIOMETRIA\"])\n",
    "df_biometria_final[\"PESO_ANTERIOR\"] = df_biometria_final.groupby(\"TANQUE\")[\"PESO_ATUAL\"].shift(1)\n",
    "df_biometria_final[\"DATA_ANTERIOR\"] = df_biometria_final.groupby(\"TANQUE\")[\"DATA_BIOMETRIA\"].shift(1)\n",
    "df_biometria_final[\"DIAS_ENTRE_BIOMETRIAS\"] = (df_biometria_final[\"DATA_BIOMETRIA\"] - df_biometria_final[\"DATA_ANTERIOR\"]).dt.days\n",
    "df_biometria_final[\"GMD\"] = (df_biometria_final[\"PESO_ATUAL\"] - df_biometria_final[\"PESO_ANTERIOR\"]) / df_biometria_final[\"DIAS_ENTRE_BIOMETRIAS\"]\n",
    "\n",
    "# Ranking por GMD\n",
    "df_biometria_final.groupby(\"TANQUE\")[\"GMD\"].mean().sort_values(ascending=False)"
   ]
  },
  {
   "cell_type": "code",
   "execution_count": null,
   "id": "0dfc6a8a",
   "metadata": {},
   "outputs": [],
   "source": []
  }
 ],
 "metadata": {
  "kernelspec": {
   "display_name": "Python 3",
   "language": "python",
   "name": "python3"
  },
  "language_info": {
   "codemirror_mode": {
    "name": "ipython",
    "version": 3
   },
   "file_extension": ".py",
   "mimetype": "text/x-python",
   "name": "python",
   "nbconvert_exporter": "python",
   "pygments_lexer": "ipython3",
   "version": "3.10.11"
  }
 },
 "nbformat": 4,
 "nbformat_minor": 5
}
