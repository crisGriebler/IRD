{
 "cells": [
  {
   "cell_type": "code",
   "execution_count": 1,
   "id": "777d73c0",
   "metadata": {},
   "outputs": [],
   "source": [
    "import pandas as pd\n",
    "from glob import glob\n",
    "import os"
   ]
  },
  {
   "cell_type": "code",
   "execution_count": 4,
   "id": "b5d15b9f",
   "metadata": {},
   "outputs": [],
   "source": [
    "def load_biometria_data(path_folder=\"biometria\"):\n",
    "    all_files = glob(os.path.join(path_folder, \"*.xlsx\"))\n",
    "    all_data = []\n",
    "\n",
    "    for file in all_files:\n",
    "        try:\n",
    "            xls = pd.ExcelFile(file)\n",
    "            sheet = xls.sheet_names[0]\n",
    "            df = xls.parse(sheet, header=11)\n",
    "            \n",
    "            # Clean column names\n",
    "            df.columns = [str(col).strip().upper().replace(\" \", \"_\") for col in df.columns]\n",
    "            \n",
    "            # Add file reference\n",
    "            df[\"FILENAME\"] = os.path.basename(file)\n",
    "            \n",
    "            # Parse dates\n",
    "            if \"ULTIMA BIOMETRIA\" in df.columns:\n",
    "                df[\"DATA_BIOMETRIA\"] = pd.to_datetime(df[\"ULTIMA BIOMETRIA\"], errors=\"coerce\")\n",
    "            else:\n",
    "                df[\"DATA_BIOMETRIA\"] = pd.NaT\n",
    "\n",
    "            # Select and rename relevant columns\n",
    "            cols_to_keep = {\n",
    "                \"UNID.PRODUÇÃO\": \"TANQUE\",\n",
    "                \"PESO ATUAL\": \"PESO_ATUAL\",\n",
    "                \"Nº DE PEIXES ATUAL\": \"N_PEIXES_ATUAL\",\n",
    "                \"BIOM ATUAL\": \"BIOMASSA_ATUAL\"\n",
    "            }\n",
    "\n",
    "            temp_df = df[[k for k in cols_to_keep.keys() if k in df.columns]].rename(columns=cols_to_keep)\n",
    "            temp_df[\"DATA_BIOMETRIA\"] = df[\"DATA_BIOMETRIA\"]\n",
    "            temp_df[\"FILENAME\"] = df[\"FILENAME\"]\n",
    "\n",
    "            # Drop rows without tank info\n",
    "            temp_df = temp_df.dropna(subset=[\"TANQUE\", \"DATA_BIOMETRIA\", \"PESO_ATUAL\"])\n",
    "\n",
    "            all_data.append(temp_df)\n",
    "\n",
    "        except Exception as e:\n",
    "            print(f\"⚠️ Error reading {file}: {e}\")\n",
    "\n",
    "    if all_data:\n",
    "        final_df = pd.concat(all_data, ignore_index=True)\n",
    "        return final_df\n",
    "    else:\n",
    "        return pd.DataFrame()\n"
   ]
  },
  {
   "cell_type": "code",
   "execution_count": 5,
   "metadata": {},
   "outputs": [
    {
     "name": "stderr",
     "output_type": "stream",
     "text": [
      "C:\\Users\\crist\\AppData\\Local\\Packages\\PythonSoftwareFoundation.Python.3.10_qbz5n2kfra8p0\\LocalCache\\local-packages\\Python310\\site-packages\\openpyxl\\reader\\workbook.py:118: UserWarning: Print area cannot be set to Defined name: '01 (2)'!$4:$30.\n",
      "  warn(f\"Print area cannot be set to Defined name: {defn.value}.\")\n",
      "C:\\Users\\crist\\AppData\\Local\\Packages\\PythonSoftwareFoundation.Python.3.10_qbz5n2kfra8p0\\LocalCache\\local-packages\\Python310\\site-packages\\openpyxl\\reader\\workbook.py:118: UserWarning: Print area cannot be set to Defined name: '01 (2)'!$4:$30.\n",
      "  warn(f\"Print area cannot be set to Defined name: {defn.value}.\")\n",
      "C:\\Users\\crist\\AppData\\Local\\Packages\\PythonSoftwareFoundation.Python.3.10_qbz5n2kfra8p0\\LocalCache\\local-packages\\Python310\\site-packages\\openpyxl\\reader\\workbook.py:118: UserWarning: Print area cannot be set to Defined name: '01 (2)'!$4:$32.\n",
      "  warn(f\"Print area cannot be set to Defined name: {defn.value}.\")\n",
      "C:\\Users\\crist\\AppData\\Local\\Packages\\PythonSoftwareFoundation.Python.3.10_qbz5n2kfra8p0\\LocalCache\\local-packages\\Python310\\site-packages\\openpyxl\\reader\\workbook.py:118: UserWarning: Print area cannot be set to Defined name: '01 (2)'!$4:$28.\n",
      "  warn(f\"Print area cannot be set to Defined name: {defn.value}.\")\n"
     ]
    },
    {
     "name": "stdout",
     "output_type": "stream",
     "text": [
      "⚠️ Error reading biometria\\TILAPIA - 01-2025 - BIOMETRIA ENGORDA D. FRIDA.xlsx: ['TANQUE', 'PESO_ATUAL']\n",
      "⚠️ Error reading biometria\\TILAPIA - 02-2025 - BIOMETRIA ENGORDA D. FRIDA.xlsx: ['TANQUE', 'PESO_ATUAL']\n",
      "⚠️ Error reading biometria\\TILAPIA - 03-2025 - BIOMETRIA ENGORDA D. FRIDA.xlsx: ['TANQUE', 'PESO_ATUAL']\n",
      "⚠️ Error reading biometria\\TILAPIA - 06-2024 -BIOMETRIA ENGORDA D. FRIDA.xlsx: ['TANQUE', 'PESO_ATUAL']\n"
     ]
    },
    {
     "name": "stderr",
     "output_type": "stream",
     "text": [
      "C:\\Users\\crist\\AppData\\Local\\Packages\\PythonSoftwareFoundation.Python.3.10_qbz5n2kfra8p0\\LocalCache\\local-packages\\Python310\\site-packages\\openpyxl\\reader\\workbook.py:118: UserWarning: Print area cannot be set to Defined name: '01 (2)'!$4:$28.\n",
      "  warn(f\"Print area cannot be set to Defined name: {defn.value}.\")\n",
      "C:\\Users\\crist\\AppData\\Local\\Packages\\PythonSoftwareFoundation.Python.3.10_qbz5n2kfra8p0\\LocalCache\\local-packages\\Python310\\site-packages\\openpyxl\\reader\\workbook.py:118: UserWarning: Print area cannot be set to Defined name: '01 (2)'!$4:$28.\n",
      "  warn(f\"Print area cannot be set to Defined name: {defn.value}.\")\n",
      "C:\\Users\\crist\\AppData\\Local\\Packages\\PythonSoftwareFoundation.Python.3.10_qbz5n2kfra8p0\\LocalCache\\local-packages\\Python310\\site-packages\\openpyxl\\reader\\workbook.py:118: UserWarning: Print area cannot be set to Defined name: '01 (2)'!$4:$28.\n",
      "  warn(f\"Print area cannot be set to Defined name: {defn.value}.\")\n",
      "C:\\Users\\crist\\AppData\\Local\\Packages\\PythonSoftwareFoundation.Python.3.10_qbz5n2kfra8p0\\LocalCache\\local-packages\\Python310\\site-packages\\openpyxl\\reader\\workbook.py:118: UserWarning: Print area cannot be set to Defined name: '01 (2)'!$4:$28.\n",
      "  warn(f\"Print area cannot be set to Defined name: {defn.value}.\")\n",
      "C:\\Users\\crist\\AppData\\Local\\Packages\\PythonSoftwareFoundation.Python.3.10_qbz5n2kfra8p0\\LocalCache\\local-packages\\Python310\\site-packages\\openpyxl\\reader\\workbook.py:118: UserWarning: Print area cannot be set to Defined name: '01 (2)'!$4:$28.\n",
      "  warn(f\"Print area cannot be set to Defined name: {defn.value}.\")\n"
     ]
    },
    {
     "name": "stdout",
     "output_type": "stream",
     "text": [
      "⚠️ Error reading biometria\\TILAPIA - 07-2024 - BIOMETRIA ENGORDA D. FRIDA.xlsx: ['TANQUE', 'PESO_ATUAL']\n",
      "⚠️ Error reading biometria\\TILAPIA - 08-2024 - BIOMETRIA ENGORDA D. FRIDA.xlsx: ['TANQUE', 'PESO_ATUAL']\n",
      "⚠️ Error reading biometria\\TILAPIA - 09-2024 - BIOMETRIA ENGORDA D. FRIDA.xlsx: ['TANQUE', 'PESO_ATUAL']\n",
      "⚠️ Error reading biometria\\TILAPIA - 10-2024 - BIOMETRIA ENGORDA D. FRIDA.xlsx: ['TANQUE', 'PESO_ATUAL']\n",
      "⚠️ Error reading biometria\\TILAPIA - 11-2024 - BIOMETRIA ENGORDA D. FRIDA.xlsx: ['TANQUE', 'PESO_ATUAL']\n",
      "⚠️ Error reading biometria\\TILAPIA - 12-2024 - BIOMETRIA ENGORDA D. FRIDA.xlsx: ['TANQUE', 'PESO_ATUAL']\n"
     ]
    },
    {
     "name": "stderr",
     "output_type": "stream",
     "text": [
      "C:\\Users\\crist\\AppData\\Local\\Packages\\PythonSoftwareFoundation.Python.3.10_qbz5n2kfra8p0\\LocalCache\\local-packages\\Python310\\site-packages\\openpyxl\\reader\\workbook.py:118: UserWarning: Print area cannot be set to Defined name: '01 (2)'!$4:$28.\n",
      "  warn(f\"Print area cannot be set to Defined name: {defn.value}.\")\n"
     ]
    },
    {
     "data": {
      "text/html": [
       "<div>\n",
       "<style scoped>\n",
       "    .dataframe tbody tr th:only-of-type {\n",
       "        vertical-align: middle;\n",
       "    }\n",
       "\n",
       "    .dataframe tbody tr th {\n",
       "        vertical-align: top;\n",
       "    }\n",
       "\n",
       "    .dataframe thead th {\n",
       "        text-align: right;\n",
       "    }\n",
       "</style>\n",
       "<table border=\"1\" class=\"dataframe\">\n",
       "  <thead>\n",
       "    <tr style=\"text-align: right;\">\n",
       "      <th></th>\n",
       "    </tr>\n",
       "  </thead>\n",
       "  <tbody>\n",
       "  </tbody>\n",
       "</table>\n",
       "</div>"
      ],
      "text/plain": [
       "Empty DataFrame\n",
       "Columns: []\n",
       "Index: []"
      ]
     },
     "execution_count": 5,
     "metadata": {},
     "output_type": "execute_result"
    }
   ],
   "source": [
    "# Load and preview final DataFrame\n",
    "df_biometria_final = load_biometria_data()\n",
    "df_biometria_final.head()"
   ]
  },
  {
   "cell_type": "code",
   "execution_count": 6,
   "id": "3298c0e7",
   "metadata": {},
   "outputs": [
    {
     "data": {
      "text/html": [
       "<div>\n",
       "<style scoped>\n",
       "    .dataframe tbody tr th:only-of-type {\n",
       "        vertical-align: middle;\n",
       "    }\n",
       "\n",
       "    .dataframe tbody tr th {\n",
       "        vertical-align: top;\n",
       "    }\n",
       "\n",
       "    .dataframe thead th {\n",
       "        text-align: right;\n",
       "    }\n",
       "</style>\n",
       "<table border=\"1\" class=\"dataframe\">\n",
       "  <thead>\n",
       "    <tr style=\"text-align: right;\">\n",
       "      <th></th>\n",
       "    </tr>\n",
       "  </thead>\n",
       "  <tbody>\n",
       "  </tbody>\n",
       "</table>\n",
       "</div>"
      ],
      "text/plain": [
       "Empty DataFrame\n",
       "Columns: []\n",
       "Index: []"
      ]
     },
     "execution_count": 6,
     "metadata": {},
     "output_type": "execute_result"
    }
   ],
   "source": [
    "df_biometria_final.head()"
   ]
  },
  {
   "cell_type": "code",
   "execution_count": null,
   "id": "71d01f71",
   "metadata": {},
   "outputs": [],
   "source": []
  }
 ],
 "metadata": {
  "kernelspec": {
   "display_name": "Python 3",
   "language": "python",
   "name": "python3"
  },
  "language_info": {
   "codemirror_mode": {
    "name": "ipython",
    "version": 3
   },
   "file_extension": ".py",
   "mimetype": "text/x-python",
   "name": "python",
   "nbconvert_exporter": "python",
   "pygments_lexer": "ipython3",
   "version": "3.10.11"
  }
 },
 "nbformat": 4,
 "nbformat_minor": 5
}
