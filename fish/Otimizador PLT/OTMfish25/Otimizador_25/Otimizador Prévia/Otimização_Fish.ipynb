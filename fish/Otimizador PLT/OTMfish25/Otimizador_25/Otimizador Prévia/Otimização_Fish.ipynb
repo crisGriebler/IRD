{
 "cells": [
  {
   "cell_type": "markdown",
   "metadata": {},
   "source": [
    "## CÓDIGO DE OTIMIZAÇÃO PARA O PROJETO FISH\n",
    "O código tem como objetivo definir quais são os lotes à serem vendidos na semana de maneira que o lucro seja o maior possível.\n",
    "\n",
    "### Função objetivo\n",
    "A função objetivo atual é definida como **lucro = receita - custos**, onde:<br>\n",
    "- **Receita**: Calculada como o produto do **preço do dia** pela **biomassa total** do lote, variando conforme o dia da semana determinado para a venda.<br>\n",
    "- **Custos**: São a soma dos **custos totais** do lote e do **custo diário acumulado**, que aumenta proporcionalmente ao número de dias em que o lote é mantido antes de ser vendido.\n",
    "\n",
    "### Dados utilizados\n",
    "Os dados utilizados no projeto estão nos arquivos **`dados_lote-fish`** e **`param_otm`**. O primeiro contém informações dos lotes, como identificação, custos, biomassa e outros atributos importantes. Já o segundo armazena parâmetros de otimização, como limite máximo de vendas, preços por dia da semana e requisitos necessários para validar uma venda. Esses arquivos fornecem os insumos para o processo de otimização.\n",
    "\n",
    "### Regras / Restrições\n",
    "As regras atuais definidas para a venda dos lotes são:\n",
    "- Um lote pode ser vendido apenas uma vez.\n",
    "- Um lote não pode ter a data de venda anterior à data de movimentação\n",
    "- O número máximo de lotes que podem ser vendidos num mesmo dia.\n",
    "- O número mínimo de lotes que podem ser vendidos num mesmo dia.\n",
    "- O mínimo de dias que um lote deve ter para venda\n",
    "- O número máximo de dias que um lote pode ter sem estar vendido\n",
    "- O lote deve ter um peso médio maior que o mínimo exigido.\n",
    "- O lote deve ter uma conversão menor do que o limite estabelecido.\n",
    "- Condições para meses de alta no preço do kg do peixe.\n",
    "\n",
    "### Saída / Retorno\n",
    "\n",
    "Quando executado, o código gera um arquivo **CSV** nomeado **`output.csv`**. Este arquivo contém os lotes selecionados para venda na semana, junto com informações detalhadas, como:  \n",
    "- **Identificação do lote**  \n",
    "- **Data da venda** (dia da semana escolhido)  \n",
    "- **Custos totais**\n",
    "- **Biomassa total do lote**  \n",
    "- **Lucro gerado pela venda**  \n",
    "- Outros **atributos relevantes para análise e tomada de decisão**  \n",
    "\n",
    "Esse arquivo pode ser utilizado para análise operacional e otimização contínua."
   ]
  },
  {
   "cell_type": "markdown",
   "metadata": {},
   "source": [
    "### Importação de bibliotecas\n",
    "Realiza a importação das bibliotecas. A biblioteca pandas é utilizada para manipulação de dados, leitura dos dados em CSV e geração de arquivo CSV com os resultados da otimização. São utilizados módulos da biblioteca ortools para os cálculos de otimização linear."
   ]
  },
  {
   "cell_type": "code",
   "execution_count": 339,
   "metadata": {},
   "outputs": [],
   "source": [
    "#Instalação do pacote de otimização, principalmente para google colab\n",
    "#!pip install ortools"
   ]
  },
  {
   "cell_type": "code",
   "execution_count": 340,
   "metadata": {},
   "outputs": [],
   "source": [
    "import pandas as pd\n",
    "from datetime import datetime, timedelta\n",
    "#Pacotes de otimização\n",
    "from ortools.linear_solver import pywraplp\n",
    "from ortools.linear_solver.pywraplp import Variable\n",
    "#Pacote para data handling da otimização\n",
    "from typing import Dict, Set, Tuple, Union, List, Any\n",
    "from collections import defaultdict\n",
    "#Biblioteca para formatação de moeda\n",
    "from babel.numbers import format_currency\n",
    "#Biblioteca para geração de valores aleatórios\n",
    "import random  \n",
    "#Teste de interface\n",
    "from ipywidgets import widgets, interact"
   ]
  },
  {
   "cell_type": "markdown",
   "metadata": {},
   "source": [
    "### Declaração de variáveis\n",
    "Declaração e tipagem das variáveis que serão utilizadas no projeto."
   ]
  },
  {
   "cell_type": "code",
   "execution_count": 341,
   "metadata": {},
   "outputs": [],
   "source": [
    "#Criação de um Dictonary, que tem chave o n° do Lote e como valor outro Dictionary\n",
    "lotes_info = {}\n",
    "lotes_param = {}\n",
    "venda_lote = {}\n",
    "venda_lote_dia = {}\n",
    "dias = range(7)\n",
    "meses_alta = []\n",
    "objective: str = \"lucro\"\n",
    "solver = None\n",
    "solverParams = None"
   ]
  },
  {
   "cell_type": "markdown",
   "metadata": {},
   "source": [
    "### Configuração de solver\n",
    "Solver ou resolvedor que é criado para encontrar a solução de problemas matemáticos complexos. Nessa configuração ele possui uma tolerância padrão do tipo float e valor de 0,001 e um tempo limite de execução de 60.000ms (60s)."
   ]
  },
  {
   "cell_type": "code",
   "execution_count": 342,
   "metadata": {},
   "outputs": [],
   "source": [
    "def config_solver(gap_limit: float = 1e-3, time_limit: int = 60000 ):    \n",
    "        global solver, solverParams    \n",
    "\n",
    "        solver = pywraplp.Solver('hello_program', pywraplp.Solver.CBC_MIXED_INTEGER_PROGRAMMING)\n",
    "        solver.EnableOutput()\n",
    "        solver.SetTimeLimit(time_limit)\n",
    "        solverParams = pywraplp.MPSolverParameters()\n",
    "        solverParams.SetDoubleParam(solverParams.RELATIVE_MIP_GAP, gap_limit)\n",
    "\n",
    "        return solver, solverParams"
   ]
  },
  {
   "cell_type": "markdown",
   "metadata": {},
   "source": [
    "### Leitura de arquivos\n",
    "É realizada a leitura dos arquivos CSV de dados e parâmetros e suas informações são convertidas para um DataFrame."
   ]
  },
  {
   "cell_type": "code",
   "execution_count": 343,
   "metadata": {},
   "outputs": [],
   "source": [
    "dados_lotes = pd.read_csv('dados_lote_fish.csv', delimiter=';')\n",
    "param_otm = pd.read_csv('param_otm.csv', delimiter=';')"
   ]
  },
  {
   "cell_type": "markdown",
   "metadata": {},
   "source": [
    "### Armazenamento de informações\n",
    "Essa função percorre todas as linhas do DataFrame \"todos_abatedouros\" e armazena o conteúdo de cada linha nas suas respectivas variáveis."
   ]
  },
  {
   "cell_type": "code",
   "execution_count": 344,
   "metadata": {},
   "outputs": [],
   "source": [
    "def get_values():\n",
    "    global lotes_info, dias\n",
    "\n",
    "    for _, row in dados_lotes.iterrows():\n",
    "        lote = str(row.id_lote)\n",
    "\n",
    "        #Criação do Dictionary interno que contém as informações do lote\n",
    "        if lote not in lotes_info:\n",
    "            lotes_info[lote] = {}\n",
    "\n",
    "        #Grava data de movimentação\n",
    "        lotes_info[lote][\"data_movimentacao\"] = row.data_movimentacao\n",
    "        #Grava o dia da semana de movimentação\n",
    "        data_movimentacao = datetime.strptime(lotes_info[lote][\"data_movimentacao\"], \"%Y-%m-%d %H:%M:%S\")  \n",
    "        lotes_info[lote][\"dia_semana_movimentacao\"] = data_movimentacao.weekday()\n",
    "        #Gravação de outras informações do lote\n",
    "        lotes_info[lote][\"tanque_origem\"] = row.tanque_origem\n",
    "        lotes_info[lote][\"especie\"] = row.especie\n",
    "        lotes_info[lote][\"n_dias\"] = row.n_dias\n",
    "        lotes_info[lote][\"peso\"] = row.peso\n",
    "        lotes_info[lote][\"dif_peso\"] = row.dif_peso\n",
    "        lotes_info[lote][\"conversao\"] = row.conversao\n",
    "        lotes_info[lote][\"sobrevivencia\"] = row.sobrevivencia\n",
    "        lotes_info[lote][\"biomassa\"] = row.biomassa\n",
    "        lotes_info[lote][\"biomassa_esperada_total\"] = row.biomassa_esperada_total\n",
    "        lotes_info[lote][\"custos_totais\"] = row.custos_totais\n",
    "        #Teste custo diário considerando custos totais e n° dias\n",
    "        lotes_info[lote][\"custo_diario\"] = (row.custos_totais / row.n_dias)\n",
    "        #Variável utilizada para avisos e observações aasdsakj sa\n",
    "        lotes_info[lote][\"OBS\"] = \"-\""
   ]
  },
  {
   "cell_type": "code",
   "execution_count": 345,
   "metadata": {},
   "outputs": [
    {
     "data": {
      "text/plain": [
       "'\\nglobal lotes_info\\n\\nget_values()\\n\\nimport json\\nfor lote in lotes_info:\\n    #print(f\"Lote: {lote} {lotes_info[lote]}\")\\n    print(json.dumps(lotes_info, indent=4))    \\n'"
      ]
     },
     "execution_count": 345,
     "metadata": {},
     "output_type": "execute_result"
    }
   ],
   "source": [
    "#Exibição dos lotes para teste\n",
    "\"\"\"\n",
    "global lotes_info\n",
    "\n",
    "get_values()\n",
    "\n",
    "import json\n",
    "for lote in lotes_info:\n",
    "    #print(f\"Lote: {lote} {lotes_info[lote]}\")\n",
    "    print(json.dumps(lotes_info, indent=4))    \n",
    "\"\"\""
   ]
  },
  {
   "cell_type": "markdown",
   "metadata": {},
   "source": [
    "### Parâmetros de cálculo\n",
    "Nessa função são declarados os parâmetros para o calculo de otimização linear."
   ]
  },
  {
   "cell_type": "code",
   "execution_count": 346,
   "metadata": {},
   "outputs": [],
   "source": [
    "def get_params():\n",
    "    global lotes_param, dias, meses_alta\n",
    "\n",
    "    #Percorre todas as linhas do arquivo\n",
    "    for _,row in param_otm.iterrows():\n",
    "        dia = row.dia_semana\n",
    "        #Criação do Dictionary interno que contém as informações para o dia\n",
    "        if dia not in lotes_param:\n",
    "            lotes_param[dia] = {}\n",
    "        #Gravação das informções\n",
    "        lotes_param[dia][\"preco_dia\"] = row.preco_dia\n",
    "        lotes_param[dia][\"maximo_venda_dia\"] = row.maximo_venda_dia        \n",
    "        lotes_param[dia][\"minimo_venda_dia\"] = row.minimo_venda_dia\n",
    "        lotes_param[dia][\"minimo_dias\"] = row.minimo_dias\n",
    "        lotes_param[dia][\"maximo_dias\"] = row.maximo_dias   \n",
    "        lotes_param[dia][\"peso_minimo\"] = row.peso_minimo  \n",
    "        lotes_param[dia][\"peso_maximo\"] = row.peso_maximo  \n",
    "        lotes_param[dia][\"variacao_peso\"] = row.variacao_peso  \n",
    "        lotes_param[dia][\"taxa_max_conversao\"] = row.taxa_max_conversao\n",
    "        lotes_param[dia][\"mortalidade_max\"] = row.mortalidade_max\n",
    "        lotes_param[dia][\"biomassa_total\"] = row.biomassa_total   \n",
    "        lotes_param[dia][\"mes_alta_preco\"] = row.mes_alta_preco \n",
    "    #Definição dos meses de alta no preço, os meses são definidos no CSV e portanto padrão para todos os lotes\n",
    "    meses = [mes.strip() for mes in lotes_param[0][\"mes_alta_preco\"].split(\",\")]\n",
    "    for mes in meses:\n",
    "        if mes.isdigit():\n",
    "            meses_alta.append(int(mes))"
   ]
  },
  {
   "cell_type": "markdown",
   "metadata": {},
   "source": [
    "### Variáveis de otimização\n",
    "A função configura variáveis para utilização no processo de otimização linear."
   ]
  },
  {
   "cell_type": "code",
   "execution_count": 347,
   "metadata": {},
   "outputs": [],
   "source": [
    "def set_variables_optimizer():\n",
    "    global solver, lotes_info, venda_lote, venda_lote_dia, dias\n",
    "\n",
    "    for lote in lotes_info:\n",
    "        #Determina se o lote será ou não vendido\n",
    "        venda_lote[lote] = solver.BoolVar(f'venda_lote_{lote}')\n",
    "        for dia in dias:\n",
    "            #Determina se o lote será ou não vendido no dia selecionado\n",
    "            venda_lote_dia[lote, dia] = solver.BoolVar(f'venda_lote_{lote}_dia{dia}')"
   ]
  },
  {
   "cell_type": "markdown",
   "metadata": {},
   "source": [
    "### Objetivo\n",
    "Definição do objetivo da maximização do lucro."
   ]
  },
  {
   "cell_type": "code",
   "execution_count": 348,
   "metadata": {},
   "outputs": [],
   "source": [
    "def get_objective_value():\n",
    "    global venda_lote_dia, lotes_info, lotes_param, solver, dias, objective\n",
    "\n",
    "    objective = solver.Objective()\n",
    "\n",
    "    for lote in lotes_info:        \n",
    "        for dia in dias:\n",
    "            #Variáveis da função objetivo       \n",
    "            receita = lotes_param[dia][\"preco_dia\"]  * lotes_info[lote][\"biomassa\"]\n",
    "            custo = lotes_info[lote][\"custos_totais\"] + (lotes_info[lote][\"custo_diario\"] * dia)\n",
    "            #Função objetivo\n",
    "            lucro = receita - custo         \n",
    "            objective.SetCoefficient(venda_lote_dia[lote, dia], lucro)            \n",
    "    objective.SetMaximization()"
   ]
  },
  {
   "cell_type": "markdown",
   "metadata": {},
   "source": [
    "### Regras da otimização\n",
    "A função define regras da otimização linear para garantir o melhor momento de venda do lote."
   ]
  },
  {
   "cell_type": "code",
   "execution_count": 349,
   "metadata": {},
   "outputs": [],
   "source": [
    "def optimization_rules():\n",
    "    global solver, lotes_info, lotes_param, venda_lote, venda_lote_dia, dias, meses_alta, mensagens_lote\n",
    "    \n",
    "    #Limites definidos por lotes\n",
    "    for lote in lotes_info:\n",
    "        #Garante que um lote seja vendido uma única vez\n",
    "        solver.Add(sum(venda_lote_dia[lote, dia] for dia in dias) == venda_lote[lote])\n",
    "        #Garante que um lote não tenha uma data de venda anterior à data de movimentação\n",
    "        dia_minimo = lotes_info[lote][\"dia_semana_movimentacao\"]         \n",
    "        solver.Add(sum(venda_lote_dia[lote, dia] for dia in range(dia_minimo - 1)) == 0)         \n",
    "         \n",
    "        for dia in dias:           \n",
    "            #O lote não pode ser vendido antes do número mínimo de dias\n",
    "            n_dias_atual = lotes_info[lote][\"n_dias\"] + dia \n",
    "            if(n_dias_atual < lotes_param[dia][\"minimo_dias\"]):\n",
    "                solver.Add(venda_lote_dia[lote,dia] == 0)\n",
    "                \n",
    "            #O lote deve ser vendido na semana ao atingir ou ultrapassar o número máximo de dias\n",
    "            if(n_dias_atual >= lotes_param[dia][\"maximo_dias\"]):\n",
    "                solver.Add(sum(venda_lote_dia[lote, d] for d in dias) == 1)\n",
    "\n",
    "            #Definição mês de alta\n",
    "            mes_atual = datetime.now().month\n",
    "            peso_minimo = lotes_param[dia][\"peso_minimo\"]\n",
    "            if mes_atual in meses_alta:\n",
    "                peso_minimo = lotes_param[dia][\"peso_minimo\"] * 0.7                \n",
    "\n",
    "            #O lote deve atender o peso médio mínimo exigido\n",
    "            if(lotes_info[lote][\"peso\"] < peso_minimo):\n",
    "                solver.Add(venda_lote_dia[lote, dia] == 0)  \n",
    "\n",
    "            #Lotes com conversão alimentar acima do limite devem ser vendidos\n",
    "            if(lotes_info[lote][\"conversao\"] >= lotes_param[dia][\"taxa_max_conversao\"]):\n",
    "                solver.Add(sum(venda_lote_dia[lote, d] for d in dias) == 1)       \n",
    "\n",
    "            #Quantidade máxima de lotes vendidos no dia\n",
    "            solver.Add(sum(venda_lote_dia[lotes, dia] for lotes in lotes_info) <= lotes_param[dia][\"maximo_venda_dia\"])\n",
    "            #Quantidade mínima de lotes vendidos no dia\n",
    "            solver.Add(sum(venda_lote_dia[lotes, dia] for lotes in lotes_info) >= lotes_param[dia][\"minimo_venda_dia\"])\n",
    "            #Define um limite de biomassa por dia   \n",
    "            soma_biomassa = sum(venda_lote_dia[lotes,dia] * lotes_info[lotes][\"biomassa\"] for lotes in lotes_info)     \n",
    "            solver.Add(soma_biomassa <= lotes_param[dia][\"biomassa_total\"])\n",
    " \n",
    "        #Utiliza repetição separada por conta do uso do break para mensagem única para o lote\n",
    "        for dia in dias:\n",
    "            #Avisos / Obs output          \n",
    "            if(lotes_info[lote][\"dif_peso\"] >= lotes_param[dia][\"variacao_peso\"]):\n",
    "                lotes_info[lote][\"OBS\"] += \" Dif. de peso acima do esperado!\"\n",
    "                \n",
    "            if((100 - lotes_info[lote][\"sobrevivencia\"]) >= lotes_param[dia][\"mortalidade_max\"]):\n",
    "                lotes_info[lote][\"OBS\"] += \" Taxa de mortalidade acima do esperado!\" \n",
    "\n",
    "            if(lotes_info[lote][\"OBS\"] != \"-\"):\n",
    "                print(f'Lote: {lote} {lotes_info[lote][\"OBS\"]}')\n",
    "\n",
    "            break  \n",
    "\n",
    "    \"\"\"#Limites definidos por dia    \n",
    "    for dia in dias:\n",
    "        #Quantidade máxima de lotes vendidos no dia\n",
    "        solver.Add(sum(venda_lote_dia[lotes, dia] for lotes in lotes_info) <= lotes_param[dia][\"maximo_venda_dia\"])\n",
    "        #Quantidade mínima de lotes vendidos no dia\n",
    "        solver.Add(sum(venda_lote_dia[lotes, dia] for lotes in lotes_info) >= lotes_param[dia][\"minimo_venda_dia\"])\n",
    "        #Define um limite de biomassa por dia   \n",
    "        soma_biomassa = sum(venda_lote_dia[lotes,dia] * lotes_info[lotes][\"biomassa\"] for lotes in lotes_info)     \n",
    "        solver.Add(soma_biomassa <= lotes_param[dia][\"biomassa_total\"])\"\"\""
   ]
  },
  {
   "cell_type": "markdown",
   "metadata": {},
   "source": [
    "### Execução do solver\n",
    "A função realiza os cálculos de otimização linear"
   ]
  },
  {
   "cell_type": "code",
   "execution_count": 350,
   "metadata": {},
   "outputs": [],
   "source": [
    "def solver_resolver():\n",
    "    global solver, venda_lote, venda_lote_dia, solverParams, lotes_info, dias\n",
    "    infos = []\n",
    "    #Execução do solver\n",
    "    status = solver.Solve(solverParams)\n",
    "    sem = (\"Segunda\", \"Terça\", \"Quarta\", \"Quinta\", \"Sexta\", \"Sábado\", \"Domingo\")  \n",
    "    #Verificação de resultados ótimos ou viáveis\n",
    "    if status == pywraplp.Solver.OPTIMAL or status == pywraplp.Solver.FEASIBLE:\n",
    "        print(f'\\nFuncao objetivo ={solver.Objective().Value()}')\n",
    "        print(solver.WallTime())\n",
    "        print()\n",
    "        total_lucro = 0\n",
    "        for lote in lotes_info:\n",
    "            for dia in dias:\n",
    "                #Trabalha apenas com os lotes selecionados para venda\n",
    "                if venda_lote_dia[lote, dia].solution_value() == 1:\n",
    "                    #Manipulação de data para definição do dia da venda\n",
    "                    data_movimentacao = datetime.strptime(lotes_info[lote][\"data_movimentacao\"], \"%Y-%m-%d %H:%M:%S\")  \n",
    "                    dia_semana = lotes_info[lote][\"dia_semana_movimentacao\"]                               \n",
    "                    data_venda = data_movimentacao + timedelta(dia - dia_semana) \n",
    "                    #Exibição dos lotes selecionados\n",
    "                    print(f'Lote {lote} será vendido em {data_venda}, {sem[dia]}.')                \n",
    "                    lucro = round((lotes_param[dia][\"preco_dia\"] * lotes_info[lote]['biomassa']) - lotes_info[lote]['custos_totais'] - (lotes_info[lote][\"custo_diario\"] * dia),2)\n",
    "                    #Armazenamento de informações do lote selecionado\n",
    "                    infos.append([\n",
    "                        lote,\n",
    "                        data_venda,\n",
    "                        lotes_info[lote][\"tanque_origem\"],\n",
    "                        lotes_info[lote][\"n_dias\"],\n",
    "                        lotes_info[lote][\"especie\"],\n",
    "                        lotes_info[lote][\"custo_diario\"],\n",
    "                        lotes_info[lote][\"custos_totais\"] + (lotes_info[lote][\"custo_diario\"]*dia),\n",
    "                        lotes_info[lote][\"biomassa\"],\n",
    "                        lotes_info[lote][\"biomassa_esperada_total\"],\n",
    "                        lucro,\n",
    "                        lotes_info[lote][\"OBS\"]\n",
    "                    ])\n",
    "                    total_lucro += lucro        \n",
    "        print(f'Lucro bruto: {format_currency(total_lucro, \"BRL\", locale=\"pt_BR\")}')\n",
    "        print(f'Lucro líquido estimado: {format_currency((total_lucro * 0.6), \"BRL\", locale=\"pt_BR\")}')\n",
    "        return infos\n",
    "    else:\n",
    "        print('Nao resolveu o problema!')\n",
    "        return None"
   ]
  },
  {
   "cell_type": "code",
   "execution_count": 351,
   "metadata": {},
   "outputs": [
    {
     "data": {
      "text/plain": [
       "'def show_infos(lote):\\n    lote_info = df[df[\"Lote\"] == lote]\\n    display(lote_info.style.set_table_styles(\\n        [{\\'selector\\': \\'th\\', \\'props\\': [(\\'font-weight\\', \\'bold\\'), (\\'background-color\\', \\'#b352ff\\')]}]\\n    ))  '"
      ]
     },
     "execution_count": 351,
     "metadata": {},
     "output_type": "execute_result"
    }
   ],
   "source": [
    "\"\"\"def show_infos(lote):\n",
    "    lote_info = df[df[\"Lote\"] == lote]\n",
    "    display(lote_info.style.set_table_styles(\n",
    "        [{'selector': 'th', 'props': [('font-weight', 'bold'), ('background-color', '#b352ff')]}]\n",
    "    ))  \"\"\"  "
   ]
  },
  {
   "cell_type": "markdown",
   "metadata": {},
   "source": [
    "### DropDown\n",
    "Função destinada à configuração e exibição de um DropDown com os lotes selecionados para venda, contendo informações mais detalhadas."
   ]
  },
  {
   "cell_type": "code",
   "execution_count": 352,
   "metadata": {},
   "outputs": [],
   "source": [
    "def show_dropdown(df):\n",
    "    def show_infos(lote):\n",
    "        lote_info = df[df[\"ID LOTE\"] == lote]\n",
    "        display(lote_info.style.set_table_styles(\n",
    "            [{'selector': 'th', 'props': [('font-weight', 'bold'), ('background-color', '#003333'), ('color','white'), ('text-align','center'), ('font-size','12px')]},\n",
    "            {'selector': 'td', 'props': [('background-color', '#004c4c'), ('text-align','center'), ('color','white'), ('font-size','12px')]},\n",
    "            ]\n",
    "        ))   \n",
    "\n",
    "    # Criar dropdown com opções de lotes\n",
    "    dropdown = widgets.Dropdown(\n",
    "        options=df[\"ID LOTE\"].tolist(),\n",
    "        description='Selecione o Lote:',\n",
    "        style = {\"description_width\":\"120px\"},\n",
    "        layout = {\"width\":\"200px\"},          \n",
    "    )\n",
    "    \n",
    "    interact(show_infos, lote = dropdown) \n"
   ]
  },
  {
   "cell_type": "markdown",
   "metadata": {},
   "source": [
    "### Função: optmize\n",
    "Esta função funciona por meio da chamada de funções variáveis, parâmetros e regras de otimização, através do solver faz o cálculo de otimização e gera o output.csv por meio da utilização da biblioteca pandas."
   ]
  },
  {
   "cell_type": "code",
   "execution_count": 353,
   "metadata": {},
   "outputs": [],
   "source": [
    "def optimize():\n",
    "        #Chamada e execução das funções\n",
    "        config_solver()\n",
    "        get_values()        \n",
    "        get_params()                \n",
    "        set_variables_optimizer()\n",
    "        get_objective_value()\n",
    "        optimization_rules()        \n",
    "\n",
    "        #Chamada para execução do solver\n",
    "        if not isinstance(f := solver_resolver(), type(None)):\n",
    "            column_names = [\n",
    "                \"ID LOTE\",\"DATA VENDA\",\"TANQUE ORIGEM\", \"N DIAS\", \"ESPECIE\", \"CUSTO DIARIO\", \"CUSTOS TOTAIS\", \"BIOMASSA\", \"BIOMASSA ESPERADA TOTAL\", \"LUCRO\", \"OBS\"\n",
    "            ]\n",
    "            #Gravação dos dados no DataFrame e geração do CSV\n",
    "            df = pd.DataFrame(f,columns=column_names) \n",
    "            df = df.sort_values(by=\"DATA VENDA\")\n",
    "            df.to_csv(\"output.csv\", sep=\";\", decimal=\",\", columns=column_names, index=False)  \n",
    "            show_dropdown(df)           "
   ]
  },
  {
   "cell_type": "markdown",
   "metadata": {},
   "source": [
    "### Execução do programa\n",
    "Chamada da função Optimize, que realiza o processo de otimização e finzaliza gerando o arquivo CSV com os resultados."
   ]
  },
  {
   "cell_type": "code",
   "execution_count": 354,
   "metadata": {},
   "outputs": [
    {
     "name": "stdout",
     "output_type": "stream",
     "text": [
      "Lote: 5709 - Dif. de peso acima do esperado!\n",
      "Lote: 6173 - Dif. de peso acima do esperado!\n",
      "Lote: 5739 - Taxa de mortalidade acima do esperado!\n",
      "Lote: 6033 - Dif. de peso acima do esperado!\n",
      "Lote: 5792 - Taxa de mortalidade acima do esperado!\n",
      "Lote: 6030 - Dif. de peso acima do esperado!\n",
      "Lote: 5793 - Taxa de mortalidade acima do esperado!\n",
      "Lote: 6185 - Dif. de peso acima do esperado! Taxa de mortalidade acima do esperado!\n",
      "Lote: 6018 - Dif. de peso acima do esperado!\n",
      "\n",
      "Funcao objetivo =205299.35782387818\n",
      "971\n",
      "\n",
      "Lote 5709 será vendido em 2022-01-06 00:00:00, Quinta.\n",
      "Lote 6173 será vendido em 2022-01-03 00:00:00, Segunda.\n",
      "Lote 6036 será vendido em 2022-01-03 00:00:00, Segunda.\n",
      "Lote 5948 será vendido em 2022-01-03 00:00:00, Segunda.\n",
      "Lote 5821 será vendido em 2022-01-05 00:00:00, Quarta.\n",
      "Lote 5739 será vendido em 2022-01-06 00:00:00, Quinta.\n",
      "Lote 6033 será vendido em 2022-01-04 00:00:00, Terça.\n",
      "Lote 6035 será vendido em 2022-01-04 00:00:00, Terça.\n",
      "Lote 6024 será vendido em 2022-01-06 00:00:00, Quinta.\n",
      "Lote 6008 será vendido em 2022-01-05 00:00:00, Quarta.\n",
      "Lote 5792 será vendido em 2022-01-07 00:00:00, Sexta.\n",
      "Lote 6236 será vendido em 2022-01-06 00:00:00, Quinta.\n",
      "Lote 6037 será vendido em 2022-01-04 00:00:00, Terça.\n",
      "Lote 6030 será vendido em 2022-01-05 00:00:00, Quarta.\n",
      "Lote 5793 será vendido em 2022-01-06 00:00:00, Quinta.\n",
      "Lote 6206 será vendido em 2022-01-10 00:00:00, Segunda.\n",
      "Lote 6185 será vendido em 2022-01-11 00:00:00, Terça.\n",
      "Lote 6018 será vendido em 2022-01-14 00:00:00, Sexta.\n",
      "Lucro bruto: R$ 205.299,35\n",
      "Lucro líquido estimado: R$ 123.179,61\n"
     ]
    },
    {
     "data": {
      "application/vnd.jupyter.widget-view+json": {
       "model_id": "a630d503f5fe4ab68102eb4b59266ebf",
       "version_major": 2,
       "version_minor": 0
      },
      "text/plain": [
       "interactive(children=(Dropdown(description='Selecione o Lote:', layout=Layout(width='200px'), options=('6173',…"
      ]
     },
     "metadata": {},
     "output_type": "display_data"
    }
   ],
   "source": [
    "optimize()"
   ]
  },
  {
   "cell_type": "code",
   "execution_count": 355,
   "metadata": {},
   "outputs": [
    {
     "name": "stdout",
     "output_type": "stream",
     "text": [
      "⚠️ ALERTAS:\n",
      "  - Lote 5709: Peso abaixo do esperado (850 kg).\n"
     ]
    }
   ],
   "source": [
    "#RASCUNHOS E TESTES\n",
    "\n",
    "# Definição do intervalo aceitável para dif_peso\n",
    "limite_min = 900\n",
    "limite_max = 1100\n",
    "\n",
    "# Exemplo de dados para um lote\n",
    "lote_id = 5709\n",
    "dif_peso = 850  # Valor do peso do lote atual\n",
    "mensagens_lote = []  # Lista para armazenar mensagens de alerta\n",
    "\n",
    "# Verifica se o peso está fora dos limites\n",
    "if dif_peso < limite_min:\n",
    "    mensagens_lote.append(f\"Lote {lote_id}: Peso abaixo do esperado ({dif_peso} kg).\")\n",
    "elif dif_peso > limite_max:\n",
    "    mensagens_lote.append(f\"Lote {lote_id}: Peso acima do esperado ({dif_peso} kg).\")\n",
    "\n",
    "# Outras verificações podem ser adicionadas aqui\n",
    "# Exemplo: Verificação de idade do peixe\n",
    "idade_dias = 150\n",
    "idade_max = 180\n",
    "if idade_dias > idade_max:\n",
    "    mensagens_lote.append(f\"Lote {lote_id}: Idade elevada ({idade_dias} dias), pode afetar conversão alimentar.\")\n",
    "\n",
    "# Imprime mensagens ao final do processo\n",
    "if mensagens_lote:\n",
    "    print(\"⚠️ ALERTAS:\")\n",
    "    for msg in mensagens_lote:\n",
    "        print(\"  -\", msg)\n",
    "else:\n",
    "    print(\"✅ Todos os parâmetros estão dentro do esperado.\")"
   ]
  }
 ],
 "metadata": {
  "kernelspec": {
   "display_name": "Python 3",
   "language": "python",
   "name": "python3"
  },
  "language_info": {
   "codemirror_mode": {
    "name": "ipython",
    "version": 3
   },
   "file_extension": ".py",
   "mimetype": "text/x-python",
   "name": "python",
   "nbconvert_exporter": "python",
   "pygments_lexer": "ipython3",
   "version": "3.11.6"
  }
 },
 "nbformat": 4,
 "nbformat_minor": 2
}
