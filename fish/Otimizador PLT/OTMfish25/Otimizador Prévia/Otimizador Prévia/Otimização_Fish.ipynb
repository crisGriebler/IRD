{
 "cells": [
  {
   "cell_type": "markdown",
   "metadata": {},
   "source": [
    "## CÓDIGO DE OTIMIZAÇÃO PARA O PROJETO FISH\n",
    "O código tem como objetivo definir quais os lotes à serem vendidos na semana de maneira que o lucro seja o maior possível.\n",
    "\n",
    "### Função objetivo\n",
    "A função objetivo atual é definida como **lucro = receita - custos**, onde:<br>\n",
    "- **Receita**: Calculada como o produto do **preço do dia** pela **biomassa total** do lote, variando conforme o dia da semana determinado para a venda.<br>\n",
    "- **Custos**: São a soma dos **custos totais** do lote e do **custo diário acumulado**, que aumenta proporcionalmente ao número de dias em que o lote é mantido antes de ser vendido.\n",
    "\n",
    "### Regras / Restrições\n",
    "As regras atuais definidas para a venda dos lotes são:\n",
    "- Um lote pode ser vendido apenas uma vez\n",
    "- O número máximo de lotes que podem ser vendidos num mesmo dia é **4**.\n",
    "- Nenhuma venda é realizada sábado e domingo.\n",
    "\n",
    "### Saída / Retorno\n",
    "\n",
    "Quando executado, o código gera um arquivo **CSV** nomeado **`output.csv`**. Este arquivo contém os lotes selecionados para venda na semana, junto com informações detalhadas, como:  \n",
    "- **Identificação do lote**  \n",
    "- **Data da venda** (dia da semana escolhido)  \n",
    "- **Custos totais**\n",
    "- **Biomassa total do lote**  \n",
    "- **Lucro gerado pela venda**  \n",
    "- Outros **atributos relevantes para análise e tomada de decisão**  \n",
    "\n",
    "Esse arquivo pode ser utilizado para análise operacional e otimização contínua."
   ]
  },
  {
   "cell_type": "markdown",
   "metadata": {},
   "source": [
    "### Importação de bibliotecas\n",
    "Realiza a importação das bibliotecas. A biblioteca pandas é utilizada para manipulação de dados, leitura dos dados em CSV e geração de arquivo CSV com os resultados da otimização. São utilizados módulos da biblioteca ortools para os cálculos de otimização linear."
   ]
  },
  {
   "cell_type": "code",
   "execution_count": 625,
   "metadata": {},
   "outputs": [],
   "source": [
    "#Instalação do pacote de otimização, principalmente para google colab\n",
    "#!pip install ortools"
   ]
  },
  {
   "cell_type": "code",
   "execution_count": 626,
   "metadata": {},
   "outputs": [],
   "source": [
    "import pandas as pd\n",
    "from datetime import datetime, timedelta\n",
    "#Pacotes de otimização\n",
    "from ortools.linear_solver import pywraplp\n",
    "from ortools.linear_solver.pywraplp import Variable\n",
    "#Pacote para data handling da otimização\n",
    "from typing import Dict, Set, Tuple, Union, List, Any\n",
    "from collections import defaultdict\n",
    "#Biblioteca para formatação de moeda\n",
    "from babel.numbers import format_currency\n",
    "#Biblioteca para geração de valores aleatórios\n",
    "import random  \n",
    "#Teste de interface\n",
    "from ipywidgets import widgets, interact"
   ]
  },
  {
   "cell_type": "markdown",
   "metadata": {},
   "source": [
    "### Declaração de variáveis\n",
    "Declaração e tipagem das variáveis que serão utilizadas no projeto."
   ]
  },
  {
   "cell_type": "code",
   "execution_count": 627,
   "metadata": {},
   "outputs": [],
   "source": [
    "#Criação de um Dictonary, que tem chave o n° do Lote e como valor outro Dictionary\n",
    "lotes_info = {}\n",
    "lotes_param = {}\n",
    "venda_lote = {}\n",
    "venda_lote_dia = {}\n",
    "dias = range(7)\n",
    "preco_dia = []\n",
    "objective: str = \"lucro\"\n",
    "solver = None\n",
    "solverParams = None"
   ]
  },
  {
   "cell_type": "markdown",
   "metadata": {},
   "source": [
    "### Configuração de solver\n",
    "Solver ou resolvedor que é criado para encontrar a solução de problemas matemáticos complexos. Nessa configuração ele possui uma tolerância padrão do tipo float e valor de 0,001 e um tempo limite de execução de 60.000ms (60s)."
   ]
  },
  {
   "cell_type": "code",
   "execution_count": 628,
   "metadata": {},
   "outputs": [],
   "source": [
    "def config_solver(gap_limit: float = 1e-3, time_limit: int = 60000 ):    \n",
    "        global solver, solverParams    \n",
    "\n",
    "        solver = pywraplp.Solver('hello_program', pywraplp.Solver.CBC_MIXED_INTEGER_PROGRAMMING)\n",
    "\n",
    "        solver.EnableOutput()\n",
    "        solver.SetTimeLimit(time_limit)\n",
    "\n",
    "        solverParams = pywraplp.MPSolverParameters()\n",
    "        solverParams.SetDoubleParam(solverParams.RELATIVE_MIP_GAP, gap_limit)\n",
    "\n",
    "        return solver, solverParams"
   ]
  },
  {
   "cell_type": "markdown",
   "metadata": {},
   "source": [
    "### Leitura de arquivos\n",
    "É realizada a leitura dos arquivos CSV de dados e parâmetros e suas informações são convertidas para um DataFrame."
   ]
  },
  {
   "cell_type": "code",
   "execution_count": 629,
   "metadata": {},
   "outputs": [],
   "source": [
    "dados_lotes = pd.read_csv('dados_lote_fish.csv', delimiter=';')\n",
    "param_otm = pd.read_csv('param_otm.csv', delimiter=';')"
   ]
  },
  {
   "cell_type": "markdown",
   "metadata": {},
   "source": [
    "### Armazenamento de informações\n",
    "Essa função percorre todas as linhas do DataFrame \"todos_abatedouros\" e armazena o conteúdo de cada linha nas suas respectivas variáveis."
   ]
  },
  {
   "cell_type": "code",
   "execution_count": 630,
   "metadata": {},
   "outputs": [],
   "source": [
    "def get_values():\n",
    "    global lotes_info, dias, preco_dia\n",
    "\n",
    "    for _, row in dados_lotes.iterrows():\n",
    "        lote = str(row.id_lote)\n",
    "\n",
    "        #Criação do Dictionary interno que contém as informações do lote\n",
    "        if lote not in lotes_info:\n",
    "            lotes_info[lote] = {}\n",
    "\n",
    "        #Grava data de movimentação\n",
    "        lotes_info[lote][\"data_movimentacao\"] = row.data_movimentacao\n",
    "        #Grava o dia da semana de movimentação\n",
    "        data_movimentacao = datetime.strptime(lotes_info[lote][\"data_movimentacao\"], \"%Y-%m-%d %H:%M:%S\")  \n",
    "        lotes_info[lote][\"dia_semana_movimentacao\"] = data_movimentacao.weekday()\n",
    "        #Gravação de outras informações do lote\n",
    "        lotes_info[lote][\"tanque_origem\"] = row.tanque_origem\n",
    "        lotes_info[lote][\"especie\"] = row.especie\n",
    "        lotes_info[lote][\"n_dias\"] = row.n_dias\n",
    "        lotes_info[lote][\"custos_totais\"] = row.custos_totais\n",
    "        lotes_info[lote][\"biomassa\"] = row.biomassa\n",
    "        lotes_info[lote][\"biomassa_esperada_total\"] = row.biomassa_esperada_total\n",
    "        #Teste custo diário considerando custos totais e n° dias\n",
    "        lotes_info[lote][\"custo_diario\"] = (row.custos_totais / row.n_dias)\n",
    "        \n",
    "    #Teste preço por dia\n",
    "    #preco_dia = [round(random.uniform(7,7.5), 2) for _ in dias]\n",
    "    preco_dia = [7.5, 7.39, 7.4, 7.2, 7.45, 7.6, 7.4]\n",
    "    print(\"Preço diario:\",preco_dia)"
   ]
  },
  {
   "cell_type": "code",
   "execution_count": 631,
   "metadata": {},
   "outputs": [
    {
     "data": {
      "text/plain": [
       "'\\nglobal lotes_info\\n\\nget_values()\\n\\nimport json\\nfor lote in lotes_info:\\n    #print(f\"Lote: {lote} {lotes_info[lote]}\")\\n    print(json.dumps(lotes_info, indent=4))    \\n'"
      ]
     },
     "execution_count": 631,
     "metadata": {},
     "output_type": "execute_result"
    }
   ],
   "source": [
    "#Exibição dos lotes para teste\n",
    "\"\"\"\n",
    "global lotes_info\n",
    "\n",
    "get_values()\n",
    "\n",
    "import json\n",
    "for lote in lotes_info:\n",
    "    #print(f\"Lote: {lote} {lotes_info[lote]}\")\n",
    "    print(json.dumps(lotes_info, indent=4))    \n",
    "\"\"\""
   ]
  },
  {
   "cell_type": "markdown",
   "metadata": {},
   "source": [
    "### Parâmetros de cálculo\n",
    "Nessa função são declarados os parâmetros para o calculo de otimização linear."
   ]
  },
  {
   "cell_type": "code",
   "execution_count": 632,
   "metadata": {},
   "outputs": [],
   "source": [
    "def get_params():\n",
    "    lotes_param = {}"
   ]
  },
  {
   "cell_type": "markdown",
   "metadata": {},
   "source": [
    "### Variáveis de otimização\n",
    "A função configura variáveis para utilização no processo de otimização linear."
   ]
  },
  {
   "cell_type": "code",
   "execution_count": 633,
   "metadata": {},
   "outputs": [],
   "source": [
    "def set_variables_optimizer():\n",
    "    global solver, lotes_info, venda_lote, venda_lote_dia, dias\n",
    "\n",
    "    for lote in lotes_info:\n",
    "        #Determina se o lote será ou não vendido\n",
    "        venda_lote[lote] = solver.BoolVar(f'venda_lote_{lote}')\n",
    "        for dia in dias:\n",
    "            #Determina se o lote será ou não vendido no dia selecionado\n",
    "            venda_lote_dia[lote, dia] = solver.BoolVar(f'venda_lote_{lote}_dia{dia}')"
   ]
  },
  {
   "cell_type": "markdown",
   "metadata": {},
   "source": [
    "### Objetivo\n",
    "Definição do objetivo da maximização do lucro."
   ]
  },
  {
   "cell_type": "code",
   "execution_count": 634,
   "metadata": {},
   "outputs": [],
   "source": [
    "def get_objective_value():\n",
    "    global venda_lote, lotes_info, preco_dia, solver, dias, objective\n",
    "\n",
    "    objective = solver.Objective()\n",
    "\n",
    "    for lote in lotes_info:        \n",
    "        for dia in dias:\n",
    "            #Variáveis da função objetivo              \n",
    "            receita = preco_dia[dia] * lotes_info[lote][\"biomassa\"]\n",
    "            custo = lotes_info[lote][\"custos_totais\"] + (lotes_info[lote][\"custo_diario\"] * dia)\n",
    "            #Função objetivo\n",
    "            lucro = receita - custo         \n",
    "            objective.SetCoefficient(venda_lote_dia[lote, dia], lucro)            \n",
    "    objective.SetMaximization()"
   ]
  },
  {
   "cell_type": "markdown",
   "metadata": {},
   "source": [
    "### Regras da otimização\n",
    "A função define regras da otimização linear para garantir o melhor momento de venda do lote."
   ]
  },
  {
   "cell_type": "code",
   "execution_count": 635,
   "metadata": {},
   "outputs": [],
   "source": [
    "def optimization_rules():\n",
    "    global solver, lotes_info, venda_lote, venda_lote_dia, dias\n",
    "\n",
    "    \n",
    "    for lote in lotes_info:\n",
    "        #Garante que um lote seja vendido uma única vez\n",
    "        solver.Add(sum(venda_lote_dia[lote, dia] for dia in dias) == venda_lote[lote])\n",
    "        #Garante que um lote não tenha uma data de venda anterior à data de movimentação\n",
    "        dia_minimo = lotes_info[lote][\"dia_semana_movimentacao\"]         \n",
    "        solver.Add(sum(venda_lote_dia[lote, dia] for dia in range(dia_minimo - 1)) == 0)\n",
    "        \n",
    "    for dia in dias:\n",
    "        #Máximo de 4 lotes por dia\n",
    "        solver.Add(sum(venda_lote_dia[lote, dia] for lote in lotes_info) <= 4)\n",
    "        #Nenhum lote é vendido sábado e domingo\n",
    "        solver.Add(sum(venda_lote_dia[lote, 6] for lote in lotes_info) == 0)\n",
    "        solver.Add(sum(venda_lote_dia[lote, 5] for lote in lotes_info) == 0)"
   ]
  },
  {
   "cell_type": "markdown",
   "metadata": {},
   "source": [
    "### Execução do solver\n",
    "A função realiza os cálculos de otimização linear"
   ]
  },
  {
   "cell_type": "code",
   "execution_count": 636,
   "metadata": {},
   "outputs": [],
   "source": [
    "def solver_resolver():\n",
    "    global solver, venda_lote, venda_lote_dia, solverParams, lotes_info, dias, preco_dia\n",
    "    infos = []\n",
    "    #Execução do solver\n",
    "    status = solver.Solve(solverParams)\n",
    "    sem = (\"Segunda\", \"Terça\", \"Quarta\", \"Quinta\", \"Sexta\", \"Sábado\", \"Domingo\")\n",
    "    #Verificação de resultados ótimos ou viáveis\n",
    "    if status == pywraplp.Solver.OPTIMAL or status == pywraplp.Solver.FEASIBLE:\n",
    "        print(f'Funcao objetivo ={solver.Objective().Value()}')\n",
    "        print(solver.WallTime())\n",
    "        total_lucro = 0\n",
    "        for lote in lotes_info:\n",
    "            for dia in dias:\n",
    "                if venda_lote_dia[lote, dia].solution_value() == 1:\n",
    "                    #Manipulação de data para definição do dia da venda\n",
    "                    data_movimentacao = datetime.strptime(lotes_info[lote][\"data_movimentacao\"], \"%Y-%m-%d %H:%M:%S\")  \n",
    "                    dia_semana = lotes_info[lote][\"dia_semana_movimentacao\"]                               \n",
    "                    data_venda = data_movimentacao + timedelta(dia - dia_semana) \n",
    "                    #Exibição dos lotes selecionados\n",
    "                    print(f'Lote {lote} será vendido em {data_venda}, {sem[dia]}.')                \n",
    "                    lucro = round((preco_dia[dia] * lotes_info[lote]['biomassa']) - lotes_info[lote]['custos_totais'] - (lotes_info[lote][\"custo_diario\"] * dia),2)\n",
    "                    #Armazenamento de informações do lote selecionado\n",
    "                    infos.append([\n",
    "                        lote,\n",
    "                        data_venda,\n",
    "                        lotes_info[lote][\"tanque_origem\"],\n",
    "                        lotes_info[lote][\"n_dias\"],\n",
    "                        lotes_info[lote][\"especie\"],\n",
    "                        lotes_info[lote][\"custo_diario\"],\n",
    "                        lotes_info[lote][\"custos_totais\"] + (lotes_info[lote][\"custo_diario\"]*dia),\n",
    "                        lotes_info[lote][\"biomassa\"],\n",
    "                        lotes_info[lote][\"biomassa_esperada_total\"],\n",
    "                        lucro\n",
    "                    ])\n",
    "                    total_lucro += lucro        \n",
    "        print(f'Lucro total: {format_currency(total_lucro, \"BRL\", locale=\"pt_BR\")}')\n",
    "        return infos\n",
    "    else:\n",
    "        print('Nao resolveu o problema!')\n",
    "        return None"
   ]
  },
  {
   "cell_type": "code",
   "execution_count": 637,
   "metadata": {},
   "outputs": [
    {
     "data": {
      "text/plain": [
       "'def show_infos(lote):\\n    lote_info = df[df[\"Lote\"] == lote]\\n    display(lote_info.style.set_table_styles(\\n        [{\\'selector\\': \\'th\\', \\'props\\': [(\\'font-weight\\', \\'bold\\'), (\\'background-color\\', \\'#b352ff\\')]}]\\n    ))  '"
      ]
     },
     "execution_count": 637,
     "metadata": {},
     "output_type": "execute_result"
    }
   ],
   "source": [
    "\"\"\"def show_infos(lote):\n",
    "    lote_info = df[df[\"Lote\"] == lote]\n",
    "    display(lote_info.style.set_table_styles(\n",
    "        [{'selector': 'th', 'props': [('font-weight', 'bold'), ('background-color', '#b352ff')]}]\n",
    "    ))  \"\"\"  "
   ]
  },
  {
   "cell_type": "markdown",
   "metadata": {},
   "source": [
    "### Função: optmize\n",
    "Esta função funciona por meio da chamada de funções variáveis, parâmetros e regras de otimização, através do solver faz o cálculo de otimização e gera o output.csv por meio da utilização da biblioteca pandas."
   ]
  },
  {
   "cell_type": "code",
   "execution_count": 638,
   "metadata": {},
   "outputs": [],
   "source": [
    "def optimize():\n",
    "\n",
    "        config_solver()\n",
    "\n",
    "        get_values()        \n",
    "        get_params()\n",
    "                \n",
    "        set_variables_optimizer()\n",
    "        get_objective_value()\n",
    "        optimization_rules()        \n",
    "\n",
    "        if not isinstance(f := solver_resolver(), type(None)):\n",
    "            column_names = [\n",
    "                \"ID LOTE\",\"DATA VENDA\",\"TANQUE ORIGEM\", \"N DIAS\", \"ESPECIE\", \"CUSTO DIARIO\", \"CUSTOS TOTAIS\", \"BIOMASSA\", \"BIOMASSA ESPERADA TOTAL\", \"LUCRO\"\n",
    "            ]\n",
    "            df = pd.DataFrame(f,columns=column_names) \n",
    "            df = df.sort_values(by=\"DATA VENDA\")\n",
    "            df.to_csv(\"output.csv\", sep=\";\", decimal=\",\", columns=column_names, index=False)  \n",
    "\n",
    "            def show_infos(lote):\n",
    "                lote_info = df[df[\"ID LOTE\"] == lote]\n",
    "                display(lote_info.style.set_table_styles(\n",
    "                    [{'selector': 'th', 'props': [('font-weight', 'bold'), ('background-color', '#003333'), ('color','white'), ('text-align','center'), ('font-size','12px')]},\n",
    "                    {'selector': 'td', 'props': [('background-color', '#004c4c'), ('text-align','center'), ('color','white'), ('font-size','12px')]},\n",
    "                    ]\n",
    "                ))   \n",
    "\n",
    "            # Criar dropdown com opções de lotes\n",
    "            dropdown = widgets.Dropdown(\n",
    "                options=df[\"ID LOTE\"].tolist(),\n",
    "                description='Selecione o Lote:',\n",
    "                style = {\"description_width\":\"120px\"},\n",
    "                layout = {\"width\":\"200px\"},          \n",
    "            )\n",
    "            \n",
    "            interact(show_infos, lote = dropdown) "
   ]
  },
  {
   "cell_type": "markdown",
   "metadata": {},
   "source": [
    "### Execução do programa\n",
    "Chamada da função Optimize, que realiza o processo de otimização e finzaliza gerando o arquivo CSV com os resultados."
   ]
  },
  {
   "cell_type": "code",
   "execution_count": 639,
   "metadata": {},
   "outputs": [
    {
     "name": "stdout",
     "output_type": "stream",
     "text": [
      "Preço diario: [7.5, 7.39, 7.4, 7.2, 7.45, 7.6, 7.4]\n",
      "Funcao objetivo =222827.73993053965\n",
      "14\n",
      "Lote 5709 será vendido em 2022-01-06 00:00:00, Quinta.\n",
      "Lote 6173 será vendido em 2022-01-03 00:00:00, Segunda.\n",
      "Lote 6035 será vendido em 2022-01-07 00:00:00, Sexta.\n",
      "Lote 5948 será vendido em 2022-01-07 00:00:00, Sexta.\n",
      "Lote 5821 será vendido em 2022-01-07 00:00:00, Sexta.\n",
      "Lote 5739 será vendido em 2022-01-07 00:00:00, Sexta.\n",
      "Lote 6033 será vendido em 2022-01-03 00:00:00, Segunda.\n",
      "Lote 6024 será vendido em 2022-01-05 00:00:00, Quarta.\n",
      "Lote 6008 será vendido em 2022-01-05 00:00:00, Quarta.\n",
      "Lote 5792 será vendido em 2022-01-06 00:00:00, Quinta.\n",
      "Lote 6306 será vendido em 2022-01-04 00:00:00, Terça.\n",
      "Lote 6236 será vendido em 2022-01-04 00:00:00, Terça.\n",
      "Lote 6037 será vendido em 2022-01-05 00:00:00, Quarta.\n",
      "Lote 6030 será vendido em 2022-01-04 00:00:00, Terça.\n",
      "Lote 6206 será vendido em 2022-01-10 00:00:00, Segunda.\n",
      "Lote 6185 será vendido em 2022-01-11 00:00:00, Terça.\n",
      "Lote 6018 será vendido em 2022-01-12 00:00:00, Quarta.\n",
      "Lote 6331 será vendido em 2022-01-10 00:00:00, Segunda.\n",
      "Lucro total: R$ 222.827,74\n"
     ]
    },
    {
     "data": {
      "application/vnd.jupyter.widget-view+json": {
       "model_id": "e10ed64425f3443198b17bc9026cb533",
       "version_major": 2,
       "version_minor": 0
      },
      "text/plain": [
       "interactive(children=(Dropdown(description='Selecione o Lote:', layout=Layout(width='200px'), options=('6173',…"
      ]
     },
     "metadata": {},
     "output_type": "display_data"
    }
   ],
   "source": [
    "optimize()"
   ]
  },
  {
   "cell_type": "code",
   "execution_count": 640,
   "metadata": {},
   "outputs": [
    {
     "data": {
      "application/vnd.jupyter.widget-view+json": {
       "model_id": "f6d93f6f0ab8484d9bf1410fd371337b",
       "version_major": 2,
       "version_minor": 0
      },
      "text/plain": [
       "interactive(children=(Dropdown(description='Lotes:', options=('Lote 1', 'Lote 2', 'Lote 3'), value='Lote 1'), …"
      ]
     },
     "metadata": {},
     "output_type": "display_data"
    },
    {
     "data": {
      "text/plain": [
       "<function __main__.exibir_informacoes(lote)>"
      ]
     },
     "execution_count": 640,
     "metadata": {},
     "output_type": "execute_result"
    }
   ],
   "source": [
    "#RASCUNHOS E TESTES\n",
    "\n",
    "# Dados fictícios do lote\n",
    "data = {\n",
    "    \"Lote\": [\"Lote 1\", \"Lote 2\", \"Lote 3\"],\n",
    "    \"Data da Venda\": [\"2025-02-03\", \"2025-01-29\", \"2025-02-01\"],\n",
    "    \"Lucro\": [1500.75, 2000.25, 1800.50],\n",
    "    \"Biomassa\": [1200, 1400, 1300],\n",
    "    \"Custos Totais\": [500, 600, 550]\n",
    "}\n",
    "df = pd.DataFrame(data)\n",
    "\n",
    "# Função para exibir informações do lote\n",
    "def exibir_informacoes(lote):\n",
    "    lote_info = df[df[\"Lote\"] == lote]\n",
    "    display(lote_info.style.set_table_styles(\n",
    "        [{'selector': 'th', 'props': [('font-weight', 'bold'), ('background-color', '#b352ff')]}]\n",
    "    ))\n",
    "\n",
    "# Criar dropdown com opções de lotes\n",
    "dropdown = widgets.Dropdown(\n",
    "    options=df[\"Lote\"].tolist(),\n",
    "    description='Lotes:',\n",
    "    value=\"Lote 1\"\n",
    ")\n",
    "\n",
    "# Interatividade\n",
    "interact(exibir_informacoes, lote=dropdown)"
   ]
  }
 ],
 "metadata": {
  "kernelspec": {
   "display_name": "Python 3",
   "language": "python",
   "name": "python3"
  },
  "language_info": {
   "codemirror_mode": {
    "name": "ipython",
    "version": 3
   },
   "file_extension": ".py",
   "mimetype": "text/x-python",
   "name": "python",
   "nbconvert_exporter": "python",
   "pygments_lexer": "ipython3",
   "version": "3.11.6"
  }
 },
 "nbformat": 4,
 "nbformat_minor": 2
}
