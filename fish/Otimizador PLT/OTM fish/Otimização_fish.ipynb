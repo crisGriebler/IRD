{
 "cells": [
  {
   "cell_type": "code",
   "execution_count": 39,
   "metadata": {
    "colab": {
     "base_uri": "https://localhost:8080/"
    },
    "executionInfo": {
     "elapsed": 16767,
     "status": "ok",
     "timestamp": 1730292701908,
     "user": {
      "displayName": "Lidiane Albrecht",
      "userId": "09289640312993481767"
     },
     "user_tz": 180
    },
    "id": "IT1WOPE1DBfO",
    "outputId": "799f1f92-167c-4812-e7f0-1ca3e3686ecc"
   },
   "outputs": [],
   "source": [
    "#Instalação do pacote de otimização, principalmente para google colab\n",
    "#!pip install ortools"
   ]
  },
  {
   "cell_type": "code",
   "execution_count": 40,
   "metadata": {
    "executionInfo": {
     "elapsed": 563,
     "status": "ok",
     "timestamp": 1730292936205,
     "user": {
      "displayName": "Lidiane Albrecht",
      "userId": "09289640312993481767"
     },
     "user_tz": 180
    },
    "id": "8aTihUjQsibT"
   },
   "outputs": [],
   "source": [
    "import pandas as pd\n",
    "from datetime import datetime, timedelta\n",
    "#Pacote de otimização\n",
    "from ortools.linear_solver import pywraplp\n",
    "from ortools.linear_solver.pywraplp import Variable\n",
    "#Pacote para data handling da otimização\n",
    "from typing import Dict, Set, Tuple, Union, List, Any\n",
    "from collections import defaultdict\n"
   ]
  },
  {
   "cell_type": "code",
   "execution_count": 41,
   "metadata": {
    "colab": {
     "base_uri": "https://localhost:8080/"
    },
    "executionInfo": {
     "elapsed": 24302,
     "status": "ok",
     "timestamp": 1730292961316,
     "user": {
      "displayName": "Lidiane Albrecht",
      "userId": "09289640312993481767"
     },
     "user_tz": 180
    },
    "id": "EDWB76U9tCLy",
    "outputId": "d1ecd634-35d2-4f8f-c966-4068c0706990"
   },
   "outputs": [],
   "source": [
    "#from google.colab import drive\n",
    "#drive.mount('/content/drive', force_remount=True)"
   ]
  },
  {
   "cell_type": "code",
   "execution_count": 42,
   "metadata": {
    "executionInfo": {
     "elapsed": 297,
     "status": "ok",
     "timestamp": 1730292976650,
     "user": {
      "displayName": "Lidiane Albrecht",
      "userId": "09289640312993481767"
     },
     "user_tz": 180
    },
    "id": "5ws3Daw_DlAx"
   },
   "outputs": [],
   "source": [
    "\n",
    "idIntegrador = \"SSA\"\n",
    "venda: Dict[Tuple[str, str], Variable] = {}\n",
    "inputPersonalizacao = {\"nucleo\":0,\n",
    "         \"granjas_grandes\":['384','301','382'],#['802','291','332'],\n",
    "         \"dias_consec_nucleo_geral\":3,\n",
    "         \"dias_consec_granja_nucleo\":{},#381:3\n",
    "         \"lotes_em_dias_fixos\":{}#{\"79018\":[\"2023-10-03\",\"ITA\"]}#\"76902\":[\"5/7/2023\",\"ITA\"],\"76903\":[\"8/7/2023\",\"ITA\"]\n",
    "         }\n",
    "# venda do lot, que esta na granja, no dia, do integrador (var principal)\n",
    "venda_lote: Dict[Tuple[str, Tuple[str, str], datetime.date, str], Variable] = {}\n",
    "# venda da granja, no dia, do integrador (var auxiliar)\n",
    "venda_granja: Dict[Tuple[str, datetime.date, str], Variable] = {}\n",
    "# venda do nucleo da granja, no dia\n",
    "venda_nucleo: Dict[Tuple[Tuple[str, str], datetime.date, str], Variable] = {}\n",
    "# quantidade de animais (para lote, granja, data e integrador)\n",
    "n_animais: Dict[Tuple[str, Tuple[str, str], datetime.date, str], int] = {}\n",
    "#qual a granja do lote\n",
    "lot_to_granja: Dict[str, str] = {}\n",
    "# qual o nucleo do lote\n",
    "lot_to_nucleo: Dict[str, str] = {}\n",
    "# idade do lote, com granja no dia t do integrador\n",
    "aviario: Dict[Tuple[str, Tuple[str, str], datetime.date, str], str] = {}\n",
    "# idade do lote, com granja no dia t do integrador\n",
    "idade: Dict[Tuple[str, Tuple[str, str], datetime.date, str], int] = {}\n",
    "# sexo do lote, com granja no dia t do integrador\n",
    "nroLote: Dict[Tuple[str, Tuple[str, str], datetime.date, str], str] = {}\n",
    "# sexo do lote, com granja no dia t do integrador\n",
    "sexo: Dict[Tuple[str, Tuple[str, str], datetime.date, str], str] = {}\n",
    "# km do lote, com granja no dia t do integrador\n",
    "km: Dict[Tuple[str, Tuple[str, str], datetime.date, str], float] = {}\n",
    "# consumo do lote, com granja no dia t do integrador\n",
    "consumo: Dict[Tuple[str, Tuple[str, str], datetime.date, str], float] = {}\n",
    "# peso do lote, com granja no dia t do integrador\n",
    "peso: Dict[Tuple[str, Tuple[str, str], datetime.date, str], float] = {}\n",
    "# uma lista de tempo para cada lote\n",
    "tempos_by_lote: Dict[str, List[datetime.date]] = defaultdict(lambda: [])\n",
    "# todos os lotes que existem\n",
    "todos_lotes: Set[str] = set()\n",
    "# todas as granjas que existem\n",
    "granjas: Set[str] = set()\n",
    "nucleos_by_granja: Dict[str, Set[str]] = defaultdict(lambda: set())\n",
    "lotes_by_granjas: Dict[str, Set[str]] = defaultdict(lambda: set())\n",
    "# todos os integradores que existem\n",
    "#grupos de lotes machos e femeas\n",
    "lotes_macho = set()\n",
    "lotes_femea = set()\n",
    "# lucro e custo para o lot, no dia, do integrador\n",
    "novo_lucro: Dict[Tuple[str, Tuple[str, str], datetime.date, str], float] = {}\n",
    "novo_custo: Dict[Tuple[str, Tuple[str, str], datetime.date, str], float] = {}\n",
    "\n",
    "todos_tempos: Set[datetime.date] = set()\n",
    "dias_parado: Dict[str,List[datetime.date]] = defaultdict(lambda: [])\n",
    "dias_de_abate: Dict[str,List[datetime.date]] = defaultdict(lambda: [])\n",
    "\n",
    "todos_abatedouros = list()\n",
    "dados_abatedouro: Dict[Tuple[Any,Any], Any] = {}\n",
    "global pesos_df\n",
    "objective: str = \"lucro\"\n",
    "solver = \"SCIP\"\n",
    "solverParams = None"
   ]
  },
  {
   "cell_type": "code",
   "execution_count": 43,
   "metadata": {
    "executionInfo": {
     "elapsed": 317,
     "status": "ok",
     "timestamp": 1730293002299,
     "user": {
      "displayName": "Lidiane Albrecht",
      "userId": "09289640312993481767"
     },
     "user_tz": 180
    },
    "id": "9JQSWLUcE6GO"
   },
   "outputs": [],
   "source": [
    "def config_solver(gap_limit: float = 1e-3, time_limit: int = 60000 ):\n",
    "        global solver, solverParams\n",
    "        #Solver SCIP\n",
    "        # self.solver = pywraplp.Solver.CreateSolver(solver)\n",
    "        #Solver CBC MIP\n",
    "        solver = pywraplp.Solver('hello_program', pywraplp.Solver.CBC_MIXED_INTEGER_PROGRAMMING)\n",
    "\n",
    "        solver.EnableOutput()\n",
    "        solver.SetTimeLimit(time_limit)\n",
    "\n",
    "\n",
    "        solverParams = pywraplp.MPSolverParameters()\n",
    "        solverParams.SetDoubleParam(solverParams.RELATIVE_MIP_GAP, gap_limit)\n"
   ]
  },
  {
   "cell_type": "code",
   "execution_count": 44,
   "metadata": {
    "executionInfo": {
     "elapsed": 1097,
     "status": "ok",
     "timestamp": 1730293005661,
     "user": {
      "displayName": "Lidiane Albrecht",
      "userId": "09289640312993481767"
     },
     "user_tz": 180
    },
    "id": "z-tGWSNBo-dJ"
   },
   "outputs": [],
   "source": [
    "## Realizando a leitura dos arquivos( no drive) e colocando no formato dataframe via google colab \n",
    "#list_pesos_df = pd.read_csv('/content/drive/MyDrive/Otimizador PLT/dados_lote_otim.csv', delimiter = ';')\n",
    "#param_iniciais = pd.read_csv('/content/drive/MyDrive/Otimizador PLT/param_integradores.csv', delimiter = ',')"
   ]
  },
  {
   "cell_type": "code",
   "execution_count": 45,
   "metadata": {},
   "outputs": [],
   "source": [
    "## Realizando a leitura dos arquivos e colocando no formato dataframe\n",
    "\n",
    "list_pesos_df = pd.read_csv('dados_lote_fish.csv', delimiter=';')\n",
    "param_iniciais = pd.read_csv('param_otm.csv', delimiter=',')"
   ]
  },
  {
   "cell_type": "code",
   "execution_count": 46,
   "metadata": {
    "executionInfo": {
     "elapsed": 279,
     "status": "ok",
     "timestamp": 1730293007171,
     "user": {
      "displayName": "Lidiane Albrecht",
      "userId": "09289640312993481767"
     },
     "user_tz": 180
    },
    "id": "vmLyoroSwiqy"
   },
   "outputs": [],
   "source": [
    "def get_values(pesos_df):\n",
    "        global param_iniciais, todos_tempos, lotes_by_granjas, nroLote, aviario, novo_lucro, novo_custo, n_animais, idade, km, sexo, consumo, peso, granjas, todos_lotes, tempos_by_lote, todos_abatedouros, lot_to_nucleo\n",
    "        # print(pesos_df)\n",
    "\n",
    "        todos_abatedouros = list(set(param_iniciais[\"idIntegrador\"]))\n",
    "        for integrador in todos_abatedouros:\n",
    "            for _, row in pesos_df.iterrows():\n",
    "                # print(row)\n",
    "                idGalpao = str(row.idGalpao)\n",
    "                datetime_str = str(row.data_peso_predito)\n",
    "                date = datetime.strptime(datetime_str, '%Y-%m-%d').date()\n",
    "                granja = str(row.granja)\n",
    "                nucleo = str(row.nucleo)\n",
    "                key = idGalpao, (granja, nucleo), date, integrador\n",
    "                nroLote[key] = str(row.nroLote)\n",
    "                aviario[key] = str(row.aviario)\n",
    "                novo_lucro[key] = float(row.lucro)\n",
    "                novo_custo[key] = float(row.custo)\n",
    "                n_animais[key] = int(row.qtde)\n",
    "                idade[key] = int(row.day)\n",
    "                km[key] = float(row.km)\n",
    "                sexo[key] = str(row.sexo)\n",
    "                consumo[key] = float(row.consumo)\n",
    "                peso[key] = float(row.peso_predito)\n",
    "                granjas.add(granja)\n",
    "                lotes_by_granjas[granja].add(idGalpao)\n",
    "                if idGalpao in lot_to_granja:\n",
    "                    if not lot_to_granja[idGalpao] == granja:\n",
    "                        raise ValueError(\n",
    "                            f'em diferente data {date}, lote {idGalpao} esta em granja diferente {lot_to_granja[idGalpao]} e {granja}')\n",
    "                else:\n",
    "                    lot_to_granja[idGalpao] = granja\n",
    "\n",
    "                nucleos_by_granja[granja].add(nucleo)\n",
    "                if idGalpao in lot_to_nucleo:\n",
    "                        if not lot_to_nucleo[idGalpao] == nucleo:\n",
    "                            raise ValueError(\n",
    "                                f'em diferente data {date}, lote {idGalpao} esta em nucleo diferente {lot_to_nucleo[idGalpao]} e {nucleo}')\n",
    "                else:\n",
    "                    lot_to_nucleo[idGalpao] = nucleo\n",
    "\n",
    "                todos_lotes.add(idGalpao)\n",
    "                todos_tempos.add(date)\n",
    "                tempos_by_lote[idGalpao].append(date)\n",
    "        todos_tempos = sorted(list(todos_tempos))"
   ]
  },
  {
   "cell_type": "code",
   "execution_count": 47,
   "metadata": {
    "executionInfo": {
     "elapsed": 414,
     "status": "ok",
     "timestamp": 1730293010587,
     "user": {
      "displayName": "Lidiane Albrecht",
      "userId": "09289640312993481767"
     },
     "user_tz": 180
    },
    "id": "1lNLcLYMwyN1"
   },
   "outputs": [],
   "source": [
    "def get_params():\n",
    "            global param_iniciais, dados_abatedouro,dias_parado,dias_de_abate\n",
    "            dados_abatedouro = defaultdict(dict)\n",
    "            for _, row in param_iniciais.iterrows():\n",
    "                id_integrador = str(row.idIntegrador)\n",
    "                aux_dia_semana = int(row.diaSemana)\n",
    "                dia_semana = todos_tempos[aux_dia_semana]\n",
    "                #dia_parado = bool(row.diasParado)\n",
    "                # print(dia_semana)\n",
    "    \n",
    "    ## Para adaptacao do fish eu retirei a definicao da variavel dia_parado e o if e else abaixo.\n",
    "    \n",
    "                #if dia_parado:\n",
    "                #    dias_parado[id_integrador].append(dia_semana)\n",
    "                #else:\n",
    "                dias_de_abate[id_integrador].append(dia_semana)\n",
    "                # print(dados_abatedouro)\n",
    "                if id_integrador in todos_abatedouros:\n",
    "                    # print(row)\n",
    "                    # print(dados_abatedouro[(id_integrador,dia_semana)])['\n",
    "                    # dados_abatedouro[id_integrador,dia_semana] = ParametrosIntegrador()\n",
    "                    dados_abatedouro[(id_integrador,dia_semana)]['clientId']=str(row.clientId)\n",
    "                    dados_abatedouro[(id_integrador,dia_semana)]['diaSemana']=int(row.diaSemana)\n",
    "                    dados_abatedouro[(id_integrador,dia_semana)]['idIntegrador']=str(row.idIntegrador)\n",
    "                    dados_abatedouro[(id_integrador,dia_semana)]['valorKgFrango']=float(row.valorKgFrango)\n",
    "                    dados_abatedouro[(id_integrador,dia_semana)]['despesaAlimentarMedia']=float(row.despesaAlimentarMedia)\n",
    "                    dados_abatedouro[(id_integrador,dia_semana)]['custoNaoAlimentarMedio']=float(row.custoNaoAlimentarMedio)\n",
    "                    dados_abatedouro[(id_integrador,dia_semana)]['abateMaxDiario']=int(row.abateMaxDiario)\n",
    "                    dados_abatedouro[(id_integrador,dia_semana)]['abateMinDiario']=int(row.abateMinDiario)\n",
    "                    #dados_abatedouro[(id_integrador,dia_semana)]['proporcaoMaxMachosFemeas']=float(row.proporcaoMaxMachosFemeas)\n",
    "                    #dados_abatedouro[(id_integrador,dia_semana)]['proporcaoMinMachosFemeas']=float(row.proporcaoMinMachosFemeas)\n",
    "                    dados_abatedouro[(id_integrador,dia_semana)]['mediaMaxIdadeCiclo']=int(row.mediaMaxIdadeCiclo)\n",
    "                    dados_abatedouro[(id_integrador,dia_semana)]['mediaMinIdadeCiclo']=int(row.mediaMinIdadeCiclo)\n",
    "                    #dados_abatedouro[(id_integrador,dia_semana)]['KmMedioMax']=float(row.KmMedioMax)\n",
    "                    #dados_abatedouro[(id_integrador,dia_semana)]['custoKm']=float(row.custoKm)\n",
    "                    #dados_abatedouro[(id_integrador,dia_semana)]['pesoCaixa']=float(row.pesoCaixa)\n",
    "                    #dados_abatedouro[(id_integrador,dia_semana)]['caixasCaminhao']=float(row.caixasCaminhao)\n",
    "                    #dados_abatedouro[(id_integrador,dia_semana)]['custoViagem']=float(row.custoViagem)\n",
    "                    #dados_abatedouro[(id_integrador,dia_semana)]['diasParado']=float(row.diasParado)\n"
   ]
  },
  {
   "cell_type": "code",
   "execution_count": 48,
   "metadata": {
    "executionInfo": {
     "elapsed": 307,
     "status": "ok",
     "timestamp": 1730293014448,
     "user": {
      "displayName": "Lidiane Albrecht",
      "userId": "09289640312993481767"
     },
     "user_tz": 180
    },
    "id": "NVo1v-icxyr_"
   },
   "outputs": [],
   "source": [
    "def set_variables_optimizer():\n",
    "        global todos_lotes,lot_to_granja,lot_to_nucleo, todos_tempos, todos_abatedouros, venda_lote, venda_granja, venda_nucleo, solver, inputPersonalizacao\n",
    "        # venda única\n",
    "        for idGalpao in todos_lotes:\n",
    "            granja = lot_to_granja[idGalpao]\n",
    "            nucleo = lot_to_nucleo[idGalpao]\n",
    "            for dia in todos_tempos:\n",
    "                for integrador in todos_abatedouros:\n",
    "\n",
    "                    #variavel principal\n",
    "                    var_name = f\"vendas_lote_{idGalpao}_{(granja, nucleo)}_{dia}_{integrador}\"\n",
    "                    venda_lote[idGalpao, (granja, nucleo), dia, integrador] = solver.IntVar(0, 1, var_name)\n",
    "\n",
    "                    # variavel auxiliar para granja\n",
    "                    key_granja = granja, dia , integrador\n",
    "                    if key_granja not in venda_granja:\n",
    "                        var_name = f\"venda_granja_{granja}_{dia}_{integrador}\"\n",
    "                        venda_granja[key_granja] = solver.IntVar(0, 1, var_name)\n",
    "\n",
    "                    # print(inputPersonalizacao)\n",
    "                    # variavel auxiliar para nucleo\n",
    "                    if inputPersonalizacao[\"nucleo\"]:\n",
    "                        key_nucleo = (granja, nucleo), dia , integrador\n",
    "                        if key_nucleo not in venda_nucleo:\n",
    "                            var_name = f\"venda_granja_nucleo_{granja, nucleo}_{dia}_{integrador}\"\n",
    "                            venda_nucleo[key_nucleo] = solver.IntVar(0, 1, var_name)\n"
   ]
  },
  {
   "cell_type": "code",
   "execution_count": 49,
   "metadata": {
    "executionInfo": {
     "elapsed": 319,
     "status": "ok",
     "timestamp": 1730293019043,
     "user": {
      "displayName": "Lidiane Albrecht",
      "userId": "09289640312993481767"
     },
     "user_tz": 180
    },
    "id": "yIOJadal05-l"
   },
   "outputs": [],
   "source": [
    "def get_objective_value():\n",
    "        global venda_lote, novo_lucro, objective, solver, n_animais\n",
    "        print(objective)\n",
    "        if objective==\"lucro\":\n",
    "\n",
    "            func_objetivo = []\n",
    "            for key in venda_lote:\n",
    "                (idGalpao, (granja,nucleo), dia, integrador) = key\n",
    "                qtd_animal = n_animais[key]\n",
    "                lucro = novo_lucro[key]\n",
    "                venda = venda_lote[key]\n",
    "                func_objetivo.append((qtd_animal * lucro) * venda)\n",
    "\n",
    "            solver.Maximize(solver.Sum(func_objetivo))"
   ]
  },
  {
   "cell_type": "code",
   "execution_count": 50,
   "metadata": {
    "executionInfo": {
     "elapsed": 300,
     "status": "ok",
     "timestamp": 1730293020712,
     "user": {
      "displayName": "Lidiane Albrecht",
      "userId": "09289640312993481767"
     },
     "user_tz": 180
    },
    "id": "t0k0yOlahxys"
   },
   "outputs": [],
   "source": [
    "def venda_min_por_dia(solver, dia, integrador, n_animais, lot_to_granja, lot_to_nucleo,\n",
    "                        todos_lotes, venda_minima,venda_lote):\n",
    "\n",
    "        cstr_name = f'venda_min_para_dia_{dia}_{integrador}'\n",
    "        # noinspection PyTypeChecker\n",
    "        solver.Add(\n",
    "            solver.Sum(\n",
    "                [n_animais[idGalpao, (lot_to_granja[idGalpao], lot_to_nucleo[idGalpao]), dia, integrador]*\n",
    "                    venda_lote[idGalpao, (lot_to_granja[idGalpao], lot_to_nucleo[idGalpao]), dia, integrador] for idGalpao in todos_lotes])\n",
    "            >= venda_minima, cstr_name\n",
    "            )\n",
    "\n",
    "\n",
    "def venda_max_por_dia(solver, dia, integrador, n_animais, lot_to_granja, lot_to_nucleo,\n",
    "                        todos_lotes, venda_maxima,venda_lote):\n",
    "\n",
    "        cstr_name = f'venda_max_para_dia_{dia}_{integrador}'\n",
    "        solver.Add(\n",
    "            solver.Sum(\n",
    "                [n_animais[idGalpao, (lot_to_granja[idGalpao], lot_to_nucleo[idGalpao]), dia, integrador] *\n",
    "                    venda_lote[idGalpao, (lot_to_granja[idGalpao], lot_to_nucleo[idGalpao]), dia, integrador] for idGalpao in todos_lotes])\n",
    "            <= venda_maxima,\n",
    "            cstr_name\n",
    "            )\n"
   ]
  },
  {
   "cell_type": "code",
   "execution_count": 51,
   "metadata": {
    "executionInfo": {
     "elapsed": 513,
     "status": "ok",
     "timestamp": 1730293023387,
     "user": {
      "displayName": "Lidiane Albrecht",
      "userId": "09289640312993481767"
     },
     "user_tz": 180
    },
    "id": "zLWIeVV9hyfY"
   },
   "outputs": [],
   "source": [
    "def proporcao_maxima_lotes_macho_femea_por_dia(solver, dia, integrador, n_animais, lot_to_granja, lot_to_nucleo,\n",
    "                        todos_lotes, sexo_lote,venda_lote, proporcao_max):\n",
    "        solver.Add(\n",
    "            solver.Sum(\n",
    "                [n_animais[idGalpao, (lot_to_granja[idGalpao], lot_to_nucleo[idGalpao]), dia, integrador]*venda_lote[idGalpao, (lot_to_granja[idGalpao], lot_to_nucleo[idGalpao]), dia, integrador]\n",
    "                for idGalpao in sexo_lote ] + [(-1 * float(proporcao_max))*n_animais[idGalpao, (lot_to_granja[idGalpao], lot_to_nucleo[idGalpao]), dia, integrador]*\n",
    "                    venda_lote[idGalpao, (lot_to_granja[idGalpao], lot_to_nucleo[idGalpao]), dia, integrador]\n",
    "                    for idGalpao in todos_lotes ])\n",
    "                    <= 0\n",
    "                    )\n",
    "\n",
    "def proporcao_minima_lotes_macho_femea_por_dia(solver, dia, integrador, n_animais, lot_to_granja, lot_to_nucleo,\n",
    "                        todos_lotes, sexo_lote,venda_lote, proporcao_min):\n",
    "        solver.Add(\n",
    "            solver.Sum(\n",
    "                [n_animais[idGalpao, (lot_to_granja[idGalpao], lot_to_nucleo[idGalpao]), dia, integrador]*venda_lote[idGalpao, (lot_to_granja[idGalpao], lot_to_nucleo[idGalpao]), dia, integrador]\n",
    "                for idGalpao in sexo_lote] + [(-1 * float(proporcao_min))*n_animais[idGalpao, (lot_to_granja[idGalpao], lot_to_nucleo[idGalpao]), dia, integrador]*\n",
    "                    venda_lote[idGalpao, (lot_to_granja[idGalpao], lot_to_nucleo[idGalpao]), dia, integrador] for idGalpao in todos_lotes]\n",
    "                ) >= 0\n",
    "                )"
   ]
  },
  {
   "cell_type": "code",
   "execution_count": 52,
   "metadata": {
    "executionInfo": {
     "elapsed": 274,
     "status": "ok",
     "timestamp": 1730293025476,
     "user": {
      "displayName": "Lidiane Albrecht",
      "userId": "09289640312993481767"
     },
     "user_tz": 180
    },
    "id": "RXDjsY8Zh8C2"
   },
   "outputs": [],
   "source": [
    "def zerando_variaveis_dias_parado(solver, dias_parados, lote, granja, nucleo, integrador, venda_lote):\n",
    "\n",
    "        for dia in dias_parados[integrador]:\n",
    "            if dia in dias_parados[integrador]:\n",
    "                cstr_name = f'l_{lote}_dias_parados_{dia}_{integrador}'\n",
    "                solver.Add(venda_lote[lote, (granja, nucleo), dia, integrador] == 0, cstr_name)\n"
   ]
  },
  {
   "cell_type": "code",
   "execution_count": 53,
   "metadata": {
    "executionInfo": {
     "elapsed": 284,
     "status": "ok",
     "timestamp": 1730293030394,
     "user": {
      "displayName": "Lidiane Albrecht",
      "userId": "09289640312993481767"
     },
     "user_tz": 180
    },
    "id": "9a0PLETAiDhr"
   },
   "outputs": [],
   "source": [
    "def lotes_em_dias_fixos(solver,lotes_em_dias_fixos, todos_tempos, todos_abatedouros, idGalpao, lot_to_granja, lot_to_nucleo, venda_lote):\n",
    "        lotes_fixos = lotes_em_dias_fixos[idGalpao]\n",
    "        granja = lot_to_granja[idGalpao]\n",
    "        nucleo = lot_to_nucleo[idGalpao]\n",
    "        dia_str = lotes_fixos[0]\n",
    "        dia_fixo = datetime.datetime.strptime(dia_str, '%Y-%m-%d').date()\n",
    "        abatedouro_fixo = lotes_fixos[1]\n",
    "        for dia in todos_tempos:\n",
    "            for abatedouro in todos_abatedouros:\n",
    "                if dia_fixo == dia and abatedouro_fixo == abatedouro:\n",
    "                    cstr_name = f'lotes_dias_fixos_true_{idGalpao}_{dia_fixo}_{abatedouro_fixo}'\n",
    "                    solver.Add(venda_lote[idGalpao, (granja, nucleo), dia_fixo, abatedouro_fixo] == 1, cstr_name)\n",
    "                else:\n",
    "                    cstr_name = f'lotes_dias_fixos_false_{idGalpao}_{dia}_{abatedouro}'\n",
    "                    solver.Add(venda_lote[idGalpao, (granja, nucleo), dia, abatedouro] == 0, cstr_name)\n"
   ]
  },
  {
   "cell_type": "code",
   "execution_count": 54,
   "metadata": {
    "executionInfo": {
     "elapsed": 320,
     "status": "ok",
     "timestamp": 1730293034686,
     "user": {
      "displayName": "Lidiane Albrecht",
      "userId": "09289640312993481767"
     },
     "user_tz": 180
    },
    "id": "2BxHfDdriF2R"
   },
   "outputs": [],
   "source": [
    "def optimization_rules():\n",
    "        global solver, tempos_by_lote, venda_lote, lotes_femea, lotes_macho, todos_lotes, lot_to_granja, lot_to_nucleo, todos_tempos, todos_abatedouros, venda_granja, venda_nucleo, n_animais, idade, sexo, inputPersonalizacao, dias_parado, dias_de_abate\n",
    "        #%% Definindo as restrições\n",
    "        for idGalpao, tempos in tempos_by_lote.items():\n",
    "            # venda única\n",
    "            cstr_name = f'venda_unica_{idGalpao}'\n",
    "            granja = lot_to_granja[idGalpao]\n",
    "            nucleo = lot_to_nucleo[idGalpao]\n",
    "            solver.Add(\n",
    "                solver.Sum(\n",
    "                    [venda_lote[idGalpao, (granja, nucleo), dia, integrador] for dia in set(tempos) for integrador in todos_abatedouros]\n",
    "                ) == 1, cstr_name)\n",
    "\n",
    "           # #Separando os lotes por sexo do frango\n",
    "           # for integrador in todos_abatedouros:\n",
    "           #     for dia in set(tempos):\n",
    "           #         if sexo[(idGalpao, (granja, nucleo), dia, integrador)] == \"f\":\n",
    "           #             lotes_femea.add(idGalpao)\n",
    "           #         elif sexo[(idGalpao, (granja, nucleo), dia, integrador)]== \"m\":\n",
    "           #             lotes_macho.add(idGalpao)\n",
    "\n",
    "\n",
    "        for key, var in venda_lote.items():\n",
    "            idGalpao, _, dia, integrador = key\n",
    "            # print(idade[key])\n",
    "            if idade[key] < dados_abatedouro[(integrador,dia)]['mediaMinIdadeCiclo']:\n",
    "                cstr_name = f'idade_min_l_{idGalpao}_dia_{dia}_abat_{integrador}'\n",
    "                solver.Add(var == 0, cstr_name)\n",
    "            if idade[key] > dados_abatedouro[(integrador,dia)]['mediaMaxIdadeCiclo']:\n",
    "                cstr_name = f'idade_max_l_{idGalpao}_dia_{dia}_abat_{integrador}'\n",
    "                solver.Add(var == 0, cstr_name)\n",
    "\n",
    "        # Zerando variáveis em dias_parado\n",
    "        for integrador in todos_abatedouros:\n",
    "            for idGalpao, _ in tempos_by_lote.items():\n",
    "                granja = lot_to_granja[idGalpao]\n",
    "                nucleo = lot_to_nucleo[idGalpao]\n",
    "                zerando_variaveis_dias_parado(solver,dias_parado, idGalpao, granja, nucleo, integrador, venda_lote)\n",
    "\n",
    "#        # definindo lotes em dias fixos\n",
    "#        for idGalpao in inputPersonalizacao[\"lotes_em_dias_fixos\"]:\n",
    "#            lotes_em_dias_fixos(solver,inputPersonalizacao[\"lotes_em_dias_fixos\"], todos_tempos, todos_abatedouros, idGalpao, lot_to_granja, lot_to_nucleo, venda_lote)\n",
    "#        # restrições da quantidade de venda e proporção entre sexos\n",
    "#        for integrador in todos_abatedouros:\n",
    "#            for dia in dias_de_abate[integrador]:\n",
    "#\n",
    "#                # restrições para venda máxima e mínima\n",
    "#                venda_minima = dados_abatedouro[(integrador,dia)]['abateMinDiario']\n",
    "#                venda_min_por_dia(solver, dia, integrador, n_animais, lot_to_granja, lot_to_nucleo,\n",
    "#                                todos_lotes, venda_minima, venda_lote)\n",
    "#\n",
    "#\n",
    "#                venda_maxima = dados_abatedouro[(integrador,dia)]['abateMaxDiario']\n",
    "#                venda_max_por_dia(solver, dia, integrador, n_animais, lot_to_granja, lot_to_nucleo,\n",
    "#                            todos_lotes, venda_maxima,venda_lote)\n",
    "#\n",
    "#\n",
    "#                # restrição quanto a proporção de macho e femea\n",
    "#                if len(lotes_macho) > 0 and len(lotes_femea) > 0:\n",
    "#                    proporcao_max = dados_abatedouro[(integrador,dia)]['proporcaoMaxMachosFemeas']\n",
    "#                    proporcao_maxima_lotes_macho_femea_por_dia(solver, dia, integrador, n_animais, lot_to_granja, lot_to_nucleo,\n",
    "#                        todos_lotes, lotes_macho,venda_lote, proporcao_max)\n",
    "#\n",
    "#                    proporcao_min = dados_abatedouro[(integrador,dia)]['proporcaoMinMachosFemeas']\n",
    "#                    proporcao_minima_lotes_macho_femea_por_dia(solver, dia, integrador, n_animais, lot_to_granja, lot_to_nucleo,\n",
    "#                        todos_lotes, lotes_macho,venda_lote, proporcao_min)\n",
    "#\n",
    "#                    proporcao_max = dados_abatedouro[(integrador,dia)]['proporcaoMaxMachosFemeas']\n",
    "#                    proporcao_maxima_lotes_macho_femea_por_dia(solver, dia, integrador, n_animais, lot_to_granja, lot_to_nucleo,\n",
    "#                        todos_lotes, lotes_femea,venda_lote, proporcao_max)\n",
    "#\n",
    "#                    proporcao_min = dados_abatedouro[(integrador,dia)]['proporcaoMinMachosFemeas']\n",
    "#                    proporcao_minima_lotes_macho_femea_por_dia(solver, dia, integrador, n_animais, lot_to_granja, lot_to_nucleo,\n",
    "#                        todos_lotes, lotes_femea,venda_lote, proporcao_min)\n",
    "#\n",
    "        # ligando venda de lote com venda da granja\n",
    "        for (idGalpao, (granja, nucleo), dia, integrador), _ in venda_lote.items():\n",
    "            cstr_name = f'granja_{granja}_lote_{idGalpao}_{dia}_{integrador}'\n",
    "            solver.Add(\n",
    "                venda_granja[granja, dia, integrador] >= venda_lote[idGalpao, (granja, nucleo), dia, integrador], cstr_name\n",
    "            )\n",
    "\n",
    "        # setando quantidades de dias consecutivos para cada granja\n",
    "        dias_consecutivos_granja: Dict[str, int] = {granja: 2 for granja in granjas} # esse dado pode ser um input já setado pelo alojamento\n",
    "        for granja in inputPersonalizacao[\"granjas_grandes\"]:\n",
    "            if granja in granjas:\n",
    "                dias_consecutivos_granja[granja] = 3\n",
    "            # if granja == '301':\n",
    "            #     dias_consecutivos_granja[granja] = 5\n",
    "\n",
    "        for integrador in todos_abatedouros:\n",
    "            for granja in granjas:\n",
    "                for dia_1 in todos_tempos:\n",
    "                    for dia_2 in todos_tempos:\n",
    "                        if dia_2 <= dia_1:\n",
    "                            continue\n",
    "                        delta_days = (dia_2 - dia_1).days\n",
    "\n",
    "                        if delta_days < dias_consecutivos_granja[granja]:\n",
    "                            continue\n",
    "                        cstr_name = f'granja_{granja}_dia_{dia_1}_AND_{dia_2}_NOT_{integrador}'\n",
    "                        solver.Add(\n",
    "                            venda_granja[granja, dia_1, integrador] + venda_granja[granja, dia_2, integrador] <= 1, cstr_name\n",
    "                        )\n",
    "\n",
    "        if inputPersonalizacao[\"nucleo\"]:\n",
    "            # ligando venda de lote com venda da granja, nucleo\n",
    "            for (idGalpao, (granja, nucleo), dia, integrador), _ in venda_lote.items():\n",
    "                cstr_name = f'granja_{granja}_nucleo_{nucleo}_lote_{idGalpao}_{dia}_{integrador}'\n",
    "                #print((lote,granja,nucleo,dia,integrador),cstr_name)\n",
    "                solver.Add(\n",
    "                    venda_nucleo[(granja, nucleo), dia, integrador] >= venda_lote[idGalpao, (granja, nucleo), dia, integrador], cstr_name\n",
    "                )\n",
    "\n",
    "#            # quantos dias consecutivos podem? (nucleo)\n",
    "#            for integrador in todos_abatedouros:\n",
    "#                for granja in granjas:\n",
    "#                    if granja not in granjas:\n",
    "#                        continue\n",
    "#                    for nucleo in nucleos_by_granja[granja]:\n",
    "#                        for dia_1 in todos_tempos:\n",
    "#                            for dia_2 in todos_tempos:\n",
    "#                                if dia_2 <= dia_1:\n",
    "#                                    continue\n",
    "#                                # print(inputPersonalizacao[\"dias_consec_granja_nucleo\"].keys())\n",
    "#                                if granja in inputPersonalizacao[\"dias_consec_granja_nucleo\"].keys():\n",
    "#                                    dias_cons_usado = inputPersonalizacao[\"dias_consec_granja_nucleo\"][granja]\n",
    "#                                else:\n",
    "#                                    dias_cons_usado = inputPersonalizacao['dias_consec_nucleo_geral']\n",
    "\n",
    "#                                delta_days = (dia_2 - dia_1).days\n",
    "#                                if delta_days < dias_cons_usado:\n",
    "#                                    continue\n",
    "#                                cstr_name = f'granja_{granja}_nucleo_{nucleo}_dia_{dia_1}_AND_{dia_2}_NOT_{integrador}'\n",
    "#                                solver.Add(\n",
    "#                                    venda_nucleo[(granja, nucleo), dia_1, integrador] + venda_nucleo[(granja, nucleo), dia_2, integrador] <= 1, cstr_name\n",
    "#                                )\n"
   ]
  },
  {
   "cell_type": "code",
   "execution_count": 55,
   "metadata": {
    "executionInfo": {
     "elapsed": 322,
     "status": "ok",
     "timestamp": 1730293040864,
     "user": {
      "displayName": "Lidiane Albrecht",
      "userId": "09289640312993481767"
     },
     "user_tz": 180
    },
    "id": "5F1CpfGaiJUb"
   },
   "outputs": [],
   "source": [
    "def solver_resolver():\n",
    "        global solver, venda_lote, solverParams\n",
    "        infos = []\n",
    "        #exit()\n",
    "        status = solver.Solve(solverParams)\n",
    "\n",
    "        if status == pywraplp.Solver.OPTIMAL or status == pywraplp.Solver.FEASIBLE:\n",
    "            print(f'Funcao objetivo ={solver.Objective().Value()}')\n",
    "            print(solver.WallTime())\n",
    "            for k, var in venda_lote.items():\n",
    "                idGalpao, (granja, nucleo), dia, integrador = k\n",
    "                if venda_lote[k].solution_value() == 1:\n",
    "                    print(nroLote[k],\"-\",dia)\n",
    "                    infos.append([\n",
    "                        str(idGalpao),\n",
    "                        int(nroLote[k]),\n",
    "                        dia,\n",
    "                        # granja,\n",
    "                        # nucleo,\n",
    "                        # aviario[k],\n",
    "                        idade[k],\n",
    "                        n_animais[k],\n",
    "                        round(peso[k],4),\n",
    "                        round(consumo[k],4),\n",
    "                        # km[k],\n",
    "                        round(novo_lucro[k],4),\n",
    "                        # sexo[k],\n",
    "                        round(novo_custo[k],4),\n",
    "                        integrador\n",
    "                    ])\n",
    "\n",
    "            return infos\n",
    "        else:\n",
    "            print('Nao resolveu o problema')\n",
    "            return None"
   ]
  },
  {
   "cell_type": "code",
   "execution_count": 56,
   "metadata": {
    "executionInfo": {
     "elapsed": 266,
     "status": "ok",
     "timestamp": 1730293051203,
     "user": {
      "displayName": "Lidiane Albrecht",
      "userId": "09289640312993481767"
     },
     "user_tz": 180
    },
    "id": "paLLx_7hiLr4"
   },
   "outputs": [],
   "source": [
    "def optimize():\n",
    "\n",
    "        config_solver()\n",
    "        # print(list_pesos_df)\n",
    "        # aux=0\n",
    "        #Roda o otimizador para cada semana\n",
    "        pesos_df = list_pesos_df\n",
    "        # print(pesos_df)\n",
    "        # aux = aux+1\n",
    "        # print('Rodadas otimizador: ', aux)\n",
    "        if isinstance( f:= get_values(pesos_df), str):\n",
    "            print('')\n",
    "\n",
    "        get_params()\n",
    "        set_variables_optimizer()\n",
    "        get_objective_value()\n",
    "        optimization_rules()\n",
    "\n",
    "        if not isinstance(f := solver_resolver(), type(None)):\n",
    "            pd.DataFrame(f).to_csv(f\"output.csv\", sep=\";\", decimal=\",\")"
   ]
  },
  {
   "cell_type": "code",
   "execution_count": 57,
   "metadata": {
    "colab": {
     "base_uri": "https://localhost:8080/"
    },
    "executionInfo": {
     "elapsed": 65841,
     "status": "ok",
     "timestamp": 1730293120877,
     "user": {
      "displayName": "Lidiane Albrecht",
      "userId": "09289640312993481767"
     },
     "user_tz": 180
    },
    "id": "Tc6Rwj5-imVo",
    "outputId": "f67ab775-9f07-4e51-d263-5d119d63076a"
   },
   "outputs": [
    {
     "ename": "AttributeError",
     "evalue": "'Series' object has no attribute 'diasParado'",
     "output_type": "error",
     "traceback": [
      "\u001b[1;31m---------------------------------------------------------------------------\u001b[0m",
      "\u001b[1;31mAttributeError\u001b[0m                            Traceback (most recent call last)",
      "Cell \u001b[1;32mIn[57], line 1\u001b[0m\n\u001b[1;32m----> 1\u001b[0m \u001b[43moptimize\u001b[49m\u001b[43m(\u001b[49m\u001b[43m)\u001b[49m\n",
      "Cell \u001b[1;32mIn[56], line 14\u001b[0m, in \u001b[0;36moptimize\u001b[1;34m()\u001b[0m\n\u001b[0;32m     11\u001b[0m \u001b[38;5;28;01mif\u001b[39;00m \u001b[38;5;28misinstance\u001b[39m( f\u001b[38;5;241m:=\u001b[39m get_values(pesos_df), \u001b[38;5;28mstr\u001b[39m):\n\u001b[0;32m     12\u001b[0m     \u001b[38;5;28mprint\u001b[39m(\u001b[38;5;124m'\u001b[39m\u001b[38;5;124m'\u001b[39m)\n\u001b[1;32m---> 14\u001b[0m \u001b[43mget_params\u001b[49m\u001b[43m(\u001b[49m\u001b[43m)\u001b[49m\n\u001b[0;32m     15\u001b[0m set_variables_optimizer()\n\u001b[0;32m     16\u001b[0m get_objective_value()\n",
      "Cell \u001b[1;32mIn[47], line 8\u001b[0m, in \u001b[0;36mget_params\u001b[1;34m()\u001b[0m\n\u001b[0;32m      6\u001b[0m aux_dia_semana \u001b[38;5;241m=\u001b[39m \u001b[38;5;28mint\u001b[39m(row\u001b[38;5;241m.\u001b[39mdiaSemana)\n\u001b[0;32m      7\u001b[0m dia_semana \u001b[38;5;241m=\u001b[39m todos_tempos[aux_dia_semana]\n\u001b[1;32m----> 8\u001b[0m dia_parado \u001b[38;5;241m=\u001b[39m \u001b[38;5;28mbool\u001b[39m(\u001b[43mrow\u001b[49m\u001b[38;5;241;43m.\u001b[39;49m\u001b[43mdiasParado\u001b[49m)\n\u001b[0;32m      9\u001b[0m \u001b[38;5;66;03m# print(dia_semana)\u001b[39;00m\n\u001b[0;32m     11\u001b[0m \u001b[38;5;28;01mif\u001b[39;00m dia_parado:\n",
      "File \u001b[1;32m~\\AppData\\Local\\Packages\\PythonSoftwareFoundation.Python.3.10_qbz5n2kfra8p0\\LocalCache\\local-packages\\Python310\\site-packages\\pandas\\core\\generic.py:6299\u001b[0m, in \u001b[0;36mNDFrame.__getattr__\u001b[1;34m(self, name)\u001b[0m\n\u001b[0;32m   6292\u001b[0m \u001b[38;5;28;01mif\u001b[39;00m (\n\u001b[0;32m   6293\u001b[0m     name \u001b[38;5;129;01mnot\u001b[39;00m \u001b[38;5;129;01min\u001b[39;00m \u001b[38;5;28mself\u001b[39m\u001b[38;5;241m.\u001b[39m_internal_names_set\n\u001b[0;32m   6294\u001b[0m     \u001b[38;5;129;01mand\u001b[39;00m name \u001b[38;5;129;01mnot\u001b[39;00m \u001b[38;5;129;01min\u001b[39;00m \u001b[38;5;28mself\u001b[39m\u001b[38;5;241m.\u001b[39m_metadata\n\u001b[0;32m   6295\u001b[0m     \u001b[38;5;129;01mand\u001b[39;00m name \u001b[38;5;129;01mnot\u001b[39;00m \u001b[38;5;129;01min\u001b[39;00m \u001b[38;5;28mself\u001b[39m\u001b[38;5;241m.\u001b[39m_accessors\n\u001b[0;32m   6296\u001b[0m     \u001b[38;5;129;01mand\u001b[39;00m \u001b[38;5;28mself\u001b[39m\u001b[38;5;241m.\u001b[39m_info_axis\u001b[38;5;241m.\u001b[39m_can_hold_identifiers_and_holds_name(name)\n\u001b[0;32m   6297\u001b[0m ):\n\u001b[0;32m   6298\u001b[0m     \u001b[38;5;28;01mreturn\u001b[39;00m \u001b[38;5;28mself\u001b[39m[name]\n\u001b[1;32m-> 6299\u001b[0m \u001b[38;5;28;01mreturn\u001b[39;00m \u001b[38;5;28;43mobject\u001b[39;49m\u001b[38;5;241;43m.\u001b[39;49m\u001b[38;5;21;43m__getattribute__\u001b[39;49m\u001b[43m(\u001b[49m\u001b[38;5;28;43mself\u001b[39;49m\u001b[43m,\u001b[49m\u001b[43m \u001b[49m\u001b[43mname\u001b[49m\u001b[43m)\u001b[49m\n",
      "\u001b[1;31mAttributeError\u001b[0m: 'Series' object has no attribute 'diasParado'"
     ]
    }
   ],
   "source": [
    "optimize()"
   ]
  }
 ],
 "metadata": {
  "colab": {
   "provenance": []
  },
  "kernelspec": {
   "display_name": "Python 3",
   "name": "python3"
  },
  "language_info": {
   "codemirror_mode": {
    "name": "ipython",
    "version": 3
   },
   "file_extension": ".py",
   "mimetype": "text/x-python",
   "name": "python",
   "nbconvert_exporter": "python",
   "pygments_lexer": "ipython3",
   "version": "3.10.11"
  }
 },
 "nbformat": 4,
 "nbformat_minor": 0
}
