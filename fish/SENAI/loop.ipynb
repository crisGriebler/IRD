{
 "cells": [
  {
   "cell_type": "code",
   "execution_count": null,
   "metadata": {},
   "outputs": [],
   "source": [
    "## code for the class repetitive loop "
   ]
  },
  {
   "cell_type": "code",
   "execution_count": 11,
   "metadata": {},
   "outputs": [
    {
     "name": "stdout",
     "output_type": "stream",
     "text": [
      "1\n",
      "2\n",
      "3\n",
      "4\n",
      "5\n"
     ]
    }
   ],
   "source": [
    "print(1)\n",
    "print(2)\n",
    "print(3)\n",
    "print(4)\n",
    "print(5)"
   ]
  },
  {
   "cell_type": "code",
   "execution_count": 8,
   "metadata": {},
   "outputs": [
    {
     "name": "stdout",
     "output_type": "stream",
     "text": [
      "1\n",
      "2\n",
      "3\n",
      "4\n",
      "5\n"
     ]
    }
   ],
   "source": [
    "list = [1,2,3,4,5]\n",
    "for i in list:\n",
    "    print(i)"
   ]
  },
  {
   "cell_type": "code",
   "execution_count": 36,
   "metadata": {},
   "outputs": [
    {
     "name": "stdout",
     "output_type": "stream",
     "text": [
      "1\n",
      "2\n",
      "3\n",
      "4\n",
      "5\n",
      "Acabou a sequência\n"
     ]
    }
   ],
   "source": [
    "for i in range(1,6):\n",
    "    print(i)\n",
    "else: \n",
    "    print('Acabou a sequência')"
   ]
  },
  {
   "cell_type": "code",
   "execution_count": 53,
   "metadata": {},
   "outputs": [
    {
     "name": "stdout",
     "output_type": "stream",
     "text": [
      "R\n",
      "i\n",
      "c\n",
      "h\n",
      "a\n",
      "r\n",
      "d\n",
      "Acabou\n"
     ]
    }
   ],
   "source": [
    "for letra in \"Richard\":\n",
    "    print(letra)\n",
    "else:\n",
    "    print(\"Acabou\")"
   ]
  },
  {
   "cell_type": "code",
   "execution_count": 44,
   "metadata": {},
   "outputs": [
    {
     "name": "stdout",
     "output_type": "stream",
     "text": [
      "O valor do contador é: 0\n",
      "O valor do contador é: 1\n",
      "O valor do contador é: 2\n",
      "O valor do contador é: 3\n",
      "O valor do contador é: 4\n",
      "O valor do contador é: 5\n",
      "O valor do contador é: 6\n",
      "O valor do contador é: 7\n",
      "O valor do contador é: 8\n",
      "O valor do contador é: 9\n"
     ]
    }
   ],
   "source": [
    "n=0\n",
    "while n<10:\n",
    "    print('O valor do contador é:', n)\n",
    "    n=n+1"
   ]
  },
  {
   "cell_type": "code",
   "execution_count": 49,
   "metadata": {},
   "outputs": [
    {
     "name": "stdout",
     "output_type": "stream",
     "text": [
      "O valor do contador é: 0\n",
      "O valor do contador é: 1\n",
      "O valor do contador é: 2\n",
      "O valor do contador é: 3\n",
      "O valor do contador é: 4\n",
      "O valor do contador é: 5\n",
      "Fim do while e o valor final do contador é: 6\n"
     ]
    }
   ],
   "source": [
    "n=0\n",
    "while n < 6:\n",
    "    print('O valor do contador é:', n) \n",
    "    n=n+1\n",
    "else: \n",
    "    print('Fim do while e o valor final do contador é:', n)"
   ]
  },
  {
   "cell_type": "code",
   "execution_count": null,
   "metadata": {},
   "outputs": [],
   "source": [
    "for <variavel> in <interável>:\n",
    "    # código à ser executado"
   ]
  },
  {
   "cell_type": "code",
   "execution_count": 51,
   "metadata": {},
   "outputs": [
    {
     "name": "stdout",
     "output_type": "stream",
     "text": [
      "Senha incorreta!\n",
      "Senha incorreta!\n",
      "Senha correta! Acesso permitido.\n"
     ]
    }
   ],
   "source": [
    "senha = input(\"Digite uma senha: \")\n",
    "\n",
    "while senha != \"1234\":\n",
    "    print(\"Senha incorreta!\")\n",
    "    senha = input(\"Digite uma senha: \")\n",
    "else:\n",
    "    print(\"Senha correta! Acesso permitido.\")"
   ]
  },
  {
   "cell_type": "code",
   "execution_count": 55,
   "metadata": {},
   "outputs": [
    {
     "name": "stdout",
     "output_type": "stream",
     "text": [
      "Senha correta! Acesso permitido.\n"
     ]
    }
   ],
   "source": [
    "senha = input(\"Digite uma senha: \")\n",
    "\n",
    "if senha != \"1234\":\n",
    "    print(\"Senha incorreta!\")\n",
    "    senha = input(\"Digite uma senha: \")\n",
    "else:\n",
    "    print(\"Senha correta! Acesso permitido.\")"
   ]
  },
  {
   "cell_type": "code",
   "execution_count": null,
   "metadata": {},
   "outputs": [],
   "source": [
    "1234"
   ]
  }
 ],
 "metadata": {
  "kernelspec": {
   "display_name": "Python 3",
   "language": "python",
   "name": "python3"
  },
  "language_info": {
   "codemirror_mode": {
    "name": "ipython",
    "version": 3
   },
   "file_extension": ".py",
   "mimetype": "text/x-python",
   "name": "python",
   "nbconvert_exporter": "python",
   "pygments_lexer": "ipython3",
   "version": "3.10.11"
  }
 },
 "nbformat": 4,
 "nbformat_minor": 2
}
