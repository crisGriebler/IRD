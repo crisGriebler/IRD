{
 "cells": [
  {
   "cell_type": "code",
   "execution_count": 1,
   "metadata": {},
   "outputs": [],
   "source": [
    "import matplotlib.cm as cm\n",
    "import matplotlib.pyplot as plt\n",
    "import numpy as np\n",
    "import pandas as pd\n",
    "import plotly.express as px\n",
    "import xlsxwriter\n",
    "from tabulate import tabulate\n",
    "import seaborn as sns\n",
    "\n",
    "from sklearn.cluster import KMeans\n",
    "from sklearn.metrics import silhouette_samples, silhouette_score\n",
    "from sklearn.preprocessing import MinMaxScaler\n",
    "\n",
    "# Required Libraries\n",
    "import os\n"
   ]
  },
  {
   "cell_type": "code",
   "execution_count": 3,
   "metadata": {},
   "outputs": [
    {
     "name": "stdout",
     "output_type": "stream",
     "text": [
      "Data Loaded:\n",
      "         Data  Grandes Lagos Valor R$/KG  Morada Nova de Minas Valor R$/KG  \\\n",
      "0  06/08/2021                       6.76                               NaN   \n",
      "1  13/08/2021                       6.80                               NaN   \n",
      "2  20/08/2021                       6.89                               NaN   \n",
      "3  27/08/2021                       7.03                               NaN   \n",
      "4  03/09/2021                       7.16                               NaN   \n",
      "\n",
      "   Norte do Paraná Valor R$/KG  Oeste do Paraná Valor R$/KG  \\\n",
      "0                         7.41                         6.77   \n",
      "1                         7.51                         6.81   \n",
      "2                         7.60                         6.88   \n",
      "3                         7.63                         6.96   \n",
      "4                         7.66                         7.20   \n",
      "\n",
      "   Triâng.Mineiro/Alto Paranaíba Valor R$/KG  \\\n",
      "0                                        NaN   \n",
      "1                                        NaN   \n",
      "2                                        NaN   \n",
      "3                                        NaN   \n",
      "4                                        NaN   \n",
      "\n",
      "   Triângulo Mineiro e Alto Paranaíba Valor R$/KG  \n",
      "0                                             NaN  \n",
      "1                                             NaN  \n",
      "2                                             NaN  \n",
      "3                                             NaN  \n",
      "4                                             NaN  \n"
     ]
    }
   ],
   "source": [
    "\n",
    "# Load the Excel file\n",
    "file_path = 'CEPEA.xls'  # Replace with the path to your Excel file\n",
    "df = pd.read_excel(file_path, header=3)  # header=3 means the 4th line is the header (0-indexed)\n",
    "\n",
    "# Display the first few rows to check the data\n",
    "print(\"Data Loaded:\")\n",
    "print(df.head())\n",
    "\n"
   ]
  },
  {
   "cell_type": "code",
   "execution_count": null,
   "metadata": {},
   "outputs": [],
   "source": [
    "# Filter the data for dates in the year 2022\n",
    "df['Data'] = pd.to_datetime(df['Data'])  # Ensure the 'Date' column is in datetime format\n",
    "filtered_df = df[df['Data'].dt.year == 2022]\n",
    "\n",
    "# Display the filtered data\n",
    "print(\"Filtered Data:\")\n",
    "print(filtered_df)"
   ]
  },
  {
   "cell_type": "code",
   "execution_count": null,
   "metadata": {},
   "outputs": [],
   "source": [
    "# Optionally, save the filtered data to a new Excel file\n",
    "filtered_df.to_excel('filtered_data_2022.xlsx', index=False)"
   ]
  }
 ],
 "metadata": {
  "kernelspec": {
   "display_name": "Python 3",
   "language": "python",
   "name": "python3"
  },
  "language_info": {
   "codemirror_mode": {
    "name": "ipython",
    "version": 3
   },
   "file_extension": ".py",
   "mimetype": "text/x-python",
   "name": "python",
   "nbconvert_exporter": "python",
   "pygments_lexer": "ipython3",
   "version": "3.10.11"
  }
 },
 "nbformat": 4,
 "nbformat_minor": 2
}
