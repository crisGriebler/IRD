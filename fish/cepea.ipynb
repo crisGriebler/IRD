{
 "cells": [
  {
   "cell_type": "code",
   "execution_count": null,
   "metadata": {},
   "outputs": [],
   "source": [
    "import matplotlib.cm as cm\n",
    "import matplotlib.pyplot as plt\n",
    "import numpy as np\n",
    "import pandas as pd\n",
    "import plotly.express as px\n",
    "import xlsxwriter\n",
    "from tabulate import tabulate\n",
    "import seaborn as sns\n",
    "\n",
    "from sklearn.cluster import KMeans\n",
    "from sklearn.metrics import silhouette_samples, silhouette_score\n",
    "from sklearn.preprocessing import MinMaxScaler\n",
    "\n",
    "# Required Libraries\n",
    "import os\n"
   ]
  },
  {
   "cell_type": "code",
   "execution_count": null,
   "metadata": {},
   "outputs": [],
   "source": [
    "\n",
    "# Load the Excel file\n",
    "file_path = 'path_to_your_file.xlsx'  # Replace with the path to your Excel file\n",
    "df = pd.read_excel(file_path, header=3)  # header=3 means the 4th line is the header (0-indexed)\n",
    "\n",
    "# Display the first few rows to check the data\n",
    "print(\"Data Loaded:\")\n",
    "print(df.head())\n",
    "\n",
    "# Filter the data for dates in the year 2022\n",
    "df['Date'] = pd.to_datetime(df['Date'])  # Ensure the 'Date' column is in datetime format\n",
    "filtered_df = df[df['Date'].dt.year == 2022]\n",
    "\n",
    "# Display the filtered data\n",
    "print(\"Filtered Data:\")\n",
    "print(filtered_df)\n",
    "\n",
    "# Optionally, save the filtered data to a new Excel file\n",
    "filtered_df.to_excel('filtered_data_2022.xlsx', index=False)"
   ]
  }
 ],
 "metadata": {
  "language_info": {
   "name": "python"
  }
 },
 "nbformat": 4,
 "nbformat_minor": 2
}
