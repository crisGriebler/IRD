{
 "cells": [
  {
   "cell_type": "code",
   "execution_count": 1,
   "metadata": {},
   "outputs": [],
   "source": [
    "import pandas as pd\n",
    "import matplotlib as plt\n",
    "import numpy as np\n",
    "import statsmodels.api as sm\n",
    "from statsmodels.graphics.tsaplots import plot_acf, plot_pacf\n",
    "from statsmodels.tsa.arima_model import ARIMA\n",
    "from statsmodels.tsa.stattools import adfuller\n",
    "from numpy import log\n",
    "from sklearn.metrics import mean_squared_error\n",
    "from statsmodels.tsa.stattools import acf\n",
    "from datetime import datetime, timedelta"
   ]
  },
  {
   "cell_type": "code",
   "execution_count": 2,
   "metadata": {},
   "outputs": [
    {
     "name": "stdout",
     "output_type": "stream",
     "text": [
      "   Index   peso  comprimento_Total  comprimento_Padrao comprimento_Cabeça  \\\n",
      "0      1  51.45               14.3                12.2                  4   \n",
      "1      2  37.15               12.4                10.9                3.8   \n",
      "2      3  47.26               13.7                11.2                3.4   \n",
      "3      4  36.67               12.9                11.1                3.7   \n",
      "4      5  45.48               13.2                11.3                3.8   \n",
      "5      6  36.77               12.5                10.8                3.2   \n",
      "6      7  32.79               12.0                10.2                3.4   \n",
      "7      8  35.52               12.4                10.8                3.4   \n",
      "8      9  35.58               12.3                11.0                3.4   \n",
      "9     10  42.88               13.2                11.2                3.8   \n",
      "\n",
      "   altura  espessura       data  \n",
      "0     4.1        1.9 2024-02-28  \n",
      "1     3.2        1.2 2024-02-28  \n",
      "2     4.0        1.7 2024-02-28  \n",
      "3     3.7        1.6 2024-02-28  \n",
      "4     4.5        1.6 2024-02-28  \n",
      "5     3.9        1.8 2024-02-28  \n",
      "6     3.7        1.7 2024-02-28  \n",
      "7     4.0        1.9 2024-02-28  \n",
      "8     3.7        1.7 2024-02-28  \n",
      "9     4.1        1.9 2024-02-28  \n"
     ]
    }
   ],
   "source": [
    "#função para tratar campo data\n",
    "def parser(x):\n",
    "    return pd.datetime.strptime('190'+x, '%Y-%m')\n",
    "\n",
    "#Agora vamos importar nosso arquivo \n",
    "df1 = pd.read_excel('biometria.xlsx', sheet_name='Página1')\n",
    "print(df1.head(10))"
   ]
  },
  {
   "cell_type": "code",
   "execution_count": 3,
   "metadata": {},
   "outputs": [
    {
     "data": {
      "text/html": [
       "<div>\n",
       "<style scoped>\n",
       "    .dataframe tbody tr th:only-of-type {\n",
       "        vertical-align: middle;\n",
       "    }\n",
       "\n",
       "    .dataframe tbody tr th {\n",
       "        vertical-align: top;\n",
       "    }\n",
       "\n",
       "    .dataframe thead th {\n",
       "        text-align: right;\n",
       "    }\n",
       "</style>\n",
       "<table border=\"1\" class=\"dataframe\">\n",
       "  <thead>\n",
       "    <tr style=\"text-align: right;\">\n",
       "      <th></th>\n",
       "      <th>peso</th>\n",
       "      <th>comprimento_Total</th>\n",
       "      <th>comprimento_Padrao</th>\n",
       "      <th>comprimento_Cabeça</th>\n",
       "      <th>altura</th>\n",
       "      <th>espessura</th>\n",
       "    </tr>\n",
       "  </thead>\n",
       "  <tbody>\n",
       "    <tr>\n",
       "      <th>0</th>\n",
       "      <td>51.45</td>\n",
       "      <td>14.3</td>\n",
       "      <td>12.2</td>\n",
       "      <td>4</td>\n",
       "      <td>4.1</td>\n",
       "      <td>1.9</td>\n",
       "    </tr>\n",
       "    <tr>\n",
       "      <th>1</th>\n",
       "      <td>37.15</td>\n",
       "      <td>12.4</td>\n",
       "      <td>10.9</td>\n",
       "      <td>3.8</td>\n",
       "      <td>3.2</td>\n",
       "      <td>1.2</td>\n",
       "    </tr>\n",
       "    <tr>\n",
       "      <th>2</th>\n",
       "      <td>47.26</td>\n",
       "      <td>13.7</td>\n",
       "      <td>11.2</td>\n",
       "      <td>3.4</td>\n",
       "      <td>4.0</td>\n",
       "      <td>1.7</td>\n",
       "    </tr>\n",
       "    <tr>\n",
       "      <th>3</th>\n",
       "      <td>36.67</td>\n",
       "      <td>12.9</td>\n",
       "      <td>11.1</td>\n",
       "      <td>3.7</td>\n",
       "      <td>3.7</td>\n",
       "      <td>1.6</td>\n",
       "    </tr>\n",
       "    <tr>\n",
       "      <th>4</th>\n",
       "      <td>45.48</td>\n",
       "      <td>13.2</td>\n",
       "      <td>11.3</td>\n",
       "      <td>3.8</td>\n",
       "      <td>4.5</td>\n",
       "      <td>1.6</td>\n",
       "    </tr>\n",
       "  </tbody>\n",
       "</table>\n",
       "</div>"
      ],
      "text/plain": [
       "    peso  comprimento_Total  comprimento_Padrao comprimento_Cabeça  altura  \\\n",
       "0  51.45               14.3                12.2                  4     4.1   \n",
       "1  37.15               12.4                10.9                3.8     3.2   \n",
       "2  47.26               13.7                11.2                3.4     4.0   \n",
       "3  36.67               12.9                11.1                3.7     3.7   \n",
       "4  45.48               13.2                11.3                3.8     4.5   \n",
       "\n",
       "   espessura  \n",
       "0        1.9  \n",
       "1        1.2  \n",
       "2        1.7  \n",
       "3        1.6  \n",
       "4        1.6  "
      ]
     },
     "execution_count": 3,
     "metadata": {},
     "output_type": "execute_result"
    }
   ],
   "source": [
    "df1 = df1.drop(columns=[\n",
    "'data', \n",
    "'Index'\n",
    "])\n",
    "df1.head()"
   ]
  },
  {
   "cell_type": "code",
   "execution_count": 4,
   "metadata": {},
   "outputs": [
    {
     "data": {
      "text/html": [
       "<style type=\"text/css\">\n",
       "#T_7b29c_row9_col1 {\n",
       "  background-color: lightgreen;\n",
       "}\n",
       "</style>\n",
       "<table id=\"T_7b29c\">\n",
       "  <thead>\n",
       "    <tr>\n",
       "      <th class=\"blank level0\" >&nbsp;</th>\n",
       "      <th id=\"T_7b29c_level0_col0\" class=\"col_heading level0 col0\" >Description</th>\n",
       "      <th id=\"T_7b29c_level0_col1\" class=\"col_heading level0 col1\" >Value</th>\n",
       "    </tr>\n",
       "  </thead>\n",
       "  <tbody>\n",
       "    <tr>\n",
       "      <th id=\"T_7b29c_level0_row0\" class=\"row_heading level0 row0\" >0</th>\n",
       "      <td id=\"T_7b29c_row0_col0\" class=\"data row0 col0\" >Session id</td>\n",
       "      <td id=\"T_7b29c_row0_col1\" class=\"data row0 col1\" >5372</td>\n",
       "    </tr>\n",
       "    <tr>\n",
       "      <th id=\"T_7b29c_level0_row1\" class=\"row_heading level0 row1\" >1</th>\n",
       "      <td id=\"T_7b29c_row1_col0\" class=\"data row1 col0\" >Target</td>\n",
       "      <td id=\"T_7b29c_row1_col1\" class=\"data row1 col1\" >peso</td>\n",
       "    </tr>\n",
       "    <tr>\n",
       "      <th id=\"T_7b29c_level0_row2\" class=\"row_heading level0 row2\" >2</th>\n",
       "      <td id=\"T_7b29c_row2_col0\" class=\"data row2 col0\" >Target type</td>\n",
       "      <td id=\"T_7b29c_row2_col1\" class=\"data row2 col1\" >Regression</td>\n",
       "    </tr>\n",
       "    <tr>\n",
       "      <th id=\"T_7b29c_level0_row3\" class=\"row_heading level0 row3\" >3</th>\n",
       "      <td id=\"T_7b29c_row3_col0\" class=\"data row3 col0\" >Original data shape</td>\n",
       "      <td id=\"T_7b29c_row3_col1\" class=\"data row3 col1\" >(360, 6)</td>\n",
       "    </tr>\n",
       "    <tr>\n",
       "      <th id=\"T_7b29c_level0_row4\" class=\"row_heading level0 row4\" >4</th>\n",
       "      <td id=\"T_7b29c_row4_col0\" class=\"data row4 col0\" >Transformed data shape</td>\n",
       "      <td id=\"T_7b29c_row4_col1\" class=\"data row4 col1\" >(360, 6)</td>\n",
       "    </tr>\n",
       "    <tr>\n",
       "      <th id=\"T_7b29c_level0_row5\" class=\"row_heading level0 row5\" >5</th>\n",
       "      <td id=\"T_7b29c_row5_col0\" class=\"data row5 col0\" >Transformed train set shape</td>\n",
       "      <td id=\"T_7b29c_row5_col1\" class=\"data row5 col1\" >(251, 6)</td>\n",
       "    </tr>\n",
       "    <tr>\n",
       "      <th id=\"T_7b29c_level0_row6\" class=\"row_heading level0 row6\" >6</th>\n",
       "      <td id=\"T_7b29c_row6_col0\" class=\"data row6 col0\" >Transformed test set shape</td>\n",
       "      <td id=\"T_7b29c_row6_col1\" class=\"data row6 col1\" >(109, 6)</td>\n",
       "    </tr>\n",
       "    <tr>\n",
       "      <th id=\"T_7b29c_level0_row7\" class=\"row_heading level0 row7\" >7</th>\n",
       "      <td id=\"T_7b29c_row7_col0\" class=\"data row7 col0\" >Numeric features</td>\n",
       "      <td id=\"T_7b29c_row7_col1\" class=\"data row7 col1\" >4</td>\n",
       "    </tr>\n",
       "    <tr>\n",
       "      <th id=\"T_7b29c_level0_row8\" class=\"row_heading level0 row8\" >8</th>\n",
       "      <td id=\"T_7b29c_row8_col0\" class=\"data row8 col0\" >Categorical features</td>\n",
       "      <td id=\"T_7b29c_row8_col1\" class=\"data row8 col1\" >1</td>\n",
       "    </tr>\n",
       "    <tr>\n",
       "      <th id=\"T_7b29c_level0_row9\" class=\"row_heading level0 row9\" >9</th>\n",
       "      <td id=\"T_7b29c_row9_col0\" class=\"data row9 col0\" >Preprocess</td>\n",
       "      <td id=\"T_7b29c_row9_col1\" class=\"data row9 col1\" >True</td>\n",
       "    </tr>\n",
       "    <tr>\n",
       "      <th id=\"T_7b29c_level0_row10\" class=\"row_heading level0 row10\" >10</th>\n",
       "      <td id=\"T_7b29c_row10_col0\" class=\"data row10 col0\" >Imputation type</td>\n",
       "      <td id=\"T_7b29c_row10_col1\" class=\"data row10 col1\" >simple</td>\n",
       "    </tr>\n",
       "    <tr>\n",
       "      <th id=\"T_7b29c_level0_row11\" class=\"row_heading level0 row11\" >11</th>\n",
       "      <td id=\"T_7b29c_row11_col0\" class=\"data row11 col0\" >Numeric imputation</td>\n",
       "      <td id=\"T_7b29c_row11_col1\" class=\"data row11 col1\" >mean</td>\n",
       "    </tr>\n",
       "    <tr>\n",
       "      <th id=\"T_7b29c_level0_row12\" class=\"row_heading level0 row12\" >12</th>\n",
       "      <td id=\"T_7b29c_row12_col0\" class=\"data row12 col0\" >Categorical imputation</td>\n",
       "      <td id=\"T_7b29c_row12_col1\" class=\"data row12 col1\" >mode</td>\n",
       "    </tr>\n",
       "    <tr>\n",
       "      <th id=\"T_7b29c_level0_row13\" class=\"row_heading level0 row13\" >13</th>\n",
       "      <td id=\"T_7b29c_row13_col0\" class=\"data row13 col0\" >Maximum one-hot encoding</td>\n",
       "      <td id=\"T_7b29c_row13_col1\" class=\"data row13 col1\" >25</td>\n",
       "    </tr>\n",
       "    <tr>\n",
       "      <th id=\"T_7b29c_level0_row14\" class=\"row_heading level0 row14\" >14</th>\n",
       "      <td id=\"T_7b29c_row14_col0\" class=\"data row14 col0\" >Encoding method</td>\n",
       "      <td id=\"T_7b29c_row14_col1\" class=\"data row14 col1\" >None</td>\n",
       "    </tr>\n",
       "    <tr>\n",
       "      <th id=\"T_7b29c_level0_row15\" class=\"row_heading level0 row15\" >15</th>\n",
       "      <td id=\"T_7b29c_row15_col0\" class=\"data row15 col0\" >Fold Generator</td>\n",
       "      <td id=\"T_7b29c_row15_col1\" class=\"data row15 col1\" >KFold</td>\n",
       "    </tr>\n",
       "    <tr>\n",
       "      <th id=\"T_7b29c_level0_row16\" class=\"row_heading level0 row16\" >16</th>\n",
       "      <td id=\"T_7b29c_row16_col0\" class=\"data row16 col0\" >Fold Number</td>\n",
       "      <td id=\"T_7b29c_row16_col1\" class=\"data row16 col1\" >10</td>\n",
       "    </tr>\n",
       "    <tr>\n",
       "      <th id=\"T_7b29c_level0_row17\" class=\"row_heading level0 row17\" >17</th>\n",
       "      <td id=\"T_7b29c_row17_col0\" class=\"data row17 col0\" >CPU Jobs</td>\n",
       "      <td id=\"T_7b29c_row17_col1\" class=\"data row17 col1\" >-1</td>\n",
       "    </tr>\n",
       "    <tr>\n",
       "      <th id=\"T_7b29c_level0_row18\" class=\"row_heading level0 row18\" >18</th>\n",
       "      <td id=\"T_7b29c_row18_col0\" class=\"data row18 col0\" >Use GPU</td>\n",
       "      <td id=\"T_7b29c_row18_col1\" class=\"data row18 col1\" >False</td>\n",
       "    </tr>\n",
       "    <tr>\n",
       "      <th id=\"T_7b29c_level0_row19\" class=\"row_heading level0 row19\" >19</th>\n",
       "      <td id=\"T_7b29c_row19_col0\" class=\"data row19 col0\" >Log Experiment</td>\n",
       "      <td id=\"T_7b29c_row19_col1\" class=\"data row19 col1\" >False</td>\n",
       "    </tr>\n",
       "    <tr>\n",
       "      <th id=\"T_7b29c_level0_row20\" class=\"row_heading level0 row20\" >20</th>\n",
       "      <td id=\"T_7b29c_row20_col0\" class=\"data row20 col0\" >Experiment Name</td>\n",
       "      <td id=\"T_7b29c_row20_col1\" class=\"data row20 col1\" >reg-default-name</td>\n",
       "    </tr>\n",
       "    <tr>\n",
       "      <th id=\"T_7b29c_level0_row21\" class=\"row_heading level0 row21\" >21</th>\n",
       "      <td id=\"T_7b29c_row21_col0\" class=\"data row21 col0\" >USI</td>\n",
       "      <td id=\"T_7b29c_row21_col1\" class=\"data row21 col1\" >7045</td>\n",
       "    </tr>\n",
       "  </tbody>\n",
       "</table>\n"
      ],
      "text/plain": [
       "<pandas.io.formats.style.Styler at 0x12530bf7dc0>"
      ]
     },
     "metadata": {},
     "output_type": "display_data"
    },
    {
     "data": {
      "text/html": [],
      "text/plain": [
       "<IPython.core.display.HTML object>"
      ]
     },
     "metadata": {},
     "output_type": "display_data"
    },
    {
     "data": {
      "text/html": [
       "<style type=\"text/css\">\n",
       "#T_5ef52 th {\n",
       "  text-align: left;\n",
       "}\n",
       "#T_5ef52_row0_col0, #T_5ef52_row0_col1, #T_5ef52_row0_col6, #T_5ef52_row1_col0, #T_5ef52_row1_col2, #T_5ef52_row1_col3, #T_5ef52_row1_col4, #T_5ef52_row1_col5, #T_5ef52_row2_col0, #T_5ef52_row2_col1, #T_5ef52_row2_col2, #T_5ef52_row2_col3, #T_5ef52_row2_col4, #T_5ef52_row2_col5, #T_5ef52_row2_col6, #T_5ef52_row3_col0, #T_5ef52_row3_col1, #T_5ef52_row3_col2, #T_5ef52_row3_col3, #T_5ef52_row3_col4, #T_5ef52_row3_col5, #T_5ef52_row3_col6, #T_5ef52_row4_col0, #T_5ef52_row4_col1, #T_5ef52_row4_col2, #T_5ef52_row4_col3, #T_5ef52_row4_col4, #T_5ef52_row4_col5, #T_5ef52_row4_col6, #T_5ef52_row5_col0, #T_5ef52_row5_col1, #T_5ef52_row5_col2, #T_5ef52_row5_col3, #T_5ef52_row5_col4, #T_5ef52_row5_col5, #T_5ef52_row5_col6, #T_5ef52_row6_col0, #T_5ef52_row6_col1, #T_5ef52_row6_col2, #T_5ef52_row6_col3, #T_5ef52_row6_col4, #T_5ef52_row6_col5, #T_5ef52_row6_col6, #T_5ef52_row7_col0, #T_5ef52_row7_col1, #T_5ef52_row7_col2, #T_5ef52_row7_col3, #T_5ef52_row7_col4, #T_5ef52_row7_col5, #T_5ef52_row7_col6, #T_5ef52_row8_col0, #T_5ef52_row8_col1, #T_5ef52_row8_col2, #T_5ef52_row8_col3, #T_5ef52_row8_col4, #T_5ef52_row8_col5, #T_5ef52_row8_col6, #T_5ef52_row9_col0, #T_5ef52_row9_col1, #T_5ef52_row9_col2, #T_5ef52_row9_col3, #T_5ef52_row9_col4, #T_5ef52_row9_col5, #T_5ef52_row9_col6, #T_5ef52_row10_col0, #T_5ef52_row10_col1, #T_5ef52_row10_col2, #T_5ef52_row10_col3, #T_5ef52_row10_col4, #T_5ef52_row10_col5, #T_5ef52_row10_col6, #T_5ef52_row11_col0, #T_5ef52_row11_col1, #T_5ef52_row11_col2, #T_5ef52_row11_col3, #T_5ef52_row11_col4, #T_5ef52_row11_col5, #T_5ef52_row11_col6, #T_5ef52_row12_col0, #T_5ef52_row12_col1, #T_5ef52_row12_col2, #T_5ef52_row12_col3, #T_5ef52_row12_col4, #T_5ef52_row12_col5, #T_5ef52_row12_col6, #T_5ef52_row13_col0, #T_5ef52_row13_col1, #T_5ef52_row13_col2, #T_5ef52_row13_col3, #T_5ef52_row13_col4, #T_5ef52_row13_col5, #T_5ef52_row13_col6, #T_5ef52_row14_col0, #T_5ef52_row14_col1, #T_5ef52_row14_col2, #T_5ef52_row14_col3, #T_5ef52_row14_col4, #T_5ef52_row14_col5, #T_5ef52_row14_col6, #T_5ef52_row15_col0, #T_5ef52_row15_col1, #T_5ef52_row15_col2, #T_5ef52_row15_col3, #T_5ef52_row15_col4, #T_5ef52_row15_col5, #T_5ef52_row15_col6, #T_5ef52_row16_col0, #T_5ef52_row16_col1, #T_5ef52_row16_col2, #T_5ef52_row16_col3, #T_5ef52_row16_col4, #T_5ef52_row16_col5, #T_5ef52_row16_col6, #T_5ef52_row17_col0, #T_5ef52_row17_col1, #T_5ef52_row17_col2, #T_5ef52_row17_col3, #T_5ef52_row17_col4, #T_5ef52_row17_col5, #T_5ef52_row17_col6, #T_5ef52_row18_col0, #T_5ef52_row18_col1, #T_5ef52_row18_col2, #T_5ef52_row18_col3, #T_5ef52_row18_col4, #T_5ef52_row18_col5, #T_5ef52_row18_col6 {\n",
       "  text-align: left;\n",
       "}\n",
       "#T_5ef52_row0_col2, #T_5ef52_row0_col3, #T_5ef52_row0_col4, #T_5ef52_row0_col5, #T_5ef52_row1_col1, #T_5ef52_row1_col6 {\n",
       "  text-align: left;\n",
       "  background-color: yellow;\n",
       "}\n",
       "#T_5ef52_row0_col7, #T_5ef52_row1_col7, #T_5ef52_row2_col7, #T_5ef52_row3_col7, #T_5ef52_row4_col7, #T_5ef52_row5_col7, #T_5ef52_row6_col7, #T_5ef52_row7_col7, #T_5ef52_row8_col7, #T_5ef52_row9_col7, #T_5ef52_row10_col7, #T_5ef52_row11_col7, #T_5ef52_row12_col7, #T_5ef52_row13_col7, #T_5ef52_row14_col7, #T_5ef52_row15_col7, #T_5ef52_row16_col7, #T_5ef52_row18_col7 {\n",
       "  text-align: left;\n",
       "  background-color: lightgrey;\n",
       "}\n",
       "#T_5ef52_row17_col7 {\n",
       "  text-align: left;\n",
       "  background-color: yellow;\n",
       "  background-color: lightgrey;\n",
       "}\n",
       "</style>\n",
       "<table id=\"T_5ef52\">\n",
       "  <thead>\n",
       "    <tr>\n",
       "      <th class=\"blank level0\" >&nbsp;</th>\n",
       "      <th id=\"T_5ef52_level0_col0\" class=\"col_heading level0 col0\" >Model</th>\n",
       "      <th id=\"T_5ef52_level0_col1\" class=\"col_heading level0 col1\" >MAE</th>\n",
       "      <th id=\"T_5ef52_level0_col2\" class=\"col_heading level0 col2\" >MSE</th>\n",
       "      <th id=\"T_5ef52_level0_col3\" class=\"col_heading level0 col3\" >RMSE</th>\n",
       "      <th id=\"T_5ef52_level0_col4\" class=\"col_heading level0 col4\" >R2</th>\n",
       "      <th id=\"T_5ef52_level0_col5\" class=\"col_heading level0 col5\" >RMSLE</th>\n",
       "      <th id=\"T_5ef52_level0_col6\" class=\"col_heading level0 col6\" >MAPE</th>\n",
       "      <th id=\"T_5ef52_level0_col7\" class=\"col_heading level0 col7\" >TT (Sec)</th>\n",
       "    </tr>\n",
       "  </thead>\n",
       "  <tbody>\n",
       "    <tr>\n",
       "      <th id=\"T_5ef52_level0_row0\" class=\"row_heading level0 row0\" >rf</th>\n",
       "      <td id=\"T_5ef52_row0_col0\" class=\"data row0 col0\" >Random Forest Regressor</td>\n",
       "      <td id=\"T_5ef52_row0_col1\" class=\"data row0 col1\" >3.9531</td>\n",
       "      <td id=\"T_5ef52_row0_col2\" class=\"data row0 col2\" >31.0741</td>\n",
       "      <td id=\"T_5ef52_row0_col3\" class=\"data row0 col3\" >5.5164</td>\n",
       "      <td id=\"T_5ef52_row0_col4\" class=\"data row0 col4\" >0.9781</td>\n",
       "      <td id=\"T_5ef52_row0_col5\" class=\"data row0 col5\" >0.0563</td>\n",
       "      <td id=\"T_5ef52_row0_col6\" class=\"data row0 col6\" >0.0459</td>\n",
       "      <td id=\"T_5ef52_row0_col7\" class=\"data row0 col7\" >0.1840</td>\n",
       "    </tr>\n",
       "    <tr>\n",
       "      <th id=\"T_5ef52_level0_row1\" class=\"row_heading level0 row1\" >et</th>\n",
       "      <td id=\"T_5ef52_row1_col0\" class=\"data row1 col0\" >Extra Trees Regressor</td>\n",
       "      <td id=\"T_5ef52_row1_col1\" class=\"data row1 col1\" >3.9200</td>\n",
       "      <td id=\"T_5ef52_row1_col2\" class=\"data row1 col2\" >32.6407</td>\n",
       "      <td id=\"T_5ef52_row1_col3\" class=\"data row1 col3\" >5.6401</td>\n",
       "      <td id=\"T_5ef52_row1_col4\" class=\"data row1 col4\" >0.9769</td>\n",
       "      <td id=\"T_5ef52_row1_col5\" class=\"data row1 col5\" >0.0564</td>\n",
       "      <td id=\"T_5ef52_row1_col6\" class=\"data row1 col6\" >0.0450</td>\n",
       "      <td id=\"T_5ef52_row1_col7\" class=\"data row1 col7\" >0.1390</td>\n",
       "    </tr>\n",
       "    <tr>\n",
       "      <th id=\"T_5ef52_level0_row2\" class=\"row_heading level0 row2\" >lightgbm</th>\n",
       "      <td id=\"T_5ef52_row2_col0\" class=\"data row2 col0\" >Light Gradient Boosting Machine</td>\n",
       "      <td id=\"T_5ef52_row2_col1\" class=\"data row2 col1\" >4.2834</td>\n",
       "      <td id=\"T_5ef52_row2_col2\" class=\"data row2 col2\" >35.8870</td>\n",
       "      <td id=\"T_5ef52_row2_col3\" class=\"data row2 col3\" >5.8896</td>\n",
       "      <td id=\"T_5ef52_row2_col4\" class=\"data row2 col4\" >0.9751</td>\n",
       "      <td id=\"T_5ef52_row2_col5\" class=\"data row2 col5\" >0.0612</td>\n",
       "      <td id=\"T_5ef52_row2_col6\" class=\"data row2 col6\" >0.0504</td>\n",
       "      <td id=\"T_5ef52_row2_col7\" class=\"data row2 col7\" >0.1380</td>\n",
       "    </tr>\n",
       "    <tr>\n",
       "      <th id=\"T_5ef52_level0_row3\" class=\"row_heading level0 row3\" >gbr</th>\n",
       "      <td id=\"T_5ef52_row3_col0\" class=\"data row3 col0\" >Gradient Boosting Regressor</td>\n",
       "      <td id=\"T_5ef52_row3_col1\" class=\"data row3 col1\" >4.2835</td>\n",
       "      <td id=\"T_5ef52_row3_col2\" class=\"data row3 col2\" >36.6478</td>\n",
       "      <td id=\"T_5ef52_row3_col3\" class=\"data row3 col3\" >6.0086</td>\n",
       "      <td id=\"T_5ef52_row3_col4\" class=\"data row3 col4\" >0.9748</td>\n",
       "      <td id=\"T_5ef52_row3_col5\" class=\"data row3 col5\" >0.0607</td>\n",
       "      <td id=\"T_5ef52_row3_col6\" class=\"data row3 col6\" >0.0494</td>\n",
       "      <td id=\"T_5ef52_row3_col7\" class=\"data row3 col7\" >0.1110</td>\n",
       "    </tr>\n",
       "    <tr>\n",
       "      <th id=\"T_5ef52_level0_row4\" class=\"row_heading level0 row4\" >ada</th>\n",
       "      <td id=\"T_5ef52_row4_col0\" class=\"data row4 col0\" >AdaBoost Regressor</td>\n",
       "      <td id=\"T_5ef52_row4_col1\" class=\"data row4 col1\" >4.5508</td>\n",
       "      <td id=\"T_5ef52_row4_col2\" class=\"data row4 col2\" >38.5863</td>\n",
       "      <td id=\"T_5ef52_row4_col3\" class=\"data row4 col3\" >6.1364</td>\n",
       "      <td id=\"T_5ef52_row4_col4\" class=\"data row4 col4\" >0.9729</td>\n",
       "      <td id=\"T_5ef52_row4_col5\" class=\"data row4 col5\" >0.0722</td>\n",
       "      <td id=\"T_5ef52_row4_col6\" class=\"data row4 col6\" >0.0583</td>\n",
       "      <td id=\"T_5ef52_row4_col7\" class=\"data row4 col7\" >0.1080</td>\n",
       "    </tr>\n",
       "    <tr>\n",
       "      <th id=\"T_5ef52_level0_row5\" class=\"row_heading level0 row5\" >xgboost</th>\n",
       "      <td id=\"T_5ef52_row5_col0\" class=\"data row5 col0\" >Extreme Gradient Boosting</td>\n",
       "      <td id=\"T_5ef52_row5_col1\" class=\"data row5 col1\" >4.6020</td>\n",
       "      <td id=\"T_5ef52_row5_col2\" class=\"data row5 col2\" >45.2694</td>\n",
       "      <td id=\"T_5ef52_row5_col3\" class=\"data row5 col3\" >6.6749</td>\n",
       "      <td id=\"T_5ef52_row5_col4\" class=\"data row5 col4\" >0.9678</td>\n",
       "      <td id=\"T_5ef52_row5_col5\" class=\"data row5 col5\" >0.0673</td>\n",
       "      <td id=\"T_5ef52_row5_col6\" class=\"data row5 col6\" >0.0531</td>\n",
       "      <td id=\"T_5ef52_row5_col7\" class=\"data row5 col7\" >0.1700</td>\n",
       "    </tr>\n",
       "    <tr>\n",
       "      <th id=\"T_5ef52_level0_row6\" class=\"row_heading level0 row6\" >dt</th>\n",
       "      <td id=\"T_5ef52_row6_col0\" class=\"data row6 col0\" >Decision Tree Regressor</td>\n",
       "      <td id=\"T_5ef52_row6_col1\" class=\"data row6 col1\" >5.2205</td>\n",
       "      <td id=\"T_5ef52_row6_col2\" class=\"data row6 col2\" >56.6535</td>\n",
       "      <td id=\"T_5ef52_row6_col3\" class=\"data row6 col3\" >7.4420</td>\n",
       "      <td id=\"T_5ef52_row6_col4\" class=\"data row6 col4\" >0.9605</td>\n",
       "      <td id=\"T_5ef52_row6_col5\" class=\"data row6 col5\" >0.0740</td>\n",
       "      <td id=\"T_5ef52_row6_col6\" class=\"data row6 col6\" >0.0597</td>\n",
       "      <td id=\"T_5ef52_row6_col7\" class=\"data row6 col7\" >0.0490</td>\n",
       "    </tr>\n",
       "    <tr>\n",
       "      <th id=\"T_5ef52_level0_row7\" class=\"row_heading level0 row7\" >lasso</th>\n",
       "      <td id=\"T_5ef52_row7_col0\" class=\"data row7 col0\" >Lasso Regression</td>\n",
       "      <td id=\"T_5ef52_row7_col1\" class=\"data row7 col1\" >5.8908</td>\n",
       "      <td id=\"T_5ef52_row7_col2\" class=\"data row7 col2\" >72.0845</td>\n",
       "      <td id=\"T_5ef52_row7_col3\" class=\"data row7 col3\" >8.1436</td>\n",
       "      <td id=\"T_5ef52_row7_col4\" class=\"data row7 col4\" >0.9488</td>\n",
       "      <td id=\"T_5ef52_row7_col5\" class=\"data row7 col5\" >0.1007</td>\n",
       "      <td id=\"T_5ef52_row7_col6\" class=\"data row7 col6\" >0.0776</td>\n",
       "      <td id=\"T_5ef52_row7_col7\" class=\"data row7 col7\" >0.0480</td>\n",
       "    </tr>\n",
       "    <tr>\n",
       "      <th id=\"T_5ef52_level0_row8\" class=\"row_heading level0 row8\" >llar</th>\n",
       "      <td id=\"T_5ef52_row8_col0\" class=\"data row8 col0\" >Lasso Least Angle Regression</td>\n",
       "      <td id=\"T_5ef52_row8_col1\" class=\"data row8 col1\" >5.9189</td>\n",
       "      <td id=\"T_5ef52_row8_col2\" class=\"data row8 col2\" >75.9682</td>\n",
       "      <td id=\"T_5ef52_row8_col3\" class=\"data row8 col3\" >8.2696</td>\n",
       "      <td id=\"T_5ef52_row8_col4\" class=\"data row8 col4\" >0.9460</td>\n",
       "      <td id=\"T_5ef52_row8_col5\" class=\"data row8 col5\" >0.1013</td>\n",
       "      <td id=\"T_5ef52_row8_col6\" class=\"data row8 col6\" >0.0780</td>\n",
       "      <td id=\"T_5ef52_row8_col7\" class=\"data row8 col7\" >0.0500</td>\n",
       "    </tr>\n",
       "    <tr>\n",
       "      <th id=\"T_5ef52_level0_row9\" class=\"row_heading level0 row9\" >knn</th>\n",
       "      <td id=\"T_5ef52_row9_col0\" class=\"data row9 col0\" >K Neighbors Regressor</td>\n",
       "      <td id=\"T_5ef52_row9_col1\" class=\"data row9 col1\" >5.8529</td>\n",
       "      <td id=\"T_5ef52_row9_col2\" class=\"data row9 col2\" >105.8982</td>\n",
       "      <td id=\"T_5ef52_row9_col3\" class=\"data row9 col3\" >9.6302</td>\n",
       "      <td id=\"T_5ef52_row9_col4\" class=\"data row9 col4\" >0.9256</td>\n",
       "      <td id=\"T_5ef52_row9_col5\" class=\"data row9 col5\" >0.1057</td>\n",
       "      <td id=\"T_5ef52_row9_col6\" class=\"data row9 col6\" >0.0727</td>\n",
       "      <td id=\"T_5ef52_row9_col7\" class=\"data row9 col7\" >0.0550</td>\n",
       "    </tr>\n",
       "    <tr>\n",
       "      <th id=\"T_5ef52_level0_row10\" class=\"row_heading level0 row10\" >huber</th>\n",
       "      <td id=\"T_5ef52_row10_col0\" class=\"data row10 col0\" >Huber Regressor</td>\n",
       "      <td id=\"T_5ef52_row10_col1\" class=\"data row10 col1\" >6.3315</td>\n",
       "      <td id=\"T_5ef52_row10_col2\" class=\"data row10 col2\" >275.1582</td>\n",
       "      <td id=\"T_5ef52_row10_col3\" class=\"data row10 col3\" >11.1896</td>\n",
       "      <td id=\"T_5ef52_row10_col4\" class=\"data row10 col4\" >0.8026</td>\n",
       "      <td id=\"T_5ef52_row10_col5\" class=\"data row10 col5\" >0.1158</td>\n",
       "      <td id=\"T_5ef52_row10_col6\" class=\"data row10 col6\" >0.0844</td>\n",
       "      <td id=\"T_5ef52_row10_col7\" class=\"data row10 col7\" >0.0650</td>\n",
       "    </tr>\n",
       "    <tr>\n",
       "      <th id=\"T_5ef52_level0_row11\" class=\"row_heading level0 row11\" >omp</th>\n",
       "      <td id=\"T_5ef52_row11_col0\" class=\"data row11 col0\" >Orthogonal Matching Pursuit</td>\n",
       "      <td id=\"T_5ef52_row11_col1\" class=\"data row11 col1\" >12.7052</td>\n",
       "      <td id=\"T_5ef52_row11_col2\" class=\"data row11 col2\" >296.4915</td>\n",
       "      <td id=\"T_5ef52_row11_col3\" class=\"data row11 col3\" >17.1139</td>\n",
       "      <td id=\"T_5ef52_row11_col4\" class=\"data row11 col4\" >0.7935</td>\n",
       "      <td id=\"T_5ef52_row11_col5\" class=\"data row11 col5\" >0.2211</td>\n",
       "      <td id=\"T_5ef52_row11_col6\" class=\"data row11 col6\" >0.1795</td>\n",
       "      <td id=\"T_5ef52_row11_col7\" class=\"data row11 col7\" >0.0520</td>\n",
       "    </tr>\n",
       "    <tr>\n",
       "      <th id=\"T_5ef52_level0_row12\" class=\"row_heading level0 row12\" >lr</th>\n",
       "      <td id=\"T_5ef52_row12_col0\" class=\"data row12 col0\" >Linear Regression</td>\n",
       "      <td id=\"T_5ef52_row12_col1\" class=\"data row12 col1\" >6.5605</td>\n",
       "      <td id=\"T_5ef52_row12_col2\" class=\"data row12 col2\" >356.2989</td>\n",
       "      <td id=\"T_5ef52_row12_col3\" class=\"data row12 col3\" >11.9192</td>\n",
       "      <td id=\"T_5ef52_row12_col4\" class=\"data row12 col4\" >0.7437</td>\n",
       "      <td id=\"T_5ef52_row12_col5\" class=\"data row12 col5\" >0.1269</td>\n",
       "      <td id=\"T_5ef52_row12_col6\" class=\"data row12 col6\" >0.0906</td>\n",
       "      <td id=\"T_5ef52_row12_col7\" class=\"data row12 col7\" >0.7640</td>\n",
       "    </tr>\n",
       "    <tr>\n",
       "      <th id=\"T_5ef52_level0_row13\" class=\"row_heading level0 row13\" >lar</th>\n",
       "      <td id=\"T_5ef52_row13_col0\" class=\"data row13 col0\" >Least Angle Regression</td>\n",
       "      <td id=\"T_5ef52_row13_col1\" class=\"data row13 col1\" >6.5605</td>\n",
       "      <td id=\"T_5ef52_row13_col2\" class=\"data row13 col2\" >356.2989</td>\n",
       "      <td id=\"T_5ef52_row13_col3\" class=\"data row13 col3\" >11.9192</td>\n",
       "      <td id=\"T_5ef52_row13_col4\" class=\"data row13 col4\" >0.7437</td>\n",
       "      <td id=\"T_5ef52_row13_col5\" class=\"data row13 col5\" >0.1269</td>\n",
       "      <td id=\"T_5ef52_row13_col6\" class=\"data row13 col6\" >0.0906</td>\n",
       "      <td id=\"T_5ef52_row13_col7\" class=\"data row13 col7\" >0.0490</td>\n",
       "    </tr>\n",
       "    <tr>\n",
       "      <th id=\"T_5ef52_level0_row14\" class=\"row_heading level0 row14\" >ridge</th>\n",
       "      <td id=\"T_5ef52_row14_col0\" class=\"data row14 col0\" >Ridge Regression</td>\n",
       "      <td id=\"T_5ef52_row14_col1\" class=\"data row14 col1\" >6.6496</td>\n",
       "      <td id=\"T_5ef52_row14_col2\" class=\"data row14 col2\" >417.2182</td>\n",
       "      <td id=\"T_5ef52_row14_col3\" class=\"data row14 col3\" >12.4304</td>\n",
       "      <td id=\"T_5ef52_row14_col4\" class=\"data row14 col4\" >0.6998</td>\n",
       "      <td id=\"T_5ef52_row14_col5\" class=\"data row14 col5\" >0.1267</td>\n",
       "      <td id=\"T_5ef52_row14_col6\" class=\"data row14 col6\" >0.0915</td>\n",
       "      <td id=\"T_5ef52_row14_col7\" class=\"data row14 col7\" >0.0470</td>\n",
       "    </tr>\n",
       "    <tr>\n",
       "      <th id=\"T_5ef52_level0_row15\" class=\"row_heading level0 row15\" >br</th>\n",
       "      <td id=\"T_5ef52_row15_col0\" class=\"data row15 col0\" >Bayesian Ridge</td>\n",
       "      <td id=\"T_5ef52_row15_col1\" class=\"data row15 col1\" >6.6691</td>\n",
       "      <td id=\"T_5ef52_row15_col2\" class=\"data row15 col2\" >428.4786</td>\n",
       "      <td id=\"T_5ef52_row15_col3\" class=\"data row15 col3\" >12.5230</td>\n",
       "      <td id=\"T_5ef52_row15_col4\" class=\"data row15 col4\" >0.6917</td>\n",
       "      <td id=\"T_5ef52_row15_col5\" class=\"data row15 col5\" >0.1270</td>\n",
       "      <td id=\"T_5ef52_row15_col6\" class=\"data row15 col6\" >0.0918</td>\n",
       "      <td id=\"T_5ef52_row15_col7\" class=\"data row15 col7\" >0.0490</td>\n",
       "    </tr>\n",
       "    <tr>\n",
       "      <th id=\"T_5ef52_level0_row16\" class=\"row_heading level0 row16\" >en</th>\n",
       "      <td id=\"T_5ef52_row16_col0\" class=\"data row16 col0\" >Elastic Net</td>\n",
       "      <td id=\"T_5ef52_row16_col1\" class=\"data row16 col1\" >8.5505</td>\n",
       "      <td id=\"T_5ef52_row16_col2\" class=\"data row16 col2\" >586.2976</td>\n",
       "      <td id=\"T_5ef52_row16_col3\" class=\"data row16 col3\" >15.8497</td>\n",
       "      <td id=\"T_5ef52_row16_col4\" class=\"data row16 col4\" >0.5793</td>\n",
       "      <td id=\"T_5ef52_row16_col5\" class=\"data row16 col5\" >0.1437</td>\n",
       "      <td id=\"T_5ef52_row16_col6\" class=\"data row16 col6\" >0.1148</td>\n",
       "      <td id=\"T_5ef52_row16_col7\" class=\"data row16 col7\" >0.0540</td>\n",
       "    </tr>\n",
       "    <tr>\n",
       "      <th id=\"T_5ef52_level0_row17\" class=\"row_heading level0 row17\" >dummy</th>\n",
       "      <td id=\"T_5ef52_row17_col0\" class=\"data row17 col0\" >Dummy Regressor</td>\n",
       "      <td id=\"T_5ef52_row17_col1\" class=\"data row17 col1\" >33.0909</td>\n",
       "      <td id=\"T_5ef52_row17_col2\" class=\"data row17 col2\" >1514.4216</td>\n",
       "      <td id=\"T_5ef52_row17_col3\" class=\"data row17 col3\" >38.7725</td>\n",
       "      <td id=\"T_5ef52_row17_col4\" class=\"data row17 col4\" >-0.0342</td>\n",
       "      <td id=\"T_5ef52_row17_col5\" class=\"data row17 col5\" >0.5039</td>\n",
       "      <td id=\"T_5ef52_row17_col6\" class=\"data row17 col6\" >0.5281</td>\n",
       "      <td id=\"T_5ef52_row17_col7\" class=\"data row17 col7\" >0.0450</td>\n",
       "    </tr>\n",
       "    <tr>\n",
       "      <th id=\"T_5ef52_level0_row18\" class=\"row_heading level0 row18\" >par</th>\n",
       "      <td id=\"T_5ef52_row18_col0\" class=\"data row18 col0\" >Passive Aggressive Regressor</td>\n",
       "      <td id=\"T_5ef52_row18_col1\" class=\"data row18 col1\" >25.6610</td>\n",
       "      <td id=\"T_5ef52_row18_col2\" class=\"data row18 col2\" >2602.2927</td>\n",
       "      <td id=\"T_5ef52_row18_col3\" class=\"data row18 col3\" >39.3984</td>\n",
       "      <td id=\"T_5ef52_row18_col4\" class=\"data row18 col4\" >-0.8499</td>\n",
       "      <td id=\"T_5ef52_row18_col5\" class=\"data row18 col5\" >0.3697</td>\n",
       "      <td id=\"T_5ef52_row18_col6\" class=\"data row18 col6\" >0.3661</td>\n",
       "      <td id=\"T_5ef52_row18_col7\" class=\"data row18 col7\" >0.0500</td>\n",
       "    </tr>\n",
       "  </tbody>\n",
       "</table>\n"
      ],
      "text/plain": [
       "<pandas.io.formats.style.Styler at 0x1252bafc400>"
      ]
     },
     "metadata": {},
     "output_type": "display_data"
    },
    {
     "data": {
      "text/html": [],
      "text/plain": [
       "<IPython.core.display.HTML object>"
      ]
     },
     "metadata": {},
     "output_type": "display_data"
    }
   ],
   "source": [
    "#from pycaret.datasets import get_data\n",
    "#boston = get_data('boston')\n",
    "from pycaret.regression import *\n",
    "exp_name = setup(data = df1,  target = 'peso')\n",
    "best_model = compare_models()"
   ]
  },
  {
   "cell_type": "code",
   "execution_count": 5,
   "metadata": {},
   "outputs": [
    {
     "data": {
      "text/html": [],
      "text/plain": [
       "<IPython.core.display.HTML object>"
      ]
     },
     "metadata": {},
     "output_type": "display_data"
    },
    {
     "data": {
      "text/html": [],
      "text/plain": [
       "<IPython.core.display.HTML object>"
      ]
     },
     "metadata": {},
     "output_type": "display_data"
    },
    {
     "data": {
      "text/html": [],
      "text/plain": [
       "<IPython.core.display.HTML object>"
      ]
     },
     "metadata": {},
     "output_type": "display_data"
    }
   ],
   "source": [
    "rf = create_model('rf')"
   ]
  },
  {
   "cell_type": "code",
   "execution_count": 6,
   "metadata": {},
   "outputs": [
    {
     "data": {
      "text/html": [],
      "text/plain": [
       "<IPython.core.display.HTML object>"
      ]
     },
     "metadata": {},
     "output_type": "display_data"
    },
    {
     "data": {
      "image/png": "[encoded data removed]",
      "text/plain": [
       "<Figure size 800x550 with 1 Axes>"
      ]
     },
     "metadata": {},
     "output_type": "display_data"
    }
   ],
   "source": [
    "plot_model(rf, plot = 'error')"
   ]
  },
  {
   "cell_type": "code",
   "execution_count": 7,
   "metadata": {},
   "outputs": [
    {
     "data": {
      "text/html": [],
      "text/plain": [
       "<IPython.core.display.HTML object>"
      ]
     },
     "metadata": {},
     "output_type": "display_data"
    },
    {
     "data": {
      "image/png": "[encoded data removed]",
      "text/plain": [
       "<Figure size 800x550 with 1 Axes>"
      ]
     },
     "metadata": {},
     "output_type": "display_data"
    }
   ],
   "source": [
    "plot_model(rf, plot = 'learning')"
   ]
  },
  {
   "cell_type": "code",
   "execution_count": 8,
   "metadata": {},
   "outputs": [],
   "source": [
    "#plot_model(rf, plot = 'tree')"
   ]
  },
  {
   "cell_type": "code",
   "execution_count": 9,
   "metadata": {},
   "outputs": [
    {
     "data": {
      "application/vnd.jupyter.widget-view+json": {
       "model_id": "82a01681341743a6868a56313036b1b5",
       "version_major": 2,
       "version_minor": 0
      },
      "text/plain": [
       "interactive(children=(ToggleButtons(description='Plot Type:', icons=('',), options=(('Pipeline Plot', 'pipelin…"
      ]
     },
     "metadata": {},
     "output_type": "display_data"
    }
   ],
   "source": [
    "evaluate_model(rf)"
   ]
  },
  {
   "cell_type": "code",
   "execution_count": 10,
   "metadata": {},
   "outputs": [
    {
     "data": {
      "text/html": [],
      "text/plain": [
       "<IPython.core.display.HTML object>"
      ]
     },
     "metadata": {},
     "output_type": "display_data"
    }
   ],
   "source": [
    "pred_holdout = predict_model(rf)"
   ]
  },
  {
   "cell_type": "code",
   "execution_count": 11,
   "metadata": {},
   "outputs": [
    {
     "ename": "NameError",
     "evalue": "name 'unseen_dataframe' is not defined",
     "output_type": "error",
     "traceback": [
      "\u001b[1;31m---------------------------------------------------------------------------\u001b[0m",
      "\u001b[1;31mNameError\u001b[0m                                 Traceback (most recent call last)",
      "Cell \u001b[1;32mIn[11], line 1\u001b[0m\n\u001b[1;32m----> 1\u001b[0m pred_unseen \u001b[38;5;241m=\u001b[39m predict_model(rf, data \u001b[38;5;241m=\u001b[39m \u001b[43munseen_dataframe\u001b[49m)\n",
      "\u001b[1;31mNameError\u001b[0m: name 'unseen_dataframe' is not defined"
     ]
    }
   ],
   "source": [
    "#pred_unseen = predict_model(rf, data = unseen_dataframe)"
   ]
  },
  {
   "cell_type": "code",
   "execution_count": null,
   "metadata": {},
   "outputs": [],
   "source": []
  },
  {
   "cell_type": "code",
   "execution_count": null,
   "metadata": {},
   "outputs": [],
   "source": [
    "tuned_rf = tune_model(rf)"
   ]
  },
  {
   "cell_type": "code",
   "execution_count": null,
   "metadata": {},
   "outputs": [],
   "source": [
    "#theta = exp.create_model('theta')\n",
    "#exp.plot_model(plot = 'decomp',\n",
    "#               data_kwargs = {'type' : 'multiplicative'},\n",
    "#               fig_kwargs = {\"height\":500,\"width\":1000,\"template\": \"simple_white\",\"hoverinfo\":\"none\",\"big_data_threshold\":50})\n",
    "#exp.plot_model(estimator = theta, plot = 'forecast', \n",
    "#               data_kwargs = {'fh' : 8},\n",
    "#               fig_kwargs = {\"height\":500,\"width\":1000,\"template\": \"simple_white\",\"hoverinfo\":\"none\",\"big_data_threshold\":50})\n",
    "#exp.predict_model(theta, fh = 8)"
   ]
  },
  {
   "cell_type": "markdown",
   "metadata": {},
   "source": [
    "#### weight prediction \n",
    "#### Realizar um codigo padrao com avaliacao de modelos, tuning, evaluation, shuffle and save (retirar index)\n",
    "#### realizar predicao para espessura\n",
    "#### realizar a predicao do peso sem a variavel espessura\n",
    "####"
   ]
  }
 ],
 "metadata": {
  "kernelspec": {
   "display_name": "Python 3",
   "language": "python",
   "name": "python3"
  },
  "language_info": {
   "codemirror_mode": {
    "name": "ipython",
    "version": 3
   },
   "file_extension": ".py",
   "mimetype": "text/x-python",
   "name": "python",
   "nbconvert_exporter": "python",
   "pygments_lexer": "ipython3",
   "version": "3.10.11"
  }
 },
 "nbformat": 4,
 "nbformat_minor": 2
}
