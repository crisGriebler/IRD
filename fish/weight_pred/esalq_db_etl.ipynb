{
 "cells": [
  {
   "cell_type": "code",
   "execution_count": 1,
   "metadata": {},
   "outputs": [],
   "source": [
    "import pandas as pd\n",
    "import matplotlib as plt\n",
    "import numpy as np\n",
    "import statsmodels.api as sm\n",
    "from statsmodels.graphics.tsaplots import plot_acf, plot_pacf\n",
    "from statsmodels.tsa.arima_model import ARIMA\n",
    "from statsmodels.tsa.stattools import adfuller\n",
    "from numpy import log\n",
    "from sklearn.metrics import mean_squared_error\n",
    "from statsmodels.tsa.stattools import acf\n",
    "from datetime import datetime, timedelta"
   ]
  },
  {
   "cell_type": "code",
   "execution_count": 2,
   "metadata": {},
   "outputs": [
    {
     "name": "stdout",
     "output_type": "stream",
     "text": [
      "   Index   peso  comprimento_Total  comprimento_Padrao comprimento_Cabeça  \\\n",
      "0      1  51.45               14.3                12.2                  4   \n",
      "1      2  37.15               12.4                10.9                3.8   \n",
      "2      3  47.26               13.7                11.2                3.4   \n",
      "3      4  36.67               12.9                11.1                3.7   \n",
      "4      5  45.48               13.2                11.3                3.8   \n",
      "5      6  36.77               12.5                10.8                3.2   \n",
      "6      7  32.79               12.0                10.2                3.4   \n",
      "7      8  35.52               12.4                10.8                3.4   \n",
      "8      9  35.58               12.3                11.0                3.4   \n",
      "9     10  42.88               13.2                11.2                3.8   \n",
      "\n",
      "   altura  espessura       data  \n",
      "0     4.1        1.9 2024-02-28  \n",
      "1     3.2        1.2 2024-02-28  \n",
      "2     4.0        1.7 2024-02-28  \n",
      "3     3.7        1.6 2024-02-28  \n",
      "4     4.5        1.6 2024-02-28  \n",
      "5     3.9        1.8 2024-02-28  \n",
      "6     3.7        1.7 2024-02-28  \n",
      "7     4.0        1.9 2024-02-28  \n",
      "8     3.7        1.7 2024-02-28  \n",
      "9     4.1        1.9 2024-02-28  \n"
     ]
    }
   ],
   "source": [
    "#função para tratar campo data\n",
    "def parser(x):\n",
    "    return pd.datetime.strptime('190'+x, '%Y-%m')\n",
    "\n",
    "#Agora vamos importar nosso arquivo \n",
    "df1 = pd.read_excel('biometria.xlsx', sheet_name='Página1')\n",
    "print(df1.head(10))"
   ]
  },
  {
   "cell_type": "code",
   "execution_count": 3,
   "metadata": {},
   "outputs": [
    {
     "data": {
      "text/html": [
       "<div>\n",
       "<style scoped>\n",
       "    .dataframe tbody tr th:only-of-type {\n",
       "        vertical-align: middle;\n",
       "    }\n",
       "\n",
       "    .dataframe tbody tr th {\n",
       "        vertical-align: top;\n",
       "    }\n",
       "\n",
       "    .dataframe thead th {\n",
       "        text-align: right;\n",
       "    }\n",
       "</style>\n",
       "<table border=\"1\" class=\"dataframe\">\n",
       "  <thead>\n",
       "    <tr style=\"text-align: right;\">\n",
       "      <th></th>\n",
       "      <th>Index</th>\n",
       "      <th>peso</th>\n",
       "      <th>comprimento_Total</th>\n",
       "      <th>comprimento_Padrao</th>\n",
       "      <th>comprimento_Cabeça</th>\n",
       "      <th>altura</th>\n",
       "      <th>espessura</th>\n",
       "    </tr>\n",
       "  </thead>\n",
       "  <tbody>\n",
       "    <tr>\n",
       "      <th>0</th>\n",
       "      <td>1</td>\n",
       "      <td>51.45</td>\n",
       "      <td>14.3</td>\n",
       "      <td>12.2</td>\n",
       "      <td>4</td>\n",
       "      <td>4.1</td>\n",
       "      <td>1.9</td>\n",
       "    </tr>\n",
       "    <tr>\n",
       "      <th>1</th>\n",
       "      <td>2</td>\n",
       "      <td>37.15</td>\n",
       "      <td>12.4</td>\n",
       "      <td>10.9</td>\n",
       "      <td>3.8</td>\n",
       "      <td>3.2</td>\n",
       "      <td>1.2</td>\n",
       "    </tr>\n",
       "    <tr>\n",
       "      <th>2</th>\n",
       "      <td>3</td>\n",
       "      <td>47.26</td>\n",
       "      <td>13.7</td>\n",
       "      <td>11.2</td>\n",
       "      <td>3.4</td>\n",
       "      <td>4.0</td>\n",
       "      <td>1.7</td>\n",
       "    </tr>\n",
       "    <tr>\n",
       "      <th>3</th>\n",
       "      <td>4</td>\n",
       "      <td>36.67</td>\n",
       "      <td>12.9</td>\n",
       "      <td>11.1</td>\n",
       "      <td>3.7</td>\n",
       "      <td>3.7</td>\n",
       "      <td>1.6</td>\n",
       "    </tr>\n",
       "    <tr>\n",
       "      <th>4</th>\n",
       "      <td>5</td>\n",
       "      <td>45.48</td>\n",
       "      <td>13.2</td>\n",
       "      <td>11.3</td>\n",
       "      <td>3.8</td>\n",
       "      <td>4.5</td>\n",
       "      <td>1.6</td>\n",
       "    </tr>\n",
       "  </tbody>\n",
       "</table>\n",
       "</div>"
      ],
      "text/plain": [
       "   Index   peso  comprimento_Total  comprimento_Padrao comprimento_Cabeça  \\\n",
       "0      1  51.45               14.3                12.2                  4   \n",
       "1      2  37.15               12.4                10.9                3.8   \n",
       "2      3  47.26               13.7                11.2                3.4   \n",
       "3      4  36.67               12.9                11.1                3.7   \n",
       "4      5  45.48               13.2                11.3                3.8   \n",
       "\n",
       "   altura  espessura  \n",
       "0     4.1        1.9  \n",
       "1     3.2        1.2  \n",
       "2     4.0        1.7  \n",
       "3     3.7        1.6  \n",
       "4     4.5        1.6  "
      ]
     },
     "execution_count": 3,
     "metadata": {},
     "output_type": "execute_result"
    }
   ],
   "source": [
    "df1 = df1.drop(columns=[\n",
    "'data', \n",
    "'Index'\n",
    "])\n",
    "df1.head()"
   ]
  },
  {
   "cell_type": "code",
   "execution_count": 4,
   "metadata": {},
   "outputs": [
    {
     "data": {
      "text/html": [
       "<style type=\"text/css\">\n",
       "#T_ad6d8_row9_col1 {\n",
       "  background-color: lightgreen;\n",
       "}\n",
       "</style>\n",
       "<table id=\"T_ad6d8\">\n",
       "  <thead>\n",
       "    <tr>\n",
       "      <th class=\"blank level0\" >&nbsp;</th>\n",
       "      <th id=\"T_ad6d8_level0_col0\" class=\"col_heading level0 col0\" >Description</th>\n",
       "      <th id=\"T_ad6d8_level0_col1\" class=\"col_heading level0 col1\" >Value</th>\n",
       "    </tr>\n",
       "  </thead>\n",
       "  <tbody>\n",
       "    <tr>\n",
       "      <th id=\"T_ad6d8_level0_row0\" class=\"row_heading level0 row0\" >0</th>\n",
       "      <td id=\"T_ad6d8_row0_col0\" class=\"data row0 col0\" >Session id</td>\n",
       "      <td id=\"T_ad6d8_row0_col1\" class=\"data row0 col1\" >1390</td>\n",
       "    </tr>\n",
       "    <tr>\n",
       "      <th id=\"T_ad6d8_level0_row1\" class=\"row_heading level0 row1\" >1</th>\n",
       "      <td id=\"T_ad6d8_row1_col0\" class=\"data row1 col0\" >Target</td>\n",
       "      <td id=\"T_ad6d8_row1_col1\" class=\"data row1 col1\" >peso</td>\n",
       "    </tr>\n",
       "    <tr>\n",
       "      <th id=\"T_ad6d8_level0_row2\" class=\"row_heading level0 row2\" >2</th>\n",
       "      <td id=\"T_ad6d8_row2_col0\" class=\"data row2 col0\" >Target type</td>\n",
       "      <td id=\"T_ad6d8_row2_col1\" class=\"data row2 col1\" >Regression</td>\n",
       "    </tr>\n",
       "    <tr>\n",
       "      <th id=\"T_ad6d8_level0_row3\" class=\"row_heading level0 row3\" >3</th>\n",
       "      <td id=\"T_ad6d8_row3_col0\" class=\"data row3 col0\" >Original data shape</td>\n",
       "      <td id=\"T_ad6d8_row3_col1\" class=\"data row3 col1\" >(360, 7)</td>\n",
       "    </tr>\n",
       "    <tr>\n",
       "      <th id=\"T_ad6d8_level0_row4\" class=\"row_heading level0 row4\" >4</th>\n",
       "      <td id=\"T_ad6d8_row4_col0\" class=\"data row4 col0\" >Transformed data shape</td>\n",
       "      <td id=\"T_ad6d8_row4_col1\" class=\"data row4 col1\" >(360, 7)</td>\n",
       "    </tr>\n",
       "    <tr>\n",
       "      <th id=\"T_ad6d8_level0_row5\" class=\"row_heading level0 row5\" >5</th>\n",
       "      <td id=\"T_ad6d8_row5_col0\" class=\"data row5 col0\" >Transformed train set shape</td>\n",
       "      <td id=\"T_ad6d8_row5_col1\" class=\"data row5 col1\" >(251, 7)</td>\n",
       "    </tr>\n",
       "    <tr>\n",
       "      <th id=\"T_ad6d8_level0_row6\" class=\"row_heading level0 row6\" >6</th>\n",
       "      <td id=\"T_ad6d8_row6_col0\" class=\"data row6 col0\" >Transformed test set shape</td>\n",
       "      <td id=\"T_ad6d8_row6_col1\" class=\"data row6 col1\" >(109, 7)</td>\n",
       "    </tr>\n",
       "    <tr>\n",
       "      <th id=\"T_ad6d8_level0_row7\" class=\"row_heading level0 row7\" >7</th>\n",
       "      <td id=\"T_ad6d8_row7_col0\" class=\"data row7 col0\" >Numeric features</td>\n",
       "      <td id=\"T_ad6d8_row7_col1\" class=\"data row7 col1\" >5</td>\n",
       "    </tr>\n",
       "    <tr>\n",
       "      <th id=\"T_ad6d8_level0_row8\" class=\"row_heading level0 row8\" >8</th>\n",
       "      <td id=\"T_ad6d8_row8_col0\" class=\"data row8 col0\" >Categorical features</td>\n",
       "      <td id=\"T_ad6d8_row8_col1\" class=\"data row8 col1\" >1</td>\n",
       "    </tr>\n",
       "    <tr>\n",
       "      <th id=\"T_ad6d8_level0_row9\" class=\"row_heading level0 row9\" >9</th>\n",
       "      <td id=\"T_ad6d8_row9_col0\" class=\"data row9 col0\" >Preprocess</td>\n",
       "      <td id=\"T_ad6d8_row9_col1\" class=\"data row9 col1\" >True</td>\n",
       "    </tr>\n",
       "    <tr>\n",
       "      <th id=\"T_ad6d8_level0_row10\" class=\"row_heading level0 row10\" >10</th>\n",
       "      <td id=\"T_ad6d8_row10_col0\" class=\"data row10 col0\" >Imputation type</td>\n",
       "      <td id=\"T_ad6d8_row10_col1\" class=\"data row10 col1\" >simple</td>\n",
       "    </tr>\n",
       "    <tr>\n",
       "      <th id=\"T_ad6d8_level0_row11\" class=\"row_heading level0 row11\" >11</th>\n",
       "      <td id=\"T_ad6d8_row11_col0\" class=\"data row11 col0\" >Numeric imputation</td>\n",
       "      <td id=\"T_ad6d8_row11_col1\" class=\"data row11 col1\" >mean</td>\n",
       "    </tr>\n",
       "    <tr>\n",
       "      <th id=\"T_ad6d8_level0_row12\" class=\"row_heading level0 row12\" >12</th>\n",
       "      <td id=\"T_ad6d8_row12_col0\" class=\"data row12 col0\" >Categorical imputation</td>\n",
       "      <td id=\"T_ad6d8_row12_col1\" class=\"data row12 col1\" >mode</td>\n",
       "    </tr>\n",
       "    <tr>\n",
       "      <th id=\"T_ad6d8_level0_row13\" class=\"row_heading level0 row13\" >13</th>\n",
       "      <td id=\"T_ad6d8_row13_col0\" class=\"data row13 col0\" >Maximum one-hot encoding</td>\n",
       "      <td id=\"T_ad6d8_row13_col1\" class=\"data row13 col1\" >25</td>\n",
       "    </tr>\n",
       "    <tr>\n",
       "      <th id=\"T_ad6d8_level0_row14\" class=\"row_heading level0 row14\" >14</th>\n",
       "      <td id=\"T_ad6d8_row14_col0\" class=\"data row14 col0\" >Encoding method</td>\n",
       "      <td id=\"T_ad6d8_row14_col1\" class=\"data row14 col1\" >None</td>\n",
       "    </tr>\n",
       "    <tr>\n",
       "      <th id=\"T_ad6d8_level0_row15\" class=\"row_heading level0 row15\" >15</th>\n",
       "      <td id=\"T_ad6d8_row15_col0\" class=\"data row15 col0\" >Fold Generator</td>\n",
       "      <td id=\"T_ad6d8_row15_col1\" class=\"data row15 col1\" >KFold</td>\n",
       "    </tr>\n",
       "    <tr>\n",
       "      <th id=\"T_ad6d8_level0_row16\" class=\"row_heading level0 row16\" >16</th>\n",
       "      <td id=\"T_ad6d8_row16_col0\" class=\"data row16 col0\" >Fold Number</td>\n",
       "      <td id=\"T_ad6d8_row16_col1\" class=\"data row16 col1\" >10</td>\n",
       "    </tr>\n",
       "    <tr>\n",
       "      <th id=\"T_ad6d8_level0_row17\" class=\"row_heading level0 row17\" >17</th>\n",
       "      <td id=\"T_ad6d8_row17_col0\" class=\"data row17 col0\" >CPU Jobs</td>\n",
       "      <td id=\"T_ad6d8_row17_col1\" class=\"data row17 col1\" >-1</td>\n",
       "    </tr>\n",
       "    <tr>\n",
       "      <th id=\"T_ad6d8_level0_row18\" class=\"row_heading level0 row18\" >18</th>\n",
       "      <td id=\"T_ad6d8_row18_col0\" class=\"data row18 col0\" >Use GPU</td>\n",
       "      <td id=\"T_ad6d8_row18_col1\" class=\"data row18 col1\" >False</td>\n",
       "    </tr>\n",
       "    <tr>\n",
       "      <th id=\"T_ad6d8_level0_row19\" class=\"row_heading level0 row19\" >19</th>\n",
       "      <td id=\"T_ad6d8_row19_col0\" class=\"data row19 col0\" >Log Experiment</td>\n",
       "      <td id=\"T_ad6d8_row19_col1\" class=\"data row19 col1\" >False</td>\n",
       "    </tr>\n",
       "    <tr>\n",
       "      <th id=\"T_ad6d8_level0_row20\" class=\"row_heading level0 row20\" >20</th>\n",
       "      <td id=\"T_ad6d8_row20_col0\" class=\"data row20 col0\" >Experiment Name</td>\n",
       "      <td id=\"T_ad6d8_row20_col1\" class=\"data row20 col1\" >reg-default-name</td>\n",
       "    </tr>\n",
       "    <tr>\n",
       "      <th id=\"T_ad6d8_level0_row21\" class=\"row_heading level0 row21\" >21</th>\n",
       "      <td id=\"T_ad6d8_row21_col0\" class=\"data row21 col0\" >USI</td>\n",
       "      <td id=\"T_ad6d8_row21_col1\" class=\"data row21 col1\" >352a</td>\n",
       "    </tr>\n",
       "  </tbody>\n",
       "</table>\n"
      ],
      "text/plain": [
       "<pandas.io.formats.style.Styler at 0x2dbe4637400>"
      ]
     },
     "metadata": {},
     "output_type": "display_data"
    },
    {
     "data": {
      "text/html": [],
      "text/plain": [
       "<IPython.core.display.HTML object>"
      ]
     },
     "metadata": {},
     "output_type": "display_data"
    },
    {
     "data": {
      "text/html": [
       "<style type=\"text/css\">\n",
       "#T_4bc2e th {\n",
       "  text-align: left;\n",
       "}\n",
       "#T_4bc2e_row0_col0, #T_4bc2e_row1_col0, #T_4bc2e_row1_col1, #T_4bc2e_row1_col2, #T_4bc2e_row1_col3, #T_4bc2e_row1_col4, #T_4bc2e_row1_col5, #T_4bc2e_row1_col6, #T_4bc2e_row2_col0, #T_4bc2e_row2_col1, #T_4bc2e_row2_col2, #T_4bc2e_row2_col3, #T_4bc2e_row2_col4, #T_4bc2e_row2_col5, #T_4bc2e_row2_col6, #T_4bc2e_row3_col0, #T_4bc2e_row3_col1, #T_4bc2e_row3_col2, #T_4bc2e_row3_col3, #T_4bc2e_row3_col4, #T_4bc2e_row3_col5, #T_4bc2e_row3_col6, #T_4bc2e_row4_col0, #T_4bc2e_row4_col1, #T_4bc2e_row4_col2, #T_4bc2e_row4_col3, #T_4bc2e_row4_col4, #T_4bc2e_row4_col5, #T_4bc2e_row4_col6, #T_4bc2e_row5_col0, #T_4bc2e_row5_col1, #T_4bc2e_row5_col2, #T_4bc2e_row5_col3, #T_4bc2e_row5_col4, #T_4bc2e_row5_col5, #T_4bc2e_row5_col6, #T_4bc2e_row6_col0, #T_4bc2e_row6_col1, #T_4bc2e_row6_col2, #T_4bc2e_row6_col3, #T_4bc2e_row6_col4, #T_4bc2e_row6_col5, #T_4bc2e_row6_col6, #T_4bc2e_row7_col0, #T_4bc2e_row7_col1, #T_4bc2e_row7_col2, #T_4bc2e_row7_col3, #T_4bc2e_row7_col4, #T_4bc2e_row7_col5, #T_4bc2e_row7_col6, #T_4bc2e_row8_col0, #T_4bc2e_row8_col1, #T_4bc2e_row8_col2, #T_4bc2e_row8_col3, #T_4bc2e_row8_col4, #T_4bc2e_row8_col5, #T_4bc2e_row8_col6, #T_4bc2e_row9_col0, #T_4bc2e_row9_col1, #T_4bc2e_row9_col2, #T_4bc2e_row9_col3, #T_4bc2e_row9_col4, #T_4bc2e_row9_col5, #T_4bc2e_row9_col6, #T_4bc2e_row10_col0, #T_4bc2e_row10_col1, #T_4bc2e_row10_col2, #T_4bc2e_row10_col3, #T_4bc2e_row10_col4, #T_4bc2e_row10_col5, #T_4bc2e_row10_col6, #T_4bc2e_row11_col0, #T_4bc2e_row11_col1, #T_4bc2e_row11_col2, #T_4bc2e_row11_col3, #T_4bc2e_row11_col4, #T_4bc2e_row11_col5, #T_4bc2e_row11_col6, #T_4bc2e_row12_col0, #T_4bc2e_row12_col1, #T_4bc2e_row12_col2, #T_4bc2e_row12_col3, #T_4bc2e_row12_col4, #T_4bc2e_row12_col5, #T_4bc2e_row12_col6, #T_4bc2e_row13_col0, #T_4bc2e_row13_col1, #T_4bc2e_row13_col2, #T_4bc2e_row13_col3, #T_4bc2e_row13_col4, #T_4bc2e_row13_col5, #T_4bc2e_row13_col6, #T_4bc2e_row14_col0, #T_4bc2e_row14_col1, #T_4bc2e_row14_col2, #T_4bc2e_row14_col3, #T_4bc2e_row14_col4, #T_4bc2e_row14_col5, #T_4bc2e_row14_col6, #T_4bc2e_row15_col0, #T_4bc2e_row15_col1, #T_4bc2e_row15_col2, #T_4bc2e_row15_col3, #T_4bc2e_row15_col4, #T_4bc2e_row15_col5, #T_4bc2e_row15_col6, #T_4bc2e_row16_col0, #T_4bc2e_row16_col1, #T_4bc2e_row16_col2, #T_4bc2e_row16_col3, #T_4bc2e_row16_col4, #T_4bc2e_row16_col5, #T_4bc2e_row16_col6, #T_4bc2e_row17_col0, #T_4bc2e_row17_col1, #T_4bc2e_row17_col2, #T_4bc2e_row17_col3, #T_4bc2e_row17_col4, #T_4bc2e_row17_col5, #T_4bc2e_row17_col6, #T_4bc2e_row18_col0, #T_4bc2e_row18_col1, #T_4bc2e_row18_col2, #T_4bc2e_row18_col3, #T_4bc2e_row18_col4, #T_4bc2e_row18_col5, #T_4bc2e_row18_col6 {\n",
       "  text-align: left;\n",
       "}\n",
       "#T_4bc2e_row0_col1, #T_4bc2e_row0_col2, #T_4bc2e_row0_col3, #T_4bc2e_row0_col4, #T_4bc2e_row0_col5, #T_4bc2e_row0_col6 {\n",
       "  text-align: left;\n",
       "  background-color: yellow;\n",
       "}\n",
       "#T_4bc2e_row0_col7, #T_4bc2e_row1_col7, #T_4bc2e_row2_col7, #T_4bc2e_row3_col7, #T_4bc2e_row4_col7, #T_4bc2e_row5_col7, #T_4bc2e_row6_col7, #T_4bc2e_row7_col7, #T_4bc2e_row8_col7, #T_4bc2e_row9_col7, #T_4bc2e_row10_col7, #T_4bc2e_row11_col7, #T_4bc2e_row12_col7, #T_4bc2e_row13_col7, #T_4bc2e_row14_col7, #T_4bc2e_row15_col7, #T_4bc2e_row17_col7, #T_4bc2e_row18_col7 {\n",
       "  text-align: left;\n",
       "  background-color: lightgrey;\n",
       "}\n",
       "#T_4bc2e_row16_col7 {\n",
       "  text-align: left;\n",
       "  background-color: yellow;\n",
       "  background-color: lightgrey;\n",
       "}\n",
       "</style>\n",
       "<table id=\"T_4bc2e\">\n",
       "  <thead>\n",
       "    <tr>\n",
       "      <th class=\"blank level0\" >&nbsp;</th>\n",
       "      <th id=\"T_4bc2e_level0_col0\" class=\"col_heading level0 col0\" >Model</th>\n",
       "      <th id=\"T_4bc2e_level0_col1\" class=\"col_heading level0 col1\" >MAE</th>\n",
       "      <th id=\"T_4bc2e_level0_col2\" class=\"col_heading level0 col2\" >MSE</th>\n",
       "      <th id=\"T_4bc2e_level0_col3\" class=\"col_heading level0 col3\" >RMSE</th>\n",
       "      <th id=\"T_4bc2e_level0_col4\" class=\"col_heading level0 col4\" >R2</th>\n",
       "      <th id=\"T_4bc2e_level0_col5\" class=\"col_heading level0 col5\" >RMSLE</th>\n",
       "      <th id=\"T_4bc2e_level0_col6\" class=\"col_heading level0 col6\" >MAPE</th>\n",
       "      <th id=\"T_4bc2e_level0_col7\" class=\"col_heading level0 col7\" >TT (Sec)</th>\n",
       "    </tr>\n",
       "  </thead>\n",
       "  <tbody>\n",
       "    <tr>\n",
       "      <th id=\"T_4bc2e_level0_row0\" class=\"row_heading level0 row0\" >et</th>\n",
       "      <td id=\"T_4bc2e_row0_col0\" class=\"data row0 col0\" >Extra Trees Regressor</td>\n",
       "      <td id=\"T_4bc2e_row0_col1\" class=\"data row0 col1\" >3.8594</td>\n",
       "      <td id=\"T_4bc2e_row0_col2\" class=\"data row0 col2\" >29.0529</td>\n",
       "      <td id=\"T_4bc2e_row0_col3\" class=\"data row0 col3\" >5.2858</td>\n",
       "      <td id=\"T_4bc2e_row0_col4\" class=\"data row0 col4\" >0.9808</td>\n",
       "      <td id=\"T_4bc2e_row0_col5\" class=\"data row0 col5\" >0.0547</td>\n",
       "      <td id=\"T_4bc2e_row0_col6\" class=\"data row0 col6\" >0.0448</td>\n",
       "      <td id=\"T_4bc2e_row0_col7\" class=\"data row0 col7\" >0.1410</td>\n",
       "    </tr>\n",
       "    <tr>\n",
       "      <th id=\"T_4bc2e_level0_row1\" class=\"row_heading level0 row1\" >gbr</th>\n",
       "      <td id=\"T_4bc2e_row1_col0\" class=\"data row1 col0\" >Gradient Boosting Regressor</td>\n",
       "      <td id=\"T_4bc2e_row1_col1\" class=\"data row1 col1\" >4.1251</td>\n",
       "      <td id=\"T_4bc2e_row1_col2\" class=\"data row1 col2\" >31.8815</td>\n",
       "      <td id=\"T_4bc2e_row1_col3\" class=\"data row1 col3\" >5.6114</td>\n",
       "      <td id=\"T_4bc2e_row1_col4\" class=\"data row1 col4\" >0.9790</td>\n",
       "      <td id=\"T_4bc2e_row1_col5\" class=\"data row1 col5\" >0.0577</td>\n",
       "      <td id=\"T_4bc2e_row1_col6\" class=\"data row1 col6\" >0.0481</td>\n",
       "      <td id=\"T_4bc2e_row1_col7\" class=\"data row1 col7\" >0.1620</td>\n",
       "    </tr>\n",
       "    <tr>\n",
       "      <th id=\"T_4bc2e_level0_row2\" class=\"row_heading level0 row2\" >xgboost</th>\n",
       "      <td id=\"T_4bc2e_row2_col0\" class=\"data row2 col0\" >Extreme Gradient Boosting</td>\n",
       "      <td id=\"T_4bc2e_row2_col1\" class=\"data row2 col1\" >4.1880</td>\n",
       "      <td id=\"T_4bc2e_row2_col2\" class=\"data row2 col2\" >34.4064</td>\n",
       "      <td id=\"T_4bc2e_row2_col3\" class=\"data row2 col3\" >5.8292</td>\n",
       "      <td id=\"T_4bc2e_row2_col4\" class=\"data row2 col4\" >0.9778</td>\n",
       "      <td id=\"T_4bc2e_row2_col5\" class=\"data row2 col5\" >0.0592</td>\n",
       "      <td id=\"T_4bc2e_row2_col6\" class=\"data row2 col6\" >0.0482</td>\n",
       "      <td id=\"T_4bc2e_row2_col7\" class=\"data row2 col7\" >0.1920</td>\n",
       "    </tr>\n",
       "    <tr>\n",
       "      <th id=\"T_4bc2e_level0_row3\" class=\"row_heading level0 row3\" >lightgbm</th>\n",
       "      <td id=\"T_4bc2e_row3_col0\" class=\"data row3 col0\" >Light Gradient Boosting Machine</td>\n",
       "      <td id=\"T_4bc2e_row3_col1\" class=\"data row3 col1\" >4.1407</td>\n",
       "      <td id=\"T_4bc2e_row3_col2\" class=\"data row3 col2\" >36.2896</td>\n",
       "      <td id=\"T_4bc2e_row3_col3\" class=\"data row3 col3\" >5.9110</td>\n",
       "      <td id=\"T_4bc2e_row3_col4\" class=\"data row3 col4\" >0.9761</td>\n",
       "      <td id=\"T_4bc2e_row3_col5\" class=\"data row3 col5\" >0.0583</td>\n",
       "      <td id=\"T_4bc2e_row3_col6\" class=\"data row3 col6\" >0.0473</td>\n",
       "      <td id=\"T_4bc2e_row3_col7\" class=\"data row3 col7\" >0.1970</td>\n",
       "    </tr>\n",
       "    <tr>\n",
       "      <th id=\"T_4bc2e_level0_row4\" class=\"row_heading level0 row4\" >ada</th>\n",
       "      <td id=\"T_4bc2e_row4_col0\" class=\"data row4 col0\" >AdaBoost Regressor</td>\n",
       "      <td id=\"T_4bc2e_row4_col1\" class=\"data row4 col1\" >4.4623</td>\n",
       "      <td id=\"T_4bc2e_row4_col2\" class=\"data row4 col2\" >37.3467</td>\n",
       "      <td id=\"T_4bc2e_row4_col3\" class=\"data row4 col3\" >5.9986</td>\n",
       "      <td id=\"T_4bc2e_row4_col4\" class=\"data row4 col4\" >0.9759</td>\n",
       "      <td id=\"T_4bc2e_row4_col5\" class=\"data row4 col5\" >0.0701</td>\n",
       "      <td id=\"T_4bc2e_row4_col6\" class=\"data row4 col6\" >0.0568</td>\n",
       "      <td id=\"T_4bc2e_row4_col7\" class=\"data row4 col7\" >0.1120</td>\n",
       "    </tr>\n",
       "    <tr>\n",
       "      <th id=\"T_4bc2e_level0_row5\" class=\"row_heading level0 row5\" >rf</th>\n",
       "      <td id=\"T_4bc2e_row5_col0\" class=\"data row5 col0\" >Random Forest Regressor</td>\n",
       "      <td id=\"T_4bc2e_row5_col1\" class=\"data row5 col1\" >4.1554</td>\n",
       "      <td id=\"T_4bc2e_row5_col2\" class=\"data row5 col2\" >36.5057</td>\n",
       "      <td id=\"T_4bc2e_row5_col3\" class=\"data row5 col3\" >5.8923</td>\n",
       "      <td id=\"T_4bc2e_row5_col4\" class=\"data row5 col4\" >0.9749</td>\n",
       "      <td id=\"T_4bc2e_row5_col5\" class=\"data row5 col5\" >0.0592</td>\n",
       "      <td id=\"T_4bc2e_row5_col6\" class=\"data row5 col6\" >0.0480</td>\n",
       "      <td id=\"T_4bc2e_row5_col7\" class=\"data row5 col7\" >0.1430</td>\n",
       "    </tr>\n",
       "    <tr>\n",
       "      <th id=\"T_4bc2e_level0_row6\" class=\"row_heading level0 row6\" >ridge</th>\n",
       "      <td id=\"T_4bc2e_row6_col0\" class=\"data row6 col0\" >Ridge Regression</td>\n",
       "      <td id=\"T_4bc2e_row6_col1\" class=\"data row6 col1\" >5.7134</td>\n",
       "      <td id=\"T_4bc2e_row6_col2\" class=\"data row6 col2\" >51.8786</td>\n",
       "      <td id=\"T_4bc2e_row6_col3\" class=\"data row6 col3\" >7.0915</td>\n",
       "      <td id=\"T_4bc2e_row6_col4\" class=\"data row6 col4\" >0.9666</td>\n",
       "      <td id=\"T_4bc2e_row6_col5\" class=\"data row6 col5\" >0.1099</td>\n",
       "      <td id=\"T_4bc2e_row6_col6\" class=\"data row6 col6\" >0.0798</td>\n",
       "      <td id=\"T_4bc2e_row6_col7\" class=\"data row6 col7\" >0.0560</td>\n",
       "    </tr>\n",
       "    <tr>\n",
       "      <th id=\"T_4bc2e_level0_row7\" class=\"row_heading level0 row7\" >br</th>\n",
       "      <td id=\"T_4bc2e_row7_col0\" class=\"data row7 col0\" >Bayesian Ridge</td>\n",
       "      <td id=\"T_4bc2e_row7_col1\" class=\"data row7 col1\" >5.7137</td>\n",
       "      <td id=\"T_4bc2e_row7_col2\" class=\"data row7 col2\" >51.8924</td>\n",
       "      <td id=\"T_4bc2e_row7_col3\" class=\"data row7 col3\" >7.0924</td>\n",
       "      <td id=\"T_4bc2e_row7_col4\" class=\"data row7 col4\" >0.9666</td>\n",
       "      <td id=\"T_4bc2e_row7_col5\" class=\"data row7 col5\" >0.1099</td>\n",
       "      <td id=\"T_4bc2e_row7_col6\" class=\"data row7 col6\" >0.0798</td>\n",
       "      <td id=\"T_4bc2e_row7_col7\" class=\"data row7 col7\" >0.0450</td>\n",
       "    </tr>\n",
       "    <tr>\n",
       "      <th id=\"T_4bc2e_level0_row8\" class=\"row_heading level0 row8\" >lr</th>\n",
       "      <td id=\"T_4bc2e_row8_col0\" class=\"data row8 col0\" >Linear Regression</td>\n",
       "      <td id=\"T_4bc2e_row8_col1\" class=\"data row8 col1\" >5.7399</td>\n",
       "      <td id=\"T_4bc2e_row8_col2\" class=\"data row8 col2\" >52.6558</td>\n",
       "      <td id=\"T_4bc2e_row8_col3\" class=\"data row8 col3\" >7.1437</td>\n",
       "      <td id=\"T_4bc2e_row8_col4\" class=\"data row8 col4\" >0.9661</td>\n",
       "      <td id=\"T_4bc2e_row8_col5\" class=\"data row8 col5\" >0.1120</td>\n",
       "      <td id=\"T_4bc2e_row8_col6\" class=\"data row8 col6\" >0.0805</td>\n",
       "      <td id=\"T_4bc2e_row8_col7\" class=\"data row8 col7\" >1.3680</td>\n",
       "    </tr>\n",
       "    <tr>\n",
       "      <th id=\"T_4bc2e_level0_row9\" class=\"row_heading level0 row9\" >llar</th>\n",
       "      <td id=\"T_4bc2e_row9_col0\" class=\"data row9 col0\" >Lasso Least Angle Regression</td>\n",
       "      <td id=\"T_4bc2e_row9_col1\" class=\"data row9 col1\" >5.8421</td>\n",
       "      <td id=\"T_4bc2e_row9_col2\" class=\"data row9 col2\" >56.0325</td>\n",
       "      <td id=\"T_4bc2e_row9_col3\" class=\"data row9 col3\" >7.3505</td>\n",
       "      <td id=\"T_4bc2e_row9_col4\" class=\"data row9 col4\" >0.9638</td>\n",
       "      <td id=\"T_4bc2e_row9_col5\" class=\"data row9 col5\" >0.1000</td>\n",
       "      <td id=\"T_4bc2e_row9_col6\" class=\"data row9 col6\" >0.0776</td>\n",
       "      <td id=\"T_4bc2e_row9_col7\" class=\"data row9 col7\" >0.0400</td>\n",
       "    </tr>\n",
       "    <tr>\n",
       "      <th id=\"T_4bc2e_level0_row10\" class=\"row_heading level0 row10\" >lasso</th>\n",
       "      <td id=\"T_4bc2e_row10_col0\" class=\"data row10 col0\" >Lasso Regression</td>\n",
       "      <td id=\"T_4bc2e_row10_col1\" class=\"data row10 col1\" >5.8422</td>\n",
       "      <td id=\"T_4bc2e_row10_col2\" class=\"data row10 col2\" >56.0361</td>\n",
       "      <td id=\"T_4bc2e_row10_col3\" class=\"data row10 col3\" >7.3507</td>\n",
       "      <td id=\"T_4bc2e_row10_col4\" class=\"data row10 col4\" >0.9638</td>\n",
       "      <td id=\"T_4bc2e_row10_col5\" class=\"data row10 col5\" >0.1000</td>\n",
       "      <td id=\"T_4bc2e_row10_col6\" class=\"data row10 col6\" >0.0776</td>\n",
       "      <td id=\"T_4bc2e_row10_col7\" class=\"data row10 col7\" >0.0470</td>\n",
       "    </tr>\n",
       "    <tr>\n",
       "      <th id=\"T_4bc2e_level0_row11\" class=\"row_heading level0 row11\" >lar</th>\n",
       "      <td id=\"T_4bc2e_row11_col0\" class=\"data row11 col0\" >Least Angle Regression</td>\n",
       "      <td id=\"T_4bc2e_row11_col1\" class=\"data row11 col1\" >6.1414</td>\n",
       "      <td id=\"T_4bc2e_row11_col2\" class=\"data row11 col2\" >62.2803</td>\n",
       "      <td id=\"T_4bc2e_row11_col3\" class=\"data row11 col3\" >7.6494</td>\n",
       "      <td id=\"T_4bc2e_row11_col4\" class=\"data row11 col4\" >0.9572</td>\n",
       "      <td id=\"T_4bc2e_row11_col5\" class=\"data row11 col5\" >0.1204</td>\n",
       "      <td id=\"T_4bc2e_row11_col6\" class=\"data row11 col6\" >0.0865</td>\n",
       "      <td id=\"T_4bc2e_row11_col7\" class=\"data row11 col7\" >0.0470</td>\n",
       "    </tr>\n",
       "    <tr>\n",
       "      <th id=\"T_4bc2e_level0_row12\" class=\"row_heading level0 row12\" >huber</th>\n",
       "      <td id=\"T_4bc2e_row12_col0\" class=\"data row12 col0\" >Huber Regressor</td>\n",
       "      <td id=\"T_4bc2e_row12_col1\" class=\"data row12 col1\" >6.1810</td>\n",
       "      <td id=\"T_4bc2e_row12_col2\" class=\"data row12 col2\" >68.8704</td>\n",
       "      <td id=\"T_4bc2e_row12_col3\" class=\"data row12 col3\" >8.0088</td>\n",
       "      <td id=\"T_4bc2e_row12_col4\" class=\"data row12 col4\" >0.9555</td>\n",
       "      <td id=\"T_4bc2e_row12_col5\" class=\"data row12 col5\" >0.1175</td>\n",
       "      <td id=\"T_4bc2e_row12_col6\" class=\"data row12 col6\" >0.0835</td>\n",
       "      <td id=\"T_4bc2e_row12_col7\" class=\"data row12 col7\" >0.0670</td>\n",
       "    </tr>\n",
       "    <tr>\n",
       "      <th id=\"T_4bc2e_level0_row13\" class=\"row_heading level0 row13\" >dt</th>\n",
       "      <td id=\"T_4bc2e_row13_col0\" class=\"data row13 col0\" >Decision Tree Regressor</td>\n",
       "      <td id=\"T_4bc2e_row13_col1\" class=\"data row13 col1\" >5.4915</td>\n",
       "      <td id=\"T_4bc2e_row13_col2\" class=\"data row13 col2\" >64.1927</td>\n",
       "      <td id=\"T_4bc2e_row13_col3\" class=\"data row13 col3\" >7.6814</td>\n",
       "      <td id=\"T_4bc2e_row13_col4\" class=\"data row13 col4\" >0.9553</td>\n",
       "      <td id=\"T_4bc2e_row13_col5\" class=\"data row13 col5\" >0.0786</td>\n",
       "      <td id=\"T_4bc2e_row13_col6\" class=\"data row13 col6\" >0.0636</td>\n",
       "      <td id=\"T_4bc2e_row13_col7\" class=\"data row13 col7\" >0.0520</td>\n",
       "    </tr>\n",
       "    <tr>\n",
       "      <th id=\"T_4bc2e_level0_row14\" class=\"row_heading level0 row14\" >en</th>\n",
       "      <td id=\"T_4bc2e_row14_col0\" class=\"data row14 col0\" >Elastic Net</td>\n",
       "      <td id=\"T_4bc2e_row14_col1\" class=\"data row14 col1\" >7.6862</td>\n",
       "      <td id=\"T_4bc2e_row14_col2\" class=\"data row14 col2\" >122.6295</td>\n",
       "      <td id=\"T_4bc2e_row14_col3\" class=\"data row14 col3\" >10.4237</td>\n",
       "      <td id=\"T_4bc2e_row14_col4\" class=\"data row14 col4\" >0.9208</td>\n",
       "      <td id=\"T_4bc2e_row14_col5\" class=\"data row14 col5\" >0.1244</td>\n",
       "      <td id=\"T_4bc2e_row14_col6\" class=\"data row14 col6\" >0.1017</td>\n",
       "      <td id=\"T_4bc2e_row14_col7\" class=\"data row14 col7\" >0.0390</td>\n",
       "    </tr>\n",
       "    <tr>\n",
       "      <th id=\"T_4bc2e_level0_row15\" class=\"row_heading level0 row15\" >knn</th>\n",
       "      <td id=\"T_4bc2e_row15_col0\" class=\"data row15 col0\" >K Neighbors Regressor</td>\n",
       "      <td id=\"T_4bc2e_row15_col1\" class=\"data row15 col1\" >10.5864</td>\n",
       "      <td id=\"T_4bc2e_row15_col2\" class=\"data row15 col2\" >201.0889</td>\n",
       "      <td id=\"T_4bc2e_row15_col3\" class=\"data row15 col3\" >13.9108</td>\n",
       "      <td id=\"T_4bc2e_row15_col4\" class=\"data row15 col4\" >0.8683</td>\n",
       "      <td id=\"T_4bc2e_row15_col5\" class=\"data row15 col5\" >0.1482</td>\n",
       "      <td id=\"T_4bc2e_row15_col6\" class=\"data row15 col6\" >0.1259</td>\n",
       "      <td id=\"T_4bc2e_row15_col7\" class=\"data row15 col7\" >0.0540</td>\n",
       "    </tr>\n",
       "    <tr>\n",
       "      <th id=\"T_4bc2e_level0_row16\" class=\"row_heading level0 row16\" >omp</th>\n",
       "      <td id=\"T_4bc2e_row16_col0\" class=\"data row16 col0\" >Orthogonal Matching Pursuit</td>\n",
       "      <td id=\"T_4bc2e_row16_col1\" class=\"data row16 col1\" >15.7630</td>\n",
       "      <td id=\"T_4bc2e_row16_col2\" class=\"data row16 col2\" >385.2610</td>\n",
       "      <td id=\"T_4bc2e_row16_col3\" class=\"data row16 col3\" >19.5194</td>\n",
       "      <td id=\"T_4bc2e_row16_col4\" class=\"data row16 col4\" >0.7466</td>\n",
       "      <td id=\"T_4bc2e_row16_col5\" class=\"data row16 col5\" >0.2499</td>\n",
       "      <td id=\"T_4bc2e_row16_col6\" class=\"data row16 col6\" >0.2154</td>\n",
       "      <td id=\"T_4bc2e_row16_col7\" class=\"data row16 col7\" >0.0360</td>\n",
       "    </tr>\n",
       "    <tr>\n",
       "      <th id=\"T_4bc2e_level0_row17\" class=\"row_heading level0 row17\" >par</th>\n",
       "      <td id=\"T_4bc2e_row17_col0\" class=\"data row17 col0\" >Passive Aggressive Regressor</td>\n",
       "      <td id=\"T_4bc2e_row17_col1\" class=\"data row17 col1\" >18.7554</td>\n",
       "      <td id=\"T_4bc2e_row17_col2\" class=\"data row17 col2\" >601.5415</td>\n",
       "      <td id=\"T_4bc2e_row17_col3\" class=\"data row17 col3\" >24.0203</td>\n",
       "      <td id=\"T_4bc2e_row17_col4\" class=\"data row17 col4\" >0.6116</td>\n",
       "      <td id=\"T_4bc2e_row17_col5\" class=\"data row17 col5\" >0.2707</td>\n",
       "      <td id=\"T_4bc2e_row17_col6\" class=\"data row17 col6\" >0.2311</td>\n",
       "      <td id=\"T_4bc2e_row17_col7\" class=\"data row17 col7\" >0.0420</td>\n",
       "    </tr>\n",
       "    <tr>\n",
       "      <th id=\"T_4bc2e_level0_row18\" class=\"row_heading level0 row18\" >dummy</th>\n",
       "      <td id=\"T_4bc2e_row18_col0\" class=\"data row18 col0\" >Dummy Regressor</td>\n",
       "      <td id=\"T_4bc2e_row18_col1\" class=\"data row18 col1\" >34.5834</td>\n",
       "      <td id=\"T_4bc2e_row18_col2\" class=\"data row18 col2\" >1624.0949</td>\n",
       "      <td id=\"T_4bc2e_row18_col3\" class=\"data row18 col3\" >40.1853</td>\n",
       "      <td id=\"T_4bc2e_row18_col4\" class=\"data row18 col4\" >-0.0466</td>\n",
       "      <td id=\"T_4bc2e_row18_col5\" class=\"data row18 col5\" >0.5198</td>\n",
       "      <td id=\"T_4bc2e_row18_col6\" class=\"data row18 col6\" >0.5548</td>\n",
       "      <td id=\"T_4bc2e_row18_col7\" class=\"data row18 col7\" >0.0440</td>\n",
       "    </tr>\n",
       "  </tbody>\n",
       "</table>\n"
      ],
      "text/plain": [
       "<pandas.io.formats.style.Styler at 0x2dbdf473f70>"
      ]
     },
     "metadata": {},
     "output_type": "display_data"
    },
    {
     "data": {
      "text/html": [],
      "text/plain": [
       "<IPython.core.display.HTML object>"
      ]
     },
     "metadata": {},
     "output_type": "display_data"
    }
   ],
   "source": [
    "#from pycaret.datasets import get_data\n",
    "#boston = get_data('boston')\n",
    "from pycaret.regression import *\n",
    "exp_name = setup(data = df1,  target = 'peso')\n",
    "best_model = compare_models()"
   ]
  },
  {
   "cell_type": "code",
   "execution_count": 5,
   "metadata": {},
   "outputs": [
    {
     "data": {
      "text/html": [],
      "text/plain": [
       "<IPython.core.display.HTML object>"
      ]
     },
     "metadata": {},
     "output_type": "display_data"
    },
    {
     "data": {
      "text/html": [],
      "text/plain": [
       "<IPython.core.display.HTML object>"
      ]
     },
     "metadata": {},
     "output_type": "display_data"
    },
    {
     "data": {
      "text/html": [],
      "text/plain": [
       "<IPython.core.display.HTML object>"
      ]
     },
     "metadata": {},
     "output_type": "display_data"
    }
   ],
   "source": [
    "rf = create_model('rf')"
   ]
  },
  {
   "cell_type": "code",
   "execution_count": 6,
   "metadata": {},
   "outputs": [
    {
     "data": {
      "text/html": [],
      "text/plain": [
       "<IPython.core.display.HTML object>"
      ]
     },
     "metadata": {},
     "output_type": "display_data"
    },
    {
     "data": {
      "image/png": "[encoded data removed]",
      "text/plain": [
       "<Figure size 800x550 with 1 Axes>"
      ]
     },
     "metadata": {},
     "output_type": "display_data"
    }
   ],
   "source": [
    "plot_model(rf, plot = 'error')"
   ]
  },
  {
   "cell_type": "code",
   "execution_count": 7,
   "metadata": {},
   "outputs": [
    {
     "data": {
      "text/html": [],
      "text/plain": [
       "<IPython.core.display.HTML object>"
      ]
     },
     "metadata": {},
     "output_type": "display_data"
    },
    {
     "data": {
      "image/png": "[encoded data removed]",
      "text/plain": [
       "<Figure size 800x550 with 1 Axes>"
      ]
     },
     "metadata": {},
     "output_type": "display_data"
    }
   ],
   "source": [
    "plot_model(rf, plot = 'learning')"
   ]
  },
  {
   "cell_type": "code",
   "execution_count": 8,
   "metadata": {},
   "outputs": [],
   "source": [
    "#plot_model(rf, plot = 'tree')"
   ]
  },
  {
   "cell_type": "code",
   "execution_count": 9,
   "metadata": {},
   "outputs": [
    {
     "data": {
      "text/html": [],
      "text/plain": [
       "<IPython.core.display.HTML object>"
      ]
     },
     "metadata": {},
     "output_type": "display_data"
    },
    {
     "data": {
      "image/png": "[encoded data removed]",
      "text/plain": [
       "<Figure size 800x0 with 1 Axes>"
      ]
     },
     "metadata": {},
     "output_type": "display_data"
    }
   ],
   "source": [
    "plot_model(rf, plot = 'feature_all')"
   ]
  },
  {
   "cell_type": "code",
   "execution_count": 10,
   "metadata": {},
   "outputs": [
    {
     "data": {
      "application/vnd.jupyter.widget-view+json": {
       "model_id": "d93781fc0e8f46f0912cce7701724747",
       "version_major": 2,
       "version_minor": 0
      },
      "text/plain": [
       "interactive(children=(ToggleButtons(description='Plot Type:', icons=('',), options=(('Pipeline Plot', 'pipelin…"
      ]
     },
     "metadata": {},
     "output_type": "display_data"
    }
   ],
   "source": [
    "evaluate_model(rf)"
   ]
  },
  {
   "cell_type": "code",
   "execution_count": 11,
   "metadata": {},
   "outputs": [
    {
     "data": {
      "text/html": [],
      "text/plain": [
       "<IPython.core.display.HTML object>"
      ]
     },
     "metadata": {},
     "output_type": "display_data"
    }
   ],
   "source": [
    "pred_holdout = predict_model(rf)"
   ]
  },
  {
   "cell_type": "code",
   "execution_count": 12,
   "metadata": {},
   "outputs": [
    {
     "ename": "NameError",
     "evalue": "name 'unseen_dataframe' is not defined",
     "output_type": "error",
     "traceback": [
      "\u001b[1;31m---------------------------------------------------------------------------\u001b[0m",
      "\u001b[1;31mNameError\u001b[0m                                 Traceback (most recent call last)",
      "Cell \u001b[1;32mIn[12], line 1\u001b[0m\n\u001b[1;32m----> 1\u001b[0m pred_unseen \u001b[38;5;241m=\u001b[39m predict_model(rf, data \u001b[38;5;241m=\u001b[39m \u001b[43munseen_dataframe\u001b[49m)\n",
      "\u001b[1;31mNameError\u001b[0m: name 'unseen_dataframe' is not defined"
     ]
    }
   ],
   "source": [
    "pred_unseen = predict_model(rf, data = unseen_dataframe)"
   ]
  },
  {
   "cell_type": "code",
   "execution_count": null,
   "metadata": {},
   "outputs": [],
   "source": []
  },
  {
   "cell_type": "code",
   "execution_count": null,
   "metadata": {},
   "outputs": [],
   "source": [
    "tuned_rf = tune_model(rf)"
   ]
  },
  {
   "cell_type": "code",
   "execution_count": null,
   "metadata": {},
   "outputs": [],
   "source": [
    "#theta = exp.create_model('theta')\n",
    "#exp.plot_model(plot = 'decomp',\n",
    "#               data_kwargs = {'type' : 'multiplicative'},\n",
    "#               fig_kwargs = {\"height\":500,\"width\":1000,\"template\": \"simple_white\",\"hoverinfo\":\"none\",\"big_data_threshold\":50})\n",
    "#exp.plot_model(estimator = theta, plot = 'forecast', \n",
    "#               data_kwargs = {'fh' : 8},\n",
    "#               fig_kwargs = {\"height\":500,\"width\":1000,\"template\": \"simple_white\",\"hoverinfo\":\"none\",\"big_data_threshold\":50})\n",
    "#exp.predict_model(theta, fh = 8)"
   ]
  },
  {
   "cell_type": "markdown",
   "metadata": {},
   "source": [
    "#### weight prediction \n",
    "### REalizar um codigo padrao com avaliacao de modelos, tuning, evaluation, shuffle and save (retirar index)\n",
    "#### realizar predicao para espessura\n",
    "#### realizar a predicao do peso sem a variavel espessura\n",
    "####"
   ]
  }
 ],
 "metadata": {
  "kernelspec": {
   "display_name": "Python 3",
   "language": "python",
   "name": "python3"
  },
  "language_info": {
   "codemirror_mode": {
    "name": "ipython",
    "version": 3
   },
   "file_extension": ".py",
   "mimetype": "text/x-python",
   "name": "python",
   "nbconvert_exporter": "python",
   "pygments_lexer": "ipython3",
   "version": "3.10.11"
  }
 },
 "nbformat": 4,
 "nbformat_minor": 2
}
