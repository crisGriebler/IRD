{
 "cells": [
  {
   "cell_type": "code",
   "execution_count": 1,
   "metadata": {},
   "outputs": [],
   "source": [
    "import pandas as pd\n",
    "import matplotlib as plt\n",
    "import numpy as np\n",
    "import statsmodels.api as sm\n",
    "from statsmodels.graphics.tsaplots import plot_acf, plot_pacf\n",
    "from statsmodels.tsa.arima_model import ARIMA\n",
    "from statsmodels.tsa.stattools import adfuller\n",
    "from numpy import log\n",
    "from sklearn.metrics import mean_squared_error\n",
    "from statsmodels.tsa.stattools import acf\n",
    "from datetime import datetime, timedelta"
   ]
  },
  {
   "cell_type": "code",
   "execution_count": 2,
   "metadata": {},
   "outputs": [
    {
     "name": "stdout",
     "output_type": "stream",
     "text": [
      "   Index   peso  comprimento_Total  comprimento_Padrao comprimento_Cabeça  \\\n",
      "0      1  51.45               14.3                12.2                  4   \n",
      "1      2  37.15               12.4                10.9                3.8   \n",
      "2      3  47.26               13.7                11.2                3.4   \n",
      "3      4  36.67               12.9                11.1                3.7   \n",
      "4      5  45.48               13.2                11.3                3.8   \n",
      "5      6  36.77               12.5                10.8                3.2   \n",
      "6      7  32.79               12.0                10.2                3.4   \n",
      "7      8  35.52               12.4                10.8                3.4   \n",
      "8      9  35.58               12.3                11.0                3.4   \n",
      "9     10  42.88               13.2                11.2                3.8   \n",
      "\n",
      "   altura  espessura       data  \n",
      "0     4.1        1.9 2024-02-28  \n",
      "1     3.2        1.2 2024-02-28  \n",
      "2     4.0        1.7 2024-02-28  \n",
      "3     3.7        1.6 2024-02-28  \n",
      "4     4.5        1.6 2024-02-28  \n",
      "5     3.9        1.8 2024-02-28  \n",
      "6     3.7        1.7 2024-02-28  \n",
      "7     4.0        1.9 2024-02-28  \n",
      "8     3.7        1.7 2024-02-28  \n",
      "9     4.1        1.9 2024-02-28  \n"
     ]
    }
   ],
   "source": [
    "#função para tratar campo data\n",
    "def parser(x):\n",
    "    return pd.datetime.strptime('190'+x, '%Y-%m')\n",
    "\n",
    "#Agora vamos importar nosso arquivo \n",
    "df1 = pd.read_excel('biometria.xlsx', sheet_name='Página1')\n",
    "print(df1.head(10))"
   ]
  },
  {
   "cell_type": "code",
   "execution_count": null,
   "metadata": {},
   "outputs": [],
   "source": [
    "from pycaret.datasets import get_data\n",
    "boston = get_data('boston')\n",
    "from pycaret.regression import *\n",
    "exp_name = setup(data = boston,  target = 'medv')\n",
    "best_model = compare_models()"
   ]
  }
 ],
 "metadata": {
  "kernelspec": {
   "display_name": "Python 3",
   "language": "python",
   "name": "python3"
  },
  "language_info": {
   "codemirror_mode": {
    "name": "ipython",
    "version": 3
   },
   "file_extension": ".py",
   "mimetype": "text/x-python",
   "name": "python",
   "nbconvert_exporter": "python",
   "pygments_lexer": "ipython3",
   "version": "3.10.11"
  }
 },
 "nbformat": 4,
 "nbformat_minor": 2
}
