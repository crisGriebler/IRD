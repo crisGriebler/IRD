{
 "cells": [
  {
   "cell_type": "markdown",
   "metadata": {},
   "source": [
    "## This code is the study about feature importance of ESALQ experiment"
   ]
  },
  {
   "cell_type": "code",
   "execution_count": 1,
   "metadata": {},
   "outputs": [],
   "source": [
    "import pandas as pd\n",
    "import matplotlib as plt\n",
    "import numpy as np\n",
    "import statsmodels.api as sm\n",
    "from statsmodels.graphics.tsaplots import plot_acf, plot_pacf\n",
    "from statsmodels.tsa.arima_model import ARIMA\n",
    "from statsmodels.tsa.stattools import adfuller\n",
    "from numpy import log\n",
    "from sklearn.metrics import mean_squared_error\n",
    "from statsmodels.tsa.stattools import acf\n",
    "from datetime import datetime, timedelta"
   ]
  },
  {
   "cell_type": "code",
   "execution_count": 2,
   "metadata": {},
   "outputs": [
    {
     "name": "stdout",
     "output_type": "stream",
     "text": [
      "     Index    peso  comprimento_Total  comprimento_Padrao  comprimento_Cabeca  \\\n",
      "664  665.0  492.04               29.0                24.8                 8.0   \n",
      "665  666.0  454.02               27.0                23.0                 7.6   \n",
      "666  667.0  480.56               27.1                22.8                 7.5   \n",
      "667  668.0  412.75               25.7                22.0                 7.5   \n",
      "668  669.0  471.80               27.2                23.4                 7.4   \n",
      "669  670.0  382.79               25.4                21.5                 7.5   \n",
      "670  671.0  401.90               26.5                22.3                 7.2   \n",
      "671  672.0  441.98               27.8                23.4                 7.5   \n",
      "672  673.0  468.54               28.0                23.5                 7.8   \n",
      "673  674.0  418.14               26.3                22.2                 7.4   \n",
      "\n",
      "     altura  espessura       data  \n",
      "664     9.1        3.2 2024-06-12  \n",
      "665     9.0        3.2 2024-06-12  \n",
      "666     8.9        3.2 2024-06-12  \n",
      "667     8.2        3.2 2024-06-12  \n",
      "668     8.9        3.2 2024-06-12  \n",
      "669     8.5        3.2 2024-06-12  \n",
      "670     8.5        3.2 2024-06-12  \n",
      "671     8.7        3.2 2024-06-12  \n",
      "672     8.5        3.2 2024-06-12  \n",
      "673     8.5        3.1 2024-06-12  \n"
     ]
    }
   ],
   "source": [
    "#função para tratar campo data\n",
    "def parser(x):\n",
    "    return pd.datetime.strptime('190'+x, '%Y-%m')\n",
    "\n",
    "#Agora vamos importar nosso arquivo \n",
    "df = pd.read_excel('biometria.xlsx', sheet_name='Página1')\n",
    "print(df.tail(10))"
   ]
  },
  {
   "cell_type": "code",
   "execution_count": 15,
   "metadata": {},
   "outputs": [
    {
     "data": {
      "text/plain": [
       "array(['2024-02-28T00:00:00.000000000', '2024-03-20T00:00:00.000000000',\n",
       "       '2024-04-10T00:00:00.000000000', '2024-05-02T00:00:00.000000000',\n",
       "       '2024-05-23T00:00:00.000000000', '2024-06-12T00:00:00.000000000'],\n",
       "      dtype='datetime64[ns]')"
      ]
     },
     "execution_count": 15,
     "metadata": {},
     "output_type": "execute_result"
    }
   ],
   "source": [
    "#df.nunique(axis='columns')\n",
    "df['data'].unique()"
   ]
  },
  {
   "cell_type": "code",
   "execution_count": 17,
   "metadata": {},
   "outputs": [],
   "source": [
    "df1=df[df['data']=='2024-02-28T00:00:00.000000000']\n",
    "df2=df[df['data']=='2024-03-20T00:00:00.000000000']\n",
    "df3=df[df['data']=='2024-04-10T00:00:00.000000000']\n",
    "df4=df[df['data']=='2024-05-02T00:00:00.000000000']\n",
    "df5=df[df['data']=='2024-05-23T00:00:00.000000000']\n",
    "df6=df[df['data']=='2024-06-12T00:00:00.000000000']"
   ]
  },
  {
   "cell_type": "code",
   "execution_count": null,
   "metadata": {},
   "outputs": [],
   "source": [
    "def drop_columns(df):\n",
    "    \"\"\"\n",
    "    Drops the specified columns from the DataFrame and returns the resulting DataFrame.\n",
    "    Also prints the first few rows of the resulting DataFrame.\n",
    "    \n",
    "    Parameters:\n",
    "    df (pd.DataFrame): The input DataFrame.\n",
    "    \n",
    "    Returns:\n",
    "    pd.DataFrame: The DataFrame after dropping the specified columns.\n",
    "    \"\"\"\n",
    "    columns_to_drop = ['data', 'Index', 'espessura']\n",
    "    df = df.drop(columns=columns_to_drop)\n",
    "    return df"
   ]
  },
  {
   "cell_type": "code",
   "execution_count": null,
   "metadata": {},
   "outputs": [],
   "source": []
  },
  {
   "cell_type": "code",
   "execution_count": null,
   "metadata": {},
   "outputs": [],
   "source": []
  },
  {
   "cell_type": "code",
   "execution_count": null,
   "metadata": {},
   "outputs": [],
   "source": []
  }
 ],
 "metadata": {
  "kernelspec": {
   "display_name": "Python 3",
   "language": "python",
   "name": "python3"
  },
  "language_info": {
   "codemirror_mode": {
    "name": "ipython",
    "version": 3
   },
   "file_extension": ".py",
   "mimetype": "text/x-python",
   "name": "python",
   "nbconvert_exporter": "python",
   "pygments_lexer": "ipython3",
   "version": "3.10.11"
  }
 },
 "nbformat": 4,
 "nbformat_minor": 2
}
