{
 "cells": [
  {
   "cell_type": "markdown",
   "metadata": {},
   "source": [
    "## This code is the study about feature importance of ESALQ experiment"
   ]
  },
  {
   "cell_type": "code",
   "execution_count": 1,
   "metadata": {},
   "outputs": [],
   "source": [
    "import pandas as pd\n",
    "import matplotlib as plt\n",
    "import numpy as np\n",
    "import statsmodels.api as sm\n",
    "from statsmodels.graphics.tsaplots import plot_acf, plot_pacf\n",
    "from statsmodels.tsa.arima_model import ARIMA\n",
    "from statsmodels.tsa.stattools import adfuller\n",
    "from numpy import log\n",
    "from sklearn.metrics import mean_squared_error\n",
    "from statsmodels.tsa.stattools import acf\n",
    "from datetime import datetime, timedelta\n",
    "from pycaret.regression import *"
   ]
  },
  {
   "cell_type": "code",
   "execution_count": 2,
   "metadata": {},
   "outputs": [
    {
     "name": "stdout",
     "output_type": "stream",
     "text": [
      "     Index    peso  comprimento_Total  comprimento_Padrao  comprimento_Cabeca  \\\n",
      "664  665.0  492.04               29.0                24.8                 8.0   \n",
      "665  666.0  454.02               27.0                23.0                 7.6   \n",
      "666  667.0  480.56               27.1                22.8                 7.5   \n",
      "667  668.0  412.75               25.7                22.0                 7.5   \n",
      "668  669.0  471.80               27.2                23.4                 7.4   \n",
      "669  670.0  382.79               25.4                21.5                 7.5   \n",
      "670  671.0  401.90               26.5                22.3                 7.2   \n",
      "671  672.0  441.98               27.8                23.4                 7.5   \n",
      "672  673.0  468.54               28.0                23.5                 7.8   \n",
      "673  674.0  418.14               26.3                22.2                 7.4   \n",
      "\n",
      "     altura  espessura       data  \n",
      "664     9.1        3.2 2024-06-12  \n",
      "665     9.0        3.2 2024-06-12  \n",
      "666     8.9        3.2 2024-06-12  \n",
      "667     8.2        3.2 2024-06-12  \n",
      "668     8.9        3.2 2024-06-12  \n",
      "669     8.5        3.2 2024-06-12  \n",
      "670     8.5        3.2 2024-06-12  \n",
      "671     8.7        3.2 2024-06-12  \n",
      "672     8.5        3.2 2024-06-12  \n",
      "673     8.5        3.1 2024-06-12  \n"
     ]
    }
   ],
   "source": [
    "#função para tratar campo data\n",
    "def parser(x):\n",
    "    return pd.datetime.strptime('190'+x, '%Y-%m')\n",
    "\n",
    "#Agora vamos importar nosso arquivo \n",
    "df = pd.read_excel('biometria.xlsx', sheet_name='Página1')\n",
    "print(df.tail(10))"
   ]
  },
  {
   "cell_type": "code",
   "execution_count": 3,
   "metadata": {},
   "outputs": [
    {
     "data": {
      "text/plain": [
       "array(['2024-02-28T00:00:00.000000000', '2024-03-20T00:00:00.000000000',\n",
       "       '2024-04-10T00:00:00.000000000', '2024-05-02T00:00:00.000000000',\n",
       "       '2024-05-23T00:00:00.000000000', '2024-06-12T00:00:00.000000000'],\n",
       "      dtype='datetime64[ns]')"
      ]
     },
     "execution_count": 3,
     "metadata": {},
     "output_type": "execute_result"
    }
   ],
   "source": [
    "#df.nunique(axis='columns')\n",
    "df['data'].unique()"
   ]
  },
  {
   "cell_type": "code",
   "execution_count": 4,
   "metadata": {},
   "outputs": [],
   "source": [
    "df1=df[df['data']=='2024-02-28T00:00:00.000000000']\n",
    "df2=df[df['data']=='2024-03-20T00:00:00.000000000']\n",
    "df3=df[df['data']=='2024-04-10T00:00:00.000000000']\n",
    "df4=df[df['data']=='2024-05-02T00:00:00.000000000']\n",
    "df5=df[df['data']=='2024-05-23T00:00:00.000000000']\n",
    "df6=df[df['data']=='2024-06-12T00:00:00.000000000']"
   ]
  },
  {
   "cell_type": "code",
   "execution_count": 5,
   "metadata": {},
   "outputs": [],
   "source": [
    "def drop_columns(df):\n",
    "    \"\"\"\n",
    "    Drops the specified columns from the DataFrame and returns the resulting DataFrame.\n",
    "    Also prints the first few rows of the resulting DataFrame.\n",
    "    \n",
    "    Parameters:\n",
    "    df (pd.DataFrame): The input DataFrame.\n",
    "    \n",
    "    Returns:\n",
    "    pd.DataFrame: The DataFrame after dropping the specified columns.\n",
    "    \"\"\"\n",
    "    columns_to_drop = ['data', 'Index', 'espessura']\n",
    "    df = df.drop(columns=columns_to_drop)\n",
    "    return df"
   ]
  },
  {
   "cell_type": "code",
   "execution_count": 6,
   "metadata": {},
   "outputs": [
    {
     "name": "stdout",
     "output_type": "stream",
     "text": [
      "       peso  comprimento_Total  comprimento_Padrao  comprimento_Cabeca  altura\n",
      "595  290.58               23.4                19.8                 6.2     6.8\n",
      "596  282.74               23.5                20.3                 6.5     6.5\n",
      "597  285.64               24.3                20.8                 6.6     6.6\n",
      "598  290.22               24.3                20.3                 6.8     6.8\n",
      "599  349.84               25.9                21.5                 7.0     7.0\n",
      "..      ...                ...                 ...                 ...     ...\n",
      "669  382.79               25.4                21.5                 7.5     8.5\n",
      "670  401.90               26.5                22.3                 7.2     8.5\n",
      "671  441.98               27.8                23.4                 7.5     8.7\n",
      "672  468.54               28.0                23.5                 7.8     8.5\n",
      "673  418.14               26.3                22.2                 7.4     8.5\n",
      "\n",
      "[79 rows x 5 columns]\n"
     ]
    }
   ],
   "source": [
    "# List of DataFrames\n",
    "dataframes = [df1, df2, df3, df4, df5, df6]\n",
    "\n",
    "# Apply drop_columns function to each DataFrame in the list\n",
    "dropped_dataframes = [drop_columns(df) for df in dataframes]\n",
    "\n",
    "# Print the first few rows of each resulting DataFrame\n",
    "for i, df in enumerate(dropped_dataframes):\n",
    "    print(f\"DataFrame {i+1} after dropping columns:\")\n",
    "    print(df.head())"
   ]
  },
  {
   "cell_type": "code",
   "execution_count": 8,
   "metadata": {},
   "outputs": [
    {
     "data": {
      "text/html": [
       "<style type=\"text/css\">\n",
       "#T_f16cd_row8_col1 {\n",
       "  background-color: lightgreen;\n",
       "}\n",
       "</style>\n",
       "<table id=\"T_f16cd\">\n",
       "  <thead>\n",
       "    <tr>\n",
       "      <th class=\"blank level0\" >&nbsp;</th>\n",
       "      <th id=\"T_f16cd_level0_col0\" class=\"col_heading level0 col0\" >Description</th>\n",
       "      <th id=\"T_f16cd_level0_col1\" class=\"col_heading level0 col1\" >Value</th>\n",
       "    </tr>\n",
       "  </thead>\n",
       "  <tbody>\n",
       "    <tr>\n",
       "      <th id=\"T_f16cd_level0_row0\" class=\"row_heading level0 row0\" >0</th>\n",
       "      <td id=\"T_f16cd_row0_col0\" class=\"data row0 col0\" >Session id</td>\n",
       "      <td id=\"T_f16cd_row0_col1\" class=\"data row0 col1\" >1182</td>\n",
       "    </tr>\n",
       "    <tr>\n",
       "      <th id=\"T_f16cd_level0_row1\" class=\"row_heading level0 row1\" >1</th>\n",
       "      <td id=\"T_f16cd_row1_col0\" class=\"data row1 col0\" >Target</td>\n",
       "      <td id=\"T_f16cd_row1_col1\" class=\"data row1 col1\" >peso</td>\n",
       "    </tr>\n",
       "    <tr>\n",
       "      <th id=\"T_f16cd_level0_row2\" class=\"row_heading level0 row2\" >2</th>\n",
       "      <td id=\"T_f16cd_row2_col0\" class=\"data row2 col0\" >Target type</td>\n",
       "      <td id=\"T_f16cd_row2_col1\" class=\"data row2 col1\" >Regression</td>\n",
       "    </tr>\n",
       "    <tr>\n",
       "      <th id=\"T_f16cd_level0_row3\" class=\"row_heading level0 row3\" >3</th>\n",
       "      <td id=\"T_f16cd_row3_col0\" class=\"data row3 col0\" >Original data shape</td>\n",
       "      <td id=\"T_f16cd_row3_col1\" class=\"data row3 col1\" >(79, 5)</td>\n",
       "    </tr>\n",
       "    <tr>\n",
       "      <th id=\"T_f16cd_level0_row4\" class=\"row_heading level0 row4\" >4</th>\n",
       "      <td id=\"T_f16cd_row4_col0\" class=\"data row4 col0\" >Transformed data shape</td>\n",
       "      <td id=\"T_f16cd_row4_col1\" class=\"data row4 col1\" >(79, 5)</td>\n",
       "    </tr>\n",
       "    <tr>\n",
       "      <th id=\"T_f16cd_level0_row5\" class=\"row_heading level0 row5\" >5</th>\n",
       "      <td id=\"T_f16cd_row5_col0\" class=\"data row5 col0\" >Transformed train set shape</td>\n",
       "      <td id=\"T_f16cd_row5_col1\" class=\"data row5 col1\" >(55, 5)</td>\n",
       "    </tr>\n",
       "    <tr>\n",
       "      <th id=\"T_f16cd_level0_row6\" class=\"row_heading level0 row6\" >6</th>\n",
       "      <td id=\"T_f16cd_row6_col0\" class=\"data row6 col0\" >Transformed test set shape</td>\n",
       "      <td id=\"T_f16cd_row6_col1\" class=\"data row6 col1\" >(24, 5)</td>\n",
       "    </tr>\n",
       "    <tr>\n",
       "      <th id=\"T_f16cd_level0_row7\" class=\"row_heading level0 row7\" >7</th>\n",
       "      <td id=\"T_f16cd_row7_col0\" class=\"data row7 col0\" >Numeric features</td>\n",
       "      <td id=\"T_f16cd_row7_col1\" class=\"data row7 col1\" >4</td>\n",
       "    </tr>\n",
       "    <tr>\n",
       "      <th id=\"T_f16cd_level0_row8\" class=\"row_heading level0 row8\" >8</th>\n",
       "      <td id=\"T_f16cd_row8_col0\" class=\"data row8 col0\" >Preprocess</td>\n",
       "      <td id=\"T_f16cd_row8_col1\" class=\"data row8 col1\" >True</td>\n",
       "    </tr>\n",
       "    <tr>\n",
       "      <th id=\"T_f16cd_level0_row9\" class=\"row_heading level0 row9\" >9</th>\n",
       "      <td id=\"T_f16cd_row9_col0\" class=\"data row9 col0\" >Imputation type</td>\n",
       "      <td id=\"T_f16cd_row9_col1\" class=\"data row9 col1\" >simple</td>\n",
       "    </tr>\n",
       "    <tr>\n",
       "      <th id=\"T_f16cd_level0_row10\" class=\"row_heading level0 row10\" >10</th>\n",
       "      <td id=\"T_f16cd_row10_col0\" class=\"data row10 col0\" >Numeric imputation</td>\n",
       "      <td id=\"T_f16cd_row10_col1\" class=\"data row10 col1\" >mean</td>\n",
       "    </tr>\n",
       "    <tr>\n",
       "      <th id=\"T_f16cd_level0_row11\" class=\"row_heading level0 row11\" >11</th>\n",
       "      <td id=\"T_f16cd_row11_col0\" class=\"data row11 col0\" >Categorical imputation</td>\n",
       "      <td id=\"T_f16cd_row11_col1\" class=\"data row11 col1\" >mode</td>\n",
       "    </tr>\n",
       "    <tr>\n",
       "      <th id=\"T_f16cd_level0_row12\" class=\"row_heading level0 row12\" >12</th>\n",
       "      <td id=\"T_f16cd_row12_col0\" class=\"data row12 col0\" >Fold Generator</td>\n",
       "      <td id=\"T_f16cd_row12_col1\" class=\"data row12 col1\" >KFold</td>\n",
       "    </tr>\n",
       "    <tr>\n",
       "      <th id=\"T_f16cd_level0_row13\" class=\"row_heading level0 row13\" >13</th>\n",
       "      <td id=\"T_f16cd_row13_col0\" class=\"data row13 col0\" >Fold Number</td>\n",
       "      <td id=\"T_f16cd_row13_col1\" class=\"data row13 col1\" >10</td>\n",
       "    </tr>\n",
       "    <tr>\n",
       "      <th id=\"T_f16cd_level0_row14\" class=\"row_heading level0 row14\" >14</th>\n",
       "      <td id=\"T_f16cd_row14_col0\" class=\"data row14 col0\" >CPU Jobs</td>\n",
       "      <td id=\"T_f16cd_row14_col1\" class=\"data row14 col1\" >-1</td>\n",
       "    </tr>\n",
       "    <tr>\n",
       "      <th id=\"T_f16cd_level0_row15\" class=\"row_heading level0 row15\" >15</th>\n",
       "      <td id=\"T_f16cd_row15_col0\" class=\"data row15 col0\" >Use GPU</td>\n",
       "      <td id=\"T_f16cd_row15_col1\" class=\"data row15 col1\" >False</td>\n",
       "    </tr>\n",
       "    <tr>\n",
       "      <th id=\"T_f16cd_level0_row16\" class=\"row_heading level0 row16\" >16</th>\n",
       "      <td id=\"T_f16cd_row16_col0\" class=\"data row16 col0\" >Log Experiment</td>\n",
       "      <td id=\"T_f16cd_row16_col1\" class=\"data row16 col1\" >False</td>\n",
       "    </tr>\n",
       "    <tr>\n",
       "      <th id=\"T_f16cd_level0_row17\" class=\"row_heading level0 row17\" >17</th>\n",
       "      <td id=\"T_f16cd_row17_col0\" class=\"data row17 col0\" >Experiment Name</td>\n",
       "      <td id=\"T_f16cd_row17_col1\" class=\"data row17 col1\" >reg-default-name</td>\n",
       "    </tr>\n",
       "    <tr>\n",
       "      <th id=\"T_f16cd_level0_row18\" class=\"row_heading level0 row18\" >18</th>\n",
       "      <td id=\"T_f16cd_row18_col0\" class=\"data row18 col0\" >USI</td>\n",
       "      <td id=\"T_f16cd_row18_col1\" class=\"data row18 col1\" >9561</td>\n",
       "    </tr>\n",
       "  </tbody>\n",
       "</table>\n"
      ],
      "text/plain": [
       "<pandas.io.formats.style.Styler at 0x24e88de0910>"
      ]
     },
     "metadata": {},
     "output_type": "display_data"
    },
    {
     "data": {
      "text/html": [],
      "text/plain": [
       "<IPython.core.display.HTML object>"
      ]
     },
     "metadata": {},
     "output_type": "display_data"
    },
    {
     "data": {
      "text/html": [
       "<style type=\"text/css\">\n",
       "#T_e0301 th {\n",
       "  text-align: left;\n",
       "}\n",
       "#T_e0301_row0_col0, #T_e0301_row0_col1, #T_e0301_row0_col5, #T_e0301_row0_col6, #T_e0301_row1_col0, #T_e0301_row1_col1, #T_e0301_row1_col2, #T_e0301_row1_col3, #T_e0301_row1_col4, #T_e0301_row1_col6, #T_e0301_row2_col0, #T_e0301_row2_col1, #T_e0301_row2_col2, #T_e0301_row2_col3, #T_e0301_row2_col4, #T_e0301_row2_col5, #T_e0301_row2_col6, #T_e0301_row3_col0, #T_e0301_row3_col1, #T_e0301_row3_col2, #T_e0301_row3_col3, #T_e0301_row3_col4, #T_e0301_row3_col5, #T_e0301_row4_col0, #T_e0301_row4_col2, #T_e0301_row4_col3, #T_e0301_row4_col4, #T_e0301_row4_col5, #T_e0301_row5_col0, #T_e0301_row5_col1, #T_e0301_row5_col2, #T_e0301_row5_col3, #T_e0301_row5_col4, #T_e0301_row5_col5, #T_e0301_row5_col6, #T_e0301_row6_col0, #T_e0301_row6_col1, #T_e0301_row6_col2, #T_e0301_row6_col3, #T_e0301_row6_col4, #T_e0301_row6_col5, #T_e0301_row6_col6, #T_e0301_row7_col0, #T_e0301_row7_col1, #T_e0301_row7_col2, #T_e0301_row7_col3, #T_e0301_row7_col4, #T_e0301_row7_col5, #T_e0301_row7_col6, #T_e0301_row8_col0, #T_e0301_row8_col1, #T_e0301_row8_col2, #T_e0301_row8_col3, #T_e0301_row8_col4, #T_e0301_row8_col5, #T_e0301_row8_col6, #T_e0301_row9_col0, #T_e0301_row9_col1, #T_e0301_row9_col2, #T_e0301_row9_col3, #T_e0301_row9_col4, #T_e0301_row9_col5, #T_e0301_row9_col6, #T_e0301_row10_col0, #T_e0301_row10_col1, #T_e0301_row10_col2, #T_e0301_row10_col3, #T_e0301_row10_col4, #T_e0301_row10_col5, #T_e0301_row10_col6, #T_e0301_row11_col0, #T_e0301_row11_col1, #T_e0301_row11_col2, #T_e0301_row11_col3, #T_e0301_row11_col4, #T_e0301_row11_col5, #T_e0301_row11_col6, #T_e0301_row12_col0, #T_e0301_row12_col1, #T_e0301_row12_col2, #T_e0301_row12_col3, #T_e0301_row12_col4, #T_e0301_row12_col5, #T_e0301_row12_col6, #T_e0301_row13_col0, #T_e0301_row13_col1, #T_e0301_row13_col2, #T_e0301_row13_col3, #T_e0301_row13_col4, #T_e0301_row13_col5, #T_e0301_row13_col6, #T_e0301_row14_col0, #T_e0301_row14_col1, #T_e0301_row14_col2, #T_e0301_row14_col3, #T_e0301_row14_col4, #T_e0301_row14_col5, #T_e0301_row14_col6, #T_e0301_row15_col0, #T_e0301_row15_col1, #T_e0301_row15_col2, #T_e0301_row15_col3, #T_e0301_row15_col4, #T_e0301_row15_col5, #T_e0301_row15_col6, #T_e0301_row16_col0, #T_e0301_row16_col1, #T_e0301_row16_col2, #T_e0301_row16_col3, #T_e0301_row16_col4, #T_e0301_row16_col5, #T_e0301_row16_col6, #T_e0301_row17_col0, #T_e0301_row17_col1, #T_e0301_row17_col2, #T_e0301_row17_col3, #T_e0301_row17_col4, #T_e0301_row17_col5, #T_e0301_row17_col6, #T_e0301_row18_col0, #T_e0301_row18_col1, #T_e0301_row18_col2, #T_e0301_row18_col3, #T_e0301_row18_col4, #T_e0301_row18_col5, #T_e0301_row18_col6 {\n",
       "  text-align: left;\n",
       "}\n",
       "#T_e0301_row0_col2, #T_e0301_row0_col3, #T_e0301_row0_col4, #T_e0301_row1_col5, #T_e0301_row3_col6, #T_e0301_row4_col1, #T_e0301_row4_col6 {\n",
       "  text-align: left;\n",
       "  background-color: yellow;\n",
       "}\n",
       "#T_e0301_row0_col7, #T_e0301_row1_col7, #T_e0301_row4_col7, #T_e0301_row5_col7, #T_e0301_row9_col7, #T_e0301_row10_col7, #T_e0301_row11_col7, #T_e0301_row12_col7, #T_e0301_row13_col7, #T_e0301_row14_col7, #T_e0301_row15_col7, #T_e0301_row16_col7 {\n",
       "  text-align: left;\n",
       "  background-color: lightgrey;\n",
       "}\n",
       "#T_e0301_row2_col7, #T_e0301_row3_col7, #T_e0301_row6_col7, #T_e0301_row7_col7, #T_e0301_row8_col7, #T_e0301_row17_col7, #T_e0301_row18_col7 {\n",
       "  text-align: left;\n",
       "  background-color: yellow;\n",
       "  background-color: lightgrey;\n",
       "}\n",
       "</style>\n",
       "<table id=\"T_e0301\">\n",
       "  <thead>\n",
       "    <tr>\n",
       "      <th class=\"blank level0\" >&nbsp;</th>\n",
       "      <th id=\"T_e0301_level0_col0\" class=\"col_heading level0 col0\" >Model</th>\n",
       "      <th id=\"T_e0301_level0_col1\" class=\"col_heading level0 col1\" >MAE</th>\n",
       "      <th id=\"T_e0301_level0_col2\" class=\"col_heading level0 col2\" >MSE</th>\n",
       "      <th id=\"T_e0301_level0_col3\" class=\"col_heading level0 col3\" >RMSE</th>\n",
       "      <th id=\"T_e0301_level0_col4\" class=\"col_heading level0 col4\" >R2</th>\n",
       "      <th id=\"T_e0301_level0_col5\" class=\"col_heading level0 col5\" >RMSLE</th>\n",
       "      <th id=\"T_e0301_level0_col6\" class=\"col_heading level0 col6\" >MAPE</th>\n",
       "      <th id=\"T_e0301_level0_col7\" class=\"col_heading level0 col7\" >TT (Sec)</th>\n",
       "    </tr>\n",
       "  </thead>\n",
       "  <tbody>\n",
       "    <tr>\n",
       "      <th id=\"T_e0301_level0_row0\" class=\"row_heading level0 row0\" >huber</th>\n",
       "      <td id=\"T_e0301_row0_col0\" class=\"data row0 col0\" >Huber Regressor</td>\n",
       "      <td id=\"T_e0301_row0_col1\" class=\"data row0 col1\" >24.4830</td>\n",
       "      <td id=\"T_e0301_row0_col2\" class=\"data row0 col2\" >1371.0010</td>\n",
       "      <td id=\"T_e0301_row0_col3\" class=\"data row0 col3\" >32.8066</td>\n",
       "      <td id=\"T_e0301_row0_col4\" class=\"data row0 col4\" >0.7004</td>\n",
       "      <td id=\"T_e0301_row0_col5\" class=\"data row0 col5\" >0.1015</td>\n",
       "      <td id=\"T_e0301_row0_col6\" class=\"data row0 col6\" >0.0748</td>\n",
       "      <td id=\"T_e0301_row0_col7\" class=\"data row0 col7\" >0.0080</td>\n",
       "    </tr>\n",
       "    <tr>\n",
       "      <th id=\"T_e0301_level0_row1\" class=\"row_heading level0 row1\" >br</th>\n",
       "      <td id=\"T_e0301_row1_col0\" class=\"data row1 col0\" >Bayesian Ridge</td>\n",
       "      <td id=\"T_e0301_row1_col1\" class=\"data row1 col1\" >24.4743</td>\n",
       "      <td id=\"T_e0301_row1_col2\" class=\"data row1 col2\" >1441.0698</td>\n",
       "      <td id=\"T_e0301_row1_col3\" class=\"data row1 col3\" >33.1755</td>\n",
       "      <td id=\"T_e0301_row1_col4\" class=\"data row1 col4\" >0.6892</td>\n",
       "      <td id=\"T_e0301_row1_col5\" class=\"data row1 col5\" >0.0994</td>\n",
       "      <td id=\"T_e0301_row1_col6\" class=\"data row1 col6\" >0.0734</td>\n",
       "      <td id=\"T_e0301_row1_col7\" class=\"data row1 col7\" >0.0080</td>\n",
       "    </tr>\n",
       "    <tr>\n",
       "      <th id=\"T_e0301_level0_row2\" class=\"row_heading level0 row2\" >ridge</th>\n",
       "      <td id=\"T_e0301_row2_col0\" class=\"data row2 col0\" >Ridge Regression</td>\n",
       "      <td id=\"T_e0301_row2_col1\" class=\"data row2 col1\" >24.6221</td>\n",
       "      <td id=\"T_e0301_row2_col2\" class=\"data row2 col2\" >1468.9486</td>\n",
       "      <td id=\"T_e0301_row2_col3\" class=\"data row2 col3\" >33.4168</td>\n",
       "      <td id=\"T_e0301_row2_col4\" class=\"data row2 col4\" >0.6825</td>\n",
       "      <td id=\"T_e0301_row2_col5\" class=\"data row2 col5\" >0.1000</td>\n",
       "      <td id=\"T_e0301_row2_col6\" class=\"data row2 col6\" >0.0737</td>\n",
       "      <td id=\"T_e0301_row2_col7\" class=\"data row2 col7\" >0.0060</td>\n",
       "    </tr>\n",
       "    <tr>\n",
       "      <th id=\"T_e0301_level0_row3\" class=\"row_heading level0 row3\" >lasso</th>\n",
       "      <td id=\"T_e0301_row3_col0\" class=\"data row3 col0\" >Lasso Regression</td>\n",
       "      <td id=\"T_e0301_row3_col1\" class=\"data row3 col1\" >24.4198</td>\n",
       "      <td id=\"T_e0301_row3_col2\" class=\"data row3 col2\" >1461.1318</td>\n",
       "      <td id=\"T_e0301_row3_col3\" class=\"data row3 col3\" >33.3372</td>\n",
       "      <td id=\"T_e0301_row3_col4\" class=\"data row3 col4\" >0.6823</td>\n",
       "      <td id=\"T_e0301_row3_col5\" class=\"data row3 col5\" >0.1004</td>\n",
       "      <td id=\"T_e0301_row3_col6\" class=\"data row3 col6\" >0.0733</td>\n",
       "      <td id=\"T_e0301_row3_col7\" class=\"data row3 col7\" >0.0060</td>\n",
       "    </tr>\n",
       "    <tr>\n",
       "      <th id=\"T_e0301_level0_row4\" class=\"row_heading level0 row4\" >llar</th>\n",
       "      <td id=\"T_e0301_row4_col0\" class=\"data row4 col0\" >Lasso Least Angle Regression</td>\n",
       "      <td id=\"T_e0301_row4_col1\" class=\"data row4 col1\" >24.4196</td>\n",
       "      <td id=\"T_e0301_row4_col2\" class=\"data row4 col2\" >1461.3693</td>\n",
       "      <td id=\"T_e0301_row4_col3\" class=\"data row4 col3\" >33.3392</td>\n",
       "      <td id=\"T_e0301_row4_col4\" class=\"data row4 col4\" >0.6822</td>\n",
       "      <td id=\"T_e0301_row4_col5\" class=\"data row4 col5\" >0.1004</td>\n",
       "      <td id=\"T_e0301_row4_col6\" class=\"data row4 col6\" >0.0733</td>\n",
       "      <td id=\"T_e0301_row4_col7\" class=\"data row4 col7\" >0.0070</td>\n",
       "    </tr>\n",
       "    <tr>\n",
       "      <th id=\"T_e0301_level0_row5\" class=\"row_heading level0 row5\" >lr</th>\n",
       "      <td id=\"T_e0301_row5_col0\" class=\"data row5 col0\" >Linear Regression</td>\n",
       "      <td id=\"T_e0301_row5_col1\" class=\"data row5 col1\" >25.1759</td>\n",
       "      <td id=\"T_e0301_row5_col2\" class=\"data row5 col2\" >1525.8545</td>\n",
       "      <td id=\"T_e0301_row5_col3\" class=\"data row5 col3\" >34.0232</td>\n",
       "      <td id=\"T_e0301_row5_col4\" class=\"data row5 col4\" >0.6662</td>\n",
       "      <td id=\"T_e0301_row5_col5\" class=\"data row5 col5\" >0.1015</td>\n",
       "      <td id=\"T_e0301_row5_col6\" class=\"data row5 col6\" >0.0751</td>\n",
       "      <td id=\"T_e0301_row5_col7\" class=\"data row5 col7\" >0.9240</td>\n",
       "    </tr>\n",
       "    <tr>\n",
       "      <th id=\"T_e0301_level0_row6\" class=\"row_heading level0 row6\" >lar</th>\n",
       "      <td id=\"T_e0301_row6_col0\" class=\"data row6 col0\" >Least Angle Regression</td>\n",
       "      <td id=\"T_e0301_row6_col1\" class=\"data row6 col1\" >25.1759</td>\n",
       "      <td id=\"T_e0301_row6_col2\" class=\"data row6 col2\" >1525.8523</td>\n",
       "      <td id=\"T_e0301_row6_col3\" class=\"data row6 col3\" >34.0232</td>\n",
       "      <td id=\"T_e0301_row6_col4\" class=\"data row6 col4\" >0.6662</td>\n",
       "      <td id=\"T_e0301_row6_col5\" class=\"data row6 col5\" >0.1015</td>\n",
       "      <td id=\"T_e0301_row6_col6\" class=\"data row6 col6\" >0.0751</td>\n",
       "      <td id=\"T_e0301_row6_col7\" class=\"data row6 col7\" >0.0060</td>\n",
       "    </tr>\n",
       "    <tr>\n",
       "      <th id=\"T_e0301_level0_row7\" class=\"row_heading level0 row7\" >en</th>\n",
       "      <td id=\"T_e0301_row7_col0\" class=\"data row7 col0\" >Elastic Net</td>\n",
       "      <td id=\"T_e0301_row7_col1\" class=\"data row7 col1\" >25.9120</td>\n",
       "      <td id=\"T_e0301_row7_col2\" class=\"data row7 col2\" >1428.4380</td>\n",
       "      <td id=\"T_e0301_row7_col3\" class=\"data row7 col3\" >34.0641</td>\n",
       "      <td id=\"T_e0301_row7_col4\" class=\"data row7 col4\" >0.6644</td>\n",
       "      <td id=\"T_e0301_row7_col5\" class=\"data row7 col5\" >0.1016</td>\n",
       "      <td id=\"T_e0301_row7_col6\" class=\"data row7 col6\" >0.0777</td>\n",
       "      <td id=\"T_e0301_row7_col7\" class=\"data row7 col7\" >0.0060</td>\n",
       "    </tr>\n",
       "    <tr>\n",
       "      <th id=\"T_e0301_level0_row8\" class=\"row_heading level0 row8\" >omp</th>\n",
       "      <td id=\"T_e0301_row8_col0\" class=\"data row8 col0\" >Orthogonal Matching Pursuit</td>\n",
       "      <td id=\"T_e0301_row8_col1\" class=\"data row8 col1\" >26.4275</td>\n",
       "      <td id=\"T_e0301_row8_col2\" class=\"data row8 col2\" >1499.7084</td>\n",
       "      <td id=\"T_e0301_row8_col3\" class=\"data row8 col3\" >35.1107</td>\n",
       "      <td id=\"T_e0301_row8_col4\" class=\"data row8 col4\" >0.6542</td>\n",
       "      <td id=\"T_e0301_row8_col5\" class=\"data row8 col5\" >0.1048</td>\n",
       "      <td id=\"T_e0301_row8_col6\" class=\"data row8 col6\" >0.0783</td>\n",
       "      <td id=\"T_e0301_row8_col7\" class=\"data row8 col7\" >0.0060</td>\n",
       "    </tr>\n",
       "    <tr>\n",
       "      <th id=\"T_e0301_level0_row9\" class=\"row_heading level0 row9\" >rf</th>\n",
       "      <td id=\"T_e0301_row9_col0\" class=\"data row9 col0\" >Random Forest Regressor</td>\n",
       "      <td id=\"T_e0301_row9_col1\" class=\"data row9 col1\" >30.0615</td>\n",
       "      <td id=\"T_e0301_row9_col2\" class=\"data row9 col2\" >2056.6544</td>\n",
       "      <td id=\"T_e0301_row9_col3\" class=\"data row9 col3\" >39.2399</td>\n",
       "      <td id=\"T_e0301_row9_col4\" class=\"data row9 col4\" >0.5797</td>\n",
       "      <td id=\"T_e0301_row9_col5\" class=\"data row9 col5\" >0.1230</td>\n",
       "      <td id=\"T_e0301_row9_col6\" class=\"data row9 col6\" >0.0982</td>\n",
       "      <td id=\"T_e0301_row9_col7\" class=\"data row9 col7\" >0.0380</td>\n",
       "    </tr>\n",
       "    <tr>\n",
       "      <th id=\"T_e0301_level0_row10\" class=\"row_heading level0 row10\" >knn</th>\n",
       "      <td id=\"T_e0301_row10_col0\" class=\"data row10 col0\" >K Neighbors Regressor</td>\n",
       "      <td id=\"T_e0301_row10_col1\" class=\"data row10 col1\" >30.3382</td>\n",
       "      <td id=\"T_e0301_row10_col2\" class=\"data row10 col2\" >1971.6576</td>\n",
       "      <td id=\"T_e0301_row10_col3\" class=\"data row10 col3\" >39.7721</td>\n",
       "      <td id=\"T_e0301_row10_col4\" class=\"data row10 col4\" >0.5715</td>\n",
       "      <td id=\"T_e0301_row10_col5\" class=\"data row10 col5\" >0.1241</td>\n",
       "      <td id=\"T_e0301_row10_col6\" class=\"data row10 col6\" >0.0968</td>\n",
       "      <td id=\"T_e0301_row10_col7\" class=\"data row10 col7\" >0.0150</td>\n",
       "    </tr>\n",
       "    <tr>\n",
       "      <th id=\"T_e0301_level0_row11\" class=\"row_heading level0 row11\" >et</th>\n",
       "      <td id=\"T_e0301_row11_col0\" class=\"data row11 col0\" >Extra Trees Regressor</td>\n",
       "      <td id=\"T_e0301_row11_col1\" class=\"data row11 col1\" >32.3183</td>\n",
       "      <td id=\"T_e0301_row11_col2\" class=\"data row11 col2\" >2424.9139</td>\n",
       "      <td id=\"T_e0301_row11_col3\" class=\"data row11 col3\" >43.2661</td>\n",
       "      <td id=\"T_e0301_row11_col4\" class=\"data row11 col4\" >0.5232</td>\n",
       "      <td id=\"T_e0301_row11_col5\" class=\"data row11 col5\" >0.1350</td>\n",
       "      <td id=\"T_e0301_row11_col6\" class=\"data row11 col6\" >0.1050</td>\n",
       "      <td id=\"T_e0301_row11_col7\" class=\"data row11 col7\" >0.0290</td>\n",
       "    </tr>\n",
       "    <tr>\n",
       "      <th id=\"T_e0301_level0_row12\" class=\"row_heading level0 row12\" >ada</th>\n",
       "      <td id=\"T_e0301_row12_col0\" class=\"data row12 col0\" >AdaBoost Regressor</td>\n",
       "      <td id=\"T_e0301_row12_col1\" class=\"data row12 col1\" >31.8001</td>\n",
       "      <td id=\"T_e0301_row12_col2\" class=\"data row12 col2\" >2405.5239</td>\n",
       "      <td id=\"T_e0301_row12_col3\" class=\"data row12 col3\" >41.6805</td>\n",
       "      <td id=\"T_e0301_row12_col4\" class=\"data row12 col4\" >0.4688</td>\n",
       "      <td id=\"T_e0301_row12_col5\" class=\"data row12 col5\" >0.1306</td>\n",
       "      <td id=\"T_e0301_row12_col6\" class=\"data row12 col6\" >0.1073</td>\n",
       "      <td id=\"T_e0301_row12_col7\" class=\"data row12 col7\" >0.0140</td>\n",
       "    </tr>\n",
       "    <tr>\n",
       "      <th id=\"T_e0301_level0_row13\" class=\"row_heading level0 row13\" >lightgbm</th>\n",
       "      <td id=\"T_e0301_row13_col0\" class=\"data row13 col0\" >Light Gradient Boosting Machine</td>\n",
       "      <td id=\"T_e0301_row13_col1\" class=\"data row13 col1\" >37.9751</td>\n",
       "      <td id=\"T_e0301_row13_col2\" class=\"data row13 col2\" >2560.2971</td>\n",
       "      <td id=\"T_e0301_row13_col3\" class=\"data row13 col3\" >46.0947</td>\n",
       "      <td id=\"T_e0301_row13_col4\" class=\"data row13 col4\" >0.3629</td>\n",
       "      <td id=\"T_e0301_row13_col5\" class=\"data row13 col5\" >0.1387</td>\n",
       "      <td id=\"T_e0301_row13_col6\" class=\"data row13 col6\" >0.1186</td>\n",
       "      <td id=\"T_e0301_row13_col7\" class=\"data row13 col7\" >0.0230</td>\n",
       "    </tr>\n",
       "    <tr>\n",
       "      <th id=\"T_e0301_level0_row14\" class=\"row_heading level0 row14\" >gbr</th>\n",
       "      <td id=\"T_e0301_row14_col0\" class=\"data row14 col0\" >Gradient Boosting Regressor</td>\n",
       "      <td id=\"T_e0301_row14_col1\" class=\"data row14 col1\" >35.9226</td>\n",
       "      <td id=\"T_e0301_row14_col2\" class=\"data row14 col2\" >3147.2483</td>\n",
       "      <td id=\"T_e0301_row14_col3\" class=\"data row14 col3\" >48.9232</td>\n",
       "      <td id=\"T_e0301_row14_col4\" class=\"data row14 col4\" >0.3048</td>\n",
       "      <td id=\"T_e0301_row14_col5\" class=\"data row14 col5\" >0.1517</td>\n",
       "      <td id=\"T_e0301_row14_col6\" class=\"data row14 col6\" >0.1180</td>\n",
       "      <td id=\"T_e0301_row14_col7\" class=\"data row14 col7\" >0.0160</td>\n",
       "    </tr>\n",
       "    <tr>\n",
       "      <th id=\"T_e0301_level0_row15\" class=\"row_heading level0 row15\" >xgboost</th>\n",
       "      <td id=\"T_e0301_row15_col0\" class=\"data row15 col0\" >Extreme Gradient Boosting</td>\n",
       "      <td id=\"T_e0301_row15_col1\" class=\"data row15 col1\" >35.6338</td>\n",
       "      <td id=\"T_e0301_row15_col2\" class=\"data row15 col2\" >2978.2724</td>\n",
       "      <td id=\"T_e0301_row15_col3\" class=\"data row15 col3\" >48.8689</td>\n",
       "      <td id=\"T_e0301_row15_col4\" class=\"data row15 col4\" >0.2924</td>\n",
       "      <td id=\"T_e0301_row15_col5\" class=\"data row15 col5\" >0.1516</td>\n",
       "      <td id=\"T_e0301_row15_col6\" class=\"data row15 col6\" >0.1166</td>\n",
       "      <td id=\"T_e0301_row15_col7\" class=\"data row15 col7\" >0.0890</td>\n",
       "    </tr>\n",
       "    <tr>\n",
       "      <th id=\"T_e0301_level0_row16\" class=\"row_heading level0 row16\" >dt</th>\n",
       "      <td id=\"T_e0301_row16_col0\" class=\"data row16 col0\" >Decision Tree Regressor</td>\n",
       "      <td id=\"T_e0301_row16_col1\" class=\"data row16 col1\" >38.1636</td>\n",
       "      <td id=\"T_e0301_row16_col2\" class=\"data row16 col2\" >3329.1819</td>\n",
       "      <td id=\"T_e0301_row16_col3\" class=\"data row16 col3\" >50.3807</td>\n",
       "      <td id=\"T_e0301_row16_col4\" class=\"data row16 col4\" >0.1633</td>\n",
       "      <td id=\"T_e0301_row16_col5\" class=\"data row16 col5\" >0.1569</td>\n",
       "      <td id=\"T_e0301_row16_col6\" class=\"data row16 col6\" >0.1248</td>\n",
       "      <td id=\"T_e0301_row16_col7\" class=\"data row16 col7\" >0.0070</td>\n",
       "    </tr>\n",
       "    <tr>\n",
       "      <th id=\"T_e0301_level0_row17\" class=\"row_heading level0 row17\" >dummy</th>\n",
       "      <td id=\"T_e0301_row17_col0\" class=\"data row17 col0\" >Dummy Regressor</td>\n",
       "      <td id=\"T_e0301_row17_col1\" class=\"data row17 col1\" >69.0776</td>\n",
       "      <td id=\"T_e0301_row17_col2\" class=\"data row17 col2\" >6676.9095</td>\n",
       "      <td id=\"T_e0301_row17_col3\" class=\"data row17 col3\" >79.4832</td>\n",
       "      <td id=\"T_e0301_row17_col4\" class=\"data row17 col4\" >-1.1691</td>\n",
       "      <td id=\"T_e0301_row17_col5\" class=\"data row17 col5\" >0.2303</td>\n",
       "      <td id=\"T_e0301_row17_col6\" class=\"data row17 col6\" >0.2125</td>\n",
       "      <td id=\"T_e0301_row17_col7\" class=\"data row17 col7\" >0.0060</td>\n",
       "    </tr>\n",
       "    <tr>\n",
       "      <th id=\"T_e0301_level0_row18\" class=\"row_heading level0 row18\" >par</th>\n",
       "      <td id=\"T_e0301_row18_col0\" class=\"data row18 col0\" >Passive Aggressive Regressor</td>\n",
       "      <td id=\"T_e0301_row18_col1\" class=\"data row18 col1\" >75.8608</td>\n",
       "      <td id=\"T_e0301_row18_col2\" class=\"data row18 col2\" >8307.7762</td>\n",
       "      <td id=\"T_e0301_row18_col3\" class=\"data row18 col3\" >88.8325</td>\n",
       "      <td id=\"T_e0301_row18_col4\" class=\"data row18 col4\" >-2.6973</td>\n",
       "      <td id=\"T_e0301_row18_col5\" class=\"data row18 col5\" >0.2604</td>\n",
       "      <td id=\"T_e0301_row18_col6\" class=\"data row18 col6\" >0.2432</td>\n",
       "      <td id=\"T_e0301_row18_col7\" class=\"data row18 col7\" >0.0060</td>\n",
       "    </tr>\n",
       "  </tbody>\n",
       "</table>\n"
      ],
      "text/plain": [
       "<pandas.io.formats.style.Styler at 0x24e88e07f10>"
      ]
     },
     "metadata": {},
     "output_type": "display_data"
    },
    {
     "data": {
      "text/html": [],
      "text/plain": [
       "<IPython.core.display.HTML object>"
      ]
     },
     "metadata": {},
     "output_type": "display_data"
    }
   ],
   "source": [
    "#### DATA for BLIND TEST\n",
    "#exp2= setup(data = data,  target = 'peso')\n",
    "\n",
    "exp1= setup(data = df6,  target = 'peso')\n",
    "best_model = exp1.compare_models(n_select=1)"
   ]
  },
  {
   "cell_type": "code",
   "execution_count": 10,
   "metadata": {},
   "outputs": [
    {
     "name": "stdout",
     "output_type": "stream",
     "text": [
      "HuberRegressor()\n"
     ]
    }
   ],
   "source": [
    "print(best_model)"
   ]
  },
  {
   "cell_type": "code",
   "execution_count": 12,
   "metadata": {},
   "outputs": [
    {
     "ename": "ValueError",
     "evalue": "Estimator HuberRegressor() not available. Please see docstring for list of available estimators.",
     "output_type": "error",
     "traceback": [
      "\u001b[1;31m---------------------------------------------------------------------------\u001b[0m",
      "\u001b[1;31mValueError\u001b[0m                                Traceback (most recent call last)",
      "Cell \u001b[1;32mIn[12], line 1\u001b[0m\n\u001b[1;32m----> 1\u001b[0m huber \u001b[38;5;241m=\u001b[39m \u001b[43mexp1\u001b[49m\u001b[38;5;241;43m.\u001b[39;49m\u001b[43mcreate_model\u001b[49m\u001b[43m(\u001b[49m\u001b[38;5;124;43m'\u001b[39;49m\u001b[38;5;124;43mHuberRegressor()\u001b[39;49m\u001b[38;5;124;43m'\u001b[39;49m\u001b[43m)\u001b[49m\n",
      "File \u001b[1;32m~\\AppData\\Local\\Packages\\PythonSoftwareFoundation.Python.3.10_qbz5n2kfra8p0\\LocalCache\\local-packages\\Python310\\site-packages\\pycaret\\regression\\oop.py:1285\u001b[0m, in \u001b[0;36mRegressionExperiment.create_model\u001b[1;34m(self, estimator, fold, round, cross_validation, fit_kwargs, groups, experiment_custom_tags, engine, verbose, return_train_score, **kwargs)\u001b[0m\n\u001b[0;32m   1282\u001b[0m     \u001b[38;5;28mself\u001b[39m\u001b[38;5;241m.\u001b[39m_set_engine(estimator\u001b[38;5;241m=\u001b[39mestimator, engine\u001b[38;5;241m=\u001b[39mengine, severity\u001b[38;5;241m=\u001b[39m\u001b[38;5;124m\"\u001b[39m\u001b[38;5;124merror\u001b[39m\u001b[38;5;124m\"\u001b[39m)\n\u001b[0;32m   1284\u001b[0m \u001b[38;5;28;01mtry\u001b[39;00m:\n\u001b[1;32m-> 1285\u001b[0m     return_values \u001b[38;5;241m=\u001b[39m \u001b[38;5;28msuper\u001b[39m()\u001b[38;5;241m.\u001b[39mcreate_model(\n\u001b[0;32m   1286\u001b[0m         estimator\u001b[38;5;241m=\u001b[39mestimator,\n\u001b[0;32m   1287\u001b[0m         fold\u001b[38;5;241m=\u001b[39mfold,\n\u001b[0;32m   1288\u001b[0m         \u001b[38;5;28mround\u001b[39m\u001b[38;5;241m=\u001b[39m\u001b[38;5;28mround\u001b[39m,\n\u001b[0;32m   1289\u001b[0m         cross_validation\u001b[38;5;241m=\u001b[39mcross_validation,\n\u001b[0;32m   1290\u001b[0m         fit_kwargs\u001b[38;5;241m=\u001b[39mfit_kwargs,\n\u001b[0;32m   1291\u001b[0m         groups\u001b[38;5;241m=\u001b[39mgroups,\n\u001b[0;32m   1292\u001b[0m         experiment_custom_tags\u001b[38;5;241m=\u001b[39mexperiment_custom_tags,\n\u001b[0;32m   1293\u001b[0m         verbose\u001b[38;5;241m=\u001b[39mverbose,\n\u001b[0;32m   1294\u001b[0m         return_train_score\u001b[38;5;241m=\u001b[39mreturn_train_score,\n\u001b[0;32m   1295\u001b[0m         \u001b[38;5;241m*\u001b[39m\u001b[38;5;241m*\u001b[39mkwargs,\n\u001b[0;32m   1296\u001b[0m     )\n\u001b[0;32m   1297\u001b[0m \u001b[38;5;28;01mfinally\u001b[39;00m:\n\u001b[0;32m   1298\u001b[0m     \u001b[38;5;28;01mif\u001b[39;00m engine \u001b[38;5;129;01mis\u001b[39;00m \u001b[38;5;129;01mnot\u001b[39;00m \u001b[38;5;28;01mNone\u001b[39;00m:\n\u001b[0;32m   1299\u001b[0m         \u001b[38;5;66;03m# Reset the models back to the default engines\u001b[39;00m\n",
      "File \u001b[1;32m~\\AppData\\Local\\Packages\\PythonSoftwareFoundation.Python.3.10_qbz5n2kfra8p0\\LocalCache\\local-packages\\Python310\\site-packages\\pycaret\\internal\\pycaret_experiment\\supervised_experiment.py:1766\u001b[0m, in \u001b[0;36m_SupervisedExperiment.create_model\u001b[1;34m(self, estimator, fold, round, cross_validation, predict, fit_kwargs, groups, refit, probability_threshold, experiment_custom_tags, verbose, return_train_score, **kwargs)\u001b[0m\n\u001b[0;32m   1754\u001b[0m \u001b[38;5;66;03m# TODO improve error message\u001b[39;00m\n\u001b[0;32m   1755\u001b[0m \u001b[38;5;28;01massert\u001b[39;00m \u001b[38;5;129;01mnot\u001b[39;00m \u001b[38;5;28many\u001b[39m(\n\u001b[0;32m   1756\u001b[0m     x\n\u001b[0;32m   1757\u001b[0m     \u001b[38;5;129;01min\u001b[39;00m (\n\u001b[1;32m   (...)\u001b[0m\n\u001b[0;32m   1764\u001b[0m     \u001b[38;5;28;01mfor\u001b[39;00m x \u001b[38;5;129;01min\u001b[39;00m kwargs\n\u001b[0;32m   1765\u001b[0m )\n\u001b[1;32m-> 1766\u001b[0m \u001b[38;5;28;01mreturn\u001b[39;00m \u001b[38;5;28mself\u001b[39m\u001b[38;5;241m.\u001b[39m_create_model(\n\u001b[0;32m   1767\u001b[0m     estimator\u001b[38;5;241m=\u001b[39mestimator,\n\u001b[0;32m   1768\u001b[0m     fold\u001b[38;5;241m=\u001b[39mfold,\n\u001b[0;32m   1769\u001b[0m     \u001b[38;5;28mround\u001b[39m\u001b[38;5;241m=\u001b[39m\u001b[38;5;28mround\u001b[39m,\n\u001b[0;32m   1770\u001b[0m     cross_validation\u001b[38;5;241m=\u001b[39mcross_validation,\n\u001b[0;32m   1771\u001b[0m     predict\u001b[38;5;241m=\u001b[39mpredict,\n\u001b[0;32m   1772\u001b[0m     fit_kwargs\u001b[38;5;241m=\u001b[39mfit_kwargs,\n\u001b[0;32m   1773\u001b[0m     groups\u001b[38;5;241m=\u001b[39mgroups,\n\u001b[0;32m   1774\u001b[0m     refit\u001b[38;5;241m=\u001b[39mrefit,\n\u001b[0;32m   1775\u001b[0m     probability_threshold\u001b[38;5;241m=\u001b[39mprobability_threshold,\n\u001b[0;32m   1776\u001b[0m     experiment_custom_tags\u001b[38;5;241m=\u001b[39mexperiment_custom_tags,\n\u001b[0;32m   1777\u001b[0m     verbose\u001b[38;5;241m=\u001b[39mverbose,\n\u001b[0;32m   1778\u001b[0m     return_train_score\u001b[38;5;241m=\u001b[39mreturn_train_score,\n\u001b[0;32m   1779\u001b[0m     \u001b[38;5;241m*\u001b[39m\u001b[38;5;241m*\u001b[39mkwargs,\n\u001b[0;32m   1780\u001b[0m )\n",
      "File \u001b[1;32m~\\AppData\\Local\\Packages\\PythonSoftwareFoundation.Python.3.10_qbz5n2kfra8p0\\LocalCache\\local-packages\\Python310\\site-packages\\pycaret\\internal\\pycaret_experiment\\supervised_experiment.py:1341\u001b[0m, in \u001b[0;36m_SupervisedExperiment._create_model\u001b[1;34m(self, estimator, fold, round, cross_validation, predict, fit_kwargs, groups, refit, probability_threshold, experiment_custom_tags, verbose, system, add_to_model_list, X_train_data, y_train_data, metrics, display, model_only, return_train_score, error_score, **kwargs)\u001b[0m\n\u001b[0;32m   1339\u001b[0m \u001b[38;5;28;01mif\u001b[39;00m \u001b[38;5;28misinstance\u001b[39m(estimator, \u001b[38;5;28mstr\u001b[39m):\n\u001b[0;32m   1340\u001b[0m     \u001b[38;5;28;01mif\u001b[39;00m estimator \u001b[38;5;129;01mnot\u001b[39;00m \u001b[38;5;129;01min\u001b[39;00m available_estimators:\n\u001b[1;32m-> 1341\u001b[0m         \u001b[38;5;28;01mraise\u001b[39;00m \u001b[38;5;167;01mValueError\u001b[39;00m(\n\u001b[0;32m   1342\u001b[0m             \u001b[38;5;124mf\u001b[39m\u001b[38;5;124m\"\u001b[39m\u001b[38;5;124mEstimator \u001b[39m\u001b[38;5;132;01m{\u001b[39;00mestimator\u001b[38;5;132;01m}\u001b[39;00m\u001b[38;5;124m not available. Please see docstring for list of available estimators.\u001b[39m\u001b[38;5;124m\"\u001b[39m\n\u001b[0;32m   1343\u001b[0m         )\n\u001b[0;32m   1344\u001b[0m \u001b[38;5;28;01melif\u001b[39;00m \u001b[38;5;129;01mnot\u001b[39;00m \u001b[38;5;28mhasattr\u001b[39m(estimator, \u001b[38;5;124m\"\u001b[39m\u001b[38;5;124mfit\u001b[39m\u001b[38;5;124m\"\u001b[39m):\n\u001b[0;32m   1345\u001b[0m     \u001b[38;5;28;01mraise\u001b[39;00m \u001b[38;5;167;01mValueError\u001b[39;00m(\n\u001b[0;32m   1346\u001b[0m         \u001b[38;5;124mf\u001b[39m\u001b[38;5;124m\"\u001b[39m\u001b[38;5;124mEstimator \u001b[39m\u001b[38;5;132;01m{\u001b[39;00mestimator\u001b[38;5;132;01m}\u001b[39;00m\u001b[38;5;124m does not have the required fit() method.\u001b[39m\u001b[38;5;124m\"\u001b[39m\n\u001b[0;32m   1347\u001b[0m     )\n",
      "\u001b[1;31mValueError\u001b[0m: Estimator HuberRegressor() not available. Please see docstring for list of available estimators."
     ]
    }
   ],
   "source": [
    "huber = exp1.create_model('huber')"
   ]
  },
  {
   "cell_type": "code",
   "execution_count": null,
   "metadata": {},
   "outputs": [
    {
     "data": {
      "application/vnd.jupyter.widget-view+json": {
       "model_id": "59824b2c22dc46be8f1a098c3b298352",
       "version_major": 2,
       "version_minor": 0
      },
      "text/plain": [
       "interactive(children=(ToggleButtons(description='Plot Type:', icons=('',), options=(('Pipeline Plot', 'pipelin…"
      ]
     },
     "metadata": {},
     "output_type": "display_data"
    }
   ],
   "source": [
    "# dashboard of pycaret\n",
    "#evaluate_model(huber)"
   ]
  },
  {
   "cell_type": "code",
   "execution_count": null,
   "metadata": {},
   "outputs": [
    {
     "data": {
      "text/html": [],
      "text/plain": [
       "<IPython.core.display.HTML object>"
      ]
     },
     "metadata": {},
     "output_type": "display_data"
    },
    {
     "data": {
      "image/png": "[encoded data removed]",
      "text/plain": [
       "<Figure size 800x500 with 1 Axes>"
      ]
     },
     "metadata": {},
     "output_type": "display_data"
    }
   ],
   "source": [
    "plot_model(huber, plot = 'feature')"
   ]
  },
  {
   "cell_type": "code",
   "execution_count": null,
   "metadata": {},
   "outputs": [],
   "source": []
  },
  {
   "cell_type": "code",
   "execution_count": null,
   "metadata": {},
   "outputs": [],
   "source": []
  },
  {
   "cell_type": "code",
   "execution_count": null,
   "metadata": {},
   "outputs": [],
   "source": [
    "# dashboard of pycaret\n",
    "#evaluate_model(rf)"
   ]
  },
  {
   "cell_type": "code",
   "execution_count": 11,
   "metadata": {},
   "outputs": [
    {
     "name": "stdout",
     "output_type": "stream",
     "text": [
      "{'lr': 'Logistic Regression', 'knn': 'K Neighbors Classifier', 'nb': 'Naive Bayes', 'dt': 'Decision Tree Classifier', 'svm': 'SVM - Linear Kernel', 'rbfsvm': 'SVM - Radial Kernel', 'gpc': 'Gaussian Process Classifier', 'mlp': 'MLP Classifier', 'ridge': 'Ridge Classifier', 'rf': 'Random Forest Classifier', 'qda': 'Quadratic Discriminant Analysis', 'ada': 'Ada Boost Classifier', 'gbc': 'Gradient Boosting Classifier', 'lda': 'Linear Discriminant Analysis', 'et': 'Extra Trees Classifier', 'xgboost': 'Extreme Gradient Boosting', 'lightgbm': 'Light Gradient Boosting Machine', 'catboost': 'CatBoost Classifier'}\n"
     ]
    }
   ],
   "source": []
  },
  {
   "cell_type": "code",
   "execution_count": null,
   "metadata": {},
   "outputs": [],
   "source": [
    "def automate_modeling(dataframes, target, models_dict):\n",
    "    results = {}\n",
    "    for i, df in enumerate(dataframes):\n",
    "        print(f\"Processing DataFrame {i+1}...\")\n",
    "        exp = setup(data=df, target=target, silent=True, verbose=False)\n",
    "        best_model = compare_models(n_select=1)\n",
    "        bm_abbreviation = [abbr for name, abbr in models_dict.items() if best_model.__class__.__name__ in name]\n",
    "        \n",
    "        if bm_abbreviation:\n",
    "            bm = create_model(bm_abbreviation[0])\n",
    "            plot_model(bm, plot='feature')\n",
    "            results[f'df{i+1}'] = bm\n",
    "        else:\n",
    "            print(f\"No matching abbreviation found for the best model: {best_model.__class__.__name__}\")\n",
    "\n",
    "    return results\n",
    "\n",
    "# Example usage\n",
    "dataframes = [df1, df2, df3, df4, df5, df6]\n",
    "target_column = 'peso'\n",
    "models_dict = {\n",
    "    'Linear Regression': 'lr',\n",
    "    'Lasso Regression': 'lasso',\n",
    "    'Ridge Regression': 'ridge',\n",
    "    'Elastic Net': 'en',\n",
    "    'Least Angle Regression': 'lar',\n",
    "    'Lasso Least Angle Regression': 'llar',\n",
    "    'Orthogonal Matching Pursuit': 'omp',\n",
    "    'Bayesian Ridge': 'br',\n",
    "    'Automatic Relevance Determination': 'ard',\n",
    "    'Passive Aggressive Regressor': 'par',\n",
    "    'Random Sample Consensus': 'ransac',\n",
    "    'TheilSen Regressor': 'tr',\n",
    "    'Huber Regressor': 'huber',\n",
    "    'Kernel Ridge': 'kr',\n",
    "    'Support Vector Machine': 'svm',\n",
    "    'K Neighbors Regressor': 'knn',\n",
    "    'Decision Tree': 'dt',\n",
    "    'Random Forest': 'rf',\n",
    "    'Extra Trees Regressor': 'et',\n",
    "    'AdaBoost Regressor': 'ada',\n",
    "    'Gradient Boosting': 'gbr',\n",
    "    'Multi Level Perceptron': 'mlp',\n",
    "    'Extreme Gradient Boosting': 'xgboost',\n",
    "    'Light Gradient Boosting': 'lightgbm',\n",
    "    'CatBoost Regressor': 'catboost'\n",
    "}\n",
    "\n",
    "# Call the function\n",
    "results = automate_modeling(dataframes, target_column, models_dict)"
   ]
  }
 ],
 "metadata": {
  "kernelspec": {
   "display_name": "Python 3",
   "language": "python",
   "name": "python3"
  },
  "language_info": {
   "codemirror_mode": {
    "name": "ipython",
    "version": 3
   },
   "file_extension": ".py",
   "mimetype": "text/x-python",
   "name": "python",
   "nbconvert_exporter": "python",
   "pygments_lexer": "ipython3",
   "version": "3.10.11"
  }
 },
 "nbformat": 4,
 "nbformat_minor": 2
}
