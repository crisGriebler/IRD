{
 "cells": [
  {
   "cell_type": "code",
   "execution_count": null,
   "metadata": {},
   "outputs": [],
   "source": [
    "import pandas as pd\n",
    "import numpy as np\n",
    "import matplotlib.pyplot as plt\n",
    "from sklearn.svm import SVC\n",
    "from sklearn.preprocessing import StandardScaler\n",
    "from sklearn.metrics import classification_report, accuracy_score"
   ]
  },
  {
   "cell_type": "code",
   "execution_count": null,
   "metadata": {},
   "outputs": [],
   "source": [
    "#função para tratar campo data\n",
    "def parser(x):\n",
    "    return pd.datetime.strptime('190'+x, '%Y-%m')\n",
    "\n",
    "#Agora vamos importar nosso arquivo \n",
    "df = pd.read_excel('Variavel_out.xlsx', sheet_name='LookerStudio')\n",
    "print(df.tail(10))"
   ]
  },
  {
   "cell_type": "code",
   "execution_count": null,
   "metadata": {},
   "outputs": [],
   "source": [
    "def drop_columns(df):\n",
    "    \"\"\"\n",
    "    Drops the specified columns from the DataFrame and returns the resulting DataFrame.\n",
    "    Also prints the first few rows of the resulting DataFrame.\n",
    "    \n",
    "    Parameters:\n",
    "    df (pd.DataFrame): The input DataFrame.\n",
    "    \n",
    "    Returns:\n",
    "    pd.DataFrame: The DataFrame after dropping the specified columns.\n",
    "    \"\"\"\n",
    "    columns_to_drop = ['espessura', 'Index']\n",
    "    df = df.drop(columns=columns_to_drop)\n",
    "    return df"
   ]
  },
  {
   "cell_type": "code",
   "execution_count": null,
   "metadata": {},
   "outputs": [],
   "source": [
    "# Assuming 'df' is your DataFrame and has already been loaded\n",
    "# Define features and target\n",
    "X = df[['comprimento_Total', 'altura']]  # Adjust features as needed\n",
    "y = (df['peso'] > df['peso'].median()).astype(int)  # Split based on median or chosen value of 'peso'\n",
    "\n",
    "# Scale the features\n",
    "scaler = StandardScaler()\n",
    "X_scaled = scaler.fit_transform(X)\n",
    "\n",
    "# Train SVM classifier\n",
    "svm = SVC(kernel='linear', C=1.0)\n",
    "svm.fit(X_scaled, y)\n",
    "\n",
    "# Print accuracy and classification report\n",
    "y_pred = svm.predict(X_scaled)\n",
    "print(\"Accuracy:\", accuracy_score(y, y_pred))\n",
    "print(\"\\nClassification Report:\\n\", classification_report(y, y_pred))\n",
    "\n",
    "# Define the decision boundary for the split\n",
    "w = svm.coef_[0]\n",
    "b = svm.intercept_[0]\n",
    "peso_threshold = -b / w[1]  # Define based on the decision boundary\n",
    "\n",
    "print(f\"Suggested threshold for 'peso': {peso_threshold}\")\n",
    "\n",
    "# Add cluster column based on the threshold\n",
    "df['cluster'] = (df['peso'] > peso_threshold).astype(int)\n",
    "\n",
    "# Visualize the clusters and SVM decision boundary\n",
    "plt.figure(figsize=(10, 6))\n",
    "plt.scatter(df['comprimento_Total'], df['altura'], c=df['cluster'], cmap='coolwarm', edgecolor='k', s=40)\n",
    "plt.title(\"Data Distribution with SVM Decision Boundary for 'peso'\")\n",
    "plt.xlabel('Comprimento Total')\n",
    "plt.ylabel('Altura')\n",
    "\n",
    "# Plot decision boundary\n",
    "x_vals = np.linspace(X['comprimento_Total'].min(), X['comprimento_Total'].max(), 100)\n",
    "y_vals = -(w[0] / w[1]) * scaler.transform(x_vals.reshape(-1, 1)) + (peso_threshold)\n",
    "plt.plot(x_vals, y_vals, color='black', linestyle='--', label=f'Threshold at peso: {peso_threshold:.2f}')\n",
    "\n",
    "plt.legend()\n",
    "plt.show()"
   ]
  },
  {
   "cell_type": "code",
   "execution_count": null,
   "metadata": {},
   "outputs": [],
   "source": []
  },
  {
   "cell_type": "code",
   "execution_count": null,
   "metadata": {},
   "outputs": [],
   "source": []
  },
  {
   "cell_type": "code",
   "execution_count": null,
   "metadata": {},
   "outputs": [],
   "source": []
  }
 ],
 "metadata": {
  "language_info": {
   "name": "python"
  }
 },
 "nbformat": 4,
 "nbformat_minor": 2
}
