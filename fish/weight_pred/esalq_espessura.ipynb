{
 "cells": [
  {
   "cell_type": "code",
   "execution_count": 1,
   "metadata": {},
   "outputs": [],
   "source": [
    "import pandas as pd\n",
    "import matplotlib as plt\n",
    "import numpy as np\n",
    "import statsmodels.api as sm\n",
    "from statsmodels.graphics.tsaplots import plot_acf, plot_pacf\n",
    "from statsmodels.tsa.arima_model import ARIMA\n",
    "from statsmodels.tsa.stattools import adfuller\n",
    "from numpy import log\n",
    "from sklearn.metrics import mean_squared_error\n",
    "from statsmodels.tsa.stattools import acf\n",
    "from datetime import datetime, timedelta"
   ]
  },
  {
   "cell_type": "code",
   "execution_count": 2,
   "metadata": {},
   "outputs": [
    {
     "name": "stdout",
     "output_type": "stream",
     "text": [
      "   Index   peso  comprimento_Total  comprimento_Padrao  comprimento_Cabeca  \\\n",
      "0    NaN  51.45               14.3                12.2                 4.0   \n",
      "1    NaN  37.15               12.4                10.9                 3.8   \n",
      "2    NaN  47.26               13.7                11.2                 3.4   \n",
      "3    NaN  36.67               12.9                11.1                 3.7   \n",
      "4    NaN  45.48               13.2                11.3                 3.8   \n",
      "5    NaN  36.77               12.5                10.8                 3.2   \n",
      "6    NaN  32.79               12.0                10.2                 3.4   \n",
      "7    NaN  35.52               12.4                10.8                 3.4   \n",
      "8    NaN  35.58               12.3                11.0                 3.4   \n",
      "9    NaN  42.88               13.2                11.2                 3.8   \n",
      "\n",
      "   altura  espessura       data  \n",
      "0     4.1        1.9 2024-02-28  \n",
      "1     3.2        1.2 2024-02-28  \n",
      "2     4.0        1.7 2024-02-28  \n",
      "3     3.7        1.6 2024-02-28  \n",
      "4     4.5        1.6 2024-02-28  \n",
      "5     3.9        1.8 2024-02-28  \n",
      "6     3.7        1.7 2024-02-28  \n",
      "7     4.0        1.9 2024-02-28  \n",
      "8     3.7        1.7 2024-02-28  \n",
      "9     4.1        1.9 2024-02-28  \n"
     ]
    }
   ],
   "source": [
    "#função para tratar campo data\n",
    "def parser(x):\n",
    "    return pd.datetime.strptime('190'+x, '%Y-%m')\n",
    "\n",
    "#Agora vamos importar nosso arquivo \n",
    "df = pd.read_excel('biometria.xlsx', sheet_name='Página1')\n",
    "print(df.head(10))"
   ]
  },
  {
   "cell_type": "code",
   "execution_count": 3,
   "metadata": {},
   "outputs": [
    {
     "data": {
      "text/html": [
       "<div>\n",
       "<style scoped>\n",
       "    .dataframe tbody tr th:only-of-type {\n",
       "        vertical-align: middle;\n",
       "    }\n",
       "\n",
       "    .dataframe tbody tr th {\n",
       "        vertical-align: top;\n",
       "    }\n",
       "\n",
       "    .dataframe thead th {\n",
       "        text-align: right;\n",
       "    }\n",
       "</style>\n",
       "<table border=\"1\" class=\"dataframe\">\n",
       "  <thead>\n",
       "    <tr style=\"text-align: right;\">\n",
       "      <th></th>\n",
       "      <th>peso</th>\n",
       "      <th>comprimento_Total</th>\n",
       "      <th>comprimento_Padrao</th>\n",
       "      <th>comprimento_Cabeca</th>\n",
       "      <th>altura</th>\n",
       "      <th>espessura</th>\n",
       "    </tr>\n",
       "  </thead>\n",
       "  <tbody>\n",
       "    <tr>\n",
       "      <th>0</th>\n",
       "      <td>51.45</td>\n",
       "      <td>14.3</td>\n",
       "      <td>12.2</td>\n",
       "      <td>4.0</td>\n",
       "      <td>4.1</td>\n",
       "      <td>1.9</td>\n",
       "    </tr>\n",
       "    <tr>\n",
       "      <th>1</th>\n",
       "      <td>37.15</td>\n",
       "      <td>12.4</td>\n",
       "      <td>10.9</td>\n",
       "      <td>3.8</td>\n",
       "      <td>3.2</td>\n",
       "      <td>1.2</td>\n",
       "    </tr>\n",
       "    <tr>\n",
       "      <th>2</th>\n",
       "      <td>47.26</td>\n",
       "      <td>13.7</td>\n",
       "      <td>11.2</td>\n",
       "      <td>3.4</td>\n",
       "      <td>4.0</td>\n",
       "      <td>1.7</td>\n",
       "    </tr>\n",
       "    <tr>\n",
       "      <th>3</th>\n",
       "      <td>36.67</td>\n",
       "      <td>12.9</td>\n",
       "      <td>11.1</td>\n",
       "      <td>3.7</td>\n",
       "      <td>3.7</td>\n",
       "      <td>1.6</td>\n",
       "    </tr>\n",
       "    <tr>\n",
       "      <th>4</th>\n",
       "      <td>45.48</td>\n",
       "      <td>13.2</td>\n",
       "      <td>11.3</td>\n",
       "      <td>3.8</td>\n",
       "      <td>4.5</td>\n",
       "      <td>1.6</td>\n",
       "    </tr>\n",
       "  </tbody>\n",
       "</table>\n",
       "</div>"
      ],
      "text/plain": [
       "    peso  comprimento_Total  comprimento_Padrao  comprimento_Cabeca  altura  \\\n",
       "0  51.45               14.3                12.2                 4.0     4.1   \n",
       "1  37.15               12.4                10.9                 3.8     3.2   \n",
       "2  47.26               13.7                11.2                 3.4     4.0   \n",
       "3  36.67               12.9                11.1                 3.7     3.7   \n",
       "4  45.48               13.2                11.3                 3.8     4.5   \n",
       "\n",
       "   espessura  \n",
       "0        1.9  \n",
       "1        1.2  \n",
       "2        1.7  \n",
       "3        1.6  \n",
       "4        1.6  "
      ]
     },
     "execution_count": 3,
     "metadata": {},
     "output_type": "execute_result"
    }
   ],
   "source": [
    "df = df.drop(columns=[\n",
    "'data', \n",
    "'Index'\n",
    "])\n",
    "df.head()"
   ]
  },
  {
   "cell_type": "markdown",
   "metadata": {},
   "source": [
    "## Creating the unseen_Data of 10% of the real data to check model results"
   ]
  },
  {
   "cell_type": "code",
   "execution_count": 4,
   "metadata": {},
   "outputs": [
    {
     "name": "stdout",
     "output_type": "stream",
     "text": [
      "Data for Modeling: (324, 6)\n",
      "Unseen Data For Predictions: (36, 6)\n"
     ]
    }
   ],
   "source": [
    "data = df.sample(frac=0.9, random_state=123)\n",
    "data_unseen = df.drop(data.index)\n",
    "\n",
    "data.reset_index(drop=True, inplace=True)\n",
    "data_unseen.reset_index(drop=True, inplace=True)\n",
    "\n",
    "print('Data for Modeling: ' + str(data.shape))\n",
    "print('Unseen Data For Predictions: ' + str(data_unseen.shape))"
   ]
  },
  {
   "cell_type": "code",
   "execution_count": 5,
   "metadata": {},
   "outputs": [
    {
     "name": "stdout",
     "output_type": "stream",
     "text": [
      "peso\n",
      "comprimento_Total\n",
      "comprimento_Padrao\n",
      "comprimento_Cabeca\n",
      "altura\n",
      "espessura\n"
     ]
    }
   ],
   "source": [
    "for col in data.select_dtypes(include='number').columns:\n",
    "    print(col)"
   ]
  },
  {
   "cell_type": "code",
   "execution_count": 6,
   "metadata": {},
   "outputs": [],
   "source": [
    "# Run this cel to make sure all the variable are type float64!\n",
    "#data.info()"
   ]
  },
  {
   "cell_type": "code",
   "execution_count": 7,
   "metadata": {},
   "outputs": [
    {
     "data": {
      "text/html": [
       "<style type=\"text/css\">\n",
       "</style>\n",
       "<table id=\"T_3b793\">\n",
       "  <thead>\n",
       "    <tr>\n",
       "      <th class=\"blank level0\" >&nbsp;</th>\n",
       "      <th id=\"T_3b793_level0_col0\" class=\"col_heading level0 col0\" >Description</th>\n",
       "      <th id=\"T_3b793_level0_col1\" class=\"col_heading level0 col1\" >Value</th>\n",
       "    </tr>\n",
       "  </thead>\n",
       "  <tbody>\n",
       "    <tr>\n",
       "      <th id=\"T_3b793_level0_row0\" class=\"row_heading level0 row0\" >0</th>\n",
       "      <td id=\"T_3b793_row0_col0\" class=\"data row0 col0\" >Session id</td>\n",
       "      <td id=\"T_3b793_row0_col1\" class=\"data row0 col1\" >124</td>\n",
       "    </tr>\n",
       "    <tr>\n",
       "      <th id=\"T_3b793_level0_row1\" class=\"row_heading level0 row1\" >1</th>\n",
       "      <td id=\"T_3b793_row1_col0\" class=\"data row1 col0\" >Target</td>\n",
       "      <td id=\"T_3b793_row1_col1\" class=\"data row1 col1\" >peso</td>\n",
       "    </tr>\n",
       "    <tr>\n",
       "      <th id=\"T_3b793_level0_row2\" class=\"row_heading level0 row2\" >2</th>\n",
       "      <td id=\"T_3b793_row2_col0\" class=\"data row2 col0\" >Target type</td>\n",
       "      <td id=\"T_3b793_row2_col1\" class=\"data row2 col1\" >Regression</td>\n",
       "    </tr>\n",
       "    <tr>\n",
       "      <th id=\"T_3b793_level0_row3\" class=\"row_heading level0 row3\" >3</th>\n",
       "      <td id=\"T_3b793_row3_col0\" class=\"data row3 col0\" >Original data shape</td>\n",
       "      <td id=\"T_3b793_row3_col1\" class=\"data row3 col1\" >(324, 6)</td>\n",
       "    </tr>\n",
       "    <tr>\n",
       "      <th id=\"T_3b793_level0_row4\" class=\"row_heading level0 row4\" >4</th>\n",
       "      <td id=\"T_3b793_row4_col0\" class=\"data row4 col0\" >Transformed data shape</td>\n",
       "      <td id=\"T_3b793_row4_col1\" class=\"data row4 col1\" >(324, 6)</td>\n",
       "    </tr>\n",
       "    <tr>\n",
       "      <th id=\"T_3b793_level0_row5\" class=\"row_heading level0 row5\" >5</th>\n",
       "      <td id=\"T_3b793_row5_col0\" class=\"data row5 col0\" >Transformed train set shape</td>\n",
       "      <td id=\"T_3b793_row5_col1\" class=\"data row5 col1\" >(259, 6)</td>\n",
       "    </tr>\n",
       "    <tr>\n",
       "      <th id=\"T_3b793_level0_row6\" class=\"row_heading level0 row6\" >6</th>\n",
       "      <td id=\"T_3b793_row6_col0\" class=\"data row6 col0\" >Transformed test set shape</td>\n",
       "      <td id=\"T_3b793_row6_col1\" class=\"data row6 col1\" >(65, 6)</td>\n",
       "    </tr>\n",
       "    <tr>\n",
       "      <th id=\"T_3b793_level0_row7\" class=\"row_heading level0 row7\" >7</th>\n",
       "      <td id=\"T_3b793_row7_col0\" class=\"data row7 col0\" >Numeric features</td>\n",
       "      <td id=\"T_3b793_row7_col1\" class=\"data row7 col1\" >5</td>\n",
       "    </tr>\n",
       "  </tbody>\n",
       "</table>\n"
      ],
      "text/plain": [
       "<pandas.io.formats.style.Styler at 0x1538b50b400>"
      ]
     },
     "metadata": {},
     "output_type": "display_data"
    }
   ],
   "source": [
    "#from pycaret.datasets import get_data\n",
    "#boston = get_data('boston')\n",
    "from pycaret.regression import *\n",
    "exp1 = setup(data = data,  target = 'peso', session_id=124, train_size=0.8, preprocess=False)\n"
   ]
  },
  {
   "cell_type": "code",
   "execution_count": null,
   "metadata": {},
   "outputs": [],
   "source": [
    "best_model = compare_models(n_select=5 )  #sort= 'R2' TO select the metric R2"
   ]
  },
  {
   "cell_type": "code",
   "execution_count": 9,
   "metadata": {},
   "outputs": [
    {
     "data": {
      "text/plain": [
       "[ExtraTreesRegressor(n_jobs=-1, random_state=124),\n",
       " LGBMRegressor(n_jobs=-1, random_state=124),\n",
       " RandomForestRegressor(n_jobs=-1, random_state=124),\n",
       " AdaBoostRegressor(random_state=124),\n",
       " GradientBoostingRegressor(random_state=124)]"
      ]
     },
     "execution_count": 9,
     "metadata": {},
     "output_type": "execute_result"
    }
   ],
   "source": [
    "best_model"
   ]
  },
  {
   "cell_type": "markdown",
   "metadata": {},
   "source": [
    "## Create Model\n",
    "#### This function trains and evaluates the performance of a given estimator using cross validation. The output of this function is a score grid with CV scores by fold. Metrics evaluated during CV can be accessed using the get_metrics function. Custom metrics can be added or removed using add_metric and remove_metric function. All the available models can be accessed using the models function."
   ]
  },
  {
   "cell_type": "code",
   "execution_count": 11,
   "metadata": {},
   "outputs": [
    {
     "data": {
      "text/html": [],
      "text/plain": [
       "<IPython.core.display.HTML object>"
      ]
     },
     "metadata": {},
     "output_type": "display_data"
    },
    {
     "data": {
      "text/html": [
       "<style type=\"text/css\">\n",
       "#T_c05c4_row10_col0, #T_c05c4_row10_col1, #T_c05c4_row10_col2, #T_c05c4_row10_col3, #T_c05c4_row10_col4, #T_c05c4_row10_col5 {\n",
       "  background: yellow;\n",
       "}\n",
       "</style>\n",
       "<table id=\"T_c05c4\">\n",
       "  <thead>\n",
       "    <tr>\n",
       "      <th class=\"blank level0\" >&nbsp;</th>\n",
       "      <th id=\"T_c05c4_level0_col0\" class=\"col_heading level0 col0\" >MAE</th>\n",
       "      <th id=\"T_c05c4_level0_col1\" class=\"col_heading level0 col1\" >MSE</th>\n",
       "      <th id=\"T_c05c4_level0_col2\" class=\"col_heading level0 col2\" >RMSE</th>\n",
       "      <th id=\"T_c05c4_level0_col3\" class=\"col_heading level0 col3\" >R2</th>\n",
       "      <th id=\"T_c05c4_level0_col4\" class=\"col_heading level0 col4\" >RMSLE</th>\n",
       "      <th id=\"T_c05c4_level0_col5\" class=\"col_heading level0 col5\" >MAPE</th>\n",
       "    </tr>\n",
       "    <tr>\n",
       "      <th class=\"index_name level0\" >Fold</th>\n",
       "      <th class=\"blank col0\" >&nbsp;</th>\n",
       "      <th class=\"blank col1\" >&nbsp;</th>\n",
       "      <th class=\"blank col2\" >&nbsp;</th>\n",
       "      <th class=\"blank col3\" >&nbsp;</th>\n",
       "      <th class=\"blank col4\" >&nbsp;</th>\n",
       "      <th class=\"blank col5\" >&nbsp;</th>\n",
       "    </tr>\n",
       "  </thead>\n",
       "  <tbody>\n",
       "    <tr>\n",
       "      <th id=\"T_c05c4_level0_row0\" class=\"row_heading level0 row0\" >0</th>\n",
       "      <td id=\"T_c05c4_row0_col0\" class=\"data row0 col0\" >3.5927</td>\n",
       "      <td id=\"T_c05c4_row0_col1\" class=\"data row0 col1\" >26.6059</td>\n",
       "      <td id=\"T_c05c4_row0_col2\" class=\"data row0 col2\" >5.1581</td>\n",
       "      <td id=\"T_c05c4_row0_col3\" class=\"data row0 col3\" >0.9841</td>\n",
       "      <td id=\"T_c05c4_row0_col4\" class=\"data row0 col4\" >0.0475</td>\n",
       "      <td id=\"T_c05c4_row0_col5\" class=\"data row0 col5\" >0.0391</td>\n",
       "    </tr>\n",
       "    <tr>\n",
       "      <th id=\"T_c05c4_level0_row1\" class=\"row_heading level0 row1\" >1</th>\n",
       "      <td id=\"T_c05c4_row1_col0\" class=\"data row1 col0\" >3.8995</td>\n",
       "      <td id=\"T_c05c4_row1_col1\" class=\"data row1 col1\" >28.2320</td>\n",
       "      <td id=\"T_c05c4_row1_col2\" class=\"data row1 col2\" >5.3134</td>\n",
       "      <td id=\"T_c05c4_row1_col3\" class=\"data row1 col3\" >0.9798</td>\n",
       "      <td id=\"T_c05c4_row1_col4\" class=\"data row1 col4\" >0.0484</td>\n",
       "      <td id=\"T_c05c4_row1_col5\" class=\"data row1 col5\" >0.0414</td>\n",
       "    </tr>\n",
       "    <tr>\n",
       "      <th id=\"T_c05c4_level0_row2\" class=\"row_heading level0 row2\" >2</th>\n",
       "      <td id=\"T_c05c4_row2_col0\" class=\"data row2 col0\" >3.2000</td>\n",
       "      <td id=\"T_c05c4_row2_col1\" class=\"data row2 col1\" >21.3683</td>\n",
       "      <td id=\"T_c05c4_row2_col2\" class=\"data row2 col2\" >4.6226</td>\n",
       "      <td id=\"T_c05c4_row2_col3\" class=\"data row2 col3\" >0.9876</td>\n",
       "      <td id=\"T_c05c4_row2_col4\" class=\"data row2 col4\" >0.0501</td>\n",
       "      <td id=\"T_c05c4_row2_col5\" class=\"data row2 col5\" >0.0404</td>\n",
       "    </tr>\n",
       "    <tr>\n",
       "      <th id=\"T_c05c4_level0_row3\" class=\"row_heading level0 row3\" >3</th>\n",
       "      <td id=\"T_c05c4_row3_col0\" class=\"data row3 col0\" >3.5507</td>\n",
       "      <td id=\"T_c05c4_row3_col1\" class=\"data row3 col1\" >24.8134</td>\n",
       "      <td id=\"T_c05c4_row3_col2\" class=\"data row3 col2\" >4.9813</td>\n",
       "      <td id=\"T_c05c4_row3_col3\" class=\"data row3 col3\" >0.9818</td>\n",
       "      <td id=\"T_c05c4_row3_col4\" class=\"data row3 col4\" >0.0518</td>\n",
       "      <td id=\"T_c05c4_row3_col5\" class=\"data row3 col5\" >0.0425</td>\n",
       "    </tr>\n",
       "    <tr>\n",
       "      <th id=\"T_c05c4_level0_row4\" class=\"row_heading level0 row4\" >4</th>\n",
       "      <td id=\"T_c05c4_row4_col0\" class=\"data row4 col0\" >4.2133</td>\n",
       "      <td id=\"T_c05c4_row4_col1\" class=\"data row4 col1\" >31.4454</td>\n",
       "      <td id=\"T_c05c4_row4_col2\" class=\"data row4 col2\" >5.6076</td>\n",
       "      <td id=\"T_c05c4_row4_col3\" class=\"data row4 col3\" >0.9778</td>\n",
       "      <td id=\"T_c05c4_row4_col4\" class=\"data row4 col4\" >0.0570</td>\n",
       "      <td id=\"T_c05c4_row4_col5\" class=\"data row4 col5\" >0.0459</td>\n",
       "    </tr>\n",
       "    <tr>\n",
       "      <th id=\"T_c05c4_level0_row5\" class=\"row_heading level0 row5\" >5</th>\n",
       "      <td id=\"T_c05c4_row5_col0\" class=\"data row5 col0\" >4.0540</td>\n",
       "      <td id=\"T_c05c4_row5_col1\" class=\"data row5 col1\" >48.8926</td>\n",
       "      <td id=\"T_c05c4_row5_col2\" class=\"data row5 col2\" >6.9923</td>\n",
       "      <td id=\"T_c05c4_row5_col3\" class=\"data row5 col3\" >0.9624</td>\n",
       "      <td id=\"T_c05c4_row5_col4\" class=\"data row5 col4\" >0.0638</td>\n",
       "      <td id=\"T_c05c4_row5_col5\" class=\"data row5 col5\" >0.0466</td>\n",
       "    </tr>\n",
       "    <tr>\n",
       "      <th id=\"T_c05c4_level0_row6\" class=\"row_heading level0 row6\" >6</th>\n",
       "      <td id=\"T_c05c4_row6_col0\" class=\"data row6 col0\" >4.1429</td>\n",
       "      <td id=\"T_c05c4_row6_col1\" class=\"data row6 col1\" >40.7084</td>\n",
       "      <td id=\"T_c05c4_row6_col2\" class=\"data row6 col2\" >6.3803</td>\n",
       "      <td id=\"T_c05c4_row6_col3\" class=\"data row6 col3\" >0.9809</td>\n",
       "      <td id=\"T_c05c4_row6_col4\" class=\"data row6 col4\" >0.0534</td>\n",
       "      <td id=\"T_c05c4_row6_col5\" class=\"data row6 col5\" >0.0403</td>\n",
       "    </tr>\n",
       "    <tr>\n",
       "      <th id=\"T_c05c4_level0_row7\" class=\"row_heading level0 row7\" >7</th>\n",
       "      <td id=\"T_c05c4_row7_col0\" class=\"data row7 col0\" >4.0781</td>\n",
       "      <td id=\"T_c05c4_row7_col1\" class=\"data row7 col1\" >33.8683</td>\n",
       "      <td id=\"T_c05c4_row7_col2\" class=\"data row7 col2\" >5.8196</td>\n",
       "      <td id=\"T_c05c4_row7_col3\" class=\"data row7 col3\" >0.9816</td>\n",
       "      <td id=\"T_c05c4_row7_col4\" class=\"data row7 col4\" >0.0550</td>\n",
       "      <td id=\"T_c05c4_row7_col5\" class=\"data row7 col5\" >0.0469</td>\n",
       "    </tr>\n",
       "    <tr>\n",
       "      <th id=\"T_c05c4_level0_row8\" class=\"row_heading level0 row8\" >8</th>\n",
       "      <td id=\"T_c05c4_row8_col0\" class=\"data row8 col0\" >3.5603</td>\n",
       "      <td id=\"T_c05c4_row8_col1\" class=\"data row8 col1\" >17.9919</td>\n",
       "      <td id=\"T_c05c4_row8_col2\" class=\"data row8 col2\" >4.2417</td>\n",
       "      <td id=\"T_c05c4_row8_col3\" class=\"data row8 col3\" >0.9775</td>\n",
       "      <td id=\"T_c05c4_row8_col4\" class=\"data row8 col4\" >0.0523</td>\n",
       "      <td id=\"T_c05c4_row8_col5\" class=\"data row8 col5\" >0.0464</td>\n",
       "    </tr>\n",
       "    <tr>\n",
       "      <th id=\"T_c05c4_level0_row9\" class=\"row_heading level0 row9\" >9</th>\n",
       "      <td id=\"T_c05c4_row9_col0\" class=\"data row9 col0\" >5.2638</td>\n",
       "      <td id=\"T_c05c4_row9_col1\" class=\"data row9 col1\" >48.5485</td>\n",
       "      <td id=\"T_c05c4_row9_col2\" class=\"data row9 col2\" >6.9677</td>\n",
       "      <td id=\"T_c05c4_row9_col3\" class=\"data row9 col3\" >0.9680</td>\n",
       "      <td id=\"T_c05c4_row9_col4\" class=\"data row9 col4\" >0.0614</td>\n",
       "      <td id=\"T_c05c4_row9_col5\" class=\"data row9 col5\" >0.0537</td>\n",
       "    </tr>\n",
       "    <tr>\n",
       "      <th id=\"T_c05c4_level0_row10\" class=\"row_heading level0 row10\" >Mean</th>\n",
       "      <td id=\"T_c05c4_row10_col0\" class=\"data row10 col0\" >3.9555</td>\n",
       "      <td id=\"T_c05c4_row10_col1\" class=\"data row10 col1\" >32.2475</td>\n",
       "      <td id=\"T_c05c4_row10_col2\" class=\"data row10 col2\" >5.6085</td>\n",
       "      <td id=\"T_c05c4_row10_col3\" class=\"data row10 col3\" >0.9781</td>\n",
       "      <td id=\"T_c05c4_row10_col4\" class=\"data row10 col4\" >0.0541</td>\n",
       "      <td id=\"T_c05c4_row10_col5\" class=\"data row10 col5\" >0.0443</td>\n",
       "    </tr>\n",
       "    <tr>\n",
       "      <th id=\"T_c05c4_level0_row11\" class=\"row_heading level0 row11\" >Std</th>\n",
       "      <td id=\"T_c05c4_row11_col0\" class=\"data row11 col0\" >0.5351</td>\n",
       "      <td id=\"T_c05c4_row11_col1\" class=\"data row11 col1\" >10.2100</td>\n",
       "      <td id=\"T_c05c4_row11_col2\" class=\"data row11 col2\" >0.8903</td>\n",
       "      <td id=\"T_c05c4_row11_col3\" class=\"data row11 col3\" >0.0072</td>\n",
       "      <td id=\"T_c05c4_row11_col4\" class=\"data row11 col4\" >0.0051</td>\n",
       "      <td id=\"T_c05c4_row11_col5\" class=\"data row11 col5\" >0.0042</td>\n",
       "    </tr>\n",
       "  </tbody>\n",
       "</table>\n"
      ],
      "text/plain": [
       "<pandas.io.formats.style.Styler at 0x1538bc03b50>"
      ]
     },
     "metadata": {},
     "output_type": "display_data"
    },
    {
     "data": {
      "text/html": [],
      "text/plain": [
       "<IPython.core.display.HTML object>"
      ]
     },
     "metadata": {},
     "output_type": "display_data"
    }
   ],
   "source": [
    "et = exp1.create_model('et')"
   ]
  },
  {
   "cell_type": "code",
   "execution_count": 22,
   "metadata": {},
   "outputs": [
    {
     "data": {
      "text/html": [],
      "text/plain": [
       "<IPython.core.display.HTML object>"
      ]
     },
     "metadata": {},
     "output_type": "display_data"
    },
    {
     "data": {
      "image/png": "[encoded data removed]",
      "text/plain": [
       "<Figure size 800x550 with 1 Axes>"
      ]
     },
     "metadata": {},
     "output_type": "display_data"
    }
   ],
   "source": [
    "#plot_model(et, plot = 'residuals')\n",
    "plot_model(et, plot = 'error')\n",
    "#plot_model(et, plot = 'feature')\n",
    "\n"
   ]
  },
  {
   "cell_type": "code",
   "execution_count": 14,
   "metadata": {},
   "outputs": [
    {
     "data": {
      "text/html": [],
      "text/plain": [
       "<IPython.core.display.HTML object>"
      ]
     },
     "metadata": {},
     "output_type": "display_data"
    },
    {
     "data": {
      "image/png": "[encoded data removed]",
      "text/plain": [
       "<Figure size 800x550 with 1 Axes>"
      ]
     },
     "metadata": {},
     "output_type": "display_data"
    }
   ],
   "source": [
    "plot_model(et, plot = 'learning')"
   ]
  },
  {
   "cell_type": "code",
   "execution_count": 19,
   "metadata": {},
   "outputs": [
    {
     "data": {
      "text/html": [],
      "text/plain": [
       "<IPython.core.display.HTML object>"
      ]
     },
     "metadata": {},
     "output_type": "display_data"
    },
    {
     "data": {
      "image/png": "[encoded data removed]",
      "text/plain": [
       "<Figure size 800x550 with 2 Axes>"
      ]
     },
     "metadata": {},
     "output_type": "display_data"
    }
   ],
   "source": [
    "exp1.plot_model(et, plot = 'manifold')"
   ]
  },
  {
   "cell_type": "markdown",
   "metadata": {},
   "source": [
    "## Blend an d sTacking if it is necessary!"
   ]
  },
  {
   "cell_type": "code",
   "execution_count": 21,
   "metadata": {},
   "outputs": [
    {
     "data": {
      "text/html": [
       "<style type=\"text/css\">\n",
       "</style>\n",
       "<table id=\"T_c2e03\">\n",
       "  <thead>\n",
       "    <tr>\n",
       "      <th class=\"blank level0\" >&nbsp;</th>\n",
       "      <th id=\"T_c2e03_level0_col0\" class=\"col_heading level0 col0\" >Model</th>\n",
       "      <th id=\"T_c2e03_level0_col1\" class=\"col_heading level0 col1\" >MAE</th>\n",
       "      <th id=\"T_c2e03_level0_col2\" class=\"col_heading level0 col2\" >MSE</th>\n",
       "      <th id=\"T_c2e03_level0_col3\" class=\"col_heading level0 col3\" >RMSE</th>\n",
       "      <th id=\"T_c2e03_level0_col4\" class=\"col_heading level0 col4\" >R2</th>\n",
       "      <th id=\"T_c2e03_level0_col5\" class=\"col_heading level0 col5\" >RMSLE</th>\n",
       "      <th id=\"T_c2e03_level0_col6\" class=\"col_heading level0 col6\" >MAPE</th>\n",
       "    </tr>\n",
       "  </thead>\n",
       "  <tbody>\n",
       "    <tr>\n",
       "      <th id=\"T_c2e03_level0_row0\" class=\"row_heading level0 row0\" >0</th>\n",
       "      <td id=\"T_c2e03_row0_col0\" class=\"data row0 col0\" >Extra Trees Regressor</td>\n",
       "      <td id=\"T_c2e03_row0_col1\" class=\"data row0 col1\" >3.6032</td>\n",
       "      <td id=\"T_c2e03_row0_col2\" class=\"data row0 col2\" >23.3468</td>\n",
       "      <td id=\"T_c2e03_row0_col3\" class=\"data row0 col3\" >4.8319</td>\n",
       "      <td id=\"T_c2e03_row0_col4\" class=\"data row0 col4\" >0.9849</td>\n",
       "      <td id=\"T_c2e03_row0_col5\" class=\"data row0 col5\" >0.0552</td>\n",
       "      <td id=\"T_c2e03_row0_col6\" class=\"data row0 col6\" >0.0444</td>\n",
       "    </tr>\n",
       "  </tbody>\n",
       "</table>\n"
      ],
      "text/plain": [
       "<pandas.io.formats.style.Styler at 0x153943dbac0>"
      ]
     },
     "metadata": {},
     "output_type": "display_data"
    }
   ],
   "source": [
    "holdout_pred = exp1.predict_model(et)"
   ]
  },
  {
   "cell_type": "code",
   "execution_count": 28,
   "metadata": {},
   "outputs": [
    {
     "data": {
      "text/html": [
       "<style type=\"text/css\">\n",
       "</style>\n",
       "<table id=\"T_bed4f\">\n",
       "  <thead>\n",
       "    <tr>\n",
       "      <th class=\"blank level0\" >&nbsp;</th>\n",
       "      <th id=\"T_bed4f_level0_col0\" class=\"col_heading level0 col0\" >Model</th>\n",
       "      <th id=\"T_bed4f_level0_col1\" class=\"col_heading level0 col1\" >MAE</th>\n",
       "      <th id=\"T_bed4f_level0_col2\" class=\"col_heading level0 col2\" >MSE</th>\n",
       "      <th id=\"T_bed4f_level0_col3\" class=\"col_heading level0 col3\" >RMSE</th>\n",
       "      <th id=\"T_bed4f_level0_col4\" class=\"col_heading level0 col4\" >R2</th>\n",
       "      <th id=\"T_bed4f_level0_col5\" class=\"col_heading level0 col5\" >RMSLE</th>\n",
       "      <th id=\"T_bed4f_level0_col6\" class=\"col_heading level0 col6\" >MAPE</th>\n",
       "    </tr>\n",
       "  </thead>\n",
       "  <tbody>\n",
       "    <tr>\n",
       "      <th id=\"T_bed4f_level0_row0\" class=\"row_heading level0 row0\" >0</th>\n",
       "      <td id=\"T_bed4f_row0_col0\" class=\"data row0 col0\" >Extra Trees Regressor</td>\n",
       "      <td id=\"T_bed4f_row0_col1\" class=\"data row0 col1\" >3.2932</td>\n",
       "      <td id=\"T_bed4f_row0_col2\" class=\"data row0 col2\" >21.1352</td>\n",
       "      <td id=\"T_bed4f_row0_col3\" class=\"data row0 col3\" >4.5973</td>\n",
       "      <td id=\"T_bed4f_row0_col4\" class=\"data row0 col4\" >0.9836</td>\n",
       "      <td id=\"T_bed4f_row0_col5\" class=\"data row0 col5\" >0.0575</td>\n",
       "      <td id=\"T_bed4f_row0_col6\" class=\"data row0 col6\" >0.0452</td>\n",
       "    </tr>\n",
       "  </tbody>\n",
       "</table>\n"
      ],
      "text/plain": [
       "<pandas.io.formats.style.Styler at 0x1538b3250f0>"
      ]
     },
     "metadata": {},
     "output_type": "display_data"
    },
    {
     "data": {
      "text/html": [
       "<div>\n",
       "<style scoped>\n",
       "    .dataframe tbody tr th:only-of-type {\n",
       "        vertical-align: middle;\n",
       "    }\n",
       "\n",
       "    .dataframe tbody tr th {\n",
       "        vertical-align: top;\n",
       "    }\n",
       "\n",
       "    .dataframe thead th {\n",
       "        text-align: right;\n",
       "    }\n",
       "</style>\n",
       "<table border=\"1\" class=\"dataframe\">\n",
       "  <thead>\n",
       "    <tr style=\"text-align: right;\">\n",
       "      <th></th>\n",
       "      <th>comprimento_Total</th>\n",
       "      <th>comprimento_Padrao</th>\n",
       "      <th>comprimento_Cabeca</th>\n",
       "      <th>altura</th>\n",
       "      <th>espessura</th>\n",
       "      <th>peso</th>\n",
       "      <th>prediction_label</th>\n",
       "    </tr>\n",
       "  </thead>\n",
       "  <tbody>\n",
       "    <tr>\n",
       "      <th>0</th>\n",
       "      <td>13.7</td>\n",
       "      <td>11.2</td>\n",
       "      <td>3.4</td>\n",
       "      <td>4.0</td>\n",
       "      <td>1.7</td>\n",
       "      <td>47.259998</td>\n",
       "      <td>45.885600</td>\n",
       "    </tr>\n",
       "    <tr>\n",
       "      <th>1</th>\n",
       "      <td>12.7</td>\n",
       "      <td>10.8</td>\n",
       "      <td>3.3</td>\n",
       "      <td>3.7</td>\n",
       "      <td>1.6</td>\n",
       "      <td>37.130001</td>\n",
       "      <td>37.935500</td>\n",
       "    </tr>\n",
       "    <tr>\n",
       "      <th>2</th>\n",
       "      <td>13.0</td>\n",
       "      <td>11.0</td>\n",
       "      <td>3.3</td>\n",
       "      <td>4.2</td>\n",
       "      <td>1.8</td>\n",
       "      <td>46.599998</td>\n",
       "      <td>44.106000</td>\n",
       "    </tr>\n",
       "    <tr>\n",
       "      <th>3</th>\n",
       "      <td>11.8</td>\n",
       "      <td>9.9</td>\n",
       "      <td>3.2</td>\n",
       "      <td>3.5</td>\n",
       "      <td>1.5</td>\n",
       "      <td>30.740000</td>\n",
       "      <td>32.541001</td>\n",
       "    </tr>\n",
       "    <tr>\n",
       "      <th>4</th>\n",
       "      <td>12.2</td>\n",
       "      <td>10.3</td>\n",
       "      <td>3.1</td>\n",
       "      <td>3.6</td>\n",
       "      <td>1.6</td>\n",
       "      <td>33.959999</td>\n",
       "      <td>34.602500</td>\n",
       "    </tr>\n",
       "  </tbody>\n",
       "</table>\n",
       "</div>"
      ],
      "text/plain": [
       "   comprimento_Total  comprimento_Padrao  comprimento_Cabeca  altura  \\\n",
       "0               13.7                11.2                 3.4     4.0   \n",
       "1               12.7                10.8                 3.3     3.7   \n",
       "2               13.0                11.0                 3.3     4.2   \n",
       "3               11.8                 9.9                 3.2     3.5   \n",
       "4               12.2                10.3                 3.1     3.6   \n",
       "\n",
       "   espessura       peso  prediction_label  \n",
       "0        1.7  47.259998         45.885600  \n",
       "1        1.6  37.130001         37.935500  \n",
       "2        1.8  46.599998         44.106000  \n",
       "3        1.5  30.740000         32.541001  \n",
       "4        1.6  33.959999         34.602500  "
      ]
     },
     "execution_count": 28,
     "metadata": {},
     "output_type": "execute_result"
    }
   ],
   "source": [
    "unseen_predictions = exp1.predict_model(et, data=data_unseen)\n",
    "unseen_predictions.head(5)"
   ]
  },
  {
   "cell_type": "markdown",
   "metadata": {},
   "source": [
    "## Tune model\n",
    "#### This function tunes the hyperparameters of a given estimator. The output of this function is a score grid with CV scores by fold of the best selected model based on optimize parameter. Metrics evaluated during CV can be accessed using the get_metrics function. Custom metrics can be added or removed using add_metric and remove_metric function."
   ]
  },
  {
   "cell_type": "code",
   "execution_count": 16,
   "metadata": {},
   "outputs": [
    {
     "data": {
      "text/html": [],
      "text/plain": [
       "<IPython.core.display.HTML object>"
      ]
     },
     "metadata": {},
     "output_type": "display_data"
    },
    {
     "data": {
      "text/html": [
       "<style type=\"text/css\">\n",
       "#T_9a235_row10_col0, #T_9a235_row10_col1, #T_9a235_row10_col2, #T_9a235_row10_col3, #T_9a235_row10_col4, #T_9a235_row10_col5 {\n",
       "  background: yellow;\n",
       "}\n",
       "</style>\n",
       "<table id=\"T_9a235\">\n",
       "  <thead>\n",
       "    <tr>\n",
       "      <th class=\"blank level0\" >&nbsp;</th>\n",
       "      <th id=\"T_9a235_level0_col0\" class=\"col_heading level0 col0\" >MAE</th>\n",
       "      <th id=\"T_9a235_level0_col1\" class=\"col_heading level0 col1\" >MSE</th>\n",
       "      <th id=\"T_9a235_level0_col2\" class=\"col_heading level0 col2\" >RMSE</th>\n",
       "      <th id=\"T_9a235_level0_col3\" class=\"col_heading level0 col3\" >R2</th>\n",
       "      <th id=\"T_9a235_level0_col4\" class=\"col_heading level0 col4\" >RMSLE</th>\n",
       "      <th id=\"T_9a235_level0_col5\" class=\"col_heading level0 col5\" >MAPE</th>\n",
       "    </tr>\n",
       "    <tr>\n",
       "      <th class=\"index_name level0\" >Fold</th>\n",
       "      <th class=\"blank col0\" >&nbsp;</th>\n",
       "      <th class=\"blank col1\" >&nbsp;</th>\n",
       "      <th class=\"blank col2\" >&nbsp;</th>\n",
       "      <th class=\"blank col3\" >&nbsp;</th>\n",
       "      <th class=\"blank col4\" >&nbsp;</th>\n",
       "      <th class=\"blank col5\" >&nbsp;</th>\n",
       "    </tr>\n",
       "  </thead>\n",
       "  <tbody>\n",
       "    <tr>\n",
       "      <th id=\"T_9a235_level0_row0\" class=\"row_heading level0 row0\" >0</th>\n",
       "      <td id=\"T_9a235_row0_col0\" class=\"data row0 col0\" >3.3554</td>\n",
       "      <td id=\"T_9a235_row0_col1\" class=\"data row0 col1\" >28.9013</td>\n",
       "      <td id=\"T_9a235_row0_col2\" class=\"data row0 col2\" >5.3760</td>\n",
       "      <td id=\"T_9a235_row0_col3\" class=\"data row0 col3\" >0.9827</td>\n",
       "      <td id=\"T_9a235_row0_col4\" class=\"data row0 col4\" >0.0483</td>\n",
       "      <td id=\"T_9a235_row0_col5\" class=\"data row0 col5\" >0.0371</td>\n",
       "    </tr>\n",
       "    <tr>\n",
       "      <th id=\"T_9a235_level0_row1\" class=\"row_heading level0 row1\" >1</th>\n",
       "      <td id=\"T_9a235_row1_col0\" class=\"data row1 col0\" >3.6916</td>\n",
       "      <td id=\"T_9a235_row1_col1\" class=\"data row1 col1\" >26.4512</td>\n",
       "      <td id=\"T_9a235_row1_col2\" class=\"data row1 col2\" >5.1431</td>\n",
       "      <td id=\"T_9a235_row1_col3\" class=\"data row1 col3\" >0.9810</td>\n",
       "      <td id=\"T_9a235_row1_col4\" class=\"data row1 col4\" >0.0484</td>\n",
       "      <td id=\"T_9a235_row1_col5\" class=\"data row1 col5\" >0.0405</td>\n",
       "    </tr>\n",
       "    <tr>\n",
       "      <th id=\"T_9a235_level0_row2\" class=\"row_heading level0 row2\" >2</th>\n",
       "      <td id=\"T_9a235_row2_col0\" class=\"data row2 col0\" >2.6688</td>\n",
       "      <td id=\"T_9a235_row2_col1\" class=\"data row2 col1\" >15.6648</td>\n",
       "      <td id=\"T_9a235_row2_col2\" class=\"data row2 col2\" >3.9579</td>\n",
       "      <td id=\"T_9a235_row2_col3\" class=\"data row2 col3\" >0.9909</td>\n",
       "      <td id=\"T_9a235_row2_col4\" class=\"data row2 col4\" >0.0468</td>\n",
       "      <td id=\"T_9a235_row2_col5\" class=\"data row2 col5\" >0.0366</td>\n",
       "    </tr>\n",
       "    <tr>\n",
       "      <th id=\"T_9a235_level0_row3\" class=\"row_heading level0 row3\" >3</th>\n",
       "      <td id=\"T_9a235_row3_col0\" class=\"data row3 col0\" >4.1030</td>\n",
       "      <td id=\"T_9a235_row3_col1\" class=\"data row3 col1\" >28.7159</td>\n",
       "      <td id=\"T_9a235_row3_col2\" class=\"data row3 col2\" >5.3587</td>\n",
       "      <td id=\"T_9a235_row3_col3\" class=\"data row3 col3\" >0.9789</td>\n",
       "      <td id=\"T_9a235_row3_col4\" class=\"data row3 col4\" >0.0595</td>\n",
       "      <td id=\"T_9a235_row3_col5\" class=\"data row3 col5\" >0.0514</td>\n",
       "    </tr>\n",
       "    <tr>\n",
       "      <th id=\"T_9a235_level0_row4\" class=\"row_heading level0 row4\" >4</th>\n",
       "      <td id=\"T_9a235_row4_col0\" class=\"data row4 col0\" >4.2935</td>\n",
       "      <td id=\"T_9a235_row4_col1\" class=\"data row4 col1\" >26.8328</td>\n",
       "      <td id=\"T_9a235_row4_col2\" class=\"data row4 col2\" >5.1800</td>\n",
       "      <td id=\"T_9a235_row4_col3\" class=\"data row4 col3\" >0.9810</td>\n",
       "      <td id=\"T_9a235_row4_col4\" class=\"data row4 col4\" >0.0549</td>\n",
       "      <td id=\"T_9a235_row4_col5\" class=\"data row4 col5\" >0.0483</td>\n",
       "    </tr>\n",
       "    <tr>\n",
       "      <th id=\"T_9a235_level0_row5\" class=\"row_heading level0 row5\" >5</th>\n",
       "      <td id=\"T_9a235_row5_col0\" class=\"data row5 col0\" >3.9159</td>\n",
       "      <td id=\"T_9a235_row5_col1\" class=\"data row5 col1\" >57.3337</td>\n",
       "      <td id=\"T_9a235_row5_col2\" class=\"data row5 col2\" >7.5719</td>\n",
       "      <td id=\"T_9a235_row5_col3\" class=\"data row5 col3\" >0.9559</td>\n",
       "      <td id=\"T_9a235_row5_col4\" class=\"data row5 col4\" >0.0667</td>\n",
       "      <td id=\"T_9a235_row5_col5\" class=\"data row5 col5\" >0.0462</td>\n",
       "    </tr>\n",
       "    <tr>\n",
       "      <th id=\"T_9a235_level0_row6\" class=\"row_heading level0 row6\" >6</th>\n",
       "      <td id=\"T_9a235_row6_col0\" class=\"data row6 col0\" >3.8162</td>\n",
       "      <td id=\"T_9a235_row6_col1\" class=\"data row6 col1\" >31.3349</td>\n",
       "      <td id=\"T_9a235_row6_col2\" class=\"data row6 col2\" >5.5978</td>\n",
       "      <td id=\"T_9a235_row6_col3\" class=\"data row6 col3\" >0.9853</td>\n",
       "      <td id=\"T_9a235_row6_col4\" class=\"data row6 col4\" >0.0532</td>\n",
       "      <td id=\"T_9a235_row6_col5\" class=\"data row6 col5\" >0.0415</td>\n",
       "    </tr>\n",
       "    <tr>\n",
       "      <th id=\"T_9a235_level0_row7\" class=\"row_heading level0 row7\" >7</th>\n",
       "      <td id=\"T_9a235_row7_col0\" class=\"data row7 col0\" >4.2755</td>\n",
       "      <td id=\"T_9a235_row7_col1\" class=\"data row7 col1\" >33.3716</td>\n",
       "      <td id=\"T_9a235_row7_col2\" class=\"data row7 col2\" >5.7768</td>\n",
       "      <td id=\"T_9a235_row7_col3\" class=\"data row7 col3\" >0.9819</td>\n",
       "      <td id=\"T_9a235_row7_col4\" class=\"data row7 col4\" >0.0565</td>\n",
       "      <td id=\"T_9a235_row7_col5\" class=\"data row7 col5\" >0.0502</td>\n",
       "    </tr>\n",
       "    <tr>\n",
       "      <th id=\"T_9a235_level0_row8\" class=\"row_heading level0 row8\" >8</th>\n",
       "      <td id=\"T_9a235_row8_col0\" class=\"data row8 col0\" >3.5328</td>\n",
       "      <td id=\"T_9a235_row8_col1\" class=\"data row8 col1\" >18.6491</td>\n",
       "      <td id=\"T_9a235_row8_col2\" class=\"data row8 col2\" >4.3185</td>\n",
       "      <td id=\"T_9a235_row8_col3\" class=\"data row8 col3\" >0.9767</td>\n",
       "      <td id=\"T_9a235_row8_col4\" class=\"data row8 col4\" >0.0545</td>\n",
       "      <td id=\"T_9a235_row8_col5\" class=\"data row8 col5\" >0.0470</td>\n",
       "    </tr>\n",
       "    <tr>\n",
       "      <th id=\"T_9a235_level0_row9\" class=\"row_heading level0 row9\" >9</th>\n",
       "      <td id=\"T_9a235_row9_col0\" class=\"data row9 col0\" >4.2962</td>\n",
       "      <td id=\"T_9a235_row9_col1\" class=\"data row9 col1\" >28.6723</td>\n",
       "      <td id=\"T_9a235_row9_col2\" class=\"data row9 col2\" >5.3547</td>\n",
       "      <td id=\"T_9a235_row9_col3\" class=\"data row9 col3\" >0.9811</td>\n",
       "      <td id=\"T_9a235_row9_col4\" class=\"data row9 col4\" >0.0531</td>\n",
       "      <td id=\"T_9a235_row9_col5\" class=\"data row9 col5\" >0.0466</td>\n",
       "    </tr>\n",
       "    <tr>\n",
       "      <th id=\"T_9a235_level0_row10\" class=\"row_heading level0 row10\" >Mean</th>\n",
       "      <td id=\"T_9a235_row10_col0\" class=\"data row10 col0\" >3.7949</td>\n",
       "      <td id=\"T_9a235_row10_col1\" class=\"data row10 col1\" >29.5928</td>\n",
       "      <td id=\"T_9a235_row10_col2\" class=\"data row10 col2\" >5.3635</td>\n",
       "      <td id=\"T_9a235_row10_col3\" class=\"data row10 col3\" >0.9796</td>\n",
       "      <td id=\"T_9a235_row10_col4\" class=\"data row10 col4\" >0.0542</td>\n",
       "      <td id=\"T_9a235_row10_col5\" class=\"data row10 col5\" >0.0445</td>\n",
       "    </tr>\n",
       "    <tr>\n",
       "      <th id=\"T_9a235_level0_row11\" class=\"row_heading level0 row11\" >Std</th>\n",
       "      <td id=\"T_9a235_row11_col0\" class=\"data row11 col0\" >0.4880</td>\n",
       "      <td id=\"T_9a235_row11_col1\" class=\"data row11 col1\" >10.5840</td>\n",
       "      <td id=\"T_9a235_row11_col2\" class=\"data row11 col2\" >0.9085</td>\n",
       "      <td id=\"T_9a235_row11_col3\" class=\"data row11 col3\" >0.0087</td>\n",
       "      <td id=\"T_9a235_row11_col4\" class=\"data row11 col4\" >0.0056</td>\n",
       "      <td id=\"T_9a235_row11_col5\" class=\"data row11 col5\" >0.0050</td>\n",
       "    </tr>\n",
       "  </tbody>\n",
       "</table>\n"
      ],
      "text/plain": [
       "<pandas.io.formats.style.Styler at 0x1538b8ab130>"
      ]
     },
     "metadata": {},
     "output_type": "display_data"
    },
    {
     "data": {
      "application/vnd.jupyter.widget-view+json": {
       "model_id": "bd54827301f1449c9a89f206ace3baf4",
       "version_major": 2,
       "version_minor": 0
      },
      "text/plain": [
       "Processing:   0%|          | 0/7 [00:00<?, ?it/s]"
      ]
     },
     "metadata": {},
     "output_type": "display_data"
    },
    {
     "name": "stdout",
     "output_type": "stream",
     "text": [
      "Fitting 10 folds for each of 10 candidates, totalling 100 fits\n"
     ]
    }
   ],
   "source": [
    "tune_et= exp1.tune_model(et)"
   ]
  },
  {
   "cell_type": "code",
   "execution_count": 19,
   "metadata": {},
   "outputs": [],
   "source": [
    "#plot_model(rf, plot = 'tree')"
   ]
  },
  {
   "cell_type": "code",
   "execution_count": null,
   "metadata": {},
   "outputs": [],
   "source": [
    "#pred_unseen = predict_model(rf, data = unseen_dataframe)\n"
   ]
  },
  {
   "cell_type": "code",
   "execution_count": 20,
   "metadata": {},
   "outputs": [
    {
     "data": {
      "application/vnd.jupyter.widget-view+json": {
       "model_id": "f21c4707390a4dfebe7344dde028d5ea",
       "version_major": 2,
       "version_minor": 0
      },
      "text/plain": [
       "interactive(children=(ToggleButtons(description='Plot Type:', icons=('',), options=(('Pipeline Plot', 'pipelin…"
      ]
     },
     "metadata": {},
     "output_type": "display_data"
    }
   ],
   "source": [
    "# dashboard of pycaret\n",
    "#evaluate_model(rf)"
   ]
  },
  {
   "cell_type": "code",
   "execution_count": 21,
   "metadata": {},
   "outputs": [
    {
     "data": {
      "text/html": [
       "<style type=\"text/css\">\n",
       "</style>\n",
       "<table id=\"T_d58d4\">\n",
       "  <thead>\n",
       "    <tr>\n",
       "      <th class=\"blank level0\" >&nbsp;</th>\n",
       "      <th id=\"T_d58d4_level0_col0\" class=\"col_heading level0 col0\" >Model</th>\n",
       "      <th id=\"T_d58d4_level0_col1\" class=\"col_heading level0 col1\" >MAE</th>\n",
       "      <th id=\"T_d58d4_level0_col2\" class=\"col_heading level0 col2\" >MSE</th>\n",
       "      <th id=\"T_d58d4_level0_col3\" class=\"col_heading level0 col3\" >RMSE</th>\n",
       "      <th id=\"T_d58d4_level0_col4\" class=\"col_heading level0 col4\" >R2</th>\n",
       "      <th id=\"T_d58d4_level0_col5\" class=\"col_heading level0 col5\" >RMSLE</th>\n",
       "      <th id=\"T_d58d4_level0_col6\" class=\"col_heading level0 col6\" >MAPE</th>\n",
       "    </tr>\n",
       "  </thead>\n",
       "  <tbody>\n",
       "    <tr>\n",
       "      <th id=\"T_d58d4_level0_row0\" class=\"row_heading level0 row0\" >0</th>\n",
       "      <td id=\"T_d58d4_row0_col0\" class=\"data row0 col0\" >Random Forest Regressor</td>\n",
       "      <td id=\"T_d58d4_row0_col1\" class=\"data row0 col1\" >4.1999</td>\n",
       "      <td id=\"T_d58d4_row0_col2\" class=\"data row0 col2\" >35.1091</td>\n",
       "      <td id=\"T_d58d4_row0_col3\" class=\"data row0 col3\" >5.9253</td>\n",
       "      <td id=\"T_d58d4_row0_col4\" class=\"data row0 col4\" >0.9777</td>\n",
       "      <td id=\"T_d58d4_row0_col5\" class=\"data row0 col5\" >0.0614</td>\n",
       "      <td id=\"T_d58d4_row0_col6\" class=\"data row0 col6\" >0.0489</td>\n",
       "    </tr>\n",
       "  </tbody>\n",
       "</table>\n"
      ],
      "text/plain": [
       "<pandas.io.formats.style.Styler at 0x12531ad4790>"
      ]
     },
     "metadata": {},
     "output_type": "display_data"
    }
   ],
   "source": [
    "pred_holdout = predict_model(rf)"
   ]
  },
  {
   "cell_type": "code",
   "execution_count": 22,
   "metadata": {},
   "outputs": [
    {
     "data": {
      "text/html": [
       "<div>\n",
       "<style scoped>\n",
       "    .dataframe tbody tr th:only-of-type {\n",
       "        vertical-align: middle;\n",
       "    }\n",
       "\n",
       "    .dataframe tbody tr th {\n",
       "        vertical-align: top;\n",
       "    }\n",
       "\n",
       "    .dataframe thead th {\n",
       "        text-align: right;\n",
       "    }\n",
       "</style>\n",
       "<table border=\"1\" class=\"dataframe\">\n",
       "  <thead>\n",
       "    <tr style=\"text-align: right;\">\n",
       "      <th></th>\n",
       "      <th>comprimento_Total</th>\n",
       "      <th>comprimento_Padrao</th>\n",
       "      <th>comprimento_Cabeça</th>\n",
       "      <th>altura</th>\n",
       "      <th>espessura</th>\n",
       "    </tr>\n",
       "  </thead>\n",
       "  <tbody>\n",
       "    <tr>\n",
       "      <th>0</th>\n",
       "      <td>14.3</td>\n",
       "      <td>12.2</td>\n",
       "      <td>4</td>\n",
       "      <td>4.1</td>\n",
       "      <td>1.9</td>\n",
       "    </tr>\n",
       "    <tr>\n",
       "      <th>1</th>\n",
       "      <td>12.4</td>\n",
       "      <td>10.9</td>\n",
       "      <td>3.8</td>\n",
       "      <td>3.2</td>\n",
       "      <td>1.2</td>\n",
       "    </tr>\n",
       "    <tr>\n",
       "      <th>2</th>\n",
       "      <td>13.7</td>\n",
       "      <td>11.2</td>\n",
       "      <td>3.4</td>\n",
       "      <td>4.0</td>\n",
       "      <td>1.7</td>\n",
       "    </tr>\n",
       "    <tr>\n",
       "      <th>3</th>\n",
       "      <td>12.9</td>\n",
       "      <td>11.1</td>\n",
       "      <td>3.7</td>\n",
       "      <td>3.7</td>\n",
       "      <td>1.6</td>\n",
       "    </tr>\n",
       "    <tr>\n",
       "      <th>4</th>\n",
       "      <td>13.2</td>\n",
       "      <td>11.3</td>\n",
       "      <td>3.8</td>\n",
       "      <td>4.5</td>\n",
       "      <td>1.6</td>\n",
       "    </tr>\n",
       "  </tbody>\n",
       "</table>\n",
       "</div>"
      ],
      "text/plain": [
       "   comprimento_Total  comprimento_Padrao comprimento_Cabeça  altura  espessura\n",
       "0               14.3                12.2                  4     4.1        1.9\n",
       "1               12.4                10.9                3.8     3.2        1.2\n",
       "2               13.7                11.2                3.4     4.0        1.7\n",
       "3               12.9                11.1                3.7     3.7        1.6\n",
       "4               13.2                11.3                3.8     4.5        1.6"
      ]
     },
     "execution_count": 22,
     "metadata": {},
     "output_type": "execute_result"
    }
   ],
   "source": [
    "df2 = df.drop(columns=[\n",
    "'data', \n",
    "'Index',\n",
    "'peso'\n",
    "])\n",
    "df2.head()"
   ]
  },
  {
   "cell_type": "code",
   "execution_count": 23,
   "metadata": {},
   "outputs": [
    {
     "data": {
      "text/html": [
       "<style type=\"text/css\">\n",
       "#T_db96d_row9_col1 {\n",
       "  background-color: lightgreen;\n",
       "}\n",
       "</style>\n",
       "<table id=\"T_db96d\">\n",
       "  <thead>\n",
       "    <tr>\n",
       "      <th class=\"blank level0\" >&nbsp;</th>\n",
       "      <th id=\"T_db96d_level0_col0\" class=\"col_heading level0 col0\" >Description</th>\n",
       "      <th id=\"T_db96d_level0_col1\" class=\"col_heading level0 col1\" >Value</th>\n",
       "    </tr>\n",
       "  </thead>\n",
       "  <tbody>\n",
       "    <tr>\n",
       "      <th id=\"T_db96d_level0_row0\" class=\"row_heading level0 row0\" >0</th>\n",
       "      <td id=\"T_db96d_row0_col0\" class=\"data row0 col0\" >Session id</td>\n",
       "      <td id=\"T_db96d_row0_col1\" class=\"data row0 col1\" >2781</td>\n",
       "    </tr>\n",
       "    <tr>\n",
       "      <th id=\"T_db96d_level0_row1\" class=\"row_heading level0 row1\" >1</th>\n",
       "      <td id=\"T_db96d_row1_col0\" class=\"data row1 col0\" >Target</td>\n",
       "      <td id=\"T_db96d_row1_col1\" class=\"data row1 col1\" >espessura</td>\n",
       "    </tr>\n",
       "    <tr>\n",
       "      <th id=\"T_db96d_level0_row2\" class=\"row_heading level0 row2\" >2</th>\n",
       "      <td id=\"T_db96d_row2_col0\" class=\"data row2 col0\" >Target type</td>\n",
       "      <td id=\"T_db96d_row2_col1\" class=\"data row2 col1\" >Regression</td>\n",
       "    </tr>\n",
       "    <tr>\n",
       "      <th id=\"T_db96d_level0_row3\" class=\"row_heading level0 row3\" >3</th>\n",
       "      <td id=\"T_db96d_row3_col0\" class=\"data row3 col0\" >Original data shape</td>\n",
       "      <td id=\"T_db96d_row3_col1\" class=\"data row3 col1\" >(360, 5)</td>\n",
       "    </tr>\n",
       "    <tr>\n",
       "      <th id=\"T_db96d_level0_row4\" class=\"row_heading level0 row4\" >4</th>\n",
       "      <td id=\"T_db96d_row4_col0\" class=\"data row4 col0\" >Transformed data shape</td>\n",
       "      <td id=\"T_db96d_row4_col1\" class=\"data row4 col1\" >(360, 5)</td>\n",
       "    </tr>\n",
       "    <tr>\n",
       "      <th id=\"T_db96d_level0_row5\" class=\"row_heading level0 row5\" >5</th>\n",
       "      <td id=\"T_db96d_row5_col0\" class=\"data row5 col0\" >Transformed train set shape</td>\n",
       "      <td id=\"T_db96d_row5_col1\" class=\"data row5 col1\" >(251, 5)</td>\n",
       "    </tr>\n",
       "    <tr>\n",
       "      <th id=\"T_db96d_level0_row6\" class=\"row_heading level0 row6\" >6</th>\n",
       "      <td id=\"T_db96d_row6_col0\" class=\"data row6 col0\" >Transformed test set shape</td>\n",
       "      <td id=\"T_db96d_row6_col1\" class=\"data row6 col1\" >(109, 5)</td>\n",
       "    </tr>\n",
       "    <tr>\n",
       "      <th id=\"T_db96d_level0_row7\" class=\"row_heading level0 row7\" >7</th>\n",
       "      <td id=\"T_db96d_row7_col0\" class=\"data row7 col0\" >Numeric features</td>\n",
       "      <td id=\"T_db96d_row7_col1\" class=\"data row7 col1\" >3</td>\n",
       "    </tr>\n",
       "    <tr>\n",
       "      <th id=\"T_db96d_level0_row8\" class=\"row_heading level0 row8\" >8</th>\n",
       "      <td id=\"T_db96d_row8_col0\" class=\"data row8 col0\" >Categorical features</td>\n",
       "      <td id=\"T_db96d_row8_col1\" class=\"data row8 col1\" >1</td>\n",
       "    </tr>\n",
       "    <tr>\n",
       "      <th id=\"T_db96d_level0_row9\" class=\"row_heading level0 row9\" >9</th>\n",
       "      <td id=\"T_db96d_row9_col0\" class=\"data row9 col0\" >Preprocess</td>\n",
       "      <td id=\"T_db96d_row9_col1\" class=\"data row9 col1\" >True</td>\n",
       "    </tr>\n",
       "    <tr>\n",
       "      <th id=\"T_db96d_level0_row10\" class=\"row_heading level0 row10\" >10</th>\n",
       "      <td id=\"T_db96d_row10_col0\" class=\"data row10 col0\" >Imputation type</td>\n",
       "      <td id=\"T_db96d_row10_col1\" class=\"data row10 col1\" >simple</td>\n",
       "    </tr>\n",
       "    <tr>\n",
       "      <th id=\"T_db96d_level0_row11\" class=\"row_heading level0 row11\" >11</th>\n",
       "      <td id=\"T_db96d_row11_col0\" class=\"data row11 col0\" >Numeric imputation</td>\n",
       "      <td id=\"T_db96d_row11_col1\" class=\"data row11 col1\" >mean</td>\n",
       "    </tr>\n",
       "    <tr>\n",
       "      <th id=\"T_db96d_level0_row12\" class=\"row_heading level0 row12\" >12</th>\n",
       "      <td id=\"T_db96d_row12_col0\" class=\"data row12 col0\" >Categorical imputation</td>\n",
       "      <td id=\"T_db96d_row12_col1\" class=\"data row12 col1\" >mode</td>\n",
       "    </tr>\n",
       "    <tr>\n",
       "      <th id=\"T_db96d_level0_row13\" class=\"row_heading level0 row13\" >13</th>\n",
       "      <td id=\"T_db96d_row13_col0\" class=\"data row13 col0\" >Maximum one-hot encoding</td>\n",
       "      <td id=\"T_db96d_row13_col1\" class=\"data row13 col1\" >25</td>\n",
       "    </tr>\n",
       "    <tr>\n",
       "      <th id=\"T_db96d_level0_row14\" class=\"row_heading level0 row14\" >14</th>\n",
       "      <td id=\"T_db96d_row14_col0\" class=\"data row14 col0\" >Encoding method</td>\n",
       "      <td id=\"T_db96d_row14_col1\" class=\"data row14 col1\" >None</td>\n",
       "    </tr>\n",
       "    <tr>\n",
       "      <th id=\"T_db96d_level0_row15\" class=\"row_heading level0 row15\" >15</th>\n",
       "      <td id=\"T_db96d_row15_col0\" class=\"data row15 col0\" >Fold Generator</td>\n",
       "      <td id=\"T_db96d_row15_col1\" class=\"data row15 col1\" >KFold</td>\n",
       "    </tr>\n",
       "    <tr>\n",
       "      <th id=\"T_db96d_level0_row16\" class=\"row_heading level0 row16\" >16</th>\n",
       "      <td id=\"T_db96d_row16_col0\" class=\"data row16 col0\" >Fold Number</td>\n",
       "      <td id=\"T_db96d_row16_col1\" class=\"data row16 col1\" >10</td>\n",
       "    </tr>\n",
       "    <tr>\n",
       "      <th id=\"T_db96d_level0_row17\" class=\"row_heading level0 row17\" >17</th>\n",
       "      <td id=\"T_db96d_row17_col0\" class=\"data row17 col0\" >CPU Jobs</td>\n",
       "      <td id=\"T_db96d_row17_col1\" class=\"data row17 col1\" >-1</td>\n",
       "    </tr>\n",
       "    <tr>\n",
       "      <th id=\"T_db96d_level0_row18\" class=\"row_heading level0 row18\" >18</th>\n",
       "      <td id=\"T_db96d_row18_col0\" class=\"data row18 col0\" >Use GPU</td>\n",
       "      <td id=\"T_db96d_row18_col1\" class=\"data row18 col1\" >False</td>\n",
       "    </tr>\n",
       "    <tr>\n",
       "      <th id=\"T_db96d_level0_row19\" class=\"row_heading level0 row19\" >19</th>\n",
       "      <td id=\"T_db96d_row19_col0\" class=\"data row19 col0\" >Log Experiment</td>\n",
       "      <td id=\"T_db96d_row19_col1\" class=\"data row19 col1\" >False</td>\n",
       "    </tr>\n",
       "    <tr>\n",
       "      <th id=\"T_db96d_level0_row20\" class=\"row_heading level0 row20\" >20</th>\n",
       "      <td id=\"T_db96d_row20_col0\" class=\"data row20 col0\" >Experiment Name</td>\n",
       "      <td id=\"T_db96d_row20_col1\" class=\"data row20 col1\" >reg-default-name</td>\n",
       "    </tr>\n",
       "    <tr>\n",
       "      <th id=\"T_db96d_level0_row21\" class=\"row_heading level0 row21\" >21</th>\n",
       "      <td id=\"T_db96d_row21_col0\" class=\"data row21 col0\" >USI</td>\n",
       "      <td id=\"T_db96d_row21_col1\" class=\"data row21 col1\" >0641</td>\n",
       "    </tr>\n",
       "  </tbody>\n",
       "</table>\n"
      ],
      "text/plain": [
       "<pandas.io.formats.style.Styler at 0x12531607970>"
      ]
     },
     "metadata": {},
     "output_type": "display_data"
    },
    {
     "data": {
      "text/html": [],
      "text/plain": [
       "<IPython.core.display.HTML object>"
      ]
     },
     "metadata": {},
     "output_type": "display_data"
    },
    {
     "data": {
      "text/html": [
       "<style type=\"text/css\">\n",
       "#T_7f072 th {\n",
       "  text-align: left;\n",
       "}\n",
       "#T_7f072_row0_col0, #T_7f072_row1_col0, #T_7f072_row1_col1, #T_7f072_row1_col3, #T_7f072_row1_col4, #T_7f072_row1_col5, #T_7f072_row2_col0, #T_7f072_row2_col1, #T_7f072_row2_col2, #T_7f072_row2_col3, #T_7f072_row2_col4, #T_7f072_row2_col5, #T_7f072_row2_col6, #T_7f072_row3_col0, #T_7f072_row3_col1, #T_7f072_row3_col2, #T_7f072_row3_col3, #T_7f072_row3_col4, #T_7f072_row3_col5, #T_7f072_row3_col6, #T_7f072_row4_col0, #T_7f072_row4_col1, #T_7f072_row4_col2, #T_7f072_row4_col3, #T_7f072_row4_col4, #T_7f072_row4_col5, #T_7f072_row4_col6, #T_7f072_row5_col0, #T_7f072_row5_col1, #T_7f072_row5_col2, #T_7f072_row5_col3, #T_7f072_row5_col4, #T_7f072_row5_col5, #T_7f072_row5_col6, #T_7f072_row6_col0, #T_7f072_row6_col1, #T_7f072_row6_col2, #T_7f072_row6_col3, #T_7f072_row6_col4, #T_7f072_row6_col5, #T_7f072_row6_col6, #T_7f072_row7_col0, #T_7f072_row7_col1, #T_7f072_row7_col2, #T_7f072_row7_col3, #T_7f072_row7_col4, #T_7f072_row7_col5, #T_7f072_row7_col6, #T_7f072_row8_col0, #T_7f072_row8_col1, #T_7f072_row8_col2, #T_7f072_row8_col3, #T_7f072_row8_col4, #T_7f072_row8_col5, #T_7f072_row8_col6, #T_7f072_row9_col0, #T_7f072_row9_col1, #T_7f072_row9_col2, #T_7f072_row9_col3, #T_7f072_row9_col4, #T_7f072_row9_col5, #T_7f072_row9_col6, #T_7f072_row10_col0, #T_7f072_row10_col1, #T_7f072_row10_col2, #T_7f072_row10_col3, #T_7f072_row10_col4, #T_7f072_row10_col5, #T_7f072_row10_col6, #T_7f072_row11_col0, #T_7f072_row11_col1, #T_7f072_row11_col2, #T_7f072_row11_col3, #T_7f072_row11_col4, #T_7f072_row11_col5, #T_7f072_row11_col6, #T_7f072_row12_col0, #T_7f072_row12_col1, #T_7f072_row12_col2, #T_7f072_row12_col3, #T_7f072_row12_col4, #T_7f072_row12_col5, #T_7f072_row12_col6, #T_7f072_row13_col0, #T_7f072_row13_col1, #T_7f072_row13_col2, #T_7f072_row13_col3, #T_7f072_row13_col4, #T_7f072_row13_col5, #T_7f072_row13_col6, #T_7f072_row14_col0, #T_7f072_row14_col1, #T_7f072_row14_col2, #T_7f072_row14_col3, #T_7f072_row14_col4, #T_7f072_row14_col5, #T_7f072_row14_col6, #T_7f072_row15_col0, #T_7f072_row15_col1, #T_7f072_row15_col2, #T_7f072_row15_col3, #T_7f072_row15_col4, #T_7f072_row15_col5, #T_7f072_row15_col6, #T_7f072_row16_col0, #T_7f072_row16_col1, #T_7f072_row16_col2, #T_7f072_row16_col3, #T_7f072_row16_col4, #T_7f072_row16_col5, #T_7f072_row16_col6, #T_7f072_row17_col0, #T_7f072_row17_col1, #T_7f072_row17_col2, #T_7f072_row17_col3, #T_7f072_row17_col4, #T_7f072_row17_col5, #T_7f072_row17_col6, #T_7f072_row18_col0, #T_7f072_row18_col1, #T_7f072_row18_col2, #T_7f072_row18_col3, #T_7f072_row18_col4, #T_7f072_row18_col5, #T_7f072_row18_col6 {\n",
       "  text-align: left;\n",
       "}\n",
       "#T_7f072_row0_col1, #T_7f072_row0_col2, #T_7f072_row0_col3, #T_7f072_row0_col4, #T_7f072_row0_col5, #T_7f072_row0_col6, #T_7f072_row1_col2, #T_7f072_row1_col6 {\n",
       "  text-align: left;\n",
       "  background-color: yellow;\n",
       "}\n",
       "#T_7f072_row0_col7, #T_7f072_row1_col7, #T_7f072_row2_col7, #T_7f072_row4_col7, #T_7f072_row5_col7, #T_7f072_row6_col7, #T_7f072_row7_col7, #T_7f072_row8_col7, #T_7f072_row9_col7, #T_7f072_row10_col7, #T_7f072_row11_col7, #T_7f072_row12_col7, #T_7f072_row13_col7, #T_7f072_row14_col7, #T_7f072_row15_col7, #T_7f072_row16_col7, #T_7f072_row17_col7, #T_7f072_row18_col7 {\n",
       "  text-align: left;\n",
       "  background-color: lightgrey;\n",
       "}\n",
       "#T_7f072_row3_col7 {\n",
       "  text-align: left;\n",
       "  background-color: yellow;\n",
       "  background-color: lightgrey;\n",
       "}\n",
       "</style>\n",
       "<table id=\"T_7f072\">\n",
       "  <thead>\n",
       "    <tr>\n",
       "      <th class=\"blank level0\" >&nbsp;</th>\n",
       "      <th id=\"T_7f072_level0_col0\" class=\"col_heading level0 col0\" >Model</th>\n",
       "      <th id=\"T_7f072_level0_col1\" class=\"col_heading level0 col1\" >MAE</th>\n",
       "      <th id=\"T_7f072_level0_col2\" class=\"col_heading level0 col2\" >MSE</th>\n",
       "      <th id=\"T_7f072_level0_col3\" class=\"col_heading level0 col3\" >RMSE</th>\n",
       "      <th id=\"T_7f072_level0_col4\" class=\"col_heading level0 col4\" >R2</th>\n",
       "      <th id=\"T_7f072_level0_col5\" class=\"col_heading level0 col5\" >RMSLE</th>\n",
       "      <th id=\"T_7f072_level0_col6\" class=\"col_heading level0 col6\" >MAPE</th>\n",
       "      <th id=\"T_7f072_level0_col7\" class=\"col_heading level0 col7\" >TT (Sec)</th>\n",
       "    </tr>\n",
       "  </thead>\n",
       "  <tbody>\n",
       "    <tr>\n",
       "      <th id=\"T_7f072_level0_row0\" class=\"row_heading level0 row0\" >ridge</th>\n",
       "      <td id=\"T_7f072_row0_col0\" class=\"data row0 col0\" >Ridge Regression</td>\n",
       "      <td id=\"T_7f072_row0_col1\" class=\"data row0 col1\" >0.0849</td>\n",
       "      <td id=\"T_7f072_row0_col2\" class=\"data row0 col2\" >0.0140</td>\n",
       "      <td id=\"T_7f072_row0_col3\" class=\"data row0 col3\" >0.1132</td>\n",
       "      <td id=\"T_7f072_row0_col4\" class=\"data row0 col4\" >0.8487</td>\n",
       "      <td id=\"T_7f072_row0_col5\" class=\"data row0 col5\" >0.0373</td>\n",
       "      <td id=\"T_7f072_row0_col6\" class=\"data row0 col6\" >0.0422</td>\n",
       "      <td id=\"T_7f072_row0_col7\" class=\"data row0 col7\" >0.0170</td>\n",
       "    </tr>\n",
       "    <tr>\n",
       "      <th id=\"T_7f072_level0_row1\" class=\"row_heading level0 row1\" >huber</th>\n",
       "      <td id=\"T_7f072_row1_col0\" class=\"data row1 col0\" >Huber Regressor</td>\n",
       "      <td id=\"T_7f072_row1_col1\" class=\"data row1 col1\" >0.0850</td>\n",
       "      <td id=\"T_7f072_row1_col2\" class=\"data row1 col2\" >0.0140</td>\n",
       "      <td id=\"T_7f072_row1_col3\" class=\"data row1 col3\" >0.1135</td>\n",
       "      <td id=\"T_7f072_row1_col4\" class=\"data row1 col4\" >0.8484</td>\n",
       "      <td id=\"T_7f072_row1_col5\" class=\"data row1 col5\" >0.0374</td>\n",
       "      <td id=\"T_7f072_row1_col6\" class=\"data row1 col6\" >0.0422</td>\n",
       "      <td id=\"T_7f072_row1_col7\" class=\"data row1 col7\" >0.0230</td>\n",
       "    </tr>\n",
       "    <tr>\n",
       "      <th id=\"T_7f072_level0_row2\" class=\"row_heading level0 row2\" >br</th>\n",
       "      <td id=\"T_7f072_row2_col0\" class=\"data row2 col0\" >Bayesian Ridge</td>\n",
       "      <td id=\"T_7f072_row2_col1\" class=\"data row2 col1\" >0.0852</td>\n",
       "      <td id=\"T_7f072_row2_col2\" class=\"data row2 col2\" >0.0141</td>\n",
       "      <td id=\"T_7f072_row2_col3\" class=\"data row2 col3\" >0.1139</td>\n",
       "      <td id=\"T_7f072_row2_col4\" class=\"data row2 col4\" >0.8473</td>\n",
       "      <td id=\"T_7f072_row2_col5\" class=\"data row2 col5\" >0.0375</td>\n",
       "      <td id=\"T_7f072_row2_col6\" class=\"data row2 col6\" >0.0424</td>\n",
       "      <td id=\"T_7f072_row2_col7\" class=\"data row2 col7\" >0.0180</td>\n",
       "    </tr>\n",
       "    <tr>\n",
       "      <th id=\"T_7f072_level0_row3\" class=\"row_heading level0 row3\" >lar</th>\n",
       "      <td id=\"T_7f072_row3_col0\" class=\"data row3 col0\" >Least Angle Regression</td>\n",
       "      <td id=\"T_7f072_row3_col1\" class=\"data row3 col1\" >0.0856</td>\n",
       "      <td id=\"T_7f072_row3_col2\" class=\"data row3 col2\" >0.0142</td>\n",
       "      <td id=\"T_7f072_row3_col3\" class=\"data row3 col3\" >0.1142</td>\n",
       "      <td id=\"T_7f072_row3_col4\" class=\"data row3 col4\" >0.8471</td>\n",
       "      <td id=\"T_7f072_row3_col5\" class=\"data row3 col5\" >0.0377</td>\n",
       "      <td id=\"T_7f072_row3_col6\" class=\"data row3 col6\" >0.0426</td>\n",
       "      <td id=\"T_7f072_row3_col7\" class=\"data row3 col7\" >0.0160</td>\n",
       "    </tr>\n",
       "    <tr>\n",
       "      <th id=\"T_7f072_level0_row4\" class=\"row_heading level0 row4\" >lr</th>\n",
       "      <td id=\"T_7f072_row4_col0\" class=\"data row4 col0\" >Linear Regression</td>\n",
       "      <td id=\"T_7f072_row4_col1\" class=\"data row4 col1\" >0.0857</td>\n",
       "      <td id=\"T_7f072_row4_col2\" class=\"data row4 col2\" >0.0142</td>\n",
       "      <td id=\"T_7f072_row4_col3\" class=\"data row4 col3\" >0.1144</td>\n",
       "      <td id=\"T_7f072_row4_col4\" class=\"data row4 col4\" >0.8467</td>\n",
       "      <td id=\"T_7f072_row4_col5\" class=\"data row4 col5\" >0.0379</td>\n",
       "      <td id=\"T_7f072_row4_col6\" class=\"data row4 col6\" >0.0427</td>\n",
       "      <td id=\"T_7f072_row4_col7\" class=\"data row4 col7\" >0.0170</td>\n",
       "    </tr>\n",
       "    <tr>\n",
       "      <th id=\"T_7f072_level0_row5\" class=\"row_heading level0 row5\" >omp</th>\n",
       "      <td id=\"T_7f072_row5_col0\" class=\"data row5 col0\" >Orthogonal Matching Pursuit</td>\n",
       "      <td id=\"T_7f072_row5_col1\" class=\"data row5 col1\" >0.0873</td>\n",
       "      <td id=\"T_7f072_row5_col2\" class=\"data row5 col2\" >0.0151</td>\n",
       "      <td id=\"T_7f072_row5_col3\" class=\"data row5 col3\" >0.1178</td>\n",
       "      <td id=\"T_7f072_row5_col4\" class=\"data row5 col4\" >0.8360</td>\n",
       "      <td id=\"T_7f072_row5_col5\" class=\"data row5 col5\" >0.0388</td>\n",
       "      <td id=\"T_7f072_row5_col6\" class=\"data row5 col6\" >0.0437</td>\n",
       "      <td id=\"T_7f072_row5_col7\" class=\"data row5 col7\" >0.0170</td>\n",
       "    </tr>\n",
       "    <tr>\n",
       "      <th id=\"T_7f072_level0_row6\" class=\"row_heading level0 row6\" >lightgbm</th>\n",
       "      <td id=\"T_7f072_row6_col0\" class=\"data row6 col0\" >Light Gradient Boosting Machine</td>\n",
       "      <td id=\"T_7f072_row6_col1\" class=\"data row6 col1\" >0.0950</td>\n",
       "      <td id=\"T_7f072_row6_col2\" class=\"data row6 col2\" >0.0178</td>\n",
       "      <td id=\"T_7f072_row6_col3\" class=\"data row6 col3\" >0.1284</td>\n",
       "      <td id=\"T_7f072_row6_col4\" class=\"data row6 col4\" >0.8124</td>\n",
       "      <td id=\"T_7f072_row6_col5\" class=\"data row6 col5\" >0.0425</td>\n",
       "      <td id=\"T_7f072_row6_col6\" class=\"data row6 col6\" >0.0475</td>\n",
       "      <td id=\"T_7f072_row6_col7\" class=\"data row6 col7\" >0.0630</td>\n",
       "    </tr>\n",
       "    <tr>\n",
       "      <th id=\"T_7f072_level0_row7\" class=\"row_heading level0 row7\" >par</th>\n",
       "      <td id=\"T_7f072_row7_col0\" class=\"data row7 col0\" >Passive Aggressive Regressor</td>\n",
       "      <td id=\"T_7f072_row7_col1\" class=\"data row7 col1\" >0.0969</td>\n",
       "      <td id=\"T_7f072_row7_col2\" class=\"data row7 col2\" >0.0180</td>\n",
       "      <td id=\"T_7f072_row7_col3\" class=\"data row7 col3\" >0.1294</td>\n",
       "      <td id=\"T_7f072_row7_col4\" class=\"data row7 col4\" >0.8059</td>\n",
       "      <td id=\"T_7f072_row7_col5\" class=\"data row7 col5\" >0.0424</td>\n",
       "      <td id=\"T_7f072_row7_col6\" class=\"data row7 col6\" >0.0480</td>\n",
       "      <td id=\"T_7f072_row7_col7\" class=\"data row7 col7\" >0.0170</td>\n",
       "    </tr>\n",
       "    <tr>\n",
       "      <th id=\"T_7f072_level0_row8\" class=\"row_heading level0 row8\" >rf</th>\n",
       "      <td id=\"T_7f072_row8_col0\" class=\"data row8 col0\" >Random Forest Regressor</td>\n",
       "      <td id=\"T_7f072_row8_col1\" class=\"data row8 col1\" >0.0965</td>\n",
       "      <td id=\"T_7f072_row8_col2\" class=\"data row8 col2\" >0.0189</td>\n",
       "      <td id=\"T_7f072_row8_col3\" class=\"data row8 col3\" >0.1324</td>\n",
       "      <td id=\"T_7f072_row8_col4\" class=\"data row8 col4\" >0.8000</td>\n",
       "      <td id=\"T_7f072_row8_col5\" class=\"data row8 col5\" >0.0435</td>\n",
       "      <td id=\"T_7f072_row8_col6\" class=\"data row8 col6\" >0.0482</td>\n",
       "      <td id=\"T_7f072_row8_col7\" class=\"data row8 col7\" >0.0610</td>\n",
       "    </tr>\n",
       "    <tr>\n",
       "      <th id=\"T_7f072_level0_row9\" class=\"row_heading level0 row9\" >knn</th>\n",
       "      <td id=\"T_7f072_row9_col0\" class=\"data row9 col0\" >K Neighbors Regressor</td>\n",
       "      <td id=\"T_7f072_row9_col1\" class=\"data row9 col1\" >0.0940</td>\n",
       "      <td id=\"T_7f072_row9_col2\" class=\"data row9 col2\" >0.0199</td>\n",
       "      <td id=\"T_7f072_row9_col3\" class=\"data row9 col3\" >0.1364</td>\n",
       "      <td id=\"T_7f072_row9_col4\" class=\"data row9 col4\" >0.7896</td>\n",
       "      <td id=\"T_7f072_row9_col5\" class=\"data row9 col5\" >0.0446</td>\n",
       "      <td id=\"T_7f072_row9_col6\" class=\"data row9 col6\" >0.0461</td>\n",
       "      <td id=\"T_7f072_row9_col7\" class=\"data row9 col7\" >0.0220</td>\n",
       "    </tr>\n",
       "    <tr>\n",
       "      <th id=\"T_7f072_level0_row10\" class=\"row_heading level0 row10\" >gbr</th>\n",
       "      <td id=\"T_7f072_row10_col0\" class=\"data row10 col0\" >Gradient Boosting Regressor</td>\n",
       "      <td id=\"T_7f072_row10_col1\" class=\"data row10 col1\" >0.0970</td>\n",
       "      <td id=\"T_7f072_row10_col2\" class=\"data row10 col2\" >0.0198</td>\n",
       "      <td id=\"T_7f072_row10_col3\" class=\"data row10 col3\" >0.1360</td>\n",
       "      <td id=\"T_7f072_row10_col4\" class=\"data row10 col4\" >0.7895</td>\n",
       "      <td id=\"T_7f072_row10_col5\" class=\"data row10 col5\" >0.0442</td>\n",
       "      <td id=\"T_7f072_row10_col6\" class=\"data row10 col6\" >0.0482</td>\n",
       "      <td id=\"T_7f072_row10_col7\" class=\"data row10 col7\" >0.0330</td>\n",
       "    </tr>\n",
       "    <tr>\n",
       "      <th id=\"T_7f072_level0_row11\" class=\"row_heading level0 row11\" >et</th>\n",
       "      <td id=\"T_7f072_row11_col0\" class=\"data row11 col0\" >Extra Trees Regressor</td>\n",
       "      <td id=\"T_7f072_row11_col1\" class=\"data row11 col1\" >0.1021</td>\n",
       "      <td id=\"T_7f072_row11_col2\" class=\"data row11 col2\" >0.0209</td>\n",
       "      <td id=\"T_7f072_row11_col3\" class=\"data row11 col3\" >0.1397</td>\n",
       "      <td id=\"T_7f072_row11_col4\" class=\"data row11 col4\" >0.7799</td>\n",
       "      <td id=\"T_7f072_row11_col5\" class=\"data row11 col5\" >0.0456</td>\n",
       "      <td id=\"T_7f072_row11_col6\" class=\"data row11 col6\" >0.0507</td>\n",
       "      <td id=\"T_7f072_row11_col7\" class=\"data row11 col7\" >0.0520</td>\n",
       "    </tr>\n",
       "    <tr>\n",
       "      <th id=\"T_7f072_level0_row12\" class=\"row_heading level0 row12\" >ada</th>\n",
       "      <td id=\"T_7f072_row12_col0\" class=\"data row12 col0\" >AdaBoost Regressor</td>\n",
       "      <td id=\"T_7f072_row12_col1\" class=\"data row12 col1\" >0.0955</td>\n",
       "      <td id=\"T_7f072_row12_col2\" class=\"data row12 col2\" >0.0211</td>\n",
       "      <td id=\"T_7f072_row12_col3\" class=\"data row12 col3\" >0.1383</td>\n",
       "      <td id=\"T_7f072_row12_col4\" class=\"data row12 col4\" >0.7782</td>\n",
       "      <td id=\"T_7f072_row12_col5\" class=\"data row12 col5\" >0.0452</td>\n",
       "      <td id=\"T_7f072_row12_col6\" class=\"data row12 col6\" >0.0482</td>\n",
       "      <td id=\"T_7f072_row12_col7\" class=\"data row12 col7\" >0.0350</td>\n",
       "    </tr>\n",
       "    <tr>\n",
       "      <th id=\"T_7f072_level0_row13\" class=\"row_heading level0 row13\" >xgboost</th>\n",
       "      <td id=\"T_7f072_row13_col0\" class=\"data row13 col0\" >Extreme Gradient Boosting</td>\n",
       "      <td id=\"T_7f072_row13_col1\" class=\"data row13 col1\" >0.1095</td>\n",
       "      <td id=\"T_7f072_row13_col2\" class=\"data row13 col2\" >0.0228</td>\n",
       "      <td id=\"T_7f072_row13_col3\" class=\"data row13 col3\" >0.1476</td>\n",
       "      <td id=\"T_7f072_row13_col4\" class=\"data row13 col4\" >0.7581</td>\n",
       "      <td id=\"T_7f072_row13_col5\" class=\"data row13 col5\" >0.0482</td>\n",
       "      <td id=\"T_7f072_row13_col6\" class=\"data row13 col6\" >0.0545</td>\n",
       "      <td id=\"T_7f072_row13_col7\" class=\"data row13 col7\" >0.0250</td>\n",
       "    </tr>\n",
       "    <tr>\n",
       "      <th id=\"T_7f072_level0_row14\" class=\"row_heading level0 row14\" >dt</th>\n",
       "      <td id=\"T_7f072_row14_col0\" class=\"data row14 col0\" >Decision Tree Regressor</td>\n",
       "      <td id=\"T_7f072_row14_col1\" class=\"data row14 col1\" >0.1294</td>\n",
       "      <td id=\"T_7f072_row14_col2\" class=\"data row14 col2\" >0.0359</td>\n",
       "      <td id=\"T_7f072_row14_col3\" class=\"data row14 col3\" >0.1833</td>\n",
       "      <td id=\"T_7f072_row14_col4\" class=\"data row14 col4\" >0.6252</td>\n",
       "      <td id=\"T_7f072_row14_col5\" class=\"data row14 col5\" >0.0592</td>\n",
       "      <td id=\"T_7f072_row14_col6\" class=\"data row14 col6\" >0.0647</td>\n",
       "      <td id=\"T_7f072_row14_col7\" class=\"data row14 col7\" >0.0200</td>\n",
       "    </tr>\n",
       "    <tr>\n",
       "      <th id=\"T_7f072_level0_row15\" class=\"row_heading level0 row15\" >en</th>\n",
       "      <td id=\"T_7f072_row15_col0\" class=\"data row15 col0\" >Elastic Net</td>\n",
       "      <td id=\"T_7f072_row15_col1\" class=\"data row15 col1\" >0.2121</td>\n",
       "      <td id=\"T_7f072_row15_col2\" class=\"data row15 col2\" >0.0645</td>\n",
       "      <td id=\"T_7f072_row15_col3\" class=\"data row15 col3\" >0.2526</td>\n",
       "      <td id=\"T_7f072_row15_col4\" class=\"data row15 col4\" >0.3468</td>\n",
       "      <td id=\"T_7f072_row15_col5\" class=\"data row15 col5\" >0.0847</td>\n",
       "      <td id=\"T_7f072_row15_col6\" class=\"data row15 col6\" >0.1095</td>\n",
       "      <td id=\"T_7f072_row15_col7\" class=\"data row15 col7\" >0.0170</td>\n",
       "    </tr>\n",
       "    <tr>\n",
       "      <th id=\"T_7f072_level0_row16\" class=\"row_heading level0 row16\" >lasso</th>\n",
       "      <td id=\"T_7f072_row16_col0\" class=\"data row16 col0\" >Lasso Regression</td>\n",
       "      <td id=\"T_7f072_row16_col1\" class=\"data row16 col1\" >0.2776</td>\n",
       "      <td id=\"T_7f072_row16_col2\" class=\"data row16 col2\" >0.1062</td>\n",
       "      <td id=\"T_7f072_row16_col3\" class=\"data row16 col3\" >0.3249</td>\n",
       "      <td id=\"T_7f072_row16_col4\" class=\"data row16 col4\" >-0.0813</td>\n",
       "      <td id=\"T_7f072_row16_col5\" class=\"data row16 col5\" >0.1085</td>\n",
       "      <td id=\"T_7f072_row16_col6\" class=\"data row16 col6\" >0.1433</td>\n",
       "      <td id=\"T_7f072_row16_col7\" class=\"data row16 col7\" >0.0200</td>\n",
       "    </tr>\n",
       "    <tr>\n",
       "      <th id=\"T_7f072_level0_row17\" class=\"row_heading level0 row17\" >llar</th>\n",
       "      <td id=\"T_7f072_row17_col0\" class=\"data row17 col0\" >Lasso Least Angle Regression</td>\n",
       "      <td id=\"T_7f072_row17_col1\" class=\"data row17 col1\" >0.2776</td>\n",
       "      <td id=\"T_7f072_row17_col2\" class=\"data row17 col2\" >0.1062</td>\n",
       "      <td id=\"T_7f072_row17_col3\" class=\"data row17 col3\" >0.3249</td>\n",
       "      <td id=\"T_7f072_row17_col4\" class=\"data row17 col4\" >-0.0813</td>\n",
       "      <td id=\"T_7f072_row17_col5\" class=\"data row17 col5\" >0.1085</td>\n",
       "      <td id=\"T_7f072_row17_col6\" class=\"data row17 col6\" >0.1433</td>\n",
       "      <td id=\"T_7f072_row17_col7\" class=\"data row17 col7\" >0.0170</td>\n",
       "    </tr>\n",
       "    <tr>\n",
       "      <th id=\"T_7f072_level0_row18\" class=\"row_heading level0 row18\" >dummy</th>\n",
       "      <td id=\"T_7f072_row18_col0\" class=\"data row18 col0\" >Dummy Regressor</td>\n",
       "      <td id=\"T_7f072_row18_col1\" class=\"data row18 col1\" >0.2776</td>\n",
       "      <td id=\"T_7f072_row18_col2\" class=\"data row18 col2\" >0.1062</td>\n",
       "      <td id=\"T_7f072_row18_col3\" class=\"data row18 col3\" >0.3249</td>\n",
       "      <td id=\"T_7f072_row18_col4\" class=\"data row18 col4\" >-0.0813</td>\n",
       "      <td id=\"T_7f072_row18_col5\" class=\"data row18 col5\" >0.1085</td>\n",
       "      <td id=\"T_7f072_row18_col6\" class=\"data row18 col6\" >0.1433</td>\n",
       "      <td id=\"T_7f072_row18_col7\" class=\"data row18 col7\" >0.0170</td>\n",
       "    </tr>\n",
       "  </tbody>\n",
       "</table>\n"
      ],
      "text/plain": [
       "<pandas.io.formats.style.Styler at 0x12531684340>"
      ]
     },
     "metadata": {},
     "output_type": "display_data"
    },
    {
     "data": {
      "text/html": [],
      "text/plain": [
       "<IPython.core.display.HTML object>"
      ]
     },
     "metadata": {},
     "output_type": "display_data"
    }
   ],
   "source": [
    "from pycaret.regression import *\n",
    "exp_name = setup(data = df2,  target = 'espessura')\n",
    "best_model = compare_models()"
   ]
  },
  {
   "cell_type": "code",
   "execution_count": 29,
   "metadata": {},
   "outputs": [
    {
     "data": {
      "text/html": [],
      "text/plain": [
       "<IPython.core.display.HTML object>"
      ]
     },
     "metadata": {},
     "output_type": "display_data"
    },
    {
     "data": {
      "text/html": [
       "<style type=\"text/css\">\n",
       "#T_601de_row10_col0, #T_601de_row10_col1, #T_601de_row10_col2, #T_601de_row10_col3, #T_601de_row10_col4, #T_601de_row10_col5 {\n",
       "  background: yellow;\n",
       "}\n",
       "</style>\n",
       "<table id=\"T_601de\">\n",
       "  <thead>\n",
       "    <tr>\n",
       "      <th class=\"blank level0\" >&nbsp;</th>\n",
       "      <th id=\"T_601de_level0_col0\" class=\"col_heading level0 col0\" >MAE</th>\n",
       "      <th id=\"T_601de_level0_col1\" class=\"col_heading level0 col1\" >MSE</th>\n",
       "      <th id=\"T_601de_level0_col2\" class=\"col_heading level0 col2\" >RMSE</th>\n",
       "      <th id=\"T_601de_level0_col3\" class=\"col_heading level0 col3\" >R2</th>\n",
       "      <th id=\"T_601de_level0_col4\" class=\"col_heading level0 col4\" >RMSLE</th>\n",
       "      <th id=\"T_601de_level0_col5\" class=\"col_heading level0 col5\" >MAPE</th>\n",
       "    </tr>\n",
       "    <tr>\n",
       "      <th class=\"index_name level0\" >Fold</th>\n",
       "      <th class=\"blank col0\" >&nbsp;</th>\n",
       "      <th class=\"blank col1\" >&nbsp;</th>\n",
       "      <th class=\"blank col2\" >&nbsp;</th>\n",
       "      <th class=\"blank col3\" >&nbsp;</th>\n",
       "      <th class=\"blank col4\" >&nbsp;</th>\n",
       "      <th class=\"blank col5\" >&nbsp;</th>\n",
       "    </tr>\n",
       "  </thead>\n",
       "  <tbody>\n",
       "    <tr>\n",
       "      <th id=\"T_601de_level0_row0\" class=\"row_heading level0 row0\" >0</th>\n",
       "      <td id=\"T_601de_row0_col0\" class=\"data row0 col0\" >0.0700</td>\n",
       "      <td id=\"T_601de_row0_col1\" class=\"data row0 col1\" >0.0070</td>\n",
       "      <td id=\"T_601de_row0_col2\" class=\"data row0 col2\" >0.0834</td>\n",
       "      <td id=\"T_601de_row0_col3\" class=\"data row0 col3\" >0.9083</td>\n",
       "      <td id=\"T_601de_row0_col4\" class=\"data row0 col4\" >0.0282</td>\n",
       "      <td id=\"T_601de_row0_col5\" class=\"data row0 col5\" >0.0371</td>\n",
       "    </tr>\n",
       "    <tr>\n",
       "      <th id=\"T_601de_level0_row1\" class=\"row_heading level0 row1\" >1</th>\n",
       "      <td id=\"T_601de_row1_col0\" class=\"data row1 col0\" >0.0747</td>\n",
       "      <td id=\"T_601de_row1_col1\" class=\"data row1 col1\" >0.0089</td>\n",
       "      <td id=\"T_601de_row1_col2\" class=\"data row1 col2\" >0.0944</td>\n",
       "      <td id=\"T_601de_row1_col3\" class=\"data row1 col3\" >0.9008</td>\n",
       "      <td id=\"T_601de_row1_col4\" class=\"data row1 col4\" >0.0308</td>\n",
       "      <td id=\"T_601de_row1_col5\" class=\"data row1 col5\" >0.0370</td>\n",
       "    </tr>\n",
       "    <tr>\n",
       "      <th id=\"T_601de_level0_row2\" class=\"row_heading level0 row2\" >2</th>\n",
       "      <td id=\"T_601de_row2_col0\" class=\"data row2 col0\" >0.0815</td>\n",
       "      <td id=\"T_601de_row2_col1\" class=\"data row2 col1\" >0.0107</td>\n",
       "      <td id=\"T_601de_row2_col2\" class=\"data row2 col2\" >0.1033</td>\n",
       "      <td id=\"T_601de_row2_col3\" class=\"data row2 col3\" >0.9185</td>\n",
       "      <td id=\"T_601de_row2_col4\" class=\"data row2 col4\" >0.0310</td>\n",
       "      <td id=\"T_601de_row2_col5\" class=\"data row2 col5\" >0.0367</td>\n",
       "    </tr>\n",
       "    <tr>\n",
       "      <th id=\"T_601de_level0_row3\" class=\"row_heading level0 row3\" >3</th>\n",
       "      <td id=\"T_601de_row3_col0\" class=\"data row3 col0\" >0.0997</td>\n",
       "      <td id=\"T_601de_row3_col1\" class=\"data row3 col1\" >0.0424</td>\n",
       "      <td id=\"T_601de_row3_col2\" class=\"data row3 col2\" >0.2059</td>\n",
       "      <td id=\"T_601de_row3_col3\" class=\"data row3 col3\" >0.4882</td>\n",
       "      <td id=\"T_601de_row3_col4\" class=\"data row3 col4\" >0.0643</td>\n",
       "      <td id=\"T_601de_row3_col5\" class=\"data row3 col5\" >0.0427</td>\n",
       "    </tr>\n",
       "    <tr>\n",
       "      <th id=\"T_601de_level0_row4\" class=\"row_heading level0 row4\" >4</th>\n",
       "      <td id=\"T_601de_row4_col0\" class=\"data row4 col0\" >0.0978</td>\n",
       "      <td id=\"T_601de_row4_col1\" class=\"data row4 col1\" >0.0169</td>\n",
       "      <td id=\"T_601de_row4_col2\" class=\"data row4 col2\" >0.1301</td>\n",
       "      <td id=\"T_601de_row4_col3\" class=\"data row4 col3\" >0.7794</td>\n",
       "      <td id=\"T_601de_row4_col4\" class=\"data row4 col4\" >0.0406</td>\n",
       "      <td id=\"T_601de_row4_col5\" class=\"data row4 col5\" >0.0459</td>\n",
       "    </tr>\n",
       "    <tr>\n",
       "      <th id=\"T_601de_level0_row5\" class=\"row_heading level0 row5\" >5</th>\n",
       "      <td id=\"T_601de_row5_col0\" class=\"data row5 col0\" >0.0788</td>\n",
       "      <td id=\"T_601de_row5_col1\" class=\"data row5 col1\" >0.0084</td>\n",
       "      <td id=\"T_601de_row5_col2\" class=\"data row5 col2\" >0.0918</td>\n",
       "      <td id=\"T_601de_row5_col3\" class=\"data row5 col3\" >0.9284</td>\n",
       "      <td id=\"T_601de_row5_col4\" class=\"data row5 col4\" >0.0306</td>\n",
       "      <td id=\"T_601de_row5_col5\" class=\"data row5 col5\" >0.0406</td>\n",
       "    </tr>\n",
       "    <tr>\n",
       "      <th id=\"T_601de_level0_row6\" class=\"row_heading level0 row6\" >6</th>\n",
       "      <td id=\"T_601de_row6_col0\" class=\"data row6 col0\" >0.0774</td>\n",
       "      <td id=\"T_601de_row6_col1\" class=\"data row6 col1\" >0.0075</td>\n",
       "      <td id=\"T_601de_row6_col2\" class=\"data row6 col2\" >0.0864</td>\n",
       "      <td id=\"T_601de_row6_col3\" class=\"data row6 col3\" >0.9230</td>\n",
       "      <td id=\"T_601de_row6_col4\" class=\"data row6 col4\" >0.0302</td>\n",
       "      <td id=\"T_601de_row6_col5\" class=\"data row6 col5\" >0.0418</td>\n",
       "    </tr>\n",
       "    <tr>\n",
       "      <th id=\"T_601de_level0_row7\" class=\"row_heading level0 row7\" >7</th>\n",
       "      <td id=\"T_601de_row7_col0\" class=\"data row7 col0\" >0.0913</td>\n",
       "      <td id=\"T_601de_row7_col1\" class=\"data row7 col1\" >0.0143</td>\n",
       "      <td id=\"T_601de_row7_col2\" class=\"data row7 col2\" >0.1197</td>\n",
       "      <td id=\"T_601de_row7_col3\" class=\"data row7 col3\" >0.8873</td>\n",
       "      <td id=\"T_601de_row7_col4\" class=\"data row7 col4\" >0.0441</td>\n",
       "      <td id=\"T_601de_row7_col5\" class=\"data row7 col5\" >0.0505</td>\n",
       "    </tr>\n",
       "    <tr>\n",
       "      <th id=\"T_601de_level0_row8\" class=\"row_heading level0 row8\" >8</th>\n",
       "      <td id=\"T_601de_row8_col0\" class=\"data row8 col0\" >0.0901</td>\n",
       "      <td id=\"T_601de_row8_col1\" class=\"data row8 col1\" >0.0128</td>\n",
       "      <td id=\"T_601de_row8_col2\" class=\"data row8 col2\" >0.1132</td>\n",
       "      <td id=\"T_601de_row8_col3\" class=\"data row8 col3\" >0.8608</td>\n",
       "      <td id=\"T_601de_row8_col4\" class=\"data row8 col4\" >0.0380</td>\n",
       "      <td id=\"T_601de_row8_col5\" class=\"data row8 col5\" >0.0450</td>\n",
       "    </tr>\n",
       "    <tr>\n",
       "      <th id=\"T_601de_level0_row9\" class=\"row_heading level0 row9\" >9</th>\n",
       "      <td id=\"T_601de_row9_col0\" class=\"data row9 col0\" >0.0878</td>\n",
       "      <td id=\"T_601de_row9_col1\" class=\"data row9 col1\" >0.0108</td>\n",
       "      <td id=\"T_601de_row9_col2\" class=\"data row9 col2\" >0.1039</td>\n",
       "      <td id=\"T_601de_row9_col3\" class=\"data row9 col3\" >0.8928</td>\n",
       "      <td id=\"T_601de_row9_col4\" class=\"data row9 col4\" >0.0346</td>\n",
       "      <td id=\"T_601de_row9_col5\" class=\"data row9 col5\" >0.0448</td>\n",
       "    </tr>\n",
       "    <tr>\n",
       "      <th id=\"T_601de_level0_row10\" class=\"row_heading level0 row10\" >Mean</th>\n",
       "      <td id=\"T_601de_row10_col0\" class=\"data row10 col0\" >0.0849</td>\n",
       "      <td id=\"T_601de_row10_col1\" class=\"data row10 col1\" >0.0140</td>\n",
       "      <td id=\"T_601de_row10_col2\" class=\"data row10 col2\" >0.1132</td>\n",
       "      <td id=\"T_601de_row10_col3\" class=\"data row10 col3\" >0.8487</td>\n",
       "      <td id=\"T_601de_row10_col4\" class=\"data row10 col4\" >0.0373</td>\n",
       "      <td id=\"T_601de_row10_col5\" class=\"data row10 col5\" >0.0422</td>\n",
       "    </tr>\n",
       "    <tr>\n",
       "      <th id=\"T_601de_level0_row11\" class=\"row_heading level0 row11\" >Std</th>\n",
       "      <td id=\"T_601de_row11_col0\" class=\"data row11 col0\" >0.0094</td>\n",
       "      <td id=\"T_601de_row11_col1\" class=\"data row11 col1\" >0.0099</td>\n",
       "      <td id=\"T_601de_row11_col2\" class=\"data row11 col2\" >0.0339</td>\n",
       "      <td id=\"T_601de_row11_col3\" class=\"data row11 col3\" >0.1270</td>\n",
       "      <td id=\"T_601de_row11_col4\" class=\"data row11 col4\" >0.0103</td>\n",
       "      <td id=\"T_601de_row11_col5\" class=\"data row11 col5\" >0.0043</td>\n",
       "    </tr>\n",
       "  </tbody>\n",
       "</table>\n"
      ],
      "text/plain": [
       "<pandas.io.formats.style.Styler at 0x1253137af50>"
      ]
     },
     "metadata": {},
     "output_type": "display_data"
    },
    {
     "data": {
      "text/html": [],
      "text/plain": [
       "<IPython.core.display.HTML object>"
      ]
     },
     "metadata": {},
     "output_type": "display_data"
    }
   ],
   "source": [
    "ridge = create_model('ridge')"
   ]
  },
  {
   "cell_type": "code",
   "execution_count": 30,
   "metadata": {},
   "outputs": [
    {
     "data": {
      "text/html": [],
      "text/plain": [
       "<IPython.core.display.HTML object>"
      ]
     },
     "metadata": {},
     "output_type": "display_data"
    },
    {
     "data": {
      "image/png": "[encoded data removed]",
      "text/plain": [
       "<Figure size 800x550 with 1 Axes>"
      ]
     },
     "metadata": {},
     "output_type": "display_data"
    }
   ],
   "source": [
    "plot_model(ridge, plot = 'error')"
   ]
  },
  {
   "cell_type": "code",
   "execution_count": 31,
   "metadata": {},
   "outputs": [
    {
     "data": {
      "application/vnd.jupyter.widget-view+json": {
       "model_id": "f483068f2f2a4eafa4888c195d2de60b",
       "version_major": 2,
       "version_minor": 0
      },
      "text/plain": [
       "interactive(children=(ToggleButtons(description='Plot Type:', icons=('',), options=(('Pipeline Plot', 'pipelin…"
      ]
     },
     "metadata": {},
     "output_type": "display_data"
    }
   ],
   "source": [
    "evaluate_model(ridge)"
   ]
  },
  {
   "cell_type": "code",
   "execution_count": 26,
   "metadata": {},
   "outputs": [],
   "source": [
    "#pred_unseen = predict_model(rf, data = unseen_dataframe)"
   ]
  },
  {
   "cell_type": "code",
   "execution_count": null,
   "metadata": {},
   "outputs": [],
   "source": []
  },
  {
   "cell_type": "code",
   "execution_count": 27,
   "metadata": {},
   "outputs": [
    {
     "data": {
      "text/html": [],
      "text/plain": [
       "<IPython.core.display.HTML object>"
      ]
     },
     "metadata": {},
     "output_type": "display_data"
    },
    {
     "data": {
      "text/html": [
       "<style type=\"text/css\">\n",
       "#T_8f21f_row10_col0, #T_8f21f_row10_col1, #T_8f21f_row10_col2, #T_8f21f_row10_col3, #T_8f21f_row10_col4, #T_8f21f_row10_col5 {\n",
       "  background: yellow;\n",
       "}\n",
       "</style>\n",
       "<table id=\"T_8f21f\">\n",
       "  <thead>\n",
       "    <tr>\n",
       "      <th class=\"blank level0\" >&nbsp;</th>\n",
       "      <th id=\"T_8f21f_level0_col0\" class=\"col_heading level0 col0\" >MAE</th>\n",
       "      <th id=\"T_8f21f_level0_col1\" class=\"col_heading level0 col1\" >MSE</th>\n",
       "      <th id=\"T_8f21f_level0_col2\" class=\"col_heading level0 col2\" >RMSE</th>\n",
       "      <th id=\"T_8f21f_level0_col3\" class=\"col_heading level0 col3\" >R2</th>\n",
       "      <th id=\"T_8f21f_level0_col4\" class=\"col_heading level0 col4\" >RMSLE</th>\n",
       "      <th id=\"T_8f21f_level0_col5\" class=\"col_heading level0 col5\" >MAPE</th>\n",
       "    </tr>\n",
       "    <tr>\n",
       "      <th class=\"index_name level0\" >Fold</th>\n",
       "      <th class=\"blank col0\" >&nbsp;</th>\n",
       "      <th class=\"blank col1\" >&nbsp;</th>\n",
       "      <th class=\"blank col2\" >&nbsp;</th>\n",
       "      <th class=\"blank col3\" >&nbsp;</th>\n",
       "      <th class=\"blank col4\" >&nbsp;</th>\n",
       "      <th class=\"blank col5\" >&nbsp;</th>\n",
       "    </tr>\n",
       "  </thead>\n",
       "  <tbody>\n",
       "    <tr>\n",
       "      <th id=\"T_8f21f_level0_row0\" class=\"row_heading level0 row0\" >0</th>\n",
       "      <td id=\"T_8f21f_row0_col0\" class=\"data row0 col0\" >0.0577</td>\n",
       "      <td id=\"T_8f21f_row0_col1\" class=\"data row0 col1\" >0.0064</td>\n",
       "      <td id=\"T_8f21f_row0_col2\" class=\"data row0 col2\" >0.0802</td>\n",
       "      <td id=\"T_8f21f_row0_col3\" class=\"data row0 col3\" >0.9153</td>\n",
       "      <td id=\"T_8f21f_row0_col4\" class=\"data row0 col4\" >0.0276</td>\n",
       "      <td id=\"T_8f21f_row0_col5\" class=\"data row0 col5\" >0.0300</td>\n",
       "    </tr>\n",
       "    <tr>\n",
       "      <th id=\"T_8f21f_level0_row1\" class=\"row_heading level0 row1\" >1</th>\n",
       "      <td id=\"T_8f21f_row1_col0\" class=\"data row1 col0\" >0.0640</td>\n",
       "      <td id=\"T_8f21f_row1_col1\" class=\"data row1 col1\" >0.0072</td>\n",
       "      <td id=\"T_8f21f_row1_col2\" class=\"data row1 col2\" >0.0849</td>\n",
       "      <td id=\"T_8f21f_row1_col3\" class=\"data row1 col3\" >0.9198</td>\n",
       "      <td id=\"T_8f21f_row1_col4\" class=\"data row1 col4\" >0.0285</td>\n",
       "      <td id=\"T_8f21f_row1_col5\" class=\"data row1 col5\" >0.0322</td>\n",
       "    </tr>\n",
       "    <tr>\n",
       "      <th id=\"T_8f21f_level0_row2\" class=\"row_heading level0 row2\" >2</th>\n",
       "      <td id=\"T_8f21f_row2_col0\" class=\"data row2 col0\" >0.0880</td>\n",
       "      <td id=\"T_8f21f_row2_col1\" class=\"data row2 col1\" >0.0160</td>\n",
       "      <td id=\"T_8f21f_row2_col2\" class=\"data row2 col2\" >0.1265</td>\n",
       "      <td id=\"T_8f21f_row2_col3\" class=\"data row2 col3\" >0.8778</td>\n",
       "      <td id=\"T_8f21f_row2_col4\" class=\"data row2 col4\" >0.0378</td>\n",
       "      <td id=\"T_8f21f_row2_col5\" class=\"data row2 col5\" >0.0399</td>\n",
       "    </tr>\n",
       "    <tr>\n",
       "      <th id=\"T_8f21f_level0_row3\" class=\"row_heading level0 row3\" >3</th>\n",
       "      <td id=\"T_8f21f_row3_col0\" class=\"data row3 col0\" >0.1159</td>\n",
       "      <td id=\"T_8f21f_row3_col1\" class=\"data row3 col1\" >0.0376</td>\n",
       "      <td id=\"T_8f21f_row3_col2\" class=\"data row3 col2\" >0.1938</td>\n",
       "      <td id=\"T_8f21f_row3_col3\" class=\"data row3 col3\" >0.5466</td>\n",
       "      <td id=\"T_8f21f_row3_col4\" class=\"data row3 col4\" >0.0603</td>\n",
       "      <td id=\"T_8f21f_row3_col5\" class=\"data row3 col5\" >0.0507</td>\n",
       "    </tr>\n",
       "    <tr>\n",
       "      <th id=\"T_8f21f_level0_row4\" class=\"row_heading level0 row4\" >4</th>\n",
       "      <td id=\"T_8f21f_row4_col0\" class=\"data row4 col0\" >0.0819</td>\n",
       "      <td id=\"T_8f21f_row4_col1\" class=\"data row4 col1\" >0.0149</td>\n",
       "      <td id=\"T_8f21f_row4_col2\" class=\"data row4 col2\" >0.1219</td>\n",
       "      <td id=\"T_8f21f_row4_col3\" class=\"data row4 col3\" >0.8064</td>\n",
       "      <td id=\"T_8f21f_row4_col4\" class=\"data row4 col4\" >0.0390</td>\n",
       "      <td id=\"T_8f21f_row4_col5\" class=\"data row4 col5\" >0.0391</td>\n",
       "    </tr>\n",
       "    <tr>\n",
       "      <th id=\"T_8f21f_level0_row5\" class=\"row_heading level0 row5\" >5</th>\n",
       "      <td id=\"T_8f21f_row5_col0\" class=\"data row5 col0\" >0.0580</td>\n",
       "      <td id=\"T_8f21f_row5_col1\" class=\"data row5 col1\" >0.0057</td>\n",
       "      <td id=\"T_8f21f_row5_col2\" class=\"data row5 col2\" >0.0757</td>\n",
       "      <td id=\"T_8f21f_row5_col3\" class=\"data row5 col3\" >0.9512</td>\n",
       "      <td id=\"T_8f21f_row5_col4\" class=\"data row5 col4\" >0.0248</td>\n",
       "      <td id=\"T_8f21f_row5_col5\" class=\"data row5 col5\" >0.0283</td>\n",
       "    </tr>\n",
       "    <tr>\n",
       "      <th id=\"T_8f21f_level0_row6\" class=\"row_heading level0 row6\" >6</th>\n",
       "      <td id=\"T_8f21f_row6_col0\" class=\"data row6 col0\" >0.0841</td>\n",
       "      <td id=\"T_8f21f_row6_col1\" class=\"data row6 col1\" >0.0102</td>\n",
       "      <td id=\"T_8f21f_row6_col2\" class=\"data row6 col2\" >0.1011</td>\n",
       "      <td id=\"T_8f21f_row6_col3\" class=\"data row6 col3\" >0.8945</td>\n",
       "      <td id=\"T_8f21f_row6_col4\" class=\"data row6 col4\" >0.0346</td>\n",
       "      <td id=\"T_8f21f_row6_col5\" class=\"data row6 col5\" >0.0443</td>\n",
       "    </tr>\n",
       "    <tr>\n",
       "      <th id=\"T_8f21f_level0_row7\" class=\"row_heading level0 row7\" >7</th>\n",
       "      <td id=\"T_8f21f_row7_col0\" class=\"data row7 col0\" >0.0855</td>\n",
       "      <td id=\"T_8f21f_row7_col1\" class=\"data row7 col1\" >0.0174</td>\n",
       "      <td id=\"T_8f21f_row7_col2\" class=\"data row7 col2\" >0.1320</td>\n",
       "      <td id=\"T_8f21f_row7_col3\" class=\"data row7 col3\" >0.8630</td>\n",
       "      <td id=\"T_8f21f_row7_col4\" class=\"data row7 col4\" >0.0485</td>\n",
       "      <td id=\"T_8f21f_row7_col5\" class=\"data row7 col5\" >0.0473</td>\n",
       "    </tr>\n",
       "    <tr>\n",
       "      <th id=\"T_8f21f_level0_row8\" class=\"row_heading level0 row8\" >8</th>\n",
       "      <td id=\"T_8f21f_row8_col0\" class=\"data row8 col0\" >0.0840</td>\n",
       "      <td id=\"T_8f21f_row8_col1\" class=\"data row8 col1\" >0.0140</td>\n",
       "      <td id=\"T_8f21f_row8_col2\" class=\"data row8 col2\" >0.1183</td>\n",
       "      <td id=\"T_8f21f_row8_col3\" class=\"data row8 col3\" >0.8478</td>\n",
       "      <td id=\"T_8f21f_row8_col4\" class=\"data row8 col4\" >0.0407</td>\n",
       "      <td id=\"T_8f21f_row8_col5\" class=\"data row8 col5\" >0.0427</td>\n",
       "    </tr>\n",
       "    <tr>\n",
       "      <th id=\"T_8f21f_level0_row9\" class=\"row_heading level0 row9\" >9</th>\n",
       "      <td id=\"T_8f21f_row9_col0\" class=\"data row9 col0\" >0.0895</td>\n",
       "      <td id=\"T_8f21f_row9_col1\" class=\"data row9 col1\" >0.0137</td>\n",
       "      <td id=\"T_8f21f_row9_col2\" class=\"data row9 col2\" >0.1169</td>\n",
       "      <td id=\"T_8f21f_row9_col3\" class=\"data row9 col3\" >0.8644</td>\n",
       "      <td id=\"T_8f21f_row9_col4\" class=\"data row9 col4\" >0.0402</td>\n",
       "      <td id=\"T_8f21f_row9_col5\" class=\"data row9 col5\" >0.0470</td>\n",
       "    </tr>\n",
       "    <tr>\n",
       "      <th id=\"T_8f21f_level0_row10\" class=\"row_heading level0 row10\" >Mean</th>\n",
       "      <td id=\"T_8f21f_row10_col0\" class=\"data row10 col0\" >0.0808</td>\n",
       "      <td id=\"T_8f21f_row10_col1\" class=\"data row10 col1\" >0.0143</td>\n",
       "      <td id=\"T_8f21f_row10_col2\" class=\"data row10 col2\" >0.1151</td>\n",
       "      <td id=\"T_8f21f_row10_col3\" class=\"data row10 col3\" >0.8487</td>\n",
       "      <td id=\"T_8f21f_row10_col4\" class=\"data row10 col4\" >0.0382</td>\n",
       "      <td id=\"T_8f21f_row10_col5\" class=\"data row10 col5\" >0.0402</td>\n",
       "    </tr>\n",
       "    <tr>\n",
       "      <th id=\"T_8f21f_level0_row11\" class=\"row_heading level0 row11\" >Std</th>\n",
       "      <td id=\"T_8f21f_row11_col0\" class=\"data row11 col0\" >0.0166</td>\n",
       "      <td id=\"T_8f21f_row11_col1\" class=\"data row11 col1\" >0.0087</td>\n",
       "      <td id=\"T_8f21f_row11_col2\" class=\"data row11 col2\" >0.0325</td>\n",
       "      <td id=\"T_8f21f_row11_col3\" class=\"data row11 col3\" >0.1079</td>\n",
       "      <td id=\"T_8f21f_row11_col4\" class=\"data row11 col4\" >0.0100</td>\n",
       "      <td id=\"T_8f21f_row11_col5\" class=\"data row11 col5\" >0.0074</td>\n",
       "    </tr>\n",
       "  </tbody>\n",
       "</table>\n"
      ],
      "text/plain": [
       "<pandas.io.formats.style.Styler at 0x12531ae5d50>"
      ]
     },
     "metadata": {},
     "output_type": "display_data"
    },
    {
     "data": {
      "text/html": [],
      "text/plain": [
       "<IPython.core.display.HTML object>"
      ]
     },
     "metadata": {},
     "output_type": "display_data"
    },
    {
     "name": "stdout",
     "output_type": "stream",
     "text": [
      "Fitting 10 folds for each of 10 candidates, totalling 100 fits\n"
     ]
    }
   ],
   "source": [
    "tuned_rf = tune_model(rf)"
   ]
  },
  {
   "cell_type": "code",
   "execution_count": 28,
   "metadata": {},
   "outputs": [],
   "source": [
    "#theta = exp.create_model('theta')\n",
    "#exp.plot_model(plot = 'decomp',\n",
    "#               data_kwargs = {'type' : 'multiplicative'},\n",
    "#               fig_kwargs = {\"height\":500,\"width\":1000,\"template\": \"simple_white\",\"hoverinfo\":\"none\",\"big_data_threshold\":50})\n",
    "#exp.plot_model(estimator = theta, plot = 'forecast', \n",
    "#               data_kwargs = {'fh' : 8},\n",
    "#               fig_kwargs = {\"height\":500,\"width\":1000,\"template\": \"simple_white\",\"hoverinfo\":\"none\",\"big_data_threshold\":50})\n",
    "#exp.predict_model(theta, fh = 8)"
   ]
  },
  {
   "cell_type": "markdown",
   "metadata": {},
   "source": [
    "#### weight prediction \n",
    "#### Realizar um codigo padrao com avaliacao de modelos, tuning, evaluation, shuffle and save (retirar index)\n",
    "#### realizar predicao para espessura\n",
    "#### realizar a predicao do peso sem a variavel espessura\n",
    "####"
   ]
  }
 ],
 "metadata": {
  "kernelspec": {
   "display_name": "Python 3",
   "language": "python",
   "name": "python3"
  },
  "language_info": {
   "codemirror_mode": {
    "name": "ipython",
    "version": 3
   },
   "file_extension": ".py",
   "mimetype": "text/x-python",
   "name": "python",
   "nbconvert_exporter": "python",
   "pygments_lexer": "ipython3",
   "version": "3.10.11"
  }
 },
 "nbformat": 4,
 "nbformat_minor": 2
}
