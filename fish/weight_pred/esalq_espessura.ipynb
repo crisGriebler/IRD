{
 "cells": [
  {
   "cell_type": "code",
   "execution_count": 1,
   "metadata": {},
   "outputs": [],
   "source": [
    "import pandas as pd\n",
    "import matplotlib as plt\n",
    "import numpy as np\n",
    "import statsmodels.api as sm\n",
    "from statsmodels.graphics.tsaplots import plot_acf, plot_pacf\n",
    "from statsmodels.tsa.arima_model import ARIMA\n",
    "from statsmodels.tsa.stattools import adfuller\n",
    "from numpy import log\n",
    "from sklearn.metrics import mean_squared_error\n",
    "from statsmodels.tsa.stattools import acf\n",
    "from datetime import datetime, timedelta"
   ]
  },
  {
   "cell_type": "code",
   "execution_count": 2,
   "metadata": {},
   "outputs": [
    {
     "name": "stdout",
     "output_type": "stream",
     "text": [
      "   Index   peso  comprimento_Total  comprimento_Padrao  comprimento_Cabeca  \\\n",
      "0    NaN  51.45               14.3                12.2                 4.0   \n",
      "1    NaN  37.15               12.4                10.9                 3.8   \n",
      "2    NaN  47.26               13.7                11.2                 3.4   \n",
      "3    NaN  36.67               12.9                11.1                 3.7   \n",
      "4    NaN  45.48               13.2                11.3                 3.8   \n",
      "5    NaN  36.77               12.5                10.8                 3.2   \n",
      "6    NaN  32.79               12.0                10.2                 3.4   \n",
      "7    NaN  35.52               12.4                10.8                 3.4   \n",
      "8    NaN  35.58               12.3                11.0                 3.4   \n",
      "9    NaN  42.88               13.2                11.2                 3.8   \n",
      "\n",
      "   altura  espessura       data  \n",
      "0     4.1        1.9 2024-02-28  \n",
      "1     3.2        1.2 2024-02-28  \n",
      "2     4.0        1.7 2024-02-28  \n",
      "3     3.7        1.6 2024-02-28  \n",
      "4     4.5        1.6 2024-02-28  \n",
      "5     3.9        1.8 2024-02-28  \n",
      "6     3.7        1.7 2024-02-28  \n",
      "7     4.0        1.9 2024-02-28  \n",
      "8     3.7        1.7 2024-02-28  \n",
      "9     4.1        1.9 2024-02-28  \n"
     ]
    }
   ],
   "source": [
    "#função para tratar campo data\n",
    "def parser(x):\n",
    "    return pd.datetime.strptime('190'+x, '%Y-%m')\n",
    "\n",
    "#Agora vamos importar nosso arquivo \n",
    "df = pd.read_excel('biometria.xlsx', sheet_name='Página1')\n",
    "print(df.head(10))"
   ]
  },
  {
   "cell_type": "code",
   "execution_count": 3,
   "metadata": {},
   "outputs": [
    {
     "data": {
      "text/html": [
       "<div>\n",
       "<style scoped>\n",
       "    .dataframe tbody tr th:only-of-type {\n",
       "        vertical-align: middle;\n",
       "    }\n",
       "\n",
       "    .dataframe tbody tr th {\n",
       "        vertical-align: top;\n",
       "    }\n",
       "\n",
       "    .dataframe thead th {\n",
       "        text-align: right;\n",
       "    }\n",
       "</style>\n",
       "<table border=\"1\" class=\"dataframe\">\n",
       "  <thead>\n",
       "    <tr style=\"text-align: right;\">\n",
       "      <th></th>\n",
       "      <th>comprimento_Total</th>\n",
       "      <th>comprimento_Padrao</th>\n",
       "      <th>comprimento_Cabeca</th>\n",
       "      <th>altura</th>\n",
       "      <th>espessura</th>\n",
       "    </tr>\n",
       "  </thead>\n",
       "  <tbody>\n",
       "    <tr>\n",
       "      <th>0</th>\n",
       "      <td>14.3</td>\n",
       "      <td>12.2</td>\n",
       "      <td>4.0</td>\n",
       "      <td>4.1</td>\n",
       "      <td>1.9</td>\n",
       "    </tr>\n",
       "    <tr>\n",
       "      <th>1</th>\n",
       "      <td>12.4</td>\n",
       "      <td>10.9</td>\n",
       "      <td>3.8</td>\n",
       "      <td>3.2</td>\n",
       "      <td>1.2</td>\n",
       "    </tr>\n",
       "    <tr>\n",
       "      <th>2</th>\n",
       "      <td>13.7</td>\n",
       "      <td>11.2</td>\n",
       "      <td>3.4</td>\n",
       "      <td>4.0</td>\n",
       "      <td>1.7</td>\n",
       "    </tr>\n",
       "    <tr>\n",
       "      <th>3</th>\n",
       "      <td>12.9</td>\n",
       "      <td>11.1</td>\n",
       "      <td>3.7</td>\n",
       "      <td>3.7</td>\n",
       "      <td>1.6</td>\n",
       "    </tr>\n",
       "    <tr>\n",
       "      <th>4</th>\n",
       "      <td>13.2</td>\n",
       "      <td>11.3</td>\n",
       "      <td>3.8</td>\n",
       "      <td>4.5</td>\n",
       "      <td>1.6</td>\n",
       "    </tr>\n",
       "  </tbody>\n",
       "</table>\n",
       "</div>"
      ],
      "text/plain": [
       "   comprimento_Total  comprimento_Padrao  comprimento_Cabeca  altura  \\\n",
       "0               14.3                12.2                 4.0     4.1   \n",
       "1               12.4                10.9                 3.8     3.2   \n",
       "2               13.7                11.2                 3.4     4.0   \n",
       "3               12.9                11.1                 3.7     3.7   \n",
       "4               13.2                11.3                 3.8     4.5   \n",
       "\n",
       "   espessura  \n",
       "0        1.9  \n",
       "1        1.2  \n",
       "2        1.7  \n",
       "3        1.6  \n",
       "4        1.6  "
      ]
     },
     "execution_count": 3,
     "metadata": {},
     "output_type": "execute_result"
    }
   ],
   "source": [
    "df1 = df.drop(columns=[\n",
    "'data', \n",
    "'Index', \n",
    "'peso'\n",
    "])\n",
    "df1.head()"
   ]
  },
  {
   "cell_type": "markdown",
   "metadata": {},
   "source": [
    "## Creating the unseen_Data of 10% of the real data to check model results"
   ]
  },
  {
   "cell_type": "code",
   "execution_count": 4,
   "metadata": {},
   "outputs": [
    {
     "name": "stdout",
     "output_type": "stream",
     "text": [
      "Data for Modeling: (324, 5)\n",
      "Unseen Data For Predictions: (36, 5)\n"
     ]
    }
   ],
   "source": [
    "data = df1.sample(frac=0.9, random_state=123)\n",
    "data_unseen = df1.drop(data.index)\n",
    "\n",
    "data.reset_index(drop=True, inplace=True)\n",
    "data_unseen.reset_index(drop=True, inplace=True)\n",
    "\n",
    "print('Data for Modeling: ' + str(data.shape))\n",
    "print('Unseen Data For Predictions: ' + str(data_unseen.shape))"
   ]
  },
  {
   "cell_type": "code",
   "execution_count": 5,
   "metadata": {},
   "outputs": [
    {
     "name": "stdout",
     "output_type": "stream",
     "text": [
      "comprimento_Total\n",
      "comprimento_Padrao\n",
      "comprimento_Cabeca\n",
      "altura\n",
      "espessura\n"
     ]
    }
   ],
   "source": [
    "for col in data.select_dtypes(include='number').columns:\n",
    "    print(col)"
   ]
  },
  {
   "cell_type": "code",
   "execution_count": 6,
   "metadata": {},
   "outputs": [],
   "source": [
    "# Run this cel to make sure all the variable are type float64!\n",
    "#data.info()"
   ]
  },
  {
   "cell_type": "code",
   "execution_count": 7,
   "metadata": {},
   "outputs": [
    {
     "data": {
      "text/html": [
       "<style type=\"text/css\">\n",
       "</style>\n",
       "<table id=\"T_1828c\">\n",
       "  <thead>\n",
       "    <tr>\n",
       "      <th class=\"blank level0\" >&nbsp;</th>\n",
       "      <th id=\"T_1828c_level0_col0\" class=\"col_heading level0 col0\" >Description</th>\n",
       "      <th id=\"T_1828c_level0_col1\" class=\"col_heading level0 col1\" >Value</th>\n",
       "    </tr>\n",
       "  </thead>\n",
       "  <tbody>\n",
       "    <tr>\n",
       "      <th id=\"T_1828c_level0_row0\" class=\"row_heading level0 row0\" >0</th>\n",
       "      <td id=\"T_1828c_row0_col0\" class=\"data row0 col0\" >Session id</td>\n",
       "      <td id=\"T_1828c_row0_col1\" class=\"data row0 col1\" >124</td>\n",
       "    </tr>\n",
       "    <tr>\n",
       "      <th id=\"T_1828c_level0_row1\" class=\"row_heading level0 row1\" >1</th>\n",
       "      <td id=\"T_1828c_row1_col0\" class=\"data row1 col0\" >Target</td>\n",
       "      <td id=\"T_1828c_row1_col1\" class=\"data row1 col1\" >espessura</td>\n",
       "    </tr>\n",
       "    <tr>\n",
       "      <th id=\"T_1828c_level0_row2\" class=\"row_heading level0 row2\" >2</th>\n",
       "      <td id=\"T_1828c_row2_col0\" class=\"data row2 col0\" >Target type</td>\n",
       "      <td id=\"T_1828c_row2_col1\" class=\"data row2 col1\" >Regression</td>\n",
       "    </tr>\n",
       "    <tr>\n",
       "      <th id=\"T_1828c_level0_row3\" class=\"row_heading level0 row3\" >3</th>\n",
       "      <td id=\"T_1828c_row3_col0\" class=\"data row3 col0\" >Original data shape</td>\n",
       "      <td id=\"T_1828c_row3_col1\" class=\"data row3 col1\" >(324, 5)</td>\n",
       "    </tr>\n",
       "    <tr>\n",
       "      <th id=\"T_1828c_level0_row4\" class=\"row_heading level0 row4\" >4</th>\n",
       "      <td id=\"T_1828c_row4_col0\" class=\"data row4 col0\" >Transformed data shape</td>\n",
       "      <td id=\"T_1828c_row4_col1\" class=\"data row4 col1\" >(324, 5)</td>\n",
       "    </tr>\n",
       "    <tr>\n",
       "      <th id=\"T_1828c_level0_row5\" class=\"row_heading level0 row5\" >5</th>\n",
       "      <td id=\"T_1828c_row5_col0\" class=\"data row5 col0\" >Transformed train set shape</td>\n",
       "      <td id=\"T_1828c_row5_col1\" class=\"data row5 col1\" >(259, 5)</td>\n",
       "    </tr>\n",
       "    <tr>\n",
       "      <th id=\"T_1828c_level0_row6\" class=\"row_heading level0 row6\" >6</th>\n",
       "      <td id=\"T_1828c_row6_col0\" class=\"data row6 col0\" >Transformed test set shape</td>\n",
       "      <td id=\"T_1828c_row6_col1\" class=\"data row6 col1\" >(65, 5)</td>\n",
       "    </tr>\n",
       "    <tr>\n",
       "      <th id=\"T_1828c_level0_row7\" class=\"row_heading level0 row7\" >7</th>\n",
       "      <td id=\"T_1828c_row7_col0\" class=\"data row7 col0\" >Numeric features</td>\n",
       "      <td id=\"T_1828c_row7_col1\" class=\"data row7 col1\" >4</td>\n",
       "    </tr>\n",
       "  </tbody>\n",
       "</table>\n"
      ],
      "text/plain": [
       "<pandas.io.formats.style.Styler at 0x2a4d5187400>"
      ]
     },
     "metadata": {},
     "output_type": "display_data"
    }
   ],
   "source": [
    "from pycaret.regression import *\n",
    "exp1 = setup(data = data,  target = 'espessura', session_id=124, train_size=0.8, preprocess=False)\n"
   ]
  },
  {
   "cell_type": "code",
   "execution_count": 10,
   "metadata": {},
   "outputs": [
    {
     "data": {
      "text/html": [],
      "text/plain": [
       "<IPython.core.display.HTML object>"
      ]
     },
     "metadata": {},
     "output_type": "display_data"
    },
    {
     "data": {
      "text/html": [],
      "text/plain": [
       "<IPython.core.display.HTML object>"
      ]
     },
     "metadata": {},
     "output_type": "display_data"
    },
    {
     "data": {
      "text/html": [],
      "text/plain": [
       "<IPython.core.display.HTML object>"
      ]
     },
     "metadata": {},
     "output_type": "display_data"
    }
   ],
   "source": [
    "best_model = compare_models(n_select=5 )  #sort= 'R2' TO select the metric R2"
   ]
  },
  {
   "cell_type": "code",
   "execution_count": 11,
   "metadata": {},
   "outputs": [
    {
     "data": {
      "text/plain": [
       "[LinearRegression(n_jobs=-1),\n",
       " Lars(random_state=124),\n",
       " HuberRegressor(),\n",
       " Ridge(random_state=124),\n",
       " BayesianRidge()]"
      ]
     },
     "execution_count": 11,
     "metadata": {},
     "output_type": "execute_result"
    }
   ],
   "source": [
    "best_model"
   ]
  },
  {
   "cell_type": "markdown",
   "metadata": {},
   "source": [
    "## Create Model\n",
    "#### This function trains and evaluates the performance of a given estimator using cross validation. The output of this function is a score grid with CV scores by fold. Metrics evaluated during CV can be accessed using the get_metrics function. Custom metrics can be added or removed using add_metric and remove_metric function. All the available models can be accessed using the models function."
   ]
  },
  {
   "cell_type": "code",
   "execution_count": 14,
   "metadata": {},
   "outputs": [
    {
     "data": {
      "text/html": [],
      "text/plain": [
       "<IPython.core.display.HTML object>"
      ]
     },
     "metadata": {},
     "output_type": "display_data"
    },
    {
     "data": {
      "text/html": [],
      "text/plain": [
       "<IPython.core.display.HTML object>"
      ]
     },
     "metadata": {},
     "output_type": "display_data"
    },
    {
     "data": {
      "text/html": [],
      "text/plain": [
       "<IPython.core.display.HTML object>"
      ]
     },
     "metadata": {},
     "output_type": "display_data"
    }
   ],
   "source": [
    "lr = exp1.create_model('lr')"
   ]
  },
  {
   "cell_type": "code",
   "execution_count": 15,
   "metadata": {},
   "outputs": [
    {
     "data": {
      "text/html": [],
      "text/plain": [
       "<IPython.core.display.HTML object>"
      ]
     },
     "metadata": {},
     "output_type": "display_data"
    },
    {
     "data": {
      "image/png": "[encoded data removed]",
      "text/plain": [
       "<Figure size 800x550 with 1 Axes>"
      ]
     },
     "metadata": {},
     "output_type": "display_data"
    }
   ],
   "source": [
    "#plot_model(et, plot = 'residuals')\n",
    "plot_model(lr, plot = 'error')\n",
    "#plot_model(et, plot = 'feature')\n",
    "\n"
   ]
  },
  {
   "cell_type": "code",
   "execution_count": 17,
   "metadata": {},
   "outputs": [
    {
     "data": {
      "text/html": [],
      "text/plain": [
       "<IPython.core.display.HTML object>"
      ]
     },
     "metadata": {},
     "output_type": "display_data"
    },
    {
     "data": {
      "image/png": "[encoded data removed]",
      "text/plain": [
       "<Figure size 800x550 with 1 Axes>"
      ]
     },
     "metadata": {},
     "output_type": "display_data"
    }
   ],
   "source": [
    "plot_model(lr, plot = 'learning')"
   ]
  },
  {
   "cell_type": "code",
   "execution_count": 18,
   "metadata": {},
   "outputs": [
    {
     "data": {
      "text/html": [],
      "text/plain": [
       "<IPython.core.display.HTML object>"
      ]
     },
     "metadata": {},
     "output_type": "display_data"
    },
    {
     "data": {
      "image/png": "[encoded data removed]",
      "text/plain": [
       "<Figure size 800x550 with 2 Axes>"
      ]
     },
     "metadata": {},
     "output_type": "display_data"
    }
   ],
   "source": [
    "exp1.plot_model(lr, plot = 'manifold')"
   ]
  },
  {
   "cell_type": "markdown",
   "metadata": {},
   "source": [
    "## Blend an d sTacking if it is necessary!"
   ]
  },
  {
   "cell_type": "code",
   "execution_count": 19,
   "metadata": {},
   "outputs": [
    {
     "data": {
      "text/html": [],
      "text/plain": [
       "<IPython.core.display.HTML object>"
      ]
     },
     "metadata": {},
     "output_type": "display_data"
    }
   ],
   "source": [
    "espessura_pred = exp1.predict_model(lr)\n",
    "#holdout_pred.tail(5)\n"
   ]
  },
  {
   "cell_type": "code",
   "execution_count": 21,
   "metadata": {},
   "outputs": [
    {
     "data": {
      "text/html": [
       "<style type=\"text/css\">\n",
       "</style>\n",
       "<table id=\"T_52a22\">\n",
       "  <thead>\n",
       "    <tr>\n",
       "      <th class=\"blank level0\" >&nbsp;</th>\n",
       "      <th id=\"T_52a22_level0_col0\" class=\"col_heading level0 col0\" >Model</th>\n",
       "      <th id=\"T_52a22_level0_col1\" class=\"col_heading level0 col1\" >MAE</th>\n",
       "      <th id=\"T_52a22_level0_col2\" class=\"col_heading level0 col2\" >MSE</th>\n",
       "      <th id=\"T_52a22_level0_col3\" class=\"col_heading level0 col3\" >RMSE</th>\n",
       "      <th id=\"T_52a22_level0_col4\" class=\"col_heading level0 col4\" >R2</th>\n",
       "      <th id=\"T_52a22_level0_col5\" class=\"col_heading level0 col5\" >RMSLE</th>\n",
       "      <th id=\"T_52a22_level0_col6\" class=\"col_heading level0 col6\" >MAPE</th>\n",
       "    </tr>\n",
       "  </thead>\n",
       "  <tbody>\n",
       "    <tr>\n",
       "      <th id=\"T_52a22_level0_row0\" class=\"row_heading level0 row0\" >0</th>\n",
       "      <td id=\"T_52a22_row0_col0\" class=\"data row0 col0\" >Linear Regression</td>\n",
       "      <td id=\"T_52a22_row0_col1\" class=\"data row0 col1\" >0.0674</td>\n",
       "      <td id=\"T_52a22_row0_col2\" class=\"data row0 col2\" >0.0064</td>\n",
       "      <td id=\"T_52a22_row0_col3\" class=\"data row0 col3\" >0.0798</td>\n",
       "      <td id=\"T_52a22_row0_col4\" class=\"data row0 col4\" >0.9318</td>\n",
       "      <td id=\"T_52a22_row0_col5\" class=\"data row0 col5\" >0.0264</td>\n",
       "      <td id=\"T_52a22_row0_col6\" class=\"data row0 col6\" >0.0341</td>\n",
       "    </tr>\n",
       "  </tbody>\n",
       "</table>\n"
      ],
      "text/plain": [
       "<pandas.io.formats.style.Styler at 0x2a4d55b1810>"
      ]
     },
     "metadata": {},
     "output_type": "display_data"
    },
    {
     "data": {
      "text/html": [
       "<div>\n",
       "<style scoped>\n",
       "    .dataframe tbody tr th:only-of-type {\n",
       "        vertical-align: middle;\n",
       "    }\n",
       "\n",
       "    .dataframe tbody tr th {\n",
       "        vertical-align: top;\n",
       "    }\n",
       "\n",
       "    .dataframe thead th {\n",
       "        text-align: right;\n",
       "    }\n",
       "</style>\n",
       "<table border=\"1\" class=\"dataframe\">\n",
       "  <thead>\n",
       "    <tr style=\"text-align: right;\">\n",
       "      <th></th>\n",
       "      <th>comprimento_Total</th>\n",
       "      <th>comprimento_Padrao</th>\n",
       "      <th>comprimento_Cabeca</th>\n",
       "      <th>altura</th>\n",
       "      <th>espessura</th>\n",
       "      <th>prediction_label</th>\n",
       "    </tr>\n",
       "  </thead>\n",
       "  <tbody>\n",
       "    <tr>\n",
       "      <th>31</th>\n",
       "      <td>17.900000</td>\n",
       "      <td>15.300000</td>\n",
       "      <td>4.9</td>\n",
       "      <td>5.2</td>\n",
       "      <td>2.3</td>\n",
       "      <td>2.317604</td>\n",
       "    </tr>\n",
       "    <tr>\n",
       "      <th>32</th>\n",
       "      <td>18.700001</td>\n",
       "      <td>15.700000</td>\n",
       "      <td>5.0</td>\n",
       "      <td>5.8</td>\n",
       "      <td>2.6</td>\n",
       "      <td>2.469867</td>\n",
       "    </tr>\n",
       "    <tr>\n",
       "      <th>33</th>\n",
       "      <td>18.900000</td>\n",
       "      <td>16.299999</td>\n",
       "      <td>5.3</td>\n",
       "      <td>5.5</td>\n",
       "      <td>2.5</td>\n",
       "      <td>2.461318</td>\n",
       "    </tr>\n",
       "    <tr>\n",
       "      <th>34</th>\n",
       "      <td>17.500000</td>\n",
       "      <td>15.300000</td>\n",
       "      <td>5.0</td>\n",
       "      <td>5.1</td>\n",
       "      <td>2.4</td>\n",
       "      <td>2.291448</td>\n",
       "    </tr>\n",
       "    <tr>\n",
       "      <th>35</th>\n",
       "      <td>18.500000</td>\n",
       "      <td>15.900000</td>\n",
       "      <td>5.1</td>\n",
       "      <td>5.0</td>\n",
       "      <td>2.4</td>\n",
       "      <td>2.335211</td>\n",
       "    </tr>\n",
       "  </tbody>\n",
       "</table>\n",
       "</div>"
      ],
      "text/plain": [
       "    comprimento_Total  comprimento_Padrao  comprimento_Cabeca  altura  \\\n",
       "31          17.900000           15.300000                 4.9     5.2   \n",
       "32          18.700001           15.700000                 5.0     5.8   \n",
       "33          18.900000           16.299999                 5.3     5.5   \n",
       "34          17.500000           15.300000                 5.0     5.1   \n",
       "35          18.500000           15.900000                 5.1     5.0   \n",
       "\n",
       "    espessura  prediction_label  \n",
       "31        2.3          2.317604  \n",
       "32        2.6          2.469867  \n",
       "33        2.5          2.461318  \n",
       "34        2.4          2.291448  \n",
       "35        2.4          2.335211  "
      ]
     },
     "execution_count": 21,
     "metadata": {},
     "output_type": "execute_result"
    }
   ],
   "source": [
    "unseen__espessura_pred = exp1.predict_model(lr, data=data_unseen)\n",
    "unseen__espessura_pred .head(5)"
   ]
  },
  {
   "cell_type": "markdown",
   "metadata": {},
   "source": [
    "## Tune model\n",
    "#### This function tunes the hyperparameters of a given estimator. The output of this function is a score grid with CV scores by fold of the best selected model based on optimize parameter. Metrics evaluated during CV can be accessed using the get_metrics function. Custom metrics can be added or removed using add_metric and remove_metric function."
   ]
  },
  {
   "cell_type": "code",
   "execution_count": 16,
   "metadata": {},
   "outputs": [
    {
     "data": {
      "text/html": [],
      "text/plain": [
       "<IPython.core.display.HTML object>"
      ]
     },
     "metadata": {},
     "output_type": "display_data"
    },
    {
     "data": {
      "text/html": [
       "<style type=\"text/css\">\n",
       "#T_f40b4_row10_col0, #T_f40b4_row10_col1, #T_f40b4_row10_col2, #T_f40b4_row10_col3, #T_f40b4_row10_col4, #T_f40b4_row10_col5 {\n",
       "  background: yellow;\n",
       "}\n",
       "</style>\n",
       "<table id=\"T_f40b4\">\n",
       "  <thead>\n",
       "    <tr>\n",
       "      <th class=\"blank level0\" >&nbsp;</th>\n",
       "      <th id=\"T_f40b4_level0_col0\" class=\"col_heading level0 col0\" >MAE</th>\n",
       "      <th id=\"T_f40b4_level0_col1\" class=\"col_heading level0 col1\" >MSE</th>\n",
       "      <th id=\"T_f40b4_level0_col2\" class=\"col_heading level0 col2\" >RMSE</th>\n",
       "      <th id=\"T_f40b4_level0_col3\" class=\"col_heading level0 col3\" >R2</th>\n",
       "      <th id=\"T_f40b4_level0_col4\" class=\"col_heading level0 col4\" >RMSLE</th>\n",
       "      <th id=\"T_f40b4_level0_col5\" class=\"col_heading level0 col5\" >MAPE</th>\n",
       "    </tr>\n",
       "    <tr>\n",
       "      <th class=\"index_name level0\" >Fold</th>\n",
       "      <th class=\"blank col0\" >&nbsp;</th>\n",
       "      <th class=\"blank col1\" >&nbsp;</th>\n",
       "      <th class=\"blank col2\" >&nbsp;</th>\n",
       "      <th class=\"blank col3\" >&nbsp;</th>\n",
       "      <th class=\"blank col4\" >&nbsp;</th>\n",
       "      <th class=\"blank col5\" >&nbsp;</th>\n",
       "    </tr>\n",
       "  </thead>\n",
       "  <tbody>\n",
       "    <tr>\n",
       "      <th id=\"T_f40b4_level0_row0\" class=\"row_heading level0 row0\" >0</th>\n",
       "      <td id=\"T_f40b4_row0_col0\" class=\"data row0 col0\" >0.0767</td>\n",
       "      <td id=\"T_f40b4_row0_col1\" class=\"data row0 col1\" >0.0089</td>\n",
       "      <td id=\"T_f40b4_row0_col2\" class=\"data row0 col2\" >0.0942</td>\n",
       "      <td id=\"T_f40b4_row0_col3\" class=\"data row0 col3\" >0.9087</td>\n",
       "      <td id=\"T_f40b4_row0_col4\" class=\"data row0 col4\" >0.0312</td>\n",
       "      <td id=\"T_f40b4_row0_col5\" class=\"data row0 col5\" >0.0392</td>\n",
       "    </tr>\n",
       "    <tr>\n",
       "      <th id=\"T_f40b4_level0_row1\" class=\"row_heading level0 row1\" >1</th>\n",
       "      <td id=\"T_f40b4_row1_col0\" class=\"data row1 col0\" >0.0625</td>\n",
       "      <td id=\"T_f40b4_row1_col1\" class=\"data row1 col1\" >0.0059</td>\n",
       "      <td id=\"T_f40b4_row1_col2\" class=\"data row1 col2\" >0.0765</td>\n",
       "      <td id=\"T_f40b4_row1_col3\" class=\"data row1 col3\" >0.9437</td>\n",
       "      <td id=\"T_f40b4_row1_col4\" class=\"data row1 col4\" >0.0255</td>\n",
       "      <td id=\"T_f40b4_row1_col5\" class=\"data row1 col5\" >0.0315</td>\n",
       "    </tr>\n",
       "    <tr>\n",
       "      <th id=\"T_f40b4_level0_row2\" class=\"row_heading level0 row2\" >2</th>\n",
       "      <td id=\"T_f40b4_row2_col0\" class=\"data row2 col0\" >0.0769</td>\n",
       "      <td id=\"T_f40b4_row2_col1\" class=\"data row2 col1\" >0.0081</td>\n",
       "      <td id=\"T_f40b4_row2_col2\" class=\"data row2 col2\" >0.0898</td>\n",
       "      <td id=\"T_f40b4_row2_col3\" class=\"data row2 col3\" >0.9311</td>\n",
       "      <td id=\"T_f40b4_row2_col4\" class=\"data row2 col4\" >0.0308</td>\n",
       "      <td id=\"T_f40b4_row2_col5\" class=\"data row2 col5\" >0.0401</td>\n",
       "    </tr>\n",
       "    <tr>\n",
       "      <th id=\"T_f40b4_level0_row3\" class=\"row_heading level0 row3\" >3</th>\n",
       "      <td id=\"T_f40b4_row3_col0\" class=\"data row3 col0\" >0.0833</td>\n",
       "      <td id=\"T_f40b4_row3_col1\" class=\"data row3 col1\" >0.0174</td>\n",
       "      <td id=\"T_f40b4_row3_col2\" class=\"data row3 col2\" >0.1319</td>\n",
       "      <td id=\"T_f40b4_row3_col3\" class=\"data row3 col3\" >0.8222</td>\n",
       "      <td id=\"T_f40b4_row3_col4\" class=\"data row3 col4\" >0.0492</td>\n",
       "      <td id=\"T_f40b4_row3_col5\" class=\"data row3 col5\" >0.0473</td>\n",
       "    </tr>\n",
       "    <tr>\n",
       "      <th id=\"T_f40b4_level0_row4\" class=\"row_heading level0 row4\" >4</th>\n",
       "      <td id=\"T_f40b4_row4_col0\" class=\"data row4 col0\" >0.0722</td>\n",
       "      <td id=\"T_f40b4_row4_col1\" class=\"data row4 col1\" >0.0091</td>\n",
       "      <td id=\"T_f40b4_row4_col2\" class=\"data row4 col2\" >0.0955</td>\n",
       "      <td id=\"T_f40b4_row4_col3\" class=\"data row4 col3\" >0.8982</td>\n",
       "      <td id=\"T_f40b4_row4_col4\" class=\"data row4 col4\" >0.0292</td>\n",
       "      <td id=\"T_f40b4_row4_col5\" class=\"data row4 col5\" >0.0330</td>\n",
       "    </tr>\n",
       "    <tr>\n",
       "      <th id=\"T_f40b4_level0_row5\" class=\"row_heading level0 row5\" >5</th>\n",
       "      <td id=\"T_f40b4_row5_col0\" class=\"data row5 col0\" >0.0955</td>\n",
       "      <td id=\"T_f40b4_row5_col1\" class=\"data row5 col1\" >0.0145</td>\n",
       "      <td id=\"T_f40b4_row5_col2\" class=\"data row5 col2\" >0.1206</td>\n",
       "      <td id=\"T_f40b4_row5_col3\" class=\"data row5 col3\" >0.8547</td>\n",
       "      <td id=\"T_f40b4_row5_col4\" class=\"data row5 col4\" >0.0407</td>\n",
       "      <td id=\"T_f40b4_row5_col5\" class=\"data row5 col5\" >0.0496</td>\n",
       "    </tr>\n",
       "    <tr>\n",
       "      <th id=\"T_f40b4_level0_row6\" class=\"row_heading level0 row6\" >6</th>\n",
       "      <td id=\"T_f40b4_row6_col0\" class=\"data row6 col0\" >0.0844</td>\n",
       "      <td id=\"T_f40b4_row6_col1\" class=\"data row6 col1\" >0.0108</td>\n",
       "      <td id=\"T_f40b4_row6_col2\" class=\"data row6 col2\" >0.1038</td>\n",
       "      <td id=\"T_f40b4_row6_col3\" class=\"data row6 col3\" >0.9072</td>\n",
       "      <td id=\"T_f40b4_row6_col4\" class=\"data row6 col4\" >0.0338</td>\n",
       "      <td id=\"T_f40b4_row6_col5\" class=\"data row6 col5\" >0.0409</td>\n",
       "    </tr>\n",
       "    <tr>\n",
       "      <th id=\"T_f40b4_level0_row7\" class=\"row_heading level0 row7\" >7</th>\n",
       "      <td id=\"T_f40b4_row7_col0\" class=\"data row7 col0\" >0.0737</td>\n",
       "      <td id=\"T_f40b4_row7_col1\" class=\"data row7 col1\" >0.0086</td>\n",
       "      <td id=\"T_f40b4_row7_col2\" class=\"data row7 col2\" >0.0926</td>\n",
       "      <td id=\"T_f40b4_row7_col3\" class=\"data row7 col3\" >0.9324</td>\n",
       "      <td id=\"T_f40b4_row7_col4\" class=\"data row7 col4\" >0.0330</td>\n",
       "      <td id=\"T_f40b4_row7_col5\" class=\"data row7 col5\" >0.0401</td>\n",
       "    </tr>\n",
       "    <tr>\n",
       "      <th id=\"T_f40b4_level0_row8\" class=\"row_heading level0 row8\" >8</th>\n",
       "      <td id=\"T_f40b4_row8_col0\" class=\"data row8 col0\" >0.0833</td>\n",
       "      <td id=\"T_f40b4_row8_col1\" class=\"data row8 col1\" >0.0119</td>\n",
       "      <td id=\"T_f40b4_row8_col2\" class=\"data row8 col2\" >0.1091</td>\n",
       "      <td id=\"T_f40b4_row8_col3\" class=\"data row8 col3\" >0.8277</td>\n",
       "      <td id=\"T_f40b4_row8_col4\" class=\"data row8 col4\" >0.0368</td>\n",
       "      <td id=\"T_f40b4_row8_col5\" class=\"data row8 col5\" >0.0414</td>\n",
       "    </tr>\n",
       "    <tr>\n",
       "      <th id=\"T_f40b4_level0_row9\" class=\"row_heading level0 row9\" >9</th>\n",
       "      <td id=\"T_f40b4_row9_col0\" class=\"data row9 col0\" >0.0788</td>\n",
       "      <td id=\"T_f40b4_row9_col1\" class=\"data row9 col1\" >0.0088</td>\n",
       "      <td id=\"T_f40b4_row9_col2\" class=\"data row9 col2\" >0.0938</td>\n",
       "      <td id=\"T_f40b4_row9_col3\" class=\"data row9 col3\" >0.9001</td>\n",
       "      <td id=\"T_f40b4_row9_col4\" class=\"data row9 col4\" >0.0298</td>\n",
       "      <td id=\"T_f40b4_row9_col5\" class=\"data row9 col5\" >0.0367</td>\n",
       "    </tr>\n",
       "    <tr>\n",
       "      <th id=\"T_f40b4_level0_row10\" class=\"row_heading level0 row10\" >Mean</th>\n",
       "      <td id=\"T_f40b4_row10_col0\" class=\"data row10 col0\" >0.0787</td>\n",
       "      <td id=\"T_f40b4_row10_col1\" class=\"data row10 col1\" >0.0104</td>\n",
       "      <td id=\"T_f40b4_row10_col2\" class=\"data row10 col2\" >0.1008</td>\n",
       "      <td id=\"T_f40b4_row10_col3\" class=\"data row10 col3\" >0.8926</td>\n",
       "      <td id=\"T_f40b4_row10_col4\" class=\"data row10 col4\" >0.0340</td>\n",
       "      <td id=\"T_f40b4_row10_col5\" class=\"data row10 col5\" >0.0400</td>\n",
       "    </tr>\n",
       "    <tr>\n",
       "      <th id=\"T_f40b4_level0_row11\" class=\"row_heading level0 row11\" >Std</th>\n",
       "      <td id=\"T_f40b4_row11_col0\" class=\"data row11 col0\" >0.0083</td>\n",
       "      <td id=\"T_f40b4_row11_col1\" class=\"data row11 col1\" >0.0032</td>\n",
       "      <td id=\"T_f40b4_row11_col2\" class=\"data row11 col2\" >0.0153</td>\n",
       "      <td id=\"T_f40b4_row11_col3\" class=\"data row11 col3\" >0.0410</td>\n",
       "      <td id=\"T_f40b4_row11_col4\" class=\"data row11 col4\" >0.0065</td>\n",
       "      <td id=\"T_f40b4_row11_col5\" class=\"data row11 col5\" >0.0053</td>\n",
       "    </tr>\n",
       "  </tbody>\n",
       "</table>\n"
      ],
      "text/plain": [
       "<pandas.io.formats.style.Styler at 0x1ebb8a24be0>"
      ]
     },
     "metadata": {},
     "output_type": "display_data"
    },
    {
     "data": {
      "text/html": [],
      "text/plain": [
       "<IPython.core.display.HTML object>"
      ]
     },
     "metadata": {},
     "output_type": "display_data"
    },
    {
     "name": "stdout",
     "output_type": "stream",
     "text": [
      "Fitting 10 folds for each of 10 candidates, totalling 100 fits\n"
     ]
    }
   ],
   "source": [
    "tune_et= exp1.tune_model(et)"
   ]
  },
  {
   "cell_type": "code",
   "execution_count": 17,
   "metadata": {},
   "outputs": [],
   "source": [
    "#plot_model(rf, plot = 'tree')"
   ]
  },
  {
   "cell_type": "code",
   "execution_count": 18,
   "metadata": {},
   "outputs": [],
   "source": [
    "#pred_unseen = predict_model(rf, data = unseen_dataframe)\n"
   ]
  },
  {
   "cell_type": "code",
   "execution_count": 19,
   "metadata": {},
   "outputs": [],
   "source": [
    "# dashboard of pycaret\n",
    "#evaluate_model(rf)"
   ]
  },
  {
   "cell_type": "markdown",
   "metadata": {},
   "source": [
    "### "
   ]
  },
  {
   "cell_type": "code",
   "execution_count": 20,
   "metadata": {},
   "outputs": [
    {
     "data": {
      "text/html": [
       "<div>\n",
       "<style scoped>\n",
       "    .dataframe tbody tr th:only-of-type {\n",
       "        vertical-align: middle;\n",
       "    }\n",
       "\n",
       "    .dataframe tbody tr th {\n",
       "        vertical-align: top;\n",
       "    }\n",
       "\n",
       "    .dataframe thead th {\n",
       "        text-align: right;\n",
       "    }\n",
       "</style>\n",
       "<table border=\"1\" class=\"dataframe\">\n",
       "  <thead>\n",
       "    <tr style=\"text-align: right;\">\n",
       "      <th></th>\n",
       "      <th>comprimento_Total</th>\n",
       "      <th>comprimento_Padrao</th>\n",
       "      <th>comprimento_Cabeca</th>\n",
       "      <th>altura</th>\n",
       "      <th>espessura</th>\n",
       "    </tr>\n",
       "  </thead>\n",
       "  <tbody>\n",
       "    <tr>\n",
       "      <th>0</th>\n",
       "      <td>14.3</td>\n",
       "      <td>12.2</td>\n",
       "      <td>4.0</td>\n",
       "      <td>4.1</td>\n",
       "      <td>1.9</td>\n",
       "    </tr>\n",
       "    <tr>\n",
       "      <th>1</th>\n",
       "      <td>12.4</td>\n",
       "      <td>10.9</td>\n",
       "      <td>3.8</td>\n",
       "      <td>3.2</td>\n",
       "      <td>1.2</td>\n",
       "    </tr>\n",
       "    <tr>\n",
       "      <th>2</th>\n",
       "      <td>13.7</td>\n",
       "      <td>11.2</td>\n",
       "      <td>3.4</td>\n",
       "      <td>4.0</td>\n",
       "      <td>1.7</td>\n",
       "    </tr>\n",
       "    <tr>\n",
       "      <th>3</th>\n",
       "      <td>12.9</td>\n",
       "      <td>11.1</td>\n",
       "      <td>3.7</td>\n",
       "      <td>3.7</td>\n",
       "      <td>1.6</td>\n",
       "    </tr>\n",
       "    <tr>\n",
       "      <th>4</th>\n",
       "      <td>13.2</td>\n",
       "      <td>11.3</td>\n",
       "      <td>3.8</td>\n",
       "      <td>4.5</td>\n",
       "      <td>1.6</td>\n",
       "    </tr>\n",
       "  </tbody>\n",
       "</table>\n",
       "</div>"
      ],
      "text/plain": [
       "   comprimento_Total  comprimento_Padrao  comprimento_Cabeca  altura  \\\n",
       "0               14.3                12.2                 4.0     4.1   \n",
       "1               12.4                10.9                 3.8     3.2   \n",
       "2               13.7                11.2                 3.4     4.0   \n",
       "3               12.9                11.1                 3.7     3.7   \n",
       "4               13.2                11.3                 3.8     4.5   \n",
       "\n",
       "   espessura  \n",
       "0        1.9  \n",
       "1        1.2  \n",
       "2        1.7  \n",
       "3        1.6  \n",
       "4        1.6  "
      ]
     },
     "execution_count": 20,
     "metadata": {},
     "output_type": "execute_result"
    }
   ],
   "source": [
    "df2 = df.drop(columns=[\n",
    "'data', \n",
    "'Index',\n",
    "'peso'\n",
    "])\n",
    "df2.head()"
   ]
  },
  {
   "cell_type": "code",
   "execution_count": 21,
   "metadata": {},
   "outputs": [
    {
     "data": {
      "text/html": [
       "<style type=\"text/css\">\n",
       "#T_6fd58_row8_col1 {\n",
       "  background-color: lightgreen;\n",
       "}\n",
       "</style>\n",
       "<table id=\"T_6fd58\">\n",
       "  <thead>\n",
       "    <tr>\n",
       "      <th class=\"blank level0\" >&nbsp;</th>\n",
       "      <th id=\"T_6fd58_level0_col0\" class=\"col_heading level0 col0\" >Description</th>\n",
       "      <th id=\"T_6fd58_level0_col1\" class=\"col_heading level0 col1\" >Value</th>\n",
       "    </tr>\n",
       "  </thead>\n",
       "  <tbody>\n",
       "    <tr>\n",
       "      <th id=\"T_6fd58_level0_row0\" class=\"row_heading level0 row0\" >0</th>\n",
       "      <td id=\"T_6fd58_row0_col0\" class=\"data row0 col0\" >Session id</td>\n",
       "      <td id=\"T_6fd58_row0_col1\" class=\"data row0 col1\" >8535</td>\n",
       "    </tr>\n",
       "    <tr>\n",
       "      <th id=\"T_6fd58_level0_row1\" class=\"row_heading level0 row1\" >1</th>\n",
       "      <td id=\"T_6fd58_row1_col0\" class=\"data row1 col0\" >Target</td>\n",
       "      <td id=\"T_6fd58_row1_col1\" class=\"data row1 col1\" >espessura</td>\n",
       "    </tr>\n",
       "    <tr>\n",
       "      <th id=\"T_6fd58_level0_row2\" class=\"row_heading level0 row2\" >2</th>\n",
       "      <td id=\"T_6fd58_row2_col0\" class=\"data row2 col0\" >Target type</td>\n",
       "      <td id=\"T_6fd58_row2_col1\" class=\"data row2 col1\" >Regression</td>\n",
       "    </tr>\n",
       "    <tr>\n",
       "      <th id=\"T_6fd58_level0_row3\" class=\"row_heading level0 row3\" >3</th>\n",
       "      <td id=\"T_6fd58_row3_col0\" class=\"data row3 col0\" >Original data shape</td>\n",
       "      <td id=\"T_6fd58_row3_col1\" class=\"data row3 col1\" >(360, 5)</td>\n",
       "    </tr>\n",
       "    <tr>\n",
       "      <th id=\"T_6fd58_level0_row4\" class=\"row_heading level0 row4\" >4</th>\n",
       "      <td id=\"T_6fd58_row4_col0\" class=\"data row4 col0\" >Transformed data shape</td>\n",
       "      <td id=\"T_6fd58_row4_col1\" class=\"data row4 col1\" >(360, 5)</td>\n",
       "    </tr>\n",
       "    <tr>\n",
       "      <th id=\"T_6fd58_level0_row5\" class=\"row_heading level0 row5\" >5</th>\n",
       "      <td id=\"T_6fd58_row5_col0\" class=\"data row5 col0\" >Transformed train set shape</td>\n",
       "      <td id=\"T_6fd58_row5_col1\" class=\"data row5 col1\" >(251, 5)</td>\n",
       "    </tr>\n",
       "    <tr>\n",
       "      <th id=\"T_6fd58_level0_row6\" class=\"row_heading level0 row6\" >6</th>\n",
       "      <td id=\"T_6fd58_row6_col0\" class=\"data row6 col0\" >Transformed test set shape</td>\n",
       "      <td id=\"T_6fd58_row6_col1\" class=\"data row6 col1\" >(109, 5)</td>\n",
       "    </tr>\n",
       "    <tr>\n",
       "      <th id=\"T_6fd58_level0_row7\" class=\"row_heading level0 row7\" >7</th>\n",
       "      <td id=\"T_6fd58_row7_col0\" class=\"data row7 col0\" >Numeric features</td>\n",
       "      <td id=\"T_6fd58_row7_col1\" class=\"data row7 col1\" >4</td>\n",
       "    </tr>\n",
       "    <tr>\n",
       "      <th id=\"T_6fd58_level0_row8\" class=\"row_heading level0 row8\" >8</th>\n",
       "      <td id=\"T_6fd58_row8_col0\" class=\"data row8 col0\" >Preprocess</td>\n",
       "      <td id=\"T_6fd58_row8_col1\" class=\"data row8 col1\" >True</td>\n",
       "    </tr>\n",
       "    <tr>\n",
       "      <th id=\"T_6fd58_level0_row9\" class=\"row_heading level0 row9\" >9</th>\n",
       "      <td id=\"T_6fd58_row9_col0\" class=\"data row9 col0\" >Imputation type</td>\n",
       "      <td id=\"T_6fd58_row9_col1\" class=\"data row9 col1\" >simple</td>\n",
       "    </tr>\n",
       "    <tr>\n",
       "      <th id=\"T_6fd58_level0_row10\" class=\"row_heading level0 row10\" >10</th>\n",
       "      <td id=\"T_6fd58_row10_col0\" class=\"data row10 col0\" >Numeric imputation</td>\n",
       "      <td id=\"T_6fd58_row10_col1\" class=\"data row10 col1\" >mean</td>\n",
       "    </tr>\n",
       "    <tr>\n",
       "      <th id=\"T_6fd58_level0_row11\" class=\"row_heading level0 row11\" >11</th>\n",
       "      <td id=\"T_6fd58_row11_col0\" class=\"data row11 col0\" >Categorical imputation</td>\n",
       "      <td id=\"T_6fd58_row11_col1\" class=\"data row11 col1\" >mode</td>\n",
       "    </tr>\n",
       "    <tr>\n",
       "      <th id=\"T_6fd58_level0_row12\" class=\"row_heading level0 row12\" >12</th>\n",
       "      <td id=\"T_6fd58_row12_col0\" class=\"data row12 col0\" >Fold Generator</td>\n",
       "      <td id=\"T_6fd58_row12_col1\" class=\"data row12 col1\" >KFold</td>\n",
       "    </tr>\n",
       "    <tr>\n",
       "      <th id=\"T_6fd58_level0_row13\" class=\"row_heading level0 row13\" >13</th>\n",
       "      <td id=\"T_6fd58_row13_col0\" class=\"data row13 col0\" >Fold Number</td>\n",
       "      <td id=\"T_6fd58_row13_col1\" class=\"data row13 col1\" >10</td>\n",
       "    </tr>\n",
       "    <tr>\n",
       "      <th id=\"T_6fd58_level0_row14\" class=\"row_heading level0 row14\" >14</th>\n",
       "      <td id=\"T_6fd58_row14_col0\" class=\"data row14 col0\" >CPU Jobs</td>\n",
       "      <td id=\"T_6fd58_row14_col1\" class=\"data row14 col1\" >-1</td>\n",
       "    </tr>\n",
       "    <tr>\n",
       "      <th id=\"T_6fd58_level0_row15\" class=\"row_heading level0 row15\" >15</th>\n",
       "      <td id=\"T_6fd58_row15_col0\" class=\"data row15 col0\" >Use GPU</td>\n",
       "      <td id=\"T_6fd58_row15_col1\" class=\"data row15 col1\" >False</td>\n",
       "    </tr>\n",
       "    <tr>\n",
       "      <th id=\"T_6fd58_level0_row16\" class=\"row_heading level0 row16\" >16</th>\n",
       "      <td id=\"T_6fd58_row16_col0\" class=\"data row16 col0\" >Log Experiment</td>\n",
       "      <td id=\"T_6fd58_row16_col1\" class=\"data row16 col1\" >False</td>\n",
       "    </tr>\n",
       "    <tr>\n",
       "      <th id=\"T_6fd58_level0_row17\" class=\"row_heading level0 row17\" >17</th>\n",
       "      <td id=\"T_6fd58_row17_col0\" class=\"data row17 col0\" >Experiment Name</td>\n",
       "      <td id=\"T_6fd58_row17_col1\" class=\"data row17 col1\" >reg-default-name</td>\n",
       "    </tr>\n",
       "    <tr>\n",
       "      <th id=\"T_6fd58_level0_row18\" class=\"row_heading level0 row18\" >18</th>\n",
       "      <td id=\"T_6fd58_row18_col0\" class=\"data row18 col0\" >USI</td>\n",
       "      <td id=\"T_6fd58_row18_col1\" class=\"data row18 col1\" >9678</td>\n",
       "    </tr>\n",
       "  </tbody>\n",
       "</table>\n"
      ],
      "text/plain": [
       "<pandas.io.formats.style.Styler at 0x1ebb889f820>"
      ]
     },
     "metadata": {},
     "output_type": "display_data"
    },
    {
     "data": {
      "text/html": [],
      "text/plain": [
       "<IPython.core.display.HTML object>"
      ]
     },
     "metadata": {},
     "output_type": "display_data"
    },
    {
     "data": {
      "text/html": [
       "<style type=\"text/css\">\n",
       "#T_3b712 th {\n",
       "  text-align: left;\n",
       "}\n",
       "#T_3b712_row0_col0, #T_3b712_row0_col1, #T_3b712_row0_col5, #T_3b712_row0_col6, #T_3b712_row1_col0, #T_3b712_row1_col1, #T_3b712_row1_col5, #T_3b712_row1_col6, #T_3b712_row2_col0, #T_3b712_row2_col1, #T_3b712_row2_col4, #T_3b712_row2_col5, #T_3b712_row2_col6, #T_3b712_row3_col0, #T_3b712_row3_col1, #T_3b712_row3_col3, #T_3b712_row3_col4, #T_3b712_row3_col5, #T_3b712_row3_col6, #T_3b712_row4_col0, #T_3b712_row4_col3, #T_3b712_row4_col4, #T_3b712_row5_col0, #T_3b712_row5_col1, #T_3b712_row5_col2, #T_3b712_row5_col3, #T_3b712_row5_col4, #T_3b712_row5_col5, #T_3b712_row5_col6, #T_3b712_row6_col0, #T_3b712_row6_col1, #T_3b712_row6_col2, #T_3b712_row6_col3, #T_3b712_row6_col4, #T_3b712_row6_col5, #T_3b712_row6_col6, #T_3b712_row7_col0, #T_3b712_row7_col1, #T_3b712_row7_col2, #T_3b712_row7_col3, #T_3b712_row7_col4, #T_3b712_row7_col5, #T_3b712_row7_col6, #T_3b712_row8_col0, #T_3b712_row8_col1, #T_3b712_row8_col2, #T_3b712_row8_col3, #T_3b712_row8_col4, #T_3b712_row8_col5, #T_3b712_row8_col6, #T_3b712_row9_col0, #T_3b712_row9_col1, #T_3b712_row9_col2, #T_3b712_row9_col3, #T_3b712_row9_col4, #T_3b712_row9_col5, #T_3b712_row9_col6, #T_3b712_row10_col0, #T_3b712_row10_col1, #T_3b712_row10_col2, #T_3b712_row10_col3, #T_3b712_row10_col4, #T_3b712_row10_col5, #T_3b712_row10_col6, #T_3b712_row11_col0, #T_3b712_row11_col1, #T_3b712_row11_col2, #T_3b712_row11_col3, #T_3b712_row11_col4, #T_3b712_row11_col5, #T_3b712_row11_col6, #T_3b712_row12_col0, #T_3b712_row12_col1, #T_3b712_row12_col2, #T_3b712_row12_col3, #T_3b712_row12_col4, #T_3b712_row12_col5, #T_3b712_row12_col6, #T_3b712_row13_col0, #T_3b712_row13_col1, #T_3b712_row13_col2, #T_3b712_row13_col3, #T_3b712_row13_col4, #T_3b712_row13_col5, #T_3b712_row13_col6, #T_3b712_row14_col0, #T_3b712_row14_col1, #T_3b712_row14_col2, #T_3b712_row14_col3, #T_3b712_row14_col4, #T_3b712_row14_col5, #T_3b712_row14_col6, #T_3b712_row15_col0, #T_3b712_row15_col1, #T_3b712_row15_col2, #T_3b712_row15_col3, #T_3b712_row15_col4, #T_3b712_row15_col5, #T_3b712_row15_col6, #T_3b712_row16_col0, #T_3b712_row16_col1, #T_3b712_row16_col2, #T_3b712_row16_col3, #T_3b712_row16_col4, #T_3b712_row16_col5, #T_3b712_row16_col6, #T_3b712_row17_col0, #T_3b712_row17_col1, #T_3b712_row17_col2, #T_3b712_row17_col3, #T_3b712_row17_col4, #T_3b712_row17_col5, #T_3b712_row17_col6, #T_3b712_row18_col0, #T_3b712_row18_col1, #T_3b712_row18_col2, #T_3b712_row18_col3, #T_3b712_row18_col4, #T_3b712_row18_col5, #T_3b712_row18_col6 {\n",
       "  text-align: left;\n",
       "}\n",
       "#T_3b712_row0_col2, #T_3b712_row0_col3, #T_3b712_row0_col4, #T_3b712_row1_col2, #T_3b712_row1_col3, #T_3b712_row1_col4, #T_3b712_row2_col2, #T_3b712_row2_col3, #T_3b712_row3_col2, #T_3b712_row4_col1, #T_3b712_row4_col2, #T_3b712_row4_col5, #T_3b712_row4_col6 {\n",
       "  text-align: left;\n",
       "  background-color: yellow;\n",
       "}\n",
       "#T_3b712_row0_col7, #T_3b712_row1_col7, #T_3b712_row2_col7, #T_3b712_row3_col7, #T_3b712_row4_col7, #T_3b712_row6_col7, #T_3b712_row7_col7, #T_3b712_row8_col7, #T_3b712_row9_col7, #T_3b712_row10_col7, #T_3b712_row11_col7, #T_3b712_row12_col7, #T_3b712_row13_col7, #T_3b712_row15_col7, #T_3b712_row16_col7, #T_3b712_row18_col7 {\n",
       "  text-align: left;\n",
       "  background-color: lightgrey;\n",
       "}\n",
       "#T_3b712_row5_col7, #T_3b712_row14_col7, #T_3b712_row17_col7 {\n",
       "  text-align: left;\n",
       "  background-color: yellow;\n",
       "  background-color: lightgrey;\n",
       "}\n",
       "</style>\n",
       "<table id=\"T_3b712\">\n",
       "  <thead>\n",
       "    <tr>\n",
       "      <th class=\"blank level0\" >&nbsp;</th>\n",
       "      <th id=\"T_3b712_level0_col0\" class=\"col_heading level0 col0\" >Model</th>\n",
       "      <th id=\"T_3b712_level0_col1\" class=\"col_heading level0 col1\" >MAE</th>\n",
       "      <th id=\"T_3b712_level0_col2\" class=\"col_heading level0 col2\" >MSE</th>\n",
       "      <th id=\"T_3b712_level0_col3\" class=\"col_heading level0 col3\" >RMSE</th>\n",
       "      <th id=\"T_3b712_level0_col4\" class=\"col_heading level0 col4\" >R2</th>\n",
       "      <th id=\"T_3b712_level0_col5\" class=\"col_heading level0 col5\" >RMSLE</th>\n",
       "      <th id=\"T_3b712_level0_col6\" class=\"col_heading level0 col6\" >MAPE</th>\n",
       "      <th id=\"T_3b712_level0_col7\" class=\"col_heading level0 col7\" >TT (Sec)</th>\n",
       "    </tr>\n",
       "  </thead>\n",
       "  <tbody>\n",
       "    <tr>\n",
       "      <th id=\"T_3b712_level0_row0\" class=\"row_heading level0 row0\" >lr</th>\n",
       "      <td id=\"T_3b712_row0_col0\" class=\"data row0 col0\" >Linear Regression</td>\n",
       "      <td id=\"T_3b712_row0_col1\" class=\"data row0 col1\" >0.0823</td>\n",
       "      <td id=\"T_3b712_row0_col2\" class=\"data row0 col2\" >0.0132</td>\n",
       "      <td id=\"T_3b712_row0_col3\" class=\"data row0 col3\" >0.1102</td>\n",
       "      <td id=\"T_3b712_row0_col4\" class=\"data row0 col4\" >0.8574</td>\n",
       "      <td id=\"T_3b712_row0_col5\" class=\"data row0 col5\" >0.0357</td>\n",
       "      <td id=\"T_3b712_row0_col6\" class=\"data row0 col6\" >0.0402</td>\n",
       "      <td id=\"T_3b712_row0_col7\" class=\"data row0 col7\" >0.0110</td>\n",
       "    </tr>\n",
       "    <tr>\n",
       "      <th id=\"T_3b712_level0_row1\" class=\"row_heading level0 row1\" >lar</th>\n",
       "      <td id=\"T_3b712_row1_col0\" class=\"data row1 col0\" >Least Angle Regression</td>\n",
       "      <td id=\"T_3b712_row1_col1\" class=\"data row1 col1\" >0.0823</td>\n",
       "      <td id=\"T_3b712_row1_col2\" class=\"data row1 col2\" >0.0132</td>\n",
       "      <td id=\"T_3b712_row1_col3\" class=\"data row1 col3\" >0.1102</td>\n",
       "      <td id=\"T_3b712_row1_col4\" class=\"data row1 col4\" >0.8574</td>\n",
       "      <td id=\"T_3b712_row1_col5\" class=\"data row1 col5\" >0.0357</td>\n",
       "      <td id=\"T_3b712_row1_col6\" class=\"data row1 col6\" >0.0402</td>\n",
       "      <td id=\"T_3b712_row1_col7\" class=\"data row1 col7\" >0.0140</td>\n",
       "    </tr>\n",
       "    <tr>\n",
       "      <th id=\"T_3b712_level0_row2\" class=\"row_heading level0 row2\" >ridge</th>\n",
       "      <td id=\"T_3b712_row2_col0\" class=\"data row2 col0\" >Ridge Regression</td>\n",
       "      <td id=\"T_3b712_row2_col1\" class=\"data row2 col1\" >0.0823</td>\n",
       "      <td id=\"T_3b712_row2_col2\" class=\"data row2 col2\" >0.0132</td>\n",
       "      <td id=\"T_3b712_row2_col3\" class=\"data row2 col3\" >0.1102</td>\n",
       "      <td id=\"T_3b712_row2_col4\" class=\"data row2 col4\" >0.8573</td>\n",
       "      <td id=\"T_3b712_row2_col5\" class=\"data row2 col5\" >0.0357</td>\n",
       "      <td id=\"T_3b712_row2_col6\" class=\"data row2 col6\" >0.0402</td>\n",
       "      <td id=\"T_3b712_row2_col7\" class=\"data row2 col7\" >0.0090</td>\n",
       "    </tr>\n",
       "    <tr>\n",
       "      <th id=\"T_3b712_level0_row3\" class=\"row_heading level0 row3\" >br</th>\n",
       "      <td id=\"T_3b712_row3_col0\" class=\"data row3 col0\" >Bayesian Ridge</td>\n",
       "      <td id=\"T_3b712_row3_col1\" class=\"data row3 col1\" >0.0825</td>\n",
       "      <td id=\"T_3b712_row3_col2\" class=\"data row3 col2\" >0.0132</td>\n",
       "      <td id=\"T_3b712_row3_col3\" class=\"data row3 col3\" >0.1103</td>\n",
       "      <td id=\"T_3b712_row3_col4\" class=\"data row3 col4\" >0.8570</td>\n",
       "      <td id=\"T_3b712_row3_col5\" class=\"data row3 col5\" >0.0357</td>\n",
       "      <td id=\"T_3b712_row3_col6\" class=\"data row3 col6\" >0.0403</td>\n",
       "      <td id=\"T_3b712_row3_col7\" class=\"data row3 col7\" >0.0080</td>\n",
       "    </tr>\n",
       "    <tr>\n",
       "      <th id=\"T_3b712_level0_row4\" class=\"row_heading level0 row4\" >huber</th>\n",
       "      <td id=\"T_3b712_row4_col0\" class=\"data row4 col0\" >Huber Regressor</td>\n",
       "      <td id=\"T_3b712_row4_col1\" class=\"data row4 col1\" >0.0819</td>\n",
       "      <td id=\"T_3b712_row4_col2\" class=\"data row4 col2\" >0.0132</td>\n",
       "      <td id=\"T_3b712_row4_col3\" class=\"data row4 col3\" >0.1104</td>\n",
       "      <td id=\"T_3b712_row4_col4\" class=\"data row4 col4\" >0.8556</td>\n",
       "      <td id=\"T_3b712_row4_col5\" class=\"data row4 col5\" >0.0356</td>\n",
       "      <td id=\"T_3b712_row4_col6\" class=\"data row4 col6\" >0.0398</td>\n",
       "      <td id=\"T_3b712_row4_col7\" class=\"data row4 col7\" >0.0090</td>\n",
       "    </tr>\n",
       "    <tr>\n",
       "      <th id=\"T_3b712_level0_row5\" class=\"row_heading level0 row5\" >omp</th>\n",
       "      <td id=\"T_3b712_row5_col0\" class=\"data row5 col0\" >Orthogonal Matching Pursuit</td>\n",
       "      <td id=\"T_3b712_row5_col1\" class=\"data row5 col1\" >0.0880</td>\n",
       "      <td id=\"T_3b712_row5_col2\" class=\"data row5 col2\" >0.0146</td>\n",
       "      <td id=\"T_3b712_row5_col3\" class=\"data row5 col3\" >0.1166</td>\n",
       "      <td id=\"T_3b712_row5_col4\" class=\"data row5 col4\" >0.8411</td>\n",
       "      <td id=\"T_3b712_row5_col5\" class=\"data row5 col5\" >0.0379</td>\n",
       "      <td id=\"T_3b712_row5_col6\" class=\"data row5 col6\" >0.0432</td>\n",
       "      <td id=\"T_3b712_row5_col7\" class=\"data row5 col7\" >0.0070</td>\n",
       "    </tr>\n",
       "    <tr>\n",
       "      <th id=\"T_3b712_level0_row6\" class=\"row_heading level0 row6\" >lightgbm</th>\n",
       "      <td id=\"T_3b712_row6_col0\" class=\"data row6 col0\" >Light Gradient Boosting Machine</td>\n",
       "      <td id=\"T_3b712_row6_col1\" class=\"data row6 col1\" >0.0877</td>\n",
       "      <td id=\"T_3b712_row6_col2\" class=\"data row6 col2\" >0.0159</td>\n",
       "      <td id=\"T_3b712_row6_col3\" class=\"data row6 col3\" >0.1207</td>\n",
       "      <td id=\"T_3b712_row6_col4\" class=\"data row6 col4\" >0.8253</td>\n",
       "      <td id=\"T_3b712_row6_col5\" class=\"data row6 col5\" >0.0394</td>\n",
       "      <td id=\"T_3b712_row6_col6\" class=\"data row6 col6\" >0.0432</td>\n",
       "      <td id=\"T_3b712_row6_col7\" class=\"data row6 col7\" >0.0370</td>\n",
       "    </tr>\n",
       "    <tr>\n",
       "      <th id=\"T_3b712_level0_row7\" class=\"row_heading level0 row7\" >par</th>\n",
       "      <td id=\"T_3b712_row7_col0\" class=\"data row7 col0\" >Passive Aggressive Regressor</td>\n",
       "      <td id=\"T_3b712_row7_col1\" class=\"data row7 col1\" >0.0895</td>\n",
       "      <td id=\"T_3b712_row7_col2\" class=\"data row7 col2\" >0.0173</td>\n",
       "      <td id=\"T_3b712_row7_col3\" class=\"data row7 col3\" >0.1255</td>\n",
       "      <td id=\"T_3b712_row7_col4\" class=\"data row7 col4\" >0.8097</td>\n",
       "      <td id=\"T_3b712_row7_col5\" class=\"data row7 col5\" >0.0402</td>\n",
       "      <td id=\"T_3b712_row7_col6\" class=\"data row7 col6\" >0.0433</td>\n",
       "      <td id=\"T_3b712_row7_col7\" class=\"data row7 col7\" >0.0080</td>\n",
       "    </tr>\n",
       "    <tr>\n",
       "      <th id=\"T_3b712_level0_row8\" class=\"row_heading level0 row8\" >rf</th>\n",
       "      <td id=\"T_3b712_row8_col0\" class=\"data row8 col0\" >Random Forest Regressor</td>\n",
       "      <td id=\"T_3b712_row8_col1\" class=\"data row8 col1\" >0.0903</td>\n",
       "      <td id=\"T_3b712_row8_col2\" class=\"data row8 col2\" >0.0177</td>\n",
       "      <td id=\"T_3b712_row8_col3\" class=\"data row8 col3\" >0.1285</td>\n",
       "      <td id=\"T_3b712_row8_col4\" class=\"data row8 col4\" >0.8068</td>\n",
       "      <td id=\"T_3b712_row8_col5\" class=\"data row8 col5\" >0.0420</td>\n",
       "      <td id=\"T_3b712_row8_col6\" class=\"data row8 col6\" >0.0446</td>\n",
       "      <td id=\"T_3b712_row8_col7\" class=\"data row8 col7\" >0.0560</td>\n",
       "    </tr>\n",
       "    <tr>\n",
       "      <th id=\"T_3b712_level0_row9\" class=\"row_heading level0 row9\" >et</th>\n",
       "      <td id=\"T_3b712_row9_col0\" class=\"data row9 col0\" >Extra Trees Regressor</td>\n",
       "      <td id=\"T_3b712_row9_col1\" class=\"data row9 col1\" >0.0929</td>\n",
       "      <td id=\"T_3b712_row9_col2\" class=\"data row9 col2\" >0.0188</td>\n",
       "      <td id=\"T_3b712_row9_col3\" class=\"data row9 col3\" >0.1323</td>\n",
       "      <td id=\"T_3b712_row9_col4\" class=\"data row9 col4\" >0.7953</td>\n",
       "      <td id=\"T_3b712_row9_col5\" class=\"data row9 col5\" >0.0431</td>\n",
       "      <td id=\"T_3b712_row9_col6\" class=\"data row9 col6\" >0.0460</td>\n",
       "      <td id=\"T_3b712_row9_col7\" class=\"data row9 col7\" >0.0340</td>\n",
       "    </tr>\n",
       "    <tr>\n",
       "      <th id=\"T_3b712_level0_row10\" class=\"row_heading level0 row10\" >gbr</th>\n",
       "      <td id=\"T_3b712_row10_col0\" class=\"data row10 col0\" >Gradient Boosting Regressor</td>\n",
       "      <td id=\"T_3b712_row10_col1\" class=\"data row10 col1\" >0.0964</td>\n",
       "      <td id=\"T_3b712_row10_col2\" class=\"data row10 col2\" >0.0203</td>\n",
       "      <td id=\"T_3b712_row10_col3\" class=\"data row10 col3\" >0.1383</td>\n",
       "      <td id=\"T_3b712_row10_col4\" class=\"data row10 col4\" >0.7800</td>\n",
       "      <td id=\"T_3b712_row10_col5\" class=\"data row10 col5\" >0.0450</td>\n",
       "      <td id=\"T_3b712_row10_col6\" class=\"data row10 col6\" >0.0474</td>\n",
       "      <td id=\"T_3b712_row10_col7\" class=\"data row10 col7\" >0.0200</td>\n",
       "    </tr>\n",
       "    <tr>\n",
       "      <th id=\"T_3b712_level0_row11\" class=\"row_heading level0 row11\" >knn</th>\n",
       "      <td id=\"T_3b712_row11_col0\" class=\"data row11 col0\" >K Neighbors Regressor</td>\n",
       "      <td id=\"T_3b712_row11_col1\" class=\"data row11 col1\" >0.0975</td>\n",
       "      <td id=\"T_3b712_row11_col2\" class=\"data row11 col2\" >0.0209</td>\n",
       "      <td id=\"T_3b712_row11_col3\" class=\"data row11 col3\" >0.1383</td>\n",
       "      <td id=\"T_3b712_row11_col4\" class=\"data row11 col4\" >0.7732</td>\n",
       "      <td id=\"T_3b712_row11_col5\" class=\"data row11 col5\" >0.0448</td>\n",
       "      <td id=\"T_3b712_row11_col6\" class=\"data row11 col6\" >0.0473</td>\n",
       "      <td id=\"T_3b712_row11_col7\" class=\"data row11 col7\" >0.0100</td>\n",
       "    </tr>\n",
       "    <tr>\n",
       "      <th id=\"T_3b712_level0_row12\" class=\"row_heading level0 row12\" >ada</th>\n",
       "      <td id=\"T_3b712_row12_col0\" class=\"data row12 col0\" >AdaBoost Regressor</td>\n",
       "      <td id=\"T_3b712_row12_col1\" class=\"data row12 col1\" >0.0960</td>\n",
       "      <td id=\"T_3b712_row12_col2\" class=\"data row12 col2\" >0.0216</td>\n",
       "      <td id=\"T_3b712_row12_col3\" class=\"data row12 col3\" >0.1413</td>\n",
       "      <td id=\"T_3b712_row12_col4\" class=\"data row12 col4\" >0.7623</td>\n",
       "      <td id=\"T_3b712_row12_col5\" class=\"data row12 col5\" >0.0460</td>\n",
       "      <td id=\"T_3b712_row12_col6\" class=\"data row12 col6\" >0.0476</td>\n",
       "      <td id=\"T_3b712_row12_col7\" class=\"data row12 col7\" >0.0290</td>\n",
       "    </tr>\n",
       "    <tr>\n",
       "      <th id=\"T_3b712_level0_row13\" class=\"row_heading level0 row13\" >xgboost</th>\n",
       "      <td id=\"T_3b712_row13_col0\" class=\"data row13 col0\" >Extreme Gradient Boosting</td>\n",
       "      <td id=\"T_3b712_row13_col1\" class=\"data row13 col1\" >0.1021</td>\n",
       "      <td id=\"T_3b712_row13_col2\" class=\"data row13 col2\" >0.0230</td>\n",
       "      <td id=\"T_3b712_row13_col3\" class=\"data row13 col3\" >0.1454</td>\n",
       "      <td id=\"T_3b712_row13_col4\" class=\"data row13 col4\" >0.7474</td>\n",
       "      <td id=\"T_3b712_row13_col5\" class=\"data row13 col5\" >0.0475</td>\n",
       "      <td id=\"T_3b712_row13_col6\" class=\"data row13 col6\" >0.0507</td>\n",
       "      <td id=\"T_3b712_row13_col7\" class=\"data row13 col7\" >0.0160</td>\n",
       "    </tr>\n",
       "    <tr>\n",
       "      <th id=\"T_3b712_level0_row14\" class=\"row_heading level0 row14\" >dt</th>\n",
       "      <td id=\"T_3b712_row14_col0\" class=\"data row14 col0\" >Decision Tree Regressor</td>\n",
       "      <td id=\"T_3b712_row14_col1\" class=\"data row14 col1\" >0.1071</td>\n",
       "      <td id=\"T_3b712_row14_col2\" class=\"data row14 col2\" >0.0298</td>\n",
       "      <td id=\"T_3b712_row14_col3\" class=\"data row14 col3\" >0.1654</td>\n",
       "      <td id=\"T_3b712_row14_col4\" class=\"data row14 col4\" >0.6511</td>\n",
       "      <td id=\"T_3b712_row14_col5\" class=\"data row14 col5\" >0.0538</td>\n",
       "      <td id=\"T_3b712_row14_col6\" class=\"data row14 col6\" >0.0534</td>\n",
       "      <td id=\"T_3b712_row14_col7\" class=\"data row14 col7\" >0.0070</td>\n",
       "    </tr>\n",
       "    <tr>\n",
       "      <th id=\"T_3b712_level0_row15\" class=\"row_heading level0 row15\" >en</th>\n",
       "      <td id=\"T_3b712_row15_col0\" class=\"data row15 col0\" >Elastic Net</td>\n",
       "      <td id=\"T_3b712_row15_col1\" class=\"data row15 col1\" >0.2099</td>\n",
       "      <td id=\"T_3b712_row15_col2\" class=\"data row15 col2\" >0.0631</td>\n",
       "      <td id=\"T_3b712_row15_col3\" class=\"data row15 col3\" >0.2481</td>\n",
       "      <td id=\"T_3b712_row15_col4\" class=\"data row15 col4\" >0.3583</td>\n",
       "      <td id=\"T_3b712_row15_col5\" class=\"data row15 col5\" >0.0828</td>\n",
       "      <td id=\"T_3b712_row15_col6\" class=\"data row15 col6\" >0.1074</td>\n",
       "      <td id=\"T_3b712_row15_col7\" class=\"data row15 col7\" >0.0090</td>\n",
       "    </tr>\n",
       "    <tr>\n",
       "      <th id=\"T_3b712_level0_row16\" class=\"row_heading level0 row16\" >lasso</th>\n",
       "      <td id=\"T_3b712_row16_col0\" class=\"data row16 col0\" >Lasso Regression</td>\n",
       "      <td id=\"T_3b712_row16_col1\" class=\"data row16 col1\" >0.2715</td>\n",
       "      <td id=\"T_3b712_row16_col2\" class=\"data row16 col2\" >0.1021</td>\n",
       "      <td id=\"T_3b712_row16_col3\" class=\"data row16 col3\" >0.3169</td>\n",
       "      <td id=\"T_3b712_row16_col4\" class=\"data row16 col4\" >-0.0539</td>\n",
       "      <td id=\"T_3b712_row16_col5\" class=\"data row16 col5\" >0.1054</td>\n",
       "      <td id=\"T_3b712_row16_col6\" class=\"data row16 col6\" >0.1389</td>\n",
       "      <td id=\"T_3b712_row16_col7\" class=\"data row16 col7\" >0.0100</td>\n",
       "    </tr>\n",
       "    <tr>\n",
       "      <th id=\"T_3b712_level0_row17\" class=\"row_heading level0 row17\" >llar</th>\n",
       "      <td id=\"T_3b712_row17_col0\" class=\"data row17 col0\" >Lasso Least Angle Regression</td>\n",
       "      <td id=\"T_3b712_row17_col1\" class=\"data row17 col1\" >0.2715</td>\n",
       "      <td id=\"T_3b712_row17_col2\" class=\"data row17 col2\" >0.1021</td>\n",
       "      <td id=\"T_3b712_row17_col3\" class=\"data row17 col3\" >0.3169</td>\n",
       "      <td id=\"T_3b712_row17_col4\" class=\"data row17 col4\" >-0.0539</td>\n",
       "      <td id=\"T_3b712_row17_col5\" class=\"data row17 col5\" >0.1054</td>\n",
       "      <td id=\"T_3b712_row17_col6\" class=\"data row17 col6\" >0.1389</td>\n",
       "      <td id=\"T_3b712_row17_col7\" class=\"data row17 col7\" >0.0070</td>\n",
       "    </tr>\n",
       "    <tr>\n",
       "      <th id=\"T_3b712_level0_row18\" class=\"row_heading level0 row18\" >dummy</th>\n",
       "      <td id=\"T_3b712_row18_col0\" class=\"data row18 col0\" >Dummy Regressor</td>\n",
       "      <td id=\"T_3b712_row18_col1\" class=\"data row18 col1\" >0.2715</td>\n",
       "      <td id=\"T_3b712_row18_col2\" class=\"data row18 col2\" >0.1021</td>\n",
       "      <td id=\"T_3b712_row18_col3\" class=\"data row18 col3\" >0.3169</td>\n",
       "      <td id=\"T_3b712_row18_col4\" class=\"data row18 col4\" >-0.0539</td>\n",
       "      <td id=\"T_3b712_row18_col5\" class=\"data row18 col5\" >0.1054</td>\n",
       "      <td id=\"T_3b712_row18_col6\" class=\"data row18 col6\" >0.1389</td>\n",
       "      <td id=\"T_3b712_row18_col7\" class=\"data row18 col7\" >0.0090</td>\n",
       "    </tr>\n",
       "  </tbody>\n",
       "</table>\n"
      ],
      "text/plain": [
       "<pandas.io.formats.style.Styler at 0x1ebb87b2830>"
      ]
     },
     "metadata": {},
     "output_type": "display_data"
    },
    {
     "data": {
      "text/html": [],
      "text/plain": [
       "<IPython.core.display.HTML object>"
      ]
     },
     "metadata": {},
     "output_type": "display_data"
    }
   ],
   "source": [
    "from pycaret.regression import *\n",
    "exp_name = setup(data = df2,  target = 'espessura')\n",
    "best_model = compare_models()"
   ]
  },
  {
   "cell_type": "code",
   "execution_count": 22,
   "metadata": {},
   "outputs": [
    {
     "data": {
      "text/html": [
       "<div>\n",
       "<style scoped>\n",
       "    .dataframe tbody tr th:only-of-type {\n",
       "        vertical-align: middle;\n",
       "    }\n",
       "\n",
       "    .dataframe tbody tr th {\n",
       "        vertical-align: top;\n",
       "    }\n",
       "\n",
       "    .dataframe thead th {\n",
       "        text-align: right;\n",
       "    }\n",
       "</style>\n",
       "<table border=\"1\" class=\"dataframe\">\n",
       "  <thead>\n",
       "    <tr style=\"text-align: right;\">\n",
       "      <th></th>\n",
       "      <th></th>\n",
       "      <th></th>\n",
       "    </tr>\n",
       "    <tr>\n",
       "      <th></th>\n",
       "      <th></th>\n",
       "      <th></th>\n",
       "    </tr>\n",
       "  </thead>\n",
       "  <tbody>\n",
       "    <tr>\n",
       "      <th>Initiated</th>\n",
       "      <td>. . . . . . . . . . . . . . . . . .</td>\n",
       "      <td>21:31:37</td>\n",
       "    </tr>\n",
       "    <tr>\n",
       "      <th>Status</th>\n",
       "      <td>. . . . . . . . . . . . . . . . . .</td>\n",
       "      <td>Selecting Estimator</td>\n",
       "    </tr>\n",
       "    <tr>\n",
       "      <th>Estimator</th>\n",
       "      <td>. . . . . . . . . . . . . . . . . .</td>\n",
       "      <td>Compiling Library</td>\n",
       "    </tr>\n",
       "  </tbody>\n",
       "</table>\n",
       "</div>"
      ],
      "text/plain": [
       "                                                                   \n",
       "                                                                   \n",
       "Initiated  . . . . . . . . . . . . . . . . . .             21:31:37\n",
       "Status     . . . . . . . . . . . . . . . . . .  Selecting Estimator\n",
       "Estimator  . . . . . . . . . . . . . . . . . .    Compiling Library"
      ]
     },
     "metadata": {},
     "output_type": "display_data"
    },
    {
     "data": {
      "text/html": [
       "<style type=\"text/css\">\n",
       "#T_c4070_row10_col0, #T_c4070_row10_col1, #T_c4070_row10_col2, #T_c4070_row10_col3, #T_c4070_row10_col4, #T_c4070_row10_col5 {\n",
       "  background: yellow;\n",
       "}\n",
       "</style>\n",
       "<table id=\"T_c4070\">\n",
       "  <thead>\n",
       "    <tr>\n",
       "      <th class=\"blank level0\" >&nbsp;</th>\n",
       "      <th id=\"T_c4070_level0_col0\" class=\"col_heading level0 col0\" >MAE</th>\n",
       "      <th id=\"T_c4070_level0_col1\" class=\"col_heading level0 col1\" >MSE</th>\n",
       "      <th id=\"T_c4070_level0_col2\" class=\"col_heading level0 col2\" >RMSE</th>\n",
       "      <th id=\"T_c4070_level0_col3\" class=\"col_heading level0 col3\" >R2</th>\n",
       "      <th id=\"T_c4070_level0_col4\" class=\"col_heading level0 col4\" >RMSLE</th>\n",
       "      <th id=\"T_c4070_level0_col5\" class=\"col_heading level0 col5\" >MAPE</th>\n",
       "    </tr>\n",
       "    <tr>\n",
       "      <th class=\"index_name level0\" >Fold</th>\n",
       "      <th class=\"blank col0\" >&nbsp;</th>\n",
       "      <th class=\"blank col1\" >&nbsp;</th>\n",
       "      <th class=\"blank col2\" >&nbsp;</th>\n",
       "      <th class=\"blank col3\" >&nbsp;</th>\n",
       "      <th class=\"blank col4\" >&nbsp;</th>\n",
       "      <th class=\"blank col5\" >&nbsp;</th>\n",
       "    </tr>\n",
       "  </thead>\n",
       "  <tbody>\n",
       "    <tr>\n",
       "      <th id=\"T_c4070_level0_row0\" class=\"row_heading level0 row0\" >0</th>\n",
       "      <td id=\"T_c4070_row0_col0\" class=\"data row0 col0\" >0.0796</td>\n",
       "      <td id=\"T_c4070_row0_col1\" class=\"data row0 col1\" >0.0098</td>\n",
       "      <td id=\"T_c4070_row0_col2\" class=\"data row0 col2\" >0.0990</td>\n",
       "      <td id=\"T_c4070_row0_col3\" class=\"data row0 col3\" >0.9044</td>\n",
       "      <td id=\"T_c4070_row0_col4\" class=\"data row0 col4\" >0.0323</td>\n",
       "      <td id=\"T_c4070_row0_col5\" class=\"data row0 col5\" >0.0394</td>\n",
       "    </tr>\n",
       "    <tr>\n",
       "      <th id=\"T_c4070_level0_row1\" class=\"row_heading level0 row1\" >1</th>\n",
       "      <td id=\"T_c4070_row1_col0\" class=\"data row1 col0\" >0.0994</td>\n",
       "      <td id=\"T_c4070_row1_col1\" class=\"data row1 col1\" >0.0155</td>\n",
       "      <td id=\"T_c4070_row1_col2\" class=\"data row1 col2\" >0.1245</td>\n",
       "      <td id=\"T_c4070_row1_col3\" class=\"data row1 col3\" >0.8881</td>\n",
       "      <td id=\"T_c4070_row1_col4\" class=\"data row1 col4\" >0.0395</td>\n",
       "      <td id=\"T_c4070_row1_col5\" class=\"data row1 col5\" >0.0485</td>\n",
       "    </tr>\n",
       "    <tr>\n",
       "      <th id=\"T_c4070_level0_row2\" class=\"row_heading level0 row2\" >2</th>\n",
       "      <td id=\"T_c4070_row2_col0\" class=\"data row2 col0\" >0.0714</td>\n",
       "      <td id=\"T_c4070_row2_col1\" class=\"data row2 col1\" >0.0075</td>\n",
       "      <td id=\"T_c4070_row2_col2\" class=\"data row2 col2\" >0.0864</td>\n",
       "      <td id=\"T_c4070_row2_col3\" class=\"data row2 col3\" >0.9248</td>\n",
       "      <td id=\"T_c4070_row2_col4\" class=\"data row2 col4\" >0.0297</td>\n",
       "      <td id=\"T_c4070_row2_col5\" class=\"data row2 col5\" >0.0367</td>\n",
       "    </tr>\n",
       "    <tr>\n",
       "      <th id=\"T_c4070_level0_row3\" class=\"row_heading level0 row3\" >3</th>\n",
       "      <td id=\"T_c4070_row3_col0\" class=\"data row3 col0\" >0.0790</td>\n",
       "      <td id=\"T_c4070_row3_col1\" class=\"data row3 col1\" >0.0098</td>\n",
       "      <td id=\"T_c4070_row3_col2\" class=\"data row3 col2\" >0.0990</td>\n",
       "      <td id=\"T_c4070_row3_col3\" class=\"data row3 col3\" >0.8842</td>\n",
       "      <td id=\"T_c4070_row3_col4\" class=\"data row3 col4\" >0.0341</td>\n",
       "      <td id=\"T_c4070_row3_col5\" class=\"data row3 col5\" >0.0416</td>\n",
       "    </tr>\n",
       "    <tr>\n",
       "      <th id=\"T_c4070_level0_row4\" class=\"row_heading level0 row4\" >4</th>\n",
       "      <td id=\"T_c4070_row4_col0\" class=\"data row4 col0\" >0.0991</td>\n",
       "      <td id=\"T_c4070_row4_col1\" class=\"data row4 col1\" >0.0130</td>\n",
       "      <td id=\"T_c4070_row4_col2\" class=\"data row4 col2\" >0.1141</td>\n",
       "      <td id=\"T_c4070_row4_col3\" class=\"data row4 col3\" >0.8564</td>\n",
       "      <td id=\"T_c4070_row4_col4\" class=\"data row4 col4\" >0.0352</td>\n",
       "      <td id=\"T_c4070_row4_col5\" class=\"data row4 col5\" >0.0463</td>\n",
       "    </tr>\n",
       "    <tr>\n",
       "      <th id=\"T_c4070_level0_row5\" class=\"row_heading level0 row5\" >5</th>\n",
       "      <td id=\"T_c4070_row5_col0\" class=\"data row5 col0\" >0.0962</td>\n",
       "      <td id=\"T_c4070_row5_col1\" class=\"data row5 col1\" >0.0403</td>\n",
       "      <td id=\"T_c4070_row5_col2\" class=\"data row5 col2\" >0.2007</td>\n",
       "      <td id=\"T_c4070_row5_col3\" class=\"data row5 col3\" >0.5607</td>\n",
       "      <td id=\"T_c4070_row5_col4\" class=\"data row5 col4\" >0.0632</td>\n",
       "      <td id=\"T_c4070_row5_col5\" class=\"data row5 col5\" >0.0440</td>\n",
       "    </tr>\n",
       "    <tr>\n",
       "      <th id=\"T_c4070_level0_row6\" class=\"row_heading level0 row6\" >6</th>\n",
       "      <td id=\"T_c4070_row6_col0\" class=\"data row6 col0\" >0.0766</td>\n",
       "      <td id=\"T_c4070_row6_col1\" class=\"data row6 col1\" >0.0089</td>\n",
       "      <td id=\"T_c4070_row6_col2\" class=\"data row6 col2\" >0.0941</td>\n",
       "      <td id=\"T_c4070_row6_col3\" class=\"data row6 col3\" >0.9378</td>\n",
       "      <td id=\"T_c4070_row6_col4\" class=\"data row6 col4\" >0.0299</td>\n",
       "      <td id=\"T_c4070_row6_col5\" class=\"data row6 col5\" >0.0360</td>\n",
       "    </tr>\n",
       "    <tr>\n",
       "      <th id=\"T_c4070_level0_row7\" class=\"row_heading level0 row7\" >7</th>\n",
       "      <td id=\"T_c4070_row7_col0\" class=\"data row7 col0\" >0.0733</td>\n",
       "      <td id=\"T_c4070_row7_col1\" class=\"data row7 col1\" >0.0081</td>\n",
       "      <td id=\"T_c4070_row7_col2\" class=\"data row7 col2\" >0.0899</td>\n",
       "      <td id=\"T_c4070_row7_col3\" class=\"data row7 col3\" >0.9034</td>\n",
       "      <td id=\"T_c4070_row7_col4\" class=\"data row7 col4\" >0.0300</td>\n",
       "      <td id=\"T_c4070_row7_col5\" class=\"data row7 col5\" >0.0378</td>\n",
       "    </tr>\n",
       "    <tr>\n",
       "      <th id=\"T_c4070_level0_row8\" class=\"row_heading level0 row8\" >8</th>\n",
       "      <td id=\"T_c4070_row8_col0\" class=\"data row8 col0\" >0.0711</td>\n",
       "      <td id=\"T_c4070_row8_col1\" class=\"data row8 col1\" >0.0096</td>\n",
       "      <td id=\"T_c4070_row8_col2\" class=\"data row8 col2\" >0.0980</td>\n",
       "      <td id=\"T_c4070_row8_col3\" class=\"data row8 col3\" >0.8857</td>\n",
       "      <td id=\"T_c4070_row8_col4\" class=\"data row8 col4\" >0.0322</td>\n",
       "      <td id=\"T_c4070_row8_col5\" class=\"data row8 col5\" >0.0348</td>\n",
       "    </tr>\n",
       "    <tr>\n",
       "      <th id=\"T_c4070_level0_row9\" class=\"row_heading level0 row9\" >9</th>\n",
       "      <td id=\"T_c4070_row9_col0\" class=\"data row9 col0\" >0.0774</td>\n",
       "      <td id=\"T_c4070_row9_col1\" class=\"data row9 col1\" >0.0092</td>\n",
       "      <td id=\"T_c4070_row9_col2\" class=\"data row9 col2\" >0.0961</td>\n",
       "      <td id=\"T_c4070_row9_col3\" class=\"data row9 col3\" >0.8276</td>\n",
       "      <td id=\"T_c4070_row9_col4\" class=\"data row9 col4\" >0.0309</td>\n",
       "      <td id=\"T_c4070_row9_col5\" class=\"data row9 col5\" >0.0371</td>\n",
       "    </tr>\n",
       "    <tr>\n",
       "      <th id=\"T_c4070_level0_row10\" class=\"row_heading level0 row10\" >Mean</th>\n",
       "      <td id=\"T_c4070_row10_col0\" class=\"data row10 col0\" >0.0823</td>\n",
       "      <td id=\"T_c4070_row10_col1\" class=\"data row10 col1\" >0.0132</td>\n",
       "      <td id=\"T_c4070_row10_col2\" class=\"data row10 col2\" >0.1102</td>\n",
       "      <td id=\"T_c4070_row10_col3\" class=\"data row10 col3\" >0.8573</td>\n",
       "      <td id=\"T_c4070_row10_col4\" class=\"data row10 col4\" >0.0357</td>\n",
       "      <td id=\"T_c4070_row10_col5\" class=\"data row10 col5\" >0.0402</td>\n",
       "    </tr>\n",
       "    <tr>\n",
       "      <th id=\"T_c4070_level0_row11\" class=\"row_heading level0 row11\" >Std</th>\n",
       "      <td id=\"T_c4070_row11_col0\" class=\"data row11 col0\" >0.0108</td>\n",
       "      <td id=\"T_c4070_row11_col1\" class=\"data row11 col1\" >0.0093</td>\n",
       "      <td id=\"T_c4070_row11_col2\" class=\"data row11 col2\" >0.0320</td>\n",
       "      <td id=\"T_c4070_row11_col3\" class=\"data row11 col3\" >0.1033</td>\n",
       "      <td id=\"T_c4070_row11_col4\" class=\"data row11 col4\" >0.0096</td>\n",
       "      <td id=\"T_c4070_row11_col5\" class=\"data row11 col5\" >0.0044</td>\n",
       "    </tr>\n",
       "  </tbody>\n",
       "</table>\n"
      ],
      "text/plain": [
       "<pandas.io.formats.style.Styler at 0x1ebbda244c0>"
      ]
     },
     "metadata": {},
     "output_type": "display_data"
    },
    {
     "data": {
      "text/html": [],
      "text/plain": [
       "<IPython.core.display.HTML object>"
      ]
     },
     "metadata": {},
     "output_type": "display_data"
    }
   ],
   "source": [
    "ridge = create_model('ridge')"
   ]
  },
  {
   "cell_type": "code",
   "execution_count": 23,
   "metadata": {},
   "outputs": [
    {
     "ename": "NameError",
     "evalue": "name 'rf' is not defined",
     "output_type": "error",
     "traceback": [
      "\u001b[1;31m---------------------------------------------------------------------------\u001b[0m",
      "\u001b[1;31mNameError\u001b[0m                                 Traceback (most recent call last)",
      "Cell \u001b[1;32mIn[23], line 2\u001b[0m\n\u001b[0;32m      1\u001b[0m \u001b[38;5;66;03m# dashboard of pycaret\u001b[39;00m\n\u001b[1;32m----> 2\u001b[0m evaluate_model(\u001b[43mrf\u001b[49m)\n",
      "\u001b[1;31mNameError\u001b[0m: name 'rf' is not defined"
     ]
    }
   ],
   "source": [
    "# dashboard of pycaret\n",
    "evaluate_model(rf)"
   ]
  },
  {
   "cell_type": "code",
   "execution_count": null,
   "metadata": {},
   "outputs": [
    {
     "data": {
      "text/html": [],
      "text/plain": [
       "<IPython.core.display.HTML object>"
      ]
     },
     "metadata": {},
     "output_type": "display_data"
    },
    {
     "data": {
      "image/png": "[encoded data removed]",
      "text/plain": [
       "<Figure size 800x550 with 1 Axes>"
      ]
     },
     "metadata": {},
     "output_type": "display_data"
    }
   ],
   "source": [
    "plot_model(ridge, plot = 'error')"
   ]
  },
  {
   "cell_type": "code",
   "execution_count": null,
   "metadata": {},
   "outputs": [
    {
     "data": {
      "application/vnd.jupyter.widget-view+json": {
       "model_id": "f483068f2f2a4eafa4888c195d2de60b",
       "version_major": 2,
       "version_minor": 0
      },
      "text/plain": [
       "interactive(children=(ToggleButtons(description='Plot Type:', icons=('',), options=(('Pipeline Plot', 'pipelin…"
      ]
     },
     "metadata": {},
     "output_type": "display_data"
    }
   ],
   "source": [
    "evaluate_model(ridge)"
   ]
  },
  {
   "cell_type": "code",
   "execution_count": null,
   "metadata": {},
   "outputs": [],
   "source": [
    "#pred_unseen = predict_model(rf, data = unseen_dataframe)"
   ]
  },
  {
   "cell_type": "code",
   "execution_count": null,
   "metadata": {},
   "outputs": [],
   "source": []
  },
  {
   "cell_type": "code",
   "execution_count": null,
   "metadata": {},
   "outputs": [
    {
     "data": {
      "text/html": [],
      "text/plain": [
       "<IPython.core.display.HTML object>"
      ]
     },
     "metadata": {},
     "output_type": "display_data"
    },
    {
     "data": {
      "text/html": [
       "<style type=\"text/css\">\n",
       "#T_8f21f_row10_col0, #T_8f21f_row10_col1, #T_8f21f_row10_col2, #T_8f21f_row10_col3, #T_8f21f_row10_col4, #T_8f21f_row10_col5 {\n",
       "  background: yellow;\n",
       "}\n",
       "</style>\n",
       "<table id=\"T_8f21f\">\n",
       "  <thead>\n",
       "    <tr>\n",
       "      <th class=\"blank level0\" >&nbsp;</th>\n",
       "      <th id=\"T_8f21f_level0_col0\" class=\"col_heading level0 col0\" >MAE</th>\n",
       "      <th id=\"T_8f21f_level0_col1\" class=\"col_heading level0 col1\" >MSE</th>\n",
       "      <th id=\"T_8f21f_level0_col2\" class=\"col_heading level0 col2\" >RMSE</th>\n",
       "      <th id=\"T_8f21f_level0_col3\" class=\"col_heading level0 col3\" >R2</th>\n",
       "      <th id=\"T_8f21f_level0_col4\" class=\"col_heading level0 col4\" >RMSLE</th>\n",
       "      <th id=\"T_8f21f_level0_col5\" class=\"col_heading level0 col5\" >MAPE</th>\n",
       "    </tr>\n",
       "    <tr>\n",
       "      <th class=\"index_name level0\" >Fold</th>\n",
       "      <th class=\"blank col0\" >&nbsp;</th>\n",
       "      <th class=\"blank col1\" >&nbsp;</th>\n",
       "      <th class=\"blank col2\" >&nbsp;</th>\n",
       "      <th class=\"blank col3\" >&nbsp;</th>\n",
       "      <th class=\"blank col4\" >&nbsp;</th>\n",
       "      <th class=\"blank col5\" >&nbsp;</th>\n",
       "    </tr>\n",
       "  </thead>\n",
       "  <tbody>\n",
       "    <tr>\n",
       "      <th id=\"T_8f21f_level0_row0\" class=\"row_heading level0 row0\" >0</th>\n",
       "      <td id=\"T_8f21f_row0_col0\" class=\"data row0 col0\" >0.0577</td>\n",
       "      <td id=\"T_8f21f_row0_col1\" class=\"data row0 col1\" >0.0064</td>\n",
       "      <td id=\"T_8f21f_row0_col2\" class=\"data row0 col2\" >0.0802</td>\n",
       "      <td id=\"T_8f21f_row0_col3\" class=\"data row0 col3\" >0.9153</td>\n",
       "      <td id=\"T_8f21f_row0_col4\" class=\"data row0 col4\" >0.0276</td>\n",
       "      <td id=\"T_8f21f_row0_col5\" class=\"data row0 col5\" >0.0300</td>\n",
       "    </tr>\n",
       "    <tr>\n",
       "      <th id=\"T_8f21f_level0_row1\" class=\"row_heading level0 row1\" >1</th>\n",
       "      <td id=\"T_8f21f_row1_col0\" class=\"data row1 col0\" >0.0640</td>\n",
       "      <td id=\"T_8f21f_row1_col1\" class=\"data row1 col1\" >0.0072</td>\n",
       "      <td id=\"T_8f21f_row1_col2\" class=\"data row1 col2\" >0.0849</td>\n",
       "      <td id=\"T_8f21f_row1_col3\" class=\"data row1 col3\" >0.9198</td>\n",
       "      <td id=\"T_8f21f_row1_col4\" class=\"data row1 col4\" >0.0285</td>\n",
       "      <td id=\"T_8f21f_row1_col5\" class=\"data row1 col5\" >0.0322</td>\n",
       "    </tr>\n",
       "    <tr>\n",
       "      <th id=\"T_8f21f_level0_row2\" class=\"row_heading level0 row2\" >2</th>\n",
       "      <td id=\"T_8f21f_row2_col0\" class=\"data row2 col0\" >0.0880</td>\n",
       "      <td id=\"T_8f21f_row2_col1\" class=\"data row2 col1\" >0.0160</td>\n",
       "      <td id=\"T_8f21f_row2_col2\" class=\"data row2 col2\" >0.1265</td>\n",
       "      <td id=\"T_8f21f_row2_col3\" class=\"data row2 col3\" >0.8778</td>\n",
       "      <td id=\"T_8f21f_row2_col4\" class=\"data row2 col4\" >0.0378</td>\n",
       "      <td id=\"T_8f21f_row2_col5\" class=\"data row2 col5\" >0.0399</td>\n",
       "    </tr>\n",
       "    <tr>\n",
       "      <th id=\"T_8f21f_level0_row3\" class=\"row_heading level0 row3\" >3</th>\n",
       "      <td id=\"T_8f21f_row3_col0\" class=\"data row3 col0\" >0.1159</td>\n",
       "      <td id=\"T_8f21f_row3_col1\" class=\"data row3 col1\" >0.0376</td>\n",
       "      <td id=\"T_8f21f_row3_col2\" class=\"data row3 col2\" >0.1938</td>\n",
       "      <td id=\"T_8f21f_row3_col3\" class=\"data row3 col3\" >0.5466</td>\n",
       "      <td id=\"T_8f21f_row3_col4\" class=\"data row3 col4\" >0.0603</td>\n",
       "      <td id=\"T_8f21f_row3_col5\" class=\"data row3 col5\" >0.0507</td>\n",
       "    </tr>\n",
       "    <tr>\n",
       "      <th id=\"T_8f21f_level0_row4\" class=\"row_heading level0 row4\" >4</th>\n",
       "      <td id=\"T_8f21f_row4_col0\" class=\"data row4 col0\" >0.0819</td>\n",
       "      <td id=\"T_8f21f_row4_col1\" class=\"data row4 col1\" >0.0149</td>\n",
       "      <td id=\"T_8f21f_row4_col2\" class=\"data row4 col2\" >0.1219</td>\n",
       "      <td id=\"T_8f21f_row4_col3\" class=\"data row4 col3\" >0.8064</td>\n",
       "      <td id=\"T_8f21f_row4_col4\" class=\"data row4 col4\" >0.0390</td>\n",
       "      <td id=\"T_8f21f_row4_col5\" class=\"data row4 col5\" >0.0391</td>\n",
       "    </tr>\n",
       "    <tr>\n",
       "      <th id=\"T_8f21f_level0_row5\" class=\"row_heading level0 row5\" >5</th>\n",
       "      <td id=\"T_8f21f_row5_col0\" class=\"data row5 col0\" >0.0580</td>\n",
       "      <td id=\"T_8f21f_row5_col1\" class=\"data row5 col1\" >0.0057</td>\n",
       "      <td id=\"T_8f21f_row5_col2\" class=\"data row5 col2\" >0.0757</td>\n",
       "      <td id=\"T_8f21f_row5_col3\" class=\"data row5 col3\" >0.9512</td>\n",
       "      <td id=\"T_8f21f_row5_col4\" class=\"data row5 col4\" >0.0248</td>\n",
       "      <td id=\"T_8f21f_row5_col5\" class=\"data row5 col5\" >0.0283</td>\n",
       "    </tr>\n",
       "    <tr>\n",
       "      <th id=\"T_8f21f_level0_row6\" class=\"row_heading level0 row6\" >6</th>\n",
       "      <td id=\"T_8f21f_row6_col0\" class=\"data row6 col0\" >0.0841</td>\n",
       "      <td id=\"T_8f21f_row6_col1\" class=\"data row6 col1\" >0.0102</td>\n",
       "      <td id=\"T_8f21f_row6_col2\" class=\"data row6 col2\" >0.1011</td>\n",
       "      <td id=\"T_8f21f_row6_col3\" class=\"data row6 col3\" >0.8945</td>\n",
       "      <td id=\"T_8f21f_row6_col4\" class=\"data row6 col4\" >0.0346</td>\n",
       "      <td id=\"T_8f21f_row6_col5\" class=\"data row6 col5\" >0.0443</td>\n",
       "    </tr>\n",
       "    <tr>\n",
       "      <th id=\"T_8f21f_level0_row7\" class=\"row_heading level0 row7\" >7</th>\n",
       "      <td id=\"T_8f21f_row7_col0\" class=\"data row7 col0\" >0.0855</td>\n",
       "      <td id=\"T_8f21f_row7_col1\" class=\"data row7 col1\" >0.0174</td>\n",
       "      <td id=\"T_8f21f_row7_col2\" class=\"data row7 col2\" >0.1320</td>\n",
       "      <td id=\"T_8f21f_row7_col3\" class=\"data row7 col3\" >0.8630</td>\n",
       "      <td id=\"T_8f21f_row7_col4\" class=\"data row7 col4\" >0.0485</td>\n",
       "      <td id=\"T_8f21f_row7_col5\" class=\"data row7 col5\" >0.0473</td>\n",
       "    </tr>\n",
       "    <tr>\n",
       "      <th id=\"T_8f21f_level0_row8\" class=\"row_heading level0 row8\" >8</th>\n",
       "      <td id=\"T_8f21f_row8_col0\" class=\"data row8 col0\" >0.0840</td>\n",
       "      <td id=\"T_8f21f_row8_col1\" class=\"data row8 col1\" >0.0140</td>\n",
       "      <td id=\"T_8f21f_row8_col2\" class=\"data row8 col2\" >0.1183</td>\n",
       "      <td id=\"T_8f21f_row8_col3\" class=\"data row8 col3\" >0.8478</td>\n",
       "      <td id=\"T_8f21f_row8_col4\" class=\"data row8 col4\" >0.0407</td>\n",
       "      <td id=\"T_8f21f_row8_col5\" class=\"data row8 col5\" >0.0427</td>\n",
       "    </tr>\n",
       "    <tr>\n",
       "      <th id=\"T_8f21f_level0_row9\" class=\"row_heading level0 row9\" >9</th>\n",
       "      <td id=\"T_8f21f_row9_col0\" class=\"data row9 col0\" >0.0895</td>\n",
       "      <td id=\"T_8f21f_row9_col1\" class=\"data row9 col1\" >0.0137</td>\n",
       "      <td id=\"T_8f21f_row9_col2\" class=\"data row9 col2\" >0.1169</td>\n",
       "      <td id=\"T_8f21f_row9_col3\" class=\"data row9 col3\" >0.8644</td>\n",
       "      <td id=\"T_8f21f_row9_col4\" class=\"data row9 col4\" >0.0402</td>\n",
       "      <td id=\"T_8f21f_row9_col5\" class=\"data row9 col5\" >0.0470</td>\n",
       "    </tr>\n",
       "    <tr>\n",
       "      <th id=\"T_8f21f_level0_row10\" class=\"row_heading level0 row10\" >Mean</th>\n",
       "      <td id=\"T_8f21f_row10_col0\" class=\"data row10 col0\" >0.0808</td>\n",
       "      <td id=\"T_8f21f_row10_col1\" class=\"data row10 col1\" >0.0143</td>\n",
       "      <td id=\"T_8f21f_row10_col2\" class=\"data row10 col2\" >0.1151</td>\n",
       "      <td id=\"T_8f21f_row10_col3\" class=\"data row10 col3\" >0.8487</td>\n",
       "      <td id=\"T_8f21f_row10_col4\" class=\"data row10 col4\" >0.0382</td>\n",
       "      <td id=\"T_8f21f_row10_col5\" class=\"data row10 col5\" >0.0402</td>\n",
       "    </tr>\n",
       "    <tr>\n",
       "      <th id=\"T_8f21f_level0_row11\" class=\"row_heading level0 row11\" >Std</th>\n",
       "      <td id=\"T_8f21f_row11_col0\" class=\"data row11 col0\" >0.0166</td>\n",
       "      <td id=\"T_8f21f_row11_col1\" class=\"data row11 col1\" >0.0087</td>\n",
       "      <td id=\"T_8f21f_row11_col2\" class=\"data row11 col2\" >0.0325</td>\n",
       "      <td id=\"T_8f21f_row11_col3\" class=\"data row11 col3\" >0.1079</td>\n",
       "      <td id=\"T_8f21f_row11_col4\" class=\"data row11 col4\" >0.0100</td>\n",
       "      <td id=\"T_8f21f_row11_col5\" class=\"data row11 col5\" >0.0074</td>\n",
       "    </tr>\n",
       "  </tbody>\n",
       "</table>\n"
      ],
      "text/plain": [
       "<pandas.io.formats.style.Styler at 0x12531ae5d50>"
      ]
     },
     "metadata": {},
     "output_type": "display_data"
    },
    {
     "data": {
      "text/html": [],
      "text/plain": [
       "<IPython.core.display.HTML object>"
      ]
     },
     "metadata": {},
     "output_type": "display_data"
    },
    {
     "name": "stdout",
     "output_type": "stream",
     "text": [
      "Fitting 10 folds for each of 10 candidates, totalling 100 fits\n"
     ]
    }
   ],
   "source": [
    "tuned_rf = tune_model(rf)"
   ]
  },
  {
   "cell_type": "code",
   "execution_count": null,
   "metadata": {},
   "outputs": [],
   "source": [
    "#theta = exp.create_model('theta')\n",
    "#exp.plot_model(plot = 'decomp',\n",
    "#               data_kwargs = {'type' : 'multiplicative'},\n",
    "#               fig_kwargs = {\"height\":500,\"width\":1000,\"template\": \"simple_white\",\"hoverinfo\":\"none\",\"big_data_threshold\":50})\n",
    "#exp.plot_model(estimator = theta, plot = 'forecast', \n",
    "#               data_kwargs = {'fh' : 8},\n",
    "#               fig_kwargs = {\"height\":500,\"width\":1000,\"template\": \"simple_white\",\"hoverinfo\":\"none\",\"big_data_threshold\":50})\n",
    "#exp.predict_model(theta, fh = 8)"
   ]
  },
  {
   "cell_type": "markdown",
   "metadata": {},
   "source": [
    "#### weight prediction \n",
    "#### Realizar um codigo padrao com avaliacao de modelos, tuning, evaluation, shuffle and save (retirar index)\n",
    "#### realizar predicao para espessura\n",
    "#### realizar a predicao do peso sem a variavel espessura\n",
    "####"
   ]
  }
 ],
 "metadata": {
  "kernelspec": {
   "display_name": "Python 3",
   "language": "python",
   "name": "python3"
  },
  "language_info": {
   "codemirror_mode": {
    "name": "ipython",
    "version": 3
   },
   "file_extension": ".py",
   "mimetype": "text/x-python",
   "name": "python",
   "nbconvert_exporter": "python",
   "pygments_lexer": "ipython3",
   "version": "3.10.11"
  }
 },
 "nbformat": 4,
 "nbformat_minor": 2
}
