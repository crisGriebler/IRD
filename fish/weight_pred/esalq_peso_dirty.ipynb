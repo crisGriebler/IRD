{
 "cells": [
  {
   "cell_type": "code",
   "execution_count": 1,
   "metadata": {},
   "outputs": [],
   "source": [
    "import pandas as pd\n",
    "import matplotlib as plt\n",
    "import numpy as np\n",
    "import statsmodels.api as sm\n",
    "from statsmodels.graphics.tsaplots import plot_acf, plot_pacf\n",
    "from statsmodels.tsa.arima_model import ARIMA\n",
    "from statsmodels.tsa.stattools import adfuller\n",
    "from numpy import log\n",
    "from sklearn.metrics import mean_squared_error\n",
    "from statsmodels.tsa.stattools import acf\n",
    "from datetime import datetime, timedelta"
   ]
  },
  {
   "cell_type": "code",
   "execution_count": 2,
   "metadata": {},
   "outputs": [
    {
     "name": "stdout",
     "output_type": "stream",
     "text": [
      "     Index    peso  comprimento_Total  comprimento_Padrao  comprimento_Cabeca  \\\n",
      "664  665.0  492.04               29.0                24.8                 8.0   \n",
      "665  666.0  454.02               27.0                23.0                 7.6   \n",
      "666  667.0  480.56               27.1                22.8                 7.5   \n",
      "667  668.0  412.75               25.7                22.0                 7.5   \n",
      "668  669.0  471.80               27.2                23.4                 7.4   \n",
      "669  670.0  382.79               25.4                21.5                 7.5   \n",
      "670  671.0  401.90               26.5                22.3                 7.2   \n",
      "671  672.0  441.98               27.8                23.4                 7.5   \n",
      "672  673.0  468.54               28.0                23.5                 7.8   \n",
      "673  674.0  418.14               26.3                22.2                 7.4   \n",
      "\n",
      "     altura  espessura       data  \n",
      "664     9.1        3.2 2024-06-12  \n",
      "665     9.0        3.2 2024-06-12  \n",
      "666     8.9        3.2 2024-06-12  \n",
      "667     8.2        3.2 2024-06-12  \n",
      "668     8.9        3.2 2024-06-12  \n",
      "669     8.5        3.2 2024-06-12  \n",
      "670     8.5        3.2 2024-06-12  \n",
      "671     8.7        3.2 2024-06-12  \n",
      "672     8.5        3.2 2024-06-12  \n",
      "673     8.5        3.1 2024-06-12  \n"
     ]
    }
   ],
   "source": [
    "#função para tratar campo data\n",
    "def parser(x):\n",
    "    return pd.datetime.strptime('190'+x, '%Y-%m')\n",
    "\n",
    "#Agora vamos importar nosso arquivo \n",
    "df = pd.read_excel('biometria.xlsx', sheet_name='Página1')\n",
    "print(df.tail(10))"
   ]
  },
  {
   "cell_type": "code",
   "execution_count": 3,
   "metadata": {},
   "outputs": [
    {
     "data": {
      "text/html": [
       "<div>\n",
       "<style scoped>\n",
       "    .dataframe tbody tr th:only-of-type {\n",
       "        vertical-align: middle;\n",
       "    }\n",
       "\n",
       "    .dataframe tbody tr th {\n",
       "        vertical-align: top;\n",
       "    }\n",
       "\n",
       "    .dataframe thead th {\n",
       "        text-align: right;\n",
       "    }\n",
       "</style>\n",
       "<table border=\"1\" class=\"dataframe\">\n",
       "  <thead>\n",
       "    <tr style=\"text-align: right;\">\n",
       "      <th></th>\n",
       "      <th>peso</th>\n",
       "      <th>comprimento_Total</th>\n",
       "      <th>comprimento_Padrao</th>\n",
       "      <th>comprimento_Cabeca</th>\n",
       "      <th>altura</th>\n",
       "      <th>espessura</th>\n",
       "    </tr>\n",
       "  </thead>\n",
       "  <tbody>\n",
       "    <tr>\n",
       "      <th>0</th>\n",
       "      <td>51.45</td>\n",
       "      <td>14.3</td>\n",
       "      <td>12.2</td>\n",
       "      <td>4.0</td>\n",
       "      <td>4.1</td>\n",
       "      <td>1.9</td>\n",
       "    </tr>\n",
       "    <tr>\n",
       "      <th>1</th>\n",
       "      <td>37.15</td>\n",
       "      <td>12.4</td>\n",
       "      <td>10.9</td>\n",
       "      <td>3.8</td>\n",
       "      <td>3.2</td>\n",
       "      <td>1.2</td>\n",
       "    </tr>\n",
       "    <tr>\n",
       "      <th>2</th>\n",
       "      <td>47.26</td>\n",
       "      <td>13.7</td>\n",
       "      <td>11.2</td>\n",
       "      <td>3.4</td>\n",
       "      <td>4.0</td>\n",
       "      <td>1.7</td>\n",
       "    </tr>\n",
       "    <tr>\n",
       "      <th>3</th>\n",
       "      <td>36.67</td>\n",
       "      <td>12.9</td>\n",
       "      <td>11.1</td>\n",
       "      <td>3.7</td>\n",
       "      <td>3.7</td>\n",
       "      <td>1.6</td>\n",
       "    </tr>\n",
       "    <tr>\n",
       "      <th>4</th>\n",
       "      <td>45.48</td>\n",
       "      <td>13.2</td>\n",
       "      <td>11.3</td>\n",
       "      <td>3.8</td>\n",
       "      <td>4.5</td>\n",
       "      <td>1.6</td>\n",
       "    </tr>\n",
       "  </tbody>\n",
       "</table>\n",
       "</div>"
      ],
      "text/plain": [
       "    peso  comprimento_Total  comprimento_Padrao  comprimento_Cabeca  altura  \\\n",
       "0  51.45               14.3                12.2                 4.0     4.1   \n",
       "1  37.15               12.4                10.9                 3.8     3.2   \n",
       "2  47.26               13.7                11.2                 3.4     4.0   \n",
       "3  36.67               12.9                11.1                 3.7     3.7   \n",
       "4  45.48               13.2                11.3                 3.8     4.5   \n",
       "\n",
       "   espessura  \n",
       "0        1.9  \n",
       "1        1.2  \n",
       "2        1.7  \n",
       "3        1.6  \n",
       "4        1.6  "
      ]
     },
     "execution_count": 3,
     "metadata": {},
     "output_type": "execute_result"
    }
   ],
   "source": [
    "df1 = df.drop(columns=[\n",
    "'data', \n",
    "'Index'\n",
    "])\n",
    "df1.head()"
   ]
  },
  {
   "cell_type": "markdown",
   "metadata": {},
   "source": [
    "## Creating the unseen_Data of 10% of the real data to check model results"
   ]
  },
  {
   "cell_type": "code",
   "execution_count": 4,
   "metadata": {},
   "outputs": [
    {
     "name": "stdout",
     "output_type": "stream",
     "text": [
      "Data for Modeling: (640, 6)\n",
      "Unseen Data For Predictions: (34, 6)\n"
     ]
    }
   ],
   "source": [
    "data = df1.sample(frac=0.95, random_state=123)\n",
    "data_unseen = df1.drop(data.index)\n",
    "\n",
    "data.reset_index(drop=True, inplace=True)\n",
    "data_unseen.reset_index(drop=True, inplace=True)\n",
    "\n",
    "print('Data for Modeling: ' + str(data.shape))\n",
    "print('Unseen Data For Predictions: ' + str(data_unseen.shape))"
   ]
  },
  {
   "cell_type": "code",
   "execution_count": 5,
   "metadata": {},
   "outputs": [
    {
     "name": "stdout",
     "output_type": "stream",
     "text": [
      "peso\n",
      "comprimento_Total\n",
      "comprimento_Padrao\n",
      "comprimento_Cabeca\n",
      "altura\n",
      "espessura\n"
     ]
    }
   ],
   "source": [
    "for col in data.select_dtypes(include='number').columns:\n",
    "    print(col)"
   ]
  },
  {
   "cell_type": "code",
   "execution_count": 6,
   "metadata": {},
   "outputs": [],
   "source": [
    "# Run this cel to make sure all the variable are type float64!\n",
    "#data.info()"
   ]
  },
  {
   "cell_type": "code",
   "execution_count": 7,
   "metadata": {},
   "outputs": [],
   "source": [
    "#from pycaret.datasets import get_data\n",
    "#boston = get_data('boston')\n",
    "from pycaret.regression import *\n",
    "exp1 = setup(data = data,  target = 'peso', session_id=124, train_size=0.8, preprocess=False)\n"
   ]
  },
  {
   "cell_type": "code",
   "execution_count": null,
   "metadata": {},
   "outputs": [
    {
     "data": {
      "text/html": [],
      "text/plain": [
       "<IPython.core.display.HTML object>"
      ]
     },
     "metadata": {},
     "output_type": "display_data"
    },
    {
     "data": {
      "text/html": [],
      "text/plain": [
       "<IPython.core.display.HTML object>"
      ]
     },
     "metadata": {},
     "output_type": "display_data"
    },
    {
     "data": {
      "text/html": [],
      "text/plain": [
       "<IPython.core.display.HTML object>"
      ]
     },
     "metadata": {},
     "output_type": "display_data"
    }
   ],
   "source": [
    "best_model = compare_models(n_select=5 )  #default R2 sort='R2' TO select the metric R2"
   ]
  },
  {
   "cell_type": "code",
   "execution_count": null,
   "metadata": {},
   "outputs": [
    {
     "data": {
      "text/plain": [
       "[RandomForestRegressor(n_jobs=-1, random_state=124),\n",
       " ExtraTreesRegressor(n_jobs=-1, random_state=124),\n",
       " LGBMRegressor(n_jobs=-1, random_state=124),\n",
       " AdaBoostRegressor(random_state=124),\n",
       " GradientBoostingRegressor(random_state=124)]"
      ]
     },
     "execution_count": 19,
     "metadata": {},
     "output_type": "execute_result"
    }
   ],
   "source": [
    "best_model"
   ]
  },
  {
   "cell_type": "markdown",
   "metadata": {},
   "source": [
    "## Create Model\n",
    "#### This function trains and evaluates the performance of a given estimator using cross validation. The output of this function is a score grid with CV scores by fold. Metrics evaluated during CV can be accessed using the get_metrics function. Custom metrics can be added or removed using add_metric and remove_metric function. All the available models can be accessed using the models function."
   ]
  },
  {
   "cell_type": "code",
   "execution_count": null,
   "metadata": {},
   "outputs": [
    {
     "data": {
      "text/html": [
       "<div>\n",
       "<style scoped>\n",
       "    .dataframe tbody tr th:only-of-type {\n",
       "        vertical-align: middle;\n",
       "    }\n",
       "\n",
       "    .dataframe tbody tr th {\n",
       "        vertical-align: top;\n",
       "    }\n",
       "\n",
       "    .dataframe thead th {\n",
       "        text-align: right;\n",
       "    }\n",
       "</style>\n",
       "<table border=\"1\" class=\"dataframe\">\n",
       "  <thead>\n",
       "    <tr style=\"text-align: right;\">\n",
       "      <th></th>\n",
       "      <th></th>\n",
       "      <th></th>\n",
       "    </tr>\n",
       "    <tr>\n",
       "      <th></th>\n",
       "      <th></th>\n",
       "      <th></th>\n",
       "    </tr>\n",
       "  </thead>\n",
       "  <tbody>\n",
       "    <tr>\n",
       "      <th>Initiated</th>\n",
       "      <td>. . . . . . . . . . . . . . . . . .</td>\n",
       "      <td>09:25:56</td>\n",
       "    </tr>\n",
       "    <tr>\n",
       "      <th>Status</th>\n",
       "      <td>. . . . . . . . . . . . . . . . . .</td>\n",
       "      <td>Loading Dependencies</td>\n",
       "    </tr>\n",
       "    <tr>\n",
       "      <th>Estimator</th>\n",
       "      <td>. . . . . . . . . . . . . . . . . .</td>\n",
       "      <td>Compiling Library</td>\n",
       "    </tr>\n",
       "  </tbody>\n",
       "</table>\n",
       "</div>"
      ],
      "text/plain": [
       "                                                                    \n",
       "                                                                    \n",
       "Initiated  . . . . . . . . . . . . . . . . . .              09:25:56\n",
       "Status     . . . . . . . . . . . . . . . . . .  Loading Dependencies\n",
       "Estimator  . . . . . . . . . . . . . . . . . .     Compiling Library"
      ]
     },
     "metadata": {},
     "output_type": "display_data"
    },
    {
     "data": {
      "text/html": [
       "<style type=\"text/css\">\n",
       "#T_4a5fd_row10_col0, #T_4a5fd_row10_col1, #T_4a5fd_row10_col2, #T_4a5fd_row10_col3, #T_4a5fd_row10_col4, #T_4a5fd_row10_col5 {\n",
       "  background: yellow;\n",
       "}\n",
       "</style>\n",
       "<table id=\"T_4a5fd\">\n",
       "  <thead>\n",
       "    <tr>\n",
       "      <th class=\"blank level0\" >&nbsp;</th>\n",
       "      <th id=\"T_4a5fd_level0_col0\" class=\"col_heading level0 col0\" >MAE</th>\n",
       "      <th id=\"T_4a5fd_level0_col1\" class=\"col_heading level0 col1\" >MSE</th>\n",
       "      <th id=\"T_4a5fd_level0_col2\" class=\"col_heading level0 col2\" >RMSE</th>\n",
       "      <th id=\"T_4a5fd_level0_col3\" class=\"col_heading level0 col3\" >R2</th>\n",
       "      <th id=\"T_4a5fd_level0_col4\" class=\"col_heading level0 col4\" >RMSLE</th>\n",
       "      <th id=\"T_4a5fd_level0_col5\" class=\"col_heading level0 col5\" >MAPE</th>\n",
       "    </tr>\n",
       "    <tr>\n",
       "      <th class=\"index_name level0\" >Fold</th>\n",
       "      <th class=\"blank col0\" >&nbsp;</th>\n",
       "      <th class=\"blank col1\" >&nbsp;</th>\n",
       "      <th class=\"blank col2\" >&nbsp;</th>\n",
       "      <th class=\"blank col3\" >&nbsp;</th>\n",
       "      <th class=\"blank col4\" >&nbsp;</th>\n",
       "      <th class=\"blank col5\" >&nbsp;</th>\n",
       "    </tr>\n",
       "  </thead>\n",
       "  <tbody>\n",
       "    <tr>\n",
       "      <th id=\"T_4a5fd_level0_row0\" class=\"row_heading level0 row0\" >0</th>\n",
       "      <td id=\"T_4a5fd_row0_col0\" class=\"data row0 col0\" >4.7141</td>\n",
       "      <td id=\"T_4a5fd_row0_col1\" class=\"data row0 col1\" >48.8366</td>\n",
       "      <td id=\"T_4a5fd_row0_col2\" class=\"data row0 col2\" >6.9883</td>\n",
       "      <td id=\"T_4a5fd_row0_col3\" class=\"data row0 col3\" >0.9917</td>\n",
       "      <td id=\"T_4a5fd_row0_col4\" class=\"data row0 col4\" >0.0476</td>\n",
       "      <td id=\"T_4a5fd_row0_col5\" class=\"data row0 col5\" >0.0401</td>\n",
       "    </tr>\n",
       "    <tr>\n",
       "      <th id=\"T_4a5fd_level0_row1\" class=\"row_heading level0 row1\" >1</th>\n",
       "      <td id=\"T_4a5fd_row1_col0\" class=\"data row1 col0\" >6.0541</td>\n",
       "      <td id=\"T_4a5fd_row1_col1\" class=\"data row1 col1\" >86.3846</td>\n",
       "      <td id=\"T_4a5fd_row1_col2\" class=\"data row1 col2\" >9.2943</td>\n",
       "      <td id=\"T_4a5fd_row1_col3\" class=\"data row1 col3\" >0.9843</td>\n",
       "      <td id=\"T_4a5fd_row1_col4\" class=\"data row1 col4\" >0.0580</td>\n",
       "      <td id=\"T_4a5fd_row1_col5\" class=\"data row1 col5\" >0.0457</td>\n",
       "    </tr>\n",
       "    <tr>\n",
       "      <th id=\"T_4a5fd_level0_row2\" class=\"row_heading level0 row2\" >2</th>\n",
       "      <td id=\"T_4a5fd_row2_col0\" class=\"data row2 col0\" >7.2716</td>\n",
       "      <td id=\"T_4a5fd_row2_col1\" class=\"data row2 col1\" >120.0062</td>\n",
       "      <td id=\"T_4a5fd_row2_col2\" class=\"data row2 col2\" >10.9547</td>\n",
       "      <td id=\"T_4a5fd_row2_col3\" class=\"data row2 col3\" >0.9781</td>\n",
       "      <td id=\"T_4a5fd_row2_col4\" class=\"data row2 col4\" >0.0682</td>\n",
       "      <td id=\"T_4a5fd_row2_col5\" class=\"data row2 col5\" >0.0531</td>\n",
       "    </tr>\n",
       "    <tr>\n",
       "      <th id=\"T_4a5fd_level0_row3\" class=\"row_heading level0 row3\" >3</th>\n",
       "      <td id=\"T_4a5fd_row3_col0\" class=\"data row3 col0\" >7.9549</td>\n",
       "      <td id=\"T_4a5fd_row3_col1\" class=\"data row3 col1\" >186.6968</td>\n",
       "      <td id=\"T_4a5fd_row3_col2\" class=\"data row3 col2\" >13.6637</td>\n",
       "      <td id=\"T_4a5fd_row3_col3\" class=\"data row3 col3\" >0.9743</td>\n",
       "      <td id=\"T_4a5fd_row3_col4\" class=\"data row3 col4\" >0.0661</td>\n",
       "      <td id=\"T_4a5fd_row3_col5\" class=\"data row3 col5\" >0.0465</td>\n",
       "    </tr>\n",
       "    <tr>\n",
       "      <th id=\"T_4a5fd_level0_row4\" class=\"row_heading level0 row4\" >4</th>\n",
       "      <td id=\"T_4a5fd_row4_col0\" class=\"data row4 col0\" >4.7031</td>\n",
       "      <td id=\"T_4a5fd_row4_col1\" class=\"data row4 col1\" >41.6836</td>\n",
       "      <td id=\"T_4a5fd_row4_col2\" class=\"data row4 col2\" >6.4563</td>\n",
       "      <td id=\"T_4a5fd_row4_col3\" class=\"data row4 col3\" >0.9909</td>\n",
       "      <td id=\"T_4a5fd_row4_col4\" class=\"data row4 col4\" >0.0597</td>\n",
       "      <td id=\"T_4a5fd_row4_col5\" class=\"data row4 col5\" >0.0477</td>\n",
       "    </tr>\n",
       "    <tr>\n",
       "      <th id=\"T_4a5fd_level0_row5\" class=\"row_heading level0 row5\" >5</th>\n",
       "      <td id=\"T_4a5fd_row5_col0\" class=\"data row5 col0\" >6.9701</td>\n",
       "      <td id=\"T_4a5fd_row5_col1\" class=\"data row5 col1\" >118.8006</td>\n",
       "      <td id=\"T_4a5fd_row5_col2\" class=\"data row5 col2\" >10.8996</td>\n",
       "      <td id=\"T_4a5fd_row5_col3\" class=\"data row5 col3\" >0.9791</td>\n",
       "      <td id=\"T_4a5fd_row5_col4\" class=\"data row5 col4\" >0.0639</td>\n",
       "      <td id=\"T_4a5fd_row5_col5\" class=\"data row5 col5\" >0.0511</td>\n",
       "    </tr>\n",
       "    <tr>\n",
       "      <th id=\"T_4a5fd_level0_row6\" class=\"row_heading level0 row6\" >6</th>\n",
       "      <td id=\"T_4a5fd_row6_col0\" class=\"data row6 col0\" >6.3011</td>\n",
       "      <td id=\"T_4a5fd_row6_col1\" class=\"data row6 col1\" >79.4235</td>\n",
       "      <td id=\"T_4a5fd_row6_col2\" class=\"data row6 col2\" >8.9120</td>\n",
       "      <td id=\"T_4a5fd_row6_col3\" class=\"data row6 col3\" >0.9843</td>\n",
       "      <td id=\"T_4a5fd_row6_col4\" class=\"data row6 col4\" >0.0751</td>\n",
       "      <td id=\"T_4a5fd_row6_col5\" class=\"data row6 col5\" >0.0582</td>\n",
       "    </tr>\n",
       "    <tr>\n",
       "      <th id=\"T_4a5fd_level0_row7\" class=\"row_heading level0 row7\" >7</th>\n",
       "      <td id=\"T_4a5fd_row7_col0\" class=\"data row7 col0\" >6.9448</td>\n",
       "      <td id=\"T_4a5fd_row7_col1\" class=\"data row7 col1\" >103.5357</td>\n",
       "      <td id=\"T_4a5fd_row7_col2\" class=\"data row7 col2\" >10.1752</td>\n",
       "      <td id=\"T_4a5fd_row7_col3\" class=\"data row7 col3\" >0.9836</td>\n",
       "      <td id=\"T_4a5fd_row7_col4\" class=\"data row7 col4\" >0.0614</td>\n",
       "      <td id=\"T_4a5fd_row7_col5\" class=\"data row7 col5\" >0.0548</td>\n",
       "    </tr>\n",
       "    <tr>\n",
       "      <th id=\"T_4a5fd_level0_row8\" class=\"row_heading level0 row8\" >8</th>\n",
       "      <td id=\"T_4a5fd_row8_col0\" class=\"data row8 col0\" >6.9747</td>\n",
       "      <td id=\"T_4a5fd_row8_col1\" class=\"data row8 col1\" >89.5843</td>\n",
       "      <td id=\"T_4a5fd_row8_col2\" class=\"data row8 col2\" >9.4649</td>\n",
       "      <td id=\"T_4a5fd_row8_col3\" class=\"data row8 col3\" >0.9817</td>\n",
       "      <td id=\"T_4a5fd_row8_col4\" class=\"data row8 col4\" >0.0654</td>\n",
       "      <td id=\"T_4a5fd_row8_col5\" class=\"data row8 col5\" >0.0583</td>\n",
       "    </tr>\n",
       "    <tr>\n",
       "      <th id=\"T_4a5fd_level0_row9\" class=\"row_heading level0 row9\" >9</th>\n",
       "      <td id=\"T_4a5fd_row9_col0\" class=\"data row9 col0\" >7.6602</td>\n",
       "      <td id=\"T_4a5fd_row9_col1\" class=\"data row9 col1\" >117.8265</td>\n",
       "      <td id=\"T_4a5fd_row9_col2\" class=\"data row9 col2\" >10.8548</td>\n",
       "      <td id=\"T_4a5fd_row9_col3\" class=\"data row9 col3\" >0.9805</td>\n",
       "      <td id=\"T_4a5fd_row9_col4\" class=\"data row9 col4\" >0.0646</td>\n",
       "      <td id=\"T_4a5fd_row9_col5\" class=\"data row9 col5\" >0.0527</td>\n",
       "    </tr>\n",
       "    <tr>\n",
       "      <th id=\"T_4a5fd_level0_row10\" class=\"row_heading level0 row10\" >Mean</th>\n",
       "      <td id=\"T_4a5fd_row10_col0\" class=\"data row10 col0\" >6.5549</td>\n",
       "      <td id=\"T_4a5fd_row10_col1\" class=\"data row10 col1\" >99.2779</td>\n",
       "      <td id=\"T_4a5fd_row10_col2\" class=\"data row10 col2\" >9.7664</td>\n",
       "      <td id=\"T_4a5fd_row10_col3\" class=\"data row10 col3\" >0.9829</td>\n",
       "      <td id=\"T_4a5fd_row10_col4\" class=\"data row10 col4\" >0.0630</td>\n",
       "      <td id=\"T_4a5fd_row10_col5\" class=\"data row10 col5\" >0.0508</td>\n",
       "    </tr>\n",
       "    <tr>\n",
       "      <th id=\"T_4a5fd_level0_row11\" class=\"row_heading level0 row11\" >Std</th>\n",
       "      <td id=\"T_4a5fd_row11_col0\" class=\"data row11 col0\" >1.0644</td>\n",
       "      <td id=\"T_4a5fd_row11_col1\" class=\"data row11 col1\" >39.1547</td>\n",
       "      <td id=\"T_4a5fd_row11_col2\" class=\"data row11 col2\" >1.9737</td>\n",
       "      <td id=\"T_4a5fd_row11_col3\" class=\"data row11 col3\" >0.0051</td>\n",
       "      <td id=\"T_4a5fd_row11_col4\" class=\"data row11 col4\" >0.0068</td>\n",
       "      <td id=\"T_4a5fd_row11_col5\" class=\"data row11 col5\" >0.0055</td>\n",
       "    </tr>\n",
       "  </tbody>\n",
       "</table>\n"
      ],
      "text/plain": [
       "<pandas.io.formats.style.Styler at 0x222b1581cc0>"
      ]
     },
     "metadata": {},
     "output_type": "display_data"
    },
    {
     "data": {
      "text/html": [],
      "text/plain": [
       "<IPython.core.display.HTML object>"
      ]
     },
     "metadata": {},
     "output_type": "display_data"
    }
   ],
   "source": [
    "rf = exp1.create_model('rf')"
   ]
  },
  {
   "cell_type": "code",
   "execution_count": null,
   "metadata": {},
   "outputs": [
    {
     "data": {
      "text/html": [],
      "text/plain": [
       "<IPython.core.display.HTML object>"
      ]
     },
     "metadata": {},
     "output_type": "display_data"
    },
    {
     "data": {
      "image/png": "[encoded data removed]",
      "text/plain": [
       "<Figure size 800x550 with 1 Axes>"
      ]
     },
     "metadata": {},
     "output_type": "display_data"
    }
   ],
   "source": [
    "#plot_model(et, plot = 'residuals')\n",
    "plot_model(rf, plot = 'error')\n",
    "#plot_model(et, plot = 'feature')"
   ]
  },
  {
   "cell_type": "code",
   "execution_count": null,
   "metadata": {},
   "outputs": [
    {
     "data": {
      "text/html": [],
      "text/plain": [
       "<IPython.core.display.HTML object>"
      ]
     },
     "metadata": {},
     "output_type": "display_data"
    },
    {
     "data": {
      "image/png": "[encoded data removed]",
      "text/plain": [
       "<Figure size 800x550 with 1 Axes>"
      ]
     },
     "metadata": {},
     "output_type": "display_data"
    }
   ],
   "source": [
    "plot_model(rf, plot = 'learning')"
   ]
  },
  {
   "cell_type": "code",
   "execution_count": null,
   "metadata": {},
   "outputs": [
    {
     "data": {
      "text/html": [],
      "text/plain": [
       "<IPython.core.display.HTML object>"
      ]
     },
     "metadata": {},
     "output_type": "display_data"
    },
    {
     "data": {
      "image/png": "[encoded data removed]",
      "text/plain": [
       "<Figure size 800x550 with 2 Axes>"
      ]
     },
     "metadata": {},
     "output_type": "display_data"
    }
   ],
   "source": [
    "exp1.plot_model(rf, plot = 'manifold')"
   ]
  },
  {
   "cell_type": "markdown",
   "metadata": {},
   "source": [
    "## Blend an d sTacking if it is necessary!"
   ]
  },
  {
   "cell_type": "code",
   "execution_count": null,
   "metadata": {},
   "outputs": [
    {
     "data": {
      "text/html": [
       "<style type=\"text/css\">\n",
       "</style>\n",
       "<table id=\"T_f36cc\">\n",
       "  <thead>\n",
       "    <tr>\n",
       "      <th class=\"blank level0\" >&nbsp;</th>\n",
       "      <th id=\"T_f36cc_level0_col0\" class=\"col_heading level0 col0\" >Model</th>\n",
       "      <th id=\"T_f36cc_level0_col1\" class=\"col_heading level0 col1\" >MAE</th>\n",
       "      <th id=\"T_f36cc_level0_col2\" class=\"col_heading level0 col2\" >MSE</th>\n",
       "      <th id=\"T_f36cc_level0_col3\" class=\"col_heading level0 col3\" >RMSE</th>\n",
       "      <th id=\"T_f36cc_level0_col4\" class=\"col_heading level0 col4\" >R2</th>\n",
       "      <th id=\"T_f36cc_level0_col5\" class=\"col_heading level0 col5\" >RMSLE</th>\n",
       "      <th id=\"T_f36cc_level0_col6\" class=\"col_heading level0 col6\" >MAPE</th>\n",
       "    </tr>\n",
       "  </thead>\n",
       "  <tbody>\n",
       "    <tr>\n",
       "      <th id=\"T_f36cc_level0_row0\" class=\"row_heading level0 row0\" >0</th>\n",
       "      <td id=\"T_f36cc_row0_col0\" class=\"data row0 col0\" >Random Forest Regressor</td>\n",
       "      <td id=\"T_f36cc_row0_col1\" class=\"data row0 col1\" >5.8473</td>\n",
       "      <td id=\"T_f36cc_row0_col2\" class=\"data row0 col2\" >62.5293</td>\n",
       "      <td id=\"T_f36cc_row0_col3\" class=\"data row0 col3\" >7.9075</td>\n",
       "      <td id=\"T_f36cc_row0_col4\" class=\"data row0 col4\" >0.9862</td>\n",
       "      <td id=\"T_f36cc_row0_col5\" class=\"data row0 col5\" >0.0572</td>\n",
       "      <td id=\"T_f36cc_row0_col6\" class=\"data row0 col6\" >0.0494</td>\n",
       "    </tr>\n",
       "  </tbody>\n",
       "</table>\n"
      ],
      "text/plain": [
       "<pandas.io.formats.style.Styler at 0x222b20441c0>"
      ]
     },
     "metadata": {},
     "output_type": "display_data"
    }
   ],
   "source": [
    "holdout_pred = exp1.predict_model(rf)\n",
    "#holdout_pred.tail(5) # for the last  5 lines "
   ]
  },
  {
   "cell_type": "code",
   "execution_count": null,
   "metadata": {},
   "outputs": [
    {
     "data": {
      "text/html": [
       "<style type=\"text/css\">\n",
       "</style>\n",
       "<table id=\"T_2cddb\">\n",
       "  <thead>\n",
       "    <tr>\n",
       "      <th class=\"blank level0\" >&nbsp;</th>\n",
       "      <th id=\"T_2cddb_level0_col0\" class=\"col_heading level0 col0\" >Model</th>\n",
       "      <th id=\"T_2cddb_level0_col1\" class=\"col_heading level0 col1\" >MAE</th>\n",
       "      <th id=\"T_2cddb_level0_col2\" class=\"col_heading level0 col2\" >MSE</th>\n",
       "      <th id=\"T_2cddb_level0_col3\" class=\"col_heading level0 col3\" >RMSE</th>\n",
       "      <th id=\"T_2cddb_level0_col4\" class=\"col_heading level0 col4\" >R2</th>\n",
       "      <th id=\"T_2cddb_level0_col5\" class=\"col_heading level0 col5\" >RMSLE</th>\n",
       "      <th id=\"T_2cddb_level0_col6\" class=\"col_heading level0 col6\" >MAPE</th>\n",
       "    </tr>\n",
       "  </thead>\n",
       "  <tbody>\n",
       "    <tr>\n",
       "      <th id=\"T_2cddb_level0_row0\" class=\"row_heading level0 row0\" >0</th>\n",
       "      <td id=\"T_2cddb_row0_col0\" class=\"data row0 col0\" >Random Forest Regressor</td>\n",
       "      <td id=\"T_2cddb_row0_col1\" class=\"data row0 col1\" >5.1912</td>\n",
       "      <td id=\"T_2cddb_row0_col2\" class=\"data row0 col2\" >80.9981</td>\n",
       "      <td id=\"T_2cddb_row0_col3\" class=\"data row0 col3\" >8.9999</td>\n",
       "      <td id=\"T_2cddb_row0_col4\" class=\"data row0 col4\" >0.9822</td>\n",
       "      <td id=\"T_2cddb_row0_col5\" class=\"data row0 col5\" >0.0600</td>\n",
       "      <td id=\"T_2cddb_row0_col6\" class=\"data row0 col6\" >0.0499</td>\n",
       "    </tr>\n",
       "  </tbody>\n",
       "</table>\n"
      ],
      "text/plain": [
       "<pandas.io.formats.style.Styler at 0x222b22ad000>"
      ]
     },
     "metadata": {},
     "output_type": "display_data"
    },
    {
     "data": {
      "text/html": [
       "<div>\n",
       "<style scoped>\n",
       "    .dataframe tbody tr th:only-of-type {\n",
       "        vertical-align: middle;\n",
       "    }\n",
       "\n",
       "    .dataframe tbody tr th {\n",
       "        vertical-align: top;\n",
       "    }\n",
       "\n",
       "    .dataframe thead th {\n",
       "        text-align: right;\n",
       "    }\n",
       "</style>\n",
       "<table border=\"1\" class=\"dataframe\">\n",
       "  <thead>\n",
       "    <tr style=\"text-align: right;\">\n",
       "      <th></th>\n",
       "      <th>comprimento_Total</th>\n",
       "      <th>comprimento_Padrao</th>\n",
       "      <th>comprimento_Cabeca</th>\n",
       "      <th>altura</th>\n",
       "      <th>espessura</th>\n",
       "      <th>peso</th>\n",
       "      <th>prediction_label</th>\n",
       "    </tr>\n",
       "  </thead>\n",
       "  <tbody>\n",
       "    <tr>\n",
       "      <th>0</th>\n",
       "      <td>12.7</td>\n",
       "      <td>10.8</td>\n",
       "      <td>3.3</td>\n",
       "      <td>3.7</td>\n",
       "      <td>1.6</td>\n",
       "      <td>37.130001</td>\n",
       "      <td>37.727100</td>\n",
       "    </tr>\n",
       "    <tr>\n",
       "      <th>1</th>\n",
       "      <td>13.0</td>\n",
       "      <td>11.0</td>\n",
       "      <td>3.3</td>\n",
       "      <td>4.2</td>\n",
       "      <td>1.8</td>\n",
       "      <td>46.599998</td>\n",
       "      <td>43.038401</td>\n",
       "    </tr>\n",
       "    <tr>\n",
       "      <th>2</th>\n",
       "      <td>12.2</td>\n",
       "      <td>10.3</td>\n",
       "      <td>3.1</td>\n",
       "      <td>3.6</td>\n",
       "      <td>1.6</td>\n",
       "      <td>33.959999</td>\n",
       "      <td>32.723100</td>\n",
       "    </tr>\n",
       "    <tr>\n",
       "      <th>3</th>\n",
       "      <td>13.4</td>\n",
       "      <td>11.2</td>\n",
       "      <td>3.3</td>\n",
       "      <td>4.0</td>\n",
       "      <td>1.8</td>\n",
       "      <td>43.389999</td>\n",
       "      <td>44.424900</td>\n",
       "    </tr>\n",
       "    <tr>\n",
       "      <th>4</th>\n",
       "      <td>12.7</td>\n",
       "      <td>10.9</td>\n",
       "      <td>3.2</td>\n",
       "      <td>3.6</td>\n",
       "      <td>1.6</td>\n",
       "      <td>36.990002</td>\n",
       "      <td>39.155700</td>\n",
       "    </tr>\n",
       "  </tbody>\n",
       "</table>\n",
       "</div>"
      ],
      "text/plain": [
       "   comprimento_Total  comprimento_Padrao  comprimento_Cabeca  altura  \\\n",
       "0               12.7                10.8                 3.3     3.7   \n",
       "1               13.0                11.0                 3.3     4.2   \n",
       "2               12.2                10.3                 3.1     3.6   \n",
       "3               13.4                11.2                 3.3     4.0   \n",
       "4               12.7                10.9                 3.2     3.6   \n",
       "\n",
       "   espessura       peso  prediction_label  \n",
       "0        1.6  37.130001         37.727100  \n",
       "1        1.8  46.599998         43.038401  \n",
       "2        1.6  33.959999         32.723100  \n",
       "3        1.8  43.389999         44.424900  \n",
       "4        1.6  36.990002         39.155700  "
      ]
     },
     "execution_count": 25,
     "metadata": {},
     "output_type": "execute_result"
    }
   ],
   "source": [
    "unseen_predictions = exp1.predict_model(rf, data=data_unseen)\n",
    "unseen_predictions.head(5) # first five lines"
   ]
  },
  {
   "cell_type": "markdown",
   "metadata": {},
   "source": [
    "## Tune model\n",
    "#### This function tunes the hyperparameters of a given estimator. The output of this function is a score grid with CV scores by fold of the best selected model based on optimize parameter. Metrics evaluated during CV can be accessed using the get_metrics function. Custom metrics can be added or removed using add_metric and remove_metric function."
   ]
  },
  {
   "cell_type": "code",
   "execution_count": null,
   "metadata": {},
   "outputs": [
    {
     "data": {
      "text/html": [],
      "text/plain": [
       "<IPython.core.display.HTML object>"
      ]
     },
     "metadata": {},
     "output_type": "display_data"
    },
    {
     "data": {
      "text/html": [
       "<style type=\"text/css\">\n",
       "#T_c7a5c_row10_col0, #T_c7a5c_row10_col1, #T_c7a5c_row10_col2, #T_c7a5c_row10_col3, #T_c7a5c_row10_col4, #T_c7a5c_row10_col5 {\n",
       "  background: yellow;\n",
       "}\n",
       "</style>\n",
       "<table id=\"T_c7a5c\">\n",
       "  <thead>\n",
       "    <tr>\n",
       "      <th class=\"blank level0\" >&nbsp;</th>\n",
       "      <th id=\"T_c7a5c_level0_col0\" class=\"col_heading level0 col0\" >MAE</th>\n",
       "      <th id=\"T_c7a5c_level0_col1\" class=\"col_heading level0 col1\" >MSE</th>\n",
       "      <th id=\"T_c7a5c_level0_col2\" class=\"col_heading level0 col2\" >RMSE</th>\n",
       "      <th id=\"T_c7a5c_level0_col3\" class=\"col_heading level0 col3\" >R2</th>\n",
       "      <th id=\"T_c7a5c_level0_col4\" class=\"col_heading level0 col4\" >RMSLE</th>\n",
       "      <th id=\"T_c7a5c_level0_col5\" class=\"col_heading level0 col5\" >MAPE</th>\n",
       "    </tr>\n",
       "    <tr>\n",
       "      <th class=\"index_name level0\" >Fold</th>\n",
       "      <th class=\"blank col0\" >&nbsp;</th>\n",
       "      <th class=\"blank col1\" >&nbsp;</th>\n",
       "      <th class=\"blank col2\" >&nbsp;</th>\n",
       "      <th class=\"blank col3\" >&nbsp;</th>\n",
       "      <th class=\"blank col4\" >&nbsp;</th>\n",
       "      <th class=\"blank col5\" >&nbsp;</th>\n",
       "    </tr>\n",
       "  </thead>\n",
       "  <tbody>\n",
       "    <tr>\n",
       "      <th id=\"T_c7a5c_level0_row0\" class=\"row_heading level0 row0\" >0</th>\n",
       "      <td id=\"T_c7a5c_row0_col0\" class=\"data row0 col0\" >4.4030</td>\n",
       "      <td id=\"T_c7a5c_row0_col1\" class=\"data row0 col1\" >47.9526</td>\n",
       "      <td id=\"T_c7a5c_row0_col2\" class=\"data row0 col2\" >6.9248</td>\n",
       "      <td id=\"T_c7a5c_row0_col3\" class=\"data row0 col3\" >0.9919</td>\n",
       "      <td id=\"T_c7a5c_row0_col4\" class=\"data row0 col4\" >0.0473</td>\n",
       "      <td id=\"T_c7a5c_row0_col5\" class=\"data row0 col5\" >0.0383</td>\n",
       "    </tr>\n",
       "    <tr>\n",
       "      <th id=\"T_c7a5c_level0_row1\" class=\"row_heading level0 row1\" >1</th>\n",
       "      <td id=\"T_c7a5c_row1_col0\" class=\"data row1 col0\" >5.6951</td>\n",
       "      <td id=\"T_c7a5c_row1_col1\" class=\"data row1 col1\" >71.8295</td>\n",
       "      <td id=\"T_c7a5c_row1_col2\" class=\"data row1 col2\" >8.4752</td>\n",
       "      <td id=\"T_c7a5c_row1_col3\" class=\"data row1 col3\" >0.9870</td>\n",
       "      <td id=\"T_c7a5c_row1_col4\" class=\"data row1 col4\" >0.0569</td>\n",
       "      <td id=\"T_c7a5c_row1_col5\" class=\"data row1 col5\" >0.0454</td>\n",
       "    </tr>\n",
       "    <tr>\n",
       "      <th id=\"T_c7a5c_level0_row2\" class=\"row_heading level0 row2\" >2</th>\n",
       "      <td id=\"T_c7a5c_row2_col0\" class=\"data row2 col0\" >7.2476</td>\n",
       "      <td id=\"T_c7a5c_row2_col1\" class=\"data row2 col1\" >120.8787</td>\n",
       "      <td id=\"T_c7a5c_row2_col2\" class=\"data row2 col2\" >10.9945</td>\n",
       "      <td id=\"T_c7a5c_row2_col3\" class=\"data row2 col3\" >0.9780</td>\n",
       "      <td id=\"T_c7a5c_row2_col4\" class=\"data row2 col4\" >0.0676</td>\n",
       "      <td id=\"T_c7a5c_row2_col5\" class=\"data row2 col5\" >0.0515</td>\n",
       "    </tr>\n",
       "    <tr>\n",
       "      <th id=\"T_c7a5c_level0_row3\" class=\"row_heading level0 row3\" >3</th>\n",
       "      <td id=\"T_c7a5c_row3_col0\" class=\"data row3 col0\" >7.9574</td>\n",
       "      <td id=\"T_c7a5c_row3_col1\" class=\"data row3 col1\" >169.6305</td>\n",
       "      <td id=\"T_c7a5c_row3_col2\" class=\"data row3 col2\" >13.0242</td>\n",
       "      <td id=\"T_c7a5c_row3_col3\" class=\"data row3 col3\" >0.9767</td>\n",
       "      <td id=\"T_c7a5c_row3_col4\" class=\"data row3 col4\" >0.0661</td>\n",
       "      <td id=\"T_c7a5c_row3_col5\" class=\"data row3 col5\" >0.0484</td>\n",
       "    </tr>\n",
       "    <tr>\n",
       "      <th id=\"T_c7a5c_level0_row4\" class=\"row_heading level0 row4\" >4</th>\n",
       "      <td id=\"T_c7a5c_row4_col0\" class=\"data row4 col0\" >4.6793</td>\n",
       "      <td id=\"T_c7a5c_row4_col1\" class=\"data row4 col1\" >40.8606</td>\n",
       "      <td id=\"T_c7a5c_row4_col2\" class=\"data row4 col2\" >6.3922</td>\n",
       "      <td id=\"T_c7a5c_row4_col3\" class=\"data row4 col3\" >0.9911</td>\n",
       "      <td id=\"T_c7a5c_row4_col4\" class=\"data row4 col4\" >0.0621</td>\n",
       "      <td id=\"T_c7a5c_row4_col5\" class=\"data row4 col5\" >0.0484</td>\n",
       "    </tr>\n",
       "    <tr>\n",
       "      <th id=\"T_c7a5c_level0_row5\" class=\"row_heading level0 row5\" >5</th>\n",
       "      <td id=\"T_c7a5c_row5_col0\" class=\"data row5 col0\" >6.1830</td>\n",
       "      <td id=\"T_c7a5c_row5_col1\" class=\"data row5 col1\" >92.7286</td>\n",
       "      <td id=\"T_c7a5c_row5_col2\" class=\"data row5 col2\" >9.6296</td>\n",
       "      <td id=\"T_c7a5c_row5_col3\" class=\"data row5 col3\" >0.9837</td>\n",
       "      <td id=\"T_c7a5c_row5_col4\" class=\"data row5 col4\" >0.0585</td>\n",
       "      <td id=\"T_c7a5c_row5_col5\" class=\"data row5 col5\" >0.0474</td>\n",
       "    </tr>\n",
       "    <tr>\n",
       "      <th id=\"T_c7a5c_level0_row6\" class=\"row_heading level0 row6\" >6</th>\n",
       "      <td id=\"T_c7a5c_row6_col0\" class=\"data row6 col0\" >6.7040</td>\n",
       "      <td id=\"T_c7a5c_row6_col1\" class=\"data row6 col1\" >91.7068</td>\n",
       "      <td id=\"T_c7a5c_row6_col2\" class=\"data row6 col2\" >9.5764</td>\n",
       "      <td id=\"T_c7a5c_row6_col3\" class=\"data row6 col3\" >0.9819</td>\n",
       "      <td id=\"T_c7a5c_row6_col4\" class=\"data row6 col4\" >0.0793</td>\n",
       "      <td id=\"T_c7a5c_row6_col5\" class=\"data row6 col5\" >0.0598</td>\n",
       "    </tr>\n",
       "    <tr>\n",
       "      <th id=\"T_c7a5c_level0_row7\" class=\"row_heading level0 row7\" >7</th>\n",
       "      <td id=\"T_c7a5c_row7_col0\" class=\"data row7 col0\" >6.2941</td>\n",
       "      <td id=\"T_c7a5c_row7_col1\" class=\"data row7 col1\" >88.2909</td>\n",
       "      <td id=\"T_c7a5c_row7_col2\" class=\"data row7 col2\" >9.3963</td>\n",
       "      <td id=\"T_c7a5c_row7_col3\" class=\"data row7 col3\" >0.9860</td>\n",
       "      <td id=\"T_c7a5c_row7_col4\" class=\"data row7 col4\" >0.0600</td>\n",
       "      <td id=\"T_c7a5c_row7_col5\" class=\"data row7 col5\" >0.0515</td>\n",
       "    </tr>\n",
       "    <tr>\n",
       "      <th id=\"T_c7a5c_level0_row8\" class=\"row_heading level0 row8\" >8</th>\n",
       "      <td id=\"T_c7a5c_row8_col0\" class=\"data row8 col0\" >6.7600</td>\n",
       "      <td id=\"T_c7a5c_row8_col1\" class=\"data row8 col1\" >89.8118</td>\n",
       "      <td id=\"T_c7a5c_row8_col2\" class=\"data row8 col2\" >9.4769</td>\n",
       "      <td id=\"T_c7a5c_row8_col3\" class=\"data row8 col3\" >0.9817</td>\n",
       "      <td id=\"T_c7a5c_row8_col4\" class=\"data row8 col4\" >0.0625</td>\n",
       "      <td id=\"T_c7a5c_row8_col5\" class=\"data row8 col5\" >0.0558</td>\n",
       "    </tr>\n",
       "    <tr>\n",
       "      <th id=\"T_c7a5c_level0_row9\" class=\"row_heading level0 row9\" >9</th>\n",
       "      <td id=\"T_c7a5c_row9_col0\" class=\"data row9 col0\" >7.3591</td>\n",
       "      <td id=\"T_c7a5c_row9_col1\" class=\"data row9 col1\" >104.5458</td>\n",
       "      <td id=\"T_c7a5c_row9_col2\" class=\"data row9 col2\" >10.2248</td>\n",
       "      <td id=\"T_c7a5c_row9_col3\" class=\"data row9 col3\" >0.9827</td>\n",
       "      <td id=\"T_c7a5c_row9_col4\" class=\"data row9 col4\" >0.0638</td>\n",
       "      <td id=\"T_c7a5c_row9_col5\" class=\"data row9 col5\" >0.0535</td>\n",
       "    </tr>\n",
       "    <tr>\n",
       "      <th id=\"T_c7a5c_level0_row10\" class=\"row_heading level0 row10\" >Mean</th>\n",
       "      <td id=\"T_c7a5c_row10_col0\" class=\"data row10 col0\" >6.3282</td>\n",
       "      <td id=\"T_c7a5c_row10_col1\" class=\"data row10 col1\" >91.8236</td>\n",
       "      <td id=\"T_c7a5c_row10_col2\" class=\"data row10 col2\" >9.4115</td>\n",
       "      <td id=\"T_c7a5c_row10_col3\" class=\"data row10 col3\" >0.9841</td>\n",
       "      <td id=\"T_c7a5c_row10_col4\" class=\"data row10 col4\" >0.0624</td>\n",
       "      <td id=\"T_c7a5c_row10_col5\" class=\"data row10 col5\" >0.0500</td>\n",
       "    </tr>\n",
       "    <tr>\n",
       "      <th id=\"T_c7a5c_level0_row11\" class=\"row_heading level0 row11\" >Std</th>\n",
       "      <td id=\"T_c7a5c_row11_col0\" class=\"data row11 col0\" >1.0834</td>\n",
       "      <td id=\"T_c7a5c_row11_col1\" class=\"data row11 col1\" >34.6396</td>\n",
       "      <td id=\"T_c7a5c_row11_col2\" class=\"data row11 col2\" >1.8021</td>\n",
       "      <td id=\"T_c7a5c_row11_col3\" class=\"data row11 col3\" >0.0048</td>\n",
       "      <td id=\"T_c7a5c_row11_col4\" class=\"data row11 col4\" >0.0078</td>\n",
       "      <td id=\"T_c7a5c_row11_col5\" class=\"data row11 col5\" >0.0056</td>\n",
       "    </tr>\n",
       "  </tbody>\n",
       "</table>\n"
      ],
      "text/plain": [
       "<pandas.io.formats.style.Styler at 0x222b4c79960>"
      ]
     },
     "metadata": {},
     "output_type": "display_data"
    },
    {
     "data": {
      "text/html": [],
      "text/plain": [
       "<IPython.core.display.HTML object>"
      ]
     },
     "metadata": {},
     "output_type": "display_data"
    },
    {
     "name": "stdout",
     "output_type": "stream",
     "text": [
      "Fitting 10 folds for each of 10 candidates, totalling 100 fits\n"
     ]
    }
   ],
   "source": [
    "tune_rf= exp1.tune_model(rf)"
   ]
  },
  {
   "cell_type": "code",
   "execution_count": null,
   "metadata": {},
   "outputs": [
    {
     "data": {
      "text/html": [
       "<style type=\"text/css\">\n",
       "</style>\n",
       "<table id=\"T_cb822\">\n",
       "  <thead>\n",
       "    <tr>\n",
       "      <th class=\"blank level0\" >&nbsp;</th>\n",
       "      <th id=\"T_cb822_level0_col0\" class=\"col_heading level0 col0\" >Model</th>\n",
       "      <th id=\"T_cb822_level0_col1\" class=\"col_heading level0 col1\" >MAE</th>\n",
       "      <th id=\"T_cb822_level0_col2\" class=\"col_heading level0 col2\" >MSE</th>\n",
       "      <th id=\"T_cb822_level0_col3\" class=\"col_heading level0 col3\" >RMSE</th>\n",
       "      <th id=\"T_cb822_level0_col4\" class=\"col_heading level0 col4\" >R2</th>\n",
       "      <th id=\"T_cb822_level0_col5\" class=\"col_heading level0 col5\" >RMSLE</th>\n",
       "      <th id=\"T_cb822_level0_col6\" class=\"col_heading level0 col6\" >MAPE</th>\n",
       "    </tr>\n",
       "  </thead>\n",
       "  <tbody>\n",
       "    <tr>\n",
       "      <th id=\"T_cb822_level0_row0\" class=\"row_heading level0 row0\" >0</th>\n",
       "      <td id=\"T_cb822_row0_col0\" class=\"data row0 col0\" >Random Forest Regressor</td>\n",
       "      <td id=\"T_cb822_row0_col1\" class=\"data row0 col1\" >4.9110</td>\n",
       "      <td id=\"T_cb822_row0_col2\" class=\"data row0 col2\" >79.9002</td>\n",
       "      <td id=\"T_cb822_row0_col3\" class=\"data row0 col3\" >8.9387</td>\n",
       "      <td id=\"T_cb822_row0_col4\" class=\"data row0 col4\" >0.9825</td>\n",
       "      <td id=\"T_cb822_row0_col5\" class=\"data row0 col5\" >0.0560</td>\n",
       "      <td id=\"T_cb822_row0_col6\" class=\"data row0 col6\" >0.0467</td>\n",
       "    </tr>\n",
       "  </tbody>\n",
       "</table>\n"
      ],
      "text/plain": [
       "<pandas.io.formats.style.Styler at 0x222b20441c0>"
      ]
     },
     "metadata": {},
     "output_type": "display_data"
    },
    {
     "data": {
      "text/html": [
       "<div>\n",
       "<style scoped>\n",
       "    .dataframe tbody tr th:only-of-type {\n",
       "        vertical-align: middle;\n",
       "    }\n",
       "\n",
       "    .dataframe tbody tr th {\n",
       "        vertical-align: top;\n",
       "    }\n",
       "\n",
       "    .dataframe thead th {\n",
       "        text-align: right;\n",
       "    }\n",
       "</style>\n",
       "<table border=\"1\" class=\"dataframe\">\n",
       "  <thead>\n",
       "    <tr style=\"text-align: right;\">\n",
       "      <th></th>\n",
       "      <th>comprimento_Total</th>\n",
       "      <th>comprimento_Padrao</th>\n",
       "      <th>comprimento_Cabeca</th>\n",
       "      <th>altura</th>\n",
       "      <th>espessura</th>\n",
       "      <th>peso</th>\n",
       "      <th>prediction_label</th>\n",
       "    </tr>\n",
       "  </thead>\n",
       "  <tbody>\n",
       "    <tr>\n",
       "      <th>0</th>\n",
       "      <td>12.7</td>\n",
       "      <td>10.8</td>\n",
       "      <td>3.3</td>\n",
       "      <td>3.7</td>\n",
       "      <td>1.6</td>\n",
       "      <td>37.130001</td>\n",
       "      <td>37.980262</td>\n",
       "    </tr>\n",
       "    <tr>\n",
       "      <th>1</th>\n",
       "      <td>13.0</td>\n",
       "      <td>11.0</td>\n",
       "      <td>3.3</td>\n",
       "      <td>4.2</td>\n",
       "      <td>1.8</td>\n",
       "      <td>46.599998</td>\n",
       "      <td>42.035793</td>\n",
       "    </tr>\n",
       "    <tr>\n",
       "      <th>2</th>\n",
       "      <td>12.2</td>\n",
       "      <td>10.3</td>\n",
       "      <td>3.1</td>\n",
       "      <td>3.6</td>\n",
       "      <td>1.6</td>\n",
       "      <td>33.959999</td>\n",
       "      <td>32.795634</td>\n",
       "    </tr>\n",
       "    <tr>\n",
       "      <th>3</th>\n",
       "      <td>13.4</td>\n",
       "      <td>11.2</td>\n",
       "      <td>3.3</td>\n",
       "      <td>4.0</td>\n",
       "      <td>1.8</td>\n",
       "      <td>43.389999</td>\n",
       "      <td>44.286533</td>\n",
       "    </tr>\n",
       "    <tr>\n",
       "      <th>4</th>\n",
       "      <td>12.7</td>\n",
       "      <td>10.9</td>\n",
       "      <td>3.2</td>\n",
       "      <td>3.6</td>\n",
       "      <td>1.6</td>\n",
       "      <td>36.990002</td>\n",
       "      <td>38.455375</td>\n",
       "    </tr>\n",
       "  </tbody>\n",
       "</table>\n",
       "</div>"
      ],
      "text/plain": [
       "   comprimento_Total  comprimento_Padrao  comprimento_Cabeca  altura  \\\n",
       "0               12.7                10.8                 3.3     3.7   \n",
       "1               13.0                11.0                 3.3     4.2   \n",
       "2               12.2                10.3                 3.1     3.6   \n",
       "3               13.4                11.2                 3.3     4.0   \n",
       "4               12.7                10.9                 3.2     3.6   \n",
       "\n",
       "   espessura       peso  prediction_label  \n",
       "0        1.6  37.130001         37.980262  \n",
       "1        1.8  46.599998         42.035793  \n",
       "2        1.6  33.959999         32.795634  \n",
       "3        1.8  43.389999         44.286533  \n",
       "4        1.6  36.990002         38.455375  "
      ]
     },
     "execution_count": 29,
     "metadata": {},
     "output_type": "execute_result"
    }
   ],
   "source": [
    "pred_unseen = predict_model(tune_rf, data = data_unseen)\n",
    "pred_unseen.head(5) # first five lines\n"
   ]
  },
  {
   "cell_type": "code",
   "execution_count": null,
   "metadata": {},
   "outputs": [],
   "source": [
    "# dashboard of pycaret\n",
    "#evaluate_model(rf)"
   ]
  },
  {
   "cell_type": "markdown",
   "metadata": {},
   "source": [
    "# EXPERIMENT 2 \n",
    "### Weight predicition using database from esalq esperiment without espessura feature."
   ]
  },
  {
   "cell_type": "markdown",
   "metadata": {},
   "source": [
    "#################################################### EXPERIMENT 2 #################################################33"
   ]
  },
  {
   "cell_type": "markdown",
   "metadata": {},
   "source": []
  },
  {
   "cell_type": "code",
   "execution_count": null,
   "metadata": {},
   "outputs": [
    {
     "data": {
      "text/html": [
       "<div>\n",
       "<style scoped>\n",
       "    .dataframe tbody tr th:only-of-type {\n",
       "        vertical-align: middle;\n",
       "    }\n",
       "\n",
       "    .dataframe tbody tr th {\n",
       "        vertical-align: top;\n",
       "    }\n",
       "\n",
       "    .dataframe thead th {\n",
       "        text-align: right;\n",
       "    }\n",
       "</style>\n",
       "<table border=\"1\" class=\"dataframe\">\n",
       "  <thead>\n",
       "    <tr style=\"text-align: right;\">\n",
       "      <th></th>\n",
       "      <th>peso</th>\n",
       "      <th>comprimento_Total</th>\n",
       "      <th>comprimento_Padrao</th>\n",
       "      <th>comprimento_Cabeca</th>\n",
       "      <th>altura</th>\n",
       "    </tr>\n",
       "  </thead>\n",
       "  <tbody>\n",
       "    <tr>\n",
       "      <th>0</th>\n",
       "      <td>51.45</td>\n",
       "      <td>14.3</td>\n",
       "      <td>12.2</td>\n",
       "      <td>4.0</td>\n",
       "      <td>4.1</td>\n",
       "    </tr>\n",
       "    <tr>\n",
       "      <th>1</th>\n",
       "      <td>37.15</td>\n",
       "      <td>12.4</td>\n",
       "      <td>10.9</td>\n",
       "      <td>3.8</td>\n",
       "      <td>3.2</td>\n",
       "    </tr>\n",
       "    <tr>\n",
       "      <th>2</th>\n",
       "      <td>47.26</td>\n",
       "      <td>13.7</td>\n",
       "      <td>11.2</td>\n",
       "      <td>3.4</td>\n",
       "      <td>4.0</td>\n",
       "    </tr>\n",
       "    <tr>\n",
       "      <th>3</th>\n",
       "      <td>36.67</td>\n",
       "      <td>12.9</td>\n",
       "      <td>11.1</td>\n",
       "      <td>3.7</td>\n",
       "      <td>3.7</td>\n",
       "    </tr>\n",
       "    <tr>\n",
       "      <th>4</th>\n",
       "      <td>45.48</td>\n",
       "      <td>13.2</td>\n",
       "      <td>11.3</td>\n",
       "      <td>3.8</td>\n",
       "      <td>4.5</td>\n",
       "    </tr>\n",
       "  </tbody>\n",
       "</table>\n",
       "</div>"
      ],
      "text/plain": [
       "    peso  comprimento_Total  comprimento_Padrao  comprimento_Cabeca  altura\n",
       "0  51.45               14.3                12.2                 4.0     4.1\n",
       "1  37.15               12.4                10.9                 3.8     3.2\n",
       "2  47.26               13.7                11.2                 3.4     4.0\n",
       "3  36.67               12.9                11.1                 3.7     3.7\n",
       "4  45.48               13.2                11.3                 3.8     4.5"
      ]
     },
     "execution_count": 3,
     "metadata": {},
     "output_type": "execute_result"
    }
   ],
   "source": [
    "df2 = df.drop(columns=[\n",
    "'data', \n",
    "'Index',\n",
    "'espessura'\n",
    "])\n",
    "df2.head()"
   ]
  },
  {
   "cell_type": "code",
   "execution_count": null,
   "metadata": {},
   "outputs": [
    {
     "name": "stdout",
     "output_type": "stream",
     "text": [
      "Data for Modeling: (454, 5)\n",
      "Unseen Data For Predictions: (24, 5)\n"
     ]
    }
   ],
   "source": [
    "data = df2.sample(frac=0.95, random_state=123)\n",
    "data_unseen = df2.drop(data.index)\n",
    "\n",
    "data.reset_index(drop=True, inplace=True)\n",
    "data_unseen.reset_index(drop=True, inplace=True)\n",
    "\n",
    "print('Data for Modeling: ' + str(data.shape))\n",
    "print('Unseen Data For Predictions: ' + str(data_unseen.shape))"
   ]
  },
  {
   "cell_type": "code",
   "execution_count": null,
   "metadata": {},
   "outputs": [
    {
     "ename": "NameError",
     "evalue": "name 'data' is not defined",
     "output_type": "error",
     "traceback": [
      "\u001b[1;31m---------------------------------------------------------------------------\u001b[0m",
      "\u001b[1;31mNameError\u001b[0m                                 Traceback (most recent call last)",
      "Cell \u001b[1;32mIn[4], line 2\u001b[0m\n\u001b[0;32m      1\u001b[0m \u001b[38;5;28;01mfrom\u001b[39;00m \u001b[38;5;21;01mpycaret\u001b[39;00m\u001b[38;5;21;01m.\u001b[39;00m\u001b[38;5;21;01mregression\u001b[39;00m \u001b[38;5;28;01mimport\u001b[39;00m \u001b[38;5;241m*\u001b[39m\n\u001b[1;32m----> 2\u001b[0m exp2\u001b[38;5;241m=\u001b[39m setup(data \u001b[38;5;241m=\u001b[39m \u001b[43mdata\u001b[49m,  target \u001b[38;5;241m=\u001b[39m \u001b[38;5;124m'\u001b[39m\u001b[38;5;124mpeso\u001b[39m\u001b[38;5;124m'\u001b[39m)\n\u001b[0;32m      3\u001b[0m best_model \u001b[38;5;241m=\u001b[39m exp2\u001b[38;5;241m.\u001b[39mcompare_models()\n",
      "\u001b[1;31mNameError\u001b[0m: name 'data' is not defined"
     ]
    }
   ],
   "source": [
    "from pycaret.regression import *\n",
    "exp2= setup(data = data,  target = 'peso')\n",
    "#### WIthout unseen data\n",
    "exp2= setup(data = df2,  target = 'peso')\n",
    "\n",
    "best_model = exp2.compare_models()"
   ]
  },
  {
   "cell_type": "code",
   "execution_count": null,
   "metadata": {},
   "outputs": [
    {
     "data": {
      "text/html": [],
      "text/plain": [
       "<IPython.core.display.HTML object>"
      ]
     },
     "metadata": {},
     "output_type": "display_data"
    },
    {
     "data": {
      "text/html": [
       "<style type=\"text/css\">\n",
       "#T_153e4_row10_col0, #T_153e4_row10_col1, #T_153e4_row10_col2, #T_153e4_row10_col3, #T_153e4_row10_col4, #T_153e4_row10_col5 {\n",
       "  background: yellow;\n",
       "}\n",
       "</style>\n",
       "<table id=\"T_153e4\">\n",
       "  <thead>\n",
       "    <tr>\n",
       "      <th class=\"blank level0\" >&nbsp;</th>\n",
       "      <th id=\"T_153e4_level0_col0\" class=\"col_heading level0 col0\" >MAE</th>\n",
       "      <th id=\"T_153e4_level0_col1\" class=\"col_heading level0 col1\" >MSE</th>\n",
       "      <th id=\"T_153e4_level0_col2\" class=\"col_heading level0 col2\" >RMSE</th>\n",
       "      <th id=\"T_153e4_level0_col3\" class=\"col_heading level0 col3\" >R2</th>\n",
       "      <th id=\"T_153e4_level0_col4\" class=\"col_heading level0 col4\" >RMSLE</th>\n",
       "      <th id=\"T_153e4_level0_col5\" class=\"col_heading level0 col5\" >MAPE</th>\n",
       "    </tr>\n",
       "    <tr>\n",
       "      <th class=\"index_name level0\" >Fold</th>\n",
       "      <th class=\"blank col0\" >&nbsp;</th>\n",
       "      <th class=\"blank col1\" >&nbsp;</th>\n",
       "      <th class=\"blank col2\" >&nbsp;</th>\n",
       "      <th class=\"blank col3\" >&nbsp;</th>\n",
       "      <th class=\"blank col4\" >&nbsp;</th>\n",
       "      <th class=\"blank col5\" >&nbsp;</th>\n",
       "    </tr>\n",
       "  </thead>\n",
       "  <tbody>\n",
       "    <tr>\n",
       "      <th id=\"T_153e4_level0_row0\" class=\"row_heading level0 row0\" >0</th>\n",
       "      <td id=\"T_153e4_row0_col0\" class=\"data row0 col0\" >3.6321</td>\n",
       "      <td id=\"T_153e4_row0_col1\" class=\"data row0 col1\" >31.2497</td>\n",
       "      <td id=\"T_153e4_row0_col2\" class=\"data row0 col2\" >5.5901</td>\n",
       "      <td id=\"T_153e4_row0_col3\" class=\"data row0 col3\" >0.9806</td>\n",
       "      <td id=\"T_153e4_row0_col4\" class=\"data row0 col4\" >0.0528</td>\n",
       "      <td id=\"T_153e4_row0_col5\" class=\"data row0 col5\" >0.0413</td>\n",
       "    </tr>\n",
       "    <tr>\n",
       "      <th id=\"T_153e4_level0_row1\" class=\"row_heading level0 row1\" >1</th>\n",
       "      <td id=\"T_153e4_row1_col0\" class=\"data row1 col0\" >4.2763</td>\n",
       "      <td id=\"T_153e4_row1_col1\" class=\"data row1 col1\" >39.5584</td>\n",
       "      <td id=\"T_153e4_row1_col2\" class=\"data row1 col2\" >6.2895</td>\n",
       "      <td id=\"T_153e4_row1_col3\" class=\"data row1 col3\" >0.9534</td>\n",
       "      <td id=\"T_153e4_row1_col4\" class=\"data row1 col4\" >0.0630</td>\n",
       "      <td id=\"T_153e4_row1_col5\" class=\"data row1 col5\" >0.0508</td>\n",
       "    </tr>\n",
       "    <tr>\n",
       "      <th id=\"T_153e4_level0_row2\" class=\"row_heading level0 row2\" >2</th>\n",
       "      <td id=\"T_153e4_row2_col0\" class=\"data row2 col0\" >4.1689</td>\n",
       "      <td id=\"T_153e4_row2_col1\" class=\"data row2 col1\" >31.5230</td>\n",
       "      <td id=\"T_153e4_row2_col2\" class=\"data row2 col2\" >5.6145</td>\n",
       "      <td id=\"T_153e4_row2_col3\" class=\"data row2 col3\" >0.9818</td>\n",
       "      <td id=\"T_153e4_row2_col4\" class=\"data row2 col4\" >0.0573</td>\n",
       "      <td id=\"T_153e4_row2_col5\" class=\"data row2 col5\" >0.0460</td>\n",
       "    </tr>\n",
       "    <tr>\n",
       "      <th id=\"T_153e4_level0_row3\" class=\"row_heading level0 row3\" >3</th>\n",
       "      <td id=\"T_153e4_row3_col0\" class=\"data row3 col0\" >5.5166</td>\n",
       "      <td id=\"T_153e4_row3_col1\" class=\"data row3 col1\" >56.3391</td>\n",
       "      <td id=\"T_153e4_row3_col2\" class=\"data row3 col2\" >7.5059</td>\n",
       "      <td id=\"T_153e4_row3_col3\" class=\"data row3 col3\" >0.9563</td>\n",
       "      <td id=\"T_153e4_row3_col4\" class=\"data row3 col4\" >0.0735</td>\n",
       "      <td id=\"T_153e4_row3_col5\" class=\"data row3 col5\" >0.0603</td>\n",
       "    </tr>\n",
       "    <tr>\n",
       "      <th id=\"T_153e4_level0_row4\" class=\"row_heading level0 row4\" >4</th>\n",
       "      <td id=\"T_153e4_row4_col0\" class=\"data row4 col0\" >4.2805</td>\n",
       "      <td id=\"T_153e4_row4_col1\" class=\"data row4 col1\" >33.8638</td>\n",
       "      <td id=\"T_153e4_row4_col2\" class=\"data row4 col2\" >5.8193</td>\n",
       "      <td id=\"T_153e4_row4_col3\" class=\"data row4 col3\" >0.9788</td>\n",
       "      <td id=\"T_153e4_row4_col4\" class=\"data row4 col4\" >0.0562</td>\n",
       "      <td id=\"T_153e4_row4_col5\" class=\"data row4 col5\" >0.0475</td>\n",
       "    </tr>\n",
       "    <tr>\n",
       "      <th id=\"T_153e4_level0_row5\" class=\"row_heading level0 row5\" >5</th>\n",
       "      <td id=\"T_153e4_row5_col0\" class=\"data row5 col0\" >4.2662</td>\n",
       "      <td id=\"T_153e4_row5_col1\" class=\"data row5 col1\" >35.7581</td>\n",
       "      <td id=\"T_153e4_row5_col2\" class=\"data row5 col2\" >5.9798</td>\n",
       "      <td id=\"T_153e4_row5_col3\" class=\"data row5 col3\" >0.9787</td>\n",
       "      <td id=\"T_153e4_row5_col4\" class=\"data row5 col4\" >0.0685</td>\n",
       "      <td id=\"T_153e4_row5_col5\" class=\"data row5 col5\" >0.0553</td>\n",
       "    </tr>\n",
       "    <tr>\n",
       "      <th id=\"T_153e4_level0_row6\" class=\"row_heading level0 row6\" >6</th>\n",
       "      <td id=\"T_153e4_row6_col0\" class=\"data row6 col0\" >3.0567</td>\n",
       "      <td id=\"T_153e4_row6_col1\" class=\"data row6 col1\" >17.9646</td>\n",
       "      <td id=\"T_153e4_row6_col2\" class=\"data row6 col2\" >4.2385</td>\n",
       "      <td id=\"T_153e4_row6_col3\" class=\"data row6 col3\" >0.9886</td>\n",
       "      <td id=\"T_153e4_row6_col4\" class=\"data row6 col4\" >0.0451</td>\n",
       "      <td id=\"T_153e4_row6_col5\" class=\"data row6 col5\" >0.0369</td>\n",
       "    </tr>\n",
       "    <tr>\n",
       "      <th id=\"T_153e4_level0_row7\" class=\"row_heading level0 row7\" >7</th>\n",
       "      <td id=\"T_153e4_row7_col0\" class=\"data row7 col0\" >4.0568</td>\n",
       "      <td id=\"T_153e4_row7_col1\" class=\"data row7 col1\" >22.5276</td>\n",
       "      <td id=\"T_153e4_row7_col2\" class=\"data row7 col2\" >4.7463</td>\n",
       "      <td id=\"T_153e4_row7_col3\" class=\"data row7 col3\" >0.9847</td>\n",
       "      <td id=\"T_153e4_row7_col4\" class=\"data row7 col4\" >0.0652</td>\n",
       "      <td id=\"T_153e4_row7_col5\" class=\"data row7 col5\" >0.0525</td>\n",
       "    </tr>\n",
       "    <tr>\n",
       "      <th id=\"T_153e4_level0_row8\" class=\"row_heading level0 row8\" >8</th>\n",
       "      <td id=\"T_153e4_row8_col0\" class=\"data row8 col0\" >3.7927</td>\n",
       "      <td id=\"T_153e4_row8_col1\" class=\"data row8 col1\" >27.1386</td>\n",
       "      <td id=\"T_153e4_row8_col2\" class=\"data row8 col2\" >5.2095</td>\n",
       "      <td id=\"T_153e4_row8_col3\" class=\"data row8 col3\" >0.9816</td>\n",
       "      <td id=\"T_153e4_row8_col4\" class=\"data row8 col4\" >0.0615</td>\n",
       "      <td id=\"T_153e4_row8_col5\" class=\"data row8 col5\" >0.0520</td>\n",
       "    </tr>\n",
       "    <tr>\n",
       "      <th id=\"T_153e4_level0_row9\" class=\"row_heading level0 row9\" >9</th>\n",
       "      <td id=\"T_153e4_row9_col0\" class=\"data row9 col0\" >3.5528</td>\n",
       "      <td id=\"T_153e4_row9_col1\" class=\"data row9 col1\" >20.1731</td>\n",
       "      <td id=\"T_153e4_row9_col2\" class=\"data row9 col2\" >4.4915</td>\n",
       "      <td id=\"T_153e4_row9_col3\" class=\"data row9 col3\" >0.9864</td>\n",
       "      <td id=\"T_153e4_row9_col4\" class=\"data row9 col4\" >0.0504</td>\n",
       "      <td id=\"T_153e4_row9_col5\" class=\"data row9 col5\" >0.0439</td>\n",
       "    </tr>\n",
       "    <tr>\n",
       "      <th id=\"T_153e4_level0_row10\" class=\"row_heading level0 row10\" >Mean</th>\n",
       "      <td id=\"T_153e4_row10_col0\" class=\"data row10 col0\" >4.0600</td>\n",
       "      <td id=\"T_153e4_row10_col1\" class=\"data row10 col1\" >31.6096</td>\n",
       "      <td id=\"T_153e4_row10_col2\" class=\"data row10 col2\" >5.5485</td>\n",
       "      <td id=\"T_153e4_row10_col3\" class=\"data row10 col3\" >0.9771</td>\n",
       "      <td id=\"T_153e4_row10_col4\" class=\"data row10 col4\" >0.0593</td>\n",
       "      <td id=\"T_153e4_row10_col5\" class=\"data row10 col5\" >0.0487</td>\n",
       "    </tr>\n",
       "    <tr>\n",
       "      <th id=\"T_153e4_level0_row11\" class=\"row_heading level0 row11\" >Std</th>\n",
       "      <td id=\"T_153e4_row11_col0\" class=\"data row11 col0\" >0.6156</td>\n",
       "      <td id=\"T_153e4_row11_col1\" class=\"data row11 col1\" >10.5670</td>\n",
       "      <td id=\"T_153e4_row11_col2\" class=\"data row11 col2\" >0.9076</td>\n",
       "      <td id=\"T_153e4_row11_col3\" class=\"data row11 col3\" >0.0115</td>\n",
       "      <td id=\"T_153e4_row11_col4\" class=\"data row11 col4\" >0.0082</td>\n",
       "      <td id=\"T_153e4_row11_col5\" class=\"data row11 col5\" >0.0066</td>\n",
       "    </tr>\n",
       "  </tbody>\n",
       "</table>\n"
      ],
      "text/plain": [
       "<pandas.io.formats.style.Styler at 0x1e9a97f0f10>"
      ]
     },
     "metadata": {},
     "output_type": "display_data"
    },
    {
     "data": {
      "text/html": [],
      "text/plain": [
       "<IPython.core.display.HTML object>"
      ]
     },
     "metadata": {},
     "output_type": "display_data"
    }
   ],
   "source": [
    "rf = exp2.create_model('rf')"
   ]
  },
  {
   "cell_type": "code",
   "execution_count": null,
   "metadata": {},
   "outputs": [
    {
     "data": {
      "text/html": [],
      "text/plain": [
       "<IPython.core.display.HTML object>"
      ]
     },
     "metadata": {},
     "output_type": "display_data"
    },
    {
     "data": {
      "image/png": "[encoded data removed]",
      "text/plain": [
       "<Figure size 800x550 with 1 Axes>"
      ]
     },
     "metadata": {},
     "output_type": "display_data"
    }
   ],
   "source": [
    "exp2.plot_model(rf, plot = 'error')"
   ]
  },
  {
   "cell_type": "code",
   "execution_count": null,
   "metadata": {},
   "outputs": [
    {
     "data": {
      "application/vnd.jupyter.widget-view+json": {
       "model_id": "8e5713bbe83a440d8806b374c012d210",
       "version_major": 2,
       "version_minor": 0
      },
      "text/plain": [
       "interactive(children=(ToggleButtons(description='Plot Type:', icons=('',), options=(('Pipeline Plot', 'pipelin…"
      ]
     },
     "metadata": {},
     "output_type": "display_data"
    }
   ],
   "source": [
    "exp2.evaluate_model(rf)"
   ]
  },
  {
   "cell_type": "code",
   "execution_count": null,
   "metadata": {},
   "outputs": [
    {
     "data": {
      "text/html": [
       "<style type=\"text/css\">\n",
       "</style>\n",
       "<table id=\"T_8420c\">\n",
       "  <thead>\n",
       "    <tr>\n",
       "      <th class=\"blank level0\" >&nbsp;</th>\n",
       "      <th id=\"T_8420c_level0_col0\" class=\"col_heading level0 col0\" >Model</th>\n",
       "      <th id=\"T_8420c_level0_col1\" class=\"col_heading level0 col1\" >MAE</th>\n",
       "      <th id=\"T_8420c_level0_col2\" class=\"col_heading level0 col2\" >MSE</th>\n",
       "      <th id=\"T_8420c_level0_col3\" class=\"col_heading level0 col3\" >RMSE</th>\n",
       "      <th id=\"T_8420c_level0_col4\" class=\"col_heading level0 col4\" >R2</th>\n",
       "      <th id=\"T_8420c_level0_col5\" class=\"col_heading level0 col5\" >RMSLE</th>\n",
       "      <th id=\"T_8420c_level0_col6\" class=\"col_heading level0 col6\" >MAPE</th>\n",
       "    </tr>\n",
       "  </thead>\n",
       "  <tbody>\n",
       "    <tr>\n",
       "      <th id=\"T_8420c_level0_row0\" class=\"row_heading level0 row0\" >0</th>\n",
       "      <td id=\"T_8420c_row0_col0\" class=\"data row0 col0\" >Random Forest Regressor</td>\n",
       "      <td id=\"T_8420c_row0_col1\" class=\"data row0 col1\" >4.4552</td>\n",
       "      <td id=\"T_8420c_row0_col2\" class=\"data row0 col2\" >36.7836</td>\n",
       "      <td id=\"T_8420c_row0_col3\" class=\"data row0 col3\" >6.0649</td>\n",
       "      <td id=\"T_8420c_row0_col4\" class=\"data row0 col4\" >0.9783</td>\n",
       "      <td id=\"T_8420c_row0_col5\" class=\"data row0 col5\" >0.0616</td>\n",
       "      <td id=\"T_8420c_row0_col6\" class=\"data row0 col6\" >0.0501</td>\n",
       "    </tr>\n",
       "  </tbody>\n",
       "</table>\n"
      ],
      "text/plain": [
       "<pandas.io.formats.style.Styler at 0x1e9a9f31090>"
      ]
     },
     "metadata": {},
     "output_type": "display_data"
    }
   ],
   "source": [
    "peso_pred_semEspe = exp2.predict_model(rf)\n",
    "#peso_pred_semEspe.head(5)"
   ]
  },
  {
   "cell_type": "code",
   "execution_count": null,
   "metadata": {},
   "outputs": [
    {
     "data": {
      "text/html": [
       "<style type=\"text/css\">\n",
       "</style>\n",
       "<table id=\"T_9dbc0\">\n",
       "  <thead>\n",
       "    <tr>\n",
       "      <th class=\"blank level0\" >&nbsp;</th>\n",
       "      <th id=\"T_9dbc0_level0_col0\" class=\"col_heading level0 col0\" >Model</th>\n",
       "      <th id=\"T_9dbc0_level0_col1\" class=\"col_heading level0 col1\" >MAE</th>\n",
       "      <th id=\"T_9dbc0_level0_col2\" class=\"col_heading level0 col2\" >MSE</th>\n",
       "      <th id=\"T_9dbc0_level0_col3\" class=\"col_heading level0 col3\" >RMSE</th>\n",
       "      <th id=\"T_9dbc0_level0_col4\" class=\"col_heading level0 col4\" >R2</th>\n",
       "      <th id=\"T_9dbc0_level0_col5\" class=\"col_heading level0 col5\" >RMSLE</th>\n",
       "      <th id=\"T_9dbc0_level0_col6\" class=\"col_heading level0 col6\" >MAPE</th>\n",
       "    </tr>\n",
       "  </thead>\n",
       "  <tbody>\n",
       "    <tr>\n",
       "      <th id=\"T_9dbc0_level0_row0\" class=\"row_heading level0 row0\" >0</th>\n",
       "      <td id=\"T_9dbc0_row0_col0\" class=\"data row0 col0\" >Random Forest Regressor</td>\n",
       "      <td id=\"T_9dbc0_row0_col1\" class=\"data row0 col1\" >3.0417</td>\n",
       "      <td id=\"T_9dbc0_row0_col2\" class=\"data row0 col2\" >20.6230</td>\n",
       "      <td id=\"T_9dbc0_row0_col3\" class=\"data row0 col3\" >4.5413</td>\n",
       "      <td id=\"T_9dbc0_row0_col4\" class=\"data row0 col4\" >0.9840</td>\n",
       "      <td id=\"T_9dbc0_row0_col5\" class=\"data row0 col5\" >0.0555</td>\n",
       "      <td id=\"T_9dbc0_row0_col6\" class=\"data row0 col6\" >0.0411</td>\n",
       "    </tr>\n",
       "  </tbody>\n",
       "</table>\n"
      ],
      "text/plain": [
       "<pandas.io.formats.style.Styler at 0x1e9a7ce8d30>"
      ]
     },
     "metadata": {},
     "output_type": "display_data"
    },
    {
     "data": {
      "text/html": [
       "<div>\n",
       "<style scoped>\n",
       "    .dataframe tbody tr th:only-of-type {\n",
       "        vertical-align: middle;\n",
       "    }\n",
       "\n",
       "    .dataframe tbody tr th {\n",
       "        vertical-align: top;\n",
       "    }\n",
       "\n",
       "    .dataframe thead th {\n",
       "        text-align: right;\n",
       "    }\n",
       "</style>\n",
       "<table border=\"1\" class=\"dataframe\">\n",
       "  <thead>\n",
       "    <tr style=\"text-align: right;\">\n",
       "      <th></th>\n",
       "      <th>comprimento_Total</th>\n",
       "      <th>comprimento_Padrao</th>\n",
       "      <th>comprimento_Cabeca</th>\n",
       "      <th>altura</th>\n",
       "      <th>peso</th>\n",
       "      <th>prediction_label</th>\n",
       "    </tr>\n",
       "  </thead>\n",
       "  <tbody>\n",
       "    <tr>\n",
       "      <th>0</th>\n",
       "      <td>13.7</td>\n",
       "      <td>11.2</td>\n",
       "      <td>3.4</td>\n",
       "      <td>4.0</td>\n",
       "      <td>47.259998</td>\n",
       "      <td>43.527500</td>\n",
       "    </tr>\n",
       "    <tr>\n",
       "      <th>1</th>\n",
       "      <td>12.7</td>\n",
       "      <td>10.8</td>\n",
       "      <td>3.3</td>\n",
       "      <td>3.7</td>\n",
       "      <td>37.130001</td>\n",
       "      <td>37.228599</td>\n",
       "    </tr>\n",
       "    <tr>\n",
       "      <th>2</th>\n",
       "      <td>13.0</td>\n",
       "      <td>11.0</td>\n",
       "      <td>3.3</td>\n",
       "      <td>4.2</td>\n",
       "      <td>46.599998</td>\n",
       "      <td>42.633700</td>\n",
       "    </tr>\n",
       "    <tr>\n",
       "      <th>3</th>\n",
       "      <td>11.8</td>\n",
       "      <td>9.9</td>\n",
       "      <td>3.2</td>\n",
       "      <td>3.5</td>\n",
       "      <td>30.740000</td>\n",
       "      <td>32.120600</td>\n",
       "    </tr>\n",
       "    <tr>\n",
       "      <th>4</th>\n",
       "      <td>12.2</td>\n",
       "      <td>10.3</td>\n",
       "      <td>3.1</td>\n",
       "      <td>3.6</td>\n",
       "      <td>33.959999</td>\n",
       "      <td>32.908400</td>\n",
       "    </tr>\n",
       "  </tbody>\n",
       "</table>\n",
       "</div>"
      ],
      "text/plain": [
       "   comprimento_Total  comprimento_Padrao  comprimento_Cabeca  altura  \\\n",
       "0               13.7                11.2                 3.4     4.0   \n",
       "1               12.7                10.8                 3.3     3.7   \n",
       "2               13.0                11.0                 3.3     4.2   \n",
       "3               11.8                 9.9                 3.2     3.5   \n",
       "4               12.2                10.3                 3.1     3.6   \n",
       "\n",
       "        peso  prediction_label  \n",
       "0  47.259998         43.527500  \n",
       "1  37.130001         37.228599  \n",
       "2  46.599998         42.633700  \n",
       "3  30.740000         32.120600  \n",
       "4  33.959999         32.908400  "
      ]
     },
     "execution_count": 22,
     "metadata": {},
     "output_type": "execute_result"
    }
   ],
   "source": [
    "pred_unseen = predict_model(rf, data = data_unseen)\n",
    "pred_unseen.head(5)"
   ]
  },
  {
   "cell_type": "code",
   "execution_count": null,
   "metadata": {},
   "outputs": [],
   "source": []
  },
  {
   "cell_type": "code",
   "execution_count": null,
   "metadata": {},
   "outputs": [
    {
     "data": {
      "text/html": [],
      "text/plain": [
       "<IPython.core.display.HTML object>"
      ]
     },
     "metadata": {},
     "output_type": "display_data"
    },
    {
     "data": {
      "text/html": [
       "<style type=\"text/css\">\n",
       "#T_65fd3_row10_col0, #T_65fd3_row10_col1, #T_65fd3_row10_col2, #T_65fd3_row10_col3, #T_65fd3_row10_col4, #T_65fd3_row10_col5 {\n",
       "  background: yellow;\n",
       "}\n",
       "</style>\n",
       "<table id=\"T_65fd3\">\n",
       "  <thead>\n",
       "    <tr>\n",
       "      <th class=\"blank level0\" >&nbsp;</th>\n",
       "      <th id=\"T_65fd3_level0_col0\" class=\"col_heading level0 col0\" >MAE</th>\n",
       "      <th id=\"T_65fd3_level0_col1\" class=\"col_heading level0 col1\" >MSE</th>\n",
       "      <th id=\"T_65fd3_level0_col2\" class=\"col_heading level0 col2\" >RMSE</th>\n",
       "      <th id=\"T_65fd3_level0_col3\" class=\"col_heading level0 col3\" >R2</th>\n",
       "      <th id=\"T_65fd3_level0_col4\" class=\"col_heading level0 col4\" >RMSLE</th>\n",
       "      <th id=\"T_65fd3_level0_col5\" class=\"col_heading level0 col5\" >MAPE</th>\n",
       "    </tr>\n",
       "    <tr>\n",
       "      <th class=\"index_name level0\" >Fold</th>\n",
       "      <th class=\"blank col0\" >&nbsp;</th>\n",
       "      <th class=\"blank col1\" >&nbsp;</th>\n",
       "      <th class=\"blank col2\" >&nbsp;</th>\n",
       "      <th class=\"blank col3\" >&nbsp;</th>\n",
       "      <th class=\"blank col4\" >&nbsp;</th>\n",
       "      <th class=\"blank col5\" >&nbsp;</th>\n",
       "    </tr>\n",
       "  </thead>\n",
       "  <tbody>\n",
       "    <tr>\n",
       "      <th id=\"T_65fd3_level0_row0\" class=\"row_heading level0 row0\" >0</th>\n",
       "      <td id=\"T_65fd3_row0_col0\" class=\"data row0 col0\" >4.7974</td>\n",
       "      <td id=\"T_65fd3_row0_col1\" class=\"data row0 col1\" >39.0236</td>\n",
       "      <td id=\"T_65fd3_row0_col2\" class=\"data row0 col2\" >6.2469</td>\n",
       "      <td id=\"T_65fd3_row0_col3\" class=\"data row0 col3\" >0.9739</td>\n",
       "      <td id=\"T_65fd3_row0_col4\" class=\"data row0 col4\" >0.0576</td>\n",
       "      <td id=\"T_65fd3_row0_col5\" class=\"data row0 col5\" >0.0456</td>\n",
       "    </tr>\n",
       "    <tr>\n",
       "      <th id=\"T_65fd3_level0_row1\" class=\"row_heading level0 row1\" >1</th>\n",
       "      <td id=\"T_65fd3_row1_col0\" class=\"data row1 col0\" >2.7883</td>\n",
       "      <td id=\"T_65fd3_row1_col1\" class=\"data row1 col1\" >14.7765</td>\n",
       "      <td id=\"T_65fd3_row1_col2\" class=\"data row1 col2\" >3.8440</td>\n",
       "      <td id=\"T_65fd3_row1_col3\" class=\"data row1 col3\" >0.9887</td>\n",
       "      <td id=\"T_65fd3_row1_col4\" class=\"data row1 col4\" >0.0520</td>\n",
       "      <td id=\"T_65fd3_row1_col5\" class=\"data row1 col5\" >0.0410</td>\n",
       "    </tr>\n",
       "    <tr>\n",
       "      <th id=\"T_65fd3_level0_row2\" class=\"row_heading level0 row2\" >2</th>\n",
       "      <td id=\"T_65fd3_row2_col0\" class=\"data row2 col0\" >4.8336</td>\n",
       "      <td id=\"T_65fd3_row2_col1\" class=\"data row2 col1\" >41.1100</td>\n",
       "      <td id=\"T_65fd3_row2_col2\" class=\"data row2 col2\" >6.4117</td>\n",
       "      <td id=\"T_65fd3_row2_col3\" class=\"data row2 col3\" >0.9716</td>\n",
       "      <td id=\"T_65fd3_row2_col4\" class=\"data row2 col4\" >0.0620</td>\n",
       "      <td id=\"T_65fd3_row2_col5\" class=\"data row2 col5\" >0.0544</td>\n",
       "    </tr>\n",
       "    <tr>\n",
       "      <th id=\"T_65fd3_level0_row3\" class=\"row_heading level0 row3\" >3</th>\n",
       "      <td id=\"T_65fd3_row3_col0\" class=\"data row3 col0\" >4.7503</td>\n",
       "      <td id=\"T_65fd3_row3_col1\" class=\"data row3 col1\" >38.9787</td>\n",
       "      <td id=\"T_65fd3_row3_col2\" class=\"data row3 col2\" >6.2433</td>\n",
       "      <td id=\"T_65fd3_row3_col3\" class=\"data row3 col3\" >0.9801</td>\n",
       "      <td id=\"T_65fd3_row3_col4\" class=\"data row3 col4\" >0.0600</td>\n",
       "      <td id=\"T_65fd3_row3_col5\" class=\"data row3 col5\" >0.0524</td>\n",
       "    </tr>\n",
       "    <tr>\n",
       "      <th id=\"T_65fd3_level0_row4\" class=\"row_heading level0 row4\" >4</th>\n",
       "      <td id=\"T_65fd3_row4_col0\" class=\"data row4 col0\" >3.8073</td>\n",
       "      <td id=\"T_65fd3_row4_col1\" class=\"data row4 col1\" >27.0587</td>\n",
       "      <td id=\"T_65fd3_row4_col2\" class=\"data row4 col2\" >5.2018</td>\n",
       "      <td id=\"T_65fd3_row4_col3\" class=\"data row4 col3\" >0.9761</td>\n",
       "      <td id=\"T_65fd3_row4_col4\" class=\"data row4 col4\" >0.0642</td>\n",
       "      <td id=\"T_65fd3_row4_col5\" class=\"data row4 col5\" >0.0496</td>\n",
       "    </tr>\n",
       "    <tr>\n",
       "      <th id=\"T_65fd3_level0_row5\" class=\"row_heading level0 row5\" >5</th>\n",
       "      <td id=\"T_65fd3_row5_col0\" class=\"data row5 col0\" >2.9277</td>\n",
       "      <td id=\"T_65fd3_row5_col1\" class=\"data row5 col1\" >16.8013</td>\n",
       "      <td id=\"T_65fd3_row5_col2\" class=\"data row5 col2\" >4.0989</td>\n",
       "      <td id=\"T_65fd3_row5_col3\" class=\"data row5 col3\" >0.9880</td>\n",
       "      <td id=\"T_65fd3_row5_col4\" class=\"data row5 col4\" >0.0495</td>\n",
       "      <td id=\"T_65fd3_row5_col5\" class=\"data row5 col5\" >0.0388</td>\n",
       "    </tr>\n",
       "    <tr>\n",
       "      <th id=\"T_65fd3_level0_row6\" class=\"row_heading level0 row6\" >6</th>\n",
       "      <td id=\"T_65fd3_row6_col0\" class=\"data row6 col0\" >2.9499</td>\n",
       "      <td id=\"T_65fd3_row6_col1\" class=\"data row6 col1\" >18.5206</td>\n",
       "      <td id=\"T_65fd3_row6_col2\" class=\"data row6 col2\" >4.3036</td>\n",
       "      <td id=\"T_65fd3_row6_col3\" class=\"data row6 col3\" >0.9848</td>\n",
       "      <td id=\"T_65fd3_row6_col4\" class=\"data row6 col4\" >0.0476</td>\n",
       "      <td id=\"T_65fd3_row6_col5\" class=\"data row6 col5\" >0.0374</td>\n",
       "    </tr>\n",
       "    <tr>\n",
       "      <th id=\"T_65fd3_level0_row7\" class=\"row_heading level0 row7\" >7</th>\n",
       "      <td id=\"T_65fd3_row7_col0\" class=\"data row7 col0\" >4.5485</td>\n",
       "      <td id=\"T_65fd3_row7_col1\" class=\"data row7 col1\" >36.9543</td>\n",
       "      <td id=\"T_65fd3_row7_col2\" class=\"data row7 col2\" >6.0790</td>\n",
       "      <td id=\"T_65fd3_row7_col3\" class=\"data row7 col3\" >0.9670</td>\n",
       "      <td id=\"T_65fd3_row7_col4\" class=\"data row7 col4\" >0.0627</td>\n",
       "      <td id=\"T_65fd3_row7_col5\" class=\"data row7 col5\" >0.0507</td>\n",
       "    </tr>\n",
       "    <tr>\n",
       "      <th id=\"T_65fd3_level0_row8\" class=\"row_heading level0 row8\" >8</th>\n",
       "      <td id=\"T_65fd3_row8_col0\" class=\"data row8 col0\" >4.6366</td>\n",
       "      <td id=\"T_65fd3_row8_col1\" class=\"data row8 col1\" >43.4864</td>\n",
       "      <td id=\"T_65fd3_row8_col2\" class=\"data row8 col2\" >6.5944</td>\n",
       "      <td id=\"T_65fd3_row8_col3\" class=\"data row8 col3\" >0.9575</td>\n",
       "      <td id=\"T_65fd3_row8_col4\" class=\"data row8 col4\" >0.0646</td>\n",
       "      <td id=\"T_65fd3_row8_col5\" class=\"data row8 col5\" >0.0521</td>\n",
       "    </tr>\n",
       "    <tr>\n",
       "      <th id=\"T_65fd3_level0_row9\" class=\"row_heading level0 row9\" >9</th>\n",
       "      <td id=\"T_65fd3_row9_col0\" class=\"data row9 col0\" >3.9853</td>\n",
       "      <td id=\"T_65fd3_row9_col1\" class=\"data row9 col1\" >27.2878</td>\n",
       "      <td id=\"T_65fd3_row9_col2\" class=\"data row9 col2\" >5.2238</td>\n",
       "      <td id=\"T_65fd3_row9_col3\" class=\"data row9 col3\" >0.9870</td>\n",
       "      <td id=\"T_65fd3_row9_col4\" class=\"data row9 col4\" >0.0563</td>\n",
       "      <td id=\"T_65fd3_row9_col5\" class=\"data row9 col5\" >0.0486</td>\n",
       "    </tr>\n",
       "    <tr>\n",
       "      <th id=\"T_65fd3_level0_row10\" class=\"row_heading level0 row10\" >Mean</th>\n",
       "      <td id=\"T_65fd3_row10_col0\" class=\"data row10 col0\" >4.0025</td>\n",
       "      <td id=\"T_65fd3_row10_col1\" class=\"data row10 col1\" >30.3998</td>\n",
       "      <td id=\"T_65fd3_row10_col2\" class=\"data row10 col2\" >5.4247</td>\n",
       "      <td id=\"T_65fd3_row10_col3\" class=\"data row10 col3\" >0.9775</td>\n",
       "      <td id=\"T_65fd3_row10_col4\" class=\"data row10 col4\" >0.0576</td>\n",
       "      <td id=\"T_65fd3_row10_col5\" class=\"data row10 col5\" >0.0471</td>\n",
       "    </tr>\n",
       "    <tr>\n",
       "      <th id=\"T_65fd3_level0_row11\" class=\"row_heading level0 row11\" >Std</th>\n",
       "      <td id=\"T_65fd3_row11_col0\" class=\"data row11 col0\" >0.7974</td>\n",
       "      <td id=\"T_65fd3_row11_col1\" class=\"data row11 col1\" >10.3338</td>\n",
       "      <td id=\"T_65fd3_row11_col2\" class=\"data row11 col2\" >0.9859</td>\n",
       "      <td id=\"T_65fd3_row11_col3\" class=\"data row11 col3\" >0.0097</td>\n",
       "      <td id=\"T_65fd3_row11_col4\" class=\"data row11 col4\" >0.0059</td>\n",
       "      <td id=\"T_65fd3_row11_col5\" class=\"data row11 col5\" >0.0057</td>\n",
       "    </tr>\n",
       "  </tbody>\n",
       "</table>\n"
      ],
      "text/plain": [
       "<pandas.io.formats.style.Styler at 0x1e3936497e0>"
      ]
     },
     "metadata": {},
     "output_type": "display_data"
    },
    {
     "data": {
      "text/html": [],
      "text/plain": [
       "<IPython.core.display.HTML object>"
      ]
     },
     "metadata": {},
     "output_type": "display_data"
    },
    {
     "name": "stdout",
     "output_type": "stream",
     "text": [
      "Fitting 10 folds for each of 10 candidates, totalling 100 fits\n"
     ]
    }
   ],
   "source": [
    "#tuned_gbr = tune_model(gbr)"
   ]
  },
  {
   "cell_type": "markdown",
   "metadata": {},
   "source": [
    "#### weight prediction \n",
    "#### Realizar um codigo padrao com avaliacao de modelos, tuning, evaluation, shuffle and save (retirar index)\n",
    "#### realizar predicao para espessura\n",
    "#### realizar a predicao do peso sem a variavel espessura"
   ]
  },
  {
   "cell_type": "markdown",
   "metadata": {},
   "source": [
    "## TRy with biometria 4 \n",
    "## importance study for each variable"
   ]
  }
 ],
 "metadata": {
  "kernelspec": {
   "display_name": "Python 3",
   "language": "python",
   "name": "python3"
  },
  "language_info": {
   "codemirror_mode": {
    "name": "ipython",
    "version": 3
   },
   "file_extension": ".py",
   "mimetype": "text/x-python",
   "name": "python",
   "nbconvert_exporter": "python",
   "pygments_lexer": "ipython3",
   "version": "3.10.11"
  }
 },
 "nbformat": 4,
 "nbformat_minor": 2
}
