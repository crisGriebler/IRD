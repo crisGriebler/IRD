{
 "cells": [
  {
   "cell_type": "code",
   "execution_count": 2,
   "metadata": {},
   "outputs": [],
   "source": [
    "import pandas as pd\n",
    "import matplotlib as plt\n",
    "import numpy as np\n",
    "import statsmodels.api as sm\n",
    "from statsmodels.graphics.tsaplots import plot_acf, plot_pacf\n",
    "from statsmodels.tsa.arima_model import ARIMA\n",
    "from statsmodels.tsa.stattools import adfuller\n",
    "from numpy import log\n",
    "from sklearn.metrics import mean_squared_error\n",
    "from statsmodels.tsa.stattools import acf"
   ]
  },
  {
   "cell_type": "code",
   "execution_count": 4,
   "metadata": {},
   "outputs": [
    {
     "name": "stdout",
     "output_type": "stream",
     "text": [
      "      Data  Unnamed: 1  PIB nominal  Unnamed: 3  Unnamed: 4  Unnamed: 5  \\\n",
      "0  1996 T1         NaN       189323         NaN         NaN         NaN   \n",
      "1  1996 T2         NaN       204611         NaN         NaN         NaN   \n",
      "2  1996 T3         NaN       221513         NaN         NaN         NaN   \n",
      "3  1996 T4         NaN       239316         NaN         NaN         NaN   \n",
      "4  1997 T1         NaN       219117         NaN         NaN         NaN   \n",
      "5  1997 T2         NaN       232890         NaN         NaN         NaN   \n",
      "6  1997 T3         NaN       246178         NaN         NaN         NaN   \n",
      "7  1997 T4         NaN       253904         NaN         NaN         NaN   \n",
      "8  1998 T1         NaN       235701         NaN         NaN         NaN   \n",
      "9  1998 T2         NaN       251936         NaN         NaN         NaN   \n",
      "\n",
      "   Unnamed: 6                Produto interno bruto (PIB) nominal  \n",
      "0         NaN      Frequência: Trimestral de 1996 T1 até 2023 T4  \n",
      "1         NaN  Fonte: Instituto Brasileiro de Geografia e Est...  \n",
      "2         NaN                              Unidade: R$ (milhões)  \n",
      "3         NaN  Comentário: Produto Interno Bruto (PIB) em val...  \n",
      "4         NaN                          Atualizado em: 08/03/2024  \n",
      "5         NaN                                                NaN  \n",
      "6         NaN                                                NaN  \n",
      "7         NaN                                                NaN  \n",
      "8         NaN                                                NaN  \n",
      "9         NaN                                                NaN  \n"
     ]
    }
   ],
   "source": [
    "#função para tratar campo data\n",
    "def parser(x):\n",
    "    return pd.datetime.strptime('190'+x, '%Y-%m')\n",
    "\n",
    "#Agora vamos importar nosso arquivo \n",
    "df = pd.read_excel('../Data_FS_04.24/Dados@tech.xlsx', sheet_name='PIB - nominal (ITEM 5)')\n",
    "print(df.head(10))"
   ]
  },
  {
   "cell_type": "code",
   "execution_count": null,
   "metadata": {},
   "outputs": [],
   "source": [
    "from datetime import datetime, timedelta\n",
    "\n",
    "def transform_variable(variable):\n",
    "    year = int(variable.split()[0])  # Extract the year from the variable\n",
    "    quarter = int(variable.split()[1][1])  # Extract the quarter number from the variable\n",
    "\n",
    "    # Calculate the month based on the quarter\n",
    "    month = quarter * 3\n",
    "\n",
    "    # Calculate the last day of the month\n",
    "    if month == 12:\n",
    "        last_day = 31\n",
    "    else:\n",
    "        next_month = month + 1\n",
    "        last_day = (datetime(year, next_month, 1) - timedelta(days=1)).day\n",
    "\n",
    "    # Create the date object\n",
    "    transformed_date = datetime(year, month, last_day)\n",
    "\n",
    "    return transformed_date\n",
    "\n",
    "# Test the function\n",
    "variables = ['1996 T1', '1996 T2', '1996 T3', '1996 T4']\n",
    "\n",
    "for variable in variables:\n",
    "    transformed_date = transform_variable(variable)\n",
    "    print(f\"The last day of {variable} is: {transformed_date.strftime('%Y-%m-%d')}\")\n"
   ]
  }
 ],
 "metadata": {
  "kernelspec": {
   "display_name": "Python 3",
   "language": "python",
   "name": "python3"
  },
  "language_info": {
   "codemirror_mode": {
    "name": "ipython",
    "version": 3
   },
   "file_extension": ".py",
   "mimetype": "text/x-python",
   "name": "python",
   "nbconvert_exporter": "python",
   "pygments_lexer": "ipython3",
   "version": "3.10.11"
  }
 },
 "nbformat": 4,
 "nbformat_minor": 2
}
