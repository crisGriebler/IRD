{
 "cells": [
  {
   "cell_type": "code",
   "execution_count": null,
   "metadata": {},
   "outputs": [],
   "source": [
    "import pandas as pd\n",
    "import matplotlib as plt\n",
    "import numpy as np\n",
    "import statsmodels.api as sm\n",
    "from statsmodels.graphics.tsaplots import plot_acf, plot_pacf\n",
    "from statsmodels.tsa.arima_model import ARIMA\n",
    "from statsmodels.tsa.stattools import adfuller\n",
    "from numpy import log\n",
    "from sklearn.metrics import mean_squared_error\n",
    "from statsmodels.tsa.stattools import acf"
   ]
  },
  {
   "cell_type": "code",
   "execution_count": null,
   "metadata": {},
   "outputs": [],
   "source": [
    "#função para tratar campo data\n",
    "def parser(x):\n",
    "    return pd.datetime.strptime('190'+x, '%Y-%m')\n",
    "\n",
    "#Agora vamos importar nosso arquivo \n",
    "df = pd.read_excel('db_br.xlsx', sheet_name='Sheet1')\n",
    "print(df.head(10))"
   ]
  },
  {
   "cell_type": "code",
   "execution_count": null,
   "metadata": {},
   "outputs": [],
   "source": [
    "from datetime import datetime, timedelta\n",
    "\n",
    "def transform_variable(variable):\n",
    "    year = int(variable.split()[0])  # Extract the year from the variable\n",
    "    quarter = int(variable.split()[1][1])  # Extract the quarter number from the variable\n",
    "\n",
    "    # Calculate the month based on the quarter\n",
    "    month = quarter * 3\n",
    "\n",
    "    # Calculate the last day of the month\n",
    "    if month == 12:\n",
    "        last_day = 31\n",
    "    else:\n",
    "        next_month = month + 1\n",
    "        last_day = (datetime(year, next_month, 1) - timedelta(days=1)).day\n",
    "\n",
    "    # Create the date object\n",
    "    transformed_date = datetime(year, month, last_day)\n",
    "\n",
    "    return transformed_date\n",
    "\n",
    "# Test the function\n",
    "variables = ['1996 T1', '1996 T2', '1996 T3', '1996 T4']\n",
    "\n",
    "for variable in variables:\n",
    "    transformed_date = transform_variable(variable)\n",
    "    print(f\"The last day of {variable} is: {transformed_date.strftime('%Y-%m-%d')}\")\n"
   ]
  }
 ],
 "metadata": {
  "language_info": {
   "name": "python"
  }
 },
 "nbformat": 4,
 "nbformat_minor": 2
}
