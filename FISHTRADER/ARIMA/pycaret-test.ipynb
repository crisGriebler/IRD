{
 "cells": [
  {
   "cell_type": "markdown",
   "metadata": {},
   "source": []
  },
  {
   "cell_type": "code",
   "execution_count": null,
   "metadata": {},
   "outputs": [],
   "source": [
    "#importing necessary packages\n",
    "\n",
    "import numpy as np\n",
    "import matplotlib.pyplot as plt\n",
    "import pandas as pd\n",
    "import numpy as np\n",
    "from datetime import datetime\n",
    "import statsmodels.api as sm\n",
    "import numpy as np \n",
    "import xgboost as xgb\n",
    "from sklearn.metrics import mean_squared_error, mean_absolute_error\n",
    "import imageio\n",
    "import os\n",
    "from statsmodels.graphics.tsaplots import plot_acf\n",
    "import statsmodels.api as sm\n",
    "from sklearn.model_selection import TimeSeriesSplit\n",
    "from pycaret.time_series import TSForecastingExperiment\n",
    "import pmdarima as pm\n"
   ]
  },
  {
   "cell_type": "code",
   "execution_count": null,
   "metadata": {},
   "outputs": [
    {
     "name": "stdout",
     "output_type": "stream",
     "text": [
      "        date  value    liter\n",
      "0 2017-12-31  190.2   301961\n",
      "1 2018-12-31  192.9   545110\n",
      "2 2019-12-31  194.8  1029190\n",
      "3 2020-12-31  197.3  1997490\n",
      "4 2021-12-31  200.8  2860097\n",
      "5 2022-12-31  204.7  3209840\n",
      "6 2023-12-31  208.2  4419242\n"
     ]
    }
   ],
   "source": [
    "#função para tratar campo data\n",
    "def parser(x):\n",
    "    return pd.datetime.strptime('190'+x, '%Y-%m')\n",
    "\n",
    "#Agora vamos importar nosso arquivo \n",
    "df = pd.read_excel('db_mt.xlsx', sheet_name='Sheet1')\n",
    "print(df.head(10))"
   ]
  },
  {
   "cell_type": "code",
   "execution_count": null,
   "metadata": {},
   "outputs": [
    {
     "name": "stdout",
     "output_type": "stream",
     "text": [
      "<class 'pandas.core.frame.DataFrame'>\n",
      "RangeIndex: 7 entries, 0 to 6\n",
      "Data columns (total 3 columns):\n",
      " #   Column  Non-Null Count  Dtype         \n",
      "---  ------  --------------  -----         \n",
      " 0   date    7 non-null      datetime64[ns]\n",
      " 1   value   7 non-null      float64       \n",
      " 2   liter   7 non-null      int64         \n",
      "dtypes: datetime64[ns](1), float64(1), int64(1)\n",
      "memory usage: 296.0 bytes\n"
     ]
    }
   ],
   "source": [
    "df.info()"
   ]
  },
  {
   "cell_type": "code",
   "execution_count": null,
   "metadata": {},
   "outputs": [],
   "source": [
    "df.drop(['liter'], axis = 1,inplace=True)"
   ]
  },
  {
   "cell_type": "code",
   "execution_count": null,
   "metadata": {},
   "outputs": [
    {
     "ename": "KeyError",
     "evalue": "\"None of ['year'] are in the columns\"",
     "output_type": "error",
     "traceback": [
      "\u001b[1;31m---------------------------------------------------------------------------\u001b[0m",
      "\u001b[1;31mKeyError\u001b[0m                                  Traceback (most recent call last)",
      "Cell \u001b[1;32mIn[5], line 1\u001b[0m\n\u001b[1;32m----> 1\u001b[0m \u001b[43mdf\u001b[49m\u001b[38;5;241;43m.\u001b[39;49m\u001b[43mset_index\u001b[49m\u001b[43m(\u001b[49m\u001b[38;5;124;43m'\u001b[39;49m\u001b[38;5;124;43myear\u001b[39;49m\u001b[38;5;124;43m'\u001b[39;49m\u001b[43m,\u001b[49m\u001b[43minplace\u001b[49m\u001b[38;5;241;43m=\u001b[39;49m\u001b[38;5;28;43;01mTrue\u001b[39;49;00m\u001b[43m)\u001b[49m\n",
      "File \u001b[1;32m~\\AppData\\Local\\Packages\\PythonSoftwareFoundation.Python.3.10_qbz5n2kfra8p0\\LocalCache\\local-packages\\Python310\\site-packages\\pandas\\util\\_decorators.py:331\u001b[0m, in \u001b[0;36mdeprecate_nonkeyword_arguments.<locals>.decorate.<locals>.wrapper\u001b[1;34m(*args, **kwargs)\u001b[0m\n\u001b[0;32m    325\u001b[0m \u001b[38;5;28;01mif\u001b[39;00m \u001b[38;5;28mlen\u001b[39m(args) \u001b[38;5;241m>\u001b[39m num_allow_args:\n\u001b[0;32m    326\u001b[0m     warnings\u001b[38;5;241m.\u001b[39mwarn(\n\u001b[0;32m    327\u001b[0m         msg\u001b[38;5;241m.\u001b[39mformat(arguments\u001b[38;5;241m=\u001b[39m_format_argument_list(allow_args)),\n\u001b[0;32m    328\u001b[0m         \u001b[38;5;167;01mFutureWarning\u001b[39;00m,\n\u001b[0;32m    329\u001b[0m         stacklevel\u001b[38;5;241m=\u001b[39mfind_stack_level(),\n\u001b[0;32m    330\u001b[0m     )\n\u001b[1;32m--> 331\u001b[0m \u001b[38;5;28;01mreturn\u001b[39;00m func(\u001b[38;5;241m*\u001b[39margs, \u001b[38;5;241m*\u001b[39m\u001b[38;5;241m*\u001b[39mkwargs)\n",
      "File \u001b[1;32m~\\AppData\\Local\\Packages\\PythonSoftwareFoundation.Python.3.10_qbz5n2kfra8p0\\LocalCache\\local-packages\\Python310\\site-packages\\pandas\\core\\frame.py:6009\u001b[0m, in \u001b[0;36mDataFrame.set_index\u001b[1;34m(self, keys, drop, append, inplace, verify_integrity)\u001b[0m\n\u001b[0;32m   6006\u001b[0m                 missing\u001b[38;5;241m.\u001b[39mappend(col)\n\u001b[0;32m   6008\u001b[0m \u001b[38;5;28;01mif\u001b[39;00m missing:\n\u001b[1;32m-> 6009\u001b[0m     \u001b[38;5;28;01mraise\u001b[39;00m \u001b[38;5;167;01mKeyError\u001b[39;00m(\u001b[38;5;124mf\u001b[39m\u001b[38;5;124m\"\u001b[39m\u001b[38;5;124mNone of \u001b[39m\u001b[38;5;132;01m{\u001b[39;00mmissing\u001b[38;5;132;01m}\u001b[39;00m\u001b[38;5;124m are in the columns\u001b[39m\u001b[38;5;124m\"\u001b[39m)\n\u001b[0;32m   6011\u001b[0m \u001b[38;5;28;01mif\u001b[39;00m inplace:\n\u001b[0;32m   6012\u001b[0m     frame \u001b[38;5;241m=\u001b[39m \u001b[38;5;28mself\u001b[39m\n",
      "\u001b[1;31mKeyError\u001b[0m: \"None of ['year'] are in the columns\""
     ]
    }
   ],
   "source": [
    "#df.set_index('year',inplace=True)"
   ]
  },
  {
   "cell_type": "code",
   "execution_count": null,
   "metadata": {},
   "outputs": [
    {
     "name": "stdout",
     "output_type": "stream",
     "text": [
      "        date  value\n",
      "0 2017-12-31  190.2\n",
      "1 2018-12-31  192.9\n",
      "2 2019-12-31  194.8\n",
      "3 2020-12-31  197.3\n",
      "4 2021-12-31  200.8\n",
      "5 2022-12-31  204.7\n",
      "6 2023-12-31  208.2\n"
     ]
    }
   ],
   "source": [
    "df=df.sort_index(axis=0)\n",
    "print(df.head(10))"
   ]
  },
  {
   "cell_type": "markdown",
   "metadata": {},
   "source": [
    "fh: Optional[int or list or np.array], default = 1\n",
    "\n",
    "The forecast horizon to be used for forecasting. Default is set to 1 i.e. forecast one point ahead. When integer is passed it means N continuous points in the future without any gap. If you want to forecast values with gaps, you must pass an array e.g. np.arange([13, 25]) will skip the first 12 future points and forecast from the 13th point till the 24th point ahead (note in numpy right value is inclusive and left is exclusive)."
   ]
  },
  {
   "cell_type": "code",
   "execution_count": null,
   "metadata": {},
   "outputs": [
    {
     "data": {
      "text/html": [
       "<style type=\"text/css\">\n",
       "#T_a0b11_row28_col1 {\n",
       "  background-color: lightgreen;\n",
       "}\n",
       "</style>\n",
       "<table id=\"T_a0b11\">\n",
       "  <thead>\n",
       "    <tr>\n",
       "      <th class=\"blank level0\" >&nbsp;</th>\n",
       "      <th id=\"T_a0b11_level0_col0\" class=\"col_heading level0 col0\" >Description</th>\n",
       "      <th id=\"T_a0b11_level0_col1\" class=\"col_heading level0 col1\" >Value</th>\n",
       "    </tr>\n",
       "  </thead>\n",
       "  <tbody>\n",
       "    <tr>\n",
       "      <th id=\"T_a0b11_level0_row0\" class=\"row_heading level0 row0\" >0</th>\n",
       "      <td id=\"T_a0b11_row0_col0\" class=\"data row0 col0\" >session_id</td>\n",
       "      <td id=\"T_a0b11_row0_col1\" class=\"data row0 col1\" >42</td>\n",
       "    </tr>\n",
       "    <tr>\n",
       "      <th id=\"T_a0b11_level0_row1\" class=\"row_heading level0 row1\" >1</th>\n",
       "      <td id=\"T_a0b11_row1_col0\" class=\"data row1 col0\" >Target</td>\n",
       "      <td id=\"T_a0b11_row1_col1\" class=\"data row1 col1\" >value </td>\n",
       "    </tr>\n",
       "    <tr>\n",
       "      <th id=\"T_a0b11_level0_row2\" class=\"row_heading level0 row2\" >2</th>\n",
       "      <td id=\"T_a0b11_row2_col0\" class=\"data row2 col0\" >Approach</td>\n",
       "      <td id=\"T_a0b11_row2_col1\" class=\"data row2 col1\" >Univariate</td>\n",
       "    </tr>\n",
       "    <tr>\n",
       "      <th id=\"T_a0b11_level0_row3\" class=\"row_heading level0 row3\" >3</th>\n",
       "      <td id=\"T_a0b11_row3_col0\" class=\"data row3 col0\" >Exogenous Variables</td>\n",
       "      <td id=\"T_a0b11_row3_col1\" class=\"data row3 col1\" >Not Present</td>\n",
       "    </tr>\n",
       "    <tr>\n",
       "      <th id=\"T_a0b11_level0_row4\" class=\"row_heading level0 row4\" >4</th>\n",
       "      <td id=\"T_a0b11_row4_col0\" class=\"data row4 col0\" >Original data shape</td>\n",
       "      <td id=\"T_a0b11_row4_col1\" class=\"data row4 col1\" >(7, 1)</td>\n",
       "    </tr>\n",
       "    <tr>\n",
       "      <th id=\"T_a0b11_level0_row5\" class=\"row_heading level0 row5\" >5</th>\n",
       "      <td id=\"T_a0b11_row5_col0\" class=\"data row5 col0\" >Transformed data shape</td>\n",
       "      <td id=\"T_a0b11_row5_col1\" class=\"data row5 col1\" >(7, 1)</td>\n",
       "    </tr>\n",
       "    <tr>\n",
       "      <th id=\"T_a0b11_level0_row6\" class=\"row_heading level0 row6\" >6</th>\n",
       "      <td id=\"T_a0b11_row6_col0\" class=\"data row6 col0\" >Transformed train set shape</td>\n",
       "      <td id=\"T_a0b11_row6_col1\" class=\"data row6 col1\" >(6, 1)</td>\n",
       "    </tr>\n",
       "    <tr>\n",
       "      <th id=\"T_a0b11_level0_row7\" class=\"row_heading level0 row7\" >7</th>\n",
       "      <td id=\"T_a0b11_row7_col0\" class=\"data row7 col0\" >Transformed test set shape</td>\n",
       "      <td id=\"T_a0b11_row7_col1\" class=\"data row7 col1\" >(1, 1)</td>\n",
       "    </tr>\n",
       "    <tr>\n",
       "      <th id=\"T_a0b11_level0_row8\" class=\"row_heading level0 row8\" >8</th>\n",
       "      <td id=\"T_a0b11_row8_col0\" class=\"data row8 col0\" >Rows with missing values</td>\n",
       "      <td id=\"T_a0b11_row8_col1\" class=\"data row8 col1\" >0.0%</td>\n",
       "    </tr>\n",
       "    <tr>\n",
       "      <th id=\"T_a0b11_level0_row9\" class=\"row_heading level0 row9\" >9</th>\n",
       "      <td id=\"T_a0b11_row9_col0\" class=\"data row9 col0\" >Fold Generator</td>\n",
       "      <td id=\"T_a0b11_row9_col1\" class=\"data row9 col1\" >ExpandingWindowSplitter</td>\n",
       "    </tr>\n",
       "    <tr>\n",
       "      <th id=\"T_a0b11_level0_row10\" class=\"row_heading level0 row10\" >10</th>\n",
       "      <td id=\"T_a0b11_row10_col0\" class=\"data row10 col0\" >Fold Number</td>\n",
       "      <td id=\"T_a0b11_row10_col1\" class=\"data row10 col1\" >3</td>\n",
       "    </tr>\n",
       "    <tr>\n",
       "      <th id=\"T_a0b11_level0_row11\" class=\"row_heading level0 row11\" >11</th>\n",
       "      <td id=\"T_a0b11_row11_col0\" class=\"data row11 col0\" >Enforce Prediction Interval</td>\n",
       "      <td id=\"T_a0b11_row11_col1\" class=\"data row11 col1\" >False</td>\n",
       "    </tr>\n",
       "    <tr>\n",
       "      <th id=\"T_a0b11_level0_row12\" class=\"row_heading level0 row12\" >12</th>\n",
       "      <td id=\"T_a0b11_row12_col0\" class=\"data row12 col0\" >Splits used for hyperparameters</td>\n",
       "      <td id=\"T_a0b11_row12_col1\" class=\"data row12 col1\" >all</td>\n",
       "    </tr>\n",
       "    <tr>\n",
       "      <th id=\"T_a0b11_level0_row13\" class=\"row_heading level0 row13\" >13</th>\n",
       "      <td id=\"T_a0b11_row13_col0\" class=\"data row13 col0\" >User Defined Seasonal Period(s)</td>\n",
       "      <td id=\"T_a0b11_row13_col1\" class=\"data row13 col1\" >None</td>\n",
       "    </tr>\n",
       "    <tr>\n",
       "      <th id=\"T_a0b11_level0_row14\" class=\"row_heading level0 row14\" >14</th>\n",
       "      <td id=\"T_a0b11_row14_col0\" class=\"data row14 col0\" >Ignore Seasonality Test</td>\n",
       "      <td id=\"T_a0b11_row14_col1\" class=\"data row14 col1\" >False</td>\n",
       "    </tr>\n",
       "    <tr>\n",
       "      <th id=\"T_a0b11_level0_row15\" class=\"row_heading level0 row15\" >15</th>\n",
       "      <td id=\"T_a0b11_row15_col0\" class=\"data row15 col0\" >Seasonality Detection Algo</td>\n",
       "      <td id=\"T_a0b11_row15_col1\" class=\"data row15 col1\" >auto</td>\n",
       "    </tr>\n",
       "    <tr>\n",
       "      <th id=\"T_a0b11_level0_row16\" class=\"row_heading level0 row16\" >16</th>\n",
       "      <td id=\"T_a0b11_row16_col0\" class=\"data row16 col0\" >Max Period to Consider</td>\n",
       "      <td id=\"T_a0b11_row16_col1\" class=\"data row16 col1\" >60</td>\n",
       "    </tr>\n",
       "    <tr>\n",
       "      <th id=\"T_a0b11_level0_row17\" class=\"row_heading level0 row17\" >17</th>\n",
       "      <td id=\"T_a0b11_row17_col0\" class=\"data row17 col0\" >Seasonal Period(s) Tested</td>\n",
       "      <td id=\"T_a0b11_row17_col1\" class=\"data row17 col1\" >[]</td>\n",
       "    </tr>\n",
       "    <tr>\n",
       "      <th id=\"T_a0b11_level0_row18\" class=\"row_heading level0 row18\" >18</th>\n",
       "      <td id=\"T_a0b11_row18_col0\" class=\"data row18 col0\" >Significant Seasonal Period(s)</td>\n",
       "      <td id=\"T_a0b11_row18_col1\" class=\"data row18 col1\" >[1]</td>\n",
       "    </tr>\n",
       "    <tr>\n",
       "      <th id=\"T_a0b11_level0_row19\" class=\"row_heading level0 row19\" >19</th>\n",
       "      <td id=\"T_a0b11_row19_col0\" class=\"data row19 col0\" >Significant Seasonal Period(s) without Harmonics</td>\n",
       "      <td id=\"T_a0b11_row19_col1\" class=\"data row19 col1\" >[1]</td>\n",
       "    </tr>\n",
       "    <tr>\n",
       "      <th id=\"T_a0b11_level0_row20\" class=\"row_heading level0 row20\" >20</th>\n",
       "      <td id=\"T_a0b11_row20_col0\" class=\"data row20 col0\" >Remove Harmonics</td>\n",
       "      <td id=\"T_a0b11_row20_col1\" class=\"data row20 col1\" >False</td>\n",
       "    </tr>\n",
       "    <tr>\n",
       "      <th id=\"T_a0b11_level0_row21\" class=\"row_heading level0 row21\" >21</th>\n",
       "      <td id=\"T_a0b11_row21_col0\" class=\"data row21 col0\" >Harmonics Order Method</td>\n",
       "      <td id=\"T_a0b11_row21_col1\" class=\"data row21 col1\" >harmonic_max</td>\n",
       "    </tr>\n",
       "    <tr>\n",
       "      <th id=\"T_a0b11_level0_row22\" class=\"row_heading level0 row22\" >22</th>\n",
       "      <td id=\"T_a0b11_row22_col0\" class=\"data row22 col0\" >Num Seasonalities to Use</td>\n",
       "      <td id=\"T_a0b11_row22_col1\" class=\"data row22 col1\" >1</td>\n",
       "    </tr>\n",
       "    <tr>\n",
       "      <th id=\"T_a0b11_level0_row23\" class=\"row_heading level0 row23\" >23</th>\n",
       "      <td id=\"T_a0b11_row23_col0\" class=\"data row23 col0\" >All Seasonalities to Use</td>\n",
       "      <td id=\"T_a0b11_row23_col1\" class=\"data row23 col1\" >[1]</td>\n",
       "    </tr>\n",
       "    <tr>\n",
       "      <th id=\"T_a0b11_level0_row24\" class=\"row_heading level0 row24\" >24</th>\n",
       "      <td id=\"T_a0b11_row24_col0\" class=\"data row24 col0\" >Primary Seasonality</td>\n",
       "      <td id=\"T_a0b11_row24_col1\" class=\"data row24 col1\" >1</td>\n",
       "    </tr>\n",
       "    <tr>\n",
       "      <th id=\"T_a0b11_level0_row25\" class=\"row_heading level0 row25\" >25</th>\n",
       "      <td id=\"T_a0b11_row25_col0\" class=\"data row25 col0\" >Seasonality Present</td>\n",
       "      <td id=\"T_a0b11_row25_col1\" class=\"data row25 col1\" >False</td>\n",
       "    </tr>\n",
       "    <tr>\n",
       "      <th id=\"T_a0b11_level0_row26\" class=\"row_heading level0 row26\" >26</th>\n",
       "      <td id=\"T_a0b11_row26_col0\" class=\"data row26 col0\" >Seasonality Type</td>\n",
       "      <td id=\"T_a0b11_row26_col1\" class=\"data row26 col1\" >None</td>\n",
       "    </tr>\n",
       "    <tr>\n",
       "      <th id=\"T_a0b11_level0_row27\" class=\"row_heading level0 row27\" >27</th>\n",
       "      <td id=\"T_a0b11_row27_col0\" class=\"data row27 col0\" >Target Strictly Positive</td>\n",
       "      <td id=\"T_a0b11_row27_col1\" class=\"data row27 col1\" >True</td>\n",
       "    </tr>\n",
       "    <tr>\n",
       "      <th id=\"T_a0b11_level0_row28\" class=\"row_heading level0 row28\" >28</th>\n",
       "      <td id=\"T_a0b11_row28_col0\" class=\"data row28 col0\" >Target White Noise</td>\n",
       "      <td id=\"T_a0b11_row28_col1\" class=\"data row28 col1\" >Yes</td>\n",
       "    </tr>\n",
       "    <tr>\n",
       "      <th id=\"T_a0b11_level0_row29\" class=\"row_heading level0 row29\" >29</th>\n",
       "      <td id=\"T_a0b11_row29_col0\" class=\"data row29 col0\" >Recommended d</td>\n",
       "      <td id=\"T_a0b11_row29_col1\" class=\"data row29 col1\" >0</td>\n",
       "    </tr>\n",
       "    <tr>\n",
       "      <th id=\"T_a0b11_level0_row30\" class=\"row_heading level0 row30\" >30</th>\n",
       "      <td id=\"T_a0b11_row30_col0\" class=\"data row30 col0\" >Recommended Seasonal D</td>\n",
       "      <td id=\"T_a0b11_row30_col1\" class=\"data row30 col1\" >0</td>\n",
       "    </tr>\n",
       "    <tr>\n",
       "      <th id=\"T_a0b11_level0_row31\" class=\"row_heading level0 row31\" >31</th>\n",
       "      <td id=\"T_a0b11_row31_col0\" class=\"data row31 col0\" >Preprocess</td>\n",
       "      <td id=\"T_a0b11_row31_col1\" class=\"data row31 col1\" >False</td>\n",
       "    </tr>\n",
       "    <tr>\n",
       "      <th id=\"T_a0b11_level0_row32\" class=\"row_heading level0 row32\" >32</th>\n",
       "      <td id=\"T_a0b11_row32_col0\" class=\"data row32 col0\" >CPU Jobs</td>\n",
       "      <td id=\"T_a0b11_row32_col1\" class=\"data row32 col1\" >-1</td>\n",
       "    </tr>\n",
       "    <tr>\n",
       "      <th id=\"T_a0b11_level0_row33\" class=\"row_heading level0 row33\" >33</th>\n",
       "      <td id=\"T_a0b11_row33_col0\" class=\"data row33 col0\" >Use GPU</td>\n",
       "      <td id=\"T_a0b11_row33_col1\" class=\"data row33 col1\" >False</td>\n",
       "    </tr>\n",
       "    <tr>\n",
       "      <th id=\"T_a0b11_level0_row34\" class=\"row_heading level0 row34\" >34</th>\n",
       "      <td id=\"T_a0b11_row34_col0\" class=\"data row34 col0\" >Log Experiment</td>\n",
       "      <td id=\"T_a0b11_row34_col1\" class=\"data row34 col1\" >False</td>\n",
       "    </tr>\n",
       "    <tr>\n",
       "      <th id=\"T_a0b11_level0_row35\" class=\"row_heading level0 row35\" >35</th>\n",
       "      <td id=\"T_a0b11_row35_col0\" class=\"data row35 col0\" >Experiment Name</td>\n",
       "      <td id=\"T_a0b11_row35_col1\" class=\"data row35 col1\" >ts-default-name</td>\n",
       "    </tr>\n",
       "    <tr>\n",
       "      <th id=\"T_a0b11_level0_row36\" class=\"row_heading level0 row36\" >36</th>\n",
       "      <td id=\"T_a0b11_row36_col0\" class=\"data row36 col0\" >USI</td>\n",
       "      <td id=\"T_a0b11_row36_col1\" class=\"data row36 col1\" >de2b</td>\n",
       "    </tr>\n",
       "  </tbody>\n",
       "</table>\n"
      ],
      "text/plain": [
       "<pandas.io.formats.style.Styler at 0x1fc4459d150>"
      ]
     },
     "metadata": {},
     "output_type": "display_data"
    },
    {
     "data": {
      "text/plain": [
       "<pycaret.time_series.forecasting.oop.TSForecastingExperiment at 0x1fc44449840>"
      ]
     },
     "execution_count": 28,
     "metadata": {},
     "output_type": "execute_result"
    }
   ],
   "source": [
    "exp = TSForecastingExperiment()\n",
    "exp.setup(data=df, fh=1, session_id=42, fig_kwargs = {\"template\": \"simple_white\",\"hoverinfo\":\"none\"})"
   ]
  },
  {
   "cell_type": "code",
   "execution_count": null,
   "metadata": {},
   "outputs": [
    {
     "data": {
      "application/vnd.plotly.v1+json": {
       "config": {
        "plotlyServerURL": "https://plot.ly"
       },
       "data": [
        {
         "hoverinfo": "none",
         "line": {
          "width": 2
         },
         "marker": {
          "size": 5
         },
         "mode": "lines+markers",
         "name": "value  (original)",
         "type": "scattergl",
         "x": [
          "2017-01-01T00:00:00",
          "2018-01-01T00:00:00",
          "2019-01-01T00:00:00",
          "2020-01-01T00:00:00",
          "2021-01-01T00:00:00",
          "2022-01-01T00:00:00",
          "2023-01-01T00:00:00"
         ],
         "xaxis": "x",
         "y": [
          190.2,
          192.9,
          194.8,
          197.3,
          200.8,
          204.7,
          208.2
         ],
         "yaxis": "y"
        }
       ],
       "layout": {
        "annotations": [
         {
          "font": {
           "size": 16
          },
          "showarrow": false,
          "text": "value ",
          "x": 0.5,
          "xanchor": "center",
          "xref": "paper",
          "y": 1,
          "yanchor": "bottom",
          "yref": "paper"
         }
        ],
        "autosize": false,
        "height": 500,
        "showlegend": true,
        "template": {
         "data": {
          "bar": [
           {
            "error_x": {
             "color": "rgb(36,36,36)"
            },
            "error_y": {
             "color": "rgb(36,36,36)"
            },
            "marker": {
             "line": {
              "color": "white",
              "width": 0.5
             },
             "pattern": {
              "fillmode": "overlay",
              "size": 10,
              "solidity": 0.2
             }
            },
            "type": "bar"
           }
          ],
          "barpolar": [
           {
            "marker": {
             "line": {
              "color": "white",
              "width": 0.5
             },
             "pattern": {
              "fillmode": "overlay",
              "size": 10,
              "solidity": 0.2
             }
            },
            "type": "barpolar"
           }
          ],
          "carpet": [
           {
            "aaxis": {
             "endlinecolor": "rgb(36,36,36)",
             "gridcolor": "white",
             "linecolor": "white",
             "minorgridcolor": "white",
             "startlinecolor": "rgb(36,36,36)"
            },
            "baxis": {
             "endlinecolor": "rgb(36,36,36)",
             "gridcolor": "white",
             "linecolor": "white",
             "minorgridcolor": "white",
             "startlinecolor": "rgb(36,36,36)"
            },
            "type": "carpet"
           }
          ],
          "choropleth": [
           {
            "colorbar": {
             "outlinewidth": 1,
             "tickcolor": "rgb(36,36,36)",
             "ticks": "outside"
            },
            "type": "choropleth"
           }
          ],
          "contour": [
           {
            "colorbar": {
             "outlinewidth": 1,
             "tickcolor": "rgb(36,36,36)",
             "ticks": "outside"
            },
            "colorscale": [
             [
              0,
              "#440154"
             ],
             [
              0.1111111111111111,
              "#482878"
             ],
             [
              0.2222222222222222,
              "#3e4989"
             ],
             [
              0.3333333333333333,
              "#31688e"
             ],
             [
              0.4444444444444444,
              "#26828e"
             ],
             [
              0.5555555555555556,
              "#1f9e89"
             ],
             [
              0.6666666666666666,
              "#35b779"
             ],
             [
              0.7777777777777778,
              "#6ece58"
             ],
             [
              0.8888888888888888,
              "#b5de2b"
             ],
             [
              1,
              "#fde725"
             ]
            ],
            "type": "contour"
           }
          ],
          "contourcarpet": [
           {
            "colorbar": {
             "outlinewidth": 1,
             "tickcolor": "rgb(36,36,36)",
             "ticks": "outside"
            },
            "type": "contourcarpet"
           }
          ],
          "heatmap": [
           {
            "colorbar": {
             "outlinewidth": 1,
             "tickcolor": "rgb(36,36,36)",
             "ticks": "outside"
            },
            "colorscale": [
             [
              0,
              "#440154"
             ],
             [
              0.1111111111111111,
              "#482878"
             ],
             [
              0.2222222222222222,
              "#3e4989"
             ],
             [
              0.3333333333333333,
              "#31688e"
             ],
             [
              0.4444444444444444,
              "#26828e"
             ],
             [
              0.5555555555555556,
              "#1f9e89"
             ],
             [
              0.6666666666666666,
              "#35b779"
             ],
             [
              0.7777777777777778,
              "#6ece58"
             ],
             [
              0.8888888888888888,
              "#b5de2b"
             ],
             [
              1,
              "#fde725"
             ]
            ],
            "type": "heatmap"
           }
          ],
          "heatmapgl": [
           {
            "colorbar": {
             "outlinewidth": 1,
             "tickcolor": "rgb(36,36,36)",
             "ticks": "outside"
            },
            "colorscale": [
             [
              0,
              "#440154"
             ],
             [
              0.1111111111111111,
              "#482878"
             ],
             [
              0.2222222222222222,
              "#3e4989"
             ],
             [
              0.3333333333333333,
              "#31688e"
             ],
             [
              0.4444444444444444,
              "#26828e"
             ],
             [
              0.5555555555555556,
              "#1f9e89"
             ],
             [
              0.6666666666666666,
              "#35b779"
             ],
             [
              0.7777777777777778,
              "#6ece58"
             ],
             [
              0.8888888888888888,
              "#b5de2b"
             ],
             [
              1,
              "#fde725"
             ]
            ],
            "type": "heatmapgl"
           }
          ],
          "histogram": [
           {
            "marker": {
             "line": {
              "color": "white",
              "width": 0.6
             }
            },
            "type": "histogram"
           }
          ],
          "histogram2d": [
           {
            "colorbar": {
             "outlinewidth": 1,
             "tickcolor": "rgb(36,36,36)",
             "ticks": "outside"
            },
            "colorscale": [
             [
              0,
              "#440154"
             ],
             [
              0.1111111111111111,
              "#482878"
             ],
             [
              0.2222222222222222,
              "#3e4989"
             ],
             [
              0.3333333333333333,
              "#31688e"
             ],
             [
              0.4444444444444444,
              "#26828e"
             ],
             [
              0.5555555555555556,
              "#1f9e89"
             ],
             [
              0.6666666666666666,
              "#35b779"
             ],
             [
              0.7777777777777778,
              "#6ece58"
             ],
             [
              0.8888888888888888,
              "#b5de2b"
             ],
             [
              1,
              "#fde725"
             ]
            ],
            "type": "histogram2d"
           }
          ],
          "histogram2dcontour": [
           {
            "colorbar": {
             "outlinewidth": 1,
             "tickcolor": "rgb(36,36,36)",
             "ticks": "outside"
            },
            "colorscale": [
             [
              0,
              "#440154"
             ],
             [
              0.1111111111111111,
              "#482878"
             ],
             [
              0.2222222222222222,
              "#3e4989"
             ],
             [
              0.3333333333333333,
              "#31688e"
             ],
             [
              0.4444444444444444,
              "#26828e"
             ],
             [
              0.5555555555555556,
              "#1f9e89"
             ],
             [
              0.6666666666666666,
              "#35b779"
             ],
             [
              0.7777777777777778,
              "#6ece58"
             ],
             [
              0.8888888888888888,
              "#b5de2b"
             ],
             [
              1,
              "#fde725"
             ]
            ],
            "type": "histogram2dcontour"
           }
          ],
          "mesh3d": [
           {
            "colorbar": {
             "outlinewidth": 1,
             "tickcolor": "rgb(36,36,36)",
             "ticks": "outside"
            },
            "type": "mesh3d"
           }
          ],
          "parcoords": [
           {
            "line": {
             "colorbar": {
              "outlinewidth": 1,
              "tickcolor": "rgb(36,36,36)",
              "ticks": "outside"
             }
            },
            "type": "parcoords"
           }
          ],
          "pie": [
           {
            "automargin": true,
            "type": "pie"
           }
          ],
          "scatter": [
           {
            "fillpattern": {
             "fillmode": "overlay",
             "size": 10,
             "solidity": 0.2
            },
            "type": "scatter"
           }
          ],
          "scatter3d": [
           {
            "line": {
             "colorbar": {
              "outlinewidth": 1,
              "tickcolor": "rgb(36,36,36)",
              "ticks": "outside"
             }
            },
            "marker": {
             "colorbar": {
              "outlinewidth": 1,
              "tickcolor": "rgb(36,36,36)",
              "ticks": "outside"
             }
            },
            "type": "scatter3d"
           }
          ],
          "scattercarpet": [
           {
            "marker": {
             "colorbar": {
              "outlinewidth": 1,
              "tickcolor": "rgb(36,36,36)",
              "ticks": "outside"
             }
            },
            "type": "scattercarpet"
           }
          ],
          "scattergeo": [
           {
            "marker": {
             "colorbar": {
              "outlinewidth": 1,
              "tickcolor": "rgb(36,36,36)",
              "ticks": "outside"
             }
            },
            "type": "scattergeo"
           }
          ],
          "scattergl": [
           {
            "marker": {
             "colorbar": {
              "outlinewidth": 1,
              "tickcolor": "rgb(36,36,36)",
              "ticks": "outside"
             }
            },
            "type": "scattergl"
           }
          ],
          "scattermapbox": [
           {
            "marker": {
             "colorbar": {
              "outlinewidth": 1,
              "tickcolor": "rgb(36,36,36)",
              "ticks": "outside"
             }
            },
            "type": "scattermapbox"
           }
          ],
          "scatterpolar": [
           {
            "marker": {
             "colorbar": {
              "outlinewidth": 1,
              "tickcolor": "rgb(36,36,36)",
              "ticks": "outside"
             }
            },
            "type": "scatterpolar"
           }
          ],
          "scatterpolargl": [
           {
            "marker": {
             "colorbar": {
              "outlinewidth": 1,
              "tickcolor": "rgb(36,36,36)",
              "ticks": "outside"
             }
            },
            "type": "scatterpolargl"
           }
          ],
          "scatterternary": [
           {
            "marker": {
             "colorbar": {
              "outlinewidth": 1,
              "tickcolor": "rgb(36,36,36)",
              "ticks": "outside"
             }
            },
            "type": "scatterternary"
           }
          ],
          "surface": [
           {
            "colorbar": {
             "outlinewidth": 1,
             "tickcolor": "rgb(36,36,36)",
             "ticks": "outside"
            },
            "colorscale": [
             [
              0,
              "#440154"
             ],
             [
              0.1111111111111111,
              "#482878"
             ],
             [
              0.2222222222222222,
              "#3e4989"
             ],
             [
              0.3333333333333333,
              "#31688e"
             ],
             [
              0.4444444444444444,
              "#26828e"
             ],
             [
              0.5555555555555556,
              "#1f9e89"
             ],
             [
              0.6666666666666666,
              "#35b779"
             ],
             [
              0.7777777777777778,
              "#6ece58"
             ],
             [
              0.8888888888888888,
              "#b5de2b"
             ],
             [
              1,
              "#fde725"
             ]
            ],
            "type": "surface"
           }
          ],
          "table": [
           {
            "cells": {
             "fill": {
              "color": "rgb(237,237,237)"
             },
             "line": {
              "color": "white"
             }
            },
            "header": {
             "fill": {
              "color": "rgb(217,217,217)"
             },
             "line": {
              "color": "white"
             }
            },
            "type": "table"
           }
          ]
         },
         "layout": {
          "annotationdefaults": {
           "arrowhead": 0,
           "arrowwidth": 1
          },
          "autotypenumbers": "strict",
          "coloraxis": {
           "colorbar": {
            "outlinewidth": 1,
            "tickcolor": "rgb(36,36,36)",
            "ticks": "outside"
           }
          },
          "colorscale": {
           "diverging": [
            [
             0,
             "rgb(103,0,31)"
            ],
            [
             0.1,
             "rgb(178,24,43)"
            ],
            [
             0.2,
             "rgb(214,96,77)"
            ],
            [
             0.3,
             "rgb(244,165,130)"
            ],
            [
             0.4,
             "rgb(253,219,199)"
            ],
            [
             0.5,
             "rgb(247,247,247)"
            ],
            [
             0.6,
             "rgb(209,229,240)"
            ],
            [
             0.7,
             "rgb(146,197,222)"
            ],
            [
             0.8,
             "rgb(67,147,195)"
            ],
            [
             0.9,
             "rgb(33,102,172)"
            ],
            [
             1,
             "rgb(5,48,97)"
            ]
           ],
           "sequential": [
            [
             0,
             "#440154"
            ],
            [
             0.1111111111111111,
             "#482878"
            ],
            [
             0.2222222222222222,
             "#3e4989"
            ],
            [
             0.3333333333333333,
             "#31688e"
            ],
            [
             0.4444444444444444,
             "#26828e"
            ],
            [
             0.5555555555555556,
             "#1f9e89"
            ],
            [
             0.6666666666666666,
             "#35b779"
            ],
            [
             0.7777777777777778,
             "#6ece58"
            ],
            [
             0.8888888888888888,
             "#b5de2b"
            ],
            [
             1,
             "#fde725"
            ]
           ],
           "sequentialminus": [
            [
             0,
             "#440154"
            ],
            [
             0.1111111111111111,
             "#482878"
            ],
            [
             0.2222222222222222,
             "#3e4989"
            ],
            [
             0.3333333333333333,
             "#31688e"
            ],
            [
             0.4444444444444444,
             "#26828e"
            ],
            [
             0.5555555555555556,
             "#1f9e89"
            ],
            [
             0.6666666666666666,
             "#35b779"
            ],
            [
             0.7777777777777778,
             "#6ece58"
            ],
            [
             0.8888888888888888,
             "#b5de2b"
            ],
            [
             1,
             "#fde725"
            ]
           ]
          },
          "colorway": [
           "#1F77B4",
           "#FF7F0E",
           "#2CA02C",
           "#D62728",
           "#9467BD",
           "#8C564B",
           "#E377C2",
           "#7F7F7F",
           "#BCBD22",
           "#17BECF"
          ],
          "font": {
           "color": "rgb(36,36,36)"
          },
          "geo": {
           "bgcolor": "white",
           "lakecolor": "white",
           "landcolor": "white",
           "showlakes": true,
           "showland": true,
           "subunitcolor": "white"
          },
          "hoverlabel": {
           "align": "left"
          },
          "hovermode": "closest",
          "mapbox": {
           "style": "light"
          },
          "paper_bgcolor": "white",
          "plot_bgcolor": "white",
          "polar": {
           "angularaxis": {
            "gridcolor": "rgb(232,232,232)",
            "linecolor": "rgb(36,36,36)",
            "showgrid": false,
            "showline": true,
            "ticks": "outside"
           },
           "bgcolor": "white",
           "radialaxis": {
            "gridcolor": "rgb(232,232,232)",
            "linecolor": "rgb(36,36,36)",
            "showgrid": false,
            "showline": true,
            "ticks": "outside"
           }
          },
          "scene": {
           "xaxis": {
            "backgroundcolor": "white",
            "gridcolor": "rgb(232,232,232)",
            "gridwidth": 2,
            "linecolor": "rgb(36,36,36)",
            "showbackground": true,
            "showgrid": false,
            "showline": true,
            "ticks": "outside",
            "zeroline": false,
            "zerolinecolor": "rgb(36,36,36)"
           },
           "yaxis": {
            "backgroundcolor": "white",
            "gridcolor": "rgb(232,232,232)",
            "gridwidth": 2,
            "linecolor": "rgb(36,36,36)",
            "showbackground": true,
            "showgrid": false,
            "showline": true,
            "ticks": "outside",
            "zeroline": false,
            "zerolinecolor": "rgb(36,36,36)"
           },
           "zaxis": {
            "backgroundcolor": "white",
            "gridcolor": "rgb(232,232,232)",
            "gridwidth": 2,
            "linecolor": "rgb(36,36,36)",
            "showbackground": true,
            "showgrid": false,
            "showline": true,
            "ticks": "outside",
            "zeroline": false,
            "zerolinecolor": "rgb(36,36,36)"
           }
          },
          "shapedefaults": {
           "fillcolor": "black",
           "line": {
            "width": 0
           },
           "opacity": 0.3
          },
          "ternary": {
           "aaxis": {
            "gridcolor": "rgb(232,232,232)",
            "linecolor": "rgb(36,36,36)",
            "showgrid": false,
            "showline": true,
            "ticks": "outside"
           },
           "baxis": {
            "gridcolor": "rgb(232,232,232)",
            "linecolor": "rgb(36,36,36)",
            "showgrid": false,
            "showline": true,
            "ticks": "outside"
           },
           "bgcolor": "white",
           "caxis": {
            "gridcolor": "rgb(232,232,232)",
            "linecolor": "rgb(36,36,36)",
            "showgrid": false,
            "showline": true,
            "ticks": "outside"
           }
          },
          "title": {
           "x": 0.05
          },
          "xaxis": {
           "automargin": true,
           "gridcolor": "rgb(232,232,232)",
           "linecolor": "rgb(36,36,36)",
           "showgrid": false,
           "showline": true,
           "ticks": "outside",
           "title": {
            "standoff": 15
           },
           "zeroline": false,
           "zerolinecolor": "rgb(36,36,36)"
          },
          "yaxis": {
           "automargin": true,
           "gridcolor": "rgb(232,232,232)",
           "linecolor": "rgb(36,36,36)",
           "showgrid": false,
           "showline": true,
           "ticks": "outside",
           "title": {
            "standoff": 15
           },
           "zeroline": false,
           "zerolinecolor": "rgb(36,36,36)"
          }
         }
        },
        "title": {
         "text": "Time Series | Target = value "
        },
        "width": 1000,
        "xaxis": {
         "anchor": "y",
         "domain": [
          0,
          1
         ]
        },
        "yaxis": {
         "anchor": "x",
         "domain": [
          0,
          1
         ]
        }
       }
      }
     },
     "metadata": {},
     "output_type": "display_data"
    }
   ],
   "source": [
    "exp.plot_model(plot=\"ts\",fig_kwargs = {\"height\":500,\"width\":1000,\"template\": \"simple_white\",\"hoverinfo\":\"none\",\"big_data_threshold\":10})"
   ]
  },
  {
   "cell_type": "markdown",
   "metadata": {},
   "source": [
    "## Checking Train-Test Split"
   ]
  },
  {
   "cell_type": "code",
   "execution_count": null,
   "metadata": {},
   "outputs": [
    {
     "data": {
      "application/vnd.plotly.v1+json": {
       "config": {
        "plotlyServerURL": "https://plot.ly"
       },
       "data": [
        {
         "hoverinfo": "none",
         "line": {
          "width": 2
         },
         "marker": {
          "size": 5
         },
         "mode": "lines+markers",
         "name": "Train (original)",
         "type": "scattergl",
         "x": [
          "2017-01-01T00:00:00",
          "2018-01-01T00:00:00",
          "2019-01-01T00:00:00",
          "2020-01-01T00:00:00",
          "2021-01-01T00:00:00",
          "2022-01-01T00:00:00",
          "2023-01-01T00:00:00"
         ],
         "xaxis": "x",
         "y": [
          190.2,
          192.9,
          194.8,
          197.3,
          200.8,
          204.7,
          null
         ],
         "yaxis": "y"
        },
        {
         "hoverinfo": "none",
         "line": {
          "width": 2
         },
         "marker": {
          "size": 5
         },
         "mode": "lines+markers",
         "name": "Test (original)",
         "type": "scattergl",
         "x": [
          "2017-01-01T00:00:00",
          "2018-01-01T00:00:00",
          "2019-01-01T00:00:00",
          "2020-01-01T00:00:00",
          "2021-01-01T00:00:00",
          "2022-01-01T00:00:00",
          "2023-01-01T00:00:00"
         ],
         "xaxis": "x",
         "y": [
          null,
          null,
          null,
          null,
          null,
          null,
          208.2
         ],
         "yaxis": "y"
        }
       ],
       "layout": {
        "annotations": [
         {
          "font": {
           "size": 16
          },
          "showarrow": false,
          "text": "value ",
          "x": 0.5,
          "xanchor": "center",
          "xref": "paper",
          "y": 1,
          "yanchor": "bottom",
          "yref": "paper"
         }
        ],
        "autosize": false,
        "height": 500,
        "showlegend": true,
        "template": {
         "data": {
          "bar": [
           {
            "error_x": {
             "color": "rgb(36,36,36)"
            },
            "error_y": {
             "color": "rgb(36,36,36)"
            },
            "marker": {
             "line": {
              "color": "white",
              "width": 0.5
             },
             "pattern": {
              "fillmode": "overlay",
              "size": 10,
              "solidity": 0.2
             }
            },
            "type": "bar"
           }
          ],
          "barpolar": [
           {
            "marker": {
             "line": {
              "color": "white",
              "width": 0.5
             },
             "pattern": {
              "fillmode": "overlay",
              "size": 10,
              "solidity": 0.2
             }
            },
            "type": "barpolar"
           }
          ],
          "carpet": [
           {
            "aaxis": {
             "endlinecolor": "rgb(36,36,36)",
             "gridcolor": "white",
             "linecolor": "white",
             "minorgridcolor": "white",
             "startlinecolor": "rgb(36,36,36)"
            },
            "baxis": {
             "endlinecolor": "rgb(36,36,36)",
             "gridcolor": "white",
             "linecolor": "white",
             "minorgridcolor": "white",
             "startlinecolor": "rgb(36,36,36)"
            },
            "type": "carpet"
           }
          ],
          "choropleth": [
           {
            "colorbar": {
             "outlinewidth": 1,
             "tickcolor": "rgb(36,36,36)",
             "ticks": "outside"
            },
            "type": "choropleth"
           }
          ],
          "contour": [
           {
            "colorbar": {
             "outlinewidth": 1,
             "tickcolor": "rgb(36,36,36)",
             "ticks": "outside"
            },
            "colorscale": [
             [
              0,
              "#440154"
             ],
             [
              0.1111111111111111,
              "#482878"
             ],
             [
              0.2222222222222222,
              "#3e4989"
             ],
             [
              0.3333333333333333,
              "#31688e"
             ],
             [
              0.4444444444444444,
              "#26828e"
             ],
             [
              0.5555555555555556,
              "#1f9e89"
             ],
             [
              0.6666666666666666,
              "#35b779"
             ],
             [
              0.7777777777777778,
              "#6ece58"
             ],
             [
              0.8888888888888888,
              "#b5de2b"
             ],
             [
              1,
              "#fde725"
             ]
            ],
            "type": "contour"
           }
          ],
          "contourcarpet": [
           {
            "colorbar": {
             "outlinewidth": 1,
             "tickcolor": "rgb(36,36,36)",
             "ticks": "outside"
            },
            "type": "contourcarpet"
           }
          ],
          "heatmap": [
           {
            "colorbar": {
             "outlinewidth": 1,
             "tickcolor": "rgb(36,36,36)",
             "ticks": "outside"
            },
            "colorscale": [
             [
              0,
              "#440154"
             ],
             [
              0.1111111111111111,
              "#482878"
             ],
             [
              0.2222222222222222,
              "#3e4989"
             ],
             [
              0.3333333333333333,
              "#31688e"
             ],
             [
              0.4444444444444444,
              "#26828e"
             ],
             [
              0.5555555555555556,
              "#1f9e89"
             ],
             [
              0.6666666666666666,
              "#35b779"
             ],
             [
              0.7777777777777778,
              "#6ece58"
             ],
             [
              0.8888888888888888,
              "#b5de2b"
             ],
             [
              1,
              "#fde725"
             ]
            ],
            "type": "heatmap"
           }
          ],
          "heatmapgl": [
           {
            "colorbar": {
             "outlinewidth": 1,
             "tickcolor": "rgb(36,36,36)",
             "ticks": "outside"
            },
            "colorscale": [
             [
              0,
              "#440154"
             ],
             [
              0.1111111111111111,
              "#482878"
             ],
             [
              0.2222222222222222,
              "#3e4989"
             ],
             [
              0.3333333333333333,
              "#31688e"
             ],
             [
              0.4444444444444444,
              "#26828e"
             ],
             [
              0.5555555555555556,
              "#1f9e89"
             ],
             [
              0.6666666666666666,
              "#35b779"
             ],
             [
              0.7777777777777778,
              "#6ece58"
             ],
             [
              0.8888888888888888,
              "#b5de2b"
             ],
             [
              1,
              "#fde725"
             ]
            ],
            "type": "heatmapgl"
           }
          ],
          "histogram": [
           {
            "marker": {
             "line": {
              "color": "white",
              "width": 0.6
             }
            },
            "type": "histogram"
           }
          ],
          "histogram2d": [
           {
            "colorbar": {
             "outlinewidth": 1,
             "tickcolor": "rgb(36,36,36)",
             "ticks": "outside"
            },
            "colorscale": [
             [
              0,
              "#440154"
             ],
             [
              0.1111111111111111,
              "#482878"
             ],
             [
              0.2222222222222222,
              "#3e4989"
             ],
             [
              0.3333333333333333,
              "#31688e"
             ],
             [
              0.4444444444444444,
              "#26828e"
             ],
             [
              0.5555555555555556,
              "#1f9e89"
             ],
             [
              0.6666666666666666,
              "#35b779"
             ],
             [
              0.7777777777777778,
              "#6ece58"
             ],
             [
              0.8888888888888888,
              "#b5de2b"
             ],
             [
              1,
              "#fde725"
             ]
            ],
            "type": "histogram2d"
           }
          ],
          "histogram2dcontour": [
           {
            "colorbar": {
             "outlinewidth": 1,
             "tickcolor": "rgb(36,36,36)",
             "ticks": "outside"
            },
            "colorscale": [
             [
              0,
              "#440154"
             ],
             [
              0.1111111111111111,
              "#482878"
             ],
             [
              0.2222222222222222,
              "#3e4989"
             ],
             [
              0.3333333333333333,
              "#31688e"
             ],
             [
              0.4444444444444444,
              "#26828e"
             ],
             [
              0.5555555555555556,
              "#1f9e89"
             ],
             [
              0.6666666666666666,
              "#35b779"
             ],
             [
              0.7777777777777778,
              "#6ece58"
             ],
             [
              0.8888888888888888,
              "#b5de2b"
             ],
             [
              1,
              "#fde725"
             ]
            ],
            "type": "histogram2dcontour"
           }
          ],
          "mesh3d": [
           {
            "colorbar": {
             "outlinewidth": 1,
             "tickcolor": "rgb(36,36,36)",
             "ticks": "outside"
            },
            "type": "mesh3d"
           }
          ],
          "parcoords": [
           {
            "line": {
             "colorbar": {
              "outlinewidth": 1,
              "tickcolor": "rgb(36,36,36)",
              "ticks": "outside"
             }
            },
            "type": "parcoords"
           }
          ],
          "pie": [
           {
            "automargin": true,
            "type": "pie"
           }
          ],
          "scatter": [
           {
            "fillpattern": {
             "fillmode": "overlay",
             "size": 10,
             "solidity": 0.2
            },
            "type": "scatter"
           }
          ],
          "scatter3d": [
           {
            "line": {
             "colorbar": {
              "outlinewidth": 1,
              "tickcolor": "rgb(36,36,36)",
              "ticks": "outside"
             }
            },
            "marker": {
             "colorbar": {
              "outlinewidth": 1,
              "tickcolor": "rgb(36,36,36)",
              "ticks": "outside"
             }
            },
            "type": "scatter3d"
           }
          ],
          "scattercarpet": [
           {
            "marker": {
             "colorbar": {
              "outlinewidth": 1,
              "tickcolor": "rgb(36,36,36)",
              "ticks": "outside"
             }
            },
            "type": "scattercarpet"
           }
          ],
          "scattergeo": [
           {
            "marker": {
             "colorbar": {
              "outlinewidth": 1,
              "tickcolor": "rgb(36,36,36)",
              "ticks": "outside"
             }
            },
            "type": "scattergeo"
           }
          ],
          "scattergl": [
           {
            "marker": {
             "colorbar": {
              "outlinewidth": 1,
              "tickcolor": "rgb(36,36,36)",
              "ticks": "outside"
             }
            },
            "type": "scattergl"
           }
          ],
          "scattermapbox": [
           {
            "marker": {
             "colorbar": {
              "outlinewidth": 1,
              "tickcolor": "rgb(36,36,36)",
              "ticks": "outside"
             }
            },
            "type": "scattermapbox"
           }
          ],
          "scatterpolar": [
           {
            "marker": {
             "colorbar": {
              "outlinewidth": 1,
              "tickcolor": "rgb(36,36,36)",
              "ticks": "outside"
             }
            },
            "type": "scatterpolar"
           }
          ],
          "scatterpolargl": [
           {
            "marker": {
             "colorbar": {
              "outlinewidth": 1,
              "tickcolor": "rgb(36,36,36)",
              "ticks": "outside"
             }
            },
            "type": "scatterpolargl"
           }
          ],
          "scatterternary": [
           {
            "marker": {
             "colorbar": {
              "outlinewidth": 1,
              "tickcolor": "rgb(36,36,36)",
              "ticks": "outside"
             }
            },
            "type": "scatterternary"
           }
          ],
          "surface": [
           {
            "colorbar": {
             "outlinewidth": 1,
             "tickcolor": "rgb(36,36,36)",
             "ticks": "outside"
            },
            "colorscale": [
             [
              0,
              "#440154"
             ],
             [
              0.1111111111111111,
              "#482878"
             ],
             [
              0.2222222222222222,
              "#3e4989"
             ],
             [
              0.3333333333333333,
              "#31688e"
             ],
             [
              0.4444444444444444,
              "#26828e"
             ],
             [
              0.5555555555555556,
              "#1f9e89"
             ],
             [
              0.6666666666666666,
              "#35b779"
             ],
             [
              0.7777777777777778,
              "#6ece58"
             ],
             [
              0.8888888888888888,
              "#b5de2b"
             ],
             [
              1,
              "#fde725"
             ]
            ],
            "type": "surface"
           }
          ],
          "table": [
           {
            "cells": {
             "fill": {
              "color": "rgb(237,237,237)"
             },
             "line": {
              "color": "white"
             }
            },
            "header": {
             "fill": {
              "color": "rgb(217,217,217)"
             },
             "line": {
              "color": "white"
             }
            },
            "type": "table"
           }
          ]
         },
         "layout": {
          "annotationdefaults": {
           "arrowhead": 0,
           "arrowwidth": 1
          },
          "autotypenumbers": "strict",
          "coloraxis": {
           "colorbar": {
            "outlinewidth": 1,
            "tickcolor": "rgb(36,36,36)",
            "ticks": "outside"
           }
          },
          "colorscale": {
           "diverging": [
            [
             0,
             "rgb(103,0,31)"
            ],
            [
             0.1,
             "rgb(178,24,43)"
            ],
            [
             0.2,
             "rgb(214,96,77)"
            ],
            [
             0.3,
             "rgb(244,165,130)"
            ],
            [
             0.4,
             "rgb(253,219,199)"
            ],
            [
             0.5,
             "rgb(247,247,247)"
            ],
            [
             0.6,
             "rgb(209,229,240)"
            ],
            [
             0.7,
             "rgb(146,197,222)"
            ],
            [
             0.8,
             "rgb(67,147,195)"
            ],
            [
             0.9,
             "rgb(33,102,172)"
            ],
            [
             1,
             "rgb(5,48,97)"
            ]
           ],
           "sequential": [
            [
             0,
             "#440154"
            ],
            [
             0.1111111111111111,
             "#482878"
            ],
            [
             0.2222222222222222,
             "#3e4989"
            ],
            [
             0.3333333333333333,
             "#31688e"
            ],
            [
             0.4444444444444444,
             "#26828e"
            ],
            [
             0.5555555555555556,
             "#1f9e89"
            ],
            [
             0.6666666666666666,
             "#35b779"
            ],
            [
             0.7777777777777778,
             "#6ece58"
            ],
            [
             0.8888888888888888,
             "#b5de2b"
            ],
            [
             1,
             "#fde725"
            ]
           ],
           "sequentialminus": [
            [
             0,
             "#440154"
            ],
            [
             0.1111111111111111,
             "#482878"
            ],
            [
             0.2222222222222222,
             "#3e4989"
            ],
            [
             0.3333333333333333,
             "#31688e"
            ],
            [
             0.4444444444444444,
             "#26828e"
            ],
            [
             0.5555555555555556,
             "#1f9e89"
            ],
            [
             0.6666666666666666,
             "#35b779"
            ],
            [
             0.7777777777777778,
             "#6ece58"
            ],
            [
             0.8888888888888888,
             "#b5de2b"
            ],
            [
             1,
             "#fde725"
            ]
           ]
          },
          "colorway": [
           "#1F77B4",
           "#FF7F0E",
           "#2CA02C",
           "#D62728",
           "#9467BD",
           "#8C564B",
           "#E377C2",
           "#7F7F7F",
           "#BCBD22",
           "#17BECF"
          ],
          "font": {
           "color": "rgb(36,36,36)"
          },
          "geo": {
           "bgcolor": "white",
           "lakecolor": "white",
           "landcolor": "white",
           "showlakes": true,
           "showland": true,
           "subunitcolor": "white"
          },
          "hoverlabel": {
           "align": "left"
          },
          "hovermode": "closest",
          "mapbox": {
           "style": "light"
          },
          "paper_bgcolor": "white",
          "plot_bgcolor": "white",
          "polar": {
           "angularaxis": {
            "gridcolor": "rgb(232,232,232)",
            "linecolor": "rgb(36,36,36)",
            "showgrid": false,
            "showline": true,
            "ticks": "outside"
           },
           "bgcolor": "white",
           "radialaxis": {
            "gridcolor": "rgb(232,232,232)",
            "linecolor": "rgb(36,36,36)",
            "showgrid": false,
            "showline": true,
            "ticks": "outside"
           }
          },
          "scene": {
           "xaxis": {
            "backgroundcolor": "white",
            "gridcolor": "rgb(232,232,232)",
            "gridwidth": 2,
            "linecolor": "rgb(36,36,36)",
            "showbackground": true,
            "showgrid": false,
            "showline": true,
            "ticks": "outside",
            "zeroline": false,
            "zerolinecolor": "rgb(36,36,36)"
           },
           "yaxis": {
            "backgroundcolor": "white",
            "gridcolor": "rgb(232,232,232)",
            "gridwidth": 2,
            "linecolor": "rgb(36,36,36)",
            "showbackground": true,
            "showgrid": false,
            "showline": true,
            "ticks": "outside",
            "zeroline": false,
            "zerolinecolor": "rgb(36,36,36)"
           },
           "zaxis": {
            "backgroundcolor": "white",
            "gridcolor": "rgb(232,232,232)",
            "gridwidth": 2,
            "linecolor": "rgb(36,36,36)",
            "showbackground": true,
            "showgrid": false,
            "showline": true,
            "ticks": "outside",
            "zeroline": false,
            "zerolinecolor": "rgb(36,36,36)"
           }
          },
          "shapedefaults": {
           "fillcolor": "black",
           "line": {
            "width": 0
           },
           "opacity": 0.3
          },
          "ternary": {
           "aaxis": {
            "gridcolor": "rgb(232,232,232)",
            "linecolor": "rgb(36,36,36)",
            "showgrid": false,
            "showline": true,
            "ticks": "outside"
           },
           "baxis": {
            "gridcolor": "rgb(232,232,232)",
            "linecolor": "rgb(36,36,36)",
            "showgrid": false,
            "showline": true,
            "ticks": "outside"
           },
           "bgcolor": "white",
           "caxis": {
            "gridcolor": "rgb(232,232,232)",
            "linecolor": "rgb(36,36,36)",
            "showgrid": false,
            "showline": true,
            "ticks": "outside"
           }
          },
          "title": {
           "x": 0.05
          },
          "xaxis": {
           "automargin": true,
           "gridcolor": "rgb(232,232,232)",
           "linecolor": "rgb(36,36,36)",
           "showgrid": false,
           "showline": true,
           "ticks": "outside",
           "title": {
            "standoff": 15
           },
           "zeroline": false,
           "zerolinecolor": "rgb(36,36,36)"
          },
          "yaxis": {
           "automargin": true,
           "gridcolor": "rgb(232,232,232)",
           "linecolor": "rgb(36,36,36)",
           "showgrid": false,
           "showline": true,
           "ticks": "outside",
           "title": {
            "standoff": 15
           },
           "zeroline": false,
           "zerolinecolor": "rgb(36,36,36)"
          }
         }
        },
        "title": {
         "text": "Time Series | Target = value "
        },
        "width": 1000,
        "xaxis": {
         "anchor": "y",
         "domain": [
          0,
          1
         ]
        },
        "yaxis": {
         "anchor": "x",
         "domain": [
          0,
          1
         ]
        }
       }
      }
     },
     "metadata": {},
     "output_type": "display_data"
    }
   ],
   "source": [
    "exp.plot_model(plot=\"train_test_split\",fig_kwargs = {\"height\":500,\"width\":1000,\"template\": \"simple_white\",\"hoverinfo\":\"none\",\"big_data_threshold\":10})"
   ]
  },
  {
   "cell_type": "markdown",
   "metadata": {},
   "source": [
    "## Comparing Models\n",
    "\n",
    "The most basic assumption of time series forecasting is that past patterns continue into the future. \n",
    "Based on this assumption, in the short-term future forecast, since the environment in which the data is generated is similar to the present, \n",
    "the uncertainty is small and the forecast can be well-predicted. However, as we move towards long-term future forecasting, the possibility of the environment in which data is generated is likely to change, and unpredictable situations occur, and as errors continue to accumulate, uncertainty about the forecast data is bound to increase.\n",
    "\n",
    "We compare the performance of various models and try to select the 4 models with the best performance."
   ]
  },
  {
   "cell_type": "code",
   "execution_count": null,
   "metadata": {},
   "outputs": [
    {
     "data": {
      "text/html": [],
      "text/plain": [
       "<IPython.core.display.HTML object>"
      ]
     },
     "metadata": {},
     "output_type": "display_data"
    },
    {
     "data": {
      "text/html": [
       "<style type=\"text/css\">\n",
       "#T_711f8 th {\n",
       "  text-align: left;\n",
       "}\n",
       "#T_711f8_row0_col0, #T_711f8_row1_col0, #T_711f8_row1_col1, #T_711f8_row1_col2, #T_711f8_row1_col3, #T_711f8_row1_col4, #T_711f8_row1_col5, #T_711f8_row1_col6, #T_711f8_row2_col0, #T_711f8_row2_col1, #T_711f8_row2_col2, #T_711f8_row2_col3, #T_711f8_row2_col4, #T_711f8_row2_col5, #T_711f8_row2_col6, #T_711f8_row3_col0, #T_711f8_row3_col1, #T_711f8_row3_col2, #T_711f8_row3_col3, #T_711f8_row3_col4, #T_711f8_row3_col5, #T_711f8_row3_col6, #T_711f8_row4_col0, #T_711f8_row4_col1, #T_711f8_row4_col2, #T_711f8_row4_col3, #T_711f8_row4_col4, #T_711f8_row4_col5, #T_711f8_row4_col6, #T_711f8_row5_col0, #T_711f8_row5_col1, #T_711f8_row5_col2, #T_711f8_row5_col3, #T_711f8_row5_col4, #T_711f8_row5_col5, #T_711f8_row5_col6, #T_711f8_row6_col0, #T_711f8_row6_col1, #T_711f8_row6_col2, #T_711f8_row6_col3, #T_711f8_row6_col4, #T_711f8_row6_col5, #T_711f8_row6_col6, #T_711f8_row7_col0, #T_711f8_row7_col1, #T_711f8_row7_col2, #T_711f8_row7_col3, #T_711f8_row7_col4, #T_711f8_row7_col5, #T_711f8_row7_col6, #T_711f8_row8_col0, #T_711f8_row8_col1, #T_711f8_row8_col2, #T_711f8_row8_col3, #T_711f8_row8_col4, #T_711f8_row8_col5, #T_711f8_row8_col6, #T_711f8_row9_col0, #T_711f8_row9_col1, #T_711f8_row9_col2, #T_711f8_row9_col3, #T_711f8_row9_col4, #T_711f8_row9_col5, #T_711f8_row9_col6, #T_711f8_row10_col0, #T_711f8_row10_col1, #T_711f8_row10_col2, #T_711f8_row10_col3, #T_711f8_row10_col4, #T_711f8_row10_col5, #T_711f8_row10_col6, #T_711f8_row11_col0, #T_711f8_row11_col1, #T_711f8_row11_col2, #T_711f8_row11_col3, #T_711f8_row11_col4, #T_711f8_row11_col5, #T_711f8_row11_col6, #T_711f8_row12_col0, #T_711f8_row12_col1, #T_711f8_row12_col2, #T_711f8_row12_col3, #T_711f8_row12_col4, #T_711f8_row12_col5, #T_711f8_row12_col6, #T_711f8_row13_col0, #T_711f8_row13_col1, #T_711f8_row13_col2, #T_711f8_row13_col3, #T_711f8_row13_col4, #T_711f8_row13_col5, #T_711f8_row13_col6, #T_711f8_row14_col0, #T_711f8_row14_col1, #T_711f8_row14_col2, #T_711f8_row14_col3, #T_711f8_row14_col4, #T_711f8_row14_col5, #T_711f8_row14_col6, #T_711f8_row15_col0, #T_711f8_row15_col1, #T_711f8_row15_col2, #T_711f8_row15_col3, #T_711f8_row15_col4, #T_711f8_row15_col5, #T_711f8_row15_col6, #T_711f8_row16_col0, #T_711f8_row16_col1, #T_711f8_row16_col2, #T_711f8_row16_col3, #T_711f8_row16_col4, #T_711f8_row16_col5, #T_711f8_row16_col6, #T_711f8_row17_col0, #T_711f8_row17_col1, #T_711f8_row17_col2, #T_711f8_row17_col3, #T_711f8_row17_col4, #T_711f8_row17_col5, #T_711f8_row17_col6, #T_711f8_row18_col0, #T_711f8_row18_col1, #T_711f8_row18_col2, #T_711f8_row18_col3, #T_711f8_row18_col4, #T_711f8_row18_col5, #T_711f8_row18_col6, #T_711f8_row19_col0, #T_711f8_row19_col1, #T_711f8_row19_col2, #T_711f8_row19_col3, #T_711f8_row19_col4, #T_711f8_row19_col5, #T_711f8_row19_col6 {\n",
       "  text-align: left;\n",
       "}\n",
       "#T_711f8_row0_col1, #T_711f8_row0_col2, #T_711f8_row0_col3, #T_711f8_row0_col4, #T_711f8_row0_col5, #T_711f8_row0_col6 {\n",
       "  text-align: left;\n",
       "  background-color: yellow;\n",
       "}\n",
       "#T_711f8_row0_col7, #T_711f8_row1_col7, #T_711f8_row2_col7, #T_711f8_row3_col7, #T_711f8_row4_col7, #T_711f8_row5_col7, #T_711f8_row6_col7, #T_711f8_row7_col7, #T_711f8_row8_col7, #T_711f8_row9_col7, #T_711f8_row10_col7, #T_711f8_row11_col7, #T_711f8_row12_col7, #T_711f8_row13_col7, #T_711f8_row14_col7, #T_711f8_row15_col7, #T_711f8_row16_col7, #T_711f8_row17_col7, #T_711f8_row18_col7 {\n",
       "  text-align: left;\n",
       "  background-color: lightgrey;\n",
       "}\n",
       "#T_711f8_row19_col7 {\n",
       "  text-align: left;\n",
       "  background-color: yellow;\n",
       "  background-color: lightgrey;\n",
       "}\n",
       "</style>\n",
       "<table id=\"T_711f8\">\n",
       "  <thead>\n",
       "    <tr>\n",
       "      <th class=\"blank level0\" >&nbsp;</th>\n",
       "      <th id=\"T_711f8_level0_col0\" class=\"col_heading level0 col0\" >Model</th>\n",
       "      <th id=\"T_711f8_level0_col1\" class=\"col_heading level0 col1\" >MASE</th>\n",
       "      <th id=\"T_711f8_level0_col2\" class=\"col_heading level0 col2\" >RMSSE</th>\n",
       "      <th id=\"T_711f8_level0_col3\" class=\"col_heading level0 col3\" >MAE</th>\n",
       "      <th id=\"T_711f8_level0_col4\" class=\"col_heading level0 col4\" >RMSE</th>\n",
       "      <th id=\"T_711f8_level0_col5\" class=\"col_heading level0 col5\" >MAPE</th>\n",
       "      <th id=\"T_711f8_level0_col6\" class=\"col_heading level0 col6\" >SMAPE</th>\n",
       "      <th id=\"T_711f8_level0_col7\" class=\"col_heading level0 col7\" >TT (Sec)</th>\n",
       "    </tr>\n",
       "  </thead>\n",
       "  <tbody>\n",
       "    <tr>\n",
       "      <th id=\"T_711f8_level0_row0\" class=\"row_heading level0 row0\" >theta</th>\n",
       "      <td id=\"T_711f8_row0_col0\" class=\"data row0 col0\" >Theta Forecaster</td>\n",
       "      <td id=\"T_711f8_row0_col1\" class=\"data row0 col1\" >0.3637</td>\n",
       "      <td id=\"T_711f8_row0_col2\" class=\"data row0 col2\" >0.3578</td>\n",
       "      <td id=\"T_711f8_row0_col3\" class=\"data row0 col3\" >0.9067</td>\n",
       "      <td id=\"T_711f8_row0_col4\" class=\"data row0 col4\" >0.9067</td>\n",
       "      <td id=\"T_711f8_row0_col5\" class=\"data row0 col5\" >0.0045</td>\n",
       "      <td id=\"T_711f8_row0_col6\" class=\"data row0 col6\" >0.0045</td>\n",
       "      <td id=\"T_711f8_row0_col7\" class=\"data row0 col7\" >0.0367</td>\n",
       "    </tr>\n",
       "    <tr>\n",
       "      <th id=\"T_711f8_level0_row1\" class=\"row_heading level0 row1\" >ridge_cds_dt</th>\n",
       "      <td id=\"T_711f8_row1_col0\" class=\"data row1 col0\" >Ridge w/ Cond. Deseasonalize & Detrending</td>\n",
       "      <td id=\"T_711f8_row1_col1\" class=\"data row1 col1\" >0.4052</td>\n",
       "      <td id=\"T_711f8_row1_col2\" class=\"data row1 col2\" >0.3981</td>\n",
       "      <td id=\"T_711f8_row1_col3\" class=\"data row1 col3\" >1.0266</td>\n",
       "      <td id=\"T_711f8_row1_col4\" class=\"data row1 col4\" >1.0266</td>\n",
       "      <td id=\"T_711f8_row1_col5\" class=\"data row1 col5\" >0.0051</td>\n",
       "      <td id=\"T_711f8_row1_col6\" class=\"data row1 col6\" >0.0051</td>\n",
       "      <td id=\"T_711f8_row1_col7\" class=\"data row1 col7\" >0.0500</td>\n",
       "    </tr>\n",
       "    <tr>\n",
       "      <th id=\"T_711f8_level0_row2\" class=\"row_heading level0 row2\" >exp_smooth</th>\n",
       "      <td id=\"T_711f8_row2_col0\" class=\"data row2 col0\" >Exponential Smoothing</td>\n",
       "      <td id=\"T_711f8_row2_col1\" class=\"data row2 col1\" >0.4075</td>\n",
       "      <td id=\"T_711f8_row2_col2\" class=\"data row2 col2\" >0.4005</td>\n",
       "      <td id=\"T_711f8_row2_col3\" class=\"data row2 col3\" >1.0287</td>\n",
       "      <td id=\"T_711f8_row2_col4\" class=\"data row2 col4\" >1.0287</td>\n",
       "      <td id=\"T_711f8_row2_col5\" class=\"data row2 col5\" >0.0051</td>\n",
       "      <td id=\"T_711f8_row2_col6\" class=\"data row2 col6\" >0.0051</td>\n",
       "      <td id=\"T_711f8_row2_col7\" class=\"data row2 col7\" >0.0267</td>\n",
       "    </tr>\n",
       "    <tr>\n",
       "      <th id=\"T_711f8_level0_row3\" class=\"row_heading level0 row3\" >polytrend</th>\n",
       "      <td id=\"T_711f8_row3_col0\" class=\"data row3 col0\" >Polynomial Trend Forecaster</td>\n",
       "      <td id=\"T_711f8_row3_col1\" class=\"data row3 col1\" >0.4076</td>\n",
       "      <td id=\"T_711f8_row3_col2\" class=\"data row3 col2\" >0.4006</td>\n",
       "      <td id=\"T_711f8_row3_col3\" class=\"data row3 col3\" >1.0289</td>\n",
       "      <td id=\"T_711f8_row3_col4\" class=\"data row3 col4\" >1.0289</td>\n",
       "      <td id=\"T_711f8_row3_col5\" class=\"data row3 col5\" >0.0051</td>\n",
       "      <td id=\"T_711f8_row3_col6\" class=\"data row3 col6\" >0.0051</td>\n",
       "      <td id=\"T_711f8_row3_col7\" class=\"data row3 col7\" >3.8433</td>\n",
       "    </tr>\n",
       "    <tr>\n",
       "      <th id=\"T_711f8_level0_row4\" class=\"row_heading level0 row4\" >ets</th>\n",
       "      <td id=\"T_711f8_row4_col0\" class=\"data row4 col0\" >ETS</td>\n",
       "      <td id=\"T_711f8_row4_col1\" class=\"data row4 col1\" >0.4076</td>\n",
       "      <td id=\"T_711f8_row4_col2\" class=\"data row4 col2\" >0.4006</td>\n",
       "      <td id=\"T_711f8_row4_col3\" class=\"data row4 col3\" >1.0289</td>\n",
       "      <td id=\"T_711f8_row4_col4\" class=\"data row4 col4\" >1.0289</td>\n",
       "      <td id=\"T_711f8_row4_col5\" class=\"data row4 col5\" >0.0051</td>\n",
       "      <td id=\"T_711f8_row4_col6\" class=\"data row4 col6\" >0.0051</td>\n",
       "      <td id=\"T_711f8_row4_col7\" class=\"data row4 col7\" >0.0367</td>\n",
       "    </tr>\n",
       "    <tr>\n",
       "      <th id=\"T_711f8_level0_row5\" class=\"row_heading level0 row5\" >rf_cds_dt</th>\n",
       "      <td id=\"T_711f8_row5_col0\" class=\"data row5 col0\" >Random Forest w/ Cond. Deseasonalize & Detrending</td>\n",
       "      <td id=\"T_711f8_row5_col1\" class=\"data row5 col1\" >0.4142</td>\n",
       "      <td id=\"T_711f8_row5_col2\" class=\"data row5 col2\" >0.4068</td>\n",
       "      <td id=\"T_711f8_row5_col3\" class=\"data row5 col3\" >1.0513</td>\n",
       "      <td id=\"T_711f8_row5_col4\" class=\"data row5 col4\" >1.0513</td>\n",
       "      <td id=\"T_711f8_row5_col5\" class=\"data row5 col5\" >0.0052</td>\n",
       "      <td id=\"T_711f8_row5_col6\" class=\"data row5 col6\" >0.0052</td>\n",
       "      <td id=\"T_711f8_row5_col7\" class=\"data row5 col7\" >1.8967</td>\n",
       "    </tr>\n",
       "    <tr>\n",
       "      <th id=\"T_711f8_level0_row6\" class=\"row_heading level0 row6\" >br_cds_dt</th>\n",
       "      <td id=\"T_711f8_row6_col0\" class=\"data row6 col0\" >Bayesian Ridge w/ Cond. Deseasonalize & Detrending</td>\n",
       "      <td id=\"T_711f8_row6_col1\" class=\"data row6 col1\" >0.4269</td>\n",
       "      <td id=\"T_711f8_row6_col2\" class=\"data row6 col2\" >0.4195</td>\n",
       "      <td id=\"T_711f8_row6_col3\" class=\"data row6 col3\" >1.0742</td>\n",
       "      <td id=\"T_711f8_row6_col4\" class=\"data row6 col4\" >1.0742</td>\n",
       "      <td id=\"T_711f8_row6_col5\" class=\"data row6 col5\" >0.0053</td>\n",
       "      <td id=\"T_711f8_row6_col6\" class=\"data row6 col6\" >0.0053</td>\n",
       "      <td id=\"T_711f8_row6_col7\" class=\"data row6 col7\" >0.0633</td>\n",
       "    </tr>\n",
       "    <tr>\n",
       "      <th id=\"T_711f8_level0_row7\" class=\"row_heading level0 row7\" >ada_cds_dt</th>\n",
       "      <td id=\"T_711f8_row7_col0\" class=\"data row7 col0\" >AdaBoost w/ Cond. Deseasonalize & Detrending</td>\n",
       "      <td id=\"T_711f8_row7_col1\" class=\"data row7 col1\" >0.4406</td>\n",
       "      <td id=\"T_711f8_row7_col2\" class=\"data row7 col2\" >0.4326</td>\n",
       "      <td id=\"T_711f8_row7_col3\" class=\"data row7 col3\" >1.1200</td>\n",
       "      <td id=\"T_711f8_row7_col4\" class=\"data row7 col4\" >1.1200</td>\n",
       "      <td id=\"T_711f8_row7_col5\" class=\"data row7 col5\" >0.0055</td>\n",
       "      <td id=\"T_711f8_row7_col6\" class=\"data row7 col6\" >0.0055</td>\n",
       "      <td id=\"T_711f8_row7_col7\" class=\"data row7 col7\" >0.0500</td>\n",
       "    </tr>\n",
       "    <tr>\n",
       "      <th id=\"T_711f8_level0_row8\" class=\"row_heading level0 row8\" >gbr_cds_dt</th>\n",
       "      <td id=\"T_711f8_row8_col0\" class=\"data row8 col0\" >Gradient Boosting w/ Cond. Deseasonalize & Detrending</td>\n",
       "      <td id=\"T_711f8_row8_col1\" class=\"data row8 col1\" >0.4406</td>\n",
       "      <td id=\"T_711f8_row8_col2\" class=\"data row8 col2\" >0.4326</td>\n",
       "      <td id=\"T_711f8_row8_col3\" class=\"data row8 col3\" >1.1200</td>\n",
       "      <td id=\"T_711f8_row8_col4\" class=\"data row8 col4\" >1.1200</td>\n",
       "      <td id=\"T_711f8_row8_col5\" class=\"data row8 col5\" >0.0055</td>\n",
       "      <td id=\"T_711f8_row8_col6\" class=\"data row8 col6\" >0.0055</td>\n",
       "      <td id=\"T_711f8_row8_col7\" class=\"data row8 col7\" >0.0667</td>\n",
       "    </tr>\n",
       "    <tr>\n",
       "      <th id=\"T_711f8_level0_row9\" class=\"row_heading level0 row9\" >dt_cds_dt</th>\n",
       "      <td id=\"T_711f8_row9_col0\" class=\"data row9 col0\" >Decision Tree w/ Cond. Deseasonalize & Detrending</td>\n",
       "      <td id=\"T_711f8_row9_col1\" class=\"data row9 col1\" >0.4406</td>\n",
       "      <td id=\"T_711f8_row9_col2\" class=\"data row9 col2\" >0.4326</td>\n",
       "      <td id=\"T_711f8_row9_col3\" class=\"data row9 col3\" >1.1200</td>\n",
       "      <td id=\"T_711f8_row9_col4\" class=\"data row9 col4\" >1.1200</td>\n",
       "      <td id=\"T_711f8_row9_col5\" class=\"data row9 col5\" >0.0055</td>\n",
       "      <td id=\"T_711f8_row9_col6\" class=\"data row9 col6\" >0.0055</td>\n",
       "      <td id=\"T_711f8_row9_col7\" class=\"data row9 col7\" >2.1867</td>\n",
       "    </tr>\n",
       "    <tr>\n",
       "      <th id=\"T_711f8_level0_row10\" class=\"row_heading level0 row10\" >xgboost_cds_dt</th>\n",
       "      <td id=\"T_711f8_row10_col0\" class=\"data row10 col0\" >Extreme Gradient Boosting w/ Cond. Deseasonalize & Detrending</td>\n",
       "      <td id=\"T_711f8_row10_col1\" class=\"data row10 col1\" >0.4406</td>\n",
       "      <td id=\"T_711f8_row10_col2\" class=\"data row10 col2\" >0.4325</td>\n",
       "      <td id=\"T_711f8_row10_col3\" class=\"data row10 col3\" >1.1198</td>\n",
       "      <td id=\"T_711f8_row10_col4\" class=\"data row10 col4\" >1.1198</td>\n",
       "      <td id=\"T_711f8_row10_col5\" class=\"data row10 col5\" >0.0055</td>\n",
       "      <td id=\"T_711f8_row10_col6\" class=\"data row10 col6\" >0.0055</td>\n",
       "      <td id=\"T_711f8_row10_col7\" class=\"data row10 col7\" >0.3333</td>\n",
       "    </tr>\n",
       "    <tr>\n",
       "      <th id=\"T_711f8_level0_row11\" class=\"row_heading level0 row11\" >huber_cds_dt</th>\n",
       "      <td id=\"T_711f8_row11_col0\" class=\"data row11 col0\" >Huber w/ Cond. Deseasonalize & Detrending</td>\n",
       "      <td id=\"T_711f8_row11_col1\" class=\"data row11 col1\" >0.4513</td>\n",
       "      <td id=\"T_711f8_row11_col2\" class=\"data row11 col2\" >0.4434</td>\n",
       "      <td id=\"T_711f8_row11_col3\" class=\"data row11 col3\" >1.1388</td>\n",
       "      <td id=\"T_711f8_row11_col4\" class=\"data row11 col4\" >1.1388</td>\n",
       "      <td id=\"T_711f8_row11_col5\" class=\"data row11 col5\" >0.0056</td>\n",
       "      <td id=\"T_711f8_row11_col6\" class=\"data row11 col6\" >0.0056</td>\n",
       "      <td id=\"T_711f8_row11_col7\" class=\"data row11 col7\" >0.0567</td>\n",
       "    </tr>\n",
       "    <tr>\n",
       "      <th id=\"T_711f8_level0_row12\" class=\"row_heading level0 row12\" >omp_cds_dt</th>\n",
       "      <td id=\"T_711f8_row12_col0\" class=\"data row12 col0\" >Orthogonal Matching Pursuit w/ Cond. Deseasonalize & Detrending</td>\n",
       "      <td id=\"T_711f8_row12_col1\" class=\"data row12 col1\" >0.4513</td>\n",
       "      <td id=\"T_711f8_row12_col2\" class=\"data row12 col2\" >0.4434</td>\n",
       "      <td id=\"T_711f8_row12_col3\" class=\"data row12 col3\" >1.1388</td>\n",
       "      <td id=\"T_711f8_row12_col4\" class=\"data row12 col4\" >1.1388</td>\n",
       "      <td id=\"T_711f8_row12_col5\" class=\"data row12 col5\" >0.0056</td>\n",
       "      <td id=\"T_711f8_row12_col6\" class=\"data row12 col6\" >0.0056</td>\n",
       "      <td id=\"T_711f8_row12_col7\" class=\"data row12 col7\" >0.0467</td>\n",
       "    </tr>\n",
       "    <tr>\n",
       "      <th id=\"T_711f8_level0_row13\" class=\"row_heading level0 row13\" >lr_cds_dt</th>\n",
       "      <td id=\"T_711f8_row13_col0\" class=\"data row13 col0\" >Linear w/ Cond. Deseasonalize & Detrending</td>\n",
       "      <td id=\"T_711f8_row13_col1\" class=\"data row13 col1\" >0.4513</td>\n",
       "      <td id=\"T_711f8_row13_col2\" class=\"data row13 col2\" >0.4434</td>\n",
       "      <td id=\"T_711f8_row13_col3\" class=\"data row13 col3\" >1.1388</td>\n",
       "      <td id=\"T_711f8_row13_col4\" class=\"data row13 col4\" >1.1388</td>\n",
       "      <td id=\"T_711f8_row13_col5\" class=\"data row13 col5\" >0.0056</td>\n",
       "      <td id=\"T_711f8_row13_col6\" class=\"data row13 col6\" >0.0056</td>\n",
       "      <td id=\"T_711f8_row13_col7\" class=\"data row13 col7\" >0.3733</td>\n",
       "    </tr>\n",
       "    <tr>\n",
       "      <th id=\"T_711f8_level0_row14\" class=\"row_heading level0 row14\" >et_cds_dt</th>\n",
       "      <td id=\"T_711f8_row14_col0\" class=\"data row14 col0\" >Extra Trees w/ Cond. Deseasonalize & Detrending</td>\n",
       "      <td id=\"T_711f8_row14_col1\" class=\"data row14 col1\" >0.4655</td>\n",
       "      <td id=\"T_711f8_row14_col2\" class=\"data row14 col2\" >0.4572</td>\n",
       "      <td id=\"T_711f8_row14_col3\" class=\"data row14 col3\" >1.1788</td>\n",
       "      <td id=\"T_711f8_row14_col4\" class=\"data row14 col4\" >1.1788</td>\n",
       "      <td id=\"T_711f8_row14_col5\" class=\"data row14 col5\" >0.0058</td>\n",
       "      <td id=\"T_711f8_row14_col6\" class=\"data row14 col6\" >0.0058</td>\n",
       "      <td id=\"T_711f8_row14_col7\" class=\"data row14 col7\" >1.6833</td>\n",
       "    </tr>\n",
       "    <tr>\n",
       "      <th id=\"T_711f8_level0_row15\" class=\"row_heading level0 row15\" >naive</th>\n",
       "      <td id=\"T_711f8_row15_col0\" class=\"data row15 col0\" >Naive Forecaster</td>\n",
       "      <td id=\"T_711f8_row15_col1\" class=\"data row15 col1\" >1.3458</td>\n",
       "      <td id=\"T_711f8_row15_col2\" class=\"data row15 col2\" >1.3244</td>\n",
       "      <td id=\"T_711f8_row15_col3\" class=\"data row15 col3\" >3.3000</td>\n",
       "      <td id=\"T_711f8_row15_col4\" class=\"data row15 col4\" >3.3000</td>\n",
       "      <td id=\"T_711f8_row15_col5\" class=\"data row15 col5\" >0.0164</td>\n",
       "      <td id=\"T_711f8_row15_col6\" class=\"data row15 col6\" >0.0165</td>\n",
       "      <td id=\"T_711f8_row15_col7\" class=\"data row15 col7\" >3.0733</td>\n",
       "    </tr>\n",
       "    <tr>\n",
       "      <th id=\"T_711f8_level0_row16\" class=\"row_heading level0 row16\" >arima</th>\n",
       "      <td id=\"T_711f8_row16_col0\" class=\"data row16 col0\" >ARIMA</td>\n",
       "      <td id=\"T_711f8_row16_col1\" class=\"data row16 col1\" >1.6004</td>\n",
       "      <td id=\"T_711f8_row16_col2\" class=\"data row16 col2\" >1.5750</td>\n",
       "      <td id=\"T_711f8_row16_col3\" class=\"data row16 col3\" >3.9156</td>\n",
       "      <td id=\"T_711f8_row16_col4\" class=\"data row16 col4\" >3.9156</td>\n",
       "      <td id=\"T_711f8_row16_col5\" class=\"data row16 col5\" >0.0195</td>\n",
       "      <td id=\"T_711f8_row16_col6\" class=\"data row16 col6\" >0.0196</td>\n",
       "      <td id=\"T_711f8_row16_col7\" class=\"data row16 col7\" >0.0800</td>\n",
       "    </tr>\n",
       "    <tr>\n",
       "      <th id=\"T_711f8_level0_row17\" class=\"row_heading level0 row17\" >auto_arima</th>\n",
       "      <td id=\"T_711f8_row17_col0\" class=\"data row17 col0\" >Auto ARIMA</td>\n",
       "      <td id=\"T_711f8_row17_col1\" class=\"data row17 col1\" >2.4759</td>\n",
       "      <td id=\"T_711f8_row17_col2\" class=\"data row17 col2\" >2.4376</td>\n",
       "      <td id=\"T_711f8_row17_col3\" class=\"data row17 col3\" >6.0451</td>\n",
       "      <td id=\"T_711f8_row17_col4\" class=\"data row17 col4\" >6.0451</td>\n",
       "      <td id=\"T_711f8_row17_col5\" class=\"data row17 col5\" >0.0300</td>\n",
       "      <td id=\"T_711f8_row17_col6\" class=\"data row17 col6\" >0.0305</td>\n",
       "      <td id=\"T_711f8_row17_col7\" class=\"data row17 col7\" >0.1600</td>\n",
       "    </tr>\n",
       "    <tr>\n",
       "      <th id=\"T_711f8_level0_row18\" class=\"row_heading level0 row18\" >grand_means</th>\n",
       "      <td id=\"T_711f8_row18_col0\" class=\"data row18 col0\" >Grand Means Forecaster</td>\n",
       "      <td id=\"T_711f8_row18_col1\" class=\"data row18 col1\" >2.8572</td>\n",
       "      <td id=\"T_711f8_row18_col2\" class=\"data row18 col2\" >2.8103</td>\n",
       "      <td id=\"T_711f8_row18_col3\" class=\"data row18 col3\" >7.0556</td>\n",
       "      <td id=\"T_711f8_row18_col4\" class=\"data row18 col4\" >7.0556</td>\n",
       "      <td id=\"T_711f8_row18_col5\" class=\"data row18 col5\" >0.0350</td>\n",
       "      <td id=\"T_711f8_row18_col6\" class=\"data row18 col6\" >0.0356</td>\n",
       "      <td id=\"T_711f8_row18_col7\" class=\"data row18 col7\" >3.0167</td>\n",
       "    </tr>\n",
       "    <tr>\n",
       "      <th id=\"T_711f8_level0_row19\" class=\"row_heading level0 row19\" >croston</th>\n",
       "      <td id=\"T_711f8_row19_col0\" class=\"data row19 col0\" >Croston</td>\n",
       "      <td id=\"T_711f8_row19_col1\" class=\"data row19 col1\" >3.7695</td>\n",
       "      <td id=\"T_711f8_row19_col2\" class=\"data row19 col2\" >3.7079</td>\n",
       "      <td id=\"T_711f8_row19_col3\" class=\"data row19 col3\" >9.2953</td>\n",
       "      <td id=\"T_711f8_row19_col4\" class=\"data row19 col4\" >9.2953</td>\n",
       "      <td id=\"T_711f8_row19_col5\" class=\"data row19 col5\" >0.0461</td>\n",
       "      <td id=\"T_711f8_row19_col6\" class=\"data row19 col6\" >0.0472</td>\n",
       "      <td id=\"T_711f8_row19_col7\" class=\"data row19 col7\" >0.0200</td>\n",
       "    </tr>\n",
       "  </tbody>\n",
       "</table>\n"
      ],
      "text/plain": [
       "<pandas.io.formats.style.Styler at 0x1fc44bdccd0>"
      ]
     },
     "metadata": {},
     "output_type": "display_data"
    },
    {
     "data": {
      "text/html": [],
      "text/plain": [
       "<IPython.core.display.HTML object>"
      ]
     },
     "metadata": {},
     "output_type": "display_data"
    }
   ],
   "source": [
    "top4 = exp.compare_models(n_select = 4)"
   ]
  },
  {
   "cell_type": "markdown",
   "metadata": {},
   "source": [
    "## Lag and Difference\n",
    "Time series data modeling is to find patterns in the process of normalizing nonstationary time series data. \n",
    "Lag and difference are the most representative methods used in the process of making a stationary time series into a stationary time series."
   ]
  },
  {
   "cell_type": "markdown",
   "metadata": {},
   "source": [
    "## Difference Plot Using Order"
   ]
  },
  {
   "cell_type": "code",
   "execution_count": null,
   "metadata": {},
   "outputs": [
    {
     "data": {
      "application/vnd.plotly.v1+json": {
       "config": {
        "plotlyServerURL": "https://plot.ly"
       },
       "data": [
        {
         "hoverinfo": "skip",
         "line": {
          "width": 2
         },
         "marker": {
          "size": 5
         },
         "mode": "lines+markers",
         "name": "Actual",
         "showlegend": false,
         "type": "scattergl",
         "x": [
          "2017-01-01T00:00:00",
          "2018-01-01T00:00:00",
          "2019-01-01T00:00:00",
          "2020-01-01T00:00:00",
          "2021-01-01T00:00:00",
          "2022-01-01T00:00:00",
          "2023-01-01T00:00:00"
         ],
         "xaxis": "x",
         "y": [
          190.2,
          192.9,
          194.8,
          197.3,
          200.8,
          204.7,
          208.2
         ],
         "yaxis": "y"
        },
        {
         "line": {
          "color": "#3f3f3f"
         },
         "mode": "lines",
         "name": "Actual",
         "showlegend": false,
         "type": "scattergl",
         "x": [
          0,
          0
         ],
         "xaxis": "x2",
         "y": [
          0,
          1
         ],
         "yaxis": "y2"
        },
        {
         "line": {
          "color": "#3f3f3f"
         },
         "mode": "lines",
         "name": "Actual",
         "showlegend": false,
         "type": "scattergl",
         "x": [
          1,
          1
         ],
         "xaxis": "x2",
         "y": [
          0,
          0.5652855304781899
         ],
         "yaxis": "y2"
        },
        {
         "line": {
          "color": "#3f3f3f"
         },
         "mode": "lines",
         "name": "Actual",
         "showlegend": false,
         "type": "scattergl",
         "x": [
          2,
          2
         ],
         "xaxis": "x2",
         "y": [
          0,
          0.17204303675828075
         ],
         "yaxis": "y2"
        },
        {
         "line": {
          "color": "#3f3f3f"
         },
         "mode": "lines",
         "name": "Actual",
         "showlegend": false,
         "type": "scattergl",
         "x": [
          3,
          3
         ],
         "xaxis": "x2",
         "y": [
          0,
          -0.1486277317184066
         ],
         "yaxis": "y2"
        },
        {
         "line": {
          "color": "#3f3f3f"
         },
         "mode": "lines",
         "name": "Actual",
         "showlegend": false,
         "type": "scattergl",
         "x": [
          4,
          4
         ],
         "xaxis": "x2",
         "y": [
          0,
          -0.35404715146707433
         ],
         "yaxis": "y2"
        },
        {
         "line": {
          "color": "#3f3f3f"
         },
         "mode": "lines",
         "name": "Actual",
         "showlegend": false,
         "type": "scattergl",
         "x": [
          5,
          5
         ],
         "xaxis": "x2",
         "y": [
          0,
          -0.4171221546111506
         ],
         "yaxis": "y2"
        },
        {
         "line": {
          "color": "#3f3f3f"
         },
         "mode": "lines",
         "name": "Actual",
         "showlegend": false,
         "type": "scattergl",
         "x": [
          6,
          6
         ],
         "xaxis": "x2",
         "y": [
          0,
          -0.31753152943983914
         ],
         "yaxis": "y2"
        },
        {
         "marker": {
          "color": "#1f77b4",
          "size": 6
         },
         "mode": "markers",
         "name": "Actual",
         "showlegend": false,
         "type": "scattergl",
         "x": [
          0,
          1,
          2,
          3,
          4,
          5,
          6
         ],
         "xaxis": "x2",
         "y": [
          1,
          0.5652855304781899,
          0.17204303675828075,
          -0.1486277317184066,
          -0.35404715146707433,
          -0.4171221546111506,
          -0.31753152943983914
         ],
         "yaxis": "y2"
        },
        {
         "line": {
          "color": "rgba(255,255,255,0)"
         },
         "mode": "lines",
         "name": "UC",
         "showlegend": false,
         "type": "scatter",
         "x": [
          0,
          1,
          2,
          3,
          4,
          5,
          6
         ],
         "xaxis": "x2",
         "y": [
          0,
          0.7407967545337466,
          0.9484210728674884,
          0.965395767312464,
          0.977872334666725,
          1.0458550244552915,
          1.1334805321800345
         ],
         "yaxis": "y2"
        },
        {
         "fill": "tonexty",
         "fillcolor": "rgba(32, 146, 230,0.3)",
         "line": {
          "color": "rgba(255,255,255,0)"
         },
         "mode": "lines",
         "name": "LC",
         "showlegend": false,
         "type": "scatter",
         "x": [
          0,
          1,
          2,
          3,
          4,
          5,
          6
         ],
         "xaxis": "x2",
         "y": [
          0,
          -0.7407967545337466,
          -0.9484210728674884,
          -0.965395767312464,
          -0.977872334666725,
          -1.0458550244552915,
          -1.1334805321800345
         ],
         "yaxis": "y2"
        },
        {
         "line": {
          "color": "#3f3f3f"
         },
         "mode": "lines",
         "name": "Actual",
         "showlegend": false,
         "type": "scattergl",
         "x": [
          0,
          0
         ],
         "xaxis": "x3",
         "y": [
          0,
          1
         ],
         "yaxis": "y3"
        },
        {
         "line": {
          "color": "#3f3f3f"
         },
         "mode": "lines",
         "name": "Actual",
         "showlegend": false,
         "type": "scattergl",
         "x": [
          1,
          1
         ],
         "xaxis": "x3",
         "y": [
          0,
          0.6594997855578877
         ],
         "yaxis": "y3"
        },
        {
         "line": {
          "color": "#3f3f3f"
         },
         "mode": "lines",
         "name": "Actual",
         "showlegend": false,
         "type": "scattergl",
         "x": [
          2,
          2
         ],
         "xaxis": "x3",
         "y": [
          0,
          -0.34346742718775175
         ],
         "yaxis": "y3"
        },
        {
         "marker": {
          "color": "#1f77b4",
          "size": 6
         },
         "mode": "markers",
         "name": "Actual",
         "showlegend": false,
         "type": "scattergl",
         "x": [
          0,
          1,
          2
         ],
         "xaxis": "x3",
         "y": [
          1,
          0.6594997855578877,
          -0.34346742718775175
         ],
         "yaxis": "y3"
        },
        {
         "line": {
          "color": "rgba(255,255,255,0)"
         },
         "mode": "lines",
         "name": "UC",
         "showlegend": false,
         "type": "scatter",
         "x": [
          0,
          1,
          2
         ],
         "xaxis": "x3",
         "y": [
          0,
          0.7407967545337466,
          0.7407967545337466
         ],
         "yaxis": "y3"
        },
        {
         "fill": "tonexty",
         "fillcolor": "rgba(32, 146, 230,0.3)",
         "line": {
          "color": "rgba(255,255,255,0)"
         },
         "mode": "lines",
         "name": "LC",
         "showlegend": false,
         "type": "scatter",
         "x": [
          0,
          1,
          2
         ],
         "xaxis": "x3",
         "y": [
          0,
          -0.7407967545337466,
          -0.7407967545337466
         ],
         "yaxis": "y3"
        },
        {
         "hoverinfo": "skip",
         "line": {
          "width": 2
         },
         "marker": {
          "size": 5
         },
         "mode": "lines+markers",
         "name": "Order=1",
         "showlegend": false,
         "type": "scattergl",
         "x": [
          "2018-01-01T00:00:00",
          "2019-01-01T00:00:00",
          "2020-01-01T00:00:00",
          "2021-01-01T00:00:00",
          "2022-01-01T00:00:00",
          "2023-01-01T00:00:00"
         ],
         "xaxis": "x4",
         "y": [
          2.700000000000017,
          1.9000000000000057,
          2.5,
          3.5,
          3.8999999999999773,
          3.5
         ],
         "yaxis": "y4"
        },
        {
         "line": {
          "color": "#3f3f3f"
         },
         "mode": "lines",
         "name": "Order=1",
         "showlegend": false,
         "type": "scattergl",
         "x": [
          0,
          0
         ],
         "xaxis": "x5",
         "y": [
          0,
          1
         ],
         "yaxis": "y5"
        },
        {
         "line": {
          "color": "#3f3f3f"
         },
         "mode": "lines",
         "name": "Order=1",
         "showlegend": false,
         "type": "scattergl",
         "x": [
          1,
          1
         ],
         "xaxis": "x5",
         "y": [
          0,
          0.5349650349650308
         ],
         "yaxis": "y5"
        },
        {
         "line": {
          "color": "#3f3f3f"
         },
         "mode": "lines",
         "name": "Order=1",
         "showlegend": false,
         "type": "scattergl",
         "x": [
          2,
          2
         ],
         "xaxis": "x5",
         "y": [
          0,
          -0.2097902097902124
         ],
         "yaxis": "y5"
        },
        {
         "line": {
          "color": "#3f3f3f"
         },
         "mode": "lines",
         "name": "Order=1",
         "showlegend": false,
         "type": "scattergl",
         "x": [
          3,
          3
         ],
         "xaxis": "x5",
         "y": [
          0,
          -0.4860139860139833
         ],
         "yaxis": "y5"
        },
        {
         "line": {
          "color": "#3f3f3f"
         },
         "mode": "lines",
         "name": "Order=1",
         "showlegend": false,
         "type": "scattergl",
         "x": [
          4,
          4
         ],
         "xaxis": "x5",
         "y": [
          0,
          -0.2867132867132844
         ],
         "yaxis": "y5"
        },
        {
         "line": {
          "color": "#3f3f3f"
         },
         "mode": "lines",
         "name": "Order=1",
         "showlegend": false,
         "type": "scattergl",
         "x": [
          5,
          5
         ],
         "xaxis": "x5",
         "y": [
          0,
          -0.052447552447550644
         ],
         "yaxis": "y5"
        },
        {
         "marker": {
          "color": "#1f77b4",
          "size": 6
         },
         "mode": "markers",
         "name": "Order=1",
         "showlegend": false,
         "type": "scattergl",
         "x": [
          0,
          1,
          2,
          3,
          4,
          5
         ],
         "xaxis": "x5",
         "y": [
          1,
          0.5349650349650308,
          -0.2097902097902124,
          -0.4860139860139833,
          -0.2867132867132844,
          -0.052447552447550644
         ],
         "yaxis": "y5"
        },
        {
         "line": {
          "color": "rgba(255,255,255,0)"
         },
         "mode": "lines",
         "name": "UC",
         "showlegend": false,
         "type": "scatter",
         "x": [
          0,
          1,
          2,
          3,
          4,
          5
         ],
         "xaxis": "x5",
         "y": [
          0,
          0.8001519460592184,
          1.0033456112896642,
          1.0310475695387893,
          1.1685556187973964,
          1.2127588298331373
         ],
         "yaxis": "y5"
        },
        {
         "fill": "tonexty",
         "fillcolor": "rgba(32, 146, 230,0.3)",
         "line": {
          "color": "rgba(255,255,255,0)"
         },
         "mode": "lines",
         "name": "LC",
         "showlegend": false,
         "type": "scatter",
         "x": [
          0,
          1,
          2,
          3,
          4,
          5
         ],
         "xaxis": "x5",
         "y": [
          0,
          -0.8001519460592184,
          -1.0033456112896642,
          -1.0310475695387893,
          -1.1685556187973964,
          -1.2127588298331373
         ],
         "yaxis": "y5"
        },
        {
         "line": {
          "color": "#3f3f3f"
         },
         "mode": "lines",
         "name": "Order=1",
         "showlegend": false,
         "type": "scattergl",
         "x": [
          0,
          0
         ],
         "xaxis": "x6",
         "y": [
          0,
          1
         ],
         "yaxis": "y6"
        },
        {
         "line": {
          "color": "#3f3f3f"
         },
         "mode": "lines",
         "name": "Order=1",
         "showlegend": false,
         "type": "scattergl",
         "x": [
          1,
          1
         ],
         "xaxis": "x6",
         "y": [
          0,
          0.641958041958037
         ],
         "yaxis": "y6"
        },
        {
         "line": {
          "color": "#3f3f3f"
         },
         "mode": "lines",
         "name": "Order=1",
         "showlegend": false,
         "type": "scattergl",
         "x": [
          2,
          2
         ],
         "xaxis": "x6",
         "y": [
          0,
          -1.2362782155025378
         ],
         "yaxis": "y6"
        },
        {
         "marker": {
          "color": "#1f77b4",
          "size": 6
         },
         "mode": "markers",
         "name": "Order=1",
         "showlegend": false,
         "type": "scattergl",
         "x": [
          0,
          1,
          2
         ],
         "xaxis": "x6",
         "y": [
          1,
          0.641958041958037,
          -1.2362782155025378
         ],
         "yaxis": "y6"
        },
        {
         "line": {
          "color": "rgba(255,255,255,0)"
         },
         "mode": "lines",
         "name": "UC",
         "showlegend": false,
         "type": "scatter",
         "x": [
          0,
          1,
          2
         ],
         "xaxis": "x6",
         "y": [
          0,
          0.8001519460592185,
          0.8001519460592184
         ],
         "yaxis": "y6"
        },
        {
         "fill": "tonexty",
         "fillcolor": "rgba(32, 146, 230,0.3)",
         "line": {
          "color": "rgba(255,255,255,0)"
         },
         "mode": "lines",
         "name": "LC",
         "showlegend": false,
         "type": "scatter",
         "x": [
          0,
          1,
          2
         ],
         "xaxis": "x6",
         "y": [
          0,
          -0.8001519460592184,
          -0.8001519460592184
         ],
         "yaxis": "y6"
        },
        {
         "hoverinfo": "skip",
         "line": {
          "width": 2
         },
         "marker": {
          "size": 5
         },
         "mode": "lines+markers",
         "name": "Order=2",
         "showlegend": false,
         "type": "scattergl",
         "x": [
          "2019-01-01T00:00:00",
          "2020-01-01T00:00:00",
          "2021-01-01T00:00:00",
          "2022-01-01T00:00:00",
          "2023-01-01T00:00:00"
         ],
         "xaxis": "x7",
         "y": [
          -0.8000000000000114,
          0.5999999999999943,
          1,
          0.39999999999997726,
          -0.39999999999997726
         ],
         "yaxis": "y7"
        },
        {
         "line": {
          "color": "#3f3f3f"
         },
         "mode": "lines",
         "name": "Order=2",
         "showlegend": false,
         "type": "scattergl",
         "x": [
          0,
          0
         ],
         "xaxis": "x8",
         "y": [
          0,
          1
         ],
         "yaxis": "y8"
        },
        {
         "line": {
          "color": "#3f3f3f"
         },
         "mode": "lines",
         "name": "Order=2",
         "showlegend": false,
         "type": "scattergl",
         "x": [
          1,
          1
         ],
         "xaxis": "x8",
         "y": [
          0,
          0.006569343065693458
         ],
         "yaxis": "y8"
        },
        {
         "line": {
          "color": "#3f3f3f"
         },
         "mode": "lines",
         "name": "Order=2",
         "showlegend": false,
         "type": "scattergl",
         "x": [
          2,
          2
         ],
         "xaxis": "x8",
         "y": [
          0,
          -0.53430656934307
         ],
         "yaxis": "y8"
        },
        {
         "line": {
          "color": "#3f3f3f"
         },
         "mode": "lines",
         "name": "Order=2",
         "showlegend": false,
         "type": "scattergl",
         "x": [
          3,
          3
         ],
         "xaxis": "x8",
         "y": [
          0,
          -0.217518248175171
         ],
         "yaxis": "y8"
        },
        {
         "line": {
          "color": "#3f3f3f"
         },
         "mode": "lines",
         "name": "Order=2",
         "showlegend": false,
         "type": "scattergl",
         "x": [
          4,
          4
         ],
         "xaxis": "x8",
         "y": [
          0,
          0.24525547445254756
         ],
         "yaxis": "y8"
        },
        {
         "marker": {
          "color": "#1f77b4",
          "size": 6
         },
         "mode": "markers",
         "name": "Order=2",
         "showlegend": false,
         "type": "scattergl",
         "x": [
          0,
          1,
          2,
          3,
          4
         ],
         "xaxis": "x8",
         "y": [
          1,
          0.006569343065693458,
          -0.53430656934307,
          -0.217518248175171,
          0.24525547445254756
         ],
         "yaxis": "y8"
        },
        {
         "line": {
          "color": "rgba(255,255,255,0)"
         },
         "mode": "lines",
         "name": "UC",
         "showlegend": false,
         "type": "scatter",
         "x": [
          0,
          1,
          2,
          3,
          4
         ],
         "xaxis": "x8",
         "y": [
          0,
          0.8765225405765815,
          0.8765603672023162,
          1.0986479583911617,
          1.1312513155157313
         ],
         "yaxis": "y8"
        },
        {
         "fill": "tonexty",
         "fillcolor": "rgba(32, 146, 230,0.3)",
         "line": {
          "color": "rgba(255,255,255,0)"
         },
         "mode": "lines",
         "name": "LC",
         "showlegend": false,
         "type": "scatter",
         "x": [
          0,
          1,
          2,
          3,
          4
         ],
         "xaxis": "x8",
         "y": [
          0,
          -0.8765225405765815,
          -0.8765603672023161,
          -1.0986479583911617,
          -1.1312513155157313
         ],
         "yaxis": "y8"
        },
        {
         "line": {
          "color": "#3f3f3f"
         },
         "mode": "lines",
         "name": "Order=2",
         "showlegend": false,
         "type": "scattergl",
         "x": [
          0,
          0
         ],
         "xaxis": "x9",
         "y": [
          0,
          1
         ],
         "yaxis": "y9"
        },
        {
         "line": {
          "color": "#3f3f3f"
         },
         "mode": "lines",
         "name": "Order=2",
         "showlegend": false,
         "type": "scattergl",
         "x": [
          1,
          1
         ],
         "xaxis": "x9",
         "y": [
          0,
          0.008211678832116842
         ],
         "yaxis": "y9"
        },
        {
         "marker": {
          "color": "#1f77b4",
          "size": 6
         },
         "mode": "markers",
         "name": "Order=2",
         "showlegend": false,
         "type": "scattergl",
         "x": [
          0,
          1
         ],
         "xaxis": "x9",
         "y": [
          1,
          0.008211678832116842
         ],
         "yaxis": "y9"
        },
        {
         "line": {
          "color": "rgba(255,255,255,0)"
         },
         "mode": "lines",
         "name": "UC",
         "showlegend": false,
         "type": "scatter",
         "x": [
          0,
          1
         ],
         "xaxis": "x9",
         "y": [
          0,
          0.8765225405765815
         ],
         "yaxis": "y9"
        },
        {
         "fill": "tonexty",
         "fillcolor": "rgba(32, 146, 230,0.3)",
         "line": {
          "color": "rgba(255,255,255,0)"
         },
         "mode": "lines",
         "name": "LC",
         "showlegend": false,
         "type": "scatter",
         "x": [
          0,
          1
         ],
         "xaxis": "x9",
         "y": [
          0,
          -0.8765225405765815
         ],
         "yaxis": "y9"
        }
       ],
       "layout": {
        "annotations": [
         {
          "font": {
           "size": 16
          },
          "showarrow": false,
          "text": "value  (transformed)",
          "x": 0.1411111111111111,
          "xanchor": "center",
          "xref": "paper",
          "y": 1,
          "yanchor": "bottom",
          "yref": "paper"
         },
         {
          "font": {
           "size": 16
          },
          "showarrow": false,
          "text": "ACF",
          "x": 0.49,
          "xanchor": "center",
          "xref": "paper",
          "y": 1,
          "yanchor": "bottom",
          "yref": "paper"
         },
         {
          "font": {
           "size": 16
          },
          "showarrow": false,
          "text": "PACF",
          "x": 0.8388888888888888,
          "xanchor": "center",
          "xref": "paper",
          "y": 1,
          "yanchor": "bottom",
          "yref": "paper"
         },
         {
          "font": {
           "size": 16
          },
          "showarrow": false,
          "text": "Actual",
          "textangle": 90,
          "x": 0.98,
          "xanchor": "left",
          "xref": "paper",
          "y": 0.8666666666666667,
          "yanchor": "middle",
          "yref": "paper"
         },
         {
          "font": {
           "size": 16
          },
          "showarrow": false,
          "text": "Order=1",
          "textangle": 90,
          "x": 0.98,
          "xanchor": "left",
          "xref": "paper",
          "y": 0.5,
          "yanchor": "middle",
          "yref": "paper"
         },
         {
          "font": {
           "size": 16
          },
          "showarrow": false,
          "text": "Order=2",
          "textangle": 90,
          "x": 0.98,
          "xanchor": "left",
          "xref": "paper",
          "y": 0.13333333333333333,
          "yanchor": "middle",
          "yref": "paper"
         }
        ],
        "autosize": false,
        "height": 700,
        "showlegend": false,
        "template": {
         "data": {
          "bar": [
           {
            "error_x": {
             "color": "rgb(36,36,36)"
            },
            "error_y": {
             "color": "rgb(36,36,36)"
            },
            "marker": {
             "line": {
              "color": "white",
              "width": 0.5
             },
             "pattern": {
              "fillmode": "overlay",
              "size": 10,
              "solidity": 0.2
             }
            },
            "type": "bar"
           }
          ],
          "barpolar": [
           {
            "marker": {
             "line": {
              "color": "white",
              "width": 0.5
             },
             "pattern": {
              "fillmode": "overlay",
              "size": 10,
              "solidity": 0.2
             }
            },
            "type": "barpolar"
           }
          ],
          "carpet": [
           {
            "aaxis": {
             "endlinecolor": "rgb(36,36,36)",
             "gridcolor": "white",
             "linecolor": "white",
             "minorgridcolor": "white",
             "startlinecolor": "rgb(36,36,36)"
            },
            "baxis": {
             "endlinecolor": "rgb(36,36,36)",
             "gridcolor": "white",
             "linecolor": "white",
             "minorgridcolor": "white",
             "startlinecolor": "rgb(36,36,36)"
            },
            "type": "carpet"
           }
          ],
          "choropleth": [
           {
            "colorbar": {
             "outlinewidth": 1,
             "tickcolor": "rgb(36,36,36)",
             "ticks": "outside"
            },
            "type": "choropleth"
           }
          ],
          "contour": [
           {
            "colorbar": {
             "outlinewidth": 1,
             "tickcolor": "rgb(36,36,36)",
             "ticks": "outside"
            },
            "colorscale": [
             [
              0,
              "#440154"
             ],
             [
              0.1111111111111111,
              "#482878"
             ],
             [
              0.2222222222222222,
              "#3e4989"
             ],
             [
              0.3333333333333333,
              "#31688e"
             ],
             [
              0.4444444444444444,
              "#26828e"
             ],
             [
              0.5555555555555556,
              "#1f9e89"
             ],
             [
              0.6666666666666666,
              "#35b779"
             ],
             [
              0.7777777777777778,
              "#6ece58"
             ],
             [
              0.8888888888888888,
              "#b5de2b"
             ],
             [
              1,
              "#fde725"
             ]
            ],
            "type": "contour"
           }
          ],
          "contourcarpet": [
           {
            "colorbar": {
             "outlinewidth": 1,
             "tickcolor": "rgb(36,36,36)",
             "ticks": "outside"
            },
            "type": "contourcarpet"
           }
          ],
          "heatmap": [
           {
            "colorbar": {
             "outlinewidth": 1,
             "tickcolor": "rgb(36,36,36)",
             "ticks": "outside"
            },
            "colorscale": [
             [
              0,
              "#440154"
             ],
             [
              0.1111111111111111,
              "#482878"
             ],
             [
              0.2222222222222222,
              "#3e4989"
             ],
             [
              0.3333333333333333,
              "#31688e"
             ],
             [
              0.4444444444444444,
              "#26828e"
             ],
             [
              0.5555555555555556,
              "#1f9e89"
             ],
             [
              0.6666666666666666,
              "#35b779"
             ],
             [
              0.7777777777777778,
              "#6ece58"
             ],
             [
              0.8888888888888888,
              "#b5de2b"
             ],
             [
              1,
              "#fde725"
             ]
            ],
            "type": "heatmap"
           }
          ],
          "heatmapgl": [
           {
            "colorbar": {
             "outlinewidth": 1,
             "tickcolor": "rgb(36,36,36)",
             "ticks": "outside"
            },
            "colorscale": [
             [
              0,
              "#440154"
             ],
             [
              0.1111111111111111,
              "#482878"
             ],
             [
              0.2222222222222222,
              "#3e4989"
             ],
             [
              0.3333333333333333,
              "#31688e"
             ],
             [
              0.4444444444444444,
              "#26828e"
             ],
             [
              0.5555555555555556,
              "#1f9e89"
             ],
             [
              0.6666666666666666,
              "#35b779"
             ],
             [
              0.7777777777777778,
              "#6ece58"
             ],
             [
              0.8888888888888888,
              "#b5de2b"
             ],
             [
              1,
              "#fde725"
             ]
            ],
            "type": "heatmapgl"
           }
          ],
          "histogram": [
           {
            "marker": {
             "line": {
              "color": "white",
              "width": 0.6
             }
            },
            "type": "histogram"
           }
          ],
          "histogram2d": [
           {
            "colorbar": {
             "outlinewidth": 1,
             "tickcolor": "rgb(36,36,36)",
             "ticks": "outside"
            },
            "colorscale": [
             [
              0,
              "#440154"
             ],
             [
              0.1111111111111111,
              "#482878"
             ],
             [
              0.2222222222222222,
              "#3e4989"
             ],
             [
              0.3333333333333333,
              "#31688e"
             ],
             [
              0.4444444444444444,
              "#26828e"
             ],
             [
              0.5555555555555556,
              "#1f9e89"
             ],
             [
              0.6666666666666666,
              "#35b779"
             ],
             [
              0.7777777777777778,
              "#6ece58"
             ],
             [
              0.8888888888888888,
              "#b5de2b"
             ],
             [
              1,
              "#fde725"
             ]
            ],
            "type": "histogram2d"
           }
          ],
          "histogram2dcontour": [
           {
            "colorbar": {
             "outlinewidth": 1,
             "tickcolor": "rgb(36,36,36)",
             "ticks": "outside"
            },
            "colorscale": [
             [
              0,
              "#440154"
             ],
             [
              0.1111111111111111,
              "#482878"
             ],
             [
              0.2222222222222222,
              "#3e4989"
             ],
             [
              0.3333333333333333,
              "#31688e"
             ],
             [
              0.4444444444444444,
              "#26828e"
             ],
             [
              0.5555555555555556,
              "#1f9e89"
             ],
             [
              0.6666666666666666,
              "#35b779"
             ],
             [
              0.7777777777777778,
              "#6ece58"
             ],
             [
              0.8888888888888888,
              "#b5de2b"
             ],
             [
              1,
              "#fde725"
             ]
            ],
            "type": "histogram2dcontour"
           }
          ],
          "mesh3d": [
           {
            "colorbar": {
             "outlinewidth": 1,
             "tickcolor": "rgb(36,36,36)",
             "ticks": "outside"
            },
            "type": "mesh3d"
           }
          ],
          "parcoords": [
           {
            "line": {
             "colorbar": {
              "outlinewidth": 1,
              "tickcolor": "rgb(36,36,36)",
              "ticks": "outside"
             }
            },
            "type": "parcoords"
           }
          ],
          "pie": [
           {
            "automargin": true,
            "type": "pie"
           }
          ],
          "scatter": [
           {
            "fillpattern": {
             "fillmode": "overlay",
             "size": 10,
             "solidity": 0.2
            },
            "type": "scatter"
           }
          ],
          "scatter3d": [
           {
            "line": {
             "colorbar": {
              "outlinewidth": 1,
              "tickcolor": "rgb(36,36,36)",
              "ticks": "outside"
             }
            },
            "marker": {
             "colorbar": {
              "outlinewidth": 1,
              "tickcolor": "rgb(36,36,36)",
              "ticks": "outside"
             }
            },
            "type": "scatter3d"
           }
          ],
          "scattercarpet": [
           {
            "marker": {
             "colorbar": {
              "outlinewidth": 1,
              "tickcolor": "rgb(36,36,36)",
              "ticks": "outside"
             }
            },
            "type": "scattercarpet"
           }
          ],
          "scattergeo": [
           {
            "marker": {
             "colorbar": {
              "outlinewidth": 1,
              "tickcolor": "rgb(36,36,36)",
              "ticks": "outside"
             }
            },
            "type": "scattergeo"
           }
          ],
          "scattergl": [
           {
            "marker": {
             "colorbar": {
              "outlinewidth": 1,
              "tickcolor": "rgb(36,36,36)",
              "ticks": "outside"
             }
            },
            "type": "scattergl"
           }
          ],
          "scattermapbox": [
           {
            "marker": {
             "colorbar": {
              "outlinewidth": 1,
              "tickcolor": "rgb(36,36,36)",
              "ticks": "outside"
             }
            },
            "type": "scattermapbox"
           }
          ],
          "scatterpolar": [
           {
            "marker": {
             "colorbar": {
              "outlinewidth": 1,
              "tickcolor": "rgb(36,36,36)",
              "ticks": "outside"
             }
            },
            "type": "scatterpolar"
           }
          ],
          "scatterpolargl": [
           {
            "marker": {
             "colorbar": {
              "outlinewidth": 1,
              "tickcolor": "rgb(36,36,36)",
              "ticks": "outside"
             }
            },
            "type": "scatterpolargl"
           }
          ],
          "scatterternary": [
           {
            "marker": {
             "colorbar": {
              "outlinewidth": 1,
              "tickcolor": "rgb(36,36,36)",
              "ticks": "outside"
             }
            },
            "type": "scatterternary"
           }
          ],
          "surface": [
           {
            "colorbar": {
             "outlinewidth": 1,
             "tickcolor": "rgb(36,36,36)",
             "ticks": "outside"
            },
            "colorscale": [
             [
              0,
              "#440154"
             ],
             [
              0.1111111111111111,
              "#482878"
             ],
             [
              0.2222222222222222,
              "#3e4989"
             ],
             [
              0.3333333333333333,
              "#31688e"
             ],
             [
              0.4444444444444444,
              "#26828e"
             ],
             [
              0.5555555555555556,
              "#1f9e89"
             ],
             [
              0.6666666666666666,
              "#35b779"
             ],
             [
              0.7777777777777778,
              "#6ece58"
             ],
             [
              0.8888888888888888,
              "#b5de2b"
             ],
             [
              1,
              "#fde725"
             ]
            ],
            "type": "surface"
           }
          ],
          "table": [
           {
            "cells": {
             "fill": {
              "color": "rgb(237,237,237)"
             },
             "line": {
              "color": "white"
             }
            },
            "header": {
             "fill": {
              "color": "rgb(217,217,217)"
             },
             "line": {
              "color": "white"
             }
            },
            "type": "table"
           }
          ]
         },
         "layout": {
          "annotationdefaults": {
           "arrowhead": 0,
           "arrowwidth": 1
          },
          "autotypenumbers": "strict",
          "coloraxis": {
           "colorbar": {
            "outlinewidth": 1,
            "tickcolor": "rgb(36,36,36)",
            "ticks": "outside"
           }
          },
          "colorscale": {
           "diverging": [
            [
             0,
             "rgb(103,0,31)"
            ],
            [
             0.1,
             "rgb(178,24,43)"
            ],
            [
             0.2,
             "rgb(214,96,77)"
            ],
            [
             0.3,
             "rgb(244,165,130)"
            ],
            [
             0.4,
             "rgb(253,219,199)"
            ],
            [
             0.5,
             "rgb(247,247,247)"
            ],
            [
             0.6,
             "rgb(209,229,240)"
            ],
            [
             0.7,
             "rgb(146,197,222)"
            ],
            [
             0.8,
             "rgb(67,147,195)"
            ],
            [
             0.9,
             "rgb(33,102,172)"
            ],
            [
             1,
             "rgb(5,48,97)"
            ]
           ],
           "sequential": [
            [
             0,
             "#440154"
            ],
            [
             0.1111111111111111,
             "#482878"
            ],
            [
             0.2222222222222222,
             "#3e4989"
            ],
            [
             0.3333333333333333,
             "#31688e"
            ],
            [
             0.4444444444444444,
             "#26828e"
            ],
            [
             0.5555555555555556,
             "#1f9e89"
            ],
            [
             0.6666666666666666,
             "#35b779"
            ],
            [
             0.7777777777777778,
             "#6ece58"
            ],
            [
             0.8888888888888888,
             "#b5de2b"
            ],
            [
             1,
             "#fde725"
            ]
           ],
           "sequentialminus": [
            [
             0,
             "#440154"
            ],
            [
             0.1111111111111111,
             "#482878"
            ],
            [
             0.2222222222222222,
             "#3e4989"
            ],
            [
             0.3333333333333333,
             "#31688e"
            ],
            [
             0.4444444444444444,
             "#26828e"
            ],
            [
             0.5555555555555556,
             "#1f9e89"
            ],
            [
             0.6666666666666666,
             "#35b779"
            ],
            [
             0.7777777777777778,
             "#6ece58"
            ],
            [
             0.8888888888888888,
             "#b5de2b"
            ],
            [
             1,
             "#fde725"
            ]
           ]
          },
          "colorway": [
           "#1F77B4",
           "#FF7F0E",
           "#2CA02C",
           "#D62728",
           "#9467BD",
           "#8C564B",
           "#E377C2",
           "#7F7F7F",
           "#BCBD22",
           "#17BECF"
          ],
          "font": {
           "color": "rgb(36,36,36)"
          },
          "geo": {
           "bgcolor": "white",
           "lakecolor": "white",
           "landcolor": "white",
           "showlakes": true,
           "showland": true,
           "subunitcolor": "white"
          },
          "hoverlabel": {
           "align": "left"
          },
          "hovermode": "closest",
          "mapbox": {
           "style": "light"
          },
          "paper_bgcolor": "white",
          "plot_bgcolor": "white",
          "polar": {
           "angularaxis": {
            "gridcolor": "rgb(232,232,232)",
            "linecolor": "rgb(36,36,36)",
            "showgrid": false,
            "showline": true,
            "ticks": "outside"
           },
           "bgcolor": "white",
           "radialaxis": {
            "gridcolor": "rgb(232,232,232)",
            "linecolor": "rgb(36,36,36)",
            "showgrid": false,
            "showline": true,
            "ticks": "outside"
           }
          },
          "scene": {
           "xaxis": {
            "backgroundcolor": "white",
            "gridcolor": "rgb(232,232,232)",
            "gridwidth": 2,
            "linecolor": "rgb(36,36,36)",
            "showbackground": true,
            "showgrid": false,
            "showline": true,
            "ticks": "outside",
            "zeroline": false,
            "zerolinecolor": "rgb(36,36,36)"
           },
           "yaxis": {
            "backgroundcolor": "white",
            "gridcolor": "rgb(232,232,232)",
            "gridwidth": 2,
            "linecolor": "rgb(36,36,36)",
            "showbackground": true,
            "showgrid": false,
            "showline": true,
            "ticks": "outside",
            "zeroline": false,
            "zerolinecolor": "rgb(36,36,36)"
           },
           "zaxis": {
            "backgroundcolor": "white",
            "gridcolor": "rgb(232,232,232)",
            "gridwidth": 2,
            "linecolor": "rgb(36,36,36)",
            "showbackground": true,
            "showgrid": false,
            "showline": true,
            "ticks": "outside",
            "zeroline": false,
            "zerolinecolor": "rgb(36,36,36)"
           }
          },
          "shapedefaults": {
           "fillcolor": "black",
           "line": {
            "width": 0
           },
           "opacity": 0.3
          },
          "ternary": {
           "aaxis": {
            "gridcolor": "rgb(232,232,232)",
            "linecolor": "rgb(36,36,36)",
            "showgrid": false,
            "showline": true,
            "ticks": "outside"
           },
           "baxis": {
            "gridcolor": "rgb(232,232,232)",
            "linecolor": "rgb(36,36,36)",
            "showgrid": false,
            "showline": true,
            "ticks": "outside"
           },
           "bgcolor": "white",
           "caxis": {
            "gridcolor": "rgb(232,232,232)",
            "linecolor": "rgb(36,36,36)",
            "showgrid": false,
            "showline": true,
            "ticks": "outside"
           }
          },
          "title": {
           "x": 0.05
          },
          "xaxis": {
           "automargin": true,
           "gridcolor": "rgb(232,232,232)",
           "linecolor": "rgb(36,36,36)",
           "showgrid": false,
           "showline": true,
           "ticks": "outside",
           "title": {
            "standoff": 15
           },
           "zeroline": false,
           "zerolinecolor": "rgb(36,36,36)"
          },
          "yaxis": {
           "automargin": true,
           "gridcolor": "rgb(232,232,232)",
           "linecolor": "rgb(36,36,36)",
           "showgrid": false,
           "showline": true,
           "ticks": "outside",
           "title": {
            "standoff": 15
           },
           "zeroline": false,
           "zerolinecolor": "rgb(36,36,36)"
          }
         }
        },
        "title": {
         "text": "Difference Plot | value "
        },
        "width": 1000,
        "xaxis": {
         "anchor": "y",
         "domain": [
          0,
          0.2822222222222222
         ],
         "matches": "x7",
         "showticklabels": false
        },
        "xaxis2": {
         "anchor": "y2",
         "domain": [
          0.34888888888888886,
          0.6311111111111111
         ],
         "matches": "x8",
         "range": [
          -1,
          8
         ],
         "showticklabels": false
        },
        "xaxis3": {
         "anchor": "y3",
         "domain": [
          0.6977777777777777,
          0.98
         ],
         "matches": "x9",
         "range": [
          -1,
          4
         ],
         "showticklabels": false
        },
        "xaxis4": {
         "anchor": "y4",
         "domain": [
          0,
          0.2822222222222222
         ],
         "matches": "x7",
         "showticklabels": false
        },
        "xaxis5": {
         "anchor": "y5",
         "domain": [
          0.34888888888888886,
          0.6311111111111111
         ],
         "matches": "x8",
         "range": [
          -1,
          7
         ],
         "showticklabels": false
        },
        "xaxis6": {
         "anchor": "y6",
         "domain": [
          0.6977777777777777,
          0.98
         ],
         "matches": "x9",
         "range": [
          -1,
          4
         ],
         "showticklabels": false
        },
        "xaxis7": {
         "anchor": "y7",
         "domain": [
          0,
          0.2822222222222222
         ]
        },
        "xaxis8": {
         "anchor": "y8",
         "domain": [
          0.34888888888888886,
          0.6311111111111111
         ],
         "range": [
          -1,
          6
         ]
        },
        "xaxis9": {
         "anchor": "y9",
         "domain": [
          0.6977777777777777,
          0.98
         ],
         "range": [
          -1,
          3
         ]
        },
        "yaxis": {
         "anchor": "x",
         "domain": [
          0.7333333333333333,
          1
         ]
        },
        "yaxis2": {
         "anchor": "x2",
         "domain": [
          0.7333333333333333,
          1
         ],
         "range": [
          -1.1,
          1.1
         ],
         "zerolinecolor": "#000000"
        },
        "yaxis3": {
         "anchor": "x3",
         "domain": [
          0.7333333333333333,
          1
         ],
         "range": [
          -1.1,
          1.1
         ],
         "zerolinecolor": "#000000"
        },
        "yaxis4": {
         "anchor": "x4",
         "domain": [
          0.36666666666666664,
          0.6333333333333333
         ]
        },
        "yaxis5": {
         "anchor": "x5",
         "domain": [
          0.36666666666666664,
          0.6333333333333333
         ],
         "range": [
          -1.1,
          1.1
         ],
         "zerolinecolor": "#000000"
        },
        "yaxis6": {
         "anchor": "x6",
         "domain": [
          0.36666666666666664,
          0.6333333333333333
         ],
         "range": [
          -1.1,
          1.1
         ],
         "zerolinecolor": "#000000"
        },
        "yaxis7": {
         "anchor": "x7",
         "domain": [
          0,
          0.26666666666666666
         ]
        },
        "yaxis8": {
         "anchor": "x8",
         "domain": [
          0,
          0.26666666666666666
         ],
         "range": [
          -1.1,
          1.1
         ],
         "zerolinecolor": "#000000"
        },
        "yaxis9": {
         "anchor": "x9",
         "domain": [
          0,
          0.26666666666666666
         ],
         "range": [
          -1.1,
          1.1
         ],
         "zerolinecolor": "#000000"
        }
       }
      }
     },
     "metadata": {},
     "output_type": "display_data"
    }
   ],
   "source": [
    "exp.plot_model(plot=\"diff\", \n",
    "               data_kwargs={\"order_list\": [1, 2], \"acf\": True, \"pacf\": True},\n",
    "               fig_kwargs = {\"height\":700,\"width\":1000,\"template\": \"simple_white\",\"hoverinfo\":\"skip\",\"big_data_threshold\":10})"
   ]
  },
  {
   "cell_type": "markdown",
   "metadata": {},
   "source": [
    "## ARIMA model\n",
    "\n",
    "The ARIMA model is a model based on the Autoregression moving average (ARMA), but since the ARMA model is only a model for stationary time series, it is implemented as an ARIMA model including normalizing the abnormal data."
   ]
  },
  {
   "cell_type": "code",
   "execution_count": null,
   "metadata": {},
   "outputs": [
    {
     "data": {
      "text/html": [],
      "text/plain": [
       "<IPython.core.display.HTML object>"
      ]
     },
     "metadata": {},
     "output_type": "display_data"
    },
    {
     "data": {
      "text/html": [
       "<style type=\"text/css\">\n",
       "#T_0814b_row3_col0, #T_0814b_row3_col1, #T_0814b_row3_col2, #T_0814b_row3_col3, #T_0814b_row3_col4, #T_0814b_row3_col5, #T_0814b_row3_col6 {\n",
       "  background: yellow;\n",
       "}\n",
       "</style>\n",
       "<table id=\"T_0814b\">\n",
       "  <thead>\n",
       "    <tr>\n",
       "      <th class=\"blank level0\" >&nbsp;</th>\n",
       "      <th id=\"T_0814b_level0_col0\" class=\"col_heading level0 col0\" >cutoff</th>\n",
       "      <th id=\"T_0814b_level0_col1\" class=\"col_heading level0 col1\" >MASE</th>\n",
       "      <th id=\"T_0814b_level0_col2\" class=\"col_heading level0 col2\" >RMSSE</th>\n",
       "      <th id=\"T_0814b_level0_col3\" class=\"col_heading level0 col3\" >MAE</th>\n",
       "      <th id=\"T_0814b_level0_col4\" class=\"col_heading level0 col4\" >RMSE</th>\n",
       "      <th id=\"T_0814b_level0_col5\" class=\"col_heading level0 col5\" >MAPE</th>\n",
       "      <th id=\"T_0814b_level0_col6\" class=\"col_heading level0 col6\" >SMAPE</th>\n",
       "    </tr>\n",
       "  </thead>\n",
       "  <tbody>\n",
       "    <tr>\n",
       "      <th id=\"T_0814b_level0_row0\" class=\"row_heading level0 row0\" >0</th>\n",
       "      <td id=\"T_0814b_row0_col0\" class=\"data row0 col0\" >2019</td>\n",
       "      <td id=\"T_0814b_row0_col1\" class=\"data row0 col1\" >1.3880</td>\n",
       "      <td id=\"T_0814b_row0_col2\" class=\"data row0 col2\" >1.3674</td>\n",
       "      <td id=\"T_0814b_row0_col3\" class=\"data row0 col3\" >3.1923</td>\n",
       "      <td id=\"T_0814b_row0_col4\" class=\"data row0 col4\" >3.1923</td>\n",
       "      <td id=\"T_0814b_row0_col5\" class=\"data row0 col5\" >0.0162</td>\n",
       "      <td id=\"T_0814b_row0_col6\" class=\"data row0 col6\" >0.0163</td>\n",
       "    </tr>\n",
       "    <tr>\n",
       "      <th id=\"T_0814b_level0_row1\" class=\"row_heading level0 row1\" >1</th>\n",
       "      <td id=\"T_0814b_row1_col0\" class=\"data row1 col0\" >2020</td>\n",
       "      <td id=\"T_0814b_row1_col1\" class=\"data row1 col1\" >1.7305</td>\n",
       "      <td id=\"T_0814b_row1_col2\" class=\"data row1 col2\" >1.7129</td>\n",
       "      <td id=\"T_0814b_row1_col3\" class=\"data row1 col3\" >4.0955</td>\n",
       "      <td id=\"T_0814b_row1_col4\" class=\"data row1 col4\" >4.0955</td>\n",
       "      <td id=\"T_0814b_row1_col5\" class=\"data row1 col5\" >0.0204</td>\n",
       "      <td id=\"T_0814b_row1_col6\" class=\"data row1 col6\" >0.0206</td>\n",
       "    </tr>\n",
       "    <tr>\n",
       "      <th id=\"T_0814b_level0_row2\" class=\"row_heading level0 row2\" >2</th>\n",
       "      <td id=\"T_0814b_row2_col0\" class=\"data row2 col0\" >2021</td>\n",
       "      <td id=\"T_0814b_row2_col1\" class=\"data row2 col1\" >1.6827</td>\n",
       "      <td id=\"T_0814b_row2_col2\" class=\"data row2 col2\" >1.6448</td>\n",
       "      <td id=\"T_0814b_row2_col3\" class=\"data row2 col3\" >4.4591</td>\n",
       "      <td id=\"T_0814b_row2_col4\" class=\"data row2 col4\" >4.4591</td>\n",
       "      <td id=\"T_0814b_row2_col5\" class=\"data row2 col5\" >0.0218</td>\n",
       "      <td id=\"T_0814b_row2_col6\" class=\"data row2 col6\" >0.0220</td>\n",
       "    </tr>\n",
       "    <tr>\n",
       "      <th id=\"T_0814b_level0_row3\" class=\"row_heading level0 row3\" >Mean</th>\n",
       "      <td id=\"T_0814b_row3_col0\" class=\"data row3 col0\" >NaT</td>\n",
       "      <td id=\"T_0814b_row3_col1\" class=\"data row3 col1\" >1.6004</td>\n",
       "      <td id=\"T_0814b_row3_col2\" class=\"data row3 col2\" >1.5750</td>\n",
       "      <td id=\"T_0814b_row3_col3\" class=\"data row3 col3\" >3.9156</td>\n",
       "      <td id=\"T_0814b_row3_col4\" class=\"data row3 col4\" >3.9156</td>\n",
       "      <td id=\"T_0814b_row3_col5\" class=\"data row3 col5\" >0.0195</td>\n",
       "      <td id=\"T_0814b_row3_col6\" class=\"data row3 col6\" >0.0196</td>\n",
       "    </tr>\n",
       "    <tr>\n",
       "      <th id=\"T_0814b_level0_row4\" class=\"row_heading level0 row4\" >SD</th>\n",
       "      <td id=\"T_0814b_row4_col0\" class=\"data row4 col0\" >NaT</td>\n",
       "      <td id=\"T_0814b_row4_col1\" class=\"data row4 col1\" >0.1515</td>\n",
       "      <td id=\"T_0814b_row4_col2\" class=\"data row4 col2\" >0.1494</td>\n",
       "      <td id=\"T_0814b_row4_col3\" class=\"data row4 col3\" >0.5326</td>\n",
       "      <td id=\"T_0814b_row4_col4\" class=\"data row4 col4\" >0.5326</td>\n",
       "      <td id=\"T_0814b_row4_col5\" class=\"data row4 col5\" >0.0024</td>\n",
       "      <td id=\"T_0814b_row4_col6\" class=\"data row4 col6\" >0.0024</td>\n",
       "    </tr>\n",
       "  </tbody>\n",
       "</table>\n"
      ],
      "text/plain": [
       "<pandas.io.formats.style.Styler at 0x1fc4339eb00>"
      ]
     },
     "metadata": {},
     "output_type": "display_data"
    },
    {
     "data": {
      "text/html": [],
      "text/plain": [
       "<IPython.core.display.HTML object>"
      ]
     },
     "metadata": {},
     "output_type": "display_data"
    },
    {
     "data": {
      "application/vnd.plotly.v1+json": {
       "config": {
        "plotlyServerURL": "https://plot.ly"
       },
       "data": [
        {
         "line": {
          "color": "rgb(31, 119, 180)",
          "width": 2
         },
         "marker": {
          "size": 2
         },
         "mode": "lines+markers",
         "name": "Actual",
         "type": "scattergl",
         "x": [
          "2017-01-01T00:00:00",
          "2018-01-01T00:00:00",
          "2019-01-01T00:00:00",
          "2020-01-01T00:00:00",
          "2021-01-01T00:00:00",
          "2022-01-01T00:00:00",
          "2023-01-01T00:00:00"
         ],
         "xaxis": "x",
         "y": [
          190.2,
          192.9,
          194.8,
          197.3,
          200.8,
          204.7,
          208.2
         ],
         "yaxis": "y"
        },
        {
         "line": {
          "color": "rgb(255, 127, 14)",
          "width": 2
         },
         "marker": {
          "size": 2
         },
         "mode": "lines+markers",
         "name": "Seasonal",
         "type": "scattergl",
         "x": [
          "2017-01-01T00:00:00",
          "2018-01-01T00:00:00",
          "2019-01-01T00:00:00",
          "2020-01-01T00:00:00",
          "2021-01-01T00:00:00",
          "2022-01-01T00:00:00",
          "2023-01-01T00:00:00"
         ],
         "xaxis": "x2",
         "y": [
          1,
          1,
          1,
          1,
          1,
          1,
          1
         ],
         "yaxis": "y2"
        },
        {
         "line": {
          "color": "rgb(44, 160, 44)",
          "width": 2
         },
         "marker": {
          "size": 2
         },
         "mode": "lines+markers",
         "name": "Trend",
         "type": "scattergl",
         "x": [
          "2017-01-01T00:00:00",
          "2018-01-01T00:00:00",
          "2019-01-01T00:00:00",
          "2020-01-01T00:00:00",
          "2021-01-01T00:00:00",
          "2022-01-01T00:00:00",
          "2023-01-01T00:00:00"
         ],
         "xaxis": "x3",
         "y": [
          190.2,
          192.9,
          194.8,
          197.3,
          200.8,
          204.7,
          208.2
         ],
         "yaxis": "y3"
        },
        {
         "line": {
          "color": "rgb(214, 39, 40)",
          "width": 2
         },
         "marker": {
          "size": 4
         },
         "mode": "markers",
         "name": "Residuals",
         "type": "scattergl",
         "x": [
          "2017-01-01T00:00:00",
          "2018-01-01T00:00:00",
          "2019-01-01T00:00:00",
          "2020-01-01T00:00:00",
          "2021-01-01T00:00:00",
          "2022-01-01T00:00:00",
          "2023-01-01T00:00:00"
         ],
         "xaxis": "x4",
         "y": [
          1,
          1,
          1,
          1,
          1,
          1,
          1
         ],
         "yaxis": "y4"
        }
       ],
       "layout": {
        "annotations": [
         {
          "font": {
           "size": 16
          },
          "showarrow": false,
          "text": "value  (transformed)",
          "x": 0.49,
          "xanchor": "center",
          "xref": "paper",
          "y": 1,
          "yanchor": "bottom",
          "yref": "paper"
         },
         {
          "font": {
           "size": 16
          },
          "showarrow": false,
          "text": "Actual",
          "textangle": 90,
          "x": 0.98,
          "xanchor": "left",
          "xref": "paper",
          "y": 0.903125,
          "yanchor": "middle",
          "yref": "paper"
         },
         {
          "font": {
           "size": 16
          },
          "showarrow": false,
          "text": "Seasonal",
          "textangle": 90,
          "x": 0.98,
          "xanchor": "left",
          "xref": "paper",
          "y": 0.6343749999999999,
          "yanchor": "middle",
          "yref": "paper"
         },
         {
          "font": {
           "size": 16
          },
          "showarrow": false,
          "text": "Trend",
          "textangle": 90,
          "x": 0.98,
          "xanchor": "left",
          "xref": "paper",
          "y": 0.365625,
          "yanchor": "middle",
          "yref": "paper"
         },
         {
          "font": {
           "size": 16
          },
          "showarrow": false,
          "text": "Residual",
          "textangle": 90,
          "x": 0.98,
          "xanchor": "left",
          "xref": "paper",
          "y": 0.096875,
          "yanchor": "middle",
          "yref": "paper"
         }
        ],
        "autosize": false,
        "height": 500,
        "showlegend": false,
        "template": {
         "data": {
          "bar": [
           {
            "error_x": {
             "color": "rgb(36,36,36)"
            },
            "error_y": {
             "color": "rgb(36,36,36)"
            },
            "marker": {
             "line": {
              "color": "white",
              "width": 0.5
             },
             "pattern": {
              "fillmode": "overlay",
              "size": 10,
              "solidity": 0.2
             }
            },
            "type": "bar"
           }
          ],
          "barpolar": [
           {
            "marker": {
             "line": {
              "color": "white",
              "width": 0.5
             },
             "pattern": {
              "fillmode": "overlay",
              "size": 10,
              "solidity": 0.2
             }
            },
            "type": "barpolar"
           }
          ],
          "carpet": [
           {
            "aaxis": {
             "endlinecolor": "rgb(36,36,36)",
             "gridcolor": "white",
             "linecolor": "white",
             "minorgridcolor": "white",
             "startlinecolor": "rgb(36,36,36)"
            },
            "baxis": {
             "endlinecolor": "rgb(36,36,36)",
             "gridcolor": "white",
             "linecolor": "white",
             "minorgridcolor": "white",
             "startlinecolor": "rgb(36,36,36)"
            },
            "type": "carpet"
           }
          ],
          "choropleth": [
           {
            "colorbar": {
             "outlinewidth": 1,
             "tickcolor": "rgb(36,36,36)",
             "ticks": "outside"
            },
            "type": "choropleth"
           }
          ],
          "contour": [
           {
            "colorbar": {
             "outlinewidth": 1,
             "tickcolor": "rgb(36,36,36)",
             "ticks": "outside"
            },
            "colorscale": [
             [
              0,
              "#440154"
             ],
             [
              0.1111111111111111,
              "#482878"
             ],
             [
              0.2222222222222222,
              "#3e4989"
             ],
             [
              0.3333333333333333,
              "#31688e"
             ],
             [
              0.4444444444444444,
              "#26828e"
             ],
             [
              0.5555555555555556,
              "#1f9e89"
             ],
             [
              0.6666666666666666,
              "#35b779"
             ],
             [
              0.7777777777777778,
              "#6ece58"
             ],
             [
              0.8888888888888888,
              "#b5de2b"
             ],
             [
              1,
              "#fde725"
             ]
            ],
            "type": "contour"
           }
          ],
          "contourcarpet": [
           {
            "colorbar": {
             "outlinewidth": 1,
             "tickcolor": "rgb(36,36,36)",
             "ticks": "outside"
            },
            "type": "contourcarpet"
           }
          ],
          "heatmap": [
           {
            "colorbar": {
             "outlinewidth": 1,
             "tickcolor": "rgb(36,36,36)",
             "ticks": "outside"
            },
            "colorscale": [
             [
              0,
              "#440154"
             ],
             [
              0.1111111111111111,
              "#482878"
             ],
             [
              0.2222222222222222,
              "#3e4989"
             ],
             [
              0.3333333333333333,
              "#31688e"
             ],
             [
              0.4444444444444444,
              "#26828e"
             ],
             [
              0.5555555555555556,
              "#1f9e89"
             ],
             [
              0.6666666666666666,
              "#35b779"
             ],
             [
              0.7777777777777778,
              "#6ece58"
             ],
             [
              0.8888888888888888,
              "#b5de2b"
             ],
             [
              1,
              "#fde725"
             ]
            ],
            "type": "heatmap"
           }
          ],
          "heatmapgl": [
           {
            "colorbar": {
             "outlinewidth": 1,
             "tickcolor": "rgb(36,36,36)",
             "ticks": "outside"
            },
            "colorscale": [
             [
              0,
              "#440154"
             ],
             [
              0.1111111111111111,
              "#482878"
             ],
             [
              0.2222222222222222,
              "#3e4989"
             ],
             [
              0.3333333333333333,
              "#31688e"
             ],
             [
              0.4444444444444444,
              "#26828e"
             ],
             [
              0.5555555555555556,
              "#1f9e89"
             ],
             [
              0.6666666666666666,
              "#35b779"
             ],
             [
              0.7777777777777778,
              "#6ece58"
             ],
             [
              0.8888888888888888,
              "#b5de2b"
             ],
             [
              1,
              "#fde725"
             ]
            ],
            "type": "heatmapgl"
           }
          ],
          "histogram": [
           {
            "marker": {
             "line": {
              "color": "white",
              "width": 0.6
             }
            },
            "type": "histogram"
           }
          ],
          "histogram2d": [
           {
            "colorbar": {
             "outlinewidth": 1,
             "tickcolor": "rgb(36,36,36)",
             "ticks": "outside"
            },
            "colorscale": [
             [
              0,
              "#440154"
             ],
             [
              0.1111111111111111,
              "#482878"
             ],
             [
              0.2222222222222222,
              "#3e4989"
             ],
             [
              0.3333333333333333,
              "#31688e"
             ],
             [
              0.4444444444444444,
              "#26828e"
             ],
             [
              0.5555555555555556,
              "#1f9e89"
             ],
             [
              0.6666666666666666,
              "#35b779"
             ],
             [
              0.7777777777777778,
              "#6ece58"
             ],
             [
              0.8888888888888888,
              "#b5de2b"
             ],
             [
              1,
              "#fde725"
             ]
            ],
            "type": "histogram2d"
           }
          ],
          "histogram2dcontour": [
           {
            "colorbar": {
             "outlinewidth": 1,
             "tickcolor": "rgb(36,36,36)",
             "ticks": "outside"
            },
            "colorscale": [
             [
              0,
              "#440154"
             ],
             [
              0.1111111111111111,
              "#482878"
             ],
             [
              0.2222222222222222,
              "#3e4989"
             ],
             [
              0.3333333333333333,
              "#31688e"
             ],
             [
              0.4444444444444444,
              "#26828e"
             ],
             [
              0.5555555555555556,
              "#1f9e89"
             ],
             [
              0.6666666666666666,
              "#35b779"
             ],
             [
              0.7777777777777778,
              "#6ece58"
             ],
             [
              0.8888888888888888,
              "#b5de2b"
             ],
             [
              1,
              "#fde725"
             ]
            ],
            "type": "histogram2dcontour"
           }
          ],
          "mesh3d": [
           {
            "colorbar": {
             "outlinewidth": 1,
             "tickcolor": "rgb(36,36,36)",
             "ticks": "outside"
            },
            "type": "mesh3d"
           }
          ],
          "parcoords": [
           {
            "line": {
             "colorbar": {
              "outlinewidth": 1,
              "tickcolor": "rgb(36,36,36)",
              "ticks": "outside"
             }
            },
            "type": "parcoords"
           }
          ],
          "pie": [
           {
            "automargin": true,
            "type": "pie"
           }
          ],
          "scatter": [
           {
            "fillpattern": {
             "fillmode": "overlay",
             "size": 10,
             "solidity": 0.2
            },
            "type": "scatter"
           }
          ],
          "scatter3d": [
           {
            "line": {
             "colorbar": {
              "outlinewidth": 1,
              "tickcolor": "rgb(36,36,36)",
              "ticks": "outside"
             }
            },
            "marker": {
             "colorbar": {
              "outlinewidth": 1,
              "tickcolor": "rgb(36,36,36)",
              "ticks": "outside"
             }
            },
            "type": "scatter3d"
           }
          ],
          "scattercarpet": [
           {
            "marker": {
             "colorbar": {
              "outlinewidth": 1,
              "tickcolor": "rgb(36,36,36)",
              "ticks": "outside"
             }
            },
            "type": "scattercarpet"
           }
          ],
          "scattergeo": [
           {
            "marker": {
             "colorbar": {
              "outlinewidth": 1,
              "tickcolor": "rgb(36,36,36)",
              "ticks": "outside"
             }
            },
            "type": "scattergeo"
           }
          ],
          "scattergl": [
           {
            "marker": {
             "colorbar": {
              "outlinewidth": 1,
              "tickcolor": "rgb(36,36,36)",
              "ticks": "outside"
             }
            },
            "type": "scattergl"
           }
          ],
          "scattermapbox": [
           {
            "marker": {
             "colorbar": {
              "outlinewidth": 1,
              "tickcolor": "rgb(36,36,36)",
              "ticks": "outside"
             }
            },
            "type": "scattermapbox"
           }
          ],
          "scatterpolar": [
           {
            "marker": {
             "colorbar": {
              "outlinewidth": 1,
              "tickcolor": "rgb(36,36,36)",
              "ticks": "outside"
             }
            },
            "type": "scatterpolar"
           }
          ],
          "scatterpolargl": [
           {
            "marker": {
             "colorbar": {
              "outlinewidth": 1,
              "tickcolor": "rgb(36,36,36)",
              "ticks": "outside"
             }
            },
            "type": "scatterpolargl"
           }
          ],
          "scatterternary": [
           {
            "marker": {
             "colorbar": {
              "outlinewidth": 1,
              "tickcolor": "rgb(36,36,36)",
              "ticks": "outside"
             }
            },
            "type": "scatterternary"
           }
          ],
          "surface": [
           {
            "colorbar": {
             "outlinewidth": 1,
             "tickcolor": "rgb(36,36,36)",
             "ticks": "outside"
            },
            "colorscale": [
             [
              0,
              "#440154"
             ],
             [
              0.1111111111111111,
              "#482878"
             ],
             [
              0.2222222222222222,
              "#3e4989"
             ],
             [
              0.3333333333333333,
              "#31688e"
             ],
             [
              0.4444444444444444,
              "#26828e"
             ],
             [
              0.5555555555555556,
              "#1f9e89"
             ],
             [
              0.6666666666666666,
              "#35b779"
             ],
             [
              0.7777777777777778,
              "#6ece58"
             ],
             [
              0.8888888888888888,
              "#b5de2b"
             ],
             [
              1,
              "#fde725"
             ]
            ],
            "type": "surface"
           }
          ],
          "table": [
           {
            "cells": {
             "fill": {
              "color": "rgb(237,237,237)"
             },
             "line": {
              "color": "white"
             }
            },
            "header": {
             "fill": {
              "color": "rgb(217,217,217)"
             },
             "line": {
              "color": "white"
             }
            },
            "type": "table"
           }
          ]
         },
         "layout": {
          "annotationdefaults": {
           "arrowhead": 0,
           "arrowwidth": 1
          },
          "autotypenumbers": "strict",
          "coloraxis": {
           "colorbar": {
            "outlinewidth": 1,
            "tickcolor": "rgb(36,36,36)",
            "ticks": "outside"
           }
          },
          "colorscale": {
           "diverging": [
            [
             0,
             "rgb(103,0,31)"
            ],
            [
             0.1,
             "rgb(178,24,43)"
            ],
            [
             0.2,
             "rgb(214,96,77)"
            ],
            [
             0.3,
             "rgb(244,165,130)"
            ],
            [
             0.4,
             "rgb(253,219,199)"
            ],
            [
             0.5,
             "rgb(247,247,247)"
            ],
            [
             0.6,
             "rgb(209,229,240)"
            ],
            [
             0.7,
             "rgb(146,197,222)"
            ],
            [
             0.8,
             "rgb(67,147,195)"
            ],
            [
             0.9,
             "rgb(33,102,172)"
            ],
            [
             1,
             "rgb(5,48,97)"
            ]
           ],
           "sequential": [
            [
             0,
             "#440154"
            ],
            [
             0.1111111111111111,
             "#482878"
            ],
            [
             0.2222222222222222,
             "#3e4989"
            ],
            [
             0.3333333333333333,
             "#31688e"
            ],
            [
             0.4444444444444444,
             "#26828e"
            ],
            [
             0.5555555555555556,
             "#1f9e89"
            ],
            [
             0.6666666666666666,
             "#35b779"
            ],
            [
             0.7777777777777778,
             "#6ece58"
            ],
            [
             0.8888888888888888,
             "#b5de2b"
            ],
            [
             1,
             "#fde725"
            ]
           ],
           "sequentialminus": [
            [
             0,
             "#440154"
            ],
            [
             0.1111111111111111,
             "#482878"
            ],
            [
             0.2222222222222222,
             "#3e4989"
            ],
            [
             0.3333333333333333,
             "#31688e"
            ],
            [
             0.4444444444444444,
             "#26828e"
            ],
            [
             0.5555555555555556,
             "#1f9e89"
            ],
            [
             0.6666666666666666,
             "#35b779"
            ],
            [
             0.7777777777777778,
             "#6ece58"
            ],
            [
             0.8888888888888888,
             "#b5de2b"
            ],
            [
             1,
             "#fde725"
            ]
           ]
          },
          "colorway": [
           "#1F77B4",
           "#FF7F0E",
           "#2CA02C",
           "#D62728",
           "#9467BD",
           "#8C564B",
           "#E377C2",
           "#7F7F7F",
           "#BCBD22",
           "#17BECF"
          ],
          "font": {
           "color": "rgb(36,36,36)"
          },
          "geo": {
           "bgcolor": "white",
           "lakecolor": "white",
           "landcolor": "white",
           "showlakes": true,
           "showland": true,
           "subunitcolor": "white"
          },
          "hoverlabel": {
           "align": "left"
          },
          "hovermode": "closest",
          "mapbox": {
           "style": "light"
          },
          "paper_bgcolor": "white",
          "plot_bgcolor": "white",
          "polar": {
           "angularaxis": {
            "gridcolor": "rgb(232,232,232)",
            "linecolor": "rgb(36,36,36)",
            "showgrid": false,
            "showline": true,
            "ticks": "outside"
           },
           "bgcolor": "white",
           "radialaxis": {
            "gridcolor": "rgb(232,232,232)",
            "linecolor": "rgb(36,36,36)",
            "showgrid": false,
            "showline": true,
            "ticks": "outside"
           }
          },
          "scene": {
           "xaxis": {
            "backgroundcolor": "white",
            "gridcolor": "rgb(232,232,232)",
            "gridwidth": 2,
            "linecolor": "rgb(36,36,36)",
            "showbackground": true,
            "showgrid": false,
            "showline": true,
            "ticks": "outside",
            "zeroline": false,
            "zerolinecolor": "rgb(36,36,36)"
           },
           "yaxis": {
            "backgroundcolor": "white",
            "gridcolor": "rgb(232,232,232)",
            "gridwidth": 2,
            "linecolor": "rgb(36,36,36)",
            "showbackground": true,
            "showgrid": false,
            "showline": true,
            "ticks": "outside",
            "zeroline": false,
            "zerolinecolor": "rgb(36,36,36)"
           },
           "zaxis": {
            "backgroundcolor": "white",
            "gridcolor": "rgb(232,232,232)",
            "gridwidth": 2,
            "linecolor": "rgb(36,36,36)",
            "showbackground": true,
            "showgrid": false,
            "showline": true,
            "ticks": "outside",
            "zeroline": false,
            "zerolinecolor": "rgb(36,36,36)"
           }
          },
          "shapedefaults": {
           "fillcolor": "black",
           "line": {
            "width": 0
           },
           "opacity": 0.3
          },
          "ternary": {
           "aaxis": {
            "gridcolor": "rgb(232,232,232)",
            "linecolor": "rgb(36,36,36)",
            "showgrid": false,
            "showline": true,
            "ticks": "outside"
           },
           "baxis": {
            "gridcolor": "rgb(232,232,232)",
            "linecolor": "rgb(36,36,36)",
            "showgrid": false,
            "showline": true,
            "ticks": "outside"
           },
           "bgcolor": "white",
           "caxis": {
            "gridcolor": "rgb(232,232,232)",
            "linecolor": "rgb(36,36,36)",
            "showgrid": false,
            "showline": true,
            "ticks": "outside"
           }
          },
          "title": {
           "x": 0.05
          },
          "xaxis": {
           "automargin": true,
           "gridcolor": "rgb(232,232,232)",
           "linecolor": "rgb(36,36,36)",
           "showgrid": false,
           "showline": true,
           "ticks": "outside",
           "title": {
            "standoff": 15
           },
           "zeroline": false,
           "zerolinecolor": "rgb(36,36,36)"
          },
          "yaxis": {
           "automargin": true,
           "gridcolor": "rgb(232,232,232)",
           "linecolor": "rgb(36,36,36)",
           "showgrid": false,
           "showline": true,
           "ticks": "outside",
           "title": {
            "standoff": 15
           },
           "zeroline": false,
           "zerolinecolor": "rgb(36,36,36)"
          }
         }
        },
        "title": {
         "text": "Classical Decomposition (multiplicative) | value <br>Seasonal Period = 1"
        },
        "width": 1000,
        "xaxis": {
         "anchor": "y",
         "domain": [
          0,
          0.98
         ],
         "matches": "x4",
         "showticklabels": false
        },
        "xaxis2": {
         "anchor": "y2",
         "domain": [
          0,
          0.98
         ],
         "matches": "x4",
         "showticklabels": false
        },
        "xaxis3": {
         "anchor": "y3",
         "domain": [
          0,
          0.98
         ],
         "matches": "x4",
         "showticklabels": false
        },
        "xaxis4": {
         "anchor": "y4",
         "domain": [
          0,
          0.98
         ]
        },
        "yaxis": {
         "anchor": "x",
         "domain": [
          0.80625,
          1
         ]
        },
        "yaxis2": {
         "anchor": "x2",
         "domain": [
          0.5375,
          0.73125
         ]
        },
        "yaxis3": {
         "anchor": "x3",
         "domain": [
          0.26875,
          0.4625
         ]
        },
        "yaxis4": {
         "anchor": "x4",
         "domain": [
          0,
          0.19375
         ]
        }
       }
      }
     },
     "metadata": {},
     "output_type": "display_data"
    },
    {
     "data": {
      "application/vnd.plotly.v1+json": {
       "config": {
        "plotlyServerURL": "https://plot.ly"
       },
       "data": [
        {
         "line": {
          "color": "#1f77b4"
         },
         "marker": {
          "size": 5
         },
         "mode": "lines+markers",
         "name": "Forecast | ARIMA",
         "showlegend": true,
         "type": "scatter",
         "x": [
          "2023-01-01T00:00:00",
          "2024-01-01T00:00:00",
          "2025-01-01T00:00:00",
          "2026-01-01T00:00:00",
          "2027-01-01T00:00:00",
          "2028-01-01T00:00:00",
          "2029-01-01T00:00:00"
         ],
         "y": [
          204.1083,
          203.5645,
          203.0645,
          202.605,
          202.1826,
          201.7942,
          201.4373
         ]
        },
        {
         "line": {
          "width": 0
         },
         "marker": {
          "color": "#68BBE3"
         },
         "mode": "lines",
         "name": "Lower Interval",
         "showlegend": false,
         "type": "scatter",
         "x": [
          "2023-01-01T00:00:00",
          "2024-01-01T00:00:00",
          "2025-01-01T00:00:00",
          "2026-01-01T00:00:00",
          "2027-01-01T00:00:00",
          "2028-01-01T00:00:00",
          "2029-01-01T00:00:00"
         ],
         "y": [
          199.3776,
          197.1388,
          195.497,
          194.1925,
          193.1174,
          192.2121,
          191.4392
         ]
        },
        {
         "fill": "tonexty",
         "fillcolor": "rgba(104,187,227,0.5)",
         "line": {
          "width": 0
         },
         "marker": {
          "color": "#68BBE3"
         },
         "mode": "lines",
         "name": "Prediction Interval | ARIMA",
         "showlegend": true,
         "type": "scatter",
         "x": [
          "2023-01-01T00:00:00",
          "2024-01-01T00:00:00",
          "2025-01-01T00:00:00",
          "2026-01-01T00:00:00",
          "2027-01-01T00:00:00",
          "2028-01-01T00:00:00",
          "2029-01-01T00:00:00"
         ],
         "y": [
          208.839,
          209.9902,
          210.6321,
          211.0174,
          211.2477,
          211.3764,
          211.4354
         ]
        },
        {
         "marker": {
          "color": "#3f3f3f",
          "size": 5
         },
         "mode": "lines+markers",
         "name": "Original",
         "showlegend": true,
         "type": "scatter",
         "x": [
          "2017-01-01T00:00:00",
          "2018-01-01T00:00:00",
          "2019-01-01T00:00:00",
          "2020-01-01T00:00:00",
          "2021-01-01T00:00:00",
          "2022-01-01T00:00:00",
          "2023-01-01T00:00:00"
         ],
         "y": [
          190.2,
          192.9,
          194.8,
          197.3,
          200.8,
          204.7,
          208.2
         ]
        }
       ],
       "layout": {
        "autosize": false,
        "height": 500,
        "showlegend": true,
        "template": {
         "data": {
          "bar": [
           {
            "error_x": {
             "color": "rgb(36,36,36)"
            },
            "error_y": {
             "color": "rgb(36,36,36)"
            },
            "marker": {
             "line": {
              "color": "white",
              "width": 0.5
             },
             "pattern": {
              "fillmode": "overlay",
              "size": 10,
              "solidity": 0.2
             }
            },
            "type": "bar"
           }
          ],
          "barpolar": [
           {
            "marker": {
             "line": {
              "color": "white",
              "width": 0.5
             },
             "pattern": {
              "fillmode": "overlay",
              "size": 10,
              "solidity": 0.2
             }
            },
            "type": "barpolar"
           }
          ],
          "carpet": [
           {
            "aaxis": {
             "endlinecolor": "rgb(36,36,36)",
             "gridcolor": "white",
             "linecolor": "white",
             "minorgridcolor": "white",
             "startlinecolor": "rgb(36,36,36)"
            },
            "baxis": {
             "endlinecolor": "rgb(36,36,36)",
             "gridcolor": "white",
             "linecolor": "white",
             "minorgridcolor": "white",
             "startlinecolor": "rgb(36,36,36)"
            },
            "type": "carpet"
           }
          ],
          "choropleth": [
           {
            "colorbar": {
             "outlinewidth": 1,
             "tickcolor": "rgb(36,36,36)",
             "ticks": "outside"
            },
            "type": "choropleth"
           }
          ],
          "contour": [
           {
            "colorbar": {
             "outlinewidth": 1,
             "tickcolor": "rgb(36,36,36)",
             "ticks": "outside"
            },
            "colorscale": [
             [
              0,
              "#440154"
             ],
             [
              0.1111111111111111,
              "#482878"
             ],
             [
              0.2222222222222222,
              "#3e4989"
             ],
             [
              0.3333333333333333,
              "#31688e"
             ],
             [
              0.4444444444444444,
              "#26828e"
             ],
             [
              0.5555555555555556,
              "#1f9e89"
             ],
             [
              0.6666666666666666,
              "#35b779"
             ],
             [
              0.7777777777777778,
              "#6ece58"
             ],
             [
              0.8888888888888888,
              "#b5de2b"
             ],
             [
              1,
              "#fde725"
             ]
            ],
            "type": "contour"
           }
          ],
          "contourcarpet": [
           {
            "colorbar": {
             "outlinewidth": 1,
             "tickcolor": "rgb(36,36,36)",
             "ticks": "outside"
            },
            "type": "contourcarpet"
           }
          ],
          "heatmap": [
           {
            "colorbar": {
             "outlinewidth": 1,
             "tickcolor": "rgb(36,36,36)",
             "ticks": "outside"
            },
            "colorscale": [
             [
              0,
              "#440154"
             ],
             [
              0.1111111111111111,
              "#482878"
             ],
             [
              0.2222222222222222,
              "#3e4989"
             ],
             [
              0.3333333333333333,
              "#31688e"
             ],
             [
              0.4444444444444444,
              "#26828e"
             ],
             [
              0.5555555555555556,
              "#1f9e89"
             ],
             [
              0.6666666666666666,
              "#35b779"
             ],
             [
              0.7777777777777778,
              "#6ece58"
             ],
             [
              0.8888888888888888,
              "#b5de2b"
             ],
             [
              1,
              "#fde725"
             ]
            ],
            "type": "heatmap"
           }
          ],
          "heatmapgl": [
           {
            "colorbar": {
             "outlinewidth": 1,
             "tickcolor": "rgb(36,36,36)",
             "ticks": "outside"
            },
            "colorscale": [
             [
              0,
              "#440154"
             ],
             [
              0.1111111111111111,
              "#482878"
             ],
             [
              0.2222222222222222,
              "#3e4989"
             ],
             [
              0.3333333333333333,
              "#31688e"
             ],
             [
              0.4444444444444444,
              "#26828e"
             ],
             [
              0.5555555555555556,
              "#1f9e89"
             ],
             [
              0.6666666666666666,
              "#35b779"
             ],
             [
              0.7777777777777778,
              "#6ece58"
             ],
             [
              0.8888888888888888,
              "#b5de2b"
             ],
             [
              1,
              "#fde725"
             ]
            ],
            "type": "heatmapgl"
           }
          ],
          "histogram": [
           {
            "marker": {
             "line": {
              "color": "white",
              "width": 0.6
             }
            },
            "type": "histogram"
           }
          ],
          "histogram2d": [
           {
            "colorbar": {
             "outlinewidth": 1,
             "tickcolor": "rgb(36,36,36)",
             "ticks": "outside"
            },
            "colorscale": [
             [
              0,
              "#440154"
             ],
             [
              0.1111111111111111,
              "#482878"
             ],
             [
              0.2222222222222222,
              "#3e4989"
             ],
             [
              0.3333333333333333,
              "#31688e"
             ],
             [
              0.4444444444444444,
              "#26828e"
             ],
             [
              0.5555555555555556,
              "#1f9e89"
             ],
             [
              0.6666666666666666,
              "#35b779"
             ],
             [
              0.7777777777777778,
              "#6ece58"
             ],
             [
              0.8888888888888888,
              "#b5de2b"
             ],
             [
              1,
              "#fde725"
             ]
            ],
            "type": "histogram2d"
           }
          ],
          "histogram2dcontour": [
           {
            "colorbar": {
             "outlinewidth": 1,
             "tickcolor": "rgb(36,36,36)",
             "ticks": "outside"
            },
            "colorscale": [
             [
              0,
              "#440154"
             ],
             [
              0.1111111111111111,
              "#482878"
             ],
             [
              0.2222222222222222,
              "#3e4989"
             ],
             [
              0.3333333333333333,
              "#31688e"
             ],
             [
              0.4444444444444444,
              "#26828e"
             ],
             [
              0.5555555555555556,
              "#1f9e89"
             ],
             [
              0.6666666666666666,
              "#35b779"
             ],
             [
              0.7777777777777778,
              "#6ece58"
             ],
             [
              0.8888888888888888,
              "#b5de2b"
             ],
             [
              1,
              "#fde725"
             ]
            ],
            "type": "histogram2dcontour"
           }
          ],
          "mesh3d": [
           {
            "colorbar": {
             "outlinewidth": 1,
             "tickcolor": "rgb(36,36,36)",
             "ticks": "outside"
            },
            "type": "mesh3d"
           }
          ],
          "parcoords": [
           {
            "line": {
             "colorbar": {
              "outlinewidth": 1,
              "tickcolor": "rgb(36,36,36)",
              "ticks": "outside"
             }
            },
            "type": "parcoords"
           }
          ],
          "pie": [
           {
            "automargin": true,
            "type": "pie"
           }
          ],
          "scatter": [
           {
            "fillpattern": {
             "fillmode": "overlay",
             "size": 10,
             "solidity": 0.2
            },
            "type": "scatter"
           }
          ],
          "scatter3d": [
           {
            "line": {
             "colorbar": {
              "outlinewidth": 1,
              "tickcolor": "rgb(36,36,36)",
              "ticks": "outside"
             }
            },
            "marker": {
             "colorbar": {
              "outlinewidth": 1,
              "tickcolor": "rgb(36,36,36)",
              "ticks": "outside"
             }
            },
            "type": "scatter3d"
           }
          ],
          "scattercarpet": [
           {
            "marker": {
             "colorbar": {
              "outlinewidth": 1,
              "tickcolor": "rgb(36,36,36)",
              "ticks": "outside"
             }
            },
            "type": "scattercarpet"
           }
          ],
          "scattergeo": [
           {
            "marker": {
             "colorbar": {
              "outlinewidth": 1,
              "tickcolor": "rgb(36,36,36)",
              "ticks": "outside"
             }
            },
            "type": "scattergeo"
           }
          ],
          "scattergl": [
           {
            "marker": {
             "colorbar": {
              "outlinewidth": 1,
              "tickcolor": "rgb(36,36,36)",
              "ticks": "outside"
             }
            },
            "type": "scattergl"
           }
          ],
          "scattermapbox": [
           {
            "marker": {
             "colorbar": {
              "outlinewidth": 1,
              "tickcolor": "rgb(36,36,36)",
              "ticks": "outside"
             }
            },
            "type": "scattermapbox"
           }
          ],
          "scatterpolar": [
           {
            "marker": {
             "colorbar": {
              "outlinewidth": 1,
              "tickcolor": "rgb(36,36,36)",
              "ticks": "outside"
             }
            },
            "type": "scatterpolar"
           }
          ],
          "scatterpolargl": [
           {
            "marker": {
             "colorbar": {
              "outlinewidth": 1,
              "tickcolor": "rgb(36,36,36)",
              "ticks": "outside"
             }
            },
            "type": "scatterpolargl"
           }
          ],
          "scatterternary": [
           {
            "marker": {
             "colorbar": {
              "outlinewidth": 1,
              "tickcolor": "rgb(36,36,36)",
              "ticks": "outside"
             }
            },
            "type": "scatterternary"
           }
          ],
          "surface": [
           {
            "colorbar": {
             "outlinewidth": 1,
             "tickcolor": "rgb(36,36,36)",
             "ticks": "outside"
            },
            "colorscale": [
             [
              0,
              "#440154"
             ],
             [
              0.1111111111111111,
              "#482878"
             ],
             [
              0.2222222222222222,
              "#3e4989"
             ],
             [
              0.3333333333333333,
              "#31688e"
             ],
             [
              0.4444444444444444,
              "#26828e"
             ],
             [
              0.5555555555555556,
              "#1f9e89"
             ],
             [
              0.6666666666666666,
              "#35b779"
             ],
             [
              0.7777777777777778,
              "#6ece58"
             ],
             [
              0.8888888888888888,
              "#b5de2b"
             ],
             [
              1,
              "#fde725"
             ]
            ],
            "type": "surface"
           }
          ],
          "table": [
           {
            "cells": {
             "fill": {
              "color": "rgb(237,237,237)"
             },
             "line": {
              "color": "white"
             }
            },
            "header": {
             "fill": {
              "color": "rgb(217,217,217)"
             },
             "line": {
              "color": "white"
             }
            },
            "type": "table"
           }
          ]
         },
         "layout": {
          "annotationdefaults": {
           "arrowhead": 0,
           "arrowwidth": 1
          },
          "autotypenumbers": "strict",
          "coloraxis": {
           "colorbar": {
            "outlinewidth": 1,
            "tickcolor": "rgb(36,36,36)",
            "ticks": "outside"
           }
          },
          "colorscale": {
           "diverging": [
            [
             0,
             "rgb(103,0,31)"
            ],
            [
             0.1,
             "rgb(178,24,43)"
            ],
            [
             0.2,
             "rgb(214,96,77)"
            ],
            [
             0.3,
             "rgb(244,165,130)"
            ],
            [
             0.4,
             "rgb(253,219,199)"
            ],
            [
             0.5,
             "rgb(247,247,247)"
            ],
            [
             0.6,
             "rgb(209,229,240)"
            ],
            [
             0.7,
             "rgb(146,197,222)"
            ],
            [
             0.8,
             "rgb(67,147,195)"
            ],
            [
             0.9,
             "rgb(33,102,172)"
            ],
            [
             1,
             "rgb(5,48,97)"
            ]
           ],
           "sequential": [
            [
             0,
             "#440154"
            ],
            [
             0.1111111111111111,
             "#482878"
            ],
            [
             0.2222222222222222,
             "#3e4989"
            ],
            [
             0.3333333333333333,
             "#31688e"
            ],
            [
             0.4444444444444444,
             "#26828e"
            ],
            [
             0.5555555555555556,
             "#1f9e89"
            ],
            [
             0.6666666666666666,
             "#35b779"
            ],
            [
             0.7777777777777778,
             "#6ece58"
            ],
            [
             0.8888888888888888,
             "#b5de2b"
            ],
            [
             1,
             "#fde725"
            ]
           ],
           "sequentialminus": [
            [
             0,
             "#440154"
            ],
            [
             0.1111111111111111,
             "#482878"
            ],
            [
             0.2222222222222222,
             "#3e4989"
            ],
            [
             0.3333333333333333,
             "#31688e"
            ],
            [
             0.4444444444444444,
             "#26828e"
            ],
            [
             0.5555555555555556,
             "#1f9e89"
            ],
            [
             0.6666666666666666,
             "#35b779"
            ],
            [
             0.7777777777777778,
             "#6ece58"
            ],
            [
             0.8888888888888888,
             "#b5de2b"
            ],
            [
             1,
             "#fde725"
            ]
           ]
          },
          "colorway": [
           "#1F77B4",
           "#FF7F0E",
           "#2CA02C",
           "#D62728",
           "#9467BD",
           "#8C564B",
           "#E377C2",
           "#7F7F7F",
           "#BCBD22",
           "#17BECF"
          ],
          "font": {
           "color": "rgb(36,36,36)"
          },
          "geo": {
           "bgcolor": "white",
           "lakecolor": "white",
           "landcolor": "white",
           "showlakes": true,
           "showland": true,
           "subunitcolor": "white"
          },
          "hoverlabel": {
           "align": "left"
          },
          "hovermode": "closest",
          "mapbox": {
           "style": "light"
          },
          "paper_bgcolor": "white",
          "plot_bgcolor": "white",
          "polar": {
           "angularaxis": {
            "gridcolor": "rgb(232,232,232)",
            "linecolor": "rgb(36,36,36)",
            "showgrid": false,
            "showline": true,
            "ticks": "outside"
           },
           "bgcolor": "white",
           "radialaxis": {
            "gridcolor": "rgb(232,232,232)",
            "linecolor": "rgb(36,36,36)",
            "showgrid": false,
            "showline": true,
            "ticks": "outside"
           }
          },
          "scene": {
           "xaxis": {
            "backgroundcolor": "white",
            "gridcolor": "rgb(232,232,232)",
            "gridwidth": 2,
            "linecolor": "rgb(36,36,36)",
            "showbackground": true,
            "showgrid": false,
            "showline": true,
            "ticks": "outside",
            "zeroline": false,
            "zerolinecolor": "rgb(36,36,36)"
           },
           "yaxis": {
            "backgroundcolor": "white",
            "gridcolor": "rgb(232,232,232)",
            "gridwidth": 2,
            "linecolor": "rgb(36,36,36)",
            "showbackground": true,
            "showgrid": false,
            "showline": true,
            "ticks": "outside",
            "zeroline": false,
            "zerolinecolor": "rgb(36,36,36)"
           },
           "zaxis": {
            "backgroundcolor": "white",
            "gridcolor": "rgb(232,232,232)",
            "gridwidth": 2,
            "linecolor": "rgb(36,36,36)",
            "showbackground": true,
            "showgrid": false,
            "showline": true,
            "ticks": "outside",
            "zeroline": false,
            "zerolinecolor": "rgb(36,36,36)"
           }
          },
          "shapedefaults": {
           "fillcolor": "black",
           "line": {
            "width": 0
           },
           "opacity": 0.3
          },
          "ternary": {
           "aaxis": {
            "gridcolor": "rgb(232,232,232)",
            "linecolor": "rgb(36,36,36)",
            "showgrid": false,
            "showline": true,
            "ticks": "outside"
           },
           "baxis": {
            "gridcolor": "rgb(232,232,232)",
            "linecolor": "rgb(36,36,36)",
            "showgrid": false,
            "showline": true,
            "ticks": "outside"
           },
           "bgcolor": "white",
           "caxis": {
            "gridcolor": "rgb(232,232,232)",
            "linecolor": "rgb(36,36,36)",
            "showgrid": false,
            "showline": true,
            "ticks": "outside"
           }
          },
          "title": {
           "x": 0.05
          },
          "xaxis": {
           "automargin": true,
           "gridcolor": "rgb(232,232,232)",
           "linecolor": "rgb(36,36,36)",
           "showgrid": false,
           "showline": true,
           "ticks": "outside",
           "title": {
            "standoff": 15
           },
           "zeroline": false,
           "zerolinecolor": "rgb(36,36,36)"
          },
          "yaxis": {
           "automargin": true,
           "gridcolor": "rgb(232,232,232)",
           "linecolor": "rgb(36,36,36)",
           "showgrid": false,
           "showline": true,
           "ticks": "outside",
           "title": {
            "standoff": 15
           },
           "zeroline": false,
           "zerolinecolor": "rgb(36,36,36)"
          }
         }
        },
        "title": {
         "text": "Actual vs. 'Out-of-Sample' Forecast | value "
        },
        "width": 1000,
        "xaxis": {
         "title": {
          "text": "Time"
         }
        },
        "yaxis": {
         "title": {
          "text": "Values"
         }
        }
       }
      }
     },
     "metadata": {},
     "output_type": "display_data"
    }
   ],
   "source": [
    "arima = exp.create_model('arima')\n",
    "exp.plot_model(plot = 'decomp',\n",
    "               data_kwargs = {'type' : 'multiplicative'},\n",
    "               fig_kwargs = {\"height\":500,\"width\":1000,\"template\": \"simple_white\",\"hoverinfo\":\"none\",\"big_data_threshold\":10})\n",
    "exp.plot_model(estimator = arima, plot = 'forecast', \n",
    "               data_kwargs = {'fh' : 8},\n",
    "               fig_kwargs = {\"height\":500,\"width\":1000,\"template\": \"simple_white\",\"hoverinfo\":\"none\",\"big_data_threshold\":10})"
   ]
  },
  {
   "cell_type": "markdown",
   "metadata": {},
   "source": [
    "\n",
    "## Theta Forecaster\n",
    "The series is tested for seasonality using the test outlined in A&N. \n",
    "If deemed seasonal, the series is seasonally adjusted using a classical multiplicative decomposition before applying the theta method. The resulting forecasts are then reseasonalised."
   ]
  },
  {
   "cell_type": "code",
   "execution_count": null,
   "metadata": {},
   "outputs": [
    {
     "data": {
      "text/html": [],
      "text/plain": [
       "<IPython.core.display.HTML object>"
      ]
     },
     "metadata": {},
     "output_type": "display_data"
    },
    {
     "data": {
      "text/html": [
       "<style type=\"text/css\">\n",
       "#T_6a240_row3_col0, #T_6a240_row3_col1, #T_6a240_row3_col2, #T_6a240_row3_col3, #T_6a240_row3_col4, #T_6a240_row3_col5, #T_6a240_row3_col6 {\n",
       "  background: yellow;\n",
       "}\n",
       "</style>\n",
       "<table id=\"T_6a240\">\n",
       "  <thead>\n",
       "    <tr>\n",
       "      <th class=\"blank level0\" >&nbsp;</th>\n",
       "      <th id=\"T_6a240_level0_col0\" class=\"col_heading level0 col0\" >cutoff</th>\n",
       "      <th id=\"T_6a240_level0_col1\" class=\"col_heading level0 col1\" >MASE</th>\n",
       "      <th id=\"T_6a240_level0_col2\" class=\"col_heading level0 col2\" >RMSSE</th>\n",
       "      <th id=\"T_6a240_level0_col3\" class=\"col_heading level0 col3\" >MAE</th>\n",
       "      <th id=\"T_6a240_level0_col4\" class=\"col_heading level0 col4\" >RMSE</th>\n",
       "      <th id=\"T_6a240_level0_col5\" class=\"col_heading level0 col5\" >MAPE</th>\n",
       "      <th id=\"T_6a240_level0_col6\" class=\"col_heading level0 col6\" >SMAPE</th>\n",
       "    </tr>\n",
       "  </thead>\n",
       "  <tbody>\n",
       "    <tr>\n",
       "      <th id=\"T_6a240_level0_row0\" class=\"row_heading level0 row0\" >0</th>\n",
       "      <td id=\"T_6a240_row0_col0\" class=\"data row0 col0\" >2019</td>\n",
       "      <td id=\"T_6a240_row0_col1\" class=\"data row0 col1\" >0.0870</td>\n",
       "      <td id=\"T_6a240_row0_col2\" class=\"data row0 col2\" >0.0857</td>\n",
       "      <td id=\"T_6a240_row0_col3\" class=\"data row0 col3\" >0.2000</td>\n",
       "      <td id=\"T_6a240_row0_col4\" class=\"data row0 col4\" >0.2000</td>\n",
       "      <td id=\"T_6a240_row0_col5\" class=\"data row0 col5\" >0.0010</td>\n",
       "      <td id=\"T_6a240_row0_col6\" class=\"data row0 col6\" >0.0010</td>\n",
       "    </tr>\n",
       "    <tr>\n",
       "      <th id=\"T_6a240_level0_row1\" class=\"row_heading level0 row1\" >1</th>\n",
       "      <td id=\"T_6a240_row1_col0\" class=\"data row1 col0\" >2020</td>\n",
       "      <td id=\"T_6a240_row1_col1\" class=\"data row1 col1\" >0.4986</td>\n",
       "      <td id=\"T_6a240_row1_col2\" class=\"data row1 col2\" >0.4935</td>\n",
       "      <td id=\"T_6a240_row1_col3\" class=\"data row1 col3\" >1.1800</td>\n",
       "      <td id=\"T_6a240_row1_col4\" class=\"data row1 col4\" >1.1800</td>\n",
       "      <td id=\"T_6a240_row1_col5\" class=\"data row1 col5\" >0.0059</td>\n",
       "      <td id=\"T_6a240_row1_col6\" class=\"data row1 col6\" >0.0059</td>\n",
       "    </tr>\n",
       "    <tr>\n",
       "      <th id=\"T_6a240_level0_row2\" class=\"row_heading level0 row2\" >2</th>\n",
       "      <td id=\"T_6a240_row2_col0\" class=\"data row2 col0\" >2021</td>\n",
       "      <td id=\"T_6a240_row2_col1\" class=\"data row2 col1\" >0.5057</td>\n",
       "      <td id=\"T_6a240_row2_col2\" class=\"data row2 col2\" >0.4943</td>\n",
       "      <td id=\"T_6a240_row2_col3\" class=\"data row2 col3\" >1.3400</td>\n",
       "      <td id=\"T_6a240_row2_col4\" class=\"data row2 col4\" >1.3400</td>\n",
       "      <td id=\"T_6a240_row2_col5\" class=\"data row2 col5\" >0.0065</td>\n",
       "      <td id=\"T_6a240_row2_col6\" class=\"data row2 col6\" >0.0066</td>\n",
       "    </tr>\n",
       "    <tr>\n",
       "      <th id=\"T_6a240_level0_row3\" class=\"row_heading level0 row3\" >Mean</th>\n",
       "      <td id=\"T_6a240_row3_col0\" class=\"data row3 col0\" >NaT</td>\n",
       "      <td id=\"T_6a240_row3_col1\" class=\"data row3 col1\" >0.3637</td>\n",
       "      <td id=\"T_6a240_row3_col2\" class=\"data row3 col2\" >0.3578</td>\n",
       "      <td id=\"T_6a240_row3_col3\" class=\"data row3 col3\" >0.9067</td>\n",
       "      <td id=\"T_6a240_row3_col4\" class=\"data row3 col4\" >0.9067</td>\n",
       "      <td id=\"T_6a240_row3_col5\" class=\"data row3 col5\" >0.0045</td>\n",
       "      <td id=\"T_6a240_row3_col6\" class=\"data row3 col6\" >0.0045</td>\n",
       "    </tr>\n",
       "    <tr>\n",
       "      <th id=\"T_6a240_level0_row4\" class=\"row_heading level0 row4\" >SD</th>\n",
       "      <td id=\"T_6a240_row4_col0\" class=\"data row4 col0\" >NaT</td>\n",
       "      <td id=\"T_6a240_row4_col1\" class=\"data row4 col1\" >0.1957</td>\n",
       "      <td id=\"T_6a240_row4_col2\" class=\"data row4 col2\" >0.1924</td>\n",
       "      <td id=\"T_6a240_row4_col3\" class=\"data row4 col3\" >0.5039</td>\n",
       "      <td id=\"T_6a240_row4_col4\" class=\"data row4 col4\" >0.5039</td>\n",
       "      <td id=\"T_6a240_row4_col5\" class=\"data row4 col5\" >0.0025</td>\n",
       "      <td id=\"T_6a240_row4_col6\" class=\"data row4 col6\" >0.0025</td>\n",
       "    </tr>\n",
       "  </tbody>\n",
       "</table>\n"
      ],
      "text/plain": [
       "<pandas.io.formats.style.Styler at 0x1fc452ea560>"
      ]
     },
     "metadata": {},
     "output_type": "display_data"
    },
    {
     "data": {
      "text/html": [],
      "text/plain": [
       "<IPython.core.display.HTML object>"
      ]
     },
     "metadata": {},
     "output_type": "display_data"
    },
    {
     "data": {
      "application/vnd.plotly.v1+json": {
       "config": {
        "plotlyServerURL": "https://plot.ly"
       },
       "data": [
        {
         "line": {
          "color": "rgb(31, 119, 180)",
          "width": 2
         },
         "marker": {
          "size": 2
         },
         "mode": "lines+markers",
         "name": "Actual",
         "type": "scattergl",
         "x": [
          "2017-01-01T00:00:00",
          "2018-01-01T00:00:00",
          "2019-01-01T00:00:00",
          "2020-01-01T00:00:00",
          "2021-01-01T00:00:00",
          "2022-01-01T00:00:00",
          "2023-01-01T00:00:00"
         ],
         "xaxis": "x",
         "y": [
          190.2,
          192.9,
          194.8,
          197.3,
          200.8,
          204.7,
          208.2
         ],
         "yaxis": "y"
        },
        {
         "line": {
          "color": "rgb(255, 127, 14)",
          "width": 2
         },
         "marker": {
          "size": 2
         },
         "mode": "lines+markers",
         "name": "Seasonal",
         "type": "scattergl",
         "x": [
          "2017-01-01T00:00:00",
          "2018-01-01T00:00:00",
          "2019-01-01T00:00:00",
          "2020-01-01T00:00:00",
          "2021-01-01T00:00:00",
          "2022-01-01T00:00:00",
          "2023-01-01T00:00:00"
         ],
         "xaxis": "x2",
         "y": [
          1,
          1,
          1,
          1,
          1,
          1,
          1
         ],
         "yaxis": "y2"
        },
        {
         "line": {
          "color": "rgb(44, 160, 44)",
          "width": 2
         },
         "marker": {
          "size": 2
         },
         "mode": "lines+markers",
         "name": "Trend",
         "type": "scattergl",
         "x": [
          "2017-01-01T00:00:00",
          "2018-01-01T00:00:00",
          "2019-01-01T00:00:00",
          "2020-01-01T00:00:00",
          "2021-01-01T00:00:00",
          "2022-01-01T00:00:00",
          "2023-01-01T00:00:00"
         ],
         "xaxis": "x3",
         "y": [
          190.2,
          192.9,
          194.8,
          197.3,
          200.8,
          204.7,
          208.2
         ],
         "yaxis": "y3"
        },
        {
         "line": {
          "color": "rgb(214, 39, 40)",
          "width": 2
         },
         "marker": {
          "size": 4
         },
         "mode": "markers",
         "name": "Residuals",
         "type": "scattergl",
         "x": [
          "2017-01-01T00:00:00",
          "2018-01-01T00:00:00",
          "2019-01-01T00:00:00",
          "2020-01-01T00:00:00",
          "2021-01-01T00:00:00",
          "2022-01-01T00:00:00",
          "2023-01-01T00:00:00"
         ],
         "xaxis": "x4",
         "y": [
          1,
          1,
          1,
          1,
          1,
          1,
          1
         ],
         "yaxis": "y4"
        }
       ],
       "layout": {
        "annotations": [
         {
          "font": {
           "size": 16
          },
          "showarrow": false,
          "text": "value  (transformed)",
          "x": 0.49,
          "xanchor": "center",
          "xref": "paper",
          "y": 1,
          "yanchor": "bottom",
          "yref": "paper"
         },
         {
          "font": {
           "size": 16
          },
          "showarrow": false,
          "text": "Actual",
          "textangle": 90,
          "x": 0.98,
          "xanchor": "left",
          "xref": "paper",
          "y": 0.903125,
          "yanchor": "middle",
          "yref": "paper"
         },
         {
          "font": {
           "size": 16
          },
          "showarrow": false,
          "text": "Seasonal",
          "textangle": 90,
          "x": 0.98,
          "xanchor": "left",
          "xref": "paper",
          "y": 0.6343749999999999,
          "yanchor": "middle",
          "yref": "paper"
         },
         {
          "font": {
           "size": 16
          },
          "showarrow": false,
          "text": "Trend",
          "textangle": 90,
          "x": 0.98,
          "xanchor": "left",
          "xref": "paper",
          "y": 0.365625,
          "yanchor": "middle",
          "yref": "paper"
         },
         {
          "font": {
           "size": 16
          },
          "showarrow": false,
          "text": "Residual",
          "textangle": 90,
          "x": 0.98,
          "xanchor": "left",
          "xref": "paper",
          "y": 0.096875,
          "yanchor": "middle",
          "yref": "paper"
         }
        ],
        "autosize": false,
        "height": 500,
        "showlegend": false,
        "template": {
         "data": {
          "bar": [
           {
            "error_x": {
             "color": "rgb(36,36,36)"
            },
            "error_y": {
             "color": "rgb(36,36,36)"
            },
            "marker": {
             "line": {
              "color": "white",
              "width": 0.5
             },
             "pattern": {
              "fillmode": "overlay",
              "size": 10,
              "solidity": 0.2
             }
            },
            "type": "bar"
           }
          ],
          "barpolar": [
           {
            "marker": {
             "line": {
              "color": "white",
              "width": 0.5
             },
             "pattern": {
              "fillmode": "overlay",
              "size": 10,
              "solidity": 0.2
             }
            },
            "type": "barpolar"
           }
          ],
          "carpet": [
           {
            "aaxis": {
             "endlinecolor": "rgb(36,36,36)",
             "gridcolor": "white",
             "linecolor": "white",
             "minorgridcolor": "white",
             "startlinecolor": "rgb(36,36,36)"
            },
            "baxis": {
             "endlinecolor": "rgb(36,36,36)",
             "gridcolor": "white",
             "linecolor": "white",
             "minorgridcolor": "white",
             "startlinecolor": "rgb(36,36,36)"
            },
            "type": "carpet"
           }
          ],
          "choropleth": [
           {
            "colorbar": {
             "outlinewidth": 1,
             "tickcolor": "rgb(36,36,36)",
             "ticks": "outside"
            },
            "type": "choropleth"
           }
          ],
          "contour": [
           {
            "colorbar": {
             "outlinewidth": 1,
             "tickcolor": "rgb(36,36,36)",
             "ticks": "outside"
            },
            "colorscale": [
             [
              0,
              "#440154"
             ],
             [
              0.1111111111111111,
              "#482878"
             ],
             [
              0.2222222222222222,
              "#3e4989"
             ],
             [
              0.3333333333333333,
              "#31688e"
             ],
             [
              0.4444444444444444,
              "#26828e"
             ],
             [
              0.5555555555555556,
              "#1f9e89"
             ],
             [
              0.6666666666666666,
              "#35b779"
             ],
             [
              0.7777777777777778,
              "#6ece58"
             ],
             [
              0.8888888888888888,
              "#b5de2b"
             ],
             [
              1,
              "#fde725"
             ]
            ],
            "type": "contour"
           }
          ],
          "contourcarpet": [
           {
            "colorbar": {
             "outlinewidth": 1,
             "tickcolor": "rgb(36,36,36)",
             "ticks": "outside"
            },
            "type": "contourcarpet"
           }
          ],
          "heatmap": [
           {
            "colorbar": {
             "outlinewidth": 1,
             "tickcolor": "rgb(36,36,36)",
             "ticks": "outside"
            },
            "colorscale": [
             [
              0,
              "#440154"
             ],
             [
              0.1111111111111111,
              "#482878"
             ],
             [
              0.2222222222222222,
              "#3e4989"
             ],
             [
              0.3333333333333333,
              "#31688e"
             ],
             [
              0.4444444444444444,
              "#26828e"
             ],
             [
              0.5555555555555556,
              "#1f9e89"
             ],
             [
              0.6666666666666666,
              "#35b779"
             ],
             [
              0.7777777777777778,
              "#6ece58"
             ],
             [
              0.8888888888888888,
              "#b5de2b"
             ],
             [
              1,
              "#fde725"
             ]
            ],
            "type": "heatmap"
           }
          ],
          "heatmapgl": [
           {
            "colorbar": {
             "outlinewidth": 1,
             "tickcolor": "rgb(36,36,36)",
             "ticks": "outside"
            },
            "colorscale": [
             [
              0,
              "#440154"
             ],
             [
              0.1111111111111111,
              "#482878"
             ],
             [
              0.2222222222222222,
              "#3e4989"
             ],
             [
              0.3333333333333333,
              "#31688e"
             ],
             [
              0.4444444444444444,
              "#26828e"
             ],
             [
              0.5555555555555556,
              "#1f9e89"
             ],
             [
              0.6666666666666666,
              "#35b779"
             ],
             [
              0.7777777777777778,
              "#6ece58"
             ],
             [
              0.8888888888888888,
              "#b5de2b"
             ],
             [
              1,
              "#fde725"
             ]
            ],
            "type": "heatmapgl"
           }
          ],
          "histogram": [
           {
            "marker": {
             "line": {
              "color": "white",
              "width": 0.6
             }
            },
            "type": "histogram"
           }
          ],
          "histogram2d": [
           {
            "colorbar": {
             "outlinewidth": 1,
             "tickcolor": "rgb(36,36,36)",
             "ticks": "outside"
            },
            "colorscale": [
             [
              0,
              "#440154"
             ],
             [
              0.1111111111111111,
              "#482878"
             ],
             [
              0.2222222222222222,
              "#3e4989"
             ],
             [
              0.3333333333333333,
              "#31688e"
             ],
             [
              0.4444444444444444,
              "#26828e"
             ],
             [
              0.5555555555555556,
              "#1f9e89"
             ],
             [
              0.6666666666666666,
              "#35b779"
             ],
             [
              0.7777777777777778,
              "#6ece58"
             ],
             [
              0.8888888888888888,
              "#b5de2b"
             ],
             [
              1,
              "#fde725"
             ]
            ],
            "type": "histogram2d"
           }
          ],
          "histogram2dcontour": [
           {
            "colorbar": {
             "outlinewidth": 1,
             "tickcolor": "rgb(36,36,36)",
             "ticks": "outside"
            },
            "colorscale": [
             [
              0,
              "#440154"
             ],
             [
              0.1111111111111111,
              "#482878"
             ],
             [
              0.2222222222222222,
              "#3e4989"
             ],
             [
              0.3333333333333333,
              "#31688e"
             ],
             [
              0.4444444444444444,
              "#26828e"
             ],
             [
              0.5555555555555556,
              "#1f9e89"
             ],
             [
              0.6666666666666666,
              "#35b779"
             ],
             [
              0.7777777777777778,
              "#6ece58"
             ],
             [
              0.8888888888888888,
              "#b5de2b"
             ],
             [
              1,
              "#fde725"
             ]
            ],
            "type": "histogram2dcontour"
           }
          ],
          "mesh3d": [
           {
            "colorbar": {
             "outlinewidth": 1,
             "tickcolor": "rgb(36,36,36)",
             "ticks": "outside"
            },
            "type": "mesh3d"
           }
          ],
          "parcoords": [
           {
            "line": {
             "colorbar": {
              "outlinewidth": 1,
              "tickcolor": "rgb(36,36,36)",
              "ticks": "outside"
             }
            },
            "type": "parcoords"
           }
          ],
          "pie": [
           {
            "automargin": true,
            "type": "pie"
           }
          ],
          "scatter": [
           {
            "fillpattern": {
             "fillmode": "overlay",
             "size": 10,
             "solidity": 0.2
            },
            "type": "scatter"
           }
          ],
          "scatter3d": [
           {
            "line": {
             "colorbar": {
              "outlinewidth": 1,
              "tickcolor": "rgb(36,36,36)",
              "ticks": "outside"
             }
            },
            "marker": {
             "colorbar": {
              "outlinewidth": 1,
              "tickcolor": "rgb(36,36,36)",
              "ticks": "outside"
             }
            },
            "type": "scatter3d"
           }
          ],
          "scattercarpet": [
           {
            "marker": {
             "colorbar": {
              "outlinewidth": 1,
              "tickcolor": "rgb(36,36,36)",
              "ticks": "outside"
             }
            },
            "type": "scattercarpet"
           }
          ],
          "scattergeo": [
           {
            "marker": {
             "colorbar": {
              "outlinewidth": 1,
              "tickcolor": "rgb(36,36,36)",
              "ticks": "outside"
             }
            },
            "type": "scattergeo"
           }
          ],
          "scattergl": [
           {
            "marker": {
             "colorbar": {
              "outlinewidth": 1,
              "tickcolor": "rgb(36,36,36)",
              "ticks": "outside"
             }
            },
            "type": "scattergl"
           }
          ],
          "scattermapbox": [
           {
            "marker": {
             "colorbar": {
              "outlinewidth": 1,
              "tickcolor": "rgb(36,36,36)",
              "ticks": "outside"
             }
            },
            "type": "scattermapbox"
           }
          ],
          "scatterpolar": [
           {
            "marker": {
             "colorbar": {
              "outlinewidth": 1,
              "tickcolor": "rgb(36,36,36)",
              "ticks": "outside"
             }
            },
            "type": "scatterpolar"
           }
          ],
          "scatterpolargl": [
           {
            "marker": {
             "colorbar": {
              "outlinewidth": 1,
              "tickcolor": "rgb(36,36,36)",
              "ticks": "outside"
             }
            },
            "type": "scatterpolargl"
           }
          ],
          "scatterternary": [
           {
            "marker": {
             "colorbar": {
              "outlinewidth": 1,
              "tickcolor": "rgb(36,36,36)",
              "ticks": "outside"
             }
            },
            "type": "scatterternary"
           }
          ],
          "surface": [
           {
            "colorbar": {
             "outlinewidth": 1,
             "tickcolor": "rgb(36,36,36)",
             "ticks": "outside"
            },
            "colorscale": [
             [
              0,
              "#440154"
             ],
             [
              0.1111111111111111,
              "#482878"
             ],
             [
              0.2222222222222222,
              "#3e4989"
             ],
             [
              0.3333333333333333,
              "#31688e"
             ],
             [
              0.4444444444444444,
              "#26828e"
             ],
             [
              0.5555555555555556,
              "#1f9e89"
             ],
             [
              0.6666666666666666,
              "#35b779"
             ],
             [
              0.7777777777777778,
              "#6ece58"
             ],
             [
              0.8888888888888888,
              "#b5de2b"
             ],
             [
              1,
              "#fde725"
             ]
            ],
            "type": "surface"
           }
          ],
          "table": [
           {
            "cells": {
             "fill": {
              "color": "rgb(237,237,237)"
             },
             "line": {
              "color": "white"
             }
            },
            "header": {
             "fill": {
              "color": "rgb(217,217,217)"
             },
             "line": {
              "color": "white"
             }
            },
            "type": "table"
           }
          ]
         },
         "layout": {
          "annotationdefaults": {
           "arrowhead": 0,
           "arrowwidth": 1
          },
          "autotypenumbers": "strict",
          "coloraxis": {
           "colorbar": {
            "outlinewidth": 1,
            "tickcolor": "rgb(36,36,36)",
            "ticks": "outside"
           }
          },
          "colorscale": {
           "diverging": [
            [
             0,
             "rgb(103,0,31)"
            ],
            [
             0.1,
             "rgb(178,24,43)"
            ],
            [
             0.2,
             "rgb(214,96,77)"
            ],
            [
             0.3,
             "rgb(244,165,130)"
            ],
            [
             0.4,
             "rgb(253,219,199)"
            ],
            [
             0.5,
             "rgb(247,247,247)"
            ],
            [
             0.6,
             "rgb(209,229,240)"
            ],
            [
             0.7,
             "rgb(146,197,222)"
            ],
            [
             0.8,
             "rgb(67,147,195)"
            ],
            [
             0.9,
             "rgb(33,102,172)"
            ],
            [
             1,
             "rgb(5,48,97)"
            ]
           ],
           "sequential": [
            [
             0,
             "#440154"
            ],
            [
             0.1111111111111111,
             "#482878"
            ],
            [
             0.2222222222222222,
             "#3e4989"
            ],
            [
             0.3333333333333333,
             "#31688e"
            ],
            [
             0.4444444444444444,
             "#26828e"
            ],
            [
             0.5555555555555556,
             "#1f9e89"
            ],
            [
             0.6666666666666666,
             "#35b779"
            ],
            [
             0.7777777777777778,
             "#6ece58"
            ],
            [
             0.8888888888888888,
             "#b5de2b"
            ],
            [
             1,
             "#fde725"
            ]
           ],
           "sequentialminus": [
            [
             0,
             "#440154"
            ],
            [
             0.1111111111111111,
             "#482878"
            ],
            [
             0.2222222222222222,
             "#3e4989"
            ],
            [
             0.3333333333333333,
             "#31688e"
            ],
            [
             0.4444444444444444,
             "#26828e"
            ],
            [
             0.5555555555555556,
             "#1f9e89"
            ],
            [
             0.6666666666666666,
             "#35b779"
            ],
            [
             0.7777777777777778,
             "#6ece58"
            ],
            [
             0.8888888888888888,
             "#b5de2b"
            ],
            [
             1,
             "#fde725"
            ]
           ]
          },
          "colorway": [
           "#1F77B4",
           "#FF7F0E",
           "#2CA02C",
           "#D62728",
           "#9467BD",
           "#8C564B",
           "#E377C2",
           "#7F7F7F",
           "#BCBD22",
           "#17BECF"
          ],
          "font": {
           "color": "rgb(36,36,36)"
          },
          "geo": {
           "bgcolor": "white",
           "lakecolor": "white",
           "landcolor": "white",
           "showlakes": true,
           "showland": true,
           "subunitcolor": "white"
          },
          "hoverlabel": {
           "align": "left"
          },
          "hovermode": "closest",
          "mapbox": {
           "style": "light"
          },
          "paper_bgcolor": "white",
          "plot_bgcolor": "white",
          "polar": {
           "angularaxis": {
            "gridcolor": "rgb(232,232,232)",
            "linecolor": "rgb(36,36,36)",
            "showgrid": false,
            "showline": true,
            "ticks": "outside"
           },
           "bgcolor": "white",
           "radialaxis": {
            "gridcolor": "rgb(232,232,232)",
            "linecolor": "rgb(36,36,36)",
            "showgrid": false,
            "showline": true,
            "ticks": "outside"
           }
          },
          "scene": {
           "xaxis": {
            "backgroundcolor": "white",
            "gridcolor": "rgb(232,232,232)",
            "gridwidth": 2,
            "linecolor": "rgb(36,36,36)",
            "showbackground": true,
            "showgrid": false,
            "showline": true,
            "ticks": "outside",
            "zeroline": false,
            "zerolinecolor": "rgb(36,36,36)"
           },
           "yaxis": {
            "backgroundcolor": "white",
            "gridcolor": "rgb(232,232,232)",
            "gridwidth": 2,
            "linecolor": "rgb(36,36,36)",
            "showbackground": true,
            "showgrid": false,
            "showline": true,
            "ticks": "outside",
            "zeroline": false,
            "zerolinecolor": "rgb(36,36,36)"
           },
           "zaxis": {
            "backgroundcolor": "white",
            "gridcolor": "rgb(232,232,232)",
            "gridwidth": 2,
            "linecolor": "rgb(36,36,36)",
            "showbackground": true,
            "showgrid": false,
            "showline": true,
            "ticks": "outside",
            "zeroline": false,
            "zerolinecolor": "rgb(36,36,36)"
           }
          },
          "shapedefaults": {
           "fillcolor": "black",
           "line": {
            "width": 0
           },
           "opacity": 0.3
          },
          "ternary": {
           "aaxis": {
            "gridcolor": "rgb(232,232,232)",
            "linecolor": "rgb(36,36,36)",
            "showgrid": false,
            "showline": true,
            "ticks": "outside"
           },
           "baxis": {
            "gridcolor": "rgb(232,232,232)",
            "linecolor": "rgb(36,36,36)",
            "showgrid": false,
            "showline": true,
            "ticks": "outside"
           },
           "bgcolor": "white",
           "caxis": {
            "gridcolor": "rgb(232,232,232)",
            "linecolor": "rgb(36,36,36)",
            "showgrid": false,
            "showline": true,
            "ticks": "outside"
           }
          },
          "title": {
           "x": 0.05
          },
          "xaxis": {
           "automargin": true,
           "gridcolor": "rgb(232,232,232)",
           "linecolor": "rgb(36,36,36)",
           "showgrid": false,
           "showline": true,
           "ticks": "outside",
           "title": {
            "standoff": 15
           },
           "zeroline": false,
           "zerolinecolor": "rgb(36,36,36)"
          },
          "yaxis": {
           "automargin": true,
           "gridcolor": "rgb(232,232,232)",
           "linecolor": "rgb(36,36,36)",
           "showgrid": false,
           "showline": true,
           "ticks": "outside",
           "title": {
            "standoff": 15
           },
           "zeroline": false,
           "zerolinecolor": "rgb(36,36,36)"
          }
         }
        },
        "title": {
         "text": "Classical Decomposition (multiplicative) | value <br>Seasonal Period = 1"
        },
        "width": 1000,
        "xaxis": {
         "anchor": "y",
         "domain": [
          0,
          0.98
         ],
         "matches": "x4",
         "showticklabels": false
        },
        "xaxis2": {
         "anchor": "y2",
         "domain": [
          0,
          0.98
         ],
         "matches": "x4",
         "showticklabels": false
        },
        "xaxis3": {
         "anchor": "y3",
         "domain": [
          0,
          0.98
         ],
         "matches": "x4",
         "showticklabels": false
        },
        "xaxis4": {
         "anchor": "y4",
         "domain": [
          0,
          0.98
         ]
        },
        "yaxis": {
         "anchor": "x",
         "domain": [
          0.80625,
          1
         ]
        },
        "yaxis2": {
         "anchor": "x2",
         "domain": [
          0.5375,
          0.73125
         ]
        },
        "yaxis3": {
         "anchor": "x3",
         "domain": [
          0.26875,
          0.4625
         ]
        },
        "yaxis4": {
         "anchor": "x4",
         "domain": [
          0,
          0.19375
         ]
        }
       }
      }
     },
     "metadata": {},
     "output_type": "display_data"
    },
    {
     "data": {
      "application/vnd.plotly.v1+json": {
       "config": {
        "plotlyServerURL": "https://plot.ly"
       },
       "data": [
        {
         "line": {
          "color": "#1f77b4"
         },
         "marker": {
          "size": 5
         },
         "mode": "lines+markers",
         "name": "Forecast | Theta Forecaster",
         "showlegend": true,
         "type": "scatter",
         "x": [
          "2023-01-01T00:00:00",
          "2024-01-01T00:00:00",
          "2025-01-01T00:00:00",
          "2026-01-01T00:00:00",
          "2027-01-01T00:00:00",
          "2028-01-01T00:00:00",
          "2029-01-01T00:00:00"
         ],
         "y": [
          207.52,
          208.93,
          210.34,
          211.75,
          213.16,
          214.57,
          215.98
         ]
        },
        {
         "line": {
          "width": 0
         },
         "marker": {
          "color": "#68BBE3"
         },
         "mode": "lines",
         "name": "Lower Interval",
         "showlegend": false,
         "type": "scatter",
         "x": [
          "2023-01-01T00:00:00",
          "2024-01-01T00:00:00",
          "2025-01-01T00:00:00",
          "2026-01-01T00:00:00",
          "2027-01-01T00:00:00",
          "2028-01-01T00:00:00",
          "2029-01-01T00:00:00"
         ],
         "y": [
          200.5718,
          200.4202,
          200.5137,
          200.7639,
          201.1253,
          201.5711,
          202.0836
         ]
        },
        {
         "fill": "tonexty",
         "fillcolor": "rgba(104,187,227,0.5)",
         "line": {
          "width": 0
         },
         "marker": {
          "color": "#68BBE3"
         },
         "mode": "lines",
         "name": "Prediction Interval | Theta Forecaster",
         "showlegend": true,
         "type": "scatter",
         "x": [
          "2023-01-01T00:00:00",
          "2024-01-01T00:00:00",
          "2025-01-01T00:00:00",
          "2026-01-01T00:00:00",
          "2027-01-01T00:00:00",
          "2028-01-01T00:00:00",
          "2029-01-01T00:00:00"
         ],
         "y": [
          214.4682,
          217.4398,
          220.1663,
          222.7361,
          225.1947,
          227.5689,
          229.8764
         ]
        },
        {
         "marker": {
          "color": "#3f3f3f",
          "size": 5
         },
         "mode": "lines+markers",
         "name": "Original",
         "showlegend": true,
         "type": "scatter",
         "x": [
          "2017-01-01T00:00:00",
          "2018-01-01T00:00:00",
          "2019-01-01T00:00:00",
          "2020-01-01T00:00:00",
          "2021-01-01T00:00:00",
          "2022-01-01T00:00:00",
          "2023-01-01T00:00:00"
         ],
         "y": [
          190.2,
          192.9,
          194.8,
          197.3,
          200.8,
          204.7,
          208.2
         ]
        }
       ],
       "layout": {
        "autosize": false,
        "height": 500,
        "showlegend": true,
        "template": {
         "data": {
          "bar": [
           {
            "error_x": {
             "color": "rgb(36,36,36)"
            },
            "error_y": {
             "color": "rgb(36,36,36)"
            },
            "marker": {
             "line": {
              "color": "white",
              "width": 0.5
             },
             "pattern": {
              "fillmode": "overlay",
              "size": 10,
              "solidity": 0.2
             }
            },
            "type": "bar"
           }
          ],
          "barpolar": [
           {
            "marker": {
             "line": {
              "color": "white",
              "width": 0.5
             },
             "pattern": {
              "fillmode": "overlay",
              "size": 10,
              "solidity": 0.2
             }
            },
            "type": "barpolar"
           }
          ],
          "carpet": [
           {
            "aaxis": {
             "endlinecolor": "rgb(36,36,36)",
             "gridcolor": "white",
             "linecolor": "white",
             "minorgridcolor": "white",
             "startlinecolor": "rgb(36,36,36)"
            },
            "baxis": {
             "endlinecolor": "rgb(36,36,36)",
             "gridcolor": "white",
             "linecolor": "white",
             "minorgridcolor": "white",
             "startlinecolor": "rgb(36,36,36)"
            },
            "type": "carpet"
           }
          ],
          "choropleth": [
           {
            "colorbar": {
             "outlinewidth": 1,
             "tickcolor": "rgb(36,36,36)",
             "ticks": "outside"
            },
            "type": "choropleth"
           }
          ],
          "contour": [
           {
            "colorbar": {
             "outlinewidth": 1,
             "tickcolor": "rgb(36,36,36)",
             "ticks": "outside"
            },
            "colorscale": [
             [
              0,
              "#440154"
             ],
             [
              0.1111111111111111,
              "#482878"
             ],
             [
              0.2222222222222222,
              "#3e4989"
             ],
             [
              0.3333333333333333,
              "#31688e"
             ],
             [
              0.4444444444444444,
              "#26828e"
             ],
             [
              0.5555555555555556,
              "#1f9e89"
             ],
             [
              0.6666666666666666,
              "#35b779"
             ],
             [
              0.7777777777777778,
              "#6ece58"
             ],
             [
              0.8888888888888888,
              "#b5de2b"
             ],
             [
              1,
              "#fde725"
             ]
            ],
            "type": "contour"
           }
          ],
          "contourcarpet": [
           {
            "colorbar": {
             "outlinewidth": 1,
             "tickcolor": "rgb(36,36,36)",
             "ticks": "outside"
            },
            "type": "contourcarpet"
           }
          ],
          "heatmap": [
           {
            "colorbar": {
             "outlinewidth": 1,
             "tickcolor": "rgb(36,36,36)",
             "ticks": "outside"
            },
            "colorscale": [
             [
              0,
              "#440154"
             ],
             [
              0.1111111111111111,
              "#482878"
             ],
             [
              0.2222222222222222,
              "#3e4989"
             ],
             [
              0.3333333333333333,
              "#31688e"
             ],
             [
              0.4444444444444444,
              "#26828e"
             ],
             [
              0.5555555555555556,
              "#1f9e89"
             ],
             [
              0.6666666666666666,
              "#35b779"
             ],
             [
              0.7777777777777778,
              "#6ece58"
             ],
             [
              0.8888888888888888,
              "#b5de2b"
             ],
             [
              1,
              "#fde725"
             ]
            ],
            "type": "heatmap"
           }
          ],
          "heatmapgl": [
           {
            "colorbar": {
             "outlinewidth": 1,
             "tickcolor": "rgb(36,36,36)",
             "ticks": "outside"
            },
            "colorscale": [
             [
              0,
              "#440154"
             ],
             [
              0.1111111111111111,
              "#482878"
             ],
             [
              0.2222222222222222,
              "#3e4989"
             ],
             [
              0.3333333333333333,
              "#31688e"
             ],
             [
              0.4444444444444444,
              "#26828e"
             ],
             [
              0.5555555555555556,
              "#1f9e89"
             ],
             [
              0.6666666666666666,
              "#35b779"
             ],
             [
              0.7777777777777778,
              "#6ece58"
             ],
             [
              0.8888888888888888,
              "#b5de2b"
             ],
             [
              1,
              "#fde725"
             ]
            ],
            "type": "heatmapgl"
           }
          ],
          "histogram": [
           {
            "marker": {
             "line": {
              "color": "white",
              "width": 0.6
             }
            },
            "type": "histogram"
           }
          ],
          "histogram2d": [
           {
            "colorbar": {
             "outlinewidth": 1,
             "tickcolor": "rgb(36,36,36)",
             "ticks": "outside"
            },
            "colorscale": [
             [
              0,
              "#440154"
             ],
             [
              0.1111111111111111,
              "#482878"
             ],
             [
              0.2222222222222222,
              "#3e4989"
             ],
             [
              0.3333333333333333,
              "#31688e"
             ],
             [
              0.4444444444444444,
              "#26828e"
             ],
             [
              0.5555555555555556,
              "#1f9e89"
             ],
             [
              0.6666666666666666,
              "#35b779"
             ],
             [
              0.7777777777777778,
              "#6ece58"
             ],
             [
              0.8888888888888888,
              "#b5de2b"
             ],
             [
              1,
              "#fde725"
             ]
            ],
            "type": "histogram2d"
           }
          ],
          "histogram2dcontour": [
           {
            "colorbar": {
             "outlinewidth": 1,
             "tickcolor": "rgb(36,36,36)",
             "ticks": "outside"
            },
            "colorscale": [
             [
              0,
              "#440154"
             ],
             [
              0.1111111111111111,
              "#482878"
             ],
             [
              0.2222222222222222,
              "#3e4989"
             ],
             [
              0.3333333333333333,
              "#31688e"
             ],
             [
              0.4444444444444444,
              "#26828e"
             ],
             [
              0.5555555555555556,
              "#1f9e89"
             ],
             [
              0.6666666666666666,
              "#35b779"
             ],
             [
              0.7777777777777778,
              "#6ece58"
             ],
             [
              0.8888888888888888,
              "#b5de2b"
             ],
             [
              1,
              "#fde725"
             ]
            ],
            "type": "histogram2dcontour"
           }
          ],
          "mesh3d": [
           {
            "colorbar": {
             "outlinewidth": 1,
             "tickcolor": "rgb(36,36,36)",
             "ticks": "outside"
            },
            "type": "mesh3d"
           }
          ],
          "parcoords": [
           {
            "line": {
             "colorbar": {
              "outlinewidth": 1,
              "tickcolor": "rgb(36,36,36)",
              "ticks": "outside"
             }
            },
            "type": "parcoords"
           }
          ],
          "pie": [
           {
            "automargin": true,
            "type": "pie"
           }
          ],
          "scatter": [
           {
            "fillpattern": {
             "fillmode": "overlay",
             "size": 10,
             "solidity": 0.2
            },
            "type": "scatter"
           }
          ],
          "scatter3d": [
           {
            "line": {
             "colorbar": {
              "outlinewidth": 1,
              "tickcolor": "rgb(36,36,36)",
              "ticks": "outside"
             }
            },
            "marker": {
             "colorbar": {
              "outlinewidth": 1,
              "tickcolor": "rgb(36,36,36)",
              "ticks": "outside"
             }
            },
            "type": "scatter3d"
           }
          ],
          "scattercarpet": [
           {
            "marker": {
             "colorbar": {
              "outlinewidth": 1,
              "tickcolor": "rgb(36,36,36)",
              "ticks": "outside"
             }
            },
            "type": "scattercarpet"
           }
          ],
          "scattergeo": [
           {
            "marker": {
             "colorbar": {
              "outlinewidth": 1,
              "tickcolor": "rgb(36,36,36)",
              "ticks": "outside"
             }
            },
            "type": "scattergeo"
           }
          ],
          "scattergl": [
           {
            "marker": {
             "colorbar": {
              "outlinewidth": 1,
              "tickcolor": "rgb(36,36,36)",
              "ticks": "outside"
             }
            },
            "type": "scattergl"
           }
          ],
          "scattermapbox": [
           {
            "marker": {
             "colorbar": {
              "outlinewidth": 1,
              "tickcolor": "rgb(36,36,36)",
              "ticks": "outside"
             }
            },
            "type": "scattermapbox"
           }
          ],
          "scatterpolar": [
           {
            "marker": {
             "colorbar": {
              "outlinewidth": 1,
              "tickcolor": "rgb(36,36,36)",
              "ticks": "outside"
             }
            },
            "type": "scatterpolar"
           }
          ],
          "scatterpolargl": [
           {
            "marker": {
             "colorbar": {
              "outlinewidth": 1,
              "tickcolor": "rgb(36,36,36)",
              "ticks": "outside"
             }
            },
            "type": "scatterpolargl"
           }
          ],
          "scatterternary": [
           {
            "marker": {
             "colorbar": {
              "outlinewidth": 1,
              "tickcolor": "rgb(36,36,36)",
              "ticks": "outside"
             }
            },
            "type": "scatterternary"
           }
          ],
          "surface": [
           {
            "colorbar": {
             "outlinewidth": 1,
             "tickcolor": "rgb(36,36,36)",
             "ticks": "outside"
            },
            "colorscale": [
             [
              0,
              "#440154"
             ],
             [
              0.1111111111111111,
              "#482878"
             ],
             [
              0.2222222222222222,
              "#3e4989"
             ],
             [
              0.3333333333333333,
              "#31688e"
             ],
             [
              0.4444444444444444,
              "#26828e"
             ],
             [
              0.5555555555555556,
              "#1f9e89"
             ],
             [
              0.6666666666666666,
              "#35b779"
             ],
             [
              0.7777777777777778,
              "#6ece58"
             ],
             [
              0.8888888888888888,
              "#b5de2b"
             ],
             [
              1,
              "#fde725"
             ]
            ],
            "type": "surface"
           }
          ],
          "table": [
           {
            "cells": {
             "fill": {
              "color": "rgb(237,237,237)"
             },
             "line": {
              "color": "white"
             }
            },
            "header": {
             "fill": {
              "color": "rgb(217,217,217)"
             },
             "line": {
              "color": "white"
             }
            },
            "type": "table"
           }
          ]
         },
         "layout": {
          "annotationdefaults": {
           "arrowhead": 0,
           "arrowwidth": 1
          },
          "autotypenumbers": "strict",
          "coloraxis": {
           "colorbar": {
            "outlinewidth": 1,
            "tickcolor": "rgb(36,36,36)",
            "ticks": "outside"
           }
          },
          "colorscale": {
           "diverging": [
            [
             0,
             "rgb(103,0,31)"
            ],
            [
             0.1,
             "rgb(178,24,43)"
            ],
            [
             0.2,
             "rgb(214,96,77)"
            ],
            [
             0.3,
             "rgb(244,165,130)"
            ],
            [
             0.4,
             "rgb(253,219,199)"
            ],
            [
             0.5,
             "rgb(247,247,247)"
            ],
            [
             0.6,
             "rgb(209,229,240)"
            ],
            [
             0.7,
             "rgb(146,197,222)"
            ],
            [
             0.8,
             "rgb(67,147,195)"
            ],
            [
             0.9,
             "rgb(33,102,172)"
            ],
            [
             1,
             "rgb(5,48,97)"
            ]
           ],
           "sequential": [
            [
             0,
             "#440154"
            ],
            [
             0.1111111111111111,
             "#482878"
            ],
            [
             0.2222222222222222,
             "#3e4989"
            ],
            [
             0.3333333333333333,
             "#31688e"
            ],
            [
             0.4444444444444444,
             "#26828e"
            ],
            [
             0.5555555555555556,
             "#1f9e89"
            ],
            [
             0.6666666666666666,
             "#35b779"
            ],
            [
             0.7777777777777778,
             "#6ece58"
            ],
            [
             0.8888888888888888,
             "#b5de2b"
            ],
            [
             1,
             "#fde725"
            ]
           ],
           "sequentialminus": [
            [
             0,
             "#440154"
            ],
            [
             0.1111111111111111,
             "#482878"
            ],
            [
             0.2222222222222222,
             "#3e4989"
            ],
            [
             0.3333333333333333,
             "#31688e"
            ],
            [
             0.4444444444444444,
             "#26828e"
            ],
            [
             0.5555555555555556,
             "#1f9e89"
            ],
            [
             0.6666666666666666,
             "#35b779"
            ],
            [
             0.7777777777777778,
             "#6ece58"
            ],
            [
             0.8888888888888888,
             "#b5de2b"
            ],
            [
             1,
             "#fde725"
            ]
           ]
          },
          "colorway": [
           "#1F77B4",
           "#FF7F0E",
           "#2CA02C",
           "#D62728",
           "#9467BD",
           "#8C564B",
           "#E377C2",
           "#7F7F7F",
           "#BCBD22",
           "#17BECF"
          ],
          "font": {
           "color": "rgb(36,36,36)"
          },
          "geo": {
           "bgcolor": "white",
           "lakecolor": "white",
           "landcolor": "white",
           "showlakes": true,
           "showland": true,
           "subunitcolor": "white"
          },
          "hoverlabel": {
           "align": "left"
          },
          "hovermode": "closest",
          "mapbox": {
           "style": "light"
          },
          "paper_bgcolor": "white",
          "plot_bgcolor": "white",
          "polar": {
           "angularaxis": {
            "gridcolor": "rgb(232,232,232)",
            "linecolor": "rgb(36,36,36)",
            "showgrid": false,
            "showline": true,
            "ticks": "outside"
           },
           "bgcolor": "white",
           "radialaxis": {
            "gridcolor": "rgb(232,232,232)",
            "linecolor": "rgb(36,36,36)",
            "showgrid": false,
            "showline": true,
            "ticks": "outside"
           }
          },
          "scene": {
           "xaxis": {
            "backgroundcolor": "white",
            "gridcolor": "rgb(232,232,232)",
            "gridwidth": 2,
            "linecolor": "rgb(36,36,36)",
            "showbackground": true,
            "showgrid": false,
            "showline": true,
            "ticks": "outside",
            "zeroline": false,
            "zerolinecolor": "rgb(36,36,36)"
           },
           "yaxis": {
            "backgroundcolor": "white",
            "gridcolor": "rgb(232,232,232)",
            "gridwidth": 2,
            "linecolor": "rgb(36,36,36)",
            "showbackground": true,
            "showgrid": false,
            "showline": true,
            "ticks": "outside",
            "zeroline": false,
            "zerolinecolor": "rgb(36,36,36)"
           },
           "zaxis": {
            "backgroundcolor": "white",
            "gridcolor": "rgb(232,232,232)",
            "gridwidth": 2,
            "linecolor": "rgb(36,36,36)",
            "showbackground": true,
            "showgrid": false,
            "showline": true,
            "ticks": "outside",
            "zeroline": false,
            "zerolinecolor": "rgb(36,36,36)"
           }
          },
          "shapedefaults": {
           "fillcolor": "black",
           "line": {
            "width": 0
           },
           "opacity": 0.3
          },
          "ternary": {
           "aaxis": {
            "gridcolor": "rgb(232,232,232)",
            "linecolor": "rgb(36,36,36)",
            "showgrid": false,
            "showline": true,
            "ticks": "outside"
           },
           "baxis": {
            "gridcolor": "rgb(232,232,232)",
            "linecolor": "rgb(36,36,36)",
            "showgrid": false,
            "showline": true,
            "ticks": "outside"
           },
           "bgcolor": "white",
           "caxis": {
            "gridcolor": "rgb(232,232,232)",
            "linecolor": "rgb(36,36,36)",
            "showgrid": false,
            "showline": true,
            "ticks": "outside"
           }
          },
          "title": {
           "x": 0.05
          },
          "xaxis": {
           "automargin": true,
           "gridcolor": "rgb(232,232,232)",
           "linecolor": "rgb(36,36,36)",
           "showgrid": false,
           "showline": true,
           "ticks": "outside",
           "title": {
            "standoff": 15
           },
           "zeroline": false,
           "zerolinecolor": "rgb(36,36,36)"
          },
          "yaxis": {
           "automargin": true,
           "gridcolor": "rgb(232,232,232)",
           "linecolor": "rgb(36,36,36)",
           "showgrid": false,
           "showline": true,
           "ticks": "outside",
           "title": {
            "standoff": 15
           },
           "zeroline": false,
           "zerolinecolor": "rgb(36,36,36)"
          }
         }
        },
        "title": {
         "text": "Actual vs. 'Out-of-Sample' Forecast | value "
        },
        "width": 1000,
        "xaxis": {
         "title": {
          "text": "Time"
         }
        },
        "yaxis": {
         "title": {
          "text": "Values"
         }
        }
       }
      }
     },
     "metadata": {},
     "output_type": "display_data"
    }
   ],
   "source": [
    "theta = exp.create_model('theta')\n",
    "exp.plot_model(plot = 'decomp', \n",
    "               data_kwargs = {'type' : 'multiplicative'},\n",
    "               fig_kwargs = {\"height\":500,\"width\":1000,\"template\": \"simple_white\",\"hoverinfo\":\"none\",\"big_data_threshold\":10})\n",
    "exp.plot_model(estimator = theta, plot = 'forecast', \n",
    "               data_kwargs = {'fh' : 7},\n",
    "               fig_kwargs = {\"height\":500,\"width\":1000,\"template\": \"simple_white\",\"hoverinfo\":\"none\",\"big_data_threshold\":10})"
   ]
  },
  {
   "cell_type": "markdown",
   "metadata": {},
   "source": [
    "## ridge_cds_dt"
   ]
  },
  {
   "cell_type": "code",
   "execution_count": null,
   "metadata": {},
   "outputs": [],
   "source": [
    "\n",
    "ets_dt = exp.create_model('ridge_cds_dt')\n",
    "exp.plot_model(plot = 'decomp', \n",
    "               data_kwargs = {'type' : 'multiplicative'},\n",
    "               fig_kwargs = {\"height\":500,\"width\":1000,\"template\": \"simple_white\",\"hoverinfo\":\"none\",\"big_data_threshold\":10})\n",
    "exp.plot_model(estimator = ets_dt, \n",
    "               plot = 'forecast', \n",
    "               data_kwargs = {'fh' : 7},\n",
    "               fig_kwargs = {\"height\":500,\"width\":1000,\"template\": \"simple_white\",\"hoverinfo\":\"none\",\"big_data_threshold\":10})"
   ]
  },
  {
   "cell_type": "markdown",
   "metadata": {},
   "source": [
    "## exp_smooth\t"
   ]
  },
  {
   "cell_type": "code",
   "execution_count": null,
   "metadata": {},
   "outputs": [],
   "source": [
    "\n",
    "ets_dt = exp.create_model('exp_smooth')\n",
    "exp.plot_model(plot = 'decomp', \n",
    "               data_kwargs = {'type' : 'multiplicative'},\n",
    "               fig_kwargs = {\"height\":500,\"width\":1000,\"template\": \"simple_white\",\"hoverinfo\":\"none\",\"big_data_threshold\":10})\n",
    "exp.plot_model(estimator = ets_dt, \n",
    "               plot = 'forecast', \n",
    "               data_kwargs = {'fh' : 7},\n",
    "               fig_kwargs = {\"height\":500,\"width\":1000,\"template\": \"simple_white\",\"hoverinfo\":\"none\",\"big_data_threshold\":10})"
   ]
  },
  {
   "cell_type": "markdown",
   "metadata": {},
   "source": [
    "## polytrend"
   ]
  },
  {
   "cell_type": "code",
   "execution_count": null,
   "metadata": {},
   "outputs": [],
   "source": [
    "\n",
    "ets_dt = exp.create_model('polytrend')\n",
    "exp.plot_model(plot = 'decomp', \n",
    "               data_kwargs = {'type' : 'multiplicative'},\n",
    "               fig_kwargs = {\"height\":500,\"width\":1000,\"template\": \"simple_white\",\"hoverinfo\":\"none\",\"big_data_threshold\":10})\n",
    "exp.plot_model(estimator = ets_dt, \n",
    "               plot = 'forecast', \n",
    "               data_kwargs = {'fh' : 7},\n",
    "               fig_kwargs = {\"height\":500,\"width\":1000,\"template\": \"simple_white\",\"hoverinfo\":\"none\",\"big_data_threshold\":10})"
   ]
  },
  {
   "cell_type": "markdown",
   "metadata": {},
   "source": [
    "## ETS\n",
    "The ETS algorithm is especially useful for datasets with seasonality and other prior assumptions about the data. ETS computes a weighted average over all observations in the input time series dataset as its prediction. The weights are exponentially decreasing over time, rather than the constant weights in simple moving average methods. The weights are dependent on a constant parameter, which is known as the smoothing parameter."
   ]
  },
  {
   "cell_type": "code",
   "execution_count": null,
   "metadata": {},
   "outputs": [
    {
     "data": {
      "text/html": [],
      "text/plain": [
       "<IPython.core.display.HTML object>"
      ]
     },
     "metadata": {},
     "output_type": "display_data"
    },
    {
     "data": {
      "text/html": [
       "<style type=\"text/css\">\n",
       "#T_f4383_row3_col0, #T_f4383_row3_col1, #T_f4383_row3_col2, #T_f4383_row3_col3, #T_f4383_row3_col4, #T_f4383_row3_col5, #T_f4383_row3_col6 {\n",
       "  background: yellow;\n",
       "}\n",
       "</style>\n",
       "<table id=\"T_f4383\">\n",
       "  <thead>\n",
       "    <tr>\n",
       "      <th class=\"blank level0\" >&nbsp;</th>\n",
       "      <th id=\"T_f4383_level0_col0\" class=\"col_heading level0 col0\" >cutoff</th>\n",
       "      <th id=\"T_f4383_level0_col1\" class=\"col_heading level0 col1\" >MASE</th>\n",
       "      <th id=\"T_f4383_level0_col2\" class=\"col_heading level0 col2\" >RMSSE</th>\n",
       "      <th id=\"T_f4383_level0_col3\" class=\"col_heading level0 col3\" >MAE</th>\n",
       "      <th id=\"T_f4383_level0_col4\" class=\"col_heading level0 col4\" >RMSE</th>\n",
       "      <th id=\"T_f4383_level0_col5\" class=\"col_heading level0 col5\" >MAPE</th>\n",
       "      <th id=\"T_f4383_level0_col6\" class=\"col_heading level0 col6\" >SMAPE</th>\n",
       "    </tr>\n",
       "  </thead>\n",
       "  <tbody>\n",
       "    <tr>\n",
       "      <th id=\"T_f4383_level0_row0\" class=\"row_heading level0 row0\" >0</th>\n",
       "      <td id=\"T_f4383_row0_col0\" class=\"data row0 col0\" >2019</td>\n",
       "      <td id=\"T_f4383_row0_col1\" class=\"data row0 col1\" >0.0290</td>\n",
       "      <td id=\"T_f4383_row0_col2\" class=\"data row0 col2\" >0.0286</td>\n",
       "      <td id=\"T_f4383_row0_col3\" class=\"data row0 col3\" >0.0667</td>\n",
       "      <td id=\"T_f4383_row0_col4\" class=\"data row0 col4\" >0.0667</td>\n",
       "      <td id=\"T_f4383_row0_col5\" class=\"data row0 col5\" >0.0003</td>\n",
       "      <td id=\"T_f4383_row0_col6\" class=\"data row0 col6\" >0.0003</td>\n",
       "    </tr>\n",
       "    <tr>\n",
       "      <th id=\"T_f4383_level0_row1\" class=\"row_heading level0 row1\" >1</th>\n",
       "      <td id=\"T_f4383_row1_col0\" class=\"data row1 col0\" >2020</td>\n",
       "      <td id=\"T_f4383_row1_col1\" class=\"data row1 col1\" >0.5070</td>\n",
       "      <td id=\"T_f4383_row1_col2\" class=\"data row1 col2\" >0.5019</td>\n",
       "      <td id=\"T_f4383_row1_col3\" class=\"data row1 col3\" >1.2000</td>\n",
       "      <td id=\"T_f4383_row1_col4\" class=\"data row1 col4\" >1.2000</td>\n",
       "      <td id=\"T_f4383_row1_col5\" class=\"data row1 col5\" >0.0060</td>\n",
       "      <td id=\"T_f4383_row1_col6\" class=\"data row1 col6\" >0.0060</td>\n",
       "    </tr>\n",
       "    <tr>\n",
       "      <th id=\"T_f4383_level0_row2\" class=\"row_heading level0 row2\" >2</th>\n",
       "      <td id=\"T_f4383_row2_col0\" class=\"data row2 col0\" >2021</td>\n",
       "      <td id=\"T_f4383_row2_col1\" class=\"data row2 col1\" >0.6868</td>\n",
       "      <td id=\"T_f4383_row2_col2\" class=\"data row2 col2\" >0.6713</td>\n",
       "      <td id=\"T_f4383_row2_col3\" class=\"data row2 col3\" >1.8200</td>\n",
       "      <td id=\"T_f4383_row2_col4\" class=\"data row2 col4\" >1.8200</td>\n",
       "      <td id=\"T_f4383_row2_col5\" class=\"data row2 col5\" >0.0089</td>\n",
       "      <td id=\"T_f4383_row2_col6\" class=\"data row2 col6\" >0.0089</td>\n",
       "    </tr>\n",
       "    <tr>\n",
       "      <th id=\"T_f4383_level0_row3\" class=\"row_heading level0 row3\" >Mean</th>\n",
       "      <td id=\"T_f4383_row3_col0\" class=\"data row3 col0\" >NaT</td>\n",
       "      <td id=\"T_f4383_row3_col1\" class=\"data row3 col1\" >0.4076</td>\n",
       "      <td id=\"T_f4383_row3_col2\" class=\"data row3 col2\" >0.4006</td>\n",
       "      <td id=\"T_f4383_row3_col3\" class=\"data row3 col3\" >1.0289</td>\n",
       "      <td id=\"T_f4383_row3_col4\" class=\"data row3 col4\" >1.0289</td>\n",
       "      <td id=\"T_f4383_row3_col5\" class=\"data row3 col5\" >0.0051</td>\n",
       "      <td id=\"T_f4383_row3_col6\" class=\"data row3 col6\" >0.0051</td>\n",
       "    </tr>\n",
       "    <tr>\n",
       "      <th id=\"T_f4383_level0_row4\" class=\"row_heading level0 row4\" >SD</th>\n",
       "      <td id=\"T_f4383_row4_col0\" class=\"data row4 col0\" >NaT</td>\n",
       "      <td id=\"T_f4383_row4_col1\" class=\"data row4 col1\" >0.2776</td>\n",
       "      <td id=\"T_f4383_row4_col2\" class=\"data row4 col2\" >0.2720</td>\n",
       "      <td id=\"T_f4383_row4_col3\" class=\"data row4 col3\" >0.7259</td>\n",
       "      <td id=\"T_f4383_row4_col4\" class=\"data row4 col4\" >0.7259</td>\n",
       "      <td id=\"T_f4383_row4_col5\" class=\"data row4 col5\" >0.0036</td>\n",
       "      <td id=\"T_f4383_row4_col6\" class=\"data row4 col6\" >0.0036</td>\n",
       "    </tr>\n",
       "  </tbody>\n",
       "</table>\n"
      ],
      "text/plain": [
       "<pandas.io.formats.style.Styler at 0x1fc4425ffa0>"
      ]
     },
     "metadata": {},
     "output_type": "display_data"
    },
    {
     "data": {
      "text/html": [],
      "text/plain": [
       "<IPython.core.display.HTML object>"
      ]
     },
     "metadata": {},
     "output_type": "display_data"
    },
    {
     "data": {
      "application/vnd.plotly.v1+json": {
       "config": {
        "plotlyServerURL": "https://plot.ly"
       },
       "data": [
        {
         "line": {
          "color": "rgb(31, 119, 180)",
          "width": 2
         },
         "marker": {
          "size": 2
         },
         "mode": "lines+markers",
         "name": "Actual",
         "type": "scattergl",
         "x": [
          "2017-01-01T00:00:00",
          "2018-01-01T00:00:00",
          "2019-01-01T00:00:00",
          "2020-01-01T00:00:00",
          "2021-01-01T00:00:00",
          "2022-01-01T00:00:00",
          "2023-01-01T00:00:00"
         ],
         "xaxis": "x",
         "y": [
          190.2,
          192.9,
          194.8,
          197.3,
          200.8,
          204.7,
          208.2
         ],
         "yaxis": "y"
        },
        {
         "line": {
          "color": "rgb(255, 127, 14)",
          "width": 2
         },
         "marker": {
          "size": 2
         },
         "mode": "lines+markers",
         "name": "Seasonal",
         "type": "scattergl",
         "x": [
          "2017-01-01T00:00:00",
          "2018-01-01T00:00:00",
          "2019-01-01T00:00:00",
          "2020-01-01T00:00:00",
          "2021-01-01T00:00:00",
          "2022-01-01T00:00:00",
          "2023-01-01T00:00:00"
         ],
         "xaxis": "x2",
         "y": [
          1,
          1,
          1,
          1,
          1,
          1,
          1
         ],
         "yaxis": "y2"
        },
        {
         "line": {
          "color": "rgb(44, 160, 44)",
          "width": 2
         },
         "marker": {
          "size": 2
         },
         "mode": "lines+markers",
         "name": "Trend",
         "type": "scattergl",
         "x": [
          "2017-01-01T00:00:00",
          "2018-01-01T00:00:00",
          "2019-01-01T00:00:00",
          "2020-01-01T00:00:00",
          "2021-01-01T00:00:00",
          "2022-01-01T00:00:00",
          "2023-01-01T00:00:00"
         ],
         "xaxis": "x3",
         "y": [
          190.2,
          192.9,
          194.8,
          197.3,
          200.8,
          204.7,
          208.2
         ],
         "yaxis": "y3"
        },
        {
         "line": {
          "color": "rgb(214, 39, 40)",
          "width": 2
         },
         "marker": {
          "size": 4
         },
         "mode": "markers",
         "name": "Residuals",
         "type": "scattergl",
         "x": [
          "2017-01-01T00:00:00",
          "2018-01-01T00:00:00",
          "2019-01-01T00:00:00",
          "2020-01-01T00:00:00",
          "2021-01-01T00:00:00",
          "2022-01-01T00:00:00",
          "2023-01-01T00:00:00"
         ],
         "xaxis": "x4",
         "y": [
          1,
          1,
          1,
          1,
          1,
          1,
          1
         ],
         "yaxis": "y4"
        }
       ],
       "layout": {
        "annotations": [
         {
          "font": {
           "size": 16
          },
          "showarrow": false,
          "text": "value  (transformed)",
          "x": 0.49,
          "xanchor": "center",
          "xref": "paper",
          "y": 1,
          "yanchor": "bottom",
          "yref": "paper"
         },
         {
          "font": {
           "size": 16
          },
          "showarrow": false,
          "text": "Actual",
          "textangle": 90,
          "x": 0.98,
          "xanchor": "left",
          "xref": "paper",
          "y": 0.903125,
          "yanchor": "middle",
          "yref": "paper"
         },
         {
          "font": {
           "size": 16
          },
          "showarrow": false,
          "text": "Seasonal",
          "textangle": 90,
          "x": 0.98,
          "xanchor": "left",
          "xref": "paper",
          "y": 0.6343749999999999,
          "yanchor": "middle",
          "yref": "paper"
         },
         {
          "font": {
           "size": 16
          },
          "showarrow": false,
          "text": "Trend",
          "textangle": 90,
          "x": 0.98,
          "xanchor": "left",
          "xref": "paper",
          "y": 0.365625,
          "yanchor": "middle",
          "yref": "paper"
         },
         {
          "font": {
           "size": 16
          },
          "showarrow": false,
          "text": "Residual",
          "textangle": 90,
          "x": 0.98,
          "xanchor": "left",
          "xref": "paper",
          "y": 0.096875,
          "yanchor": "middle",
          "yref": "paper"
         }
        ],
        "autosize": false,
        "height": 500,
        "showlegend": false,
        "template": {
         "data": {
          "bar": [
           {
            "error_x": {
             "color": "rgb(36,36,36)"
            },
            "error_y": {
             "color": "rgb(36,36,36)"
            },
            "marker": {
             "line": {
              "color": "white",
              "width": 0.5
             },
             "pattern": {
              "fillmode": "overlay",
              "size": 10,
              "solidity": 0.2
             }
            },
            "type": "bar"
           }
          ],
          "barpolar": [
           {
            "marker": {
             "line": {
              "color": "white",
              "width": 0.5
             },
             "pattern": {
              "fillmode": "overlay",
              "size": 10,
              "solidity": 0.2
             }
            },
            "type": "barpolar"
           }
          ],
          "carpet": [
           {
            "aaxis": {
             "endlinecolor": "rgb(36,36,36)",
             "gridcolor": "white",
             "linecolor": "white",
             "minorgridcolor": "white",
             "startlinecolor": "rgb(36,36,36)"
            },
            "baxis": {
             "endlinecolor": "rgb(36,36,36)",
             "gridcolor": "white",
             "linecolor": "white",
             "minorgridcolor": "white",
             "startlinecolor": "rgb(36,36,36)"
            },
            "type": "carpet"
           }
          ],
          "choropleth": [
           {
            "colorbar": {
             "outlinewidth": 1,
             "tickcolor": "rgb(36,36,36)",
             "ticks": "outside"
            },
            "type": "choropleth"
           }
          ],
          "contour": [
           {
            "colorbar": {
             "outlinewidth": 1,
             "tickcolor": "rgb(36,36,36)",
             "ticks": "outside"
            },
            "colorscale": [
             [
              0,
              "#440154"
             ],
             [
              0.1111111111111111,
              "#482878"
             ],
             [
              0.2222222222222222,
              "#3e4989"
             ],
             [
              0.3333333333333333,
              "#31688e"
             ],
             [
              0.4444444444444444,
              "#26828e"
             ],
             [
              0.5555555555555556,
              "#1f9e89"
             ],
             [
              0.6666666666666666,
              "#35b779"
             ],
             [
              0.7777777777777778,
              "#6ece58"
             ],
             [
              0.8888888888888888,
              "#b5de2b"
             ],
             [
              1,
              "#fde725"
             ]
            ],
            "type": "contour"
           }
          ],
          "contourcarpet": [
           {
            "colorbar": {
             "outlinewidth": 1,
             "tickcolor": "rgb(36,36,36)",
             "ticks": "outside"
            },
            "type": "contourcarpet"
           }
          ],
          "heatmap": [
           {
            "colorbar": {
             "outlinewidth": 1,
             "tickcolor": "rgb(36,36,36)",
             "ticks": "outside"
            },
            "colorscale": [
             [
              0,
              "#440154"
             ],
             [
              0.1111111111111111,
              "#482878"
             ],
             [
              0.2222222222222222,
              "#3e4989"
             ],
             [
              0.3333333333333333,
              "#31688e"
             ],
             [
              0.4444444444444444,
              "#26828e"
             ],
             [
              0.5555555555555556,
              "#1f9e89"
             ],
             [
              0.6666666666666666,
              "#35b779"
             ],
             [
              0.7777777777777778,
              "#6ece58"
             ],
             [
              0.8888888888888888,
              "#b5de2b"
             ],
             [
              1,
              "#fde725"
             ]
            ],
            "type": "heatmap"
           }
          ],
          "heatmapgl": [
           {
            "colorbar": {
             "outlinewidth": 1,
             "tickcolor": "rgb(36,36,36)",
             "ticks": "outside"
            },
            "colorscale": [
             [
              0,
              "#440154"
             ],
             [
              0.1111111111111111,
              "#482878"
             ],
             [
              0.2222222222222222,
              "#3e4989"
             ],
             [
              0.3333333333333333,
              "#31688e"
             ],
             [
              0.4444444444444444,
              "#26828e"
             ],
             [
              0.5555555555555556,
              "#1f9e89"
             ],
             [
              0.6666666666666666,
              "#35b779"
             ],
             [
              0.7777777777777778,
              "#6ece58"
             ],
             [
              0.8888888888888888,
              "#b5de2b"
             ],
             [
              1,
              "#fde725"
             ]
            ],
            "type": "heatmapgl"
           }
          ],
          "histogram": [
           {
            "marker": {
             "line": {
              "color": "white",
              "width": 0.6
             }
            },
            "type": "histogram"
           }
          ],
          "histogram2d": [
           {
            "colorbar": {
             "outlinewidth": 1,
             "tickcolor": "rgb(36,36,36)",
             "ticks": "outside"
            },
            "colorscale": [
             [
              0,
              "#440154"
             ],
             [
              0.1111111111111111,
              "#482878"
             ],
             [
              0.2222222222222222,
              "#3e4989"
             ],
             [
              0.3333333333333333,
              "#31688e"
             ],
             [
              0.4444444444444444,
              "#26828e"
             ],
             [
              0.5555555555555556,
              "#1f9e89"
             ],
             [
              0.6666666666666666,
              "#35b779"
             ],
             [
              0.7777777777777778,
              "#6ece58"
             ],
             [
              0.8888888888888888,
              "#b5de2b"
             ],
             [
              1,
              "#fde725"
             ]
            ],
            "type": "histogram2d"
           }
          ],
          "histogram2dcontour": [
           {
            "colorbar": {
             "outlinewidth": 1,
             "tickcolor": "rgb(36,36,36)",
             "ticks": "outside"
            },
            "colorscale": [
             [
              0,
              "#440154"
             ],
             [
              0.1111111111111111,
              "#482878"
             ],
             [
              0.2222222222222222,
              "#3e4989"
             ],
             [
              0.3333333333333333,
              "#31688e"
             ],
             [
              0.4444444444444444,
              "#26828e"
             ],
             [
              0.5555555555555556,
              "#1f9e89"
             ],
             [
              0.6666666666666666,
              "#35b779"
             ],
             [
              0.7777777777777778,
              "#6ece58"
             ],
             [
              0.8888888888888888,
              "#b5de2b"
             ],
             [
              1,
              "#fde725"
             ]
            ],
            "type": "histogram2dcontour"
           }
          ],
          "mesh3d": [
           {
            "colorbar": {
             "outlinewidth": 1,
             "tickcolor": "rgb(36,36,36)",
             "ticks": "outside"
            },
            "type": "mesh3d"
           }
          ],
          "parcoords": [
           {
            "line": {
             "colorbar": {
              "outlinewidth": 1,
              "tickcolor": "rgb(36,36,36)",
              "ticks": "outside"
             }
            },
            "type": "parcoords"
           }
          ],
          "pie": [
           {
            "automargin": true,
            "type": "pie"
           }
          ],
          "scatter": [
           {
            "fillpattern": {
             "fillmode": "overlay",
             "size": 10,
             "solidity": 0.2
            },
            "type": "scatter"
           }
          ],
          "scatter3d": [
           {
            "line": {
             "colorbar": {
              "outlinewidth": 1,
              "tickcolor": "rgb(36,36,36)",
              "ticks": "outside"
             }
            },
            "marker": {
             "colorbar": {
              "outlinewidth": 1,
              "tickcolor": "rgb(36,36,36)",
              "ticks": "outside"
             }
            },
            "type": "scatter3d"
           }
          ],
          "scattercarpet": [
           {
            "marker": {
             "colorbar": {
              "outlinewidth": 1,
              "tickcolor": "rgb(36,36,36)",
              "ticks": "outside"
             }
            },
            "type": "scattercarpet"
           }
          ],
          "scattergeo": [
           {
            "marker": {
             "colorbar": {
              "outlinewidth": 1,
              "tickcolor": "rgb(36,36,36)",
              "ticks": "outside"
             }
            },
            "type": "scattergeo"
           }
          ],
          "scattergl": [
           {
            "marker": {
             "colorbar": {
              "outlinewidth": 1,
              "tickcolor": "rgb(36,36,36)",
              "ticks": "outside"
             }
            },
            "type": "scattergl"
           }
          ],
          "scattermapbox": [
           {
            "marker": {
             "colorbar": {
              "outlinewidth": 1,
              "tickcolor": "rgb(36,36,36)",
              "ticks": "outside"
             }
            },
            "type": "scattermapbox"
           }
          ],
          "scatterpolar": [
           {
            "marker": {
             "colorbar": {
              "outlinewidth": 1,
              "tickcolor": "rgb(36,36,36)",
              "ticks": "outside"
             }
            },
            "type": "scatterpolar"
           }
          ],
          "scatterpolargl": [
           {
            "marker": {
             "colorbar": {
              "outlinewidth": 1,
              "tickcolor": "rgb(36,36,36)",
              "ticks": "outside"
             }
            },
            "type": "scatterpolargl"
           }
          ],
          "scatterternary": [
           {
            "marker": {
             "colorbar": {
              "outlinewidth": 1,
              "tickcolor": "rgb(36,36,36)",
              "ticks": "outside"
             }
            },
            "type": "scatterternary"
           }
          ],
          "surface": [
           {
            "colorbar": {
             "outlinewidth": 1,
             "tickcolor": "rgb(36,36,36)",
             "ticks": "outside"
            },
            "colorscale": [
             [
              0,
              "#440154"
             ],
             [
              0.1111111111111111,
              "#482878"
             ],
             [
              0.2222222222222222,
              "#3e4989"
             ],
             [
              0.3333333333333333,
              "#31688e"
             ],
             [
              0.4444444444444444,
              "#26828e"
             ],
             [
              0.5555555555555556,
              "#1f9e89"
             ],
             [
              0.6666666666666666,
              "#35b779"
             ],
             [
              0.7777777777777778,
              "#6ece58"
             ],
             [
              0.8888888888888888,
              "#b5de2b"
             ],
             [
              1,
              "#fde725"
             ]
            ],
            "type": "surface"
           }
          ],
          "table": [
           {
            "cells": {
             "fill": {
              "color": "rgb(237,237,237)"
             },
             "line": {
              "color": "white"
             }
            },
            "header": {
             "fill": {
              "color": "rgb(217,217,217)"
             },
             "line": {
              "color": "white"
             }
            },
            "type": "table"
           }
          ]
         },
         "layout": {
          "annotationdefaults": {
           "arrowhead": 0,
           "arrowwidth": 1
          },
          "autotypenumbers": "strict",
          "coloraxis": {
           "colorbar": {
            "outlinewidth": 1,
            "tickcolor": "rgb(36,36,36)",
            "ticks": "outside"
           }
          },
          "colorscale": {
           "diverging": [
            [
             0,
             "rgb(103,0,31)"
            ],
            [
             0.1,
             "rgb(178,24,43)"
            ],
            [
             0.2,
             "rgb(214,96,77)"
            ],
            [
             0.3,
             "rgb(244,165,130)"
            ],
            [
             0.4,
             "rgb(253,219,199)"
            ],
            [
             0.5,
             "rgb(247,247,247)"
            ],
            [
             0.6,
             "rgb(209,229,240)"
            ],
            [
             0.7,
             "rgb(146,197,222)"
            ],
            [
             0.8,
             "rgb(67,147,195)"
            ],
            [
             0.9,
             "rgb(33,102,172)"
            ],
            [
             1,
             "rgb(5,48,97)"
            ]
           ],
           "sequential": [
            [
             0,
             "#440154"
            ],
            [
             0.1111111111111111,
             "#482878"
            ],
            [
             0.2222222222222222,
             "#3e4989"
            ],
            [
             0.3333333333333333,
             "#31688e"
            ],
            [
             0.4444444444444444,
             "#26828e"
            ],
            [
             0.5555555555555556,
             "#1f9e89"
            ],
            [
             0.6666666666666666,
             "#35b779"
            ],
            [
             0.7777777777777778,
             "#6ece58"
            ],
            [
             0.8888888888888888,
             "#b5de2b"
            ],
            [
             1,
             "#fde725"
            ]
           ],
           "sequentialminus": [
            [
             0,
             "#440154"
            ],
            [
             0.1111111111111111,
             "#482878"
            ],
            [
             0.2222222222222222,
             "#3e4989"
            ],
            [
             0.3333333333333333,
             "#31688e"
            ],
            [
             0.4444444444444444,
             "#26828e"
            ],
            [
             0.5555555555555556,
             "#1f9e89"
            ],
            [
             0.6666666666666666,
             "#35b779"
            ],
            [
             0.7777777777777778,
             "#6ece58"
            ],
            [
             0.8888888888888888,
             "#b5de2b"
            ],
            [
             1,
             "#fde725"
            ]
           ]
          },
          "colorway": [
           "#1F77B4",
           "#FF7F0E",
           "#2CA02C",
           "#D62728",
           "#9467BD",
           "#8C564B",
           "#E377C2",
           "#7F7F7F",
           "#BCBD22",
           "#17BECF"
          ],
          "font": {
           "color": "rgb(36,36,36)"
          },
          "geo": {
           "bgcolor": "white",
           "lakecolor": "white",
           "landcolor": "white",
           "showlakes": true,
           "showland": true,
           "subunitcolor": "white"
          },
          "hoverlabel": {
           "align": "left"
          },
          "hovermode": "closest",
          "mapbox": {
           "style": "light"
          },
          "paper_bgcolor": "white",
          "plot_bgcolor": "white",
          "polar": {
           "angularaxis": {
            "gridcolor": "rgb(232,232,232)",
            "linecolor": "rgb(36,36,36)",
            "showgrid": false,
            "showline": true,
            "ticks": "outside"
           },
           "bgcolor": "white",
           "radialaxis": {
            "gridcolor": "rgb(232,232,232)",
            "linecolor": "rgb(36,36,36)",
            "showgrid": false,
            "showline": true,
            "ticks": "outside"
           }
          },
          "scene": {
           "xaxis": {
            "backgroundcolor": "white",
            "gridcolor": "rgb(232,232,232)",
            "gridwidth": 2,
            "linecolor": "rgb(36,36,36)",
            "showbackground": true,
            "showgrid": false,
            "showline": true,
            "ticks": "outside",
            "zeroline": false,
            "zerolinecolor": "rgb(36,36,36)"
           },
           "yaxis": {
            "backgroundcolor": "white",
            "gridcolor": "rgb(232,232,232)",
            "gridwidth": 2,
            "linecolor": "rgb(36,36,36)",
            "showbackground": true,
            "showgrid": false,
            "showline": true,
            "ticks": "outside",
            "zeroline": false,
            "zerolinecolor": "rgb(36,36,36)"
           },
           "zaxis": {
            "backgroundcolor": "white",
            "gridcolor": "rgb(232,232,232)",
            "gridwidth": 2,
            "linecolor": "rgb(36,36,36)",
            "showbackground": true,
            "showgrid": false,
            "showline": true,
            "ticks": "outside",
            "zeroline": false,
            "zerolinecolor": "rgb(36,36,36)"
           }
          },
          "shapedefaults": {
           "fillcolor": "black",
           "line": {
            "width": 0
           },
           "opacity": 0.3
          },
          "ternary": {
           "aaxis": {
            "gridcolor": "rgb(232,232,232)",
            "linecolor": "rgb(36,36,36)",
            "showgrid": false,
            "showline": true,
            "ticks": "outside"
           },
           "baxis": {
            "gridcolor": "rgb(232,232,232)",
            "linecolor": "rgb(36,36,36)",
            "showgrid": false,
            "showline": true,
            "ticks": "outside"
           },
           "bgcolor": "white",
           "caxis": {
            "gridcolor": "rgb(232,232,232)",
            "linecolor": "rgb(36,36,36)",
            "showgrid": false,
            "showline": true,
            "ticks": "outside"
           }
          },
          "title": {
           "x": 0.05
          },
          "xaxis": {
           "automargin": true,
           "gridcolor": "rgb(232,232,232)",
           "linecolor": "rgb(36,36,36)",
           "showgrid": false,
           "showline": true,
           "ticks": "outside",
           "title": {
            "standoff": 15
           },
           "zeroline": false,
           "zerolinecolor": "rgb(36,36,36)"
          },
          "yaxis": {
           "automargin": true,
           "gridcolor": "rgb(232,232,232)",
           "linecolor": "rgb(36,36,36)",
           "showgrid": false,
           "showline": true,
           "ticks": "outside",
           "title": {
            "standoff": 15
           },
           "zeroline": false,
           "zerolinecolor": "rgb(36,36,36)"
          }
         }
        },
        "title": {
         "text": "Classical Decomposition (multiplicative) | value <br>Seasonal Period = 1"
        },
        "width": 1000,
        "xaxis": {
         "anchor": "y",
         "domain": [
          0,
          0.98
         ],
         "matches": "x4",
         "showticklabels": false
        },
        "xaxis2": {
         "anchor": "y2",
         "domain": [
          0,
          0.98
         ],
         "matches": "x4",
         "showticklabels": false
        },
        "xaxis3": {
         "anchor": "y3",
         "domain": [
          0,
          0.98
         ],
         "matches": "x4",
         "showticklabels": false
        },
        "xaxis4": {
         "anchor": "y4",
         "domain": [
          0,
          0.98
         ]
        },
        "yaxis": {
         "anchor": "x",
         "domain": [
          0.80625,
          1
         ]
        },
        "yaxis2": {
         "anchor": "x2",
         "domain": [
          0.5375,
          0.73125
         ]
        },
        "yaxis3": {
         "anchor": "x3",
         "domain": [
          0.26875,
          0.4625
         ]
        },
        "yaxis4": {
         "anchor": "x4",
         "domain": [
          0,
          0.19375
         ]
        }
       }
      }
     },
     "metadata": {},
     "output_type": "display_data"
    },
    {
     "data": {
      "application/vnd.plotly.v1+json": {
       "config": {
        "plotlyServerURL": "https://plot.ly"
       },
       "data": [
        {
         "line": {
          "color": "#1f77b4"
         },
         "marker": {
          "size": 5
         },
         "mode": "lines+markers",
         "name": "Forecast | ETS",
         "showlegend": true,
         "type": "scatter",
         "x": [
          "2023-01-01T00:00:00",
          "2024-01-01T00:00:00",
          "2025-01-01T00:00:00",
          "2026-01-01T00:00:00",
          "2027-01-01T00:00:00",
          "2028-01-01T00:00:00",
          "2029-01-01T00:00:00"
         ],
         "y": [
          208.6,
          212.5,
          216.4,
          220.3,
          224.2001,
          228.1001,
          232.0001
         ]
        },
        {
         "line": {
          "width": 0
         },
         "marker": {
          "color": "#68BBE3"
         },
         "mode": "lines",
         "name": "Lower Interval",
         "showlegend": false,
         "type": "scatter",
         "x": [
          "2023-01-01T00:00:00",
          "2024-01-01T00:00:00",
          "2025-01-01T00:00:00",
          "2026-01-01T00:00:00",
          "2027-01-01T00:00:00",
          "2028-01-01T00:00:00",
          "2029-01-01T00:00:00"
         ],
         "y": [
          207.613,
          210.2932,
          212.7075,
          214.8949,
          216.8815,
          218.6863,
          220.3237
         ]
        },
        {
         "fill": "tonexty",
         "fillcolor": "rgba(104,187,227,0.5)",
         "line": {
          "width": 0
         },
         "marker": {
          "color": "#68BBE3"
         },
         "mode": "lines",
         "name": "Prediction Interval | ETS",
         "showlegend": true,
         "type": "scatter",
         "x": [
          "2023-01-01T00:00:00",
          "2024-01-01T00:00:00",
          "2025-01-01T00:00:00",
          "2026-01-01T00:00:00",
          "2027-01-01T00:00:00",
          "2028-01-01T00:00:00",
          "2029-01-01T00:00:00"
         ],
         "y": [
          209.587,
          214.7068,
          220.0925,
          225.7052,
          231.5187,
          237.5139,
          243.6765
         ]
        },
        {
         "marker": {
          "color": "#3f3f3f",
          "size": 5
         },
         "mode": "lines+markers",
         "name": "Original",
         "showlegend": true,
         "type": "scatter",
         "x": [
          "2017-01-01T00:00:00",
          "2018-01-01T00:00:00",
          "2019-01-01T00:00:00",
          "2020-01-01T00:00:00",
          "2021-01-01T00:00:00",
          "2022-01-01T00:00:00",
          "2023-01-01T00:00:00"
         ],
         "y": [
          190.2,
          192.9,
          194.8,
          197.3,
          200.8,
          204.7,
          208.2
         ]
        }
       ],
       "layout": {
        "autosize": false,
        "height": 500,
        "showlegend": true,
        "template": {
         "data": {
          "bar": [
           {
            "error_x": {
             "color": "rgb(36,36,36)"
            },
            "error_y": {
             "color": "rgb(36,36,36)"
            },
            "marker": {
             "line": {
              "color": "white",
              "width": 0.5
             },
             "pattern": {
              "fillmode": "overlay",
              "size": 10,
              "solidity": 0.2
             }
            },
            "type": "bar"
           }
          ],
          "barpolar": [
           {
            "marker": {
             "line": {
              "color": "white",
              "width": 0.5
             },
             "pattern": {
              "fillmode": "overlay",
              "size": 10,
              "solidity": 0.2
             }
            },
            "type": "barpolar"
           }
          ],
          "carpet": [
           {
            "aaxis": {
             "endlinecolor": "rgb(36,36,36)",
             "gridcolor": "white",
             "linecolor": "white",
             "minorgridcolor": "white",
             "startlinecolor": "rgb(36,36,36)"
            },
            "baxis": {
             "endlinecolor": "rgb(36,36,36)",
             "gridcolor": "white",
             "linecolor": "white",
             "minorgridcolor": "white",
             "startlinecolor": "rgb(36,36,36)"
            },
            "type": "carpet"
           }
          ],
          "choropleth": [
           {
            "colorbar": {
             "outlinewidth": 1,
             "tickcolor": "rgb(36,36,36)",
             "ticks": "outside"
            },
            "type": "choropleth"
           }
          ],
          "contour": [
           {
            "colorbar": {
             "outlinewidth": 1,
             "tickcolor": "rgb(36,36,36)",
             "ticks": "outside"
            },
            "colorscale": [
             [
              0,
              "#440154"
             ],
             [
              0.1111111111111111,
              "#482878"
             ],
             [
              0.2222222222222222,
              "#3e4989"
             ],
             [
              0.3333333333333333,
              "#31688e"
             ],
             [
              0.4444444444444444,
              "#26828e"
             ],
             [
              0.5555555555555556,
              "#1f9e89"
             ],
             [
              0.6666666666666666,
              "#35b779"
             ],
             [
              0.7777777777777778,
              "#6ece58"
             ],
             [
              0.8888888888888888,
              "#b5de2b"
             ],
             [
              1,
              "#fde725"
             ]
            ],
            "type": "contour"
           }
          ],
          "contourcarpet": [
           {
            "colorbar": {
             "outlinewidth": 1,
             "tickcolor": "rgb(36,36,36)",
             "ticks": "outside"
            },
            "type": "contourcarpet"
           }
          ],
          "heatmap": [
           {
            "colorbar": {
             "outlinewidth": 1,
             "tickcolor": "rgb(36,36,36)",
             "ticks": "outside"
            },
            "colorscale": [
             [
              0,
              "#440154"
             ],
             [
              0.1111111111111111,
              "#482878"
             ],
             [
              0.2222222222222222,
              "#3e4989"
             ],
             [
              0.3333333333333333,
              "#31688e"
             ],
             [
              0.4444444444444444,
              "#26828e"
             ],
             [
              0.5555555555555556,
              "#1f9e89"
             ],
             [
              0.6666666666666666,
              "#35b779"
             ],
             [
              0.7777777777777778,
              "#6ece58"
             ],
             [
              0.8888888888888888,
              "#b5de2b"
             ],
             [
              1,
              "#fde725"
             ]
            ],
            "type": "heatmap"
           }
          ],
          "heatmapgl": [
           {
            "colorbar": {
             "outlinewidth": 1,
             "tickcolor": "rgb(36,36,36)",
             "ticks": "outside"
            },
            "colorscale": [
             [
              0,
              "#440154"
             ],
             [
              0.1111111111111111,
              "#482878"
             ],
             [
              0.2222222222222222,
              "#3e4989"
             ],
             [
              0.3333333333333333,
              "#31688e"
             ],
             [
              0.4444444444444444,
              "#26828e"
             ],
             [
              0.5555555555555556,
              "#1f9e89"
             ],
             [
              0.6666666666666666,
              "#35b779"
             ],
             [
              0.7777777777777778,
              "#6ece58"
             ],
             [
              0.8888888888888888,
              "#b5de2b"
             ],
             [
              1,
              "#fde725"
             ]
            ],
            "type": "heatmapgl"
           }
          ],
          "histogram": [
           {
            "marker": {
             "line": {
              "color": "white",
              "width": 0.6
             }
            },
            "type": "histogram"
           }
          ],
          "histogram2d": [
           {
            "colorbar": {
             "outlinewidth": 1,
             "tickcolor": "rgb(36,36,36)",
             "ticks": "outside"
            },
            "colorscale": [
             [
              0,
              "#440154"
             ],
             [
              0.1111111111111111,
              "#482878"
             ],
             [
              0.2222222222222222,
              "#3e4989"
             ],
             [
              0.3333333333333333,
              "#31688e"
             ],
             [
              0.4444444444444444,
              "#26828e"
             ],
             [
              0.5555555555555556,
              "#1f9e89"
             ],
             [
              0.6666666666666666,
              "#35b779"
             ],
             [
              0.7777777777777778,
              "#6ece58"
             ],
             [
              0.8888888888888888,
              "#b5de2b"
             ],
             [
              1,
              "#fde725"
             ]
            ],
            "type": "histogram2d"
           }
          ],
          "histogram2dcontour": [
           {
            "colorbar": {
             "outlinewidth": 1,
             "tickcolor": "rgb(36,36,36)",
             "ticks": "outside"
            },
            "colorscale": [
             [
              0,
              "#440154"
             ],
             [
              0.1111111111111111,
              "#482878"
             ],
             [
              0.2222222222222222,
              "#3e4989"
             ],
             [
              0.3333333333333333,
              "#31688e"
             ],
             [
              0.4444444444444444,
              "#26828e"
             ],
             [
              0.5555555555555556,
              "#1f9e89"
             ],
             [
              0.6666666666666666,
              "#35b779"
             ],
             [
              0.7777777777777778,
              "#6ece58"
             ],
             [
              0.8888888888888888,
              "#b5de2b"
             ],
             [
              1,
              "#fde725"
             ]
            ],
            "type": "histogram2dcontour"
           }
          ],
          "mesh3d": [
           {
            "colorbar": {
             "outlinewidth": 1,
             "tickcolor": "rgb(36,36,36)",
             "ticks": "outside"
            },
            "type": "mesh3d"
           }
          ],
          "parcoords": [
           {
            "line": {
             "colorbar": {
              "outlinewidth": 1,
              "tickcolor": "rgb(36,36,36)",
              "ticks": "outside"
             }
            },
            "type": "parcoords"
           }
          ],
          "pie": [
           {
            "automargin": true,
            "type": "pie"
           }
          ],
          "scatter": [
           {
            "fillpattern": {
             "fillmode": "overlay",
             "size": 10,
             "solidity": 0.2
            },
            "type": "scatter"
           }
          ],
          "scatter3d": [
           {
            "line": {
             "colorbar": {
              "outlinewidth": 1,
              "tickcolor": "rgb(36,36,36)",
              "ticks": "outside"
             }
            },
            "marker": {
             "colorbar": {
              "outlinewidth": 1,
              "tickcolor": "rgb(36,36,36)",
              "ticks": "outside"
             }
            },
            "type": "scatter3d"
           }
          ],
          "scattercarpet": [
           {
            "marker": {
             "colorbar": {
              "outlinewidth": 1,
              "tickcolor": "rgb(36,36,36)",
              "ticks": "outside"
             }
            },
            "type": "scattercarpet"
           }
          ],
          "scattergeo": [
           {
            "marker": {
             "colorbar": {
              "outlinewidth": 1,
              "tickcolor": "rgb(36,36,36)",
              "ticks": "outside"
             }
            },
            "type": "scattergeo"
           }
          ],
          "scattergl": [
           {
            "marker": {
             "colorbar": {
              "outlinewidth": 1,
              "tickcolor": "rgb(36,36,36)",
              "ticks": "outside"
             }
            },
            "type": "scattergl"
           }
          ],
          "scattermapbox": [
           {
            "marker": {
             "colorbar": {
              "outlinewidth": 1,
              "tickcolor": "rgb(36,36,36)",
              "ticks": "outside"
             }
            },
            "type": "scattermapbox"
           }
          ],
          "scatterpolar": [
           {
            "marker": {
             "colorbar": {
              "outlinewidth": 1,
              "tickcolor": "rgb(36,36,36)",
              "ticks": "outside"
             }
            },
            "type": "scatterpolar"
           }
          ],
          "scatterpolargl": [
           {
            "marker": {
             "colorbar": {
              "outlinewidth": 1,
              "tickcolor": "rgb(36,36,36)",
              "ticks": "outside"
             }
            },
            "type": "scatterpolargl"
           }
          ],
          "scatterternary": [
           {
            "marker": {
             "colorbar": {
              "outlinewidth": 1,
              "tickcolor": "rgb(36,36,36)",
              "ticks": "outside"
             }
            },
            "type": "scatterternary"
           }
          ],
          "surface": [
           {
            "colorbar": {
             "outlinewidth": 1,
             "tickcolor": "rgb(36,36,36)",
             "ticks": "outside"
            },
            "colorscale": [
             [
              0,
              "#440154"
             ],
             [
              0.1111111111111111,
              "#482878"
             ],
             [
              0.2222222222222222,
              "#3e4989"
             ],
             [
              0.3333333333333333,
              "#31688e"
             ],
             [
              0.4444444444444444,
              "#26828e"
             ],
             [
              0.5555555555555556,
              "#1f9e89"
             ],
             [
              0.6666666666666666,
              "#35b779"
             ],
             [
              0.7777777777777778,
              "#6ece58"
             ],
             [
              0.8888888888888888,
              "#b5de2b"
             ],
             [
              1,
              "#fde725"
             ]
            ],
            "type": "surface"
           }
          ],
          "table": [
           {
            "cells": {
             "fill": {
              "color": "rgb(237,237,237)"
             },
             "line": {
              "color": "white"
             }
            },
            "header": {
             "fill": {
              "color": "rgb(217,217,217)"
             },
             "line": {
              "color": "white"
             }
            },
            "type": "table"
           }
          ]
         },
         "layout": {
          "annotationdefaults": {
           "arrowhead": 0,
           "arrowwidth": 1
          },
          "autotypenumbers": "strict",
          "coloraxis": {
           "colorbar": {
            "outlinewidth": 1,
            "tickcolor": "rgb(36,36,36)",
            "ticks": "outside"
           }
          },
          "colorscale": {
           "diverging": [
            [
             0,
             "rgb(103,0,31)"
            ],
            [
             0.1,
             "rgb(178,24,43)"
            ],
            [
             0.2,
             "rgb(214,96,77)"
            ],
            [
             0.3,
             "rgb(244,165,130)"
            ],
            [
             0.4,
             "rgb(253,219,199)"
            ],
            [
             0.5,
             "rgb(247,247,247)"
            ],
            [
             0.6,
             "rgb(209,229,240)"
            ],
            [
             0.7,
             "rgb(146,197,222)"
            ],
            [
             0.8,
             "rgb(67,147,195)"
            ],
            [
             0.9,
             "rgb(33,102,172)"
            ],
            [
             1,
             "rgb(5,48,97)"
            ]
           ],
           "sequential": [
            [
             0,
             "#440154"
            ],
            [
             0.1111111111111111,
             "#482878"
            ],
            [
             0.2222222222222222,
             "#3e4989"
            ],
            [
             0.3333333333333333,
             "#31688e"
            ],
            [
             0.4444444444444444,
             "#26828e"
            ],
            [
             0.5555555555555556,
             "#1f9e89"
            ],
            [
             0.6666666666666666,
             "#35b779"
            ],
            [
             0.7777777777777778,
             "#6ece58"
            ],
            [
             0.8888888888888888,
             "#b5de2b"
            ],
            [
             1,
             "#fde725"
            ]
           ],
           "sequentialminus": [
            [
             0,
             "#440154"
            ],
            [
             0.1111111111111111,
             "#482878"
            ],
            [
             0.2222222222222222,
             "#3e4989"
            ],
            [
             0.3333333333333333,
             "#31688e"
            ],
            [
             0.4444444444444444,
             "#26828e"
            ],
            [
             0.5555555555555556,
             "#1f9e89"
            ],
            [
             0.6666666666666666,
             "#35b779"
            ],
            [
             0.7777777777777778,
             "#6ece58"
            ],
            [
             0.8888888888888888,
             "#b5de2b"
            ],
            [
             1,
             "#fde725"
            ]
           ]
          },
          "colorway": [
           "#1F77B4",
           "#FF7F0E",
           "#2CA02C",
           "#D62728",
           "#9467BD",
           "#8C564B",
           "#E377C2",
           "#7F7F7F",
           "#BCBD22",
           "#17BECF"
          ],
          "font": {
           "color": "rgb(36,36,36)"
          },
          "geo": {
           "bgcolor": "white",
           "lakecolor": "white",
           "landcolor": "white",
           "showlakes": true,
           "showland": true,
           "subunitcolor": "white"
          },
          "hoverlabel": {
           "align": "left"
          },
          "hovermode": "closest",
          "mapbox": {
           "style": "light"
          },
          "paper_bgcolor": "white",
          "plot_bgcolor": "white",
          "polar": {
           "angularaxis": {
            "gridcolor": "rgb(232,232,232)",
            "linecolor": "rgb(36,36,36)",
            "showgrid": false,
            "showline": true,
            "ticks": "outside"
           },
           "bgcolor": "white",
           "radialaxis": {
            "gridcolor": "rgb(232,232,232)",
            "linecolor": "rgb(36,36,36)",
            "showgrid": false,
            "showline": true,
            "ticks": "outside"
           }
          },
          "scene": {
           "xaxis": {
            "backgroundcolor": "white",
            "gridcolor": "rgb(232,232,232)",
            "gridwidth": 2,
            "linecolor": "rgb(36,36,36)",
            "showbackground": true,
            "showgrid": false,
            "showline": true,
            "ticks": "outside",
            "zeroline": false,
            "zerolinecolor": "rgb(36,36,36)"
           },
           "yaxis": {
            "backgroundcolor": "white",
            "gridcolor": "rgb(232,232,232)",
            "gridwidth": 2,
            "linecolor": "rgb(36,36,36)",
            "showbackground": true,
            "showgrid": false,
            "showline": true,
            "ticks": "outside",
            "zeroline": false,
            "zerolinecolor": "rgb(36,36,36)"
           },
           "zaxis": {
            "backgroundcolor": "white",
            "gridcolor": "rgb(232,232,232)",
            "gridwidth": 2,
            "linecolor": "rgb(36,36,36)",
            "showbackground": true,
            "showgrid": false,
            "showline": true,
            "ticks": "outside",
            "zeroline": false,
            "zerolinecolor": "rgb(36,36,36)"
           }
          },
          "shapedefaults": {
           "fillcolor": "black",
           "line": {
            "width": 0
           },
           "opacity": 0.3
          },
          "ternary": {
           "aaxis": {
            "gridcolor": "rgb(232,232,232)",
            "linecolor": "rgb(36,36,36)",
            "showgrid": false,
            "showline": true,
            "ticks": "outside"
           },
           "baxis": {
            "gridcolor": "rgb(232,232,232)",
            "linecolor": "rgb(36,36,36)",
            "showgrid": false,
            "showline": true,
            "ticks": "outside"
           },
           "bgcolor": "white",
           "caxis": {
            "gridcolor": "rgb(232,232,232)",
            "linecolor": "rgb(36,36,36)",
            "showgrid": false,
            "showline": true,
            "ticks": "outside"
           }
          },
          "title": {
           "x": 0.05
          },
          "xaxis": {
           "automargin": true,
           "gridcolor": "rgb(232,232,232)",
           "linecolor": "rgb(36,36,36)",
           "showgrid": false,
           "showline": true,
           "ticks": "outside",
           "title": {
            "standoff": 15
           },
           "zeroline": false,
           "zerolinecolor": "rgb(36,36,36)"
          },
          "yaxis": {
           "automargin": true,
           "gridcolor": "rgb(232,232,232)",
           "linecolor": "rgb(36,36,36)",
           "showgrid": false,
           "showline": true,
           "ticks": "outside",
           "title": {
            "standoff": 15
           },
           "zeroline": false,
           "zerolinecolor": "rgb(36,36,36)"
          }
         }
        },
        "title": {
         "text": "Actual vs. 'Out-of-Sample' Forecast | value "
        },
        "width": 1000,
        "xaxis": {
         "title": {
          "text": "Time"
         }
        },
        "yaxis": {
         "title": {
          "text": "Values"
         }
        }
       }
      }
     },
     "metadata": {},
     "output_type": "display_data"
    }
   ],
   "source": [
    "ets_dt = exp.create_model('ets')\n",
    "exp.plot_model(plot = 'decomp', \n",
    "               data_kwargs = {'type' : 'multiplicative'},\n",
    "               fig_kwargs = {\"height\":500,\"width\":1000,\"template\": \"simple_white\",\"hoverinfo\":\"none\",\"big_data_threshold\":10})\n",
    "exp.plot_model(estimator = ets_dt, \n",
    "               plot = 'forecast', \n",
    "               data_kwargs = {'fh' : 7},\n",
    "               fig_kwargs = {\"height\":500,\"width\":1000,\"template\": \"simple_white\",\"hoverinfo\":\"none\",\"big_data_threshold\":10})"
   ]
  },
  {
   "cell_type": "code",
   "execution_count": null,
   "metadata": {},
   "outputs": [],
   "source": []
  },
  {
   "cell_type": "code",
   "execution_count": null,
   "metadata": {},
   "outputs": [],
   "source": []
  },
  {
   "cell_type": "code",
   "execution_count": null,
   "metadata": {},
   "outputs": [],
   "source": []
  },
  {
   "cell_type": "code",
   "execution_count": null,
   "metadata": {},
   "outputs": [],
   "source": []
  },
  {
   "cell_type": "code",
   "execution_count": null,
   "metadata": {},
   "outputs": [],
   "source": []
  },
  {
   "cell_type": "markdown",
   "metadata": {},
   "source": [
    "# AUTO-ARIMA"
   ]
  },
  {
   "cell_type": "code",
   "execution_count": null,
   "metadata": {},
   "outputs": [
    {
     "data": {
      "text/html": [
       "<div>\n",
       "<style scoped>\n",
       "    .dataframe tbody tr th:only-of-type {\n",
       "        vertical-align: middle;\n",
       "    }\n",
       "\n",
       "    .dataframe tbody tr th {\n",
       "        vertical-align: top;\n",
       "    }\n",
       "\n",
       "    .dataframe thead th {\n",
       "        text-align: right;\n",
       "    }\n",
       "</style>\n",
       "<table border=\"1\" class=\"dataframe\">\n",
       "  <thead>\n",
       "    <tr style=\"text-align: right;\">\n",
       "      <th></th>\n",
       "      <th>date</th>\n",
       "      <th>value</th>\n",
       "    </tr>\n",
       "  </thead>\n",
       "  <tbody>\n",
       "    <tr>\n",
       "      <th>0</th>\n",
       "      <td>2017-12-31</td>\n",
       "      <td>190.2</td>\n",
       "    </tr>\n",
       "    <tr>\n",
       "      <th>1</th>\n",
       "      <td>2018-12-31</td>\n",
       "      <td>192.9</td>\n",
       "    </tr>\n",
       "    <tr>\n",
       "      <th>2</th>\n",
       "      <td>2019-12-31</td>\n",
       "      <td>194.8</td>\n",
       "    </tr>\n",
       "    <tr>\n",
       "      <th>3</th>\n",
       "      <td>2020-12-31</td>\n",
       "      <td>197.3</td>\n",
       "    </tr>\n",
       "    <tr>\n",
       "      <th>4</th>\n",
       "      <td>2021-12-31</td>\n",
       "      <td>200.8</td>\n",
       "    </tr>\n",
       "  </tbody>\n",
       "</table>\n",
       "</div>"
      ],
      "text/plain": [
       "        date  value\n",
       "0 2017-12-31  190.2\n",
       "1 2018-12-31  192.9\n",
       "2 2019-12-31  194.8\n",
       "3 2020-12-31  197.3\n",
       "4 2021-12-31  200.8"
      ]
     },
     "execution_count": 6,
     "metadata": {},
     "output_type": "execute_result"
    }
   ],
   "source": [
    "df.head()"
   ]
  },
  {
   "cell_type": "code",
   "execution_count": null,
   "metadata": {},
   "outputs": [],
   "source": [
    "train = df.value[:5]\n",
    "test = df.value[5:]"
   ]
  },
  {
   "cell_type": "code",
   "execution_count": null,
   "metadata": {},
   "outputs": [
    {
     "ename": "ValueError",
     "evalue": "Encountered exception in stationarity test ('adf'). This can occur in seasonal settings when a large enough `m` coupled with a large enough `D` difference the training array into too few samples for OLS (input contains 5 samples). Try fitting on a larger training size (raised from LinAlgError: Last 2 dimensions of the array must be square)",
     "output_type": "error",
     "traceback": [
      "\u001b[1;31m---------------------------------------------------------------------------\u001b[0m",
      "\u001b[1;31mLinAlgError\u001b[0m                               Traceback (most recent call last)",
      "File \u001b[1;32m~\\AppData\\Local\\Packages\\PythonSoftwareFoundation.Python.3.10_qbz5n2kfra8p0\\LocalCache\\local-packages\\Python310\\site-packages\\pmdarima\\context_managers.py:33\u001b[0m, in \u001b[0;36mexcept_and_reraise\u001b[1;34m(raise_err, raise_msg, *except_errs)\u001b[0m\n\u001b[0;32m     32\u001b[0m \u001b[38;5;28;01mtry\u001b[39;00m:\n\u001b[1;32m---> 33\u001b[0m     \u001b[38;5;28;01myield\u001b[39;00m\n\u001b[0;32m     34\u001b[0m \u001b[38;5;28;01mexcept\u001b[39;00m except_errs \u001b[38;5;28;01mas\u001b[39;00m e:\n",
      "File \u001b[1;32m~\\AppData\\Local\\Packages\\PythonSoftwareFoundation.Python.3.10_qbz5n2kfra8p0\\LocalCache\\local-packages\\Python310\\site-packages\\pmdarima\\arima\\utils.py:189\u001b[0m, in \u001b[0;36mndiffs\u001b[1;34m(x, alpha, test, max_d, **kwargs)\u001b[0m\n\u001b[0;32m    178\u001b[0m \u001b[38;5;28;01mwith\u001b[39;00m ctx\u001b[38;5;241m.\u001b[39mexcept_and_reraise(\n\u001b[0;32m    179\u001b[0m         np\u001b[38;5;241m.\u001b[39mlinalg\u001b[38;5;241m.\u001b[39mLinAlgError,\n\u001b[0;32m    180\u001b[0m         raise_err\u001b[38;5;241m=\u001b[39m\u001b[38;5;167;01mValueError\u001b[39;00m,\n\u001b[1;32m   (...)\u001b[0m\n\u001b[0;32m    187\u001b[0m ):\n\u001b[0;32m    188\u001b[0m     \u001b[38;5;66;03m# get initial diff\u001b[39;00m\n\u001b[1;32m--> 189\u001b[0m     pval, dodiff \u001b[38;5;241m=\u001b[39m \u001b[43mtestfunc\u001b[49m\u001b[43m(\u001b[49m\u001b[43mx\u001b[49m\u001b[43m)\u001b[49m\n\u001b[0;32m    191\u001b[0m     \u001b[38;5;66;03m# if initially NaN, return 0\u001b[39;00m\n",
      "File \u001b[1;32m~\\AppData\\Local\\Packages\\PythonSoftwareFoundation.Python.3.10_qbz5n2kfra8p0\\LocalCache\\local-packages\\Python310\\site-packages\\pmdarima\\arima\\stationarity.py:338\u001b[0m, in \u001b[0;36mADFTest.should_diff\u001b[1;34m(self, x)\u001b[0m\n\u001b[0;32m    337\u001b[0m \u001b[38;5;66;03m# Compute ordinary least squares\u001b[39;00m\n\u001b[1;32m--> 338\u001b[0m res \u001b[38;5;241m=\u001b[39m \u001b[38;5;28;43mself\u001b[39;49m\u001b[38;5;241;43m.\u001b[39;49m\u001b[43m_ols\u001b[49m\u001b[43m(\u001b[49m\u001b[43mx\u001b[49m\u001b[43m,\u001b[49m\u001b[43m \u001b[49m\u001b[43my\u001b[49m\u001b[43m,\u001b[49m\u001b[43m \u001b[49m\u001b[43mz\u001b[49m\u001b[43m,\u001b[49m\u001b[43m \u001b[49m\u001b[43mk\u001b[49m\u001b[43m)\u001b[49m\n\u001b[0;32m    339\u001b[0m STAT \u001b[38;5;241m=\u001b[39m \u001b[38;5;28mself\u001b[39m\u001b[38;5;241m.\u001b[39m_ols_std_error(res)\n",
      "File \u001b[1;32m~\\AppData\\Local\\Packages\\PythonSoftwareFoundation.Python.3.10_qbz5n2kfra8p0\\LocalCache\\local-packages\\Python310\\site-packages\\pmdarima\\arima\\stationarity.py:296\u001b[0m, in \u001b[0;36mADFTest._ols\u001b[1;34m(x, y, z, k)\u001b[0m\n\u001b[0;32m    292\u001b[0m \u001b[38;5;66;03m# fit the linear regression - this one is a bit strange in that we\u001b[39;00m\n\u001b[0;32m    293\u001b[0m \u001b[38;5;66;03m# are using OLS from statsmodels rather than LR from sklearn. This is\u001b[39;00m\n\u001b[0;32m    294\u001b[0m \u001b[38;5;66;03m# because we need the std errors, and sklearn does not have a way to\u001b[39;00m\n\u001b[0;32m    295\u001b[0m \u001b[38;5;66;03m# store them.\u001b[39;00m\n\u001b[1;32m--> 296\u001b[0m \u001b[38;5;28;01mreturn\u001b[39;00m \u001b[43msm\u001b[49m\u001b[38;5;241;43m.\u001b[39;49m\u001b[43mOLS\u001b[49m\u001b[43m(\u001b[49m\u001b[43myt\u001b[49m\u001b[43m,\u001b[49m\u001b[43m \u001b[49m\u001b[43mX\u001b[49m\u001b[43m,\u001b[49m\u001b[43m \u001b[49m\u001b[43mhasconst\u001b[49m\u001b[38;5;241;43m=\u001b[39;49m\u001b[38;5;28;43;01mTrue\u001b[39;49;00m\u001b[43m)\u001b[49m\u001b[38;5;241;43m.\u001b[39;49m\u001b[43mfit\u001b[49m\u001b[43m(\u001b[49m\u001b[43mmethod\u001b[49m\u001b[38;5;241;43m=\u001b[39;49m\u001b[38;5;124;43m'\u001b[39;49m\u001b[38;5;124;43mqr\u001b[39;49m\u001b[38;5;124;43m'\u001b[39;49m\u001b[43m)\u001b[49m\n",
      "File \u001b[1;32m~\\AppData\\Local\\Packages\\PythonSoftwareFoundation.Python.3.10_qbz5n2kfra8p0\\LocalCache\\local-packages\\Python310\\site-packages\\statsmodels\\regression\\linear_model.py:363\u001b[0m, in \u001b[0;36mRegressionModel.fit\u001b[1;34m(self, method, cov_type, cov_kwds, use_t, **kwargs)\u001b[0m\n\u001b[0;32m    362\u001b[0m     \u001b[38;5;28mself\u001b[39m\u001b[38;5;241m.\u001b[39meffects \u001b[38;5;241m=\u001b[39m effects \u001b[38;5;241m=\u001b[39m np\u001b[38;5;241m.\u001b[39mdot(Q\u001b[38;5;241m.\u001b[39mT, \u001b[38;5;28mself\u001b[39m\u001b[38;5;241m.\u001b[39mwendog)\n\u001b[1;32m--> 363\u001b[0m     beta \u001b[38;5;241m=\u001b[39m \u001b[43mnp\u001b[49m\u001b[38;5;241;43m.\u001b[39;49m\u001b[43mlinalg\u001b[49m\u001b[38;5;241;43m.\u001b[39;49m\u001b[43msolve\u001b[49m\u001b[43m(\u001b[49m\u001b[43mR\u001b[49m\u001b[43m,\u001b[49m\u001b[43m \u001b[49m\u001b[43meffects\u001b[49m\u001b[43m)\u001b[49m\n\u001b[0;32m    364\u001b[0m \u001b[38;5;28;01melse\u001b[39;00m:\n",
      "File \u001b[1;32m<__array_function__ internals>:180\u001b[0m, in \u001b[0;36msolve\u001b[1;34m(*args, **kwargs)\u001b[0m\n",
      "File \u001b[1;32m~\\AppData\\Local\\Packages\\PythonSoftwareFoundation.Python.3.10_qbz5n2kfra8p0\\LocalCache\\local-packages\\Python310\\site-packages\\numpy\\linalg\\linalg.py:387\u001b[0m, in \u001b[0;36msolve\u001b[1;34m(a, b)\u001b[0m\n\u001b[0;32m    386\u001b[0m _assert_stacked_2d(a)\n\u001b[1;32m--> 387\u001b[0m \u001b[43m_assert_stacked_square\u001b[49m\u001b[43m(\u001b[49m\u001b[43ma\u001b[49m\u001b[43m)\u001b[49m\n\u001b[0;32m    388\u001b[0m b, wrap \u001b[38;5;241m=\u001b[39m _makearray(b)\n",
      "File \u001b[1;32m~\\AppData\\Local\\Packages\\PythonSoftwareFoundation.Python.3.10_qbz5n2kfra8p0\\LocalCache\\local-packages\\Python310\\site-packages\\numpy\\linalg\\linalg.py:204\u001b[0m, in \u001b[0;36m_assert_stacked_square\u001b[1;34m(*arrays)\u001b[0m\n\u001b[0;32m    203\u001b[0m \u001b[38;5;28;01mif\u001b[39;00m m \u001b[38;5;241m!=\u001b[39m n:\n\u001b[1;32m--> 204\u001b[0m     \u001b[38;5;28;01mraise\u001b[39;00m LinAlgError(\u001b[38;5;124m'\u001b[39m\u001b[38;5;124mLast 2 dimensions of the array must be square\u001b[39m\u001b[38;5;124m'\u001b[39m)\n",
      "\u001b[1;31mLinAlgError\u001b[0m: Last 2 dimensions of the array must be square",
      "\nDuring handling of the above exception, another exception occurred:\n",
      "\u001b[1;31mValueError\u001b[0m                                Traceback (most recent call last)",
      "Cell \u001b[1;32mIn[16], line 1\u001b[0m\n\u001b[1;32m----> 1\u001b[0m smodel \u001b[38;5;241m=\u001b[39m \u001b[43mpm\u001b[49m\u001b[38;5;241;43m.\u001b[39;49m\u001b[43mauto_arima\u001b[49m\u001b[43m(\u001b[49m\n\u001b[0;32m      2\u001b[0m \u001b[43m    \u001b[49m\u001b[43mtrain\u001b[49m\u001b[43m,\u001b[49m\n\u001b[0;32m      3\u001b[0m \u001b[43m    \u001b[49m\u001b[43mtest\u001b[49m\u001b[38;5;241;43m=\u001b[39;49m\u001b[38;5;124;43m'\u001b[39;49m\u001b[38;5;124;43madf\u001b[39;49m\u001b[38;5;124;43m'\u001b[39;49m\u001b[43m,\u001b[49m\n\u001b[0;32m      4\u001b[0m \u001b[43m    \u001b[49m\u001b[43mstart_p\u001b[49m\u001b[38;5;241;43m=\u001b[39;49m\u001b[38;5;241;43m1\u001b[39;49m\u001b[43m,\u001b[49m\u001b[43m \u001b[49m\u001b[43mstart_q\u001b[49m\u001b[38;5;241;43m=\u001b[39;49m\u001b[38;5;241;43m1\u001b[39;49m\u001b[43m,\u001b[49m\u001b[43m \u001b[49m\u001b[43mstart_P\u001b[49m\u001b[38;5;241;43m=\u001b[39;49m\u001b[38;5;241;43m0\u001b[39;49m\u001b[43m,\u001b[49m\n\u001b[0;32m      5\u001b[0m \u001b[43m    \u001b[49m\u001b[43mmax_p\u001b[49m\u001b[38;5;241;43m=\u001b[39;49m\u001b[38;5;241;43m3\u001b[39;49m\u001b[43m,\u001b[49m\u001b[43m \u001b[49m\u001b[43mmax_q\u001b[49m\u001b[38;5;241;43m=\u001b[39;49m\u001b[38;5;241;43m3\u001b[39;49m\u001b[43m,\u001b[49m\u001b[43m \u001b[49m\u001b[43mm\u001b[49m\u001b[38;5;241;43m=\u001b[39;49m\u001b[38;5;241;43m1\u001b[39;49m\u001b[43m,\u001b[49m\n\u001b[0;32m      6\u001b[0m \u001b[43m    \u001b[49m\u001b[43md\u001b[49m\u001b[38;5;241;43m=\u001b[39;49m\u001b[38;5;28;43;01mNone\u001b[39;49;00m\u001b[43m,\u001b[49m\u001b[43m \u001b[49m\u001b[43mD\u001b[49m\u001b[38;5;241;43m=\u001b[39;49m\u001b[38;5;241;43m1\u001b[39;49m\u001b[43m,\u001b[49m\n\u001b[0;32m      7\u001b[0m \u001b[43m    \u001b[49m\u001b[43mseasonal\u001b[49m\u001b[38;5;241;43m=\u001b[39;49m\u001b[38;5;28;43;01mTrue\u001b[39;49;00m\u001b[43m,\u001b[49m\n\u001b[0;32m      8\u001b[0m \u001b[43m    \u001b[49m\u001b[43minformation_criterion\u001b[49m\u001b[43m \u001b[49m\u001b[38;5;241;43m=\u001b[39;49m\u001b[43m \u001b[49m\u001b[38;5;124;43m'\u001b[39;49m\u001b[38;5;124;43maic\u001b[39;49m\u001b[38;5;124;43m'\u001b[39;49m\u001b[43m,\u001b[49m\n\u001b[0;32m      9\u001b[0m \u001b[43m    \u001b[49m\u001b[43mtrace\u001b[49m\u001b[38;5;241;43m=\u001b[39;49m\u001b[38;5;28;43;01mTrue\u001b[39;49;00m\u001b[43m,\u001b[49m\n\u001b[0;32m     10\u001b[0m \u001b[43m    \u001b[49m\u001b[43merror_action\u001b[49m\u001b[38;5;241;43m=\u001b[39;49m\u001b[38;5;124;43m'\u001b[39;49m\u001b[38;5;124;43mignore\u001b[39;49m\u001b[38;5;124;43m'\u001b[39;49m\u001b[43m,\u001b[49m\u001b[43m \u001b[49m\u001b[43msuppress_warnings\u001b[49m\u001b[38;5;241;43m=\u001b[39;49m\u001b[38;5;28;43;01mTrue\u001b[39;49;00m\u001b[43m,\u001b[49m\n\u001b[0;32m     11\u001b[0m \u001b[43m)\u001b[49m\n\u001b[0;32m     13\u001b[0m smodel\u001b[38;5;241m.\u001b[39msummary()\n",
      "File \u001b[1;32m~\\AppData\\Local\\Packages\\PythonSoftwareFoundation.Python.3.10_qbz5n2kfra8p0\\LocalCache\\local-packages\\Python310\\site-packages\\pmdarima\\arima\\auto.py:547\u001b[0m, in \u001b[0;36mauto_arima\u001b[1;34m(y, X, start_p, d, start_q, max_p, max_d, max_q, start_P, D, start_Q, max_P, max_D, max_Q, max_order, m, seasonal, stationary, information_criterion, alpha, test, seasonal_test, stepwise, n_jobs, start_params, trend, method, maxiter, offset_test_args, seasonal_test_args, suppress_warnings, error_action, trace, random, random_state, n_fits, return_valid_fits, out_of_sample_size, scoring, scoring_args, with_intercept, sarimax_kwargs, **fit_args)\u001b[0m\n\u001b[0;32m    544\u001b[0m \u001b[38;5;66;03m# determine/set the order of differencing by estimating the number of\u001b[39;00m\n\u001b[0;32m    545\u001b[0m \u001b[38;5;66;03m# orders it would take in order to make the TS stationary.\u001b[39;00m\n\u001b[0;32m    546\u001b[0m \u001b[38;5;28;01mif\u001b[39;00m d \u001b[38;5;129;01mis\u001b[39;00m \u001b[38;5;28;01mNone\u001b[39;00m:\n\u001b[1;32m--> 547\u001b[0m     d \u001b[38;5;241m=\u001b[39m ndiffs(\n\u001b[0;32m    548\u001b[0m         dx,\n\u001b[0;32m    549\u001b[0m         test\u001b[38;5;241m=\u001b[39mtest,\n\u001b[0;32m    550\u001b[0m         alpha\u001b[38;5;241m=\u001b[39malpha,\n\u001b[0;32m    551\u001b[0m         max_d\u001b[38;5;241m=\u001b[39mmax_d,\n\u001b[0;32m    552\u001b[0m         \u001b[38;5;241m*\u001b[39m\u001b[38;5;241m*\u001b[39moffset_test_args,\n\u001b[0;32m    553\u001b[0m     )\n\u001b[0;32m    555\u001b[0m     \u001b[38;5;28;01mif\u001b[39;00m d \u001b[38;5;241m>\u001b[39m \u001b[38;5;241m0\u001b[39m \u001b[38;5;129;01mand\u001b[39;00m X \u001b[38;5;129;01mis\u001b[39;00m \u001b[38;5;129;01mnot\u001b[39;00m \u001b[38;5;28;01mNone\u001b[39;00m:\n\u001b[0;32m    556\u001b[0m         diffxreg \u001b[38;5;241m=\u001b[39m diff(diffxreg, differences\u001b[38;5;241m=\u001b[39md, lag\u001b[38;5;241m=\u001b[39m\u001b[38;5;241m1\u001b[39m)\n",
      "File \u001b[1;32m~\\AppData\\Local\\Packages\\PythonSoftwareFoundation.Python.3.10_qbz5n2kfra8p0\\LocalCache\\local-packages\\Python310\\site-packages\\pmdarima\\arima\\utils.py:178\u001b[0m, in \u001b[0;36mndiffs\u001b[1;34m(x, alpha, test, max_d, **kwargs)\u001b[0m\n\u001b[0;32m    175\u001b[0m \u001b[38;5;28;01mif\u001b[39;00m is_constant(x):\n\u001b[0;32m    176\u001b[0m     \u001b[38;5;28;01mreturn\u001b[39;00m d\n\u001b[1;32m--> 178\u001b[0m \u001b[38;5;28;01mwith\u001b[39;00m ctx\u001b[38;5;241m.\u001b[39mexcept_and_reraise(\n\u001b[0;32m    179\u001b[0m         np\u001b[38;5;241m.\u001b[39mlinalg\u001b[38;5;241m.\u001b[39mLinAlgError,\n\u001b[0;32m    180\u001b[0m         raise_err\u001b[38;5;241m=\u001b[39m\u001b[38;5;167;01mValueError\u001b[39;00m,\n\u001b[0;32m    181\u001b[0m         raise_msg\u001b[38;5;241m=\u001b[39m\u001b[38;5;124m\"\u001b[39m\u001b[38;5;124mEncountered exception in stationarity test (\u001b[39m\u001b[38;5;132;01m%r\u001b[39;00m\u001b[38;5;124m). \u001b[39m\u001b[38;5;124m\"\u001b[39m\n\u001b[0;32m    182\u001b[0m                   \u001b[38;5;124m\"\u001b[39m\u001b[38;5;124mThis can occur in seasonal settings when a large \u001b[39m\u001b[38;5;124m\"\u001b[39m\n\u001b[0;32m    183\u001b[0m                   \u001b[38;5;124m\"\u001b[39m\u001b[38;5;124menough `m` coupled with a large enough `D` difference \u001b[39m\u001b[38;5;124m\"\u001b[39m\n\u001b[0;32m    184\u001b[0m                   \u001b[38;5;124m\"\u001b[39m\u001b[38;5;124mthe training array into too few samples for OLS \u001b[39m\u001b[38;5;124m\"\u001b[39m\n\u001b[0;32m    185\u001b[0m                   \u001b[38;5;124m\"\u001b[39m\u001b[38;5;124m(input contains \u001b[39m\u001b[38;5;132;01m%i\u001b[39;00m\u001b[38;5;124m samples). Try fitting on a larger \u001b[39m\u001b[38;5;124m\"\u001b[39m\n\u001b[0;32m    186\u001b[0m                   \u001b[38;5;124m\"\u001b[39m\u001b[38;5;124mtraining size\u001b[39m\u001b[38;5;124m\"\u001b[39m \u001b[38;5;241m%\u001b[39m (test, \u001b[38;5;28mlen\u001b[39m(x)),\n\u001b[0;32m    187\u001b[0m ):\n\u001b[0;32m    188\u001b[0m     \u001b[38;5;66;03m# get initial diff\u001b[39;00m\n\u001b[0;32m    189\u001b[0m     pval, dodiff \u001b[38;5;241m=\u001b[39m testfunc(x)\n\u001b[0;32m    191\u001b[0m     \u001b[38;5;66;03m# if initially NaN, return 0\u001b[39;00m\n",
      "File \u001b[1;32mC:\\Program Files\\WindowsApps\\PythonSoftwareFoundation.Python.3.10_3.10.3056.0_x64__qbz5n2kfra8p0\\lib\\contextlib.py:153\u001b[0m, in \u001b[0;36m_GeneratorContextManager.__exit__\u001b[1;34m(self, typ, value, traceback)\u001b[0m\n\u001b[0;32m    151\u001b[0m     value \u001b[38;5;241m=\u001b[39m typ()\n\u001b[0;32m    152\u001b[0m \u001b[38;5;28;01mtry\u001b[39;00m:\n\u001b[1;32m--> 153\u001b[0m     \u001b[38;5;28;43mself\u001b[39;49m\u001b[38;5;241;43m.\u001b[39;49m\u001b[43mgen\u001b[49m\u001b[38;5;241;43m.\u001b[39;49m\u001b[43mthrow\u001b[49m\u001b[43m(\u001b[49m\u001b[43mtyp\u001b[49m\u001b[43m,\u001b[49m\u001b[43m \u001b[49m\u001b[43mvalue\u001b[49m\u001b[43m,\u001b[49m\u001b[43m \u001b[49m\u001b[43mtraceback\u001b[49m\u001b[43m)\u001b[49m\n\u001b[0;32m    154\u001b[0m \u001b[38;5;28;01mexcept\u001b[39;00m \u001b[38;5;167;01mStopIteration\u001b[39;00m \u001b[38;5;28;01mas\u001b[39;00m exc:\n\u001b[0;32m    155\u001b[0m     \u001b[38;5;66;03m# Suppress StopIteration *unless* it's the same exception that\u001b[39;00m\n\u001b[0;32m    156\u001b[0m     \u001b[38;5;66;03m# was passed to throw().  This prevents a StopIteration\u001b[39;00m\n\u001b[0;32m    157\u001b[0m     \u001b[38;5;66;03m# raised inside the \"with\" statement from being suppressed.\u001b[39;00m\n\u001b[0;32m    158\u001b[0m     \u001b[38;5;28;01mreturn\u001b[39;00m exc \u001b[38;5;129;01mis\u001b[39;00m \u001b[38;5;129;01mnot\u001b[39;00m value\n",
      "File \u001b[1;32m~\\AppData\\Local\\Packages\\PythonSoftwareFoundation.Python.3.10_qbz5n2kfra8p0\\LocalCache\\local-packages\\Python310\\site-packages\\pmdarima\\context_managers.py:39\u001b[0m, in \u001b[0;36mexcept_and_reraise\u001b[1;34m(raise_err, raise_msg, *except_errs)\u001b[0m\n\u001b[0;32m     34\u001b[0m \u001b[38;5;28;01mexcept\u001b[39;00m except_errs \u001b[38;5;28;01mas\u001b[39;00m e:\n\u001b[0;32m     35\u001b[0m     message \u001b[38;5;241m=\u001b[39m \u001b[38;5;124m\"\u001b[39m\u001b[38;5;132;01m%s\u001b[39;00m\u001b[38;5;124m (raised from \u001b[39m\u001b[38;5;132;01m%s\u001b[39;00m\u001b[38;5;124m: \u001b[39m\u001b[38;5;132;01m%s\u001b[39;00m\u001b[38;5;124m)\u001b[39m\u001b[38;5;124m\"\u001b[39m \\\n\u001b[0;32m     36\u001b[0m               \u001b[38;5;241m%\u001b[39m (raise_msg,\n\u001b[0;32m     37\u001b[0m                  e\u001b[38;5;241m.\u001b[39m\u001b[38;5;18m__class__\u001b[39m\u001b[38;5;241m.\u001b[39m\u001b[38;5;18m__name__\u001b[39m,\n\u001b[0;32m     38\u001b[0m                  \u001b[38;5;28mstr\u001b[39m(e))\n\u001b[1;32m---> 39\u001b[0m     \u001b[38;5;28;01mraise\u001b[39;00m raise_err(message)\n",
      "\u001b[1;31mValueError\u001b[0m: Encountered exception in stationarity test ('adf'). This can occur in seasonal settings when a large enough `m` coupled with a large enough `D` difference the training array into too few samples for OLS (input contains 5 samples). Try fitting on a larger training size (raised from LinAlgError: Last 2 dimensions of the array must be square)"
     ]
    }
   ],
   "source": [
    "smodel = pm.auto_arima(\n",
    "    train,\n",
    "    test='adf',\n",
    "    start_p=1, start_q=1, start_P=0,\n",
    "    max_p=3, max_q=3, m=12,\n",
    "    d=None, D=1,\n",
    "    seasonal=True,\n",
    "    information_criterion = 'aic',\n",
    "    trace=True,\n",
    "    error_action='ignore', suppress_warnings=True,\n",
    ")\n",
    "\n",
    "smodel.summary()"
   ]
  },
  {
   "cell_type": "code",
   "execution_count": null,
   "metadata": {},
   "outputs": [],
   "source": [
    "#fit the auto SARIMA model (0,1,2)(0,1,1)[12] on the training set\n",
    "auto_sarima = sm.tsa.statespace.SARIMAX(train,\n",
    "                                               order=(0, 1, 2),\n",
    "                                               seasonal_order=(0, 1, 1, 12),\n",
    "                                               enforce_stationarity=False,\n",
    "                                               enforce_invertibility=False)\n",
    "results_auto_sarima = auto_sarima.fit()\n",
    "\n",
    "#fit the plot based SARIMA model (1,1,1)(0,1,1)[12] on the training set\n",
    "plot_sarima = sm.tsa.statespace.SARIMAX(train,\n",
    "                                               order=(1, 1, 1),\n",
    "                                               seasonal_order=(0, 1, 1, 12),\n",
    "                                               enforce_stationarity=False,\n",
    "                                               enforce_invertibility=False)\n",
    "results_plot_sarima = plot_sarima.fit()\n",
    "\n",
    "#forecast on the test set\n",
    "forecast_auto = results_auto_sarima.get_forecast(steps=len(test))\n",
    "forecast_plot = results_plot_sarima.get_forecast(steps=len(test))\n",
    "\n",
    "#get the forecasted values\n",
    "forecast_auto_values = forecast_auto.predicted_mean\n",
    "forecast_plot_values = forecast_plot.predicted_mean\n",
    "\n",
    "#calculate the error metrics for both models\n",
    "mse_auto = mean_squared_error(test, forecast_auto_values)\n",
    "rmse_auto = sqrt(mse_auto)\n",
    "\n",
    "mse_plot = mean_squared_error(test, forecast_plot_values)\n",
    "rmse_plot = sqrt(mse_plot)\n",
    "\n",
    "#print the results\n",
    "print(f\"SARIMA(0,1,2)(0,1,1)[12] - MSE: {mse_auto}, RMSE: {rmse_auto}\")\n",
    "print(f\"SARIMA(1,1,1)(0,1,1)[12] - MSE: {mse_plot}, RMSE: {rmse_plot}\")\n",
    "\n",
    "#decide which model is better based on lower MSE and RMSE\n",
    "better_model = 'SARIMA(0,1,2)(0,1,1)[12] auto_sarima' if mse_auto < mse_plot else 'SARIMA(1,1,1)(0,1,1)[12] plot sarima'\n",
    "print(f\"The better model based on MSE is: {better_model}\")\n",
    "better_model = 'SARIMA(0,1,2)(0,1,1)[12] auto_sarima' if rmse_auto < rmse_plot else 'SARIMA(1,1,1)(0,1,1)[12] plot sarima'\n",
    "print(f\"The better model based on RMSE is: {better_model}\")\n"
   ]
  },
  {
   "cell_type": "markdown",
   "metadata": {},
   "source": [
    "## IMPORT Pycaret\n"
   ]
  },
  {
   "cell_type": "code",
   "execution_count": null,
   "metadata": {},
   "outputs": [],
   "source": [
    "from pycaret.regression import *"
   ]
  },
  {
   "cell_type": "markdown",
   "metadata": {},
   "source": [
    "\n",
    "Setting up the model is extremely easy"
   ]
  },
  {
   "cell_type": "code",
   "execution_count": null,
   "metadata": {},
   "outputs": [
    {
     "ename": "NameError",
     "evalue": "name 'train' is not defined",
     "output_type": "error",
     "traceback": [
      "\u001b[1;31m---------------------------------------------------------------------------\u001b[0m",
      "\u001b[1;31mNameError\u001b[0m                                 Traceback (most recent call last)",
      "Cell \u001b[1;32mIn[5], line 1\u001b[0m\n\u001b[1;32m----> 1\u001b[0m reg \u001b[38;5;241m=\u001b[39m setup(data \u001b[38;5;241m=\u001b[39m \u001b[43mtrain\u001b[49m, \n\u001b[0;32m      2\u001b[0m              target \u001b[38;5;241m=\u001b[39m \u001b[38;5;124m'\u001b[39m\u001b[38;5;124mvalue\u001b[39m\u001b[38;5;124m'\u001b[39m,\n\u001b[0;32m      3\u001b[0m              numeric_imputation \u001b[38;5;241m=\u001b[39m \u001b[38;5;124m'\u001b[39m\u001b[38;5;124mmean\u001b[39m\u001b[38;5;124m'\u001b[39m,\n\u001b[0;32m      4\u001b[0m              categorical_features \u001b[38;5;241m=\u001b[39m [\u001b[38;5;124m'\u001b[39m\u001b[38;5;124myear\u001b[39m\u001b[38;5;124m'\u001b[39m]  , \n\u001b[0;32m      5\u001b[0m             transformation \u001b[38;5;241m=\u001b[39m \u001b[38;5;28;01mTrue\u001b[39;00m, transform_target \u001b[38;5;241m=\u001b[39m \u001b[38;5;28;01mTrue\u001b[39;00m, \n\u001b[0;32m      6\u001b[0m                   combine_rare_levels \u001b[38;5;241m=\u001b[39m \u001b[38;5;28;01mTrue\u001b[39;00m, rare_level_threshold \u001b[38;5;241m=\u001b[39m \u001b[38;5;241m0.1\u001b[39m,\n\u001b[0;32m      7\u001b[0m                   remove_multicollinearity \u001b[38;5;241m=\u001b[39m \u001b[38;5;28;01mTrue\u001b[39;00m, multicollinearity_threshold \u001b[38;5;241m=\u001b[39m \u001b[38;5;241m0.95\u001b[39m, \n\u001b[0;32m      8\u001b[0m              silent \u001b[38;5;241m=\u001b[39m \u001b[38;5;28;01mTrue\u001b[39;00m)\n",
      "\u001b[1;31mNameError\u001b[0m: name 'train' is not defined"
     ]
    }
   ],
   "source": [
    "\n",
    "reg = setup(data = train, \n",
    "             target = 'value',\n",
    "             numeric_imputation = 'mean',\n",
    "             categorical_features = ['year']  , \n",
    "            transformation = True, transform_target = True, \n",
    "                  combine_rare_levels = True, rare_level_threshold = 0.1,\n",
    "                  remove_multicollinearity = True, multicollinearity_threshold = 0.95, \n",
    "             silent = True)"
   ]
  },
  {
   "cell_type": "markdown",
   "metadata": {},
   "source": [
    "As a data scientist, I can't emphasize more on the usefulness of the function below - instead of pulling every single model, we just need one line to compare 20 different models! This is insane!"
   ]
  },
  {
   "cell_type": "code",
   "execution_count": null,
   "metadata": {},
   "outputs": [],
   "source": [
    "\n",
    "# returns best models - takes a little time to run\n",
    "top3 = compare_models(n_select = 3)"
   ]
  },
  {
   "cell_type": "markdown",
   "metadata": {},
   "source": [
    "## Creating baseline model"
   ]
  },
  {
   "cell_type": "code",
   "execution_count": null,
   "metadata": {},
   "outputs": [],
   "source": [
    "#we create a model using light gbm\n",
    "lightgbm = create_model('lightgbm')"
   ]
  },
  {
   "cell_type": "code",
   "execution_count": null,
   "metadata": {},
   "outputs": [],
   "source": [
    "tuned_lightgbm = tune_model(lightgbm) "
   ]
  },
  {
   "cell_type": "code",
   "execution_count": null,
   "metadata": {},
   "outputs": [],
   "source": [
    "plot_model(lightgbm, plot = 'error')"
   ]
  },
  {
   "cell_type": "code",
   "execution_count": null,
   "metadata": {},
   "outputs": [],
   "source": [
    "\n",
    "plot_model(tuned_lightgbm, plot='feature') # looks like COVID-19 has played a huge role in sales"
   ]
  },
  {
   "cell_type": "code",
   "execution_count": null,
   "metadata": {},
   "outputs": [],
   "source": [
    "predict_model(tuned_lightgbm);"
   ]
  },
  {
   "cell_type": "code",
   "execution_count": null,
   "metadata": {},
   "outputs": [],
   "source": [
    "final_lightgbm = finalize_model(tuned_lightgbm)"
   ]
  }
 ],
 "metadata": {
  "kernelspec": {
   "display_name": "Python 3",
   "language": "python",
   "name": "python3"
  },
  "language_info": {
   "codemirror_mode": {
    "name": "ipython",
    "version": 3
   },
   "file_extension": ".py",
   "mimetype": "text/x-python",
   "name": "python",
   "nbconvert_exporter": "python",
   "pygments_lexer": "ipython3",
   "version": "3.10.11"
  }
 },
 "nbformat": 4,
 "nbformat_minor": 2
}
