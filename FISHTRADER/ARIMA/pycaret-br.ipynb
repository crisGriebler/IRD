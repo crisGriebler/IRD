{
 "cells": [
  {
   "cell_type": "markdown",
   "metadata": {},
   "source": []
  },
  {
   "cell_type": "code",
   "execution_count": 1,
   "metadata": {},
   "outputs": [],
   "source": [
    "#importing necessary packages\n",
    "\n",
    "import numpy as np\n",
    "import matplotlib.pyplot as plt\n",
    "import pandas as pd\n",
    "import numpy as np\n",
    "from datetime import datetime\n",
    "import statsmodels.api as sm\n",
    "import numpy as np \n",
    "import xgboost as xgb\n",
    "from sklearn.metrics import mean_squared_error, mean_absolute_error\n",
    "import imageio\n",
    "import os\n",
    "from statsmodels.graphics.tsaplots import plot_acf\n",
    "import statsmodels.api as sm\n",
    "from sklearn.model_selection import TimeSeriesSplit\n",
    "from pycaret.time_series import TSForecastingExperiment\n",
    "import pmdarima as pm\n"
   ]
  },
  {
   "cell_type": "code",
   "execution_count": 2,
   "metadata": {},
   "outputs": [
    {
     "name": "stdout",
     "output_type": "stream",
     "text": [
      "        date   value    liter\n",
      "0 2017-12-31  255.06   412770\n",
      "1 2018-12-31  259.33   720236\n",
      "2 2019-12-31  266.04  1330163\n",
      "3 2020-12-31  267.16  2430153\n",
      "4 2021-12-31  264.94  3296386\n",
      "5 2022-12-31  291.40  4141401\n",
      "6 2023-12-31  301.80  4419242\n"
     ]
    }
   ],
   "source": [
    "#função para tratar campo data\n",
    "def parser(x):\n",
    "    return pd.datetime.strptime('190'+x, '%Y-%m')\n",
    "\n",
    "#Agora vamos importar nosso arquivo \n",
    "df = pd.read_excel('db_br.xlsx', sheet_name='Sheet1')\n",
    "print(df.head(10))"
   ]
  },
  {
   "cell_type": "code",
   "execution_count": 3,
   "metadata": {},
   "outputs": [
    {
     "name": "stdout",
     "output_type": "stream",
     "text": [
      "<class 'pandas.core.frame.DataFrame'>\n",
      "RangeIndex: 7 entries, 0 to 6\n",
      "Data columns (total 3 columns):\n",
      " #   Column  Non-Null Count  Dtype         \n",
      "---  ------  --------------  -----         \n",
      " 0   date    7 non-null      datetime64[ns]\n",
      " 1   value   7 non-null      float64       \n",
      " 2   liter   7 non-null      int64         \n",
      "dtypes: datetime64[ns](1), float64(1), int64(1)\n",
      "memory usage: 296.0 bytes\n"
     ]
    }
   ],
   "source": [
    "df.info()"
   ]
  },
  {
   "cell_type": "code",
   "execution_count": 4,
   "metadata": {},
   "outputs": [],
   "source": [
    "df.drop(['liter'], axis = 1,inplace=True)"
   ]
  },
  {
   "cell_type": "code",
   "execution_count": 5,
   "metadata": {},
   "outputs": [],
   "source": [
    "df.set_index('date',inplace=True)"
   ]
  },
  {
   "cell_type": "code",
   "execution_count": 6,
   "metadata": {},
   "outputs": [
    {
     "name": "stdout",
     "output_type": "stream",
     "text": [
      "             value\n",
      "date              \n",
      "2017-12-31  255.06\n",
      "2018-12-31  259.33\n",
      "2019-12-31  266.04\n",
      "2020-12-31  267.16\n",
      "2021-12-31  264.94\n",
      "2022-12-31  291.40\n",
      "2023-12-31  301.80\n"
     ]
    }
   ],
   "source": [
    "df=df.sort_index(axis=0)\n",
    "print(df.head(10))"
   ]
  },
  {
   "cell_type": "markdown",
   "metadata": {},
   "source": [
    "fh: Optional[int or list or np.array], default = 1\n",
    "\n",
    "The forecast horizon to be used for forecasting. Default is set to 1 i.e. forecast one point ahead. \n",
    "\n",
    "When integer is passed it means N continuous points in the future without any gap. \n",
    "\n",
    "If you want to forecast values with gaps, you must pass an array e.g. np.arange([13, 25]) will skip the first 12 future points and forecast from the 13th point till the 24th point ahead (note in numpy right value is inclusive and left is exclusive)."
   ]
  },
  {
   "cell_type": "code",
   "execution_count": 7,
   "metadata": {},
   "outputs": [
    {
     "data": {
      "text/html": [
       "<style type=\"text/css\">\n",
       "#T_b42ea_row28_col1 {\n",
       "  background-color: lightgreen;\n",
       "}\n",
       "</style>\n",
       "<table id=\"T_b42ea\">\n",
       "  <thead>\n",
       "    <tr>\n",
       "      <th class=\"blank level0\" >&nbsp;</th>\n",
       "      <th id=\"T_b42ea_level0_col0\" class=\"col_heading level0 col0\" >Description</th>\n",
       "      <th id=\"T_b42ea_level0_col1\" class=\"col_heading level0 col1\" >Value</th>\n",
       "    </tr>\n",
       "  </thead>\n",
       "  <tbody>\n",
       "    <tr>\n",
       "      <th id=\"T_b42ea_level0_row0\" class=\"row_heading level0 row0\" >0</th>\n",
       "      <td id=\"T_b42ea_row0_col0\" class=\"data row0 col0\" >session_id</td>\n",
       "      <td id=\"T_b42ea_row0_col1\" class=\"data row0 col1\" >42</td>\n",
       "    </tr>\n",
       "    <tr>\n",
       "      <th id=\"T_b42ea_level0_row1\" class=\"row_heading level0 row1\" >1</th>\n",
       "      <td id=\"T_b42ea_row1_col0\" class=\"data row1 col0\" >Target</td>\n",
       "      <td id=\"T_b42ea_row1_col1\" class=\"data row1 col1\" >value</td>\n",
       "    </tr>\n",
       "    <tr>\n",
       "      <th id=\"T_b42ea_level0_row2\" class=\"row_heading level0 row2\" >2</th>\n",
       "      <td id=\"T_b42ea_row2_col0\" class=\"data row2 col0\" >Approach</td>\n",
       "      <td id=\"T_b42ea_row2_col1\" class=\"data row2 col1\" >Univariate</td>\n",
       "    </tr>\n",
       "    <tr>\n",
       "      <th id=\"T_b42ea_level0_row3\" class=\"row_heading level0 row3\" >3</th>\n",
       "      <td id=\"T_b42ea_row3_col0\" class=\"data row3 col0\" >Exogenous Variables</td>\n",
       "      <td id=\"T_b42ea_row3_col1\" class=\"data row3 col1\" >Not Present</td>\n",
       "    </tr>\n",
       "    <tr>\n",
       "      <th id=\"T_b42ea_level0_row4\" class=\"row_heading level0 row4\" >4</th>\n",
       "      <td id=\"T_b42ea_row4_col0\" class=\"data row4 col0\" >Original data shape</td>\n",
       "      <td id=\"T_b42ea_row4_col1\" class=\"data row4 col1\" >(7, 1)</td>\n",
       "    </tr>\n",
       "    <tr>\n",
       "      <th id=\"T_b42ea_level0_row5\" class=\"row_heading level0 row5\" >5</th>\n",
       "      <td id=\"T_b42ea_row5_col0\" class=\"data row5 col0\" >Transformed data shape</td>\n",
       "      <td id=\"T_b42ea_row5_col1\" class=\"data row5 col1\" >(7, 1)</td>\n",
       "    </tr>\n",
       "    <tr>\n",
       "      <th id=\"T_b42ea_level0_row6\" class=\"row_heading level0 row6\" >6</th>\n",
       "      <td id=\"T_b42ea_row6_col0\" class=\"data row6 col0\" >Transformed train set shape</td>\n",
       "      <td id=\"T_b42ea_row6_col1\" class=\"data row6 col1\" >(6, 1)</td>\n",
       "    </tr>\n",
       "    <tr>\n",
       "      <th id=\"T_b42ea_level0_row7\" class=\"row_heading level0 row7\" >7</th>\n",
       "      <td id=\"T_b42ea_row7_col0\" class=\"data row7 col0\" >Transformed test set shape</td>\n",
       "      <td id=\"T_b42ea_row7_col1\" class=\"data row7 col1\" >(1, 1)</td>\n",
       "    </tr>\n",
       "    <tr>\n",
       "      <th id=\"T_b42ea_level0_row8\" class=\"row_heading level0 row8\" >8</th>\n",
       "      <td id=\"T_b42ea_row8_col0\" class=\"data row8 col0\" >Rows with missing values</td>\n",
       "      <td id=\"T_b42ea_row8_col1\" class=\"data row8 col1\" >0.0%</td>\n",
       "    </tr>\n",
       "    <tr>\n",
       "      <th id=\"T_b42ea_level0_row9\" class=\"row_heading level0 row9\" >9</th>\n",
       "      <td id=\"T_b42ea_row9_col0\" class=\"data row9 col0\" >Fold Generator</td>\n",
       "      <td id=\"T_b42ea_row9_col1\" class=\"data row9 col1\" >ExpandingWindowSplitter</td>\n",
       "    </tr>\n",
       "    <tr>\n",
       "      <th id=\"T_b42ea_level0_row10\" class=\"row_heading level0 row10\" >10</th>\n",
       "      <td id=\"T_b42ea_row10_col0\" class=\"data row10 col0\" >Fold Number</td>\n",
       "      <td id=\"T_b42ea_row10_col1\" class=\"data row10 col1\" >3</td>\n",
       "    </tr>\n",
       "    <tr>\n",
       "      <th id=\"T_b42ea_level0_row11\" class=\"row_heading level0 row11\" >11</th>\n",
       "      <td id=\"T_b42ea_row11_col0\" class=\"data row11 col0\" >Enforce Prediction Interval</td>\n",
       "      <td id=\"T_b42ea_row11_col1\" class=\"data row11 col1\" >False</td>\n",
       "    </tr>\n",
       "    <tr>\n",
       "      <th id=\"T_b42ea_level0_row12\" class=\"row_heading level0 row12\" >12</th>\n",
       "      <td id=\"T_b42ea_row12_col0\" class=\"data row12 col0\" >Splits used for hyperparameters</td>\n",
       "      <td id=\"T_b42ea_row12_col1\" class=\"data row12 col1\" >all</td>\n",
       "    </tr>\n",
       "    <tr>\n",
       "      <th id=\"T_b42ea_level0_row13\" class=\"row_heading level0 row13\" >13</th>\n",
       "      <td id=\"T_b42ea_row13_col0\" class=\"data row13 col0\" >User Defined Seasonal Period(s)</td>\n",
       "      <td id=\"T_b42ea_row13_col1\" class=\"data row13 col1\" >None</td>\n",
       "    </tr>\n",
       "    <tr>\n",
       "      <th id=\"T_b42ea_level0_row14\" class=\"row_heading level0 row14\" >14</th>\n",
       "      <td id=\"T_b42ea_row14_col0\" class=\"data row14 col0\" >Ignore Seasonality Test</td>\n",
       "      <td id=\"T_b42ea_row14_col1\" class=\"data row14 col1\" >False</td>\n",
       "    </tr>\n",
       "    <tr>\n",
       "      <th id=\"T_b42ea_level0_row15\" class=\"row_heading level0 row15\" >15</th>\n",
       "      <td id=\"T_b42ea_row15_col0\" class=\"data row15 col0\" >Seasonality Detection Algo</td>\n",
       "      <td id=\"T_b42ea_row15_col1\" class=\"data row15 col1\" >auto</td>\n",
       "    </tr>\n",
       "    <tr>\n",
       "      <th id=\"T_b42ea_level0_row16\" class=\"row_heading level0 row16\" >16</th>\n",
       "      <td id=\"T_b42ea_row16_col0\" class=\"data row16 col0\" >Max Period to Consider</td>\n",
       "      <td id=\"T_b42ea_row16_col1\" class=\"data row16 col1\" >60</td>\n",
       "    </tr>\n",
       "    <tr>\n",
       "      <th id=\"T_b42ea_level0_row17\" class=\"row_heading level0 row17\" >17</th>\n",
       "      <td id=\"T_b42ea_row17_col0\" class=\"data row17 col0\" >Seasonal Period(s) Tested</td>\n",
       "      <td id=\"T_b42ea_row17_col1\" class=\"data row17 col1\" >[]</td>\n",
       "    </tr>\n",
       "    <tr>\n",
       "      <th id=\"T_b42ea_level0_row18\" class=\"row_heading level0 row18\" >18</th>\n",
       "      <td id=\"T_b42ea_row18_col0\" class=\"data row18 col0\" >Significant Seasonal Period(s)</td>\n",
       "      <td id=\"T_b42ea_row18_col1\" class=\"data row18 col1\" >[1]</td>\n",
       "    </tr>\n",
       "    <tr>\n",
       "      <th id=\"T_b42ea_level0_row19\" class=\"row_heading level0 row19\" >19</th>\n",
       "      <td id=\"T_b42ea_row19_col0\" class=\"data row19 col0\" >Significant Seasonal Period(s) without Harmonics</td>\n",
       "      <td id=\"T_b42ea_row19_col1\" class=\"data row19 col1\" >[1]</td>\n",
       "    </tr>\n",
       "    <tr>\n",
       "      <th id=\"T_b42ea_level0_row20\" class=\"row_heading level0 row20\" >20</th>\n",
       "      <td id=\"T_b42ea_row20_col0\" class=\"data row20 col0\" >Remove Harmonics</td>\n",
       "      <td id=\"T_b42ea_row20_col1\" class=\"data row20 col1\" >False</td>\n",
       "    </tr>\n",
       "    <tr>\n",
       "      <th id=\"T_b42ea_level0_row21\" class=\"row_heading level0 row21\" >21</th>\n",
       "      <td id=\"T_b42ea_row21_col0\" class=\"data row21 col0\" >Harmonics Order Method</td>\n",
       "      <td id=\"T_b42ea_row21_col1\" class=\"data row21 col1\" >harmonic_max</td>\n",
       "    </tr>\n",
       "    <tr>\n",
       "      <th id=\"T_b42ea_level0_row22\" class=\"row_heading level0 row22\" >22</th>\n",
       "      <td id=\"T_b42ea_row22_col0\" class=\"data row22 col0\" >Num Seasonalities to Use</td>\n",
       "      <td id=\"T_b42ea_row22_col1\" class=\"data row22 col1\" >1</td>\n",
       "    </tr>\n",
       "    <tr>\n",
       "      <th id=\"T_b42ea_level0_row23\" class=\"row_heading level0 row23\" >23</th>\n",
       "      <td id=\"T_b42ea_row23_col0\" class=\"data row23 col0\" >All Seasonalities to Use</td>\n",
       "      <td id=\"T_b42ea_row23_col1\" class=\"data row23 col1\" >[1]</td>\n",
       "    </tr>\n",
       "    <tr>\n",
       "      <th id=\"T_b42ea_level0_row24\" class=\"row_heading level0 row24\" >24</th>\n",
       "      <td id=\"T_b42ea_row24_col0\" class=\"data row24 col0\" >Primary Seasonality</td>\n",
       "      <td id=\"T_b42ea_row24_col1\" class=\"data row24 col1\" >1</td>\n",
       "    </tr>\n",
       "    <tr>\n",
       "      <th id=\"T_b42ea_level0_row25\" class=\"row_heading level0 row25\" >25</th>\n",
       "      <td id=\"T_b42ea_row25_col0\" class=\"data row25 col0\" >Seasonality Present</td>\n",
       "      <td id=\"T_b42ea_row25_col1\" class=\"data row25 col1\" >False</td>\n",
       "    </tr>\n",
       "    <tr>\n",
       "      <th id=\"T_b42ea_level0_row26\" class=\"row_heading level0 row26\" >26</th>\n",
       "      <td id=\"T_b42ea_row26_col0\" class=\"data row26 col0\" >Seasonality Type</td>\n",
       "      <td id=\"T_b42ea_row26_col1\" class=\"data row26 col1\" >None</td>\n",
       "    </tr>\n",
       "    <tr>\n",
       "      <th id=\"T_b42ea_level0_row27\" class=\"row_heading level0 row27\" >27</th>\n",
       "      <td id=\"T_b42ea_row27_col0\" class=\"data row27 col0\" >Target Strictly Positive</td>\n",
       "      <td id=\"T_b42ea_row27_col1\" class=\"data row27 col1\" >True</td>\n",
       "    </tr>\n",
       "    <tr>\n",
       "      <th id=\"T_b42ea_level0_row28\" class=\"row_heading level0 row28\" >28</th>\n",
       "      <td id=\"T_b42ea_row28_col0\" class=\"data row28 col0\" >Target White Noise</td>\n",
       "      <td id=\"T_b42ea_row28_col1\" class=\"data row28 col1\" >Yes</td>\n",
       "    </tr>\n",
       "    <tr>\n",
       "      <th id=\"T_b42ea_level0_row29\" class=\"row_heading level0 row29\" >29</th>\n",
       "      <td id=\"T_b42ea_row29_col0\" class=\"data row29 col0\" >Recommended d</td>\n",
       "      <td id=\"T_b42ea_row29_col1\" class=\"data row29 col1\" >0</td>\n",
       "    </tr>\n",
       "    <tr>\n",
       "      <th id=\"T_b42ea_level0_row30\" class=\"row_heading level0 row30\" >30</th>\n",
       "      <td id=\"T_b42ea_row30_col0\" class=\"data row30 col0\" >Recommended Seasonal D</td>\n",
       "      <td id=\"T_b42ea_row30_col1\" class=\"data row30 col1\" >0</td>\n",
       "    </tr>\n",
       "    <tr>\n",
       "      <th id=\"T_b42ea_level0_row31\" class=\"row_heading level0 row31\" >31</th>\n",
       "      <td id=\"T_b42ea_row31_col0\" class=\"data row31 col0\" >Preprocess</td>\n",
       "      <td id=\"T_b42ea_row31_col1\" class=\"data row31 col1\" >False</td>\n",
       "    </tr>\n",
       "    <tr>\n",
       "      <th id=\"T_b42ea_level0_row32\" class=\"row_heading level0 row32\" >32</th>\n",
       "      <td id=\"T_b42ea_row32_col0\" class=\"data row32 col0\" >CPU Jobs</td>\n",
       "      <td id=\"T_b42ea_row32_col1\" class=\"data row32 col1\" >-1</td>\n",
       "    </tr>\n",
       "    <tr>\n",
       "      <th id=\"T_b42ea_level0_row33\" class=\"row_heading level0 row33\" >33</th>\n",
       "      <td id=\"T_b42ea_row33_col0\" class=\"data row33 col0\" >Use GPU</td>\n",
       "      <td id=\"T_b42ea_row33_col1\" class=\"data row33 col1\" >False</td>\n",
       "    </tr>\n",
       "    <tr>\n",
       "      <th id=\"T_b42ea_level0_row34\" class=\"row_heading level0 row34\" >34</th>\n",
       "      <td id=\"T_b42ea_row34_col0\" class=\"data row34 col0\" >Log Experiment</td>\n",
       "      <td id=\"T_b42ea_row34_col1\" class=\"data row34 col1\" >False</td>\n",
       "    </tr>\n",
       "    <tr>\n",
       "      <th id=\"T_b42ea_level0_row35\" class=\"row_heading level0 row35\" >35</th>\n",
       "      <td id=\"T_b42ea_row35_col0\" class=\"data row35 col0\" >Experiment Name</td>\n",
       "      <td id=\"T_b42ea_row35_col1\" class=\"data row35 col1\" >ts-default-name</td>\n",
       "    </tr>\n",
       "    <tr>\n",
       "      <th id=\"T_b42ea_level0_row36\" class=\"row_heading level0 row36\" >36</th>\n",
       "      <td id=\"T_b42ea_row36_col0\" class=\"data row36 col0\" >USI</td>\n",
       "      <td id=\"T_b42ea_row36_col1\" class=\"data row36 col1\" >1642</td>\n",
       "    </tr>\n",
       "  </tbody>\n",
       "</table>\n"
      ],
      "text/plain": [
       "<pandas.io.formats.style.Styler at 0x189a7f17a90>"
      ]
     },
     "metadata": {},
     "output_type": "display_data"
    },
    {
     "data": {
      "text/plain": [
       "<pycaret.time_series.forecasting.oop.TSForecastingExperiment at 0x189a7503eb0>"
      ]
     },
     "execution_count": 7,
     "metadata": {},
     "output_type": "execute_result"
    }
   ],
   "source": [
    "exp = TSForecastingExperiment()\n",
    "exp.setup(data=df, fh=1, session_id=42, fig_kwargs = {\"template\": \"simple_white\",\"hoverinfo\":\"none\"})"
   ]
  },
  {
   "cell_type": "code",
   "execution_count": 8,
   "metadata": {},
   "outputs": [
    {
     "data": {
      "application/vnd.plotly.v1+json": {
       "config": {
        "plotlyServerURL": "https://plot.ly"
       },
       "data": [
        {
         "hoverinfo": "none",
         "line": {
          "width": 2
         },
         "marker": {
          "size": 5
         },
         "mode": "lines+markers",
         "name": "value (original)",
         "type": "scattergl",
         "x": [
          "2017-01-01T00:00:00",
          "2018-01-01T00:00:00",
          "2019-01-01T00:00:00",
          "2020-01-01T00:00:00",
          "2021-01-01T00:00:00",
          "2022-01-01T00:00:00",
          "2023-01-01T00:00:00"
         ],
         "xaxis": "x",
         "y": [
          255.06,
          259.33,
          266.04,
          267.16,
          264.94,
          291.4,
          301.8
         ],
         "yaxis": "y"
        }
       ],
       "layout": {
        "annotations": [
         {
          "font": {
           "size": 16
          },
          "showarrow": false,
          "text": "value",
          "x": 0.5,
          "xanchor": "center",
          "xref": "paper",
          "y": 1,
          "yanchor": "bottom",
          "yref": "paper"
         }
        ],
        "autosize": false,
        "height": 500,
        "showlegend": true,
        "template": {
         "data": {
          "bar": [
           {
            "error_x": {
             "color": "rgb(36,36,36)"
            },
            "error_y": {
             "color": "rgb(36,36,36)"
            },
            "marker": {
             "line": {
              "color": "white",
              "width": 0.5
             },
             "pattern": {
              "fillmode": "overlay",
              "size": 10,
              "solidity": 0.2
             }
            },
            "type": "bar"
           }
          ],
          "barpolar": [
           {
            "marker": {
             "line": {
              "color": "white",
              "width": 0.5
             },
             "pattern": {
              "fillmode": "overlay",
              "size": 10,
              "solidity": 0.2
             }
            },
            "type": "barpolar"
           }
          ],
          "carpet": [
           {
            "aaxis": {
             "endlinecolor": "rgb(36,36,36)",
             "gridcolor": "white",
             "linecolor": "white",
             "minorgridcolor": "white",
             "startlinecolor": "rgb(36,36,36)"
            },
            "baxis": {
             "endlinecolor": "rgb(36,36,36)",
             "gridcolor": "white",
             "linecolor": "white",
             "minorgridcolor": "white",
             "startlinecolor": "rgb(36,36,36)"
            },
            "type": "carpet"
           }
          ],
          "choropleth": [
           {
            "colorbar": {
             "outlinewidth": 1,
             "tickcolor": "rgb(36,36,36)",
             "ticks": "outside"
            },
            "type": "choropleth"
           }
          ],
          "contour": [
           {
            "colorbar": {
             "outlinewidth": 1,
             "tickcolor": "rgb(36,36,36)",
             "ticks": "outside"
            },
            "colorscale": [
             [
              0,
              "#440154"
             ],
             [
              0.1111111111111111,
              "#482878"
             ],
             [
              0.2222222222222222,
              "#3e4989"
             ],
             [
              0.3333333333333333,
              "#31688e"
             ],
             [
              0.4444444444444444,
              "#26828e"
             ],
             [
              0.5555555555555556,
              "#1f9e89"
             ],
             [
              0.6666666666666666,
              "#35b779"
             ],
             [
              0.7777777777777778,
              "#6ece58"
             ],
             [
              0.8888888888888888,
              "#b5de2b"
             ],
             [
              1,
              "#fde725"
             ]
            ],
            "type": "contour"
           }
          ],
          "contourcarpet": [
           {
            "colorbar": {
             "outlinewidth": 1,
             "tickcolor": "rgb(36,36,36)",
             "ticks": "outside"
            },
            "type": "contourcarpet"
           }
          ],
          "heatmap": [
           {
            "colorbar": {
             "outlinewidth": 1,
             "tickcolor": "rgb(36,36,36)",
             "ticks": "outside"
            },
            "colorscale": [
             [
              0,
              "#440154"
             ],
             [
              0.1111111111111111,
              "#482878"
             ],
             [
              0.2222222222222222,
              "#3e4989"
             ],
             [
              0.3333333333333333,
              "#31688e"
             ],
             [
              0.4444444444444444,
              "#26828e"
             ],
             [
              0.5555555555555556,
              "#1f9e89"
             ],
             [
              0.6666666666666666,
              "#35b779"
             ],
             [
              0.7777777777777778,
              "#6ece58"
             ],
             [
              0.8888888888888888,
              "#b5de2b"
             ],
             [
              1,
              "#fde725"
             ]
            ],
            "type": "heatmap"
           }
          ],
          "heatmapgl": [
           {
            "colorbar": {
             "outlinewidth": 1,
             "tickcolor": "rgb(36,36,36)",
             "ticks": "outside"
            },
            "colorscale": [
             [
              0,
              "#440154"
             ],
             [
              0.1111111111111111,
              "#482878"
             ],
             [
              0.2222222222222222,
              "#3e4989"
             ],
             [
              0.3333333333333333,
              "#31688e"
             ],
             [
              0.4444444444444444,
              "#26828e"
             ],
             [
              0.5555555555555556,
              "#1f9e89"
             ],
             [
              0.6666666666666666,
              "#35b779"
             ],
             [
              0.7777777777777778,
              "#6ece58"
             ],
             [
              0.8888888888888888,
              "#b5de2b"
             ],
             [
              1,
              "#fde725"
             ]
            ],
            "type": "heatmapgl"
           }
          ],
          "histogram": [
           {
            "marker": {
             "line": {
              "color": "white",
              "width": 0.6
             }
            },
            "type": "histogram"
           }
          ],
          "histogram2d": [
           {
            "colorbar": {
             "outlinewidth": 1,
             "tickcolor": "rgb(36,36,36)",
             "ticks": "outside"
            },
            "colorscale": [
             [
              0,
              "#440154"
             ],
             [
              0.1111111111111111,
              "#482878"
             ],
             [
              0.2222222222222222,
              "#3e4989"
             ],
             [
              0.3333333333333333,
              "#31688e"
             ],
             [
              0.4444444444444444,
              "#26828e"
             ],
             [
              0.5555555555555556,
              "#1f9e89"
             ],
             [
              0.6666666666666666,
              "#35b779"
             ],
             [
              0.7777777777777778,
              "#6ece58"
             ],
             [
              0.8888888888888888,
              "#b5de2b"
             ],
             [
              1,
              "#fde725"
             ]
            ],
            "type": "histogram2d"
           }
          ],
          "histogram2dcontour": [
           {
            "colorbar": {
             "outlinewidth": 1,
             "tickcolor": "rgb(36,36,36)",
             "ticks": "outside"
            },
            "colorscale": [
             [
              0,
              "#440154"
             ],
             [
              0.1111111111111111,
              "#482878"
             ],
             [
              0.2222222222222222,
              "#3e4989"
             ],
             [
              0.3333333333333333,
              "#31688e"
             ],
             [
              0.4444444444444444,
              "#26828e"
             ],
             [
              0.5555555555555556,
              "#1f9e89"
             ],
             [
              0.6666666666666666,
              "#35b779"
             ],
             [
              0.7777777777777778,
              "#6ece58"
             ],
             [
              0.8888888888888888,
              "#b5de2b"
             ],
             [
              1,
              "#fde725"
             ]
            ],
            "type": "histogram2dcontour"
           }
          ],
          "mesh3d": [
           {
            "colorbar": {
             "outlinewidth": 1,
             "tickcolor": "rgb(36,36,36)",
             "ticks": "outside"
            },
            "type": "mesh3d"
           }
          ],
          "parcoords": [
           {
            "line": {
             "colorbar": {
              "outlinewidth": 1,
              "tickcolor": "rgb(36,36,36)",
              "ticks": "outside"
             }
            },
            "type": "parcoords"
           }
          ],
          "pie": [
           {
            "automargin": true,
            "type": "pie"
           }
          ],
          "scatter": [
           {
            "fillpattern": {
             "fillmode": "overlay",
             "size": 10,
             "solidity": 0.2
            },
            "type": "scatter"
           }
          ],
          "scatter3d": [
           {
            "line": {
             "colorbar": {
              "outlinewidth": 1,
              "tickcolor": "rgb(36,36,36)",
              "ticks": "outside"
             }
            },
            "marker": {
             "colorbar": {
              "outlinewidth": 1,
              "tickcolor": "rgb(36,36,36)",
              "ticks": "outside"
             }
            },
            "type": "scatter3d"
           }
          ],
          "scattercarpet": [
           {
            "marker": {
             "colorbar": {
              "outlinewidth": 1,
              "tickcolor": "rgb(36,36,36)",
              "ticks": "outside"
             }
            },
            "type": "scattercarpet"
           }
          ],
          "scattergeo": [
           {
            "marker": {
             "colorbar": {
              "outlinewidth": 1,
              "tickcolor": "rgb(36,36,36)",
              "ticks": "outside"
             }
            },
            "type": "scattergeo"
           }
          ],
          "scattergl": [
           {
            "marker": {
             "colorbar": {
              "outlinewidth": 1,
              "tickcolor": "rgb(36,36,36)",
              "ticks": "outside"
             }
            },
            "type": "scattergl"
           }
          ],
          "scattermapbox": [
           {
            "marker": {
             "colorbar": {
              "outlinewidth": 1,
              "tickcolor": "rgb(36,36,36)",
              "ticks": "outside"
             }
            },
            "type": "scattermapbox"
           }
          ],
          "scatterpolar": [
           {
            "marker": {
             "colorbar": {
              "outlinewidth": 1,
              "tickcolor": "rgb(36,36,36)",
              "ticks": "outside"
             }
            },
            "type": "scatterpolar"
           }
          ],
          "scatterpolargl": [
           {
            "marker": {
             "colorbar": {
              "outlinewidth": 1,
              "tickcolor": "rgb(36,36,36)",
              "ticks": "outside"
             }
            },
            "type": "scatterpolargl"
           }
          ],
          "scatterternary": [
           {
            "marker": {
             "colorbar": {
              "outlinewidth": 1,
              "tickcolor": "rgb(36,36,36)",
              "ticks": "outside"
             }
            },
            "type": "scatterternary"
           }
          ],
          "surface": [
           {
            "colorbar": {
             "outlinewidth": 1,
             "tickcolor": "rgb(36,36,36)",
             "ticks": "outside"
            },
            "colorscale": [
             [
              0,
              "#440154"
             ],
             [
              0.1111111111111111,
              "#482878"
             ],
             [
              0.2222222222222222,
              "#3e4989"
             ],
             [
              0.3333333333333333,
              "#31688e"
             ],
             [
              0.4444444444444444,
              "#26828e"
             ],
             [
              0.5555555555555556,
              "#1f9e89"
             ],
             [
              0.6666666666666666,
              "#35b779"
             ],
             [
              0.7777777777777778,
              "#6ece58"
             ],
             [
              0.8888888888888888,
              "#b5de2b"
             ],
             [
              1,
              "#fde725"
             ]
            ],
            "type": "surface"
           }
          ],
          "table": [
           {
            "cells": {
             "fill": {
              "color": "rgb(237,237,237)"
             },
             "line": {
              "color": "white"
             }
            },
            "header": {
             "fill": {
              "color": "rgb(217,217,217)"
             },
             "line": {
              "color": "white"
             }
            },
            "type": "table"
           }
          ]
         },
         "layout": {
          "annotationdefaults": {
           "arrowhead": 0,
           "arrowwidth": 1
          },
          "autotypenumbers": "strict",
          "coloraxis": {
           "colorbar": {
            "outlinewidth": 1,
            "tickcolor": "rgb(36,36,36)",
            "ticks": "outside"
           }
          },
          "colorscale": {
           "diverging": [
            [
             0,
             "rgb(103,0,31)"
            ],
            [
             0.1,
             "rgb(178,24,43)"
            ],
            [
             0.2,
             "rgb(214,96,77)"
            ],
            [
             0.3,
             "rgb(244,165,130)"
            ],
            [
             0.4,
             "rgb(253,219,199)"
            ],
            [
             0.5,
             "rgb(247,247,247)"
            ],
            [
             0.6,
             "rgb(209,229,240)"
            ],
            [
             0.7,
             "rgb(146,197,222)"
            ],
            [
             0.8,
             "rgb(67,147,195)"
            ],
            [
             0.9,
             "rgb(33,102,172)"
            ],
            [
             1,
             "rgb(5,48,97)"
            ]
           ],
           "sequential": [
            [
             0,
             "#440154"
            ],
            [
             0.1111111111111111,
             "#482878"
            ],
            [
             0.2222222222222222,
             "#3e4989"
            ],
            [
             0.3333333333333333,
             "#31688e"
            ],
            [
             0.4444444444444444,
             "#26828e"
            ],
            [
             0.5555555555555556,
             "#1f9e89"
            ],
            [
             0.6666666666666666,
             "#35b779"
            ],
            [
             0.7777777777777778,
             "#6ece58"
            ],
            [
             0.8888888888888888,
             "#b5de2b"
            ],
            [
             1,
             "#fde725"
            ]
           ],
           "sequentialminus": [
            [
             0,
             "#440154"
            ],
            [
             0.1111111111111111,
             "#482878"
            ],
            [
             0.2222222222222222,
             "#3e4989"
            ],
            [
             0.3333333333333333,
             "#31688e"
            ],
            [
             0.4444444444444444,
             "#26828e"
            ],
            [
             0.5555555555555556,
             "#1f9e89"
            ],
            [
             0.6666666666666666,
             "#35b779"
            ],
            [
             0.7777777777777778,
             "#6ece58"
            ],
            [
             0.8888888888888888,
             "#b5de2b"
            ],
            [
             1,
             "#fde725"
            ]
           ]
          },
          "colorway": [
           "#1F77B4",
           "#FF7F0E",
           "#2CA02C",
           "#D62728",
           "#9467BD",
           "#8C564B",
           "#E377C2",
           "#7F7F7F",
           "#BCBD22",
           "#17BECF"
          ],
          "font": {
           "color": "rgb(36,36,36)"
          },
          "geo": {
           "bgcolor": "white",
           "lakecolor": "white",
           "landcolor": "white",
           "showlakes": true,
           "showland": true,
           "subunitcolor": "white"
          },
          "hoverlabel": {
           "align": "left"
          },
          "hovermode": "closest",
          "mapbox": {
           "style": "light"
          },
          "paper_bgcolor": "white",
          "plot_bgcolor": "white",
          "polar": {
           "angularaxis": {
            "gridcolor": "rgb(232,232,232)",
            "linecolor": "rgb(36,36,36)",
            "showgrid": false,
            "showline": true,
            "ticks": "outside"
           },
           "bgcolor": "white",
           "radialaxis": {
            "gridcolor": "rgb(232,232,232)",
            "linecolor": "rgb(36,36,36)",
            "showgrid": false,
            "showline": true,
            "ticks": "outside"
           }
          },
          "scene": {
           "xaxis": {
            "backgroundcolor": "white",
            "gridcolor": "rgb(232,232,232)",
            "gridwidth": 2,
            "linecolor": "rgb(36,36,36)",
            "showbackground": true,
            "showgrid": false,
            "showline": true,
            "ticks": "outside",
            "zeroline": false,
            "zerolinecolor": "rgb(36,36,36)"
           },
           "yaxis": {
            "backgroundcolor": "white",
            "gridcolor": "rgb(232,232,232)",
            "gridwidth": 2,
            "linecolor": "rgb(36,36,36)",
            "showbackground": true,
            "showgrid": false,
            "showline": true,
            "ticks": "outside",
            "zeroline": false,
            "zerolinecolor": "rgb(36,36,36)"
           },
           "zaxis": {
            "backgroundcolor": "white",
            "gridcolor": "rgb(232,232,232)",
            "gridwidth": 2,
            "linecolor": "rgb(36,36,36)",
            "showbackground": true,
            "showgrid": false,
            "showline": true,
            "ticks": "outside",
            "zeroline": false,
            "zerolinecolor": "rgb(36,36,36)"
           }
          },
          "shapedefaults": {
           "fillcolor": "black",
           "line": {
            "width": 0
           },
           "opacity": 0.3
          },
          "ternary": {
           "aaxis": {
            "gridcolor": "rgb(232,232,232)",
            "linecolor": "rgb(36,36,36)",
            "showgrid": false,
            "showline": true,
            "ticks": "outside"
           },
           "baxis": {
            "gridcolor": "rgb(232,232,232)",
            "linecolor": "rgb(36,36,36)",
            "showgrid": false,
            "showline": true,
            "ticks": "outside"
           },
           "bgcolor": "white",
           "caxis": {
            "gridcolor": "rgb(232,232,232)",
            "linecolor": "rgb(36,36,36)",
            "showgrid": false,
            "showline": true,
            "ticks": "outside"
           }
          },
          "title": {
           "x": 0.05
          },
          "xaxis": {
           "automargin": true,
           "gridcolor": "rgb(232,232,232)",
           "linecolor": "rgb(36,36,36)",
           "showgrid": false,
           "showline": true,
           "ticks": "outside",
           "title": {
            "standoff": 15
           },
           "zeroline": false,
           "zerolinecolor": "rgb(36,36,36)"
          },
          "yaxis": {
           "automargin": true,
           "gridcolor": "rgb(232,232,232)",
           "linecolor": "rgb(36,36,36)",
           "showgrid": false,
           "showline": true,
           "ticks": "outside",
           "title": {
            "standoff": 15
           },
           "zeroline": false,
           "zerolinecolor": "rgb(36,36,36)"
          }
         }
        },
        "title": {
         "text": "Time Series | Target = value"
        },
        "width": 1000,
        "xaxis": {
         "anchor": "y",
         "domain": [
          0,
          1
         ]
        },
        "yaxis": {
         "anchor": "x",
         "domain": [
          0,
          1
         ]
        }
       }
      }
     },
     "metadata": {},
     "output_type": "display_data"
    }
   ],
   "source": [
    "exp.plot_model(plot=\"ts\",fig_kwargs = {\"height\":500,\"width\":1000,\"template\": \"simple_white\",\"hoverinfo\":\"none\",\"big_data_threshold\":10})"
   ]
  },
  {
   "cell_type": "markdown",
   "metadata": {},
   "source": [
    "## Checking Train-Test Split"
   ]
  },
  {
   "cell_type": "code",
   "execution_count": 9,
   "metadata": {},
   "outputs": [
    {
     "data": {
      "application/vnd.plotly.v1+json": {
       "config": {
        "plotlyServerURL": "https://plot.ly"
       },
       "data": [
        {
         "hoverinfo": "none",
         "line": {
          "width": 2
         },
         "marker": {
          "size": 5
         },
         "mode": "lines+markers",
         "name": "Train (original)",
         "type": "scattergl",
         "x": [
          "2017-01-01T00:00:00",
          "2018-01-01T00:00:00",
          "2019-01-01T00:00:00",
          "2020-01-01T00:00:00",
          "2021-01-01T00:00:00",
          "2022-01-01T00:00:00",
          "2023-01-01T00:00:00"
         ],
         "xaxis": "x",
         "y": [
          255.06,
          259.33,
          266.04,
          267.16,
          264.94,
          291.4,
          null
         ],
         "yaxis": "y"
        },
        {
         "hoverinfo": "none",
         "line": {
          "width": 2
         },
         "marker": {
          "size": 5
         },
         "mode": "lines+markers",
         "name": "Test (original)",
         "type": "scattergl",
         "x": [
          "2017-01-01T00:00:00",
          "2018-01-01T00:00:00",
          "2019-01-01T00:00:00",
          "2020-01-01T00:00:00",
          "2021-01-01T00:00:00",
          "2022-01-01T00:00:00",
          "2023-01-01T00:00:00"
         ],
         "xaxis": "x",
         "y": [
          null,
          null,
          null,
          null,
          null,
          null,
          301.8
         ],
         "yaxis": "y"
        }
       ],
       "layout": {
        "annotations": [
         {
          "font": {
           "size": 16
          },
          "showarrow": false,
          "text": "value",
          "x": 0.5,
          "xanchor": "center",
          "xref": "paper",
          "y": 1,
          "yanchor": "bottom",
          "yref": "paper"
         }
        ],
        "autosize": false,
        "height": 500,
        "showlegend": true,
        "template": {
         "data": {
          "bar": [
           {
            "error_x": {
             "color": "rgb(36,36,36)"
            },
            "error_y": {
             "color": "rgb(36,36,36)"
            },
            "marker": {
             "line": {
              "color": "white",
              "width": 0.5
             },
             "pattern": {
              "fillmode": "overlay",
              "size": 10,
              "solidity": 0.2
             }
            },
            "type": "bar"
           }
          ],
          "barpolar": [
           {
            "marker": {
             "line": {
              "color": "white",
              "width": 0.5
             },
             "pattern": {
              "fillmode": "overlay",
              "size": 10,
              "solidity": 0.2
             }
            },
            "type": "barpolar"
           }
          ],
          "carpet": [
           {
            "aaxis": {
             "endlinecolor": "rgb(36,36,36)",
             "gridcolor": "white",
             "linecolor": "white",
             "minorgridcolor": "white",
             "startlinecolor": "rgb(36,36,36)"
            },
            "baxis": {
             "endlinecolor": "rgb(36,36,36)",
             "gridcolor": "white",
             "linecolor": "white",
             "minorgridcolor": "white",
             "startlinecolor": "rgb(36,36,36)"
            },
            "type": "carpet"
           }
          ],
          "choropleth": [
           {
            "colorbar": {
             "outlinewidth": 1,
             "tickcolor": "rgb(36,36,36)",
             "ticks": "outside"
            },
            "type": "choropleth"
           }
          ],
          "contour": [
           {
            "colorbar": {
             "outlinewidth": 1,
             "tickcolor": "rgb(36,36,36)",
             "ticks": "outside"
            },
            "colorscale": [
             [
              0,
              "#440154"
             ],
             [
              0.1111111111111111,
              "#482878"
             ],
             [
              0.2222222222222222,
              "#3e4989"
             ],
             [
              0.3333333333333333,
              "#31688e"
             ],
             [
              0.4444444444444444,
              "#26828e"
             ],
             [
              0.5555555555555556,
              "#1f9e89"
             ],
             [
              0.6666666666666666,
              "#35b779"
             ],
             [
              0.7777777777777778,
              "#6ece58"
             ],
             [
              0.8888888888888888,
              "#b5de2b"
             ],
             [
              1,
              "#fde725"
             ]
            ],
            "type": "contour"
           }
          ],
          "contourcarpet": [
           {
            "colorbar": {
             "outlinewidth": 1,
             "tickcolor": "rgb(36,36,36)",
             "ticks": "outside"
            },
            "type": "contourcarpet"
           }
          ],
          "heatmap": [
           {
            "colorbar": {
             "outlinewidth": 1,
             "tickcolor": "rgb(36,36,36)",
             "ticks": "outside"
            },
            "colorscale": [
             [
              0,
              "#440154"
             ],
             [
              0.1111111111111111,
              "#482878"
             ],
             [
              0.2222222222222222,
              "#3e4989"
             ],
             [
              0.3333333333333333,
              "#31688e"
             ],
             [
              0.4444444444444444,
              "#26828e"
             ],
             [
              0.5555555555555556,
              "#1f9e89"
             ],
             [
              0.6666666666666666,
              "#35b779"
             ],
             [
              0.7777777777777778,
              "#6ece58"
             ],
             [
              0.8888888888888888,
              "#b5de2b"
             ],
             [
              1,
              "#fde725"
             ]
            ],
            "type": "heatmap"
           }
          ],
          "heatmapgl": [
           {
            "colorbar": {
             "outlinewidth": 1,
             "tickcolor": "rgb(36,36,36)",
             "ticks": "outside"
            },
            "colorscale": [
             [
              0,
              "#440154"
             ],
             [
              0.1111111111111111,
              "#482878"
             ],
             [
              0.2222222222222222,
              "#3e4989"
             ],
             [
              0.3333333333333333,
              "#31688e"
             ],
             [
              0.4444444444444444,
              "#26828e"
             ],
             [
              0.5555555555555556,
              "#1f9e89"
             ],
             [
              0.6666666666666666,
              "#35b779"
             ],
             [
              0.7777777777777778,
              "#6ece58"
             ],
             [
              0.8888888888888888,
              "#b5de2b"
             ],
             [
              1,
              "#fde725"
             ]
            ],
            "type": "heatmapgl"
           }
          ],
          "histogram": [
           {
            "marker": {
             "line": {
              "color": "white",
              "width": 0.6
             }
            },
            "type": "histogram"
           }
          ],
          "histogram2d": [
           {
            "colorbar": {
             "outlinewidth": 1,
             "tickcolor": "rgb(36,36,36)",
             "ticks": "outside"
            },
            "colorscale": [
             [
              0,
              "#440154"
             ],
             [
              0.1111111111111111,
              "#482878"
             ],
             [
              0.2222222222222222,
              "#3e4989"
             ],
             [
              0.3333333333333333,
              "#31688e"
             ],
             [
              0.4444444444444444,
              "#26828e"
             ],
             [
              0.5555555555555556,
              "#1f9e89"
             ],
             [
              0.6666666666666666,
              "#35b779"
             ],
             [
              0.7777777777777778,
              "#6ece58"
             ],
             [
              0.8888888888888888,
              "#b5de2b"
             ],
             [
              1,
              "#fde725"
             ]
            ],
            "type": "histogram2d"
           }
          ],
          "histogram2dcontour": [
           {
            "colorbar": {
             "outlinewidth": 1,
             "tickcolor": "rgb(36,36,36)",
             "ticks": "outside"
            },
            "colorscale": [
             [
              0,
              "#440154"
             ],
             [
              0.1111111111111111,
              "#482878"
             ],
             [
              0.2222222222222222,
              "#3e4989"
             ],
             [
              0.3333333333333333,
              "#31688e"
             ],
             [
              0.4444444444444444,
              "#26828e"
             ],
             [
              0.5555555555555556,
              "#1f9e89"
             ],
             [
              0.6666666666666666,
              "#35b779"
             ],
             [
              0.7777777777777778,
              "#6ece58"
             ],
             [
              0.8888888888888888,
              "#b5de2b"
             ],
             [
              1,
              "#fde725"
             ]
            ],
            "type": "histogram2dcontour"
           }
          ],
          "mesh3d": [
           {
            "colorbar": {
             "outlinewidth": 1,
             "tickcolor": "rgb(36,36,36)",
             "ticks": "outside"
            },
            "type": "mesh3d"
           }
          ],
          "parcoords": [
           {
            "line": {
             "colorbar": {
              "outlinewidth": 1,
              "tickcolor": "rgb(36,36,36)",
              "ticks": "outside"
             }
            },
            "type": "parcoords"
           }
          ],
          "pie": [
           {
            "automargin": true,
            "type": "pie"
           }
          ],
          "scatter": [
           {
            "fillpattern": {
             "fillmode": "overlay",
             "size": 10,
             "solidity": 0.2
            },
            "type": "scatter"
           }
          ],
          "scatter3d": [
           {
            "line": {
             "colorbar": {
              "outlinewidth": 1,
              "tickcolor": "rgb(36,36,36)",
              "ticks": "outside"
             }
            },
            "marker": {
             "colorbar": {
              "outlinewidth": 1,
              "tickcolor": "rgb(36,36,36)",
              "ticks": "outside"
             }
            },
            "type": "scatter3d"
           }
          ],
          "scattercarpet": [
           {
            "marker": {
             "colorbar": {
              "outlinewidth": 1,
              "tickcolor": "rgb(36,36,36)",
              "ticks": "outside"
             }
            },
            "type": "scattercarpet"
           }
          ],
          "scattergeo": [
           {
            "marker": {
             "colorbar": {
              "outlinewidth": 1,
              "tickcolor": "rgb(36,36,36)",
              "ticks": "outside"
             }
            },
            "type": "scattergeo"
           }
          ],
          "scattergl": [
           {
            "marker": {
             "colorbar": {
              "outlinewidth": 1,
              "tickcolor": "rgb(36,36,36)",
              "ticks": "outside"
             }
            },
            "type": "scattergl"
           }
          ],
          "scattermapbox": [
           {
            "marker": {
             "colorbar": {
              "outlinewidth": 1,
              "tickcolor": "rgb(36,36,36)",
              "ticks": "outside"
             }
            },
            "type": "scattermapbox"
           }
          ],
          "scatterpolar": [
           {
            "marker": {
             "colorbar": {
              "outlinewidth": 1,
              "tickcolor": "rgb(36,36,36)",
              "ticks": "outside"
             }
            },
            "type": "scatterpolar"
           }
          ],
          "scatterpolargl": [
           {
            "marker": {
             "colorbar": {
              "outlinewidth": 1,
              "tickcolor": "rgb(36,36,36)",
              "ticks": "outside"
             }
            },
            "type": "scatterpolargl"
           }
          ],
          "scatterternary": [
           {
            "marker": {
             "colorbar": {
              "outlinewidth": 1,
              "tickcolor": "rgb(36,36,36)",
              "ticks": "outside"
             }
            },
            "type": "scatterternary"
           }
          ],
          "surface": [
           {
            "colorbar": {
             "outlinewidth": 1,
             "tickcolor": "rgb(36,36,36)",
             "ticks": "outside"
            },
            "colorscale": [
             [
              0,
              "#440154"
             ],
             [
              0.1111111111111111,
              "#482878"
             ],
             [
              0.2222222222222222,
              "#3e4989"
             ],
             [
              0.3333333333333333,
              "#31688e"
             ],
             [
              0.4444444444444444,
              "#26828e"
             ],
             [
              0.5555555555555556,
              "#1f9e89"
             ],
             [
              0.6666666666666666,
              "#35b779"
             ],
             [
              0.7777777777777778,
              "#6ece58"
             ],
             [
              0.8888888888888888,
              "#b5de2b"
             ],
             [
              1,
              "#fde725"
             ]
            ],
            "type": "surface"
           }
          ],
          "table": [
           {
            "cells": {
             "fill": {
              "color": "rgb(237,237,237)"
             },
             "line": {
              "color": "white"
             }
            },
            "header": {
             "fill": {
              "color": "rgb(217,217,217)"
             },
             "line": {
              "color": "white"
             }
            },
            "type": "table"
           }
          ]
         },
         "layout": {
          "annotationdefaults": {
           "arrowhead": 0,
           "arrowwidth": 1
          },
          "autotypenumbers": "strict",
          "coloraxis": {
           "colorbar": {
            "outlinewidth": 1,
            "tickcolor": "rgb(36,36,36)",
            "ticks": "outside"
           }
          },
          "colorscale": {
           "diverging": [
            [
             0,
             "rgb(103,0,31)"
            ],
            [
             0.1,
             "rgb(178,24,43)"
            ],
            [
             0.2,
             "rgb(214,96,77)"
            ],
            [
             0.3,
             "rgb(244,165,130)"
            ],
            [
             0.4,
             "rgb(253,219,199)"
            ],
            [
             0.5,
             "rgb(247,247,247)"
            ],
            [
             0.6,
             "rgb(209,229,240)"
            ],
            [
             0.7,
             "rgb(146,197,222)"
            ],
            [
             0.8,
             "rgb(67,147,195)"
            ],
            [
             0.9,
             "rgb(33,102,172)"
            ],
            [
             1,
             "rgb(5,48,97)"
            ]
           ],
           "sequential": [
            [
             0,
             "#440154"
            ],
            [
             0.1111111111111111,
             "#482878"
            ],
            [
             0.2222222222222222,
             "#3e4989"
            ],
            [
             0.3333333333333333,
             "#31688e"
            ],
            [
             0.4444444444444444,
             "#26828e"
            ],
            [
             0.5555555555555556,
             "#1f9e89"
            ],
            [
             0.6666666666666666,
             "#35b779"
            ],
            [
             0.7777777777777778,
             "#6ece58"
            ],
            [
             0.8888888888888888,
             "#b5de2b"
            ],
            [
             1,
             "#fde725"
            ]
           ],
           "sequentialminus": [
            [
             0,
             "#440154"
            ],
            [
             0.1111111111111111,
             "#482878"
            ],
            [
             0.2222222222222222,
             "#3e4989"
            ],
            [
             0.3333333333333333,
             "#31688e"
            ],
            [
             0.4444444444444444,
             "#26828e"
            ],
            [
             0.5555555555555556,
             "#1f9e89"
            ],
            [
             0.6666666666666666,
             "#35b779"
            ],
            [
             0.7777777777777778,
             "#6ece58"
            ],
            [
             0.8888888888888888,
             "#b5de2b"
            ],
            [
             1,
             "#fde725"
            ]
           ]
          },
          "colorway": [
           "#1F77B4",
           "#FF7F0E",
           "#2CA02C",
           "#D62728",
           "#9467BD",
           "#8C564B",
           "#E377C2",
           "#7F7F7F",
           "#BCBD22",
           "#17BECF"
          ],
          "font": {
           "color": "rgb(36,36,36)"
          },
          "geo": {
           "bgcolor": "white",
           "lakecolor": "white",
           "landcolor": "white",
           "showlakes": true,
           "showland": true,
           "subunitcolor": "white"
          },
          "hoverlabel": {
           "align": "left"
          },
          "hovermode": "closest",
          "mapbox": {
           "style": "light"
          },
          "paper_bgcolor": "white",
          "plot_bgcolor": "white",
          "polar": {
           "angularaxis": {
            "gridcolor": "rgb(232,232,232)",
            "linecolor": "rgb(36,36,36)",
            "showgrid": false,
            "showline": true,
            "ticks": "outside"
           },
           "bgcolor": "white",
           "radialaxis": {
            "gridcolor": "rgb(232,232,232)",
            "linecolor": "rgb(36,36,36)",
            "showgrid": false,
            "showline": true,
            "ticks": "outside"
           }
          },
          "scene": {
           "xaxis": {
            "backgroundcolor": "white",
            "gridcolor": "rgb(232,232,232)",
            "gridwidth": 2,
            "linecolor": "rgb(36,36,36)",
            "showbackground": true,
            "showgrid": false,
            "showline": true,
            "ticks": "outside",
            "zeroline": false,
            "zerolinecolor": "rgb(36,36,36)"
           },
           "yaxis": {
            "backgroundcolor": "white",
            "gridcolor": "rgb(232,232,232)",
            "gridwidth": 2,
            "linecolor": "rgb(36,36,36)",
            "showbackground": true,
            "showgrid": false,
            "showline": true,
            "ticks": "outside",
            "zeroline": false,
            "zerolinecolor": "rgb(36,36,36)"
           },
           "zaxis": {
            "backgroundcolor": "white",
            "gridcolor": "rgb(232,232,232)",
            "gridwidth": 2,
            "linecolor": "rgb(36,36,36)",
            "showbackground": true,
            "showgrid": false,
            "showline": true,
            "ticks": "outside",
            "zeroline": false,
            "zerolinecolor": "rgb(36,36,36)"
           }
          },
          "shapedefaults": {
           "fillcolor": "black",
           "line": {
            "width": 0
           },
           "opacity": 0.3
          },
          "ternary": {
           "aaxis": {
            "gridcolor": "rgb(232,232,232)",
            "linecolor": "rgb(36,36,36)",
            "showgrid": false,
            "showline": true,
            "ticks": "outside"
           },
           "baxis": {
            "gridcolor": "rgb(232,232,232)",
            "linecolor": "rgb(36,36,36)",
            "showgrid": false,
            "showline": true,
            "ticks": "outside"
           },
           "bgcolor": "white",
           "caxis": {
            "gridcolor": "rgb(232,232,232)",
            "linecolor": "rgb(36,36,36)",
            "showgrid": false,
            "showline": true,
            "ticks": "outside"
           }
          },
          "title": {
           "x": 0.05
          },
          "xaxis": {
           "automargin": true,
           "gridcolor": "rgb(232,232,232)",
           "linecolor": "rgb(36,36,36)",
           "showgrid": false,
           "showline": true,
           "ticks": "outside",
           "title": {
            "standoff": 15
           },
           "zeroline": false,
           "zerolinecolor": "rgb(36,36,36)"
          },
          "yaxis": {
           "automargin": true,
           "gridcolor": "rgb(232,232,232)",
           "linecolor": "rgb(36,36,36)",
           "showgrid": false,
           "showline": true,
           "ticks": "outside",
           "title": {
            "standoff": 15
           },
           "zeroline": false,
           "zerolinecolor": "rgb(36,36,36)"
          }
         }
        },
        "title": {
         "text": "Time Series | Target = value"
        },
        "width": 1000,
        "xaxis": {
         "anchor": "y",
         "domain": [
          0,
          1
         ]
        },
        "yaxis": {
         "anchor": "x",
         "domain": [
          0,
          1
         ]
        }
       }
      }
     },
     "metadata": {},
     "output_type": "display_data"
    }
   ],
   "source": [
    "exp.plot_model(plot=\"train_test_split\",fig_kwargs = {\"height\":500,\"width\":1000,\"template\": \"simple_white\",\"hoverinfo\":\"none\",\"big_data_threshold\":10})"
   ]
  },
  {
   "cell_type": "markdown",
   "metadata": {},
   "source": [
    "## Comparing Models\n",
    "\n",
    "The most basic assumption of time series forecasting is that past patterns continue into the future. \n",
    "Based on this assumption, in the short-term future forecast, since the environment in which the data is generated is similar to the present, \n",
    "the uncertainty is small and the forecast can be well-predicted. However, as we move towards long-term future forecasting, the possibility of the environment in which data is generated is likely to change, and unpredictable situations occur, and as errors continue to accumulate, uncertainty about the forecast data is bound to increase.\n",
    "\n",
    "We compare the performance of various models and try to select the 4 models with the best performance."
   ]
  },
  {
   "cell_type": "code",
   "execution_count": 10,
   "metadata": {},
   "outputs": [
    {
     "data": {
      "text/html": [],
      "text/plain": [
       "<IPython.core.display.HTML object>"
      ]
     },
     "metadata": {},
     "output_type": "display_data"
    },
    {
     "data": {
      "text/html": [
       "<style type=\"text/css\">\n",
       "#T_60271 th {\n",
       "  text-align: left;\n",
       "}\n",
       "#T_60271_row0_col0, #T_60271_row1_col0, #T_60271_row1_col1, #T_60271_row1_col2, #T_60271_row1_col3, #T_60271_row1_col4, #T_60271_row1_col5, #T_60271_row1_col6, #T_60271_row2_col0, #T_60271_row2_col1, #T_60271_row2_col2, #T_60271_row2_col3, #T_60271_row2_col4, #T_60271_row2_col5, #T_60271_row2_col6, #T_60271_row3_col0, #T_60271_row3_col1, #T_60271_row3_col2, #T_60271_row3_col3, #T_60271_row3_col4, #T_60271_row3_col5, #T_60271_row3_col6, #T_60271_row4_col0, #T_60271_row4_col1, #T_60271_row4_col2, #T_60271_row4_col3, #T_60271_row4_col4, #T_60271_row4_col5, #T_60271_row4_col6, #T_60271_row5_col0, #T_60271_row5_col1, #T_60271_row5_col2, #T_60271_row5_col3, #T_60271_row5_col4, #T_60271_row5_col5, #T_60271_row5_col6, #T_60271_row6_col0, #T_60271_row6_col1, #T_60271_row6_col2, #T_60271_row6_col3, #T_60271_row6_col4, #T_60271_row6_col5, #T_60271_row6_col6, #T_60271_row7_col0, #T_60271_row7_col1, #T_60271_row7_col2, #T_60271_row7_col3, #T_60271_row7_col4, #T_60271_row7_col5, #T_60271_row7_col6, #T_60271_row8_col0, #T_60271_row8_col1, #T_60271_row8_col2, #T_60271_row8_col3, #T_60271_row8_col4, #T_60271_row8_col5, #T_60271_row8_col6, #T_60271_row9_col0, #T_60271_row9_col1, #T_60271_row9_col2, #T_60271_row9_col3, #T_60271_row9_col4, #T_60271_row9_col5, #T_60271_row9_col6, #T_60271_row10_col0, #T_60271_row10_col1, #T_60271_row10_col2, #T_60271_row10_col3, #T_60271_row10_col4, #T_60271_row10_col5, #T_60271_row10_col6, #T_60271_row11_col0, #T_60271_row11_col1, #T_60271_row11_col2, #T_60271_row11_col3, #T_60271_row11_col4, #T_60271_row11_col5, #T_60271_row11_col6, #T_60271_row12_col0, #T_60271_row12_col1, #T_60271_row12_col2, #T_60271_row12_col3, #T_60271_row12_col4, #T_60271_row12_col5, #T_60271_row12_col6, #T_60271_row13_col0, #T_60271_row13_col1, #T_60271_row13_col2, #T_60271_row13_col3, #T_60271_row13_col4, #T_60271_row13_col5, #T_60271_row13_col6, #T_60271_row14_col0, #T_60271_row14_col1, #T_60271_row14_col2, #T_60271_row14_col3, #T_60271_row14_col4, #T_60271_row14_col5, #T_60271_row14_col6, #T_60271_row15_col0, #T_60271_row15_col1, #T_60271_row15_col2, #T_60271_row15_col3, #T_60271_row15_col4, #T_60271_row15_col5, #T_60271_row15_col6, #T_60271_row16_col0, #T_60271_row16_col1, #T_60271_row16_col2, #T_60271_row16_col3, #T_60271_row16_col4, #T_60271_row16_col5, #T_60271_row16_col6, #T_60271_row17_col0, #T_60271_row17_col1, #T_60271_row17_col2, #T_60271_row17_col3, #T_60271_row17_col4, #T_60271_row17_col5, #T_60271_row17_col6, #T_60271_row18_col0, #T_60271_row18_col1, #T_60271_row18_col2, #T_60271_row18_col3, #T_60271_row18_col4, #T_60271_row18_col5, #T_60271_row18_col6, #T_60271_row19_col0, #T_60271_row19_col1, #T_60271_row19_col2, #T_60271_row19_col3, #T_60271_row19_col4, #T_60271_row19_col5, #T_60271_row19_col6, #T_60271_row20_col0, #T_60271_row20_col1, #T_60271_row20_col2, #T_60271_row20_col3, #T_60271_row20_col4, #T_60271_row20_col5, #T_60271_row20_col6, #T_60271_row21_col0, #T_60271_row21_col1, #T_60271_row21_col2, #T_60271_row21_col3, #T_60271_row21_col4, #T_60271_row21_col5, #T_60271_row21_col6, #T_60271_row22_col0, #T_60271_row22_col1, #T_60271_row22_col2, #T_60271_row22_col3, #T_60271_row22_col4, #T_60271_row22_col5, #T_60271_row22_col6, #T_60271_row23_col0, #T_60271_row23_col1, #T_60271_row23_col2, #T_60271_row23_col3, #T_60271_row23_col4, #T_60271_row23_col5, #T_60271_row23_col6 {\n",
       "  text-align: left;\n",
       "}\n",
       "#T_60271_row0_col1, #T_60271_row0_col2, #T_60271_row0_col3, #T_60271_row0_col4, #T_60271_row0_col5, #T_60271_row0_col6 {\n",
       "  text-align: left;\n",
       "  background-color: yellow;\n",
       "}\n",
       "#T_60271_row0_col7, #T_60271_row1_col7, #T_60271_row2_col7, #T_60271_row3_col7, #T_60271_row4_col7, #T_60271_row5_col7, #T_60271_row6_col7, #T_60271_row7_col7, #T_60271_row8_col7, #T_60271_row9_col7, #T_60271_row10_col7, #T_60271_row11_col7, #T_60271_row12_col7, #T_60271_row13_col7, #T_60271_row14_col7, #T_60271_row15_col7, #T_60271_row16_col7, #T_60271_row17_col7, #T_60271_row18_col7, #T_60271_row19_col7, #T_60271_row20_col7, #T_60271_row21_col7, #T_60271_row23_col7 {\n",
       "  text-align: left;\n",
       "  background-color: lightgrey;\n",
       "}\n",
       "#T_60271_row22_col7 {\n",
       "  text-align: left;\n",
       "  background-color: yellow;\n",
       "  background-color: lightgrey;\n",
       "}\n",
       "</style>\n",
       "<table id=\"T_60271\">\n",
       "  <thead>\n",
       "    <tr>\n",
       "      <th class=\"blank level0\" >&nbsp;</th>\n",
       "      <th id=\"T_60271_level0_col0\" class=\"col_heading level0 col0\" >Model</th>\n",
       "      <th id=\"T_60271_level0_col1\" class=\"col_heading level0 col1\" >MASE</th>\n",
       "      <th id=\"T_60271_level0_col2\" class=\"col_heading level0 col2\" >RMSSE</th>\n",
       "      <th id=\"T_60271_level0_col3\" class=\"col_heading level0 col3\" >MAE</th>\n",
       "      <th id=\"T_60271_level0_col4\" class=\"col_heading level0 col4\" >RMSE</th>\n",
       "      <th id=\"T_60271_level0_col5\" class=\"col_heading level0 col5\" >MAPE</th>\n",
       "      <th id=\"T_60271_level0_col6\" class=\"col_heading level0 col6\" >SMAPE</th>\n",
       "      <th id=\"T_60271_level0_col7\" class=\"col_heading level0 col7\" >TT (Sec)</th>\n",
       "    </tr>\n",
       "  </thead>\n",
       "  <tbody>\n",
       "    <tr>\n",
       "      <th id=\"T_60271_level0_row0\" class=\"row_heading level0 row0\" >naive</th>\n",
       "      <td id=\"T_60271_row0_col0\" class=\"data row0 col0\" >Naive Forecaster</td>\n",
       "      <td id=\"T_60271_row0_col1\" class=\"data row0 col1\" >2.7152</td>\n",
       "      <td id=\"T_60271_row0_col2\" class=\"data row0 col2\" >2.3428</td>\n",
       "      <td id=\"T_60271_row0_col3\" class=\"data row0 col3\" >9.9333</td>\n",
       "      <td id=\"T_60271_row0_col4\" class=\"data row0 col4\" >9.9333</td>\n",
       "      <td id=\"T_60271_row0_col5\" class=\"data row0 col5\" >0.0345</td>\n",
       "      <td id=\"T_60271_row0_col6\" class=\"data row0 col6\" >0.0359</td>\n",
       "      <td id=\"T_60271_row0_col7\" class=\"data row0 col7\" >5.7700</td>\n",
       "    </tr>\n",
       "    <tr>\n",
       "      <th id=\"T_60271_level0_row1\" class=\"row_heading level0 row1\" >lightgbm_cds_dt</th>\n",
       "      <td id=\"T_60271_row1_col0\" class=\"data row1 col0\" >Light Gradient Boosting w/ Cond. Deseasonalize & Detrending</td>\n",
       "      <td id=\"T_60271_row1_col1\" class=\"data row1 col1\" >2.7509</td>\n",
       "      <td id=\"T_60271_row1_col2\" class=\"data row1 col2\" >2.3972</td>\n",
       "      <td id=\"T_60271_row1_col3\" class=\"data row1 col3\" >10.5779</td>\n",
       "      <td id=\"T_60271_row1_col4\" class=\"data row1 col4\" >10.5779</td>\n",
       "      <td id=\"T_60271_row1_col5\" class=\"data row1 col5\" >0.0376</td>\n",
       "      <td id=\"T_60271_row1_col6\" class=\"data row1 col6\" >0.0382</td>\n",
       "      <td id=\"T_60271_row1_col7\" class=\"data row1 col7\" >0.5733</td>\n",
       "    </tr>\n",
       "    <tr>\n",
       "      <th id=\"T_60271_level0_row2\" class=\"row_heading level0 row2\" >ada_cds_dt</th>\n",
       "      <td id=\"T_60271_row2_col0\" class=\"data row2 col0\" >AdaBoost w/ Cond. Deseasonalize & Detrending</td>\n",
       "      <td id=\"T_60271_row2_col1\" class=\"data row2 col1\" >2.7525</td>\n",
       "      <td id=\"T_60271_row2_col2\" class=\"data row2 col2\" >2.3937</td>\n",
       "      <td id=\"T_60271_row2_col3\" class=\"data row2 col3\" >10.4923</td>\n",
       "      <td id=\"T_60271_row2_col4\" class=\"data row2 col4\" >10.4923</td>\n",
       "      <td id=\"T_60271_row2_col5\" class=\"data row2 col5\" >0.0372</td>\n",
       "      <td id=\"T_60271_row2_col6\" class=\"data row2 col6\" >0.0379</td>\n",
       "      <td id=\"T_60271_row2_col7\" class=\"data row2 col7\" >0.1600</td>\n",
       "    </tr>\n",
       "    <tr>\n",
       "      <th id=\"T_60271_level0_row3\" class=\"row_heading level0 row3\" >llar_cds_dt</th>\n",
       "      <td id=\"T_60271_row3_col0\" class=\"data row3 col0\" >Lasso Least Angular Regressor w/ Cond. Deseasonalize & Detrending</td>\n",
       "      <td id=\"T_60271_row3_col1\" class=\"data row3 col1\" >2.7574</td>\n",
       "      <td id=\"T_60271_row3_col2\" class=\"data row3 col2\" >2.4029</td>\n",
       "      <td id=\"T_60271_row3_col3\" class=\"data row3 col3\" >10.6043</td>\n",
       "      <td id=\"T_60271_row3_col4\" class=\"data row3 col4\" >10.6043</td>\n",
       "      <td id=\"T_60271_row3_col5\" class=\"data row3 col5\" >0.0377</td>\n",
       "      <td id=\"T_60271_row3_col6\" class=\"data row3 col6\" >0.0383</td>\n",
       "      <td id=\"T_60271_row3_col7\" class=\"data row3 col7\" >0.0900</td>\n",
       "    </tr>\n",
       "    <tr>\n",
       "      <th id=\"T_60271_level0_row4\" class=\"row_heading level0 row4\" >lasso_cds_dt</th>\n",
       "      <td id=\"T_60271_row4_col0\" class=\"data row4 col0\" >Lasso w/ Cond. Deseasonalize & Detrending</td>\n",
       "      <td id=\"T_60271_row4_col1\" class=\"data row4 col1\" >2.7574</td>\n",
       "      <td id=\"T_60271_row4_col2\" class=\"data row4 col2\" >2.4029</td>\n",
       "      <td id=\"T_60271_row4_col3\" class=\"data row4 col3\" >10.6043</td>\n",
       "      <td id=\"T_60271_row4_col4\" class=\"data row4 col4\" >10.6043</td>\n",
       "      <td id=\"T_60271_row4_col5\" class=\"data row4 col5\" >0.0377</td>\n",
       "      <td id=\"T_60271_row4_col6\" class=\"data row4 col6\" >0.0383</td>\n",
       "      <td id=\"T_60271_row4_col7\" class=\"data row4 col7\" >0.1333</td>\n",
       "    </tr>\n",
       "    <tr>\n",
       "      <th id=\"T_60271_level0_row5\" class=\"row_heading level0 row5\" >br_cds_dt</th>\n",
       "      <td id=\"T_60271_row5_col0\" class=\"data row5 col0\" >Bayesian Ridge w/ Cond. Deseasonalize & Detrending</td>\n",
       "      <td id=\"T_60271_row5_col1\" class=\"data row5 col1\" >2.7649</td>\n",
       "      <td id=\"T_60271_row5_col2\" class=\"data row5 col2\" >2.4054</td>\n",
       "      <td id=\"T_60271_row5_col3\" class=\"data row5 col3\" >10.5806</td>\n",
       "      <td id=\"T_60271_row5_col4\" class=\"data row5 col4\" >10.5806</td>\n",
       "      <td id=\"T_60271_row5_col5\" class=\"data row5 col5\" >0.0376</td>\n",
       "      <td id=\"T_60271_row5_col6\" class=\"data row5 col6\" >0.0382</td>\n",
       "      <td id=\"T_60271_row5_col7\" class=\"data row5 col7\" >0.0900</td>\n",
       "    </tr>\n",
       "    <tr>\n",
       "      <th id=\"T_60271_level0_row6\" class=\"row_heading level0 row6\" >en_cds_dt</th>\n",
       "      <td id=\"T_60271_row6_col0\" class=\"data row6 col0\" >Elastic Net w/ Cond. Deseasonalize & Detrending</td>\n",
       "      <td id=\"T_60271_row6_col1\" class=\"data row6 col1\" >2.7925</td>\n",
       "      <td id=\"T_60271_row6_col2\" class=\"data row6 col2\" >2.4334</td>\n",
       "      <td id=\"T_60271_row6_col3\" class=\"data row6 col3\" >10.7459</td>\n",
       "      <td id=\"T_60271_row6_col4\" class=\"data row6 col4\" >10.7459</td>\n",
       "      <td id=\"T_60271_row6_col5\" class=\"data row6 col5\" >0.0382</td>\n",
       "      <td id=\"T_60271_row6_col6\" class=\"data row6 col6\" >0.0388</td>\n",
       "      <td id=\"T_60271_row6_col7\" class=\"data row6 col7\" >0.4167</td>\n",
       "    </tr>\n",
       "    <tr>\n",
       "      <th id=\"T_60271_level0_row7\" class=\"row_heading level0 row7\" >huber_cds_dt</th>\n",
       "      <td id=\"T_60271_row7_col0\" class=\"data row7 col0\" >Huber w/ Cond. Deseasonalize & Detrending</td>\n",
       "      <td id=\"T_60271_row7_col1\" class=\"data row7 col1\" >2.7965</td>\n",
       "      <td id=\"T_60271_row7_col2\" class=\"data row7 col2\" >2.4332</td>\n",
       "      <td id=\"T_60271_row7_col3\" class=\"data row7 col3\" >10.7201</td>\n",
       "      <td id=\"T_60271_row7_col4\" class=\"data row7 col4\" >10.7201</td>\n",
       "      <td id=\"T_60271_row7_col5\" class=\"data row7 col5\" >0.0382</td>\n",
       "      <td id=\"T_60271_row7_col6\" class=\"data row7 col6\" >0.0387</td>\n",
       "      <td id=\"T_60271_row7_col7\" class=\"data row7 col7\" >0.0867</td>\n",
       "    </tr>\n",
       "    <tr>\n",
       "      <th id=\"T_60271_level0_row8\" class=\"row_heading level0 row8\" >omp_cds_dt</th>\n",
       "      <td id=\"T_60271_row8_col0\" class=\"data row8 col0\" >Orthogonal Matching Pursuit w/ Cond. Deseasonalize & Detrending</td>\n",
       "      <td id=\"T_60271_row8_col1\" class=\"data row8 col1\" >2.7967</td>\n",
       "      <td id=\"T_60271_row8_col2\" class=\"data row8 col2\" >2.4334</td>\n",
       "      <td id=\"T_60271_row8_col3\" class=\"data row8 col3\" >10.7208</td>\n",
       "      <td id=\"T_60271_row8_col4\" class=\"data row8 col4\" >10.7208</td>\n",
       "      <td id=\"T_60271_row8_col5\" class=\"data row8 col5\" >0.0382</td>\n",
       "      <td id=\"T_60271_row8_col6\" class=\"data row8 col6\" >0.0387</td>\n",
       "      <td id=\"T_60271_row8_col7\" class=\"data row8 col7\" >0.0767</td>\n",
       "    </tr>\n",
       "    <tr>\n",
       "      <th id=\"T_60271_level0_row9\" class=\"row_heading level0 row9\" >lr_cds_dt</th>\n",
       "      <td id=\"T_60271_row9_col0\" class=\"data row9 col0\" >Linear w/ Cond. Deseasonalize & Detrending</td>\n",
       "      <td id=\"T_60271_row9_col1\" class=\"data row9 col1\" >2.7967</td>\n",
       "      <td id=\"T_60271_row9_col2\" class=\"data row9 col2\" >2.4334</td>\n",
       "      <td id=\"T_60271_row9_col3\" class=\"data row9 col3\" >10.7208</td>\n",
       "      <td id=\"T_60271_row9_col4\" class=\"data row9 col4\" >10.7208</td>\n",
       "      <td id=\"T_60271_row9_col5\" class=\"data row9 col5\" >0.0382</td>\n",
       "      <td id=\"T_60271_row9_col6\" class=\"data row9 col6\" >0.0387</td>\n",
       "      <td id=\"T_60271_row9_col7\" class=\"data row9 col7\" >0.3900</td>\n",
       "    </tr>\n",
       "    <tr>\n",
       "      <th id=\"T_60271_level0_row10\" class=\"row_heading level0 row10\" >ridge_cds_dt</th>\n",
       "      <td id=\"T_60271_row10_col0\" class=\"data row10 col0\" >Ridge w/ Cond. Deseasonalize & Detrending</td>\n",
       "      <td id=\"T_60271_row10_col1\" class=\"data row10 col1\" >2.7967</td>\n",
       "      <td id=\"T_60271_row10_col2\" class=\"data row10 col2\" >2.4356</td>\n",
       "      <td id=\"T_60271_row10_col3\" class=\"data row10 col3\" >10.7509</td>\n",
       "      <td id=\"T_60271_row10_col4\" class=\"data row10 col4\" >10.7509</td>\n",
       "      <td id=\"T_60271_row10_col5\" class=\"data row10 col5\" >0.0383</td>\n",
       "      <td id=\"T_60271_row10_col6\" class=\"data row10 col6\" >0.0389</td>\n",
       "      <td id=\"T_60271_row10_col7\" class=\"data row10 col7\" >0.5467</td>\n",
       "    </tr>\n",
       "    <tr>\n",
       "      <th id=\"T_60271_level0_row11\" class=\"row_heading level0 row11\" >exp_smooth</th>\n",
       "      <td id=\"T_60271_row11_col0\" class=\"data row11 col0\" >Exponential Smoothing</td>\n",
       "      <td id=\"T_60271_row11_col1\" class=\"data row11 col1\" >2.7975</td>\n",
       "      <td id=\"T_60271_row11_col2\" class=\"data row11 col2\" >2.4386</td>\n",
       "      <td id=\"T_60271_row11_col3\" class=\"data row11 col3\" >10.7636</td>\n",
       "      <td id=\"T_60271_row11_col4\" class=\"data row11 col4\" >10.7636</td>\n",
       "      <td id=\"T_60271_row11_col5\" class=\"data row11 col5\" >0.0382</td>\n",
       "      <td id=\"T_60271_row11_col6\" class=\"data row11 col6\" >0.0389</td>\n",
       "      <td id=\"T_60271_row11_col7\" class=\"data row11 col7\" >0.0367</td>\n",
       "    </tr>\n",
       "    <tr>\n",
       "      <th id=\"T_60271_level0_row12\" class=\"row_heading level0 row12\" >polytrend</th>\n",
       "      <td id=\"T_60271_row12_col0\" class=\"data row12 col0\" >Polynomial Trend Forecaster</td>\n",
       "      <td id=\"T_60271_row12_col1\" class=\"data row12 col1\" >2.7975</td>\n",
       "      <td id=\"T_60271_row12_col2\" class=\"data row12 col2\" >2.4385</td>\n",
       "      <td id=\"T_60271_row12_col3\" class=\"data row12 col3\" >10.7634</td>\n",
       "      <td id=\"T_60271_row12_col4\" class=\"data row12 col4\" >10.7634</td>\n",
       "      <td id=\"T_60271_row12_col5\" class=\"data row12 col5\" >0.0382</td>\n",
       "      <td id=\"T_60271_row12_col6\" class=\"data row12 col6\" >0.0389</td>\n",
       "      <td id=\"T_60271_row12_col7\" class=\"data row12 col7\" >3.1233</td>\n",
       "    </tr>\n",
       "    <tr>\n",
       "      <th id=\"T_60271_level0_row13\" class=\"row_heading level0 row13\" >rf_cds_dt</th>\n",
       "      <td id=\"T_60271_row13_col0\" class=\"data row13 col0\" >Random Forest w/ Cond. Deseasonalize & Detrending</td>\n",
       "      <td id=\"T_60271_row13_col1\" class=\"data row13 col1\" >2.8348</td>\n",
       "      <td id=\"T_60271_row13_col2\" class=\"data row13 col2\" >2.4678</td>\n",
       "      <td id=\"T_60271_row13_col3\" class=\"data row13 col3\" >10.8777</td>\n",
       "      <td id=\"T_60271_row13_col4\" class=\"data row13 col4\" >10.8777</td>\n",
       "      <td id=\"T_60271_row13_col5\" class=\"data row13 col5\" >0.0387</td>\n",
       "      <td id=\"T_60271_row13_col6\" class=\"data row13 col6\" >0.0393</td>\n",
       "      <td id=\"T_60271_row13_col7\" class=\"data row13 col7\" >2.8167</td>\n",
       "    </tr>\n",
       "    <tr>\n",
       "      <th id=\"T_60271_level0_row14\" class=\"row_heading level0 row14\" >dt_cds_dt</th>\n",
       "      <td id=\"T_60271_row14_col0\" class=\"data row14 col0\" >Decision Tree w/ Cond. Deseasonalize & Detrending</td>\n",
       "      <td id=\"T_60271_row14_col1\" class=\"data row14 col1\" >2.9515</td>\n",
       "      <td id=\"T_60271_row14_col2\" class=\"data row14 col2\" >2.5669</td>\n",
       "      <td id=\"T_60271_row14_col3\" class=\"data row14 col3\" >11.2953</td>\n",
       "      <td id=\"T_60271_row14_col4\" class=\"data row14 col4\" >11.2953</td>\n",
       "      <td id=\"T_60271_row14_col5\" class=\"data row14 col5\" >0.0402</td>\n",
       "      <td id=\"T_60271_row14_col6\" class=\"data row14 col6\" >0.0409</td>\n",
       "      <td id=\"T_60271_row14_col7\" class=\"data row14 col7\" >3.2233</td>\n",
       "    </tr>\n",
       "    <tr>\n",
       "      <th id=\"T_60271_level0_row15\" class=\"row_heading level0 row15\" >et_cds_dt</th>\n",
       "      <td id=\"T_60271_row15_col0\" class=\"data row15 col0\" >Extra Trees w/ Cond. Deseasonalize & Detrending</td>\n",
       "      <td id=\"T_60271_row15_col1\" class=\"data row15 col1\" >2.9515</td>\n",
       "      <td id=\"T_60271_row15_col2\" class=\"data row15 col2\" >2.5669</td>\n",
       "      <td id=\"T_60271_row15_col3\" class=\"data row15 col3\" >11.2953</td>\n",
       "      <td id=\"T_60271_row15_col4\" class=\"data row15 col4\" >11.2953</td>\n",
       "      <td id=\"T_60271_row15_col5\" class=\"data row15 col5\" >0.0402</td>\n",
       "      <td id=\"T_60271_row15_col6\" class=\"data row15 col6\" >0.0409</td>\n",
       "      <td id=\"T_60271_row15_col7\" class=\"data row15 col7\" >3.1933</td>\n",
       "    </tr>\n",
       "    <tr>\n",
       "      <th id=\"T_60271_level0_row16\" class=\"row_heading level0 row16\" >gbr_cds_dt</th>\n",
       "      <td id=\"T_60271_row16_col0\" class=\"data row16 col0\" >Gradient Boosting w/ Cond. Deseasonalize & Detrending</td>\n",
       "      <td id=\"T_60271_row16_col1\" class=\"data row16 col1\" >2.9515</td>\n",
       "      <td id=\"T_60271_row16_col2\" class=\"data row16 col2\" >2.5669</td>\n",
       "      <td id=\"T_60271_row16_col3\" class=\"data row16 col3\" >11.2953</td>\n",
       "      <td id=\"T_60271_row16_col4\" class=\"data row16 col4\" >11.2953</td>\n",
       "      <td id=\"T_60271_row16_col5\" class=\"data row16 col5\" >0.0402</td>\n",
       "      <td id=\"T_60271_row16_col6\" class=\"data row16 col6\" >0.0409</td>\n",
       "      <td id=\"T_60271_row16_col7\" class=\"data row16 col7\" >0.2367</td>\n",
       "    </tr>\n",
       "    <tr>\n",
       "      <th id=\"T_60271_level0_row17\" class=\"row_heading level0 row17\" >xgboost_cds_dt</th>\n",
       "      <td id=\"T_60271_row17_col0\" class=\"data row17 col0\" >Extreme Gradient Boosting w/ Cond. Deseasonalize & Detrending</td>\n",
       "      <td id=\"T_60271_row17_col1\" class=\"data row17 col1\" >2.9515</td>\n",
       "      <td id=\"T_60271_row17_col2\" class=\"data row17 col2\" >2.5668</td>\n",
       "      <td id=\"T_60271_row17_col3\" class=\"data row17 col3\" >11.2952</td>\n",
       "      <td id=\"T_60271_row17_col4\" class=\"data row17 col4\" >11.2952</td>\n",
       "      <td id=\"T_60271_row17_col5\" class=\"data row17 col5\" >0.0402</td>\n",
       "      <td id=\"T_60271_row17_col6\" class=\"data row17 col6\" >0.0409</td>\n",
       "      <td id=\"T_60271_row17_col7\" class=\"data row17 col7\" >0.4600</td>\n",
       "    </tr>\n",
       "    <tr>\n",
       "      <th id=\"T_60271_level0_row18\" class=\"row_heading level0 row18\" >theta</th>\n",
       "      <td id=\"T_60271_row18_col0\" class=\"data row18 col0\" >Theta Forecaster</td>\n",
       "      <td id=\"T_60271_row18_col1\" class=\"data row18 col1\" >3.0111</td>\n",
       "      <td id=\"T_60271_row18_col2\" class=\"data row18 col2\" >2.6239</td>\n",
       "      <td id=\"T_60271_row18_col3\" class=\"data row18 col3\" >11.5307</td>\n",
       "      <td id=\"T_60271_row18_col4\" class=\"data row18 col4\" >11.5307</td>\n",
       "      <td id=\"T_60271_row18_col5\" class=\"data row18 col5\" >0.0408</td>\n",
       "      <td id=\"T_60271_row18_col6\" class=\"data row18 col6\" >0.0418</td>\n",
       "      <td id=\"T_60271_row18_col7\" class=\"data row18 col7\" >0.0467</td>\n",
       "    </tr>\n",
       "    <tr>\n",
       "      <th id=\"T_60271_level0_row19\" class=\"row_heading level0 row19\" >ets</th>\n",
       "      <td id=\"T_60271_row19_col0\" class=\"data row19 col0\" >ETS</td>\n",
       "      <td id=\"T_60271_row19_col1\" class=\"data row19 col1\" >3.1115</td>\n",
       "      <td id=\"T_60271_row19_col2\" class=\"data row19 col2\" >2.7083</td>\n",
       "      <td id=\"T_60271_row19_col3\" class=\"data row19 col3\" >11.8876</td>\n",
       "      <td id=\"T_60271_row19_col4\" class=\"data row19 col4\" >11.8876</td>\n",
       "      <td id=\"T_60271_row19_col5\" class=\"data row19 col5\" >0.0421</td>\n",
       "      <td id=\"T_60271_row19_col6\" class=\"data row19 col6\" >0.0431</td>\n",
       "      <td id=\"T_60271_row19_col7\" class=\"data row19 col7\" >0.0500</td>\n",
       "    </tr>\n",
       "    <tr>\n",
       "      <th id=\"T_60271_level0_row20\" class=\"row_heading level0 row20\" >grand_means</th>\n",
       "      <td id=\"T_60271_row20_col0\" class=\"data row20 col0\" >Grand Means Forecaster</td>\n",
       "      <td id=\"T_60271_row20_col1\" class=\"data row20 col1\" >3.3678</td>\n",
       "      <td id=\"T_60271_row20_col2\" class=\"data row20 col2\" >2.9462</td>\n",
       "      <td id=\"T_60271_row20_col3\" class=\"data row20 col3\" >12.9844</td>\n",
       "      <td id=\"T_60271_row20_col4\" class=\"data row20 col4\" >12.9844</td>\n",
       "      <td id=\"T_60271_row20_col5\" class=\"data row20 col5\" >0.0456</td>\n",
       "      <td id=\"T_60271_row20_col6\" class=\"data row20 col6\" >0.0475</td>\n",
       "      <td id=\"T_60271_row20_col7\" class=\"data row20 col7\" >3.3900</td>\n",
       "    </tr>\n",
       "    <tr>\n",
       "      <th id=\"T_60271_level0_row21\" class=\"row_heading level0 row21\" >auto_arima</th>\n",
       "      <td id=\"T_60271_row21_col0\" class=\"data row21 col0\" >Auto ARIMA</td>\n",
       "      <td id=\"T_60271_row21_col1\" class=\"data row21 col1\" >3.3678</td>\n",
       "      <td id=\"T_60271_row21_col2\" class=\"data row21 col2\" >2.9462</td>\n",
       "      <td id=\"T_60271_row21_col3\" class=\"data row21 col3\" >12.9844</td>\n",
       "      <td id=\"T_60271_row21_col4\" class=\"data row21 col4\" >12.9844</td>\n",
       "      <td id=\"T_60271_row21_col5\" class=\"data row21 col5\" >0.0456</td>\n",
       "      <td id=\"T_60271_row21_col6\" class=\"data row21 col6\" >0.0475</td>\n",
       "      <td id=\"T_60271_row21_col7\" class=\"data row21 col7\" >0.2500</td>\n",
       "    </tr>\n",
       "    <tr>\n",
       "      <th id=\"T_60271_level0_row22\" class=\"row_heading level0 row22\" >croston</th>\n",
       "      <td id=\"T_60271_row22_col0\" class=\"data row22 col0\" >Croston</td>\n",
       "      <td id=\"T_60271_row22_col1\" class=\"data row22 col1\" >4.3294</td>\n",
       "      <td id=\"T_60271_row22_col2\" class=\"data row22 col2\" >3.8017</td>\n",
       "      <td id=\"T_60271_row22_col3\" class=\"data row22 col3\" >17.0053</td>\n",
       "      <td id=\"T_60271_row22_col4\" class=\"data row22 col4\" >17.0053</td>\n",
       "      <td id=\"T_60271_row22_col5\" class=\"data row22 col5\" >0.0603</td>\n",
       "      <td id=\"T_60271_row22_col6\" class=\"data row22 col6\" >0.0630</td>\n",
       "      <td id=\"T_60271_row22_col7\" class=\"data row22 col7\" >0.0167</td>\n",
       "    </tr>\n",
       "    <tr>\n",
       "      <th id=\"T_60271_level0_row23\" class=\"row_heading level0 row23\" >arima</th>\n",
       "      <td id=\"T_60271_row23_col0\" class=\"data row23 col0\" >ARIMA</td>\n",
       "      <td id=\"T_60271_row23_col1\" class=\"data row23 col1\" >14.6199</td>\n",
       "      <td id=\"T_60271_row23_col2\" class=\"data row23 col2\" >13.9672</td>\n",
       "      <td id=\"T_60271_row23_col3\" class=\"data row23 col3\" >75.2964</td>\n",
       "      <td id=\"T_60271_row23_col4\" class=\"data row23 col4\" >75.2964</td>\n",
       "      <td id=\"T_60271_row23_col5\" class=\"data row23 col5\" >0.2790</td>\n",
       "      <td id=\"T_60271_row23_col6\" class=\"data row23 col6\" >0.4258</td>\n",
       "      <td id=\"T_60271_row23_col7\" class=\"data row23 col7\" >0.1767</td>\n",
       "    </tr>\n",
       "  </tbody>\n",
       "</table>\n"
      ],
      "text/plain": [
       "<pandas.io.formats.style.Styler at 0x189a8ea1510>"
      ]
     },
     "metadata": {},
     "output_type": "display_data"
    },
    {
     "data": {
      "text/html": [],
      "text/plain": [
       "<IPython.core.display.HTML object>"
      ]
     },
     "metadata": {},
     "output_type": "display_data"
    }
   ],
   "source": [
    "top4 = exp.compare_models(n_select = 4)"
   ]
  },
  {
   "cell_type": "markdown",
   "metadata": {},
   "source": [
    "## Lag and Difference\n",
    "Time series data modeling is to find patterns in the process of normalizing nonstationary time series data. \n",
    "Lag and difference are the most representative methods used in the process of making a stationary time series into a stationary time series."
   ]
  },
  {
   "cell_type": "markdown",
   "metadata": {},
   "source": [
    "## Difference Plot Using Order"
   ]
  },
  {
   "cell_type": "code",
   "execution_count": 11,
   "metadata": {},
   "outputs": [
    {
     "data": {
      "application/vnd.plotly.v1+json": {
       "config": {
        "plotlyServerURL": "https://plot.ly"
       },
       "data": [
        {
         "hoverinfo": "skip",
         "line": {
          "width": 2
         },
         "marker": {
          "size": 5
         },
         "mode": "lines+markers",
         "name": "Actual",
         "showlegend": false,
         "type": "scattergl",
         "x": [
          "2017-01-01T00:00:00",
          "2018-01-01T00:00:00",
          "2019-01-01T00:00:00",
          "2020-01-01T00:00:00",
          "2021-01-01T00:00:00",
          "2022-01-01T00:00:00",
          "2023-01-01T00:00:00"
         ],
         "xaxis": "x",
         "y": [
          255.06,
          259.33,
          266.04,
          267.16,
          264.94,
          291.4,
          301.8
         ],
         "yaxis": "y"
        },
        {
         "line": {
          "color": "#3f3f3f"
         },
         "mode": "lines",
         "name": "Actual",
         "showlegend": false,
         "type": "scattergl",
         "x": [
          0,
          0
         ],
         "xaxis": "x2",
         "y": [
          0,
          1
         ],
         "yaxis": "y2"
        },
        {
         "line": {
          "color": "#3f3f3f"
         },
         "mode": "lines",
         "name": "Actual",
         "showlegend": false,
         "type": "scattergl",
         "x": [
          1,
          1
         ],
         "xaxis": "x2",
         "y": [
          0,
          0.43785353983125086
         ],
         "yaxis": "y2"
        },
        {
         "line": {
          "color": "#3f3f3f"
         },
         "mode": "lines",
         "name": "Actual",
         "showlegend": false,
         "type": "scattergl",
         "x": [
          2,
          2
         ],
         "xaxis": "x2",
         "y": [
          0,
          -0.05253623735585549
         ],
         "yaxis": "y2"
        },
        {
         "line": {
          "color": "#3f3f3f"
         },
         "mode": "lines",
         "name": "Actual",
         "showlegend": false,
         "type": "scattergl",
         "x": [
          3,
          3
         ],
         "xaxis": "x2",
         "y": [
          0,
          -0.04801702600852466
         ],
         "yaxis": "y2"
        },
        {
         "line": {
          "color": "#3f3f3f"
         },
         "mode": "lines",
         "name": "Actual",
         "showlegend": false,
         "type": "scattergl",
         "x": [
          4,
          4
         ],
         "xaxis": "x2",
         "y": [
          0,
          -0.16769626520545183
         ],
         "yaxis": "y2"
        },
        {
         "line": {
          "color": "#3f3f3f"
         },
         "mode": "lines",
         "name": "Actual",
         "showlegend": false,
         "type": "scattergl",
         "x": [
          5,
          5
         ],
         "xaxis": "x2",
         "y": [
          0,
          -0.3905612561188059
         ],
         "yaxis": "y2"
        },
        {
         "line": {
          "color": "#3f3f3f"
         },
         "mode": "lines",
         "name": "Actual",
         "showlegend": false,
         "type": "scattergl",
         "x": [
          6,
          6
         ],
         "xaxis": "x2",
         "y": [
          0,
          -0.27904275514261306
         ],
         "yaxis": "y2"
        },
        {
         "marker": {
          "color": "#1f77b4",
          "size": 6
         },
         "mode": "markers",
         "name": "Actual",
         "showlegend": false,
         "type": "scattergl",
         "x": [
          0,
          1,
          2,
          3,
          4,
          5,
          6
         ],
         "xaxis": "x2",
         "y": [
          1,
          0.43785353983125086,
          -0.05253623735585549,
          -0.04801702600852466,
          -0.16769626520545183,
          -0.3905612561188059,
          -0.27904275514261306
         ],
         "yaxis": "y2"
        },
        {
         "line": {
          "color": "rgba(255,255,255,0)"
         },
         "mode": "lines",
         "name": "UC",
         "showlegend": false,
         "type": "scatter",
         "x": [
          0,
          1,
          2,
          3,
          4,
          5,
          6
         ],
         "xaxis": "x2",
         "y": [
          0,
          0.7407967545337466,
          0.8713204204795634,
          0.873057043689898,
          0.8745051019154593,
          0.8919780194207008,
          0.9813482801945199
         ],
         "yaxis": "y2"
        },
        {
         "fill": "tonexty",
         "fillcolor": "rgba(32, 146, 230,0.3)",
         "line": {
          "color": "rgba(255,255,255,0)"
         },
         "mode": "lines",
         "name": "LC",
         "showlegend": false,
         "type": "scatter",
         "x": [
          0,
          1,
          2,
          3,
          4,
          5,
          6
         ],
         "xaxis": "x2",
         "y": [
          0,
          -0.7407967545337466,
          -0.8713204204795634,
          -0.873057043689898,
          -0.874505101915459,
          -0.8919780194207008,
          -0.9813482801945199
         ],
         "yaxis": "y2"
        },
        {
         "line": {
          "color": "#3f3f3f"
         },
         "mode": "lines",
         "name": "Actual",
         "showlegend": false,
         "type": "scattergl",
         "x": [
          0,
          0
         ],
         "xaxis": "x3",
         "y": [
          0,
          1
         ],
         "yaxis": "y3"
        },
        {
         "line": {
          "color": "#3f3f3f"
         },
         "mode": "lines",
         "name": "Actual",
         "showlegend": false,
         "type": "scattergl",
         "x": [
          1,
          1
         ],
         "xaxis": "x3",
         "y": [
          0,
          0.5108291298031259
         ],
         "yaxis": "y3"
        },
        {
         "line": {
          "color": "#3f3f3f"
         },
         "mode": "lines",
         "name": "Actual",
         "showlegend": false,
         "type": "scattergl",
         "x": [
          2,
          2
         ],
         "xaxis": "x3",
         "y": [
          0,
          -0.4526019927217443
         ],
         "yaxis": "y3"
        },
        {
         "marker": {
          "color": "#1f77b4",
          "size": 6
         },
         "mode": "markers",
         "name": "Actual",
         "showlegend": false,
         "type": "scattergl",
         "x": [
          0,
          1,
          2
         ],
         "xaxis": "x3",
         "y": [
          1,
          0.5108291298031259,
          -0.4526019927217443
         ],
         "yaxis": "y3"
        },
        {
         "line": {
          "color": "rgba(255,255,255,0)"
         },
         "mode": "lines",
         "name": "UC",
         "showlegend": false,
         "type": "scatter",
         "x": [
          0,
          1,
          2
         ],
         "xaxis": "x3",
         "y": [
          0,
          0.7407967545337465,
          0.7407967545337466
         ],
         "yaxis": "y3"
        },
        {
         "fill": "tonexty",
         "fillcolor": "rgba(32, 146, 230,0.3)",
         "line": {
          "color": "rgba(255,255,255,0)"
         },
         "mode": "lines",
         "name": "LC",
         "showlegend": false,
         "type": "scatter",
         "x": [
          0,
          1,
          2
         ],
         "xaxis": "x3",
         "y": [
          0,
          -0.7407967545337466,
          -0.7407967545337467
         ],
         "yaxis": "y3"
        },
        {
         "hoverinfo": "skip",
         "line": {
          "width": 2
         },
         "marker": {
          "size": 5
         },
         "mode": "lines+markers",
         "name": "Order=1",
         "showlegend": false,
         "type": "scattergl",
         "x": [
          "2018-01-01T00:00:00",
          "2019-01-01T00:00:00",
          "2020-01-01T00:00:00",
          "2021-01-01T00:00:00",
          "2022-01-01T00:00:00",
          "2023-01-01T00:00:00"
         ],
         "xaxis": "x4",
         "y": [
          4.269999999999982,
          6.710000000000036,
          1.1200000000000045,
          -2.2200000000000273,
          26.45999999999998,
          10.400000000000034
         ],
         "yaxis": "y4"
        },
        {
         "line": {
          "color": "#3f3f3f"
         },
         "mode": "lines",
         "name": "Order=1",
         "showlegend": false,
         "type": "scattergl",
         "x": [
          0,
          0
         ],
         "xaxis": "x5",
         "y": [
          0,
          1
         ],
         "yaxis": "y5"
        },
        {
         "line": {
          "color": "#3f3f3f"
         },
         "mode": "lines",
         "name": "Order=1",
         "showlegend": false,
         "type": "scattergl",
         "x": [
          1,
          1
         ],
         "xaxis": "x5",
         "y": [
          0,
          -0.11756804746169781
         ],
         "yaxis": "y5"
        },
        {
         "line": {
          "color": "#3f3f3f"
         },
         "mode": "lines",
         "name": "Order=1",
         "showlegend": false,
         "type": "scattergl",
         "x": [
          2,
          2
         ],
         "xaxis": "x5",
         "y": [
          0,
          -0.2265571033287211
         ],
         "yaxis": "y5"
        },
        {
         "line": {
          "color": "#3f3f3f"
         },
         "mode": "lines",
         "name": "Order=1",
         "showlegend": false,
         "type": "scattergl",
         "x": [
          3,
          3
         ],
         "xaxis": "x5",
         "y": [
          0,
          -0.004550190916827591
         ],
         "yaxis": "y5"
        },
        {
         "line": {
          "color": "#3f3f3f"
         },
         "mode": "lines",
         "name": "Order=1",
         "showlegend": false,
         "type": "scattergl",
         "x": [
          4,
          4
         ],
         "xaxis": "x5",
         "y": [
          0,
          -0.1334377411770575
         ],
         "yaxis": "y5"
        },
        {
         "line": {
          "color": "#3f3f3f"
         },
         "mode": "lines",
         "name": "Order=1",
         "showlegend": false,
         "type": "scattergl",
         "x": [
          5,
          5
         ],
         "xaxis": "x5",
         "y": [
          0,
          -0.017886917115695976
         ],
         "yaxis": "y5"
        },
        {
         "marker": {
          "color": "#1f77b4",
          "size": 6
         },
         "mode": "markers",
         "name": "Order=1",
         "showlegend": false,
         "type": "scattergl",
         "x": [
          0,
          1,
          2,
          3,
          4,
          5
         ],
         "xaxis": "x5",
         "y": [
          1,
          -0.11756804746169781,
          -0.2265571033287211,
          -0.004550190916827591,
          -0.1334377411770575,
          -0.017886917115695976
         ],
         "yaxis": "y5"
        },
        {
         "line": {
          "color": "rgba(255,255,255,0)"
         },
         "mode": "lines",
         "name": "UC",
         "showlegend": false,
         "type": "scatter",
         "x": [
          0,
          1,
          2,
          3,
          4,
          5
         ],
         "xaxis": "x5",
         "y": [
          0,
          0.8001519460592184,
          0.8111364452288823,
          0.8506863624479273,
          0.8507019447178051,
          0.8639986484597991
         ],
         "yaxis": "y5"
        },
        {
         "fill": "tonexty",
         "fillcolor": "rgba(32, 146, 230,0.3)",
         "line": {
          "color": "rgba(255,255,255,0)"
         },
         "mode": "lines",
         "name": "LC",
         "showlegend": false,
         "type": "scatter",
         "x": [
          0,
          1,
          2,
          3,
          4,
          5
         ],
         "xaxis": "x5",
         "y": [
          0,
          -0.8001519460592184,
          -0.8111364452288825,
          -0.8506863624479273,
          -0.8507019447178051,
          -0.8639986484597991
         ],
         "yaxis": "y5"
        },
        {
         "line": {
          "color": "#3f3f3f"
         },
         "mode": "lines",
         "name": "Order=1",
         "showlegend": false,
         "type": "scattergl",
         "x": [
          0,
          0
         ],
         "xaxis": "x6",
         "y": [
          0,
          1
         ],
         "yaxis": "y6"
        },
        {
         "line": {
          "color": "#3f3f3f"
         },
         "mode": "lines",
         "name": "Order=1",
         "showlegend": false,
         "type": "scattergl",
         "x": [
          1,
          1
         ],
         "xaxis": "x6",
         "y": [
          0,
          -0.14108165695403735
         ],
         "yaxis": "y6"
        },
        {
         "line": {
          "color": "#3f3f3f"
         },
         "mode": "lines",
         "name": "Order=1",
         "showlegend": false,
         "type": "scattergl",
         "x": [
          2,
          2
         ],
         "xaxis": "x6",
         "y": [
          0,
          -0.36704537246904684
         ],
         "yaxis": "y6"
        },
        {
         "marker": {
          "color": "#1f77b4",
          "size": 6
         },
         "mode": "markers",
         "name": "Order=1",
         "showlegend": false,
         "type": "scattergl",
         "x": [
          0,
          1,
          2
         ],
         "xaxis": "x6",
         "y": [
          1,
          -0.14108165695403735,
          -0.36704537246904684
         ],
         "yaxis": "y6"
        },
        {
         "line": {
          "color": "rgba(255,255,255,0)"
         },
         "mode": "lines",
         "name": "UC",
         "showlegend": false,
         "type": "scatter",
         "x": [
          0,
          1,
          2
         ],
         "xaxis": "x6",
         "y": [
          0,
          0.8001519460592184,
          0.8001519460592184
         ],
         "yaxis": "y6"
        },
        {
         "fill": "tonexty",
         "fillcolor": "rgba(32, 146, 230,0.3)",
         "line": {
          "color": "rgba(255,255,255,0)"
         },
         "mode": "lines",
         "name": "LC",
         "showlegend": false,
         "type": "scatter",
         "x": [
          0,
          1,
          2
         ],
         "xaxis": "x6",
         "y": [
          0,
          -0.8001519460592184,
          -0.8001519460592184
         ],
         "yaxis": "y6"
        },
        {
         "hoverinfo": "skip",
         "line": {
          "width": 2
         },
         "marker": {
          "size": 5
         },
         "mode": "lines+markers",
         "name": "Order=2",
         "showlegend": false,
         "type": "scattergl",
         "x": [
          "2019-01-01T00:00:00",
          "2020-01-01T00:00:00",
          "2021-01-01T00:00:00",
          "2022-01-01T00:00:00",
          "2023-01-01T00:00:00"
         ],
         "xaxis": "x7",
         "y": [
          2.4400000000000546,
          -5.590000000000032,
          -3.340000000000032,
          28.680000000000007,
          -16.059999999999945
         ],
         "yaxis": "y7"
        },
        {
         "line": {
          "color": "#3f3f3f"
         },
         "mode": "lines",
         "name": "Order=2",
         "showlegend": false,
         "type": "scattergl",
         "x": [
          0,
          0
         ],
         "xaxis": "x8",
         "y": [
          0,
          1
         ],
         "yaxis": "y8"
        },
        {
         "line": {
          "color": "#3f3f3f"
         },
         "mode": "lines",
         "name": "Order=2",
         "showlegend": false,
         "type": "scattergl",
         "x": [
          1,
          1
         ],
         "xaxis": "x8",
         "y": [
          0,
          -0.5146468384883968
         ],
         "yaxis": "y8"
        },
        {
         "line": {
          "color": "#3f3f3f"
         },
         "mode": "lines",
         "name": "Order=2",
         "showlegend": false,
         "type": "scattergl",
         "x": [
          2,
          2
         ],
         "xaxis": "x8",
         "y": [
          0,
          -0.10143664373654022
         ],
         "yaxis": "y8"
        },
        {
         "line": {
          "color": "#3f3f3f"
         },
         "mode": "lines",
         "name": "Order=2",
         "showlegend": false,
         "type": "scattergl",
         "x": [
          3,
          3
         ],
         "xaxis": "x8",
         "y": [
          0,
          0.13479841647778754
         ],
         "yaxis": "y8"
        },
        {
         "line": {
          "color": "#3f3f3f"
         },
         "mode": "lines",
         "name": "Order=2",
         "showlegend": false,
         "type": "scattergl",
         "x": [
          4,
          4
         ],
         "xaxis": "x8",
         "y": [
          0,
          -0.01871493425285056
         ],
         "yaxis": "y8"
        },
        {
         "marker": {
          "color": "#1f77b4",
          "size": 6
         },
         "mode": "markers",
         "name": "Order=2",
         "showlegend": false,
         "type": "scattergl",
         "x": [
          0,
          1,
          2,
          3,
          4
         ],
         "xaxis": "x8",
         "y": [
          1,
          -0.5146468384883968,
          -0.10143664373654022,
          0.13479841647778754,
          -0.01871493425285056
         ],
         "yaxis": "y8"
        },
        {
         "line": {
          "color": "rgba(255,255,255,0)"
         },
         "mode": "lines",
         "name": "UC",
         "showlegend": false,
         "type": "scatter",
         "x": [
          0,
          1,
          2,
          3,
          4
         ],
         "xaxis": "x8",
         "y": [
          0,
          0.8765225405765815,
          1.0841002629126406,
          1.091367899186422,
          1.1040853934997858
         ],
         "yaxis": "y8"
        },
        {
         "fill": "tonexty",
         "fillcolor": "rgba(32, 146, 230,0.3)",
         "line": {
          "color": "rgba(255,255,255,0)"
         },
         "mode": "lines",
         "name": "LC",
         "showlegend": false,
         "type": "scatter",
         "x": [
          0,
          1,
          2,
          3,
          4
         ],
         "xaxis": "x8",
         "y": [
          0,
          -0.8765225405765814,
          -1.0841002629126406,
          -1.091367899186422,
          -1.1040853934997858
         ],
         "yaxis": "y8"
        },
        {
         "line": {
          "color": "#3f3f3f"
         },
         "mode": "lines",
         "name": "Order=2",
         "showlegend": false,
         "type": "scattergl",
         "x": [
          0,
          0
         ],
         "xaxis": "x9",
         "y": [
          0,
          1
         ],
         "yaxis": "y9"
        },
        {
         "line": {
          "color": "#3f3f3f"
         },
         "mode": "lines",
         "name": "Order=2",
         "showlegend": false,
         "type": "scattergl",
         "x": [
          1,
          1
         ],
         "xaxis": "x9",
         "y": [
          0,
          -0.643308548110496
         ],
         "yaxis": "y9"
        },
        {
         "marker": {
          "color": "#1f77b4",
          "size": 6
         },
         "mode": "markers",
         "name": "Order=2",
         "showlegend": false,
         "type": "scattergl",
         "x": [
          0,
          1
         ],
         "xaxis": "x9",
         "y": [
          1,
          -0.643308548110496
         ],
         "yaxis": "y9"
        },
        {
         "line": {
          "color": "rgba(255,255,255,0)"
         },
         "mode": "lines",
         "name": "UC",
         "showlegend": false,
         "type": "scatter",
         "x": [
          0,
          1
         ],
         "xaxis": "x9",
         "y": [
          0,
          0.8765225405765815
         ],
         "yaxis": "y9"
        },
        {
         "fill": "tonexty",
         "fillcolor": "rgba(32, 146, 230,0.3)",
         "line": {
          "color": "rgba(255,255,255,0)"
         },
         "mode": "lines",
         "name": "LC",
         "showlegend": false,
         "type": "scatter",
         "x": [
          0,
          1
         ],
         "xaxis": "x9",
         "y": [
          0,
          -0.8765225405765816
         ],
         "yaxis": "y9"
        }
       ],
       "layout": {
        "annotations": [
         {
          "font": {
           "size": 16
          },
          "showarrow": false,
          "text": "value (transformed)",
          "x": 0.1411111111111111,
          "xanchor": "center",
          "xref": "paper",
          "y": 1,
          "yanchor": "bottom",
          "yref": "paper"
         },
         {
          "font": {
           "size": 16
          },
          "showarrow": false,
          "text": "ACF",
          "x": 0.49,
          "xanchor": "center",
          "xref": "paper",
          "y": 1,
          "yanchor": "bottom",
          "yref": "paper"
         },
         {
          "font": {
           "size": 16
          },
          "showarrow": false,
          "text": "PACF",
          "x": 0.8388888888888888,
          "xanchor": "center",
          "xref": "paper",
          "y": 1,
          "yanchor": "bottom",
          "yref": "paper"
         },
         {
          "font": {
           "size": 16
          },
          "showarrow": false,
          "text": "Actual",
          "textangle": 90,
          "x": 0.98,
          "xanchor": "left",
          "xref": "paper",
          "y": 0.8666666666666667,
          "yanchor": "middle",
          "yref": "paper"
         },
         {
          "font": {
           "size": 16
          },
          "showarrow": false,
          "text": "Order=1",
          "textangle": 90,
          "x": 0.98,
          "xanchor": "left",
          "xref": "paper",
          "y": 0.5,
          "yanchor": "middle",
          "yref": "paper"
         },
         {
          "font": {
           "size": 16
          },
          "showarrow": false,
          "text": "Order=2",
          "textangle": 90,
          "x": 0.98,
          "xanchor": "left",
          "xref": "paper",
          "y": 0.13333333333333333,
          "yanchor": "middle",
          "yref": "paper"
         }
        ],
        "autosize": false,
        "height": 700,
        "showlegend": false,
        "template": {
         "data": {
          "bar": [
           {
            "error_x": {
             "color": "rgb(36,36,36)"
            },
            "error_y": {
             "color": "rgb(36,36,36)"
            },
            "marker": {
             "line": {
              "color": "white",
              "width": 0.5
             },
             "pattern": {
              "fillmode": "overlay",
              "size": 10,
              "solidity": 0.2
             }
            },
            "type": "bar"
           }
          ],
          "barpolar": [
           {
            "marker": {
             "line": {
              "color": "white",
              "width": 0.5
             },
             "pattern": {
              "fillmode": "overlay",
              "size": 10,
              "solidity": 0.2
             }
            },
            "type": "barpolar"
           }
          ],
          "carpet": [
           {
            "aaxis": {
             "endlinecolor": "rgb(36,36,36)",
             "gridcolor": "white",
             "linecolor": "white",
             "minorgridcolor": "white",
             "startlinecolor": "rgb(36,36,36)"
            },
            "baxis": {
             "endlinecolor": "rgb(36,36,36)",
             "gridcolor": "white",
             "linecolor": "white",
             "minorgridcolor": "white",
             "startlinecolor": "rgb(36,36,36)"
            },
            "type": "carpet"
           }
          ],
          "choropleth": [
           {
            "colorbar": {
             "outlinewidth": 1,
             "tickcolor": "rgb(36,36,36)",
             "ticks": "outside"
            },
            "type": "choropleth"
           }
          ],
          "contour": [
           {
            "colorbar": {
             "outlinewidth": 1,
             "tickcolor": "rgb(36,36,36)",
             "ticks": "outside"
            },
            "colorscale": [
             [
              0,
              "#440154"
             ],
             [
              0.1111111111111111,
              "#482878"
             ],
             [
              0.2222222222222222,
              "#3e4989"
             ],
             [
              0.3333333333333333,
              "#31688e"
             ],
             [
              0.4444444444444444,
              "#26828e"
             ],
             [
              0.5555555555555556,
              "#1f9e89"
             ],
             [
              0.6666666666666666,
              "#35b779"
             ],
             [
              0.7777777777777778,
              "#6ece58"
             ],
             [
              0.8888888888888888,
              "#b5de2b"
             ],
             [
              1,
              "#fde725"
             ]
            ],
            "type": "contour"
           }
          ],
          "contourcarpet": [
           {
            "colorbar": {
             "outlinewidth": 1,
             "tickcolor": "rgb(36,36,36)",
             "ticks": "outside"
            },
            "type": "contourcarpet"
           }
          ],
          "heatmap": [
           {
            "colorbar": {
             "outlinewidth": 1,
             "tickcolor": "rgb(36,36,36)",
             "ticks": "outside"
            },
            "colorscale": [
             [
              0,
              "#440154"
             ],
             [
              0.1111111111111111,
              "#482878"
             ],
             [
              0.2222222222222222,
              "#3e4989"
             ],
             [
              0.3333333333333333,
              "#31688e"
             ],
             [
              0.4444444444444444,
              "#26828e"
             ],
             [
              0.5555555555555556,
              "#1f9e89"
             ],
             [
              0.6666666666666666,
              "#35b779"
             ],
             [
              0.7777777777777778,
              "#6ece58"
             ],
             [
              0.8888888888888888,
              "#b5de2b"
             ],
             [
              1,
              "#fde725"
             ]
            ],
            "type": "heatmap"
           }
          ],
          "heatmapgl": [
           {
            "colorbar": {
             "outlinewidth": 1,
             "tickcolor": "rgb(36,36,36)",
             "ticks": "outside"
            },
            "colorscale": [
             [
              0,
              "#440154"
             ],
             [
              0.1111111111111111,
              "#482878"
             ],
             [
              0.2222222222222222,
              "#3e4989"
             ],
             [
              0.3333333333333333,
              "#31688e"
             ],
             [
              0.4444444444444444,
              "#26828e"
             ],
             [
              0.5555555555555556,
              "#1f9e89"
             ],
             [
              0.6666666666666666,
              "#35b779"
             ],
             [
              0.7777777777777778,
              "#6ece58"
             ],
             [
              0.8888888888888888,
              "#b5de2b"
             ],
             [
              1,
              "#fde725"
             ]
            ],
            "type": "heatmapgl"
           }
          ],
          "histogram": [
           {
            "marker": {
             "line": {
              "color": "white",
              "width": 0.6
             }
            },
            "type": "histogram"
           }
          ],
          "histogram2d": [
           {
            "colorbar": {
             "outlinewidth": 1,
             "tickcolor": "rgb(36,36,36)",
             "ticks": "outside"
            },
            "colorscale": [
             [
              0,
              "#440154"
             ],
             [
              0.1111111111111111,
              "#482878"
             ],
             [
              0.2222222222222222,
              "#3e4989"
             ],
             [
              0.3333333333333333,
              "#31688e"
             ],
             [
              0.4444444444444444,
              "#26828e"
             ],
             [
              0.5555555555555556,
              "#1f9e89"
             ],
             [
              0.6666666666666666,
              "#35b779"
             ],
             [
              0.7777777777777778,
              "#6ece58"
             ],
             [
              0.8888888888888888,
              "#b5de2b"
             ],
             [
              1,
              "#fde725"
             ]
            ],
            "type": "histogram2d"
           }
          ],
          "histogram2dcontour": [
           {
            "colorbar": {
             "outlinewidth": 1,
             "tickcolor": "rgb(36,36,36)",
             "ticks": "outside"
            },
            "colorscale": [
             [
              0,
              "#440154"
             ],
             [
              0.1111111111111111,
              "#482878"
             ],
             [
              0.2222222222222222,
              "#3e4989"
             ],
             [
              0.3333333333333333,
              "#31688e"
             ],
             [
              0.4444444444444444,
              "#26828e"
             ],
             [
              0.5555555555555556,
              "#1f9e89"
             ],
             [
              0.6666666666666666,
              "#35b779"
             ],
             [
              0.7777777777777778,
              "#6ece58"
             ],
             [
              0.8888888888888888,
              "#b5de2b"
             ],
             [
              1,
              "#fde725"
             ]
            ],
            "type": "histogram2dcontour"
           }
          ],
          "mesh3d": [
           {
            "colorbar": {
             "outlinewidth": 1,
             "tickcolor": "rgb(36,36,36)",
             "ticks": "outside"
            },
            "type": "mesh3d"
           }
          ],
          "parcoords": [
           {
            "line": {
             "colorbar": {
              "outlinewidth": 1,
              "tickcolor": "rgb(36,36,36)",
              "ticks": "outside"
             }
            },
            "type": "parcoords"
           }
          ],
          "pie": [
           {
            "automargin": true,
            "type": "pie"
           }
          ],
          "scatter": [
           {
            "fillpattern": {
             "fillmode": "overlay",
             "size": 10,
             "solidity": 0.2
            },
            "type": "scatter"
           }
          ],
          "scatter3d": [
           {
            "line": {
             "colorbar": {
              "outlinewidth": 1,
              "tickcolor": "rgb(36,36,36)",
              "ticks": "outside"
             }
            },
            "marker": {
             "colorbar": {
              "outlinewidth": 1,
              "tickcolor": "rgb(36,36,36)",
              "ticks": "outside"
             }
            },
            "type": "scatter3d"
           }
          ],
          "scattercarpet": [
           {
            "marker": {
             "colorbar": {
              "outlinewidth": 1,
              "tickcolor": "rgb(36,36,36)",
              "ticks": "outside"
             }
            },
            "type": "scattercarpet"
           }
          ],
          "scattergeo": [
           {
            "marker": {
             "colorbar": {
              "outlinewidth": 1,
              "tickcolor": "rgb(36,36,36)",
              "ticks": "outside"
             }
            },
            "type": "scattergeo"
           }
          ],
          "scattergl": [
           {
            "marker": {
             "colorbar": {
              "outlinewidth": 1,
              "tickcolor": "rgb(36,36,36)",
              "ticks": "outside"
             }
            },
            "type": "scattergl"
           }
          ],
          "scattermapbox": [
           {
            "marker": {
             "colorbar": {
              "outlinewidth": 1,
              "tickcolor": "rgb(36,36,36)",
              "ticks": "outside"
             }
            },
            "type": "scattermapbox"
           }
          ],
          "scatterpolar": [
           {
            "marker": {
             "colorbar": {
              "outlinewidth": 1,
              "tickcolor": "rgb(36,36,36)",
              "ticks": "outside"
             }
            },
            "type": "scatterpolar"
           }
          ],
          "scatterpolargl": [
           {
            "marker": {
             "colorbar": {
              "outlinewidth": 1,
              "tickcolor": "rgb(36,36,36)",
              "ticks": "outside"
             }
            },
            "type": "scatterpolargl"
           }
          ],
          "scatterternary": [
           {
            "marker": {
             "colorbar": {
              "outlinewidth": 1,
              "tickcolor": "rgb(36,36,36)",
              "ticks": "outside"
             }
            },
            "type": "scatterternary"
           }
          ],
          "surface": [
           {
            "colorbar": {
             "outlinewidth": 1,
             "tickcolor": "rgb(36,36,36)",
             "ticks": "outside"
            },
            "colorscale": [
             [
              0,
              "#440154"
             ],
             [
              0.1111111111111111,
              "#482878"
             ],
             [
              0.2222222222222222,
              "#3e4989"
             ],
             [
              0.3333333333333333,
              "#31688e"
             ],
             [
              0.4444444444444444,
              "#26828e"
             ],
             [
              0.5555555555555556,
              "#1f9e89"
             ],
             [
              0.6666666666666666,
              "#35b779"
             ],
             [
              0.7777777777777778,
              "#6ece58"
             ],
             [
              0.8888888888888888,
              "#b5de2b"
             ],
             [
              1,
              "#fde725"
             ]
            ],
            "type": "surface"
           }
          ],
          "table": [
           {
            "cells": {
             "fill": {
              "color": "rgb(237,237,237)"
             },
             "line": {
              "color": "white"
             }
            },
            "header": {
             "fill": {
              "color": "rgb(217,217,217)"
             },
             "line": {
              "color": "white"
             }
            },
            "type": "table"
           }
          ]
         },
         "layout": {
          "annotationdefaults": {
           "arrowhead": 0,
           "arrowwidth": 1
          },
          "autotypenumbers": "strict",
          "coloraxis": {
           "colorbar": {
            "outlinewidth": 1,
            "tickcolor": "rgb(36,36,36)",
            "ticks": "outside"
           }
          },
          "colorscale": {
           "diverging": [
            [
             0,
             "rgb(103,0,31)"
            ],
            [
             0.1,
             "rgb(178,24,43)"
            ],
            [
             0.2,
             "rgb(214,96,77)"
            ],
            [
             0.3,
             "rgb(244,165,130)"
            ],
            [
             0.4,
             "rgb(253,219,199)"
            ],
            [
             0.5,
             "rgb(247,247,247)"
            ],
            [
             0.6,
             "rgb(209,229,240)"
            ],
            [
             0.7,
             "rgb(146,197,222)"
            ],
            [
             0.8,
             "rgb(67,147,195)"
            ],
            [
             0.9,
             "rgb(33,102,172)"
            ],
            [
             1,
             "rgb(5,48,97)"
            ]
           ],
           "sequential": [
            [
             0,
             "#440154"
            ],
            [
             0.1111111111111111,
             "#482878"
            ],
            [
             0.2222222222222222,
             "#3e4989"
            ],
            [
             0.3333333333333333,
             "#31688e"
            ],
            [
             0.4444444444444444,
             "#26828e"
            ],
            [
             0.5555555555555556,
             "#1f9e89"
            ],
            [
             0.6666666666666666,
             "#35b779"
            ],
            [
             0.7777777777777778,
             "#6ece58"
            ],
            [
             0.8888888888888888,
             "#b5de2b"
            ],
            [
             1,
             "#fde725"
            ]
           ],
           "sequentialminus": [
            [
             0,
             "#440154"
            ],
            [
             0.1111111111111111,
             "#482878"
            ],
            [
             0.2222222222222222,
             "#3e4989"
            ],
            [
             0.3333333333333333,
             "#31688e"
            ],
            [
             0.4444444444444444,
             "#26828e"
            ],
            [
             0.5555555555555556,
             "#1f9e89"
            ],
            [
             0.6666666666666666,
             "#35b779"
            ],
            [
             0.7777777777777778,
             "#6ece58"
            ],
            [
             0.8888888888888888,
             "#b5de2b"
            ],
            [
             1,
             "#fde725"
            ]
           ]
          },
          "colorway": [
           "#1F77B4",
           "#FF7F0E",
           "#2CA02C",
           "#D62728",
           "#9467BD",
           "#8C564B",
           "#E377C2",
           "#7F7F7F",
           "#BCBD22",
           "#17BECF"
          ],
          "font": {
           "color": "rgb(36,36,36)"
          },
          "geo": {
           "bgcolor": "white",
           "lakecolor": "white",
           "landcolor": "white",
           "showlakes": true,
           "showland": true,
           "subunitcolor": "white"
          },
          "hoverlabel": {
           "align": "left"
          },
          "hovermode": "closest",
          "mapbox": {
           "style": "light"
          },
          "paper_bgcolor": "white",
          "plot_bgcolor": "white",
          "polar": {
           "angularaxis": {
            "gridcolor": "rgb(232,232,232)",
            "linecolor": "rgb(36,36,36)",
            "showgrid": false,
            "showline": true,
            "ticks": "outside"
           },
           "bgcolor": "white",
           "radialaxis": {
            "gridcolor": "rgb(232,232,232)",
            "linecolor": "rgb(36,36,36)",
            "showgrid": false,
            "showline": true,
            "ticks": "outside"
           }
          },
          "scene": {
           "xaxis": {
            "backgroundcolor": "white",
            "gridcolor": "rgb(232,232,232)",
            "gridwidth": 2,
            "linecolor": "rgb(36,36,36)",
            "showbackground": true,
            "showgrid": false,
            "showline": true,
            "ticks": "outside",
            "zeroline": false,
            "zerolinecolor": "rgb(36,36,36)"
           },
           "yaxis": {
            "backgroundcolor": "white",
            "gridcolor": "rgb(232,232,232)",
            "gridwidth": 2,
            "linecolor": "rgb(36,36,36)",
            "showbackground": true,
            "showgrid": false,
            "showline": true,
            "ticks": "outside",
            "zeroline": false,
            "zerolinecolor": "rgb(36,36,36)"
           },
           "zaxis": {
            "backgroundcolor": "white",
            "gridcolor": "rgb(232,232,232)",
            "gridwidth": 2,
            "linecolor": "rgb(36,36,36)",
            "showbackground": true,
            "showgrid": false,
            "showline": true,
            "ticks": "outside",
            "zeroline": false,
            "zerolinecolor": "rgb(36,36,36)"
           }
          },
          "shapedefaults": {
           "fillcolor": "black",
           "line": {
            "width": 0
           },
           "opacity": 0.3
          },
          "ternary": {
           "aaxis": {
            "gridcolor": "rgb(232,232,232)",
            "linecolor": "rgb(36,36,36)",
            "showgrid": false,
            "showline": true,
            "ticks": "outside"
           },
           "baxis": {
            "gridcolor": "rgb(232,232,232)",
            "linecolor": "rgb(36,36,36)",
            "showgrid": false,
            "showline": true,
            "ticks": "outside"
           },
           "bgcolor": "white",
           "caxis": {
            "gridcolor": "rgb(232,232,232)",
            "linecolor": "rgb(36,36,36)",
            "showgrid": false,
            "showline": true,
            "ticks": "outside"
           }
          },
          "title": {
           "x": 0.05
          },
          "xaxis": {
           "automargin": true,
           "gridcolor": "rgb(232,232,232)",
           "linecolor": "rgb(36,36,36)",
           "showgrid": false,
           "showline": true,
           "ticks": "outside",
           "title": {
            "standoff": 15
           },
           "zeroline": false,
           "zerolinecolor": "rgb(36,36,36)"
          },
          "yaxis": {
           "automargin": true,
           "gridcolor": "rgb(232,232,232)",
           "linecolor": "rgb(36,36,36)",
           "showgrid": false,
           "showline": true,
           "ticks": "outside",
           "title": {
            "standoff": 15
           },
           "zeroline": false,
           "zerolinecolor": "rgb(36,36,36)"
          }
         }
        },
        "title": {
         "text": "Difference Plot | value"
        },
        "width": 1000,
        "xaxis": {
         "anchor": "y",
         "domain": [
          0,
          0.2822222222222222
         ],
         "matches": "x7",
         "showticklabels": false
        },
        "xaxis2": {
         "anchor": "y2",
         "domain": [
          0.34888888888888886,
          0.6311111111111111
         ],
         "matches": "x8",
         "range": [
          -1,
          8
         ],
         "showticklabels": false
        },
        "xaxis3": {
         "anchor": "y3",
         "domain": [
          0.6977777777777777,
          0.98
         ],
         "matches": "x9",
         "range": [
          -1,
          4
         ],
         "showticklabels": false
        },
        "xaxis4": {
         "anchor": "y4",
         "domain": [
          0,
          0.2822222222222222
         ],
         "matches": "x7",
         "showticklabels": false
        },
        "xaxis5": {
         "anchor": "y5",
         "domain": [
          0.34888888888888886,
          0.6311111111111111
         ],
         "matches": "x8",
         "range": [
          -1,
          7
         ],
         "showticklabels": false
        },
        "xaxis6": {
         "anchor": "y6",
         "domain": [
          0.6977777777777777,
          0.98
         ],
         "matches": "x9",
         "range": [
          -1,
          4
         ],
         "showticklabels": false
        },
        "xaxis7": {
         "anchor": "y7",
         "domain": [
          0,
          0.2822222222222222
         ]
        },
        "xaxis8": {
         "anchor": "y8",
         "domain": [
          0.34888888888888886,
          0.6311111111111111
         ],
         "range": [
          -1,
          6
         ]
        },
        "xaxis9": {
         "anchor": "y9",
         "domain": [
          0.6977777777777777,
          0.98
         ],
         "range": [
          -1,
          3
         ]
        },
        "yaxis": {
         "anchor": "x",
         "domain": [
          0.7333333333333333,
          1
         ]
        },
        "yaxis2": {
         "anchor": "x2",
         "domain": [
          0.7333333333333333,
          1
         ],
         "range": [
          -1.1,
          1.1
         ],
         "zerolinecolor": "#000000"
        },
        "yaxis3": {
         "anchor": "x3",
         "domain": [
          0.7333333333333333,
          1
         ],
         "range": [
          -1.1,
          1.1
         ],
         "zerolinecolor": "#000000"
        },
        "yaxis4": {
         "anchor": "x4",
         "domain": [
          0.36666666666666664,
          0.6333333333333333
         ]
        },
        "yaxis5": {
         "anchor": "x5",
         "domain": [
          0.36666666666666664,
          0.6333333333333333
         ],
         "range": [
          -1.1,
          1.1
         ],
         "zerolinecolor": "#000000"
        },
        "yaxis6": {
         "anchor": "x6",
         "domain": [
          0.36666666666666664,
          0.6333333333333333
         ],
         "range": [
          -1.1,
          1.1
         ],
         "zerolinecolor": "#000000"
        },
        "yaxis7": {
         "anchor": "x7",
         "domain": [
          0,
          0.26666666666666666
         ]
        },
        "yaxis8": {
         "anchor": "x8",
         "domain": [
          0,
          0.26666666666666666
         ],
         "range": [
          -1.1,
          1.1
         ],
         "zerolinecolor": "#000000"
        },
        "yaxis9": {
         "anchor": "x9",
         "domain": [
          0,
          0.26666666666666666
         ],
         "range": [
          -1.1,
          1.1
         ],
         "zerolinecolor": "#000000"
        }
       }
      }
     },
     "metadata": {},
     "output_type": "display_data"
    }
   ],
   "source": [
    "exp.plot_model(plot=\"diff\", \n",
    "               data_kwargs={\"order_list\": [1, 2], \"acf\": True, \"pacf\": True},\n",
    "               fig_kwargs = {\"height\":700,\"width\":1000,\"template\": \"simple_white\",\"hoverinfo\":\"skip\",\"big_data_threshold\":10})"
   ]
  },
  {
   "cell_type": "markdown",
   "metadata": {},
   "source": [
    "## llar_cds_dt\n"
   ]
  },
  {
   "cell_type": "code",
   "execution_count": 18,
   "metadata": {},
   "outputs": [
    {
     "data": {
      "text/html": [],
      "text/plain": [
       "<IPython.core.display.HTML object>"
      ]
     },
     "metadata": {},
     "output_type": "display_data"
    },
    {
     "data": {
      "text/html": [
       "<style type=\"text/css\">\n",
       "#T_b4469_row3_col0, #T_b4469_row3_col1, #T_b4469_row3_col2, #T_b4469_row3_col3, #T_b4469_row3_col4, #T_b4469_row3_col5, #T_b4469_row3_col6 {\n",
       "  background: yellow;\n",
       "}\n",
       "</style>\n",
       "<table id=\"T_b4469\">\n",
       "  <thead>\n",
       "    <tr>\n",
       "      <th class=\"blank level0\" >&nbsp;</th>\n",
       "      <th id=\"T_b4469_level0_col0\" class=\"col_heading level0 col0\" >cutoff</th>\n",
       "      <th id=\"T_b4469_level0_col1\" class=\"col_heading level0 col1\" >MASE</th>\n",
       "      <th id=\"T_b4469_level0_col2\" class=\"col_heading level0 col2\" >RMSSE</th>\n",
       "      <th id=\"T_b4469_level0_col3\" class=\"col_heading level0 col3\" >MAE</th>\n",
       "      <th id=\"T_b4469_level0_col4\" class=\"col_heading level0 col4\" >RMSE</th>\n",
       "      <th id=\"T_b4469_level0_col5\" class=\"col_heading level0 col5\" >MAPE</th>\n",
       "      <th id=\"T_b4469_level0_col6\" class=\"col_heading level0 col6\" >SMAPE</th>\n",
       "    </tr>\n",
       "  </thead>\n",
       "  <tbody>\n",
       "    <tr>\n",
       "      <th id=\"T_b4469_level0_row0\" class=\"row_heading level0 row0\" >0</th>\n",
       "      <td id=\"T_b4469_row0_col0\" class=\"data row0 col0\" >2019</td>\n",
       "      <td id=\"T_b4469_row0_col1\" class=\"data row0 col1\" >0.6849</td>\n",
       "      <td id=\"T_b4469_row0_col2\" class=\"data row0 col2\" >0.6686</td>\n",
       "      <td id=\"T_b4469_row0_col3\" class=\"data row0 col3\" >3.7600</td>\n",
       "      <td id=\"T_b4469_row0_col4\" class=\"data row0 col4\" >3.7600</td>\n",
       "      <td id=\"T_b4469_row0_col5\" class=\"data row0 col5\" >0.0141</td>\n",
       "      <td id=\"T_b4469_row0_col6\" class=\"data row0 col6\" >0.0140</td>\n",
       "    </tr>\n",
       "    <tr>\n",
       "      <th id=\"T_b4469_level0_row1\" class=\"row_heading level0 row1\" >1</th>\n",
       "      <td id=\"T_b4469_row1_col0\" class=\"data row1 col0\" >2020</td>\n",
       "      <td id=\"T_b4469_row1_col1\" class=\"data row1 col1\" >1.9631</td>\n",
       "      <td id=\"T_b4469_row1_col2\" class=\"data row1 col2\" >1.7075</td>\n",
       "      <td id=\"T_b4469_row1_col3\" class=\"data row1 col3\" >7.9180</td>\n",
       "      <td id=\"T_b4469_row1_col4\" class=\"data row1 col4\" >7.9180</td>\n",
       "      <td id=\"T_b4469_row1_col5\" class=\"data row1 col5\" >0.0299</td>\n",
       "      <td id=\"T_b4469_row1_col6\" class=\"data row1 col6\" >0.0294</td>\n",
       "    </tr>\n",
       "    <tr>\n",
       "      <th id=\"T_b4469_level0_row2\" class=\"row_heading level0 row2\" >2</th>\n",
       "      <td id=\"T_b4469_row2_col0\" class=\"data row2 col0\" >2021</td>\n",
       "      <td id=\"T_b4469_row2_col1\" class=\"data row2 col1\" >5.6243</td>\n",
       "      <td id=\"T_b4469_row2_col2\" class=\"data row2 col2\" >4.8326</td>\n",
       "      <td id=\"T_b4469_row2_col3\" class=\"data row2 col3\" >20.1350</td>\n",
       "      <td id=\"T_b4469_row2_col4\" class=\"data row2 col4\" >20.1350</td>\n",
       "      <td id=\"T_b4469_row2_col5\" class=\"data row2 col5\" >0.0691</td>\n",
       "      <td id=\"T_b4469_row2_col6\" class=\"data row2 col6\" >0.0716</td>\n",
       "    </tr>\n",
       "    <tr>\n",
       "      <th id=\"T_b4469_level0_row3\" class=\"row_heading level0 row3\" >Mean</th>\n",
       "      <td id=\"T_b4469_row3_col0\" class=\"data row3 col0\" >NaT</td>\n",
       "      <td id=\"T_b4469_row3_col1\" class=\"data row3 col1\" >2.7574</td>\n",
       "      <td id=\"T_b4469_row3_col2\" class=\"data row3 col2\" >2.4029</td>\n",
       "      <td id=\"T_b4469_row3_col3\" class=\"data row3 col3\" >10.6043</td>\n",
       "      <td id=\"T_b4469_row3_col4\" class=\"data row3 col4\" >10.6043</td>\n",
       "      <td id=\"T_b4469_row3_col5\" class=\"data row3 col5\" >0.0377</td>\n",
       "      <td id=\"T_b4469_row3_col6\" class=\"data row3 col6\" >0.0383</td>\n",
       "    </tr>\n",
       "    <tr>\n",
       "      <th id=\"T_b4469_level0_row4\" class=\"row_heading level0 row4\" >SD</th>\n",
       "      <td id=\"T_b4469_row4_col0\" class=\"data row4 col0\" >NaT</td>\n",
       "      <td id=\"T_b4469_row4_col1\" class=\"data row4 col1\" >2.0933</td>\n",
       "      <td id=\"T_b4469_row4_col2\" class=\"data row4 col2\" >1.7696</td>\n",
       "      <td id=\"T_b4469_row4_col3\" class=\"data row4 col3\" >6.9497</td>\n",
       "      <td id=\"T_b4469_row4_col4\" class=\"data row4 col4\" >6.9497</td>\n",
       "      <td id=\"T_b4469_row4_col5\" class=\"data row4 col5\" >0.0231</td>\n",
       "      <td id=\"T_b4469_row4_col6\" class=\"data row4 col6\" >0.0243</td>\n",
       "    </tr>\n",
       "  </tbody>\n",
       "</table>\n"
      ],
      "text/plain": [
       "<pandas.io.formats.style.Styler at 0x189a80eb6a0>"
      ]
     },
     "metadata": {},
     "output_type": "display_data"
    },
    {
     "data": {
      "text/html": [],
      "text/plain": [
       "<IPython.core.display.HTML object>"
      ]
     },
     "metadata": {},
     "output_type": "display_data"
    },
    {
     "data": {
      "application/vnd.plotly.v1+json": {
       "config": {
        "plotlyServerURL": "https://plot.ly"
       },
       "data": [
        {
         "line": {
          "color": "rgb(31, 119, 180)",
          "width": 2
         },
         "marker": {
          "size": 2
         },
         "mode": "lines+markers",
         "name": "Actual",
         "type": "scattergl",
         "x": [
          "2017-01-01T00:00:00",
          "2018-01-01T00:00:00",
          "2019-01-01T00:00:00",
          "2020-01-01T00:00:00",
          "2021-01-01T00:00:00",
          "2022-01-01T00:00:00",
          "2023-01-01T00:00:00"
         ],
         "xaxis": "x",
         "y": [
          255.06,
          259.33,
          266.04,
          267.16,
          264.94,
          291.4,
          301.8
         ],
         "yaxis": "y"
        },
        {
         "line": {
          "color": "rgb(255, 127, 14)",
          "width": 2
         },
         "marker": {
          "size": 2
         },
         "mode": "lines+markers",
         "name": "Seasonal",
         "type": "scattergl",
         "x": [
          "2017-01-01T00:00:00",
          "2018-01-01T00:00:00",
          "2019-01-01T00:00:00",
          "2020-01-01T00:00:00",
          "2021-01-01T00:00:00",
          "2022-01-01T00:00:00",
          "2023-01-01T00:00:00"
         ],
         "xaxis": "x2",
         "y": [
          1,
          1,
          1,
          1,
          1,
          1,
          1
         ],
         "yaxis": "y2"
        },
        {
         "line": {
          "color": "rgb(44, 160, 44)",
          "width": 2
         },
         "marker": {
          "size": 2
         },
         "mode": "lines+markers",
         "name": "Trend",
         "type": "scattergl",
         "x": [
          "2017-01-01T00:00:00",
          "2018-01-01T00:00:00",
          "2019-01-01T00:00:00",
          "2020-01-01T00:00:00",
          "2021-01-01T00:00:00",
          "2022-01-01T00:00:00",
          "2023-01-01T00:00:00"
         ],
         "xaxis": "x3",
         "y": [
          255.06,
          259.33,
          266.04,
          267.16,
          264.94,
          291.4,
          301.8
         ],
         "yaxis": "y3"
        },
        {
         "line": {
          "color": "rgb(214, 39, 40)",
          "width": 2
         },
         "marker": {
          "size": 4
         },
         "mode": "markers",
         "name": "Residuals",
         "type": "scattergl",
         "x": [
          "2017-01-01T00:00:00",
          "2018-01-01T00:00:00",
          "2019-01-01T00:00:00",
          "2020-01-01T00:00:00",
          "2021-01-01T00:00:00",
          "2022-01-01T00:00:00",
          "2023-01-01T00:00:00"
         ],
         "xaxis": "x4",
         "y": [
          1,
          1,
          1,
          1,
          1,
          1,
          1
         ],
         "yaxis": "y4"
        }
       ],
       "layout": {
        "annotations": [
         {
          "font": {
           "size": 16
          },
          "showarrow": false,
          "text": "value (transformed)",
          "x": 0.49,
          "xanchor": "center",
          "xref": "paper",
          "y": 1,
          "yanchor": "bottom",
          "yref": "paper"
         },
         {
          "font": {
           "size": 16
          },
          "showarrow": false,
          "text": "Actual",
          "textangle": 90,
          "x": 0.98,
          "xanchor": "left",
          "xref": "paper",
          "y": 0.903125,
          "yanchor": "middle",
          "yref": "paper"
         },
         {
          "font": {
           "size": 16
          },
          "showarrow": false,
          "text": "Seasonal",
          "textangle": 90,
          "x": 0.98,
          "xanchor": "left",
          "xref": "paper",
          "y": 0.6343749999999999,
          "yanchor": "middle",
          "yref": "paper"
         },
         {
          "font": {
           "size": 16
          },
          "showarrow": false,
          "text": "Trend",
          "textangle": 90,
          "x": 0.98,
          "xanchor": "left",
          "xref": "paper",
          "y": 0.365625,
          "yanchor": "middle",
          "yref": "paper"
         },
         {
          "font": {
           "size": 16
          },
          "showarrow": false,
          "text": "Residual",
          "textangle": 90,
          "x": 0.98,
          "xanchor": "left",
          "xref": "paper",
          "y": 0.096875,
          "yanchor": "middle",
          "yref": "paper"
         }
        ],
        "autosize": false,
        "height": 500,
        "showlegend": false,
        "template": {
         "data": {
          "bar": [
           {
            "error_x": {
             "color": "rgb(36,36,36)"
            },
            "error_y": {
             "color": "rgb(36,36,36)"
            },
            "marker": {
             "line": {
              "color": "white",
              "width": 0.5
             },
             "pattern": {
              "fillmode": "overlay",
              "size": 10,
              "solidity": 0.2
             }
            },
            "type": "bar"
           }
          ],
          "barpolar": [
           {
            "marker": {
             "line": {
              "color": "white",
              "width": 0.5
             },
             "pattern": {
              "fillmode": "overlay",
              "size": 10,
              "solidity": 0.2
             }
            },
            "type": "barpolar"
           }
          ],
          "carpet": [
           {
            "aaxis": {
             "endlinecolor": "rgb(36,36,36)",
             "gridcolor": "white",
             "linecolor": "white",
             "minorgridcolor": "white",
             "startlinecolor": "rgb(36,36,36)"
            },
            "baxis": {
             "endlinecolor": "rgb(36,36,36)",
             "gridcolor": "white",
             "linecolor": "white",
             "minorgridcolor": "white",
             "startlinecolor": "rgb(36,36,36)"
            },
            "type": "carpet"
           }
          ],
          "choropleth": [
           {
            "colorbar": {
             "outlinewidth": 1,
             "tickcolor": "rgb(36,36,36)",
             "ticks": "outside"
            },
            "type": "choropleth"
           }
          ],
          "contour": [
           {
            "colorbar": {
             "outlinewidth": 1,
             "tickcolor": "rgb(36,36,36)",
             "ticks": "outside"
            },
            "colorscale": [
             [
              0,
              "#440154"
             ],
             [
              0.1111111111111111,
              "#482878"
             ],
             [
              0.2222222222222222,
              "#3e4989"
             ],
             [
              0.3333333333333333,
              "#31688e"
             ],
             [
              0.4444444444444444,
              "#26828e"
             ],
             [
              0.5555555555555556,
              "#1f9e89"
             ],
             [
              0.6666666666666666,
              "#35b779"
             ],
             [
              0.7777777777777778,
              "#6ece58"
             ],
             [
              0.8888888888888888,
              "#b5de2b"
             ],
             [
              1,
              "#fde725"
             ]
            ],
            "type": "contour"
           }
          ],
          "contourcarpet": [
           {
            "colorbar": {
             "outlinewidth": 1,
             "tickcolor": "rgb(36,36,36)",
             "ticks": "outside"
            },
            "type": "contourcarpet"
           }
          ],
          "heatmap": [
           {
            "colorbar": {
             "outlinewidth": 1,
             "tickcolor": "rgb(36,36,36)",
             "ticks": "outside"
            },
            "colorscale": [
             [
              0,
              "#440154"
             ],
             [
              0.1111111111111111,
              "#482878"
             ],
             [
              0.2222222222222222,
              "#3e4989"
             ],
             [
              0.3333333333333333,
              "#31688e"
             ],
             [
              0.4444444444444444,
              "#26828e"
             ],
             [
              0.5555555555555556,
              "#1f9e89"
             ],
             [
              0.6666666666666666,
              "#35b779"
             ],
             [
              0.7777777777777778,
              "#6ece58"
             ],
             [
              0.8888888888888888,
              "#b5de2b"
             ],
             [
              1,
              "#fde725"
             ]
            ],
            "type": "heatmap"
           }
          ],
          "heatmapgl": [
           {
            "colorbar": {
             "outlinewidth": 1,
             "tickcolor": "rgb(36,36,36)",
             "ticks": "outside"
            },
            "colorscale": [
             [
              0,
              "#440154"
             ],
             [
              0.1111111111111111,
              "#482878"
             ],
             [
              0.2222222222222222,
              "#3e4989"
             ],
             [
              0.3333333333333333,
              "#31688e"
             ],
             [
              0.4444444444444444,
              "#26828e"
             ],
             [
              0.5555555555555556,
              "#1f9e89"
             ],
             [
              0.6666666666666666,
              "#35b779"
             ],
             [
              0.7777777777777778,
              "#6ece58"
             ],
             [
              0.8888888888888888,
              "#b5de2b"
             ],
             [
              1,
              "#fde725"
             ]
            ],
            "type": "heatmapgl"
           }
          ],
          "histogram": [
           {
            "marker": {
             "line": {
              "color": "white",
              "width": 0.6
             }
            },
            "type": "histogram"
           }
          ],
          "histogram2d": [
           {
            "colorbar": {
             "outlinewidth": 1,
             "tickcolor": "rgb(36,36,36)",
             "ticks": "outside"
            },
            "colorscale": [
             [
              0,
              "#440154"
             ],
             [
              0.1111111111111111,
              "#482878"
             ],
             [
              0.2222222222222222,
              "#3e4989"
             ],
             [
              0.3333333333333333,
              "#31688e"
             ],
             [
              0.4444444444444444,
              "#26828e"
             ],
             [
              0.5555555555555556,
              "#1f9e89"
             ],
             [
              0.6666666666666666,
              "#35b779"
             ],
             [
              0.7777777777777778,
              "#6ece58"
             ],
             [
              0.8888888888888888,
              "#b5de2b"
             ],
             [
              1,
              "#fde725"
             ]
            ],
            "type": "histogram2d"
           }
          ],
          "histogram2dcontour": [
           {
            "colorbar": {
             "outlinewidth": 1,
             "tickcolor": "rgb(36,36,36)",
             "ticks": "outside"
            },
            "colorscale": [
             [
              0,
              "#440154"
             ],
             [
              0.1111111111111111,
              "#482878"
             ],
             [
              0.2222222222222222,
              "#3e4989"
             ],
             [
              0.3333333333333333,
              "#31688e"
             ],
             [
              0.4444444444444444,
              "#26828e"
             ],
             [
              0.5555555555555556,
              "#1f9e89"
             ],
             [
              0.6666666666666666,
              "#35b779"
             ],
             [
              0.7777777777777778,
              "#6ece58"
             ],
             [
              0.8888888888888888,
              "#b5de2b"
             ],
             [
              1,
              "#fde725"
             ]
            ],
            "type": "histogram2dcontour"
           }
          ],
          "mesh3d": [
           {
            "colorbar": {
             "outlinewidth": 1,
             "tickcolor": "rgb(36,36,36)",
             "ticks": "outside"
            },
            "type": "mesh3d"
           }
          ],
          "parcoords": [
           {
            "line": {
             "colorbar": {
              "outlinewidth": 1,
              "tickcolor": "rgb(36,36,36)",
              "ticks": "outside"
             }
            },
            "type": "parcoords"
           }
          ],
          "pie": [
           {
            "automargin": true,
            "type": "pie"
           }
          ],
          "scatter": [
           {
            "fillpattern": {
             "fillmode": "overlay",
             "size": 10,
             "solidity": 0.2
            },
            "type": "scatter"
           }
          ],
          "scatter3d": [
           {
            "line": {
             "colorbar": {
              "outlinewidth": 1,
              "tickcolor": "rgb(36,36,36)",
              "ticks": "outside"
             }
            },
            "marker": {
             "colorbar": {
              "outlinewidth": 1,
              "tickcolor": "rgb(36,36,36)",
              "ticks": "outside"
             }
            },
            "type": "scatter3d"
           }
          ],
          "scattercarpet": [
           {
            "marker": {
             "colorbar": {
              "outlinewidth": 1,
              "tickcolor": "rgb(36,36,36)",
              "ticks": "outside"
             }
            },
            "type": "scattercarpet"
           }
          ],
          "scattergeo": [
           {
            "marker": {
             "colorbar": {
              "outlinewidth": 1,
              "tickcolor": "rgb(36,36,36)",
              "ticks": "outside"
             }
            },
            "type": "scattergeo"
           }
          ],
          "scattergl": [
           {
            "marker": {
             "colorbar": {
              "outlinewidth": 1,
              "tickcolor": "rgb(36,36,36)",
              "ticks": "outside"
             }
            },
            "type": "scattergl"
           }
          ],
          "scattermapbox": [
           {
            "marker": {
             "colorbar": {
              "outlinewidth": 1,
              "tickcolor": "rgb(36,36,36)",
              "ticks": "outside"
             }
            },
            "type": "scattermapbox"
           }
          ],
          "scatterpolar": [
           {
            "marker": {
             "colorbar": {
              "outlinewidth": 1,
              "tickcolor": "rgb(36,36,36)",
              "ticks": "outside"
             }
            },
            "type": "scatterpolar"
           }
          ],
          "scatterpolargl": [
           {
            "marker": {
             "colorbar": {
              "outlinewidth": 1,
              "tickcolor": "rgb(36,36,36)",
              "ticks": "outside"
             }
            },
            "type": "scatterpolargl"
           }
          ],
          "scatterternary": [
           {
            "marker": {
             "colorbar": {
              "outlinewidth": 1,
              "tickcolor": "rgb(36,36,36)",
              "ticks": "outside"
             }
            },
            "type": "scatterternary"
           }
          ],
          "surface": [
           {
            "colorbar": {
             "outlinewidth": 1,
             "tickcolor": "rgb(36,36,36)",
             "ticks": "outside"
            },
            "colorscale": [
             [
              0,
              "#440154"
             ],
             [
              0.1111111111111111,
              "#482878"
             ],
             [
              0.2222222222222222,
              "#3e4989"
             ],
             [
              0.3333333333333333,
              "#31688e"
             ],
             [
              0.4444444444444444,
              "#26828e"
             ],
             [
              0.5555555555555556,
              "#1f9e89"
             ],
             [
              0.6666666666666666,
              "#35b779"
             ],
             [
              0.7777777777777778,
              "#6ece58"
             ],
             [
              0.8888888888888888,
              "#b5de2b"
             ],
             [
              1,
              "#fde725"
             ]
            ],
            "type": "surface"
           }
          ],
          "table": [
           {
            "cells": {
             "fill": {
              "color": "rgb(237,237,237)"
             },
             "line": {
              "color": "white"
             }
            },
            "header": {
             "fill": {
              "color": "rgb(217,217,217)"
             },
             "line": {
              "color": "white"
             }
            },
            "type": "table"
           }
          ]
         },
         "layout": {
          "annotationdefaults": {
           "arrowhead": 0,
           "arrowwidth": 1
          },
          "autotypenumbers": "strict",
          "coloraxis": {
           "colorbar": {
            "outlinewidth": 1,
            "tickcolor": "rgb(36,36,36)",
            "ticks": "outside"
           }
          },
          "colorscale": {
           "diverging": [
            [
             0,
             "rgb(103,0,31)"
            ],
            [
             0.1,
             "rgb(178,24,43)"
            ],
            [
             0.2,
             "rgb(214,96,77)"
            ],
            [
             0.3,
             "rgb(244,165,130)"
            ],
            [
             0.4,
             "rgb(253,219,199)"
            ],
            [
             0.5,
             "rgb(247,247,247)"
            ],
            [
             0.6,
             "rgb(209,229,240)"
            ],
            [
             0.7,
             "rgb(146,197,222)"
            ],
            [
             0.8,
             "rgb(67,147,195)"
            ],
            [
             0.9,
             "rgb(33,102,172)"
            ],
            [
             1,
             "rgb(5,48,97)"
            ]
           ],
           "sequential": [
            [
             0,
             "#440154"
            ],
            [
             0.1111111111111111,
             "#482878"
            ],
            [
             0.2222222222222222,
             "#3e4989"
            ],
            [
             0.3333333333333333,
             "#31688e"
            ],
            [
             0.4444444444444444,
             "#26828e"
            ],
            [
             0.5555555555555556,
             "#1f9e89"
            ],
            [
             0.6666666666666666,
             "#35b779"
            ],
            [
             0.7777777777777778,
             "#6ece58"
            ],
            [
             0.8888888888888888,
             "#b5de2b"
            ],
            [
             1,
             "#fde725"
            ]
           ],
           "sequentialminus": [
            [
             0,
             "#440154"
            ],
            [
             0.1111111111111111,
             "#482878"
            ],
            [
             0.2222222222222222,
             "#3e4989"
            ],
            [
             0.3333333333333333,
             "#31688e"
            ],
            [
             0.4444444444444444,
             "#26828e"
            ],
            [
             0.5555555555555556,
             "#1f9e89"
            ],
            [
             0.6666666666666666,
             "#35b779"
            ],
            [
             0.7777777777777778,
             "#6ece58"
            ],
            [
             0.8888888888888888,
             "#b5de2b"
            ],
            [
             1,
             "#fde725"
            ]
           ]
          },
          "colorway": [
           "#1F77B4",
           "#FF7F0E",
           "#2CA02C",
           "#D62728",
           "#9467BD",
           "#8C564B",
           "#E377C2",
           "#7F7F7F",
           "#BCBD22",
           "#17BECF"
          ],
          "font": {
           "color": "rgb(36,36,36)"
          },
          "geo": {
           "bgcolor": "white",
           "lakecolor": "white",
           "landcolor": "white",
           "showlakes": true,
           "showland": true,
           "subunitcolor": "white"
          },
          "hoverlabel": {
           "align": "left"
          },
          "hovermode": "closest",
          "mapbox": {
           "style": "light"
          },
          "paper_bgcolor": "white",
          "plot_bgcolor": "white",
          "polar": {
           "angularaxis": {
            "gridcolor": "rgb(232,232,232)",
            "linecolor": "rgb(36,36,36)",
            "showgrid": false,
            "showline": true,
            "ticks": "outside"
           },
           "bgcolor": "white",
           "radialaxis": {
            "gridcolor": "rgb(232,232,232)",
            "linecolor": "rgb(36,36,36)",
            "showgrid": false,
            "showline": true,
            "ticks": "outside"
           }
          },
          "scene": {
           "xaxis": {
            "backgroundcolor": "white",
            "gridcolor": "rgb(232,232,232)",
            "gridwidth": 2,
            "linecolor": "rgb(36,36,36)",
            "showbackground": true,
            "showgrid": false,
            "showline": true,
            "ticks": "outside",
            "zeroline": false,
            "zerolinecolor": "rgb(36,36,36)"
           },
           "yaxis": {
            "backgroundcolor": "white",
            "gridcolor": "rgb(232,232,232)",
            "gridwidth": 2,
            "linecolor": "rgb(36,36,36)",
            "showbackground": true,
            "showgrid": false,
            "showline": true,
            "ticks": "outside",
            "zeroline": false,
            "zerolinecolor": "rgb(36,36,36)"
           },
           "zaxis": {
            "backgroundcolor": "white",
            "gridcolor": "rgb(232,232,232)",
            "gridwidth": 2,
            "linecolor": "rgb(36,36,36)",
            "showbackground": true,
            "showgrid": false,
            "showline": true,
            "ticks": "outside",
            "zeroline": false,
            "zerolinecolor": "rgb(36,36,36)"
           }
          },
          "shapedefaults": {
           "fillcolor": "black",
           "line": {
            "width": 0
           },
           "opacity": 0.3
          },
          "ternary": {
           "aaxis": {
            "gridcolor": "rgb(232,232,232)",
            "linecolor": "rgb(36,36,36)",
            "showgrid": false,
            "showline": true,
            "ticks": "outside"
           },
           "baxis": {
            "gridcolor": "rgb(232,232,232)",
            "linecolor": "rgb(36,36,36)",
            "showgrid": false,
            "showline": true,
            "ticks": "outside"
           },
           "bgcolor": "white",
           "caxis": {
            "gridcolor": "rgb(232,232,232)",
            "linecolor": "rgb(36,36,36)",
            "showgrid": false,
            "showline": true,
            "ticks": "outside"
           }
          },
          "title": {
           "x": 0.05
          },
          "xaxis": {
           "automargin": true,
           "gridcolor": "rgb(232,232,232)",
           "linecolor": "rgb(36,36,36)",
           "showgrid": false,
           "showline": true,
           "ticks": "outside",
           "title": {
            "standoff": 15
           },
           "zeroline": false,
           "zerolinecolor": "rgb(36,36,36)"
          },
          "yaxis": {
           "automargin": true,
           "gridcolor": "rgb(232,232,232)",
           "linecolor": "rgb(36,36,36)",
           "showgrid": false,
           "showline": true,
           "ticks": "outside",
           "title": {
            "standoff": 15
           },
           "zeroline": false,
           "zerolinecolor": "rgb(36,36,36)"
          }
         }
        },
        "title": {
         "text": "Classical Decomposition (multiplicative) | value<br>Seasonal Period = 1"
        },
        "width": 1000,
        "xaxis": {
         "anchor": "y",
         "domain": [
          0,
          0.98
         ],
         "matches": "x4",
         "showticklabels": false
        },
        "xaxis2": {
         "anchor": "y2",
         "domain": [
          0,
          0.98
         ],
         "matches": "x4",
         "showticklabels": false
        },
        "xaxis3": {
         "anchor": "y3",
         "domain": [
          0,
          0.98
         ],
         "matches": "x4",
         "showticklabels": false
        },
        "xaxis4": {
         "anchor": "y4",
         "domain": [
          0,
          0.98
         ]
        },
        "yaxis": {
         "anchor": "x",
         "domain": [
          0.80625,
          1
         ]
        },
        "yaxis2": {
         "anchor": "x2",
         "domain": [
          0.5375,
          0.73125
         ]
        },
        "yaxis3": {
         "anchor": "x3",
         "domain": [
          0.26875,
          0.4625
         ]
        },
        "yaxis4": {
         "anchor": "x4",
         "domain": [
          0,
          0.19375
         ]
        }
       }
      }
     },
     "metadata": {},
     "output_type": "display_data"
    },
    {
     "data": {
      "application/vnd.plotly.v1+json": {
       "config": {
        "plotlyServerURL": "https://plot.ly"
       },
       "data": [
        {
         "hoverinfo": "none",
         "line": {
          "width": 2
         },
         "marker": {
          "size": 5
         },
         "mode": "lines+markers",
         "name": "value",
         "type": "scattergl",
         "x": [
          "2017-01-01T00:00:00",
          "2018-01-01T00:00:00",
          "2019-01-01T00:00:00",
          "2020-01-01T00:00:00",
          "2021-01-01T00:00:00",
          "2022-01-01T00:00:00",
          "2023-01-01T00:00:00",
          "2024-01-01T00:00:00",
          "2025-01-01T00:00:00",
          "2026-01-01T00:00:00",
          "2027-01-01T00:00:00",
          "2028-01-01T00:00:00",
          "2029-01-01T00:00:00",
          "2030-01-01T00:00:00"
         ],
         "xaxis": "x",
         "y": [
          255.06,
          259.33,
          266.04,
          267.16,
          264.94,
          291.4,
          301.8,
          null,
          null,
          null,
          null,
          null,
          null,
          null
         ],
         "yaxis": "y"
        },
        {
         "hoverinfo": "none",
         "line": {
          "width": 2
         },
         "marker": {
          "size": 5
         },
         "mode": "lines+markers",
         "name": "LassoLars",
         "type": "scattergl",
         "x": [
          "2017-01-01T00:00:00",
          "2018-01-01T00:00:00",
          "2019-01-01T00:00:00",
          "2020-01-01T00:00:00",
          "2021-01-01T00:00:00",
          "2022-01-01T00:00:00",
          "2023-01-01T00:00:00",
          "2024-01-01T00:00:00",
          "2025-01-01T00:00:00",
          "2026-01-01T00:00:00",
          "2027-01-01T00:00:00",
          "2028-01-01T00:00:00",
          "2029-01-01T00:00:00",
          "2030-01-01T00:00:00"
         ],
         "xaxis": "x",
         "y": [
          null,
          null,
          null,
          null,
          null,
          null,
          279.177,
          296.6133,
          294.6399,
          305.3686,
          307.7848,
          315.6409,
          319.937,
          326.5628
         ],
         "yaxis": "y"
        }
       ],
       "layout": {
        "autosize": false,
        "height": 500,
        "showlegend": true,
        "template": {
         "data": {
          "bar": [
           {
            "error_x": {
             "color": "rgb(36,36,36)"
            },
            "error_y": {
             "color": "rgb(36,36,36)"
            },
            "marker": {
             "line": {
              "color": "white",
              "width": 0.5
             },
             "pattern": {
              "fillmode": "overlay",
              "size": 10,
              "solidity": 0.2
             }
            },
            "type": "bar"
           }
          ],
          "barpolar": [
           {
            "marker": {
             "line": {
              "color": "white",
              "width": 0.5
             },
             "pattern": {
              "fillmode": "overlay",
              "size": 10,
              "solidity": 0.2
             }
            },
            "type": "barpolar"
           }
          ],
          "carpet": [
           {
            "aaxis": {
             "endlinecolor": "rgb(36,36,36)",
             "gridcolor": "white",
             "linecolor": "white",
             "minorgridcolor": "white",
             "startlinecolor": "rgb(36,36,36)"
            },
            "baxis": {
             "endlinecolor": "rgb(36,36,36)",
             "gridcolor": "white",
             "linecolor": "white",
             "minorgridcolor": "white",
             "startlinecolor": "rgb(36,36,36)"
            },
            "type": "carpet"
           }
          ],
          "choropleth": [
           {
            "colorbar": {
             "outlinewidth": 1,
             "tickcolor": "rgb(36,36,36)",
             "ticks": "outside"
            },
            "type": "choropleth"
           }
          ],
          "contour": [
           {
            "colorbar": {
             "outlinewidth": 1,
             "tickcolor": "rgb(36,36,36)",
             "ticks": "outside"
            },
            "colorscale": [
             [
              0,
              "#440154"
             ],
             [
              0.1111111111111111,
              "#482878"
             ],
             [
              0.2222222222222222,
              "#3e4989"
             ],
             [
              0.3333333333333333,
              "#31688e"
             ],
             [
              0.4444444444444444,
              "#26828e"
             ],
             [
              0.5555555555555556,
              "#1f9e89"
             ],
             [
              0.6666666666666666,
              "#35b779"
             ],
             [
              0.7777777777777778,
              "#6ece58"
             ],
             [
              0.8888888888888888,
              "#b5de2b"
             ],
             [
              1,
              "#fde725"
             ]
            ],
            "type": "contour"
           }
          ],
          "contourcarpet": [
           {
            "colorbar": {
             "outlinewidth": 1,
             "tickcolor": "rgb(36,36,36)",
             "ticks": "outside"
            },
            "type": "contourcarpet"
           }
          ],
          "heatmap": [
           {
            "colorbar": {
             "outlinewidth": 1,
             "tickcolor": "rgb(36,36,36)",
             "ticks": "outside"
            },
            "colorscale": [
             [
              0,
              "#440154"
             ],
             [
              0.1111111111111111,
              "#482878"
             ],
             [
              0.2222222222222222,
              "#3e4989"
             ],
             [
              0.3333333333333333,
              "#31688e"
             ],
             [
              0.4444444444444444,
              "#26828e"
             ],
             [
              0.5555555555555556,
              "#1f9e89"
             ],
             [
              0.6666666666666666,
              "#35b779"
             ],
             [
              0.7777777777777778,
              "#6ece58"
             ],
             [
              0.8888888888888888,
              "#b5de2b"
             ],
             [
              1,
              "#fde725"
             ]
            ],
            "type": "heatmap"
           }
          ],
          "heatmapgl": [
           {
            "colorbar": {
             "outlinewidth": 1,
             "tickcolor": "rgb(36,36,36)",
             "ticks": "outside"
            },
            "colorscale": [
             [
              0,
              "#440154"
             ],
             [
              0.1111111111111111,
              "#482878"
             ],
             [
              0.2222222222222222,
              "#3e4989"
             ],
             [
              0.3333333333333333,
              "#31688e"
             ],
             [
              0.4444444444444444,
              "#26828e"
             ],
             [
              0.5555555555555556,
              "#1f9e89"
             ],
             [
              0.6666666666666666,
              "#35b779"
             ],
             [
              0.7777777777777778,
              "#6ece58"
             ],
             [
              0.8888888888888888,
              "#b5de2b"
             ],
             [
              1,
              "#fde725"
             ]
            ],
            "type": "heatmapgl"
           }
          ],
          "histogram": [
           {
            "marker": {
             "line": {
              "color": "white",
              "width": 0.6
             }
            },
            "type": "histogram"
           }
          ],
          "histogram2d": [
           {
            "colorbar": {
             "outlinewidth": 1,
             "tickcolor": "rgb(36,36,36)",
             "ticks": "outside"
            },
            "colorscale": [
             [
              0,
              "#440154"
             ],
             [
              0.1111111111111111,
              "#482878"
             ],
             [
              0.2222222222222222,
              "#3e4989"
             ],
             [
              0.3333333333333333,
              "#31688e"
             ],
             [
              0.4444444444444444,
              "#26828e"
             ],
             [
              0.5555555555555556,
              "#1f9e89"
             ],
             [
              0.6666666666666666,
              "#35b779"
             ],
             [
              0.7777777777777778,
              "#6ece58"
             ],
             [
              0.8888888888888888,
              "#b5de2b"
             ],
             [
              1,
              "#fde725"
             ]
            ],
            "type": "histogram2d"
           }
          ],
          "histogram2dcontour": [
           {
            "colorbar": {
             "outlinewidth": 1,
             "tickcolor": "rgb(36,36,36)",
             "ticks": "outside"
            },
            "colorscale": [
             [
              0,
              "#440154"
             ],
             [
              0.1111111111111111,
              "#482878"
             ],
             [
              0.2222222222222222,
              "#3e4989"
             ],
             [
              0.3333333333333333,
              "#31688e"
             ],
             [
              0.4444444444444444,
              "#26828e"
             ],
             [
              0.5555555555555556,
              "#1f9e89"
             ],
             [
              0.6666666666666666,
              "#35b779"
             ],
             [
              0.7777777777777778,
              "#6ece58"
             ],
             [
              0.8888888888888888,
              "#b5de2b"
             ],
             [
              1,
              "#fde725"
             ]
            ],
            "type": "histogram2dcontour"
           }
          ],
          "mesh3d": [
           {
            "colorbar": {
             "outlinewidth": 1,
             "tickcolor": "rgb(36,36,36)",
             "ticks": "outside"
            },
            "type": "mesh3d"
           }
          ],
          "parcoords": [
           {
            "line": {
             "colorbar": {
              "outlinewidth": 1,
              "tickcolor": "rgb(36,36,36)",
              "ticks": "outside"
             }
            },
            "type": "parcoords"
           }
          ],
          "pie": [
           {
            "automargin": true,
            "type": "pie"
           }
          ],
          "scatter": [
           {
            "fillpattern": {
             "fillmode": "overlay",
             "size": 10,
             "solidity": 0.2
            },
            "type": "scatter"
           }
          ],
          "scatter3d": [
           {
            "line": {
             "colorbar": {
              "outlinewidth": 1,
              "tickcolor": "rgb(36,36,36)",
              "ticks": "outside"
             }
            },
            "marker": {
             "colorbar": {
              "outlinewidth": 1,
              "tickcolor": "rgb(36,36,36)",
              "ticks": "outside"
             }
            },
            "type": "scatter3d"
           }
          ],
          "scattercarpet": [
           {
            "marker": {
             "colorbar": {
              "outlinewidth": 1,
              "tickcolor": "rgb(36,36,36)",
              "ticks": "outside"
             }
            },
            "type": "scattercarpet"
           }
          ],
          "scattergeo": [
           {
            "marker": {
             "colorbar": {
              "outlinewidth": 1,
              "tickcolor": "rgb(36,36,36)",
              "ticks": "outside"
             }
            },
            "type": "scattergeo"
           }
          ],
          "scattergl": [
           {
            "marker": {
             "colorbar": {
              "outlinewidth": 1,
              "tickcolor": "rgb(36,36,36)",
              "ticks": "outside"
             }
            },
            "type": "scattergl"
           }
          ],
          "scattermapbox": [
           {
            "marker": {
             "colorbar": {
              "outlinewidth": 1,
              "tickcolor": "rgb(36,36,36)",
              "ticks": "outside"
             }
            },
            "type": "scattermapbox"
           }
          ],
          "scatterpolar": [
           {
            "marker": {
             "colorbar": {
              "outlinewidth": 1,
              "tickcolor": "rgb(36,36,36)",
              "ticks": "outside"
             }
            },
            "type": "scatterpolar"
           }
          ],
          "scatterpolargl": [
           {
            "marker": {
             "colorbar": {
              "outlinewidth": 1,
              "tickcolor": "rgb(36,36,36)",
              "ticks": "outside"
             }
            },
            "type": "scatterpolargl"
           }
          ],
          "scatterternary": [
           {
            "marker": {
             "colorbar": {
              "outlinewidth": 1,
              "tickcolor": "rgb(36,36,36)",
              "ticks": "outside"
             }
            },
            "type": "scatterternary"
           }
          ],
          "surface": [
           {
            "colorbar": {
             "outlinewidth": 1,
             "tickcolor": "rgb(36,36,36)",
             "ticks": "outside"
            },
            "colorscale": [
             [
              0,
              "#440154"
             ],
             [
              0.1111111111111111,
              "#482878"
             ],
             [
              0.2222222222222222,
              "#3e4989"
             ],
             [
              0.3333333333333333,
              "#31688e"
             ],
             [
              0.4444444444444444,
              "#26828e"
             ],
             [
              0.5555555555555556,
              "#1f9e89"
             ],
             [
              0.6666666666666666,
              "#35b779"
             ],
             [
              0.7777777777777778,
              "#6ece58"
             ],
             [
              0.8888888888888888,
              "#b5de2b"
             ],
             [
              1,
              "#fde725"
             ]
            ],
            "type": "surface"
           }
          ],
          "table": [
           {
            "cells": {
             "fill": {
              "color": "rgb(237,237,237)"
             },
             "line": {
              "color": "white"
             }
            },
            "header": {
             "fill": {
              "color": "rgb(217,217,217)"
             },
             "line": {
              "color": "white"
             }
            },
            "type": "table"
           }
          ]
         },
         "layout": {
          "annotationdefaults": {
           "arrowhead": 0,
           "arrowwidth": 1
          },
          "autotypenumbers": "strict",
          "coloraxis": {
           "colorbar": {
            "outlinewidth": 1,
            "tickcolor": "rgb(36,36,36)",
            "ticks": "outside"
           }
          },
          "colorscale": {
           "diverging": [
            [
             0,
             "rgb(103,0,31)"
            ],
            [
             0.1,
             "rgb(178,24,43)"
            ],
            [
             0.2,
             "rgb(214,96,77)"
            ],
            [
             0.3,
             "rgb(244,165,130)"
            ],
            [
             0.4,
             "rgb(253,219,199)"
            ],
            [
             0.5,
             "rgb(247,247,247)"
            ],
            [
             0.6,
             "rgb(209,229,240)"
            ],
            [
             0.7,
             "rgb(146,197,222)"
            ],
            [
             0.8,
             "rgb(67,147,195)"
            ],
            [
             0.9,
             "rgb(33,102,172)"
            ],
            [
             1,
             "rgb(5,48,97)"
            ]
           ],
           "sequential": [
            [
             0,
             "#440154"
            ],
            [
             0.1111111111111111,
             "#482878"
            ],
            [
             0.2222222222222222,
             "#3e4989"
            ],
            [
             0.3333333333333333,
             "#31688e"
            ],
            [
             0.4444444444444444,
             "#26828e"
            ],
            [
             0.5555555555555556,
             "#1f9e89"
            ],
            [
             0.6666666666666666,
             "#35b779"
            ],
            [
             0.7777777777777778,
             "#6ece58"
            ],
            [
             0.8888888888888888,
             "#b5de2b"
            ],
            [
             1,
             "#fde725"
            ]
           ],
           "sequentialminus": [
            [
             0,
             "#440154"
            ],
            [
             0.1111111111111111,
             "#482878"
            ],
            [
             0.2222222222222222,
             "#3e4989"
            ],
            [
             0.3333333333333333,
             "#31688e"
            ],
            [
             0.4444444444444444,
             "#26828e"
            ],
            [
             0.5555555555555556,
             "#1f9e89"
            ],
            [
             0.6666666666666666,
             "#35b779"
            ],
            [
             0.7777777777777778,
             "#6ece58"
            ],
            [
             0.8888888888888888,
             "#b5de2b"
            ],
            [
             1,
             "#fde725"
            ]
           ]
          },
          "colorway": [
           "#1F77B4",
           "#FF7F0E",
           "#2CA02C",
           "#D62728",
           "#9467BD",
           "#8C564B",
           "#E377C2",
           "#7F7F7F",
           "#BCBD22",
           "#17BECF"
          ],
          "font": {
           "color": "rgb(36,36,36)"
          },
          "geo": {
           "bgcolor": "white",
           "lakecolor": "white",
           "landcolor": "white",
           "showlakes": true,
           "showland": true,
           "subunitcolor": "white"
          },
          "hoverlabel": {
           "align": "left"
          },
          "hovermode": "closest",
          "mapbox": {
           "style": "light"
          },
          "paper_bgcolor": "white",
          "plot_bgcolor": "white",
          "polar": {
           "angularaxis": {
            "gridcolor": "rgb(232,232,232)",
            "linecolor": "rgb(36,36,36)",
            "showgrid": false,
            "showline": true,
            "ticks": "outside"
           },
           "bgcolor": "white",
           "radialaxis": {
            "gridcolor": "rgb(232,232,232)",
            "linecolor": "rgb(36,36,36)",
            "showgrid": false,
            "showline": true,
            "ticks": "outside"
           }
          },
          "scene": {
           "xaxis": {
            "backgroundcolor": "white",
            "gridcolor": "rgb(232,232,232)",
            "gridwidth": 2,
            "linecolor": "rgb(36,36,36)",
            "showbackground": true,
            "showgrid": false,
            "showline": true,
            "ticks": "outside",
            "zeroline": false,
            "zerolinecolor": "rgb(36,36,36)"
           },
           "yaxis": {
            "backgroundcolor": "white",
            "gridcolor": "rgb(232,232,232)",
            "gridwidth": 2,
            "linecolor": "rgb(36,36,36)",
            "showbackground": true,
            "showgrid": false,
            "showline": true,
            "ticks": "outside",
            "zeroline": false,
            "zerolinecolor": "rgb(36,36,36)"
           },
           "zaxis": {
            "backgroundcolor": "white",
            "gridcolor": "rgb(232,232,232)",
            "gridwidth": 2,
            "linecolor": "rgb(36,36,36)",
            "showbackground": true,
            "showgrid": false,
            "showline": true,
            "ticks": "outside",
            "zeroline": false,
            "zerolinecolor": "rgb(36,36,36)"
           }
          },
          "shapedefaults": {
           "fillcolor": "black",
           "line": {
            "width": 0
           },
           "opacity": 0.3
          },
          "ternary": {
           "aaxis": {
            "gridcolor": "rgb(232,232,232)",
            "linecolor": "rgb(36,36,36)",
            "showgrid": false,
            "showline": true,
            "ticks": "outside"
           },
           "baxis": {
            "gridcolor": "rgb(232,232,232)",
            "linecolor": "rgb(36,36,36)",
            "showgrid": false,
            "showline": true,
            "ticks": "outside"
           },
           "bgcolor": "white",
           "caxis": {
            "gridcolor": "rgb(232,232,232)",
            "linecolor": "rgb(36,36,36)",
            "showgrid": false,
            "showline": true,
            "ticks": "outside"
           }
          },
          "title": {
           "x": 0.05
          },
          "xaxis": {
           "automargin": true,
           "gridcolor": "rgb(232,232,232)",
           "linecolor": "rgb(36,36,36)",
           "showgrid": false,
           "showline": true,
           "ticks": "outside",
           "title": {
            "standoff": 15
           },
           "zeroline": false,
           "zerolinecolor": "rgb(36,36,36)"
          },
          "yaxis": {
           "automargin": true,
           "gridcolor": "rgb(232,232,232)",
           "linecolor": "rgb(36,36,36)",
           "showgrid": false,
           "showline": true,
           "ticks": "outside",
           "title": {
            "standoff": 15
           },
           "zeroline": false,
           "zerolinecolor": "rgb(36,36,36)"
          }
         }
        },
        "title": {
         "text": "Actual vs. Forecast (Out-of-Sample)"
        },
        "width": 1000,
        "xaxis": {
         "anchor": "y",
         "domain": [
          0,
          1
         ]
        },
        "yaxis": {
         "anchor": "x",
         "domain": [
          0,
          1
         ]
        }
       }
      }
     },
     "metadata": {},
     "output_type": "display_data"
    }
   ],
   "source": [
    "arima = exp.create_model('llar_cds_dt')\n",
    "exp.plot_model(plot = 'decomp',\n",
    "               data_kwargs = {'type' : 'multiplicative'},\n",
    "               fig_kwargs = {\"height\":500,\"width\":1000,\"template\": \"simple_white\",\"hoverinfo\":\"none\",\"big_data_threshold\":10})\n",
    "exp.plot_model(estimator = arima, plot = 'forecast', \n",
    "               data_kwargs = {'fh' : 8},\n",
    "               fig_kwargs = {\"height\":500,\"width\":1000,\"template\": \"simple_white\",\"hoverinfo\":\"none\",\"big_data_threshold\":10})"
   ]
  },
  {
   "cell_type": "markdown",
   "metadata": {},
   "source": [
    "\n",
    "## ada_cds_dt\n"
   ]
  },
  {
   "cell_type": "code",
   "execution_count": 19,
   "metadata": {},
   "outputs": [
    {
     "data": {
      "text/html": [
       "<div>\n",
       "<style scoped>\n",
       "    .dataframe tbody tr th:only-of-type {\n",
       "        vertical-align: middle;\n",
       "    }\n",
       "\n",
       "    .dataframe tbody tr th {\n",
       "        vertical-align: top;\n",
       "    }\n",
       "\n",
       "    .dataframe thead th {\n",
       "        text-align: right;\n",
       "    }\n",
       "</style>\n",
       "<table border=\"1\" class=\"dataframe\">\n",
       "  <thead>\n",
       "    <tr style=\"text-align: right;\">\n",
       "      <th></th>\n",
       "      <th></th>\n",
       "      <th></th>\n",
       "    </tr>\n",
       "    <tr>\n",
       "      <th></th>\n",
       "      <th></th>\n",
       "      <th></th>\n",
       "    </tr>\n",
       "  </thead>\n",
       "  <tbody>\n",
       "    <tr>\n",
       "      <th>Initiated</th>\n",
       "      <td>. . . . . . . . . . . . . . . . . .</td>\n",
       "      <td>11:57:08</td>\n",
       "    </tr>\n",
       "    <tr>\n",
       "      <th>Status</th>\n",
       "      <td>. . . . . . . . . . . . . . . . . .</td>\n",
       "      <td>Fitting 3 Folds</td>\n",
       "    </tr>\n",
       "    <tr>\n",
       "      <th>Estimator</th>\n",
       "      <td>. . . . . . . . . . . . . . . . . .</td>\n",
       "      <td>AdaBoost w/ Cond. Deseasonalize &amp; Detrending</td>\n",
       "    </tr>\n",
       "  </tbody>\n",
       "</table>\n",
       "</div>"
      ],
      "text/plain": [
       "                                                \\\n",
       "                                                 \n",
       "Initiated  . . . . . . . . . . . . . . . . . .   \n",
       "Status     . . . . . . . . . . . . . . . . . .   \n",
       "Estimator  . . . . . . . . . . . . . . . . . .   \n",
       "\n",
       "                                                         \n",
       "                                                         \n",
       "Initiated                                      11:57:08  \n",
       "Status                                  Fitting 3 Folds  \n",
       "Estimator  AdaBoost w/ Cond. Deseasonalize & Detrending  "
      ]
     },
     "metadata": {},
     "output_type": "display_data"
    },
    {
     "data": {
      "text/html": [
       "<style type=\"text/css\">\n",
       "#T_1f657_row3_col0, #T_1f657_row3_col1, #T_1f657_row3_col2, #T_1f657_row3_col3, #T_1f657_row3_col4, #T_1f657_row3_col5, #T_1f657_row3_col6 {\n",
       "  background: yellow;\n",
       "}\n",
       "</style>\n",
       "<table id=\"T_1f657\">\n",
       "  <thead>\n",
       "    <tr>\n",
       "      <th class=\"blank level0\" >&nbsp;</th>\n",
       "      <th id=\"T_1f657_level0_col0\" class=\"col_heading level0 col0\" >cutoff</th>\n",
       "      <th id=\"T_1f657_level0_col1\" class=\"col_heading level0 col1\" >MASE</th>\n",
       "      <th id=\"T_1f657_level0_col2\" class=\"col_heading level0 col2\" >RMSSE</th>\n",
       "      <th id=\"T_1f657_level0_col3\" class=\"col_heading level0 col3\" >MAE</th>\n",
       "      <th id=\"T_1f657_level0_col4\" class=\"col_heading level0 col4\" >RMSE</th>\n",
       "      <th id=\"T_1f657_level0_col5\" class=\"col_heading level0 col5\" >MAPE</th>\n",
       "      <th id=\"T_1f657_level0_col6\" class=\"col_heading level0 col6\" >SMAPE</th>\n",
       "    </tr>\n",
       "  </thead>\n",
       "  <tbody>\n",
       "    <tr>\n",
       "      <th id=\"T_1f657_level0_row0\" class=\"row_heading level0 row0\" >0</th>\n",
       "      <td id=\"T_1f657_row0_col0\" class=\"data row0 col0\" >2019</td>\n",
       "      <td id=\"T_1f657_row0_col1\" class=\"data row0 col1\" >0.5738</td>\n",
       "      <td id=\"T_1f657_row0_col2\" class=\"data row0 col2\" >0.5601</td>\n",
       "      <td id=\"T_1f657_row0_col3\" class=\"data row0 col3\" >3.1500</td>\n",
       "      <td id=\"T_1f657_row0_col4\" class=\"data row0 col4\" >3.1500</td>\n",
       "      <td id=\"T_1f657_row0_col5\" class=\"data row0 col5\" >0.0118</td>\n",
       "      <td id=\"T_1f657_row0_col6\" class=\"data row0 col6\" >0.0117</td>\n",
       "    </tr>\n",
       "    <tr>\n",
       "      <th id=\"T_1f657_level0_row1\" class=\"row_heading level0 row1\" >1</th>\n",
       "      <td id=\"T_1f657_row1_col0\" class=\"data row1 col0\" >2020</td>\n",
       "      <td id=\"T_1f657_row1_col1\" class=\"data row1 col1\" >1.8082</td>\n",
       "      <td id=\"T_1f657_row1_col2\" class=\"data row1 col2\" >1.5727</td>\n",
       "      <td id=\"T_1f657_row1_col3\" class=\"data row1 col3\" >7.2930</td>\n",
       "      <td id=\"T_1f657_row1_col4\" class=\"data row1 col4\" >7.2930</td>\n",
       "      <td id=\"T_1f657_row1_col5\" class=\"data row1 col5\" >0.0275</td>\n",
       "      <td id=\"T_1f657_row1_col6\" class=\"data row1 col6\" >0.0272</td>\n",
       "    </tr>\n",
       "    <tr>\n",
       "      <th id=\"T_1f657_level0_row2\" class=\"row_heading level0 row2\" >2</th>\n",
       "      <td id=\"T_1f657_row2_col0\" class=\"data row2 col0\" >2021</td>\n",
       "      <td id=\"T_1f657_row2_col1\" class=\"data row2 col1\" >5.8754</td>\n",
       "      <td id=\"T_1f657_row2_col2\" class=\"data row2 col2\" >5.0483</td>\n",
       "      <td id=\"T_1f657_row2_col3\" class=\"data row2 col3\" >21.0340</td>\n",
       "      <td id=\"T_1f657_row2_col4\" class=\"data row2 col4\" >21.0340</td>\n",
       "      <td id=\"T_1f657_row2_col5\" class=\"data row2 col5\" >0.0722</td>\n",
       "      <td id=\"T_1f657_row2_col6\" class=\"data row2 col6\" >0.0749</td>\n",
       "    </tr>\n",
       "    <tr>\n",
       "      <th id=\"T_1f657_level0_row3\" class=\"row_heading level0 row3\" >Mean</th>\n",
       "      <td id=\"T_1f657_row3_col0\" class=\"data row3 col0\" >NaT</td>\n",
       "      <td id=\"T_1f657_row3_col1\" class=\"data row3 col1\" >2.7525</td>\n",
       "      <td id=\"T_1f657_row3_col2\" class=\"data row3 col2\" >2.3937</td>\n",
       "      <td id=\"T_1f657_row3_col3\" class=\"data row3 col3\" >10.4923</td>\n",
       "      <td id=\"T_1f657_row3_col4\" class=\"data row3 col4\" >10.4923</td>\n",
       "      <td id=\"T_1f657_row3_col5\" class=\"data row3 col5\" >0.0372</td>\n",
       "      <td id=\"T_1f657_row3_col6\" class=\"data row3 col6\" >0.0379</td>\n",
       "    </tr>\n",
       "    <tr>\n",
       "      <th id=\"T_1f657_level0_row4\" class=\"row_heading level0 row4\" >SD</th>\n",
       "      <td id=\"T_1f657_row4_col0\" class=\"data row4 col0\" >NaT</td>\n",
       "      <td id=\"T_1f657_row4_col1\" class=\"data row4 col1\" >2.2650</td>\n",
       "      <td id=\"T_1f657_row4_col2\" class=\"data row4 col2\" >1.9221</td>\n",
       "      <td id=\"T_1f657_row4_col3\" class=\"data row4 col3\" >7.6436</td>\n",
       "      <td id=\"T_1f657_row4_col4\" class=\"data row4 col4\" >7.6436</td>\n",
       "      <td id=\"T_1f657_row4_col5\" class=\"data row4 col5\" >0.0256</td>\n",
       "      <td id=\"T_1f657_row4_col6\" class=\"data row4 col6\" >0.0269</td>\n",
       "    </tr>\n",
       "  </tbody>\n",
       "</table>\n"
      ],
      "text/plain": [
       "<pandas.io.formats.style.Styler at 0x189a801a440>"
      ]
     },
     "metadata": {},
     "output_type": "display_data"
    },
    {
     "data": {
      "text/html": [],
      "text/plain": [
       "<IPython.core.display.HTML object>"
      ]
     },
     "metadata": {},
     "output_type": "display_data"
    },
    {
     "data": {
      "application/vnd.plotly.v1+json": {
       "config": {
        "plotlyServerURL": "https://plot.ly"
       },
       "data": [
        {
         "line": {
          "color": "rgb(31, 119, 180)",
          "width": 2
         },
         "marker": {
          "size": 2
         },
         "mode": "lines+markers",
         "name": "Actual",
         "type": "scattergl",
         "x": [
          "2017-01-01T00:00:00",
          "2018-01-01T00:00:00",
          "2019-01-01T00:00:00",
          "2020-01-01T00:00:00",
          "2021-01-01T00:00:00",
          "2022-01-01T00:00:00",
          "2023-01-01T00:00:00"
         ],
         "xaxis": "x",
         "y": [
          255.06,
          259.33,
          266.04,
          267.16,
          264.94,
          291.4,
          301.8
         ],
         "yaxis": "y"
        },
        {
         "line": {
          "color": "rgb(255, 127, 14)",
          "width": 2
         },
         "marker": {
          "size": 2
         },
         "mode": "lines+markers",
         "name": "Seasonal",
         "type": "scattergl",
         "x": [
          "2017-01-01T00:00:00",
          "2018-01-01T00:00:00",
          "2019-01-01T00:00:00",
          "2020-01-01T00:00:00",
          "2021-01-01T00:00:00",
          "2022-01-01T00:00:00",
          "2023-01-01T00:00:00"
         ],
         "xaxis": "x2",
         "y": [
          1,
          1,
          1,
          1,
          1,
          1,
          1
         ],
         "yaxis": "y2"
        },
        {
         "line": {
          "color": "rgb(44, 160, 44)",
          "width": 2
         },
         "marker": {
          "size": 2
         },
         "mode": "lines+markers",
         "name": "Trend",
         "type": "scattergl",
         "x": [
          "2017-01-01T00:00:00",
          "2018-01-01T00:00:00",
          "2019-01-01T00:00:00",
          "2020-01-01T00:00:00",
          "2021-01-01T00:00:00",
          "2022-01-01T00:00:00",
          "2023-01-01T00:00:00"
         ],
         "xaxis": "x3",
         "y": [
          255.06,
          259.33,
          266.04,
          267.16,
          264.94,
          291.4,
          301.8
         ],
         "yaxis": "y3"
        },
        {
         "line": {
          "color": "rgb(214, 39, 40)",
          "width": 2
         },
         "marker": {
          "size": 4
         },
         "mode": "markers",
         "name": "Residuals",
         "type": "scattergl",
         "x": [
          "2017-01-01T00:00:00",
          "2018-01-01T00:00:00",
          "2019-01-01T00:00:00",
          "2020-01-01T00:00:00",
          "2021-01-01T00:00:00",
          "2022-01-01T00:00:00",
          "2023-01-01T00:00:00"
         ],
         "xaxis": "x4",
         "y": [
          1,
          1,
          1,
          1,
          1,
          1,
          1
         ],
         "yaxis": "y4"
        }
       ],
       "layout": {
        "annotations": [
         {
          "font": {
           "size": 16
          },
          "showarrow": false,
          "text": "value (transformed)",
          "x": 0.49,
          "xanchor": "center",
          "xref": "paper",
          "y": 1,
          "yanchor": "bottom",
          "yref": "paper"
         },
         {
          "font": {
           "size": 16
          },
          "showarrow": false,
          "text": "Actual",
          "textangle": 90,
          "x": 0.98,
          "xanchor": "left",
          "xref": "paper",
          "y": 0.903125,
          "yanchor": "middle",
          "yref": "paper"
         },
         {
          "font": {
           "size": 16
          },
          "showarrow": false,
          "text": "Seasonal",
          "textangle": 90,
          "x": 0.98,
          "xanchor": "left",
          "xref": "paper",
          "y": 0.6343749999999999,
          "yanchor": "middle",
          "yref": "paper"
         },
         {
          "font": {
           "size": 16
          },
          "showarrow": false,
          "text": "Trend",
          "textangle": 90,
          "x": 0.98,
          "xanchor": "left",
          "xref": "paper",
          "y": 0.365625,
          "yanchor": "middle",
          "yref": "paper"
         },
         {
          "font": {
           "size": 16
          },
          "showarrow": false,
          "text": "Residual",
          "textangle": 90,
          "x": 0.98,
          "xanchor": "left",
          "xref": "paper",
          "y": 0.096875,
          "yanchor": "middle",
          "yref": "paper"
         }
        ],
        "autosize": false,
        "height": 500,
        "showlegend": false,
        "template": {
         "data": {
          "bar": [
           {
            "error_x": {
             "color": "rgb(36,36,36)"
            },
            "error_y": {
             "color": "rgb(36,36,36)"
            },
            "marker": {
             "line": {
              "color": "white",
              "width": 0.5
             },
             "pattern": {
              "fillmode": "overlay",
              "size": 10,
              "solidity": 0.2
             }
            },
            "type": "bar"
           }
          ],
          "barpolar": [
           {
            "marker": {
             "line": {
              "color": "white",
              "width": 0.5
             },
             "pattern": {
              "fillmode": "overlay",
              "size": 10,
              "solidity": 0.2
             }
            },
            "type": "barpolar"
           }
          ],
          "carpet": [
           {
            "aaxis": {
             "endlinecolor": "rgb(36,36,36)",
             "gridcolor": "white",
             "linecolor": "white",
             "minorgridcolor": "white",
             "startlinecolor": "rgb(36,36,36)"
            },
            "baxis": {
             "endlinecolor": "rgb(36,36,36)",
             "gridcolor": "white",
             "linecolor": "white",
             "minorgridcolor": "white",
             "startlinecolor": "rgb(36,36,36)"
            },
            "type": "carpet"
           }
          ],
          "choropleth": [
           {
            "colorbar": {
             "outlinewidth": 1,
             "tickcolor": "rgb(36,36,36)",
             "ticks": "outside"
            },
            "type": "choropleth"
           }
          ],
          "contour": [
           {
            "colorbar": {
             "outlinewidth": 1,
             "tickcolor": "rgb(36,36,36)",
             "ticks": "outside"
            },
            "colorscale": [
             [
              0,
              "#440154"
             ],
             [
              0.1111111111111111,
              "#482878"
             ],
             [
              0.2222222222222222,
              "#3e4989"
             ],
             [
              0.3333333333333333,
              "#31688e"
             ],
             [
              0.4444444444444444,
              "#26828e"
             ],
             [
              0.5555555555555556,
              "#1f9e89"
             ],
             [
              0.6666666666666666,
              "#35b779"
             ],
             [
              0.7777777777777778,
              "#6ece58"
             ],
             [
              0.8888888888888888,
              "#b5de2b"
             ],
             [
              1,
              "#fde725"
             ]
            ],
            "type": "contour"
           }
          ],
          "contourcarpet": [
           {
            "colorbar": {
             "outlinewidth": 1,
             "tickcolor": "rgb(36,36,36)",
             "ticks": "outside"
            },
            "type": "contourcarpet"
           }
          ],
          "heatmap": [
           {
            "colorbar": {
             "outlinewidth": 1,
             "tickcolor": "rgb(36,36,36)",
             "ticks": "outside"
            },
            "colorscale": [
             [
              0,
              "#440154"
             ],
             [
              0.1111111111111111,
              "#482878"
             ],
             [
              0.2222222222222222,
              "#3e4989"
             ],
             [
              0.3333333333333333,
              "#31688e"
             ],
             [
              0.4444444444444444,
              "#26828e"
             ],
             [
              0.5555555555555556,
              "#1f9e89"
             ],
             [
              0.6666666666666666,
              "#35b779"
             ],
             [
              0.7777777777777778,
              "#6ece58"
             ],
             [
              0.8888888888888888,
              "#b5de2b"
             ],
             [
              1,
              "#fde725"
             ]
            ],
            "type": "heatmap"
           }
          ],
          "heatmapgl": [
           {
            "colorbar": {
             "outlinewidth": 1,
             "tickcolor": "rgb(36,36,36)",
             "ticks": "outside"
            },
            "colorscale": [
             [
              0,
              "#440154"
             ],
             [
              0.1111111111111111,
              "#482878"
             ],
             [
              0.2222222222222222,
              "#3e4989"
             ],
             [
              0.3333333333333333,
              "#31688e"
             ],
             [
              0.4444444444444444,
              "#26828e"
             ],
             [
              0.5555555555555556,
              "#1f9e89"
             ],
             [
              0.6666666666666666,
              "#35b779"
             ],
             [
              0.7777777777777778,
              "#6ece58"
             ],
             [
              0.8888888888888888,
              "#b5de2b"
             ],
             [
              1,
              "#fde725"
             ]
            ],
            "type": "heatmapgl"
           }
          ],
          "histogram": [
           {
            "marker": {
             "line": {
              "color": "white",
              "width": 0.6
             }
            },
            "type": "histogram"
           }
          ],
          "histogram2d": [
           {
            "colorbar": {
             "outlinewidth": 1,
             "tickcolor": "rgb(36,36,36)",
             "ticks": "outside"
            },
            "colorscale": [
             [
              0,
              "#440154"
             ],
             [
              0.1111111111111111,
              "#482878"
             ],
             [
              0.2222222222222222,
              "#3e4989"
             ],
             [
              0.3333333333333333,
              "#31688e"
             ],
             [
              0.4444444444444444,
              "#26828e"
             ],
             [
              0.5555555555555556,
              "#1f9e89"
             ],
             [
              0.6666666666666666,
              "#35b779"
             ],
             [
              0.7777777777777778,
              "#6ece58"
             ],
             [
              0.8888888888888888,
              "#b5de2b"
             ],
             [
              1,
              "#fde725"
             ]
            ],
            "type": "histogram2d"
           }
          ],
          "histogram2dcontour": [
           {
            "colorbar": {
             "outlinewidth": 1,
             "tickcolor": "rgb(36,36,36)",
             "ticks": "outside"
            },
            "colorscale": [
             [
              0,
              "#440154"
             ],
             [
              0.1111111111111111,
              "#482878"
             ],
             [
              0.2222222222222222,
              "#3e4989"
             ],
             [
              0.3333333333333333,
              "#31688e"
             ],
             [
              0.4444444444444444,
              "#26828e"
             ],
             [
              0.5555555555555556,
              "#1f9e89"
             ],
             [
              0.6666666666666666,
              "#35b779"
             ],
             [
              0.7777777777777778,
              "#6ece58"
             ],
             [
              0.8888888888888888,
              "#b5de2b"
             ],
             [
              1,
              "#fde725"
             ]
            ],
            "type": "histogram2dcontour"
           }
          ],
          "mesh3d": [
           {
            "colorbar": {
             "outlinewidth": 1,
             "tickcolor": "rgb(36,36,36)",
             "ticks": "outside"
            },
            "type": "mesh3d"
           }
          ],
          "parcoords": [
           {
            "line": {
             "colorbar": {
              "outlinewidth": 1,
              "tickcolor": "rgb(36,36,36)",
              "ticks": "outside"
             }
            },
            "type": "parcoords"
           }
          ],
          "pie": [
           {
            "automargin": true,
            "type": "pie"
           }
          ],
          "scatter": [
           {
            "fillpattern": {
             "fillmode": "overlay",
             "size": 10,
             "solidity": 0.2
            },
            "type": "scatter"
           }
          ],
          "scatter3d": [
           {
            "line": {
             "colorbar": {
              "outlinewidth": 1,
              "tickcolor": "rgb(36,36,36)",
              "ticks": "outside"
             }
            },
            "marker": {
             "colorbar": {
              "outlinewidth": 1,
              "tickcolor": "rgb(36,36,36)",
              "ticks": "outside"
             }
            },
            "type": "scatter3d"
           }
          ],
          "scattercarpet": [
           {
            "marker": {
             "colorbar": {
              "outlinewidth": 1,
              "tickcolor": "rgb(36,36,36)",
              "ticks": "outside"
             }
            },
            "type": "scattercarpet"
           }
          ],
          "scattergeo": [
           {
            "marker": {
             "colorbar": {
              "outlinewidth": 1,
              "tickcolor": "rgb(36,36,36)",
              "ticks": "outside"
             }
            },
            "type": "scattergeo"
           }
          ],
          "scattergl": [
           {
            "marker": {
             "colorbar": {
              "outlinewidth": 1,
              "tickcolor": "rgb(36,36,36)",
              "ticks": "outside"
             }
            },
            "type": "scattergl"
           }
          ],
          "scattermapbox": [
           {
            "marker": {
             "colorbar": {
              "outlinewidth": 1,
              "tickcolor": "rgb(36,36,36)",
              "ticks": "outside"
             }
            },
            "type": "scattermapbox"
           }
          ],
          "scatterpolar": [
           {
            "marker": {
             "colorbar": {
              "outlinewidth": 1,
              "tickcolor": "rgb(36,36,36)",
              "ticks": "outside"
             }
            },
            "type": "scatterpolar"
           }
          ],
          "scatterpolargl": [
           {
            "marker": {
             "colorbar": {
              "outlinewidth": 1,
              "tickcolor": "rgb(36,36,36)",
              "ticks": "outside"
             }
            },
            "type": "scatterpolargl"
           }
          ],
          "scatterternary": [
           {
            "marker": {
             "colorbar": {
              "outlinewidth": 1,
              "tickcolor": "rgb(36,36,36)",
              "ticks": "outside"
             }
            },
            "type": "scatterternary"
           }
          ],
          "surface": [
           {
            "colorbar": {
             "outlinewidth": 1,
             "tickcolor": "rgb(36,36,36)",
             "ticks": "outside"
            },
            "colorscale": [
             [
              0,
              "#440154"
             ],
             [
              0.1111111111111111,
              "#482878"
             ],
             [
              0.2222222222222222,
              "#3e4989"
             ],
             [
              0.3333333333333333,
              "#31688e"
             ],
             [
              0.4444444444444444,
              "#26828e"
             ],
             [
              0.5555555555555556,
              "#1f9e89"
             ],
             [
              0.6666666666666666,
              "#35b779"
             ],
             [
              0.7777777777777778,
              "#6ece58"
             ],
             [
              0.8888888888888888,
              "#b5de2b"
             ],
             [
              1,
              "#fde725"
             ]
            ],
            "type": "surface"
           }
          ],
          "table": [
           {
            "cells": {
             "fill": {
              "color": "rgb(237,237,237)"
             },
             "line": {
              "color": "white"
             }
            },
            "header": {
             "fill": {
              "color": "rgb(217,217,217)"
             },
             "line": {
              "color": "white"
             }
            },
            "type": "table"
           }
          ]
         },
         "layout": {
          "annotationdefaults": {
           "arrowhead": 0,
           "arrowwidth": 1
          },
          "autotypenumbers": "strict",
          "coloraxis": {
           "colorbar": {
            "outlinewidth": 1,
            "tickcolor": "rgb(36,36,36)",
            "ticks": "outside"
           }
          },
          "colorscale": {
           "diverging": [
            [
             0,
             "rgb(103,0,31)"
            ],
            [
             0.1,
             "rgb(178,24,43)"
            ],
            [
             0.2,
             "rgb(214,96,77)"
            ],
            [
             0.3,
             "rgb(244,165,130)"
            ],
            [
             0.4,
             "rgb(253,219,199)"
            ],
            [
             0.5,
             "rgb(247,247,247)"
            ],
            [
             0.6,
             "rgb(209,229,240)"
            ],
            [
             0.7,
             "rgb(146,197,222)"
            ],
            [
             0.8,
             "rgb(67,147,195)"
            ],
            [
             0.9,
             "rgb(33,102,172)"
            ],
            [
             1,
             "rgb(5,48,97)"
            ]
           ],
           "sequential": [
            [
             0,
             "#440154"
            ],
            [
             0.1111111111111111,
             "#482878"
            ],
            [
             0.2222222222222222,
             "#3e4989"
            ],
            [
             0.3333333333333333,
             "#31688e"
            ],
            [
             0.4444444444444444,
             "#26828e"
            ],
            [
             0.5555555555555556,
             "#1f9e89"
            ],
            [
             0.6666666666666666,
             "#35b779"
            ],
            [
             0.7777777777777778,
             "#6ece58"
            ],
            [
             0.8888888888888888,
             "#b5de2b"
            ],
            [
             1,
             "#fde725"
            ]
           ],
           "sequentialminus": [
            [
             0,
             "#440154"
            ],
            [
             0.1111111111111111,
             "#482878"
            ],
            [
             0.2222222222222222,
             "#3e4989"
            ],
            [
             0.3333333333333333,
             "#31688e"
            ],
            [
             0.4444444444444444,
             "#26828e"
            ],
            [
             0.5555555555555556,
             "#1f9e89"
            ],
            [
             0.6666666666666666,
             "#35b779"
            ],
            [
             0.7777777777777778,
             "#6ece58"
            ],
            [
             0.8888888888888888,
             "#b5de2b"
            ],
            [
             1,
             "#fde725"
            ]
           ]
          },
          "colorway": [
           "#1F77B4",
           "#FF7F0E",
           "#2CA02C",
           "#D62728",
           "#9467BD",
           "#8C564B",
           "#E377C2",
           "#7F7F7F",
           "#BCBD22",
           "#17BECF"
          ],
          "font": {
           "color": "rgb(36,36,36)"
          },
          "geo": {
           "bgcolor": "white",
           "lakecolor": "white",
           "landcolor": "white",
           "showlakes": true,
           "showland": true,
           "subunitcolor": "white"
          },
          "hoverlabel": {
           "align": "left"
          },
          "hovermode": "closest",
          "mapbox": {
           "style": "light"
          },
          "paper_bgcolor": "white",
          "plot_bgcolor": "white",
          "polar": {
           "angularaxis": {
            "gridcolor": "rgb(232,232,232)",
            "linecolor": "rgb(36,36,36)",
            "showgrid": false,
            "showline": true,
            "ticks": "outside"
           },
           "bgcolor": "white",
           "radialaxis": {
            "gridcolor": "rgb(232,232,232)",
            "linecolor": "rgb(36,36,36)",
            "showgrid": false,
            "showline": true,
            "ticks": "outside"
           }
          },
          "scene": {
           "xaxis": {
            "backgroundcolor": "white",
            "gridcolor": "rgb(232,232,232)",
            "gridwidth": 2,
            "linecolor": "rgb(36,36,36)",
            "showbackground": true,
            "showgrid": false,
            "showline": true,
            "ticks": "outside",
            "zeroline": false,
            "zerolinecolor": "rgb(36,36,36)"
           },
           "yaxis": {
            "backgroundcolor": "white",
            "gridcolor": "rgb(232,232,232)",
            "gridwidth": 2,
            "linecolor": "rgb(36,36,36)",
            "showbackground": true,
            "showgrid": false,
            "showline": true,
            "ticks": "outside",
            "zeroline": false,
            "zerolinecolor": "rgb(36,36,36)"
           },
           "zaxis": {
            "backgroundcolor": "white",
            "gridcolor": "rgb(232,232,232)",
            "gridwidth": 2,
            "linecolor": "rgb(36,36,36)",
            "showbackground": true,
            "showgrid": false,
            "showline": true,
            "ticks": "outside",
            "zeroline": false,
            "zerolinecolor": "rgb(36,36,36)"
           }
          },
          "shapedefaults": {
           "fillcolor": "black",
           "line": {
            "width": 0
           },
           "opacity": 0.3
          },
          "ternary": {
           "aaxis": {
            "gridcolor": "rgb(232,232,232)",
            "linecolor": "rgb(36,36,36)",
            "showgrid": false,
            "showline": true,
            "ticks": "outside"
           },
           "baxis": {
            "gridcolor": "rgb(232,232,232)",
            "linecolor": "rgb(36,36,36)",
            "showgrid": false,
            "showline": true,
            "ticks": "outside"
           },
           "bgcolor": "white",
           "caxis": {
            "gridcolor": "rgb(232,232,232)",
            "linecolor": "rgb(36,36,36)",
            "showgrid": false,
            "showline": true,
            "ticks": "outside"
           }
          },
          "title": {
           "x": 0.05
          },
          "xaxis": {
           "automargin": true,
           "gridcolor": "rgb(232,232,232)",
           "linecolor": "rgb(36,36,36)",
           "showgrid": false,
           "showline": true,
           "ticks": "outside",
           "title": {
            "standoff": 15
           },
           "zeroline": false,
           "zerolinecolor": "rgb(36,36,36)"
          },
          "yaxis": {
           "automargin": true,
           "gridcolor": "rgb(232,232,232)",
           "linecolor": "rgb(36,36,36)",
           "showgrid": false,
           "showline": true,
           "ticks": "outside",
           "title": {
            "standoff": 15
           },
           "zeroline": false,
           "zerolinecolor": "rgb(36,36,36)"
          }
         }
        },
        "title": {
         "text": "Classical Decomposition (multiplicative) | value<br>Seasonal Period = 1"
        },
        "width": 1000,
        "xaxis": {
         "anchor": "y",
         "domain": [
          0,
          0.98
         ],
         "matches": "x4",
         "showticklabels": false
        },
        "xaxis2": {
         "anchor": "y2",
         "domain": [
          0,
          0.98
         ],
         "matches": "x4",
         "showticklabels": false
        },
        "xaxis3": {
         "anchor": "y3",
         "domain": [
          0,
          0.98
         ],
         "matches": "x4",
         "showticklabels": false
        },
        "xaxis4": {
         "anchor": "y4",
         "domain": [
          0,
          0.98
         ]
        },
        "yaxis": {
         "anchor": "x",
         "domain": [
          0.80625,
          1
         ]
        },
        "yaxis2": {
         "anchor": "x2",
         "domain": [
          0.5375,
          0.73125
         ]
        },
        "yaxis3": {
         "anchor": "x3",
         "domain": [
          0.26875,
          0.4625
         ]
        },
        "yaxis4": {
         "anchor": "x4",
         "domain": [
          0,
          0.19375
         ]
        }
       }
      }
     },
     "metadata": {},
     "output_type": "display_data"
    },
    {
     "data": {
      "application/vnd.plotly.v1+json": {
       "config": {
        "plotlyServerURL": "https://plot.ly"
       },
       "data": [
        {
         "hoverinfo": "none",
         "line": {
          "width": 2
         },
         "marker": {
          "size": 5
         },
         "mode": "lines+markers",
         "name": "value",
         "type": "scattergl",
         "x": [
          "2017-01-01T00:00:00",
          "2018-01-01T00:00:00",
          "2019-01-01T00:00:00",
          "2020-01-01T00:00:00",
          "2021-01-01T00:00:00",
          "2022-01-01T00:00:00",
          "2023-01-01T00:00:00",
          "2024-01-01T00:00:00",
          "2025-01-01T00:00:00",
          "2026-01-01T00:00:00",
          "2027-01-01T00:00:00",
          "2028-01-01T00:00:00",
          "2029-01-01T00:00:00",
          "2030-01-01T00:00:00"
         ],
         "xaxis": "x",
         "y": [
          255.06,
          259.33,
          266.04,
          267.16,
          264.94,
          291.4,
          301.8,
          null,
          null,
          null,
          null,
          null,
          null,
          null
         ],
         "yaxis": "y"
        },
        {
         "hoverinfo": "none",
         "line": {
          "width": 2
         },
         "marker": {
          "size": 5
         },
         "mode": "lines+markers",
         "name": "AdaBoostRegressor",
         "type": "scattergl",
         "x": [
          "2017-01-01T00:00:00",
          "2018-01-01T00:00:00",
          "2019-01-01T00:00:00",
          "2020-01-01T00:00:00",
          "2021-01-01T00:00:00",
          "2022-01-01T00:00:00",
          "2023-01-01T00:00:00",
          "2024-01-01T00:00:00",
          "2025-01-01T00:00:00",
          "2026-01-01T00:00:00",
          "2027-01-01T00:00:00",
          "2028-01-01T00:00:00",
          "2029-01-01T00:00:00",
          "2030-01-01T00:00:00"
         ],
         "xaxis": "x",
         "y": [
          null,
          null,
          null,
          null,
          null,
          null,
          287.8514,
          293.5557,
          299.26,
          304.9643,
          310.6686,
          316.3729,
          322.0771,
          327.7814
         ],
         "yaxis": "y"
        }
       ],
       "layout": {
        "autosize": false,
        "height": 500,
        "showlegend": true,
        "template": {
         "data": {
          "bar": [
           {
            "error_x": {
             "color": "rgb(36,36,36)"
            },
            "error_y": {
             "color": "rgb(36,36,36)"
            },
            "marker": {
             "line": {
              "color": "white",
              "width": 0.5
             },
             "pattern": {
              "fillmode": "overlay",
              "size": 10,
              "solidity": 0.2
             }
            },
            "type": "bar"
           }
          ],
          "barpolar": [
           {
            "marker": {
             "line": {
              "color": "white",
              "width": 0.5
             },
             "pattern": {
              "fillmode": "overlay",
              "size": 10,
              "solidity": 0.2
             }
            },
            "type": "barpolar"
           }
          ],
          "carpet": [
           {
            "aaxis": {
             "endlinecolor": "rgb(36,36,36)",
             "gridcolor": "white",
             "linecolor": "white",
             "minorgridcolor": "white",
             "startlinecolor": "rgb(36,36,36)"
            },
            "baxis": {
             "endlinecolor": "rgb(36,36,36)",
             "gridcolor": "white",
             "linecolor": "white",
             "minorgridcolor": "white",
             "startlinecolor": "rgb(36,36,36)"
            },
            "type": "carpet"
           }
          ],
          "choropleth": [
           {
            "colorbar": {
             "outlinewidth": 1,
             "tickcolor": "rgb(36,36,36)",
             "ticks": "outside"
            },
            "type": "choropleth"
           }
          ],
          "contour": [
           {
            "colorbar": {
             "outlinewidth": 1,
             "tickcolor": "rgb(36,36,36)",
             "ticks": "outside"
            },
            "colorscale": [
             [
              0,
              "#440154"
             ],
             [
              0.1111111111111111,
              "#482878"
             ],
             [
              0.2222222222222222,
              "#3e4989"
             ],
             [
              0.3333333333333333,
              "#31688e"
             ],
             [
              0.4444444444444444,
              "#26828e"
             ],
             [
              0.5555555555555556,
              "#1f9e89"
             ],
             [
              0.6666666666666666,
              "#35b779"
             ],
             [
              0.7777777777777778,
              "#6ece58"
             ],
             [
              0.8888888888888888,
              "#b5de2b"
             ],
             [
              1,
              "#fde725"
             ]
            ],
            "type": "contour"
           }
          ],
          "contourcarpet": [
           {
            "colorbar": {
             "outlinewidth": 1,
             "tickcolor": "rgb(36,36,36)",
             "ticks": "outside"
            },
            "type": "contourcarpet"
           }
          ],
          "heatmap": [
           {
            "colorbar": {
             "outlinewidth": 1,
             "tickcolor": "rgb(36,36,36)",
             "ticks": "outside"
            },
            "colorscale": [
             [
              0,
              "#440154"
             ],
             [
              0.1111111111111111,
              "#482878"
             ],
             [
              0.2222222222222222,
              "#3e4989"
             ],
             [
              0.3333333333333333,
              "#31688e"
             ],
             [
              0.4444444444444444,
              "#26828e"
             ],
             [
              0.5555555555555556,
              "#1f9e89"
             ],
             [
              0.6666666666666666,
              "#35b779"
             ],
             [
              0.7777777777777778,
              "#6ece58"
             ],
             [
              0.8888888888888888,
              "#b5de2b"
             ],
             [
              1,
              "#fde725"
             ]
            ],
            "type": "heatmap"
           }
          ],
          "heatmapgl": [
           {
            "colorbar": {
             "outlinewidth": 1,
             "tickcolor": "rgb(36,36,36)",
             "ticks": "outside"
            },
            "colorscale": [
             [
              0,
              "#440154"
             ],
             [
              0.1111111111111111,
              "#482878"
             ],
             [
              0.2222222222222222,
              "#3e4989"
             ],
             [
              0.3333333333333333,
              "#31688e"
             ],
             [
              0.4444444444444444,
              "#26828e"
             ],
             [
              0.5555555555555556,
              "#1f9e89"
             ],
             [
              0.6666666666666666,
              "#35b779"
             ],
             [
              0.7777777777777778,
              "#6ece58"
             ],
             [
              0.8888888888888888,
              "#b5de2b"
             ],
             [
              1,
              "#fde725"
             ]
            ],
            "type": "heatmapgl"
           }
          ],
          "histogram": [
           {
            "marker": {
             "line": {
              "color": "white",
              "width": 0.6
             }
            },
            "type": "histogram"
           }
          ],
          "histogram2d": [
           {
            "colorbar": {
             "outlinewidth": 1,
             "tickcolor": "rgb(36,36,36)",
             "ticks": "outside"
            },
            "colorscale": [
             [
              0,
              "#440154"
             ],
             [
              0.1111111111111111,
              "#482878"
             ],
             [
              0.2222222222222222,
              "#3e4989"
             ],
             [
              0.3333333333333333,
              "#31688e"
             ],
             [
              0.4444444444444444,
              "#26828e"
             ],
             [
              0.5555555555555556,
              "#1f9e89"
             ],
             [
              0.6666666666666666,
              "#35b779"
             ],
             [
              0.7777777777777778,
              "#6ece58"
             ],
             [
              0.8888888888888888,
              "#b5de2b"
             ],
             [
              1,
              "#fde725"
             ]
            ],
            "type": "histogram2d"
           }
          ],
          "histogram2dcontour": [
           {
            "colorbar": {
             "outlinewidth": 1,
             "tickcolor": "rgb(36,36,36)",
             "ticks": "outside"
            },
            "colorscale": [
             [
              0,
              "#440154"
             ],
             [
              0.1111111111111111,
              "#482878"
             ],
             [
              0.2222222222222222,
              "#3e4989"
             ],
             [
              0.3333333333333333,
              "#31688e"
             ],
             [
              0.4444444444444444,
              "#26828e"
             ],
             [
              0.5555555555555556,
              "#1f9e89"
             ],
             [
              0.6666666666666666,
              "#35b779"
             ],
             [
              0.7777777777777778,
              "#6ece58"
             ],
             [
              0.8888888888888888,
              "#b5de2b"
             ],
             [
              1,
              "#fde725"
             ]
            ],
            "type": "histogram2dcontour"
           }
          ],
          "mesh3d": [
           {
            "colorbar": {
             "outlinewidth": 1,
             "tickcolor": "rgb(36,36,36)",
             "ticks": "outside"
            },
            "type": "mesh3d"
           }
          ],
          "parcoords": [
           {
            "line": {
             "colorbar": {
              "outlinewidth": 1,
              "tickcolor": "rgb(36,36,36)",
              "ticks": "outside"
             }
            },
            "type": "parcoords"
           }
          ],
          "pie": [
           {
            "automargin": true,
            "type": "pie"
           }
          ],
          "scatter": [
           {
            "fillpattern": {
             "fillmode": "overlay",
             "size": 10,
             "solidity": 0.2
            },
            "type": "scatter"
           }
          ],
          "scatter3d": [
           {
            "line": {
             "colorbar": {
              "outlinewidth": 1,
              "tickcolor": "rgb(36,36,36)",
              "ticks": "outside"
             }
            },
            "marker": {
             "colorbar": {
              "outlinewidth": 1,
              "tickcolor": "rgb(36,36,36)",
              "ticks": "outside"
             }
            },
            "type": "scatter3d"
           }
          ],
          "scattercarpet": [
           {
            "marker": {
             "colorbar": {
              "outlinewidth": 1,
              "tickcolor": "rgb(36,36,36)",
              "ticks": "outside"
             }
            },
            "type": "scattercarpet"
           }
          ],
          "scattergeo": [
           {
            "marker": {
             "colorbar": {
              "outlinewidth": 1,
              "tickcolor": "rgb(36,36,36)",
              "ticks": "outside"
             }
            },
            "type": "scattergeo"
           }
          ],
          "scattergl": [
           {
            "marker": {
             "colorbar": {
              "outlinewidth": 1,
              "tickcolor": "rgb(36,36,36)",
              "ticks": "outside"
             }
            },
            "type": "scattergl"
           }
          ],
          "scattermapbox": [
           {
            "marker": {
             "colorbar": {
              "outlinewidth": 1,
              "tickcolor": "rgb(36,36,36)",
              "ticks": "outside"
             }
            },
            "type": "scattermapbox"
           }
          ],
          "scatterpolar": [
           {
            "marker": {
             "colorbar": {
              "outlinewidth": 1,
              "tickcolor": "rgb(36,36,36)",
              "ticks": "outside"
             }
            },
            "type": "scatterpolar"
           }
          ],
          "scatterpolargl": [
           {
            "marker": {
             "colorbar": {
              "outlinewidth": 1,
              "tickcolor": "rgb(36,36,36)",
              "ticks": "outside"
             }
            },
            "type": "scatterpolargl"
           }
          ],
          "scatterternary": [
           {
            "marker": {
             "colorbar": {
              "outlinewidth": 1,
              "tickcolor": "rgb(36,36,36)",
              "ticks": "outside"
             }
            },
            "type": "scatterternary"
           }
          ],
          "surface": [
           {
            "colorbar": {
             "outlinewidth": 1,
             "tickcolor": "rgb(36,36,36)",
             "ticks": "outside"
            },
            "colorscale": [
             [
              0,
              "#440154"
             ],
             [
              0.1111111111111111,
              "#482878"
             ],
             [
              0.2222222222222222,
              "#3e4989"
             ],
             [
              0.3333333333333333,
              "#31688e"
             ],
             [
              0.4444444444444444,
              "#26828e"
             ],
             [
              0.5555555555555556,
              "#1f9e89"
             ],
             [
              0.6666666666666666,
              "#35b779"
             ],
             [
              0.7777777777777778,
              "#6ece58"
             ],
             [
              0.8888888888888888,
              "#b5de2b"
             ],
             [
              1,
              "#fde725"
             ]
            ],
            "type": "surface"
           }
          ],
          "table": [
           {
            "cells": {
             "fill": {
              "color": "rgb(237,237,237)"
             },
             "line": {
              "color": "white"
             }
            },
            "header": {
             "fill": {
              "color": "rgb(217,217,217)"
             },
             "line": {
              "color": "white"
             }
            },
            "type": "table"
           }
          ]
         },
         "layout": {
          "annotationdefaults": {
           "arrowhead": 0,
           "arrowwidth": 1
          },
          "autotypenumbers": "strict",
          "coloraxis": {
           "colorbar": {
            "outlinewidth": 1,
            "tickcolor": "rgb(36,36,36)",
            "ticks": "outside"
           }
          },
          "colorscale": {
           "diverging": [
            [
             0,
             "rgb(103,0,31)"
            ],
            [
             0.1,
             "rgb(178,24,43)"
            ],
            [
             0.2,
             "rgb(214,96,77)"
            ],
            [
             0.3,
             "rgb(244,165,130)"
            ],
            [
             0.4,
             "rgb(253,219,199)"
            ],
            [
             0.5,
             "rgb(247,247,247)"
            ],
            [
             0.6,
             "rgb(209,229,240)"
            ],
            [
             0.7,
             "rgb(146,197,222)"
            ],
            [
             0.8,
             "rgb(67,147,195)"
            ],
            [
             0.9,
             "rgb(33,102,172)"
            ],
            [
             1,
             "rgb(5,48,97)"
            ]
           ],
           "sequential": [
            [
             0,
             "#440154"
            ],
            [
             0.1111111111111111,
             "#482878"
            ],
            [
             0.2222222222222222,
             "#3e4989"
            ],
            [
             0.3333333333333333,
             "#31688e"
            ],
            [
             0.4444444444444444,
             "#26828e"
            ],
            [
             0.5555555555555556,
             "#1f9e89"
            ],
            [
             0.6666666666666666,
             "#35b779"
            ],
            [
             0.7777777777777778,
             "#6ece58"
            ],
            [
             0.8888888888888888,
             "#b5de2b"
            ],
            [
             1,
             "#fde725"
            ]
           ],
           "sequentialminus": [
            [
             0,
             "#440154"
            ],
            [
             0.1111111111111111,
             "#482878"
            ],
            [
             0.2222222222222222,
             "#3e4989"
            ],
            [
             0.3333333333333333,
             "#31688e"
            ],
            [
             0.4444444444444444,
             "#26828e"
            ],
            [
             0.5555555555555556,
             "#1f9e89"
            ],
            [
             0.6666666666666666,
             "#35b779"
            ],
            [
             0.7777777777777778,
             "#6ece58"
            ],
            [
             0.8888888888888888,
             "#b5de2b"
            ],
            [
             1,
             "#fde725"
            ]
           ]
          },
          "colorway": [
           "#1F77B4",
           "#FF7F0E",
           "#2CA02C",
           "#D62728",
           "#9467BD",
           "#8C564B",
           "#E377C2",
           "#7F7F7F",
           "#BCBD22",
           "#17BECF"
          ],
          "font": {
           "color": "rgb(36,36,36)"
          },
          "geo": {
           "bgcolor": "white",
           "lakecolor": "white",
           "landcolor": "white",
           "showlakes": true,
           "showland": true,
           "subunitcolor": "white"
          },
          "hoverlabel": {
           "align": "left"
          },
          "hovermode": "closest",
          "mapbox": {
           "style": "light"
          },
          "paper_bgcolor": "white",
          "plot_bgcolor": "white",
          "polar": {
           "angularaxis": {
            "gridcolor": "rgb(232,232,232)",
            "linecolor": "rgb(36,36,36)",
            "showgrid": false,
            "showline": true,
            "ticks": "outside"
           },
           "bgcolor": "white",
           "radialaxis": {
            "gridcolor": "rgb(232,232,232)",
            "linecolor": "rgb(36,36,36)",
            "showgrid": false,
            "showline": true,
            "ticks": "outside"
           }
          },
          "scene": {
           "xaxis": {
            "backgroundcolor": "white",
            "gridcolor": "rgb(232,232,232)",
            "gridwidth": 2,
            "linecolor": "rgb(36,36,36)",
            "showbackground": true,
            "showgrid": false,
            "showline": true,
            "ticks": "outside",
            "zeroline": false,
            "zerolinecolor": "rgb(36,36,36)"
           },
           "yaxis": {
            "backgroundcolor": "white",
            "gridcolor": "rgb(232,232,232)",
            "gridwidth": 2,
            "linecolor": "rgb(36,36,36)",
            "showbackground": true,
            "showgrid": false,
            "showline": true,
            "ticks": "outside",
            "zeroline": false,
            "zerolinecolor": "rgb(36,36,36)"
           },
           "zaxis": {
            "backgroundcolor": "white",
            "gridcolor": "rgb(232,232,232)",
            "gridwidth": 2,
            "linecolor": "rgb(36,36,36)",
            "showbackground": true,
            "showgrid": false,
            "showline": true,
            "ticks": "outside",
            "zeroline": false,
            "zerolinecolor": "rgb(36,36,36)"
           }
          },
          "shapedefaults": {
           "fillcolor": "black",
           "line": {
            "width": 0
           },
           "opacity": 0.3
          },
          "ternary": {
           "aaxis": {
            "gridcolor": "rgb(232,232,232)",
            "linecolor": "rgb(36,36,36)",
            "showgrid": false,
            "showline": true,
            "ticks": "outside"
           },
           "baxis": {
            "gridcolor": "rgb(232,232,232)",
            "linecolor": "rgb(36,36,36)",
            "showgrid": false,
            "showline": true,
            "ticks": "outside"
           },
           "bgcolor": "white",
           "caxis": {
            "gridcolor": "rgb(232,232,232)",
            "linecolor": "rgb(36,36,36)",
            "showgrid": false,
            "showline": true,
            "ticks": "outside"
           }
          },
          "title": {
           "x": 0.05
          },
          "xaxis": {
           "automargin": true,
           "gridcolor": "rgb(232,232,232)",
           "linecolor": "rgb(36,36,36)",
           "showgrid": false,
           "showline": true,
           "ticks": "outside",
           "title": {
            "standoff": 15
           },
           "zeroline": false,
           "zerolinecolor": "rgb(36,36,36)"
          },
          "yaxis": {
           "automargin": true,
           "gridcolor": "rgb(232,232,232)",
           "linecolor": "rgb(36,36,36)",
           "showgrid": false,
           "showline": true,
           "ticks": "outside",
           "title": {
            "standoff": 15
           },
           "zeroline": false,
           "zerolinecolor": "rgb(36,36,36)"
          }
         }
        },
        "title": {
         "text": "Actual vs. Forecast (Out-of-Sample)"
        },
        "width": 1000,
        "xaxis": {
         "anchor": "y",
         "domain": [
          0,
          1
         ]
        },
        "yaxis": {
         "anchor": "x",
         "domain": [
          0,
          1
         ]
        }
       }
      }
     },
     "metadata": {},
     "output_type": "display_data"
    }
   ],
   "source": [
    "theta = exp.create_model('ada_cds_dt')\n",
    "exp.plot_model(plot = 'decomp', \n",
    "               data_kwargs = {'type' : 'multiplicative'},\n",
    "               fig_kwargs = {\"height\":500,\"width\":1000,\"template\": \"simple_white\",\"hoverinfo\":\"none\",\"big_data_threshold\":10})\n",
    "exp.plot_model(estimator = theta, plot = 'forecast', \n",
    "               data_kwargs = {'fh' : 8},\n",
    "               fig_kwargs = {\"height\":500,\"width\":1000,\"template\": \"simple_white\",\"hoverinfo\":\"none\",\"big_data_threshold\":10})"
   ]
  },
  {
   "cell_type": "markdown",
   "metadata": {},
   "source": [
    "## lightgbm_cds_dt"
   ]
  },
  {
   "cell_type": "code",
   "execution_count": 20,
   "metadata": {},
   "outputs": [
    {
     "data": {
      "text/html": [
       "<div>\n",
       "<style scoped>\n",
       "    .dataframe tbody tr th:only-of-type {\n",
       "        vertical-align: middle;\n",
       "    }\n",
       "\n",
       "    .dataframe tbody tr th {\n",
       "        vertical-align: top;\n",
       "    }\n",
       "\n",
       "    .dataframe thead th {\n",
       "        text-align: right;\n",
       "    }\n",
       "</style>\n",
       "<table border=\"1\" class=\"dataframe\">\n",
       "  <thead>\n",
       "    <tr style=\"text-align: right;\">\n",
       "      <th></th>\n",
       "      <th></th>\n",
       "      <th></th>\n",
       "    </tr>\n",
       "    <tr>\n",
       "      <th></th>\n",
       "      <th></th>\n",
       "      <th></th>\n",
       "    </tr>\n",
       "  </thead>\n",
       "  <tbody>\n",
       "    <tr>\n",
       "      <th>Initiated</th>\n",
       "      <td>. . . . . . . . . . . . . . . . . .</td>\n",
       "      <td>11:57:15</td>\n",
       "    </tr>\n",
       "    <tr>\n",
       "      <th>Status</th>\n",
       "      <td>. . . . . . . . . . . . . . . . . .</td>\n",
       "      <td>Selecting Estimator</td>\n",
       "    </tr>\n",
       "    <tr>\n",
       "      <th>Estimator</th>\n",
       "      <td>. . . . . . . . . . . . . . . . . .</td>\n",
       "      <td>Light Gradient Boosting w/ Cond. Deseasonalize...</td>\n",
       "    </tr>\n",
       "  </tbody>\n",
       "</table>\n",
       "</div>"
      ],
      "text/plain": [
       "                                                \\\n",
       "                                                 \n",
       "Initiated  . . . . . . . . . . . . . . . . . .   \n",
       "Status     . . . . . . . . . . . . . . . . . .   \n",
       "Estimator  . . . . . . . . . . . . . . . . . .   \n",
       "\n",
       "                                                              \n",
       "                                                              \n",
       "Initiated                                           11:57:15  \n",
       "Status                                   Selecting Estimator  \n",
       "Estimator  Light Gradient Boosting w/ Cond. Deseasonalize...  "
      ]
     },
     "metadata": {},
     "output_type": "display_data"
    },
    {
     "data": {
      "text/html": [
       "<style type=\"text/css\">\n",
       "#T_cedba_row3_col0, #T_cedba_row3_col1, #T_cedba_row3_col2, #T_cedba_row3_col3, #T_cedba_row3_col4, #T_cedba_row3_col5, #T_cedba_row3_col6 {\n",
       "  background: yellow;\n",
       "}\n",
       "</style>\n",
       "<table id=\"T_cedba\">\n",
       "  <thead>\n",
       "    <tr>\n",
       "      <th class=\"blank level0\" >&nbsp;</th>\n",
       "      <th id=\"T_cedba_level0_col0\" class=\"col_heading level0 col0\" >cutoff</th>\n",
       "      <th id=\"T_cedba_level0_col1\" class=\"col_heading level0 col1\" >MASE</th>\n",
       "      <th id=\"T_cedba_level0_col2\" class=\"col_heading level0 col2\" >RMSSE</th>\n",
       "      <th id=\"T_cedba_level0_col3\" class=\"col_heading level0 col3\" >MAE</th>\n",
       "      <th id=\"T_cedba_level0_col4\" class=\"col_heading level0 col4\" >RMSE</th>\n",
       "      <th id=\"T_cedba_level0_col5\" class=\"col_heading level0 col5\" >MAPE</th>\n",
       "      <th id=\"T_cedba_level0_col6\" class=\"col_heading level0 col6\" >SMAPE</th>\n",
       "    </tr>\n",
       "  </thead>\n",
       "  <tbody>\n",
       "    <tr>\n",
       "      <th id=\"T_cedba_level0_row0\" class=\"row_heading level0 row0\" >0</th>\n",
       "      <td id=\"T_cedba_row0_col0\" class=\"data row0 col0\" >2019</td>\n",
       "      <td id=\"T_cedba_row0_col1\" class=\"data row0 col1\" >0.6849</td>\n",
       "      <td id=\"T_cedba_row0_col2\" class=\"data row0 col2\" >0.6686</td>\n",
       "      <td id=\"T_cedba_row0_col3\" class=\"data row0 col3\" >3.7600</td>\n",
       "      <td id=\"T_cedba_row0_col4\" class=\"data row0 col4\" >3.7600</td>\n",
       "      <td id=\"T_cedba_row0_col5\" class=\"data row0 col5\" >0.0141</td>\n",
       "      <td id=\"T_cedba_row0_col6\" class=\"data row0 col6\" >0.0140</td>\n",
       "    </tr>\n",
       "    <tr>\n",
       "      <th id=\"T_cedba_level0_row1\" class=\"row_heading level0 row1\" >1</th>\n",
       "      <td id=\"T_cedba_row1_col0\" class=\"data row1 col0\" >2020</td>\n",
       "      <td id=\"T_cedba_row1_col1\" class=\"data row1 col1\" >1.9435</td>\n",
       "      <td id=\"T_cedba_row1_col2\" class=\"data row1 col2\" >1.6904</td>\n",
       "      <td id=\"T_cedba_row1_col3\" class=\"data row1 col3\" >7.8387</td>\n",
       "      <td id=\"T_cedba_row1_col4\" class=\"data row1 col4\" >7.8387</td>\n",
       "      <td id=\"T_cedba_row1_col5\" class=\"data row1 col5\" >0.0296</td>\n",
       "      <td id=\"T_cedba_row1_col6\" class=\"data row1 col6\" >0.0292</td>\n",
       "    </tr>\n",
       "    <tr>\n",
       "      <th id=\"T_cedba_level0_row2\" class=\"row_heading level0 row2\" >2</th>\n",
       "      <td id=\"T_cedba_row2_col0\" class=\"data row2 col0\" >2021</td>\n",
       "      <td id=\"T_cedba_row2_col1\" class=\"data row2 col1\" >5.6243</td>\n",
       "      <td id=\"T_cedba_row2_col2\" class=\"data row2 col2\" >4.8326</td>\n",
       "      <td id=\"T_cedba_row2_col3\" class=\"data row2 col3\" >20.1350</td>\n",
       "      <td id=\"T_cedba_row2_col4\" class=\"data row2 col4\" >20.1350</td>\n",
       "      <td id=\"T_cedba_row2_col5\" class=\"data row2 col5\" >0.0691</td>\n",
       "      <td id=\"T_cedba_row2_col6\" class=\"data row2 col6\" >0.0716</td>\n",
       "    </tr>\n",
       "    <tr>\n",
       "      <th id=\"T_cedba_level0_row3\" class=\"row_heading level0 row3\" >Mean</th>\n",
       "      <td id=\"T_cedba_row3_col0\" class=\"data row3 col0\" >NaT</td>\n",
       "      <td id=\"T_cedba_row3_col1\" class=\"data row3 col1\" >2.7509</td>\n",
       "      <td id=\"T_cedba_row3_col2\" class=\"data row3 col2\" >2.3972</td>\n",
       "      <td id=\"T_cedba_row3_col3\" class=\"data row3 col3\" >10.5779</td>\n",
       "      <td id=\"T_cedba_row3_col4\" class=\"data row3 col4\" >10.5779</td>\n",
       "      <td id=\"T_cedba_row3_col5\" class=\"data row3 col5\" >0.0376</td>\n",
       "      <td id=\"T_cedba_row3_col6\" class=\"data row3 col6\" >0.0382</td>\n",
       "    </tr>\n",
       "    <tr>\n",
       "      <th id=\"T_cedba_level0_row4\" class=\"row_heading level0 row4\" >SD</th>\n",
       "      <td id=\"T_cedba_row4_col0\" class=\"data row4 col0\" >NaT</td>\n",
       "      <td id=\"T_cedba_row4_col1\" class=\"data row4 col1\" >2.0958</td>\n",
       "      <td id=\"T_cedba_row4_col2\" class=\"data row4 col2\" >1.7719</td>\n",
       "      <td id=\"T_cedba_row4_col3\" class=\"data row4 col3\" >6.9600</td>\n",
       "      <td id=\"T_cedba_row4_col4\" class=\"data row4 col4\" >6.9600</td>\n",
       "      <td id=\"T_cedba_row4_col5\" class=\"data row4 col5\" >0.0232</td>\n",
       "      <td id=\"T_cedba_row4_col6\" class=\"data row4 col6\" >0.0244</td>\n",
       "    </tr>\n",
       "  </tbody>\n",
       "</table>\n"
      ],
      "text/plain": [
       "<pandas.io.formats.style.Styler at 0x189a94bc880>"
      ]
     },
     "metadata": {},
     "output_type": "display_data"
    },
    {
     "data": {
      "text/html": [],
      "text/plain": [
       "<IPython.core.display.HTML object>"
      ]
     },
     "metadata": {},
     "output_type": "display_data"
    },
    {
     "data": {
      "application/vnd.plotly.v1+json": {
       "config": {
        "plotlyServerURL": "https://plot.ly"
       },
       "data": [
        {
         "line": {
          "color": "rgb(31, 119, 180)",
          "width": 2
         },
         "marker": {
          "size": 2
         },
         "mode": "lines+markers",
         "name": "Actual",
         "type": "scattergl",
         "x": [
          "2017-01-01T00:00:00",
          "2018-01-01T00:00:00",
          "2019-01-01T00:00:00",
          "2020-01-01T00:00:00",
          "2021-01-01T00:00:00",
          "2022-01-01T00:00:00",
          "2023-01-01T00:00:00"
         ],
         "xaxis": "x",
         "y": [
          255.06,
          259.33,
          266.04,
          267.16,
          264.94,
          291.4,
          301.8
         ],
         "yaxis": "y"
        },
        {
         "line": {
          "color": "rgb(255, 127, 14)",
          "width": 2
         },
         "marker": {
          "size": 2
         },
         "mode": "lines+markers",
         "name": "Seasonal",
         "type": "scattergl",
         "x": [
          "2017-01-01T00:00:00",
          "2018-01-01T00:00:00",
          "2019-01-01T00:00:00",
          "2020-01-01T00:00:00",
          "2021-01-01T00:00:00",
          "2022-01-01T00:00:00",
          "2023-01-01T00:00:00"
         ],
         "xaxis": "x2",
         "y": [
          1,
          1,
          1,
          1,
          1,
          1,
          1
         ],
         "yaxis": "y2"
        },
        {
         "line": {
          "color": "rgb(44, 160, 44)",
          "width": 2
         },
         "marker": {
          "size": 2
         },
         "mode": "lines+markers",
         "name": "Trend",
         "type": "scattergl",
         "x": [
          "2017-01-01T00:00:00",
          "2018-01-01T00:00:00",
          "2019-01-01T00:00:00",
          "2020-01-01T00:00:00",
          "2021-01-01T00:00:00",
          "2022-01-01T00:00:00",
          "2023-01-01T00:00:00"
         ],
         "xaxis": "x3",
         "y": [
          255.06,
          259.33,
          266.04,
          267.16,
          264.94,
          291.4,
          301.8
         ],
         "yaxis": "y3"
        },
        {
         "line": {
          "color": "rgb(214, 39, 40)",
          "width": 2
         },
         "marker": {
          "size": 4
         },
         "mode": "markers",
         "name": "Residuals",
         "type": "scattergl",
         "x": [
          "2017-01-01T00:00:00",
          "2018-01-01T00:00:00",
          "2019-01-01T00:00:00",
          "2020-01-01T00:00:00",
          "2021-01-01T00:00:00",
          "2022-01-01T00:00:00",
          "2023-01-01T00:00:00"
         ],
         "xaxis": "x4",
         "y": [
          1,
          1,
          1,
          1,
          1,
          1,
          1
         ],
         "yaxis": "y4"
        }
       ],
       "layout": {
        "annotations": [
         {
          "font": {
           "size": 16
          },
          "showarrow": false,
          "text": "value (transformed)",
          "x": 0.49,
          "xanchor": "center",
          "xref": "paper",
          "y": 1,
          "yanchor": "bottom",
          "yref": "paper"
         },
         {
          "font": {
           "size": 16
          },
          "showarrow": false,
          "text": "Actual",
          "textangle": 90,
          "x": 0.98,
          "xanchor": "left",
          "xref": "paper",
          "y": 0.903125,
          "yanchor": "middle",
          "yref": "paper"
         },
         {
          "font": {
           "size": 16
          },
          "showarrow": false,
          "text": "Seasonal",
          "textangle": 90,
          "x": 0.98,
          "xanchor": "left",
          "xref": "paper",
          "y": 0.6343749999999999,
          "yanchor": "middle",
          "yref": "paper"
         },
         {
          "font": {
           "size": 16
          },
          "showarrow": false,
          "text": "Trend",
          "textangle": 90,
          "x": 0.98,
          "xanchor": "left",
          "xref": "paper",
          "y": 0.365625,
          "yanchor": "middle",
          "yref": "paper"
         },
         {
          "font": {
           "size": 16
          },
          "showarrow": false,
          "text": "Residual",
          "textangle": 90,
          "x": 0.98,
          "xanchor": "left",
          "xref": "paper",
          "y": 0.096875,
          "yanchor": "middle",
          "yref": "paper"
         }
        ],
        "autosize": false,
        "height": 500,
        "showlegend": false,
        "template": {
         "data": {
          "bar": [
           {
            "error_x": {
             "color": "rgb(36,36,36)"
            },
            "error_y": {
             "color": "rgb(36,36,36)"
            },
            "marker": {
             "line": {
              "color": "white",
              "width": 0.5
             },
             "pattern": {
              "fillmode": "overlay",
              "size": 10,
              "solidity": 0.2
             }
            },
            "type": "bar"
           }
          ],
          "barpolar": [
           {
            "marker": {
             "line": {
              "color": "white",
              "width": 0.5
             },
             "pattern": {
              "fillmode": "overlay",
              "size": 10,
              "solidity": 0.2
             }
            },
            "type": "barpolar"
           }
          ],
          "carpet": [
           {
            "aaxis": {
             "endlinecolor": "rgb(36,36,36)",
             "gridcolor": "white",
             "linecolor": "white",
             "minorgridcolor": "white",
             "startlinecolor": "rgb(36,36,36)"
            },
            "baxis": {
             "endlinecolor": "rgb(36,36,36)",
             "gridcolor": "white",
             "linecolor": "white",
             "minorgridcolor": "white",
             "startlinecolor": "rgb(36,36,36)"
            },
            "type": "carpet"
           }
          ],
          "choropleth": [
           {
            "colorbar": {
             "outlinewidth": 1,
             "tickcolor": "rgb(36,36,36)",
             "ticks": "outside"
            },
            "type": "choropleth"
           }
          ],
          "contour": [
           {
            "colorbar": {
             "outlinewidth": 1,
             "tickcolor": "rgb(36,36,36)",
             "ticks": "outside"
            },
            "colorscale": [
             [
              0,
              "#440154"
             ],
             [
              0.1111111111111111,
              "#482878"
             ],
             [
              0.2222222222222222,
              "#3e4989"
             ],
             [
              0.3333333333333333,
              "#31688e"
             ],
             [
              0.4444444444444444,
              "#26828e"
             ],
             [
              0.5555555555555556,
              "#1f9e89"
             ],
             [
              0.6666666666666666,
              "#35b779"
             ],
             [
              0.7777777777777778,
              "#6ece58"
             ],
             [
              0.8888888888888888,
              "#b5de2b"
             ],
             [
              1,
              "#fde725"
             ]
            ],
            "type": "contour"
           }
          ],
          "contourcarpet": [
           {
            "colorbar": {
             "outlinewidth": 1,
             "tickcolor": "rgb(36,36,36)",
             "ticks": "outside"
            },
            "type": "contourcarpet"
           }
          ],
          "heatmap": [
           {
            "colorbar": {
             "outlinewidth": 1,
             "tickcolor": "rgb(36,36,36)",
             "ticks": "outside"
            },
            "colorscale": [
             [
              0,
              "#440154"
             ],
             [
              0.1111111111111111,
              "#482878"
             ],
             [
              0.2222222222222222,
              "#3e4989"
             ],
             [
              0.3333333333333333,
              "#31688e"
             ],
             [
              0.4444444444444444,
              "#26828e"
             ],
             [
              0.5555555555555556,
              "#1f9e89"
             ],
             [
              0.6666666666666666,
              "#35b779"
             ],
             [
              0.7777777777777778,
              "#6ece58"
             ],
             [
              0.8888888888888888,
              "#b5de2b"
             ],
             [
              1,
              "#fde725"
             ]
            ],
            "type": "heatmap"
           }
          ],
          "heatmapgl": [
           {
            "colorbar": {
             "outlinewidth": 1,
             "tickcolor": "rgb(36,36,36)",
             "ticks": "outside"
            },
            "colorscale": [
             [
              0,
              "#440154"
             ],
             [
              0.1111111111111111,
              "#482878"
             ],
             [
              0.2222222222222222,
              "#3e4989"
             ],
             [
              0.3333333333333333,
              "#31688e"
             ],
             [
              0.4444444444444444,
              "#26828e"
             ],
             [
              0.5555555555555556,
              "#1f9e89"
             ],
             [
              0.6666666666666666,
              "#35b779"
             ],
             [
              0.7777777777777778,
              "#6ece58"
             ],
             [
              0.8888888888888888,
              "#b5de2b"
             ],
             [
              1,
              "#fde725"
             ]
            ],
            "type": "heatmapgl"
           }
          ],
          "histogram": [
           {
            "marker": {
             "line": {
              "color": "white",
              "width": 0.6
             }
            },
            "type": "histogram"
           }
          ],
          "histogram2d": [
           {
            "colorbar": {
             "outlinewidth": 1,
             "tickcolor": "rgb(36,36,36)",
             "ticks": "outside"
            },
            "colorscale": [
             [
              0,
              "#440154"
             ],
             [
              0.1111111111111111,
              "#482878"
             ],
             [
              0.2222222222222222,
              "#3e4989"
             ],
             [
              0.3333333333333333,
              "#31688e"
             ],
             [
              0.4444444444444444,
              "#26828e"
             ],
             [
              0.5555555555555556,
              "#1f9e89"
             ],
             [
              0.6666666666666666,
              "#35b779"
             ],
             [
              0.7777777777777778,
              "#6ece58"
             ],
             [
              0.8888888888888888,
              "#b5de2b"
             ],
             [
              1,
              "#fde725"
             ]
            ],
            "type": "histogram2d"
           }
          ],
          "histogram2dcontour": [
           {
            "colorbar": {
             "outlinewidth": 1,
             "tickcolor": "rgb(36,36,36)",
             "ticks": "outside"
            },
            "colorscale": [
             [
              0,
              "#440154"
             ],
             [
              0.1111111111111111,
              "#482878"
             ],
             [
              0.2222222222222222,
              "#3e4989"
             ],
             [
              0.3333333333333333,
              "#31688e"
             ],
             [
              0.4444444444444444,
              "#26828e"
             ],
             [
              0.5555555555555556,
              "#1f9e89"
             ],
             [
              0.6666666666666666,
              "#35b779"
             ],
             [
              0.7777777777777778,
              "#6ece58"
             ],
             [
              0.8888888888888888,
              "#b5de2b"
             ],
             [
              1,
              "#fde725"
             ]
            ],
            "type": "histogram2dcontour"
           }
          ],
          "mesh3d": [
           {
            "colorbar": {
             "outlinewidth": 1,
             "tickcolor": "rgb(36,36,36)",
             "ticks": "outside"
            },
            "type": "mesh3d"
           }
          ],
          "parcoords": [
           {
            "line": {
             "colorbar": {
              "outlinewidth": 1,
              "tickcolor": "rgb(36,36,36)",
              "ticks": "outside"
             }
            },
            "type": "parcoords"
           }
          ],
          "pie": [
           {
            "automargin": true,
            "type": "pie"
           }
          ],
          "scatter": [
           {
            "fillpattern": {
             "fillmode": "overlay",
             "size": 10,
             "solidity": 0.2
            },
            "type": "scatter"
           }
          ],
          "scatter3d": [
           {
            "line": {
             "colorbar": {
              "outlinewidth": 1,
              "tickcolor": "rgb(36,36,36)",
              "ticks": "outside"
             }
            },
            "marker": {
             "colorbar": {
              "outlinewidth": 1,
              "tickcolor": "rgb(36,36,36)",
              "ticks": "outside"
             }
            },
            "type": "scatter3d"
           }
          ],
          "scattercarpet": [
           {
            "marker": {
             "colorbar": {
              "outlinewidth": 1,
              "tickcolor": "rgb(36,36,36)",
              "ticks": "outside"
             }
            },
            "type": "scattercarpet"
           }
          ],
          "scattergeo": [
           {
            "marker": {
             "colorbar": {
              "outlinewidth": 1,
              "tickcolor": "rgb(36,36,36)",
              "ticks": "outside"
             }
            },
            "type": "scattergeo"
           }
          ],
          "scattergl": [
           {
            "marker": {
             "colorbar": {
              "outlinewidth": 1,
              "tickcolor": "rgb(36,36,36)",
              "ticks": "outside"
             }
            },
            "type": "scattergl"
           }
          ],
          "scattermapbox": [
           {
            "marker": {
             "colorbar": {
              "outlinewidth": 1,
              "tickcolor": "rgb(36,36,36)",
              "ticks": "outside"
             }
            },
            "type": "scattermapbox"
           }
          ],
          "scatterpolar": [
           {
            "marker": {
             "colorbar": {
              "outlinewidth": 1,
              "tickcolor": "rgb(36,36,36)",
              "ticks": "outside"
             }
            },
            "type": "scatterpolar"
           }
          ],
          "scatterpolargl": [
           {
            "marker": {
             "colorbar": {
              "outlinewidth": 1,
              "tickcolor": "rgb(36,36,36)",
              "ticks": "outside"
             }
            },
            "type": "scatterpolargl"
           }
          ],
          "scatterternary": [
           {
            "marker": {
             "colorbar": {
              "outlinewidth": 1,
              "tickcolor": "rgb(36,36,36)",
              "ticks": "outside"
             }
            },
            "type": "scatterternary"
           }
          ],
          "surface": [
           {
            "colorbar": {
             "outlinewidth": 1,
             "tickcolor": "rgb(36,36,36)",
             "ticks": "outside"
            },
            "colorscale": [
             [
              0,
              "#440154"
             ],
             [
              0.1111111111111111,
              "#482878"
             ],
             [
              0.2222222222222222,
              "#3e4989"
             ],
             [
              0.3333333333333333,
              "#31688e"
             ],
             [
              0.4444444444444444,
              "#26828e"
             ],
             [
              0.5555555555555556,
              "#1f9e89"
             ],
             [
              0.6666666666666666,
              "#35b779"
             ],
             [
              0.7777777777777778,
              "#6ece58"
             ],
             [
              0.8888888888888888,
              "#b5de2b"
             ],
             [
              1,
              "#fde725"
             ]
            ],
            "type": "surface"
           }
          ],
          "table": [
           {
            "cells": {
             "fill": {
              "color": "rgb(237,237,237)"
             },
             "line": {
              "color": "white"
             }
            },
            "header": {
             "fill": {
              "color": "rgb(217,217,217)"
             },
             "line": {
              "color": "white"
             }
            },
            "type": "table"
           }
          ]
         },
         "layout": {
          "annotationdefaults": {
           "arrowhead": 0,
           "arrowwidth": 1
          },
          "autotypenumbers": "strict",
          "coloraxis": {
           "colorbar": {
            "outlinewidth": 1,
            "tickcolor": "rgb(36,36,36)",
            "ticks": "outside"
           }
          },
          "colorscale": {
           "diverging": [
            [
             0,
             "rgb(103,0,31)"
            ],
            [
             0.1,
             "rgb(178,24,43)"
            ],
            [
             0.2,
             "rgb(214,96,77)"
            ],
            [
             0.3,
             "rgb(244,165,130)"
            ],
            [
             0.4,
             "rgb(253,219,199)"
            ],
            [
             0.5,
             "rgb(247,247,247)"
            ],
            [
             0.6,
             "rgb(209,229,240)"
            ],
            [
             0.7,
             "rgb(146,197,222)"
            ],
            [
             0.8,
             "rgb(67,147,195)"
            ],
            [
             0.9,
             "rgb(33,102,172)"
            ],
            [
             1,
             "rgb(5,48,97)"
            ]
           ],
           "sequential": [
            [
             0,
             "#440154"
            ],
            [
             0.1111111111111111,
             "#482878"
            ],
            [
             0.2222222222222222,
             "#3e4989"
            ],
            [
             0.3333333333333333,
             "#31688e"
            ],
            [
             0.4444444444444444,
             "#26828e"
            ],
            [
             0.5555555555555556,
             "#1f9e89"
            ],
            [
             0.6666666666666666,
             "#35b779"
            ],
            [
             0.7777777777777778,
             "#6ece58"
            ],
            [
             0.8888888888888888,
             "#b5de2b"
            ],
            [
             1,
             "#fde725"
            ]
           ],
           "sequentialminus": [
            [
             0,
             "#440154"
            ],
            [
             0.1111111111111111,
             "#482878"
            ],
            [
             0.2222222222222222,
             "#3e4989"
            ],
            [
             0.3333333333333333,
             "#31688e"
            ],
            [
             0.4444444444444444,
             "#26828e"
            ],
            [
             0.5555555555555556,
             "#1f9e89"
            ],
            [
             0.6666666666666666,
             "#35b779"
            ],
            [
             0.7777777777777778,
             "#6ece58"
            ],
            [
             0.8888888888888888,
             "#b5de2b"
            ],
            [
             1,
             "#fde725"
            ]
           ]
          },
          "colorway": [
           "#1F77B4",
           "#FF7F0E",
           "#2CA02C",
           "#D62728",
           "#9467BD",
           "#8C564B",
           "#E377C2",
           "#7F7F7F",
           "#BCBD22",
           "#17BECF"
          ],
          "font": {
           "color": "rgb(36,36,36)"
          },
          "geo": {
           "bgcolor": "white",
           "lakecolor": "white",
           "landcolor": "white",
           "showlakes": true,
           "showland": true,
           "subunitcolor": "white"
          },
          "hoverlabel": {
           "align": "left"
          },
          "hovermode": "closest",
          "mapbox": {
           "style": "light"
          },
          "paper_bgcolor": "white",
          "plot_bgcolor": "white",
          "polar": {
           "angularaxis": {
            "gridcolor": "rgb(232,232,232)",
            "linecolor": "rgb(36,36,36)",
            "showgrid": false,
            "showline": true,
            "ticks": "outside"
           },
           "bgcolor": "white",
           "radialaxis": {
            "gridcolor": "rgb(232,232,232)",
            "linecolor": "rgb(36,36,36)",
            "showgrid": false,
            "showline": true,
            "ticks": "outside"
           }
          },
          "scene": {
           "xaxis": {
            "backgroundcolor": "white",
            "gridcolor": "rgb(232,232,232)",
            "gridwidth": 2,
            "linecolor": "rgb(36,36,36)",
            "showbackground": true,
            "showgrid": false,
            "showline": true,
            "ticks": "outside",
            "zeroline": false,
            "zerolinecolor": "rgb(36,36,36)"
           },
           "yaxis": {
            "backgroundcolor": "white",
            "gridcolor": "rgb(232,232,232)",
            "gridwidth": 2,
            "linecolor": "rgb(36,36,36)",
            "showbackground": true,
            "showgrid": false,
            "showline": true,
            "ticks": "outside",
            "zeroline": false,
            "zerolinecolor": "rgb(36,36,36)"
           },
           "zaxis": {
            "backgroundcolor": "white",
            "gridcolor": "rgb(232,232,232)",
            "gridwidth": 2,
            "linecolor": "rgb(36,36,36)",
            "showbackground": true,
            "showgrid": false,
            "showline": true,
            "ticks": "outside",
            "zeroline": false,
            "zerolinecolor": "rgb(36,36,36)"
           }
          },
          "shapedefaults": {
           "fillcolor": "black",
           "line": {
            "width": 0
           },
           "opacity": 0.3
          },
          "ternary": {
           "aaxis": {
            "gridcolor": "rgb(232,232,232)",
            "linecolor": "rgb(36,36,36)",
            "showgrid": false,
            "showline": true,
            "ticks": "outside"
           },
           "baxis": {
            "gridcolor": "rgb(232,232,232)",
            "linecolor": "rgb(36,36,36)",
            "showgrid": false,
            "showline": true,
            "ticks": "outside"
           },
           "bgcolor": "white",
           "caxis": {
            "gridcolor": "rgb(232,232,232)",
            "linecolor": "rgb(36,36,36)",
            "showgrid": false,
            "showline": true,
            "ticks": "outside"
           }
          },
          "title": {
           "x": 0.05
          },
          "xaxis": {
           "automargin": true,
           "gridcolor": "rgb(232,232,232)",
           "linecolor": "rgb(36,36,36)",
           "showgrid": false,
           "showline": true,
           "ticks": "outside",
           "title": {
            "standoff": 15
           },
           "zeroline": false,
           "zerolinecolor": "rgb(36,36,36)"
          },
          "yaxis": {
           "automargin": true,
           "gridcolor": "rgb(232,232,232)",
           "linecolor": "rgb(36,36,36)",
           "showgrid": false,
           "showline": true,
           "ticks": "outside",
           "title": {
            "standoff": 15
           },
           "zeroline": false,
           "zerolinecolor": "rgb(36,36,36)"
          }
         }
        },
        "title": {
         "text": "Classical Decomposition (multiplicative) | value<br>Seasonal Period = 1"
        },
        "width": 1000,
        "xaxis": {
         "anchor": "y",
         "domain": [
          0,
          0.98
         ],
         "matches": "x4",
         "showticklabels": false
        },
        "xaxis2": {
         "anchor": "y2",
         "domain": [
          0,
          0.98
         ],
         "matches": "x4",
         "showticklabels": false
        },
        "xaxis3": {
         "anchor": "y3",
         "domain": [
          0,
          0.98
         ],
         "matches": "x4",
         "showticklabels": false
        },
        "xaxis4": {
         "anchor": "y4",
         "domain": [
          0,
          0.98
         ]
        },
        "yaxis": {
         "anchor": "x",
         "domain": [
          0.80625,
          1
         ]
        },
        "yaxis2": {
         "anchor": "x2",
         "domain": [
          0.5375,
          0.73125
         ]
        },
        "yaxis3": {
         "anchor": "x3",
         "domain": [
          0.26875,
          0.4625
         ]
        },
        "yaxis4": {
         "anchor": "x4",
         "domain": [
          0,
          0.19375
         ]
        }
       }
      }
     },
     "metadata": {},
     "output_type": "display_data"
    },
    {
     "data": {
      "application/vnd.plotly.v1+json": {
       "config": {
        "plotlyServerURL": "https://plot.ly"
       },
       "data": [
        {
         "hoverinfo": "none",
         "line": {
          "width": 2
         },
         "marker": {
          "size": 5
         },
         "mode": "lines+markers",
         "name": "value",
         "type": "scattergl",
         "x": [
          "2017-01-01T00:00:00",
          "2018-01-01T00:00:00",
          "2019-01-01T00:00:00",
          "2020-01-01T00:00:00",
          "2021-01-01T00:00:00",
          "2022-01-01T00:00:00",
          "2023-01-01T00:00:00",
          "2024-01-01T00:00:00",
          "2025-01-01T00:00:00",
          "2026-01-01T00:00:00",
          "2027-01-01T00:00:00",
          "2028-01-01T00:00:00",
          "2029-01-01T00:00:00",
          "2030-01-01T00:00:00"
         ],
         "xaxis": "x",
         "y": [
          255.06,
          259.33,
          266.04,
          267.16,
          264.94,
          291.4,
          301.8,
          null,
          null,
          null,
          null,
          null,
          null,
          null
         ],
         "yaxis": "y"
        },
        {
         "hoverinfo": "none",
         "line": {
          "width": 2
         },
         "marker": {
          "size": 5
         },
         "mode": "lines+markers",
         "name": "LGBMRegressor",
         "type": "scattergl",
         "x": [
          "2017-01-01T00:00:00",
          "2018-01-01T00:00:00",
          "2019-01-01T00:00:00",
          "2020-01-01T00:00:00",
          "2021-01-01T00:00:00",
          "2022-01-01T00:00:00",
          "2023-01-01T00:00:00",
          "2024-01-01T00:00:00",
          "2025-01-01T00:00:00",
          "2026-01-01T00:00:00",
          "2027-01-01T00:00:00",
          "2028-01-01T00:00:00",
          "2029-01-01T00:00:00",
          "2030-01-01T00:00:00"
         ],
         "xaxis": "x",
         "y": [
          null,
          null,
          null,
          null,
          null,
          null,
          286.8869,
          292.5911,
          298.2954,
          303.9997,
          309.704,
          315.4083,
          321.1126,
          326.8169
         ],
         "yaxis": "y"
        }
       ],
       "layout": {
        "autosize": false,
        "height": 500,
        "showlegend": true,
        "template": {
         "data": {
          "bar": [
           {
            "error_x": {
             "color": "rgb(36,36,36)"
            },
            "error_y": {
             "color": "rgb(36,36,36)"
            },
            "marker": {
             "line": {
              "color": "white",
              "width": 0.5
             },
             "pattern": {
              "fillmode": "overlay",
              "size": 10,
              "solidity": 0.2
             }
            },
            "type": "bar"
           }
          ],
          "barpolar": [
           {
            "marker": {
             "line": {
              "color": "white",
              "width": 0.5
             },
             "pattern": {
              "fillmode": "overlay",
              "size": 10,
              "solidity": 0.2
             }
            },
            "type": "barpolar"
           }
          ],
          "carpet": [
           {
            "aaxis": {
             "endlinecolor": "rgb(36,36,36)",
             "gridcolor": "white",
             "linecolor": "white",
             "minorgridcolor": "white",
             "startlinecolor": "rgb(36,36,36)"
            },
            "baxis": {
             "endlinecolor": "rgb(36,36,36)",
             "gridcolor": "white",
             "linecolor": "white",
             "minorgridcolor": "white",
             "startlinecolor": "rgb(36,36,36)"
            },
            "type": "carpet"
           }
          ],
          "choropleth": [
           {
            "colorbar": {
             "outlinewidth": 1,
             "tickcolor": "rgb(36,36,36)",
             "ticks": "outside"
            },
            "type": "choropleth"
           }
          ],
          "contour": [
           {
            "colorbar": {
             "outlinewidth": 1,
             "tickcolor": "rgb(36,36,36)",
             "ticks": "outside"
            },
            "colorscale": [
             [
              0,
              "#440154"
             ],
             [
              0.1111111111111111,
              "#482878"
             ],
             [
              0.2222222222222222,
              "#3e4989"
             ],
             [
              0.3333333333333333,
              "#31688e"
             ],
             [
              0.4444444444444444,
              "#26828e"
             ],
             [
              0.5555555555555556,
              "#1f9e89"
             ],
             [
              0.6666666666666666,
              "#35b779"
             ],
             [
              0.7777777777777778,
              "#6ece58"
             ],
             [
              0.8888888888888888,
              "#b5de2b"
             ],
             [
              1,
              "#fde725"
             ]
            ],
            "type": "contour"
           }
          ],
          "contourcarpet": [
           {
            "colorbar": {
             "outlinewidth": 1,
             "tickcolor": "rgb(36,36,36)",
             "ticks": "outside"
            },
            "type": "contourcarpet"
           }
          ],
          "heatmap": [
           {
            "colorbar": {
             "outlinewidth": 1,
             "tickcolor": "rgb(36,36,36)",
             "ticks": "outside"
            },
            "colorscale": [
             [
              0,
              "#440154"
             ],
             [
              0.1111111111111111,
              "#482878"
             ],
             [
              0.2222222222222222,
              "#3e4989"
             ],
             [
              0.3333333333333333,
              "#31688e"
             ],
             [
              0.4444444444444444,
              "#26828e"
             ],
             [
              0.5555555555555556,
              "#1f9e89"
             ],
             [
              0.6666666666666666,
              "#35b779"
             ],
             [
              0.7777777777777778,
              "#6ece58"
             ],
             [
              0.8888888888888888,
              "#b5de2b"
             ],
             [
              1,
              "#fde725"
             ]
            ],
            "type": "heatmap"
           }
          ],
          "heatmapgl": [
           {
            "colorbar": {
             "outlinewidth": 1,
             "tickcolor": "rgb(36,36,36)",
             "ticks": "outside"
            },
            "colorscale": [
             [
              0,
              "#440154"
             ],
             [
              0.1111111111111111,
              "#482878"
             ],
             [
              0.2222222222222222,
              "#3e4989"
             ],
             [
              0.3333333333333333,
              "#31688e"
             ],
             [
              0.4444444444444444,
              "#26828e"
             ],
             [
              0.5555555555555556,
              "#1f9e89"
             ],
             [
              0.6666666666666666,
              "#35b779"
             ],
             [
              0.7777777777777778,
              "#6ece58"
             ],
             [
              0.8888888888888888,
              "#b5de2b"
             ],
             [
              1,
              "#fde725"
             ]
            ],
            "type": "heatmapgl"
           }
          ],
          "histogram": [
           {
            "marker": {
             "line": {
              "color": "white",
              "width": 0.6
             }
            },
            "type": "histogram"
           }
          ],
          "histogram2d": [
           {
            "colorbar": {
             "outlinewidth": 1,
             "tickcolor": "rgb(36,36,36)",
             "ticks": "outside"
            },
            "colorscale": [
             [
              0,
              "#440154"
             ],
             [
              0.1111111111111111,
              "#482878"
             ],
             [
              0.2222222222222222,
              "#3e4989"
             ],
             [
              0.3333333333333333,
              "#31688e"
             ],
             [
              0.4444444444444444,
              "#26828e"
             ],
             [
              0.5555555555555556,
              "#1f9e89"
             ],
             [
              0.6666666666666666,
              "#35b779"
             ],
             [
              0.7777777777777778,
              "#6ece58"
             ],
             [
              0.8888888888888888,
              "#b5de2b"
             ],
             [
              1,
              "#fde725"
             ]
            ],
            "type": "histogram2d"
           }
          ],
          "histogram2dcontour": [
           {
            "colorbar": {
             "outlinewidth": 1,
             "tickcolor": "rgb(36,36,36)",
             "ticks": "outside"
            },
            "colorscale": [
             [
              0,
              "#440154"
             ],
             [
              0.1111111111111111,
              "#482878"
             ],
             [
              0.2222222222222222,
              "#3e4989"
             ],
             [
              0.3333333333333333,
              "#31688e"
             ],
             [
              0.4444444444444444,
              "#26828e"
             ],
             [
              0.5555555555555556,
              "#1f9e89"
             ],
             [
              0.6666666666666666,
              "#35b779"
             ],
             [
              0.7777777777777778,
              "#6ece58"
             ],
             [
              0.8888888888888888,
              "#b5de2b"
             ],
             [
              1,
              "#fde725"
             ]
            ],
            "type": "histogram2dcontour"
           }
          ],
          "mesh3d": [
           {
            "colorbar": {
             "outlinewidth": 1,
             "tickcolor": "rgb(36,36,36)",
             "ticks": "outside"
            },
            "type": "mesh3d"
           }
          ],
          "parcoords": [
           {
            "line": {
             "colorbar": {
              "outlinewidth": 1,
              "tickcolor": "rgb(36,36,36)",
              "ticks": "outside"
             }
            },
            "type": "parcoords"
           }
          ],
          "pie": [
           {
            "automargin": true,
            "type": "pie"
           }
          ],
          "scatter": [
           {
            "fillpattern": {
             "fillmode": "overlay",
             "size": 10,
             "solidity": 0.2
            },
            "type": "scatter"
           }
          ],
          "scatter3d": [
           {
            "line": {
             "colorbar": {
              "outlinewidth": 1,
              "tickcolor": "rgb(36,36,36)",
              "ticks": "outside"
             }
            },
            "marker": {
             "colorbar": {
              "outlinewidth": 1,
              "tickcolor": "rgb(36,36,36)",
              "ticks": "outside"
             }
            },
            "type": "scatter3d"
           }
          ],
          "scattercarpet": [
           {
            "marker": {
             "colorbar": {
              "outlinewidth": 1,
              "tickcolor": "rgb(36,36,36)",
              "ticks": "outside"
             }
            },
            "type": "scattercarpet"
           }
          ],
          "scattergeo": [
           {
            "marker": {
             "colorbar": {
              "outlinewidth": 1,
              "tickcolor": "rgb(36,36,36)",
              "ticks": "outside"
             }
            },
            "type": "scattergeo"
           }
          ],
          "scattergl": [
           {
            "marker": {
             "colorbar": {
              "outlinewidth": 1,
              "tickcolor": "rgb(36,36,36)",
              "ticks": "outside"
             }
            },
            "type": "scattergl"
           }
          ],
          "scattermapbox": [
           {
            "marker": {
             "colorbar": {
              "outlinewidth": 1,
              "tickcolor": "rgb(36,36,36)",
              "ticks": "outside"
             }
            },
            "type": "scattermapbox"
           }
          ],
          "scatterpolar": [
           {
            "marker": {
             "colorbar": {
              "outlinewidth": 1,
              "tickcolor": "rgb(36,36,36)",
              "ticks": "outside"
             }
            },
            "type": "scatterpolar"
           }
          ],
          "scatterpolargl": [
           {
            "marker": {
             "colorbar": {
              "outlinewidth": 1,
              "tickcolor": "rgb(36,36,36)",
              "ticks": "outside"
             }
            },
            "type": "scatterpolargl"
           }
          ],
          "scatterternary": [
           {
            "marker": {
             "colorbar": {
              "outlinewidth": 1,
              "tickcolor": "rgb(36,36,36)",
              "ticks": "outside"
             }
            },
            "type": "scatterternary"
           }
          ],
          "surface": [
           {
            "colorbar": {
             "outlinewidth": 1,
             "tickcolor": "rgb(36,36,36)",
             "ticks": "outside"
            },
            "colorscale": [
             [
              0,
              "#440154"
             ],
             [
              0.1111111111111111,
              "#482878"
             ],
             [
              0.2222222222222222,
              "#3e4989"
             ],
             [
              0.3333333333333333,
              "#31688e"
             ],
             [
              0.4444444444444444,
              "#26828e"
             ],
             [
              0.5555555555555556,
              "#1f9e89"
             ],
             [
              0.6666666666666666,
              "#35b779"
             ],
             [
              0.7777777777777778,
              "#6ece58"
             ],
             [
              0.8888888888888888,
              "#b5de2b"
             ],
             [
              1,
              "#fde725"
             ]
            ],
            "type": "surface"
           }
          ],
          "table": [
           {
            "cells": {
             "fill": {
              "color": "rgb(237,237,237)"
             },
             "line": {
              "color": "white"
             }
            },
            "header": {
             "fill": {
              "color": "rgb(217,217,217)"
             },
             "line": {
              "color": "white"
             }
            },
            "type": "table"
           }
          ]
         },
         "layout": {
          "annotationdefaults": {
           "arrowhead": 0,
           "arrowwidth": 1
          },
          "autotypenumbers": "strict",
          "coloraxis": {
           "colorbar": {
            "outlinewidth": 1,
            "tickcolor": "rgb(36,36,36)",
            "ticks": "outside"
           }
          },
          "colorscale": {
           "diverging": [
            [
             0,
             "rgb(103,0,31)"
            ],
            [
             0.1,
             "rgb(178,24,43)"
            ],
            [
             0.2,
             "rgb(214,96,77)"
            ],
            [
             0.3,
             "rgb(244,165,130)"
            ],
            [
             0.4,
             "rgb(253,219,199)"
            ],
            [
             0.5,
             "rgb(247,247,247)"
            ],
            [
             0.6,
             "rgb(209,229,240)"
            ],
            [
             0.7,
             "rgb(146,197,222)"
            ],
            [
             0.8,
             "rgb(67,147,195)"
            ],
            [
             0.9,
             "rgb(33,102,172)"
            ],
            [
             1,
             "rgb(5,48,97)"
            ]
           ],
           "sequential": [
            [
             0,
             "#440154"
            ],
            [
             0.1111111111111111,
             "#482878"
            ],
            [
             0.2222222222222222,
             "#3e4989"
            ],
            [
             0.3333333333333333,
             "#31688e"
            ],
            [
             0.4444444444444444,
             "#26828e"
            ],
            [
             0.5555555555555556,
             "#1f9e89"
            ],
            [
             0.6666666666666666,
             "#35b779"
            ],
            [
             0.7777777777777778,
             "#6ece58"
            ],
            [
             0.8888888888888888,
             "#b5de2b"
            ],
            [
             1,
             "#fde725"
            ]
           ],
           "sequentialminus": [
            [
             0,
             "#440154"
            ],
            [
             0.1111111111111111,
             "#482878"
            ],
            [
             0.2222222222222222,
             "#3e4989"
            ],
            [
             0.3333333333333333,
             "#31688e"
            ],
            [
             0.4444444444444444,
             "#26828e"
            ],
            [
             0.5555555555555556,
             "#1f9e89"
            ],
            [
             0.6666666666666666,
             "#35b779"
            ],
            [
             0.7777777777777778,
             "#6ece58"
            ],
            [
             0.8888888888888888,
             "#b5de2b"
            ],
            [
             1,
             "#fde725"
            ]
           ]
          },
          "colorway": [
           "#1F77B4",
           "#FF7F0E",
           "#2CA02C",
           "#D62728",
           "#9467BD",
           "#8C564B",
           "#E377C2",
           "#7F7F7F",
           "#BCBD22",
           "#17BECF"
          ],
          "font": {
           "color": "rgb(36,36,36)"
          },
          "geo": {
           "bgcolor": "white",
           "lakecolor": "white",
           "landcolor": "white",
           "showlakes": true,
           "showland": true,
           "subunitcolor": "white"
          },
          "hoverlabel": {
           "align": "left"
          },
          "hovermode": "closest",
          "mapbox": {
           "style": "light"
          },
          "paper_bgcolor": "white",
          "plot_bgcolor": "white",
          "polar": {
           "angularaxis": {
            "gridcolor": "rgb(232,232,232)",
            "linecolor": "rgb(36,36,36)",
            "showgrid": false,
            "showline": true,
            "ticks": "outside"
           },
           "bgcolor": "white",
           "radialaxis": {
            "gridcolor": "rgb(232,232,232)",
            "linecolor": "rgb(36,36,36)",
            "showgrid": false,
            "showline": true,
            "ticks": "outside"
           }
          },
          "scene": {
           "xaxis": {
            "backgroundcolor": "white",
            "gridcolor": "rgb(232,232,232)",
            "gridwidth": 2,
            "linecolor": "rgb(36,36,36)",
            "showbackground": true,
            "showgrid": false,
            "showline": true,
            "ticks": "outside",
            "zeroline": false,
            "zerolinecolor": "rgb(36,36,36)"
           },
           "yaxis": {
            "backgroundcolor": "white",
            "gridcolor": "rgb(232,232,232)",
            "gridwidth": 2,
            "linecolor": "rgb(36,36,36)",
            "showbackground": true,
            "showgrid": false,
            "showline": true,
            "ticks": "outside",
            "zeroline": false,
            "zerolinecolor": "rgb(36,36,36)"
           },
           "zaxis": {
            "backgroundcolor": "white",
            "gridcolor": "rgb(232,232,232)",
            "gridwidth": 2,
            "linecolor": "rgb(36,36,36)",
            "showbackground": true,
            "showgrid": false,
            "showline": true,
            "ticks": "outside",
            "zeroline": false,
            "zerolinecolor": "rgb(36,36,36)"
           }
          },
          "shapedefaults": {
           "fillcolor": "black",
           "line": {
            "width": 0
           },
           "opacity": 0.3
          },
          "ternary": {
           "aaxis": {
            "gridcolor": "rgb(232,232,232)",
            "linecolor": "rgb(36,36,36)",
            "showgrid": false,
            "showline": true,
            "ticks": "outside"
           },
           "baxis": {
            "gridcolor": "rgb(232,232,232)",
            "linecolor": "rgb(36,36,36)",
            "showgrid": false,
            "showline": true,
            "ticks": "outside"
           },
           "bgcolor": "white",
           "caxis": {
            "gridcolor": "rgb(232,232,232)",
            "linecolor": "rgb(36,36,36)",
            "showgrid": false,
            "showline": true,
            "ticks": "outside"
           }
          },
          "title": {
           "x": 0.05
          },
          "xaxis": {
           "automargin": true,
           "gridcolor": "rgb(232,232,232)",
           "linecolor": "rgb(36,36,36)",
           "showgrid": false,
           "showline": true,
           "ticks": "outside",
           "title": {
            "standoff": 15
           },
           "zeroline": false,
           "zerolinecolor": "rgb(36,36,36)"
          },
          "yaxis": {
           "automargin": true,
           "gridcolor": "rgb(232,232,232)",
           "linecolor": "rgb(36,36,36)",
           "showgrid": false,
           "showline": true,
           "ticks": "outside",
           "title": {
            "standoff": 15
           },
           "zeroline": false,
           "zerolinecolor": "rgb(36,36,36)"
          }
         }
        },
        "title": {
         "text": "Actual vs. Forecast (Out-of-Sample)"
        },
        "width": 1000,
        "xaxis": {
         "anchor": "y",
         "domain": [
          0,
          1
         ]
        },
        "yaxis": {
         "anchor": "x",
         "domain": [
          0,
          1
         ]
        }
       }
      }
     },
     "metadata": {},
     "output_type": "display_data"
    }
   ],
   "source": [
    "\n",
    "ets_dt = exp.create_model('lightgbm_cds_dt')\n",
    "exp.plot_model(plot = 'decomp', \n",
    "               data_kwargs = {'type' : 'multiplicative'},\n",
    "               fig_kwargs = {\"height\":500,\"width\":1000,\"template\": \"simple_white\",\"hoverinfo\":\"none\",\"big_data_threshold\":10})\n",
    "exp.plot_model(estimator = ets_dt, \n",
    "               plot = 'forecast', \n",
    "               data_kwargs = {'fh' : 8},\n",
    "               fig_kwargs = {\"height\":500,\"width\":1000,\"template\": \"simple_white\",\"hoverinfo\":\"none\",\"big_data_threshold\":10})"
   ]
  },
  {
   "cell_type": "markdown",
   "metadata": {},
   "source": [
    "## naive"
   ]
  },
  {
   "cell_type": "code",
   "execution_count": 21,
   "metadata": {},
   "outputs": [
    {
     "data": {
      "text/html": [],
      "text/plain": [
       "<IPython.core.display.HTML object>"
      ]
     },
     "metadata": {},
     "output_type": "display_data"
    },
    {
     "data": {
      "text/html": [
       "<style type=\"text/css\">\n",
       "#T_3c77f_row3_col0, #T_3c77f_row3_col1, #T_3c77f_row3_col2, #T_3c77f_row3_col3, #T_3c77f_row3_col4, #T_3c77f_row3_col5, #T_3c77f_row3_col6 {\n",
       "  background: yellow;\n",
       "}\n",
       "</style>\n",
       "<table id=\"T_3c77f\">\n",
       "  <thead>\n",
       "    <tr>\n",
       "      <th class=\"blank level0\" >&nbsp;</th>\n",
       "      <th id=\"T_3c77f_level0_col0\" class=\"col_heading level0 col0\" >cutoff</th>\n",
       "      <th id=\"T_3c77f_level0_col1\" class=\"col_heading level0 col1\" >MASE</th>\n",
       "      <th id=\"T_3c77f_level0_col2\" class=\"col_heading level0 col2\" >RMSSE</th>\n",
       "      <th id=\"T_3c77f_level0_col3\" class=\"col_heading level0 col3\" >MAE</th>\n",
       "      <th id=\"T_3c77f_level0_col4\" class=\"col_heading level0 col4\" >RMSE</th>\n",
       "      <th id=\"T_3c77f_level0_col5\" class=\"col_heading level0 col5\" >MAPE</th>\n",
       "      <th id=\"T_3c77f_level0_col6\" class=\"col_heading level0 col6\" >SMAPE</th>\n",
       "    </tr>\n",
       "  </thead>\n",
       "  <tbody>\n",
       "    <tr>\n",
       "      <th id=\"T_3c77f_level0_row0\" class=\"row_heading level0 row0\" >0</th>\n",
       "      <td id=\"T_3c77f_row0_col0\" class=\"data row0 col0\" >2019</td>\n",
       "      <td id=\"T_3c77f_row0_col1\" class=\"data row0 col1\" >0.2040</td>\n",
       "      <td id=\"T_3c77f_row0_col2\" class=\"data row0 col2\" >0.1991</td>\n",
       "      <td id=\"T_3c77f_row0_col3\" class=\"data row0 col3\" >1.1200</td>\n",
       "      <td id=\"T_3c77f_row0_col4\" class=\"data row0 col4\" >1.1200</td>\n",
       "      <td id=\"T_3c77f_row0_col5\" class=\"data row0 col5\" >0.0042</td>\n",
       "      <td id=\"T_3c77f_row0_col6\" class=\"data row0 col6\" >0.0042</td>\n",
       "    </tr>\n",
       "    <tr>\n",
       "      <th id=\"T_3c77f_level0_row1\" class=\"row_heading level0 row1\" >1</th>\n",
       "      <td id=\"T_3c77f_row1_col0\" class=\"data row1 col0\" >2020</td>\n",
       "      <td id=\"T_3c77f_row1_col1\" class=\"data row1 col1\" >0.5504</td>\n",
       "      <td id=\"T_3c77f_row1_col2\" class=\"data row1 col2\" >0.4787</td>\n",
       "      <td id=\"T_3c77f_row1_col3\" class=\"data row1 col3\" >2.2200</td>\n",
       "      <td id=\"T_3c77f_row1_col4\" class=\"data row1 col4\" >2.2200</td>\n",
       "      <td id=\"T_3c77f_row1_col5\" class=\"data row1 col5\" >0.0084</td>\n",
       "      <td id=\"T_3c77f_row1_col6\" class=\"data row1 col6\" >0.0083</td>\n",
       "    </tr>\n",
       "    <tr>\n",
       "      <th id=\"T_3c77f_level0_row2\" class=\"row_heading level0 row2\" >2</th>\n",
       "      <td id=\"T_3c77f_row2_col0\" class=\"data row2 col0\" >2021</td>\n",
       "      <td id=\"T_3c77f_row2_col1\" class=\"data row2 col1\" >7.3911</td>\n",
       "      <td id=\"T_3c77f_row2_col2\" class=\"data row2 col2\" >6.3506</td>\n",
       "      <td id=\"T_3c77f_row2_col3\" class=\"data row2 col3\" >26.4600</td>\n",
       "      <td id=\"T_3c77f_row2_col4\" class=\"data row2 col4\" >26.4600</td>\n",
       "      <td id=\"T_3c77f_row2_col5\" class=\"data row2 col5\" >0.0908</td>\n",
       "      <td id=\"T_3c77f_row2_col6\" class=\"data row2 col6\" >0.0951</td>\n",
       "    </tr>\n",
       "    <tr>\n",
       "      <th id=\"T_3c77f_level0_row3\" class=\"row_heading level0 row3\" >Mean</th>\n",
       "      <td id=\"T_3c77f_row3_col0\" class=\"data row3 col0\" >NaT</td>\n",
       "      <td id=\"T_3c77f_row3_col1\" class=\"data row3 col1\" >2.7152</td>\n",
       "      <td id=\"T_3c77f_row3_col2\" class=\"data row3 col2\" >2.3428</td>\n",
       "      <td id=\"T_3c77f_row3_col3\" class=\"data row3 col3\" >9.9333</td>\n",
       "      <td id=\"T_3c77f_row3_col4\" class=\"data row3 col4\" >9.9333</td>\n",
       "      <td id=\"T_3c77f_row3_col5\" class=\"data row3 col5\" >0.0345</td>\n",
       "      <td id=\"T_3c77f_row3_col6\" class=\"data row3 col6\" >0.0359</td>\n",
       "    </tr>\n",
       "    <tr>\n",
       "      <th id=\"T_3c77f_level0_row4\" class=\"row_heading level0 row4\" >SD</th>\n",
       "      <td id=\"T_3c77f_row4_col0\" class=\"data row4 col0\" >NaT</td>\n",
       "      <td id=\"T_3c77f_row4_col1\" class=\"data row4 col1\" >3.3094</td>\n",
       "      <td id=\"T_3c77f_row4_col2\" class=\"data row4 col2\" >2.8362</td>\n",
       "      <td id=\"T_3c77f_row4_col3\" class=\"data row4 col3\" >11.6947</td>\n",
       "      <td id=\"T_3c77f_row4_col4\" class=\"data row4 col4\" >11.6947</td>\n",
       "      <td id=\"T_3c77f_row4_col5\" class=\"data row4 col5\" >0.0399</td>\n",
       "      <td id=\"T_3c77f_row4_col6\" class=\"data row4 col6\" >0.0419</td>\n",
       "    </tr>\n",
       "  </tbody>\n",
       "</table>\n"
      ],
      "text/plain": [
       "<pandas.io.formats.style.Styler at 0x189a7f74670>"
      ]
     },
     "metadata": {},
     "output_type": "display_data"
    },
    {
     "data": {
      "text/html": [],
      "text/plain": [
       "<IPython.core.display.HTML object>"
      ]
     },
     "metadata": {},
     "output_type": "display_data"
    },
    {
     "data": {
      "application/vnd.plotly.v1+json": {
       "config": {
        "plotlyServerURL": "https://plot.ly"
       },
       "data": [
        {
         "line": {
          "color": "rgb(31, 119, 180)",
          "width": 2
         },
         "marker": {
          "size": 2
         },
         "mode": "lines+markers",
         "name": "Actual",
         "type": "scattergl",
         "x": [
          "2017-01-01T00:00:00",
          "2018-01-01T00:00:00",
          "2019-01-01T00:00:00",
          "2020-01-01T00:00:00",
          "2021-01-01T00:00:00",
          "2022-01-01T00:00:00",
          "2023-01-01T00:00:00"
         ],
         "xaxis": "x",
         "y": [
          255.06,
          259.33,
          266.04,
          267.16,
          264.94,
          291.4,
          301.8
         ],
         "yaxis": "y"
        },
        {
         "line": {
          "color": "rgb(255, 127, 14)",
          "width": 2
         },
         "marker": {
          "size": 2
         },
         "mode": "lines+markers",
         "name": "Seasonal",
         "type": "scattergl",
         "x": [
          "2017-01-01T00:00:00",
          "2018-01-01T00:00:00",
          "2019-01-01T00:00:00",
          "2020-01-01T00:00:00",
          "2021-01-01T00:00:00",
          "2022-01-01T00:00:00",
          "2023-01-01T00:00:00"
         ],
         "xaxis": "x2",
         "y": [
          1,
          1,
          1,
          1,
          1,
          1,
          1
         ],
         "yaxis": "y2"
        },
        {
         "line": {
          "color": "rgb(44, 160, 44)",
          "width": 2
         },
         "marker": {
          "size": 2
         },
         "mode": "lines+markers",
         "name": "Trend",
         "type": "scattergl",
         "x": [
          "2017-01-01T00:00:00",
          "2018-01-01T00:00:00",
          "2019-01-01T00:00:00",
          "2020-01-01T00:00:00",
          "2021-01-01T00:00:00",
          "2022-01-01T00:00:00",
          "2023-01-01T00:00:00"
         ],
         "xaxis": "x3",
         "y": [
          255.06,
          259.33,
          266.04,
          267.16,
          264.94,
          291.4,
          301.8
         ],
         "yaxis": "y3"
        },
        {
         "line": {
          "color": "rgb(214, 39, 40)",
          "width": 2
         },
         "marker": {
          "size": 4
         },
         "mode": "markers",
         "name": "Residuals",
         "type": "scattergl",
         "x": [
          "2017-01-01T00:00:00",
          "2018-01-01T00:00:00",
          "2019-01-01T00:00:00",
          "2020-01-01T00:00:00",
          "2021-01-01T00:00:00",
          "2022-01-01T00:00:00",
          "2023-01-01T00:00:00"
         ],
         "xaxis": "x4",
         "y": [
          1,
          1,
          1,
          1,
          1,
          1,
          1
         ],
         "yaxis": "y4"
        }
       ],
       "layout": {
        "annotations": [
         {
          "font": {
           "size": 16
          },
          "showarrow": false,
          "text": "value (transformed)",
          "x": 0.49,
          "xanchor": "center",
          "xref": "paper",
          "y": 1,
          "yanchor": "bottom",
          "yref": "paper"
         },
         {
          "font": {
           "size": 16
          },
          "showarrow": false,
          "text": "Actual",
          "textangle": 90,
          "x": 0.98,
          "xanchor": "left",
          "xref": "paper",
          "y": 0.903125,
          "yanchor": "middle",
          "yref": "paper"
         },
         {
          "font": {
           "size": 16
          },
          "showarrow": false,
          "text": "Seasonal",
          "textangle": 90,
          "x": 0.98,
          "xanchor": "left",
          "xref": "paper",
          "y": 0.6343749999999999,
          "yanchor": "middle",
          "yref": "paper"
         },
         {
          "font": {
           "size": 16
          },
          "showarrow": false,
          "text": "Trend",
          "textangle": 90,
          "x": 0.98,
          "xanchor": "left",
          "xref": "paper",
          "y": 0.365625,
          "yanchor": "middle",
          "yref": "paper"
         },
         {
          "font": {
           "size": 16
          },
          "showarrow": false,
          "text": "Residual",
          "textangle": 90,
          "x": 0.98,
          "xanchor": "left",
          "xref": "paper",
          "y": 0.096875,
          "yanchor": "middle",
          "yref": "paper"
         }
        ],
        "autosize": false,
        "height": 500,
        "showlegend": false,
        "template": {
         "data": {
          "bar": [
           {
            "error_x": {
             "color": "rgb(36,36,36)"
            },
            "error_y": {
             "color": "rgb(36,36,36)"
            },
            "marker": {
             "line": {
              "color": "white",
              "width": 0.5
             },
             "pattern": {
              "fillmode": "overlay",
              "size": 10,
              "solidity": 0.2
             }
            },
            "type": "bar"
           }
          ],
          "barpolar": [
           {
            "marker": {
             "line": {
              "color": "white",
              "width": 0.5
             },
             "pattern": {
              "fillmode": "overlay",
              "size": 10,
              "solidity": 0.2
             }
            },
            "type": "barpolar"
           }
          ],
          "carpet": [
           {
            "aaxis": {
             "endlinecolor": "rgb(36,36,36)",
             "gridcolor": "white",
             "linecolor": "white",
             "minorgridcolor": "white",
             "startlinecolor": "rgb(36,36,36)"
            },
            "baxis": {
             "endlinecolor": "rgb(36,36,36)",
             "gridcolor": "white",
             "linecolor": "white",
             "minorgridcolor": "white",
             "startlinecolor": "rgb(36,36,36)"
            },
            "type": "carpet"
           }
          ],
          "choropleth": [
           {
            "colorbar": {
             "outlinewidth": 1,
             "tickcolor": "rgb(36,36,36)",
             "ticks": "outside"
            },
            "type": "choropleth"
           }
          ],
          "contour": [
           {
            "colorbar": {
             "outlinewidth": 1,
             "tickcolor": "rgb(36,36,36)",
             "ticks": "outside"
            },
            "colorscale": [
             [
              0,
              "#440154"
             ],
             [
              0.1111111111111111,
              "#482878"
             ],
             [
              0.2222222222222222,
              "#3e4989"
             ],
             [
              0.3333333333333333,
              "#31688e"
             ],
             [
              0.4444444444444444,
              "#26828e"
             ],
             [
              0.5555555555555556,
              "#1f9e89"
             ],
             [
              0.6666666666666666,
              "#35b779"
             ],
             [
              0.7777777777777778,
              "#6ece58"
             ],
             [
              0.8888888888888888,
              "#b5de2b"
             ],
             [
              1,
              "#fde725"
             ]
            ],
            "type": "contour"
           }
          ],
          "contourcarpet": [
           {
            "colorbar": {
             "outlinewidth": 1,
             "tickcolor": "rgb(36,36,36)",
             "ticks": "outside"
            },
            "type": "contourcarpet"
           }
          ],
          "heatmap": [
           {
            "colorbar": {
             "outlinewidth": 1,
             "tickcolor": "rgb(36,36,36)",
             "ticks": "outside"
            },
            "colorscale": [
             [
              0,
              "#440154"
             ],
             [
              0.1111111111111111,
              "#482878"
             ],
             [
              0.2222222222222222,
              "#3e4989"
             ],
             [
              0.3333333333333333,
              "#31688e"
             ],
             [
              0.4444444444444444,
              "#26828e"
             ],
             [
              0.5555555555555556,
              "#1f9e89"
             ],
             [
              0.6666666666666666,
              "#35b779"
             ],
             [
              0.7777777777777778,
              "#6ece58"
             ],
             [
              0.8888888888888888,
              "#b5de2b"
             ],
             [
              1,
              "#fde725"
             ]
            ],
            "type": "heatmap"
           }
          ],
          "heatmapgl": [
           {
            "colorbar": {
             "outlinewidth": 1,
             "tickcolor": "rgb(36,36,36)",
             "ticks": "outside"
            },
            "colorscale": [
             [
              0,
              "#440154"
             ],
             [
              0.1111111111111111,
              "#482878"
             ],
             [
              0.2222222222222222,
              "#3e4989"
             ],
             [
              0.3333333333333333,
              "#31688e"
             ],
             [
              0.4444444444444444,
              "#26828e"
             ],
             [
              0.5555555555555556,
              "#1f9e89"
             ],
             [
              0.6666666666666666,
              "#35b779"
             ],
             [
              0.7777777777777778,
              "#6ece58"
             ],
             [
              0.8888888888888888,
              "#b5de2b"
             ],
             [
              1,
              "#fde725"
             ]
            ],
            "type": "heatmapgl"
           }
          ],
          "histogram": [
           {
            "marker": {
             "line": {
              "color": "white",
              "width": 0.6
             }
            },
            "type": "histogram"
           }
          ],
          "histogram2d": [
           {
            "colorbar": {
             "outlinewidth": 1,
             "tickcolor": "rgb(36,36,36)",
             "ticks": "outside"
            },
            "colorscale": [
             [
              0,
              "#440154"
             ],
             [
              0.1111111111111111,
              "#482878"
             ],
             [
              0.2222222222222222,
              "#3e4989"
             ],
             [
              0.3333333333333333,
              "#31688e"
             ],
             [
              0.4444444444444444,
              "#26828e"
             ],
             [
              0.5555555555555556,
              "#1f9e89"
             ],
             [
              0.6666666666666666,
              "#35b779"
             ],
             [
              0.7777777777777778,
              "#6ece58"
             ],
             [
              0.8888888888888888,
              "#b5de2b"
             ],
             [
              1,
              "#fde725"
             ]
            ],
            "type": "histogram2d"
           }
          ],
          "histogram2dcontour": [
           {
            "colorbar": {
             "outlinewidth": 1,
             "tickcolor": "rgb(36,36,36)",
             "ticks": "outside"
            },
            "colorscale": [
             [
              0,
              "#440154"
             ],
             [
              0.1111111111111111,
              "#482878"
             ],
             [
              0.2222222222222222,
              "#3e4989"
             ],
             [
              0.3333333333333333,
              "#31688e"
             ],
             [
              0.4444444444444444,
              "#26828e"
             ],
             [
              0.5555555555555556,
              "#1f9e89"
             ],
             [
              0.6666666666666666,
              "#35b779"
             ],
             [
              0.7777777777777778,
              "#6ece58"
             ],
             [
              0.8888888888888888,
              "#b5de2b"
             ],
             [
              1,
              "#fde725"
             ]
            ],
            "type": "histogram2dcontour"
           }
          ],
          "mesh3d": [
           {
            "colorbar": {
             "outlinewidth": 1,
             "tickcolor": "rgb(36,36,36)",
             "ticks": "outside"
            },
            "type": "mesh3d"
           }
          ],
          "parcoords": [
           {
            "line": {
             "colorbar": {
              "outlinewidth": 1,
              "tickcolor": "rgb(36,36,36)",
              "ticks": "outside"
             }
            },
            "type": "parcoords"
           }
          ],
          "pie": [
           {
            "automargin": true,
            "type": "pie"
           }
          ],
          "scatter": [
           {
            "fillpattern": {
             "fillmode": "overlay",
             "size": 10,
             "solidity": 0.2
            },
            "type": "scatter"
           }
          ],
          "scatter3d": [
           {
            "line": {
             "colorbar": {
              "outlinewidth": 1,
              "tickcolor": "rgb(36,36,36)",
              "ticks": "outside"
             }
            },
            "marker": {
             "colorbar": {
              "outlinewidth": 1,
              "tickcolor": "rgb(36,36,36)",
              "ticks": "outside"
             }
            },
            "type": "scatter3d"
           }
          ],
          "scattercarpet": [
           {
            "marker": {
             "colorbar": {
              "outlinewidth": 1,
              "tickcolor": "rgb(36,36,36)",
              "ticks": "outside"
             }
            },
            "type": "scattercarpet"
           }
          ],
          "scattergeo": [
           {
            "marker": {
             "colorbar": {
              "outlinewidth": 1,
              "tickcolor": "rgb(36,36,36)",
              "ticks": "outside"
             }
            },
            "type": "scattergeo"
           }
          ],
          "scattergl": [
           {
            "marker": {
             "colorbar": {
              "outlinewidth": 1,
              "tickcolor": "rgb(36,36,36)",
              "ticks": "outside"
             }
            },
            "type": "scattergl"
           }
          ],
          "scattermapbox": [
           {
            "marker": {
             "colorbar": {
              "outlinewidth": 1,
              "tickcolor": "rgb(36,36,36)",
              "ticks": "outside"
             }
            },
            "type": "scattermapbox"
           }
          ],
          "scatterpolar": [
           {
            "marker": {
             "colorbar": {
              "outlinewidth": 1,
              "tickcolor": "rgb(36,36,36)",
              "ticks": "outside"
             }
            },
            "type": "scatterpolar"
           }
          ],
          "scatterpolargl": [
           {
            "marker": {
             "colorbar": {
              "outlinewidth": 1,
              "tickcolor": "rgb(36,36,36)",
              "ticks": "outside"
             }
            },
            "type": "scatterpolargl"
           }
          ],
          "scatterternary": [
           {
            "marker": {
             "colorbar": {
              "outlinewidth": 1,
              "tickcolor": "rgb(36,36,36)",
              "ticks": "outside"
             }
            },
            "type": "scatterternary"
           }
          ],
          "surface": [
           {
            "colorbar": {
             "outlinewidth": 1,
             "tickcolor": "rgb(36,36,36)",
             "ticks": "outside"
            },
            "colorscale": [
             [
              0,
              "#440154"
             ],
             [
              0.1111111111111111,
              "#482878"
             ],
             [
              0.2222222222222222,
              "#3e4989"
             ],
             [
              0.3333333333333333,
              "#31688e"
             ],
             [
              0.4444444444444444,
              "#26828e"
             ],
             [
              0.5555555555555556,
              "#1f9e89"
             ],
             [
              0.6666666666666666,
              "#35b779"
             ],
             [
              0.7777777777777778,
              "#6ece58"
             ],
             [
              0.8888888888888888,
              "#b5de2b"
             ],
             [
              1,
              "#fde725"
             ]
            ],
            "type": "surface"
           }
          ],
          "table": [
           {
            "cells": {
             "fill": {
              "color": "rgb(237,237,237)"
             },
             "line": {
              "color": "white"
             }
            },
            "header": {
             "fill": {
              "color": "rgb(217,217,217)"
             },
             "line": {
              "color": "white"
             }
            },
            "type": "table"
           }
          ]
         },
         "layout": {
          "annotationdefaults": {
           "arrowhead": 0,
           "arrowwidth": 1
          },
          "autotypenumbers": "strict",
          "coloraxis": {
           "colorbar": {
            "outlinewidth": 1,
            "tickcolor": "rgb(36,36,36)",
            "ticks": "outside"
           }
          },
          "colorscale": {
           "diverging": [
            [
             0,
             "rgb(103,0,31)"
            ],
            [
             0.1,
             "rgb(178,24,43)"
            ],
            [
             0.2,
             "rgb(214,96,77)"
            ],
            [
             0.3,
             "rgb(244,165,130)"
            ],
            [
             0.4,
             "rgb(253,219,199)"
            ],
            [
             0.5,
             "rgb(247,247,247)"
            ],
            [
             0.6,
             "rgb(209,229,240)"
            ],
            [
             0.7,
             "rgb(146,197,222)"
            ],
            [
             0.8,
             "rgb(67,147,195)"
            ],
            [
             0.9,
             "rgb(33,102,172)"
            ],
            [
             1,
             "rgb(5,48,97)"
            ]
           ],
           "sequential": [
            [
             0,
             "#440154"
            ],
            [
             0.1111111111111111,
             "#482878"
            ],
            [
             0.2222222222222222,
             "#3e4989"
            ],
            [
             0.3333333333333333,
             "#31688e"
            ],
            [
             0.4444444444444444,
             "#26828e"
            ],
            [
             0.5555555555555556,
             "#1f9e89"
            ],
            [
             0.6666666666666666,
             "#35b779"
            ],
            [
             0.7777777777777778,
             "#6ece58"
            ],
            [
             0.8888888888888888,
             "#b5de2b"
            ],
            [
             1,
             "#fde725"
            ]
           ],
           "sequentialminus": [
            [
             0,
             "#440154"
            ],
            [
             0.1111111111111111,
             "#482878"
            ],
            [
             0.2222222222222222,
             "#3e4989"
            ],
            [
             0.3333333333333333,
             "#31688e"
            ],
            [
             0.4444444444444444,
             "#26828e"
            ],
            [
             0.5555555555555556,
             "#1f9e89"
            ],
            [
             0.6666666666666666,
             "#35b779"
            ],
            [
             0.7777777777777778,
             "#6ece58"
            ],
            [
             0.8888888888888888,
             "#b5de2b"
            ],
            [
             1,
             "#fde725"
            ]
           ]
          },
          "colorway": [
           "#1F77B4",
           "#FF7F0E",
           "#2CA02C",
           "#D62728",
           "#9467BD",
           "#8C564B",
           "#E377C2",
           "#7F7F7F",
           "#BCBD22",
           "#17BECF"
          ],
          "font": {
           "color": "rgb(36,36,36)"
          },
          "geo": {
           "bgcolor": "white",
           "lakecolor": "white",
           "landcolor": "white",
           "showlakes": true,
           "showland": true,
           "subunitcolor": "white"
          },
          "hoverlabel": {
           "align": "left"
          },
          "hovermode": "closest",
          "mapbox": {
           "style": "light"
          },
          "paper_bgcolor": "white",
          "plot_bgcolor": "white",
          "polar": {
           "angularaxis": {
            "gridcolor": "rgb(232,232,232)",
            "linecolor": "rgb(36,36,36)",
            "showgrid": false,
            "showline": true,
            "ticks": "outside"
           },
           "bgcolor": "white",
           "radialaxis": {
            "gridcolor": "rgb(232,232,232)",
            "linecolor": "rgb(36,36,36)",
            "showgrid": false,
            "showline": true,
            "ticks": "outside"
           }
          },
          "scene": {
           "xaxis": {
            "backgroundcolor": "white",
            "gridcolor": "rgb(232,232,232)",
            "gridwidth": 2,
            "linecolor": "rgb(36,36,36)",
            "showbackground": true,
            "showgrid": false,
            "showline": true,
            "ticks": "outside",
            "zeroline": false,
            "zerolinecolor": "rgb(36,36,36)"
           },
           "yaxis": {
            "backgroundcolor": "white",
            "gridcolor": "rgb(232,232,232)",
            "gridwidth": 2,
            "linecolor": "rgb(36,36,36)",
            "showbackground": true,
            "showgrid": false,
            "showline": true,
            "ticks": "outside",
            "zeroline": false,
            "zerolinecolor": "rgb(36,36,36)"
           },
           "zaxis": {
            "backgroundcolor": "white",
            "gridcolor": "rgb(232,232,232)",
            "gridwidth": 2,
            "linecolor": "rgb(36,36,36)",
            "showbackground": true,
            "showgrid": false,
            "showline": true,
            "ticks": "outside",
            "zeroline": false,
            "zerolinecolor": "rgb(36,36,36)"
           }
          },
          "shapedefaults": {
           "fillcolor": "black",
           "line": {
            "width": 0
           },
           "opacity": 0.3
          },
          "ternary": {
           "aaxis": {
            "gridcolor": "rgb(232,232,232)",
            "linecolor": "rgb(36,36,36)",
            "showgrid": false,
            "showline": true,
            "ticks": "outside"
           },
           "baxis": {
            "gridcolor": "rgb(232,232,232)",
            "linecolor": "rgb(36,36,36)",
            "showgrid": false,
            "showline": true,
            "ticks": "outside"
           },
           "bgcolor": "white",
           "caxis": {
            "gridcolor": "rgb(232,232,232)",
            "linecolor": "rgb(36,36,36)",
            "showgrid": false,
            "showline": true,
            "ticks": "outside"
           }
          },
          "title": {
           "x": 0.05
          },
          "xaxis": {
           "automargin": true,
           "gridcolor": "rgb(232,232,232)",
           "linecolor": "rgb(36,36,36)",
           "showgrid": false,
           "showline": true,
           "ticks": "outside",
           "title": {
            "standoff": 15
           },
           "zeroline": false,
           "zerolinecolor": "rgb(36,36,36)"
          },
          "yaxis": {
           "automargin": true,
           "gridcolor": "rgb(232,232,232)",
           "linecolor": "rgb(36,36,36)",
           "showgrid": false,
           "showline": true,
           "ticks": "outside",
           "title": {
            "standoff": 15
           },
           "zeroline": false,
           "zerolinecolor": "rgb(36,36,36)"
          }
         }
        },
        "title": {
         "text": "Classical Decomposition (multiplicative) | value<br>Seasonal Period = 1"
        },
        "width": 1000,
        "xaxis": {
         "anchor": "y",
         "domain": [
          0,
          0.98
         ],
         "matches": "x4",
         "showticklabels": false
        },
        "xaxis2": {
         "anchor": "y2",
         "domain": [
          0,
          0.98
         ],
         "matches": "x4",
         "showticklabels": false
        },
        "xaxis3": {
         "anchor": "y3",
         "domain": [
          0,
          0.98
         ],
         "matches": "x4",
         "showticklabels": false
        },
        "xaxis4": {
         "anchor": "y4",
         "domain": [
          0,
          0.98
         ]
        },
        "yaxis": {
         "anchor": "x",
         "domain": [
          0.80625,
          1
         ]
        },
        "yaxis2": {
         "anchor": "x2",
         "domain": [
          0.5375,
          0.73125
         ]
        },
        "yaxis3": {
         "anchor": "x3",
         "domain": [
          0.26875,
          0.4625
         ]
        },
        "yaxis4": {
         "anchor": "x4",
         "domain": [
          0,
          0.19375
         ]
        }
       }
      }
     },
     "metadata": {},
     "output_type": "display_data"
    },
    {
     "data": {
      "application/vnd.plotly.v1+json": {
       "config": {
        "plotlyServerURL": "https://plot.ly"
       },
       "data": [
        {
         "line": {
          "color": "#1f77b4"
         },
         "marker": {
          "size": 5
         },
         "mode": "lines+markers",
         "name": "Forecast | Naive Forecaster",
         "showlegend": true,
         "type": "scatter",
         "x": [
          "2023-01-01T00:00:00",
          "2024-01-01T00:00:00",
          "2025-01-01T00:00:00",
          "2026-01-01T00:00:00",
          "2027-01-01T00:00:00",
          "2028-01-01T00:00:00",
          "2029-01-01T00:00:00",
          "2030-01-01T00:00:00"
         ],
         "y": [
          291.4,
          291.4,
          291.4,
          291.4,
          291.4,
          291.4,
          291.4,
          291.4
         ]
        },
        {
         "line": {
          "width": 0
         },
         "marker": {
          "color": "#68BBE3"
         },
         "mode": "lines",
         "name": "Lower Interval",
         "showlegend": false,
         "type": "scatter",
         "x": [
          "2023-01-01T00:00:00",
          "2024-01-01T00:00:00",
          "2025-01-01T00:00:00",
          "2026-01-01T00:00:00",
          "2027-01-01T00:00:00",
          "2028-01-01T00:00:00",
          "2029-01-01T00:00:00",
          "2030-01-01T00:00:00"
         ],
         "y": [
          270.9936,
          262.541,
          256.0551,
          250.5872,
          245.7699,
          241.4147,
          237.4097,
          233.6819
         ]
        },
        {
         "fill": "tonexty",
         "fillcolor": "rgba(104,187,227,0.5)",
         "line": {
          "width": 0
         },
         "marker": {
          "color": "#68BBE3"
         },
         "mode": "lines",
         "name": "Prediction Interval | Naive Forecaster",
         "showlegend": true,
         "type": "scatter",
         "x": [
          "2023-01-01T00:00:00",
          "2024-01-01T00:00:00",
          "2025-01-01T00:00:00",
          "2026-01-01T00:00:00",
          "2027-01-01T00:00:00",
          "2028-01-01T00:00:00",
          "2029-01-01T00:00:00",
          "2030-01-01T00:00:00"
         ],
         "y": [
          311.8064,
          320.259,
          326.7449,
          332.2128,
          337.0301,
          341.3853,
          345.3903,
          349.1181
         ]
        },
        {
         "marker": {
          "color": "#3f3f3f",
          "size": 5
         },
         "mode": "lines+markers",
         "name": "Original",
         "showlegend": true,
         "type": "scatter",
         "x": [
          "2017-01-01T00:00:00",
          "2018-01-01T00:00:00",
          "2019-01-01T00:00:00",
          "2020-01-01T00:00:00",
          "2021-01-01T00:00:00",
          "2022-01-01T00:00:00",
          "2023-01-01T00:00:00"
         ],
         "y": [
          255.06,
          259.33,
          266.04,
          267.16,
          264.94,
          291.4,
          301.8
         ]
        }
       ],
       "layout": {
        "autosize": false,
        "height": 500,
        "showlegend": true,
        "template": {
         "data": {
          "bar": [
           {
            "error_x": {
             "color": "rgb(36,36,36)"
            },
            "error_y": {
             "color": "rgb(36,36,36)"
            },
            "marker": {
             "line": {
              "color": "white",
              "width": 0.5
             },
             "pattern": {
              "fillmode": "overlay",
              "size": 10,
              "solidity": 0.2
             }
            },
            "type": "bar"
           }
          ],
          "barpolar": [
           {
            "marker": {
             "line": {
              "color": "white",
              "width": 0.5
             },
             "pattern": {
              "fillmode": "overlay",
              "size": 10,
              "solidity": 0.2
             }
            },
            "type": "barpolar"
           }
          ],
          "carpet": [
           {
            "aaxis": {
             "endlinecolor": "rgb(36,36,36)",
             "gridcolor": "white",
             "linecolor": "white",
             "minorgridcolor": "white",
             "startlinecolor": "rgb(36,36,36)"
            },
            "baxis": {
             "endlinecolor": "rgb(36,36,36)",
             "gridcolor": "white",
             "linecolor": "white",
             "minorgridcolor": "white",
             "startlinecolor": "rgb(36,36,36)"
            },
            "type": "carpet"
           }
          ],
          "choropleth": [
           {
            "colorbar": {
             "outlinewidth": 1,
             "tickcolor": "rgb(36,36,36)",
             "ticks": "outside"
            },
            "type": "choropleth"
           }
          ],
          "contour": [
           {
            "colorbar": {
             "outlinewidth": 1,
             "tickcolor": "rgb(36,36,36)",
             "ticks": "outside"
            },
            "colorscale": [
             [
              0,
              "#440154"
             ],
             [
              0.1111111111111111,
              "#482878"
             ],
             [
              0.2222222222222222,
              "#3e4989"
             ],
             [
              0.3333333333333333,
              "#31688e"
             ],
             [
              0.4444444444444444,
              "#26828e"
             ],
             [
              0.5555555555555556,
              "#1f9e89"
             ],
             [
              0.6666666666666666,
              "#35b779"
             ],
             [
              0.7777777777777778,
              "#6ece58"
             ],
             [
              0.8888888888888888,
              "#b5de2b"
             ],
             [
              1,
              "#fde725"
             ]
            ],
            "type": "contour"
           }
          ],
          "contourcarpet": [
           {
            "colorbar": {
             "outlinewidth": 1,
             "tickcolor": "rgb(36,36,36)",
             "ticks": "outside"
            },
            "type": "contourcarpet"
           }
          ],
          "heatmap": [
           {
            "colorbar": {
             "outlinewidth": 1,
             "tickcolor": "rgb(36,36,36)",
             "ticks": "outside"
            },
            "colorscale": [
             [
              0,
              "#440154"
             ],
             [
              0.1111111111111111,
              "#482878"
             ],
             [
              0.2222222222222222,
              "#3e4989"
             ],
             [
              0.3333333333333333,
              "#31688e"
             ],
             [
              0.4444444444444444,
              "#26828e"
             ],
             [
              0.5555555555555556,
              "#1f9e89"
             ],
             [
              0.6666666666666666,
              "#35b779"
             ],
             [
              0.7777777777777778,
              "#6ece58"
             ],
             [
              0.8888888888888888,
              "#b5de2b"
             ],
             [
              1,
              "#fde725"
             ]
            ],
            "type": "heatmap"
           }
          ],
          "heatmapgl": [
           {
            "colorbar": {
             "outlinewidth": 1,
             "tickcolor": "rgb(36,36,36)",
             "ticks": "outside"
            },
            "colorscale": [
             [
              0,
              "#440154"
             ],
             [
              0.1111111111111111,
              "#482878"
             ],
             [
              0.2222222222222222,
              "#3e4989"
             ],
             [
              0.3333333333333333,
              "#31688e"
             ],
             [
              0.4444444444444444,
              "#26828e"
             ],
             [
              0.5555555555555556,
              "#1f9e89"
             ],
             [
              0.6666666666666666,
              "#35b779"
             ],
             [
              0.7777777777777778,
              "#6ece58"
             ],
             [
              0.8888888888888888,
              "#b5de2b"
             ],
             [
              1,
              "#fde725"
             ]
            ],
            "type": "heatmapgl"
           }
          ],
          "histogram": [
           {
            "marker": {
             "line": {
              "color": "white",
              "width": 0.6
             }
            },
            "type": "histogram"
           }
          ],
          "histogram2d": [
           {
            "colorbar": {
             "outlinewidth": 1,
             "tickcolor": "rgb(36,36,36)",
             "ticks": "outside"
            },
            "colorscale": [
             [
              0,
              "#440154"
             ],
             [
              0.1111111111111111,
              "#482878"
             ],
             [
              0.2222222222222222,
              "#3e4989"
             ],
             [
              0.3333333333333333,
              "#31688e"
             ],
             [
              0.4444444444444444,
              "#26828e"
             ],
             [
              0.5555555555555556,
              "#1f9e89"
             ],
             [
              0.6666666666666666,
              "#35b779"
             ],
             [
              0.7777777777777778,
              "#6ece58"
             ],
             [
              0.8888888888888888,
              "#b5de2b"
             ],
             [
              1,
              "#fde725"
             ]
            ],
            "type": "histogram2d"
           }
          ],
          "histogram2dcontour": [
           {
            "colorbar": {
             "outlinewidth": 1,
             "tickcolor": "rgb(36,36,36)",
             "ticks": "outside"
            },
            "colorscale": [
             [
              0,
              "#440154"
             ],
             [
              0.1111111111111111,
              "#482878"
             ],
             [
              0.2222222222222222,
              "#3e4989"
             ],
             [
              0.3333333333333333,
              "#31688e"
             ],
             [
              0.4444444444444444,
              "#26828e"
             ],
             [
              0.5555555555555556,
              "#1f9e89"
             ],
             [
              0.6666666666666666,
              "#35b779"
             ],
             [
              0.7777777777777778,
              "#6ece58"
             ],
             [
              0.8888888888888888,
              "#b5de2b"
             ],
             [
              1,
              "#fde725"
             ]
            ],
            "type": "histogram2dcontour"
           }
          ],
          "mesh3d": [
           {
            "colorbar": {
             "outlinewidth": 1,
             "tickcolor": "rgb(36,36,36)",
             "ticks": "outside"
            },
            "type": "mesh3d"
           }
          ],
          "parcoords": [
           {
            "line": {
             "colorbar": {
              "outlinewidth": 1,
              "tickcolor": "rgb(36,36,36)",
              "ticks": "outside"
             }
            },
            "type": "parcoords"
           }
          ],
          "pie": [
           {
            "automargin": true,
            "type": "pie"
           }
          ],
          "scatter": [
           {
            "fillpattern": {
             "fillmode": "overlay",
             "size": 10,
             "solidity": 0.2
            },
            "type": "scatter"
           }
          ],
          "scatter3d": [
           {
            "line": {
             "colorbar": {
              "outlinewidth": 1,
              "tickcolor": "rgb(36,36,36)",
              "ticks": "outside"
             }
            },
            "marker": {
             "colorbar": {
              "outlinewidth": 1,
              "tickcolor": "rgb(36,36,36)",
              "ticks": "outside"
             }
            },
            "type": "scatter3d"
           }
          ],
          "scattercarpet": [
           {
            "marker": {
             "colorbar": {
              "outlinewidth": 1,
              "tickcolor": "rgb(36,36,36)",
              "ticks": "outside"
             }
            },
            "type": "scattercarpet"
           }
          ],
          "scattergeo": [
           {
            "marker": {
             "colorbar": {
              "outlinewidth": 1,
              "tickcolor": "rgb(36,36,36)",
              "ticks": "outside"
             }
            },
            "type": "scattergeo"
           }
          ],
          "scattergl": [
           {
            "marker": {
             "colorbar": {
              "outlinewidth": 1,
              "tickcolor": "rgb(36,36,36)",
              "ticks": "outside"
             }
            },
            "type": "scattergl"
           }
          ],
          "scattermapbox": [
           {
            "marker": {
             "colorbar": {
              "outlinewidth": 1,
              "tickcolor": "rgb(36,36,36)",
              "ticks": "outside"
             }
            },
            "type": "scattermapbox"
           }
          ],
          "scatterpolar": [
           {
            "marker": {
             "colorbar": {
              "outlinewidth": 1,
              "tickcolor": "rgb(36,36,36)",
              "ticks": "outside"
             }
            },
            "type": "scatterpolar"
           }
          ],
          "scatterpolargl": [
           {
            "marker": {
             "colorbar": {
              "outlinewidth": 1,
              "tickcolor": "rgb(36,36,36)",
              "ticks": "outside"
             }
            },
            "type": "scatterpolargl"
           }
          ],
          "scatterternary": [
           {
            "marker": {
             "colorbar": {
              "outlinewidth": 1,
              "tickcolor": "rgb(36,36,36)",
              "ticks": "outside"
             }
            },
            "type": "scatterternary"
           }
          ],
          "surface": [
           {
            "colorbar": {
             "outlinewidth": 1,
             "tickcolor": "rgb(36,36,36)",
             "ticks": "outside"
            },
            "colorscale": [
             [
              0,
              "#440154"
             ],
             [
              0.1111111111111111,
              "#482878"
             ],
             [
              0.2222222222222222,
              "#3e4989"
             ],
             [
              0.3333333333333333,
              "#31688e"
             ],
             [
              0.4444444444444444,
              "#26828e"
             ],
             [
              0.5555555555555556,
              "#1f9e89"
             ],
             [
              0.6666666666666666,
              "#35b779"
             ],
             [
              0.7777777777777778,
              "#6ece58"
             ],
             [
              0.8888888888888888,
              "#b5de2b"
             ],
             [
              1,
              "#fde725"
             ]
            ],
            "type": "surface"
           }
          ],
          "table": [
           {
            "cells": {
             "fill": {
              "color": "rgb(237,237,237)"
             },
             "line": {
              "color": "white"
             }
            },
            "header": {
             "fill": {
              "color": "rgb(217,217,217)"
             },
             "line": {
              "color": "white"
             }
            },
            "type": "table"
           }
          ]
         },
         "layout": {
          "annotationdefaults": {
           "arrowhead": 0,
           "arrowwidth": 1
          },
          "autotypenumbers": "strict",
          "coloraxis": {
           "colorbar": {
            "outlinewidth": 1,
            "tickcolor": "rgb(36,36,36)",
            "ticks": "outside"
           }
          },
          "colorscale": {
           "diverging": [
            [
             0,
             "rgb(103,0,31)"
            ],
            [
             0.1,
             "rgb(178,24,43)"
            ],
            [
             0.2,
             "rgb(214,96,77)"
            ],
            [
             0.3,
             "rgb(244,165,130)"
            ],
            [
             0.4,
             "rgb(253,219,199)"
            ],
            [
             0.5,
             "rgb(247,247,247)"
            ],
            [
             0.6,
             "rgb(209,229,240)"
            ],
            [
             0.7,
             "rgb(146,197,222)"
            ],
            [
             0.8,
             "rgb(67,147,195)"
            ],
            [
             0.9,
             "rgb(33,102,172)"
            ],
            [
             1,
             "rgb(5,48,97)"
            ]
           ],
           "sequential": [
            [
             0,
             "#440154"
            ],
            [
             0.1111111111111111,
             "#482878"
            ],
            [
             0.2222222222222222,
             "#3e4989"
            ],
            [
             0.3333333333333333,
             "#31688e"
            ],
            [
             0.4444444444444444,
             "#26828e"
            ],
            [
             0.5555555555555556,
             "#1f9e89"
            ],
            [
             0.6666666666666666,
             "#35b779"
            ],
            [
             0.7777777777777778,
             "#6ece58"
            ],
            [
             0.8888888888888888,
             "#b5de2b"
            ],
            [
             1,
             "#fde725"
            ]
           ],
           "sequentialminus": [
            [
             0,
             "#440154"
            ],
            [
             0.1111111111111111,
             "#482878"
            ],
            [
             0.2222222222222222,
             "#3e4989"
            ],
            [
             0.3333333333333333,
             "#31688e"
            ],
            [
             0.4444444444444444,
             "#26828e"
            ],
            [
             0.5555555555555556,
             "#1f9e89"
            ],
            [
             0.6666666666666666,
             "#35b779"
            ],
            [
             0.7777777777777778,
             "#6ece58"
            ],
            [
             0.8888888888888888,
             "#b5de2b"
            ],
            [
             1,
             "#fde725"
            ]
           ]
          },
          "colorway": [
           "#1F77B4",
           "#FF7F0E",
           "#2CA02C",
           "#D62728",
           "#9467BD",
           "#8C564B",
           "#E377C2",
           "#7F7F7F",
           "#BCBD22",
           "#17BECF"
          ],
          "font": {
           "color": "rgb(36,36,36)"
          },
          "geo": {
           "bgcolor": "white",
           "lakecolor": "white",
           "landcolor": "white",
           "showlakes": true,
           "showland": true,
           "subunitcolor": "white"
          },
          "hoverlabel": {
           "align": "left"
          },
          "hovermode": "closest",
          "mapbox": {
           "style": "light"
          },
          "paper_bgcolor": "white",
          "plot_bgcolor": "white",
          "polar": {
           "angularaxis": {
            "gridcolor": "rgb(232,232,232)",
            "linecolor": "rgb(36,36,36)",
            "showgrid": false,
            "showline": true,
            "ticks": "outside"
           },
           "bgcolor": "white",
           "radialaxis": {
            "gridcolor": "rgb(232,232,232)",
            "linecolor": "rgb(36,36,36)",
            "showgrid": false,
            "showline": true,
            "ticks": "outside"
           }
          },
          "scene": {
           "xaxis": {
            "backgroundcolor": "white",
            "gridcolor": "rgb(232,232,232)",
            "gridwidth": 2,
            "linecolor": "rgb(36,36,36)",
            "showbackground": true,
            "showgrid": false,
            "showline": true,
            "ticks": "outside",
            "zeroline": false,
            "zerolinecolor": "rgb(36,36,36)"
           },
           "yaxis": {
            "backgroundcolor": "white",
            "gridcolor": "rgb(232,232,232)",
            "gridwidth": 2,
            "linecolor": "rgb(36,36,36)",
            "showbackground": true,
            "showgrid": false,
            "showline": true,
            "ticks": "outside",
            "zeroline": false,
            "zerolinecolor": "rgb(36,36,36)"
           },
           "zaxis": {
            "backgroundcolor": "white",
            "gridcolor": "rgb(232,232,232)",
            "gridwidth": 2,
            "linecolor": "rgb(36,36,36)",
            "showbackground": true,
            "showgrid": false,
            "showline": true,
            "ticks": "outside",
            "zeroline": false,
            "zerolinecolor": "rgb(36,36,36)"
           }
          },
          "shapedefaults": {
           "fillcolor": "black",
           "line": {
            "width": 0
           },
           "opacity": 0.3
          },
          "ternary": {
           "aaxis": {
            "gridcolor": "rgb(232,232,232)",
            "linecolor": "rgb(36,36,36)",
            "showgrid": false,
            "showline": true,
            "ticks": "outside"
           },
           "baxis": {
            "gridcolor": "rgb(232,232,232)",
            "linecolor": "rgb(36,36,36)",
            "showgrid": false,
            "showline": true,
            "ticks": "outside"
           },
           "bgcolor": "white",
           "caxis": {
            "gridcolor": "rgb(232,232,232)",
            "linecolor": "rgb(36,36,36)",
            "showgrid": false,
            "showline": true,
            "ticks": "outside"
           }
          },
          "title": {
           "x": 0.05
          },
          "xaxis": {
           "automargin": true,
           "gridcolor": "rgb(232,232,232)",
           "linecolor": "rgb(36,36,36)",
           "showgrid": false,
           "showline": true,
           "ticks": "outside",
           "title": {
            "standoff": 15
           },
           "zeroline": false,
           "zerolinecolor": "rgb(36,36,36)"
          },
          "yaxis": {
           "automargin": true,
           "gridcolor": "rgb(232,232,232)",
           "linecolor": "rgb(36,36,36)",
           "showgrid": false,
           "showline": true,
           "ticks": "outside",
           "title": {
            "standoff": 15
           },
           "zeroline": false,
           "zerolinecolor": "rgb(36,36,36)"
          }
         }
        },
        "title": {
         "text": "Actual vs. 'Out-of-Sample' Forecast | value"
        },
        "width": 1000,
        "xaxis": {
         "title": {
          "text": "Time"
         }
        },
        "yaxis": {
         "title": {
          "text": "Values"
         }
        }
       }
      }
     },
     "metadata": {},
     "output_type": "display_data"
    }
   ],
   "source": [
    "\n",
    "ets_dt = exp.create_model('naive')\n",
    "exp.plot_model(plot = 'decomp', \n",
    "               data_kwargs = {'type' : 'multiplicative'},\n",
    "               fig_kwargs = {\"height\":500,\"width\":1000,\"template\": \"simple_white\",\"hoverinfo\":\"none\",\"big_data_threshold\":10})\n",
    "exp.plot_model(estimator = ets_dt, \n",
    "               plot = 'forecast', \n",
    "               data_kwargs = {'fh' : 8},\n",
    "               fig_kwargs = {\"height\":500,\"width\":1000,\"template\": \"simple_white\",\"hoverinfo\":\"none\",\"big_data_threshold\":10})"
   ]
  },
  {
   "cell_type": "code",
   "execution_count": 22,
   "metadata": {},
   "outputs": [],
   "source": [
    "## LITER"
   ]
  },
  {
   "cell_type": "code",
   "execution_count": 23,
   "metadata": {},
   "outputs": [
    {
     "name": "stdout",
     "output_type": "stream",
     "text": [
      "        date  value    liter\n",
      "0 2017-12-31  190.2   301961\n",
      "1 2018-12-31  192.9   545110\n",
      "2 2019-12-31  194.8  1029190\n",
      "3 2020-12-31  197.3  1997490\n",
      "4 2021-12-31  200.8  2860097\n",
      "5 2022-12-31  204.7  3209840\n",
      "6 2023-12-31  208.2  4419242\n"
     ]
    }
   ],
   "source": [
    "#Agora vamos importar nosso arquivo \n",
    "df = pd.read_excel('db_mt.xlsx', sheet_name='Sheet1')\n",
    "print(df.head(10))"
   ]
  },
  {
   "cell_type": "code",
   "execution_count": 24,
   "metadata": {},
   "outputs": [],
   "source": [
    "df.drop(['value'], axis = 1,inplace=True)"
   ]
  },
  {
   "cell_type": "code",
   "execution_count": 25,
   "metadata": {},
   "outputs": [],
   "source": [
    "df.set_index('date',inplace=True)"
   ]
  },
  {
   "cell_type": "code",
   "execution_count": 26,
   "metadata": {},
   "outputs": [
    {
     "name": "stdout",
     "output_type": "stream",
     "text": [
      "              liter\n",
      "date               \n",
      "2017-12-31   301961\n",
      "2018-12-31   545110\n",
      "2019-12-31  1029190\n",
      "2020-12-31  1997490\n",
      "2021-12-31  2860097\n",
      "2022-12-31  3209840\n",
      "2023-12-31  4419242\n"
     ]
    }
   ],
   "source": [
    "df=df.sort_index(axis=0)\n",
    "print(df.head(10))"
   ]
  },
  {
   "cell_type": "code",
   "execution_count": 27,
   "metadata": {},
   "outputs": [
    {
     "data": {
      "text/html": [
       "<style type=\"text/css\">\n",
       "#T_4b00e_row28_col1 {\n",
       "  background-color: lightgreen;\n",
       "}\n",
       "</style>\n",
       "<table id=\"T_4b00e\">\n",
       "  <thead>\n",
       "    <tr>\n",
       "      <th class=\"blank level0\" >&nbsp;</th>\n",
       "      <th id=\"T_4b00e_level0_col0\" class=\"col_heading level0 col0\" >Description</th>\n",
       "      <th id=\"T_4b00e_level0_col1\" class=\"col_heading level0 col1\" >Value</th>\n",
       "    </tr>\n",
       "  </thead>\n",
       "  <tbody>\n",
       "    <tr>\n",
       "      <th id=\"T_4b00e_level0_row0\" class=\"row_heading level0 row0\" >0</th>\n",
       "      <td id=\"T_4b00e_row0_col0\" class=\"data row0 col0\" >session_id</td>\n",
       "      <td id=\"T_4b00e_row0_col1\" class=\"data row0 col1\" >15</td>\n",
       "    </tr>\n",
       "    <tr>\n",
       "      <th id=\"T_4b00e_level0_row1\" class=\"row_heading level0 row1\" >1</th>\n",
       "      <td id=\"T_4b00e_row1_col0\" class=\"data row1 col0\" >Target</td>\n",
       "      <td id=\"T_4b00e_row1_col1\" class=\"data row1 col1\" >liter</td>\n",
       "    </tr>\n",
       "    <tr>\n",
       "      <th id=\"T_4b00e_level0_row2\" class=\"row_heading level0 row2\" >2</th>\n",
       "      <td id=\"T_4b00e_row2_col0\" class=\"data row2 col0\" >Approach</td>\n",
       "      <td id=\"T_4b00e_row2_col1\" class=\"data row2 col1\" >Univariate</td>\n",
       "    </tr>\n",
       "    <tr>\n",
       "      <th id=\"T_4b00e_level0_row3\" class=\"row_heading level0 row3\" >3</th>\n",
       "      <td id=\"T_4b00e_row3_col0\" class=\"data row3 col0\" >Exogenous Variables</td>\n",
       "      <td id=\"T_4b00e_row3_col1\" class=\"data row3 col1\" >Not Present</td>\n",
       "    </tr>\n",
       "    <tr>\n",
       "      <th id=\"T_4b00e_level0_row4\" class=\"row_heading level0 row4\" >4</th>\n",
       "      <td id=\"T_4b00e_row4_col0\" class=\"data row4 col0\" >Original data shape</td>\n",
       "      <td id=\"T_4b00e_row4_col1\" class=\"data row4 col1\" >(7, 1)</td>\n",
       "    </tr>\n",
       "    <tr>\n",
       "      <th id=\"T_4b00e_level0_row5\" class=\"row_heading level0 row5\" >5</th>\n",
       "      <td id=\"T_4b00e_row5_col0\" class=\"data row5 col0\" >Transformed data shape</td>\n",
       "      <td id=\"T_4b00e_row5_col1\" class=\"data row5 col1\" >(7, 1)</td>\n",
       "    </tr>\n",
       "    <tr>\n",
       "      <th id=\"T_4b00e_level0_row6\" class=\"row_heading level0 row6\" >6</th>\n",
       "      <td id=\"T_4b00e_row6_col0\" class=\"data row6 col0\" >Transformed train set shape</td>\n",
       "      <td id=\"T_4b00e_row6_col1\" class=\"data row6 col1\" >(6, 1)</td>\n",
       "    </tr>\n",
       "    <tr>\n",
       "      <th id=\"T_4b00e_level0_row7\" class=\"row_heading level0 row7\" >7</th>\n",
       "      <td id=\"T_4b00e_row7_col0\" class=\"data row7 col0\" >Transformed test set shape</td>\n",
       "      <td id=\"T_4b00e_row7_col1\" class=\"data row7 col1\" >(1, 1)</td>\n",
       "    </tr>\n",
       "    <tr>\n",
       "      <th id=\"T_4b00e_level0_row8\" class=\"row_heading level0 row8\" >8</th>\n",
       "      <td id=\"T_4b00e_row8_col0\" class=\"data row8 col0\" >Rows with missing values</td>\n",
       "      <td id=\"T_4b00e_row8_col1\" class=\"data row8 col1\" >0.0%</td>\n",
       "    </tr>\n",
       "    <tr>\n",
       "      <th id=\"T_4b00e_level0_row9\" class=\"row_heading level0 row9\" >9</th>\n",
       "      <td id=\"T_4b00e_row9_col0\" class=\"data row9 col0\" >Fold Generator</td>\n",
       "      <td id=\"T_4b00e_row9_col1\" class=\"data row9 col1\" >ExpandingWindowSplitter</td>\n",
       "    </tr>\n",
       "    <tr>\n",
       "      <th id=\"T_4b00e_level0_row10\" class=\"row_heading level0 row10\" >10</th>\n",
       "      <td id=\"T_4b00e_row10_col0\" class=\"data row10 col0\" >Fold Number</td>\n",
       "      <td id=\"T_4b00e_row10_col1\" class=\"data row10 col1\" >3</td>\n",
       "    </tr>\n",
       "    <tr>\n",
       "      <th id=\"T_4b00e_level0_row11\" class=\"row_heading level0 row11\" >11</th>\n",
       "      <td id=\"T_4b00e_row11_col0\" class=\"data row11 col0\" >Enforce Prediction Interval</td>\n",
       "      <td id=\"T_4b00e_row11_col1\" class=\"data row11 col1\" >False</td>\n",
       "    </tr>\n",
       "    <tr>\n",
       "      <th id=\"T_4b00e_level0_row12\" class=\"row_heading level0 row12\" >12</th>\n",
       "      <td id=\"T_4b00e_row12_col0\" class=\"data row12 col0\" >Splits used for hyperparameters</td>\n",
       "      <td id=\"T_4b00e_row12_col1\" class=\"data row12 col1\" >all</td>\n",
       "    </tr>\n",
       "    <tr>\n",
       "      <th id=\"T_4b00e_level0_row13\" class=\"row_heading level0 row13\" >13</th>\n",
       "      <td id=\"T_4b00e_row13_col0\" class=\"data row13 col0\" >User Defined Seasonal Period(s)</td>\n",
       "      <td id=\"T_4b00e_row13_col1\" class=\"data row13 col1\" >None</td>\n",
       "    </tr>\n",
       "    <tr>\n",
       "      <th id=\"T_4b00e_level0_row14\" class=\"row_heading level0 row14\" >14</th>\n",
       "      <td id=\"T_4b00e_row14_col0\" class=\"data row14 col0\" >Ignore Seasonality Test</td>\n",
       "      <td id=\"T_4b00e_row14_col1\" class=\"data row14 col1\" >False</td>\n",
       "    </tr>\n",
       "    <tr>\n",
       "      <th id=\"T_4b00e_level0_row15\" class=\"row_heading level0 row15\" >15</th>\n",
       "      <td id=\"T_4b00e_row15_col0\" class=\"data row15 col0\" >Seasonality Detection Algo</td>\n",
       "      <td id=\"T_4b00e_row15_col1\" class=\"data row15 col1\" >auto</td>\n",
       "    </tr>\n",
       "    <tr>\n",
       "      <th id=\"T_4b00e_level0_row16\" class=\"row_heading level0 row16\" >16</th>\n",
       "      <td id=\"T_4b00e_row16_col0\" class=\"data row16 col0\" >Max Period to Consider</td>\n",
       "      <td id=\"T_4b00e_row16_col1\" class=\"data row16 col1\" >60</td>\n",
       "    </tr>\n",
       "    <tr>\n",
       "      <th id=\"T_4b00e_level0_row17\" class=\"row_heading level0 row17\" >17</th>\n",
       "      <td id=\"T_4b00e_row17_col0\" class=\"data row17 col0\" >Seasonal Period(s) Tested</td>\n",
       "      <td id=\"T_4b00e_row17_col1\" class=\"data row17 col1\" >[]</td>\n",
       "    </tr>\n",
       "    <tr>\n",
       "      <th id=\"T_4b00e_level0_row18\" class=\"row_heading level0 row18\" >18</th>\n",
       "      <td id=\"T_4b00e_row18_col0\" class=\"data row18 col0\" >Significant Seasonal Period(s)</td>\n",
       "      <td id=\"T_4b00e_row18_col1\" class=\"data row18 col1\" >[1]</td>\n",
       "    </tr>\n",
       "    <tr>\n",
       "      <th id=\"T_4b00e_level0_row19\" class=\"row_heading level0 row19\" >19</th>\n",
       "      <td id=\"T_4b00e_row19_col0\" class=\"data row19 col0\" >Significant Seasonal Period(s) without Harmonics</td>\n",
       "      <td id=\"T_4b00e_row19_col1\" class=\"data row19 col1\" >[1]</td>\n",
       "    </tr>\n",
       "    <tr>\n",
       "      <th id=\"T_4b00e_level0_row20\" class=\"row_heading level0 row20\" >20</th>\n",
       "      <td id=\"T_4b00e_row20_col0\" class=\"data row20 col0\" >Remove Harmonics</td>\n",
       "      <td id=\"T_4b00e_row20_col1\" class=\"data row20 col1\" >False</td>\n",
       "    </tr>\n",
       "    <tr>\n",
       "      <th id=\"T_4b00e_level0_row21\" class=\"row_heading level0 row21\" >21</th>\n",
       "      <td id=\"T_4b00e_row21_col0\" class=\"data row21 col0\" >Harmonics Order Method</td>\n",
       "      <td id=\"T_4b00e_row21_col1\" class=\"data row21 col1\" >harmonic_max</td>\n",
       "    </tr>\n",
       "    <tr>\n",
       "      <th id=\"T_4b00e_level0_row22\" class=\"row_heading level0 row22\" >22</th>\n",
       "      <td id=\"T_4b00e_row22_col0\" class=\"data row22 col0\" >Num Seasonalities to Use</td>\n",
       "      <td id=\"T_4b00e_row22_col1\" class=\"data row22 col1\" >1</td>\n",
       "    </tr>\n",
       "    <tr>\n",
       "      <th id=\"T_4b00e_level0_row23\" class=\"row_heading level0 row23\" >23</th>\n",
       "      <td id=\"T_4b00e_row23_col0\" class=\"data row23 col0\" >All Seasonalities to Use</td>\n",
       "      <td id=\"T_4b00e_row23_col1\" class=\"data row23 col1\" >[1]</td>\n",
       "    </tr>\n",
       "    <tr>\n",
       "      <th id=\"T_4b00e_level0_row24\" class=\"row_heading level0 row24\" >24</th>\n",
       "      <td id=\"T_4b00e_row24_col0\" class=\"data row24 col0\" >Primary Seasonality</td>\n",
       "      <td id=\"T_4b00e_row24_col1\" class=\"data row24 col1\" >1</td>\n",
       "    </tr>\n",
       "    <tr>\n",
       "      <th id=\"T_4b00e_level0_row25\" class=\"row_heading level0 row25\" >25</th>\n",
       "      <td id=\"T_4b00e_row25_col0\" class=\"data row25 col0\" >Seasonality Present</td>\n",
       "      <td id=\"T_4b00e_row25_col1\" class=\"data row25 col1\" >False</td>\n",
       "    </tr>\n",
       "    <tr>\n",
       "      <th id=\"T_4b00e_level0_row26\" class=\"row_heading level0 row26\" >26</th>\n",
       "      <td id=\"T_4b00e_row26_col0\" class=\"data row26 col0\" >Seasonality Type</td>\n",
       "      <td id=\"T_4b00e_row26_col1\" class=\"data row26 col1\" >None</td>\n",
       "    </tr>\n",
       "    <tr>\n",
       "      <th id=\"T_4b00e_level0_row27\" class=\"row_heading level0 row27\" >27</th>\n",
       "      <td id=\"T_4b00e_row27_col0\" class=\"data row27 col0\" >Target Strictly Positive</td>\n",
       "      <td id=\"T_4b00e_row27_col1\" class=\"data row27 col1\" >True</td>\n",
       "    </tr>\n",
       "    <tr>\n",
       "      <th id=\"T_4b00e_level0_row28\" class=\"row_heading level0 row28\" >28</th>\n",
       "      <td id=\"T_4b00e_row28_col0\" class=\"data row28 col0\" >Target White Noise</td>\n",
       "      <td id=\"T_4b00e_row28_col1\" class=\"data row28 col1\" >Yes</td>\n",
       "    </tr>\n",
       "    <tr>\n",
       "      <th id=\"T_4b00e_level0_row29\" class=\"row_heading level0 row29\" >29</th>\n",
       "      <td id=\"T_4b00e_row29_col0\" class=\"data row29 col0\" >Recommended d</td>\n",
       "      <td id=\"T_4b00e_row29_col1\" class=\"data row29 col1\" >0</td>\n",
       "    </tr>\n",
       "    <tr>\n",
       "      <th id=\"T_4b00e_level0_row30\" class=\"row_heading level0 row30\" >30</th>\n",
       "      <td id=\"T_4b00e_row30_col0\" class=\"data row30 col0\" >Recommended Seasonal D</td>\n",
       "      <td id=\"T_4b00e_row30_col1\" class=\"data row30 col1\" >0</td>\n",
       "    </tr>\n",
       "    <tr>\n",
       "      <th id=\"T_4b00e_level0_row31\" class=\"row_heading level0 row31\" >31</th>\n",
       "      <td id=\"T_4b00e_row31_col0\" class=\"data row31 col0\" >Preprocess</td>\n",
       "      <td id=\"T_4b00e_row31_col1\" class=\"data row31 col1\" >False</td>\n",
       "    </tr>\n",
       "    <tr>\n",
       "      <th id=\"T_4b00e_level0_row32\" class=\"row_heading level0 row32\" >32</th>\n",
       "      <td id=\"T_4b00e_row32_col0\" class=\"data row32 col0\" >CPU Jobs</td>\n",
       "      <td id=\"T_4b00e_row32_col1\" class=\"data row32 col1\" >-1</td>\n",
       "    </tr>\n",
       "    <tr>\n",
       "      <th id=\"T_4b00e_level0_row33\" class=\"row_heading level0 row33\" >33</th>\n",
       "      <td id=\"T_4b00e_row33_col0\" class=\"data row33 col0\" >Use GPU</td>\n",
       "      <td id=\"T_4b00e_row33_col1\" class=\"data row33 col1\" >False</td>\n",
       "    </tr>\n",
       "    <tr>\n",
       "      <th id=\"T_4b00e_level0_row34\" class=\"row_heading level0 row34\" >34</th>\n",
       "      <td id=\"T_4b00e_row34_col0\" class=\"data row34 col0\" >Log Experiment</td>\n",
       "      <td id=\"T_4b00e_row34_col1\" class=\"data row34 col1\" >False</td>\n",
       "    </tr>\n",
       "    <tr>\n",
       "      <th id=\"T_4b00e_level0_row35\" class=\"row_heading level0 row35\" >35</th>\n",
       "      <td id=\"T_4b00e_row35_col0\" class=\"data row35 col0\" >Experiment Name</td>\n",
       "      <td id=\"T_4b00e_row35_col1\" class=\"data row35 col1\" >ts-default-name</td>\n",
       "    </tr>\n",
       "    <tr>\n",
       "      <th id=\"T_4b00e_level0_row36\" class=\"row_heading level0 row36\" >36</th>\n",
       "      <td id=\"T_4b00e_row36_col0\" class=\"data row36 col0\" >USI</td>\n",
       "      <td id=\"T_4b00e_row36_col1\" class=\"data row36 col1\" >6c8d</td>\n",
       "    </tr>\n",
       "  </tbody>\n",
       "</table>\n"
      ],
      "text/plain": [
       "<pandas.io.formats.style.Styler at 0x189ad971f90>"
      ]
     },
     "metadata": {},
     "output_type": "display_data"
    },
    {
     "data": {
      "text/plain": [
       "<pycaret.time_series.forecasting.oop.TSForecastingExperiment at 0x189a94be1d0>"
      ]
     },
     "execution_count": 27,
     "metadata": {},
     "output_type": "execute_result"
    }
   ],
   "source": [
    "exp = TSForecastingExperiment()\n",
    "exp.setup(data=df, fh=1, session_id=15, fig_kwargs = {\"template\": \"simple_white\",\"hoverinfo\":\"none\"})"
   ]
  },
  {
   "cell_type": "code",
   "execution_count": 28,
   "metadata": {},
   "outputs": [
    {
     "data": {
      "application/vnd.plotly.v1+json": {
       "config": {
        "plotlyServerURL": "https://plot.ly"
       },
       "data": [
        {
         "hoverinfo": "none",
         "line": {
          "width": 2
         },
         "marker": {
          "size": 5
         },
         "mode": "lines+markers",
         "name": "liter (original)",
         "type": "scattergl",
         "x": [
          "2017-01-01T00:00:00",
          "2018-01-01T00:00:00",
          "2019-01-01T00:00:00",
          "2020-01-01T00:00:00",
          "2021-01-01T00:00:00",
          "2022-01-01T00:00:00",
          "2023-01-01T00:00:00"
         ],
         "xaxis": "x",
         "y": [
          301961,
          545110,
          1029190,
          1997490,
          2860097,
          3209840,
          4419242
         ],
         "yaxis": "y"
        }
       ],
       "layout": {
        "annotations": [
         {
          "font": {
           "size": 16
          },
          "showarrow": false,
          "text": "liter",
          "x": 0.5,
          "xanchor": "center",
          "xref": "paper",
          "y": 1,
          "yanchor": "bottom",
          "yref": "paper"
         }
        ],
        "autosize": false,
        "height": 500,
        "showlegend": true,
        "template": {
         "data": {
          "bar": [
           {
            "error_x": {
             "color": "rgb(36,36,36)"
            },
            "error_y": {
             "color": "rgb(36,36,36)"
            },
            "marker": {
             "line": {
              "color": "white",
              "width": 0.5
             },
             "pattern": {
              "fillmode": "overlay",
              "size": 10,
              "solidity": 0.2
             }
            },
            "type": "bar"
           }
          ],
          "barpolar": [
           {
            "marker": {
             "line": {
              "color": "white",
              "width": 0.5
             },
             "pattern": {
              "fillmode": "overlay",
              "size": 10,
              "solidity": 0.2
             }
            },
            "type": "barpolar"
           }
          ],
          "carpet": [
           {
            "aaxis": {
             "endlinecolor": "rgb(36,36,36)",
             "gridcolor": "white",
             "linecolor": "white",
             "minorgridcolor": "white",
             "startlinecolor": "rgb(36,36,36)"
            },
            "baxis": {
             "endlinecolor": "rgb(36,36,36)",
             "gridcolor": "white",
             "linecolor": "white",
             "minorgridcolor": "white",
             "startlinecolor": "rgb(36,36,36)"
            },
            "type": "carpet"
           }
          ],
          "choropleth": [
           {
            "colorbar": {
             "outlinewidth": 1,
             "tickcolor": "rgb(36,36,36)",
             "ticks": "outside"
            },
            "type": "choropleth"
           }
          ],
          "contour": [
           {
            "colorbar": {
             "outlinewidth": 1,
             "tickcolor": "rgb(36,36,36)",
             "ticks": "outside"
            },
            "colorscale": [
             [
              0,
              "#440154"
             ],
             [
              0.1111111111111111,
              "#482878"
             ],
             [
              0.2222222222222222,
              "#3e4989"
             ],
             [
              0.3333333333333333,
              "#31688e"
             ],
             [
              0.4444444444444444,
              "#26828e"
             ],
             [
              0.5555555555555556,
              "#1f9e89"
             ],
             [
              0.6666666666666666,
              "#35b779"
             ],
             [
              0.7777777777777778,
              "#6ece58"
             ],
             [
              0.8888888888888888,
              "#b5de2b"
             ],
             [
              1,
              "#fde725"
             ]
            ],
            "type": "contour"
           }
          ],
          "contourcarpet": [
           {
            "colorbar": {
             "outlinewidth": 1,
             "tickcolor": "rgb(36,36,36)",
             "ticks": "outside"
            },
            "type": "contourcarpet"
           }
          ],
          "heatmap": [
           {
            "colorbar": {
             "outlinewidth": 1,
             "tickcolor": "rgb(36,36,36)",
             "ticks": "outside"
            },
            "colorscale": [
             [
              0,
              "#440154"
             ],
             [
              0.1111111111111111,
              "#482878"
             ],
             [
              0.2222222222222222,
              "#3e4989"
             ],
             [
              0.3333333333333333,
              "#31688e"
             ],
             [
              0.4444444444444444,
              "#26828e"
             ],
             [
              0.5555555555555556,
              "#1f9e89"
             ],
             [
              0.6666666666666666,
              "#35b779"
             ],
             [
              0.7777777777777778,
              "#6ece58"
             ],
             [
              0.8888888888888888,
              "#b5de2b"
             ],
             [
              1,
              "#fde725"
             ]
            ],
            "type": "heatmap"
           }
          ],
          "heatmapgl": [
           {
            "colorbar": {
             "outlinewidth": 1,
             "tickcolor": "rgb(36,36,36)",
             "ticks": "outside"
            },
            "colorscale": [
             [
              0,
              "#440154"
             ],
             [
              0.1111111111111111,
              "#482878"
             ],
             [
              0.2222222222222222,
              "#3e4989"
             ],
             [
              0.3333333333333333,
              "#31688e"
             ],
             [
              0.4444444444444444,
              "#26828e"
             ],
             [
              0.5555555555555556,
              "#1f9e89"
             ],
             [
              0.6666666666666666,
              "#35b779"
             ],
             [
              0.7777777777777778,
              "#6ece58"
             ],
             [
              0.8888888888888888,
              "#b5de2b"
             ],
             [
              1,
              "#fde725"
             ]
            ],
            "type": "heatmapgl"
           }
          ],
          "histogram": [
           {
            "marker": {
             "line": {
              "color": "white",
              "width": 0.6
             }
            },
            "type": "histogram"
           }
          ],
          "histogram2d": [
           {
            "colorbar": {
             "outlinewidth": 1,
             "tickcolor": "rgb(36,36,36)",
             "ticks": "outside"
            },
            "colorscale": [
             [
              0,
              "#440154"
             ],
             [
              0.1111111111111111,
              "#482878"
             ],
             [
              0.2222222222222222,
              "#3e4989"
             ],
             [
              0.3333333333333333,
              "#31688e"
             ],
             [
              0.4444444444444444,
              "#26828e"
             ],
             [
              0.5555555555555556,
              "#1f9e89"
             ],
             [
              0.6666666666666666,
              "#35b779"
             ],
             [
              0.7777777777777778,
              "#6ece58"
             ],
             [
              0.8888888888888888,
              "#b5de2b"
             ],
             [
              1,
              "#fde725"
             ]
            ],
            "type": "histogram2d"
           }
          ],
          "histogram2dcontour": [
           {
            "colorbar": {
             "outlinewidth": 1,
             "tickcolor": "rgb(36,36,36)",
             "ticks": "outside"
            },
            "colorscale": [
             [
              0,
              "#440154"
             ],
             [
              0.1111111111111111,
              "#482878"
             ],
             [
              0.2222222222222222,
              "#3e4989"
             ],
             [
              0.3333333333333333,
              "#31688e"
             ],
             [
              0.4444444444444444,
              "#26828e"
             ],
             [
              0.5555555555555556,
              "#1f9e89"
             ],
             [
              0.6666666666666666,
              "#35b779"
             ],
             [
              0.7777777777777778,
              "#6ece58"
             ],
             [
              0.8888888888888888,
              "#b5de2b"
             ],
             [
              1,
              "#fde725"
             ]
            ],
            "type": "histogram2dcontour"
           }
          ],
          "mesh3d": [
           {
            "colorbar": {
             "outlinewidth": 1,
             "tickcolor": "rgb(36,36,36)",
             "ticks": "outside"
            },
            "type": "mesh3d"
           }
          ],
          "parcoords": [
           {
            "line": {
             "colorbar": {
              "outlinewidth": 1,
              "tickcolor": "rgb(36,36,36)",
              "ticks": "outside"
             }
            },
            "type": "parcoords"
           }
          ],
          "pie": [
           {
            "automargin": true,
            "type": "pie"
           }
          ],
          "scatter": [
           {
            "fillpattern": {
             "fillmode": "overlay",
             "size": 10,
             "solidity": 0.2
            },
            "type": "scatter"
           }
          ],
          "scatter3d": [
           {
            "line": {
             "colorbar": {
              "outlinewidth": 1,
              "tickcolor": "rgb(36,36,36)",
              "ticks": "outside"
             }
            },
            "marker": {
             "colorbar": {
              "outlinewidth": 1,
              "tickcolor": "rgb(36,36,36)",
              "ticks": "outside"
             }
            },
            "type": "scatter3d"
           }
          ],
          "scattercarpet": [
           {
            "marker": {
             "colorbar": {
              "outlinewidth": 1,
              "tickcolor": "rgb(36,36,36)",
              "ticks": "outside"
             }
            },
            "type": "scattercarpet"
           }
          ],
          "scattergeo": [
           {
            "marker": {
             "colorbar": {
              "outlinewidth": 1,
              "tickcolor": "rgb(36,36,36)",
              "ticks": "outside"
             }
            },
            "type": "scattergeo"
           }
          ],
          "scattergl": [
           {
            "marker": {
             "colorbar": {
              "outlinewidth": 1,
              "tickcolor": "rgb(36,36,36)",
              "ticks": "outside"
             }
            },
            "type": "scattergl"
           }
          ],
          "scattermapbox": [
           {
            "marker": {
             "colorbar": {
              "outlinewidth": 1,
              "tickcolor": "rgb(36,36,36)",
              "ticks": "outside"
             }
            },
            "type": "scattermapbox"
           }
          ],
          "scatterpolar": [
           {
            "marker": {
             "colorbar": {
              "outlinewidth": 1,
              "tickcolor": "rgb(36,36,36)",
              "ticks": "outside"
             }
            },
            "type": "scatterpolar"
           }
          ],
          "scatterpolargl": [
           {
            "marker": {
             "colorbar": {
              "outlinewidth": 1,
              "tickcolor": "rgb(36,36,36)",
              "ticks": "outside"
             }
            },
            "type": "scatterpolargl"
           }
          ],
          "scatterternary": [
           {
            "marker": {
             "colorbar": {
              "outlinewidth": 1,
              "tickcolor": "rgb(36,36,36)",
              "ticks": "outside"
             }
            },
            "type": "scatterternary"
           }
          ],
          "surface": [
           {
            "colorbar": {
             "outlinewidth": 1,
             "tickcolor": "rgb(36,36,36)",
             "ticks": "outside"
            },
            "colorscale": [
             [
              0,
              "#440154"
             ],
             [
              0.1111111111111111,
              "#482878"
             ],
             [
              0.2222222222222222,
              "#3e4989"
             ],
             [
              0.3333333333333333,
              "#31688e"
             ],
             [
              0.4444444444444444,
              "#26828e"
             ],
             [
              0.5555555555555556,
              "#1f9e89"
             ],
             [
              0.6666666666666666,
              "#35b779"
             ],
             [
              0.7777777777777778,
              "#6ece58"
             ],
             [
              0.8888888888888888,
              "#b5de2b"
             ],
             [
              1,
              "#fde725"
             ]
            ],
            "type": "surface"
           }
          ],
          "table": [
           {
            "cells": {
             "fill": {
              "color": "rgb(237,237,237)"
             },
             "line": {
              "color": "white"
             }
            },
            "header": {
             "fill": {
              "color": "rgb(217,217,217)"
             },
             "line": {
              "color": "white"
             }
            },
            "type": "table"
           }
          ]
         },
         "layout": {
          "annotationdefaults": {
           "arrowhead": 0,
           "arrowwidth": 1
          },
          "autotypenumbers": "strict",
          "coloraxis": {
           "colorbar": {
            "outlinewidth": 1,
            "tickcolor": "rgb(36,36,36)",
            "ticks": "outside"
           }
          },
          "colorscale": {
           "diverging": [
            [
             0,
             "rgb(103,0,31)"
            ],
            [
             0.1,
             "rgb(178,24,43)"
            ],
            [
             0.2,
             "rgb(214,96,77)"
            ],
            [
             0.3,
             "rgb(244,165,130)"
            ],
            [
             0.4,
             "rgb(253,219,199)"
            ],
            [
             0.5,
             "rgb(247,247,247)"
            ],
            [
             0.6,
             "rgb(209,229,240)"
            ],
            [
             0.7,
             "rgb(146,197,222)"
            ],
            [
             0.8,
             "rgb(67,147,195)"
            ],
            [
             0.9,
             "rgb(33,102,172)"
            ],
            [
             1,
             "rgb(5,48,97)"
            ]
           ],
           "sequential": [
            [
             0,
             "#440154"
            ],
            [
             0.1111111111111111,
             "#482878"
            ],
            [
             0.2222222222222222,
             "#3e4989"
            ],
            [
             0.3333333333333333,
             "#31688e"
            ],
            [
             0.4444444444444444,
             "#26828e"
            ],
            [
             0.5555555555555556,
             "#1f9e89"
            ],
            [
             0.6666666666666666,
             "#35b779"
            ],
            [
             0.7777777777777778,
             "#6ece58"
            ],
            [
             0.8888888888888888,
             "#b5de2b"
            ],
            [
             1,
             "#fde725"
            ]
           ],
           "sequentialminus": [
            [
             0,
             "#440154"
            ],
            [
             0.1111111111111111,
             "#482878"
            ],
            [
             0.2222222222222222,
             "#3e4989"
            ],
            [
             0.3333333333333333,
             "#31688e"
            ],
            [
             0.4444444444444444,
             "#26828e"
            ],
            [
             0.5555555555555556,
             "#1f9e89"
            ],
            [
             0.6666666666666666,
             "#35b779"
            ],
            [
             0.7777777777777778,
             "#6ece58"
            ],
            [
             0.8888888888888888,
             "#b5de2b"
            ],
            [
             1,
             "#fde725"
            ]
           ]
          },
          "colorway": [
           "#1F77B4",
           "#FF7F0E",
           "#2CA02C",
           "#D62728",
           "#9467BD",
           "#8C564B",
           "#E377C2",
           "#7F7F7F",
           "#BCBD22",
           "#17BECF"
          ],
          "font": {
           "color": "rgb(36,36,36)"
          },
          "geo": {
           "bgcolor": "white",
           "lakecolor": "white",
           "landcolor": "white",
           "showlakes": true,
           "showland": true,
           "subunitcolor": "white"
          },
          "hoverlabel": {
           "align": "left"
          },
          "hovermode": "closest",
          "mapbox": {
           "style": "light"
          },
          "paper_bgcolor": "white",
          "plot_bgcolor": "white",
          "polar": {
           "angularaxis": {
            "gridcolor": "rgb(232,232,232)",
            "linecolor": "rgb(36,36,36)",
            "showgrid": false,
            "showline": true,
            "ticks": "outside"
           },
           "bgcolor": "white",
           "radialaxis": {
            "gridcolor": "rgb(232,232,232)",
            "linecolor": "rgb(36,36,36)",
            "showgrid": false,
            "showline": true,
            "ticks": "outside"
           }
          },
          "scene": {
           "xaxis": {
            "backgroundcolor": "white",
            "gridcolor": "rgb(232,232,232)",
            "gridwidth": 2,
            "linecolor": "rgb(36,36,36)",
            "showbackground": true,
            "showgrid": false,
            "showline": true,
            "ticks": "outside",
            "zeroline": false,
            "zerolinecolor": "rgb(36,36,36)"
           },
           "yaxis": {
            "backgroundcolor": "white",
            "gridcolor": "rgb(232,232,232)",
            "gridwidth": 2,
            "linecolor": "rgb(36,36,36)",
            "showbackground": true,
            "showgrid": false,
            "showline": true,
            "ticks": "outside",
            "zeroline": false,
            "zerolinecolor": "rgb(36,36,36)"
           },
           "zaxis": {
            "backgroundcolor": "white",
            "gridcolor": "rgb(232,232,232)",
            "gridwidth": 2,
            "linecolor": "rgb(36,36,36)",
            "showbackground": true,
            "showgrid": false,
            "showline": true,
            "ticks": "outside",
            "zeroline": false,
            "zerolinecolor": "rgb(36,36,36)"
           }
          },
          "shapedefaults": {
           "fillcolor": "black",
           "line": {
            "width": 0
           },
           "opacity": 0.3
          },
          "ternary": {
           "aaxis": {
            "gridcolor": "rgb(232,232,232)",
            "linecolor": "rgb(36,36,36)",
            "showgrid": false,
            "showline": true,
            "ticks": "outside"
           },
           "baxis": {
            "gridcolor": "rgb(232,232,232)",
            "linecolor": "rgb(36,36,36)",
            "showgrid": false,
            "showline": true,
            "ticks": "outside"
           },
           "bgcolor": "white",
           "caxis": {
            "gridcolor": "rgb(232,232,232)",
            "linecolor": "rgb(36,36,36)",
            "showgrid": false,
            "showline": true,
            "ticks": "outside"
           }
          },
          "title": {
           "x": 0.05
          },
          "xaxis": {
           "automargin": true,
           "gridcolor": "rgb(232,232,232)",
           "linecolor": "rgb(36,36,36)",
           "showgrid": false,
           "showline": true,
           "ticks": "outside",
           "title": {
            "standoff": 15
           },
           "zeroline": false,
           "zerolinecolor": "rgb(36,36,36)"
          },
          "yaxis": {
           "automargin": true,
           "gridcolor": "rgb(232,232,232)",
           "linecolor": "rgb(36,36,36)",
           "showgrid": false,
           "showline": true,
           "ticks": "outside",
           "title": {
            "standoff": 15
           },
           "zeroline": false,
           "zerolinecolor": "rgb(36,36,36)"
          }
         }
        },
        "title": {
         "text": "Time Series | Target = liter"
        },
        "width": 1000,
        "xaxis": {
         "anchor": "y",
         "domain": [
          0,
          1
         ]
        },
        "yaxis": {
         "anchor": "x",
         "domain": [
          0,
          1
         ]
        }
       }
      }
     },
     "metadata": {},
     "output_type": "display_data"
    }
   ],
   "source": [
    "exp.plot_model(plot=\"ts\",fig_kwargs = {\"height\":500,\"width\":1000,\"template\": \"simple_white\",\"hoverinfo\":\"none\",\"big_data_threshold\":10})"
   ]
  },
  {
   "cell_type": "code",
   "execution_count": 29,
   "metadata": {},
   "outputs": [
    {
     "data": {
      "application/vnd.plotly.v1+json": {
       "config": {
        "plotlyServerURL": "https://plot.ly"
       },
       "data": [
        {
         "hoverinfo": "none",
         "line": {
          "width": 2
         },
         "marker": {
          "size": 5
         },
         "mode": "lines+markers",
         "name": "Train (original)",
         "type": "scattergl",
         "x": [
          "2017-01-01T00:00:00",
          "2018-01-01T00:00:00",
          "2019-01-01T00:00:00",
          "2020-01-01T00:00:00",
          "2021-01-01T00:00:00",
          "2022-01-01T00:00:00",
          "2023-01-01T00:00:00"
         ],
         "xaxis": "x",
         "y": [
          301961,
          545110,
          1029190,
          1997490,
          2860097,
          3209840,
          null
         ],
         "yaxis": "y"
        },
        {
         "hoverinfo": "none",
         "line": {
          "width": 2
         },
         "marker": {
          "size": 5
         },
         "mode": "lines+markers",
         "name": "Test (original)",
         "type": "scattergl",
         "x": [
          "2017-01-01T00:00:00",
          "2018-01-01T00:00:00",
          "2019-01-01T00:00:00",
          "2020-01-01T00:00:00",
          "2021-01-01T00:00:00",
          "2022-01-01T00:00:00",
          "2023-01-01T00:00:00"
         ],
         "xaxis": "x",
         "y": [
          null,
          null,
          null,
          null,
          null,
          null,
          4419242
         ],
         "yaxis": "y"
        }
       ],
       "layout": {
        "annotations": [
         {
          "font": {
           "size": 16
          },
          "showarrow": false,
          "text": "liter",
          "x": 0.5,
          "xanchor": "center",
          "xref": "paper",
          "y": 1,
          "yanchor": "bottom",
          "yref": "paper"
         }
        ],
        "autosize": false,
        "height": 500,
        "showlegend": true,
        "template": {
         "data": {
          "bar": [
           {
            "error_x": {
             "color": "rgb(36,36,36)"
            },
            "error_y": {
             "color": "rgb(36,36,36)"
            },
            "marker": {
             "line": {
              "color": "white",
              "width": 0.5
             },
             "pattern": {
              "fillmode": "overlay",
              "size": 10,
              "solidity": 0.2
             }
            },
            "type": "bar"
           }
          ],
          "barpolar": [
           {
            "marker": {
             "line": {
              "color": "white",
              "width": 0.5
             },
             "pattern": {
              "fillmode": "overlay",
              "size": 10,
              "solidity": 0.2
             }
            },
            "type": "barpolar"
           }
          ],
          "carpet": [
           {
            "aaxis": {
             "endlinecolor": "rgb(36,36,36)",
             "gridcolor": "white",
             "linecolor": "white",
             "minorgridcolor": "white",
             "startlinecolor": "rgb(36,36,36)"
            },
            "baxis": {
             "endlinecolor": "rgb(36,36,36)",
             "gridcolor": "white",
             "linecolor": "white",
             "minorgridcolor": "white",
             "startlinecolor": "rgb(36,36,36)"
            },
            "type": "carpet"
           }
          ],
          "choropleth": [
           {
            "colorbar": {
             "outlinewidth": 1,
             "tickcolor": "rgb(36,36,36)",
             "ticks": "outside"
            },
            "type": "choropleth"
           }
          ],
          "contour": [
           {
            "colorbar": {
             "outlinewidth": 1,
             "tickcolor": "rgb(36,36,36)",
             "ticks": "outside"
            },
            "colorscale": [
             [
              0,
              "#440154"
             ],
             [
              0.1111111111111111,
              "#482878"
             ],
             [
              0.2222222222222222,
              "#3e4989"
             ],
             [
              0.3333333333333333,
              "#31688e"
             ],
             [
              0.4444444444444444,
              "#26828e"
             ],
             [
              0.5555555555555556,
              "#1f9e89"
             ],
             [
              0.6666666666666666,
              "#35b779"
             ],
             [
              0.7777777777777778,
              "#6ece58"
             ],
             [
              0.8888888888888888,
              "#b5de2b"
             ],
             [
              1,
              "#fde725"
             ]
            ],
            "type": "contour"
           }
          ],
          "contourcarpet": [
           {
            "colorbar": {
             "outlinewidth": 1,
             "tickcolor": "rgb(36,36,36)",
             "ticks": "outside"
            },
            "type": "contourcarpet"
           }
          ],
          "heatmap": [
           {
            "colorbar": {
             "outlinewidth": 1,
             "tickcolor": "rgb(36,36,36)",
             "ticks": "outside"
            },
            "colorscale": [
             [
              0,
              "#440154"
             ],
             [
              0.1111111111111111,
              "#482878"
             ],
             [
              0.2222222222222222,
              "#3e4989"
             ],
             [
              0.3333333333333333,
              "#31688e"
             ],
             [
              0.4444444444444444,
              "#26828e"
             ],
             [
              0.5555555555555556,
              "#1f9e89"
             ],
             [
              0.6666666666666666,
              "#35b779"
             ],
             [
              0.7777777777777778,
              "#6ece58"
             ],
             [
              0.8888888888888888,
              "#b5de2b"
             ],
             [
              1,
              "#fde725"
             ]
            ],
            "type": "heatmap"
           }
          ],
          "heatmapgl": [
           {
            "colorbar": {
             "outlinewidth": 1,
             "tickcolor": "rgb(36,36,36)",
             "ticks": "outside"
            },
            "colorscale": [
             [
              0,
              "#440154"
             ],
             [
              0.1111111111111111,
              "#482878"
             ],
             [
              0.2222222222222222,
              "#3e4989"
             ],
             [
              0.3333333333333333,
              "#31688e"
             ],
             [
              0.4444444444444444,
              "#26828e"
             ],
             [
              0.5555555555555556,
              "#1f9e89"
             ],
             [
              0.6666666666666666,
              "#35b779"
             ],
             [
              0.7777777777777778,
              "#6ece58"
             ],
             [
              0.8888888888888888,
              "#b5de2b"
             ],
             [
              1,
              "#fde725"
             ]
            ],
            "type": "heatmapgl"
           }
          ],
          "histogram": [
           {
            "marker": {
             "line": {
              "color": "white",
              "width": 0.6
             }
            },
            "type": "histogram"
           }
          ],
          "histogram2d": [
           {
            "colorbar": {
             "outlinewidth": 1,
             "tickcolor": "rgb(36,36,36)",
             "ticks": "outside"
            },
            "colorscale": [
             [
              0,
              "#440154"
             ],
             [
              0.1111111111111111,
              "#482878"
             ],
             [
              0.2222222222222222,
              "#3e4989"
             ],
             [
              0.3333333333333333,
              "#31688e"
             ],
             [
              0.4444444444444444,
              "#26828e"
             ],
             [
              0.5555555555555556,
              "#1f9e89"
             ],
             [
              0.6666666666666666,
              "#35b779"
             ],
             [
              0.7777777777777778,
              "#6ece58"
             ],
             [
              0.8888888888888888,
              "#b5de2b"
             ],
             [
              1,
              "#fde725"
             ]
            ],
            "type": "histogram2d"
           }
          ],
          "histogram2dcontour": [
           {
            "colorbar": {
             "outlinewidth": 1,
             "tickcolor": "rgb(36,36,36)",
             "ticks": "outside"
            },
            "colorscale": [
             [
              0,
              "#440154"
             ],
             [
              0.1111111111111111,
              "#482878"
             ],
             [
              0.2222222222222222,
              "#3e4989"
             ],
             [
              0.3333333333333333,
              "#31688e"
             ],
             [
              0.4444444444444444,
              "#26828e"
             ],
             [
              0.5555555555555556,
              "#1f9e89"
             ],
             [
              0.6666666666666666,
              "#35b779"
             ],
             [
              0.7777777777777778,
              "#6ece58"
             ],
             [
              0.8888888888888888,
              "#b5de2b"
             ],
             [
              1,
              "#fde725"
             ]
            ],
            "type": "histogram2dcontour"
           }
          ],
          "mesh3d": [
           {
            "colorbar": {
             "outlinewidth": 1,
             "tickcolor": "rgb(36,36,36)",
             "ticks": "outside"
            },
            "type": "mesh3d"
           }
          ],
          "parcoords": [
           {
            "line": {
             "colorbar": {
              "outlinewidth": 1,
              "tickcolor": "rgb(36,36,36)",
              "ticks": "outside"
             }
            },
            "type": "parcoords"
           }
          ],
          "pie": [
           {
            "automargin": true,
            "type": "pie"
           }
          ],
          "scatter": [
           {
            "fillpattern": {
             "fillmode": "overlay",
             "size": 10,
             "solidity": 0.2
            },
            "type": "scatter"
           }
          ],
          "scatter3d": [
           {
            "line": {
             "colorbar": {
              "outlinewidth": 1,
              "tickcolor": "rgb(36,36,36)",
              "ticks": "outside"
             }
            },
            "marker": {
             "colorbar": {
              "outlinewidth": 1,
              "tickcolor": "rgb(36,36,36)",
              "ticks": "outside"
             }
            },
            "type": "scatter3d"
           }
          ],
          "scattercarpet": [
           {
            "marker": {
             "colorbar": {
              "outlinewidth": 1,
              "tickcolor": "rgb(36,36,36)",
              "ticks": "outside"
             }
            },
            "type": "scattercarpet"
           }
          ],
          "scattergeo": [
           {
            "marker": {
             "colorbar": {
              "outlinewidth": 1,
              "tickcolor": "rgb(36,36,36)",
              "ticks": "outside"
             }
            },
            "type": "scattergeo"
           }
          ],
          "scattergl": [
           {
            "marker": {
             "colorbar": {
              "outlinewidth": 1,
              "tickcolor": "rgb(36,36,36)",
              "ticks": "outside"
             }
            },
            "type": "scattergl"
           }
          ],
          "scattermapbox": [
           {
            "marker": {
             "colorbar": {
              "outlinewidth": 1,
              "tickcolor": "rgb(36,36,36)",
              "ticks": "outside"
             }
            },
            "type": "scattermapbox"
           }
          ],
          "scatterpolar": [
           {
            "marker": {
             "colorbar": {
              "outlinewidth": 1,
              "tickcolor": "rgb(36,36,36)",
              "ticks": "outside"
             }
            },
            "type": "scatterpolar"
           }
          ],
          "scatterpolargl": [
           {
            "marker": {
             "colorbar": {
              "outlinewidth": 1,
              "tickcolor": "rgb(36,36,36)",
              "ticks": "outside"
             }
            },
            "type": "scatterpolargl"
           }
          ],
          "scatterternary": [
           {
            "marker": {
             "colorbar": {
              "outlinewidth": 1,
              "tickcolor": "rgb(36,36,36)",
              "ticks": "outside"
             }
            },
            "type": "scatterternary"
           }
          ],
          "surface": [
           {
            "colorbar": {
             "outlinewidth": 1,
             "tickcolor": "rgb(36,36,36)",
             "ticks": "outside"
            },
            "colorscale": [
             [
              0,
              "#440154"
             ],
             [
              0.1111111111111111,
              "#482878"
             ],
             [
              0.2222222222222222,
              "#3e4989"
             ],
             [
              0.3333333333333333,
              "#31688e"
             ],
             [
              0.4444444444444444,
              "#26828e"
             ],
             [
              0.5555555555555556,
              "#1f9e89"
             ],
             [
              0.6666666666666666,
              "#35b779"
             ],
             [
              0.7777777777777778,
              "#6ece58"
             ],
             [
              0.8888888888888888,
              "#b5de2b"
             ],
             [
              1,
              "#fde725"
             ]
            ],
            "type": "surface"
           }
          ],
          "table": [
           {
            "cells": {
             "fill": {
              "color": "rgb(237,237,237)"
             },
             "line": {
              "color": "white"
             }
            },
            "header": {
             "fill": {
              "color": "rgb(217,217,217)"
             },
             "line": {
              "color": "white"
             }
            },
            "type": "table"
           }
          ]
         },
         "layout": {
          "annotationdefaults": {
           "arrowhead": 0,
           "arrowwidth": 1
          },
          "autotypenumbers": "strict",
          "coloraxis": {
           "colorbar": {
            "outlinewidth": 1,
            "tickcolor": "rgb(36,36,36)",
            "ticks": "outside"
           }
          },
          "colorscale": {
           "diverging": [
            [
             0,
             "rgb(103,0,31)"
            ],
            [
             0.1,
             "rgb(178,24,43)"
            ],
            [
             0.2,
             "rgb(214,96,77)"
            ],
            [
             0.3,
             "rgb(244,165,130)"
            ],
            [
             0.4,
             "rgb(253,219,199)"
            ],
            [
             0.5,
             "rgb(247,247,247)"
            ],
            [
             0.6,
             "rgb(209,229,240)"
            ],
            [
             0.7,
             "rgb(146,197,222)"
            ],
            [
             0.8,
             "rgb(67,147,195)"
            ],
            [
             0.9,
             "rgb(33,102,172)"
            ],
            [
             1,
             "rgb(5,48,97)"
            ]
           ],
           "sequential": [
            [
             0,
             "#440154"
            ],
            [
             0.1111111111111111,
             "#482878"
            ],
            [
             0.2222222222222222,
             "#3e4989"
            ],
            [
             0.3333333333333333,
             "#31688e"
            ],
            [
             0.4444444444444444,
             "#26828e"
            ],
            [
             0.5555555555555556,
             "#1f9e89"
            ],
            [
             0.6666666666666666,
             "#35b779"
            ],
            [
             0.7777777777777778,
             "#6ece58"
            ],
            [
             0.8888888888888888,
             "#b5de2b"
            ],
            [
             1,
             "#fde725"
            ]
           ],
           "sequentialminus": [
            [
             0,
             "#440154"
            ],
            [
             0.1111111111111111,
             "#482878"
            ],
            [
             0.2222222222222222,
             "#3e4989"
            ],
            [
             0.3333333333333333,
             "#31688e"
            ],
            [
             0.4444444444444444,
             "#26828e"
            ],
            [
             0.5555555555555556,
             "#1f9e89"
            ],
            [
             0.6666666666666666,
             "#35b779"
            ],
            [
             0.7777777777777778,
             "#6ece58"
            ],
            [
             0.8888888888888888,
             "#b5de2b"
            ],
            [
             1,
             "#fde725"
            ]
           ]
          },
          "colorway": [
           "#1F77B4",
           "#FF7F0E",
           "#2CA02C",
           "#D62728",
           "#9467BD",
           "#8C564B",
           "#E377C2",
           "#7F7F7F",
           "#BCBD22",
           "#17BECF"
          ],
          "font": {
           "color": "rgb(36,36,36)"
          },
          "geo": {
           "bgcolor": "white",
           "lakecolor": "white",
           "landcolor": "white",
           "showlakes": true,
           "showland": true,
           "subunitcolor": "white"
          },
          "hoverlabel": {
           "align": "left"
          },
          "hovermode": "closest",
          "mapbox": {
           "style": "light"
          },
          "paper_bgcolor": "white",
          "plot_bgcolor": "white",
          "polar": {
           "angularaxis": {
            "gridcolor": "rgb(232,232,232)",
            "linecolor": "rgb(36,36,36)",
            "showgrid": false,
            "showline": true,
            "ticks": "outside"
           },
           "bgcolor": "white",
           "radialaxis": {
            "gridcolor": "rgb(232,232,232)",
            "linecolor": "rgb(36,36,36)",
            "showgrid": false,
            "showline": true,
            "ticks": "outside"
           }
          },
          "scene": {
           "xaxis": {
            "backgroundcolor": "white",
            "gridcolor": "rgb(232,232,232)",
            "gridwidth": 2,
            "linecolor": "rgb(36,36,36)",
            "showbackground": true,
            "showgrid": false,
            "showline": true,
            "ticks": "outside",
            "zeroline": false,
            "zerolinecolor": "rgb(36,36,36)"
           },
           "yaxis": {
            "backgroundcolor": "white",
            "gridcolor": "rgb(232,232,232)",
            "gridwidth": 2,
            "linecolor": "rgb(36,36,36)",
            "showbackground": true,
            "showgrid": false,
            "showline": true,
            "ticks": "outside",
            "zeroline": false,
            "zerolinecolor": "rgb(36,36,36)"
           },
           "zaxis": {
            "backgroundcolor": "white",
            "gridcolor": "rgb(232,232,232)",
            "gridwidth": 2,
            "linecolor": "rgb(36,36,36)",
            "showbackground": true,
            "showgrid": false,
            "showline": true,
            "ticks": "outside",
            "zeroline": false,
            "zerolinecolor": "rgb(36,36,36)"
           }
          },
          "shapedefaults": {
           "fillcolor": "black",
           "line": {
            "width": 0
           },
           "opacity": 0.3
          },
          "ternary": {
           "aaxis": {
            "gridcolor": "rgb(232,232,232)",
            "linecolor": "rgb(36,36,36)",
            "showgrid": false,
            "showline": true,
            "ticks": "outside"
           },
           "baxis": {
            "gridcolor": "rgb(232,232,232)",
            "linecolor": "rgb(36,36,36)",
            "showgrid": false,
            "showline": true,
            "ticks": "outside"
           },
           "bgcolor": "white",
           "caxis": {
            "gridcolor": "rgb(232,232,232)",
            "linecolor": "rgb(36,36,36)",
            "showgrid": false,
            "showline": true,
            "ticks": "outside"
           }
          },
          "title": {
           "x": 0.05
          },
          "xaxis": {
           "automargin": true,
           "gridcolor": "rgb(232,232,232)",
           "linecolor": "rgb(36,36,36)",
           "showgrid": false,
           "showline": true,
           "ticks": "outside",
           "title": {
            "standoff": 15
           },
           "zeroline": false,
           "zerolinecolor": "rgb(36,36,36)"
          },
          "yaxis": {
           "automargin": true,
           "gridcolor": "rgb(232,232,232)",
           "linecolor": "rgb(36,36,36)",
           "showgrid": false,
           "showline": true,
           "ticks": "outside",
           "title": {
            "standoff": 15
           },
           "zeroline": false,
           "zerolinecolor": "rgb(36,36,36)"
          }
         }
        },
        "title": {
         "text": "Time Series | Target = liter"
        },
        "width": 1000,
        "xaxis": {
         "anchor": "y",
         "domain": [
          0,
          1
         ]
        },
        "yaxis": {
         "anchor": "x",
         "domain": [
          0,
          1
         ]
        }
       }
      }
     },
     "metadata": {},
     "output_type": "display_data"
    }
   ],
   "source": [
    "exp.plot_model(plot=\"train_test_split\",fig_kwargs = {\"height\":500,\"width\":1000,\"template\": \"simple_white\",\"hoverinfo\":\"none\",\"big_data_threshold\":10})"
   ]
  },
  {
   "cell_type": "code",
   "execution_count": 30,
   "metadata": {},
   "outputs": [
    {
     "data": {
      "text/html": [],
      "text/plain": [
       "<IPython.core.display.HTML object>"
      ]
     },
     "metadata": {},
     "output_type": "display_data"
    },
    {
     "data": {
      "text/html": [
       "<style type=\"text/css\">\n",
       "#T_a57f1 th {\n",
       "  text-align: left;\n",
       "}\n",
       "#T_a57f1_row0_col0, #T_a57f1_row1_col0, #T_a57f1_row1_col1, #T_a57f1_row1_col2, #T_a57f1_row1_col3, #T_a57f1_row1_col4, #T_a57f1_row1_col5, #T_a57f1_row1_col6, #T_a57f1_row2_col0, #T_a57f1_row2_col1, #T_a57f1_row2_col2, #T_a57f1_row2_col3, #T_a57f1_row2_col4, #T_a57f1_row2_col5, #T_a57f1_row2_col6, #T_a57f1_row3_col0, #T_a57f1_row3_col1, #T_a57f1_row3_col2, #T_a57f1_row3_col3, #T_a57f1_row3_col4, #T_a57f1_row3_col5, #T_a57f1_row3_col6, #T_a57f1_row4_col0, #T_a57f1_row4_col1, #T_a57f1_row4_col2, #T_a57f1_row4_col3, #T_a57f1_row4_col4, #T_a57f1_row4_col5, #T_a57f1_row4_col6, #T_a57f1_row5_col0, #T_a57f1_row5_col1, #T_a57f1_row5_col2, #T_a57f1_row5_col3, #T_a57f1_row5_col4, #T_a57f1_row5_col5, #T_a57f1_row5_col6, #T_a57f1_row6_col0, #T_a57f1_row6_col1, #T_a57f1_row6_col2, #T_a57f1_row6_col3, #T_a57f1_row6_col4, #T_a57f1_row6_col5, #T_a57f1_row6_col6, #T_a57f1_row7_col0, #T_a57f1_row7_col1, #T_a57f1_row7_col2, #T_a57f1_row7_col3, #T_a57f1_row7_col4, #T_a57f1_row7_col5, #T_a57f1_row7_col6, #T_a57f1_row8_col0, #T_a57f1_row8_col1, #T_a57f1_row8_col2, #T_a57f1_row8_col3, #T_a57f1_row8_col4, #T_a57f1_row8_col5, #T_a57f1_row8_col6, #T_a57f1_row9_col0, #T_a57f1_row9_col1, #T_a57f1_row9_col2, #T_a57f1_row9_col3, #T_a57f1_row9_col4, #T_a57f1_row9_col5, #T_a57f1_row9_col6, #T_a57f1_row10_col0, #T_a57f1_row10_col1, #T_a57f1_row10_col2, #T_a57f1_row10_col3, #T_a57f1_row10_col4, #T_a57f1_row10_col5, #T_a57f1_row10_col6, #T_a57f1_row11_col0, #T_a57f1_row11_col1, #T_a57f1_row11_col2, #T_a57f1_row11_col3, #T_a57f1_row11_col4, #T_a57f1_row11_col5, #T_a57f1_row11_col6, #T_a57f1_row12_col0, #T_a57f1_row12_col1, #T_a57f1_row12_col2, #T_a57f1_row12_col3, #T_a57f1_row12_col4, #T_a57f1_row12_col5, #T_a57f1_row12_col6, #T_a57f1_row13_col0, #T_a57f1_row13_col1, #T_a57f1_row13_col2, #T_a57f1_row13_col3, #T_a57f1_row13_col4, #T_a57f1_row13_col5, #T_a57f1_row13_col6, #T_a57f1_row14_col0, #T_a57f1_row14_col1, #T_a57f1_row14_col2, #T_a57f1_row14_col3, #T_a57f1_row14_col4, #T_a57f1_row14_col5, #T_a57f1_row14_col6, #T_a57f1_row15_col0, #T_a57f1_row15_col1, #T_a57f1_row15_col2, #T_a57f1_row15_col3, #T_a57f1_row15_col4, #T_a57f1_row15_col5, #T_a57f1_row15_col6, #T_a57f1_row16_col0, #T_a57f1_row16_col1, #T_a57f1_row16_col2, #T_a57f1_row16_col3, #T_a57f1_row16_col4, #T_a57f1_row16_col5, #T_a57f1_row16_col6, #T_a57f1_row17_col0, #T_a57f1_row17_col1, #T_a57f1_row17_col2, #T_a57f1_row17_col3, #T_a57f1_row17_col4, #T_a57f1_row17_col5, #T_a57f1_row17_col6, #T_a57f1_row18_col0, #T_a57f1_row18_col1, #T_a57f1_row18_col2, #T_a57f1_row18_col3, #T_a57f1_row18_col4, #T_a57f1_row18_col5, #T_a57f1_row18_col6, #T_a57f1_row19_col0, #T_a57f1_row19_col1, #T_a57f1_row19_col2, #T_a57f1_row19_col3, #T_a57f1_row19_col4, #T_a57f1_row19_col5, #T_a57f1_row19_col6, #T_a57f1_row20_col0, #T_a57f1_row20_col1, #T_a57f1_row20_col2, #T_a57f1_row20_col3, #T_a57f1_row20_col4, #T_a57f1_row20_col5, #T_a57f1_row20_col6, #T_a57f1_row21_col0, #T_a57f1_row21_col1, #T_a57f1_row21_col2, #T_a57f1_row21_col3, #T_a57f1_row21_col4, #T_a57f1_row21_col5, #T_a57f1_row21_col6, #T_a57f1_row22_col0, #T_a57f1_row22_col1, #T_a57f1_row22_col2, #T_a57f1_row22_col3, #T_a57f1_row22_col4, #T_a57f1_row22_col5, #T_a57f1_row22_col6, #T_a57f1_row23_col0, #T_a57f1_row23_col1, #T_a57f1_row23_col2, #T_a57f1_row23_col3, #T_a57f1_row23_col4, #T_a57f1_row23_col5, #T_a57f1_row23_col6 {\n",
       "  text-align: left;\n",
       "}\n",
       "#T_a57f1_row0_col1, #T_a57f1_row0_col2, #T_a57f1_row0_col3, #T_a57f1_row0_col4, #T_a57f1_row0_col5, #T_a57f1_row0_col6 {\n",
       "  text-align: left;\n",
       "  background-color: yellow;\n",
       "}\n",
       "#T_a57f1_row0_col7, #T_a57f1_row1_col7, #T_a57f1_row2_col7, #T_a57f1_row3_col7, #T_a57f1_row4_col7, #T_a57f1_row5_col7, #T_a57f1_row6_col7, #T_a57f1_row7_col7, #T_a57f1_row8_col7, #T_a57f1_row9_col7, #T_a57f1_row11_col7, #T_a57f1_row12_col7, #T_a57f1_row13_col7, #T_a57f1_row14_col7, #T_a57f1_row15_col7, #T_a57f1_row16_col7, #T_a57f1_row17_col7, #T_a57f1_row18_col7, #T_a57f1_row19_col7, #T_a57f1_row20_col7, #T_a57f1_row21_col7, #T_a57f1_row22_col7 {\n",
       "  text-align: left;\n",
       "  background-color: lightgrey;\n",
       "}\n",
       "#T_a57f1_row10_col7, #T_a57f1_row23_col7 {\n",
       "  text-align: left;\n",
       "  background-color: yellow;\n",
       "  background-color: lightgrey;\n",
       "}\n",
       "</style>\n",
       "<table id=\"T_a57f1\">\n",
       "  <thead>\n",
       "    <tr>\n",
       "      <th class=\"blank level0\" >&nbsp;</th>\n",
       "      <th id=\"T_a57f1_level0_col0\" class=\"col_heading level0 col0\" >Model</th>\n",
       "      <th id=\"T_a57f1_level0_col1\" class=\"col_heading level0 col1\" >MASE</th>\n",
       "      <th id=\"T_a57f1_level0_col2\" class=\"col_heading level0 col2\" >RMSSE</th>\n",
       "      <th id=\"T_a57f1_level0_col3\" class=\"col_heading level0 col3\" >MAE</th>\n",
       "      <th id=\"T_a57f1_level0_col4\" class=\"col_heading level0 col4\" >RMSE</th>\n",
       "      <th id=\"T_a57f1_level0_col5\" class=\"col_heading level0 col5\" >MAPE</th>\n",
       "      <th id=\"T_a57f1_level0_col6\" class=\"col_heading level0 col6\" >SMAPE</th>\n",
       "      <th id=\"T_a57f1_level0_col7\" class=\"col_heading level0 col7\" >TT (Sec)</th>\n",
       "    </tr>\n",
       "  </thead>\n",
       "  <tbody>\n",
       "    <tr>\n",
       "      <th id=\"T_a57f1_level0_row0\" class=\"row_heading level0 row0\" >theta</th>\n",
       "      <td id=\"T_a57f1_row0_col0\" class=\"data row0 col0\" >Theta Forecaster</td>\n",
       "      <td id=\"T_a57f1_row0_col1\" class=\"data row0 col1\" >0.8966</td>\n",
       "      <td id=\"T_a57f1_row0_col2\" class=\"data row0 col2\" >0.8327</td>\n",
       "      <td id=\"T_a57f1_row0_col3\" class=\"data row0 col3\" >406542.6589</td>\n",
       "      <td id=\"T_a57f1_row0_col4\" class=\"data row0 col4\" >406542.6589</td>\n",
       "      <td id=\"T_a57f1_row0_col5\" class=\"data row0 col5\" >0.1688</td>\n",
       "      <td id=\"T_a57f1_row0_col6\" class=\"data row0 col6\" >0.1875</td>\n",
       "      <td id=\"T_a57f1_row0_col7\" class=\"data row0 col7\" >0.0233</td>\n",
       "    </tr>\n",
       "    <tr>\n",
       "      <th id=\"T_a57f1_level0_row1\" class=\"row_heading level0 row1\" >polytrend</th>\n",
       "      <td id=\"T_a57f1_row1_col0\" class=\"data row1 col0\" >Polynomial Trend Forecaster</td>\n",
       "      <td id=\"T_a57f1_row1_col1\" class=\"data row1 col1\" >0.9415</td>\n",
       "      <td id=\"T_a57f1_row1_col2\" class=\"data row1 col2\" >0.8718</td>\n",
       "      <td id=\"T_a57f1_row1_col3\" class=\"data row1 col3\" >417119.4556</td>\n",
       "      <td id=\"T_a57f1_row1_col4\" class=\"data row1 col4\" >417119.4556</td>\n",
       "      <td id=\"T_a57f1_row1_col5\" class=\"data row1 col5\" >0.1769</td>\n",
       "      <td id=\"T_a57f1_row1_col6\" class=\"data row1 col6\" >0.2030</td>\n",
       "      <td id=\"T_a57f1_row1_col7\" class=\"data row1 col7\" >1.8233</td>\n",
       "    </tr>\n",
       "    <tr>\n",
       "      <th id=\"T_a57f1_level0_row2\" class=\"row_heading level0 row2\" >ada_cds_dt</th>\n",
       "      <td id=\"T_a57f1_row2_col0\" class=\"data row2 col0\" >AdaBoost w/ Cond. Deseasonalize & Detrending</td>\n",
       "      <td id=\"T_a57f1_row2_col1\" class=\"data row2 col1\" >0.9535</td>\n",
       "      <td id=\"T_a57f1_row2_col2\" class=\"data row2 col2\" >0.8789</td>\n",
       "      <td id=\"T_a57f1_row2_col3\" class=\"data row2 col3\" >428580.5333</td>\n",
       "      <td id=\"T_a57f1_row2_col4\" class=\"data row2 col4\" >428580.5333</td>\n",
       "      <td id=\"T_a57f1_row2_col5\" class=\"data row2 col5\" >0.1798</td>\n",
       "      <td id=\"T_a57f1_row2_col6\" class=\"data row2 col6\" >0.2073</td>\n",
       "      <td id=\"T_a57f1_row2_col7\" class=\"data row2 col7\" >0.0667</td>\n",
       "    </tr>\n",
       "    <tr>\n",
       "      <th id=\"T_a57f1_level0_row3\" class=\"row_heading level0 row3\" >lightgbm_cds_dt</th>\n",
       "      <td id=\"T_a57f1_row3_col0\" class=\"data row3 col0\" >Light Gradient Boosting w/ Cond. Deseasonalize & Detrending</td>\n",
       "      <td id=\"T_a57f1_row3_col1\" class=\"data row3 col1\" >0.9581</td>\n",
       "      <td id=\"T_a57f1_row3_col2\" class=\"data row3 col2\" >0.8867</td>\n",
       "      <td id=\"T_a57f1_row3_col3\" class=\"data row3 col3\" >420193.3110</td>\n",
       "      <td id=\"T_a57f1_row3_col4\" class=\"data row3 col4\" >420193.3110</td>\n",
       "      <td id=\"T_a57f1_row3_col5\" class=\"data row3 col5\" >0.1799</td>\n",
       "      <td id=\"T_a57f1_row3_col6\" class=\"data row3 col6\" >0.2090</td>\n",
       "      <td id=\"T_a57f1_row3_col7\" class=\"data row3 col7\" >0.1167</td>\n",
       "    </tr>\n",
       "    <tr>\n",
       "      <th id=\"T_a57f1_level0_row4\" class=\"row_heading level0 row4\" >br_cds_dt</th>\n",
       "      <td id=\"T_a57f1_row4_col0\" class=\"data row4 col0\" >Bayesian Ridge w/ Cond. Deseasonalize & Detrending</td>\n",
       "      <td id=\"T_a57f1_row4_col1\" class=\"data row4 col1\" >1.0139</td>\n",
       "      <td id=\"T_a57f1_row4_col2\" class=\"data row4 col2\" >0.9396</td>\n",
       "      <td id=\"T_a57f1_row4_col3\" class=\"data row4 col3\" >440596.6227</td>\n",
       "      <td id=\"T_a57f1_row4_col4\" class=\"data row4 col4\" >440596.6227</td>\n",
       "      <td id=\"T_a57f1_row4_col5\" class=\"data row4 col5\" >0.1900</td>\n",
       "      <td id=\"T_a57f1_row4_col6\" class=\"data row4 col6\" >0.2238</td>\n",
       "      <td id=\"T_a57f1_row4_col7\" class=\"data row4 col7\" >0.0367</td>\n",
       "    </tr>\n",
       "    <tr>\n",
       "      <th id=\"T_a57f1_level0_row5\" class=\"row_heading level0 row5\" >rf_cds_dt</th>\n",
       "      <td id=\"T_a57f1_row5_col0\" class=\"data row5 col0\" >Random Forest w/ Cond. Deseasonalize & Detrending</td>\n",
       "      <td id=\"T_a57f1_row5_col1\" class=\"data row5 col1\" >1.0417</td>\n",
       "      <td id=\"T_a57f1_row5_col2\" class=\"data row5 col2\" >0.9625</td>\n",
       "      <td id=\"T_a57f1_row5_col3\" class=\"data row5 col3\" >461486.2807</td>\n",
       "      <td id=\"T_a57f1_row5_col4\" class=\"data row5 col4\" >461486.2807</td>\n",
       "      <td id=\"T_a57f1_row5_col5\" class=\"data row5 col5\" >0.1959</td>\n",
       "      <td id=\"T_a57f1_row5_col6\" class=\"data row5 col6\" >0.2301</td>\n",
       "      <td id=\"T_a57f1_row5_col7\" class=\"data row5 col7\" >2.6933</td>\n",
       "    </tr>\n",
       "    <tr>\n",
       "      <th id=\"T_a57f1_level0_row6\" class=\"row_heading level0 row6\" >dt_cds_dt</th>\n",
       "      <td id=\"T_a57f1_row6_col0\" class=\"data row6 col0\" >Decision Tree w/ Cond. Deseasonalize & Detrending</td>\n",
       "      <td id=\"T_a57f1_row6_col1\" class=\"data row6 col1\" >1.0639</td>\n",
       "      <td id=\"T_a57f1_row6_col2\" class=\"data row6 col2\" >0.9837</td>\n",
       "      <td id=\"T_a57f1_row6_col3\" class=\"data row6 col3\" >468735.7000</td>\n",
       "      <td id=\"T_a57f1_row6_col4\" class=\"data row6 col4\" >468735.7000</td>\n",
       "      <td id=\"T_a57f1_row6_col5\" class=\"data row6 col5\" >0.1999</td>\n",
       "      <td id=\"T_a57f1_row6_col6\" class=\"data row6 col6\" >0.2363</td>\n",
       "      <td id=\"T_a57f1_row6_col7\" class=\"data row6 col7\" >2.3600</td>\n",
       "    </tr>\n",
       "    <tr>\n",
       "      <th id=\"T_a57f1_level0_row7\" class=\"row_heading level0 row7\" >xgboost_cds_dt</th>\n",
       "      <td id=\"T_a57f1_row7_col0\" class=\"data row7 col0\" >Extreme Gradient Boosting w/ Cond. Deseasonalize & Detrending</td>\n",
       "      <td id=\"T_a57f1_row7_col1\" class=\"data row7 col1\" >1.0639</td>\n",
       "      <td id=\"T_a57f1_row7_col2\" class=\"data row7 col2\" >0.9837</td>\n",
       "      <td id=\"T_a57f1_row7_col3\" class=\"data row7 col3\" >468735.6764</td>\n",
       "      <td id=\"T_a57f1_row7_col4\" class=\"data row7 col4\" >468735.6764</td>\n",
       "      <td id=\"T_a57f1_row7_col5\" class=\"data row7 col5\" >0.1999</td>\n",
       "      <td id=\"T_a57f1_row7_col6\" class=\"data row7 col6\" >0.2363</td>\n",
       "      <td id=\"T_a57f1_row7_col7\" class=\"data row7 col7\" >0.3000</td>\n",
       "    </tr>\n",
       "    <tr>\n",
       "      <th id=\"T_a57f1_level0_row8\" class=\"row_heading level0 row8\" >gbr_cds_dt</th>\n",
       "      <td id=\"T_a57f1_row8_col0\" class=\"data row8 col0\" >Gradient Boosting w/ Cond. Deseasonalize & Detrending</td>\n",
       "      <td id=\"T_a57f1_row8_col1\" class=\"data row8 col1\" >1.0639</td>\n",
       "      <td id=\"T_a57f1_row8_col2\" class=\"data row8 col2\" >0.9837</td>\n",
       "      <td id=\"T_a57f1_row8_col3\" class=\"data row8 col3\" >468733.6971</td>\n",
       "      <td id=\"T_a57f1_row8_col4\" class=\"data row8 col4\" >468733.6971</td>\n",
       "      <td id=\"T_a57f1_row8_col5\" class=\"data row8 col5\" >0.1999</td>\n",
       "      <td id=\"T_a57f1_row8_col6\" class=\"data row8 col6\" >0.2363</td>\n",
       "      <td id=\"T_a57f1_row8_col7\" class=\"data row8 col7\" >0.1033</td>\n",
       "    </tr>\n",
       "    <tr>\n",
       "      <th id=\"T_a57f1_level0_row9\" class=\"row_heading level0 row9\" >et_cds_dt</th>\n",
       "      <td id=\"T_a57f1_row9_col0\" class=\"data row9 col0\" >Extra Trees w/ Cond. Deseasonalize & Detrending</td>\n",
       "      <td id=\"T_a57f1_row9_col1\" class=\"data row9 col1\" >1.0681</td>\n",
       "      <td id=\"T_a57f1_row9_col2\" class=\"data row9 col2\" >0.9876</td>\n",
       "      <td id=\"T_a57f1_row9_col3\" class=\"data row9 col3\" >471440.8787</td>\n",
       "      <td id=\"T_a57f1_row9_col4\" class=\"data row9 col4\" >471440.8787</td>\n",
       "      <td id=\"T_a57f1_row9_col5\" class=\"data row9 col5\" >0.2008</td>\n",
       "      <td id=\"T_a57f1_row9_col6\" class=\"data row9 col6\" >0.2371</td>\n",
       "      <td id=\"T_a57f1_row9_col7\" class=\"data row9 col7\" >2.3400</td>\n",
       "    </tr>\n",
       "    <tr>\n",
       "      <th id=\"T_a57f1_level0_row10\" class=\"row_heading level0 row10\" >exp_smooth</th>\n",
       "      <td id=\"T_a57f1_row10_col0\" class=\"data row10 col0\" >Exponential Smoothing</td>\n",
       "      <td id=\"T_a57f1_row10_col1\" class=\"data row10 col1\" >1.0697</td>\n",
       "      <td id=\"T_a57f1_row10_col2\" class=\"data row10 col2\" >1.0009</td>\n",
       "      <td id=\"T_a57f1_row10_col3\" class=\"data row10 col3\" >475118.5834</td>\n",
       "      <td id=\"T_a57f1_row10_col4\" class=\"data row10 col4\" >475118.5834</td>\n",
       "      <td id=\"T_a57f1_row10_col5\" class=\"data row10 col5\" >0.2003</td>\n",
       "      <td id=\"T_a57f1_row10_col6\" class=\"data row10 col6\" >0.2303</td>\n",
       "      <td id=\"T_a57f1_row10_col7\" class=\"data row10 col7\" >0.0133</td>\n",
       "    </tr>\n",
       "    <tr>\n",
       "      <th id=\"T_a57f1_level0_row11\" class=\"row_heading level0 row11\" >lr_cds_dt</th>\n",
       "      <td id=\"T_a57f1_row11_col0\" class=\"data row11 col0\" >Linear w/ Cond. Deseasonalize & Detrending</td>\n",
       "      <td id=\"T_a57f1_row11_col1\" class=\"data row11 col1\" >1.0921</td>\n",
       "      <td id=\"T_a57f1_row11_col2\" class=\"data row11 col2\" >1.0085</td>\n",
       "      <td id=\"T_a57f1_row11_col3\" class=\"data row11 col3\" >484504.0258</td>\n",
       "      <td id=\"T_a57f1_row11_col4\" class=\"data row11 col4\" >484504.0258</td>\n",
       "      <td id=\"T_a57f1_row11_col5\" class=\"data row11 col5\" >0.2055</td>\n",
       "      <td id=\"T_a57f1_row11_col6\" class=\"data row11 col6\" >0.2435</td>\n",
       "      <td id=\"T_a57f1_row11_col7\" class=\"data row11 col7\" >0.5300</td>\n",
       "    </tr>\n",
       "    <tr>\n",
       "      <th id=\"T_a57f1_level0_row12\" class=\"row_heading level0 row12\" >llar_cds_dt</th>\n",
       "      <td id=\"T_a57f1_row12_col0\" class=\"data row12 col0\" >Lasso Least Angular Regressor w/ Cond. Deseasonalize & Detrending</td>\n",
       "      <td id=\"T_a57f1_row12_col1\" class=\"data row12 col1\" >1.0921</td>\n",
       "      <td id=\"T_a57f1_row12_col2\" class=\"data row12 col2\" >1.0085</td>\n",
       "      <td id=\"T_a57f1_row12_col3\" class=\"data row12 col3\" >484504.0258</td>\n",
       "      <td id=\"T_a57f1_row12_col4\" class=\"data row12 col4\" >484504.0258</td>\n",
       "      <td id=\"T_a57f1_row12_col5\" class=\"data row12 col5\" >0.2055</td>\n",
       "      <td id=\"T_a57f1_row12_col6\" class=\"data row12 col6\" >0.2435</td>\n",
       "      <td id=\"T_a57f1_row12_col7\" class=\"data row12 col7\" >0.0433</td>\n",
       "    </tr>\n",
       "    <tr>\n",
       "      <th id=\"T_a57f1_level0_row13\" class=\"row_heading level0 row13\" >lasso_cds_dt</th>\n",
       "      <td id=\"T_a57f1_row13_col0\" class=\"data row13 col0\" >Lasso w/ Cond. Deseasonalize & Detrending</td>\n",
       "      <td id=\"T_a57f1_row13_col1\" class=\"data row13 col1\" >1.0921</td>\n",
       "      <td id=\"T_a57f1_row13_col2\" class=\"data row13 col2\" >1.0085</td>\n",
       "      <td id=\"T_a57f1_row13_col3\" class=\"data row13 col3\" >484504.0258</td>\n",
       "      <td id=\"T_a57f1_row13_col4\" class=\"data row13 col4\" >484504.0258</td>\n",
       "      <td id=\"T_a57f1_row13_col5\" class=\"data row13 col5\" >0.2055</td>\n",
       "      <td id=\"T_a57f1_row13_col6\" class=\"data row13 col6\" >0.2435</td>\n",
       "      <td id=\"T_a57f1_row13_col7\" class=\"data row13 col7\" >0.0567</td>\n",
       "    </tr>\n",
       "    <tr>\n",
       "      <th id=\"T_a57f1_level0_row14\" class=\"row_heading level0 row14\" >en_cds_dt</th>\n",
       "      <td id=\"T_a57f1_row14_col0\" class=\"data row14 col0\" >Elastic Net w/ Cond. Deseasonalize & Detrending</td>\n",
       "      <td id=\"T_a57f1_row14_col1\" class=\"data row14 col1\" >1.0921</td>\n",
       "      <td id=\"T_a57f1_row14_col2\" class=\"data row14 col2\" >1.0085</td>\n",
       "      <td id=\"T_a57f1_row14_col3\" class=\"data row14 col3\" >484504.0258</td>\n",
       "      <td id=\"T_a57f1_row14_col4\" class=\"data row14 col4\" >484504.0258</td>\n",
       "      <td id=\"T_a57f1_row14_col5\" class=\"data row14 col5\" >0.2055</td>\n",
       "      <td id=\"T_a57f1_row14_col6\" class=\"data row14 col6\" >0.2435</td>\n",
       "      <td id=\"T_a57f1_row14_col7\" class=\"data row14 col7\" >0.2567</td>\n",
       "    </tr>\n",
       "    <tr>\n",
       "      <th id=\"T_a57f1_level0_row15\" class=\"row_heading level0 row15\" >ridge_cds_dt</th>\n",
       "      <td id=\"T_a57f1_row15_col0\" class=\"data row15 col0\" >Ridge w/ Cond. Deseasonalize & Detrending</td>\n",
       "      <td id=\"T_a57f1_row15_col1\" class=\"data row15 col1\" >1.0921</td>\n",
       "      <td id=\"T_a57f1_row15_col2\" class=\"data row15 col2\" >1.0085</td>\n",
       "      <td id=\"T_a57f1_row15_col3\" class=\"data row15 col3\" >484504.0258</td>\n",
       "      <td id=\"T_a57f1_row15_col4\" class=\"data row15 col4\" >484504.0258</td>\n",
       "      <td id=\"T_a57f1_row15_col5\" class=\"data row15 col5\" >0.2055</td>\n",
       "      <td id=\"T_a57f1_row15_col6\" class=\"data row15 col6\" >0.2435</td>\n",
       "      <td id=\"T_a57f1_row15_col7\" class=\"data row15 col7\" >0.1633</td>\n",
       "    </tr>\n",
       "    <tr>\n",
       "      <th id=\"T_a57f1_level0_row16\" class=\"row_heading level0 row16\" >omp_cds_dt</th>\n",
       "      <td id=\"T_a57f1_row16_col0\" class=\"data row16 col0\" >Orthogonal Matching Pursuit w/ Cond. Deseasonalize & Detrending</td>\n",
       "      <td id=\"T_a57f1_row16_col1\" class=\"data row16 col1\" >1.0921</td>\n",
       "      <td id=\"T_a57f1_row16_col2\" class=\"data row16 col2\" >1.0085</td>\n",
       "      <td id=\"T_a57f1_row16_col3\" class=\"data row16 col3\" >484504.0258</td>\n",
       "      <td id=\"T_a57f1_row16_col4\" class=\"data row16 col4\" >484504.0258</td>\n",
       "      <td id=\"T_a57f1_row16_col5\" class=\"data row16 col5\" >0.2055</td>\n",
       "      <td id=\"T_a57f1_row16_col6\" class=\"data row16 col6\" >0.2435</td>\n",
       "      <td id=\"T_a57f1_row16_col7\" class=\"data row16 col7\" >0.0433</td>\n",
       "    </tr>\n",
       "    <tr>\n",
       "      <th id=\"T_a57f1_level0_row17\" class=\"row_heading level0 row17\" >huber_cds_dt</th>\n",
       "      <td id=\"T_a57f1_row17_col0\" class=\"data row17 col0\" >Huber w/ Cond. Deseasonalize & Detrending</td>\n",
       "      <td id=\"T_a57f1_row17_col1\" class=\"data row17 col1\" >1.1131</td>\n",
       "      <td id=\"T_a57f1_row17_col2\" class=\"data row17 col2\" >1.0281</td>\n",
       "      <td id=\"T_a57f1_row17_col3\" class=\"data row17 col3\" >499874.3097</td>\n",
       "      <td id=\"T_a57f1_row17_col4\" class=\"data row17 col4\" >499874.3097</td>\n",
       "      <td id=\"T_a57f1_row17_col5\" class=\"data row17 col5\" >0.2097</td>\n",
       "      <td id=\"T_a57f1_row17_col6\" class=\"data row17 col6\" >0.2464</td>\n",
       "      <td id=\"T_a57f1_row17_col7\" class=\"data row17 col7\" >0.0400</td>\n",
       "    </tr>\n",
       "    <tr>\n",
       "      <th id=\"T_a57f1_level0_row18\" class=\"row_heading level0 row18\" >naive</th>\n",
       "      <td id=\"T_a57f1_row18_col0\" class=\"data row18 col0\" >Naive Forecaster</td>\n",
       "      <td id=\"T_a57f1_row18_col1\" class=\"data row18 col1\" >1.5787</td>\n",
       "      <td id=\"T_a57f1_row18_col2\" class=\"data row18 col2\" >1.4574</td>\n",
       "      <td id=\"T_a57f1_row18_col3\" class=\"data row18 col3\" >726883.3333</td>\n",
       "      <td id=\"T_a57f1_row18_col4\" class=\"data row18 col4\" >726883.3333</td>\n",
       "      <td id=\"T_a57f1_row18_col5\" class=\"data row18 col5\" >0.2984</td>\n",
       "      <td id=\"T_a57f1_row18_col6\" class=\"data row18 col6\" >0.3701</td>\n",
       "      <td id=\"T_a57f1_row18_col7\" class=\"data row18 col7\" >2.7733</td>\n",
       "    </tr>\n",
       "    <tr>\n",
       "      <th id=\"T_a57f1_level0_row19\" class=\"row_heading level0 row19\" >ets</th>\n",
       "      <td id=\"T_a57f1_row19_col0\" class=\"data row19 col0\" >ETS</td>\n",
       "      <td id=\"T_a57f1_row19_col1\" class=\"data row19 col1\" >1.8019</td>\n",
       "      <td id=\"T_a57f1_row19_col2\" class=\"data row19 col2\" >1.6470</td>\n",
       "      <td id=\"T_a57f1_row19_col3\" class=\"data row19 col3\" >888551.0045</td>\n",
       "      <td id=\"T_a57f1_row19_col4\" class=\"data row19 col4\" >888551.0045</td>\n",
       "      <td id=\"T_a57f1_row19_col5\" class=\"data row19 col5\" >0.3449</td>\n",
       "      <td id=\"T_a57f1_row19_col6\" class=\"data row19 col6\" >0.4234</td>\n",
       "      <td id=\"T_a57f1_row19_col7\" class=\"data row19 col7\" >0.0200</td>\n",
       "    </tr>\n",
       "    <tr>\n",
       "      <th id=\"T_a57f1_level0_row20\" class=\"row_heading level0 row20\" >arima</th>\n",
       "      <td id=\"T_a57f1_row20_col0\" class=\"data row20 col0\" >ARIMA</td>\n",
       "      <td id=\"T_a57f1_row20_col1\" class=\"data row20 col1\" >1.9286</td>\n",
       "      <td id=\"T_a57f1_row20_col2\" class=\"data row20 col2\" >1.7780</td>\n",
       "      <td id=\"T_a57f1_row20_col3\" class=\"data row20 col3\" >905892.9847</td>\n",
       "      <td id=\"T_a57f1_row20_col4\" class=\"data row20 col4\" >905892.9847</td>\n",
       "      <td id=\"T_a57f1_row20_col5\" class=\"data row20 col5\" >0.3657</td>\n",
       "      <td id=\"T_a57f1_row20_col6\" class=\"data row20 col6\" >0.4703</td>\n",
       "      <td id=\"T_a57f1_row20_col7\" class=\"data row20 col7\" >0.0667</td>\n",
       "    </tr>\n",
       "    <tr>\n",
       "      <th id=\"T_a57f1_level0_row21\" class=\"row_heading level0 row21\" >grand_means</th>\n",
       "      <td id=\"T_a57f1_row21_col0\" class=\"data row21 col0\" >Grand Means Forecaster</td>\n",
       "      <td id=\"T_a57f1_row21_col1\" class=\"data row21 col1\" >3.3445</td>\n",
       "      <td id=\"T_a57f1_row21_col2\" class=\"data row21 col2\" >3.0621</td>\n",
       "      <td id=\"T_a57f1_row21_col3\" class=\"data row21 col3\" >1708933.1056</td>\n",
       "      <td id=\"T_a57f1_row21_col4\" class=\"data row21 col4\" >1708933.1056</td>\n",
       "      <td id=\"T_a57f1_row21_col5\" class=\"data row21 col5\" >0.6429</td>\n",
       "      <td id=\"T_a57f1_row21_col6\" class=\"data row21 col6\" >0.9507</td>\n",
       "      <td id=\"T_a57f1_row21_col7\" class=\"data row21 col7\" >3.7333</td>\n",
       "    </tr>\n",
       "    <tr>\n",
       "      <th id=\"T_a57f1_level0_row22\" class=\"row_heading level0 row22\" >auto_arima</th>\n",
       "      <td id=\"T_a57f1_row22_col0\" class=\"data row22 col0\" >Auto ARIMA</td>\n",
       "      <td id=\"T_a57f1_row22_col1\" class=\"data row22 col1\" >3.3445</td>\n",
       "      <td id=\"T_a57f1_row22_col2\" class=\"data row22 col2\" >3.0621</td>\n",
       "      <td id=\"T_a57f1_row22_col3\" class=\"data row22 col3\" >1708933.1056</td>\n",
       "      <td id=\"T_a57f1_row22_col4\" class=\"data row22 col4\" >1708933.1056</td>\n",
       "      <td id=\"T_a57f1_row22_col5\" class=\"data row22 col5\" >0.6429</td>\n",
       "      <td id=\"T_a57f1_row22_col6\" class=\"data row22 col6\" >0.9507</td>\n",
       "      <td id=\"T_a57f1_row22_col7\" class=\"data row22 col7\" >0.1067</td>\n",
       "    </tr>\n",
       "    <tr>\n",
       "      <th id=\"T_a57f1_level0_row23\" class=\"row_heading level0 row23\" >croston</th>\n",
       "      <td id=\"T_a57f1_row23_col0\" class=\"data row23 col0\" >Croston</td>\n",
       "      <td id=\"T_a57f1_row23_col1\" class=\"data row23 col1\" >4.0890</td>\n",
       "      <td id=\"T_a57f1_row23_col2\" class=\"data row23 col2\" >3.7410</td>\n",
       "      <td id=\"T_a57f1_row23_col3\" class=\"data row23 col3\" >2109065.5966</td>\n",
       "      <td id=\"T_a57f1_row23_col4\" class=\"data row23 col4\" >2109065.5966</td>\n",
       "      <td id=\"T_a57f1_row23_col5\" class=\"data row23 col5\" >0.7872</td>\n",
       "      <td id=\"T_a57f1_row23_col6\" class=\"data row23 col6\" >1.2994</td>\n",
       "      <td id=\"T_a57f1_row23_col7\" class=\"data row23 col7\" >0.0133</td>\n",
       "    </tr>\n",
       "  </tbody>\n",
       "</table>\n"
      ],
      "text/plain": [
       "<pandas.io.formats.style.Styler at 0x189a8147f10>"
      ]
     },
     "metadata": {},
     "output_type": "display_data"
    },
    {
     "data": {
      "text/html": [],
      "text/plain": [
       "<IPython.core.display.HTML object>"
      ]
     },
     "metadata": {},
     "output_type": "display_data"
    }
   ],
   "source": [
    "top4 = exp.compare_models(n_select = 4)"
   ]
  },
  {
   "cell_type": "markdown",
   "metadata": {},
   "source": [
    "## lightgbm_cds_dt"
   ]
  },
  {
   "cell_type": "code",
   "execution_count": 31,
   "metadata": {},
   "outputs": [
    {
     "data": {
      "text/html": [],
      "text/plain": [
       "<IPython.core.display.HTML object>"
      ]
     },
     "metadata": {},
     "output_type": "display_data"
    },
    {
     "data": {
      "text/html": [
       "<style type=\"text/css\">\n",
       "#T_6af8a_row3_col0, #T_6af8a_row3_col1, #T_6af8a_row3_col2, #T_6af8a_row3_col3, #T_6af8a_row3_col4, #T_6af8a_row3_col5, #T_6af8a_row3_col6 {\n",
       "  background: yellow;\n",
       "}\n",
       "</style>\n",
       "<table id=\"T_6af8a\">\n",
       "  <thead>\n",
       "    <tr>\n",
       "      <th class=\"blank level0\" >&nbsp;</th>\n",
       "      <th id=\"T_6af8a_level0_col0\" class=\"col_heading level0 col0\" >cutoff</th>\n",
       "      <th id=\"T_6af8a_level0_col1\" class=\"col_heading level0 col1\" >MASE</th>\n",
       "      <th id=\"T_6af8a_level0_col2\" class=\"col_heading level0 col2\" >RMSSE</th>\n",
       "      <th id=\"T_6af8a_level0_col3\" class=\"col_heading level0 col3\" >MAE</th>\n",
       "      <th id=\"T_6af8a_level0_col4\" class=\"col_heading level0 col4\" >RMSE</th>\n",
       "      <th id=\"T_6af8a_level0_col5\" class=\"col_heading level0 col5\" >MAPE</th>\n",
       "      <th id=\"T_6af8a_level0_col6\" class=\"col_heading level0 col6\" >SMAPE</th>\n",
       "    </tr>\n",
       "  </thead>\n",
       "  <tbody>\n",
       "    <tr>\n",
       "      <th id=\"T_6af8a_level0_row0\" class=\"row_heading level0 row0\" >0</th>\n",
       "      <td id=\"T_6af8a_row0_col0\" class=\"data row0 col0\" >2019</td>\n",
       "      <td id=\"T_6af8a_row0_col1\" class=\"data row0 col1\" >1.8286</td>\n",
       "      <td id=\"T_6af8a_row0_col2\" class=\"data row0 col2\" >1.7359</td>\n",
       "      <td id=\"T_6af8a_row0_col3\" class=\"data row0 col3\" >664918.2507</td>\n",
       "      <td id=\"T_6af8a_row0_col4\" class=\"data row0 col4\" >664918.2507</td>\n",
       "      <td id=\"T_6af8a_row0_col5\" class=\"data row0 col5\" >0.3329</td>\n",
       "      <td id=\"T_6af8a_row0_col6\" class=\"data row0 col6\" >0.3993</td>\n",
       "    </tr>\n",
       "    <tr>\n",
       "      <th id=\"T_6af8a_level0_row1\" class=\"row_heading level0 row1\" >1</th>\n",
       "      <td id=\"T_6af8a_row1_col0\" class=\"data row1 col0\" >2020</td>\n",
       "      <td id=\"T_6af8a_row1_col1\" class=\"data row1 col1\" >0.9826</td>\n",
       "      <td id=\"T_6af8a_row1_col2\" class=\"data row1 col2\" >0.8670</td>\n",
       "      <td id=\"T_6af8a_row1_col3\" class=\"data row1 col3\" >555366.9323</td>\n",
       "      <td id=\"T_6af8a_row1_col4\" class=\"data row1 col4\" >555366.9323</td>\n",
       "      <td id=\"T_6af8a_row1_col5\" class=\"data row1 col5\" >0.1942</td>\n",
       "      <td id=\"T_6af8a_row1_col6\" class=\"data row1 col6\" >0.2151</td>\n",
       "    </tr>\n",
       "    <tr>\n",
       "      <th id=\"T_6af8a_level0_row2\" class=\"row_heading level0 row2\" >2</th>\n",
       "      <td id=\"T_6af8a_row2_col0\" class=\"data row2 col0\" >2021</td>\n",
       "      <td id=\"T_6af8a_row2_col1\" class=\"data row2 col1\" >0.0630</td>\n",
       "      <td id=\"T_6af8a_row2_col2\" class=\"data row2 col2\" >0.0573</td>\n",
       "      <td id=\"T_6af8a_row2_col3\" class=\"data row2 col3\" >40294.7500</td>\n",
       "      <td id=\"T_6af8a_row2_col4\" class=\"data row2 col4\" >40294.7500</td>\n",
       "      <td id=\"T_6af8a_row2_col5\" class=\"data row2 col5\" >0.0126</td>\n",
       "      <td id=\"T_6af8a_row2_col6\" class=\"data row2 col6\" >0.0125</td>\n",
       "    </tr>\n",
       "    <tr>\n",
       "      <th id=\"T_6af8a_level0_row3\" class=\"row_heading level0 row3\" >Mean</th>\n",
       "      <td id=\"T_6af8a_row3_col0\" class=\"data row3 col0\" >NaT</td>\n",
       "      <td id=\"T_6af8a_row3_col1\" class=\"data row3 col1\" >0.9581</td>\n",
       "      <td id=\"T_6af8a_row3_col2\" class=\"data row3 col2\" >0.8867</td>\n",
       "      <td id=\"T_6af8a_row3_col3\" class=\"data row3 col3\" >420193.3110</td>\n",
       "      <td id=\"T_6af8a_row3_col4\" class=\"data row3 col4\" >420193.3110</td>\n",
       "      <td id=\"T_6af8a_row3_col5\" class=\"data row3 col5\" >0.1799</td>\n",
       "      <td id=\"T_6af8a_row3_col6\" class=\"data row3 col6\" >0.2090</td>\n",
       "    </tr>\n",
       "    <tr>\n",
       "      <th id=\"T_6af8a_level0_row4\" class=\"row_heading level0 row4\" >SD</th>\n",
       "      <td id=\"T_6af8a_row4_col0\" class=\"data row4 col0\" >NaT</td>\n",
       "      <td id=\"T_6af8a_row4_col1\" class=\"data row4 col1\" >0.7210</td>\n",
       "      <td id=\"T_6af8a_row4_col2\" class=\"data row4 col2\" >0.6854</td>\n",
       "      <td id=\"T_6af8a_row4_col3\" class=\"data row4 col3\" >272326.4711</td>\n",
       "      <td id=\"T_6af8a_row4_col4\" class=\"data row4 col4\" >272326.4711</td>\n",
       "      <td id=\"T_6af8a_row4_col5\" class=\"data row4 col5\" >0.1312</td>\n",
       "      <td id=\"T_6af8a_row4_col6\" class=\"data row4 col6\" >0.1580</td>\n",
       "    </tr>\n",
       "  </tbody>\n",
       "</table>\n"
      ],
      "text/plain": [
       "<pandas.io.formats.style.Styler at 0x189a80eb6d0>"
      ]
     },
     "metadata": {},
     "output_type": "display_data"
    },
    {
     "data": {
      "text/html": [],
      "text/plain": [
       "<IPython.core.display.HTML object>"
      ]
     },
     "metadata": {},
     "output_type": "display_data"
    },
    {
     "data": {
      "application/vnd.plotly.v1+json": {
       "config": {
        "plotlyServerURL": "https://plot.ly"
       },
       "data": [
        {
         "line": {
          "color": "rgb(31, 119, 180)",
          "width": 2
         },
         "marker": {
          "size": 2
         },
         "mode": "lines+markers",
         "name": "Actual",
         "type": "scattergl",
         "x": [
          "2017-01-01T00:00:00",
          "2018-01-01T00:00:00",
          "2019-01-01T00:00:00",
          "2020-01-01T00:00:00",
          "2021-01-01T00:00:00",
          "2022-01-01T00:00:00",
          "2023-01-01T00:00:00"
         ],
         "xaxis": "x",
         "y": [
          301961,
          545110,
          1029190,
          1997490,
          2860097,
          3209840,
          4419242
         ],
         "yaxis": "y"
        },
        {
         "line": {
          "color": "rgb(255, 127, 14)",
          "width": 2
         },
         "marker": {
          "size": 2
         },
         "mode": "lines+markers",
         "name": "Seasonal",
         "type": "scattergl",
         "x": [
          "2017-01-01T00:00:00",
          "2018-01-01T00:00:00",
          "2019-01-01T00:00:00",
          "2020-01-01T00:00:00",
          "2021-01-01T00:00:00",
          "2022-01-01T00:00:00",
          "2023-01-01T00:00:00"
         ],
         "xaxis": "x2",
         "y": [
          1,
          1,
          1,
          1,
          1,
          1,
          1
         ],
         "yaxis": "y2"
        },
        {
         "line": {
          "color": "rgb(44, 160, 44)",
          "width": 2
         },
         "marker": {
          "size": 2
         },
         "mode": "lines+markers",
         "name": "Trend",
         "type": "scattergl",
         "x": [
          "2017-01-01T00:00:00",
          "2018-01-01T00:00:00",
          "2019-01-01T00:00:00",
          "2020-01-01T00:00:00",
          "2021-01-01T00:00:00",
          "2022-01-01T00:00:00",
          "2023-01-01T00:00:00"
         ],
         "xaxis": "x3",
         "y": [
          301961,
          545110,
          1029190,
          1997490,
          2860097,
          3209840,
          4419242
         ],
         "yaxis": "y3"
        },
        {
         "line": {
          "color": "rgb(214, 39, 40)",
          "width": 2
         },
         "marker": {
          "size": 4
         },
         "mode": "markers",
         "name": "Residuals",
         "type": "scattergl",
         "x": [
          "2017-01-01T00:00:00",
          "2018-01-01T00:00:00",
          "2019-01-01T00:00:00",
          "2020-01-01T00:00:00",
          "2021-01-01T00:00:00",
          "2022-01-01T00:00:00",
          "2023-01-01T00:00:00"
         ],
         "xaxis": "x4",
         "y": [
          1,
          1,
          1,
          1,
          1,
          1,
          1
         ],
         "yaxis": "y4"
        }
       ],
       "layout": {
        "annotations": [
         {
          "font": {
           "size": 16
          },
          "showarrow": false,
          "text": "liter (transformed)",
          "x": 0.49,
          "xanchor": "center",
          "xref": "paper",
          "y": 1,
          "yanchor": "bottom",
          "yref": "paper"
         },
         {
          "font": {
           "size": 16
          },
          "showarrow": false,
          "text": "Actual",
          "textangle": 90,
          "x": 0.98,
          "xanchor": "left",
          "xref": "paper",
          "y": 0.903125,
          "yanchor": "middle",
          "yref": "paper"
         },
         {
          "font": {
           "size": 16
          },
          "showarrow": false,
          "text": "Seasonal",
          "textangle": 90,
          "x": 0.98,
          "xanchor": "left",
          "xref": "paper",
          "y": 0.6343749999999999,
          "yanchor": "middle",
          "yref": "paper"
         },
         {
          "font": {
           "size": 16
          },
          "showarrow": false,
          "text": "Trend",
          "textangle": 90,
          "x": 0.98,
          "xanchor": "left",
          "xref": "paper",
          "y": 0.365625,
          "yanchor": "middle",
          "yref": "paper"
         },
         {
          "font": {
           "size": 16
          },
          "showarrow": false,
          "text": "Residual",
          "textangle": 90,
          "x": 0.98,
          "xanchor": "left",
          "xref": "paper",
          "y": 0.096875,
          "yanchor": "middle",
          "yref": "paper"
         }
        ],
        "autosize": false,
        "height": 500,
        "showlegend": false,
        "template": {
         "data": {
          "bar": [
           {
            "error_x": {
             "color": "rgb(36,36,36)"
            },
            "error_y": {
             "color": "rgb(36,36,36)"
            },
            "marker": {
             "line": {
              "color": "white",
              "width": 0.5
             },
             "pattern": {
              "fillmode": "overlay",
              "size": 10,
              "solidity": 0.2
             }
            },
            "type": "bar"
           }
          ],
          "barpolar": [
           {
            "marker": {
             "line": {
              "color": "white",
              "width": 0.5
             },
             "pattern": {
              "fillmode": "overlay",
              "size": 10,
              "solidity": 0.2
             }
            },
            "type": "barpolar"
           }
          ],
          "carpet": [
           {
            "aaxis": {
             "endlinecolor": "rgb(36,36,36)",
             "gridcolor": "white",
             "linecolor": "white",
             "minorgridcolor": "white",
             "startlinecolor": "rgb(36,36,36)"
            },
            "baxis": {
             "endlinecolor": "rgb(36,36,36)",
             "gridcolor": "white",
             "linecolor": "white",
             "minorgridcolor": "white",
             "startlinecolor": "rgb(36,36,36)"
            },
            "type": "carpet"
           }
          ],
          "choropleth": [
           {
            "colorbar": {
             "outlinewidth": 1,
             "tickcolor": "rgb(36,36,36)",
             "ticks": "outside"
            },
            "type": "choropleth"
           }
          ],
          "contour": [
           {
            "colorbar": {
             "outlinewidth": 1,
             "tickcolor": "rgb(36,36,36)",
             "ticks": "outside"
            },
            "colorscale": [
             [
              0,
              "#440154"
             ],
             [
              0.1111111111111111,
              "#482878"
             ],
             [
              0.2222222222222222,
              "#3e4989"
             ],
             [
              0.3333333333333333,
              "#31688e"
             ],
             [
              0.4444444444444444,
              "#26828e"
             ],
             [
              0.5555555555555556,
              "#1f9e89"
             ],
             [
              0.6666666666666666,
              "#35b779"
             ],
             [
              0.7777777777777778,
              "#6ece58"
             ],
             [
              0.8888888888888888,
              "#b5de2b"
             ],
             [
              1,
              "#fde725"
             ]
            ],
            "type": "contour"
           }
          ],
          "contourcarpet": [
           {
            "colorbar": {
             "outlinewidth": 1,
             "tickcolor": "rgb(36,36,36)",
             "ticks": "outside"
            },
            "type": "contourcarpet"
           }
          ],
          "heatmap": [
           {
            "colorbar": {
             "outlinewidth": 1,
             "tickcolor": "rgb(36,36,36)",
             "ticks": "outside"
            },
            "colorscale": [
             [
              0,
              "#440154"
             ],
             [
              0.1111111111111111,
              "#482878"
             ],
             [
              0.2222222222222222,
              "#3e4989"
             ],
             [
              0.3333333333333333,
              "#31688e"
             ],
             [
              0.4444444444444444,
              "#26828e"
             ],
             [
              0.5555555555555556,
              "#1f9e89"
             ],
             [
              0.6666666666666666,
              "#35b779"
             ],
             [
              0.7777777777777778,
              "#6ece58"
             ],
             [
              0.8888888888888888,
              "#b5de2b"
             ],
             [
              1,
              "#fde725"
             ]
            ],
            "type": "heatmap"
           }
          ],
          "heatmapgl": [
           {
            "colorbar": {
             "outlinewidth": 1,
             "tickcolor": "rgb(36,36,36)",
             "ticks": "outside"
            },
            "colorscale": [
             [
              0,
              "#440154"
             ],
             [
              0.1111111111111111,
              "#482878"
             ],
             [
              0.2222222222222222,
              "#3e4989"
             ],
             [
              0.3333333333333333,
              "#31688e"
             ],
             [
              0.4444444444444444,
              "#26828e"
             ],
             [
              0.5555555555555556,
              "#1f9e89"
             ],
             [
              0.6666666666666666,
              "#35b779"
             ],
             [
              0.7777777777777778,
              "#6ece58"
             ],
             [
              0.8888888888888888,
              "#b5de2b"
             ],
             [
              1,
              "#fde725"
             ]
            ],
            "type": "heatmapgl"
           }
          ],
          "histogram": [
           {
            "marker": {
             "line": {
              "color": "white",
              "width": 0.6
             }
            },
            "type": "histogram"
           }
          ],
          "histogram2d": [
           {
            "colorbar": {
             "outlinewidth": 1,
             "tickcolor": "rgb(36,36,36)",
             "ticks": "outside"
            },
            "colorscale": [
             [
              0,
              "#440154"
             ],
             [
              0.1111111111111111,
              "#482878"
             ],
             [
              0.2222222222222222,
              "#3e4989"
             ],
             [
              0.3333333333333333,
              "#31688e"
             ],
             [
              0.4444444444444444,
              "#26828e"
             ],
             [
              0.5555555555555556,
              "#1f9e89"
             ],
             [
              0.6666666666666666,
              "#35b779"
             ],
             [
              0.7777777777777778,
              "#6ece58"
             ],
             [
              0.8888888888888888,
              "#b5de2b"
             ],
             [
              1,
              "#fde725"
             ]
            ],
            "type": "histogram2d"
           }
          ],
          "histogram2dcontour": [
           {
            "colorbar": {
             "outlinewidth": 1,
             "tickcolor": "rgb(36,36,36)",
             "ticks": "outside"
            },
            "colorscale": [
             [
              0,
              "#440154"
             ],
             [
              0.1111111111111111,
              "#482878"
             ],
             [
              0.2222222222222222,
              "#3e4989"
             ],
             [
              0.3333333333333333,
              "#31688e"
             ],
             [
              0.4444444444444444,
              "#26828e"
             ],
             [
              0.5555555555555556,
              "#1f9e89"
             ],
             [
              0.6666666666666666,
              "#35b779"
             ],
             [
              0.7777777777777778,
              "#6ece58"
             ],
             [
              0.8888888888888888,
              "#b5de2b"
             ],
             [
              1,
              "#fde725"
             ]
            ],
            "type": "histogram2dcontour"
           }
          ],
          "mesh3d": [
           {
            "colorbar": {
             "outlinewidth": 1,
             "tickcolor": "rgb(36,36,36)",
             "ticks": "outside"
            },
            "type": "mesh3d"
           }
          ],
          "parcoords": [
           {
            "line": {
             "colorbar": {
              "outlinewidth": 1,
              "tickcolor": "rgb(36,36,36)",
              "ticks": "outside"
             }
            },
            "type": "parcoords"
           }
          ],
          "pie": [
           {
            "automargin": true,
            "type": "pie"
           }
          ],
          "scatter": [
           {
            "fillpattern": {
             "fillmode": "overlay",
             "size": 10,
             "solidity": 0.2
            },
            "type": "scatter"
           }
          ],
          "scatter3d": [
           {
            "line": {
             "colorbar": {
              "outlinewidth": 1,
              "tickcolor": "rgb(36,36,36)",
              "ticks": "outside"
             }
            },
            "marker": {
             "colorbar": {
              "outlinewidth": 1,
              "tickcolor": "rgb(36,36,36)",
              "ticks": "outside"
             }
            },
            "type": "scatter3d"
           }
          ],
          "scattercarpet": [
           {
            "marker": {
             "colorbar": {
              "outlinewidth": 1,
              "tickcolor": "rgb(36,36,36)",
              "ticks": "outside"
             }
            },
            "type": "scattercarpet"
           }
          ],
          "scattergeo": [
           {
            "marker": {
             "colorbar": {
              "outlinewidth": 1,
              "tickcolor": "rgb(36,36,36)",
              "ticks": "outside"
             }
            },
            "type": "scattergeo"
           }
          ],
          "scattergl": [
           {
            "marker": {
             "colorbar": {
              "outlinewidth": 1,
              "tickcolor": "rgb(36,36,36)",
              "ticks": "outside"
             }
            },
            "type": "scattergl"
           }
          ],
          "scattermapbox": [
           {
            "marker": {
             "colorbar": {
              "outlinewidth": 1,
              "tickcolor": "rgb(36,36,36)",
              "ticks": "outside"
             }
            },
            "type": "scattermapbox"
           }
          ],
          "scatterpolar": [
           {
            "marker": {
             "colorbar": {
              "outlinewidth": 1,
              "tickcolor": "rgb(36,36,36)",
              "ticks": "outside"
             }
            },
            "type": "scatterpolar"
           }
          ],
          "scatterpolargl": [
           {
            "marker": {
             "colorbar": {
              "outlinewidth": 1,
              "tickcolor": "rgb(36,36,36)",
              "ticks": "outside"
             }
            },
            "type": "scatterpolargl"
           }
          ],
          "scatterternary": [
           {
            "marker": {
             "colorbar": {
              "outlinewidth": 1,
              "tickcolor": "rgb(36,36,36)",
              "ticks": "outside"
             }
            },
            "type": "scatterternary"
           }
          ],
          "surface": [
           {
            "colorbar": {
             "outlinewidth": 1,
             "tickcolor": "rgb(36,36,36)",
             "ticks": "outside"
            },
            "colorscale": [
             [
              0,
              "#440154"
             ],
             [
              0.1111111111111111,
              "#482878"
             ],
             [
              0.2222222222222222,
              "#3e4989"
             ],
             [
              0.3333333333333333,
              "#31688e"
             ],
             [
              0.4444444444444444,
              "#26828e"
             ],
             [
              0.5555555555555556,
              "#1f9e89"
             ],
             [
              0.6666666666666666,
              "#35b779"
             ],
             [
              0.7777777777777778,
              "#6ece58"
             ],
             [
              0.8888888888888888,
              "#b5de2b"
             ],
             [
              1,
              "#fde725"
             ]
            ],
            "type": "surface"
           }
          ],
          "table": [
           {
            "cells": {
             "fill": {
              "color": "rgb(237,237,237)"
             },
             "line": {
              "color": "white"
             }
            },
            "header": {
             "fill": {
              "color": "rgb(217,217,217)"
             },
             "line": {
              "color": "white"
             }
            },
            "type": "table"
           }
          ]
         },
         "layout": {
          "annotationdefaults": {
           "arrowhead": 0,
           "arrowwidth": 1
          },
          "autotypenumbers": "strict",
          "coloraxis": {
           "colorbar": {
            "outlinewidth": 1,
            "tickcolor": "rgb(36,36,36)",
            "ticks": "outside"
           }
          },
          "colorscale": {
           "diverging": [
            [
             0,
             "rgb(103,0,31)"
            ],
            [
             0.1,
             "rgb(178,24,43)"
            ],
            [
             0.2,
             "rgb(214,96,77)"
            ],
            [
             0.3,
             "rgb(244,165,130)"
            ],
            [
             0.4,
             "rgb(253,219,199)"
            ],
            [
             0.5,
             "rgb(247,247,247)"
            ],
            [
             0.6,
             "rgb(209,229,240)"
            ],
            [
             0.7,
             "rgb(146,197,222)"
            ],
            [
             0.8,
             "rgb(67,147,195)"
            ],
            [
             0.9,
             "rgb(33,102,172)"
            ],
            [
             1,
             "rgb(5,48,97)"
            ]
           ],
           "sequential": [
            [
             0,
             "#440154"
            ],
            [
             0.1111111111111111,
             "#482878"
            ],
            [
             0.2222222222222222,
             "#3e4989"
            ],
            [
             0.3333333333333333,
             "#31688e"
            ],
            [
             0.4444444444444444,
             "#26828e"
            ],
            [
             0.5555555555555556,
             "#1f9e89"
            ],
            [
             0.6666666666666666,
             "#35b779"
            ],
            [
             0.7777777777777778,
             "#6ece58"
            ],
            [
             0.8888888888888888,
             "#b5de2b"
            ],
            [
             1,
             "#fde725"
            ]
           ],
           "sequentialminus": [
            [
             0,
             "#440154"
            ],
            [
             0.1111111111111111,
             "#482878"
            ],
            [
             0.2222222222222222,
             "#3e4989"
            ],
            [
             0.3333333333333333,
             "#31688e"
            ],
            [
             0.4444444444444444,
             "#26828e"
            ],
            [
             0.5555555555555556,
             "#1f9e89"
            ],
            [
             0.6666666666666666,
             "#35b779"
            ],
            [
             0.7777777777777778,
             "#6ece58"
            ],
            [
             0.8888888888888888,
             "#b5de2b"
            ],
            [
             1,
             "#fde725"
            ]
           ]
          },
          "colorway": [
           "#1F77B4",
           "#FF7F0E",
           "#2CA02C",
           "#D62728",
           "#9467BD",
           "#8C564B",
           "#E377C2",
           "#7F7F7F",
           "#BCBD22",
           "#17BECF"
          ],
          "font": {
           "color": "rgb(36,36,36)"
          },
          "geo": {
           "bgcolor": "white",
           "lakecolor": "white",
           "landcolor": "white",
           "showlakes": true,
           "showland": true,
           "subunitcolor": "white"
          },
          "hoverlabel": {
           "align": "left"
          },
          "hovermode": "closest",
          "mapbox": {
           "style": "light"
          },
          "paper_bgcolor": "white",
          "plot_bgcolor": "white",
          "polar": {
           "angularaxis": {
            "gridcolor": "rgb(232,232,232)",
            "linecolor": "rgb(36,36,36)",
            "showgrid": false,
            "showline": true,
            "ticks": "outside"
           },
           "bgcolor": "white",
           "radialaxis": {
            "gridcolor": "rgb(232,232,232)",
            "linecolor": "rgb(36,36,36)",
            "showgrid": false,
            "showline": true,
            "ticks": "outside"
           }
          },
          "scene": {
           "xaxis": {
            "backgroundcolor": "white",
            "gridcolor": "rgb(232,232,232)",
            "gridwidth": 2,
            "linecolor": "rgb(36,36,36)",
            "showbackground": true,
            "showgrid": false,
            "showline": true,
            "ticks": "outside",
            "zeroline": false,
            "zerolinecolor": "rgb(36,36,36)"
           },
           "yaxis": {
            "backgroundcolor": "white",
            "gridcolor": "rgb(232,232,232)",
            "gridwidth": 2,
            "linecolor": "rgb(36,36,36)",
            "showbackground": true,
            "showgrid": false,
            "showline": true,
            "ticks": "outside",
            "zeroline": false,
            "zerolinecolor": "rgb(36,36,36)"
           },
           "zaxis": {
            "backgroundcolor": "white",
            "gridcolor": "rgb(232,232,232)",
            "gridwidth": 2,
            "linecolor": "rgb(36,36,36)",
            "showbackground": true,
            "showgrid": false,
            "showline": true,
            "ticks": "outside",
            "zeroline": false,
            "zerolinecolor": "rgb(36,36,36)"
           }
          },
          "shapedefaults": {
           "fillcolor": "black",
           "line": {
            "width": 0
           },
           "opacity": 0.3
          },
          "ternary": {
           "aaxis": {
            "gridcolor": "rgb(232,232,232)",
            "linecolor": "rgb(36,36,36)",
            "showgrid": false,
            "showline": true,
            "ticks": "outside"
           },
           "baxis": {
            "gridcolor": "rgb(232,232,232)",
            "linecolor": "rgb(36,36,36)",
            "showgrid": false,
            "showline": true,
            "ticks": "outside"
           },
           "bgcolor": "white",
           "caxis": {
            "gridcolor": "rgb(232,232,232)",
            "linecolor": "rgb(36,36,36)",
            "showgrid": false,
            "showline": true,
            "ticks": "outside"
           }
          },
          "title": {
           "x": 0.05
          },
          "xaxis": {
           "automargin": true,
           "gridcolor": "rgb(232,232,232)",
           "linecolor": "rgb(36,36,36)",
           "showgrid": false,
           "showline": true,
           "ticks": "outside",
           "title": {
            "standoff": 15
           },
           "zeroline": false,
           "zerolinecolor": "rgb(36,36,36)"
          },
          "yaxis": {
           "automargin": true,
           "gridcolor": "rgb(232,232,232)",
           "linecolor": "rgb(36,36,36)",
           "showgrid": false,
           "showline": true,
           "ticks": "outside",
           "title": {
            "standoff": 15
           },
           "zeroline": false,
           "zerolinecolor": "rgb(36,36,36)"
          }
         }
        },
        "title": {
         "text": "Classical Decomposition (multiplicative) | liter<br>Seasonal Period = 1"
        },
        "width": 1000,
        "xaxis": {
         "anchor": "y",
         "domain": [
          0,
          0.98
         ],
         "matches": "x4",
         "showticklabels": false
        },
        "xaxis2": {
         "anchor": "y2",
         "domain": [
          0,
          0.98
         ],
         "matches": "x4",
         "showticklabels": false
        },
        "xaxis3": {
         "anchor": "y3",
         "domain": [
          0,
          0.98
         ],
         "matches": "x4",
         "showticklabels": false
        },
        "xaxis4": {
         "anchor": "y4",
         "domain": [
          0,
          0.98
         ]
        },
        "yaxis": {
         "anchor": "x",
         "domain": [
          0.80625,
          1
         ]
        },
        "yaxis2": {
         "anchor": "x2",
         "domain": [
          0.5375,
          0.73125
         ]
        },
        "yaxis3": {
         "anchor": "x3",
         "domain": [
          0.26875,
          0.4625
         ]
        },
        "yaxis4": {
         "anchor": "x4",
         "domain": [
          0,
          0.19375
         ]
        }
       }
      }
     },
     "metadata": {},
     "output_type": "display_data"
    },
    {
     "data": {
      "application/vnd.plotly.v1+json": {
       "config": {
        "plotlyServerURL": "https://plot.ly"
       },
       "data": [
        {
         "hoverinfo": "none",
         "line": {
          "width": 2
         },
         "marker": {
          "size": 5
         },
         "mode": "lines+markers",
         "name": "liter",
         "type": "scattergl",
         "x": [
          "2017-01-01T00:00:00",
          "2018-01-01T00:00:00",
          "2019-01-01T00:00:00",
          "2020-01-01T00:00:00",
          "2021-01-01T00:00:00",
          "2022-01-01T00:00:00",
          "2023-01-01T00:00:00",
          "2024-01-01T00:00:00",
          "2025-01-01T00:00:00",
          "2026-01-01T00:00:00",
          "2027-01-01T00:00:00",
          "2028-01-01T00:00:00",
          "2029-01-01T00:00:00",
          "2030-01-01T00:00:00"
         ],
         "xaxis": "x",
         "y": [
          301961,
          545110,
          1029190,
          1997490,
          2860097,
          3209840,
          4419242,
          null,
          null,
          null,
          null,
          null,
          null,
          null
         ],
         "yaxis": "y"
        },
        {
         "hoverinfo": "none",
         "line": {
          "width": 2
         },
         "marker": {
          "size": 5
         },
         "mode": "lines+markers",
         "name": "LGBMRegressor",
         "type": "scattergl",
         "x": [
          "2017-01-01T00:00:00",
          "2018-01-01T00:00:00",
          "2019-01-01T00:00:00",
          "2020-01-01T00:00:00",
          "2021-01-01T00:00:00",
          "2022-01-01T00:00:00",
          "2023-01-01T00:00:00",
          "2024-01-01T00:00:00",
          "2025-01-01T00:00:00",
          "2026-01-01T00:00:00",
          "2027-01-01T00:00:00",
          "2028-01-01T00:00:00",
          "2029-01-01T00:00:00",
          "2030-01-01T00:00:00"
         ],
         "xaxis": "x",
         "y": [
          null,
          null,
          null,
          null,
          null,
          null,
          3852858.7755,
          4494363.2327,
          5135867.6898,
          5777372.1469,
          6418876.6041,
          7060381.0612,
          7701885.5184,
          8343389.9755
         ],
         "yaxis": "y"
        }
       ],
       "layout": {
        "autosize": false,
        "height": 500,
        "showlegend": true,
        "template": {
         "data": {
          "bar": [
           {
            "error_x": {
             "color": "rgb(36,36,36)"
            },
            "error_y": {
             "color": "rgb(36,36,36)"
            },
            "marker": {
             "line": {
              "color": "white",
              "width": 0.5
             },
             "pattern": {
              "fillmode": "overlay",
              "size": 10,
              "solidity": 0.2
             }
            },
            "type": "bar"
           }
          ],
          "barpolar": [
           {
            "marker": {
             "line": {
              "color": "white",
              "width": 0.5
             },
             "pattern": {
              "fillmode": "overlay",
              "size": 10,
              "solidity": 0.2
             }
            },
            "type": "barpolar"
           }
          ],
          "carpet": [
           {
            "aaxis": {
             "endlinecolor": "rgb(36,36,36)",
             "gridcolor": "white",
             "linecolor": "white",
             "minorgridcolor": "white",
             "startlinecolor": "rgb(36,36,36)"
            },
            "baxis": {
             "endlinecolor": "rgb(36,36,36)",
             "gridcolor": "white",
             "linecolor": "white",
             "minorgridcolor": "white",
             "startlinecolor": "rgb(36,36,36)"
            },
            "type": "carpet"
           }
          ],
          "choropleth": [
           {
            "colorbar": {
             "outlinewidth": 1,
             "tickcolor": "rgb(36,36,36)",
             "ticks": "outside"
            },
            "type": "choropleth"
           }
          ],
          "contour": [
           {
            "colorbar": {
             "outlinewidth": 1,
             "tickcolor": "rgb(36,36,36)",
             "ticks": "outside"
            },
            "colorscale": [
             [
              0,
              "#440154"
             ],
             [
              0.1111111111111111,
              "#482878"
             ],
             [
              0.2222222222222222,
              "#3e4989"
             ],
             [
              0.3333333333333333,
              "#31688e"
             ],
             [
              0.4444444444444444,
              "#26828e"
             ],
             [
              0.5555555555555556,
              "#1f9e89"
             ],
             [
              0.6666666666666666,
              "#35b779"
             ],
             [
              0.7777777777777778,
              "#6ece58"
             ],
             [
              0.8888888888888888,
              "#b5de2b"
             ],
             [
              1,
              "#fde725"
             ]
            ],
            "type": "contour"
           }
          ],
          "contourcarpet": [
           {
            "colorbar": {
             "outlinewidth": 1,
             "tickcolor": "rgb(36,36,36)",
             "ticks": "outside"
            },
            "type": "contourcarpet"
           }
          ],
          "heatmap": [
           {
            "colorbar": {
             "outlinewidth": 1,
             "tickcolor": "rgb(36,36,36)",
             "ticks": "outside"
            },
            "colorscale": [
             [
              0,
              "#440154"
             ],
             [
              0.1111111111111111,
              "#482878"
             ],
             [
              0.2222222222222222,
              "#3e4989"
             ],
             [
              0.3333333333333333,
              "#31688e"
             ],
             [
              0.4444444444444444,
              "#26828e"
             ],
             [
              0.5555555555555556,
              "#1f9e89"
             ],
             [
              0.6666666666666666,
              "#35b779"
             ],
             [
              0.7777777777777778,
              "#6ece58"
             ],
             [
              0.8888888888888888,
              "#b5de2b"
             ],
             [
              1,
              "#fde725"
             ]
            ],
            "type": "heatmap"
           }
          ],
          "heatmapgl": [
           {
            "colorbar": {
             "outlinewidth": 1,
             "tickcolor": "rgb(36,36,36)",
             "ticks": "outside"
            },
            "colorscale": [
             [
              0,
              "#440154"
             ],
             [
              0.1111111111111111,
              "#482878"
             ],
             [
              0.2222222222222222,
              "#3e4989"
             ],
             [
              0.3333333333333333,
              "#31688e"
             ],
             [
              0.4444444444444444,
              "#26828e"
             ],
             [
              0.5555555555555556,
              "#1f9e89"
             ],
             [
              0.6666666666666666,
              "#35b779"
             ],
             [
              0.7777777777777778,
              "#6ece58"
             ],
             [
              0.8888888888888888,
              "#b5de2b"
             ],
             [
              1,
              "#fde725"
             ]
            ],
            "type": "heatmapgl"
           }
          ],
          "histogram": [
           {
            "marker": {
             "line": {
              "color": "white",
              "width": 0.6
             }
            },
            "type": "histogram"
           }
          ],
          "histogram2d": [
           {
            "colorbar": {
             "outlinewidth": 1,
             "tickcolor": "rgb(36,36,36)",
             "ticks": "outside"
            },
            "colorscale": [
             [
              0,
              "#440154"
             ],
             [
              0.1111111111111111,
              "#482878"
             ],
             [
              0.2222222222222222,
              "#3e4989"
             ],
             [
              0.3333333333333333,
              "#31688e"
             ],
             [
              0.4444444444444444,
              "#26828e"
             ],
             [
              0.5555555555555556,
              "#1f9e89"
             ],
             [
              0.6666666666666666,
              "#35b779"
             ],
             [
              0.7777777777777778,
              "#6ece58"
             ],
             [
              0.8888888888888888,
              "#b5de2b"
             ],
             [
              1,
              "#fde725"
             ]
            ],
            "type": "histogram2d"
           }
          ],
          "histogram2dcontour": [
           {
            "colorbar": {
             "outlinewidth": 1,
             "tickcolor": "rgb(36,36,36)",
             "ticks": "outside"
            },
            "colorscale": [
             [
              0,
              "#440154"
             ],
             [
              0.1111111111111111,
              "#482878"
             ],
             [
              0.2222222222222222,
              "#3e4989"
             ],
             [
              0.3333333333333333,
              "#31688e"
             ],
             [
              0.4444444444444444,
              "#26828e"
             ],
             [
              0.5555555555555556,
              "#1f9e89"
             ],
             [
              0.6666666666666666,
              "#35b779"
             ],
             [
              0.7777777777777778,
              "#6ece58"
             ],
             [
              0.8888888888888888,
              "#b5de2b"
             ],
             [
              1,
              "#fde725"
             ]
            ],
            "type": "histogram2dcontour"
           }
          ],
          "mesh3d": [
           {
            "colorbar": {
             "outlinewidth": 1,
             "tickcolor": "rgb(36,36,36)",
             "ticks": "outside"
            },
            "type": "mesh3d"
           }
          ],
          "parcoords": [
           {
            "line": {
             "colorbar": {
              "outlinewidth": 1,
              "tickcolor": "rgb(36,36,36)",
              "ticks": "outside"
             }
            },
            "type": "parcoords"
           }
          ],
          "pie": [
           {
            "automargin": true,
            "type": "pie"
           }
          ],
          "scatter": [
           {
            "fillpattern": {
             "fillmode": "overlay",
             "size": 10,
             "solidity": 0.2
            },
            "type": "scatter"
           }
          ],
          "scatter3d": [
           {
            "line": {
             "colorbar": {
              "outlinewidth": 1,
              "tickcolor": "rgb(36,36,36)",
              "ticks": "outside"
             }
            },
            "marker": {
             "colorbar": {
              "outlinewidth": 1,
              "tickcolor": "rgb(36,36,36)",
              "ticks": "outside"
             }
            },
            "type": "scatter3d"
           }
          ],
          "scattercarpet": [
           {
            "marker": {
             "colorbar": {
              "outlinewidth": 1,
              "tickcolor": "rgb(36,36,36)",
              "ticks": "outside"
             }
            },
            "type": "scattercarpet"
           }
          ],
          "scattergeo": [
           {
            "marker": {
             "colorbar": {
              "outlinewidth": 1,
              "tickcolor": "rgb(36,36,36)",
              "ticks": "outside"
             }
            },
            "type": "scattergeo"
           }
          ],
          "scattergl": [
           {
            "marker": {
             "colorbar": {
              "outlinewidth": 1,
              "tickcolor": "rgb(36,36,36)",
              "ticks": "outside"
             }
            },
            "type": "scattergl"
           }
          ],
          "scattermapbox": [
           {
            "marker": {
             "colorbar": {
              "outlinewidth": 1,
              "tickcolor": "rgb(36,36,36)",
              "ticks": "outside"
             }
            },
            "type": "scattermapbox"
           }
          ],
          "scatterpolar": [
           {
            "marker": {
             "colorbar": {
              "outlinewidth": 1,
              "tickcolor": "rgb(36,36,36)",
              "ticks": "outside"
             }
            },
            "type": "scatterpolar"
           }
          ],
          "scatterpolargl": [
           {
            "marker": {
             "colorbar": {
              "outlinewidth": 1,
              "tickcolor": "rgb(36,36,36)",
              "ticks": "outside"
             }
            },
            "type": "scatterpolargl"
           }
          ],
          "scatterternary": [
           {
            "marker": {
             "colorbar": {
              "outlinewidth": 1,
              "tickcolor": "rgb(36,36,36)",
              "ticks": "outside"
             }
            },
            "type": "scatterternary"
           }
          ],
          "surface": [
           {
            "colorbar": {
             "outlinewidth": 1,
             "tickcolor": "rgb(36,36,36)",
             "ticks": "outside"
            },
            "colorscale": [
             [
              0,
              "#440154"
             ],
             [
              0.1111111111111111,
              "#482878"
             ],
             [
              0.2222222222222222,
              "#3e4989"
             ],
             [
              0.3333333333333333,
              "#31688e"
             ],
             [
              0.4444444444444444,
              "#26828e"
             ],
             [
              0.5555555555555556,
              "#1f9e89"
             ],
             [
              0.6666666666666666,
              "#35b779"
             ],
             [
              0.7777777777777778,
              "#6ece58"
             ],
             [
              0.8888888888888888,
              "#b5de2b"
             ],
             [
              1,
              "#fde725"
             ]
            ],
            "type": "surface"
           }
          ],
          "table": [
           {
            "cells": {
             "fill": {
              "color": "rgb(237,237,237)"
             },
             "line": {
              "color": "white"
             }
            },
            "header": {
             "fill": {
              "color": "rgb(217,217,217)"
             },
             "line": {
              "color": "white"
             }
            },
            "type": "table"
           }
          ]
         },
         "layout": {
          "annotationdefaults": {
           "arrowhead": 0,
           "arrowwidth": 1
          },
          "autotypenumbers": "strict",
          "coloraxis": {
           "colorbar": {
            "outlinewidth": 1,
            "tickcolor": "rgb(36,36,36)",
            "ticks": "outside"
           }
          },
          "colorscale": {
           "diverging": [
            [
             0,
             "rgb(103,0,31)"
            ],
            [
             0.1,
             "rgb(178,24,43)"
            ],
            [
             0.2,
             "rgb(214,96,77)"
            ],
            [
             0.3,
             "rgb(244,165,130)"
            ],
            [
             0.4,
             "rgb(253,219,199)"
            ],
            [
             0.5,
             "rgb(247,247,247)"
            ],
            [
             0.6,
             "rgb(209,229,240)"
            ],
            [
             0.7,
             "rgb(146,197,222)"
            ],
            [
             0.8,
             "rgb(67,147,195)"
            ],
            [
             0.9,
             "rgb(33,102,172)"
            ],
            [
             1,
             "rgb(5,48,97)"
            ]
           ],
           "sequential": [
            [
             0,
             "#440154"
            ],
            [
             0.1111111111111111,
             "#482878"
            ],
            [
             0.2222222222222222,
             "#3e4989"
            ],
            [
             0.3333333333333333,
             "#31688e"
            ],
            [
             0.4444444444444444,
             "#26828e"
            ],
            [
             0.5555555555555556,
             "#1f9e89"
            ],
            [
             0.6666666666666666,
             "#35b779"
            ],
            [
             0.7777777777777778,
             "#6ece58"
            ],
            [
             0.8888888888888888,
             "#b5de2b"
            ],
            [
             1,
             "#fde725"
            ]
           ],
           "sequentialminus": [
            [
             0,
             "#440154"
            ],
            [
             0.1111111111111111,
             "#482878"
            ],
            [
             0.2222222222222222,
             "#3e4989"
            ],
            [
             0.3333333333333333,
             "#31688e"
            ],
            [
             0.4444444444444444,
             "#26828e"
            ],
            [
             0.5555555555555556,
             "#1f9e89"
            ],
            [
             0.6666666666666666,
             "#35b779"
            ],
            [
             0.7777777777777778,
             "#6ece58"
            ],
            [
             0.8888888888888888,
             "#b5de2b"
            ],
            [
             1,
             "#fde725"
            ]
           ]
          },
          "colorway": [
           "#1F77B4",
           "#FF7F0E",
           "#2CA02C",
           "#D62728",
           "#9467BD",
           "#8C564B",
           "#E377C2",
           "#7F7F7F",
           "#BCBD22",
           "#17BECF"
          ],
          "font": {
           "color": "rgb(36,36,36)"
          },
          "geo": {
           "bgcolor": "white",
           "lakecolor": "white",
           "landcolor": "white",
           "showlakes": true,
           "showland": true,
           "subunitcolor": "white"
          },
          "hoverlabel": {
           "align": "left"
          },
          "hovermode": "closest",
          "mapbox": {
           "style": "light"
          },
          "paper_bgcolor": "white",
          "plot_bgcolor": "white",
          "polar": {
           "angularaxis": {
            "gridcolor": "rgb(232,232,232)",
            "linecolor": "rgb(36,36,36)",
            "showgrid": false,
            "showline": true,
            "ticks": "outside"
           },
           "bgcolor": "white",
           "radialaxis": {
            "gridcolor": "rgb(232,232,232)",
            "linecolor": "rgb(36,36,36)",
            "showgrid": false,
            "showline": true,
            "ticks": "outside"
           }
          },
          "scene": {
           "xaxis": {
            "backgroundcolor": "white",
            "gridcolor": "rgb(232,232,232)",
            "gridwidth": 2,
            "linecolor": "rgb(36,36,36)",
            "showbackground": true,
            "showgrid": false,
            "showline": true,
            "ticks": "outside",
            "zeroline": false,
            "zerolinecolor": "rgb(36,36,36)"
           },
           "yaxis": {
            "backgroundcolor": "white",
            "gridcolor": "rgb(232,232,232)",
            "gridwidth": 2,
            "linecolor": "rgb(36,36,36)",
            "showbackground": true,
            "showgrid": false,
            "showline": true,
            "ticks": "outside",
            "zeroline": false,
            "zerolinecolor": "rgb(36,36,36)"
           },
           "zaxis": {
            "backgroundcolor": "white",
            "gridcolor": "rgb(232,232,232)",
            "gridwidth": 2,
            "linecolor": "rgb(36,36,36)",
            "showbackground": true,
            "showgrid": false,
            "showline": true,
            "ticks": "outside",
            "zeroline": false,
            "zerolinecolor": "rgb(36,36,36)"
           }
          },
          "shapedefaults": {
           "fillcolor": "black",
           "line": {
            "width": 0
           },
           "opacity": 0.3
          },
          "ternary": {
           "aaxis": {
            "gridcolor": "rgb(232,232,232)",
            "linecolor": "rgb(36,36,36)",
            "showgrid": false,
            "showline": true,
            "ticks": "outside"
           },
           "baxis": {
            "gridcolor": "rgb(232,232,232)",
            "linecolor": "rgb(36,36,36)",
            "showgrid": false,
            "showline": true,
            "ticks": "outside"
           },
           "bgcolor": "white",
           "caxis": {
            "gridcolor": "rgb(232,232,232)",
            "linecolor": "rgb(36,36,36)",
            "showgrid": false,
            "showline": true,
            "ticks": "outside"
           }
          },
          "title": {
           "x": 0.05
          },
          "xaxis": {
           "automargin": true,
           "gridcolor": "rgb(232,232,232)",
           "linecolor": "rgb(36,36,36)",
           "showgrid": false,
           "showline": true,
           "ticks": "outside",
           "title": {
            "standoff": 15
           },
           "zeroline": false,
           "zerolinecolor": "rgb(36,36,36)"
          },
          "yaxis": {
           "automargin": true,
           "gridcolor": "rgb(232,232,232)",
           "linecolor": "rgb(36,36,36)",
           "showgrid": false,
           "showline": true,
           "ticks": "outside",
           "title": {
            "standoff": 15
           },
           "zeroline": false,
           "zerolinecolor": "rgb(36,36,36)"
          }
         }
        },
        "title": {
         "text": "Actual vs. Forecast (Out-of-Sample)"
        },
        "width": 1000,
        "xaxis": {
         "anchor": "y",
         "domain": [
          0,
          1
         ]
        },
        "yaxis": {
         "anchor": "x",
         "domain": [
          0,
          1
         ]
        }
       }
      }
     },
     "metadata": {},
     "output_type": "display_data"
    }
   ],
   "source": [
    "arima = exp.create_model('lightgbm_cds_dt')\n",
    "exp.plot_model(plot = 'decomp',\n",
    "               data_kwargs = {'type' : 'multiplicative'},\n",
    "               fig_kwargs = {\"height\":500,\"width\":1000,\"template\": \"simple_white\",\"hoverinfo\":\"none\",\"big_data_threshold\":10})\n",
    "exp.plot_model(estimator = arima, plot = 'forecast', \n",
    "               data_kwargs = {'fh' : 8},\n",
    "               fig_kwargs = {\"height\":500,\"width\":1000,\"template\": \"simple_white\",\"hoverinfo\":\"none\",\"big_data_threshold\":10})"
   ]
  },
  {
   "cell_type": "markdown",
   "metadata": {},
   "source": [
    "## ADA"
   ]
  },
  {
   "cell_type": "code",
   "execution_count": 32,
   "metadata": {},
   "outputs": [
    {
     "data": {
      "text/html": [],
      "text/plain": [
       "<IPython.core.display.HTML object>"
      ]
     },
     "metadata": {},
     "output_type": "display_data"
    },
    {
     "data": {
      "text/html": [
       "<style type=\"text/css\">\n",
       "#T_a8d84_row3_col0, #T_a8d84_row3_col1, #T_a8d84_row3_col2, #T_a8d84_row3_col3, #T_a8d84_row3_col4, #T_a8d84_row3_col5, #T_a8d84_row3_col6 {\n",
       "  background: yellow;\n",
       "}\n",
       "</style>\n",
       "<table id=\"T_a8d84\">\n",
       "  <thead>\n",
       "    <tr>\n",
       "      <th class=\"blank level0\" >&nbsp;</th>\n",
       "      <th id=\"T_a8d84_level0_col0\" class=\"col_heading level0 col0\" >cutoff</th>\n",
       "      <th id=\"T_a8d84_level0_col1\" class=\"col_heading level0 col1\" >MASE</th>\n",
       "      <th id=\"T_a8d84_level0_col2\" class=\"col_heading level0 col2\" >RMSSE</th>\n",
       "      <th id=\"T_a8d84_level0_col3\" class=\"col_heading level0 col3\" >MAE</th>\n",
       "      <th id=\"T_a8d84_level0_col4\" class=\"col_heading level0 col4\" >RMSE</th>\n",
       "      <th id=\"T_a8d84_level0_col5\" class=\"col_heading level0 col5\" >MAPE</th>\n",
       "      <th id=\"T_a8d84_level0_col6\" class=\"col_heading level0 col6\" >SMAPE</th>\n",
       "    </tr>\n",
       "  </thead>\n",
       "  <tbody>\n",
       "    <tr>\n",
       "      <th id=\"T_a8d84_level0_row0\" class=\"row_heading level0 row0\" >0</th>\n",
       "      <td id=\"T_a8d84_row0_col0\" class=\"data row0 col0\" >2019</td>\n",
       "      <td id=\"T_a8d84_row0_col1\" class=\"data row0 col1\" >1.6630</td>\n",
       "      <td id=\"T_a8d84_row0_col2\" class=\"data row0 col2\" >1.5786</td>\n",
       "      <td id=\"T_a8d84_row0_col3\" class=\"data row0 col3\" >604685.5000</td>\n",
       "      <td id=\"T_a8d84_row0_col4\" class=\"data row0 col4\" >604685.5000</td>\n",
       "      <td id=\"T_a8d84_row0_col5\" class=\"data row0 col5\" >0.3027</td>\n",
       "      <td id=\"T_a8d84_row0_col6\" class=\"data row0 col6\" >0.3567</td>\n",
       "    </tr>\n",
       "    <tr>\n",
       "      <th id=\"T_a8d84_level0_row1\" class=\"row_heading level0 row1\" >1</th>\n",
       "      <td id=\"T_a8d84_row1_col0\" class=\"data row1 col0\" >2020</td>\n",
       "      <td id=\"T_a8d84_row1_col1\" class=\"data row1 col1\" >1.1391</td>\n",
       "      <td id=\"T_a8d84_row1_col2\" class=\"data row1 col2\" >1.0050</td>\n",
       "      <td id=\"T_a8d84_row1_col3\" class=\"data row1 col3\" >643786.9000</td>\n",
       "      <td id=\"T_a8d84_row1_col4\" class=\"data row1 col4\" >643786.9000</td>\n",
       "      <td id=\"T_a8d84_row1_col5\" class=\"data row1 col5\" >0.2251</td>\n",
       "      <td id=\"T_a8d84_row1_col6\" class=\"data row1 col6\" >0.2536</td>\n",
       "    </tr>\n",
       "    <tr>\n",
       "      <th id=\"T_a8d84_level0_row2\" class=\"row_heading level0 row2\" >2</th>\n",
       "      <td id=\"T_a8d84_row2_col0\" class=\"data row2 col0\" >2021</td>\n",
       "      <td id=\"T_a8d84_row2_col1\" class=\"data row2 col1\" >0.0583</td>\n",
       "      <td id=\"T_a8d84_row2_col2\" class=\"data row2 col2\" >0.0530</td>\n",
       "      <td id=\"T_a8d84_row2_col3\" class=\"data row2 col3\" >37269.2000</td>\n",
       "      <td id=\"T_a8d84_row2_col4\" class=\"data row2 col4\" >37269.2000</td>\n",
       "      <td id=\"T_a8d84_row2_col5\" class=\"data row2 col5\" >0.0116</td>\n",
       "      <td id=\"T_a8d84_row2_col6\" class=\"data row2 col6\" >0.0117</td>\n",
       "    </tr>\n",
       "    <tr>\n",
       "      <th id=\"T_a8d84_level0_row3\" class=\"row_heading level0 row3\" >Mean</th>\n",
       "      <td id=\"T_a8d84_row3_col0\" class=\"data row3 col0\" >NaT</td>\n",
       "      <td id=\"T_a8d84_row3_col1\" class=\"data row3 col1\" >0.9535</td>\n",
       "      <td id=\"T_a8d84_row3_col2\" class=\"data row3 col2\" >0.8789</td>\n",
       "      <td id=\"T_a8d84_row3_col3\" class=\"data row3 col3\" >428580.5333</td>\n",
       "      <td id=\"T_a8d84_row3_col4\" class=\"data row3 col4\" >428580.5333</td>\n",
       "      <td id=\"T_a8d84_row3_col5\" class=\"data row3 col5\" >0.1798</td>\n",
       "      <td id=\"T_a8d84_row3_col6\" class=\"data row3 col6\" >0.2073</td>\n",
       "    </tr>\n",
       "    <tr>\n",
       "      <th id=\"T_a8d84_level0_row4\" class=\"row_heading level0 row4\" >SD</th>\n",
       "      <td id=\"T_a8d84_row4_col0\" class=\"data row4 col0\" >NaT</td>\n",
       "      <td id=\"T_a8d84_row4_col1\" class=\"data row4 col1\" >0.6681</td>\n",
       "      <td id=\"T_a8d84_row4_col2\" class=\"data row4 col2\" >0.6292</td>\n",
       "      <td id=\"T_a8d84_row4_col3\" class=\"data row4 col3\" >277158.9791</td>\n",
       "      <td id=\"T_a8d84_row4_col4\" class=\"data row4 col4\" >277158.9791</td>\n",
       "      <td id=\"T_a8d84_row4_col5\" class=\"data row4 col5\" >0.1231</td>\n",
       "      <td id=\"T_a8d84_row4_col6\" class=\"data row4 col6\" >0.1446</td>\n",
       "    </tr>\n",
       "  </tbody>\n",
       "</table>\n"
      ],
      "text/plain": [
       "<pandas.io.formats.style.Styler at 0x189a95ec9d0>"
      ]
     },
     "metadata": {},
     "output_type": "display_data"
    },
    {
     "data": {
      "text/html": [],
      "text/plain": [
       "<IPython.core.display.HTML object>"
      ]
     },
     "metadata": {},
     "output_type": "display_data"
    },
    {
     "data": {
      "application/vnd.plotly.v1+json": {
       "config": {
        "plotlyServerURL": "https://plot.ly"
       },
       "data": [
        {
         "line": {
          "color": "rgb(31, 119, 180)",
          "width": 2
         },
         "marker": {
          "size": 2
         },
         "mode": "lines+markers",
         "name": "Actual",
         "type": "scattergl",
         "x": [
          "2017-01-01T00:00:00",
          "2018-01-01T00:00:00",
          "2019-01-01T00:00:00",
          "2020-01-01T00:00:00",
          "2021-01-01T00:00:00",
          "2022-01-01T00:00:00",
          "2023-01-01T00:00:00"
         ],
         "xaxis": "x",
         "y": [
          301961,
          545110,
          1029190,
          1997490,
          2860097,
          3209840,
          4419242
         ],
         "yaxis": "y"
        },
        {
         "line": {
          "color": "rgb(255, 127, 14)",
          "width": 2
         },
         "marker": {
          "size": 2
         },
         "mode": "lines+markers",
         "name": "Seasonal",
         "type": "scattergl",
         "x": [
          "2017-01-01T00:00:00",
          "2018-01-01T00:00:00",
          "2019-01-01T00:00:00",
          "2020-01-01T00:00:00",
          "2021-01-01T00:00:00",
          "2022-01-01T00:00:00",
          "2023-01-01T00:00:00"
         ],
         "xaxis": "x2",
         "y": [
          1,
          1,
          1,
          1,
          1,
          1,
          1
         ],
         "yaxis": "y2"
        },
        {
         "line": {
          "color": "rgb(44, 160, 44)",
          "width": 2
         },
         "marker": {
          "size": 2
         },
         "mode": "lines+markers",
         "name": "Trend",
         "type": "scattergl",
         "x": [
          "2017-01-01T00:00:00",
          "2018-01-01T00:00:00",
          "2019-01-01T00:00:00",
          "2020-01-01T00:00:00",
          "2021-01-01T00:00:00",
          "2022-01-01T00:00:00",
          "2023-01-01T00:00:00"
         ],
         "xaxis": "x3",
         "y": [
          301961,
          545110,
          1029190,
          1997490,
          2860097,
          3209840,
          4419242
         ],
         "yaxis": "y3"
        },
        {
         "line": {
          "color": "rgb(214, 39, 40)",
          "width": 2
         },
         "marker": {
          "size": 4
         },
         "mode": "markers",
         "name": "Residuals",
         "type": "scattergl",
         "x": [
          "2017-01-01T00:00:00",
          "2018-01-01T00:00:00",
          "2019-01-01T00:00:00",
          "2020-01-01T00:00:00",
          "2021-01-01T00:00:00",
          "2022-01-01T00:00:00",
          "2023-01-01T00:00:00"
         ],
         "xaxis": "x4",
         "y": [
          1,
          1,
          1,
          1,
          1,
          1,
          1
         ],
         "yaxis": "y4"
        }
       ],
       "layout": {
        "annotations": [
         {
          "font": {
           "size": 16
          },
          "showarrow": false,
          "text": "liter (transformed)",
          "x": 0.49,
          "xanchor": "center",
          "xref": "paper",
          "y": 1,
          "yanchor": "bottom",
          "yref": "paper"
         },
         {
          "font": {
           "size": 16
          },
          "showarrow": false,
          "text": "Actual",
          "textangle": 90,
          "x": 0.98,
          "xanchor": "left",
          "xref": "paper",
          "y": 0.903125,
          "yanchor": "middle",
          "yref": "paper"
         },
         {
          "font": {
           "size": 16
          },
          "showarrow": false,
          "text": "Seasonal",
          "textangle": 90,
          "x": 0.98,
          "xanchor": "left",
          "xref": "paper",
          "y": 0.6343749999999999,
          "yanchor": "middle",
          "yref": "paper"
         },
         {
          "font": {
           "size": 16
          },
          "showarrow": false,
          "text": "Trend",
          "textangle": 90,
          "x": 0.98,
          "xanchor": "left",
          "xref": "paper",
          "y": 0.365625,
          "yanchor": "middle",
          "yref": "paper"
         },
         {
          "font": {
           "size": 16
          },
          "showarrow": false,
          "text": "Residual",
          "textangle": 90,
          "x": 0.98,
          "xanchor": "left",
          "xref": "paper",
          "y": 0.096875,
          "yanchor": "middle",
          "yref": "paper"
         }
        ],
        "autosize": false,
        "height": 500,
        "showlegend": false,
        "template": {
         "data": {
          "bar": [
           {
            "error_x": {
             "color": "rgb(36,36,36)"
            },
            "error_y": {
             "color": "rgb(36,36,36)"
            },
            "marker": {
             "line": {
              "color": "white",
              "width": 0.5
             },
             "pattern": {
              "fillmode": "overlay",
              "size": 10,
              "solidity": 0.2
             }
            },
            "type": "bar"
           }
          ],
          "barpolar": [
           {
            "marker": {
             "line": {
              "color": "white",
              "width": 0.5
             },
             "pattern": {
              "fillmode": "overlay",
              "size": 10,
              "solidity": 0.2
             }
            },
            "type": "barpolar"
           }
          ],
          "carpet": [
           {
            "aaxis": {
             "endlinecolor": "rgb(36,36,36)",
             "gridcolor": "white",
             "linecolor": "white",
             "minorgridcolor": "white",
             "startlinecolor": "rgb(36,36,36)"
            },
            "baxis": {
             "endlinecolor": "rgb(36,36,36)",
             "gridcolor": "white",
             "linecolor": "white",
             "minorgridcolor": "white",
             "startlinecolor": "rgb(36,36,36)"
            },
            "type": "carpet"
           }
          ],
          "choropleth": [
           {
            "colorbar": {
             "outlinewidth": 1,
             "tickcolor": "rgb(36,36,36)",
             "ticks": "outside"
            },
            "type": "choropleth"
           }
          ],
          "contour": [
           {
            "colorbar": {
             "outlinewidth": 1,
             "tickcolor": "rgb(36,36,36)",
             "ticks": "outside"
            },
            "colorscale": [
             [
              0,
              "#440154"
             ],
             [
              0.1111111111111111,
              "#482878"
             ],
             [
              0.2222222222222222,
              "#3e4989"
             ],
             [
              0.3333333333333333,
              "#31688e"
             ],
             [
              0.4444444444444444,
              "#26828e"
             ],
             [
              0.5555555555555556,
              "#1f9e89"
             ],
             [
              0.6666666666666666,
              "#35b779"
             ],
             [
              0.7777777777777778,
              "#6ece58"
             ],
             [
              0.8888888888888888,
              "#b5de2b"
             ],
             [
              1,
              "#fde725"
             ]
            ],
            "type": "contour"
           }
          ],
          "contourcarpet": [
           {
            "colorbar": {
             "outlinewidth": 1,
             "tickcolor": "rgb(36,36,36)",
             "ticks": "outside"
            },
            "type": "contourcarpet"
           }
          ],
          "heatmap": [
           {
            "colorbar": {
             "outlinewidth": 1,
             "tickcolor": "rgb(36,36,36)",
             "ticks": "outside"
            },
            "colorscale": [
             [
              0,
              "#440154"
             ],
             [
              0.1111111111111111,
              "#482878"
             ],
             [
              0.2222222222222222,
              "#3e4989"
             ],
             [
              0.3333333333333333,
              "#31688e"
             ],
             [
              0.4444444444444444,
              "#26828e"
             ],
             [
              0.5555555555555556,
              "#1f9e89"
             ],
             [
              0.6666666666666666,
              "#35b779"
             ],
             [
              0.7777777777777778,
              "#6ece58"
             ],
             [
              0.8888888888888888,
              "#b5de2b"
             ],
             [
              1,
              "#fde725"
             ]
            ],
            "type": "heatmap"
           }
          ],
          "heatmapgl": [
           {
            "colorbar": {
             "outlinewidth": 1,
             "tickcolor": "rgb(36,36,36)",
             "ticks": "outside"
            },
            "colorscale": [
             [
              0,
              "#440154"
             ],
             [
              0.1111111111111111,
              "#482878"
             ],
             [
              0.2222222222222222,
              "#3e4989"
             ],
             [
              0.3333333333333333,
              "#31688e"
             ],
             [
              0.4444444444444444,
              "#26828e"
             ],
             [
              0.5555555555555556,
              "#1f9e89"
             ],
             [
              0.6666666666666666,
              "#35b779"
             ],
             [
              0.7777777777777778,
              "#6ece58"
             ],
             [
              0.8888888888888888,
              "#b5de2b"
             ],
             [
              1,
              "#fde725"
             ]
            ],
            "type": "heatmapgl"
           }
          ],
          "histogram": [
           {
            "marker": {
             "line": {
              "color": "white",
              "width": 0.6
             }
            },
            "type": "histogram"
           }
          ],
          "histogram2d": [
           {
            "colorbar": {
             "outlinewidth": 1,
             "tickcolor": "rgb(36,36,36)",
             "ticks": "outside"
            },
            "colorscale": [
             [
              0,
              "#440154"
             ],
             [
              0.1111111111111111,
              "#482878"
             ],
             [
              0.2222222222222222,
              "#3e4989"
             ],
             [
              0.3333333333333333,
              "#31688e"
             ],
             [
              0.4444444444444444,
              "#26828e"
             ],
             [
              0.5555555555555556,
              "#1f9e89"
             ],
             [
              0.6666666666666666,
              "#35b779"
             ],
             [
              0.7777777777777778,
              "#6ece58"
             ],
             [
              0.8888888888888888,
              "#b5de2b"
             ],
             [
              1,
              "#fde725"
             ]
            ],
            "type": "histogram2d"
           }
          ],
          "histogram2dcontour": [
           {
            "colorbar": {
             "outlinewidth": 1,
             "tickcolor": "rgb(36,36,36)",
             "ticks": "outside"
            },
            "colorscale": [
             [
              0,
              "#440154"
             ],
             [
              0.1111111111111111,
              "#482878"
             ],
             [
              0.2222222222222222,
              "#3e4989"
             ],
             [
              0.3333333333333333,
              "#31688e"
             ],
             [
              0.4444444444444444,
              "#26828e"
             ],
             [
              0.5555555555555556,
              "#1f9e89"
             ],
             [
              0.6666666666666666,
              "#35b779"
             ],
             [
              0.7777777777777778,
              "#6ece58"
             ],
             [
              0.8888888888888888,
              "#b5de2b"
             ],
             [
              1,
              "#fde725"
             ]
            ],
            "type": "histogram2dcontour"
           }
          ],
          "mesh3d": [
           {
            "colorbar": {
             "outlinewidth": 1,
             "tickcolor": "rgb(36,36,36)",
             "ticks": "outside"
            },
            "type": "mesh3d"
           }
          ],
          "parcoords": [
           {
            "line": {
             "colorbar": {
              "outlinewidth": 1,
              "tickcolor": "rgb(36,36,36)",
              "ticks": "outside"
             }
            },
            "type": "parcoords"
           }
          ],
          "pie": [
           {
            "automargin": true,
            "type": "pie"
           }
          ],
          "scatter": [
           {
            "fillpattern": {
             "fillmode": "overlay",
             "size": 10,
             "solidity": 0.2
            },
            "type": "scatter"
           }
          ],
          "scatter3d": [
           {
            "line": {
             "colorbar": {
              "outlinewidth": 1,
              "tickcolor": "rgb(36,36,36)",
              "ticks": "outside"
             }
            },
            "marker": {
             "colorbar": {
              "outlinewidth": 1,
              "tickcolor": "rgb(36,36,36)",
              "ticks": "outside"
             }
            },
            "type": "scatter3d"
           }
          ],
          "scattercarpet": [
           {
            "marker": {
             "colorbar": {
              "outlinewidth": 1,
              "tickcolor": "rgb(36,36,36)",
              "ticks": "outside"
             }
            },
            "type": "scattercarpet"
           }
          ],
          "scattergeo": [
           {
            "marker": {
             "colorbar": {
              "outlinewidth": 1,
              "tickcolor": "rgb(36,36,36)",
              "ticks": "outside"
             }
            },
            "type": "scattergeo"
           }
          ],
          "scattergl": [
           {
            "marker": {
             "colorbar": {
              "outlinewidth": 1,
              "tickcolor": "rgb(36,36,36)",
              "ticks": "outside"
             }
            },
            "type": "scattergl"
           }
          ],
          "scattermapbox": [
           {
            "marker": {
             "colorbar": {
              "outlinewidth": 1,
              "tickcolor": "rgb(36,36,36)",
              "ticks": "outside"
             }
            },
            "type": "scattermapbox"
           }
          ],
          "scatterpolar": [
           {
            "marker": {
             "colorbar": {
              "outlinewidth": 1,
              "tickcolor": "rgb(36,36,36)",
              "ticks": "outside"
             }
            },
            "type": "scatterpolar"
           }
          ],
          "scatterpolargl": [
           {
            "marker": {
             "colorbar": {
              "outlinewidth": 1,
              "tickcolor": "rgb(36,36,36)",
              "ticks": "outside"
             }
            },
            "type": "scatterpolargl"
           }
          ],
          "scatterternary": [
           {
            "marker": {
             "colorbar": {
              "outlinewidth": 1,
              "tickcolor": "rgb(36,36,36)",
              "ticks": "outside"
             }
            },
            "type": "scatterternary"
           }
          ],
          "surface": [
           {
            "colorbar": {
             "outlinewidth": 1,
             "tickcolor": "rgb(36,36,36)",
             "ticks": "outside"
            },
            "colorscale": [
             [
              0,
              "#440154"
             ],
             [
              0.1111111111111111,
              "#482878"
             ],
             [
              0.2222222222222222,
              "#3e4989"
             ],
             [
              0.3333333333333333,
              "#31688e"
             ],
             [
              0.4444444444444444,
              "#26828e"
             ],
             [
              0.5555555555555556,
              "#1f9e89"
             ],
             [
              0.6666666666666666,
              "#35b779"
             ],
             [
              0.7777777777777778,
              "#6ece58"
             ],
             [
              0.8888888888888888,
              "#b5de2b"
             ],
             [
              1,
              "#fde725"
             ]
            ],
            "type": "surface"
           }
          ],
          "table": [
           {
            "cells": {
             "fill": {
              "color": "rgb(237,237,237)"
             },
             "line": {
              "color": "white"
             }
            },
            "header": {
             "fill": {
              "color": "rgb(217,217,217)"
             },
             "line": {
              "color": "white"
             }
            },
            "type": "table"
           }
          ]
         },
         "layout": {
          "annotationdefaults": {
           "arrowhead": 0,
           "arrowwidth": 1
          },
          "autotypenumbers": "strict",
          "coloraxis": {
           "colorbar": {
            "outlinewidth": 1,
            "tickcolor": "rgb(36,36,36)",
            "ticks": "outside"
           }
          },
          "colorscale": {
           "diverging": [
            [
             0,
             "rgb(103,0,31)"
            ],
            [
             0.1,
             "rgb(178,24,43)"
            ],
            [
             0.2,
             "rgb(214,96,77)"
            ],
            [
             0.3,
             "rgb(244,165,130)"
            ],
            [
             0.4,
             "rgb(253,219,199)"
            ],
            [
             0.5,
             "rgb(247,247,247)"
            ],
            [
             0.6,
             "rgb(209,229,240)"
            ],
            [
             0.7,
             "rgb(146,197,222)"
            ],
            [
             0.8,
             "rgb(67,147,195)"
            ],
            [
             0.9,
             "rgb(33,102,172)"
            ],
            [
             1,
             "rgb(5,48,97)"
            ]
           ],
           "sequential": [
            [
             0,
             "#440154"
            ],
            [
             0.1111111111111111,
             "#482878"
            ],
            [
             0.2222222222222222,
             "#3e4989"
            ],
            [
             0.3333333333333333,
             "#31688e"
            ],
            [
             0.4444444444444444,
             "#26828e"
            ],
            [
             0.5555555555555556,
             "#1f9e89"
            ],
            [
             0.6666666666666666,
             "#35b779"
            ],
            [
             0.7777777777777778,
             "#6ece58"
            ],
            [
             0.8888888888888888,
             "#b5de2b"
            ],
            [
             1,
             "#fde725"
            ]
           ],
           "sequentialminus": [
            [
             0,
             "#440154"
            ],
            [
             0.1111111111111111,
             "#482878"
            ],
            [
             0.2222222222222222,
             "#3e4989"
            ],
            [
             0.3333333333333333,
             "#31688e"
            ],
            [
             0.4444444444444444,
             "#26828e"
            ],
            [
             0.5555555555555556,
             "#1f9e89"
            ],
            [
             0.6666666666666666,
             "#35b779"
            ],
            [
             0.7777777777777778,
             "#6ece58"
            ],
            [
             0.8888888888888888,
             "#b5de2b"
            ],
            [
             1,
             "#fde725"
            ]
           ]
          },
          "colorway": [
           "#1F77B4",
           "#FF7F0E",
           "#2CA02C",
           "#D62728",
           "#9467BD",
           "#8C564B",
           "#E377C2",
           "#7F7F7F",
           "#BCBD22",
           "#17BECF"
          ],
          "font": {
           "color": "rgb(36,36,36)"
          },
          "geo": {
           "bgcolor": "white",
           "lakecolor": "white",
           "landcolor": "white",
           "showlakes": true,
           "showland": true,
           "subunitcolor": "white"
          },
          "hoverlabel": {
           "align": "left"
          },
          "hovermode": "closest",
          "mapbox": {
           "style": "light"
          },
          "paper_bgcolor": "white",
          "plot_bgcolor": "white",
          "polar": {
           "angularaxis": {
            "gridcolor": "rgb(232,232,232)",
            "linecolor": "rgb(36,36,36)",
            "showgrid": false,
            "showline": true,
            "ticks": "outside"
           },
           "bgcolor": "white",
           "radialaxis": {
            "gridcolor": "rgb(232,232,232)",
            "linecolor": "rgb(36,36,36)",
            "showgrid": false,
            "showline": true,
            "ticks": "outside"
           }
          },
          "scene": {
           "xaxis": {
            "backgroundcolor": "white",
            "gridcolor": "rgb(232,232,232)",
            "gridwidth": 2,
            "linecolor": "rgb(36,36,36)",
            "showbackground": true,
            "showgrid": false,
            "showline": true,
            "ticks": "outside",
            "zeroline": false,
            "zerolinecolor": "rgb(36,36,36)"
           },
           "yaxis": {
            "backgroundcolor": "white",
            "gridcolor": "rgb(232,232,232)",
            "gridwidth": 2,
            "linecolor": "rgb(36,36,36)",
            "showbackground": true,
            "showgrid": false,
            "showline": true,
            "ticks": "outside",
            "zeroline": false,
            "zerolinecolor": "rgb(36,36,36)"
           },
           "zaxis": {
            "backgroundcolor": "white",
            "gridcolor": "rgb(232,232,232)",
            "gridwidth": 2,
            "linecolor": "rgb(36,36,36)",
            "showbackground": true,
            "showgrid": false,
            "showline": true,
            "ticks": "outside",
            "zeroline": false,
            "zerolinecolor": "rgb(36,36,36)"
           }
          },
          "shapedefaults": {
           "fillcolor": "black",
           "line": {
            "width": 0
           },
           "opacity": 0.3
          },
          "ternary": {
           "aaxis": {
            "gridcolor": "rgb(232,232,232)",
            "linecolor": "rgb(36,36,36)",
            "showgrid": false,
            "showline": true,
            "ticks": "outside"
           },
           "baxis": {
            "gridcolor": "rgb(232,232,232)",
            "linecolor": "rgb(36,36,36)",
            "showgrid": false,
            "showline": true,
            "ticks": "outside"
           },
           "bgcolor": "white",
           "caxis": {
            "gridcolor": "rgb(232,232,232)",
            "linecolor": "rgb(36,36,36)",
            "showgrid": false,
            "showline": true,
            "ticks": "outside"
           }
          },
          "title": {
           "x": 0.05
          },
          "xaxis": {
           "automargin": true,
           "gridcolor": "rgb(232,232,232)",
           "linecolor": "rgb(36,36,36)",
           "showgrid": false,
           "showline": true,
           "ticks": "outside",
           "title": {
            "standoff": 15
           },
           "zeroline": false,
           "zerolinecolor": "rgb(36,36,36)"
          },
          "yaxis": {
           "automargin": true,
           "gridcolor": "rgb(232,232,232)",
           "linecolor": "rgb(36,36,36)",
           "showgrid": false,
           "showline": true,
           "ticks": "outside",
           "title": {
            "standoff": 15
           },
           "zeroline": false,
           "zerolinecolor": "rgb(36,36,36)"
          }
         }
        },
        "title": {
         "text": "Classical Decomposition (multiplicative) | liter<br>Seasonal Period = 1"
        },
        "width": 1000,
        "xaxis": {
         "anchor": "y",
         "domain": [
          0,
          0.98
         ],
         "matches": "x4",
         "showticklabels": false
        },
        "xaxis2": {
         "anchor": "y2",
         "domain": [
          0,
          0.98
         ],
         "matches": "x4",
         "showticklabels": false
        },
        "xaxis3": {
         "anchor": "y3",
         "domain": [
          0,
          0.98
         ],
         "matches": "x4",
         "showticklabels": false
        },
        "xaxis4": {
         "anchor": "y4",
         "domain": [
          0,
          0.98
         ]
        },
        "yaxis": {
         "anchor": "x",
         "domain": [
          0.80625,
          1
         ]
        },
        "yaxis2": {
         "anchor": "x2",
         "domain": [
          0.5375,
          0.73125
         ]
        },
        "yaxis3": {
         "anchor": "x3",
         "domain": [
          0.26875,
          0.4625
         ]
        },
        "yaxis4": {
         "anchor": "x4",
         "domain": [
          0,
          0.19375
         ]
        }
       }
      }
     },
     "metadata": {},
     "output_type": "display_data"
    },
    {
     "data": {
      "application/vnd.plotly.v1+json": {
       "config": {
        "plotlyServerURL": "https://plot.ly"
       },
       "data": [
        {
         "hoverinfo": "none",
         "line": {
          "width": 2
         },
         "marker": {
          "size": 5
         },
         "mode": "lines+markers",
         "name": "liter",
         "type": "scattergl",
         "x": [
          "2017-01-01T00:00:00",
          "2018-01-01T00:00:00",
          "2019-01-01T00:00:00",
          "2020-01-01T00:00:00",
          "2021-01-01T00:00:00",
          "2022-01-01T00:00:00",
          "2023-01-01T00:00:00",
          "2024-01-01T00:00:00",
          "2025-01-01T00:00:00",
          "2026-01-01T00:00:00",
          "2027-01-01T00:00:00",
          "2028-01-01T00:00:00",
          "2029-01-01T00:00:00",
          "2030-01-01T00:00:00"
         ],
         "xaxis": "x",
         "y": [
          301961,
          545110,
          1029190,
          1997490,
          2860097,
          3209840,
          4419242,
          null,
          null,
          null,
          null,
          null,
          null,
          null
         ],
         "yaxis": "y"
        },
        {
         "hoverinfo": "none",
         "line": {
          "width": 2
         },
         "marker": {
          "size": 5
         },
         "mode": "lines+markers",
         "name": "AdaBoostRegressor",
         "type": "scattergl",
         "x": [
          "2017-01-01T00:00:00",
          "2018-01-01T00:00:00",
          "2019-01-01T00:00:00",
          "2020-01-01T00:00:00",
          "2021-01-01T00:00:00",
          "2022-01-01T00:00:00",
          "2023-01-01T00:00:00",
          "2024-01-01T00:00:00",
          "2025-01-01T00:00:00",
          "2026-01-01T00:00:00",
          "2027-01-01T00:00:00",
          "2028-01-01T00:00:00",
          "2029-01-01T00:00:00",
          "2030-01-01T00:00:00"
         ],
         "xaxis": "x",
         "y": [
          null,
          null,
          null,
          null,
          null,
          null,
          4143105.9143,
          4492848.9143,
          5426114.8286,
          5775857.8286,
          6709123.7429,
          7058866.7429,
          7992132.6571,
          8341875.6571
         ],
         "yaxis": "y"
        }
       ],
       "layout": {
        "autosize": false,
        "height": 500,
        "showlegend": true,
        "template": {
         "data": {
          "bar": [
           {
            "error_x": {
             "color": "rgb(36,36,36)"
            },
            "error_y": {
             "color": "rgb(36,36,36)"
            },
            "marker": {
             "line": {
              "color": "white",
              "width": 0.5
             },
             "pattern": {
              "fillmode": "overlay",
              "size": 10,
              "solidity": 0.2
             }
            },
            "type": "bar"
           }
          ],
          "barpolar": [
           {
            "marker": {
             "line": {
              "color": "white",
              "width": 0.5
             },
             "pattern": {
              "fillmode": "overlay",
              "size": 10,
              "solidity": 0.2
             }
            },
            "type": "barpolar"
           }
          ],
          "carpet": [
           {
            "aaxis": {
             "endlinecolor": "rgb(36,36,36)",
             "gridcolor": "white",
             "linecolor": "white",
             "minorgridcolor": "white",
             "startlinecolor": "rgb(36,36,36)"
            },
            "baxis": {
             "endlinecolor": "rgb(36,36,36)",
             "gridcolor": "white",
             "linecolor": "white",
             "minorgridcolor": "white",
             "startlinecolor": "rgb(36,36,36)"
            },
            "type": "carpet"
           }
          ],
          "choropleth": [
           {
            "colorbar": {
             "outlinewidth": 1,
             "tickcolor": "rgb(36,36,36)",
             "ticks": "outside"
            },
            "type": "choropleth"
           }
          ],
          "contour": [
           {
            "colorbar": {
             "outlinewidth": 1,
             "tickcolor": "rgb(36,36,36)",
             "ticks": "outside"
            },
            "colorscale": [
             [
              0,
              "#440154"
             ],
             [
              0.1111111111111111,
              "#482878"
             ],
             [
              0.2222222222222222,
              "#3e4989"
             ],
             [
              0.3333333333333333,
              "#31688e"
             ],
             [
              0.4444444444444444,
              "#26828e"
             ],
             [
              0.5555555555555556,
              "#1f9e89"
             ],
             [
              0.6666666666666666,
              "#35b779"
             ],
             [
              0.7777777777777778,
              "#6ece58"
             ],
             [
              0.8888888888888888,
              "#b5de2b"
             ],
             [
              1,
              "#fde725"
             ]
            ],
            "type": "contour"
           }
          ],
          "contourcarpet": [
           {
            "colorbar": {
             "outlinewidth": 1,
             "tickcolor": "rgb(36,36,36)",
             "ticks": "outside"
            },
            "type": "contourcarpet"
           }
          ],
          "heatmap": [
           {
            "colorbar": {
             "outlinewidth": 1,
             "tickcolor": "rgb(36,36,36)",
             "ticks": "outside"
            },
            "colorscale": [
             [
              0,
              "#440154"
             ],
             [
              0.1111111111111111,
              "#482878"
             ],
             [
              0.2222222222222222,
              "#3e4989"
             ],
             [
              0.3333333333333333,
              "#31688e"
             ],
             [
              0.4444444444444444,
              "#26828e"
             ],
             [
              0.5555555555555556,
              "#1f9e89"
             ],
             [
              0.6666666666666666,
              "#35b779"
             ],
             [
              0.7777777777777778,
              "#6ece58"
             ],
             [
              0.8888888888888888,
              "#b5de2b"
             ],
             [
              1,
              "#fde725"
             ]
            ],
            "type": "heatmap"
           }
          ],
          "heatmapgl": [
           {
            "colorbar": {
             "outlinewidth": 1,
             "tickcolor": "rgb(36,36,36)",
             "ticks": "outside"
            },
            "colorscale": [
             [
              0,
              "#440154"
             ],
             [
              0.1111111111111111,
              "#482878"
             ],
             [
              0.2222222222222222,
              "#3e4989"
             ],
             [
              0.3333333333333333,
              "#31688e"
             ],
             [
              0.4444444444444444,
              "#26828e"
             ],
             [
              0.5555555555555556,
              "#1f9e89"
             ],
             [
              0.6666666666666666,
              "#35b779"
             ],
             [
              0.7777777777777778,
              "#6ece58"
             ],
             [
              0.8888888888888888,
              "#b5de2b"
             ],
             [
              1,
              "#fde725"
             ]
            ],
            "type": "heatmapgl"
           }
          ],
          "histogram": [
           {
            "marker": {
             "line": {
              "color": "white",
              "width": 0.6
             }
            },
            "type": "histogram"
           }
          ],
          "histogram2d": [
           {
            "colorbar": {
             "outlinewidth": 1,
             "tickcolor": "rgb(36,36,36)",
             "ticks": "outside"
            },
            "colorscale": [
             [
              0,
              "#440154"
             ],
             [
              0.1111111111111111,
              "#482878"
             ],
             [
              0.2222222222222222,
              "#3e4989"
             ],
             [
              0.3333333333333333,
              "#31688e"
             ],
             [
              0.4444444444444444,
              "#26828e"
             ],
             [
              0.5555555555555556,
              "#1f9e89"
             ],
             [
              0.6666666666666666,
              "#35b779"
             ],
             [
              0.7777777777777778,
              "#6ece58"
             ],
             [
              0.8888888888888888,
              "#b5de2b"
             ],
             [
              1,
              "#fde725"
             ]
            ],
            "type": "histogram2d"
           }
          ],
          "histogram2dcontour": [
           {
            "colorbar": {
             "outlinewidth": 1,
             "tickcolor": "rgb(36,36,36)",
             "ticks": "outside"
            },
            "colorscale": [
             [
              0,
              "#440154"
             ],
             [
              0.1111111111111111,
              "#482878"
             ],
             [
              0.2222222222222222,
              "#3e4989"
             ],
             [
              0.3333333333333333,
              "#31688e"
             ],
             [
              0.4444444444444444,
              "#26828e"
             ],
             [
              0.5555555555555556,
              "#1f9e89"
             ],
             [
              0.6666666666666666,
              "#35b779"
             ],
             [
              0.7777777777777778,
              "#6ece58"
             ],
             [
              0.8888888888888888,
              "#b5de2b"
             ],
             [
              1,
              "#fde725"
             ]
            ],
            "type": "histogram2dcontour"
           }
          ],
          "mesh3d": [
           {
            "colorbar": {
             "outlinewidth": 1,
             "tickcolor": "rgb(36,36,36)",
             "ticks": "outside"
            },
            "type": "mesh3d"
           }
          ],
          "parcoords": [
           {
            "line": {
             "colorbar": {
              "outlinewidth": 1,
              "tickcolor": "rgb(36,36,36)",
              "ticks": "outside"
             }
            },
            "type": "parcoords"
           }
          ],
          "pie": [
           {
            "automargin": true,
            "type": "pie"
           }
          ],
          "scatter": [
           {
            "fillpattern": {
             "fillmode": "overlay",
             "size": 10,
             "solidity": 0.2
            },
            "type": "scatter"
           }
          ],
          "scatter3d": [
           {
            "line": {
             "colorbar": {
              "outlinewidth": 1,
              "tickcolor": "rgb(36,36,36)",
              "ticks": "outside"
             }
            },
            "marker": {
             "colorbar": {
              "outlinewidth": 1,
              "tickcolor": "rgb(36,36,36)",
              "ticks": "outside"
             }
            },
            "type": "scatter3d"
           }
          ],
          "scattercarpet": [
           {
            "marker": {
             "colorbar": {
              "outlinewidth": 1,
              "tickcolor": "rgb(36,36,36)",
              "ticks": "outside"
             }
            },
            "type": "scattercarpet"
           }
          ],
          "scattergeo": [
           {
            "marker": {
             "colorbar": {
              "outlinewidth": 1,
              "tickcolor": "rgb(36,36,36)",
              "ticks": "outside"
             }
            },
            "type": "scattergeo"
           }
          ],
          "scattergl": [
           {
            "marker": {
             "colorbar": {
              "outlinewidth": 1,
              "tickcolor": "rgb(36,36,36)",
              "ticks": "outside"
             }
            },
            "type": "scattergl"
           }
          ],
          "scattermapbox": [
           {
            "marker": {
             "colorbar": {
              "outlinewidth": 1,
              "tickcolor": "rgb(36,36,36)",
              "ticks": "outside"
             }
            },
            "type": "scattermapbox"
           }
          ],
          "scatterpolar": [
           {
            "marker": {
             "colorbar": {
              "outlinewidth": 1,
              "tickcolor": "rgb(36,36,36)",
              "ticks": "outside"
             }
            },
            "type": "scatterpolar"
           }
          ],
          "scatterpolargl": [
           {
            "marker": {
             "colorbar": {
              "outlinewidth": 1,
              "tickcolor": "rgb(36,36,36)",
              "ticks": "outside"
             }
            },
            "type": "scatterpolargl"
           }
          ],
          "scatterternary": [
           {
            "marker": {
             "colorbar": {
              "outlinewidth": 1,
              "tickcolor": "rgb(36,36,36)",
              "ticks": "outside"
             }
            },
            "type": "scatterternary"
           }
          ],
          "surface": [
           {
            "colorbar": {
             "outlinewidth": 1,
             "tickcolor": "rgb(36,36,36)",
             "ticks": "outside"
            },
            "colorscale": [
             [
              0,
              "#440154"
             ],
             [
              0.1111111111111111,
              "#482878"
             ],
             [
              0.2222222222222222,
              "#3e4989"
             ],
             [
              0.3333333333333333,
              "#31688e"
             ],
             [
              0.4444444444444444,
              "#26828e"
             ],
             [
              0.5555555555555556,
              "#1f9e89"
             ],
             [
              0.6666666666666666,
              "#35b779"
             ],
             [
              0.7777777777777778,
              "#6ece58"
             ],
             [
              0.8888888888888888,
              "#b5de2b"
             ],
             [
              1,
              "#fde725"
             ]
            ],
            "type": "surface"
           }
          ],
          "table": [
           {
            "cells": {
             "fill": {
              "color": "rgb(237,237,237)"
             },
             "line": {
              "color": "white"
             }
            },
            "header": {
             "fill": {
              "color": "rgb(217,217,217)"
             },
             "line": {
              "color": "white"
             }
            },
            "type": "table"
           }
          ]
         },
         "layout": {
          "annotationdefaults": {
           "arrowhead": 0,
           "arrowwidth": 1
          },
          "autotypenumbers": "strict",
          "coloraxis": {
           "colorbar": {
            "outlinewidth": 1,
            "tickcolor": "rgb(36,36,36)",
            "ticks": "outside"
           }
          },
          "colorscale": {
           "diverging": [
            [
             0,
             "rgb(103,0,31)"
            ],
            [
             0.1,
             "rgb(178,24,43)"
            ],
            [
             0.2,
             "rgb(214,96,77)"
            ],
            [
             0.3,
             "rgb(244,165,130)"
            ],
            [
             0.4,
             "rgb(253,219,199)"
            ],
            [
             0.5,
             "rgb(247,247,247)"
            ],
            [
             0.6,
             "rgb(209,229,240)"
            ],
            [
             0.7,
             "rgb(146,197,222)"
            ],
            [
             0.8,
             "rgb(67,147,195)"
            ],
            [
             0.9,
             "rgb(33,102,172)"
            ],
            [
             1,
             "rgb(5,48,97)"
            ]
           ],
           "sequential": [
            [
             0,
             "#440154"
            ],
            [
             0.1111111111111111,
             "#482878"
            ],
            [
             0.2222222222222222,
             "#3e4989"
            ],
            [
             0.3333333333333333,
             "#31688e"
            ],
            [
             0.4444444444444444,
             "#26828e"
            ],
            [
             0.5555555555555556,
             "#1f9e89"
            ],
            [
             0.6666666666666666,
             "#35b779"
            ],
            [
             0.7777777777777778,
             "#6ece58"
            ],
            [
             0.8888888888888888,
             "#b5de2b"
            ],
            [
             1,
             "#fde725"
            ]
           ],
           "sequentialminus": [
            [
             0,
             "#440154"
            ],
            [
             0.1111111111111111,
             "#482878"
            ],
            [
             0.2222222222222222,
             "#3e4989"
            ],
            [
             0.3333333333333333,
             "#31688e"
            ],
            [
             0.4444444444444444,
             "#26828e"
            ],
            [
             0.5555555555555556,
             "#1f9e89"
            ],
            [
             0.6666666666666666,
             "#35b779"
            ],
            [
             0.7777777777777778,
             "#6ece58"
            ],
            [
             0.8888888888888888,
             "#b5de2b"
            ],
            [
             1,
             "#fde725"
            ]
           ]
          },
          "colorway": [
           "#1F77B4",
           "#FF7F0E",
           "#2CA02C",
           "#D62728",
           "#9467BD",
           "#8C564B",
           "#E377C2",
           "#7F7F7F",
           "#BCBD22",
           "#17BECF"
          ],
          "font": {
           "color": "rgb(36,36,36)"
          },
          "geo": {
           "bgcolor": "white",
           "lakecolor": "white",
           "landcolor": "white",
           "showlakes": true,
           "showland": true,
           "subunitcolor": "white"
          },
          "hoverlabel": {
           "align": "left"
          },
          "hovermode": "closest",
          "mapbox": {
           "style": "light"
          },
          "paper_bgcolor": "white",
          "plot_bgcolor": "white",
          "polar": {
           "angularaxis": {
            "gridcolor": "rgb(232,232,232)",
            "linecolor": "rgb(36,36,36)",
            "showgrid": false,
            "showline": true,
            "ticks": "outside"
           },
           "bgcolor": "white",
           "radialaxis": {
            "gridcolor": "rgb(232,232,232)",
            "linecolor": "rgb(36,36,36)",
            "showgrid": false,
            "showline": true,
            "ticks": "outside"
           }
          },
          "scene": {
           "xaxis": {
            "backgroundcolor": "white",
            "gridcolor": "rgb(232,232,232)",
            "gridwidth": 2,
            "linecolor": "rgb(36,36,36)",
            "showbackground": true,
            "showgrid": false,
            "showline": true,
            "ticks": "outside",
            "zeroline": false,
            "zerolinecolor": "rgb(36,36,36)"
           },
           "yaxis": {
            "backgroundcolor": "white",
            "gridcolor": "rgb(232,232,232)",
            "gridwidth": 2,
            "linecolor": "rgb(36,36,36)",
            "showbackground": true,
            "showgrid": false,
            "showline": true,
            "ticks": "outside",
            "zeroline": false,
            "zerolinecolor": "rgb(36,36,36)"
           },
           "zaxis": {
            "backgroundcolor": "white",
            "gridcolor": "rgb(232,232,232)",
            "gridwidth": 2,
            "linecolor": "rgb(36,36,36)",
            "showbackground": true,
            "showgrid": false,
            "showline": true,
            "ticks": "outside",
            "zeroline": false,
            "zerolinecolor": "rgb(36,36,36)"
           }
          },
          "shapedefaults": {
           "fillcolor": "black",
           "line": {
            "width": 0
           },
           "opacity": 0.3
          },
          "ternary": {
           "aaxis": {
            "gridcolor": "rgb(232,232,232)",
            "linecolor": "rgb(36,36,36)",
            "showgrid": false,
            "showline": true,
            "ticks": "outside"
           },
           "baxis": {
            "gridcolor": "rgb(232,232,232)",
            "linecolor": "rgb(36,36,36)",
            "showgrid": false,
            "showline": true,
            "ticks": "outside"
           },
           "bgcolor": "white",
           "caxis": {
            "gridcolor": "rgb(232,232,232)",
            "linecolor": "rgb(36,36,36)",
            "showgrid": false,
            "showline": true,
            "ticks": "outside"
           }
          },
          "title": {
           "x": 0.05
          },
          "xaxis": {
           "automargin": true,
           "gridcolor": "rgb(232,232,232)",
           "linecolor": "rgb(36,36,36)",
           "showgrid": false,
           "showline": true,
           "ticks": "outside",
           "title": {
            "standoff": 15
           },
           "zeroline": false,
           "zerolinecolor": "rgb(36,36,36)"
          },
          "yaxis": {
           "automargin": true,
           "gridcolor": "rgb(232,232,232)",
           "linecolor": "rgb(36,36,36)",
           "showgrid": false,
           "showline": true,
           "ticks": "outside",
           "title": {
            "standoff": 15
           },
           "zeroline": false,
           "zerolinecolor": "rgb(36,36,36)"
          }
         }
        },
        "title": {
         "text": "Actual vs. Forecast (Out-of-Sample)"
        },
        "width": 1000,
        "xaxis": {
         "anchor": "y",
         "domain": [
          0,
          1
         ]
        },
        "yaxis": {
         "anchor": "x",
         "domain": [
          0,
          1
         ]
        }
       }
      }
     },
     "metadata": {},
     "output_type": "display_data"
    }
   ],
   "source": [
    "arima = exp.create_model('ada_cds_dt')\n",
    "exp.plot_model(plot = 'decomp',\n",
    "               data_kwargs = {'type' : 'multiplicative'},\n",
    "               fig_kwargs = {\"height\":500,\"width\":1000,\"template\": \"simple_white\",\"hoverinfo\":\"none\",\"big_data_threshold\":10})\n",
    "exp.plot_model(estimator = arima, plot = 'forecast', \n",
    "               data_kwargs = {'fh' : 8},\n",
    "               fig_kwargs = {\"height\":500,\"width\":1000,\"template\": \"simple_white\",\"hoverinfo\":\"none\",\"big_data_threshold\":10})"
   ]
  },
  {
   "cell_type": "markdown",
   "metadata": {},
   "source": [
    "## POLYTREND\n"
   ]
  },
  {
   "cell_type": "code",
   "execution_count": 33,
   "metadata": {},
   "outputs": [
    {
     "data": {
      "text/html": [],
      "text/plain": [
       "<IPython.core.display.HTML object>"
      ]
     },
     "metadata": {},
     "output_type": "display_data"
    },
    {
     "data": {
      "text/html": [
       "<style type=\"text/css\">\n",
       "#T_6d90f_row3_col0, #T_6d90f_row3_col1, #T_6d90f_row3_col2, #T_6d90f_row3_col3, #T_6d90f_row3_col4, #T_6d90f_row3_col5, #T_6d90f_row3_col6 {\n",
       "  background: yellow;\n",
       "}\n",
       "</style>\n",
       "<table id=\"T_6d90f\">\n",
       "  <thead>\n",
       "    <tr>\n",
       "      <th class=\"blank level0\" >&nbsp;</th>\n",
       "      <th id=\"T_6d90f_level0_col0\" class=\"col_heading level0 col0\" >cutoff</th>\n",
       "      <th id=\"T_6d90f_level0_col1\" class=\"col_heading level0 col1\" >MASE</th>\n",
       "      <th id=\"T_6d90f_level0_col2\" class=\"col_heading level0 col2\" >RMSSE</th>\n",
       "      <th id=\"T_6d90f_level0_col3\" class=\"col_heading level0 col3\" >MAE</th>\n",
       "      <th id=\"T_6d90f_level0_col4\" class=\"col_heading level0 col4\" >RMSE</th>\n",
       "      <th id=\"T_6d90f_level0_col5\" class=\"col_heading level0 col5\" >MAPE</th>\n",
       "      <th id=\"T_6d90f_level0_col6\" class=\"col_heading level0 col6\" >SMAPE</th>\n",
       "    </tr>\n",
       "  </thead>\n",
       "  <tbody>\n",
       "    <tr>\n",
       "      <th id=\"T_6d90f_level0_row0\" class=\"row_heading level0 row0\" >0</th>\n",
       "      <td id=\"T_6d90f_row0_col0\" class=\"data row0 col0\" >2019</td>\n",
       "      <td id=\"T_6d90f_row0_col1\" class=\"data row0 col1\" >1.7734</td>\n",
       "      <td id=\"T_6d90f_row0_col2\" class=\"data row0 col2\" >1.6834</td>\n",
       "      <td id=\"T_6d90f_row0_col3\" class=\"data row0 col3\" >644840.6667</td>\n",
       "      <td id=\"T_6d90f_row0_col4\" class=\"data row0 col4\" >644840.6667</td>\n",
       "      <td id=\"T_6d90f_row0_col5\" class=\"data row0 col5\" >0.3228</td>\n",
       "      <td id=\"T_6d90f_row0_col6\" class=\"data row0 col6\" >0.3850</td>\n",
       "    </tr>\n",
       "    <tr>\n",
       "      <th id=\"T_6d90f_level0_row1\" class=\"row_heading level0 row1\" >1</th>\n",
       "      <td id=\"T_6d90f_row1_col0\" class=\"data row1 col0\" >2020</td>\n",
       "      <td id=\"T_6d90f_row1_col1\" class=\"data row1 col1\" >0.8829</td>\n",
       "      <td id=\"T_6d90f_row1_col2\" class=\"data row1 col2\" >0.7790</td>\n",
       "      <td id=\"T_6d90f_row1_col3\" class=\"data row1 col3\" >498992.5000</td>\n",
       "      <td id=\"T_6d90f_row1_col4\" class=\"data row1 col4\" >498992.5000</td>\n",
       "      <td id=\"T_6d90f_row1_col5\" class=\"data row1 col5\" >0.1745</td>\n",
       "      <td id=\"T_6d90f_row1_col6\" class=\"data row1 col6\" >0.1911</td>\n",
       "    </tr>\n",
       "    <tr>\n",
       "      <th id=\"T_6d90f_level0_row2\" class=\"row_heading level0 row2\" >2</th>\n",
       "      <td id=\"T_6d90f_row2_col0\" class=\"data row2 col0\" >2021</td>\n",
       "      <td id=\"T_6d90f_row2_col1\" class=\"data row2 col1\" >0.1681</td>\n",
       "      <td id=\"T_6d90f_row2_col2\" class=\"data row2 col2\" >0.1530</td>\n",
       "      <td id=\"T_6d90f_row2_col3\" class=\"data row2 col3\" >107525.2000</td>\n",
       "      <td id=\"T_6d90f_row2_col4\" class=\"data row2 col4\" >107525.2000</td>\n",
       "      <td id=\"T_6d90f_row2_col5\" class=\"data row2 col5\" >0.0335</td>\n",
       "      <td id=\"T_6d90f_row2_col6\" class=\"data row2 col6\" >0.0329</td>\n",
       "    </tr>\n",
       "    <tr>\n",
       "      <th id=\"T_6d90f_level0_row3\" class=\"row_heading level0 row3\" >Mean</th>\n",
       "      <td id=\"T_6d90f_row3_col0\" class=\"data row3 col0\" >NaT</td>\n",
       "      <td id=\"T_6d90f_row3_col1\" class=\"data row3 col1\" >0.9415</td>\n",
       "      <td id=\"T_6d90f_row3_col2\" class=\"data row3 col2\" >0.8718</td>\n",
       "      <td id=\"T_6d90f_row3_col3\" class=\"data row3 col3\" >417119.4556</td>\n",
       "      <td id=\"T_6d90f_row3_col4\" class=\"data row3 col4\" >417119.4556</td>\n",
       "      <td id=\"T_6d90f_row3_col5\" class=\"data row3 col5\" >0.1769</td>\n",
       "      <td id=\"T_6d90f_row3_col6\" class=\"data row3 col6\" >0.2030</td>\n",
       "    </tr>\n",
       "    <tr>\n",
       "      <th id=\"T_6d90f_level0_row4\" class=\"row_heading level0 row4\" >SD</th>\n",
       "      <td id=\"T_6d90f_row4_col0\" class=\"data row4 col0\" >NaT</td>\n",
       "      <td id=\"T_6d90f_row4_col1\" class=\"data row4 col1\" >0.6567</td>\n",
       "      <td id=\"T_6d90f_row4_col2\" class=\"data row4 col2\" >0.6282</td>\n",
       "      <td id=\"T_6d90f_row4_col3\" class=\"data row4 col3\" >226869.0874</td>\n",
       "      <td id=\"T_6d90f_row4_col4\" class=\"data row4 col4\" >226869.0874</td>\n",
       "      <td id=\"T_6d90f_row4_col5\" class=\"data row4 col5\" >0.1181</td>\n",
       "      <td id=\"T_6d90f_row4_col6\" class=\"data row4 col6\" >0.1440</td>\n",
       "    </tr>\n",
       "  </tbody>\n",
       "</table>\n"
      ],
      "text/plain": [
       "<pandas.io.formats.style.Styler at 0x189adce06a0>"
      ]
     },
     "metadata": {},
     "output_type": "display_data"
    },
    {
     "data": {
      "text/html": [],
      "text/plain": [
       "<IPython.core.display.HTML object>"
      ]
     },
     "metadata": {},
     "output_type": "display_data"
    },
    {
     "data": {
      "application/vnd.plotly.v1+json": {
       "config": {
        "plotlyServerURL": "https://plot.ly"
       },
       "data": [
        {
         "line": {
          "color": "rgb(31, 119, 180)",
          "width": 2
         },
         "marker": {
          "size": 2
         },
         "mode": "lines+markers",
         "name": "Actual",
         "type": "scattergl",
         "x": [
          "2017-01-01T00:00:00",
          "2018-01-01T00:00:00",
          "2019-01-01T00:00:00",
          "2020-01-01T00:00:00",
          "2021-01-01T00:00:00",
          "2022-01-01T00:00:00",
          "2023-01-01T00:00:00"
         ],
         "xaxis": "x",
         "y": [
          301961,
          545110,
          1029190,
          1997490,
          2860097,
          3209840,
          4419242
         ],
         "yaxis": "y"
        },
        {
         "line": {
          "color": "rgb(255, 127, 14)",
          "width": 2
         },
         "marker": {
          "size": 2
         },
         "mode": "lines+markers",
         "name": "Seasonal",
         "type": "scattergl",
         "x": [
          "2017-01-01T00:00:00",
          "2018-01-01T00:00:00",
          "2019-01-01T00:00:00",
          "2020-01-01T00:00:00",
          "2021-01-01T00:00:00",
          "2022-01-01T00:00:00",
          "2023-01-01T00:00:00"
         ],
         "xaxis": "x2",
         "y": [
          1,
          1,
          1,
          1,
          1,
          1,
          1
         ],
         "yaxis": "y2"
        },
        {
         "line": {
          "color": "rgb(44, 160, 44)",
          "width": 2
         },
         "marker": {
          "size": 2
         },
         "mode": "lines+markers",
         "name": "Trend",
         "type": "scattergl",
         "x": [
          "2017-01-01T00:00:00",
          "2018-01-01T00:00:00",
          "2019-01-01T00:00:00",
          "2020-01-01T00:00:00",
          "2021-01-01T00:00:00",
          "2022-01-01T00:00:00",
          "2023-01-01T00:00:00"
         ],
         "xaxis": "x3",
         "y": [
          301961,
          545110,
          1029190,
          1997490,
          2860097,
          3209840,
          4419242
         ],
         "yaxis": "y3"
        },
        {
         "line": {
          "color": "rgb(214, 39, 40)",
          "width": 2
         },
         "marker": {
          "size": 4
         },
         "mode": "markers",
         "name": "Residuals",
         "type": "scattergl",
         "x": [
          "2017-01-01T00:00:00",
          "2018-01-01T00:00:00",
          "2019-01-01T00:00:00",
          "2020-01-01T00:00:00",
          "2021-01-01T00:00:00",
          "2022-01-01T00:00:00",
          "2023-01-01T00:00:00"
         ],
         "xaxis": "x4",
         "y": [
          1,
          1,
          1,
          1,
          1,
          1,
          1
         ],
         "yaxis": "y4"
        }
       ],
       "layout": {
        "annotations": [
         {
          "font": {
           "size": 16
          },
          "showarrow": false,
          "text": "liter (transformed)",
          "x": 0.49,
          "xanchor": "center",
          "xref": "paper",
          "y": 1,
          "yanchor": "bottom",
          "yref": "paper"
         },
         {
          "font": {
           "size": 16
          },
          "showarrow": false,
          "text": "Actual",
          "textangle": 90,
          "x": 0.98,
          "xanchor": "left",
          "xref": "paper",
          "y": 0.903125,
          "yanchor": "middle",
          "yref": "paper"
         },
         {
          "font": {
           "size": 16
          },
          "showarrow": false,
          "text": "Seasonal",
          "textangle": 90,
          "x": 0.98,
          "xanchor": "left",
          "xref": "paper",
          "y": 0.6343749999999999,
          "yanchor": "middle",
          "yref": "paper"
         },
         {
          "font": {
           "size": 16
          },
          "showarrow": false,
          "text": "Trend",
          "textangle": 90,
          "x": 0.98,
          "xanchor": "left",
          "xref": "paper",
          "y": 0.365625,
          "yanchor": "middle",
          "yref": "paper"
         },
         {
          "font": {
           "size": 16
          },
          "showarrow": false,
          "text": "Residual",
          "textangle": 90,
          "x": 0.98,
          "xanchor": "left",
          "xref": "paper",
          "y": 0.096875,
          "yanchor": "middle",
          "yref": "paper"
         }
        ],
        "autosize": false,
        "height": 500,
        "showlegend": false,
        "template": {
         "data": {
          "bar": [
           {
            "error_x": {
             "color": "rgb(36,36,36)"
            },
            "error_y": {
             "color": "rgb(36,36,36)"
            },
            "marker": {
             "line": {
              "color": "white",
              "width": 0.5
             },
             "pattern": {
              "fillmode": "overlay",
              "size": 10,
              "solidity": 0.2
             }
            },
            "type": "bar"
           }
          ],
          "barpolar": [
           {
            "marker": {
             "line": {
              "color": "white",
              "width": 0.5
             },
             "pattern": {
              "fillmode": "overlay",
              "size": 10,
              "solidity": 0.2
             }
            },
            "type": "barpolar"
           }
          ],
          "carpet": [
           {
            "aaxis": {
             "endlinecolor": "rgb(36,36,36)",
             "gridcolor": "white",
             "linecolor": "white",
             "minorgridcolor": "white",
             "startlinecolor": "rgb(36,36,36)"
            },
            "baxis": {
             "endlinecolor": "rgb(36,36,36)",
             "gridcolor": "white",
             "linecolor": "white",
             "minorgridcolor": "white",
             "startlinecolor": "rgb(36,36,36)"
            },
            "type": "carpet"
           }
          ],
          "choropleth": [
           {
            "colorbar": {
             "outlinewidth": 1,
             "tickcolor": "rgb(36,36,36)",
             "ticks": "outside"
            },
            "type": "choropleth"
           }
          ],
          "contour": [
           {
            "colorbar": {
             "outlinewidth": 1,
             "tickcolor": "rgb(36,36,36)",
             "ticks": "outside"
            },
            "colorscale": [
             [
              0,
              "#440154"
             ],
             [
              0.1111111111111111,
              "#482878"
             ],
             [
              0.2222222222222222,
              "#3e4989"
             ],
             [
              0.3333333333333333,
              "#31688e"
             ],
             [
              0.4444444444444444,
              "#26828e"
             ],
             [
              0.5555555555555556,
              "#1f9e89"
             ],
             [
              0.6666666666666666,
              "#35b779"
             ],
             [
              0.7777777777777778,
              "#6ece58"
             ],
             [
              0.8888888888888888,
              "#b5de2b"
             ],
             [
              1,
              "#fde725"
             ]
            ],
            "type": "contour"
           }
          ],
          "contourcarpet": [
           {
            "colorbar": {
             "outlinewidth": 1,
             "tickcolor": "rgb(36,36,36)",
             "ticks": "outside"
            },
            "type": "contourcarpet"
           }
          ],
          "heatmap": [
           {
            "colorbar": {
             "outlinewidth": 1,
             "tickcolor": "rgb(36,36,36)",
             "ticks": "outside"
            },
            "colorscale": [
             [
              0,
              "#440154"
             ],
             [
              0.1111111111111111,
              "#482878"
             ],
             [
              0.2222222222222222,
              "#3e4989"
             ],
             [
              0.3333333333333333,
              "#31688e"
             ],
             [
              0.4444444444444444,
              "#26828e"
             ],
             [
              0.5555555555555556,
              "#1f9e89"
             ],
             [
              0.6666666666666666,
              "#35b779"
             ],
             [
              0.7777777777777778,
              "#6ece58"
             ],
             [
              0.8888888888888888,
              "#b5de2b"
             ],
             [
              1,
              "#fde725"
             ]
            ],
            "type": "heatmap"
           }
          ],
          "heatmapgl": [
           {
            "colorbar": {
             "outlinewidth": 1,
             "tickcolor": "rgb(36,36,36)",
             "ticks": "outside"
            },
            "colorscale": [
             [
              0,
              "#440154"
             ],
             [
              0.1111111111111111,
              "#482878"
             ],
             [
              0.2222222222222222,
              "#3e4989"
             ],
             [
              0.3333333333333333,
              "#31688e"
             ],
             [
              0.4444444444444444,
              "#26828e"
             ],
             [
              0.5555555555555556,
              "#1f9e89"
             ],
             [
              0.6666666666666666,
              "#35b779"
             ],
             [
              0.7777777777777778,
              "#6ece58"
             ],
             [
              0.8888888888888888,
              "#b5de2b"
             ],
             [
              1,
              "#fde725"
             ]
            ],
            "type": "heatmapgl"
           }
          ],
          "histogram": [
           {
            "marker": {
             "line": {
              "color": "white",
              "width": 0.6
             }
            },
            "type": "histogram"
           }
          ],
          "histogram2d": [
           {
            "colorbar": {
             "outlinewidth": 1,
             "tickcolor": "rgb(36,36,36)",
             "ticks": "outside"
            },
            "colorscale": [
             [
              0,
              "#440154"
             ],
             [
              0.1111111111111111,
              "#482878"
             ],
             [
              0.2222222222222222,
              "#3e4989"
             ],
             [
              0.3333333333333333,
              "#31688e"
             ],
             [
              0.4444444444444444,
              "#26828e"
             ],
             [
              0.5555555555555556,
              "#1f9e89"
             ],
             [
              0.6666666666666666,
              "#35b779"
             ],
             [
              0.7777777777777778,
              "#6ece58"
             ],
             [
              0.8888888888888888,
              "#b5de2b"
             ],
             [
              1,
              "#fde725"
             ]
            ],
            "type": "histogram2d"
           }
          ],
          "histogram2dcontour": [
           {
            "colorbar": {
             "outlinewidth": 1,
             "tickcolor": "rgb(36,36,36)",
             "ticks": "outside"
            },
            "colorscale": [
             [
              0,
              "#440154"
             ],
             [
              0.1111111111111111,
              "#482878"
             ],
             [
              0.2222222222222222,
              "#3e4989"
             ],
             [
              0.3333333333333333,
              "#31688e"
             ],
             [
              0.4444444444444444,
              "#26828e"
             ],
             [
              0.5555555555555556,
              "#1f9e89"
             ],
             [
              0.6666666666666666,
              "#35b779"
             ],
             [
              0.7777777777777778,
              "#6ece58"
             ],
             [
              0.8888888888888888,
              "#b5de2b"
             ],
             [
              1,
              "#fde725"
             ]
            ],
            "type": "histogram2dcontour"
           }
          ],
          "mesh3d": [
           {
            "colorbar": {
             "outlinewidth": 1,
             "tickcolor": "rgb(36,36,36)",
             "ticks": "outside"
            },
            "type": "mesh3d"
           }
          ],
          "parcoords": [
           {
            "line": {
             "colorbar": {
              "outlinewidth": 1,
              "tickcolor": "rgb(36,36,36)",
              "ticks": "outside"
             }
            },
            "type": "parcoords"
           }
          ],
          "pie": [
           {
            "automargin": true,
            "type": "pie"
           }
          ],
          "scatter": [
           {
            "fillpattern": {
             "fillmode": "overlay",
             "size": 10,
             "solidity": 0.2
            },
            "type": "scatter"
           }
          ],
          "scatter3d": [
           {
            "line": {
             "colorbar": {
              "outlinewidth": 1,
              "tickcolor": "rgb(36,36,36)",
              "ticks": "outside"
             }
            },
            "marker": {
             "colorbar": {
              "outlinewidth": 1,
              "tickcolor": "rgb(36,36,36)",
              "ticks": "outside"
             }
            },
            "type": "scatter3d"
           }
          ],
          "scattercarpet": [
           {
            "marker": {
             "colorbar": {
              "outlinewidth": 1,
              "tickcolor": "rgb(36,36,36)",
              "ticks": "outside"
             }
            },
            "type": "scattercarpet"
           }
          ],
          "scattergeo": [
           {
            "marker": {
             "colorbar": {
              "outlinewidth": 1,
              "tickcolor": "rgb(36,36,36)",
              "ticks": "outside"
             }
            },
            "type": "scattergeo"
           }
          ],
          "scattergl": [
           {
            "marker": {
             "colorbar": {
              "outlinewidth": 1,
              "tickcolor": "rgb(36,36,36)",
              "ticks": "outside"
             }
            },
            "type": "scattergl"
           }
          ],
          "scattermapbox": [
           {
            "marker": {
             "colorbar": {
              "outlinewidth": 1,
              "tickcolor": "rgb(36,36,36)",
              "ticks": "outside"
             }
            },
            "type": "scattermapbox"
           }
          ],
          "scatterpolar": [
           {
            "marker": {
             "colorbar": {
              "outlinewidth": 1,
              "tickcolor": "rgb(36,36,36)",
              "ticks": "outside"
             }
            },
            "type": "scatterpolar"
           }
          ],
          "scatterpolargl": [
           {
            "marker": {
             "colorbar": {
              "outlinewidth": 1,
              "tickcolor": "rgb(36,36,36)",
              "ticks": "outside"
             }
            },
            "type": "scatterpolargl"
           }
          ],
          "scatterternary": [
           {
            "marker": {
             "colorbar": {
              "outlinewidth": 1,
              "tickcolor": "rgb(36,36,36)",
              "ticks": "outside"
             }
            },
            "type": "scatterternary"
           }
          ],
          "surface": [
           {
            "colorbar": {
             "outlinewidth": 1,
             "tickcolor": "rgb(36,36,36)",
             "ticks": "outside"
            },
            "colorscale": [
             [
              0,
              "#440154"
             ],
             [
              0.1111111111111111,
              "#482878"
             ],
             [
              0.2222222222222222,
              "#3e4989"
             ],
             [
              0.3333333333333333,
              "#31688e"
             ],
             [
              0.4444444444444444,
              "#26828e"
             ],
             [
              0.5555555555555556,
              "#1f9e89"
             ],
             [
              0.6666666666666666,
              "#35b779"
             ],
             [
              0.7777777777777778,
              "#6ece58"
             ],
             [
              0.8888888888888888,
              "#b5de2b"
             ],
             [
              1,
              "#fde725"
             ]
            ],
            "type": "surface"
           }
          ],
          "table": [
           {
            "cells": {
             "fill": {
              "color": "rgb(237,237,237)"
             },
             "line": {
              "color": "white"
             }
            },
            "header": {
             "fill": {
              "color": "rgb(217,217,217)"
             },
             "line": {
              "color": "white"
             }
            },
            "type": "table"
           }
          ]
         },
         "layout": {
          "annotationdefaults": {
           "arrowhead": 0,
           "arrowwidth": 1
          },
          "autotypenumbers": "strict",
          "coloraxis": {
           "colorbar": {
            "outlinewidth": 1,
            "tickcolor": "rgb(36,36,36)",
            "ticks": "outside"
           }
          },
          "colorscale": {
           "diverging": [
            [
             0,
             "rgb(103,0,31)"
            ],
            [
             0.1,
             "rgb(178,24,43)"
            ],
            [
             0.2,
             "rgb(214,96,77)"
            ],
            [
             0.3,
             "rgb(244,165,130)"
            ],
            [
             0.4,
             "rgb(253,219,199)"
            ],
            [
             0.5,
             "rgb(247,247,247)"
            ],
            [
             0.6,
             "rgb(209,229,240)"
            ],
            [
             0.7,
             "rgb(146,197,222)"
            ],
            [
             0.8,
             "rgb(67,147,195)"
            ],
            [
             0.9,
             "rgb(33,102,172)"
            ],
            [
             1,
             "rgb(5,48,97)"
            ]
           ],
           "sequential": [
            [
             0,
             "#440154"
            ],
            [
             0.1111111111111111,
             "#482878"
            ],
            [
             0.2222222222222222,
             "#3e4989"
            ],
            [
             0.3333333333333333,
             "#31688e"
            ],
            [
             0.4444444444444444,
             "#26828e"
            ],
            [
             0.5555555555555556,
             "#1f9e89"
            ],
            [
             0.6666666666666666,
             "#35b779"
            ],
            [
             0.7777777777777778,
             "#6ece58"
            ],
            [
             0.8888888888888888,
             "#b5de2b"
            ],
            [
             1,
             "#fde725"
            ]
           ],
           "sequentialminus": [
            [
             0,
             "#440154"
            ],
            [
             0.1111111111111111,
             "#482878"
            ],
            [
             0.2222222222222222,
             "#3e4989"
            ],
            [
             0.3333333333333333,
             "#31688e"
            ],
            [
             0.4444444444444444,
             "#26828e"
            ],
            [
             0.5555555555555556,
             "#1f9e89"
            ],
            [
             0.6666666666666666,
             "#35b779"
            ],
            [
             0.7777777777777778,
             "#6ece58"
            ],
            [
             0.8888888888888888,
             "#b5de2b"
            ],
            [
             1,
             "#fde725"
            ]
           ]
          },
          "colorway": [
           "#1F77B4",
           "#FF7F0E",
           "#2CA02C",
           "#D62728",
           "#9467BD",
           "#8C564B",
           "#E377C2",
           "#7F7F7F",
           "#BCBD22",
           "#17BECF"
          ],
          "font": {
           "color": "rgb(36,36,36)"
          },
          "geo": {
           "bgcolor": "white",
           "lakecolor": "white",
           "landcolor": "white",
           "showlakes": true,
           "showland": true,
           "subunitcolor": "white"
          },
          "hoverlabel": {
           "align": "left"
          },
          "hovermode": "closest",
          "mapbox": {
           "style": "light"
          },
          "paper_bgcolor": "white",
          "plot_bgcolor": "white",
          "polar": {
           "angularaxis": {
            "gridcolor": "rgb(232,232,232)",
            "linecolor": "rgb(36,36,36)",
            "showgrid": false,
            "showline": true,
            "ticks": "outside"
           },
           "bgcolor": "white",
           "radialaxis": {
            "gridcolor": "rgb(232,232,232)",
            "linecolor": "rgb(36,36,36)",
            "showgrid": false,
            "showline": true,
            "ticks": "outside"
           }
          },
          "scene": {
           "xaxis": {
            "backgroundcolor": "white",
            "gridcolor": "rgb(232,232,232)",
            "gridwidth": 2,
            "linecolor": "rgb(36,36,36)",
            "showbackground": true,
            "showgrid": false,
            "showline": true,
            "ticks": "outside",
            "zeroline": false,
            "zerolinecolor": "rgb(36,36,36)"
           },
           "yaxis": {
            "backgroundcolor": "white",
            "gridcolor": "rgb(232,232,232)",
            "gridwidth": 2,
            "linecolor": "rgb(36,36,36)",
            "showbackground": true,
            "showgrid": false,
            "showline": true,
            "ticks": "outside",
            "zeroline": false,
            "zerolinecolor": "rgb(36,36,36)"
           },
           "zaxis": {
            "backgroundcolor": "white",
            "gridcolor": "rgb(232,232,232)",
            "gridwidth": 2,
            "linecolor": "rgb(36,36,36)",
            "showbackground": true,
            "showgrid": false,
            "showline": true,
            "ticks": "outside",
            "zeroline": false,
            "zerolinecolor": "rgb(36,36,36)"
           }
          },
          "shapedefaults": {
           "fillcolor": "black",
           "line": {
            "width": 0
           },
           "opacity": 0.3
          },
          "ternary": {
           "aaxis": {
            "gridcolor": "rgb(232,232,232)",
            "linecolor": "rgb(36,36,36)",
            "showgrid": false,
            "showline": true,
            "ticks": "outside"
           },
           "baxis": {
            "gridcolor": "rgb(232,232,232)",
            "linecolor": "rgb(36,36,36)",
            "showgrid": false,
            "showline": true,
            "ticks": "outside"
           },
           "bgcolor": "white",
           "caxis": {
            "gridcolor": "rgb(232,232,232)",
            "linecolor": "rgb(36,36,36)",
            "showgrid": false,
            "showline": true,
            "ticks": "outside"
           }
          },
          "title": {
           "x": 0.05
          },
          "xaxis": {
           "automargin": true,
           "gridcolor": "rgb(232,232,232)",
           "linecolor": "rgb(36,36,36)",
           "showgrid": false,
           "showline": true,
           "ticks": "outside",
           "title": {
            "standoff": 15
           },
           "zeroline": false,
           "zerolinecolor": "rgb(36,36,36)"
          },
          "yaxis": {
           "automargin": true,
           "gridcolor": "rgb(232,232,232)",
           "linecolor": "rgb(36,36,36)",
           "showgrid": false,
           "showline": true,
           "ticks": "outside",
           "title": {
            "standoff": 15
           },
           "zeroline": false,
           "zerolinecolor": "rgb(36,36,36)"
          }
         }
        },
        "title": {
         "text": "Classical Decomposition (multiplicative) | liter<br>Seasonal Period = 1"
        },
        "width": 1000,
        "xaxis": {
         "anchor": "y",
         "domain": [
          0,
          0.98
         ],
         "matches": "x4",
         "showticklabels": false
        },
        "xaxis2": {
         "anchor": "y2",
         "domain": [
          0,
          0.98
         ],
         "matches": "x4",
         "showticklabels": false
        },
        "xaxis3": {
         "anchor": "y3",
         "domain": [
          0,
          0.98
         ],
         "matches": "x4",
         "showticklabels": false
        },
        "xaxis4": {
         "anchor": "y4",
         "domain": [
          0,
          0.98
         ]
        },
        "yaxis": {
         "anchor": "x",
         "domain": [
          0.80625,
          1
         ]
        },
        "yaxis2": {
         "anchor": "x2",
         "domain": [
          0.5375,
          0.73125
         ]
        },
        "yaxis3": {
         "anchor": "x3",
         "domain": [
          0.26875,
          0.4625
         ]
        },
        "yaxis4": {
         "anchor": "x4",
         "domain": [
          0,
          0.19375
         ]
        }
       }
      }
     },
     "metadata": {},
     "output_type": "display_data"
    },
    {
     "data": {
      "application/vnd.plotly.v1+json": {
       "config": {
        "plotlyServerURL": "https://plot.ly"
       },
       "data": [
        {
         "hoverinfo": "none",
         "line": {
          "width": 2
         },
         "marker": {
          "size": 5
         },
         "mode": "lines+markers",
         "name": "liter",
         "type": "scattergl",
         "x": [
          "2017-01-01T00:00:00",
          "2018-01-01T00:00:00",
          "2019-01-01T00:00:00",
          "2020-01-01T00:00:00",
          "2021-01-01T00:00:00",
          "2022-01-01T00:00:00",
          "2023-01-01T00:00:00",
          "2024-01-01T00:00:00",
          "2025-01-01T00:00:00",
          "2026-01-01T00:00:00",
          "2027-01-01T00:00:00",
          "2028-01-01T00:00:00",
          "2029-01-01T00:00:00",
          "2030-01-01T00:00:00"
         ],
         "xaxis": "x",
         "y": [
          301961,
          545110,
          1029190,
          1997490,
          2860097,
          3209840,
          4419242,
          null,
          null,
          null,
          null,
          null,
          null,
          null
         ],
         "yaxis": "y"
        },
        {
         "hoverinfo": "none",
         "line": {
          "width": 2
         },
         "marker": {
          "size": 5
         },
         "mode": "lines+markers",
         "name": "Polynomial Trend Forecaster",
         "type": "scattergl",
         "x": [
          "2017-01-01T00:00:00",
          "2018-01-01T00:00:00",
          "2019-01-01T00:00:00",
          "2020-01-01T00:00:00",
          "2021-01-01T00:00:00",
          "2022-01-01T00:00:00",
          "2023-01-01T00:00:00",
          "2024-01-01T00:00:00",
          "2025-01-01T00:00:00",
          "2026-01-01T00:00:00",
          "2027-01-01T00:00:00",
          "2028-01-01T00:00:00",
          "2029-01-01T00:00:00",
          "2030-01-01T00:00:00"
         ],
         "xaxis": "x",
         "y": [
          null,
          null,
          null,
          null,
          null,
          null,
          3902546.9333,
          4544051.3905,
          5185555.8476,
          5827060.3048,
          6468564.7619,
          7110069.219,
          7751573.6762,
          8393078.1333
         ],
         "yaxis": "y"
        }
       ],
       "layout": {
        "autosize": false,
        "height": 500,
        "showlegend": true,
        "template": {
         "data": {
          "bar": [
           {
            "error_x": {
             "color": "rgb(36,36,36)"
            },
            "error_y": {
             "color": "rgb(36,36,36)"
            },
            "marker": {
             "line": {
              "color": "white",
              "width": 0.5
             },
             "pattern": {
              "fillmode": "overlay",
              "size": 10,
              "solidity": 0.2
             }
            },
            "type": "bar"
           }
          ],
          "barpolar": [
           {
            "marker": {
             "line": {
              "color": "white",
              "width": 0.5
             },
             "pattern": {
              "fillmode": "overlay",
              "size": 10,
              "solidity": 0.2
             }
            },
            "type": "barpolar"
           }
          ],
          "carpet": [
           {
            "aaxis": {
             "endlinecolor": "rgb(36,36,36)",
             "gridcolor": "white",
             "linecolor": "white",
             "minorgridcolor": "white",
             "startlinecolor": "rgb(36,36,36)"
            },
            "baxis": {
             "endlinecolor": "rgb(36,36,36)",
             "gridcolor": "white",
             "linecolor": "white",
             "minorgridcolor": "white",
             "startlinecolor": "rgb(36,36,36)"
            },
            "type": "carpet"
           }
          ],
          "choropleth": [
           {
            "colorbar": {
             "outlinewidth": 1,
             "tickcolor": "rgb(36,36,36)",
             "ticks": "outside"
            },
            "type": "choropleth"
           }
          ],
          "contour": [
           {
            "colorbar": {
             "outlinewidth": 1,
             "tickcolor": "rgb(36,36,36)",
             "ticks": "outside"
            },
            "colorscale": [
             [
              0,
              "#440154"
             ],
             [
              0.1111111111111111,
              "#482878"
             ],
             [
              0.2222222222222222,
              "#3e4989"
             ],
             [
              0.3333333333333333,
              "#31688e"
             ],
             [
              0.4444444444444444,
              "#26828e"
             ],
             [
              0.5555555555555556,
              "#1f9e89"
             ],
             [
              0.6666666666666666,
              "#35b779"
             ],
             [
              0.7777777777777778,
              "#6ece58"
             ],
             [
              0.8888888888888888,
              "#b5de2b"
             ],
             [
              1,
              "#fde725"
             ]
            ],
            "type": "contour"
           }
          ],
          "contourcarpet": [
           {
            "colorbar": {
             "outlinewidth": 1,
             "tickcolor": "rgb(36,36,36)",
             "ticks": "outside"
            },
            "type": "contourcarpet"
           }
          ],
          "heatmap": [
           {
            "colorbar": {
             "outlinewidth": 1,
             "tickcolor": "rgb(36,36,36)",
             "ticks": "outside"
            },
            "colorscale": [
             [
              0,
              "#440154"
             ],
             [
              0.1111111111111111,
              "#482878"
             ],
             [
              0.2222222222222222,
              "#3e4989"
             ],
             [
              0.3333333333333333,
              "#31688e"
             ],
             [
              0.4444444444444444,
              "#26828e"
             ],
             [
              0.5555555555555556,
              "#1f9e89"
             ],
             [
              0.6666666666666666,
              "#35b779"
             ],
             [
              0.7777777777777778,
              "#6ece58"
             ],
             [
              0.8888888888888888,
              "#b5de2b"
             ],
             [
              1,
              "#fde725"
             ]
            ],
            "type": "heatmap"
           }
          ],
          "heatmapgl": [
           {
            "colorbar": {
             "outlinewidth": 1,
             "tickcolor": "rgb(36,36,36)",
             "ticks": "outside"
            },
            "colorscale": [
             [
              0,
              "#440154"
             ],
             [
              0.1111111111111111,
              "#482878"
             ],
             [
              0.2222222222222222,
              "#3e4989"
             ],
             [
              0.3333333333333333,
              "#31688e"
             ],
             [
              0.4444444444444444,
              "#26828e"
             ],
             [
              0.5555555555555556,
              "#1f9e89"
             ],
             [
              0.6666666666666666,
              "#35b779"
             ],
             [
              0.7777777777777778,
              "#6ece58"
             ],
             [
              0.8888888888888888,
              "#b5de2b"
             ],
             [
              1,
              "#fde725"
             ]
            ],
            "type": "heatmapgl"
           }
          ],
          "histogram": [
           {
            "marker": {
             "line": {
              "color": "white",
              "width": 0.6
             }
            },
            "type": "histogram"
           }
          ],
          "histogram2d": [
           {
            "colorbar": {
             "outlinewidth": 1,
             "tickcolor": "rgb(36,36,36)",
             "ticks": "outside"
            },
            "colorscale": [
             [
              0,
              "#440154"
             ],
             [
              0.1111111111111111,
              "#482878"
             ],
             [
              0.2222222222222222,
              "#3e4989"
             ],
             [
              0.3333333333333333,
              "#31688e"
             ],
             [
              0.4444444444444444,
              "#26828e"
             ],
             [
              0.5555555555555556,
              "#1f9e89"
             ],
             [
              0.6666666666666666,
              "#35b779"
             ],
             [
              0.7777777777777778,
              "#6ece58"
             ],
             [
              0.8888888888888888,
              "#b5de2b"
             ],
             [
              1,
              "#fde725"
             ]
            ],
            "type": "histogram2d"
           }
          ],
          "histogram2dcontour": [
           {
            "colorbar": {
             "outlinewidth": 1,
             "tickcolor": "rgb(36,36,36)",
             "ticks": "outside"
            },
            "colorscale": [
             [
              0,
              "#440154"
             ],
             [
              0.1111111111111111,
              "#482878"
             ],
             [
              0.2222222222222222,
              "#3e4989"
             ],
             [
              0.3333333333333333,
              "#31688e"
             ],
             [
              0.4444444444444444,
              "#26828e"
             ],
             [
              0.5555555555555556,
              "#1f9e89"
             ],
             [
              0.6666666666666666,
              "#35b779"
             ],
             [
              0.7777777777777778,
              "#6ece58"
             ],
             [
              0.8888888888888888,
              "#b5de2b"
             ],
             [
              1,
              "#fde725"
             ]
            ],
            "type": "histogram2dcontour"
           }
          ],
          "mesh3d": [
           {
            "colorbar": {
             "outlinewidth": 1,
             "tickcolor": "rgb(36,36,36)",
             "ticks": "outside"
            },
            "type": "mesh3d"
           }
          ],
          "parcoords": [
           {
            "line": {
             "colorbar": {
              "outlinewidth": 1,
              "tickcolor": "rgb(36,36,36)",
              "ticks": "outside"
             }
            },
            "type": "parcoords"
           }
          ],
          "pie": [
           {
            "automargin": true,
            "type": "pie"
           }
          ],
          "scatter": [
           {
            "fillpattern": {
             "fillmode": "overlay",
             "size": 10,
             "solidity": 0.2
            },
            "type": "scatter"
           }
          ],
          "scatter3d": [
           {
            "line": {
             "colorbar": {
              "outlinewidth": 1,
              "tickcolor": "rgb(36,36,36)",
              "ticks": "outside"
             }
            },
            "marker": {
             "colorbar": {
              "outlinewidth": 1,
              "tickcolor": "rgb(36,36,36)",
              "ticks": "outside"
             }
            },
            "type": "scatter3d"
           }
          ],
          "scattercarpet": [
           {
            "marker": {
             "colorbar": {
              "outlinewidth": 1,
              "tickcolor": "rgb(36,36,36)",
              "ticks": "outside"
             }
            },
            "type": "scattercarpet"
           }
          ],
          "scattergeo": [
           {
            "marker": {
             "colorbar": {
              "outlinewidth": 1,
              "tickcolor": "rgb(36,36,36)",
              "ticks": "outside"
             }
            },
            "type": "scattergeo"
           }
          ],
          "scattergl": [
           {
            "marker": {
             "colorbar": {
              "outlinewidth": 1,
              "tickcolor": "rgb(36,36,36)",
              "ticks": "outside"
             }
            },
            "type": "scattergl"
           }
          ],
          "scattermapbox": [
           {
            "marker": {
             "colorbar": {
              "outlinewidth": 1,
              "tickcolor": "rgb(36,36,36)",
              "ticks": "outside"
             }
            },
            "type": "scattermapbox"
           }
          ],
          "scatterpolar": [
           {
            "marker": {
             "colorbar": {
              "outlinewidth": 1,
              "tickcolor": "rgb(36,36,36)",
              "ticks": "outside"
             }
            },
            "type": "scatterpolar"
           }
          ],
          "scatterpolargl": [
           {
            "marker": {
             "colorbar": {
              "outlinewidth": 1,
              "tickcolor": "rgb(36,36,36)",
              "ticks": "outside"
             }
            },
            "type": "scatterpolargl"
           }
          ],
          "scatterternary": [
           {
            "marker": {
             "colorbar": {
              "outlinewidth": 1,
              "tickcolor": "rgb(36,36,36)",
              "ticks": "outside"
             }
            },
            "type": "scatterternary"
           }
          ],
          "surface": [
           {
            "colorbar": {
             "outlinewidth": 1,
             "tickcolor": "rgb(36,36,36)",
             "ticks": "outside"
            },
            "colorscale": [
             [
              0,
              "#440154"
             ],
             [
              0.1111111111111111,
              "#482878"
             ],
             [
              0.2222222222222222,
              "#3e4989"
             ],
             [
              0.3333333333333333,
              "#31688e"
             ],
             [
              0.4444444444444444,
              "#26828e"
             ],
             [
              0.5555555555555556,
              "#1f9e89"
             ],
             [
              0.6666666666666666,
              "#35b779"
             ],
             [
              0.7777777777777778,
              "#6ece58"
             ],
             [
              0.8888888888888888,
              "#b5de2b"
             ],
             [
              1,
              "#fde725"
             ]
            ],
            "type": "surface"
           }
          ],
          "table": [
           {
            "cells": {
             "fill": {
              "color": "rgb(237,237,237)"
             },
             "line": {
              "color": "white"
             }
            },
            "header": {
             "fill": {
              "color": "rgb(217,217,217)"
             },
             "line": {
              "color": "white"
             }
            },
            "type": "table"
           }
          ]
         },
         "layout": {
          "annotationdefaults": {
           "arrowhead": 0,
           "arrowwidth": 1
          },
          "autotypenumbers": "strict",
          "coloraxis": {
           "colorbar": {
            "outlinewidth": 1,
            "tickcolor": "rgb(36,36,36)",
            "ticks": "outside"
           }
          },
          "colorscale": {
           "diverging": [
            [
             0,
             "rgb(103,0,31)"
            ],
            [
             0.1,
             "rgb(178,24,43)"
            ],
            [
             0.2,
             "rgb(214,96,77)"
            ],
            [
             0.3,
             "rgb(244,165,130)"
            ],
            [
             0.4,
             "rgb(253,219,199)"
            ],
            [
             0.5,
             "rgb(247,247,247)"
            ],
            [
             0.6,
             "rgb(209,229,240)"
            ],
            [
             0.7,
             "rgb(146,197,222)"
            ],
            [
             0.8,
             "rgb(67,147,195)"
            ],
            [
             0.9,
             "rgb(33,102,172)"
            ],
            [
             1,
             "rgb(5,48,97)"
            ]
           ],
           "sequential": [
            [
             0,
             "#440154"
            ],
            [
             0.1111111111111111,
             "#482878"
            ],
            [
             0.2222222222222222,
             "#3e4989"
            ],
            [
             0.3333333333333333,
             "#31688e"
            ],
            [
             0.4444444444444444,
             "#26828e"
            ],
            [
             0.5555555555555556,
             "#1f9e89"
            ],
            [
             0.6666666666666666,
             "#35b779"
            ],
            [
             0.7777777777777778,
             "#6ece58"
            ],
            [
             0.8888888888888888,
             "#b5de2b"
            ],
            [
             1,
             "#fde725"
            ]
           ],
           "sequentialminus": [
            [
             0,
             "#440154"
            ],
            [
             0.1111111111111111,
             "#482878"
            ],
            [
             0.2222222222222222,
             "#3e4989"
            ],
            [
             0.3333333333333333,
             "#31688e"
            ],
            [
             0.4444444444444444,
             "#26828e"
            ],
            [
             0.5555555555555556,
             "#1f9e89"
            ],
            [
             0.6666666666666666,
             "#35b779"
            ],
            [
             0.7777777777777778,
             "#6ece58"
            ],
            [
             0.8888888888888888,
             "#b5de2b"
            ],
            [
             1,
             "#fde725"
            ]
           ]
          },
          "colorway": [
           "#1F77B4",
           "#FF7F0E",
           "#2CA02C",
           "#D62728",
           "#9467BD",
           "#8C564B",
           "#E377C2",
           "#7F7F7F",
           "#BCBD22",
           "#17BECF"
          ],
          "font": {
           "color": "rgb(36,36,36)"
          },
          "geo": {
           "bgcolor": "white",
           "lakecolor": "white",
           "landcolor": "white",
           "showlakes": true,
           "showland": true,
           "subunitcolor": "white"
          },
          "hoverlabel": {
           "align": "left"
          },
          "hovermode": "closest",
          "mapbox": {
           "style": "light"
          },
          "paper_bgcolor": "white",
          "plot_bgcolor": "white",
          "polar": {
           "angularaxis": {
            "gridcolor": "rgb(232,232,232)",
            "linecolor": "rgb(36,36,36)",
            "showgrid": false,
            "showline": true,
            "ticks": "outside"
           },
           "bgcolor": "white",
           "radialaxis": {
            "gridcolor": "rgb(232,232,232)",
            "linecolor": "rgb(36,36,36)",
            "showgrid": false,
            "showline": true,
            "ticks": "outside"
           }
          },
          "scene": {
           "xaxis": {
            "backgroundcolor": "white",
            "gridcolor": "rgb(232,232,232)",
            "gridwidth": 2,
            "linecolor": "rgb(36,36,36)",
            "showbackground": true,
            "showgrid": false,
            "showline": true,
            "ticks": "outside",
            "zeroline": false,
            "zerolinecolor": "rgb(36,36,36)"
           },
           "yaxis": {
            "backgroundcolor": "white",
            "gridcolor": "rgb(232,232,232)",
            "gridwidth": 2,
            "linecolor": "rgb(36,36,36)",
            "showbackground": true,
            "showgrid": false,
            "showline": true,
            "ticks": "outside",
            "zeroline": false,
            "zerolinecolor": "rgb(36,36,36)"
           },
           "zaxis": {
            "backgroundcolor": "white",
            "gridcolor": "rgb(232,232,232)",
            "gridwidth": 2,
            "linecolor": "rgb(36,36,36)",
            "showbackground": true,
            "showgrid": false,
            "showline": true,
            "ticks": "outside",
            "zeroline": false,
            "zerolinecolor": "rgb(36,36,36)"
           }
          },
          "shapedefaults": {
           "fillcolor": "black",
           "line": {
            "width": 0
           },
           "opacity": 0.3
          },
          "ternary": {
           "aaxis": {
            "gridcolor": "rgb(232,232,232)",
            "linecolor": "rgb(36,36,36)",
            "showgrid": false,
            "showline": true,
            "ticks": "outside"
           },
           "baxis": {
            "gridcolor": "rgb(232,232,232)",
            "linecolor": "rgb(36,36,36)",
            "showgrid": false,
            "showline": true,
            "ticks": "outside"
           },
           "bgcolor": "white",
           "caxis": {
            "gridcolor": "rgb(232,232,232)",
            "linecolor": "rgb(36,36,36)",
            "showgrid": false,
            "showline": true,
            "ticks": "outside"
           }
          },
          "title": {
           "x": 0.05
          },
          "xaxis": {
           "automargin": true,
           "gridcolor": "rgb(232,232,232)",
           "linecolor": "rgb(36,36,36)",
           "showgrid": false,
           "showline": true,
           "ticks": "outside",
           "title": {
            "standoff": 15
           },
           "zeroline": false,
           "zerolinecolor": "rgb(36,36,36)"
          },
          "yaxis": {
           "automargin": true,
           "gridcolor": "rgb(232,232,232)",
           "linecolor": "rgb(36,36,36)",
           "showgrid": false,
           "showline": true,
           "ticks": "outside",
           "title": {
            "standoff": 15
           },
           "zeroline": false,
           "zerolinecolor": "rgb(36,36,36)"
          }
         }
        },
        "title": {
         "text": "Actual vs. Forecast (Out-of-Sample)"
        },
        "width": 1000,
        "xaxis": {
         "anchor": "y",
         "domain": [
          0,
          1
         ]
        },
        "yaxis": {
         "anchor": "x",
         "domain": [
          0,
          1
         ]
        }
       }
      }
     },
     "metadata": {},
     "output_type": "display_data"
    }
   ],
   "source": [
    "arima = exp.create_model('polytrend')\n",
    "exp.plot_model(plot = 'decomp',\n",
    "               data_kwargs = {'type' : 'multiplicative'},\n",
    "               fig_kwargs = {\"height\":500,\"width\":1000,\"template\": \"simple_white\",\"hoverinfo\":\"none\",\"big_data_threshold\":10})\n",
    "exp.plot_model(estimator = arima, plot = 'forecast', \n",
    "               data_kwargs = {'fh' : 8},\n",
    "               fig_kwargs = {\"height\":500,\"width\":1000,\"template\": \"simple_white\",\"hoverinfo\":\"none\",\"big_data_threshold\":10})"
   ]
  },
  {
   "cell_type": "markdown",
   "metadata": {},
   "source": [
    "## THETA"
   ]
  },
  {
   "cell_type": "code",
   "execution_count": 34,
   "metadata": {},
   "outputs": [
    {
     "data": {
      "text/html": [],
      "text/plain": [
       "<IPython.core.display.HTML object>"
      ]
     },
     "metadata": {},
     "output_type": "display_data"
    },
    {
     "data": {
      "text/html": [
       "<style type=\"text/css\">\n",
       "#T_e1fde_row3_col0, #T_e1fde_row3_col1, #T_e1fde_row3_col2, #T_e1fde_row3_col3, #T_e1fde_row3_col4, #T_e1fde_row3_col5, #T_e1fde_row3_col6 {\n",
       "  background: yellow;\n",
       "}\n",
       "</style>\n",
       "<table id=\"T_e1fde\">\n",
       "  <thead>\n",
       "    <tr>\n",
       "      <th class=\"blank level0\" >&nbsp;</th>\n",
       "      <th id=\"T_e1fde_level0_col0\" class=\"col_heading level0 col0\" >cutoff</th>\n",
       "      <th id=\"T_e1fde_level0_col1\" class=\"col_heading level0 col1\" >MASE</th>\n",
       "      <th id=\"T_e1fde_level0_col2\" class=\"col_heading level0 col2\" >RMSSE</th>\n",
       "      <th id=\"T_e1fde_level0_col3\" class=\"col_heading level0 col3\" >MAE</th>\n",
       "      <th id=\"T_e1fde_level0_col4\" class=\"col_heading level0 col4\" >RMSE</th>\n",
       "      <th id=\"T_e1fde_level0_col5\" class=\"col_heading level0 col5\" >MAPE</th>\n",
       "      <th id=\"T_e1fde_level0_col6\" class=\"col_heading level0 col6\" >SMAPE</th>\n",
       "    </tr>\n",
       "  </thead>\n",
       "  <tbody>\n",
       "    <tr>\n",
       "      <th id=\"T_e1fde_level0_row0\" class=\"row_heading level0 row0\" >0</th>\n",
       "      <td id=\"T_e1fde_row0_col0\" class=\"data row0 col0\" >2019</td>\n",
       "      <td id=\"T_e1fde_row0_col1\" class=\"data row0 col1\" >1.6671</td>\n",
       "      <td id=\"T_e1fde_row0_col2\" class=\"data row0 col2\" >1.5826</td>\n",
       "      <td id=\"T_e1fde_row0_col3\" class=\"data row0 col3\" >606198.3973</td>\n",
       "      <td id=\"T_e1fde_row0_col4\" class=\"data row0 col4\" >606198.3973</td>\n",
       "      <td id=\"T_e1fde_row0_col5\" class=\"data row0 col5\" >0.3035</td>\n",
       "      <td id=\"T_e1fde_row0_col6\" class=\"data row0 col6\" >0.3578</td>\n",
       "    </tr>\n",
       "    <tr>\n",
       "      <th id=\"T_e1fde_level0_row1\" class=\"row_heading level0 row1\" >1</th>\n",
       "      <td id=\"T_e1fde_row1_col0\" class=\"data row1 col0\" >2020</td>\n",
       "      <td id=\"T_e1fde_row1_col1\" class=\"data row1 col1\" >0.5467</td>\n",
       "      <td id=\"T_e1fde_row1_col2\" class=\"data row1 col2\" >0.4824</td>\n",
       "      <td id=\"T_e1fde_row1_col3\" class=\"data row1 col3\" >308994.2675</td>\n",
       "      <td id=\"T_e1fde_row1_col4\" class=\"data row1 col4\" >308994.2675</td>\n",
       "      <td id=\"T_e1fde_row1_col5\" class=\"data row1 col5\" >0.1080</td>\n",
       "      <td id=\"T_e1fde_row1_col6\" class=\"data row1 col6\" >0.1142</td>\n",
       "    </tr>\n",
       "    <tr>\n",
       "      <th id=\"T_e1fde_level0_row2\" class=\"row_heading level0 row2\" >2</th>\n",
       "      <td id=\"T_e1fde_row2_col0\" class=\"data row2 col0\" >2021</td>\n",
       "      <td id=\"T_e1fde_row2_col1\" class=\"data row2 col1\" >0.4760</td>\n",
       "      <td id=\"T_e1fde_row2_col2\" class=\"data row2 col2\" >0.4332</td>\n",
       "      <td id=\"T_e1fde_row2_col3\" class=\"data row2 col3\" >304435.3119</td>\n",
       "      <td id=\"T_e1fde_row2_col4\" class=\"data row2 col4\" >304435.3119</td>\n",
       "      <td id=\"T_e1fde_row2_col5\" class=\"data row2 col5\" >0.0948</td>\n",
       "      <td id=\"T_e1fde_row2_col6\" class=\"data row2 col6\" >0.0906</td>\n",
       "    </tr>\n",
       "    <tr>\n",
       "      <th id=\"T_e1fde_level0_row3\" class=\"row_heading level0 row3\" >Mean</th>\n",
       "      <td id=\"T_e1fde_row3_col0\" class=\"data row3 col0\" >NaT</td>\n",
       "      <td id=\"T_e1fde_row3_col1\" class=\"data row3 col1\" >0.8966</td>\n",
       "      <td id=\"T_e1fde_row3_col2\" class=\"data row3 col2\" >0.8327</td>\n",
       "      <td id=\"T_e1fde_row3_col3\" class=\"data row3 col3\" >406542.6589</td>\n",
       "      <td id=\"T_e1fde_row3_col4\" class=\"data row3 col4\" >406542.6589</td>\n",
       "      <td id=\"T_e1fde_row3_col5\" class=\"data row3 col5\" >0.1688</td>\n",
       "      <td id=\"T_e1fde_row3_col6\" class=\"data row3 col6\" >0.1875</td>\n",
       "    </tr>\n",
       "    <tr>\n",
       "      <th id=\"T_e1fde_level0_row4\" class=\"row_heading level0 row4\" >SD</th>\n",
       "      <td id=\"T_e1fde_row4_col0\" class=\"data row4 col0\" >NaT</td>\n",
       "      <td id=\"T_e1fde_row4_col1\" class=\"data row4 col1\" >0.5456</td>\n",
       "      <td id=\"T_e1fde_row4_col2\" class=\"data row4 col2\" >0.5306</td>\n",
       "      <td id=\"T_e1fde_row4_col3\" class=\"data row4 col3\" >141190.1942</td>\n",
       "      <td id=\"T_e1fde_row4_col4\" class=\"data row4 col4\" >141190.1942</td>\n",
       "      <td id=\"T_e1fde_row4_col5\" class=\"data row4 col5\" >0.0954</td>\n",
       "      <td id=\"T_e1fde_row4_col6\" class=\"data row4 col6\" >0.1208</td>\n",
       "    </tr>\n",
       "  </tbody>\n",
       "</table>\n"
      ],
      "text/plain": [
       "<pandas.io.formats.style.Styler at 0x189adce24d0>"
      ]
     },
     "metadata": {},
     "output_type": "display_data"
    },
    {
     "data": {
      "text/html": [],
      "text/plain": [
       "<IPython.core.display.HTML object>"
      ]
     },
     "metadata": {},
     "output_type": "display_data"
    },
    {
     "data": {
      "application/vnd.plotly.v1+json": {
       "config": {
        "plotlyServerURL": "https://plot.ly"
       },
       "data": [
        {
         "line": {
          "color": "rgb(31, 119, 180)",
          "width": 2
         },
         "marker": {
          "size": 2
         },
         "mode": "lines+markers",
         "name": "Actual",
         "type": "scattergl",
         "x": [
          "2017-01-01T00:00:00",
          "2018-01-01T00:00:00",
          "2019-01-01T00:00:00",
          "2020-01-01T00:00:00",
          "2021-01-01T00:00:00",
          "2022-01-01T00:00:00",
          "2023-01-01T00:00:00"
         ],
         "xaxis": "x",
         "y": [
          301961,
          545110,
          1029190,
          1997490,
          2860097,
          3209840,
          4419242
         ],
         "yaxis": "y"
        },
        {
         "line": {
          "color": "rgb(255, 127, 14)",
          "width": 2
         },
         "marker": {
          "size": 2
         },
         "mode": "lines+markers",
         "name": "Seasonal",
         "type": "scattergl",
         "x": [
          "2017-01-01T00:00:00",
          "2018-01-01T00:00:00",
          "2019-01-01T00:00:00",
          "2020-01-01T00:00:00",
          "2021-01-01T00:00:00",
          "2022-01-01T00:00:00",
          "2023-01-01T00:00:00"
         ],
         "xaxis": "x2",
         "y": [
          1,
          1,
          1,
          1,
          1,
          1,
          1
         ],
         "yaxis": "y2"
        },
        {
         "line": {
          "color": "rgb(44, 160, 44)",
          "width": 2
         },
         "marker": {
          "size": 2
         },
         "mode": "lines+markers",
         "name": "Trend",
         "type": "scattergl",
         "x": [
          "2017-01-01T00:00:00",
          "2018-01-01T00:00:00",
          "2019-01-01T00:00:00",
          "2020-01-01T00:00:00",
          "2021-01-01T00:00:00",
          "2022-01-01T00:00:00",
          "2023-01-01T00:00:00"
         ],
         "xaxis": "x3",
         "y": [
          301961,
          545110,
          1029190,
          1997490,
          2860097,
          3209840,
          4419242
         ],
         "yaxis": "y3"
        },
        {
         "line": {
          "color": "rgb(214, 39, 40)",
          "width": 2
         },
         "marker": {
          "size": 4
         },
         "mode": "markers",
         "name": "Residuals",
         "type": "scattergl",
         "x": [
          "2017-01-01T00:00:00",
          "2018-01-01T00:00:00",
          "2019-01-01T00:00:00",
          "2020-01-01T00:00:00",
          "2021-01-01T00:00:00",
          "2022-01-01T00:00:00",
          "2023-01-01T00:00:00"
         ],
         "xaxis": "x4",
         "y": [
          1,
          1,
          1,
          1,
          1,
          1,
          1
         ],
         "yaxis": "y4"
        }
       ],
       "layout": {
        "annotations": [
         {
          "font": {
           "size": 16
          },
          "showarrow": false,
          "text": "liter (transformed)",
          "x": 0.49,
          "xanchor": "center",
          "xref": "paper",
          "y": 1,
          "yanchor": "bottom",
          "yref": "paper"
         },
         {
          "font": {
           "size": 16
          },
          "showarrow": false,
          "text": "Actual",
          "textangle": 90,
          "x": 0.98,
          "xanchor": "left",
          "xref": "paper",
          "y": 0.903125,
          "yanchor": "middle",
          "yref": "paper"
         },
         {
          "font": {
           "size": 16
          },
          "showarrow": false,
          "text": "Seasonal",
          "textangle": 90,
          "x": 0.98,
          "xanchor": "left",
          "xref": "paper",
          "y": 0.6343749999999999,
          "yanchor": "middle",
          "yref": "paper"
         },
         {
          "font": {
           "size": 16
          },
          "showarrow": false,
          "text": "Trend",
          "textangle": 90,
          "x": 0.98,
          "xanchor": "left",
          "xref": "paper",
          "y": 0.365625,
          "yanchor": "middle",
          "yref": "paper"
         },
         {
          "font": {
           "size": 16
          },
          "showarrow": false,
          "text": "Residual",
          "textangle": 90,
          "x": 0.98,
          "xanchor": "left",
          "xref": "paper",
          "y": 0.096875,
          "yanchor": "middle",
          "yref": "paper"
         }
        ],
        "autosize": false,
        "height": 500,
        "showlegend": false,
        "template": {
         "data": {
          "bar": [
           {
            "error_x": {
             "color": "rgb(36,36,36)"
            },
            "error_y": {
             "color": "rgb(36,36,36)"
            },
            "marker": {
             "line": {
              "color": "white",
              "width": 0.5
             },
             "pattern": {
              "fillmode": "overlay",
              "size": 10,
              "solidity": 0.2
             }
            },
            "type": "bar"
           }
          ],
          "barpolar": [
           {
            "marker": {
             "line": {
              "color": "white",
              "width": 0.5
             },
             "pattern": {
              "fillmode": "overlay",
              "size": 10,
              "solidity": 0.2
             }
            },
            "type": "barpolar"
           }
          ],
          "carpet": [
           {
            "aaxis": {
             "endlinecolor": "rgb(36,36,36)",
             "gridcolor": "white",
             "linecolor": "white",
             "minorgridcolor": "white",
             "startlinecolor": "rgb(36,36,36)"
            },
            "baxis": {
             "endlinecolor": "rgb(36,36,36)",
             "gridcolor": "white",
             "linecolor": "white",
             "minorgridcolor": "white",
             "startlinecolor": "rgb(36,36,36)"
            },
            "type": "carpet"
           }
          ],
          "choropleth": [
           {
            "colorbar": {
             "outlinewidth": 1,
             "tickcolor": "rgb(36,36,36)",
             "ticks": "outside"
            },
            "type": "choropleth"
           }
          ],
          "contour": [
           {
            "colorbar": {
             "outlinewidth": 1,
             "tickcolor": "rgb(36,36,36)",
             "ticks": "outside"
            },
            "colorscale": [
             [
              0,
              "#440154"
             ],
             [
              0.1111111111111111,
              "#482878"
             ],
             [
              0.2222222222222222,
              "#3e4989"
             ],
             [
              0.3333333333333333,
              "#31688e"
             ],
             [
              0.4444444444444444,
              "#26828e"
             ],
             [
              0.5555555555555556,
              "#1f9e89"
             ],
             [
              0.6666666666666666,
              "#35b779"
             ],
             [
              0.7777777777777778,
              "#6ece58"
             ],
             [
              0.8888888888888888,
              "#b5de2b"
             ],
             [
              1,
              "#fde725"
             ]
            ],
            "type": "contour"
           }
          ],
          "contourcarpet": [
           {
            "colorbar": {
             "outlinewidth": 1,
             "tickcolor": "rgb(36,36,36)",
             "ticks": "outside"
            },
            "type": "contourcarpet"
           }
          ],
          "heatmap": [
           {
            "colorbar": {
             "outlinewidth": 1,
             "tickcolor": "rgb(36,36,36)",
             "ticks": "outside"
            },
            "colorscale": [
             [
              0,
              "#440154"
             ],
             [
              0.1111111111111111,
              "#482878"
             ],
             [
              0.2222222222222222,
              "#3e4989"
             ],
             [
              0.3333333333333333,
              "#31688e"
             ],
             [
              0.4444444444444444,
              "#26828e"
             ],
             [
              0.5555555555555556,
              "#1f9e89"
             ],
             [
              0.6666666666666666,
              "#35b779"
             ],
             [
              0.7777777777777778,
              "#6ece58"
             ],
             [
              0.8888888888888888,
              "#b5de2b"
             ],
             [
              1,
              "#fde725"
             ]
            ],
            "type": "heatmap"
           }
          ],
          "heatmapgl": [
           {
            "colorbar": {
             "outlinewidth": 1,
             "tickcolor": "rgb(36,36,36)",
             "ticks": "outside"
            },
            "colorscale": [
             [
              0,
              "#440154"
             ],
             [
              0.1111111111111111,
              "#482878"
             ],
             [
              0.2222222222222222,
              "#3e4989"
             ],
             [
              0.3333333333333333,
              "#31688e"
             ],
             [
              0.4444444444444444,
              "#26828e"
             ],
             [
              0.5555555555555556,
              "#1f9e89"
             ],
             [
              0.6666666666666666,
              "#35b779"
             ],
             [
              0.7777777777777778,
              "#6ece58"
             ],
             [
              0.8888888888888888,
              "#b5de2b"
             ],
             [
              1,
              "#fde725"
             ]
            ],
            "type": "heatmapgl"
           }
          ],
          "histogram": [
           {
            "marker": {
             "line": {
              "color": "white",
              "width": 0.6
             }
            },
            "type": "histogram"
           }
          ],
          "histogram2d": [
           {
            "colorbar": {
             "outlinewidth": 1,
             "tickcolor": "rgb(36,36,36)",
             "ticks": "outside"
            },
            "colorscale": [
             [
              0,
              "#440154"
             ],
             [
              0.1111111111111111,
              "#482878"
             ],
             [
              0.2222222222222222,
              "#3e4989"
             ],
             [
              0.3333333333333333,
              "#31688e"
             ],
             [
              0.4444444444444444,
              "#26828e"
             ],
             [
              0.5555555555555556,
              "#1f9e89"
             ],
             [
              0.6666666666666666,
              "#35b779"
             ],
             [
              0.7777777777777778,
              "#6ece58"
             ],
             [
              0.8888888888888888,
              "#b5de2b"
             ],
             [
              1,
              "#fde725"
             ]
            ],
            "type": "histogram2d"
           }
          ],
          "histogram2dcontour": [
           {
            "colorbar": {
             "outlinewidth": 1,
             "tickcolor": "rgb(36,36,36)",
             "ticks": "outside"
            },
            "colorscale": [
             [
              0,
              "#440154"
             ],
             [
              0.1111111111111111,
              "#482878"
             ],
             [
              0.2222222222222222,
              "#3e4989"
             ],
             [
              0.3333333333333333,
              "#31688e"
             ],
             [
              0.4444444444444444,
              "#26828e"
             ],
             [
              0.5555555555555556,
              "#1f9e89"
             ],
             [
              0.6666666666666666,
              "#35b779"
             ],
             [
              0.7777777777777778,
              "#6ece58"
             ],
             [
              0.8888888888888888,
              "#b5de2b"
             ],
             [
              1,
              "#fde725"
             ]
            ],
            "type": "histogram2dcontour"
           }
          ],
          "mesh3d": [
           {
            "colorbar": {
             "outlinewidth": 1,
             "tickcolor": "rgb(36,36,36)",
             "ticks": "outside"
            },
            "type": "mesh3d"
           }
          ],
          "parcoords": [
           {
            "line": {
             "colorbar": {
              "outlinewidth": 1,
              "tickcolor": "rgb(36,36,36)",
              "ticks": "outside"
             }
            },
            "type": "parcoords"
           }
          ],
          "pie": [
           {
            "automargin": true,
            "type": "pie"
           }
          ],
          "scatter": [
           {
            "fillpattern": {
             "fillmode": "overlay",
             "size": 10,
             "solidity": 0.2
            },
            "type": "scatter"
           }
          ],
          "scatter3d": [
           {
            "line": {
             "colorbar": {
              "outlinewidth": 1,
              "tickcolor": "rgb(36,36,36)",
              "ticks": "outside"
             }
            },
            "marker": {
             "colorbar": {
              "outlinewidth": 1,
              "tickcolor": "rgb(36,36,36)",
              "ticks": "outside"
             }
            },
            "type": "scatter3d"
           }
          ],
          "scattercarpet": [
           {
            "marker": {
             "colorbar": {
              "outlinewidth": 1,
              "tickcolor": "rgb(36,36,36)",
              "ticks": "outside"
             }
            },
            "type": "scattercarpet"
           }
          ],
          "scattergeo": [
           {
            "marker": {
             "colorbar": {
              "outlinewidth": 1,
              "tickcolor": "rgb(36,36,36)",
              "ticks": "outside"
             }
            },
            "type": "scattergeo"
           }
          ],
          "scattergl": [
           {
            "marker": {
             "colorbar": {
              "outlinewidth": 1,
              "tickcolor": "rgb(36,36,36)",
              "ticks": "outside"
             }
            },
            "type": "scattergl"
           }
          ],
          "scattermapbox": [
           {
            "marker": {
             "colorbar": {
              "outlinewidth": 1,
              "tickcolor": "rgb(36,36,36)",
              "ticks": "outside"
             }
            },
            "type": "scattermapbox"
           }
          ],
          "scatterpolar": [
           {
            "marker": {
             "colorbar": {
              "outlinewidth": 1,
              "tickcolor": "rgb(36,36,36)",
              "ticks": "outside"
             }
            },
            "type": "scatterpolar"
           }
          ],
          "scatterpolargl": [
           {
            "marker": {
             "colorbar": {
              "outlinewidth": 1,
              "tickcolor": "rgb(36,36,36)",
              "ticks": "outside"
             }
            },
            "type": "scatterpolargl"
           }
          ],
          "scatterternary": [
           {
            "marker": {
             "colorbar": {
              "outlinewidth": 1,
              "tickcolor": "rgb(36,36,36)",
              "ticks": "outside"
             }
            },
            "type": "scatterternary"
           }
          ],
          "surface": [
           {
            "colorbar": {
             "outlinewidth": 1,
             "tickcolor": "rgb(36,36,36)",
             "ticks": "outside"
            },
            "colorscale": [
             [
              0,
              "#440154"
             ],
             [
              0.1111111111111111,
              "#482878"
             ],
             [
              0.2222222222222222,
              "#3e4989"
             ],
             [
              0.3333333333333333,
              "#31688e"
             ],
             [
              0.4444444444444444,
              "#26828e"
             ],
             [
              0.5555555555555556,
              "#1f9e89"
             ],
             [
              0.6666666666666666,
              "#35b779"
             ],
             [
              0.7777777777777778,
              "#6ece58"
             ],
             [
              0.8888888888888888,
              "#b5de2b"
             ],
             [
              1,
              "#fde725"
             ]
            ],
            "type": "surface"
           }
          ],
          "table": [
           {
            "cells": {
             "fill": {
              "color": "rgb(237,237,237)"
             },
             "line": {
              "color": "white"
             }
            },
            "header": {
             "fill": {
              "color": "rgb(217,217,217)"
             },
             "line": {
              "color": "white"
             }
            },
            "type": "table"
           }
          ]
         },
         "layout": {
          "annotationdefaults": {
           "arrowhead": 0,
           "arrowwidth": 1
          },
          "autotypenumbers": "strict",
          "coloraxis": {
           "colorbar": {
            "outlinewidth": 1,
            "tickcolor": "rgb(36,36,36)",
            "ticks": "outside"
           }
          },
          "colorscale": {
           "diverging": [
            [
             0,
             "rgb(103,0,31)"
            ],
            [
             0.1,
             "rgb(178,24,43)"
            ],
            [
             0.2,
             "rgb(214,96,77)"
            ],
            [
             0.3,
             "rgb(244,165,130)"
            ],
            [
             0.4,
             "rgb(253,219,199)"
            ],
            [
             0.5,
             "rgb(247,247,247)"
            ],
            [
             0.6,
             "rgb(209,229,240)"
            ],
            [
             0.7,
             "rgb(146,197,222)"
            ],
            [
             0.8,
             "rgb(67,147,195)"
            ],
            [
             0.9,
             "rgb(33,102,172)"
            ],
            [
             1,
             "rgb(5,48,97)"
            ]
           ],
           "sequential": [
            [
             0,
             "#440154"
            ],
            [
             0.1111111111111111,
             "#482878"
            ],
            [
             0.2222222222222222,
             "#3e4989"
            ],
            [
             0.3333333333333333,
             "#31688e"
            ],
            [
             0.4444444444444444,
             "#26828e"
            ],
            [
             0.5555555555555556,
             "#1f9e89"
            ],
            [
             0.6666666666666666,
             "#35b779"
            ],
            [
             0.7777777777777778,
             "#6ece58"
            ],
            [
             0.8888888888888888,
             "#b5de2b"
            ],
            [
             1,
             "#fde725"
            ]
           ],
           "sequentialminus": [
            [
             0,
             "#440154"
            ],
            [
             0.1111111111111111,
             "#482878"
            ],
            [
             0.2222222222222222,
             "#3e4989"
            ],
            [
             0.3333333333333333,
             "#31688e"
            ],
            [
             0.4444444444444444,
             "#26828e"
            ],
            [
             0.5555555555555556,
             "#1f9e89"
            ],
            [
             0.6666666666666666,
             "#35b779"
            ],
            [
             0.7777777777777778,
             "#6ece58"
            ],
            [
             0.8888888888888888,
             "#b5de2b"
            ],
            [
             1,
             "#fde725"
            ]
           ]
          },
          "colorway": [
           "#1F77B4",
           "#FF7F0E",
           "#2CA02C",
           "#D62728",
           "#9467BD",
           "#8C564B",
           "#E377C2",
           "#7F7F7F",
           "#BCBD22",
           "#17BECF"
          ],
          "font": {
           "color": "rgb(36,36,36)"
          },
          "geo": {
           "bgcolor": "white",
           "lakecolor": "white",
           "landcolor": "white",
           "showlakes": true,
           "showland": true,
           "subunitcolor": "white"
          },
          "hoverlabel": {
           "align": "left"
          },
          "hovermode": "closest",
          "mapbox": {
           "style": "light"
          },
          "paper_bgcolor": "white",
          "plot_bgcolor": "white",
          "polar": {
           "angularaxis": {
            "gridcolor": "rgb(232,232,232)",
            "linecolor": "rgb(36,36,36)",
            "showgrid": false,
            "showline": true,
            "ticks": "outside"
           },
           "bgcolor": "white",
           "radialaxis": {
            "gridcolor": "rgb(232,232,232)",
            "linecolor": "rgb(36,36,36)",
            "showgrid": false,
            "showline": true,
            "ticks": "outside"
           }
          },
          "scene": {
           "xaxis": {
            "backgroundcolor": "white",
            "gridcolor": "rgb(232,232,232)",
            "gridwidth": 2,
            "linecolor": "rgb(36,36,36)",
            "showbackground": true,
            "showgrid": false,
            "showline": true,
            "ticks": "outside",
            "zeroline": false,
            "zerolinecolor": "rgb(36,36,36)"
           },
           "yaxis": {
            "backgroundcolor": "white",
            "gridcolor": "rgb(232,232,232)",
            "gridwidth": 2,
            "linecolor": "rgb(36,36,36)",
            "showbackground": true,
            "showgrid": false,
            "showline": true,
            "ticks": "outside",
            "zeroline": false,
            "zerolinecolor": "rgb(36,36,36)"
           },
           "zaxis": {
            "backgroundcolor": "white",
            "gridcolor": "rgb(232,232,232)",
            "gridwidth": 2,
            "linecolor": "rgb(36,36,36)",
            "showbackground": true,
            "showgrid": false,
            "showline": true,
            "ticks": "outside",
            "zeroline": false,
            "zerolinecolor": "rgb(36,36,36)"
           }
          },
          "shapedefaults": {
           "fillcolor": "black",
           "line": {
            "width": 0
           },
           "opacity": 0.3
          },
          "ternary": {
           "aaxis": {
            "gridcolor": "rgb(232,232,232)",
            "linecolor": "rgb(36,36,36)",
            "showgrid": false,
            "showline": true,
            "ticks": "outside"
           },
           "baxis": {
            "gridcolor": "rgb(232,232,232)",
            "linecolor": "rgb(36,36,36)",
            "showgrid": false,
            "showline": true,
            "ticks": "outside"
           },
           "bgcolor": "white",
           "caxis": {
            "gridcolor": "rgb(232,232,232)",
            "linecolor": "rgb(36,36,36)",
            "showgrid": false,
            "showline": true,
            "ticks": "outside"
           }
          },
          "title": {
           "x": 0.05
          },
          "xaxis": {
           "automargin": true,
           "gridcolor": "rgb(232,232,232)",
           "linecolor": "rgb(36,36,36)",
           "showgrid": false,
           "showline": true,
           "ticks": "outside",
           "title": {
            "standoff": 15
           },
           "zeroline": false,
           "zerolinecolor": "rgb(36,36,36)"
          },
          "yaxis": {
           "automargin": true,
           "gridcolor": "rgb(232,232,232)",
           "linecolor": "rgb(36,36,36)",
           "showgrid": false,
           "showline": true,
           "ticks": "outside",
           "title": {
            "standoff": 15
           },
           "zeroline": false,
           "zerolinecolor": "rgb(36,36,36)"
          }
         }
        },
        "title": {
         "text": "Classical Decomposition (multiplicative) | liter<br>Seasonal Period = 1"
        },
        "width": 1000,
        "xaxis": {
         "anchor": "y",
         "domain": [
          0,
          0.98
         ],
         "matches": "x4",
         "showticklabels": false
        },
        "xaxis2": {
         "anchor": "y2",
         "domain": [
          0,
          0.98
         ],
         "matches": "x4",
         "showticklabels": false
        },
        "xaxis3": {
         "anchor": "y3",
         "domain": [
          0,
          0.98
         ],
         "matches": "x4",
         "showticklabels": false
        },
        "xaxis4": {
         "anchor": "y4",
         "domain": [
          0,
          0.98
         ]
        },
        "yaxis": {
         "anchor": "x",
         "domain": [
          0.80625,
          1
         ]
        },
        "yaxis2": {
         "anchor": "x2",
         "domain": [
          0.5375,
          0.73125
         ]
        },
        "yaxis3": {
         "anchor": "x3",
         "domain": [
          0.26875,
          0.4625
         ]
        },
        "yaxis4": {
         "anchor": "x4",
         "domain": [
          0,
          0.19375
         ]
        }
       }
      }
     },
     "metadata": {},
     "output_type": "display_data"
    },
    {
     "data": {
      "application/vnd.plotly.v1+json": {
       "config": {
        "plotlyServerURL": "https://plot.ly"
       },
       "data": [
        {
         "line": {
          "color": "#1f77b4"
         },
         "marker": {
          "size": 5
         },
         "mode": "lines+markers",
         "name": "Forecast | Theta Forecaster",
         "showlegend": true,
         "type": "scatter",
         "x": [
          "2023-01-01T00:00:00",
          "2024-01-01T00:00:00",
          "2025-01-01T00:00:00",
          "2026-01-01T00:00:00",
          "2027-01-01T00:00:00",
          "2028-01-01T00:00:00",
          "2029-01-01T00:00:00",
          "2030-01-01T00:00:00"
         ],
         "y": [
          3851185.8759,
          4171938.1044,
          4492690.333,
          4813442.5616,
          5134194.7902,
          5454947.0187,
          5775699.2473,
          6096451.4759
         ]
        },
        {
         "line": {
          "width": 0
         },
         "marker": {
          "color": "#68BBE3"
         },
         "mode": "lines",
         "name": "Lower Interval",
         "showlegend": false,
         "type": "scatter",
         "x": [
          "2023-01-01T00:00:00",
          "2024-01-01T00:00:00",
          "2025-01-01T00:00:00",
          "2026-01-01T00:00:00",
          "2027-01-01T00:00:00",
          "2028-01-01T00:00:00",
          "2029-01-01T00:00:00",
          "2030-01-01T00:00:00"
         ],
         "y": [
          2342125.5794,
          2325268.9198,
          2361232.8091,
          2430999.43,
          2524796.5119,
          2636812.268,
          2763257.1197,
          2901497.3805
         ]
        },
        {
         "fill": "tonexty",
         "fillcolor": "rgba(104,187,227,0.5)",
         "line": {
          "width": 0
         },
         "marker": {
          "color": "#68BBE3"
         },
         "mode": "lines",
         "name": "Prediction Interval | Theta Forecaster",
         "showlegend": true,
         "type": "scatter",
         "x": [
          "2023-01-01T00:00:00",
          "2024-01-01T00:00:00",
          "2025-01-01T00:00:00",
          "2026-01-01T00:00:00",
          "2027-01-01T00:00:00",
          "2028-01-01T00:00:00",
          "2029-01-01T00:00:00",
          "2030-01-01T00:00:00"
         ],
         "y": [
          5360246.1723,
          6018607.289,
          6624147.8569,
          7195885.6932,
          7743593.0684,
          8273081.7695,
          8788141.3749,
          9291405.5712
         ]
        },
        {
         "marker": {
          "color": "#3f3f3f",
          "size": 5
         },
         "mode": "lines+markers",
         "name": "Original",
         "showlegend": true,
         "type": "scatter",
         "x": [
          "2017-01-01T00:00:00",
          "2018-01-01T00:00:00",
          "2019-01-01T00:00:00",
          "2020-01-01T00:00:00",
          "2021-01-01T00:00:00",
          "2022-01-01T00:00:00",
          "2023-01-01T00:00:00"
         ],
         "y": [
          301961,
          545110,
          1029190,
          1997490,
          2860097,
          3209840,
          4419242
         ]
        }
       ],
       "layout": {
        "autosize": false,
        "height": 500,
        "showlegend": true,
        "template": {
         "data": {
          "bar": [
           {
            "error_x": {
             "color": "rgb(36,36,36)"
            },
            "error_y": {
             "color": "rgb(36,36,36)"
            },
            "marker": {
             "line": {
              "color": "white",
              "width": 0.5
             },
             "pattern": {
              "fillmode": "overlay",
              "size": 10,
              "solidity": 0.2
             }
            },
            "type": "bar"
           }
          ],
          "barpolar": [
           {
            "marker": {
             "line": {
              "color": "white",
              "width": 0.5
             },
             "pattern": {
              "fillmode": "overlay",
              "size": 10,
              "solidity": 0.2
             }
            },
            "type": "barpolar"
           }
          ],
          "carpet": [
           {
            "aaxis": {
             "endlinecolor": "rgb(36,36,36)",
             "gridcolor": "white",
             "linecolor": "white",
             "minorgridcolor": "white",
             "startlinecolor": "rgb(36,36,36)"
            },
            "baxis": {
             "endlinecolor": "rgb(36,36,36)",
             "gridcolor": "white",
             "linecolor": "white",
             "minorgridcolor": "white",
             "startlinecolor": "rgb(36,36,36)"
            },
            "type": "carpet"
           }
          ],
          "choropleth": [
           {
            "colorbar": {
             "outlinewidth": 1,
             "tickcolor": "rgb(36,36,36)",
             "ticks": "outside"
            },
            "type": "choropleth"
           }
          ],
          "contour": [
           {
            "colorbar": {
             "outlinewidth": 1,
             "tickcolor": "rgb(36,36,36)",
             "ticks": "outside"
            },
            "colorscale": [
             [
              0,
              "#440154"
             ],
             [
              0.1111111111111111,
              "#482878"
             ],
             [
              0.2222222222222222,
              "#3e4989"
             ],
             [
              0.3333333333333333,
              "#31688e"
             ],
             [
              0.4444444444444444,
              "#26828e"
             ],
             [
              0.5555555555555556,
              "#1f9e89"
             ],
             [
              0.6666666666666666,
              "#35b779"
             ],
             [
              0.7777777777777778,
              "#6ece58"
             ],
             [
              0.8888888888888888,
              "#b5de2b"
             ],
             [
              1,
              "#fde725"
             ]
            ],
            "type": "contour"
           }
          ],
          "contourcarpet": [
           {
            "colorbar": {
             "outlinewidth": 1,
             "tickcolor": "rgb(36,36,36)",
             "ticks": "outside"
            },
            "type": "contourcarpet"
           }
          ],
          "heatmap": [
           {
            "colorbar": {
             "outlinewidth": 1,
             "tickcolor": "rgb(36,36,36)",
             "ticks": "outside"
            },
            "colorscale": [
             [
              0,
              "#440154"
             ],
             [
              0.1111111111111111,
              "#482878"
             ],
             [
              0.2222222222222222,
              "#3e4989"
             ],
             [
              0.3333333333333333,
              "#31688e"
             ],
             [
              0.4444444444444444,
              "#26828e"
             ],
             [
              0.5555555555555556,
              "#1f9e89"
             ],
             [
              0.6666666666666666,
              "#35b779"
             ],
             [
              0.7777777777777778,
              "#6ece58"
             ],
             [
              0.8888888888888888,
              "#b5de2b"
             ],
             [
              1,
              "#fde725"
             ]
            ],
            "type": "heatmap"
           }
          ],
          "heatmapgl": [
           {
            "colorbar": {
             "outlinewidth": 1,
             "tickcolor": "rgb(36,36,36)",
             "ticks": "outside"
            },
            "colorscale": [
             [
              0,
              "#440154"
             ],
             [
              0.1111111111111111,
              "#482878"
             ],
             [
              0.2222222222222222,
              "#3e4989"
             ],
             [
              0.3333333333333333,
              "#31688e"
             ],
             [
              0.4444444444444444,
              "#26828e"
             ],
             [
              0.5555555555555556,
              "#1f9e89"
             ],
             [
              0.6666666666666666,
              "#35b779"
             ],
             [
              0.7777777777777778,
              "#6ece58"
             ],
             [
              0.8888888888888888,
              "#b5de2b"
             ],
             [
              1,
              "#fde725"
             ]
            ],
            "type": "heatmapgl"
           }
          ],
          "histogram": [
           {
            "marker": {
             "line": {
              "color": "white",
              "width": 0.6
             }
            },
            "type": "histogram"
           }
          ],
          "histogram2d": [
           {
            "colorbar": {
             "outlinewidth": 1,
             "tickcolor": "rgb(36,36,36)",
             "ticks": "outside"
            },
            "colorscale": [
             [
              0,
              "#440154"
             ],
             [
              0.1111111111111111,
              "#482878"
             ],
             [
              0.2222222222222222,
              "#3e4989"
             ],
             [
              0.3333333333333333,
              "#31688e"
             ],
             [
              0.4444444444444444,
              "#26828e"
             ],
             [
              0.5555555555555556,
              "#1f9e89"
             ],
             [
              0.6666666666666666,
              "#35b779"
             ],
             [
              0.7777777777777778,
              "#6ece58"
             ],
             [
              0.8888888888888888,
              "#b5de2b"
             ],
             [
              1,
              "#fde725"
             ]
            ],
            "type": "histogram2d"
           }
          ],
          "histogram2dcontour": [
           {
            "colorbar": {
             "outlinewidth": 1,
             "tickcolor": "rgb(36,36,36)",
             "ticks": "outside"
            },
            "colorscale": [
             [
              0,
              "#440154"
             ],
             [
              0.1111111111111111,
              "#482878"
             ],
             [
              0.2222222222222222,
              "#3e4989"
             ],
             [
              0.3333333333333333,
              "#31688e"
             ],
             [
              0.4444444444444444,
              "#26828e"
             ],
             [
              0.5555555555555556,
              "#1f9e89"
             ],
             [
              0.6666666666666666,
              "#35b779"
             ],
             [
              0.7777777777777778,
              "#6ece58"
             ],
             [
              0.8888888888888888,
              "#b5de2b"
             ],
             [
              1,
              "#fde725"
             ]
            ],
            "type": "histogram2dcontour"
           }
          ],
          "mesh3d": [
           {
            "colorbar": {
             "outlinewidth": 1,
             "tickcolor": "rgb(36,36,36)",
             "ticks": "outside"
            },
            "type": "mesh3d"
           }
          ],
          "parcoords": [
           {
            "line": {
             "colorbar": {
              "outlinewidth": 1,
              "tickcolor": "rgb(36,36,36)",
              "ticks": "outside"
             }
            },
            "type": "parcoords"
           }
          ],
          "pie": [
           {
            "automargin": true,
            "type": "pie"
           }
          ],
          "scatter": [
           {
            "fillpattern": {
             "fillmode": "overlay",
             "size": 10,
             "solidity": 0.2
            },
            "type": "scatter"
           }
          ],
          "scatter3d": [
           {
            "line": {
             "colorbar": {
              "outlinewidth": 1,
              "tickcolor": "rgb(36,36,36)",
              "ticks": "outside"
             }
            },
            "marker": {
             "colorbar": {
              "outlinewidth": 1,
              "tickcolor": "rgb(36,36,36)",
              "ticks": "outside"
             }
            },
            "type": "scatter3d"
           }
          ],
          "scattercarpet": [
           {
            "marker": {
             "colorbar": {
              "outlinewidth": 1,
              "tickcolor": "rgb(36,36,36)",
              "ticks": "outside"
             }
            },
            "type": "scattercarpet"
           }
          ],
          "scattergeo": [
           {
            "marker": {
             "colorbar": {
              "outlinewidth": 1,
              "tickcolor": "rgb(36,36,36)",
              "ticks": "outside"
             }
            },
            "type": "scattergeo"
           }
          ],
          "scattergl": [
           {
            "marker": {
             "colorbar": {
              "outlinewidth": 1,
              "tickcolor": "rgb(36,36,36)",
              "ticks": "outside"
             }
            },
            "type": "scattergl"
           }
          ],
          "scattermapbox": [
           {
            "marker": {
             "colorbar": {
              "outlinewidth": 1,
              "tickcolor": "rgb(36,36,36)",
              "ticks": "outside"
             }
            },
            "type": "scattermapbox"
           }
          ],
          "scatterpolar": [
           {
            "marker": {
             "colorbar": {
              "outlinewidth": 1,
              "tickcolor": "rgb(36,36,36)",
              "ticks": "outside"
             }
            },
            "type": "scatterpolar"
           }
          ],
          "scatterpolargl": [
           {
            "marker": {
             "colorbar": {
              "outlinewidth": 1,
              "tickcolor": "rgb(36,36,36)",
              "ticks": "outside"
             }
            },
            "type": "scatterpolargl"
           }
          ],
          "scatterternary": [
           {
            "marker": {
             "colorbar": {
              "outlinewidth": 1,
              "tickcolor": "rgb(36,36,36)",
              "ticks": "outside"
             }
            },
            "type": "scatterternary"
           }
          ],
          "surface": [
           {
            "colorbar": {
             "outlinewidth": 1,
             "tickcolor": "rgb(36,36,36)",
             "ticks": "outside"
            },
            "colorscale": [
             [
              0,
              "#440154"
             ],
             [
              0.1111111111111111,
              "#482878"
             ],
             [
              0.2222222222222222,
              "#3e4989"
             ],
             [
              0.3333333333333333,
              "#31688e"
             ],
             [
              0.4444444444444444,
              "#26828e"
             ],
             [
              0.5555555555555556,
              "#1f9e89"
             ],
             [
              0.6666666666666666,
              "#35b779"
             ],
             [
              0.7777777777777778,
              "#6ece58"
             ],
             [
              0.8888888888888888,
              "#b5de2b"
             ],
             [
              1,
              "#fde725"
             ]
            ],
            "type": "surface"
           }
          ],
          "table": [
           {
            "cells": {
             "fill": {
              "color": "rgb(237,237,237)"
             },
             "line": {
              "color": "white"
             }
            },
            "header": {
             "fill": {
              "color": "rgb(217,217,217)"
             },
             "line": {
              "color": "white"
             }
            },
            "type": "table"
           }
          ]
         },
         "layout": {
          "annotationdefaults": {
           "arrowhead": 0,
           "arrowwidth": 1
          },
          "autotypenumbers": "strict",
          "coloraxis": {
           "colorbar": {
            "outlinewidth": 1,
            "tickcolor": "rgb(36,36,36)",
            "ticks": "outside"
           }
          },
          "colorscale": {
           "diverging": [
            [
             0,
             "rgb(103,0,31)"
            ],
            [
             0.1,
             "rgb(178,24,43)"
            ],
            [
             0.2,
             "rgb(214,96,77)"
            ],
            [
             0.3,
             "rgb(244,165,130)"
            ],
            [
             0.4,
             "rgb(253,219,199)"
            ],
            [
             0.5,
             "rgb(247,247,247)"
            ],
            [
             0.6,
             "rgb(209,229,240)"
            ],
            [
             0.7,
             "rgb(146,197,222)"
            ],
            [
             0.8,
             "rgb(67,147,195)"
            ],
            [
             0.9,
             "rgb(33,102,172)"
            ],
            [
             1,
             "rgb(5,48,97)"
            ]
           ],
           "sequential": [
            [
             0,
             "#440154"
            ],
            [
             0.1111111111111111,
             "#482878"
            ],
            [
             0.2222222222222222,
             "#3e4989"
            ],
            [
             0.3333333333333333,
             "#31688e"
            ],
            [
             0.4444444444444444,
             "#26828e"
            ],
            [
             0.5555555555555556,
             "#1f9e89"
            ],
            [
             0.6666666666666666,
             "#35b779"
            ],
            [
             0.7777777777777778,
             "#6ece58"
            ],
            [
             0.8888888888888888,
             "#b5de2b"
            ],
            [
             1,
             "#fde725"
            ]
           ],
           "sequentialminus": [
            [
             0,
             "#440154"
            ],
            [
             0.1111111111111111,
             "#482878"
            ],
            [
             0.2222222222222222,
             "#3e4989"
            ],
            [
             0.3333333333333333,
             "#31688e"
            ],
            [
             0.4444444444444444,
             "#26828e"
            ],
            [
             0.5555555555555556,
             "#1f9e89"
            ],
            [
             0.6666666666666666,
             "#35b779"
            ],
            [
             0.7777777777777778,
             "#6ece58"
            ],
            [
             0.8888888888888888,
             "#b5de2b"
            ],
            [
             1,
             "#fde725"
            ]
           ]
          },
          "colorway": [
           "#1F77B4",
           "#FF7F0E",
           "#2CA02C",
           "#D62728",
           "#9467BD",
           "#8C564B",
           "#E377C2",
           "#7F7F7F",
           "#BCBD22",
           "#17BECF"
          ],
          "font": {
           "color": "rgb(36,36,36)"
          },
          "geo": {
           "bgcolor": "white",
           "lakecolor": "white",
           "landcolor": "white",
           "showlakes": true,
           "showland": true,
           "subunitcolor": "white"
          },
          "hoverlabel": {
           "align": "left"
          },
          "hovermode": "closest",
          "mapbox": {
           "style": "light"
          },
          "paper_bgcolor": "white",
          "plot_bgcolor": "white",
          "polar": {
           "angularaxis": {
            "gridcolor": "rgb(232,232,232)",
            "linecolor": "rgb(36,36,36)",
            "showgrid": false,
            "showline": true,
            "ticks": "outside"
           },
           "bgcolor": "white",
           "radialaxis": {
            "gridcolor": "rgb(232,232,232)",
            "linecolor": "rgb(36,36,36)",
            "showgrid": false,
            "showline": true,
            "ticks": "outside"
           }
          },
          "scene": {
           "xaxis": {
            "backgroundcolor": "white",
            "gridcolor": "rgb(232,232,232)",
            "gridwidth": 2,
            "linecolor": "rgb(36,36,36)",
            "showbackground": true,
            "showgrid": false,
            "showline": true,
            "ticks": "outside",
            "zeroline": false,
            "zerolinecolor": "rgb(36,36,36)"
           },
           "yaxis": {
            "backgroundcolor": "white",
            "gridcolor": "rgb(232,232,232)",
            "gridwidth": 2,
            "linecolor": "rgb(36,36,36)",
            "showbackground": true,
            "showgrid": false,
            "showline": true,
            "ticks": "outside",
            "zeroline": false,
            "zerolinecolor": "rgb(36,36,36)"
           },
           "zaxis": {
            "backgroundcolor": "white",
            "gridcolor": "rgb(232,232,232)",
            "gridwidth": 2,
            "linecolor": "rgb(36,36,36)",
            "showbackground": true,
            "showgrid": false,
            "showline": true,
            "ticks": "outside",
            "zeroline": false,
            "zerolinecolor": "rgb(36,36,36)"
           }
          },
          "shapedefaults": {
           "fillcolor": "black",
           "line": {
            "width": 0
           },
           "opacity": 0.3
          },
          "ternary": {
           "aaxis": {
            "gridcolor": "rgb(232,232,232)",
            "linecolor": "rgb(36,36,36)",
            "showgrid": false,
            "showline": true,
            "ticks": "outside"
           },
           "baxis": {
            "gridcolor": "rgb(232,232,232)",
            "linecolor": "rgb(36,36,36)",
            "showgrid": false,
            "showline": true,
            "ticks": "outside"
           },
           "bgcolor": "white",
           "caxis": {
            "gridcolor": "rgb(232,232,232)",
            "linecolor": "rgb(36,36,36)",
            "showgrid": false,
            "showline": true,
            "ticks": "outside"
           }
          },
          "title": {
           "x": 0.05
          },
          "xaxis": {
           "automargin": true,
           "gridcolor": "rgb(232,232,232)",
           "linecolor": "rgb(36,36,36)",
           "showgrid": false,
           "showline": true,
           "ticks": "outside",
           "title": {
            "standoff": 15
           },
           "zeroline": false,
           "zerolinecolor": "rgb(36,36,36)"
          },
          "yaxis": {
           "automargin": true,
           "gridcolor": "rgb(232,232,232)",
           "linecolor": "rgb(36,36,36)",
           "showgrid": false,
           "showline": true,
           "ticks": "outside",
           "title": {
            "standoff": 15
           },
           "zeroline": false,
           "zerolinecolor": "rgb(36,36,36)"
          }
         }
        },
        "title": {
         "text": "Actual vs. 'Out-of-Sample' Forecast | liter"
        },
        "width": 1000,
        "xaxis": {
         "title": {
          "text": "Time"
         }
        },
        "yaxis": {
         "title": {
          "text": "Values"
         }
        }
       }
      }
     },
     "metadata": {},
     "output_type": "display_data"
    }
   ],
   "source": [
    "arima = exp.create_model('theta')\n",
    "exp.plot_model(plot = 'decomp',\n",
    "               data_kwargs = {'type' : 'multiplicative'},\n",
    "               fig_kwargs = {\"height\":500,\"width\":1000,\"template\": \"simple_white\",\"hoverinfo\":\"none\",\"big_data_threshold\":10})\n",
    "exp.plot_model(estimator = arima, plot = 'forecast', \n",
    "               data_kwargs = {'fh' : 8},\n",
    "               fig_kwargs = {\"height\":500,\"width\":1000,\"template\": \"simple_white\",\"hoverinfo\":\"none\",\"big_data_threshold\":10})"
   ]
  },
  {
   "cell_type": "markdown",
   "metadata": {},
   "source": [
    "## XGBOOST"
   ]
  },
  {
   "cell_type": "code",
   "execution_count": 35,
   "metadata": {},
   "outputs": [
    {
     "data": {
      "text/html": [],
      "text/plain": [
       "<IPython.core.display.HTML object>"
      ]
     },
     "metadata": {},
     "output_type": "display_data"
    },
    {
     "data": {
      "text/html": [
       "<style type=\"text/css\">\n",
       "#T_7b81f_row3_col0, #T_7b81f_row3_col1, #T_7b81f_row3_col2, #T_7b81f_row3_col3, #T_7b81f_row3_col4, #T_7b81f_row3_col5, #T_7b81f_row3_col6 {\n",
       "  background: yellow;\n",
       "}\n",
       "</style>\n",
       "<table id=\"T_7b81f\">\n",
       "  <thead>\n",
       "    <tr>\n",
       "      <th class=\"blank level0\" >&nbsp;</th>\n",
       "      <th id=\"T_7b81f_level0_col0\" class=\"col_heading level0 col0\" >cutoff</th>\n",
       "      <th id=\"T_7b81f_level0_col1\" class=\"col_heading level0 col1\" >MASE</th>\n",
       "      <th id=\"T_7b81f_level0_col2\" class=\"col_heading level0 col2\" >RMSSE</th>\n",
       "      <th id=\"T_7b81f_level0_col3\" class=\"col_heading level0 col3\" >MAE</th>\n",
       "      <th id=\"T_7b81f_level0_col4\" class=\"col_heading level0 col4\" >RMSE</th>\n",
       "      <th id=\"T_7b81f_level0_col5\" class=\"col_heading level0 col5\" >MAPE</th>\n",
       "      <th id=\"T_7b81f_level0_col6\" class=\"col_heading level0 col6\" >SMAPE</th>\n",
       "    </tr>\n",
       "  </thead>\n",
       "  <tbody>\n",
       "    <tr>\n",
       "      <th id=\"T_7b81f_level0_row0\" class=\"row_heading level0 row0\" >0</th>\n",
       "      <td id=\"T_7b81f_row0_col0\" class=\"data row0 col0\" >2019</td>\n",
       "      <td id=\"T_7b81f_row0_col1\" class=\"data row0 col1\" >1.9943</td>\n",
       "      <td id=\"T_7b81f_row0_col2\" class=\"data row0 col2\" >1.8931</td>\n",
       "      <td id=\"T_7b81f_row0_col3\" class=\"data row0 col3\" >725150.9792</td>\n",
       "      <td id=\"T_7b81f_row0_col4\" class=\"data row0 col4\" >725150.9792</td>\n",
       "      <td id=\"T_7b81f_row0_col5\" class=\"data row0 col5\" >0.3630</td>\n",
       "      <td id=\"T_7b81f_row0_col6\" class=\"data row0 col6\" >0.4435</td>\n",
       "    </tr>\n",
       "    <tr>\n",
       "      <th id=\"T_7b81f_level0_row1\" class=\"row_heading level0 row1\" >1</th>\n",
       "      <td id=\"T_7b81f_row1_col0\" class=\"data row1 col0\" >2020</td>\n",
       "      <td id=\"T_7b81f_row1_col1\" class=\"data row1 col1\" >1.1391</td>\n",
       "      <td id=\"T_7b81f_row1_col2\" class=\"data row1 col2\" >1.0050</td>\n",
       "      <td id=\"T_7b81f_row1_col3\" class=\"data row1 col3\" >643786.8906</td>\n",
       "      <td id=\"T_7b81f_row1_col4\" class=\"data row1 col4\" >643786.8906</td>\n",
       "      <td id=\"T_7b81f_row1_col5\" class=\"data row1 col5\" >0.2251</td>\n",
       "      <td id=\"T_7b81f_row1_col6\" class=\"data row1 col6\" >0.2536</td>\n",
       "    </tr>\n",
       "    <tr>\n",
       "      <th id=\"T_7b81f_level0_row2\" class=\"row_heading level0 row2\" >2</th>\n",
       "      <td id=\"T_7b81f_row2_col0\" class=\"data row2 col0\" >2021</td>\n",
       "      <td id=\"T_7b81f_row2_col1\" class=\"data row2 col1\" >0.0583</td>\n",
       "      <td id=\"T_7b81f_row2_col2\" class=\"data row2 col2\" >0.0530</td>\n",
       "      <td id=\"T_7b81f_row2_col3\" class=\"data row2 col3\" >37269.1594</td>\n",
       "      <td id=\"T_7b81f_row2_col4\" class=\"data row2 col4\" >37269.1594</td>\n",
       "      <td id=\"T_7b81f_row2_col5\" class=\"data row2 col5\" >0.0116</td>\n",
       "      <td id=\"T_7b81f_row2_col6\" class=\"data row2 col6\" >0.0117</td>\n",
       "    </tr>\n",
       "    <tr>\n",
       "      <th id=\"T_7b81f_level0_row3\" class=\"row_heading level0 row3\" >Mean</th>\n",
       "      <td id=\"T_7b81f_row3_col0\" class=\"data row3 col0\" >NaT</td>\n",
       "      <td id=\"T_7b81f_row3_col1\" class=\"data row3 col1\" >1.0639</td>\n",
       "      <td id=\"T_7b81f_row3_col2\" class=\"data row3 col2\" >0.9837</td>\n",
       "      <td id=\"T_7b81f_row3_col3\" class=\"data row3 col3\" >468735.6764</td>\n",
       "      <td id=\"T_7b81f_row3_col4\" class=\"data row3 col4\" >468735.6764</td>\n",
       "      <td id=\"T_7b81f_row3_col5\" class=\"data row3 col5\" >0.1999</td>\n",
       "      <td id=\"T_7b81f_row3_col6\" class=\"data row3 col6\" >0.2363</td>\n",
       "    </tr>\n",
       "    <tr>\n",
       "      <th id=\"T_7b81f_level0_row4\" class=\"row_heading level0 row4\" >SD</th>\n",
       "      <td id=\"T_7b81f_row4_col0\" class=\"data row4 col0\" >NaT</td>\n",
       "      <td id=\"T_7b81f_row4_col1\" class=\"data row4 col1\" >0.7922</td>\n",
       "      <td id=\"T_7b81f_row4_col2\" class=\"data row4 col2\" >0.7514</td>\n",
       "      <td id=\"T_7b81f_row4_col3\" class=\"data row4 col3\" >306895.7969</td>\n",
       "      <td id=\"T_7b81f_row4_col4\" class=\"data row4 col4\" >306895.7969</td>\n",
       "      <td id=\"T_7b81f_row4_col5\" class=\"data row4 col5\" >0.1446</td>\n",
       "      <td id=\"T_7b81f_row4_col6\" class=\"data row4 col6\" >0.1767</td>\n",
       "    </tr>\n",
       "  </tbody>\n",
       "</table>\n"
      ],
      "text/plain": [
       "<pandas.io.formats.style.Styler at 0x189a807f100>"
      ]
     },
     "metadata": {},
     "output_type": "display_data"
    },
    {
     "data": {
      "text/html": [],
      "text/plain": [
       "<IPython.core.display.HTML object>"
      ]
     },
     "metadata": {},
     "output_type": "display_data"
    },
    {
     "data": {
      "application/vnd.plotly.v1+json": {
       "config": {
        "plotlyServerURL": "https://plot.ly"
       },
       "data": [
        {
         "line": {
          "color": "rgb(31, 119, 180)",
          "width": 2
         },
         "marker": {
          "size": 2
         },
         "mode": "lines+markers",
         "name": "Actual",
         "type": "scattergl",
         "x": [
          "2017-01-01T00:00:00",
          "2018-01-01T00:00:00",
          "2019-01-01T00:00:00",
          "2020-01-01T00:00:00",
          "2021-01-01T00:00:00",
          "2022-01-01T00:00:00",
          "2023-01-01T00:00:00"
         ],
         "xaxis": "x",
         "y": [
          301961,
          545110,
          1029190,
          1997490,
          2860097,
          3209840,
          4419242
         ],
         "yaxis": "y"
        },
        {
         "line": {
          "color": "rgb(255, 127, 14)",
          "width": 2
         },
         "marker": {
          "size": 2
         },
         "mode": "lines+markers",
         "name": "Seasonal",
         "type": "scattergl",
         "x": [
          "2017-01-01T00:00:00",
          "2018-01-01T00:00:00",
          "2019-01-01T00:00:00",
          "2020-01-01T00:00:00",
          "2021-01-01T00:00:00",
          "2022-01-01T00:00:00",
          "2023-01-01T00:00:00"
         ],
         "xaxis": "x2",
         "y": [
          1,
          1,
          1,
          1,
          1,
          1,
          1
         ],
         "yaxis": "y2"
        },
        {
         "line": {
          "color": "rgb(44, 160, 44)",
          "width": 2
         },
         "marker": {
          "size": 2
         },
         "mode": "lines+markers",
         "name": "Trend",
         "type": "scattergl",
         "x": [
          "2017-01-01T00:00:00",
          "2018-01-01T00:00:00",
          "2019-01-01T00:00:00",
          "2020-01-01T00:00:00",
          "2021-01-01T00:00:00",
          "2022-01-01T00:00:00",
          "2023-01-01T00:00:00"
         ],
         "xaxis": "x3",
         "y": [
          301961,
          545110,
          1029190,
          1997490,
          2860097,
          3209840,
          4419242
         ],
         "yaxis": "y3"
        },
        {
         "line": {
          "color": "rgb(214, 39, 40)",
          "width": 2
         },
         "marker": {
          "size": 4
         },
         "mode": "markers",
         "name": "Residuals",
         "type": "scattergl",
         "x": [
          "2017-01-01T00:00:00",
          "2018-01-01T00:00:00",
          "2019-01-01T00:00:00",
          "2020-01-01T00:00:00",
          "2021-01-01T00:00:00",
          "2022-01-01T00:00:00",
          "2023-01-01T00:00:00"
         ],
         "xaxis": "x4",
         "y": [
          1,
          1,
          1,
          1,
          1,
          1,
          1
         ],
         "yaxis": "y4"
        }
       ],
       "layout": {
        "annotations": [
         {
          "font": {
           "size": 16
          },
          "showarrow": false,
          "text": "liter (transformed)",
          "x": 0.49,
          "xanchor": "center",
          "xref": "paper",
          "y": 1,
          "yanchor": "bottom",
          "yref": "paper"
         },
         {
          "font": {
           "size": 16
          },
          "showarrow": false,
          "text": "Actual",
          "textangle": 90,
          "x": 0.98,
          "xanchor": "left",
          "xref": "paper",
          "y": 0.903125,
          "yanchor": "middle",
          "yref": "paper"
         },
         {
          "font": {
           "size": 16
          },
          "showarrow": false,
          "text": "Seasonal",
          "textangle": 90,
          "x": 0.98,
          "xanchor": "left",
          "xref": "paper",
          "y": 0.6343749999999999,
          "yanchor": "middle",
          "yref": "paper"
         },
         {
          "font": {
           "size": 16
          },
          "showarrow": false,
          "text": "Trend",
          "textangle": 90,
          "x": 0.98,
          "xanchor": "left",
          "xref": "paper",
          "y": 0.365625,
          "yanchor": "middle",
          "yref": "paper"
         },
         {
          "font": {
           "size": 16
          },
          "showarrow": false,
          "text": "Residual",
          "textangle": 90,
          "x": 0.98,
          "xanchor": "left",
          "xref": "paper",
          "y": 0.096875,
          "yanchor": "middle",
          "yref": "paper"
         }
        ],
        "autosize": false,
        "height": 500,
        "showlegend": false,
        "template": {
         "data": {
          "bar": [
           {
            "error_x": {
             "color": "rgb(36,36,36)"
            },
            "error_y": {
             "color": "rgb(36,36,36)"
            },
            "marker": {
             "line": {
              "color": "white",
              "width": 0.5
             },
             "pattern": {
              "fillmode": "overlay",
              "size": 10,
              "solidity": 0.2
             }
            },
            "type": "bar"
           }
          ],
          "barpolar": [
           {
            "marker": {
             "line": {
              "color": "white",
              "width": 0.5
             },
             "pattern": {
              "fillmode": "overlay",
              "size": 10,
              "solidity": 0.2
             }
            },
            "type": "barpolar"
           }
          ],
          "carpet": [
           {
            "aaxis": {
             "endlinecolor": "rgb(36,36,36)",
             "gridcolor": "white",
             "linecolor": "white",
             "minorgridcolor": "white",
             "startlinecolor": "rgb(36,36,36)"
            },
            "baxis": {
             "endlinecolor": "rgb(36,36,36)",
             "gridcolor": "white",
             "linecolor": "white",
             "minorgridcolor": "white",
             "startlinecolor": "rgb(36,36,36)"
            },
            "type": "carpet"
           }
          ],
          "choropleth": [
           {
            "colorbar": {
             "outlinewidth": 1,
             "tickcolor": "rgb(36,36,36)",
             "ticks": "outside"
            },
            "type": "choropleth"
           }
          ],
          "contour": [
           {
            "colorbar": {
             "outlinewidth": 1,
             "tickcolor": "rgb(36,36,36)",
             "ticks": "outside"
            },
            "colorscale": [
             [
              0,
              "#440154"
             ],
             [
              0.1111111111111111,
              "#482878"
             ],
             [
              0.2222222222222222,
              "#3e4989"
             ],
             [
              0.3333333333333333,
              "#31688e"
             ],
             [
              0.4444444444444444,
              "#26828e"
             ],
             [
              0.5555555555555556,
              "#1f9e89"
             ],
             [
              0.6666666666666666,
              "#35b779"
             ],
             [
              0.7777777777777778,
              "#6ece58"
             ],
             [
              0.8888888888888888,
              "#b5de2b"
             ],
             [
              1,
              "#fde725"
             ]
            ],
            "type": "contour"
           }
          ],
          "contourcarpet": [
           {
            "colorbar": {
             "outlinewidth": 1,
             "tickcolor": "rgb(36,36,36)",
             "ticks": "outside"
            },
            "type": "contourcarpet"
           }
          ],
          "heatmap": [
           {
            "colorbar": {
             "outlinewidth": 1,
             "tickcolor": "rgb(36,36,36)",
             "ticks": "outside"
            },
            "colorscale": [
             [
              0,
              "#440154"
             ],
             [
              0.1111111111111111,
              "#482878"
             ],
             [
              0.2222222222222222,
              "#3e4989"
             ],
             [
              0.3333333333333333,
              "#31688e"
             ],
             [
              0.4444444444444444,
              "#26828e"
             ],
             [
              0.5555555555555556,
              "#1f9e89"
             ],
             [
              0.6666666666666666,
              "#35b779"
             ],
             [
              0.7777777777777778,
              "#6ece58"
             ],
             [
              0.8888888888888888,
              "#b5de2b"
             ],
             [
              1,
              "#fde725"
             ]
            ],
            "type": "heatmap"
           }
          ],
          "heatmapgl": [
           {
            "colorbar": {
             "outlinewidth": 1,
             "tickcolor": "rgb(36,36,36)",
             "ticks": "outside"
            },
            "colorscale": [
             [
              0,
              "#440154"
             ],
             [
              0.1111111111111111,
              "#482878"
             ],
             [
              0.2222222222222222,
              "#3e4989"
             ],
             [
              0.3333333333333333,
              "#31688e"
             ],
             [
              0.4444444444444444,
              "#26828e"
             ],
             [
              0.5555555555555556,
              "#1f9e89"
             ],
             [
              0.6666666666666666,
              "#35b779"
             ],
             [
              0.7777777777777778,
              "#6ece58"
             ],
             [
              0.8888888888888888,
              "#b5de2b"
             ],
             [
              1,
              "#fde725"
             ]
            ],
            "type": "heatmapgl"
           }
          ],
          "histogram": [
           {
            "marker": {
             "line": {
              "color": "white",
              "width": 0.6
             }
            },
            "type": "histogram"
           }
          ],
          "histogram2d": [
           {
            "colorbar": {
             "outlinewidth": 1,
             "tickcolor": "rgb(36,36,36)",
             "ticks": "outside"
            },
            "colorscale": [
             [
              0,
              "#440154"
             ],
             [
              0.1111111111111111,
              "#482878"
             ],
             [
              0.2222222222222222,
              "#3e4989"
             ],
             [
              0.3333333333333333,
              "#31688e"
             ],
             [
              0.4444444444444444,
              "#26828e"
             ],
             [
              0.5555555555555556,
              "#1f9e89"
             ],
             [
              0.6666666666666666,
              "#35b779"
             ],
             [
              0.7777777777777778,
              "#6ece58"
             ],
             [
              0.8888888888888888,
              "#b5de2b"
             ],
             [
              1,
              "#fde725"
             ]
            ],
            "type": "histogram2d"
           }
          ],
          "histogram2dcontour": [
           {
            "colorbar": {
             "outlinewidth": 1,
             "tickcolor": "rgb(36,36,36)",
             "ticks": "outside"
            },
            "colorscale": [
             [
              0,
              "#440154"
             ],
             [
              0.1111111111111111,
              "#482878"
             ],
             [
              0.2222222222222222,
              "#3e4989"
             ],
             [
              0.3333333333333333,
              "#31688e"
             ],
             [
              0.4444444444444444,
              "#26828e"
             ],
             [
              0.5555555555555556,
              "#1f9e89"
             ],
             [
              0.6666666666666666,
              "#35b779"
             ],
             [
              0.7777777777777778,
              "#6ece58"
             ],
             [
              0.8888888888888888,
              "#b5de2b"
             ],
             [
              1,
              "#fde725"
             ]
            ],
            "type": "histogram2dcontour"
           }
          ],
          "mesh3d": [
           {
            "colorbar": {
             "outlinewidth": 1,
             "tickcolor": "rgb(36,36,36)",
             "ticks": "outside"
            },
            "type": "mesh3d"
           }
          ],
          "parcoords": [
           {
            "line": {
             "colorbar": {
              "outlinewidth": 1,
              "tickcolor": "rgb(36,36,36)",
              "ticks": "outside"
             }
            },
            "type": "parcoords"
           }
          ],
          "pie": [
           {
            "automargin": true,
            "type": "pie"
           }
          ],
          "scatter": [
           {
            "fillpattern": {
             "fillmode": "overlay",
             "size": 10,
             "solidity": 0.2
            },
            "type": "scatter"
           }
          ],
          "scatter3d": [
           {
            "line": {
             "colorbar": {
              "outlinewidth": 1,
              "tickcolor": "rgb(36,36,36)",
              "ticks": "outside"
             }
            },
            "marker": {
             "colorbar": {
              "outlinewidth": 1,
              "tickcolor": "rgb(36,36,36)",
              "ticks": "outside"
             }
            },
            "type": "scatter3d"
           }
          ],
          "scattercarpet": [
           {
            "marker": {
             "colorbar": {
              "outlinewidth": 1,
              "tickcolor": "rgb(36,36,36)",
              "ticks": "outside"
             }
            },
            "type": "scattercarpet"
           }
          ],
          "scattergeo": [
           {
            "marker": {
             "colorbar": {
              "outlinewidth": 1,
              "tickcolor": "rgb(36,36,36)",
              "ticks": "outside"
             }
            },
            "type": "scattergeo"
           }
          ],
          "scattergl": [
           {
            "marker": {
             "colorbar": {
              "outlinewidth": 1,
              "tickcolor": "rgb(36,36,36)",
              "ticks": "outside"
             }
            },
            "type": "scattergl"
           }
          ],
          "scattermapbox": [
           {
            "marker": {
             "colorbar": {
              "outlinewidth": 1,
              "tickcolor": "rgb(36,36,36)",
              "ticks": "outside"
             }
            },
            "type": "scattermapbox"
           }
          ],
          "scatterpolar": [
           {
            "marker": {
             "colorbar": {
              "outlinewidth": 1,
              "tickcolor": "rgb(36,36,36)",
              "ticks": "outside"
             }
            },
            "type": "scatterpolar"
           }
          ],
          "scatterpolargl": [
           {
            "marker": {
             "colorbar": {
              "outlinewidth": 1,
              "tickcolor": "rgb(36,36,36)",
              "ticks": "outside"
             }
            },
            "type": "scatterpolargl"
           }
          ],
          "scatterternary": [
           {
            "marker": {
             "colorbar": {
              "outlinewidth": 1,
              "tickcolor": "rgb(36,36,36)",
              "ticks": "outside"
             }
            },
            "type": "scatterternary"
           }
          ],
          "surface": [
           {
            "colorbar": {
             "outlinewidth": 1,
             "tickcolor": "rgb(36,36,36)",
             "ticks": "outside"
            },
            "colorscale": [
             [
              0,
              "#440154"
             ],
             [
              0.1111111111111111,
              "#482878"
             ],
             [
              0.2222222222222222,
              "#3e4989"
             ],
             [
              0.3333333333333333,
              "#31688e"
             ],
             [
              0.4444444444444444,
              "#26828e"
             ],
             [
              0.5555555555555556,
              "#1f9e89"
             ],
             [
              0.6666666666666666,
              "#35b779"
             ],
             [
              0.7777777777777778,
              "#6ece58"
             ],
             [
              0.8888888888888888,
              "#b5de2b"
             ],
             [
              1,
              "#fde725"
             ]
            ],
            "type": "surface"
           }
          ],
          "table": [
           {
            "cells": {
             "fill": {
              "color": "rgb(237,237,237)"
             },
             "line": {
              "color": "white"
             }
            },
            "header": {
             "fill": {
              "color": "rgb(217,217,217)"
             },
             "line": {
              "color": "white"
             }
            },
            "type": "table"
           }
          ]
         },
         "layout": {
          "annotationdefaults": {
           "arrowhead": 0,
           "arrowwidth": 1
          },
          "autotypenumbers": "strict",
          "coloraxis": {
           "colorbar": {
            "outlinewidth": 1,
            "tickcolor": "rgb(36,36,36)",
            "ticks": "outside"
           }
          },
          "colorscale": {
           "diverging": [
            [
             0,
             "rgb(103,0,31)"
            ],
            [
             0.1,
             "rgb(178,24,43)"
            ],
            [
             0.2,
             "rgb(214,96,77)"
            ],
            [
             0.3,
             "rgb(244,165,130)"
            ],
            [
             0.4,
             "rgb(253,219,199)"
            ],
            [
             0.5,
             "rgb(247,247,247)"
            ],
            [
             0.6,
             "rgb(209,229,240)"
            ],
            [
             0.7,
             "rgb(146,197,222)"
            ],
            [
             0.8,
             "rgb(67,147,195)"
            ],
            [
             0.9,
             "rgb(33,102,172)"
            ],
            [
             1,
             "rgb(5,48,97)"
            ]
           ],
           "sequential": [
            [
             0,
             "#440154"
            ],
            [
             0.1111111111111111,
             "#482878"
            ],
            [
             0.2222222222222222,
             "#3e4989"
            ],
            [
             0.3333333333333333,
             "#31688e"
            ],
            [
             0.4444444444444444,
             "#26828e"
            ],
            [
             0.5555555555555556,
             "#1f9e89"
            ],
            [
             0.6666666666666666,
             "#35b779"
            ],
            [
             0.7777777777777778,
             "#6ece58"
            ],
            [
             0.8888888888888888,
             "#b5de2b"
            ],
            [
             1,
             "#fde725"
            ]
           ],
           "sequentialminus": [
            [
             0,
             "#440154"
            ],
            [
             0.1111111111111111,
             "#482878"
            ],
            [
             0.2222222222222222,
             "#3e4989"
            ],
            [
             0.3333333333333333,
             "#31688e"
            ],
            [
             0.4444444444444444,
             "#26828e"
            ],
            [
             0.5555555555555556,
             "#1f9e89"
            ],
            [
             0.6666666666666666,
             "#35b779"
            ],
            [
             0.7777777777777778,
             "#6ece58"
            ],
            [
             0.8888888888888888,
             "#b5de2b"
            ],
            [
             1,
             "#fde725"
            ]
           ]
          },
          "colorway": [
           "#1F77B4",
           "#FF7F0E",
           "#2CA02C",
           "#D62728",
           "#9467BD",
           "#8C564B",
           "#E377C2",
           "#7F7F7F",
           "#BCBD22",
           "#17BECF"
          ],
          "font": {
           "color": "rgb(36,36,36)"
          },
          "geo": {
           "bgcolor": "white",
           "lakecolor": "white",
           "landcolor": "white",
           "showlakes": true,
           "showland": true,
           "subunitcolor": "white"
          },
          "hoverlabel": {
           "align": "left"
          },
          "hovermode": "closest",
          "mapbox": {
           "style": "light"
          },
          "paper_bgcolor": "white",
          "plot_bgcolor": "white",
          "polar": {
           "angularaxis": {
            "gridcolor": "rgb(232,232,232)",
            "linecolor": "rgb(36,36,36)",
            "showgrid": false,
            "showline": true,
            "ticks": "outside"
           },
           "bgcolor": "white",
           "radialaxis": {
            "gridcolor": "rgb(232,232,232)",
            "linecolor": "rgb(36,36,36)",
            "showgrid": false,
            "showline": true,
            "ticks": "outside"
           }
          },
          "scene": {
           "xaxis": {
            "backgroundcolor": "white",
            "gridcolor": "rgb(232,232,232)",
            "gridwidth": 2,
            "linecolor": "rgb(36,36,36)",
            "showbackground": true,
            "showgrid": false,
            "showline": true,
            "ticks": "outside",
            "zeroline": false,
            "zerolinecolor": "rgb(36,36,36)"
           },
           "yaxis": {
            "backgroundcolor": "white",
            "gridcolor": "rgb(232,232,232)",
            "gridwidth": 2,
            "linecolor": "rgb(36,36,36)",
            "showbackground": true,
            "showgrid": false,
            "showline": true,
            "ticks": "outside",
            "zeroline": false,
            "zerolinecolor": "rgb(36,36,36)"
           },
           "zaxis": {
            "backgroundcolor": "white",
            "gridcolor": "rgb(232,232,232)",
            "gridwidth": 2,
            "linecolor": "rgb(36,36,36)",
            "showbackground": true,
            "showgrid": false,
            "showline": true,
            "ticks": "outside",
            "zeroline": false,
            "zerolinecolor": "rgb(36,36,36)"
           }
          },
          "shapedefaults": {
           "fillcolor": "black",
           "line": {
            "width": 0
           },
           "opacity": 0.3
          },
          "ternary": {
           "aaxis": {
            "gridcolor": "rgb(232,232,232)",
            "linecolor": "rgb(36,36,36)",
            "showgrid": false,
            "showline": true,
            "ticks": "outside"
           },
           "baxis": {
            "gridcolor": "rgb(232,232,232)",
            "linecolor": "rgb(36,36,36)",
            "showgrid": false,
            "showline": true,
            "ticks": "outside"
           },
           "bgcolor": "white",
           "caxis": {
            "gridcolor": "rgb(232,232,232)",
            "linecolor": "rgb(36,36,36)",
            "showgrid": false,
            "showline": true,
            "ticks": "outside"
           }
          },
          "title": {
           "x": 0.05
          },
          "xaxis": {
           "automargin": true,
           "gridcolor": "rgb(232,232,232)",
           "linecolor": "rgb(36,36,36)",
           "showgrid": false,
           "showline": true,
           "ticks": "outside",
           "title": {
            "standoff": 15
           },
           "zeroline": false,
           "zerolinecolor": "rgb(36,36,36)"
          },
          "yaxis": {
           "automargin": true,
           "gridcolor": "rgb(232,232,232)",
           "linecolor": "rgb(36,36,36)",
           "showgrid": false,
           "showline": true,
           "ticks": "outside",
           "title": {
            "standoff": 15
           },
           "zeroline": false,
           "zerolinecolor": "rgb(36,36,36)"
          }
         }
        },
        "title": {
         "text": "Classical Decomposition (multiplicative) | liter<br>Seasonal Period = 1"
        },
        "width": 1000,
        "xaxis": {
         "anchor": "y",
         "domain": [
          0,
          0.98
         ],
         "matches": "x4",
         "showticklabels": false
        },
        "xaxis2": {
         "anchor": "y2",
         "domain": [
          0,
          0.98
         ],
         "matches": "x4",
         "showticklabels": false
        },
        "xaxis3": {
         "anchor": "y3",
         "domain": [
          0,
          0.98
         ],
         "matches": "x4",
         "showticklabels": false
        },
        "xaxis4": {
         "anchor": "y4",
         "domain": [
          0,
          0.98
         ]
        },
        "yaxis": {
         "anchor": "x",
         "domain": [
          0.80625,
          1
         ]
        },
        "yaxis2": {
         "anchor": "x2",
         "domain": [
          0.5375,
          0.73125
         ]
        },
        "yaxis3": {
         "anchor": "x3",
         "domain": [
          0.26875,
          0.4625
         ]
        },
        "yaxis4": {
         "anchor": "x4",
         "domain": [
          0,
          0.19375
         ]
        }
       }
      }
     },
     "metadata": {},
     "output_type": "display_data"
    },
    {
     "data": {
      "application/vnd.plotly.v1+json": {
       "config": {
        "plotlyServerURL": "https://plot.ly"
       },
       "data": [
        {
         "hoverinfo": "none",
         "line": {
          "width": 2
         },
         "marker": {
          "size": 5
         },
         "mode": "lines+markers",
         "name": "liter",
         "type": "scattergl",
         "x": [
          "2017-01-01T00:00:00",
          "2018-01-01T00:00:00",
          "2019-01-01T00:00:00",
          "2020-01-01T00:00:00",
          "2021-01-01T00:00:00",
          "2022-01-01T00:00:00",
          "2023-01-01T00:00:00",
          "2024-01-01T00:00:00",
          "2025-01-01T00:00:00",
          "2026-01-01T00:00:00",
          "2027-01-01T00:00:00",
          "2028-01-01T00:00:00",
          "2029-01-01T00:00:00",
          "2030-01-01T00:00:00"
         ],
         "xaxis": "x",
         "y": [
          301961,
          545110,
          1029190,
          1997490,
          2860097,
          3209840,
          4419242,
          null,
          null,
          null,
          null,
          null,
          null,
          null
         ],
         "yaxis": "y"
        },
        {
         "hoverinfo": "none",
         "line": {
          "width": 2
         },
         "marker": {
          "size": 5
         },
         "mode": "lines+markers",
         "name": "XGBRegressor",
         "type": "scattergl",
         "x": [
          "2017-01-01T00:00:00",
          "2018-01-01T00:00:00",
          "2019-01-01T00:00:00",
          "2020-01-01T00:00:00",
          "2021-01-01T00:00:00",
          "2022-01-01T00:00:00",
          "2023-01-01T00:00:00",
          "2024-01-01T00:00:00",
          "2025-01-01T00:00:00",
          "2026-01-01T00:00:00",
          "2027-01-01T00:00:00",
          "2028-01-01T00:00:00",
          "2029-01-01T00:00:00",
          "2030-01-01T00:00:00"
         ],
         "xaxis": "x",
         "y": [
          null,
          null,
          null,
          null,
          null,
          null,
          4143105.8708,
          4492848.9256,
          5426114.7851,
          5775857.8399,
          6709123.6994,
          7058866.7542,
          7992132.6137,
          8341875.6685
         ],
         "yaxis": "y"
        }
       ],
       "layout": {
        "autosize": false,
        "height": 500,
        "showlegend": true,
        "template": {
         "data": {
          "bar": [
           {
            "error_x": {
             "color": "rgb(36,36,36)"
            },
            "error_y": {
             "color": "rgb(36,36,36)"
            },
            "marker": {
             "line": {
              "color": "white",
              "width": 0.5
             },
             "pattern": {
              "fillmode": "overlay",
              "size": 10,
              "solidity": 0.2
             }
            },
            "type": "bar"
           }
          ],
          "barpolar": [
           {
            "marker": {
             "line": {
              "color": "white",
              "width": 0.5
             },
             "pattern": {
              "fillmode": "overlay",
              "size": 10,
              "solidity": 0.2
             }
            },
            "type": "barpolar"
           }
          ],
          "carpet": [
           {
            "aaxis": {
             "endlinecolor": "rgb(36,36,36)",
             "gridcolor": "white",
             "linecolor": "white",
             "minorgridcolor": "white",
             "startlinecolor": "rgb(36,36,36)"
            },
            "baxis": {
             "endlinecolor": "rgb(36,36,36)",
             "gridcolor": "white",
             "linecolor": "white",
             "minorgridcolor": "white",
             "startlinecolor": "rgb(36,36,36)"
            },
            "type": "carpet"
           }
          ],
          "choropleth": [
           {
            "colorbar": {
             "outlinewidth": 1,
             "tickcolor": "rgb(36,36,36)",
             "ticks": "outside"
            },
            "type": "choropleth"
           }
          ],
          "contour": [
           {
            "colorbar": {
             "outlinewidth": 1,
             "tickcolor": "rgb(36,36,36)",
             "ticks": "outside"
            },
            "colorscale": [
             [
              0,
              "#440154"
             ],
             [
              0.1111111111111111,
              "#482878"
             ],
             [
              0.2222222222222222,
              "#3e4989"
             ],
             [
              0.3333333333333333,
              "#31688e"
             ],
             [
              0.4444444444444444,
              "#26828e"
             ],
             [
              0.5555555555555556,
              "#1f9e89"
             ],
             [
              0.6666666666666666,
              "#35b779"
             ],
             [
              0.7777777777777778,
              "#6ece58"
             ],
             [
              0.8888888888888888,
              "#b5de2b"
             ],
             [
              1,
              "#fde725"
             ]
            ],
            "type": "contour"
           }
          ],
          "contourcarpet": [
           {
            "colorbar": {
             "outlinewidth": 1,
             "tickcolor": "rgb(36,36,36)",
             "ticks": "outside"
            },
            "type": "contourcarpet"
           }
          ],
          "heatmap": [
           {
            "colorbar": {
             "outlinewidth": 1,
             "tickcolor": "rgb(36,36,36)",
             "ticks": "outside"
            },
            "colorscale": [
             [
              0,
              "#440154"
             ],
             [
              0.1111111111111111,
              "#482878"
             ],
             [
              0.2222222222222222,
              "#3e4989"
             ],
             [
              0.3333333333333333,
              "#31688e"
             ],
             [
              0.4444444444444444,
              "#26828e"
             ],
             [
              0.5555555555555556,
              "#1f9e89"
             ],
             [
              0.6666666666666666,
              "#35b779"
             ],
             [
              0.7777777777777778,
              "#6ece58"
             ],
             [
              0.8888888888888888,
              "#b5de2b"
             ],
             [
              1,
              "#fde725"
             ]
            ],
            "type": "heatmap"
           }
          ],
          "heatmapgl": [
           {
            "colorbar": {
             "outlinewidth": 1,
             "tickcolor": "rgb(36,36,36)",
             "ticks": "outside"
            },
            "colorscale": [
             [
              0,
              "#440154"
             ],
             [
              0.1111111111111111,
              "#482878"
             ],
             [
              0.2222222222222222,
              "#3e4989"
             ],
             [
              0.3333333333333333,
              "#31688e"
             ],
             [
              0.4444444444444444,
              "#26828e"
             ],
             [
              0.5555555555555556,
              "#1f9e89"
             ],
             [
              0.6666666666666666,
              "#35b779"
             ],
             [
              0.7777777777777778,
              "#6ece58"
             ],
             [
              0.8888888888888888,
              "#b5de2b"
             ],
             [
              1,
              "#fde725"
             ]
            ],
            "type": "heatmapgl"
           }
          ],
          "histogram": [
           {
            "marker": {
             "line": {
              "color": "white",
              "width": 0.6
             }
            },
            "type": "histogram"
           }
          ],
          "histogram2d": [
           {
            "colorbar": {
             "outlinewidth": 1,
             "tickcolor": "rgb(36,36,36)",
             "ticks": "outside"
            },
            "colorscale": [
             [
              0,
              "#440154"
             ],
             [
              0.1111111111111111,
              "#482878"
             ],
             [
              0.2222222222222222,
              "#3e4989"
             ],
             [
              0.3333333333333333,
              "#31688e"
             ],
             [
              0.4444444444444444,
              "#26828e"
             ],
             [
              0.5555555555555556,
              "#1f9e89"
             ],
             [
              0.6666666666666666,
              "#35b779"
             ],
             [
              0.7777777777777778,
              "#6ece58"
             ],
             [
              0.8888888888888888,
              "#b5de2b"
             ],
             [
              1,
              "#fde725"
             ]
            ],
            "type": "histogram2d"
           }
          ],
          "histogram2dcontour": [
           {
            "colorbar": {
             "outlinewidth": 1,
             "tickcolor": "rgb(36,36,36)",
             "ticks": "outside"
            },
            "colorscale": [
             [
              0,
              "#440154"
             ],
             [
              0.1111111111111111,
              "#482878"
             ],
             [
              0.2222222222222222,
              "#3e4989"
             ],
             [
              0.3333333333333333,
              "#31688e"
             ],
             [
              0.4444444444444444,
              "#26828e"
             ],
             [
              0.5555555555555556,
              "#1f9e89"
             ],
             [
              0.6666666666666666,
              "#35b779"
             ],
             [
              0.7777777777777778,
              "#6ece58"
             ],
             [
              0.8888888888888888,
              "#b5de2b"
             ],
             [
              1,
              "#fde725"
             ]
            ],
            "type": "histogram2dcontour"
           }
          ],
          "mesh3d": [
           {
            "colorbar": {
             "outlinewidth": 1,
             "tickcolor": "rgb(36,36,36)",
             "ticks": "outside"
            },
            "type": "mesh3d"
           }
          ],
          "parcoords": [
           {
            "line": {
             "colorbar": {
              "outlinewidth": 1,
              "tickcolor": "rgb(36,36,36)",
              "ticks": "outside"
             }
            },
            "type": "parcoords"
           }
          ],
          "pie": [
           {
            "automargin": true,
            "type": "pie"
           }
          ],
          "scatter": [
           {
            "fillpattern": {
             "fillmode": "overlay",
             "size": 10,
             "solidity": 0.2
            },
            "type": "scatter"
           }
          ],
          "scatter3d": [
           {
            "line": {
             "colorbar": {
              "outlinewidth": 1,
              "tickcolor": "rgb(36,36,36)",
              "ticks": "outside"
             }
            },
            "marker": {
             "colorbar": {
              "outlinewidth": 1,
              "tickcolor": "rgb(36,36,36)",
              "ticks": "outside"
             }
            },
            "type": "scatter3d"
           }
          ],
          "scattercarpet": [
           {
            "marker": {
             "colorbar": {
              "outlinewidth": 1,
              "tickcolor": "rgb(36,36,36)",
              "ticks": "outside"
             }
            },
            "type": "scattercarpet"
           }
          ],
          "scattergeo": [
           {
            "marker": {
             "colorbar": {
              "outlinewidth": 1,
              "tickcolor": "rgb(36,36,36)",
              "ticks": "outside"
             }
            },
            "type": "scattergeo"
           }
          ],
          "scattergl": [
           {
            "marker": {
             "colorbar": {
              "outlinewidth": 1,
              "tickcolor": "rgb(36,36,36)",
              "ticks": "outside"
             }
            },
            "type": "scattergl"
           }
          ],
          "scattermapbox": [
           {
            "marker": {
             "colorbar": {
              "outlinewidth": 1,
              "tickcolor": "rgb(36,36,36)",
              "ticks": "outside"
             }
            },
            "type": "scattermapbox"
           }
          ],
          "scatterpolar": [
           {
            "marker": {
             "colorbar": {
              "outlinewidth": 1,
              "tickcolor": "rgb(36,36,36)",
              "ticks": "outside"
             }
            },
            "type": "scatterpolar"
           }
          ],
          "scatterpolargl": [
           {
            "marker": {
             "colorbar": {
              "outlinewidth": 1,
              "tickcolor": "rgb(36,36,36)",
              "ticks": "outside"
             }
            },
            "type": "scatterpolargl"
           }
          ],
          "scatterternary": [
           {
            "marker": {
             "colorbar": {
              "outlinewidth": 1,
              "tickcolor": "rgb(36,36,36)",
              "ticks": "outside"
             }
            },
            "type": "scatterternary"
           }
          ],
          "surface": [
           {
            "colorbar": {
             "outlinewidth": 1,
             "tickcolor": "rgb(36,36,36)",
             "ticks": "outside"
            },
            "colorscale": [
             [
              0,
              "#440154"
             ],
             [
              0.1111111111111111,
              "#482878"
             ],
             [
              0.2222222222222222,
              "#3e4989"
             ],
             [
              0.3333333333333333,
              "#31688e"
             ],
             [
              0.4444444444444444,
              "#26828e"
             ],
             [
              0.5555555555555556,
              "#1f9e89"
             ],
             [
              0.6666666666666666,
              "#35b779"
             ],
             [
              0.7777777777777778,
              "#6ece58"
             ],
             [
              0.8888888888888888,
              "#b5de2b"
             ],
             [
              1,
              "#fde725"
             ]
            ],
            "type": "surface"
           }
          ],
          "table": [
           {
            "cells": {
             "fill": {
              "color": "rgb(237,237,237)"
             },
             "line": {
              "color": "white"
             }
            },
            "header": {
             "fill": {
              "color": "rgb(217,217,217)"
             },
             "line": {
              "color": "white"
             }
            },
            "type": "table"
           }
          ]
         },
         "layout": {
          "annotationdefaults": {
           "arrowhead": 0,
           "arrowwidth": 1
          },
          "autotypenumbers": "strict",
          "coloraxis": {
           "colorbar": {
            "outlinewidth": 1,
            "tickcolor": "rgb(36,36,36)",
            "ticks": "outside"
           }
          },
          "colorscale": {
           "diverging": [
            [
             0,
             "rgb(103,0,31)"
            ],
            [
             0.1,
             "rgb(178,24,43)"
            ],
            [
             0.2,
             "rgb(214,96,77)"
            ],
            [
             0.3,
             "rgb(244,165,130)"
            ],
            [
             0.4,
             "rgb(253,219,199)"
            ],
            [
             0.5,
             "rgb(247,247,247)"
            ],
            [
             0.6,
             "rgb(209,229,240)"
            ],
            [
             0.7,
             "rgb(146,197,222)"
            ],
            [
             0.8,
             "rgb(67,147,195)"
            ],
            [
             0.9,
             "rgb(33,102,172)"
            ],
            [
             1,
             "rgb(5,48,97)"
            ]
           ],
           "sequential": [
            [
             0,
             "#440154"
            ],
            [
             0.1111111111111111,
             "#482878"
            ],
            [
             0.2222222222222222,
             "#3e4989"
            ],
            [
             0.3333333333333333,
             "#31688e"
            ],
            [
             0.4444444444444444,
             "#26828e"
            ],
            [
             0.5555555555555556,
             "#1f9e89"
            ],
            [
             0.6666666666666666,
             "#35b779"
            ],
            [
             0.7777777777777778,
             "#6ece58"
            ],
            [
             0.8888888888888888,
             "#b5de2b"
            ],
            [
             1,
             "#fde725"
            ]
           ],
           "sequentialminus": [
            [
             0,
             "#440154"
            ],
            [
             0.1111111111111111,
             "#482878"
            ],
            [
             0.2222222222222222,
             "#3e4989"
            ],
            [
             0.3333333333333333,
             "#31688e"
            ],
            [
             0.4444444444444444,
             "#26828e"
            ],
            [
             0.5555555555555556,
             "#1f9e89"
            ],
            [
             0.6666666666666666,
             "#35b779"
            ],
            [
             0.7777777777777778,
             "#6ece58"
            ],
            [
             0.8888888888888888,
             "#b5de2b"
            ],
            [
             1,
             "#fde725"
            ]
           ]
          },
          "colorway": [
           "#1F77B4",
           "#FF7F0E",
           "#2CA02C",
           "#D62728",
           "#9467BD",
           "#8C564B",
           "#E377C2",
           "#7F7F7F",
           "#BCBD22",
           "#17BECF"
          ],
          "font": {
           "color": "rgb(36,36,36)"
          },
          "geo": {
           "bgcolor": "white",
           "lakecolor": "white",
           "landcolor": "white",
           "showlakes": true,
           "showland": true,
           "subunitcolor": "white"
          },
          "hoverlabel": {
           "align": "left"
          },
          "hovermode": "closest",
          "mapbox": {
           "style": "light"
          },
          "paper_bgcolor": "white",
          "plot_bgcolor": "white",
          "polar": {
           "angularaxis": {
            "gridcolor": "rgb(232,232,232)",
            "linecolor": "rgb(36,36,36)",
            "showgrid": false,
            "showline": true,
            "ticks": "outside"
           },
           "bgcolor": "white",
           "radialaxis": {
            "gridcolor": "rgb(232,232,232)",
            "linecolor": "rgb(36,36,36)",
            "showgrid": false,
            "showline": true,
            "ticks": "outside"
           }
          },
          "scene": {
           "xaxis": {
            "backgroundcolor": "white",
            "gridcolor": "rgb(232,232,232)",
            "gridwidth": 2,
            "linecolor": "rgb(36,36,36)",
            "showbackground": true,
            "showgrid": false,
            "showline": true,
            "ticks": "outside",
            "zeroline": false,
            "zerolinecolor": "rgb(36,36,36)"
           },
           "yaxis": {
            "backgroundcolor": "white",
            "gridcolor": "rgb(232,232,232)",
            "gridwidth": 2,
            "linecolor": "rgb(36,36,36)",
            "showbackground": true,
            "showgrid": false,
            "showline": true,
            "ticks": "outside",
            "zeroline": false,
            "zerolinecolor": "rgb(36,36,36)"
           },
           "zaxis": {
            "backgroundcolor": "white",
            "gridcolor": "rgb(232,232,232)",
            "gridwidth": 2,
            "linecolor": "rgb(36,36,36)",
            "showbackground": true,
            "showgrid": false,
            "showline": true,
            "ticks": "outside",
            "zeroline": false,
            "zerolinecolor": "rgb(36,36,36)"
           }
          },
          "shapedefaults": {
           "fillcolor": "black",
           "line": {
            "width": 0
           },
           "opacity": 0.3
          },
          "ternary": {
           "aaxis": {
            "gridcolor": "rgb(232,232,232)",
            "linecolor": "rgb(36,36,36)",
            "showgrid": false,
            "showline": true,
            "ticks": "outside"
           },
           "baxis": {
            "gridcolor": "rgb(232,232,232)",
            "linecolor": "rgb(36,36,36)",
            "showgrid": false,
            "showline": true,
            "ticks": "outside"
           },
           "bgcolor": "white",
           "caxis": {
            "gridcolor": "rgb(232,232,232)",
            "linecolor": "rgb(36,36,36)",
            "showgrid": false,
            "showline": true,
            "ticks": "outside"
           }
          },
          "title": {
           "x": 0.05
          },
          "xaxis": {
           "automargin": true,
           "gridcolor": "rgb(232,232,232)",
           "linecolor": "rgb(36,36,36)",
           "showgrid": false,
           "showline": true,
           "ticks": "outside",
           "title": {
            "standoff": 15
           },
           "zeroline": false,
           "zerolinecolor": "rgb(36,36,36)"
          },
          "yaxis": {
           "automargin": true,
           "gridcolor": "rgb(232,232,232)",
           "linecolor": "rgb(36,36,36)",
           "showgrid": false,
           "showline": true,
           "ticks": "outside",
           "title": {
            "standoff": 15
           },
           "zeroline": false,
           "zerolinecolor": "rgb(36,36,36)"
          }
         }
        },
        "title": {
         "text": "Actual vs. Forecast (Out-of-Sample)"
        },
        "width": 1000,
        "xaxis": {
         "anchor": "y",
         "domain": [
          0,
          1
         ]
        },
        "yaxis": {
         "anchor": "x",
         "domain": [
          0,
          1
         ]
        }
       }
      }
     },
     "metadata": {},
     "output_type": "display_data"
    }
   ],
   "source": [
    "arima = exp.create_model('xgboost_cds_dt')\n",
    "exp.plot_model(plot = 'decomp',\n",
    "               data_kwargs = {'type' : 'multiplicative'},\n",
    "               fig_kwargs = {\"height\":500,\"width\":1000,\"template\": \"simple_white\",\"hoverinfo\":\"none\",\"big_data_threshold\":10})\n",
    "exp.plot_model(estimator = arima, plot = 'forecast', \n",
    "               data_kwargs = {'fh' : 8},\n",
    "               fig_kwargs = {\"height\":500,\"width\":1000,\"template\": \"simple_white\",\"hoverinfo\":\"none\",\"big_data_threshold\":10})\n",
    "\n"
   ]
  },
  {
   "cell_type": "code",
   "execution_count": null,
   "metadata": {},
   "outputs": [],
   "source": []
  }
 ],
 "metadata": {
  "kernelspec": {
   "display_name": "Python 3",
   "language": "python",
   "name": "python3"
  },
  "language_info": {
   "codemirror_mode": {
    "name": "ipython",
    "version": 3
   },
   "file_extension": ".py",
   "mimetype": "text/x-python",
   "name": "python",
   "nbconvert_exporter": "python",
   "pygments_lexer": "ipython3",
   "version": "3.10.11"
  }
 },
 "nbformat": 4,
 "nbformat_minor": 2
}
