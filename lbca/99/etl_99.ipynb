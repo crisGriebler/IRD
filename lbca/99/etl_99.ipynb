{
 "cells": [
  {
   "cell_type": "code",
   "execution_count": 1,
   "metadata": {},
   "outputs": [],
   "source": [
    "import pandas as pd"
   ]
  },
  {
   "cell_type": "code",
   "execution_count": 2,
   "metadata": {},
   "outputs": [
    {
     "data": {
      "text/plain": [
       "37227"
      ]
     },
     "execution_count": 2,
     "metadata": {},
     "output_type": "execute_result"
    }
   ],
   "source": [
    "# Passo 1: Ler o arquivo Excel\n",
    "file_path = '99_nov.xlsx'\n",
    "df = pd.read_excel(file_path)\n",
    "len(df)"
   ]
  },
  {
   "cell_type": "code",
   "execution_count": 3,
   "metadata": {},
   "outputs": [
    {
     "data": {
      "text/plain": [
       "5420"
      ]
     },
     "execution_count": 3,
     "metadata": {},
     "output_type": "execute_result"
    }
   ],
   "source": [
    "# Passo 3: Filtrar registros onde a coluna 'Área' é igual a 'Área 110'\n",
    "df_filtered = df[df['Área'] == 'Área 110']\n",
    "len(df_filtered)"
   ]
  },
  {
   "cell_type": "code",
   "execution_count": 4,
   "metadata": {},
   "outputs": [
    {
     "data": {
      "text/plain": [
       "5382"
      ]
     },
     "execution_count": 4,
     "metadata": {},
     "output_type": "execute_result"
    }
   ],
   "source": [
    "# Passo 2: Filtrar os registros que possuem \"parte autora\" igual a 99 ou semelhante\n",
    "df_filtered = df_filtered[~df_filtered['Parte Autora'].astype(str).str.contains('99', case=False)]\n",
    "len(df_filtered)"
   ]
  },
  {
   "cell_type": "code",
   "execution_count": 5,
   "metadata": {},
   "outputs": [
    {
     "data": {
      "text/plain": [
       "5044"
      ]
     },
     "execution_count": 5,
     "metadata": {},
     "output_type": "execute_result"
    }
   ],
   "source": [
    "\n",
    "# Passo 3: Excluir registros onde a coluna 'Causa de Fechamento 1' contém 'Encerramento'\n",
    "df_filtered = df_filtered[df_filtered['Causa de Fechamento 1'] != 'Encerramento']\n",
    "len(df_filtered)"
   ]
  },
  {
   "cell_type": "code",
   "execution_count": 6,
   "metadata": {},
   "outputs": [
    {
     "name": "stdout",
     "output_type": "stream",
     "text": [
      "                   UF\n",
      "7      Santa Catarina\n",
      "10  Rio Grande do Sul\n",
      "13          São Paulo\n",
      "20  Rio Grande do Sul\n",
      "29          São Paulo\n"
     ]
    }
   ],
   "source": [
    "# Dicionário com todas as siglas de estados brasileiros e seus nomes por extenso\n",
    "uf_dict = {\n",
    "    'AC': 'Acre',\n",
    "    'AL': 'Alagoas',\n",
    "    'AP': 'Amapá',\n",
    "    'AM': 'Amazonas',\n",
    "    'BA': 'Bahia',\n",
    "    'CE': 'Ceará',\n",
    "    'DF': 'Distrito Federal',\n",
    "    'ES': 'Espírito Santo',\n",
    "    'GO': 'Goiás',\n",
    "    'MA': 'Maranhão',\n",
    "    'MT': 'Mato Grosso',\n",
    "    'MS': 'Mato Grosso do Sul',\n",
    "    'MG': 'Minas Gerais',\n",
    "    'PA': 'Pará',\n",
    "    'PB': 'Paraíba',\n",
    "    'PR': 'Paraná',\n",
    "    'PE': 'Pernambuco',\n",
    "    'PI': 'Piauí',\n",
    "    'RJ': 'Rio de Janeiro',\n",
    "    'RN': 'Rio Grande do Norte',\n",
    "    'RS': 'Rio Grande do Sul',\n",
    "    'RO': 'Rondônia',\n",
    "    'RR': 'Roraima',\n",
    "    'SC': 'Santa Catarina',\n",
    "    'SP': 'São Paulo',\n",
    "    'SE': 'Sergipe',\n",
    "    'TO': 'Tocantins'\n",
    "}\n",
    "\n",
    "# Passo 2: Substituir os valores na coluna 'UF' usando o dicionário\n",
    "df_filtered['UF'] = df_filtered['UF'].replace(uf_dict)\n",
    "\n",
    "# Mostrar as primeiras linhas do DataFrame para conferir\n",
    "print(df_filtered[['UF']].head())\n"
   ]
  },
  {
   "cell_type": "code",
   "execution_count": 7,
   "metadata": {},
   "outputs": [
    {
     "data": {
      "text/html": [
       "<div>\n",
       "<style scoped>\n",
       "    .dataframe tbody tr th:only-of-type {\n",
       "        vertical-align: middle;\n",
       "    }\n",
       "\n",
       "    .dataframe tbody tr th {\n",
       "        vertical-align: top;\n",
       "    }\n",
       "\n",
       "    .dataframe thead th {\n",
       "        text-align: right;\n",
       "    }\n",
       "</style>\n",
       "<table border=\"1\" class=\"dataframe\">\n",
       "  <thead>\n",
       "    <tr style=\"text-align: right;\">\n",
       "      <th></th>\n",
       "      <th>Caso</th>\n",
       "      <th>Origem</th>\n",
       "      <th>Área LBCA</th>\n",
       "      <th>Área</th>\n",
       "      <th>Departamento</th>\n",
       "      <th>Data Cadastro</th>\n",
       "      <th>Data Citação</th>\n",
       "      <th>Data Distribuição</th>\n",
       "      <th>Data Encerramento</th>\n",
       "      <th>Processo</th>\n",
       "      <th>...</th>\n",
       "      <th>Objeto</th>\n",
       "      <th>SubObjeto</th>\n",
       "      <th>Objeto02</th>\n",
       "      <th>SubObjeto02</th>\n",
       "      <th>Objeto03</th>\n",
       "      <th>SubObjeto03</th>\n",
       "      <th>Classificação – Passageiros Especiais 99</th>\n",
       "      <th>Pesquisar Publicação</th>\n",
       "      <th>Visualização SI</th>\n",
       "      <th>CADASTRO ACIMA DE 24 MESES</th>\n",
       "    </tr>\n",
       "  </thead>\n",
       "  <tbody>\n",
       "    <tr>\n",
       "      <th>7</th>\n",
       "      <td>2745988</td>\n",
       "      <td>LBCA</td>\n",
       "      <td>0110 - Cível Geral</td>\n",
       "      <td>Área 110</td>\n",
       "      <td>99 TECNOLOGIA LTDA</td>\n",
       "      <td>2021-07-05</td>\n",
       "      <td>2021-07-22 00:00:00</td>\n",
       "      <td>2021-06-30 00:00:00</td>\n",
       "      <td>2024-07-30</td>\n",
       "      <td>5012190-12.2021.8.24.0039</td>\n",
       "      <td>...</td>\n",
       "      <td>LGPD</td>\n",
       "      <td>NaN</td>\n",
       "      <td>NaN</td>\n",
       "      <td>NaN</td>\n",
       "      <td>NaN</td>\n",
       "      <td>NaN</td>\n",
       "      <td>NaN</td>\n",
       "      <td>Sim</td>\n",
       "      <td>Sim</td>\n",
       "      <td>Sim</td>\n",
       "    </tr>\n",
       "    <tr>\n",
       "      <th>10</th>\n",
       "      <td>2746316</td>\n",
       "      <td>LBCA</td>\n",
       "      <td>0110 - Cível Geral</td>\n",
       "      <td>Área 110</td>\n",
       "      <td>99 TECNOLOGIA LTDA</td>\n",
       "      <td>2021-07-06</td>\n",
       "      <td>2021-07-02 00:00:00</td>\n",
       "      <td>2021-06-30 00:00:00</td>\n",
       "      <td>2021-10-04</td>\n",
       "      <td>9002643-54.2021.8.21.0008</td>\n",
       "      <td>...</td>\n",
       "      <td>LGPD</td>\n",
       "      <td>NaN</td>\n",
       "      <td>NaN</td>\n",
       "      <td>NaN</td>\n",
       "      <td>NaN</td>\n",
       "      <td>NaN</td>\n",
       "      <td>NaN</td>\n",
       "      <td>Sim</td>\n",
       "      <td>Sim</td>\n",
       "      <td>Sim</td>\n",
       "    </tr>\n",
       "    <tr>\n",
       "      <th>13</th>\n",
       "      <td>2746326</td>\n",
       "      <td>LBCA</td>\n",
       "      <td>0110 - Cível Geral</td>\n",
       "      <td>Área 110</td>\n",
       "      <td>99 TECNOLOGIA LTDA</td>\n",
       "      <td>2021-07-06</td>\n",
       "      <td>2021-07-01 00:00:00</td>\n",
       "      <td>2021-06-30 00:00:00</td>\n",
       "      <td>2023-06-19</td>\n",
       "      <td>1015466-64.2021.8.26.0007</td>\n",
       "      <td>...</td>\n",
       "      <td>Discriminação</td>\n",
       "      <td>Por deficiência</td>\n",
       "      <td>NaN</td>\n",
       "      <td>NaN</td>\n",
       "      <td>NaN</td>\n",
       "      <td>NaN</td>\n",
       "      <td>Menor de Idade</td>\n",
       "      <td>Sim</td>\n",
       "      <td>Sim</td>\n",
       "      <td>Sim</td>\n",
       "    </tr>\n",
       "  </tbody>\n",
       "</table>\n",
       "<p>3 rows × 133 columns</p>\n",
       "</div>"
      ],
      "text/plain": [
       "       Caso Origem           Área LBCA      Área        Departamento  \\\n",
       "7   2745988   LBCA  0110 - Cível Geral  Área 110  99 TECNOLOGIA LTDA   \n",
       "10  2746316   LBCA  0110 - Cível Geral  Área 110  99 TECNOLOGIA LTDA   \n",
       "13  2746326   LBCA  0110 - Cível Geral  Área 110  99 TECNOLOGIA LTDA   \n",
       "\n",
       "   Data Cadastro         Data Citação    Data Distribuição Data Encerramento  \\\n",
       "7     2021-07-05  2021-07-22 00:00:00  2021-06-30 00:00:00        2024-07-30   \n",
       "10    2021-07-06  2021-07-02 00:00:00  2021-06-30 00:00:00        2021-10-04   \n",
       "13    2021-07-06  2021-07-01 00:00:00  2021-06-30 00:00:00        2023-06-19   \n",
       "\n",
       "                     Processo  ...         Objeto        SubObjeto Objeto02  \\\n",
       "7   5012190-12.2021.8.24.0039  ...           LGPD              NaN      NaN   \n",
       "10  9002643-54.2021.8.21.0008  ...           LGPD              NaN      NaN   \n",
       "13  1015466-64.2021.8.26.0007  ...  Discriminação  Por deficiência      NaN   \n",
       "\n",
       "   SubObjeto02 Objeto03 SubObjeto03 Classificação – Passageiros Especiais 99  \\\n",
       "7          NaN      NaN         NaN                                      NaN   \n",
       "10         NaN      NaN         NaN                                      NaN   \n",
       "13         NaN      NaN         NaN                           Menor de Idade   \n",
       "\n",
       "   Pesquisar Publicação Visualização SI CADASTRO ACIMA DE 24 MESES  \n",
       "7                   Sim             Sim                        Sim  \n",
       "10                  Sim             Sim                        Sim  \n",
       "13                  Sim             Sim                        Sim  \n",
       "\n",
       "[3 rows x 133 columns]"
      ]
     },
     "execution_count": 7,
     "metadata": {},
     "output_type": "execute_result"
    }
   ],
   "source": [
    "df_filtered.head(3)"
   ]
  },
  {
   "cell_type": "code",
   "execution_count": 8,
   "metadata": {},
   "outputs": [
    {
     "name": "stdout",
     "output_type": "stream",
     "text": [
      "Colunas convertidas para formato de data: ['Data Cadastro', 'Data Citação', 'Data Distribuição', 'Data Encerramento', 'Data Bloqueio Motorista', 'Audiência 1 - Data', 'Audiência 2 - Data', 'Período do Último Andamento Fluxo – Data', 'Período do Último Andamento Processual – Data', 'Valor da Condenação Atualizado – Tipo de Data', 'Valor da Condenação Atualizado – Data', 'Cumprimento Voluntário – Data Depósito', 'Depósitos e Garantias – Data Depósito', 'Custas – Data Depósito', 'Bloqueio – Data do Bloqueio', 'Bloqueio – Data do Desbloqueio', 'Valor das Despesas – Data de Depósito', 'Revelia / Deserção / Intempestividade – Data Ocorrência', 'Revelia / Deserção / Intempestividade – Data Ocorrência1', 'Revelia / Deserção / Intempestividade – Data Ocorrência2']\n"
     ]
    },
    {
     "name": "stderr",
     "output_type": "stream",
     "text": [
      "C:\\Users\\crist\\AppData\\Local\\Temp\\ipykernel_14828\\3119639878.py:6: UserWarning: Could not infer format, so each element will be parsed individually, falling back to `dateutil`. To ensure parsing is consistent and as-expected, please specify a format.\n",
      "  df_filtered[col] = pd.to_datetime(df_filtered[col], errors='coerce')  # 'coerce' para valores inválidos\n",
      "C:\\Users\\crist\\AppData\\Local\\Temp\\ipykernel_14828\\3119639878.py:6: UserWarning: Could not infer format, so each element will be parsed individually, falling back to `dateutil`. To ensure parsing is consistent and as-expected, please specify a format.\n",
      "  df_filtered[col] = pd.to_datetime(df_filtered[col], errors='coerce')  # 'coerce' para valores inválidos\n",
      "C:\\Users\\crist\\AppData\\Local\\Temp\\ipykernel_14828\\3119639878.py:6: UserWarning: Could not infer format, so each element will be parsed individually, falling back to `dateutil`. To ensure parsing is consistent and as-expected, please specify a format.\n",
      "  df_filtered[col] = pd.to_datetime(df_filtered[col], errors='coerce')  # 'coerce' para valores inválidos\n"
     ]
    }
   ],
   "source": [
    "# Passo 2: Identificar as colunas que tenham \"data\" no nome (case-insensitive)\n",
    "date_columns = [col for col in df_filtered.columns if 'data' in col.lower()]\n",
    "\n",
    "# Passo 3: Converter essas colunas para o formato datetime\n",
    "for col in date_columns:\n",
    "    df_filtered[col] = pd.to_datetime(df_filtered[col], errors='coerce')  # 'coerce' para valores inválidos\n",
    "\n",
    "# Mostrar as colunas convertidas para conferência\n",
    "print(f\"Colunas convertidas para formato de data: {date_columns}\")"
   ]
  },
  {
   "cell_type": "code",
   "execution_count": 9,
   "metadata": {},
   "outputs": [
    {
     "data": {
      "text/html": [
       "<div>\n",
       "<style scoped>\n",
       "    .dataframe tbody tr th:only-of-type {\n",
       "        vertical-align: middle;\n",
       "    }\n",
       "\n",
       "    .dataframe tbody tr th {\n",
       "        vertical-align: top;\n",
       "    }\n",
       "\n",
       "    .dataframe thead th {\n",
       "        text-align: right;\n",
       "    }\n",
       "</style>\n",
       "<table border=\"1\" class=\"dataframe\">\n",
       "  <thead>\n",
       "    <tr style=\"text-align: right;\">\n",
       "      <th></th>\n",
       "      <th>Caso</th>\n",
       "      <th>Origem</th>\n",
       "      <th>Área LBCA</th>\n",
       "      <th>Área</th>\n",
       "      <th>Departamento</th>\n",
       "      <th>Data Cadastro</th>\n",
       "      <th>Data Citação</th>\n",
       "      <th>Data Distribuição</th>\n",
       "      <th>Data Encerramento</th>\n",
       "      <th>Processo</th>\n",
       "      <th>...</th>\n",
       "      <th>Objeto</th>\n",
       "      <th>SubObjeto</th>\n",
       "      <th>Objeto02</th>\n",
       "      <th>SubObjeto02</th>\n",
       "      <th>Objeto03</th>\n",
       "      <th>SubObjeto03</th>\n",
       "      <th>Classificação – Passageiros Especiais 99</th>\n",
       "      <th>Pesquisar Publicação</th>\n",
       "      <th>Visualização SI</th>\n",
       "      <th>CADASTRO ACIMA DE 24 MESES</th>\n",
       "    </tr>\n",
       "  </thead>\n",
       "  <tbody>\n",
       "    <tr>\n",
       "      <th>7</th>\n",
       "      <td>2745988</td>\n",
       "      <td>LBCA</td>\n",
       "      <td>0110 - Cível Geral</td>\n",
       "      <td>Área 110</td>\n",
       "      <td>99 TECNOLOGIA LTDA</td>\n",
       "      <td>2021-07-05</td>\n",
       "      <td>2021-07-22</td>\n",
       "      <td>2021-06-30</td>\n",
       "      <td>2024-07-30</td>\n",
       "      <td>5012190-12.2021.8.24.0039</td>\n",
       "      <td>...</td>\n",
       "      <td>LGPD</td>\n",
       "      <td>NaN</td>\n",
       "      <td>NaN</td>\n",
       "      <td>NaN</td>\n",
       "      <td>NaN</td>\n",
       "      <td>NaN</td>\n",
       "      <td>NaN</td>\n",
       "      <td>Sim</td>\n",
       "      <td>Sim</td>\n",
       "      <td>Sim</td>\n",
       "    </tr>\n",
       "    <tr>\n",
       "      <th>10</th>\n",
       "      <td>2746316</td>\n",
       "      <td>LBCA</td>\n",
       "      <td>0110 - Cível Geral</td>\n",
       "      <td>Área 110</td>\n",
       "      <td>99 TECNOLOGIA LTDA</td>\n",
       "      <td>2021-07-06</td>\n",
       "      <td>2021-07-02</td>\n",
       "      <td>2021-06-30</td>\n",
       "      <td>2021-10-04</td>\n",
       "      <td>9002643-54.2021.8.21.0008</td>\n",
       "      <td>...</td>\n",
       "      <td>LGPD</td>\n",
       "      <td>NaN</td>\n",
       "      <td>NaN</td>\n",
       "      <td>NaN</td>\n",
       "      <td>NaN</td>\n",
       "      <td>NaN</td>\n",
       "      <td>NaN</td>\n",
       "      <td>Sim</td>\n",
       "      <td>Sim</td>\n",
       "      <td>Sim</td>\n",
       "    </tr>\n",
       "    <tr>\n",
       "      <th>13</th>\n",
       "      <td>2746326</td>\n",
       "      <td>LBCA</td>\n",
       "      <td>0110 - Cível Geral</td>\n",
       "      <td>Área 110</td>\n",
       "      <td>99 TECNOLOGIA LTDA</td>\n",
       "      <td>2021-07-06</td>\n",
       "      <td>2021-07-01</td>\n",
       "      <td>2021-06-30</td>\n",
       "      <td>2023-06-19</td>\n",
       "      <td>1015466-64.2021.8.26.0007</td>\n",
       "      <td>...</td>\n",
       "      <td>Discriminação</td>\n",
       "      <td>Por deficiência</td>\n",
       "      <td>NaN</td>\n",
       "      <td>NaN</td>\n",
       "      <td>NaN</td>\n",
       "      <td>NaN</td>\n",
       "      <td>Menor de Idade</td>\n",
       "      <td>Sim</td>\n",
       "      <td>Sim</td>\n",
       "      <td>Sim</td>\n",
       "    </tr>\n",
       "  </tbody>\n",
       "</table>\n",
       "<p>3 rows × 133 columns</p>\n",
       "</div>"
      ],
      "text/plain": [
       "       Caso Origem           Área LBCA      Área        Departamento  \\\n",
       "7   2745988   LBCA  0110 - Cível Geral  Área 110  99 TECNOLOGIA LTDA   \n",
       "10  2746316   LBCA  0110 - Cível Geral  Área 110  99 TECNOLOGIA LTDA   \n",
       "13  2746326   LBCA  0110 - Cível Geral  Área 110  99 TECNOLOGIA LTDA   \n",
       "\n",
       "   Data Cadastro Data Citação Data Distribuição Data Encerramento  \\\n",
       "7     2021-07-05   2021-07-22        2021-06-30        2024-07-30   \n",
       "10    2021-07-06   2021-07-02        2021-06-30        2021-10-04   \n",
       "13    2021-07-06   2021-07-01        2021-06-30        2023-06-19   \n",
       "\n",
       "                     Processo  ...         Objeto        SubObjeto Objeto02  \\\n",
       "7   5012190-12.2021.8.24.0039  ...           LGPD              NaN      NaN   \n",
       "10  9002643-54.2021.8.21.0008  ...           LGPD              NaN      NaN   \n",
       "13  1015466-64.2021.8.26.0007  ...  Discriminação  Por deficiência      NaN   \n",
       "\n",
       "   SubObjeto02 Objeto03 SubObjeto03 Classificação – Passageiros Especiais 99  \\\n",
       "7          NaN      NaN         NaN                                      NaN   \n",
       "10         NaN      NaN         NaN                                      NaN   \n",
       "13         NaN      NaN         NaN                           Menor de Idade   \n",
       "\n",
       "   Pesquisar Publicação Visualização SI CADASTRO ACIMA DE 24 MESES  \n",
       "7                   Sim             Sim                        Sim  \n",
       "10                  Sim             Sim                        Sim  \n",
       "13                  Sim             Sim                        Sim  \n",
       "\n",
       "[3 rows x 133 columns]"
      ]
     },
     "execution_count": 9,
     "metadata": {},
     "output_type": "execute_result"
    }
   ],
   "source": [
    "df_filtered.head(3)"
   ]
  },
  {
   "cell_type": "code",
   "execution_count": 10,
   "metadata": {},
   "outputs": [],
   "source": [
    "# Passo 4: Salvar o arquivo como CSV (suportado pelo Looker Studio)\n",
    "output_path = '99_table.csv'\n",
    "df_filtered.to_csv(output_path, index=False)"
   ]
  }
 ],
 "metadata": {
  "kernelspec": {
   "display_name": "Python 3",
   "language": "python",
   "name": "python3"
  },
  "language_info": {
   "codemirror_mode": {
    "name": "ipython",
    "version": 3
   },
   "file_extension": ".py",
   "mimetype": "text/x-python",
   "name": "python",
   "nbconvert_exporter": "python",
   "pygments_lexer": "ipython3",
   "version": "3.10.11"
  }
 },
 "nbformat": 4,
 "nbformat_minor": 2
}
