{
 "cells": [
  {
   "cell_type": "code",
   "execution_count": 1,
   "metadata": {},
   "outputs": [],
   "source": [
    "import pandas as pd\n",
    "import numpy as np\n",
    "import random"
   ]
  },
  {
   "cell_type": "code",
   "execution_count": 5,
   "metadata": {},
   "outputs": [
    {
     "name": "stdout",
     "output_type": "stream",
     "text": [
      "✅ CSV file 'emprestimos.csv' has been generated successfully!\n"
     ]
    }
   ],
   "source": [
    "import pandas as pd\n",
    "import numpy as np\n",
    "\n",
    "# 1️⃣ DEFINE TOTAL CASES\n",
    "total_cases = 110 + 68  # 110 Empréstimos + 68 Superendividamento\n",
    "df = pd.DataFrame()\n",
    "\n",
    "# 2️⃣ GENERATE DATA\n",
    "df[\"ID\"] = range(1, total_cases + 1)\n",
    "df[\"Tipo\"] = [\"Empréstimos\"] * 110 + [\"Superendividamento\"] * 68\n",
    "df[\"Data Cadastro\"] = pd.date_range(start=\"2023-01-01\", periods=total_cases, freq=\"D\")\n",
    "\n",
    "# Assign Data Encerramento (Some cases remain open with NaT)\n",
    "df[\"Data Encerramento\"] = df[\"Data Cadastro\"] + pd.to_timedelta(np.random.randint(30, 365, total_cases), unit=\"D\")\n",
    "df.loc[np.random.choice(df.index, size=int(0.3 * total_cases), replace=False), \"Data Encerramento\"] = pd.NaT\n",
    "\n",
    "# 3️⃣ DISTRIBUTE SENTENÇAS PROFERIDAS BASED ON PERCENTAGES\n",
    "sentence_types = [\"Dano Moral\", \"Apenas Dano Material\", \"Apenas Obrigação de Fazer\", \"Improcedência\", \"Extinção\"]\n",
    "sentence_probs = [0.22, 0.04, 0.04, 0.26, 0.44]  # Must sum to 1\n",
    "df[\"Sentenças Proferidas\"] = np.random.choice(sentence_types, size=total_cases, p=sentence_probs)\n",
    "\n",
    "# 4️⃣ ASSIGN UF BASED ON REGIONAL DISTRIBUTION (55% Southeast, 45% Other Regions)\n",
    "southeast_states = [\"SP\", \"RJ\", \"MG\", \"ES\"]\n",
    "other_states = [\"BA\", \"PE\", \"CE\", \"RS\", \"SC\", \"PR\", \"GO\", \"DF\", \"PA\", \"AM\"]\n",
    "\n",
    "southeast_probs = [0.55 / len(southeast_states)] * len(southeast_states)\n",
    "other_probs = [0.45 / len(other_states)] * len(other_states)\n",
    "\n",
    "df[\"UF\"] = np.random.choice(southeast_states + other_states, size=total_cases, p=southeast_probs + other_probs)\n",
    "\n",
    "# 5️⃣ SAVE AS CSV FILE\n",
    "output_file = \"emprestimos.csv\"\n",
    "df.to_csv(output_file, index=False, encoding=\"utf-8\")\n",
    "\n",
    "print(f\"✅ CSV file '{output_file}' has been generated successfully!\")\n"
   ]
  },
  {
   "cell_type": "code",
   "execution_count": null,
   "metadata": {},
   "outputs": [],
   "source": []
  }
 ],
 "metadata": {
  "kernelspec": {
   "display_name": "Python 3",
   "language": "python",
   "name": "python3"
  },
  "language_info": {
   "codemirror_mode": {
    "name": "ipython",
    "version": 3
   },
   "file_extension": ".py",
   "mimetype": "text/x-python",
   "name": "python",
   "nbconvert_exporter": "python",
   "pygments_lexer": "ipython3",
   "version": "3.10.11"
  }
 },
 "nbformat": 4,
 "nbformat_minor": 2
}
