{
 "cells": [
  {
   "cell_type": "code",
   "execution_count": 1,
   "metadata": {},
   "outputs": [],
   "source": [
    "import pandas as pd\n",
    "import numpy as np\n",
    "import random"
   ]
  },
  {
   "cell_type": "code",
   "execution_count": 7,
   "metadata": {},
   "outputs": [
    {
     "name": "stdout",
     "output_type": "stream",
     "text": [
      "✅ CSV file 'emprestimo.csv' gerado com sucesso!\n"
     ]
    }
   ],
   "source": [
    "# Quantidade de casos\n",
    "total_cases = 100  # Novo total de casos\n",
    "superendividamento_total = 68  # Casos de Superendividamento\n",
    "emprestimos_total = total_cases - superendividamento_total  # Casos de Empréstimos\n",
    "\n",
    "df = pd.DataFrame()\n",
    "\n",
    "# distribuicao de casos conforme emprestimo e superendividamento\n",
    "date_distribution = {\n",
    "    \"2024-02\": (7, 2),\n",
    "    \"2024-03\": (11, 9),\n",
    "    \"2024-04\": (11, 8),\n",
    "    \"2024-05\": (11, 6),\n",
    "    \"2024-06\": (3, 1),\n",
    "    \"2024-07\": (13, 9),\n",
    "    \"2024-08\": (15, 12),\n",
    "    \"2024-09\": (9, 7),\n",
    "    \"2024-10\": (14, 10),\n",
    "    \"2024-11\": (6, 4),\n",
    "}\n",
    "\n",
    "data_cadastro = []\n",
    "tipo_index = {\"Empréstimos\": 0, \"Superendividamento\": 0}\n",
    "\n",
    "for month, (total, superendividamento) in date_distribution.items():\n",
    "    start_date = pd.to_datetime(f\"{month}-01\")\n",
    "    end_date = start_date + pd.DateOffset(days=27)  # Garante distribuição dentro do mês\n",
    "    dates = pd.date_range(start=start_date, end=end_date).tolist()\n",
    "\n",
    "    # Separar superendividamento e empréstimos\n",
    "    superendividamento_dates = random.sample(dates, superendividamento)\n",
    "    emprestimos_dates = random.sample([d for d in dates if d not in superendividamento_dates], total - superendividamento)\n",
    "\n",
    "    data_cadastro.extend([(d, \"Superendividamento\") for d in superendividamento_dates])\n",
    "    data_cadastro.extend([(d, \"Empréstimos\") for d in emprestimos_dates])\n",
    "\n",
    "# Ordenar por data\n",
    "data_cadastro.sort(key=lambda x: x[0])\n",
    "df[\"Data Cadastro\"] = [d[0] for d in data_cadastro]\n",
    "df[\"Tipo\"] = [d[1] for d in data_cadastro]\n",
    "\n",
    "# 3️⃣ GERAR DATA ENCERRAMENTO (30% dos casos continuam abertos)\n",
    "df[\"Data Encerramento\"] = df[\"Data Cadastro\"] + pd.to_timedelta(np.random.randint(30, 365, total_cases), unit=\"D\")\n",
    "df.loc[np.random.choice(df.index, size=int(0.3 * total_cases), replace=False), \"Data Encerramento\"] = pd.NaT\n",
    "\n",
    "# 4️⃣ DISTRIBUIR SENTENÇAS PROFERIDAS BASEADO NAS PERCENTAGENS\n",
    "sentence_types = [\"Dano Moral\", \"Apenas Dano Material\", \"Apenas Obrigação de Fazer\", \"Improcedência\", \"Extinção\"]\n",
    "sentence_probs = [0.22, 0.04, 0.04, 0.26, 0.44]  # Soma 100%\n",
    "df[\"Sentenças Proferidas\"] = np.random.choice(sentence_types, size=total_cases, p=sentence_probs)\n",
    "\n",
    "# 5️⃣ DISTRIBUIR UF (55% Sudeste, 45% Outras Regiões)\n",
    "southeast_states = [\"SP\", \"RJ\", \"MG\", \"ES\"]\n",
    "other_states = [\"BA\", \"PE\", \"CE\", \"RS\", \"SC\", \"PR\", \"GO\", \"DF\", \"PA\", \"AM\"]\n",
    "\n",
    "southeast_probs = [0.55 / len(southeast_states)] * len(southeast_states)\n",
    "other_probs = [0.45 / len(other_states)] * len(other_states)\n",
    "\n",
    "df[\"UF\"] = np.random.choice(southeast_states + other_states, size=total_cases, p=southeast_probs + other_probs)\n",
    "\n",
    "# 6️⃣ SALVAR COMO CSV\n",
    "output_file = \"emprestimo.csv\"\n",
    "df.to_csv(output_file, index=False, encoding=\"utf-8\")\n",
    "\n",
    "print(f\"✅ CSV file '{output_file}' gerado com sucesso!\")\n"
   ]
  },
  {
   "cell_type": "code",
   "execution_count": null,
   "metadata": {},
   "outputs": [],
   "source": []
  }
 ],
 "metadata": {
  "kernelspec": {
   "display_name": "Python 3",
   "language": "python",
   "name": "python3"
  },
  "language_info": {
   "codemirror_mode": {
    "name": "ipython",
    "version": 3
   },
   "file_extension": ".py",
   "mimetype": "text/x-python",
   "name": "python",
   "nbconvert_exporter": "python",
   "pygments_lexer": "ipython3",
   "version": "3.10.11"
  }
 },
 "nbformat": 4,
 "nbformat_minor": 2
}
