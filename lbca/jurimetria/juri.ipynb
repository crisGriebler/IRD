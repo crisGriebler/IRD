{
 "cells": [
  {
   "cell_type": "code",
   "execution_count": null,
   "metadata": {},
   "outputs": [
    {
     "data": {
      "text/plain": [
       "(      Caso                   Processo Status do Caso  \\\n",
       " 0   341385  0208030-51.2011.8.26.0100      Encerrado   \n",
       " 1   344065  0108548-02.2008.8.06.0001      Encerrado   \n",
       " 2   463826  0929225-60.2012.8.26.0506      Encerrado   \n",
       " 3   501004  0010874-73.2012.8.13.0329      Encerrado   \n",
       " 4  1065138  0002221-80.2013.8.26.0072      Encerrado   \n",
       " \n",
       "                                                Ação  Área (LBCA)  \\\n",
       " 0  Conhecimento - Condenatória - Obrigação de Fazer     Área 150   \n",
       " 1          Conhecimento - Condenatória - Dano Moral  140 - Cível   \n",
       " 2  Conhecimento - Condenatória - Obrigação de Fazer     Área 150   \n",
       " 3          Conhecimento - Condenatória - Dano Moral  140 - Cível   \n",
       " 4          Conhecimento - Condenatória - Dano Moral  140 - Cível   \n",
       " \n",
       "   Data de Cadastro Data da Citação Data da Distribuição Data de Encerramento  \\\n",
       " 0       2011-11-10      2011-11-03           2011-11-03           2024-10-01   \n",
       " 1       2012-01-02      2009-04-01           2009-04-01           2024-05-14   \n",
       " 2       2012-07-17      2012-07-17           2012-06-13           2024-08-05   \n",
       " 3       2012-12-12      2012-12-11           2012-11-30           2024-05-17   \n",
       " 4       2013-05-22      2013-05-21           2013-03-12           2024-09-16   \n",
       " \n",
       "    UF  ... Sentença - Dispositivo da Sentença Apelação/RI - Houve Recurso?  \\\n",
       " 0  SP  ...                       Improcedente                          Sim   \n",
       " 1  CE  ...                       Improcedente                          Sim   \n",
       " 2  SP  ...                         Procedente                          Sim   \n",
       " 3  MG  ...                         Procedente                          Sim   \n",
       " 4  SP  ...            Parcialmente Procedente                          Não   \n",
       " \n",
       "   Apelação/RI - Quem Apresentou o Recurso  \\\n",
       " 0                         Parte Contrária   \n",
       " 1                         Parte Contrária   \n",
       " 2                                  Google   \n",
       " 3                                  Google   \n",
       " 4                                     ***   \n",
       " \n",
       "                  Apelação/RI - Câmara Julgadora  \\\n",
       " 0                  4ª Câmara de Direito Privado   \n",
       " 1                  1ª Câmara de Direito Privado   \n",
       " 2  28ª Câmara Extraordinária de Direito Privado   \n",
       " 3                              13ª CÂMARA cível   \n",
       " 4                                           NaN   \n",
       " \n",
       "                   Apelação/RI - Relator              Apelação/RI - Revisor  \\\n",
       " 0       Carlos Henrique Miguel Trevisan                      Maia da Cunha   \n",
       " 1  JOSÃ‰ RICARDO VIDA PATROCÃ_x008d_NIO  FRANCISCO MAUTO FERREIRA LIBERATO   \n",
       " 2                       J.B. Paula Lima            Enio Santarelli Zuliani   \n",
       " 3    Alberto Henrique Costa de Oliveira                   ALBERTO HENRIQUE   \n",
       " 4                                   NaN                                NaN   \n",
       " \n",
       "             Apelação/RI - Vogal Apelação/RI - Data do Acórdão  \\\n",
       " 0     Natan Zelinschi de Arruda                    2014-08-07   \n",
       " 1  CARLOS AUGUSTO GOMES CORREIA                    2024-04-10   \n",
       " 2                 Maia da Cunha                    2017-06-07   \n",
       " 3     Luiz Carlos Gomes da Mata                    2015-06-25   \n",
       " 4                           NaN                           NaT   \n",
       " \n",
       "   Apelação/RI - Dispositivo do Acórdão Quanto ao Recurso do Google  \\\n",
       " 0                        Não houve recurso do Google                 \n",
       " 1                                                NaN                 \n",
       " 2                                  Negado Provimento                 \n",
       " 3                                 Provimento Parcial                 \n",
       " 4                                                NaN                 \n",
       " \n",
       "   Apelação/RI - Dispositivo do Acórdão Quanto ao Recurso da Parte Contrária  \n",
       " 0                                 Provimento Parcial                         \n",
       " 1                                  Negado Provimento                         \n",
       " 2                                                NaN                         \n",
       " 3                                                NaN                         \n",
       " 4                                                NaN                         \n",
       " \n",
       " [5 rows x 60 columns],\n",
       " Index(['Caso', 'Processo', 'Status do Caso', 'Ação', 'Área (LBCA)',\n",
       "        'Data de Cadastro', 'Data da Citação', 'Data da Distribuição',\n",
       "        'Data de Encerramento', 'UF', 'Comarca', 'Fórum', 'Vara', 'Orgão',\n",
       "        'Causa Raiz 1', 'Causa Raiz 2', 'Causa Raiz 3', 'Causa Raiz 4',\n",
       "        'Causa Real 1', 'Causa Real 2', 'Causa Real 3', 'Causa Real 4',\n",
       "        'Causa Real 5', 'Causa Real 6', 'Causa de Fechamento 1',\n",
       "        'Causa de Fechamento 2', 'Causa Real Jurídica 1',\n",
       "        'Causa Real Jurídica 2', 'Causa Real Jurídica 3',\n",
       "        'Causa Real Jurídica 4', 'Causa Real Jurídica 5',\n",
       "        'Pedido 1 - Descrição', 'Pedido 2 - Descrição', 'Pedido 3 - Descrição',\n",
       "        'Pedido 4 - Descrição', 'Pedido 5 - Descrição', 'Pedido 6 - Descrição',\n",
       "        'Pedido 7 - Descrição', 'Pedido 8 - Descrição', 'Departamento 1',\n",
       "        'Departamento 2', 'Departamento 3', 'Departamento 4', 'Departamento 5',\n",
       "        'Label 1', 'Label 2', 'Label 3', 'Label 4', 'Motivo das Ações',\n",
       "        'Sentença - Data da Sentença', 'Sentença - Dispositivo da Sentença',\n",
       "        'Apelação/RI - Houve Recurso?',\n",
       "        'Apelação/RI - Quem Apresentou o Recurso',\n",
       "        'Apelação/RI - Câmara Julgadora', 'Apelação/RI - Relator',\n",
       "        'Apelação/RI - Revisor', 'Apelação/RI - Vogal',\n",
       "        'Apelação/RI - Data do Acórdão',\n",
       "        'Apelação/RI - Dispositivo do Acórdão Quanto ao Recurso do Google',\n",
       "        'Apelação/RI - Dispositivo do Acórdão Quanto ao Recurso da Parte Contrária'],\n",
       "       dtype='object'))"
      ]
     },
     "execution_count": 2,
     "metadata": {},
     "output_type": "execute_result"
    }
   ],
   "source": [
    "import pandas as pd\n",
    "from sklearn.ensemble import RandomForestRegressor\n",
    "\n",
    "# Load the Excel file to examine the data structure and verify column names\n",
    "file_path = 'encerrados2024.xlsx'\n",
    "data = pd.read_excel(file_path)\n",
    "\n",
    "# Displaying the first few rows and column names to understand data layout\n",
    "data.head(), data.columns\n"
   ]
  },
  {
   "cell_type": "code",
   "execution_count": 4,
   "metadata": {},
   "outputs": [
    {
     "data": {
      "text/plain": [
       "(220, 60)"
      ]
     },
     "execution_count": 4,
     "metadata": {},
     "output_type": "execute_result"
    }
   ],
   "source": [
    "data.shape"
   ]
  },
  {
   "cell_type": "code",
   "execution_count": 5,
   "metadata": {},
   "outputs": [
    {
     "data": {
      "text/plain": [
       "(214, 60)"
      ]
     },
     "execution_count": 5,
     "metadata": {},
     "output_type": "execute_result"
    }
   ],
   "source": [
    "# Dropping rows where the 'Sentença - Dispositivo da Sentença' column has the value '***'\n",
    "data_cleaned = data[data['Sentença - Dispositivo da Sentença'] != '***']\n",
    "\n",
    "# Display the shape of the cleaned data to confirm rows have been removed\n",
    "data_cleaned.shape"
   ]
  },
  {
   "cell_type": "code",
   "execution_count": 7,
   "metadata": {},
   "outputs": [
    {
     "data": {
      "text/plain": [
       "Improcedente               27.102804\n",
       "Extinção sem mérito        26.635514\n",
       "Parcialmente Procedente    24.299065\n",
       "Procedente                 21.962617\n",
       "Name: Sentença - Dispositivo da Sentença, dtype: float64"
      ]
     },
     "execution_count": 7,
     "metadata": {},
     "output_type": "execute_result"
    }
   ],
   "source": [
    "# Evaluating the balance of the target variable 'Sentença - Dispositivo da Sentença'\n",
    "target_counts = data_cleaned['Sentença - Dispositivo da Sentença'].value_counts(normalize=True) * 100\n",
    "target_counts\n"
   ]
  },
  {
   "cell_type": "code",
   "execution_count": 9,
   "metadata": {},
   "outputs": [
    {
     "name": "stderr",
     "output_type": "stream",
     "text": [
      "C:\\Users\\crist\\AppData\\Local\\Temp\\ipykernel_23244\\570199276.py:10: SettingWithCopyWarning: \n",
      "A value is trying to be set on a copy of a slice from a DataFrame.\n",
      "Try using .loc[row_indexer,col_indexer] = value instead\n",
      "\n",
      "See the caveats in the documentation: https://pandas.pydata.org/pandas-docs/stable/user_guide/indexing.html#returning-a-view-versus-a-copy\n",
      "  data_cleaned['target_custom_numeric'] = data_cleaned['Sentença - Dispositivo da Sentença'].map(mapping)\n"
     ]
    },
    {
     "data": {
      "text/html": [
       "<div>\n",
       "<style scoped>\n",
       "    .dataframe tbody tr th:only-of-type {\n",
       "        vertical-align: middle;\n",
       "    }\n",
       "\n",
       "    .dataframe tbody tr th {\n",
       "        vertical-align: top;\n",
       "    }\n",
       "\n",
       "    .dataframe thead th {\n",
       "        text-align: right;\n",
       "    }\n",
       "</style>\n",
       "<table border=\"1\" class=\"dataframe\">\n",
       "  <thead>\n",
       "    <tr style=\"text-align: right;\">\n",
       "      <th></th>\n",
       "      <th>Sentença - Dispositivo da Sentença</th>\n",
       "      <th>target_custom_numeric</th>\n",
       "    </tr>\n",
       "  </thead>\n",
       "  <tbody>\n",
       "    <tr>\n",
       "      <th>0</th>\n",
       "      <td>Improcedente</td>\n",
       "      <td>1</td>\n",
       "    </tr>\n",
       "    <tr>\n",
       "      <th>1</th>\n",
       "      <td>Improcedente</td>\n",
       "      <td>1</td>\n",
       "    </tr>\n",
       "    <tr>\n",
       "      <th>2</th>\n",
       "      <td>Procedente</td>\n",
       "      <td>3</td>\n",
       "    </tr>\n",
       "    <tr>\n",
       "      <th>3</th>\n",
       "      <td>Procedente</td>\n",
       "      <td>3</td>\n",
       "    </tr>\n",
       "    <tr>\n",
       "      <th>4</th>\n",
       "      <td>Parcialmente Procedente</td>\n",
       "      <td>2</td>\n",
       "    </tr>\n",
       "  </tbody>\n",
       "</table>\n",
       "</div>"
      ],
      "text/plain": [
       "  Sentença - Dispositivo da Sentença  target_custom_numeric\n",
       "0                       Improcedente                      1\n",
       "1                       Improcedente                      1\n",
       "2                         Procedente                      3\n",
       "3                         Procedente                      3\n",
       "4            Parcialmente Procedente                      2"
      ]
     },
     "execution_count": 9,
     "metadata": {},
     "output_type": "execute_result"
    }
   ],
   "source": [
    "# Explicitly creating a new variable with the specified mapping for 'Sentença - Dispositivo da Sentença'\n",
    "mapping = {\n",
    "    'Extinção sem mérito': 0,\n",
    "    'Improcedente': 1,\n",
    "    'Parcialmente Procedente': 2,\n",
    "    'Procedente': 3\n",
    "}\n",
    "\n",
    "# Apply this mapping to create a new column with the specified numeric values\n",
    "data_cleaned['target_custom_numeric'] = data_cleaned['Sentença - Dispositivo da Sentença'].map(mapping)\n",
    "\n",
    "# Display the first few rows to confirm the new variable\n",
    "data_cleaned[['Sentença - Dispositivo da Sentença', 'target_custom_numeric']].head()\n"
   ]
  },
  {
   "cell_type": "code",
   "execution_count": null,
   "metadata": {},
   "outputs": [],
   "source": [
    "# Identifying date columns in the dataset by checking the data types\n",
    "date_columns = data_cleaned.select_dtypes(include=['datetime64']).columns.tolist()\n",
    "\n",
    "\n"
   ]
  },
  {
   "cell_type": "code",
   "execution_count": null,
   "metadata": {},
   "outputs": [],
   "source": [
    "# Redefining the feature set without attempting to drop columns that are not present in data_encoded\n",
    "# Ensuring the correct columns are used for feature importance and PCA analysis\n",
    "\n",
    "# Defining features and target\n",
    "# Dropping identified date columns from the features\n",
    "X = data_cleaned.drop(columns=['target_custom_numeric'] + ['Sentença - Dispositivo da Sentença'] + date_columns)\n",
    "y = data_cleaned['target_custom_numeric']\n",
    "\n",
    "# Using RandomForestRegressor to evaluate feature importance\n",
    "regressor = RandomForestRegressor(random_state=42)\n",
    "regressor.fit(X, y)\n",
    "\n",
    "# Extract feature importances and sort them\n",
    "feature_importances = pd.Series(regressor.feature_importances_, index=X.columns).sort_values(ascending=False)\n",
    "top_10_features_importance = feature_importances.head(10)\n",
    "\n",
    "# PCA analysis to determine principal components\n",
    "pca = PCA(n_components=10)\n",
    "X_pca = pca.fit_transform(X)\n",
    "\n",
    "# Get the explained variance ratio for each principal component\n",
    "explained_variance_ratio = pca.explained_variance_ratio_\n",
    "\n",
    "# Displaying top features based on feature importance and PCA explained variance ratio\n",
    "top_10_features_importance, explained_variance_ratio"
   ]
  },
  {
   "cell_type": "code",
   "execution_count": null,
   "metadata": {},
   "outputs": [],
   "source": [
    "# Train a RandomForestRegressor to evaluate feature importance without date columns\n",
    "regressor = RandomForestRegressor(random_state=42)\n",
    "regressor.fit(X, y)\n",
    "\n",
    "# Extract and sort feature importances\n",
    "feature_importances = pd.Series(regressor.feature_importances_, index=X.columns).sort_values(ascending=False)\n",
    "top_10_features_importance = feature_importances.head(10)\n",
    "\n",
    "# Display the top 10 most important features influencing the target\n",
    "top_10_features_importance\n"
   ]
  },
  {
   "cell_type": "code",
   "execution_count": null,
   "metadata": {},
   "outputs": [],
   "source": [
    "data_cleaned.shape"
   ]
  },
  {
   "cell_type": "code",
   "execution_count": 6,
   "metadata": {},
   "outputs": [
    {
     "name": "stderr",
     "output_type": "stream",
     "text": [
      "C:\\Users\\crist\\AppData\\Local\\Temp\\ipykernel_23244\\534380961.py:7: UserWarning: Boolean Series key will be reindexed to match DataFrame index.\n",
      "  data_youtube = data_cleaned[\n"
     ]
    },
    {
     "ename": "AttributeError",
     "evalue": "'DataFrame' object has no attribute 'cat'",
     "output_type": "error",
     "traceback": [
      "\u001b[1;31m---------------------------------------------------------------------------\u001b[0m",
      "\u001b[1;31mAttributeError\u001b[0m                            Traceback (most recent call last)",
      "Cell \u001b[1;32mIn[6], line 22\u001b[0m\n\u001b[0;32m     19\u001b[0m data_filtered \u001b[38;5;241m=\u001b[39m data_filtered\u001b[38;5;241m.\u001b[39mdropna(subset\u001b[38;5;241m=\u001b[39m[\u001b[38;5;124m'\u001b[39m\u001b[38;5;124mCausa Raiz 3\u001b[39m\u001b[38;5;124m'\u001b[39m, \u001b[38;5;124m'\u001b[39m\u001b[38;5;124mSentença - Dispositivo da Sentença\u001b[39m\u001b[38;5;124m'\u001b[39m])\n\u001b[0;32m     21\u001b[0m \u001b[38;5;66;03m# Encoding target and categorical variables for model processing\u001b[39;00m\n\u001b[1;32m---> 22\u001b[0m data_filtered[\u001b[38;5;124m'\u001b[39m\u001b[38;5;124mtarget\u001b[39m\u001b[38;5;124m'\u001b[39m] \u001b[38;5;241m=\u001b[39m \u001b[43mdata_filtered\u001b[49m\u001b[43m[\u001b[49m\u001b[38;5;124;43m'\u001b[39;49m\u001b[38;5;124;43mSentença - Dispositivo da Sentença\u001b[39;49m\u001b[38;5;124;43m'\u001b[39;49m\u001b[43m]\u001b[49m\u001b[38;5;241;43m.\u001b[39;49m\u001b[43mastype\u001b[49m\u001b[43m(\u001b[49m\u001b[38;5;124;43m'\u001b[39;49m\u001b[38;5;124;43mcategory\u001b[39;49m\u001b[38;5;124;43m'\u001b[39;49m\u001b[43m)\u001b[49m\u001b[38;5;241;43m.\u001b[39;49m\u001b[43mcat\u001b[49m\u001b[38;5;241m.\u001b[39mcodes\n\u001b[0;32m     23\u001b[0m data_filtered\u001b[38;5;241m.\u001b[39mdrop(columns\u001b[38;5;241m=\u001b[39m[\u001b[38;5;124m'\u001b[39m\u001b[38;5;124mSentença - Dispositivo da Sentença\u001b[39m\u001b[38;5;124m'\u001b[39m], inplace\u001b[38;5;241m=\u001b[39m\u001b[38;5;28;01mTrue\u001b[39;00m)\n\u001b[0;32m     25\u001b[0m \u001b[38;5;66;03m# Encoding categorical features, filling missing values for simplicity\u001b[39;00m\n",
      "File \u001b[1;32m~\\AppData\\Local\\Packages\\PythonSoftwareFoundation.Python.3.10_qbz5n2kfra8p0\\LocalCache\\local-packages\\Python310\\site-packages\\pandas\\core\\generic.py:5902\u001b[0m, in \u001b[0;36mNDFrame.__getattr__\u001b[1;34m(self, name)\u001b[0m\n\u001b[0;32m   5895\u001b[0m \u001b[38;5;28;01mif\u001b[39;00m (\n\u001b[0;32m   5896\u001b[0m     name \u001b[38;5;129;01mnot\u001b[39;00m \u001b[38;5;129;01min\u001b[39;00m \u001b[38;5;28mself\u001b[39m\u001b[38;5;241m.\u001b[39m_internal_names_set\n\u001b[0;32m   5897\u001b[0m     \u001b[38;5;129;01mand\u001b[39;00m name \u001b[38;5;129;01mnot\u001b[39;00m \u001b[38;5;129;01min\u001b[39;00m \u001b[38;5;28mself\u001b[39m\u001b[38;5;241m.\u001b[39m_metadata\n\u001b[0;32m   5898\u001b[0m     \u001b[38;5;129;01mand\u001b[39;00m name \u001b[38;5;129;01mnot\u001b[39;00m \u001b[38;5;129;01min\u001b[39;00m \u001b[38;5;28mself\u001b[39m\u001b[38;5;241m.\u001b[39m_accessors\n\u001b[0;32m   5899\u001b[0m     \u001b[38;5;129;01mand\u001b[39;00m \u001b[38;5;28mself\u001b[39m\u001b[38;5;241m.\u001b[39m_info_axis\u001b[38;5;241m.\u001b[39m_can_hold_identifiers_and_holds_name(name)\n\u001b[0;32m   5900\u001b[0m ):\n\u001b[0;32m   5901\u001b[0m     \u001b[38;5;28;01mreturn\u001b[39;00m \u001b[38;5;28mself\u001b[39m[name]\n\u001b[1;32m-> 5902\u001b[0m \u001b[38;5;28;01mreturn\u001b[39;00m \u001b[38;5;28;43mobject\u001b[39;49m\u001b[38;5;241;43m.\u001b[39;49m\u001b[38;5;21;43m__getattribute__\u001b[39;49m\u001b[43m(\u001b[49m\u001b[38;5;28;43mself\u001b[39;49m\u001b[43m,\u001b[49m\u001b[43m \u001b[49m\u001b[43mname\u001b[49m\u001b[43m)\u001b[49m\n",
      "\u001b[1;31mAttributeError\u001b[0m: 'DataFrame' object has no attribute 'cat'"
     ]
    }
   ],
   "source": [
    "from sklearn.model_selection import train_test_split\n",
    "from sklearn.ensemble import RandomForestClassifier\n",
    "from sklearn.metrics import classification_report\n",
    "from sklearn.feature_selection import SelectKBest, chi2\n",
    "\n",
    "# Filter dataset for Department 'YouTube' in any of the columns AN to AR\n",
    "data_youtube = data_cleaned[\n",
    "    (data['Departamento 1'] == 'YouTube') |\n",
    "    (data['Departamento 2'] == 'YouTube') |\n",
    "    (data['Departamento 3'] == 'YouTube') |\n",
    "    (data['Departamento 4'] == 'YouTube') |\n",
    "    (data['Departamento 5'] == 'YouTube')\n",
    "]\n",
    "\n",
    "# Select columns for Causa Raiz 3 and target Sentença - Dispositivo da Sentença\n",
    "data_filtered = data_youtube[['Causa Raiz 3', 'Sentença - Dispositivo da Sentença'] + list(data.columns[0:60])]\n",
    "\n",
    "# Filter for only cases with a specific Causa Raiz 3 value if applicable\n",
    "data_filtered = data_filtered.dropna(subset=['Causa Raiz 3', 'Sentença - Dispositivo da Sentença'])\n",
    "\n",
    "# Encoding target and categorical variables for model processing\n",
    "data_filtered['target'] = data_filtered['Sentença - Dispositivo da Sentença'].astype('category').cat.codes\n",
    "data_filtered.drop(columns=['Sentença - Dispositivo da Sentença'], inplace=True)\n",
    "\n",
    "# Encoding categorical features, filling missing values for simplicity\n",
    "data_encoded = pd.get_dummies(data_filtered.fillna('Unknown'), drop_first=True)\n",
    "\n",
    "# Split data into features (X) and target (y)\n",
    "X = data_encoded.drop(columns=['target'])\n",
    "y = data_encoded['target']\n",
    "\n",
    "# Split data into training and test sets\n",
    "X_train, X_test, y_train, y_test = train_test_split(X, y, test_size=0.3, random_state=42)\n",
    "\n",
    "# Select top features using SelectKBest with chi-squared test\n",
    "selector = SelectKBest(chi2, k=10)\n",
    "X_train_selected = selector.fit_transform(X_train, y_train)\n",
    "X_test_selected = selector.transform(X_test)\n",
    "\n",
    "# Identify selected feature names\n",
    "selected_features = X.columns[selector.get_support(indices=True)].tolist()\n",
    "\n",
    "# Train a RandomForestClassifier as a baseline model\n",
    "clf = RandomForestClassifier(random_state=42)\n",
    "clf.fit(X_train_selected, y_train)\n",
    "\n",
    "# Model evaluation\n",
    "y_pred = clf.predict(X_test_selected)\n",
    "report = classification_report(y_test, y_pred, output_dict=True)\n",
    "\n",
    "# Output selected features and classification report\n",
    "selected_features, report\n"
   ]
  },
  {
   "cell_type": "code",
   "execution_count": null,
   "metadata": {},
   "outputs": [],
   "source": []
  }
 ],
 "metadata": {
  "kernelspec": {
   "display_name": "Python 3",
   "language": "python",
   "name": "python3"
  },
  "language_info": {
   "codemirror_mode": {
    "name": "ipython",
    "version": 3
   },
   "file_extension": ".py",
   "mimetype": "text/x-python",
   "name": "python",
   "nbconvert_exporter": "python",
   "pygments_lexer": "ipython3",
   "version": "3.10.11"
  }
 },
 "nbformat": 4,
 "nbformat_minor": 2
}
