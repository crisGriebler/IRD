{
 "cells": [
  {
   "cell_type": "code",
   "execution_count": 2,
   "metadata": {},
   "outputs": [
    {
     "ename": "ModuleNotFoundError",
     "evalue": "No module named 'exceptions'",
     "output_type": "error",
     "traceback": [
      "\u001b[1;31m---------------------------------------------------------------------------\u001b[0m",
      "\u001b[1;31mModuleNotFoundError\u001b[0m                       Traceback (most recent call last)",
      "Cell \u001b[1;32mIn[2], line 1\u001b[0m\n\u001b[1;32m----> 1\u001b[0m \u001b[38;5;28;01mfrom\u001b[39;00m \u001b[38;5;21;01mdocx\u001b[39;00m \u001b[38;5;28;01mimport\u001b[39;00m Document\n\u001b[0;32m      3\u001b[0m \u001b[38;5;66;03m# Criar o documento\u001b[39;00m\n\u001b[0;32m      4\u001b[0m document \u001b[38;5;241m=\u001b[39m Document()\n",
      "File \u001b[1;32m~\\AppData\\Local\\Packages\\PythonSoftwareFoundation.Python.3.10_qbz5n2kfra8p0\\LocalCache\\local-packages\\Python310\\site-packages\\docx.py:30\u001b[0m\n\u001b[0;32m     27\u001b[0m \u001b[38;5;28;01mexcept\u001b[39;00m \u001b[38;5;167;01mImportError\u001b[39;00m:\n\u001b[0;32m     28\u001b[0m     TAGS \u001b[38;5;241m=\u001b[39m {}\n\u001b[1;32m---> 30\u001b[0m \u001b[38;5;28;01mfrom\u001b[39;00m \u001b[38;5;21;01mexceptions\u001b[39;00m \u001b[38;5;28;01mimport\u001b[39;00m \u001b[38;5;167;01mPendingDeprecationWarning\u001b[39;00m\n\u001b[0;32m     31\u001b[0m \u001b[38;5;28;01mfrom\u001b[39;00m \u001b[38;5;21;01mwarnings\u001b[39;00m \u001b[38;5;28;01mimport\u001b[39;00m warn\n\u001b[0;32m     33\u001b[0m \u001b[38;5;28;01mimport\u001b[39;00m \u001b[38;5;21;01mlogging\u001b[39;00m\n",
      "\u001b[1;31mModuleNotFoundError\u001b[0m: No module named 'exceptions'"
     ]
    }
   ],
   "source": [
    "from docx import Document\n",
    "\n",
    "# Criar o documento\n",
    "document = Document()\n",
    "\n",
    "# Adicionar o cabeçalho\n",
    "document.add_heading('Resposta ao Ofício n.º 0600605-86.2024.6.16.0199', level=1)\n",
    "\n",
    "# Adicionar informações principais\n",
    "document.add_paragraph(\"São José dos Pinhais, 21 de novembro de 2024.\\n\\n\")\n",
    "document.add_paragraph(\"À\\n\")\n",
    "document.add_paragraph(\"JUSTIÇA ELEITORAL NO ESTADO DO PARANÁ\\n\"\n",
    "                       \"JUÍZO DA 199ª ZONA ELEITORAL – SÃO JOSÉ DOS PINHAIS\\n\"\n",
    "                       \"A/C: Exmo. Sr. Juiz Dr. SIDERLEI OSTRUFKA CORDEIRO\\n\\n\")\n",
    "\n",
    "document.add_paragraph(\"Assunto: Resposta ao Ofício n.º 416/2024 – 199ªZE – \"\n",
    "                       \"Processo n.º 0600605-86.2024.6.16.0199\\n\\n\")\n",
    "\n",
    "# Corpo do texto da resposta\n",
    "document.add_paragraph(\"Prezado(a) Senhor(a),\\n\\n\")\n",
    "\n",
    "document.add_paragraph(\"Em atenção ao Ofício n.º 416/2024 – 199ª Zona Eleitoral, \"\n",
    "                       \"datado de 28 de outubro de 2024, e tendo em vista a \"\n",
    "                       \"solicitação de dados relacionados aos IPs \"\n",
    "                       \"2804:d55:8316:f600:a944:b0e6:455f:d988 e \"\n",
    "                       \"2804:d55:8330:5100:385a:418a:5c92:8322, informamos que \"\n",
    "                       \"o levantamento dos dados necessários está em andamento \"\n",
    "                       \"e será encaminhado diretamente a este Juízo no prazo legal.\\n\\n\")\n",
    "\n",
    "document.add_paragraph(\"Salientamos que o fornecimento dos dados atende às disposições \"\n",
    "                       \"legais aplicáveis e observa o sigilo e a segurança das informações \"\n",
    "                       \"solicitadas.\\n\\n\")\n",
    "\n",
    "# Finalização\n",
    "document.add_paragraph(\"Colocamo-nos à disposição para quaisquer esclarecimentos adicionais.\\n\\n\")\n",
    "document.add_paragraph(\"Atenciosamente,\\n\")\n",
    "document.add_paragraph(\"V.TAL - REDE NEUTRA DE TELECOMUNICAÇÕES S.A.\\n\"\n",
    "                       \"Representante Legal\\n\"\n",
    "                       \"E-mail: LD-ATENDIMENTOFISCAL@VTAL.COM\")\n",
    "\n",
    "# Salvar o documento\n",
    "file_path = \"Resposta_Oficio_0600605_86_2024.docx\"\n",
    "document.save(file_path)\n",
    "\n",
    "file_path\n"
   ]
  },
  {
   "cell_type": "code",
   "execution_count": null,
   "metadata": {},
   "outputs": [],
   "source": []
  },
  {
   "cell_type": "code",
   "execution_count": null,
   "metadata": {},
   "outputs": [],
   "source": []
  }
 ],
 "metadata": {
  "kernelspec": {
   "display_name": "Python 3",
   "language": "python",
   "name": "python3"
  },
  "language_info": {
   "codemirror_mode": {
    "name": "ipython",
    "version": 3
   },
   "file_extension": ".py",
   "mimetype": "text/x-python",
   "name": "python",
   "nbconvert_exporter": "python",
   "pygments_lexer": "ipython3",
   "version": "3.10.11"
  }
 },
 "nbformat": 4,
 "nbformat_minor": 2
}
