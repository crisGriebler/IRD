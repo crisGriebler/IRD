{
 "cells": [
  {
   "cell_type": "code",
   "execution_count": 4,
   "metadata": {},
   "outputs": [
    {
     "name": "stdout",
     "output_type": "stream",
     "text": [
      "Results for Lucro:\n",
      "  T-test: t-stat=2.1675, p-value=0.0417\n",
      "  F-test: F-stat=0.9568, p-value=0.5358\n",
      "\n",
      "Results for Conversão alimentar:\n",
      "  T-test: t-stat=-0.9119, p-value=0.3718\n",
      "  F-test: F-stat=1.2619, p-value=0.3612\n",
      "\n",
      "Results for Peso Médio:\n",
      "  T-test: t-stat=0.0673, p-value=0.9470\n",
      "  F-test: F-stat=2.3259, p-value=0.0953\n",
      "\n"
     ]
    }
   ],
   "source": [
    "import pandas as pd\n",
    "import scipy.stats as stats\n",
    "\n",
    "# Load the Excel file\n",
    "file_path = \"Consolidado Final.xlsx\"\n",
    "sheet_name = \"Só 6 semanas\"\n",
    "\n",
    "df_raw = pd.read_excel(file_path, sheet_name=sheet_name)\n",
    "\n",
    "# Extract relevant columns for PLT and SSA\n",
    "df_cleaned = pd.DataFrame({\n",
    "    \"Grupo\": [\"PLT\"] * len(df_raw) + [\"SSA\"] * len(df_raw),\n",
    "    \"Peso Médio\": list(df_raw[\"Peso\"]) + list(df_raw[\"Unnamed: 3\"]),\n",
    "    \"Conversão alimentar\": list(df_raw[\"CA Ponderado\"]) + list(df_raw[\"Unnamed: 12\"]),\n",
    "    \"Lucro\": list(df_raw[\"Lucro (R$/kg)\"]) + list(df_raw[\"Unnamed: 18\"])\n",
    "})\n",
    "\n",
    "# Remove non-numeric rows (headers, empty values, etc.)\n",
    "df_cleaned = df_cleaned[pd.to_numeric(df_cleaned[\"Peso Médio\"], errors='coerce').notna()]\n",
    "\n",
    "# Convert values to numeric types\n",
    "df_cleaned[[\"Peso Médio\", \"Conversão alimentar\", \"Lucro\"]] = df_cleaned[[\"Peso Médio\", \"Conversão alimentar\", \"Lucro\"]].apply(pd.to_numeric)\n",
    "\n",
    "# Split data into PLT and SSA groups\n",
    "plt_data = df_cleaned[df_cleaned[\"Grupo\"] == \"PLT\"]\n",
    "ssa_data = df_cleaned[df_cleaned[\"Grupo\"] == \"SSA\"]\n",
    "\n",
    "# Define function for t-test and F-test\n",
    "def hypothesis_tests(var_name):\n",
    "    plt_values = plt_data[var_name].dropna()\n",
    "    ssa_values = ssa_data[var_name].dropna()\n",
    "    \n",
    "    # T-test (assuming unequal variance)\n",
    "    t_stat, t_pvalue = stats.ttest_ind(plt_values, ssa_values, equal_var=False)\n",
    "    \n",
    "    # F-test (variance comparison)\n",
    "    f_stat = plt_values.var() / ssa_values.var()\n",
    "    df1, df2 = len(plt_values) - 1, len(ssa_values) - 1\n",
    "    f_pvalue = 1 - stats.f.cdf(f_stat, df1, df2)\n",
    "    \n",
    "    return {\"t_stat\": t_stat, \"t_pvalue\": t_pvalue, \"f_stat\": f_stat, \"f_pvalue\": f_pvalue}\n",
    "\n",
    "# Run tests on the three variables\n",
    "results = {}\n",
    "for var in [\"Lucro\", \"Conversão alimentar\", \"Peso Médio\"]:\n",
    "    results[var] = hypothesis_tests(var)\n",
    "\n",
    "# Display results\n",
    "for var, res in results.items():\n",
    "    print(f\"Results for {var}:\")\n",
    "    print(f\"  T-test: t-stat={res['t_stat']:.4f}, p-value={res['t_pvalue']:.4f}\")\n",
    "    print(f\"  F-test: F-stat={res['f_stat']:.4f}, p-value={res['f_pvalue']:.4f}\\n\")\n"
   ]
  },
  {
   "cell_type": "markdown",
   "metadata": {},
   "source": [
    "Avaliação dos resultados dos testes.\n",
    "\n",
    "### **1. Teste T (Comparação das Médias)**  \n",
    "O teste t verifica se as médias dos grupos **PLT** e **SSA** são significativamente diferentes.  \n",
    "\n",
    "- **Lucro (R$/kg)**:  \n",
    "  - Estatística t = **2.1675**, p-valor = **0.0417**  \n",
    "  - Como **p-valor < 0.05**, **rejeitamos a hipótese nula**, indicando **diferença significativa no Lucro entre PLT e SSA**.  \n",
    "  - Isso significa que **um dos grupos tem um lucro médio por kg significativamente maior**.  \n",
    "\n",
    "- **Conversão alimentar**:  \n",
    "  - Estatística t = **-0.9119**, p-valor = **0.3718**  \n",
    "  - Como p-valor > 0.05, **não há diferença estatisticamente significativa**.  \n",
    "  - Isso indica que **a eficiência alimentar de PLT e SSA é semelhante**.  \n",
    "\n",
    "- **Peso Médio**:  \n",
    "  - Estatística t = **0.0673**, p-valor = **0.9470**  \n",
    "  - Como p-valor > 0.05, **não há diferença estatisticamente significativa**.  \n",
    "  - **Os pesos médios dos grupos são praticamente iguais**.  \n",
    "\n",
    "### **2. Teste F (Comparação das Variâncias)**  \n",
    "O teste F avalia se as variações dos grupos são significativamente diferentes.  \n",
    "\n",
    "- **Lucro (R$/kg)**: F = **0.9568**, p-valor = **0.5358**  \n",
    "  - O alto p-valor indica que **as variâncias são semelhantes** entre os grupos.  \n",
    "\n",
    "- **Conversão alimentar**: F = **1.2619**, p-valor = **0.3612**  \n",
    "  - **Sem diferença significativa nas variações de Conversão Alimentar**.  \n",
    "\n",
    "- **Peso Médio**: F = **2.3259**, p-valor = **0.0953**  \n",
    "  - **Tendência de diferença na variação do Peso Médio**, mas **não estatisticamente significativa** (p > 0.05).  \n",
    "\n",
    "### **Conclusão**  \n",
    "- O **Lucro (R$/kg) é significativamente diferente** entre **PLT e SSA**, indicando que um dos grupos é mais lucrativo.  \n",
    "- **Conversão alimentar e Peso Médio não apresentam diferenças estatísticas**, sugerindo que ambos os grupos têm desempenhos semelhantes nesses aspectos.  \n",
    "- As variâncias são semelhantes para **Lucro e Conversão alimentar**, enquanto o **Peso Médio pode ter uma variação um pouco maior**.  \n",
    "\n",
    "Conclusão pessoal: É necessário mais dados e mais análises para pode afirmar estatisticamente as diferenças entre os dois conjuntos de dados."
   ]
  },
  {
   "cell_type": "code",
   "execution_count": 8,
   "metadata": {},
   "outputs": [
    {
     "data": {
      "text/plain": [
       "''"
      ]
     },
     "execution_count": 8,
     "metadata": {},
     "output_type": "execute_result"
    }
   ],
   "source": [
    "from fpdf import FPDF\n",
    "# Generate PDF report\n",
    "pdf = FPDF()\n",
    "pdf.set_auto_page_break(auto=True, margin=15)\n",
    "pdf.add_page()\n",
    "pdf.set_font(\"Arial\", style='', size=12)\n",
    "pdf.cell(200, 10, \"Resultados dos Testes de Hipótese\", ln=True, align='C')\n",
    "\n",
    "pdf.ln(10)\n",
    "pdf.multi_cell(0, 10, \"1. Teste T (Comparação das Médias)\\nO teste t verifica se as médias dos grupos PLT e SSA são significativamente diferentes.\\n\\nLucro (R$/kg):\\n\\nEstatística t = 2.1675, p-valor = 0.0417\\nComo p-valor < 0.05, rejeitamos a hipótese nula, indicando diferença significativa no Lucro entre PLT e SSA.\\nIsso significa que um dos grupos tem um lucro médio por kg significativamente maior.\\n\\nConversão alimentar:\\n\\nEstatística t = -0.9119, p-valor = 0.3718\\nComo p-valor > 0.05, não há diferença estatisticamente significativa.\\nIsso indica que a eficiência alimentar de PLT e SSA é semelhante.\\n\\nPeso Médio:\\n\\nEstatística t = 0.0673, p-valor = 0.9470\\nComo p-valor > 0.05, não há diferença estatisticamente significativa.\\nOs pesos médios dos grupos são praticamente iguais.\\n\\n2. Teste F (Comparação das Variâncias)\\nO teste F avalia se as variações dos grupos são significativamente diferentes.\\n\\nLucro (R$/kg): F = 0.9568, p-valor = 0.5358\\n\\nO alto p-valor indica que as variâncias são semelhantes entre os grupos.\\n\\nConversão alimentar: F = 1.2619, p-valor = 0.3612\\n\\nSem diferença significativa nas variações de Conversão Alimentar.\\n\\nPeso Médio: F = 2.3259, p-valor = 0.0953\\n\\nTendência de diferença na variação do Peso Médio, mas não estatisticamente significativa (p > 0.05).\\n\\nConclusão\\nO Lucro (R$/kg) é significativamente diferente entre PLT e SSA, indicando que um dos grupos é mais lucrativo.\\nConversão alimentar e Peso Médio não apresentam diferenças estatísticas, sugerindo que ambos os grupos têm desempenhos semelhantes nesses aspectos.\\nAs variâncias são semelhantes para Lucro e Conversão alimentar, enquanto o Peso Médio pode ter uma variação um pouco maior.\")\n",
    "\n",
    "pdf.output(\"Resultados_Hipotese.pdf\")\n",
    "\n"
   ]
  },
  {
   "cell_type": "markdown",
   "metadata": {},
   "source": []
  }
 ],
 "metadata": {
  "kernelspec": {
   "display_name": "Python 3",
   "language": "python",
   "name": "python3"
  },
  "language_info": {
   "codemirror_mode": {
    "name": "ipython",
    "version": 3
   },
   "file_extension": ".py",
   "mimetype": "text/x-python",
   "name": "python",
   "nbconvert_exporter": "python",
   "pygments_lexer": "ipython3",
   "version": "3.10.11"
  }
 },
 "nbformat": 4,
 "nbformat_minor": 2
}
