{
 "cells": [
  {
   "cell_type": "markdown",
   "metadata": {},
   "source": [
    "### Link of the Matplotlib docs\n",
    "##### https://docs.kanaries.net/pt/topics/Matplotlib/matplotlib-multiple-plots-on-same-figure"
   ]
  },
  {
   "cell_type": "code",
   "execution_count": 1,
   "metadata": {},
   "outputs": [],
   "source": [
    "#importing necessary packages\n",
    "\n",
    "import numpy as np\n",
    "import matplotlib.pyplot as plt\n",
    "import pandas as pd\n",
    "import numpy as np\n",
    "from datetime import datetime\n",
    "import imageio\n",
    "import os\n",
    "import matplotlib.collections as mcol\n",
    "from matplotlib.legend_handler import HandlerLineCollection, HandlerTuple\n",
    "from matplotlib.lines import Line2D\n"
   ]
  },
  {
   "cell_type": "code",
   "execution_count": 2,
   "metadata": {},
   "outputs": [
    {
     "name": "stdout",
     "output_type": "stream",
     "text": [
      "   date   value    liter\n",
      "0  2017  255.06   412770\n",
      "1  2018  259.33   720236\n",
      "2  2019  266.04  1330163\n",
      "3  2020  267.16  2430153\n",
      "4  2021  264.94  3296386\n",
      "5  2022  291.40  4141401\n",
      "6  2023  293.79  4986399\n",
      "7  2024  296.65  5831395\n",
      "8  2025  299.50  6676391\n",
      "9  2026  302.35  7521387\n"
     ]
    }
   ],
   "source": [
    "#função para tratar campo data\n",
    "def parser(x):\n",
    "    return pd.datetime.strptime('190'+x, '%Y-%m')\n",
    "\n",
    "#Agora vamos importar nosso arquivo \n",
    "df_alcool = pd.read_excel('../Grafico 5 - Proteina/db_br30.xlsx', sheet_name='Sheet1')\n",
    "print(df_alcool.head(10))"
   ]
  },
  {
   "cell_type": "code",
   "execution_count": 3,
   "metadata": {},
   "outputs": [],
   "source": [
    "df_alcool.drop(['value'], axis = 1,inplace=True)\n"
   ]
  },
  {
   "cell_type": "code",
   "execution_count": 4,
   "metadata": {},
   "outputs": [
    {
     "name": "stdout",
     "output_type": "stream",
     "text": [
      "   date  producao  disponibilidade   tipo\n",
      "0  2017  33959879         33959879   soja\n",
      "1  2018  34777936         34777936   soja\n",
      "2  2019  35895207         35895207   soja\n",
      "3  2020  37191638         37191638   soja\n",
      "4  2021  39126269         39126269   soja\n",
      "5  2022  40394410         40394410   soja\n",
      "6  2017  17427206         17427206  milho\n",
      "7  2018  16126368         16126368  milho\n",
      "8  2019  17515920         17515920  milho\n",
      "9  2020  18258981         18258981  milho\n"
     ]
    }
   ],
   "source": [
    "#função para tratar campo data\n",
    "def parser(x):\n",
    "    return pd.datetime.strptime('190'+x, '%Y-%m')\n",
    "\n",
    "#Agora vamos importar nosso arquivo \n",
    "df = pd.read_excel('dbgraos_br30.xls', sheet_name='Planilha1')\n",
    "print(df.head(10))"
   ]
  },
  {
   "cell_type": "code",
   "execution_count": 5,
   "metadata": {},
   "outputs": [
    {
     "name": "stderr",
     "output_type": "stream",
     "text": [
      "C:\\Users\\crist\\AppData\\Local\\Temp\\ipykernel_11664\\85193447.py:2: SettingWithCopyWarning: \n",
      "A value is trying to be set on a copy of a slice from a DataFrame\n",
      "\n",
      "See the caveats in the documentation: https://pandas.pydata.org/pandas-docs/stable/user_guide/indexing.html#returning-a-view-versus-a-copy\n",
      "  df_soja.drop(['disponibilidade', 'tipo'], axis = 1,inplace=True)\n"
     ]
    },
    {
     "data": {
      "text/html": [
       "<div>\n",
       "<style scoped>\n",
       "    .dataframe tbody tr th:only-of-type {\n",
       "        vertical-align: middle;\n",
       "    }\n",
       "\n",
       "    .dataframe tbody tr th {\n",
       "        vertical-align: top;\n",
       "    }\n",
       "\n",
       "    .dataframe thead th {\n",
       "        text-align: right;\n",
       "    }\n",
       "</style>\n",
       "<table border=\"1\" class=\"dataframe\">\n",
       "  <thead>\n",
       "    <tr style=\"text-align: right;\">\n",
       "      <th></th>\n",
       "      <th>date</th>\n",
       "      <th>producao</th>\n",
       "    </tr>\n",
       "  </thead>\n",
       "  <tbody>\n",
       "    <tr>\n",
       "      <th>0</th>\n",
       "      <td>2017</td>\n",
       "      <td>33959879</td>\n",
       "    </tr>\n",
       "    <tr>\n",
       "      <th>1</th>\n",
       "      <td>2018</td>\n",
       "      <td>34777936</td>\n",
       "    </tr>\n",
       "    <tr>\n",
       "      <th>2</th>\n",
       "      <td>2019</td>\n",
       "      <td>35895207</td>\n",
       "    </tr>\n",
       "    <tr>\n",
       "      <th>3</th>\n",
       "      <td>2020</td>\n",
       "      <td>37191638</td>\n",
       "    </tr>\n",
       "    <tr>\n",
       "      <th>4</th>\n",
       "      <td>2021</td>\n",
       "      <td>39126269</td>\n",
       "    </tr>\n",
       "    <tr>\n",
       "      <th>5</th>\n",
       "      <td>2022</td>\n",
       "      <td>40394410</td>\n",
       "    </tr>\n",
       "    <tr>\n",
       "      <th>11</th>\n",
       "      <td>2023</td>\n",
       "      <td>41031740</td>\n",
       "    </tr>\n",
       "    <tr>\n",
       "      <th>12</th>\n",
       "      <td>2024</td>\n",
       "      <td>41669060</td>\n",
       "    </tr>\n",
       "    <tr>\n",
       "      <th>13</th>\n",
       "      <td>2025</td>\n",
       "      <td>42306390</td>\n",
       "    </tr>\n",
       "    <tr>\n",
       "      <th>14</th>\n",
       "      <td>2026</td>\n",
       "      <td>42943710</td>\n",
       "    </tr>\n",
       "  </tbody>\n",
       "</table>\n",
       "</div>"
      ],
      "text/plain": [
       "    date  producao\n",
       "0   2017  33959879\n",
       "1   2018  34777936\n",
       "2   2019  35895207\n",
       "3   2020  37191638\n",
       "4   2021  39126269\n",
       "5   2022  40394410\n",
       "11  2023  41031740\n",
       "12  2024  41669060\n",
       "13  2025  42306390\n",
       "14  2026  42943710"
      ]
     },
     "execution_count": 5,
     "metadata": {},
     "output_type": "execute_result"
    }
   ],
   "source": [
    "df_soja = df[df['tipo']=='soja']\n",
    "df_soja.drop(['disponibilidade', 'tipo'], axis = 1,inplace=True)\n",
    "df_soja.head(10)"
   ]
  },
  {
   "cell_type": "code",
   "execution_count": 6,
   "metadata": {},
   "outputs": [
    {
     "name": "stderr",
     "output_type": "stream",
     "text": [
      "C:\\Users\\crist\\AppData\\Local\\Temp\\ipykernel_11664\\3980232509.py:2: SettingWithCopyWarning: \n",
      "A value is trying to be set on a copy of a slice from a DataFrame\n",
      "\n",
      "See the caveats in the documentation: https://pandas.pydata.org/pandas-docs/stable/user_guide/indexing.html#returning-a-view-versus-a-copy\n",
      "  df_milho.drop(['disponibilidade', 'tipo'], axis = 1,inplace=True)\n"
     ]
    },
    {
     "data": {
      "text/html": [
       "<div>\n",
       "<style scoped>\n",
       "    .dataframe tbody tr th:only-of-type {\n",
       "        vertical-align: middle;\n",
       "    }\n",
       "\n",
       "    .dataframe tbody tr th {\n",
       "        vertical-align: top;\n",
       "    }\n",
       "\n",
       "    .dataframe thead th {\n",
       "        text-align: right;\n",
       "    }\n",
       "</style>\n",
       "<table border=\"1\" class=\"dataframe\">\n",
       "  <thead>\n",
       "    <tr style=\"text-align: right;\">\n",
       "      <th></th>\n",
       "      <th>date</th>\n",
       "      <th>producao</th>\n",
       "    </tr>\n",
       "  </thead>\n",
       "  <tbody>\n",
       "    <tr>\n",
       "      <th>6</th>\n",
       "      <td>2017</td>\n",
       "      <td>17427206</td>\n",
       "    </tr>\n",
       "    <tr>\n",
       "      <th>7</th>\n",
       "      <td>2018</td>\n",
       "      <td>16126368</td>\n",
       "    </tr>\n",
       "    <tr>\n",
       "      <th>8</th>\n",
       "      <td>2019</td>\n",
       "      <td>17515920</td>\n",
       "    </tr>\n",
       "    <tr>\n",
       "      <th>9</th>\n",
       "      <td>2020</td>\n",
       "      <td>18258981</td>\n",
       "    </tr>\n",
       "    <tr>\n",
       "      <th>10</th>\n",
       "      <td>2021</td>\n",
       "      <td>18984300</td>\n",
       "    </tr>\n",
       "    <tr>\n",
       "      <th>19</th>\n",
       "      <td>2022</td>\n",
       "      <td>20060550</td>\n",
       "    </tr>\n",
       "    <tr>\n",
       "      <th>20</th>\n",
       "      <td>2023</td>\n",
       "      <td>21087880</td>\n",
       "    </tr>\n",
       "    <tr>\n",
       "      <th>21</th>\n",
       "      <td>2024</td>\n",
       "      <td>22115220</td>\n",
       "    </tr>\n",
       "    <tr>\n",
       "      <th>22</th>\n",
       "      <td>2025</td>\n",
       "      <td>23142550</td>\n",
       "    </tr>\n",
       "    <tr>\n",
       "      <th>23</th>\n",
       "      <td>2026</td>\n",
       "      <td>24169880</td>\n",
       "    </tr>\n",
       "  </tbody>\n",
       "</table>\n",
       "</div>"
      ],
      "text/plain": [
       "    date  producao\n",
       "6   2017  17427206\n",
       "7   2018  16126368\n",
       "8   2019  17515920\n",
       "9   2020  18258981\n",
       "10  2021  18984300\n",
       "19  2022  20060550\n",
       "20  2023  21087880\n",
       "21  2024  22115220\n",
       "22  2025  23142550\n",
       "23  2026  24169880"
      ]
     },
     "execution_count": 6,
     "metadata": {},
     "output_type": "execute_result"
    }
   ],
   "source": [
    "df_milho = df[df['tipo']=='milho']\n",
    "df_milho.drop(['disponibilidade', 'tipo'], axis = 1,inplace=True)\n",
    "df_milho.head(10)"
   ]
  },
  {
   "cell_type": "code",
   "execution_count": 9,
   "metadata": {},
   "outputs": [
    {
     "name": "stderr",
     "output_type": "stream",
     "text": [
      "C:\\Users\\crist\\AppData\\Local\\Temp\\ipykernel_11664\\3976696876.py:16: UserWarning: linestyle is redundantly defined by the 'linestyle' keyword argument and the fmt string \"k-\" (-> linestyle='-'). The keyword argument will take precedence.\n",
      "  l1=ax1.plot(x, y1, 'k-', label='liter', marker='.', linestyle='dashed')\n",
      "C:\\Users\\crist\\AppData\\Local\\Temp\\ipykernel_11664\\3976696876.py:17: UserWarning: linestyle is redundantly defined by the 'linestyle' keyword argument and the fmt string \"r-\" (-> linestyle='-'). The keyword argument will take precedence.\n",
      "  l2=ax2.plot(x, y2, 'r-', label='soja', marker='.', linestyle='solid')   #marker='o'\n",
      "C:\\Users\\crist\\AppData\\Local\\Temp\\ipykernel_11664\\3976696876.py:18: UserWarning: linestyle is redundantly defined by the 'linestyle' keyword argument and the fmt string \"b-\" (-> linestyle='-'). The keyword argument will take precedence.\n",
      "  l3=ax2.plot(x, y3, 'b-', label='milho', marker='.', linestyle='dotted')   #marker='o'\n"
     ]
    },
    {
     "data": {
      "image/png": "[encoded data removed]",
      "text/plain": [
       "<Figure size 640x480 with 2 Axes>"
      ]
     },
     "metadata": {},
     "output_type": "display_data"
    }
   ],
   "source": [
    "# Definindo as variaveis com as colunas do df\n",
    "x = df_soja['date']\n",
    "y1 = df_alcool['liter']\n",
    "y2 = df_soja['producao']\n",
    "y3 = df_milho['producao']\n",
    "\n",
    "# Cria uma nova Figura e Axes\n",
    "fig, ax1 = plt.subplots()\n",
    " \n",
    "# Cria um segundo Axes que compartilha o mesmo eixo x\n",
    "ax2 = ax1.twinx()\n",
    "#ax3 = ax2.twinx()\n",
    "\n",
    " \n",
    "# Plotar dados em cada Axes\n",
    "l1=ax1.plot(x, y1, 'k-', label='liter', marker='.', linestyle='dashed')\n",
    "l2=ax2.plot(x, y2, 'r-', label='soja', marker='.', linestyle='solid')   #marker='o'\n",
    "l3=ax2.plot(x, y3, 'b-', label='milho', marker='.', linestyle='dotted')   #marker='o'\n",
    "\n",
    "\n",
    "# Definir rótulos dos eixos y\n",
    "ax1.set_ylabel('Producação de litros de etanol', color='k', )\n",
    "ax2.set_ylabel('Produção de grãos', color='r')\n",
    "#ax3.set_ylabel('', color='b')\n",
    "\n",
    "# Incluir legenda\n",
    "plt.legend()\n",
    "\n",
    "#lines = plt.gca().get_lines()\n",
    "#legend2 = plt.legend([lines[i] for i in [1,2,3]],['manual label 3','manual label 4','loxuragem'], loc='best')\n",
    "#ax1.legend(loc='best')\n",
    "#ax2.legend(loc='lower right')\n",
    "#ax3.legend(loc='best')\n",
    "\n",
    " \n",
    "# Mostrar o gráfico\n",
    "plt.show()"
   ]
  },
  {
   "cell_type": "code",
   "execution_count": 11,
   "metadata": {},
   "outputs": [
    {
     "name": "stdout",
     "output_type": "stream",
     "text": [
      "   date  producao  disponibilidade   tipo\n",
      "0  2017  33959879         33959879   soja\n",
      "1  2018  34777936         34777936   soja\n",
      "2  2019  35895207         35895207   soja\n",
      "3  2020  37191638         37191638   soja\n",
      "4  2021  39126269         39126269   soja\n",
      "5  2022  40394410         40394410   soja\n",
      "6  2017  17427206         17427206  milho\n",
      "7  2018  16126368         16126368  milho\n",
      "8  2019  17515920         17515920  milho\n",
      "9  2020  18258981         18258981  milho\n"
     ]
    }
   ],
   "source": [
    "#função para tratar campo data\n",
    "def parser(x):\n",
    "    return pd.datetime.strptime('190'+x, '%Y-%m')\n",
    "\n",
    "#Agora vamos importar nosso arquivo \n",
    "df = pd.read_excel('dbgraos_br30.xls', sheet_name='Planilha1')\n",
    "print(df.head(10))"
   ]
  },
  {
   "cell_type": "code",
   "execution_count": null,
   "metadata": {},
   "outputs": [],
   "source": []
  }
 ],
 "metadata": {
  "kernelspec": {
   "display_name": "Python 3",
   "language": "python",
   "name": "python3"
  },
  "language_info": {
   "codemirror_mode": {
    "name": "ipython",
    "version": 3
   },
   "file_extension": ".py",
   "mimetype": "text/x-python",
   "name": "python",
   "nbconvert_exporter": "python",
   "pygments_lexer": "ipython3",
   "version": "3.10.11"
  }
 },
 "nbformat": 4,
 "nbformat_minor": 2
}
