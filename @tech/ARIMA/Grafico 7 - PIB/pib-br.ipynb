{
 "cells": [
  {
   "cell_type": "markdown",
   "metadata": {},
   "source": [
    "#### Link of the Pycaret docs : https://pycaret.readthedocs.io/en/latest/api/time_series.html"
   ]
  },
  {
   "cell_type": "code",
   "execution_count": 1,
   "metadata": {},
   "outputs": [],
   "source": [
    "#importing necessary packages\n",
    "\n",
    "import numpy as np\n",
    "import matplotlib.pyplot as plt\n",
    "import pandas as pd\n",
    "import numpy as np\n",
    "from datetime import datetime\n",
    "import statsmodels.api as sm\n",
    "import numpy as np \n",
    "import xgboost as xgb\n",
    "from sklearn.metrics import mean_squared_error, mean_absolute_error\n",
    "from statsmodels.graphics.tsaplots import plot_acf\n",
    "import statsmodels.api as sm\n",
    "from sklearn.model_selection import TimeSeriesSplit\n",
    "from pycaret.time_series import TSForecastingExperiment\n",
    "import pmdarima as pm\n"
   ]
  },
  {
   "cell_type": "code",
   "execution_count": 2,
   "metadata": {},
   "outputs": [
    {
     "name": "stdout",
     "output_type": "stream",
     "text": [
      "      PIB        Date\n",
      "0  189323  1996-03-31\n",
      "1  204611  1996-06-30\n",
      "2  221513  1996-09-30\n",
      "3  239316  1996-12-31\n",
      "4  219117  1997-03-31\n",
      "5  232890  1997-06-30\n",
      "6  246178  1997-09-30\n",
      "7  253904  1997-12-31\n",
      "8  235701  1998-03-31\n",
      "9  251936  1998-06-30\n"
     ]
    }
   ],
   "source": [
    "#função para tratar campo data\n",
    "def parser(x):\n",
    "    return pd.datetime.strptime('190'+x, '%Y-%m-%d')\n",
    "\n",
    "#Agora vamos importar nosso arquivo de PIB brasileiro\n",
    "df = pd.read_csv('..\\Data_FS_04.24\\PIB.csv')\n",
    "print(df.head(10))"
   ]
  },
  {
   "cell_type": "code",
   "execution_count": 3,
   "metadata": {},
   "outputs": [
    {
     "name": "stdout",
     "output_type": "stream",
     "text": [
      "<class 'pandas.core.frame.DataFrame'>\n",
      "RangeIndex: 112 entries, 0 to 111\n",
      "Data columns (total 2 columns):\n",
      " #   Column  Non-Null Count  Dtype \n",
      "---  ------  --------------  ----- \n",
      " 0   PIB     112 non-null    int64 \n",
      " 1   Date    112 non-null    object\n",
      "dtypes: int64(1), object(1)\n",
      "memory usage: 1.9+ KB\n"
     ]
    }
   ],
   "source": [
    "df.info()"
   ]
  },
  {
   "cell_type": "code",
   "execution_count": 4,
   "metadata": {},
   "outputs": [],
   "source": [
    "#df.loc[:, 'Date'] = pd.to_datetime(df['Date']).date\n",
    "df['Date'] = pd.to_datetime(df['Date'])"
   ]
  },
  {
   "cell_type": "code",
   "execution_count": 5,
   "metadata": {},
   "outputs": [
    {
     "name": "stdout",
     "output_type": "stream",
     "text": [
      "<class 'pandas.core.frame.DataFrame'>\n",
      "RangeIndex: 112 entries, 0 to 111\n",
      "Data columns (total 2 columns):\n",
      " #   Column  Non-Null Count  Dtype         \n",
      "---  ------  --------------  -----         \n",
      " 0   PIB     112 non-null    int64         \n",
      " 1   Date    112 non-null    datetime64[ns]\n",
      "dtypes: datetime64[ns](1), int64(1)\n",
      "memory usage: 1.9 KB\n"
     ]
    }
   ],
   "source": [
    "df.info()"
   ]
  },
  {
   "cell_type": "markdown",
   "metadata": {},
   "source": [
    "### Avaliando os dados historicos do PIB Brasileiro"
   ]
  },
  {
   "cell_type": "code",
   "execution_count": 6,
   "metadata": {},
   "outputs": [],
   "source": [
    "df.set_index('Date',inplace=True)"
   ]
  },
  {
   "cell_type": "code",
   "execution_count": 7,
   "metadata": {},
   "outputs": [
    {
     "name": "stdout",
     "output_type": "stream",
     "text": [
      "               PIB\n",
      "Date              \n",
      "1996-03-31  189323\n",
      "1996-06-30  204611\n",
      "1996-09-30  221513\n",
      "1996-12-31  239316\n",
      "1997-03-31  219117\n",
      "1997-06-30  232890\n",
      "1997-09-30  246178\n",
      "1997-12-31  253904\n",
      "1998-03-31  235701\n",
      "1998-06-30  251936\n"
     ]
    }
   ],
   "source": [
    "df=df.sort_index(axis=0)\n",
    "print(df.head(10))"
   ]
  },
  {
   "cell_type": "code",
   "execution_count": 8,
   "metadata": {},
   "outputs": [
    {
     "data": {
      "text/plain": [
       "112"
      ]
     },
     "execution_count": 8,
     "metadata": {},
     "output_type": "execute_result"
    }
   ],
   "source": [
    "len(df)"
   ]
  },
  {
   "cell_type": "markdown",
   "metadata": {},
   "source": [
    "fh: Optional[int or list or np.array], default = 1\n",
    "\n",
    "The forecast horizon to be used for forecasting. Default is set to 1 i.e. forecast one point ahead. When integer is passed it means N continuous points in the future without any gap. If you want to forecast values with gaps, you must pass an array e.g. np.arange([13, 25]) will skip the first 12 future points and forecast from the 13th point till the 24th point ahead (note in numpy right value is inclusive and left is exclusive)."
   ]
  },
  {
   "cell_type": "code",
   "execution_count": 9,
   "metadata": {},
   "outputs": [
    {
     "data": {
      "text/html": [
       "<style type=\"text/css\">\n",
       "#T_8c057_row25_col1 {\n",
       "  background-color: lightgreen;\n",
       "}\n",
       "</style>\n",
       "<table id=\"T_8c057\">\n",
       "  <thead>\n",
       "    <tr>\n",
       "      <th class=\"blank level0\" >&nbsp;</th>\n",
       "      <th id=\"T_8c057_level0_col0\" class=\"col_heading level0 col0\" >Description</th>\n",
       "      <th id=\"T_8c057_level0_col1\" class=\"col_heading level0 col1\" >Value</th>\n",
       "    </tr>\n",
       "  </thead>\n",
       "  <tbody>\n",
       "    <tr>\n",
       "      <th id=\"T_8c057_level0_row0\" class=\"row_heading level0 row0\" >0</th>\n",
       "      <td id=\"T_8c057_row0_col0\" class=\"data row0 col0\" >session_id</td>\n",
       "      <td id=\"T_8c057_row0_col1\" class=\"data row0 col1\" >42</td>\n",
       "    </tr>\n",
       "    <tr>\n",
       "      <th id=\"T_8c057_level0_row1\" class=\"row_heading level0 row1\" >1</th>\n",
       "      <td id=\"T_8c057_row1_col0\" class=\"data row1 col0\" >Target</td>\n",
       "      <td id=\"T_8c057_row1_col1\" class=\"data row1 col1\" >PIB</td>\n",
       "    </tr>\n",
       "    <tr>\n",
       "      <th id=\"T_8c057_level0_row2\" class=\"row_heading level0 row2\" >2</th>\n",
       "      <td id=\"T_8c057_row2_col0\" class=\"data row2 col0\" >Approach</td>\n",
       "      <td id=\"T_8c057_row2_col1\" class=\"data row2 col1\" >Univariate</td>\n",
       "    </tr>\n",
       "    <tr>\n",
       "      <th id=\"T_8c057_level0_row3\" class=\"row_heading level0 row3\" >3</th>\n",
       "      <td id=\"T_8c057_row3_col0\" class=\"data row3 col0\" >Exogenous Variables</td>\n",
       "      <td id=\"T_8c057_row3_col1\" class=\"data row3 col1\" >Not Present</td>\n",
       "    </tr>\n",
       "    <tr>\n",
       "      <th id=\"T_8c057_level0_row4\" class=\"row_heading level0 row4\" >4</th>\n",
       "      <td id=\"T_8c057_row4_col0\" class=\"data row4 col0\" >Original data shape</td>\n",
       "      <td id=\"T_8c057_row4_col1\" class=\"data row4 col1\" >(112, 1)</td>\n",
       "    </tr>\n",
       "    <tr>\n",
       "      <th id=\"T_8c057_level0_row5\" class=\"row_heading level0 row5\" >5</th>\n",
       "      <td id=\"T_8c057_row5_col0\" class=\"data row5 col0\" >Transformed data shape</td>\n",
       "      <td id=\"T_8c057_row5_col1\" class=\"data row5 col1\" >(112, 1)</td>\n",
       "    </tr>\n",
       "    <tr>\n",
       "      <th id=\"T_8c057_level0_row6\" class=\"row_heading level0 row6\" >6</th>\n",
       "      <td id=\"T_8c057_row6_col0\" class=\"data row6 col0\" >Transformed train set shape</td>\n",
       "      <td id=\"T_8c057_row6_col1\" class=\"data row6 col1\" >(111, 1)</td>\n",
       "    </tr>\n",
       "    <tr>\n",
       "      <th id=\"T_8c057_level0_row7\" class=\"row_heading level0 row7\" >7</th>\n",
       "      <td id=\"T_8c057_row7_col0\" class=\"data row7 col0\" >Transformed test set shape</td>\n",
       "      <td id=\"T_8c057_row7_col1\" class=\"data row7 col1\" >(1, 1)</td>\n",
       "    </tr>\n",
       "    <tr>\n",
       "      <th id=\"T_8c057_level0_row8\" class=\"row_heading level0 row8\" >8</th>\n",
       "      <td id=\"T_8c057_row8_col0\" class=\"data row8 col0\" >Rows with missing values</td>\n",
       "      <td id=\"T_8c057_row8_col1\" class=\"data row8 col1\" >0.0%</td>\n",
       "    </tr>\n",
       "    <tr>\n",
       "      <th id=\"T_8c057_level0_row9\" class=\"row_heading level0 row9\" >9</th>\n",
       "      <td id=\"T_8c057_row9_col0\" class=\"data row9 col0\" >Fold Generator</td>\n",
       "      <td id=\"T_8c057_row9_col1\" class=\"data row9 col1\" >ExpandingWindowSplitter</td>\n",
       "    </tr>\n",
       "    <tr>\n",
       "      <th id=\"T_8c057_level0_row10\" class=\"row_heading level0 row10\" >10</th>\n",
       "      <td id=\"T_8c057_row10_col0\" class=\"data row10 col0\" >Fold Number</td>\n",
       "      <td id=\"T_8c057_row10_col1\" class=\"data row10 col1\" >3</td>\n",
       "    </tr>\n",
       "    <tr>\n",
       "      <th id=\"T_8c057_level0_row11\" class=\"row_heading level0 row11\" >11</th>\n",
       "      <td id=\"T_8c057_row11_col0\" class=\"data row11 col0\" >Enforce Prediction Interval</td>\n",
       "      <td id=\"T_8c057_row11_col1\" class=\"data row11 col1\" >False</td>\n",
       "    </tr>\n",
       "    <tr>\n",
       "      <th id=\"T_8c057_level0_row12\" class=\"row_heading level0 row12\" >12</th>\n",
       "      <td id=\"T_8c057_row12_col0\" class=\"data row12 col0\" >Splits used for hyperparameters</td>\n",
       "      <td id=\"T_8c057_row12_col1\" class=\"data row12 col1\" >all</td>\n",
       "    </tr>\n",
       "    <tr>\n",
       "      <th id=\"T_8c057_level0_row13\" class=\"row_heading level0 row13\" >13</th>\n",
       "      <td id=\"T_8c057_row13_col0\" class=\"data row13 col0\" >User Defined Seasonal Period(s)</td>\n",
       "      <td id=\"T_8c057_row13_col1\" class=\"data row13 col1\" >None</td>\n",
       "    </tr>\n",
       "    <tr>\n",
       "      <th id=\"T_8c057_level0_row14\" class=\"row_heading level0 row14\" >14</th>\n",
       "      <td id=\"T_8c057_row14_col0\" class=\"data row14 col0\" >Ignore Seasonality Test</td>\n",
       "      <td id=\"T_8c057_row14_col1\" class=\"data row14 col1\" >False</td>\n",
       "    </tr>\n",
       "    <tr>\n",
       "      <th id=\"T_8c057_level0_row15\" class=\"row_heading level0 row15\" >15</th>\n",
       "      <td id=\"T_8c057_row15_col0\" class=\"data row15 col0\" >Seasonality Detection Algo</td>\n",
       "      <td id=\"T_8c057_row15_col1\" class=\"data row15 col1\" >auto</td>\n",
       "    </tr>\n",
       "    <tr>\n",
       "      <th id=\"T_8c057_level0_row16\" class=\"row_heading level0 row16\" >16</th>\n",
       "      <td id=\"T_8c057_row16_col0\" class=\"data row16 col0\" >Max Period to Consider</td>\n",
       "      <td id=\"T_8c057_row16_col1\" class=\"data row16 col1\" >60</td>\n",
       "    </tr>\n",
       "    <tr>\n",
       "      <th id=\"T_8c057_level0_row17\" class=\"row_heading level0 row17\" >17</th>\n",
       "      <td id=\"T_8c057_row17_col0\" class=\"data row17 col0\" >Seasonal Period(s) Tested</td>\n",
       "      <td id=\"T_8c057_row17_col1\" class=\"data row17 col1\" >[4, 16, 12, 20, 24, 8]</td>\n",
       "    </tr>\n",
       "    <tr>\n",
       "      <th id=\"T_8c057_level0_row18\" class=\"row_heading level0 row18\" >18</th>\n",
       "      <td id=\"T_8c057_row18_col0\" class=\"data row18 col0\" >Significant Seasonal Period(s)</td>\n",
       "      <td id=\"T_8c057_row18_col1\" class=\"data row18 col1\" >[4, 16, 12, 20, 24, 8]</td>\n",
       "    </tr>\n",
       "    <tr>\n",
       "      <th id=\"T_8c057_level0_row19\" class=\"row_heading level0 row19\" >19</th>\n",
       "      <td id=\"T_8c057_row19_col0\" class=\"data row19 col0\" >Significant Seasonal Period(s) without Harmonics</td>\n",
       "      <td id=\"T_8c057_row19_col1\" class=\"data row19 col1\" >[24, 16, 20]</td>\n",
       "    </tr>\n",
       "    <tr>\n",
       "      <th id=\"T_8c057_level0_row20\" class=\"row_heading level0 row20\" >20</th>\n",
       "      <td id=\"T_8c057_row20_col0\" class=\"data row20 col0\" >Remove Harmonics</td>\n",
       "      <td id=\"T_8c057_row20_col1\" class=\"data row20 col1\" >False</td>\n",
       "    </tr>\n",
       "    <tr>\n",
       "      <th id=\"T_8c057_level0_row21\" class=\"row_heading level0 row21\" >21</th>\n",
       "      <td id=\"T_8c057_row21_col0\" class=\"data row21 col0\" >Harmonics Order Method</td>\n",
       "      <td id=\"T_8c057_row21_col1\" class=\"data row21 col1\" >harmonic_max</td>\n",
       "    </tr>\n",
       "    <tr>\n",
       "      <th id=\"T_8c057_level0_row22\" class=\"row_heading level0 row22\" >22</th>\n",
       "      <td id=\"T_8c057_row22_col0\" class=\"data row22 col0\" >Num Seasonalities to Use</td>\n",
       "      <td id=\"T_8c057_row22_col1\" class=\"data row22 col1\" >1</td>\n",
       "    </tr>\n",
       "    <tr>\n",
       "      <th id=\"T_8c057_level0_row23\" class=\"row_heading level0 row23\" >23</th>\n",
       "      <td id=\"T_8c057_row23_col0\" class=\"data row23 col0\" >All Seasonalities to Use</td>\n",
       "      <td id=\"T_8c057_row23_col1\" class=\"data row23 col1\" >[4]</td>\n",
       "    </tr>\n",
       "    <tr>\n",
       "      <th id=\"T_8c057_level0_row24\" class=\"row_heading level0 row24\" >24</th>\n",
       "      <td id=\"T_8c057_row24_col0\" class=\"data row24 col0\" >Primary Seasonality</td>\n",
       "      <td id=\"T_8c057_row24_col1\" class=\"data row24 col1\" >4</td>\n",
       "    </tr>\n",
       "    <tr>\n",
       "      <th id=\"T_8c057_level0_row25\" class=\"row_heading level0 row25\" >25</th>\n",
       "      <td id=\"T_8c057_row25_col0\" class=\"data row25 col0\" >Seasonality Present</td>\n",
       "      <td id=\"T_8c057_row25_col1\" class=\"data row25 col1\" >True</td>\n",
       "    </tr>\n",
       "    <tr>\n",
       "      <th id=\"T_8c057_level0_row26\" class=\"row_heading level0 row26\" >26</th>\n",
       "      <td id=\"T_8c057_row26_col0\" class=\"data row26 col0\" >Seasonality Type</td>\n",
       "      <td id=\"T_8c057_row26_col1\" class=\"data row26 col1\" >mul</td>\n",
       "    </tr>\n",
       "    <tr>\n",
       "      <th id=\"T_8c057_level0_row27\" class=\"row_heading level0 row27\" >27</th>\n",
       "      <td id=\"T_8c057_row27_col0\" class=\"data row27 col0\" >Target Strictly Positive</td>\n",
       "      <td id=\"T_8c057_row27_col1\" class=\"data row27 col1\" >True</td>\n",
       "    </tr>\n",
       "    <tr>\n",
       "      <th id=\"T_8c057_level0_row28\" class=\"row_heading level0 row28\" >28</th>\n",
       "      <td id=\"T_8c057_row28_col0\" class=\"data row28 col0\" >Target White Noise</td>\n",
       "      <td id=\"T_8c057_row28_col1\" class=\"data row28 col1\" >No</td>\n",
       "    </tr>\n",
       "    <tr>\n",
       "      <th id=\"T_8c057_level0_row29\" class=\"row_heading level0 row29\" >29</th>\n",
       "      <td id=\"T_8c057_row29_col0\" class=\"data row29 col0\" >Recommended d</td>\n",
       "      <td id=\"T_8c057_row29_col1\" class=\"data row29 col1\" >2</td>\n",
       "    </tr>\n",
       "    <tr>\n",
       "      <th id=\"T_8c057_level0_row30\" class=\"row_heading level0 row30\" >30</th>\n",
       "      <td id=\"T_8c057_row30_col0\" class=\"data row30 col0\" >Recommended Seasonal D</td>\n",
       "      <td id=\"T_8c057_row30_col1\" class=\"data row30 col1\" >0</td>\n",
       "    </tr>\n",
       "    <tr>\n",
       "      <th id=\"T_8c057_level0_row31\" class=\"row_heading level0 row31\" >31</th>\n",
       "      <td id=\"T_8c057_row31_col0\" class=\"data row31 col0\" >Preprocess</td>\n",
       "      <td id=\"T_8c057_row31_col1\" class=\"data row31 col1\" >False</td>\n",
       "    </tr>\n",
       "    <tr>\n",
       "      <th id=\"T_8c057_level0_row32\" class=\"row_heading level0 row32\" >32</th>\n",
       "      <td id=\"T_8c057_row32_col0\" class=\"data row32 col0\" >CPU Jobs</td>\n",
       "      <td id=\"T_8c057_row32_col1\" class=\"data row32 col1\" >-1</td>\n",
       "    </tr>\n",
       "    <tr>\n",
       "      <th id=\"T_8c057_level0_row33\" class=\"row_heading level0 row33\" >33</th>\n",
       "      <td id=\"T_8c057_row33_col0\" class=\"data row33 col0\" >Use GPU</td>\n",
       "      <td id=\"T_8c057_row33_col1\" class=\"data row33 col1\" >False</td>\n",
       "    </tr>\n",
       "    <tr>\n",
       "      <th id=\"T_8c057_level0_row34\" class=\"row_heading level0 row34\" >34</th>\n",
       "      <td id=\"T_8c057_row34_col0\" class=\"data row34 col0\" >Log Experiment</td>\n",
       "      <td id=\"T_8c057_row34_col1\" class=\"data row34 col1\" >False</td>\n",
       "    </tr>\n",
       "    <tr>\n",
       "      <th id=\"T_8c057_level0_row35\" class=\"row_heading level0 row35\" >35</th>\n",
       "      <td id=\"T_8c057_row35_col0\" class=\"data row35 col0\" >Experiment Name</td>\n",
       "      <td id=\"T_8c057_row35_col1\" class=\"data row35 col1\" >ts-default-name</td>\n",
       "    </tr>\n",
       "    <tr>\n",
       "      <th id=\"T_8c057_level0_row36\" class=\"row_heading level0 row36\" >36</th>\n",
       "      <td id=\"T_8c057_row36_col0\" class=\"data row36 col0\" >USI</td>\n",
       "      <td id=\"T_8c057_row36_col1\" class=\"data row36 col1\" >8b97</td>\n",
       "    </tr>\n",
       "  </tbody>\n",
       "</table>\n"
      ],
      "text/plain": [
       "<pandas.io.formats.style.Styler at 0x236a53beb00>"
      ]
     },
     "metadata": {},
     "output_type": "display_data"
    },
    {
     "data": {
      "text/plain": [
       "<pycaret.time_series.forecasting.oop.TSForecastingExperiment at 0x236f6b798a0>"
      ]
     },
     "execution_count": 9,
     "metadata": {},
     "output_type": "execute_result"
    }
   ],
   "source": [
    "exp = TSForecastingExperiment()\n",
    "exp.setup(data=df, fh=1, session_id=42, fig_kwargs = {\"template\": \"simple_white\",\"hoverinfo\":\"none\"})"
   ]
  },
  {
   "cell_type": "code",
   "execution_count": 10,
   "metadata": {},
   "outputs": [
    {
     "data": {
      "application/vnd.plotly.v1+json": {
       "config": {
        "plotlyServerURL": "https://plot.ly"
       },
       "data": [
        {
         "hoverinfo": "none",
         "line": {
          "width": 2
         },
         "marker": {
          "size": 5
         },
         "mode": "lines+markers",
         "name": "PIB (original)",
         "type": "scattergl",
         "x": [
          "1996-01-01T00:00:00",
          "1996-04-01T00:00:00",
          "1996-07-01T00:00:00",
          "1996-10-01T00:00:00",
          "1997-01-01T00:00:00",
          "1997-04-01T00:00:00",
          "1997-07-01T00:00:00",
          "1997-10-01T00:00:00",
          "1998-01-01T00:00:00",
          "1998-04-01T00:00:00",
          "1998-07-01T00:00:00",
          "1998-10-01T00:00:00",
          "1999-01-01T00:00:00",
          "1999-04-01T00:00:00",
          "1999-07-01T00:00:00",
          "1999-10-01T00:00:00",
          "2000-01-01T00:00:00",
          "2000-04-01T00:00:00",
          "2000-07-01T00:00:00",
          "2000-10-01T00:00:00",
          "2001-01-01T00:00:00",
          "2001-04-01T00:00:00",
          "2001-07-01T00:00:00",
          "2001-10-01T00:00:00",
          "2002-01-01T00:00:00",
          "2002-04-01T00:00:00",
          "2002-07-01T00:00:00",
          "2002-10-01T00:00:00",
          "2003-01-01T00:00:00",
          "2003-04-01T00:00:00",
          "2003-07-01T00:00:00",
          "2003-10-01T00:00:00",
          "2004-01-01T00:00:00",
          "2004-04-01T00:00:00",
          "2004-07-01T00:00:00",
          "2004-10-01T00:00:00",
          "2005-01-01T00:00:00",
          "2005-04-01T00:00:00",
          "2005-07-01T00:00:00",
          "2005-10-01T00:00:00",
          "2006-01-01T00:00:00",
          "2006-04-01T00:00:00",
          "2006-07-01T00:00:00",
          "2006-10-01T00:00:00",
          "2007-01-01T00:00:00",
          "2007-04-01T00:00:00",
          "2007-07-01T00:00:00",
          "2007-10-01T00:00:00",
          "2008-01-01T00:00:00",
          "2008-04-01T00:00:00",
          "2008-07-01T00:00:00",
          "2008-10-01T00:00:00",
          "2009-01-01T00:00:00",
          "2009-04-01T00:00:00",
          "2009-07-01T00:00:00",
          "2009-10-01T00:00:00",
          "2010-01-01T00:00:00",
          "2010-04-01T00:00:00",
          "2010-07-01T00:00:00",
          "2010-10-01T00:00:00",
          "2011-01-01T00:00:00",
          "2011-04-01T00:00:00",
          "2011-07-01T00:00:00",
          "2011-10-01T00:00:00",
          "2012-01-01T00:00:00",
          "2012-04-01T00:00:00",
          "2012-07-01T00:00:00",
          "2012-10-01T00:00:00",
          "2013-01-01T00:00:00",
          "2013-04-01T00:00:00",
          "2013-07-01T00:00:00",
          "2013-10-01T00:00:00",
          "2014-01-01T00:00:00",
          "2014-04-01T00:00:00",
          "2014-07-01T00:00:00",
          "2014-10-01T00:00:00",
          "2015-01-01T00:00:00",
          "2015-04-01T00:00:00",
          "2015-07-01T00:00:00",
          "2015-10-01T00:00:00",
          "2016-01-01T00:00:00",
          "2016-04-01T00:00:00",
          "2016-07-01T00:00:00",
          "2016-10-01T00:00:00",
          "2017-01-01T00:00:00",
          "2017-04-01T00:00:00",
          "2017-07-01T00:00:00",
          "2017-10-01T00:00:00",
          "2018-01-01T00:00:00",
          "2018-04-01T00:00:00",
          "2018-07-01T00:00:00",
          "2018-10-01T00:00:00",
          "2019-01-01T00:00:00",
          "2019-04-01T00:00:00",
          "2019-07-01T00:00:00",
          "2019-10-01T00:00:00",
          "2020-01-01T00:00:00",
          "2020-04-01T00:00:00",
          "2020-07-01T00:00:00",
          "2020-10-01T00:00:00",
          "2021-01-01T00:00:00",
          "2021-04-01T00:00:00",
          "2021-07-01T00:00:00",
          "2021-10-01T00:00:00",
          "2022-01-01T00:00:00",
          "2022-04-01T00:00:00",
          "2022-07-01T00:00:00",
          "2022-10-01T00:00:00",
          "2023-01-01T00:00:00",
          "2023-04-01T00:00:00",
          "2023-07-01T00:00:00",
          "2023-10-01T00:00:00"
         ],
         "xaxis": "x",
         "y": [
          189323,
          204611,
          221513,
          239316,
          219117,
          232890,
          246178,
          253904,
          235701,
          251936,
          258043,
          256671,
          250668,
          268709,
          274126,
          294208,
          276927,
          292789,
          308896,
          320481,
          312470,
          323724,
          332524,
          347038,
          342297,
          367363,
          379795,
          399333,
          397242,
          418987,
          439350,
          462372,
          444783,
          481795,
          505252,
          525920,
          499710,
          535557,
          552859,
          582458,
          554270,
          581977,
          617848,
          655355,
          631423,
          670655,
          691846,
          726339,
          712055,
          769525,
          812603,
          815620,
          756127,
          803577,
          852843,
          920492,
          886397,
          944145,
          997935,
          1057370,
          1016531,
          1086712,
          1112334,
          1160805,
          1129474,
          1183126,
          1230449,
          1271711,
          1241614,
          1322580,
          1354134,
          1413291,
          1385981,
          1422322,
          1462125,
          1508525,
          1456659,
          1479970,
          1508228,
          1550930,
          1500299,
          1559050,
          1577170,
          1632808,
          1585673,
          1630730,
          1648635,
          1720441,
          1682083,
          1734099,
          1767856,
          1820103,
          1757554,
          1826761,
          1880610,
          1924206,
          1868095,
          1752724,
          1929323,
          2059455,
          2156670,
          2203639,
          2295851,
          2355982,
          2319528,
          2517481,
          2601182,
          2641485,
          2582706,
          2701105,
          2740961,
          2831340
         ],
         "yaxis": "y"
        }
       ],
       "layout": {
        "annotations": [
         {
          "font": {
           "size": 16
          },
          "showarrow": false,
          "text": "PIB",
          "x": 0.5,
          "xanchor": "center",
          "xref": "paper",
          "y": 1,
          "yanchor": "bottom",
          "yref": "paper"
         }
        ],
        "autosize": false,
        "height": 500,
        "showlegend": true,
        "template": {
         "data": {
          "bar": [
           {
            "error_x": {
             "color": "rgb(36,36,36)"
            },
            "error_y": {
             "color": "rgb(36,36,36)"
            },
            "marker": {
             "line": {
              "color": "white",
              "width": 0.5
             },
             "pattern": {
              "fillmode": "overlay",
              "size": 10,
              "solidity": 0.2
             }
            },
            "type": "bar"
           }
          ],
          "barpolar": [
           {
            "marker": {
             "line": {
              "color": "white",
              "width": 0.5
             },
             "pattern": {
              "fillmode": "overlay",
              "size": 10,
              "solidity": 0.2
             }
            },
            "type": "barpolar"
           }
          ],
          "carpet": [
           {
            "aaxis": {
             "endlinecolor": "rgb(36,36,36)",
             "gridcolor": "white",
             "linecolor": "white",
             "minorgridcolor": "white",
             "startlinecolor": "rgb(36,36,36)"
            },
            "baxis": {
             "endlinecolor": "rgb(36,36,36)",
             "gridcolor": "white",
             "linecolor": "white",
             "minorgridcolor": "white",
             "startlinecolor": "rgb(36,36,36)"
            },
            "type": "carpet"
           }
          ],
          "choropleth": [
           {
            "colorbar": {
             "outlinewidth": 1,
             "tickcolor": "rgb(36,36,36)",
             "ticks": "outside"
            },
            "type": "choropleth"
           }
          ],
          "contour": [
           {
            "colorbar": {
             "outlinewidth": 1,
             "tickcolor": "rgb(36,36,36)",
             "ticks": "outside"
            },
            "colorscale": [
             [
              0,
              "#440154"
             ],
             [
              0.1111111111111111,
              "#482878"
             ],
             [
              0.2222222222222222,
              "#3e4989"
             ],
             [
              0.3333333333333333,
              "#31688e"
             ],
             [
              0.4444444444444444,
              "#26828e"
             ],
             [
              0.5555555555555556,
              "#1f9e89"
             ],
             [
              0.6666666666666666,
              "#35b779"
             ],
             [
              0.7777777777777778,
              "#6ece58"
             ],
             [
              0.8888888888888888,
              "#b5de2b"
             ],
             [
              1,
              "#fde725"
             ]
            ],
            "type": "contour"
           }
          ],
          "contourcarpet": [
           {
            "colorbar": {
             "outlinewidth": 1,
             "tickcolor": "rgb(36,36,36)",
             "ticks": "outside"
            },
            "type": "contourcarpet"
           }
          ],
          "heatmap": [
           {
            "colorbar": {
             "outlinewidth": 1,
             "tickcolor": "rgb(36,36,36)",
             "ticks": "outside"
            },
            "colorscale": [
             [
              0,
              "#440154"
             ],
             [
              0.1111111111111111,
              "#482878"
             ],
             [
              0.2222222222222222,
              "#3e4989"
             ],
             [
              0.3333333333333333,
              "#31688e"
             ],
             [
              0.4444444444444444,
              "#26828e"
             ],
             [
              0.5555555555555556,
              "#1f9e89"
             ],
             [
              0.6666666666666666,
              "#35b779"
             ],
             [
              0.7777777777777778,
              "#6ece58"
             ],
             [
              0.8888888888888888,
              "#b5de2b"
             ],
             [
              1,
              "#fde725"
             ]
            ],
            "type": "heatmap"
           }
          ],
          "heatmapgl": [
           {
            "colorbar": {
             "outlinewidth": 1,
             "tickcolor": "rgb(36,36,36)",
             "ticks": "outside"
            },
            "colorscale": [
             [
              0,
              "#440154"
             ],
             [
              0.1111111111111111,
              "#482878"
             ],
             [
              0.2222222222222222,
              "#3e4989"
             ],
             [
              0.3333333333333333,
              "#31688e"
             ],
             [
              0.4444444444444444,
              "#26828e"
             ],
             [
              0.5555555555555556,
              "#1f9e89"
             ],
             [
              0.6666666666666666,
              "#35b779"
             ],
             [
              0.7777777777777778,
              "#6ece58"
             ],
             [
              0.8888888888888888,
              "#b5de2b"
             ],
             [
              1,
              "#fde725"
             ]
            ],
            "type": "heatmapgl"
           }
          ],
          "histogram": [
           {
            "marker": {
             "line": {
              "color": "white",
              "width": 0.6
             }
            },
            "type": "histogram"
           }
          ],
          "histogram2d": [
           {
            "colorbar": {
             "outlinewidth": 1,
             "tickcolor": "rgb(36,36,36)",
             "ticks": "outside"
            },
            "colorscale": [
             [
              0,
              "#440154"
             ],
             [
              0.1111111111111111,
              "#482878"
             ],
             [
              0.2222222222222222,
              "#3e4989"
             ],
             [
              0.3333333333333333,
              "#31688e"
             ],
             [
              0.4444444444444444,
              "#26828e"
             ],
             [
              0.5555555555555556,
              "#1f9e89"
             ],
             [
              0.6666666666666666,
              "#35b779"
             ],
             [
              0.7777777777777778,
              "#6ece58"
             ],
             [
              0.8888888888888888,
              "#b5de2b"
             ],
             [
              1,
              "#fde725"
             ]
            ],
            "type": "histogram2d"
           }
          ],
          "histogram2dcontour": [
           {
            "colorbar": {
             "outlinewidth": 1,
             "tickcolor": "rgb(36,36,36)",
             "ticks": "outside"
            },
            "colorscale": [
             [
              0,
              "#440154"
             ],
             [
              0.1111111111111111,
              "#482878"
             ],
             [
              0.2222222222222222,
              "#3e4989"
             ],
             [
              0.3333333333333333,
              "#31688e"
             ],
             [
              0.4444444444444444,
              "#26828e"
             ],
             [
              0.5555555555555556,
              "#1f9e89"
             ],
             [
              0.6666666666666666,
              "#35b779"
             ],
             [
              0.7777777777777778,
              "#6ece58"
             ],
             [
              0.8888888888888888,
              "#b5de2b"
             ],
             [
              1,
              "#fde725"
             ]
            ],
            "type": "histogram2dcontour"
           }
          ],
          "mesh3d": [
           {
            "colorbar": {
             "outlinewidth": 1,
             "tickcolor": "rgb(36,36,36)",
             "ticks": "outside"
            },
            "type": "mesh3d"
           }
          ],
          "parcoords": [
           {
            "line": {
             "colorbar": {
              "outlinewidth": 1,
              "tickcolor": "rgb(36,36,36)",
              "ticks": "outside"
             }
            },
            "type": "parcoords"
           }
          ],
          "pie": [
           {
            "automargin": true,
            "type": "pie"
           }
          ],
          "scatter": [
           {
            "fillpattern": {
             "fillmode": "overlay",
             "size": 10,
             "solidity": 0.2
            },
            "type": "scatter"
           }
          ],
          "scatter3d": [
           {
            "line": {
             "colorbar": {
              "outlinewidth": 1,
              "tickcolor": "rgb(36,36,36)",
              "ticks": "outside"
             }
            },
            "marker": {
             "colorbar": {
              "outlinewidth": 1,
              "tickcolor": "rgb(36,36,36)",
              "ticks": "outside"
             }
            },
            "type": "scatter3d"
           }
          ],
          "scattercarpet": [
           {
            "marker": {
             "colorbar": {
              "outlinewidth": 1,
              "tickcolor": "rgb(36,36,36)",
              "ticks": "outside"
             }
            },
            "type": "scattercarpet"
           }
          ],
          "scattergeo": [
           {
            "marker": {
             "colorbar": {
              "outlinewidth": 1,
              "tickcolor": "rgb(36,36,36)",
              "ticks": "outside"
             }
            },
            "type": "scattergeo"
           }
          ],
          "scattergl": [
           {
            "marker": {
             "colorbar": {
              "outlinewidth": 1,
              "tickcolor": "rgb(36,36,36)",
              "ticks": "outside"
             }
            },
            "type": "scattergl"
           }
          ],
          "scattermapbox": [
           {
            "marker": {
             "colorbar": {
              "outlinewidth": 1,
              "tickcolor": "rgb(36,36,36)",
              "ticks": "outside"
             }
            },
            "type": "scattermapbox"
           }
          ],
          "scatterpolar": [
           {
            "marker": {
             "colorbar": {
              "outlinewidth": 1,
              "tickcolor": "rgb(36,36,36)",
              "ticks": "outside"
             }
            },
            "type": "scatterpolar"
           }
          ],
          "scatterpolargl": [
           {
            "marker": {
             "colorbar": {
              "outlinewidth": 1,
              "tickcolor": "rgb(36,36,36)",
              "ticks": "outside"
             }
            },
            "type": "scatterpolargl"
           }
          ],
          "scatterternary": [
           {
            "marker": {
             "colorbar": {
              "outlinewidth": 1,
              "tickcolor": "rgb(36,36,36)",
              "ticks": "outside"
             }
            },
            "type": "scatterternary"
           }
          ],
          "surface": [
           {
            "colorbar": {
             "outlinewidth": 1,
             "tickcolor": "rgb(36,36,36)",
             "ticks": "outside"
            },
            "colorscale": [
             [
              0,
              "#440154"
             ],
             [
              0.1111111111111111,
              "#482878"
             ],
             [
              0.2222222222222222,
              "#3e4989"
             ],
             [
              0.3333333333333333,
              "#31688e"
             ],
             [
              0.4444444444444444,
              "#26828e"
             ],
             [
              0.5555555555555556,
              "#1f9e89"
             ],
             [
              0.6666666666666666,
              "#35b779"
             ],
             [
              0.7777777777777778,
              "#6ece58"
             ],
             [
              0.8888888888888888,
              "#b5de2b"
             ],
             [
              1,
              "#fde725"
             ]
            ],
            "type": "surface"
           }
          ],
          "table": [
           {
            "cells": {
             "fill": {
              "color": "rgb(237,237,237)"
             },
             "line": {
              "color": "white"
             }
            },
            "header": {
             "fill": {
              "color": "rgb(217,217,217)"
             },
             "line": {
              "color": "white"
             }
            },
            "type": "table"
           }
          ]
         },
         "layout": {
          "annotationdefaults": {
           "arrowhead": 0,
           "arrowwidth": 1
          },
          "autotypenumbers": "strict",
          "coloraxis": {
           "colorbar": {
            "outlinewidth": 1,
            "tickcolor": "rgb(36,36,36)",
            "ticks": "outside"
           }
          },
          "colorscale": {
           "diverging": [
            [
             0,
             "rgb(103,0,31)"
            ],
            [
             0.1,
             "rgb(178,24,43)"
            ],
            [
             0.2,
             "rgb(214,96,77)"
            ],
            [
             0.3,
             "rgb(244,165,130)"
            ],
            [
             0.4,
             "rgb(253,219,199)"
            ],
            [
             0.5,
             "rgb(247,247,247)"
            ],
            [
             0.6,
             "rgb(209,229,240)"
            ],
            [
             0.7,
             "rgb(146,197,222)"
            ],
            [
             0.8,
             "rgb(67,147,195)"
            ],
            [
             0.9,
             "rgb(33,102,172)"
            ],
            [
             1,
             "rgb(5,48,97)"
            ]
           ],
           "sequential": [
            [
             0,
             "#440154"
            ],
            [
             0.1111111111111111,
             "#482878"
            ],
            [
             0.2222222222222222,
             "#3e4989"
            ],
            [
             0.3333333333333333,
             "#31688e"
            ],
            [
             0.4444444444444444,
             "#26828e"
            ],
            [
             0.5555555555555556,
             "#1f9e89"
            ],
            [
             0.6666666666666666,
             "#35b779"
            ],
            [
             0.7777777777777778,
             "#6ece58"
            ],
            [
             0.8888888888888888,
             "#b5de2b"
            ],
            [
             1,
             "#fde725"
            ]
           ],
           "sequentialminus": [
            [
             0,
             "#440154"
            ],
            [
             0.1111111111111111,
             "#482878"
            ],
            [
             0.2222222222222222,
             "#3e4989"
            ],
            [
             0.3333333333333333,
             "#31688e"
            ],
            [
             0.4444444444444444,
             "#26828e"
            ],
            [
             0.5555555555555556,
             "#1f9e89"
            ],
            [
             0.6666666666666666,
             "#35b779"
            ],
            [
             0.7777777777777778,
             "#6ece58"
            ],
            [
             0.8888888888888888,
             "#b5de2b"
            ],
            [
             1,
             "#fde725"
            ]
           ]
          },
          "colorway": [
           "#1F77B4",
           "#FF7F0E",
           "#2CA02C",
           "#D62728",
           "#9467BD",
           "#8C564B",
           "#E377C2",
           "#7F7F7F",
           "#BCBD22",
           "#17BECF"
          ],
          "font": {
           "color": "rgb(36,36,36)"
          },
          "geo": {
           "bgcolor": "white",
           "lakecolor": "white",
           "landcolor": "white",
           "showlakes": true,
           "showland": true,
           "subunitcolor": "white"
          },
          "hoverlabel": {
           "align": "left"
          },
          "hovermode": "closest",
          "mapbox": {
           "style": "light"
          },
          "paper_bgcolor": "white",
          "plot_bgcolor": "white",
          "polar": {
           "angularaxis": {
            "gridcolor": "rgb(232,232,232)",
            "linecolor": "rgb(36,36,36)",
            "showgrid": false,
            "showline": true,
            "ticks": "outside"
           },
           "bgcolor": "white",
           "radialaxis": {
            "gridcolor": "rgb(232,232,232)",
            "linecolor": "rgb(36,36,36)",
            "showgrid": false,
            "showline": true,
            "ticks": "outside"
           }
          },
          "scene": {
           "xaxis": {
            "backgroundcolor": "white",
            "gridcolor": "rgb(232,232,232)",
            "gridwidth": 2,
            "linecolor": "rgb(36,36,36)",
            "showbackground": true,
            "showgrid": false,
            "showline": true,
            "ticks": "outside",
            "zeroline": false,
            "zerolinecolor": "rgb(36,36,36)"
           },
           "yaxis": {
            "backgroundcolor": "white",
            "gridcolor": "rgb(232,232,232)",
            "gridwidth": 2,
            "linecolor": "rgb(36,36,36)",
            "showbackground": true,
            "showgrid": false,
            "showline": true,
            "ticks": "outside",
            "zeroline": false,
            "zerolinecolor": "rgb(36,36,36)"
           },
           "zaxis": {
            "backgroundcolor": "white",
            "gridcolor": "rgb(232,232,232)",
            "gridwidth": 2,
            "linecolor": "rgb(36,36,36)",
            "showbackground": true,
            "showgrid": false,
            "showline": true,
            "ticks": "outside",
            "zeroline": false,
            "zerolinecolor": "rgb(36,36,36)"
           }
          },
          "shapedefaults": {
           "fillcolor": "black",
           "line": {
            "width": 0
           },
           "opacity": 0.3
          },
          "ternary": {
           "aaxis": {
            "gridcolor": "rgb(232,232,232)",
            "linecolor": "rgb(36,36,36)",
            "showgrid": false,
            "showline": true,
            "ticks": "outside"
           },
           "baxis": {
            "gridcolor": "rgb(232,232,232)",
            "linecolor": "rgb(36,36,36)",
            "showgrid": false,
            "showline": true,
            "ticks": "outside"
           },
           "bgcolor": "white",
           "caxis": {
            "gridcolor": "rgb(232,232,232)",
            "linecolor": "rgb(36,36,36)",
            "showgrid": false,
            "showline": true,
            "ticks": "outside"
           }
          },
          "title": {
           "x": 0.05
          },
          "xaxis": {
           "automargin": true,
           "gridcolor": "rgb(232,232,232)",
           "linecolor": "rgb(36,36,36)",
           "showgrid": false,
           "showline": true,
           "ticks": "outside",
           "title": {
            "standoff": 15
           },
           "zeroline": false,
           "zerolinecolor": "rgb(36,36,36)"
          },
          "yaxis": {
           "automargin": true,
           "gridcolor": "rgb(232,232,232)",
           "linecolor": "rgb(36,36,36)",
           "showgrid": false,
           "showline": true,
           "ticks": "outside",
           "title": {
            "standoff": 15
           },
           "zeroline": false,
           "zerolinecolor": "rgb(36,36,36)"
          }
         }
        },
        "title": {
         "text": "Time Series | Target = PIB"
        },
        "width": 1000,
        "xaxis": {
         "anchor": "y",
         "domain": [
          0,
          1
         ]
        },
        "yaxis": {
         "anchor": "x",
         "domain": [
          0,
          1
         ]
        }
       }
      }
     },
     "metadata": {},
     "output_type": "display_data"
    }
   ],
   "source": [
    "exp.plot_model(plot=\"ts\",fig_kwargs = {\"height\":500,\"width\":1000,\"template\": \"simple_white\",\"hoverinfo\":\"none\",\"big_data_threshold\":115})"
   ]
  },
  {
   "cell_type": "code",
   "execution_count": 11,
   "metadata": {},
   "outputs": [
    {
     "data": {
      "application/vnd.plotly.v1+json": {
       "config": {
        "plotlyServerURL": "https://plot.ly"
       },
       "data": [
        {
         "hoverinfo": "none",
         "line": {
          "width": 2
         },
         "marker": {
          "size": 5
         },
         "mode": "lines+markers",
         "name": "PIB (original)",
         "type": "scattergl",
         "x": [
          "1996-01-01T00:00:00",
          "1996-04-01T00:00:00",
          "1996-07-01T00:00:00",
          "1996-10-01T00:00:00",
          "1997-01-01T00:00:00",
          "1997-04-01T00:00:00",
          "1997-07-01T00:00:00",
          "1997-10-01T00:00:00",
          "1998-01-01T00:00:00",
          "1998-04-01T00:00:00",
          "1998-07-01T00:00:00",
          "1998-10-01T00:00:00",
          "1999-01-01T00:00:00",
          "1999-04-01T00:00:00",
          "1999-07-01T00:00:00",
          "1999-10-01T00:00:00",
          "2000-01-01T00:00:00",
          "2000-04-01T00:00:00",
          "2000-07-01T00:00:00",
          "2000-10-01T00:00:00",
          "2001-01-01T00:00:00",
          "2001-04-01T00:00:00",
          "2001-07-01T00:00:00",
          "2001-10-01T00:00:00",
          "2002-01-01T00:00:00",
          "2002-04-01T00:00:00",
          "2002-07-01T00:00:00",
          "2002-10-01T00:00:00",
          "2003-01-01T00:00:00",
          "2003-04-01T00:00:00",
          "2003-07-01T00:00:00",
          "2003-10-01T00:00:00",
          "2004-01-01T00:00:00",
          "2004-04-01T00:00:00",
          "2004-07-01T00:00:00",
          "2004-10-01T00:00:00",
          "2005-01-01T00:00:00",
          "2005-04-01T00:00:00",
          "2005-07-01T00:00:00",
          "2005-10-01T00:00:00",
          "2006-01-01T00:00:00",
          "2006-04-01T00:00:00",
          "2006-07-01T00:00:00",
          "2006-10-01T00:00:00",
          "2007-01-01T00:00:00",
          "2007-04-01T00:00:00",
          "2007-07-01T00:00:00",
          "2007-10-01T00:00:00",
          "2008-01-01T00:00:00",
          "2008-04-01T00:00:00",
          "2008-07-01T00:00:00",
          "2008-10-01T00:00:00",
          "2009-01-01T00:00:00",
          "2009-04-01T00:00:00",
          "2009-07-01T00:00:00",
          "2009-10-01T00:00:00",
          "2010-01-01T00:00:00",
          "2010-04-01T00:00:00",
          "2010-07-01T00:00:00",
          "2010-10-01T00:00:00",
          "2011-01-01T00:00:00",
          "2011-04-01T00:00:00",
          "2011-07-01T00:00:00",
          "2011-10-01T00:00:00",
          "2012-01-01T00:00:00",
          "2012-04-01T00:00:00",
          "2012-07-01T00:00:00",
          "2012-10-01T00:00:00",
          "2013-01-01T00:00:00",
          "2013-04-01T00:00:00",
          "2013-07-01T00:00:00",
          "2013-10-01T00:00:00",
          "2014-01-01T00:00:00",
          "2014-04-01T00:00:00",
          "2014-07-01T00:00:00",
          "2014-10-01T00:00:00",
          "2015-01-01T00:00:00",
          "2015-04-01T00:00:00",
          "2015-07-01T00:00:00",
          "2015-10-01T00:00:00",
          "2016-01-01T00:00:00",
          "2016-04-01T00:00:00",
          "2016-07-01T00:00:00",
          "2016-10-01T00:00:00",
          "2017-01-01T00:00:00",
          "2017-04-01T00:00:00",
          "2017-07-01T00:00:00",
          "2017-10-01T00:00:00",
          "2018-01-01T00:00:00",
          "2018-04-01T00:00:00",
          "2018-07-01T00:00:00",
          "2018-10-01T00:00:00",
          "2019-01-01T00:00:00",
          "2019-04-01T00:00:00",
          "2019-07-01T00:00:00",
          "2019-10-01T00:00:00",
          "2020-01-01T00:00:00",
          "2020-04-01T00:00:00",
          "2020-07-01T00:00:00",
          "2020-10-01T00:00:00",
          "2021-01-01T00:00:00",
          "2021-04-01T00:00:00",
          "2021-07-01T00:00:00",
          "2021-10-01T00:00:00",
          "2022-01-01T00:00:00",
          "2022-04-01T00:00:00",
          "2022-07-01T00:00:00",
          "2022-10-01T00:00:00",
          "2023-01-01T00:00:00",
          "2023-04-01T00:00:00",
          "2023-07-01T00:00:00",
          "2023-10-01T00:00:00"
         ],
         "xaxis": "x",
         "y": [
          189323,
          204611,
          221513,
          239316,
          219117,
          232890,
          246178,
          253904,
          235701,
          251936,
          258043,
          256671,
          250668,
          268709,
          274126,
          294208,
          276927,
          292789,
          308896,
          320481,
          312470,
          323724,
          332524,
          347038,
          342297,
          367363,
          379795,
          399333,
          397242,
          418987,
          439350,
          462372,
          444783,
          481795,
          505252,
          525920,
          499710,
          535557,
          552859,
          582458,
          554270,
          581977,
          617848,
          655355,
          631423,
          670655,
          691846,
          726339,
          712055,
          769525,
          812603,
          815620,
          756127,
          803577,
          852843,
          920492,
          886397,
          944145,
          997935,
          1057370,
          1016531,
          1086712,
          1112334,
          1160805,
          1129474,
          1183126,
          1230449,
          1271711,
          1241614,
          1322580,
          1354134,
          1413291,
          1385981,
          1422322,
          1462125,
          1508525,
          1456659,
          1479970,
          1508228,
          1550930,
          1500299,
          1559050,
          1577170,
          1632808,
          1585673,
          1630730,
          1648635,
          1720441,
          1682083,
          1734099,
          1767856,
          1820103,
          1757554,
          1826761,
          1880610,
          1924206,
          1868095,
          1752724,
          1929323,
          2059455,
          2156670,
          2203639,
          2295851,
          2355982,
          2319528,
          2517481,
          2601182,
          2641485,
          2582706,
          2701105,
          2740961,
          2831340
         ],
         "yaxis": "y"
        }
       ],
       "layout": {
        "annotations": [
         {
          "font": {
           "size": 16
          },
          "showarrow": false,
          "text": "PIB",
          "x": 0.5,
          "xanchor": "center",
          "xref": "paper",
          "y": 1,
          "yanchor": "bottom",
          "yref": "paper"
         }
        ],
        "autosize": false,
        "height": 500,
        "showlegend": true,
        "template": {
         "data": {
          "bar": [
           {
            "error_x": {
             "color": "rgb(36,36,36)"
            },
            "error_y": {
             "color": "rgb(36,36,36)"
            },
            "marker": {
             "line": {
              "color": "white",
              "width": 0.5
             },
             "pattern": {
              "fillmode": "overlay",
              "size": 10,
              "solidity": 0.2
             }
            },
            "type": "bar"
           }
          ],
          "barpolar": [
           {
            "marker": {
             "line": {
              "color": "white",
              "width": 0.5
             },
             "pattern": {
              "fillmode": "overlay",
              "size": 10,
              "solidity": 0.2
             }
            },
            "type": "barpolar"
           }
          ],
          "carpet": [
           {
            "aaxis": {
             "endlinecolor": "rgb(36,36,36)",
             "gridcolor": "white",
             "linecolor": "white",
             "minorgridcolor": "white",
             "startlinecolor": "rgb(36,36,36)"
            },
            "baxis": {
             "endlinecolor": "rgb(36,36,36)",
             "gridcolor": "white",
             "linecolor": "white",
             "minorgridcolor": "white",
             "startlinecolor": "rgb(36,36,36)"
            },
            "type": "carpet"
           }
          ],
          "choropleth": [
           {
            "colorbar": {
             "outlinewidth": 1,
             "tickcolor": "rgb(36,36,36)",
             "ticks": "outside"
            },
            "type": "choropleth"
           }
          ],
          "contour": [
           {
            "colorbar": {
             "outlinewidth": 1,
             "tickcolor": "rgb(36,36,36)",
             "ticks": "outside"
            },
            "colorscale": [
             [
              0,
              "#440154"
             ],
             [
              0.1111111111111111,
              "#482878"
             ],
             [
              0.2222222222222222,
              "#3e4989"
             ],
             [
              0.3333333333333333,
              "#31688e"
             ],
             [
              0.4444444444444444,
              "#26828e"
             ],
             [
              0.5555555555555556,
              "#1f9e89"
             ],
             [
              0.6666666666666666,
              "#35b779"
             ],
             [
              0.7777777777777778,
              "#6ece58"
             ],
             [
              0.8888888888888888,
              "#b5de2b"
             ],
             [
              1,
              "#fde725"
             ]
            ],
            "type": "contour"
           }
          ],
          "contourcarpet": [
           {
            "colorbar": {
             "outlinewidth": 1,
             "tickcolor": "rgb(36,36,36)",
             "ticks": "outside"
            },
            "type": "contourcarpet"
           }
          ],
          "heatmap": [
           {
            "colorbar": {
             "outlinewidth": 1,
             "tickcolor": "rgb(36,36,36)",
             "ticks": "outside"
            },
            "colorscale": [
             [
              0,
              "#440154"
             ],
             [
              0.1111111111111111,
              "#482878"
             ],
             [
              0.2222222222222222,
              "#3e4989"
             ],
             [
              0.3333333333333333,
              "#31688e"
             ],
             [
              0.4444444444444444,
              "#26828e"
             ],
             [
              0.5555555555555556,
              "#1f9e89"
             ],
             [
              0.6666666666666666,
              "#35b779"
             ],
             [
              0.7777777777777778,
              "#6ece58"
             ],
             [
              0.8888888888888888,
              "#b5de2b"
             ],
             [
              1,
              "#fde725"
             ]
            ],
            "type": "heatmap"
           }
          ],
          "heatmapgl": [
           {
            "colorbar": {
             "outlinewidth": 1,
             "tickcolor": "rgb(36,36,36)",
             "ticks": "outside"
            },
            "colorscale": [
             [
              0,
              "#440154"
             ],
             [
              0.1111111111111111,
              "#482878"
             ],
             [
              0.2222222222222222,
              "#3e4989"
             ],
             [
              0.3333333333333333,
              "#31688e"
             ],
             [
              0.4444444444444444,
              "#26828e"
             ],
             [
              0.5555555555555556,
              "#1f9e89"
             ],
             [
              0.6666666666666666,
              "#35b779"
             ],
             [
              0.7777777777777778,
              "#6ece58"
             ],
             [
              0.8888888888888888,
              "#b5de2b"
             ],
             [
              1,
              "#fde725"
             ]
            ],
            "type": "heatmapgl"
           }
          ],
          "histogram": [
           {
            "marker": {
             "line": {
              "color": "white",
              "width": 0.6
             }
            },
            "type": "histogram"
           }
          ],
          "histogram2d": [
           {
            "colorbar": {
             "outlinewidth": 1,
             "tickcolor": "rgb(36,36,36)",
             "ticks": "outside"
            },
            "colorscale": [
             [
              0,
              "#440154"
             ],
             [
              0.1111111111111111,
              "#482878"
             ],
             [
              0.2222222222222222,
              "#3e4989"
             ],
             [
              0.3333333333333333,
              "#31688e"
             ],
             [
              0.4444444444444444,
              "#26828e"
             ],
             [
              0.5555555555555556,
              "#1f9e89"
             ],
             [
              0.6666666666666666,
              "#35b779"
             ],
             [
              0.7777777777777778,
              "#6ece58"
             ],
             [
              0.8888888888888888,
              "#b5de2b"
             ],
             [
              1,
              "#fde725"
             ]
            ],
            "type": "histogram2d"
           }
          ],
          "histogram2dcontour": [
           {
            "colorbar": {
             "outlinewidth": 1,
             "tickcolor": "rgb(36,36,36)",
             "ticks": "outside"
            },
            "colorscale": [
             [
              0,
              "#440154"
             ],
             [
              0.1111111111111111,
              "#482878"
             ],
             [
              0.2222222222222222,
              "#3e4989"
             ],
             [
              0.3333333333333333,
              "#31688e"
             ],
             [
              0.4444444444444444,
              "#26828e"
             ],
             [
              0.5555555555555556,
              "#1f9e89"
             ],
             [
              0.6666666666666666,
              "#35b779"
             ],
             [
              0.7777777777777778,
              "#6ece58"
             ],
             [
              0.8888888888888888,
              "#b5de2b"
             ],
             [
              1,
              "#fde725"
             ]
            ],
            "type": "histogram2dcontour"
           }
          ],
          "mesh3d": [
           {
            "colorbar": {
             "outlinewidth": 1,
             "tickcolor": "rgb(36,36,36)",
             "ticks": "outside"
            },
            "type": "mesh3d"
           }
          ],
          "parcoords": [
           {
            "line": {
             "colorbar": {
              "outlinewidth": 1,
              "tickcolor": "rgb(36,36,36)",
              "ticks": "outside"
             }
            },
            "type": "parcoords"
           }
          ],
          "pie": [
           {
            "automargin": true,
            "type": "pie"
           }
          ],
          "scatter": [
           {
            "fillpattern": {
             "fillmode": "overlay",
             "size": 10,
             "solidity": 0.2
            },
            "type": "scatter"
           }
          ],
          "scatter3d": [
           {
            "line": {
             "colorbar": {
              "outlinewidth": 1,
              "tickcolor": "rgb(36,36,36)",
              "ticks": "outside"
             }
            },
            "marker": {
             "colorbar": {
              "outlinewidth": 1,
              "tickcolor": "rgb(36,36,36)",
              "ticks": "outside"
             }
            },
            "type": "scatter3d"
           }
          ],
          "scattercarpet": [
           {
            "marker": {
             "colorbar": {
              "outlinewidth": 1,
              "tickcolor": "rgb(36,36,36)",
              "ticks": "outside"
             }
            },
            "type": "scattercarpet"
           }
          ],
          "scattergeo": [
           {
            "marker": {
             "colorbar": {
              "outlinewidth": 1,
              "tickcolor": "rgb(36,36,36)",
              "ticks": "outside"
             }
            },
            "type": "scattergeo"
           }
          ],
          "scattergl": [
           {
            "marker": {
             "colorbar": {
              "outlinewidth": 1,
              "tickcolor": "rgb(36,36,36)",
              "ticks": "outside"
             }
            },
            "type": "scattergl"
           }
          ],
          "scattermapbox": [
           {
            "marker": {
             "colorbar": {
              "outlinewidth": 1,
              "tickcolor": "rgb(36,36,36)",
              "ticks": "outside"
             }
            },
            "type": "scattermapbox"
           }
          ],
          "scatterpolar": [
           {
            "marker": {
             "colorbar": {
              "outlinewidth": 1,
              "tickcolor": "rgb(36,36,36)",
              "ticks": "outside"
             }
            },
            "type": "scatterpolar"
           }
          ],
          "scatterpolargl": [
           {
            "marker": {
             "colorbar": {
              "outlinewidth": 1,
              "tickcolor": "rgb(36,36,36)",
              "ticks": "outside"
             }
            },
            "type": "scatterpolargl"
           }
          ],
          "scatterternary": [
           {
            "marker": {
             "colorbar": {
              "outlinewidth": 1,
              "tickcolor": "rgb(36,36,36)",
              "ticks": "outside"
             }
            },
            "type": "scatterternary"
           }
          ],
          "surface": [
           {
            "colorbar": {
             "outlinewidth": 1,
             "tickcolor": "rgb(36,36,36)",
             "ticks": "outside"
            },
            "colorscale": [
             [
              0,
              "#440154"
             ],
             [
              0.1111111111111111,
              "#482878"
             ],
             [
              0.2222222222222222,
              "#3e4989"
             ],
             [
              0.3333333333333333,
              "#31688e"
             ],
             [
              0.4444444444444444,
              "#26828e"
             ],
             [
              0.5555555555555556,
              "#1f9e89"
             ],
             [
              0.6666666666666666,
              "#35b779"
             ],
             [
              0.7777777777777778,
              "#6ece58"
             ],
             [
              0.8888888888888888,
              "#b5de2b"
             ],
             [
              1,
              "#fde725"
             ]
            ],
            "type": "surface"
           }
          ],
          "table": [
           {
            "cells": {
             "fill": {
              "color": "rgb(237,237,237)"
             },
             "line": {
              "color": "white"
             }
            },
            "header": {
             "fill": {
              "color": "rgb(217,217,217)"
             },
             "line": {
              "color": "white"
             }
            },
            "type": "table"
           }
          ]
         },
         "layout": {
          "annotationdefaults": {
           "arrowhead": 0,
           "arrowwidth": 1
          },
          "autotypenumbers": "strict",
          "coloraxis": {
           "colorbar": {
            "outlinewidth": 1,
            "tickcolor": "rgb(36,36,36)",
            "ticks": "outside"
           }
          },
          "colorscale": {
           "diverging": [
            [
             0,
             "rgb(103,0,31)"
            ],
            [
             0.1,
             "rgb(178,24,43)"
            ],
            [
             0.2,
             "rgb(214,96,77)"
            ],
            [
             0.3,
             "rgb(244,165,130)"
            ],
            [
             0.4,
             "rgb(253,219,199)"
            ],
            [
             0.5,
             "rgb(247,247,247)"
            ],
            [
             0.6,
             "rgb(209,229,240)"
            ],
            [
             0.7,
             "rgb(146,197,222)"
            ],
            [
             0.8,
             "rgb(67,147,195)"
            ],
            [
             0.9,
             "rgb(33,102,172)"
            ],
            [
             1,
             "rgb(5,48,97)"
            ]
           ],
           "sequential": [
            [
             0,
             "#440154"
            ],
            [
             0.1111111111111111,
             "#482878"
            ],
            [
             0.2222222222222222,
             "#3e4989"
            ],
            [
             0.3333333333333333,
             "#31688e"
            ],
            [
             0.4444444444444444,
             "#26828e"
            ],
            [
             0.5555555555555556,
             "#1f9e89"
            ],
            [
             0.6666666666666666,
             "#35b779"
            ],
            [
             0.7777777777777778,
             "#6ece58"
            ],
            [
             0.8888888888888888,
             "#b5de2b"
            ],
            [
             1,
             "#fde725"
            ]
           ],
           "sequentialminus": [
            [
             0,
             "#440154"
            ],
            [
             0.1111111111111111,
             "#482878"
            ],
            [
             0.2222222222222222,
             "#3e4989"
            ],
            [
             0.3333333333333333,
             "#31688e"
            ],
            [
             0.4444444444444444,
             "#26828e"
            ],
            [
             0.5555555555555556,
             "#1f9e89"
            ],
            [
             0.6666666666666666,
             "#35b779"
            ],
            [
             0.7777777777777778,
             "#6ece58"
            ],
            [
             0.8888888888888888,
             "#b5de2b"
            ],
            [
             1,
             "#fde725"
            ]
           ]
          },
          "colorway": [
           "#1F77B4",
           "#FF7F0E",
           "#2CA02C",
           "#D62728",
           "#9467BD",
           "#8C564B",
           "#E377C2",
           "#7F7F7F",
           "#BCBD22",
           "#17BECF"
          ],
          "font": {
           "color": "rgb(36,36,36)"
          },
          "geo": {
           "bgcolor": "white",
           "lakecolor": "white",
           "landcolor": "white",
           "showlakes": true,
           "showland": true,
           "subunitcolor": "white"
          },
          "hoverlabel": {
           "align": "left"
          },
          "hovermode": "closest",
          "mapbox": {
           "style": "light"
          },
          "paper_bgcolor": "white",
          "plot_bgcolor": "white",
          "polar": {
           "angularaxis": {
            "gridcolor": "rgb(232,232,232)",
            "linecolor": "rgb(36,36,36)",
            "showgrid": false,
            "showline": true,
            "ticks": "outside"
           },
           "bgcolor": "white",
           "radialaxis": {
            "gridcolor": "rgb(232,232,232)",
            "linecolor": "rgb(36,36,36)",
            "showgrid": false,
            "showline": true,
            "ticks": "outside"
           }
          },
          "scene": {
           "xaxis": {
            "backgroundcolor": "white",
            "gridcolor": "rgb(232,232,232)",
            "gridwidth": 2,
            "linecolor": "rgb(36,36,36)",
            "showbackground": true,
            "showgrid": false,
            "showline": true,
            "ticks": "outside",
            "zeroline": false,
            "zerolinecolor": "rgb(36,36,36)"
           },
           "yaxis": {
            "backgroundcolor": "white",
            "gridcolor": "rgb(232,232,232)",
            "gridwidth": 2,
            "linecolor": "rgb(36,36,36)",
            "showbackground": true,
            "showgrid": false,
            "showline": true,
            "ticks": "outside",
            "zeroline": false,
            "zerolinecolor": "rgb(36,36,36)"
           },
           "zaxis": {
            "backgroundcolor": "white",
            "gridcolor": "rgb(232,232,232)",
            "gridwidth": 2,
            "linecolor": "rgb(36,36,36)",
            "showbackground": true,
            "showgrid": false,
            "showline": true,
            "ticks": "outside",
            "zeroline": false,
            "zerolinecolor": "rgb(36,36,36)"
           }
          },
          "shapedefaults": {
           "fillcolor": "black",
           "line": {
            "width": 0
           },
           "opacity": 0.3
          },
          "ternary": {
           "aaxis": {
            "gridcolor": "rgb(232,232,232)",
            "linecolor": "rgb(36,36,36)",
            "showgrid": false,
            "showline": true,
            "ticks": "outside"
           },
           "baxis": {
            "gridcolor": "rgb(232,232,232)",
            "linecolor": "rgb(36,36,36)",
            "showgrid": false,
            "showline": true,
            "ticks": "outside"
           },
           "bgcolor": "white",
           "caxis": {
            "gridcolor": "rgb(232,232,232)",
            "linecolor": "rgb(36,36,36)",
            "showgrid": false,
            "showline": true,
            "ticks": "outside"
           }
          },
          "title": {
           "x": 0.05
          },
          "xaxis": {
           "automargin": true,
           "gridcolor": "rgb(232,232,232)",
           "linecolor": "rgb(36,36,36)",
           "showgrid": false,
           "showline": true,
           "ticks": "outside",
           "title": {
            "standoff": 15
           },
           "zeroline": false,
           "zerolinecolor": "rgb(36,36,36)"
          },
          "yaxis": {
           "automargin": true,
           "gridcolor": "rgb(232,232,232)",
           "linecolor": "rgb(36,36,36)",
           "showgrid": false,
           "showline": true,
           "ticks": "outside",
           "title": {
            "standoff": 15
           },
           "zeroline": false,
           "zerolinecolor": "rgb(36,36,36)"
          }
         }
        },
        "title": {
         "text": "Time Series | Target = PIB"
        },
        "width": 1000,
        "xaxis": {
         "anchor": "y",
         "domain": [
          0,
          1
         ]
        },
        "yaxis": {
         "anchor": "x",
         "domain": [
          0,
          1
         ]
        }
       }
      }
     },
     "metadata": {},
     "output_type": "display_data"
    }
   ],
   "source": [
    "exp.plot_model(plot=\"ts\",fig_kwargs = {\"height\":500,\"width\":1000,\"template\": \"simple_white\",\"hoverinfo\":\"none\",\"big_data_threshold\":115})"
   ]
  },
  {
   "cell_type": "markdown",
   "metadata": {},
   "source": [
    "## Checking Train-Test Split"
   ]
  },
  {
   "cell_type": "code",
   "execution_count": 12,
   "metadata": {},
   "outputs": [
    {
     "data": {
      "application/vnd.plotly.v1+json": {
       "config": {
        "plotlyServerURL": "https://plot.ly"
       },
       "data": [
        {
         "hoverinfo": "none",
         "line": {
          "width": 2
         },
         "marker": {
          "size": 5
         },
         "mode": "lines+markers",
         "name": "Train (original)",
         "type": "scattergl",
         "x": [
          "1996-01-01T00:00:00",
          "1996-04-01T00:00:00",
          "1996-07-01T00:00:00",
          "1996-10-01T00:00:00",
          "1997-01-01T00:00:00",
          "1997-04-01T00:00:00",
          "1997-07-01T00:00:00",
          "1997-10-01T00:00:00",
          "1998-01-01T00:00:00",
          "1998-04-01T00:00:00",
          "1998-07-01T00:00:00",
          "1998-10-01T00:00:00",
          "1999-01-01T00:00:00",
          "1999-04-01T00:00:00",
          "1999-07-01T00:00:00",
          "1999-10-01T00:00:00",
          "2000-01-01T00:00:00",
          "2000-04-01T00:00:00",
          "2000-07-01T00:00:00",
          "2000-10-01T00:00:00",
          "2001-01-01T00:00:00",
          "2001-04-01T00:00:00",
          "2001-07-01T00:00:00",
          "2001-10-01T00:00:00",
          "2002-01-01T00:00:00",
          "2002-04-01T00:00:00",
          "2002-07-01T00:00:00",
          "2002-10-01T00:00:00",
          "2003-01-01T00:00:00",
          "2003-04-01T00:00:00",
          "2003-07-01T00:00:00",
          "2003-10-01T00:00:00",
          "2004-01-01T00:00:00",
          "2004-04-01T00:00:00",
          "2004-07-01T00:00:00",
          "2004-10-01T00:00:00",
          "2005-01-01T00:00:00",
          "2005-04-01T00:00:00",
          "2005-07-01T00:00:00",
          "2005-10-01T00:00:00",
          "2006-01-01T00:00:00",
          "2006-04-01T00:00:00",
          "2006-07-01T00:00:00",
          "2006-10-01T00:00:00",
          "2007-01-01T00:00:00",
          "2007-04-01T00:00:00",
          "2007-07-01T00:00:00",
          "2007-10-01T00:00:00",
          "2008-01-01T00:00:00",
          "2008-04-01T00:00:00",
          "2008-07-01T00:00:00",
          "2008-10-01T00:00:00",
          "2009-01-01T00:00:00",
          "2009-04-01T00:00:00",
          "2009-07-01T00:00:00",
          "2009-10-01T00:00:00",
          "2010-01-01T00:00:00",
          "2010-04-01T00:00:00",
          "2010-07-01T00:00:00",
          "2010-10-01T00:00:00",
          "2011-01-01T00:00:00",
          "2011-04-01T00:00:00",
          "2011-07-01T00:00:00",
          "2011-10-01T00:00:00",
          "2012-01-01T00:00:00",
          "2012-04-01T00:00:00",
          "2012-07-01T00:00:00",
          "2012-10-01T00:00:00",
          "2013-01-01T00:00:00",
          "2013-04-01T00:00:00",
          "2013-07-01T00:00:00",
          "2013-10-01T00:00:00",
          "2014-01-01T00:00:00",
          "2014-04-01T00:00:00",
          "2014-07-01T00:00:00",
          "2014-10-01T00:00:00",
          "2015-01-01T00:00:00",
          "2015-04-01T00:00:00",
          "2015-07-01T00:00:00",
          "2015-10-01T00:00:00",
          "2016-01-01T00:00:00",
          "2016-04-01T00:00:00",
          "2016-07-01T00:00:00",
          "2016-10-01T00:00:00",
          "2017-01-01T00:00:00",
          "2017-04-01T00:00:00",
          "2017-07-01T00:00:00",
          "2017-10-01T00:00:00",
          "2018-01-01T00:00:00",
          "2018-04-01T00:00:00",
          "2018-07-01T00:00:00",
          "2018-10-01T00:00:00",
          "2019-01-01T00:00:00",
          "2019-04-01T00:00:00",
          "2019-07-01T00:00:00",
          "2019-10-01T00:00:00",
          "2020-01-01T00:00:00",
          "2020-04-01T00:00:00",
          "2020-07-01T00:00:00",
          "2020-10-01T00:00:00",
          "2021-01-01T00:00:00",
          "2021-04-01T00:00:00",
          "2021-07-01T00:00:00",
          "2021-10-01T00:00:00",
          "2022-01-01T00:00:00",
          "2022-04-01T00:00:00",
          "2022-07-01T00:00:00",
          "2022-10-01T00:00:00",
          "2023-01-01T00:00:00",
          "2023-04-01T00:00:00",
          "2023-07-01T00:00:00",
          "2023-10-01T00:00:00"
         ],
         "xaxis": "x",
         "y": [
          189323,
          204611,
          221513,
          239316,
          219117,
          232890,
          246178,
          253904,
          235701,
          251936,
          258043,
          256671,
          250668,
          268709,
          274126,
          294208,
          276927,
          292789,
          308896,
          320481,
          312470,
          323724,
          332524,
          347038,
          342297,
          367363,
          379795,
          399333,
          397242,
          418987,
          439350,
          462372,
          444783,
          481795,
          505252,
          525920,
          499710,
          535557,
          552859,
          582458,
          554270,
          581977,
          617848,
          655355,
          631423,
          670655,
          691846,
          726339,
          712055,
          769525,
          812603,
          815620,
          756127,
          803577,
          852843,
          920492,
          886397,
          944145,
          997935,
          1057370,
          1016531,
          1086712,
          1112334,
          1160805,
          1129474,
          1183126,
          1230449,
          1271711,
          1241614,
          1322580,
          1354134,
          1413291,
          1385981,
          1422322,
          1462125,
          1508525,
          1456659,
          1479970,
          1508228,
          1550930,
          1500299,
          1559050,
          1577170,
          1632808,
          1585673,
          1630730,
          1648635,
          1720441,
          1682083,
          1734099,
          1767856,
          1820103,
          1757554,
          1826761,
          1880610,
          1924206,
          1868095,
          1752724,
          1929323,
          2059455,
          2156670,
          2203639,
          2295851,
          2355982,
          2319528,
          2517481,
          2601182,
          2641485,
          2582706,
          2701105,
          2740961,
          null
         ],
         "yaxis": "y"
        },
        {
         "hoverinfo": "none",
         "line": {
          "width": 2
         },
         "marker": {
          "size": 5
         },
         "mode": "lines+markers",
         "name": "Test (original)",
         "type": "scattergl",
         "x": [
          "1996-01-01T00:00:00",
          "1996-04-01T00:00:00",
          "1996-07-01T00:00:00",
          "1996-10-01T00:00:00",
          "1997-01-01T00:00:00",
          "1997-04-01T00:00:00",
          "1997-07-01T00:00:00",
          "1997-10-01T00:00:00",
          "1998-01-01T00:00:00",
          "1998-04-01T00:00:00",
          "1998-07-01T00:00:00",
          "1998-10-01T00:00:00",
          "1999-01-01T00:00:00",
          "1999-04-01T00:00:00",
          "1999-07-01T00:00:00",
          "1999-10-01T00:00:00",
          "2000-01-01T00:00:00",
          "2000-04-01T00:00:00",
          "2000-07-01T00:00:00",
          "2000-10-01T00:00:00",
          "2001-01-01T00:00:00",
          "2001-04-01T00:00:00",
          "2001-07-01T00:00:00",
          "2001-10-01T00:00:00",
          "2002-01-01T00:00:00",
          "2002-04-01T00:00:00",
          "2002-07-01T00:00:00",
          "2002-10-01T00:00:00",
          "2003-01-01T00:00:00",
          "2003-04-01T00:00:00",
          "2003-07-01T00:00:00",
          "2003-10-01T00:00:00",
          "2004-01-01T00:00:00",
          "2004-04-01T00:00:00",
          "2004-07-01T00:00:00",
          "2004-10-01T00:00:00",
          "2005-01-01T00:00:00",
          "2005-04-01T00:00:00",
          "2005-07-01T00:00:00",
          "2005-10-01T00:00:00",
          "2006-01-01T00:00:00",
          "2006-04-01T00:00:00",
          "2006-07-01T00:00:00",
          "2006-10-01T00:00:00",
          "2007-01-01T00:00:00",
          "2007-04-01T00:00:00",
          "2007-07-01T00:00:00",
          "2007-10-01T00:00:00",
          "2008-01-01T00:00:00",
          "2008-04-01T00:00:00",
          "2008-07-01T00:00:00",
          "2008-10-01T00:00:00",
          "2009-01-01T00:00:00",
          "2009-04-01T00:00:00",
          "2009-07-01T00:00:00",
          "2009-10-01T00:00:00",
          "2010-01-01T00:00:00",
          "2010-04-01T00:00:00",
          "2010-07-01T00:00:00",
          "2010-10-01T00:00:00",
          "2011-01-01T00:00:00",
          "2011-04-01T00:00:00",
          "2011-07-01T00:00:00",
          "2011-10-01T00:00:00",
          "2012-01-01T00:00:00",
          "2012-04-01T00:00:00",
          "2012-07-01T00:00:00",
          "2012-10-01T00:00:00",
          "2013-01-01T00:00:00",
          "2013-04-01T00:00:00",
          "2013-07-01T00:00:00",
          "2013-10-01T00:00:00",
          "2014-01-01T00:00:00",
          "2014-04-01T00:00:00",
          "2014-07-01T00:00:00",
          "2014-10-01T00:00:00",
          "2015-01-01T00:00:00",
          "2015-04-01T00:00:00",
          "2015-07-01T00:00:00",
          "2015-10-01T00:00:00",
          "2016-01-01T00:00:00",
          "2016-04-01T00:00:00",
          "2016-07-01T00:00:00",
          "2016-10-01T00:00:00",
          "2017-01-01T00:00:00",
          "2017-04-01T00:00:00",
          "2017-07-01T00:00:00",
          "2017-10-01T00:00:00",
          "2018-01-01T00:00:00",
          "2018-04-01T00:00:00",
          "2018-07-01T00:00:00",
          "2018-10-01T00:00:00",
          "2019-01-01T00:00:00",
          "2019-04-01T00:00:00",
          "2019-07-01T00:00:00",
          "2019-10-01T00:00:00",
          "2020-01-01T00:00:00",
          "2020-04-01T00:00:00",
          "2020-07-01T00:00:00",
          "2020-10-01T00:00:00",
          "2021-01-01T00:00:00",
          "2021-04-01T00:00:00",
          "2021-07-01T00:00:00",
          "2021-10-01T00:00:00",
          "2022-01-01T00:00:00",
          "2022-04-01T00:00:00",
          "2022-07-01T00:00:00",
          "2022-10-01T00:00:00",
          "2023-01-01T00:00:00",
          "2023-04-01T00:00:00",
          "2023-07-01T00:00:00",
          "2023-10-01T00:00:00"
         ],
         "xaxis": "x",
         "y": [
          null,
          null,
          null,
          null,
          null,
          null,
          null,
          null,
          null,
          null,
          null,
          null,
          null,
          null,
          null,
          null,
          null,
          null,
          null,
          null,
          null,
          null,
          null,
          null,
          null,
          null,
          null,
          null,
          null,
          null,
          null,
          null,
          null,
          null,
          null,
          null,
          null,
          null,
          null,
          null,
          null,
          null,
          null,
          null,
          null,
          null,
          null,
          null,
          null,
          null,
          null,
          null,
          null,
          null,
          null,
          null,
          null,
          null,
          null,
          null,
          null,
          null,
          null,
          null,
          null,
          null,
          null,
          null,
          null,
          null,
          null,
          null,
          null,
          null,
          null,
          null,
          null,
          null,
          null,
          null,
          null,
          null,
          null,
          null,
          null,
          null,
          null,
          null,
          null,
          null,
          null,
          null,
          null,
          null,
          null,
          null,
          null,
          null,
          null,
          null,
          null,
          null,
          null,
          null,
          null,
          null,
          null,
          null,
          null,
          null,
          null,
          2831340
         ],
         "yaxis": "y"
        }
       ],
       "layout": {
        "annotations": [
         {
          "font": {
           "size": 16
          },
          "showarrow": false,
          "text": "PIB",
          "x": 0.5,
          "xanchor": "center",
          "xref": "paper",
          "y": 1,
          "yanchor": "bottom",
          "yref": "paper"
         }
        ],
        "autosize": false,
        "height": 500,
        "showlegend": true,
        "template": {
         "data": {
          "bar": [
           {
            "error_x": {
             "color": "rgb(36,36,36)"
            },
            "error_y": {
             "color": "rgb(36,36,36)"
            },
            "marker": {
             "line": {
              "color": "white",
              "width": 0.5
             },
             "pattern": {
              "fillmode": "overlay",
              "size": 10,
              "solidity": 0.2
             }
            },
            "type": "bar"
           }
          ],
          "barpolar": [
           {
            "marker": {
             "line": {
              "color": "white",
              "width": 0.5
             },
             "pattern": {
              "fillmode": "overlay",
              "size": 10,
              "solidity": 0.2
             }
            },
            "type": "barpolar"
           }
          ],
          "carpet": [
           {
            "aaxis": {
             "endlinecolor": "rgb(36,36,36)",
             "gridcolor": "white",
             "linecolor": "white",
             "minorgridcolor": "white",
             "startlinecolor": "rgb(36,36,36)"
            },
            "baxis": {
             "endlinecolor": "rgb(36,36,36)",
             "gridcolor": "white",
             "linecolor": "white",
             "minorgridcolor": "white",
             "startlinecolor": "rgb(36,36,36)"
            },
            "type": "carpet"
           }
          ],
          "choropleth": [
           {
            "colorbar": {
             "outlinewidth": 1,
             "tickcolor": "rgb(36,36,36)",
             "ticks": "outside"
            },
            "type": "choropleth"
           }
          ],
          "contour": [
           {
            "colorbar": {
             "outlinewidth": 1,
             "tickcolor": "rgb(36,36,36)",
             "ticks": "outside"
            },
            "colorscale": [
             [
              0,
              "#440154"
             ],
             [
              0.1111111111111111,
              "#482878"
             ],
             [
              0.2222222222222222,
              "#3e4989"
             ],
             [
              0.3333333333333333,
              "#31688e"
             ],
             [
              0.4444444444444444,
              "#26828e"
             ],
             [
              0.5555555555555556,
              "#1f9e89"
             ],
             [
              0.6666666666666666,
              "#35b779"
             ],
             [
              0.7777777777777778,
              "#6ece58"
             ],
             [
              0.8888888888888888,
              "#b5de2b"
             ],
             [
              1,
              "#fde725"
             ]
            ],
            "type": "contour"
           }
          ],
          "contourcarpet": [
           {
            "colorbar": {
             "outlinewidth": 1,
             "tickcolor": "rgb(36,36,36)",
             "ticks": "outside"
            },
            "type": "contourcarpet"
           }
          ],
          "heatmap": [
           {
            "colorbar": {
             "outlinewidth": 1,
             "tickcolor": "rgb(36,36,36)",
             "ticks": "outside"
            },
            "colorscale": [
             [
              0,
              "#440154"
             ],
             [
              0.1111111111111111,
              "#482878"
             ],
             [
              0.2222222222222222,
              "#3e4989"
             ],
             [
              0.3333333333333333,
              "#31688e"
             ],
             [
              0.4444444444444444,
              "#26828e"
             ],
             [
              0.5555555555555556,
              "#1f9e89"
             ],
             [
              0.6666666666666666,
              "#35b779"
             ],
             [
              0.7777777777777778,
              "#6ece58"
             ],
             [
              0.8888888888888888,
              "#b5de2b"
             ],
             [
              1,
              "#fde725"
             ]
            ],
            "type": "heatmap"
           }
          ],
          "heatmapgl": [
           {
            "colorbar": {
             "outlinewidth": 1,
             "tickcolor": "rgb(36,36,36)",
             "ticks": "outside"
            },
            "colorscale": [
             [
              0,
              "#440154"
             ],
             [
              0.1111111111111111,
              "#482878"
             ],
             [
              0.2222222222222222,
              "#3e4989"
             ],
             [
              0.3333333333333333,
              "#31688e"
             ],
             [
              0.4444444444444444,
              "#26828e"
             ],
             [
              0.5555555555555556,
              "#1f9e89"
             ],
             [
              0.6666666666666666,
              "#35b779"
             ],
             [
              0.7777777777777778,
              "#6ece58"
             ],
             [
              0.8888888888888888,
              "#b5de2b"
             ],
             [
              1,
              "#fde725"
             ]
            ],
            "type": "heatmapgl"
           }
          ],
          "histogram": [
           {
            "marker": {
             "line": {
              "color": "white",
              "width": 0.6
             }
            },
            "type": "histogram"
           }
          ],
          "histogram2d": [
           {
            "colorbar": {
             "outlinewidth": 1,
             "tickcolor": "rgb(36,36,36)",
             "ticks": "outside"
            },
            "colorscale": [
             [
              0,
              "#440154"
             ],
             [
              0.1111111111111111,
              "#482878"
             ],
             [
              0.2222222222222222,
              "#3e4989"
             ],
             [
              0.3333333333333333,
              "#31688e"
             ],
             [
              0.4444444444444444,
              "#26828e"
             ],
             [
              0.5555555555555556,
              "#1f9e89"
             ],
             [
              0.6666666666666666,
              "#35b779"
             ],
             [
              0.7777777777777778,
              "#6ece58"
             ],
             [
              0.8888888888888888,
              "#b5de2b"
             ],
             [
              1,
              "#fde725"
             ]
            ],
            "type": "histogram2d"
           }
          ],
          "histogram2dcontour": [
           {
            "colorbar": {
             "outlinewidth": 1,
             "tickcolor": "rgb(36,36,36)",
             "ticks": "outside"
            },
            "colorscale": [
             [
              0,
              "#440154"
             ],
             [
              0.1111111111111111,
              "#482878"
             ],
             [
              0.2222222222222222,
              "#3e4989"
             ],
             [
              0.3333333333333333,
              "#31688e"
             ],
             [
              0.4444444444444444,
              "#26828e"
             ],
             [
              0.5555555555555556,
              "#1f9e89"
             ],
             [
              0.6666666666666666,
              "#35b779"
             ],
             [
              0.7777777777777778,
              "#6ece58"
             ],
             [
              0.8888888888888888,
              "#b5de2b"
             ],
             [
              1,
              "#fde725"
             ]
            ],
            "type": "histogram2dcontour"
           }
          ],
          "mesh3d": [
           {
            "colorbar": {
             "outlinewidth": 1,
             "tickcolor": "rgb(36,36,36)",
             "ticks": "outside"
            },
            "type": "mesh3d"
           }
          ],
          "parcoords": [
           {
            "line": {
             "colorbar": {
              "outlinewidth": 1,
              "tickcolor": "rgb(36,36,36)",
              "ticks": "outside"
             }
            },
            "type": "parcoords"
           }
          ],
          "pie": [
           {
            "automargin": true,
            "type": "pie"
           }
          ],
          "scatter": [
           {
            "fillpattern": {
             "fillmode": "overlay",
             "size": 10,
             "solidity": 0.2
            },
            "type": "scatter"
           }
          ],
          "scatter3d": [
           {
            "line": {
             "colorbar": {
              "outlinewidth": 1,
              "tickcolor": "rgb(36,36,36)",
              "ticks": "outside"
             }
            },
            "marker": {
             "colorbar": {
              "outlinewidth": 1,
              "tickcolor": "rgb(36,36,36)",
              "ticks": "outside"
             }
            },
            "type": "scatter3d"
           }
          ],
          "scattercarpet": [
           {
            "marker": {
             "colorbar": {
              "outlinewidth": 1,
              "tickcolor": "rgb(36,36,36)",
              "ticks": "outside"
             }
            },
            "type": "scattercarpet"
           }
          ],
          "scattergeo": [
           {
            "marker": {
             "colorbar": {
              "outlinewidth": 1,
              "tickcolor": "rgb(36,36,36)",
              "ticks": "outside"
             }
            },
            "type": "scattergeo"
           }
          ],
          "scattergl": [
           {
            "marker": {
             "colorbar": {
              "outlinewidth": 1,
              "tickcolor": "rgb(36,36,36)",
              "ticks": "outside"
             }
            },
            "type": "scattergl"
           }
          ],
          "scattermapbox": [
           {
            "marker": {
             "colorbar": {
              "outlinewidth": 1,
              "tickcolor": "rgb(36,36,36)",
              "ticks": "outside"
             }
            },
            "type": "scattermapbox"
           }
          ],
          "scatterpolar": [
           {
            "marker": {
             "colorbar": {
              "outlinewidth": 1,
              "tickcolor": "rgb(36,36,36)",
              "ticks": "outside"
             }
            },
            "type": "scatterpolar"
           }
          ],
          "scatterpolargl": [
           {
            "marker": {
             "colorbar": {
              "outlinewidth": 1,
              "tickcolor": "rgb(36,36,36)",
              "ticks": "outside"
             }
            },
            "type": "scatterpolargl"
           }
          ],
          "scatterternary": [
           {
            "marker": {
             "colorbar": {
              "outlinewidth": 1,
              "tickcolor": "rgb(36,36,36)",
              "ticks": "outside"
             }
            },
            "type": "scatterternary"
           }
          ],
          "surface": [
           {
            "colorbar": {
             "outlinewidth": 1,
             "tickcolor": "rgb(36,36,36)",
             "ticks": "outside"
            },
            "colorscale": [
             [
              0,
              "#440154"
             ],
             [
              0.1111111111111111,
              "#482878"
             ],
             [
              0.2222222222222222,
              "#3e4989"
             ],
             [
              0.3333333333333333,
              "#31688e"
             ],
             [
              0.4444444444444444,
              "#26828e"
             ],
             [
              0.5555555555555556,
              "#1f9e89"
             ],
             [
              0.6666666666666666,
              "#35b779"
             ],
             [
              0.7777777777777778,
              "#6ece58"
             ],
             [
              0.8888888888888888,
              "#b5de2b"
             ],
             [
              1,
              "#fde725"
             ]
            ],
            "type": "surface"
           }
          ],
          "table": [
           {
            "cells": {
             "fill": {
              "color": "rgb(237,237,237)"
             },
             "line": {
              "color": "white"
             }
            },
            "header": {
             "fill": {
              "color": "rgb(217,217,217)"
             },
             "line": {
              "color": "white"
             }
            },
            "type": "table"
           }
          ]
         },
         "layout": {
          "annotationdefaults": {
           "arrowhead": 0,
           "arrowwidth": 1
          },
          "autotypenumbers": "strict",
          "coloraxis": {
           "colorbar": {
            "outlinewidth": 1,
            "tickcolor": "rgb(36,36,36)",
            "ticks": "outside"
           }
          },
          "colorscale": {
           "diverging": [
            [
             0,
             "rgb(103,0,31)"
            ],
            [
             0.1,
             "rgb(178,24,43)"
            ],
            [
             0.2,
             "rgb(214,96,77)"
            ],
            [
             0.3,
             "rgb(244,165,130)"
            ],
            [
             0.4,
             "rgb(253,219,199)"
            ],
            [
             0.5,
             "rgb(247,247,247)"
            ],
            [
             0.6,
             "rgb(209,229,240)"
            ],
            [
             0.7,
             "rgb(146,197,222)"
            ],
            [
             0.8,
             "rgb(67,147,195)"
            ],
            [
             0.9,
             "rgb(33,102,172)"
            ],
            [
             1,
             "rgb(5,48,97)"
            ]
           ],
           "sequential": [
            [
             0,
             "#440154"
            ],
            [
             0.1111111111111111,
             "#482878"
            ],
            [
             0.2222222222222222,
             "#3e4989"
            ],
            [
             0.3333333333333333,
             "#31688e"
            ],
            [
             0.4444444444444444,
             "#26828e"
            ],
            [
             0.5555555555555556,
             "#1f9e89"
            ],
            [
             0.6666666666666666,
             "#35b779"
            ],
            [
             0.7777777777777778,
             "#6ece58"
            ],
            [
             0.8888888888888888,
             "#b5de2b"
            ],
            [
             1,
             "#fde725"
            ]
           ],
           "sequentialminus": [
            [
             0,
             "#440154"
            ],
            [
             0.1111111111111111,
             "#482878"
            ],
            [
             0.2222222222222222,
             "#3e4989"
            ],
            [
             0.3333333333333333,
             "#31688e"
            ],
            [
             0.4444444444444444,
             "#26828e"
            ],
            [
             0.5555555555555556,
             "#1f9e89"
            ],
            [
             0.6666666666666666,
             "#35b779"
            ],
            [
             0.7777777777777778,
             "#6ece58"
            ],
            [
             0.8888888888888888,
             "#b5de2b"
            ],
            [
             1,
             "#fde725"
            ]
           ]
          },
          "colorway": [
           "#1F77B4",
           "#FF7F0E",
           "#2CA02C",
           "#D62728",
           "#9467BD",
           "#8C564B",
           "#E377C2",
           "#7F7F7F",
           "#BCBD22",
           "#17BECF"
          ],
          "font": {
           "color": "rgb(36,36,36)"
          },
          "geo": {
           "bgcolor": "white",
           "lakecolor": "white",
           "landcolor": "white",
           "showlakes": true,
           "showland": true,
           "subunitcolor": "white"
          },
          "hoverlabel": {
           "align": "left"
          },
          "hovermode": "closest",
          "mapbox": {
           "style": "light"
          },
          "paper_bgcolor": "white",
          "plot_bgcolor": "white",
          "polar": {
           "angularaxis": {
            "gridcolor": "rgb(232,232,232)",
            "linecolor": "rgb(36,36,36)",
            "showgrid": false,
            "showline": true,
            "ticks": "outside"
           },
           "bgcolor": "white",
           "radialaxis": {
            "gridcolor": "rgb(232,232,232)",
            "linecolor": "rgb(36,36,36)",
            "showgrid": false,
            "showline": true,
            "ticks": "outside"
           }
          },
          "scene": {
           "xaxis": {
            "backgroundcolor": "white",
            "gridcolor": "rgb(232,232,232)",
            "gridwidth": 2,
            "linecolor": "rgb(36,36,36)",
            "showbackground": true,
            "showgrid": false,
            "showline": true,
            "ticks": "outside",
            "zeroline": false,
            "zerolinecolor": "rgb(36,36,36)"
           },
           "yaxis": {
            "backgroundcolor": "white",
            "gridcolor": "rgb(232,232,232)",
            "gridwidth": 2,
            "linecolor": "rgb(36,36,36)",
            "showbackground": true,
            "showgrid": false,
            "showline": true,
            "ticks": "outside",
            "zeroline": false,
            "zerolinecolor": "rgb(36,36,36)"
           },
           "zaxis": {
            "backgroundcolor": "white",
            "gridcolor": "rgb(232,232,232)",
            "gridwidth": 2,
            "linecolor": "rgb(36,36,36)",
            "showbackground": true,
            "showgrid": false,
            "showline": true,
            "ticks": "outside",
            "zeroline": false,
            "zerolinecolor": "rgb(36,36,36)"
           }
          },
          "shapedefaults": {
           "fillcolor": "black",
           "line": {
            "width": 0
           },
           "opacity": 0.3
          },
          "ternary": {
           "aaxis": {
            "gridcolor": "rgb(232,232,232)",
            "linecolor": "rgb(36,36,36)",
            "showgrid": false,
            "showline": true,
            "ticks": "outside"
           },
           "baxis": {
            "gridcolor": "rgb(232,232,232)",
            "linecolor": "rgb(36,36,36)",
            "showgrid": false,
            "showline": true,
            "ticks": "outside"
           },
           "bgcolor": "white",
           "caxis": {
            "gridcolor": "rgb(232,232,232)",
            "linecolor": "rgb(36,36,36)",
            "showgrid": false,
            "showline": true,
            "ticks": "outside"
           }
          },
          "title": {
           "x": 0.05
          },
          "xaxis": {
           "automargin": true,
           "gridcolor": "rgb(232,232,232)",
           "linecolor": "rgb(36,36,36)",
           "showgrid": false,
           "showline": true,
           "ticks": "outside",
           "title": {
            "standoff": 15
           },
           "zeroline": false,
           "zerolinecolor": "rgb(36,36,36)"
          },
          "yaxis": {
           "automargin": true,
           "gridcolor": "rgb(232,232,232)",
           "linecolor": "rgb(36,36,36)",
           "showgrid": false,
           "showline": true,
           "ticks": "outside",
           "title": {
            "standoff": 15
           },
           "zeroline": false,
           "zerolinecolor": "rgb(36,36,36)"
          }
         }
        },
        "title": {
         "text": "Time Series | Target = PIB"
        },
        "width": 1000,
        "xaxis": {
         "anchor": "y",
         "domain": [
          0,
          1
         ]
        },
        "yaxis": {
         "anchor": "x",
         "domain": [
          0,
          1
         ]
        }
       }
      }
     },
     "metadata": {},
     "output_type": "display_data"
    }
   ],
   "source": [
    "exp.plot_model(plot=\"train_test_split\",fig_kwargs = {\"height\":500,\"width\":1000,\"template\": \"simple_white\",\"hoverinfo\":\"none\",\"big_data_threshold\":115})"
   ]
  },
  {
   "cell_type": "markdown",
   "metadata": {},
   "source": [
    "## Comparing Models\n",
    "\n",
    "The most basic assumption of time series forecasting is that past patterns continue into the future. \n",
    "Based on this assumption, in the short-term future forecast, since the environment in which the data is generated is similar to the present, \n",
    "the uncertainty is small and the forecast can be well-predicted. However, as we move towards long-term future forecasting, the possibility of the environment in which data is generated is likely to change, and unpredictable situations occur, and as errors continue to accumulate, uncertainty about the forecast data is bound to increase.\n",
    "\n",
    "We compare the performance of various models and try to select the 4 models with the best performance."
   ]
  },
  {
   "cell_type": "code",
   "execution_count": 13,
   "metadata": {},
   "outputs": [
    {
     "data": {
      "text/html": [],
      "text/plain": [
       "<IPython.core.display.HTML object>"
      ]
     },
     "metadata": {},
     "output_type": "display_data"
    },
    {
     "data": {
      "text/html": [],
      "text/plain": [
       "<IPython.core.display.HTML object>"
      ]
     },
     "metadata": {},
     "output_type": "display_data"
    },
    {
     "data": {
      "text/html": [],
      "text/plain": [
       "<IPython.core.display.HTML object>"
      ]
     },
     "metadata": {},
     "output_type": "display_data"
    }
   ],
   "source": [
    "top4 = exp.compare_models(n_select = 4)"
   ]
  },
  {
   "cell_type": "markdown",
   "metadata": {},
   "source": [
    "## Lag and Difference\n",
    "Time series data modeling is to find patterns in the process of normalizing nonstationary time series data. \n",
    "Lag and difference are the most representative methods used in the process of making a stationary time series into a stationary time series."
   ]
  },
  {
   "cell_type": "markdown",
   "metadata": {},
   "source": [
    "## Difference Plot Using Order"
   ]
  },
  {
   "cell_type": "code",
   "execution_count": 14,
   "metadata": {},
   "outputs": [
    {
     "data": {
      "application/vnd.plotly.v1+json": {
       "config": {
        "plotlyServerURL": "https://plot.ly"
       },
       "data": [
        {
         "hoverinfo": "skip",
         "line": {
          "width": 2
         },
         "marker": {
          "size": 5
         },
         "mode": "lines+markers",
         "name": "Actual",
         "showlegend": false,
         "type": "scattergl",
         "x": [
          "1996-01-01T00:00:00",
          "1996-04-01T00:00:00",
          "1996-07-01T00:00:00",
          "1996-10-01T00:00:00",
          "1997-01-01T00:00:00",
          "1997-04-01T00:00:00",
          "1997-07-01T00:00:00",
          "1997-10-01T00:00:00",
          "1998-01-01T00:00:00",
          "1998-04-01T00:00:00",
          "1998-07-01T00:00:00",
          "1998-10-01T00:00:00",
          "1999-01-01T00:00:00",
          "1999-04-01T00:00:00",
          "1999-07-01T00:00:00",
          "1999-10-01T00:00:00",
          "2000-01-01T00:00:00",
          "2000-04-01T00:00:00",
          "2000-07-01T00:00:00",
          "2000-10-01T00:00:00",
          "2001-01-01T00:00:00",
          "2001-04-01T00:00:00",
          "2001-07-01T00:00:00",
          "2001-10-01T00:00:00",
          "2002-01-01T00:00:00",
          "2002-04-01T00:00:00",
          "2002-07-01T00:00:00",
          "2002-10-01T00:00:00",
          "2003-01-01T00:00:00",
          "2003-04-01T00:00:00",
          "2003-07-01T00:00:00",
          "2003-10-01T00:00:00",
          "2004-01-01T00:00:00",
          "2004-04-01T00:00:00",
          "2004-07-01T00:00:00",
          "2004-10-01T00:00:00",
          "2005-01-01T00:00:00",
          "2005-04-01T00:00:00",
          "2005-07-01T00:00:00",
          "2005-10-01T00:00:00",
          "2006-01-01T00:00:00",
          "2006-04-01T00:00:00",
          "2006-07-01T00:00:00",
          "2006-10-01T00:00:00",
          "2007-01-01T00:00:00",
          "2007-04-01T00:00:00",
          "2007-07-01T00:00:00",
          "2007-10-01T00:00:00",
          "2008-01-01T00:00:00",
          "2008-04-01T00:00:00",
          "2008-07-01T00:00:00",
          "2008-10-01T00:00:00",
          "2009-01-01T00:00:00",
          "2009-04-01T00:00:00",
          "2009-07-01T00:00:00",
          "2009-10-01T00:00:00",
          "2010-01-01T00:00:00",
          "2010-04-01T00:00:00",
          "2010-07-01T00:00:00",
          "2010-10-01T00:00:00",
          "2011-01-01T00:00:00",
          "2011-04-01T00:00:00",
          "2011-07-01T00:00:00",
          "2011-10-01T00:00:00",
          "2012-01-01T00:00:00",
          "2012-04-01T00:00:00",
          "2012-07-01T00:00:00",
          "2012-10-01T00:00:00",
          "2013-01-01T00:00:00",
          "2013-04-01T00:00:00",
          "2013-07-01T00:00:00",
          "2013-10-01T00:00:00",
          "2014-01-01T00:00:00",
          "2014-04-01T00:00:00",
          "2014-07-01T00:00:00",
          "2014-10-01T00:00:00",
          "2015-01-01T00:00:00",
          "2015-04-01T00:00:00",
          "2015-07-01T00:00:00",
          "2015-10-01T00:00:00",
          "2016-01-01T00:00:00",
          "2016-04-01T00:00:00",
          "2016-07-01T00:00:00",
          "2016-10-01T00:00:00",
          "2017-01-01T00:00:00",
          "2017-04-01T00:00:00",
          "2017-07-01T00:00:00",
          "2017-10-01T00:00:00",
          "2018-01-01T00:00:00",
          "2018-04-01T00:00:00",
          "2018-07-01T00:00:00",
          "2018-10-01T00:00:00",
          "2019-01-01T00:00:00",
          "2019-04-01T00:00:00",
          "2019-07-01T00:00:00",
          "2019-10-01T00:00:00",
          "2020-01-01T00:00:00",
          "2020-04-01T00:00:00",
          "2020-07-01T00:00:00",
          "2020-10-01T00:00:00",
          "2021-01-01T00:00:00",
          "2021-04-01T00:00:00",
          "2021-07-01T00:00:00",
          "2021-10-01T00:00:00",
          "2022-01-01T00:00:00",
          "2022-04-01T00:00:00",
          "2022-07-01T00:00:00",
          "2022-10-01T00:00:00",
          "2023-01-01T00:00:00",
          "2023-04-01T00:00:00",
          "2023-07-01T00:00:00",
          "2023-10-01T00:00:00"
         ],
         "xaxis": "x",
         "y": [
          189323,
          204611,
          221513,
          239316,
          219117,
          232890,
          246178,
          253904,
          235701,
          251936,
          258043,
          256671,
          250668,
          268709,
          274126,
          294208,
          276927,
          292789,
          308896,
          320481,
          312470,
          323724,
          332524,
          347038,
          342297,
          367363,
          379795,
          399333,
          397242,
          418987,
          439350,
          462372,
          444783,
          481795,
          505252,
          525920,
          499710,
          535557,
          552859,
          582458,
          554270,
          581977,
          617848,
          655355,
          631423,
          670655,
          691846,
          726339,
          712055,
          769525,
          812603,
          815620,
          756127,
          803577,
          852843,
          920492,
          886397,
          944145,
          997935,
          1057370,
          1016531,
          1086712,
          1112334,
          1160805,
          1129474,
          1183126,
          1230449,
          1271711,
          1241614,
          1322580,
          1354134,
          1413291,
          1385981,
          1422322,
          1462125,
          1508525,
          1456659,
          1479970,
          1508228,
          1550930,
          1500299,
          1559050,
          1577170,
          1632808,
          1585673,
          1630730,
          1648635,
          1720441,
          1682083,
          1734099,
          1767856,
          1820103,
          1757554,
          1826761,
          1880610,
          1924206,
          1868095,
          1752724,
          1929323,
          2059455,
          2156670,
          2203639,
          2295851,
          2355982,
          2319528,
          2517481,
          2601182,
          2641485,
          2582706,
          2701105,
          2740961,
          2831340
         ],
         "yaxis": "y"
        },
        {
         "line": {
          "color": "#3f3f3f"
         },
         "mode": "lines",
         "name": "Actual",
         "showlegend": false,
         "type": "scattergl",
         "x": [
          0,
          0
         ],
         "xaxis": "x2",
         "y": [
          0,
          1
         ],
         "yaxis": "y2"
        },
        {
         "line": {
          "color": "#3f3f3f"
         },
         "mode": "lines",
         "name": "Actual",
         "showlegend": false,
         "type": "scattergl",
         "x": [
          1,
          1
         ],
         "xaxis": "x2",
         "y": [
          0,
          0.9651553008682213
         ],
         "yaxis": "y2"
        },
        {
         "line": {
          "color": "#3f3f3f"
         },
         "mode": "lines",
         "name": "Actual",
         "showlegend": false,
         "type": "scattergl",
         "x": [
          2,
          2
         ],
         "xaxis": "x2",
         "y": [
          0,
          0.9325085628385293
         ],
         "yaxis": "y2"
        },
        {
         "line": {
          "color": "#3f3f3f"
         },
         "mode": "lines",
         "name": "Actual",
         "showlegend": false,
         "type": "scattergl",
         "x": [
          3,
          3
         ],
         "xaxis": "x2",
         "y": [
          0,
          0.9003113531514567
         ],
         "yaxis": "y2"
        },
        {
         "line": {
          "color": "#3f3f3f"
         },
         "mode": "lines",
         "name": "Actual",
         "showlegend": false,
         "type": "scattergl",
         "x": [
          4,
          4
         ],
         "xaxis": "x2",
         "y": [
          0,
          0.8716163109927076
         ],
         "yaxis": "y2"
        },
        {
         "line": {
          "color": "#3f3f3f"
         },
         "mode": "lines",
         "name": "Actual",
         "showlegend": false,
         "type": "scattergl",
         "x": [
          5,
          5
         ],
         "xaxis": "x2",
         "y": [
          0,
          0.8377954739205075
         ],
         "yaxis": "y2"
        },
        {
         "line": {
          "color": "#3f3f3f"
         },
         "mode": "lines",
         "name": "Actual",
         "showlegend": false,
         "type": "scattergl",
         "x": [
          6,
          6
         ],
         "xaxis": "x2",
         "y": [
          0,
          0.8044865753015517
         ],
         "yaxis": "y2"
        },
        {
         "line": {
          "color": "#3f3f3f"
         },
         "mode": "lines",
         "name": "Actual",
         "showlegend": false,
         "type": "scattergl",
         "x": [
          7,
          7
         ],
         "xaxis": "x2",
         "y": [
          0,
          0.7726956520854702
         ],
         "yaxis": "y2"
        },
        {
         "line": {
          "color": "#3f3f3f"
         },
         "mode": "lines",
         "name": "Actual",
         "showlegend": false,
         "type": "scattergl",
         "x": [
          8,
          8
         ],
         "xaxis": "x2",
         "y": [
          0,
          0.7458301419673238
         ],
         "yaxis": "y2"
        },
        {
         "line": {
          "color": "#3f3f3f"
         },
         "mode": "lines",
         "name": "Actual",
         "showlegend": false,
         "type": "scattergl",
         "x": [
          9,
          9
         ],
         "xaxis": "x2",
         "y": [
          0,
          0.7154741818870033
         ],
         "yaxis": "y2"
        },
        {
         "line": {
          "color": "#3f3f3f"
         },
         "mode": "lines",
         "name": "Actual",
         "showlegend": false,
         "type": "scattergl",
         "x": [
          10,
          10
         ],
         "xaxis": "x2",
         "y": [
          0,
          0.686751548893276
         ],
         "yaxis": "y2"
        },
        {
         "line": {
          "color": "#3f3f3f"
         },
         "mode": "lines",
         "name": "Actual",
         "showlegend": false,
         "type": "scattergl",
         "x": [
          11,
          11
         ],
         "xaxis": "x2",
         "y": [
          0,
          0.6602280874839824
         ],
         "yaxis": "y2"
        },
        {
         "line": {
          "color": "#3f3f3f"
         },
         "mode": "lines",
         "name": "Actual",
         "showlegend": false,
         "type": "scattergl",
         "x": [
          12,
          12
         ],
         "xaxis": "x2",
         "y": [
          0,
          0.6340965049971022
         ],
         "yaxis": "y2"
        },
        {
         "line": {
          "color": "#3f3f3f"
         },
         "mode": "lines",
         "name": "Actual",
         "showlegend": false,
         "type": "scattergl",
         "x": [
          13,
          13
         ],
         "xaxis": "x2",
         "y": [
          0,
          0.6082595810133119
         ],
         "yaxis": "y2"
        },
        {
         "line": {
          "color": "#3f3f3f"
         },
         "mode": "lines",
         "name": "Actual",
         "showlegend": false,
         "type": "scattergl",
         "x": [
          14,
          14
         ],
         "xaxis": "x2",
         "y": [
          0,
          0.5861515711661472
         ],
         "yaxis": "y2"
        },
        {
         "line": {
          "color": "#3f3f3f"
         },
         "mode": "lines",
         "name": "Actual",
         "showlegend": false,
         "type": "scattergl",
         "x": [
          15,
          15
         ],
         "xaxis": "x2",
         "y": [
          0,
          0.5690093969937023
         ],
         "yaxis": "y2"
        },
        {
         "line": {
          "color": "#3f3f3f"
         },
         "mode": "lines",
         "name": "Actual",
         "showlegend": false,
         "type": "scattergl",
         "x": [
          16,
          16
         ],
         "xaxis": "x2",
         "y": [
          0,
          0.5485950060278932
         ],
         "yaxis": "y2"
        },
        {
         "line": {
          "color": "#3f3f3f"
         },
         "mode": "lines",
         "name": "Actual",
         "showlegend": false,
         "type": "scattergl",
         "x": [
          17,
          17
         ],
         "xaxis": "x2",
         "y": [
          0,
          0.5239258951421384
         ],
         "yaxis": "y2"
        },
        {
         "line": {
          "color": "#3f3f3f"
         },
         "mode": "lines",
         "name": "Actual",
         "showlegend": false,
         "type": "scattergl",
         "x": [
          18,
          18
         ],
         "xaxis": "x2",
         "y": [
          0,
          0.500476841930995
         ],
         "yaxis": "y2"
        },
        {
         "line": {
          "color": "#3f3f3f"
         },
         "mode": "lines",
         "name": "Actual",
         "showlegend": false,
         "type": "scattergl",
         "x": [
          19,
          19
         ],
         "xaxis": "x2",
         "y": [
          0,
          0.4781789862047983
         ],
         "yaxis": "y2"
        },
        {
         "line": {
          "color": "#3f3f3f"
         },
         "mode": "lines",
         "name": "Actual",
         "showlegend": false,
         "type": "scattergl",
         "x": [
          20,
          20
         ],
         "xaxis": "x2",
         "y": [
          0,
          0.45801133555555906
         ],
         "yaxis": "y2"
        },
        {
         "line": {
          "color": "#3f3f3f"
         },
         "mode": "lines",
         "name": "Actual",
         "showlegend": false,
         "type": "scattergl",
         "x": [
          21,
          21
         ],
         "xaxis": "x2",
         "y": [
          0,
          0.4336643966726565
         ],
         "yaxis": "y2"
        },
        {
         "line": {
          "color": "#3f3f3f"
         },
         "mode": "lines",
         "name": "Actual",
         "showlegend": false,
         "type": "scattergl",
         "x": [
          22,
          22
         ],
         "xaxis": "x2",
         "y": [
          0,
          0.41080411558936636
         ],
         "yaxis": "y2"
        },
        {
         "line": {
          "color": "#3f3f3f"
         },
         "mode": "lines",
         "name": "Actual",
         "showlegend": false,
         "type": "scattergl",
         "x": [
          23,
          23
         ],
         "xaxis": "x2",
         "y": [
          0,
          0.38845160417709945
         ],
         "yaxis": "y2"
        },
        {
         "line": {
          "color": "#3f3f3f"
         },
         "mode": "lines",
         "name": "Actual",
         "showlegend": false,
         "type": "scattergl",
         "x": [
          24,
          24
         ],
         "xaxis": "x2",
         "y": [
          0,
          0.3679129456101939
         ],
         "yaxis": "y2"
        },
        {
         "line": {
          "color": "#3f3f3f"
         },
         "mode": "lines",
         "name": "Actual",
         "showlegend": false,
         "type": "scattergl",
         "x": [
          25,
          25
         ],
         "xaxis": "x2",
         "y": [
          0,
          0.3439832669414821
         ],
         "yaxis": "y2"
        },
        {
         "line": {
          "color": "#3f3f3f"
         },
         "mode": "lines",
         "name": "Actual",
         "showlegend": false,
         "type": "scattergl",
         "x": [
          26,
          26
         ],
         "xaxis": "x2",
         "y": [
          0,
          0.3223238971068992
         ],
         "yaxis": "y2"
        },
        {
         "line": {
          "color": "#3f3f3f"
         },
         "mode": "lines",
         "name": "Actual",
         "showlegend": false,
         "type": "scattergl",
         "x": [
          27,
          27
         ],
         "xaxis": "x2",
         "y": [
          0,
          0.30081974873330436
         ],
         "yaxis": "y2"
        },
        {
         "line": {
          "color": "#3f3f3f"
         },
         "mode": "lines",
         "name": "Actual",
         "showlegend": false,
         "type": "scattergl",
         "x": [
          28,
          28
         ],
         "xaxis": "x2",
         "y": [
          0,
          0.28086369896987073
         ],
         "yaxis": "y2"
        },
        {
         "line": {
          "color": "#3f3f3f"
         },
         "mode": "lines",
         "name": "Actual",
         "showlegend": false,
         "type": "scattergl",
         "x": [
          29,
          29
         ],
         "xaxis": "x2",
         "y": [
          0,
          0.25756245293617297
         ],
         "yaxis": "y2"
        },
        {
         "line": {
          "color": "#3f3f3f"
         },
         "mode": "lines",
         "name": "Actual",
         "showlegend": false,
         "type": "scattergl",
         "x": [
          30,
          30
         ],
         "xaxis": "x2",
         "y": [
          0,
          0.23587667314564864
         ],
         "yaxis": "y2"
        },
        {
         "line": {
          "color": "#3f3f3f"
         },
         "mode": "lines",
         "name": "Actual",
         "showlegend": false,
         "type": "scattergl",
         "x": [
          31,
          31
         ],
         "xaxis": "x2",
         "y": [
          0,
          0.21439597264821345
         ],
         "yaxis": "y2"
        },
        {
         "line": {
          "color": "#3f3f3f"
         },
         "mode": "lines",
         "name": "Actual",
         "showlegend": false,
         "type": "scattergl",
         "x": [
          32,
          32
         ],
         "xaxis": "x2",
         "y": [
          0,
          0.19480605550474928
         ],
         "yaxis": "y2"
        },
        {
         "line": {
          "color": "#3f3f3f"
         },
         "mode": "lines",
         "name": "Actual",
         "showlegend": false,
         "type": "scattergl",
         "x": [
          33,
          33
         ],
         "xaxis": "x2",
         "y": [
          0,
          0.1715789673931569
         ],
         "yaxis": "y2"
        },
        {
         "line": {
          "color": "#3f3f3f"
         },
         "mode": "lines",
         "name": "Actual",
         "showlegend": false,
         "type": "scattergl",
         "x": [
          34,
          34
         ],
         "xaxis": "x2",
         "y": [
          0,
          0.1497478501666475
         ],
         "yaxis": "y2"
        },
        {
         "line": {
          "color": "#3f3f3f"
         },
         "mode": "lines",
         "name": "Actual",
         "showlegend": false,
         "type": "scattergl",
         "x": [
          35,
          35
         ],
         "xaxis": "x2",
         "y": [
          0,
          0.12851903499345307
         ],
         "yaxis": "y2"
        },
        {
         "line": {
          "color": "#3f3f3f"
         },
         "mode": "lines",
         "name": "Actual",
         "showlegend": false,
         "type": "scattergl",
         "x": [
          36,
          36
         ],
         "xaxis": "x2",
         "y": [
          0,
          0.10809553334412778
         ],
         "yaxis": "y2"
        },
        {
         "line": {
          "color": "#3f3f3f"
         },
         "mode": "lines",
         "name": "Actual",
         "showlegend": false,
         "type": "scattergl",
         "x": [
          37,
          37
         ],
         "xaxis": "x2",
         "y": [
          0,
          0.08394132257980196
         ],
         "yaxis": "y2"
        },
        {
         "line": {
          "color": "#3f3f3f"
         },
         "mode": "lines",
         "name": "Actual",
         "showlegend": false,
         "type": "scattergl",
         "x": [
          38,
          38
         ],
         "xaxis": "x2",
         "y": [
          0,
          0.061162481218745735
         ],
         "yaxis": "y2"
        },
        {
         "line": {
          "color": "#3f3f3f"
         },
         "mode": "lines",
         "name": "Actual",
         "showlegend": false,
         "type": "scattergl",
         "x": [
          39,
          39
         ],
         "xaxis": "x2",
         "y": [
          0,
          0.039344959919221184
         ],
         "yaxis": "y2"
        },
        {
         "line": {
          "color": "#3f3f3f"
         },
         "mode": "lines",
         "name": "Actual",
         "showlegend": false,
         "type": "scattergl",
         "x": [
          40,
          40
         ],
         "xaxis": "x2",
         "y": [
          0,
          0.018836079108246764
         ],
         "yaxis": "y2"
        },
        {
         "marker": {
          "color": "#1f77b4",
          "size": 6
         },
         "mode": "markers",
         "name": "Actual",
         "showlegend": false,
         "type": "scattergl",
         "x": [
          0,
          1,
          2,
          3,
          4,
          5,
          6,
          7,
          8,
          9,
          10,
          11,
          12,
          13,
          14,
          15,
          16,
          17,
          18,
          19,
          20,
          21,
          22,
          23,
          24,
          25,
          26,
          27,
          28,
          29,
          30,
          31,
          32,
          33,
          34,
          35,
          36,
          37,
          38,
          39,
          40
         ],
         "xaxis": "x2",
         "y": [
          1,
          0.9651553008682213,
          0.9325085628385293,
          0.9003113531514567,
          0.8716163109927076,
          0.8377954739205075,
          0.8044865753015517,
          0.7726956520854702,
          0.7458301419673238,
          0.7154741818870033,
          0.686751548893276,
          0.6602280874839824,
          0.6340965049971022,
          0.6082595810133119,
          0.5861515711661472,
          0.5690093969937023,
          0.5485950060278932,
          0.5239258951421384,
          0.500476841930995,
          0.4781789862047983,
          0.45801133555555906,
          0.4336643966726565,
          0.41080411558936636,
          0.38845160417709945,
          0.3679129456101939,
          0.3439832669414821,
          0.3223238971068992,
          0.30081974873330436,
          0.28086369896987073,
          0.25756245293617297,
          0.23587667314564864,
          0.21439597264821345,
          0.19480605550474928,
          0.1715789673931569,
          0.1497478501666475,
          0.12851903499345307,
          0.10809553334412778,
          0.08394132257980196,
          0.061162481218745735,
          0.039344959919221184,
          0.018836079108246764
         ],
         "yaxis": "y2"
        },
        {
         "line": {
          "color": "rgba(255,255,255,0)"
         },
         "mode": "lines",
         "name": "UC",
         "showlegend": false,
         "type": "scatter",
         "x": [
          0,
          1,
          2,
          3,
          4,
          5,
          6,
          7,
          8,
          9,
          10,
          11,
          12,
          13,
          14,
          15,
          16,
          17,
          18,
          19,
          20,
          21,
          22,
          23,
          24,
          25,
          26,
          27,
          28,
          29,
          30,
          31,
          32,
          33,
          34,
          35,
          36,
          37,
          38,
          39,
          40
         ],
         "xaxis": "x2",
         "y": [
          0,
          0.18519918863343665,
          0.3133671795521279,
          0.3973027199171736,
          0.46200850676141336,
          0.5153313435002155,
          0.5601027139991223,
          0.5984239684222488,
          0.631718258969853,
          0.6612307999108963,
          0.6872710141797838,
          0.7104181286102585,
          0.7311604720390154,
          0.7497847683940694,
          0.7665225859833488,
          0.7817449469165857,
          0.7958235256521053,
          0.8086902619817495,
          0.820249860815944,
          0.830657528501193,
          0.8400458892238918,
          0.8485676695799076,
          0.8561354224812648,
          0.8628698474510624,
          0.8688471477381636,
          0.8741743055368978,
          0.8788045732870817,
          0.8828500750203294,
          0.8863587387636296,
          0.8894060298558543,
          0.8919606124253662,
          0.894097504341967,
          0.8958590702885585,
          0.897310819579777,
          0.898435402008046,
          0.8992910708808697,
          0.8999208101221841,
          0.9003660375837462,
          0.9006344149882166,
          0.9007768659768809,
          0.9008358079867944
         ],
         "yaxis": "y2"
        },
        {
         "fill": "tonexty",
         "fillcolor": "rgba(32, 146, 230,0.3)",
         "line": {
          "color": "rgba(255,255,255,0)"
         },
         "mode": "lines",
         "name": "LC",
         "showlegend": false,
         "type": "scatter",
         "x": [
          0,
          1,
          2,
          3,
          4,
          5,
          6,
          7,
          8,
          9,
          10,
          11,
          12,
          13,
          14,
          15,
          16,
          17,
          18,
          19,
          20,
          21,
          22,
          23,
          24,
          25,
          26,
          27,
          28,
          29,
          30,
          31,
          32,
          33,
          34,
          35,
          36,
          37,
          38,
          39,
          40
         ],
         "xaxis": "x2",
         "y": [
          0,
          -0.18519918863343665,
          -0.3133671795521279,
          -0.3973027199171736,
          -0.46200850676141336,
          -0.5153313435002155,
          -0.5601027139991223,
          -0.5984239684222488,
          -0.6317182589698529,
          -0.6612307999108964,
          -0.6872710141797836,
          -0.7104181286102585,
          -0.7311604720390154,
          -0.7497847683940694,
          -0.7665225859833487,
          -0.7817449469165856,
          -0.7958235256521053,
          -0.8086902619817496,
          -0.8202498608159441,
          -0.8306575285011929,
          -0.8400458892238918,
          -0.8485676695799077,
          -0.8561354224812648,
          -0.8628698474510623,
          -0.8688471477381638,
          -0.8741743055368978,
          -0.8788045732870817,
          -0.8828500750203296,
          -0.8863587387636295,
          -0.8894060298558543,
          -0.8919606124253662,
          -0.894097504341967,
          -0.8958590702885585,
          -0.897310819579777,
          -0.8984354020080458,
          -0.8992910708808697,
          -0.8999208101221841,
          -0.9003660375837462,
          -0.9006344149882164,
          -0.9007768659768809,
          -0.9008358079867944
         ],
         "yaxis": "y2"
        },
        {
         "line": {
          "color": "#3f3f3f"
         },
         "mode": "lines",
         "name": "Actual",
         "showlegend": false,
         "type": "scattergl",
         "x": [
          0,
          0
         ],
         "xaxis": "x3",
         "y": [
          0,
          1
         ],
         "yaxis": "y3"
        },
        {
         "line": {
          "color": "#3f3f3f"
         },
         "mode": "lines",
         "name": "Actual",
         "showlegend": false,
         "type": "scattergl",
         "x": [
          1,
          1
         ],
         "xaxis": "x3",
         "y": [
          0,
          0.9738503936688361
         ],
         "yaxis": "y3"
        },
        {
         "line": {
          "color": "#3f3f3f"
         },
         "mode": "lines",
         "name": "Actual",
         "showlegend": false,
         "type": "scattergl",
         "x": [
          2,
          2
         ],
         "xaxis": "x3",
         "y": [
          0,
          0.020898307625674982
         ],
         "yaxis": "y3"
        },
        {
         "line": {
          "color": "#3f3f3f"
         },
         "mode": "lines",
         "name": "Actual",
         "showlegend": false,
         "type": "scattergl",
         "x": [
          3,
          3
         ],
         "xaxis": "x3",
         "y": [
          0,
          -0.011108580083345776
         ],
         "yaxis": "y3"
        },
        {
         "line": {
          "color": "#3f3f3f"
         },
         "mode": "lines",
         "name": "Actual",
         "showlegend": false,
         "type": "scattergl",
         "x": [
          4,
          4
         ],
         "xaxis": "x3",
         "y": [
          0,
          0.04904960391881549
         ],
         "yaxis": "y3"
        },
        {
         "line": {
          "color": "#3f3f3f"
         },
         "mode": "lines",
         "name": "Actual",
         "showlegend": false,
         "type": "scattergl",
         "x": [
          5,
          5
         ],
         "xaxis": "x3",
         "y": [
          0,
          -0.11911000205769931
         ],
         "yaxis": "y3"
        },
        {
         "line": {
          "color": "#3f3f3f"
         },
         "mode": "lines",
         "name": "Actual",
         "showlegend": false,
         "type": "scattergl",
         "x": [
          6,
          6
         ],
         "xaxis": "x3",
         "y": [
          0,
          -0.02019728388697806
         ],
         "yaxis": "y3"
        },
        {
         "line": {
          "color": "#3f3f3f"
         },
         "mode": "lines",
         "name": "Actual",
         "showlegend": false,
         "type": "scattergl",
         "x": [
          7,
          7
         ],
         "xaxis": "x3",
         "y": [
          0,
          0.010263804258605494
         ],
         "yaxis": "y3"
        },
        {
         "line": {
          "color": "#3f3f3f"
         },
         "mode": "lines",
         "name": "Actual",
         "showlegend": false,
         "type": "scattergl",
         "x": [
          8,
          8
         ],
         "xaxis": "x3",
         "y": [
          0,
          0.06879905583654417
         ],
         "yaxis": "y3"
        },
        {
         "line": {
          "color": "#3f3f3f"
         },
         "mode": "lines",
         "name": "Actual",
         "showlegend": false,
         "type": "scattergl",
         "x": [
          9,
          9
         ],
         "xaxis": "x3",
         "y": [
          0,
          -0.07838339922520347
         ],
         "yaxis": "y3"
        },
        {
         "line": {
          "color": "#3f3f3f"
         },
         "mode": "lines",
         "name": "Actual",
         "showlegend": false,
         "type": "scattergl",
         "x": [
          10,
          10
         ],
         "xaxis": "x3",
         "y": [
          0,
          0.011080044660451115
         ],
         "yaxis": "y3"
        },
        {
         "line": {
          "color": "#3f3f3f"
         },
         "mode": "lines",
         "name": "Actual",
         "showlegend": false,
         "type": "scattergl",
         "x": [
          11,
          11
         ],
         "xaxis": "x3",
         "y": [
          0,
          0.03172494994412187
         ],
         "yaxis": "y3"
        },
        {
         "line": {
          "color": "#3f3f3f"
         },
         "mode": "lines",
         "name": "Actual",
         "showlegend": false,
         "type": "scattergl",
         "x": [
          12,
          12
         ],
         "xaxis": "x3",
         "y": [
          0,
          -0.03747843082360038
         ],
         "yaxis": "y3"
        },
        {
         "line": {
          "color": "#3f3f3f"
         },
         "mode": "lines",
         "name": "Actual",
         "showlegend": false,
         "type": "scattergl",
         "x": [
          13,
          13
         ],
         "xaxis": "x3",
         "y": [
          0,
          0.0017270151341181315
         ],
         "yaxis": "y3"
        },
        {
         "line": {
          "color": "#3f3f3f"
         },
         "mode": "lines",
         "name": "Actual",
         "showlegend": false,
         "type": "scattergl",
         "x": [
          14,
          14
         ],
         "xaxis": "x3",
         "y": [
          0,
          0.06802623384202688
         ],
         "yaxis": "y3"
        },
        {
         "line": {
          "color": "#3f3f3f"
         },
         "mode": "lines",
         "name": "Actual",
         "showlegend": false,
         "type": "scattergl",
         "x": [
          15,
          15
         ],
         "xaxis": "x3",
         "y": [
          0,
          0.09378382533241525
         ],
         "yaxis": "y3"
        },
        {
         "line": {
          "color": "#3f3f3f"
         },
         "mode": "lines",
         "name": "Actual",
         "showlegend": false,
         "type": "scattergl",
         "x": [
          16,
          16
         ],
         "xaxis": "x3",
         "y": [
          0,
          -0.09598590461667098
         ],
         "yaxis": "y3"
        },
        {
         "line": {
          "color": "#3f3f3f"
         },
         "mode": "lines",
         "name": "Actual",
         "showlegend": false,
         "type": "scattergl",
         "x": [
          17,
          17
         ],
         "xaxis": "x3",
         "y": [
          0,
          -0.10618673166700911
         ],
         "yaxis": "y3"
        },
        {
         "line": {
          "color": "#3f3f3f"
         },
         "mode": "lines",
         "name": "Actual",
         "showlegend": false,
         "type": "scattergl",
         "x": [
          18,
          18
         ],
         "xaxis": "x3",
         "y": [
          0,
          0.0025178849722418324
         ],
         "yaxis": "y3"
        },
        {
         "line": {
          "color": "#3f3f3f"
         },
         "mode": "lines",
         "name": "Actual",
         "showlegend": false,
         "type": "scattergl",
         "x": [
          19,
          19
         ],
         "xaxis": "x3",
         "y": [
          0,
          -0.030423511554228882
         ],
         "yaxis": "y3"
        },
        {
         "line": {
          "color": "#3f3f3f"
         },
         "mode": "lines",
         "name": "Actual",
         "showlegend": false,
         "type": "scattergl",
         "x": [
          20,
          20
         ],
         "xaxis": "x3",
         "y": [
          0,
          0.041605768793092725
         ],
         "yaxis": "y3"
        },
        {
         "marker": {
          "color": "#1f77b4",
          "size": 6
         },
         "mode": "markers",
         "name": "Actual",
         "showlegend": false,
         "type": "scattergl",
         "x": [
          0,
          1,
          2,
          3,
          4,
          5,
          6,
          7,
          8,
          9,
          10,
          11,
          12,
          13,
          14,
          15,
          16,
          17,
          18,
          19,
          20
         ],
         "xaxis": "x3",
         "y": [
          1,
          0.9738503936688361,
          0.020898307625674982,
          -0.011108580083345776,
          0.04904960391881549,
          -0.11911000205769931,
          -0.02019728388697806,
          0.010263804258605494,
          0.06879905583654417,
          -0.07838339922520347,
          0.011080044660451115,
          0.03172494994412187,
          -0.03747843082360038,
          0.0017270151341181315,
          0.06802623384202688,
          0.09378382533241525,
          -0.09598590461667098,
          -0.10618673166700911,
          0.0025178849722418324,
          -0.030423511554228882,
          0.041605768793092725
         ],
         "yaxis": "y3"
        },
        {
         "line": {
          "color": "rgba(255,255,255,0)"
         },
         "mode": "lines",
         "name": "UC",
         "showlegend": false,
         "type": "scatter",
         "x": [
          0,
          1,
          2,
          3,
          4,
          5,
          6,
          7,
          8,
          9,
          10,
          11,
          12,
          13,
          14,
          15,
          16,
          17,
          18,
          19,
          20
         ],
         "xaxis": "x3",
         "y": [
          0,
          0.18519918863343654,
          0.18519918863343665,
          0.18519918863343665,
          0.18519918863343665,
          0.18519918863343665,
          0.18519918863343665,
          0.18519918863343665,
          0.18519918863343665,
          0.18519918863343665,
          0.18519918863343665,
          0.18519918863343665,
          0.18519918863343665,
          0.18519918863343665,
          0.18519918863343665,
          0.18519918863343665,
          0.18519918863343665,
          0.18519918863343665,
          0.18519918863343665,
          0.18519918863343665,
          0.18519918863343665
         ],
         "yaxis": "y3"
        },
        {
         "fill": "tonexty",
         "fillcolor": "rgba(32, 146, 230,0.3)",
         "line": {
          "color": "rgba(255,255,255,0)"
         },
         "mode": "lines",
         "name": "LC",
         "showlegend": false,
         "type": "scatter",
         "x": [
          0,
          1,
          2,
          3,
          4,
          5,
          6,
          7,
          8,
          9,
          10,
          11,
          12,
          13,
          14,
          15,
          16,
          17,
          18,
          19,
          20
         ],
         "xaxis": "x3",
         "y": [
          0,
          -0.18519918863343665,
          -0.18519918863343665,
          -0.18519918863343665,
          -0.18519918863343665,
          -0.18519918863343662,
          -0.18519918863343665,
          -0.18519918863343665,
          -0.18519918863343665,
          -0.18519918863343665,
          -0.18519918863343665,
          -0.18519918863343665,
          -0.18519918863343665,
          -0.18519918863343665,
          -0.18519918863343665,
          -0.18519918863343665,
          -0.18519918863343668,
          -0.18519918863343665,
          -0.18519918863343665,
          -0.18519918863343665,
          -0.18519918863343665
         ],
         "yaxis": "y3"
        },
        {
         "hoverinfo": "skip",
         "line": {
          "width": 2
         },
         "marker": {
          "size": 5
         },
         "mode": "lines+markers",
         "name": "Order=1",
         "showlegend": false,
         "type": "scattergl",
         "x": [
          "1996-04-01T00:00:00",
          "1996-07-01T00:00:00",
          "1996-10-01T00:00:00",
          "1997-01-01T00:00:00",
          "1997-04-01T00:00:00",
          "1997-07-01T00:00:00",
          "1997-10-01T00:00:00",
          "1998-01-01T00:00:00",
          "1998-04-01T00:00:00",
          "1998-07-01T00:00:00",
          "1998-10-01T00:00:00",
          "1999-01-01T00:00:00",
          "1999-04-01T00:00:00",
          "1999-07-01T00:00:00",
          "1999-10-01T00:00:00",
          "2000-01-01T00:00:00",
          "2000-04-01T00:00:00",
          "2000-07-01T00:00:00",
          "2000-10-01T00:00:00",
          "2001-01-01T00:00:00",
          "2001-04-01T00:00:00",
          "2001-07-01T00:00:00",
          "2001-10-01T00:00:00",
          "2002-01-01T00:00:00",
          "2002-04-01T00:00:00",
          "2002-07-01T00:00:00",
          "2002-10-01T00:00:00",
          "2003-01-01T00:00:00",
          "2003-04-01T00:00:00",
          "2003-07-01T00:00:00",
          "2003-10-01T00:00:00",
          "2004-01-01T00:00:00",
          "2004-04-01T00:00:00",
          "2004-07-01T00:00:00",
          "2004-10-01T00:00:00",
          "2005-01-01T00:00:00",
          "2005-04-01T00:00:00",
          "2005-07-01T00:00:00",
          "2005-10-01T00:00:00",
          "2006-01-01T00:00:00",
          "2006-04-01T00:00:00",
          "2006-07-01T00:00:00",
          "2006-10-01T00:00:00",
          "2007-01-01T00:00:00",
          "2007-04-01T00:00:00",
          "2007-07-01T00:00:00",
          "2007-10-01T00:00:00",
          "2008-01-01T00:00:00",
          "2008-04-01T00:00:00",
          "2008-07-01T00:00:00",
          "2008-10-01T00:00:00",
          "2009-01-01T00:00:00",
          "2009-04-01T00:00:00",
          "2009-07-01T00:00:00",
          "2009-10-01T00:00:00",
          "2010-01-01T00:00:00",
          "2010-04-01T00:00:00",
          "2010-07-01T00:00:00",
          "2010-10-01T00:00:00",
          "2011-01-01T00:00:00",
          "2011-04-01T00:00:00",
          "2011-07-01T00:00:00",
          "2011-10-01T00:00:00",
          "2012-01-01T00:00:00",
          "2012-04-01T00:00:00",
          "2012-07-01T00:00:00",
          "2012-10-01T00:00:00",
          "2013-01-01T00:00:00",
          "2013-04-01T00:00:00",
          "2013-07-01T00:00:00",
          "2013-10-01T00:00:00",
          "2014-01-01T00:00:00",
          "2014-04-01T00:00:00",
          "2014-07-01T00:00:00",
          "2014-10-01T00:00:00",
          "2015-01-01T00:00:00",
          "2015-04-01T00:00:00",
          "2015-07-01T00:00:00",
          "2015-10-01T00:00:00",
          "2016-01-01T00:00:00",
          "2016-04-01T00:00:00",
          "2016-07-01T00:00:00",
          "2016-10-01T00:00:00",
          "2017-01-01T00:00:00",
          "2017-04-01T00:00:00",
          "2017-07-01T00:00:00",
          "2017-10-01T00:00:00",
          "2018-01-01T00:00:00",
          "2018-04-01T00:00:00",
          "2018-07-01T00:00:00",
          "2018-10-01T00:00:00",
          "2019-01-01T00:00:00",
          "2019-04-01T00:00:00",
          "2019-07-01T00:00:00",
          "2019-10-01T00:00:00",
          "2020-01-01T00:00:00",
          "2020-04-01T00:00:00",
          "2020-07-01T00:00:00",
          "2020-10-01T00:00:00",
          "2021-01-01T00:00:00",
          "2021-04-01T00:00:00",
          "2021-07-01T00:00:00",
          "2021-10-01T00:00:00",
          "2022-01-01T00:00:00",
          "2022-04-01T00:00:00",
          "2022-07-01T00:00:00",
          "2022-10-01T00:00:00",
          "2023-01-01T00:00:00",
          "2023-04-01T00:00:00",
          "2023-07-01T00:00:00",
          "2023-10-01T00:00:00"
         ],
         "xaxis": "x4",
         "y": [
          15288,
          16902,
          17803,
          -20199,
          13773,
          13288,
          7726,
          -18203,
          16235,
          6107,
          -1372,
          -6003,
          18041,
          5417,
          20082,
          -17281,
          15862,
          16107,
          11585,
          -8011,
          11254,
          8800,
          14514,
          -4741,
          25066,
          12432,
          19538,
          -2091,
          21745,
          20363,
          23022,
          -17589,
          37012,
          23457,
          20668,
          -26210,
          35847,
          17302,
          29599,
          -28188,
          27707,
          35871,
          37507,
          -23932,
          39232,
          21191,
          34493,
          -14284,
          57470,
          43078,
          3017,
          -59493,
          47450,
          49266,
          67649,
          -34095,
          57748,
          53790,
          59435,
          -40839,
          70181,
          25622,
          48471,
          -31331,
          53652,
          47323,
          41262,
          -30097,
          80966,
          31554,
          59157,
          -27310,
          36341,
          39803,
          46400,
          -51866,
          23311,
          28258,
          42702,
          -50631,
          58751,
          18120,
          55638,
          -47135,
          45057,
          17905,
          71806,
          -38358,
          52016,
          33757,
          52247,
          -62549,
          69207,
          53849,
          43596,
          -56111,
          -115371,
          176599,
          130132,
          97215,
          46969,
          92212,
          60131,
          -36454,
          197953,
          83701,
          40303,
          -58779,
          118399,
          39856,
          90379
         ],
         "yaxis": "y4"
        },
        {
         "line": {
          "color": "#3f3f3f"
         },
         "mode": "lines",
         "name": "Order=1",
         "showlegend": false,
         "type": "scattergl",
         "x": [
          0,
          0
         ],
         "xaxis": "x5",
         "y": [
          0,
          1
         ],
         "yaxis": "y5"
        },
        {
         "line": {
          "color": "#3f3f3f"
         },
         "mode": "lines",
         "name": "Order=1",
         "showlegend": false,
         "type": "scattergl",
         "x": [
          1,
          1
         ],
         "xaxis": "x5",
         "y": [
          0,
          -0.08572305080825664
         ],
         "yaxis": "y5"
        },
        {
         "line": {
          "color": "#3f3f3f"
         },
         "mode": "lines",
         "name": "Order=1",
         "showlegend": false,
         "type": "scattergl",
         "x": [
          2,
          2
         ],
         "xaxis": "x5",
         "y": [
          0,
          -0.008743440332470149
         ],
         "yaxis": "y5"
        },
        {
         "line": {
          "color": "#3f3f3f"
         },
         "mode": "lines",
         "name": "Order=1",
         "showlegend": false,
         "type": "scattergl",
         "x": [
          3,
          3
         ],
         "xaxis": "x5",
         "y": [
          0,
          -0.18445303458902212
         ],
         "yaxis": "y5"
        },
        {
         "line": {
          "color": "#3f3f3f"
         },
         "mode": "lines",
         "name": "Order=1",
         "showlegend": false,
         "type": "scattergl",
         "x": [
          4,
          4
         ],
         "xaxis": "x5",
         "y": [
          0,
          0.5368637361420586
         ],
         "yaxis": "y5"
        },
        {
         "line": {
          "color": "#3f3f3f"
         },
         "mode": "lines",
         "name": "Order=1",
         "showlegend": false,
         "type": "scattergl",
         "x": [
          5,
          5
         ],
         "xaxis": "x5",
         "y": [
          0,
          -0.029143018498941617
         ],
         "yaxis": "y5"
        },
        {
         "line": {
          "color": "#3f3f3f"
         },
         "mode": "lines",
         "name": "Order=1",
         "showlegend": false,
         "type": "scattergl",
         "x": [
          6,
          6
         ],
         "xaxis": "x5",
         "y": [
          0,
          0.045400622139110655
         ],
         "yaxis": "y5"
        },
        {
         "line": {
          "color": "#3f3f3f"
         },
         "mode": "lines",
         "name": "Order=1",
         "showlegend": false,
         "type": "scattergl",
         "x": [
          7,
          7
         ],
         "xaxis": "x5",
         "y": [
          0,
          0.030070380051079343
         ],
         "yaxis": "y5"
        },
        {
         "line": {
          "color": "#3f3f3f"
         },
         "mode": "lines",
         "name": "Order=1",
         "showlegend": false,
         "type": "scattergl",
         "x": [
          8,
          8
         ],
         "xaxis": "x5",
         "y": [
          0,
          0.31484095675483403
         ],
         "yaxis": "y5"
        },
        {
         "line": {
          "color": "#3f3f3f"
         },
         "mode": "lines",
         "name": "Order=1",
         "showlegend": false,
         "type": "scattergl",
         "x": [
          9,
          9
         ],
         "xaxis": "x5",
         "y": [
          0,
          -0.13435837702100553
         ],
         "yaxis": "y5"
        },
        {
         "line": {
          "color": "#3f3f3f"
         },
         "mode": "lines",
         "name": "Order=1",
         "showlegend": false,
         "type": "scattergl",
         "x": [
          10,
          10
         ],
         "xaxis": "x5",
         "y": [
          0,
          -0.0686564713774686
         ],
         "yaxis": "y5"
        },
        {
         "line": {
          "color": "#3f3f3f"
         },
         "mode": "lines",
         "name": "Order=1",
         "showlegend": false,
         "type": "scattergl",
         "x": [
          11,
          11
         ],
         "xaxis": "x5",
         "y": [
          0,
          0.027524663198667157
         ],
         "yaxis": "y5"
        },
        {
         "line": {
          "color": "#3f3f3f"
         },
         "mode": "lines",
         "name": "Order=1",
         "showlegend": false,
         "type": "scattergl",
         "x": [
          12,
          12
         ],
         "xaxis": "x5",
         "y": [
          0,
          0.4196764858353417
         ],
         "yaxis": "y5"
        },
        {
         "line": {
          "color": "#3f3f3f"
         },
         "mode": "lines",
         "name": "Order=1",
         "showlegend": false,
         "type": "scattergl",
         "x": [
          13,
          13
         ],
         "xaxis": "x5",
         "y": [
          0,
          -0.10802144134884725
         ],
         "yaxis": "y5"
        },
        {
         "line": {
          "color": "#3f3f3f"
         },
         "mode": "lines",
         "name": "Order=1",
         "showlegend": false,
         "type": "scattergl",
         "x": [
          14,
          14
         ],
         "xaxis": "x5",
         "y": [
          0,
          -0.10680762830418994
         ],
         "yaxis": "y5"
        },
        {
         "line": {
          "color": "#3f3f3f"
         },
         "mode": "lines",
         "name": "Order=1",
         "showlegend": false,
         "type": "scattergl",
         "x": [
          15,
          15
         ],
         "xaxis": "x5",
         "y": [
          0,
          -0.15090565229385508
         ],
         "yaxis": "y5"
        },
        {
         "line": {
          "color": "#3f3f3f"
         },
         "mode": "lines",
         "name": "Order=1",
         "showlegend": false,
         "type": "scattergl",
         "x": [
          16,
          16
         ],
         "xaxis": "x5",
         "y": [
          0,
          0.39489342300193
         ],
         "yaxis": "y5"
        },
        {
         "line": {
          "color": "#3f3f3f"
         },
         "mode": "lines",
         "name": "Order=1",
         "showlegend": false,
         "type": "scattergl",
         "x": [
          17,
          17
         ],
         "xaxis": "x5",
         "y": [
          0,
          -0.12729347426377846
         ],
         "yaxis": "y5"
        },
        {
         "line": {
          "color": "#3f3f3f"
         },
         "mode": "lines",
         "name": "Order=1",
         "showlegend": false,
         "type": "scattergl",
         "x": [
          18,
          18
         ],
         "xaxis": "x5",
         "y": [
          0,
          -0.026916402520311487
         ],
         "yaxis": "y5"
        },
        {
         "line": {
          "color": "#3f3f3f"
         },
         "mode": "lines",
         "name": "Order=1",
         "showlegend": false,
         "type": "scattergl",
         "x": [
          19,
          19
         ],
         "xaxis": "x5",
         "y": [
          0,
          -0.17330690524042702
         ],
         "yaxis": "y5"
        },
        {
         "line": {
          "color": "#3f3f3f"
         },
         "mode": "lines",
         "name": "Order=1",
         "showlegend": false,
         "type": "scattergl",
         "x": [
          20,
          20
         ],
         "xaxis": "x5",
         "y": [
          0,
          0.36680090213492966
         ],
         "yaxis": "y5"
        },
        {
         "line": {
          "color": "#3f3f3f"
         },
         "mode": "lines",
         "name": "Order=1",
         "showlegend": false,
         "type": "scattergl",
         "x": [
          21,
          21
         ],
         "xaxis": "x5",
         "y": [
          0,
          -0.1429762943919766
         ],
         "yaxis": "y5"
        },
        {
         "line": {
          "color": "#3f3f3f"
         },
         "mode": "lines",
         "name": "Order=1",
         "showlegend": false,
         "type": "scattergl",
         "x": [
          22,
          22
         ],
         "xaxis": "x5",
         "y": [
          0,
          -0.03888064160230242
         ],
         "yaxis": "y5"
        },
        {
         "line": {
          "color": "#3f3f3f"
         },
         "mode": "lines",
         "name": "Order=1",
         "showlegend": false,
         "type": "scattergl",
         "x": [
          23,
          23
         ],
         "xaxis": "x5",
         "y": [
          0,
          -0.20985069706339748
         ],
         "yaxis": "y5"
        },
        {
         "line": {
          "color": "#3f3f3f"
         },
         "mode": "lines",
         "name": "Order=1",
         "showlegend": false,
         "type": "scattergl",
         "x": [
          24,
          24
         ],
         "xaxis": "x5",
         "y": [
          0,
          0.3628730011374802
         ],
         "yaxis": "y5"
        },
        {
         "line": {
          "color": "#3f3f3f"
         },
         "mode": "lines",
         "name": "Order=1",
         "showlegend": false,
         "type": "scattergl",
         "x": [
          25,
          25
         ],
         "xaxis": "x5",
         "y": [
          0,
          -0.13723249247788316
         ],
         "yaxis": "y5"
        },
        {
         "line": {
          "color": "#3f3f3f"
         },
         "mode": "lines",
         "name": "Order=1",
         "showlegend": false,
         "type": "scattergl",
         "x": [
          26,
          26
         ],
         "xaxis": "x5",
         "y": [
          0,
          -0.04847217878983996
         ],
         "yaxis": "y5"
        },
        {
         "line": {
          "color": "#3f3f3f"
         },
         "mode": "lines",
         "name": "Order=1",
         "showlegend": false,
         "type": "scattergl",
         "x": [
          27,
          27
         ],
         "xaxis": "x5",
         "y": [
          0,
          -0.16969142918116303
         ],
         "yaxis": "y5"
        },
        {
         "line": {
          "color": "#3f3f3f"
         },
         "mode": "lines",
         "name": "Order=1",
         "showlegend": false,
         "type": "scattergl",
         "x": [
          28,
          28
         ],
         "xaxis": "x5",
         "y": [
          0,
          0.29998913538474953
         ],
         "yaxis": "y5"
        },
        {
         "line": {
          "color": "#3f3f3f"
         },
         "mode": "lines",
         "name": "Order=1",
         "showlegend": false,
         "type": "scattergl",
         "x": [
          29,
          29
         ],
         "xaxis": "x5",
         "y": [
          0,
          -0.10096865220943625
         ],
         "yaxis": "y5"
        },
        {
         "line": {
          "color": "#3f3f3f"
         },
         "mode": "lines",
         "name": "Order=1",
         "showlegend": false,
         "type": "scattergl",
         "x": [
          30,
          30
         ],
         "xaxis": "x5",
         "y": [
          0,
          -0.02590509315813932
         ],
         "yaxis": "y5"
        },
        {
         "line": {
          "color": "#3f3f3f"
         },
         "mode": "lines",
         "name": "Order=1",
         "showlegend": false,
         "type": "scattergl",
         "x": [
          31,
          31
         ],
         "xaxis": "x5",
         "y": [
          0,
          -0.13578458569053442
         ],
         "yaxis": "y5"
        },
        {
         "line": {
          "color": "#3f3f3f"
         },
         "mode": "lines",
         "name": "Order=1",
         "showlegend": false,
         "type": "scattergl",
         "x": [
          32,
          32
         ],
         "xaxis": "x5",
         "y": [
          0,
          0.29321003780844057
         ],
         "yaxis": "y5"
        },
        {
         "line": {
          "color": "#3f3f3f"
         },
         "mode": "lines",
         "name": "Order=1",
         "showlegend": false,
         "type": "scattergl",
         "x": [
          33,
          33
         ],
         "xaxis": "x5",
         "y": [
          0,
          -0.08053695824132485
         ],
         "yaxis": "y5"
        },
        {
         "line": {
          "color": "#3f3f3f"
         },
         "mode": "lines",
         "name": "Order=1",
         "showlegend": false,
         "type": "scattergl",
         "x": [
          34,
          34
         ],
         "xaxis": "x5",
         "y": [
          0,
          -0.03453220337443697
         ],
         "yaxis": "y5"
        },
        {
         "line": {
          "color": "#3f3f3f"
         },
         "mode": "lines",
         "name": "Order=1",
         "showlegend": false,
         "type": "scattergl",
         "x": [
          35,
          35
         ],
         "xaxis": "x5",
         "y": [
          0,
          -0.1322139947129307
         ],
         "yaxis": "y5"
        },
        {
         "line": {
          "color": "#3f3f3f"
         },
         "mode": "lines",
         "name": "Order=1",
         "showlegend": false,
         "type": "scattergl",
         "x": [
          36,
          36
         ],
         "xaxis": "x5",
         "y": [
          0,
          0.2754248125481335
         ],
         "yaxis": "y5"
        },
        {
         "line": {
          "color": "#3f3f3f"
         },
         "mode": "lines",
         "name": "Order=1",
         "showlegend": false,
         "type": "scattergl",
         "x": [
          37,
          37
         ],
         "xaxis": "x5",
         "y": [
          0,
          -0.05138642426742745
         ],
         "yaxis": "y5"
        },
        {
         "line": {
          "color": "#3f3f3f"
         },
         "mode": "lines",
         "name": "Order=1",
         "showlegend": false,
         "type": "scattergl",
         "x": [
          38,
          38
         ],
         "xaxis": "x5",
         "y": [
          0,
          -0.061878050195720506
         ],
         "yaxis": "y5"
        },
        {
         "line": {
          "color": "#3f3f3f"
         },
         "mode": "lines",
         "name": "Order=1",
         "showlegend": false,
         "type": "scattergl",
         "x": [
          39,
          39
         ],
         "xaxis": "x5",
         "y": [
          0,
          -0.12594758296837535
         ],
         "yaxis": "y5"
        },
        {
         "line": {
          "color": "#3f3f3f"
         },
         "mode": "lines",
         "name": "Order=1",
         "showlegend": false,
         "type": "scattergl",
         "x": [
          40,
          40
         ],
         "xaxis": "x5",
         "y": [
          0,
          0.281128961473765
         ],
         "yaxis": "y5"
        },
        {
         "marker": {
          "color": "#1f77b4",
          "size": 6
         },
         "mode": "markers",
         "name": "Order=1",
         "showlegend": false,
         "type": "scattergl",
         "x": [
          0,
          1,
          2,
          3,
          4,
          5,
          6,
          7,
          8,
          9,
          10,
          11,
          12,
          13,
          14,
          15,
          16,
          17,
          18,
          19,
          20,
          21,
          22,
          23,
          24,
          25,
          26,
          27,
          28,
          29,
          30,
          31,
          32,
          33,
          34,
          35,
          36,
          37,
          38,
          39,
          40
         ],
         "xaxis": "x5",
         "y": [
          1,
          -0.08572305080825664,
          -0.008743440332470149,
          -0.18445303458902212,
          0.5368637361420586,
          -0.029143018498941617,
          0.045400622139110655,
          0.030070380051079343,
          0.31484095675483403,
          -0.13435837702100553,
          -0.0686564713774686,
          0.027524663198667157,
          0.4196764858353417,
          -0.10802144134884725,
          -0.10680762830418994,
          -0.15090565229385508,
          0.39489342300193,
          -0.12729347426377846,
          -0.026916402520311487,
          -0.17330690524042702,
          0.36680090213492966,
          -0.1429762943919766,
          -0.03888064160230242,
          -0.20985069706339748,
          0.3628730011374802,
          -0.13723249247788316,
          -0.04847217878983996,
          -0.16969142918116303,
          0.29998913538474953,
          -0.10096865220943625,
          -0.02590509315813932,
          -0.13578458569053442,
          0.29321003780844057,
          -0.08053695824132485,
          -0.03453220337443697,
          -0.1322139947129307,
          0.2754248125481335,
          -0.05138642426742745,
          -0.061878050195720506,
          -0.12594758296837535,
          0.281128961473765
         ],
         "yaxis": "y5"
        },
        {
         "line": {
          "color": "rgba(255,255,255,0)"
         },
         "mode": "lines",
         "name": "UC",
         "showlegend": false,
         "type": "scatter",
         "x": [
          0,
          1,
          2,
          3,
          4,
          5,
          6,
          7,
          8,
          9,
          10,
          11,
          12,
          13,
          14,
          15,
          16,
          17,
          18,
          19,
          20,
          21,
          22,
          23,
          24,
          25,
          26,
          27,
          28,
          29,
          30,
          31,
          32,
          33,
          34,
          35,
          36,
          37,
          38,
          39,
          40
         ],
         "xaxis": "x5",
         "y": [
          0,
          0.18603154873131197,
          0.18739360443357145,
          0.18740772222562607,
          0.1935886541849715,
          0.23963730073559064,
          0.23975992509350308,
          0.240057263497203,
          0.2401875856716017,
          0.25406898333696915,
          0.2565161555188823,
          0.2571513169105035,
          0.257253256388392,
          0.2799465045097495,
          0.28138531459629795,
          0.28278489416082836,
          0.28555823723535234,
          0.3038700780832275,
          0.30570993799955476,
          0.3057919428291327,
          0.3091724740078905,
          0.32388280201218433,
          0.3260597912096638,
          0.32622020288930625,
          0.3308590098809949,
          0.34435702056704154,
          0.34624453182738274,
          0.3464792940196914,
          0.34934363212006575,
          0.35814789514042716,
          0.3591316522173782,
          0.35919631445669403,
          0.36096834961225044,
          0.36911888452595215,
          0.3697265157335178,
          0.36983811867559885,
          0.37147026518853404,
          0.37847161403632434,
          0.378712992333586,
          0.3790627246429543,
          0.3805082127884877
         ],
         "yaxis": "y5"
        },
        {
         "fill": "tonexty",
         "fillcolor": "rgba(32, 146, 230,0.3)",
         "line": {
          "color": "rgba(255,255,255,0)"
         },
         "mode": "lines",
         "name": "LC",
         "showlegend": false,
         "type": "scatter",
         "x": [
          0,
          1,
          2,
          3,
          4,
          5,
          6,
          7,
          8,
          9,
          10,
          11,
          12,
          13,
          14,
          15,
          16,
          17,
          18,
          19,
          20,
          21,
          22,
          23,
          24,
          25,
          26,
          27,
          28,
          29,
          30,
          31,
          32,
          33,
          34,
          35,
          36,
          37,
          38,
          39,
          40
         ],
         "xaxis": "x5",
         "y": [
          0,
          -0.18603154873131195,
          -0.18739360443357145,
          -0.18740772222562607,
          -0.1935886541849715,
          -0.23963730073559059,
          -0.23975992509350308,
          -0.24005726349720302,
          -0.24018758567160167,
          -0.25406898333696915,
          -0.2565161555188823,
          -0.2571513169105035,
          -0.2572532563883921,
          -0.27994650450974945,
          -0.28138531459629795,
          -0.2827848941608283,
          -0.2855582372353523,
          -0.3038700780832275,
          -0.30570993799955476,
          -0.3057919428291327,
          -0.30917247400789044,
          -0.32388280201218433,
          -0.3260597912096638,
          -0.32622020288930625,
          -0.3308590098809949,
          -0.34435702056704154,
          -0.34624453182738274,
          -0.3464792940196914,
          -0.3493436321200657,
          -0.35814789514042716,
          -0.3591316522173782,
          -0.35919631445669403,
          -0.3609683496122504,
          -0.36911888452595215,
          -0.3697265157335178,
          -0.3698381186755988,
          -0.37147026518853404,
          -0.37847161403632434,
          -0.378712992333586,
          -0.3790627246429543,
          -0.38050821278848773
         ],
         "yaxis": "y5"
        },
        {
         "line": {
          "color": "#3f3f3f"
         },
         "mode": "lines",
         "name": "Order=1",
         "showlegend": false,
         "type": "scattergl",
         "x": [
          0,
          0
         ],
         "xaxis": "x6",
         "y": [
          0,
          1
         ],
         "yaxis": "y6"
        },
        {
         "line": {
          "color": "#3f3f3f"
         },
         "mode": "lines",
         "name": "Order=1",
         "showlegend": false,
         "type": "scattergl",
         "x": [
          1,
          1
         ],
         "xaxis": "x6",
         "y": [
          0,
          -0.08650235127014991
         ],
         "yaxis": "y6"
        },
        {
         "line": {
          "color": "#3f3f3f"
         },
         "mode": "lines",
         "name": "Order=1",
         "showlegend": false,
         "type": "scattergl",
         "x": [
          2,
          2
         ],
         "xaxis": "x6",
         "y": [
          0,
          -0.016510066365528073
         ],
         "yaxis": "y6"
        },
        {
         "line": {
          "color": "#3f3f3f"
         },
         "mode": "lines",
         "name": "Order=1",
         "showlegend": false,
         "type": "scattergl",
         "x": [
          3,
          3
         ],
         "xaxis": "x6",
         "y": [
          0,
          -0.19328639943112477
         ],
         "yaxis": "y6"
        },
        {
         "line": {
          "color": "#3f3f3f"
         },
         "mode": "lines",
         "name": "Order=1",
         "showlegend": false,
         "type": "scattergl",
         "x": [
          4,
          4
         ],
         "xaxis": "x6",
         "y": [
          0,
          0.5471665398787627
         ],
         "yaxis": "y6"
        },
        {
         "line": {
          "color": "#3f3f3f"
         },
         "mode": "lines",
         "name": "Order=1",
         "showlegend": false,
         "type": "scattergl",
         "x": [
          5,
          5
         ],
         "xaxis": "x6",
         "y": [
          0,
          0.006735738335340364
         ],
         "yaxis": "y6"
        },
        {
         "line": {
          "color": "#3f3f3f"
         },
         "mode": "lines",
         "name": "Order=1",
         "showlegend": false,
         "type": "scattergl",
         "x": [
          6,
          6
         ],
         "xaxis": "x6",
         "y": [
          0,
          0.05159153001350505
         ],
         "yaxis": "y6"
        },
        {
         "line": {
          "color": "#3f3f3f"
         },
         "mode": "lines",
         "name": "Order=1",
         "showlegend": false,
         "type": "scattergl",
         "x": [
          7,
          7
         ],
         "xaxis": "x6",
         "y": [
          0,
          0.3211942884299405
         ],
         "yaxis": "y6"
        },
        {
         "line": {
          "color": "#3f3f3f"
         },
         "mode": "lines",
         "name": "Order=1",
         "showlegend": false,
         "type": "scattergl",
         "x": [
          8,
          8
         ],
         "xaxis": "x6",
         "y": [
          0,
          0.05791048276290844
         ],
         "yaxis": "y6"
        },
        {
         "line": {
          "color": "#3f3f3f"
         },
         "mode": "lines",
         "name": "Order=1",
         "showlegend": false,
         "type": "scattergl",
         "x": [
          9,
          9
         ],
         "xaxis": "x6",
         "y": [
          0,
          -0.18092138232246768
         ],
         "yaxis": "y6"
        },
        {
         "line": {
          "color": "#3f3f3f"
         },
         "mode": "lines",
         "name": "Order=1",
         "showlegend": false,
         "type": "scattergl",
         "x": [
          10,
          10
         ],
         "xaxis": "x6",
         "y": [
          0,
          -0.08126159955856034
         ],
         "yaxis": "y6"
        },
        {
         "line": {
          "color": "#3f3f3f"
         },
         "mode": "lines",
         "name": "Order=1",
         "showlegend": false,
         "type": "scattergl",
         "x": [
          11,
          11
         ],
         "xaxis": "x6",
         "y": [
          0,
          -0.10100633348974955
         ],
         "yaxis": "y6"
        },
        {
         "line": {
          "color": "#3f3f3f"
         },
         "mode": "lines",
         "name": "Order=1",
         "showlegend": false,
         "type": "scattergl",
         "x": [
          12,
          12
         ],
         "xaxis": "x6",
         "y": [
          0,
          0.30857108790290727
         ],
         "yaxis": "y6"
        },
        {
         "line": {
          "color": "#3f3f3f"
         },
         "mode": "lines",
         "name": "Order=1",
         "showlegend": false,
         "type": "scattergl",
         "x": [
          13,
          13
         ],
         "xaxis": "x6",
         "y": [
          0,
          -0.04647596005729759
         ],
         "yaxis": "y6"
        },
        {
         "line": {
          "color": "#3f3f3f"
         },
         "mode": "lines",
         "name": "Order=1",
         "showlegend": false,
         "type": "scattergl",
         "x": [
          14,
          14
         ],
         "xaxis": "x6",
         "y": [
          0,
          -0.12028858249876004
         ],
         "yaxis": "y6"
        },
        {
         "line": {
          "color": "#3f3f3f"
         },
         "mode": "lines",
         "name": "Order=1",
         "showlegend": false,
         "type": "scattergl",
         "x": [
          15,
          15
         ],
         "xaxis": "x6",
         "y": [
          0,
          -0.12459199165800382
         ],
         "yaxis": "y6"
        },
        {
         "line": {
          "color": "#3f3f3f"
         },
         "mode": "lines",
         "name": "Order=1",
         "showlegend": false,
         "type": "scattergl",
         "x": [
          16,
          16
         ],
         "xaxis": "x6",
         "y": [
          0,
          0.180784802861984
         ],
         "yaxis": "y6"
        },
        {
         "line": {
          "color": "#3f3f3f"
         },
         "mode": "lines",
         "name": "Order=1",
         "showlegend": false,
         "type": "scattergl",
         "x": [
          17,
          17
         ],
         "xaxis": "x6",
         "y": [
          0,
          -0.14424360028621405
         ],
         "yaxis": "y6"
        },
        {
         "line": {
          "color": "#3f3f3f"
         },
         "mode": "lines",
         "name": "Order=1",
         "showlegend": false,
         "type": "scattergl",
         "x": [
          18,
          18
         ],
         "xaxis": "x6",
         "y": [
          0,
          -0.050383638654026494
         ],
         "yaxis": "y6"
        },
        {
         "line": {
          "color": "#3f3f3f"
         },
         "mode": "lines",
         "name": "Order=1",
         "showlegend": false,
         "type": "scattergl",
         "x": [
          19,
          19
         ],
         "xaxis": "x6",
         "y": [
          0,
          -0.13931373636181663
         ],
         "yaxis": "y6"
        },
        {
         "line": {
          "color": "#3f3f3f"
         },
         "mode": "lines",
         "name": "Order=1",
         "showlegend": false,
         "type": "scattergl",
         "x": [
          20,
          20
         ],
         "xaxis": "x6",
         "y": [
          0,
          0.2333668666051166
         ],
         "yaxis": "y6"
        },
        {
         "marker": {
          "color": "#1f77b4",
          "size": 6
         },
         "mode": "markers",
         "name": "Order=1",
         "showlegend": false,
         "type": "scattergl",
         "x": [
          0,
          1,
          2,
          3,
          4,
          5,
          6,
          7,
          8,
          9,
          10,
          11,
          12,
          13,
          14,
          15,
          16,
          17,
          18,
          19,
          20
         ],
         "xaxis": "x6",
         "y": [
          1,
          -0.08650235127014991,
          -0.016510066365528073,
          -0.19328639943112477,
          0.5471665398787627,
          0.006735738335340364,
          0.05159153001350505,
          0.3211942884299405,
          0.05791048276290844,
          -0.18092138232246768,
          -0.08126159955856034,
          -0.10100633348974955,
          0.30857108790290727,
          -0.04647596005729759,
          -0.12028858249876004,
          -0.12459199165800382,
          0.180784802861984,
          -0.14424360028621405,
          -0.050383638654026494,
          -0.13931373636181663,
          0.2333668666051166
         ],
         "yaxis": "y6"
        },
        {
         "line": {
          "color": "rgba(255,255,255,0)"
         },
         "mode": "lines",
         "name": "UC",
         "showlegend": false,
         "type": "scatter",
         "x": [
          0,
          1,
          2,
          3,
          4,
          5,
          6,
          7,
          8,
          9,
          10,
          11,
          12,
          13,
          14,
          15,
          16,
          17,
          18,
          19,
          20
         ],
         "xaxis": "x6",
         "y": [
          0,
          0.18603154873131197,
          0.18603154873131197,
          0.18603154873131197,
          0.186031548731312,
          0.18603154873131197,
          0.18603154873131197,
          0.18603154873131195,
          0.18603154873131197,
          0.18603154873131197,
          0.18603154873131197,
          0.18603154873131197,
          0.18603154873131195,
          0.18603154873131197,
          0.18603154873131197,
          0.18603154873131197,
          0.18603154873131195,
          0.18603154873131197,
          0.186031548731312,
          0.18603154873131197,
          0.18603154873131197
         ],
         "yaxis": "y6"
        },
        {
         "fill": "tonexty",
         "fillcolor": "rgba(32, 146, 230,0.3)",
         "line": {
          "color": "rgba(255,255,255,0)"
         },
         "mode": "lines",
         "name": "LC",
         "showlegend": false,
         "type": "scatter",
         "x": [
          0,
          1,
          2,
          3,
          4,
          5,
          6,
          7,
          8,
          9,
          10,
          11,
          12,
          13,
          14,
          15,
          16,
          17,
          18,
          19,
          20
         ],
         "xaxis": "x6",
         "y": [
          0,
          -0.18603154873131197,
          -0.18603154873131197,
          -0.18603154873131197,
          -0.186031548731312,
          -0.18603154873131197,
          -0.18603154873131197,
          -0.18603154873131197,
          -0.18603154873131197,
          -0.186031548731312,
          -0.186031548731312,
          -0.18603154873131197,
          -0.18603154873131197,
          -0.18603154873131197,
          -0.18603154873131197,
          -0.18603154873131195,
          -0.18603154873131197,
          -0.18603154873131197,
          -0.18603154873131195,
          -0.18603154873131197,
          -0.18603154873131197
         ],
         "yaxis": "y6"
        },
        {
         "hoverinfo": "skip",
         "line": {
          "width": 2
         },
         "marker": {
          "size": 5
         },
         "mode": "lines+markers",
         "name": "Order=2",
         "showlegend": false,
         "type": "scattergl",
         "x": [
          "1996-07-01T00:00:00",
          "1996-10-01T00:00:00",
          "1997-01-01T00:00:00",
          "1997-04-01T00:00:00",
          "1997-07-01T00:00:00",
          "1997-10-01T00:00:00",
          "1998-01-01T00:00:00",
          "1998-04-01T00:00:00",
          "1998-07-01T00:00:00",
          "1998-10-01T00:00:00",
          "1999-01-01T00:00:00",
          "1999-04-01T00:00:00",
          "1999-07-01T00:00:00",
          "1999-10-01T00:00:00",
          "2000-01-01T00:00:00",
          "2000-04-01T00:00:00",
          "2000-07-01T00:00:00",
          "2000-10-01T00:00:00",
          "2001-01-01T00:00:00",
          "2001-04-01T00:00:00",
          "2001-07-01T00:00:00",
          "2001-10-01T00:00:00",
          "2002-01-01T00:00:00",
          "2002-04-01T00:00:00",
          "2002-07-01T00:00:00",
          "2002-10-01T00:00:00",
          "2003-01-01T00:00:00",
          "2003-04-01T00:00:00",
          "2003-07-01T00:00:00",
          "2003-10-01T00:00:00",
          "2004-01-01T00:00:00",
          "2004-04-01T00:00:00",
          "2004-07-01T00:00:00",
          "2004-10-01T00:00:00",
          "2005-01-01T00:00:00",
          "2005-04-01T00:00:00",
          "2005-07-01T00:00:00",
          "2005-10-01T00:00:00",
          "2006-01-01T00:00:00",
          "2006-04-01T00:00:00",
          "2006-07-01T00:00:00",
          "2006-10-01T00:00:00",
          "2007-01-01T00:00:00",
          "2007-04-01T00:00:00",
          "2007-07-01T00:00:00",
          "2007-10-01T00:00:00",
          "2008-01-01T00:00:00",
          "2008-04-01T00:00:00",
          "2008-07-01T00:00:00",
          "2008-10-01T00:00:00",
          "2009-01-01T00:00:00",
          "2009-04-01T00:00:00",
          "2009-07-01T00:00:00",
          "2009-10-01T00:00:00",
          "2010-01-01T00:00:00",
          "2010-04-01T00:00:00",
          "2010-07-01T00:00:00",
          "2010-10-01T00:00:00",
          "2011-01-01T00:00:00",
          "2011-04-01T00:00:00",
          "2011-07-01T00:00:00",
          "2011-10-01T00:00:00",
          "2012-01-01T00:00:00",
          "2012-04-01T00:00:00",
          "2012-07-01T00:00:00",
          "2012-10-01T00:00:00",
          "2013-01-01T00:00:00",
          "2013-04-01T00:00:00",
          "2013-07-01T00:00:00",
          "2013-10-01T00:00:00",
          "2014-01-01T00:00:00",
          "2014-04-01T00:00:00",
          "2014-07-01T00:00:00",
          "2014-10-01T00:00:00",
          "2015-01-01T00:00:00",
          "2015-04-01T00:00:00",
          "2015-07-01T00:00:00",
          "2015-10-01T00:00:00",
          "2016-01-01T00:00:00",
          "2016-04-01T00:00:00",
          "2016-07-01T00:00:00",
          "2016-10-01T00:00:00",
          "2017-01-01T00:00:00",
          "2017-04-01T00:00:00",
          "2017-07-01T00:00:00",
          "2017-10-01T00:00:00",
          "2018-01-01T00:00:00",
          "2018-04-01T00:00:00",
          "2018-07-01T00:00:00",
          "2018-10-01T00:00:00",
          "2019-01-01T00:00:00",
          "2019-04-01T00:00:00",
          "2019-07-01T00:00:00",
          "2019-10-01T00:00:00",
          "2020-01-01T00:00:00",
          "2020-04-01T00:00:00",
          "2020-07-01T00:00:00",
          "2020-10-01T00:00:00",
          "2021-01-01T00:00:00",
          "2021-04-01T00:00:00",
          "2021-07-01T00:00:00",
          "2021-10-01T00:00:00",
          "2022-01-01T00:00:00",
          "2022-04-01T00:00:00",
          "2022-07-01T00:00:00",
          "2022-10-01T00:00:00",
          "2023-01-01T00:00:00",
          "2023-04-01T00:00:00",
          "2023-07-01T00:00:00",
          "2023-10-01T00:00:00"
         ],
         "xaxis": "x7",
         "y": [
          1614,
          901,
          -38002,
          33972,
          -485,
          -5562,
          -25929,
          34438,
          -10128,
          -7479,
          -4631,
          24044,
          -12624,
          14665,
          -37363,
          33143,
          245,
          -4522,
          -19596,
          19265,
          -2454,
          5714,
          -19255,
          29807,
          -12634,
          7106,
          -21629,
          23836,
          -1382,
          2659,
          -40611,
          54601,
          -13555,
          -2789,
          -46878,
          62057,
          -18545,
          12297,
          -57787,
          55895,
          8164,
          1636,
          -61439,
          63164,
          -18041,
          13302,
          -48777,
          71754,
          -14392,
          -40061,
          -62510,
          106943,
          1816,
          18383,
          -101744,
          91843,
          -3958,
          5645,
          -100274,
          111020,
          -44559,
          22849,
          -79802,
          84983,
          -6329,
          -6061,
          -71359,
          111063,
          -49412,
          27603,
          -86467,
          63651,
          3462,
          6597,
          -98266,
          75177,
          4947,
          14444,
          -93333,
          109382,
          -40631,
          37518,
          -102773,
          92192,
          -27152,
          53901,
          -110164,
          90374,
          -18259,
          18490,
          -114796,
          131756,
          -15358,
          -10253,
          -99707,
          -59260,
          291970,
          -46467,
          -32917,
          -50246,
          45243,
          -32081,
          -96585,
          234407,
          -114252,
          -43398,
          -99082,
          177178,
          -78543,
          50523
         ],
         "yaxis": "y7"
        },
        {
         "line": {
          "color": "#3f3f3f"
         },
         "mode": "lines",
         "name": "Order=2",
         "showlegend": false,
         "type": "scattergl",
         "x": [
          0,
          0
         ],
         "xaxis": "x8",
         "y": [
          0,
          1
         ],
         "yaxis": "y8"
        },
        {
         "line": {
          "color": "#3f3f3f"
         },
         "mode": "lines",
         "name": "Order=2",
         "showlegend": false,
         "type": "scattergl",
         "x": [
          1,
          1
         ],
         "xaxis": "x8",
         "y": [
          0,
          -0.5336175383952428
         ],
         "yaxis": "y8"
        },
        {
         "line": {
          "color": "#3f3f3f"
         },
         "mode": "lines",
         "name": "Order=2",
         "showlegend": false,
         "type": "scattergl",
         "x": [
          2,
          2
         ],
         "xaxis": "x8",
         "y": [
          0,
          0.10689870282957187
         ],
         "yaxis": "y8"
        },
        {
         "line": {
          "color": "#3f3f3f"
         },
         "mode": "lines",
         "name": "Order=2",
         "showlegend": false,
         "type": "scattergl",
         "x": [
          3,
          3
         ],
         "xaxis": "x8",
         "y": [
          0,
          -0.39397431873043914
         ],
         "yaxis": "y8"
        },
        {
         "line": {
          "color": "#3f3f3f"
         },
         "mode": "lines",
         "name": "Order=2",
         "showlegend": false,
         "type": "scattergl",
         "x": [
          4,
          4
         ],
         "xaxis": "x8",
         "y": [
          0,
          0.585628332877483
         ],
         "yaxis": "y8"
        },
        {
         "line": {
          "color": "#3f3f3f"
         },
         "mode": "lines",
         "name": "Order=2",
         "showlegend": false,
         "type": "scattergl",
         "x": [
          5,
          5
         ],
         "xaxis": "x8",
         "y": [
          0,
          -0.3035174030126254
         ],
         "yaxis": "y8"
        },
        {
         "line": {
          "color": "#3f3f3f"
         },
         "mode": "lines",
         "name": "Order=2",
         "showlegend": false,
         "type": "scattergl",
         "x": [
          6,
          6
         ],
         "xaxis": "x8",
         "y": [
          0,
          0.02627498221700039
         ],
         "yaxis": "y8"
        },
        {
         "line": {
          "color": "#3f3f3f"
         },
         "mode": "lines",
         "name": "Order=2",
         "showlegend": false,
         "type": "scattergl",
         "x": [
          7,
          7
         ],
         "xaxis": "x8",
         "y": [
          0,
          -0.10883282244291373
         ],
         "yaxis": "y8"
        },
        {
         "line": {
          "color": "#3f3f3f"
         },
         "mode": "lines",
         "name": "Order=2",
         "showlegend": false,
         "type": "scattergl",
         "x": [
          8,
          8
         ],
         "xaxis": "x8",
         "y": [
          0,
          0.32879815902884757
         ],
         "yaxis": "y8"
        },
        {
         "line": {
          "color": "#3f3f3f"
         },
         "mode": "lines",
         "name": "Order=2",
         "showlegend": false,
         "type": "scattergl",
         "x": [
          9,
          9
         ],
         "xaxis": "x8",
         "y": [
          0,
          -0.24381824264099716
         ],
         "yaxis": "y8"
        },
        {
         "line": {
          "color": "#3f3f3f"
         },
         "mode": "lines",
         "name": "Order=2",
         "showlegend": false,
         "type": "scattergl",
         "x": [
          10,
          10
         ],
         "xaxis": "x8",
         "y": [
          0,
          -0.008373388586904581
         ],
         "yaxis": "y8"
        },
        {
         "line": {
          "color": "#3f3f3f"
         },
         "mode": "lines",
         "name": "Order=2",
         "showlegend": false,
         "type": "scattergl",
         "x": [
          11,
          11
         ],
         "xaxis": "x8",
         "y": [
          0,
          -0.14441967520294502
         ],
         "yaxis": "y8"
        },
        {
         "line": {
          "color": "#3f3f3f"
         },
         "mode": "lines",
         "name": "Order=2",
         "showlegend": false,
         "type": "scattergl",
         "x": [
          12,
          12
         ],
         "xaxis": "x8",
         "y": [
          0,
          0.42333542140319214
         ],
         "yaxis": "y8"
        },
        {
         "line": {
          "color": "#3f3f3f"
         },
         "mode": "lines",
         "name": "Order=2",
         "showlegend": false,
         "type": "scattergl",
         "x": [
          13,
          13
         ],
         "xaxis": "x8",
         "y": [
          0,
          -0.2523955979922892
         ],
         "yaxis": "y8"
        },
        {
         "line": {
          "color": "#3f3f3f"
         },
         "mode": "lines",
         "name": "Order=2",
         "showlegend": false,
         "type": "scattergl",
         "x": [
          14,
          14
         ],
         "xaxis": "x8",
         "y": [
          0,
          0.060142764253891895
         ],
         "yaxis": "y8"
        },
        {
         "line": {
          "color": "#3f3f3f"
         },
         "mode": "lines",
         "name": "Order=2",
         "showlegend": false,
         "type": "scattergl",
         "x": [
          15,
          15
         ],
         "xaxis": "x8",
         "y": [
          0,
          -0.2825651798407276
         ],
         "yaxis": "y8"
        },
        {
         "line": {
          "color": "#3f3f3f"
         },
         "mode": "lines",
         "name": "Order=2",
         "showlegend": false,
         "type": "scattergl",
         "x": [
          16,
          16
         ],
         "xaxis": "x8",
         "y": [
          0,
          0.4835933769631534
         ],
         "yaxis": "y8"
        },
        {
         "line": {
          "color": "#3f3f3f"
         },
         "mode": "lines",
         "name": "Order=2",
         "showlegend": false,
         "type": "scattergl",
         "x": [
          17,
          17
         ],
         "xaxis": "x8",
         "y": [
          0,
          -0.2907239957727951
         ],
         "yaxis": "y8"
        },
        {
         "line": {
          "color": "#3f3f3f"
         },
         "mode": "lines",
         "name": "Order=2",
         "showlegend": false,
         "type": "scattergl",
         "x": [
          18,
          18
         ],
         "xaxis": "x8",
         "y": [
          0,
          0.1124665583482224
         ],
         "yaxis": "y8"
        },
        {
         "line": {
          "color": "#3f3f3f"
         },
         "mode": "lines",
         "name": "Order=2",
         "showlegend": false,
         "type": "scattergl",
         "x": [
          19,
          19
         ],
         "xaxis": "x8",
         "y": [
          0,
          -0.30183959869281346
         ],
         "yaxis": "y8"
        },
        {
         "line": {
          "color": "#3f3f3f"
         },
         "mode": "lines",
         "name": "Order=2",
         "showlegend": false,
         "type": "scattergl",
         "x": [
          20,
          20
         ],
         "xaxis": "x8",
         "y": [
          0,
          0.47292685109912713
         ],
         "yaxis": "y8"
        },
        {
         "line": {
          "color": "#3f3f3f"
         },
         "mode": "lines",
         "name": "Order=2",
         "showlegend": false,
         "type": "scattergl",
         "x": [
          21,
          21
         ],
         "xaxis": "x8",
         "y": [
          0,
          -0.28291072706268355
         ],
         "yaxis": "y8"
        },
        {
         "line": {
          "color": "#3f3f3f"
         },
         "mode": "lines",
         "name": "Order=2",
         "showlegend": false,
         "type": "scattergl",
         "x": [
          22,
          22
         ],
         "xaxis": "x8",
         "y": [
          0,
          0.1254293762130648
         ],
         "yaxis": "y8"
        },
        {
         "line": {
          "color": "#3f3f3f"
         },
         "mode": "lines",
         "name": "Order=2",
         "showlegend": false,
         "type": "scattergl",
         "x": [
          23,
          23
         ],
         "xaxis": "x8",
         "y": [
          0,
          -0.3339249063521629
         ],
         "yaxis": "y8"
        },
        {
         "line": {
          "color": "#3f3f3f"
         },
         "mode": "lines",
         "name": "Order=2",
         "showlegend": false,
         "type": "scattergl",
         "x": [
          24,
          24
         ],
         "xaxis": "x8",
         "y": [
          0,
          0.4843694028341144
         ],
         "yaxis": "y8"
        },
        {
         "line": {
          "color": "#3f3f3f"
         },
         "mode": "lines",
         "name": "Order=2",
         "showlegend": false,
         "type": "scattergl",
         "x": [
          25,
          25
         ],
         "xaxis": "x8",
         "y": [
          0,
          -0.2667500287019585
         ],
         "yaxis": "y8"
        },
        {
         "line": {
          "color": "#3f3f3f"
         },
         "mode": "lines",
         "name": "Order=2",
         "showlegend": false,
         "type": "scattergl",
         "x": [
          26,
          26
         ],
         "xaxis": "x8",
         "y": [
          0,
          0.09404246538466299
         ],
         "yaxis": "y8"
        },
        {
         "line": {
          "color": "#3f3f3f"
         },
         "mode": "lines",
         "name": "Order=2",
         "showlegend": false,
         "type": "scattergl",
         "x": [
          27,
          27
         ],
         "xaxis": "x8",
         "y": [
          0,
          -0.26270973272074605
         ],
         "yaxis": "y8"
        },
        {
         "line": {
          "color": "#3f3f3f"
         },
         "mode": "lines",
         "name": "Order=2",
         "showlegend": false,
         "type": "scattergl",
         "x": [
          28,
          28
         ],
         "xaxis": "x8",
         "y": [
          0,
          0.3913034777986729
         ],
         "yaxis": "y8"
        },
        {
         "line": {
          "color": "#3f3f3f"
         },
         "mode": "lines",
         "name": "Order=2",
         "showlegend": false,
         "type": "scattergl",
         "x": [
          29,
          29
         ],
         "xaxis": "x8",
         "y": [
          0,
          -0.21628396371493655
         ],
         "yaxis": "y8"
        },
        {
         "line": {
          "color": "#3f3f3f"
         },
         "mode": "lines",
         "name": "Order=2",
         "showlegend": false,
         "type": "scattergl",
         "x": [
          30,
          30
         ],
         "xaxis": "x8",
         "y": [
          0,
          0.08053010182741309
         ],
         "yaxis": "y8"
        },
        {
         "line": {
          "color": "#3f3f3f"
         },
         "mode": "lines",
         "name": "Order=2",
         "showlegend": false,
         "type": "scattergl",
         "x": [
          31,
          31
         ],
         "xaxis": "x8",
         "y": [
          0,
          -0.23659849347722414
         ],
         "yaxis": "y8"
        },
        {
         "line": {
          "color": "#3f3f3f"
         },
         "mode": "lines",
         "name": "Order=2",
         "showlegend": false,
         "type": "scattergl",
         "x": [
          32,
          32
         ],
         "xaxis": "x8",
         "y": [
          0,
          0.36155792337275955
         ],
         "yaxis": "y8"
        },
        {
         "line": {
          "color": "#3f3f3f"
         },
         "mode": "lines",
         "name": "Order=2",
         "showlegend": false,
         "type": "scattergl",
         "x": [
          33,
          33
         ],
         "xaxis": "x8",
         "y": [
          0,
          -0.1934109333249385
         ],
         "yaxis": "y8"
        },
        {
         "line": {
          "color": "#3f3f3f"
         },
         "mode": "lines",
         "name": "Order=2",
         "showlegend": false,
         "type": "scattergl",
         "x": [
          34,
          34
         ],
         "xaxis": "x8",
         "y": [
          0,
          0.06734344738256354
         ],
         "yaxis": "y8"
        },
        {
         "line": {
          "color": "#3f3f3f"
         },
         "mode": "lines",
         "name": "Order=2",
         "showlegend": false,
         "type": "scattergl",
         "x": [
          35,
          35
         ],
         "xaxis": "x8",
         "y": [
          0,
          -0.2256561240875001
         ],
         "yaxis": "y8"
        },
        {
         "line": {
          "color": "#3f3f3f"
         },
         "mode": "lines",
         "name": "Order=2",
         "showlegend": false,
         "type": "scattergl",
         "x": [
          36,
          36
         ],
         "xaxis": "x8",
         "y": [
          0,
          0.3292857289229544
         ],
         "yaxis": "y8"
        },
        {
         "line": {
          "color": "#3f3f3f"
         },
         "mode": "lines",
         "name": "Order=2",
         "showlegend": false,
         "type": "scattergl",
         "x": [
          37,
          37
         ],
         "xaxis": "x8",
         "y": [
          0,
          -0.14649785881166036
         ],
         "yaxis": "y8"
        },
        {
         "line": {
          "color": "#3f3f3f"
         },
         "mode": "lines",
         "name": "Order=2",
         "showlegend": false,
         "type": "scattergl",
         "x": [
          38,
          38
         ],
         "xaxis": "x8",
         "y": [
          0,
          0.02551983731728159
         ],
         "yaxis": "y8"
        },
        {
         "line": {
          "color": "#3f3f3f"
         },
         "mode": "lines",
         "name": "Order=2",
         "showlegend": false,
         "type": "scattergl",
         "x": [
          39,
          39
         ],
         "xaxis": "x8",
         "y": [
          0,
          -0.2115262903508218
         ],
         "yaxis": "y8"
        },
        {
         "line": {
          "color": "#3f3f3f"
         },
         "mode": "lines",
         "name": "Order=2",
         "showlegend": false,
         "type": "scattergl",
         "x": [
          40,
          40
         ],
         "xaxis": "x8",
         "y": [
          0,
          0.3251688204805085
         ],
         "yaxis": "y8"
        },
        {
         "marker": {
          "color": "#1f77b4",
          "size": 6
         },
         "mode": "markers",
         "name": "Order=2",
         "showlegend": false,
         "type": "scattergl",
         "x": [
          0,
          1,
          2,
          3,
          4,
          5,
          6,
          7,
          8,
          9,
          10,
          11,
          12,
          13,
          14,
          15,
          16,
          17,
          18,
          19,
          20,
          21,
          22,
          23,
          24,
          25,
          26,
          27,
          28,
          29,
          30,
          31,
          32,
          33,
          34,
          35,
          36,
          37,
          38,
          39,
          40
         ],
         "xaxis": "x8",
         "y": [
          1,
          -0.5336175383952428,
          0.10689870282957187,
          -0.39397431873043914,
          0.585628332877483,
          -0.3035174030126254,
          0.02627498221700039,
          -0.10883282244291373,
          0.32879815902884757,
          -0.24381824264099716,
          -0.008373388586904581,
          -0.14441967520294502,
          0.42333542140319214,
          -0.2523955979922892,
          0.060142764253891895,
          -0.2825651798407276,
          0.4835933769631534,
          -0.2907239957727951,
          0.1124665583482224,
          -0.30183959869281346,
          0.47292685109912713,
          -0.28291072706268355,
          0.1254293762130648,
          -0.3339249063521629,
          0.4843694028341144,
          -0.2667500287019585,
          0.09404246538466299,
          -0.26270973272074605,
          0.3913034777986729,
          -0.21628396371493655,
          0.08053010182741309,
          -0.23659849347722414,
          0.36155792337275955,
          -0.1934109333249385,
          0.06734344738256354,
          -0.2256561240875001,
          0.3292857289229544,
          -0.14649785881166036,
          0.02551983731728159,
          -0.2115262903508218,
          0.3251688204805085
         ],
         "yaxis": "y8"
        },
        {
         "line": {
          "color": "rgba(255,255,255,0)"
         },
         "mode": "lines",
         "name": "UC",
         "showlegend": false,
         "type": "scatter",
         "x": [
          0,
          1,
          2,
          3,
          4,
          5,
          6,
          7,
          8,
          9,
          10,
          11,
          12,
          13,
          14,
          15,
          16,
          17,
          18,
          19,
          20,
          21,
          22,
          23,
          24,
          25,
          26,
          27,
          28,
          29,
          30,
          31,
          32,
          33,
          34,
          35,
          36,
          37,
          38,
          39,
          40
         ],
         "xaxis": "x8",
         "y": [
          0,
          0.1868752335527668,
          0.23411636139158748,
          0.23581477765349848,
          0.2577782161549308,
          0.3006718926837834,
          0.3111878498421844,
          0.3112653159389481,
          0.3125913919779648,
          0.3244443955714286,
          0.3307812683243398,
          0.33078867051422706,
          0.33298333073063935,
          0.35127620095921314,
          0.3575532466981086,
          0.3579063608657667,
          0.36561397626917647,
          0.3873081989182184,
          0.3948556018822127,
          0.3959727174143712,
          0.4039278952512705,
          0.4228228919448745,
          0.4293826521967914,
          0.4306603021254974,
          0.43960935913072147,
          0.45786779181437665,
          0.46326315974995014,
          0.4639293704141319,
          0.46909582298760544,
          0.4803596585575154,
          0.48374853985219707,
          0.48421648001938006,
          0.48823705884734075,
          0.4974995619829121,
          0.5001185361499096,
          0.5004351163870503,
          0.5039760371995023,
          0.5114343008194999,
          0.512897674760202,
          0.5129420162006468,
          0.5159792627663919
         ],
         "yaxis": "y8"
        },
        {
         "fill": "tonexty",
         "fillcolor": "rgba(32, 146, 230,0.3)",
         "line": {
          "color": "rgba(255,255,255,0)"
         },
         "mode": "lines",
         "name": "LC",
         "showlegend": false,
         "type": "scatter",
         "x": [
          0,
          1,
          2,
          3,
          4,
          5,
          6,
          7,
          8,
          9,
          10,
          11,
          12,
          13,
          14,
          15,
          16,
          17,
          18,
          19,
          20,
          21,
          22,
          23,
          24,
          25,
          26,
          27,
          28,
          29,
          30,
          31,
          32,
          33,
          34,
          35,
          36,
          37,
          38,
          39,
          40
         ],
         "xaxis": "x8",
         "y": [
          0,
          -0.1868752335527668,
          -0.23411636139158745,
          -0.2358147776534985,
          -0.2577782161549308,
          -0.30067189268378336,
          -0.3111878498421844,
          -0.31126531593894813,
          -0.3125913919779648,
          -0.3244443955714287,
          -0.3307812683243398,
          -0.33078867051422706,
          -0.3329833307306393,
          -0.35127620095921314,
          -0.3575532466981085,
          -0.35790636086576666,
          -0.36561397626917647,
          -0.3873081989182184,
          -0.39485560188221264,
          -0.3959727174143712,
          -0.4039278952512705,
          -0.4228228919448745,
          -0.4293826521967914,
          -0.43066030212549744,
          -0.4396093591307214,
          -0.45786779181437665,
          -0.4632631597499502,
          -0.46392937041413196,
          -0.46909582298760544,
          -0.4803596585575154,
          -0.4837485398521971,
          -0.48421648001938,
          -0.48823705884734075,
          -0.4974995619829121,
          -0.5001185361499098,
          -0.5004351163870503,
          -0.5039760371995023,
          -0.5114343008194999,
          -0.512897674760202,
          -0.5129420162006468,
          -0.515979262766392
         ],
         "yaxis": "y8"
        },
        {
         "line": {
          "color": "#3f3f3f"
         },
         "mode": "lines",
         "name": "Order=2",
         "showlegend": false,
         "type": "scattergl",
         "x": [
          0,
          0
         ],
         "xaxis": "x9",
         "y": [
          0,
          1
         ],
         "yaxis": "y9"
        },
        {
         "line": {
          "color": "#3f3f3f"
         },
         "mode": "lines",
         "name": "Order=2",
         "showlegend": false,
         "type": "scattergl",
         "x": [
          1,
          1
         ],
         "xaxis": "x9",
         "y": [
          0,
          -0.538513112141988
         ],
         "yaxis": "y9"
        },
        {
         "line": {
          "color": "#3f3f3f"
         },
         "mode": "lines",
         "name": "Order=2",
         "showlegend": false,
         "type": "scattergl",
         "x": [
          2,
          2
         ],
         "xaxis": "x9",
         "y": [
          0,
          -0.2550945605848007
         ],
         "yaxis": "y9"
        },
        {
         "line": {
          "color": "#3f3f3f"
         },
         "mode": "lines",
         "name": "Order=2",
         "showlegend": false,
         "type": "scattergl",
         "x": [
          3,
          3
         ],
         "xaxis": "x9",
         "y": [
          0,
          -0.7062396893866735
         ],
         "yaxis": "y9"
        },
        {
         "line": {
          "color": "#3f3f3f"
         },
         "mode": "lines",
         "name": "Order=2",
         "showlegend": false,
         "type": "scattergl",
         "x": [
          4,
          4
         ],
         "xaxis": "x9",
         "y": [
          0,
          -0.11890285262380727
         ],
         "yaxis": "y9"
        },
        {
         "line": {
          "color": "#3f3f3f"
         },
         "mode": "lines",
         "name": "Order=2",
         "showlegend": false,
         "type": "scattergl",
         "x": [
          5,
          5
         ],
         "xaxis": "x9",
         "y": [
          0,
          -0.16668050373185592
         ],
         "yaxis": "y9"
        },
        {
         "line": {
          "color": "#3f3f3f"
         },
         "mode": "lines",
         "name": "Order=2",
         "showlegend": false,
         "type": "scattergl",
         "x": [
          6,
          6
         ],
         "xaxis": "x9",
         "y": [
          0,
          -0.4385742441567126
         ],
         "yaxis": "y9"
        },
        {
         "line": {
          "color": "#3f3f3f"
         },
         "mode": "lines",
         "name": "Order=2",
         "showlegend": false,
         "type": "scattergl",
         "x": [
          7,
          7
         ],
         "xaxis": "x9",
         "y": [
          0,
          -0.22063154533084336
         ],
         "yaxis": "y9"
        },
        {
         "line": {
          "color": "#3f3f3f"
         },
         "mode": "lines",
         "name": "Order=2",
         "showlegend": false,
         "type": "scattergl",
         "x": [
          8,
          8
         ],
         "xaxis": "x9",
         "y": [
          0,
          -0.0013509590943406769
         ],
         "yaxis": "y9"
        },
        {
         "line": {
          "color": "#3f3f3f"
         },
         "mode": "lines",
         "name": "Order=2",
         "showlegend": false,
         "type": "scattergl",
         "x": [
          9,
          9
         ],
         "xaxis": "x9",
         "y": [
          0,
          -0.0980022470084072
         ],
         "yaxis": "y9"
        },
        {
         "line": {
          "color": "#3f3f3f"
         },
         "mode": "lines",
         "name": "Order=2",
         "showlegend": false,
         "type": "scattergl",
         "x": [
          10,
          10
         ],
         "xaxis": "x9",
         "y": [
          0,
          -0.015918818238517974
         ],
         "yaxis": "y9"
        },
        {
         "line": {
          "color": "#3f3f3f"
         },
         "mode": "lines",
         "name": "Order=2",
         "showlegend": false,
         "type": "scattergl",
         "x": [
          11,
          11
         ],
         "xaxis": "x9",
         "y": [
          0,
          -0.5289173391979033
         ],
         "yaxis": "y9"
        },
        {
         "line": {
          "color": "#3f3f3f"
         },
         "mode": "lines",
         "name": "Order=2",
         "showlegend": false,
         "type": "scattergl",
         "x": [
          12,
          12
         ],
         "xaxis": "x9",
         "y": [
          0,
          -0.3770326310045118
         ],
         "yaxis": "y9"
        },
        {
         "line": {
          "color": "#3f3f3f"
         },
         "mode": "lines",
         "name": "Order=2",
         "showlegend": false,
         "type": "scattergl",
         "x": [
          13,
          13
         ],
         "xaxis": "x9",
         "y": [
          0,
          -0.45828094067186836
         ],
         "yaxis": "y9"
        },
        {
         "line": {
          "color": "#3f3f3f"
         },
         "mode": "lines",
         "name": "Order=2",
         "showlegend": false,
         "type": "scattergl",
         "x": [
          14,
          14
         ],
         "xaxis": "x9",
         "y": [
          0,
          -0.698085147994853
         ],
         "yaxis": "y9"
        },
        {
         "line": {
          "color": "#3f3f3f"
         },
         "mode": "lines",
         "name": "Order=2",
         "showlegend": false,
         "type": "scattergl",
         "x": [
          15,
          15
         ],
         "xaxis": "x9",
         "y": [
          0,
          -3.126552603350294
         ],
         "yaxis": "y9"
        },
        {
         "line": {
          "color": "#3f3f3f"
         },
         "mode": "lines",
         "name": "Order=2",
         "showlegend": false,
         "type": "scattergl",
         "x": [
          16,
          16
         ],
         "xaxis": "x9",
         "y": [
          0,
          1.3126692247651273
         ],
         "yaxis": "y9"
        },
        {
         "line": {
          "color": "#3f3f3f"
         },
         "mode": "lines",
         "name": "Order=2",
         "showlegend": false,
         "type": "scattergl",
         "x": [
          17,
          17
         ],
         "xaxis": "x9",
         "y": [
          0,
          0.6115175816284056
         ],
         "yaxis": "y9"
        },
        {
         "line": {
          "color": "#3f3f3f"
         },
         "mode": "lines",
         "name": "Order=2",
         "showlegend": false,
         "type": "scattergl",
         "x": [
          18,
          18
         ],
         "xaxis": "x9",
         "y": [
          0,
          0.563503580618361
         ],
         "yaxis": "y9"
        },
        {
         "line": {
          "color": "#3f3f3f"
         },
         "mode": "lines",
         "name": "Order=2",
         "showlegend": false,
         "type": "scattergl",
         "x": [
          19,
          19
         ],
         "xaxis": "x9",
         "y": [
          0,
          0.20161578665288857
         ],
         "yaxis": "y9"
        },
        {
         "line": {
          "color": "#3f3f3f"
         },
         "mode": "lines",
         "name": "Order=2",
         "showlegend": false,
         "type": "scattergl",
         "x": [
          20,
          20
         ],
         "xaxis": "x9",
         "y": [
          0,
          0.29428250098152614
         ],
         "yaxis": "y9"
        },
        {
         "marker": {
          "color": "#1f77b4",
          "size": 6
         },
         "mode": "markers",
         "name": "Order=2",
         "showlegend": false,
         "type": "scattergl",
         "x": [
          0,
          1,
          2,
          3,
          4,
          5,
          6,
          7,
          8,
          9,
          10,
          11,
          12,
          13,
          14,
          15,
          16,
          17,
          18,
          19,
          20
         ],
         "xaxis": "x9",
         "y": [
          1,
          -0.538513112141988,
          -0.2550945605848007,
          -0.7062396893866735,
          -0.11890285262380727,
          -0.16668050373185592,
          -0.4385742441567126,
          -0.22063154533084336,
          -0.0013509590943406769,
          -0.0980022470084072,
          -0.015918818238517974,
          -0.5289173391979033,
          -0.3770326310045118,
          -0.45828094067186836,
          -0.698085147994853,
          -3.126552603350294,
          1.3126692247651273,
          0.6115175816284056,
          0.563503580618361,
          0.20161578665288857,
          0.29428250098152614
         ],
         "yaxis": "y9"
        },
        {
         "line": {
          "color": "rgba(255,255,255,0)"
         },
         "mode": "lines",
         "name": "UC",
         "showlegend": false,
         "type": "scatter",
         "x": [
          0,
          1,
          2,
          3,
          4,
          5,
          6,
          7,
          8,
          9,
          10,
          11,
          12,
          13,
          14,
          15,
          16,
          17,
          18,
          19,
          20
         ],
         "xaxis": "x9",
         "y": [
          0,
          0.1868752335527668,
          0.18687523355276678,
          0.1868752335527668,
          0.18687523355276678,
          0.18687523355276678,
          0.18687523355276675,
          0.18687523355276678,
          0.18687523355276678,
          0.18687523355276678,
          0.18687523355276678,
          0.1868752335527668,
          0.18687523355276678,
          0.18687523355276675,
          0.1868752335527668,
          0.18687523355276658,
          0.1868752335527668,
          0.1868752335527668,
          0.1868752335527668,
          0.18687523355276678,
          0.18687523355276675
         ],
         "yaxis": "y9"
        },
        {
         "fill": "tonexty",
         "fillcolor": "rgba(32, 146, 230,0.3)",
         "line": {
          "color": "rgba(255,255,255,0)"
         },
         "mode": "lines",
         "name": "LC",
         "showlegend": false,
         "type": "scatter",
         "x": [
          0,
          1,
          2,
          3,
          4,
          5,
          6,
          7,
          8,
          9,
          10,
          11,
          12,
          13,
          14,
          15,
          16,
          17,
          18,
          19,
          20
         ],
         "xaxis": "x9",
         "y": [
          0,
          -0.1868752335527668,
          -0.18687523355276675,
          -0.1868752335527668,
          -0.18687523355276675,
          -0.18687523355276678,
          -0.18687523355276675,
          -0.18687523355276678,
          -0.18687523355276678,
          -0.1868752335527668,
          -0.18687523355276678,
          -0.1868752335527668,
          -0.1868752335527668,
          -0.18687523355276675,
          -0.1868752335527668,
          -0.18687523355276658,
          -0.1868752335527668,
          -0.1868752335527668,
          -0.1868752335527668,
          -0.18687523355276678,
          -0.18687523355276678
         ],
         "yaxis": "y9"
        }
       ],
       "layout": {
        "annotations": [
         {
          "font": {
           "size": 16
          },
          "showarrow": false,
          "text": "PIB (transformed)",
          "x": 0.1411111111111111,
          "xanchor": "center",
          "xref": "paper",
          "y": 1,
          "yanchor": "bottom",
          "yref": "paper"
         },
         {
          "font": {
           "size": 16
          },
          "showarrow": false,
          "text": "ACF",
          "x": 0.49,
          "xanchor": "center",
          "xref": "paper",
          "y": 1,
          "yanchor": "bottom",
          "yref": "paper"
         },
         {
          "font": {
           "size": 16
          },
          "showarrow": false,
          "text": "PACF",
          "x": 0.8388888888888888,
          "xanchor": "center",
          "xref": "paper",
          "y": 1,
          "yanchor": "bottom",
          "yref": "paper"
         },
         {
          "font": {
           "size": 16
          },
          "showarrow": false,
          "text": "Actual",
          "textangle": 90,
          "x": 0.98,
          "xanchor": "left",
          "xref": "paper",
          "y": 0.8666666666666667,
          "yanchor": "middle",
          "yref": "paper"
         },
         {
          "font": {
           "size": 16
          },
          "showarrow": false,
          "text": "Order=1",
          "textangle": 90,
          "x": 0.98,
          "xanchor": "left",
          "xref": "paper",
          "y": 0.5,
          "yanchor": "middle",
          "yref": "paper"
         },
         {
          "font": {
           "size": 16
          },
          "showarrow": false,
          "text": "Order=2",
          "textangle": 90,
          "x": 0.98,
          "xanchor": "left",
          "xref": "paper",
          "y": 0.13333333333333333,
          "yanchor": "middle",
          "yref": "paper"
         }
        ],
        "autosize": false,
        "height": 700,
        "showlegend": false,
        "template": {
         "data": {
          "bar": [
           {
            "error_x": {
             "color": "rgb(36,36,36)"
            },
            "error_y": {
             "color": "rgb(36,36,36)"
            },
            "marker": {
             "line": {
              "color": "white",
              "width": 0.5
             },
             "pattern": {
              "fillmode": "overlay",
              "size": 10,
              "solidity": 0.2
             }
            },
            "type": "bar"
           }
          ],
          "barpolar": [
           {
            "marker": {
             "line": {
              "color": "white",
              "width": 0.5
             },
             "pattern": {
              "fillmode": "overlay",
              "size": 10,
              "solidity": 0.2
             }
            },
            "type": "barpolar"
           }
          ],
          "carpet": [
           {
            "aaxis": {
             "endlinecolor": "rgb(36,36,36)",
             "gridcolor": "white",
             "linecolor": "white",
             "minorgridcolor": "white",
             "startlinecolor": "rgb(36,36,36)"
            },
            "baxis": {
             "endlinecolor": "rgb(36,36,36)",
             "gridcolor": "white",
             "linecolor": "white",
             "minorgridcolor": "white",
             "startlinecolor": "rgb(36,36,36)"
            },
            "type": "carpet"
           }
          ],
          "choropleth": [
           {
            "colorbar": {
             "outlinewidth": 1,
             "tickcolor": "rgb(36,36,36)",
             "ticks": "outside"
            },
            "type": "choropleth"
           }
          ],
          "contour": [
           {
            "colorbar": {
             "outlinewidth": 1,
             "tickcolor": "rgb(36,36,36)",
             "ticks": "outside"
            },
            "colorscale": [
             [
              0,
              "#440154"
             ],
             [
              0.1111111111111111,
              "#482878"
             ],
             [
              0.2222222222222222,
              "#3e4989"
             ],
             [
              0.3333333333333333,
              "#31688e"
             ],
             [
              0.4444444444444444,
              "#26828e"
             ],
             [
              0.5555555555555556,
              "#1f9e89"
             ],
             [
              0.6666666666666666,
              "#35b779"
             ],
             [
              0.7777777777777778,
              "#6ece58"
             ],
             [
              0.8888888888888888,
              "#b5de2b"
             ],
             [
              1,
              "#fde725"
             ]
            ],
            "type": "contour"
           }
          ],
          "contourcarpet": [
           {
            "colorbar": {
             "outlinewidth": 1,
             "tickcolor": "rgb(36,36,36)",
             "ticks": "outside"
            },
            "type": "contourcarpet"
           }
          ],
          "heatmap": [
           {
            "colorbar": {
             "outlinewidth": 1,
             "tickcolor": "rgb(36,36,36)",
             "ticks": "outside"
            },
            "colorscale": [
             [
              0,
              "#440154"
             ],
             [
              0.1111111111111111,
              "#482878"
             ],
             [
              0.2222222222222222,
              "#3e4989"
             ],
             [
              0.3333333333333333,
              "#31688e"
             ],
             [
              0.4444444444444444,
              "#26828e"
             ],
             [
              0.5555555555555556,
              "#1f9e89"
             ],
             [
              0.6666666666666666,
              "#35b779"
             ],
             [
              0.7777777777777778,
              "#6ece58"
             ],
             [
              0.8888888888888888,
              "#b5de2b"
             ],
             [
              1,
              "#fde725"
             ]
            ],
            "type": "heatmap"
           }
          ],
          "heatmapgl": [
           {
            "colorbar": {
             "outlinewidth": 1,
             "tickcolor": "rgb(36,36,36)",
             "ticks": "outside"
            },
            "colorscale": [
             [
              0,
              "#440154"
             ],
             [
              0.1111111111111111,
              "#482878"
             ],
             [
              0.2222222222222222,
              "#3e4989"
             ],
             [
              0.3333333333333333,
              "#31688e"
             ],
             [
              0.4444444444444444,
              "#26828e"
             ],
             [
              0.5555555555555556,
              "#1f9e89"
             ],
             [
              0.6666666666666666,
              "#35b779"
             ],
             [
              0.7777777777777778,
              "#6ece58"
             ],
             [
              0.8888888888888888,
              "#b5de2b"
             ],
             [
              1,
              "#fde725"
             ]
            ],
            "type": "heatmapgl"
           }
          ],
          "histogram": [
           {
            "marker": {
             "line": {
              "color": "white",
              "width": 0.6
             }
            },
            "type": "histogram"
           }
          ],
          "histogram2d": [
           {
            "colorbar": {
             "outlinewidth": 1,
             "tickcolor": "rgb(36,36,36)",
             "ticks": "outside"
            },
            "colorscale": [
             [
              0,
              "#440154"
             ],
             [
              0.1111111111111111,
              "#482878"
             ],
             [
              0.2222222222222222,
              "#3e4989"
             ],
             [
              0.3333333333333333,
              "#31688e"
             ],
             [
              0.4444444444444444,
              "#26828e"
             ],
             [
              0.5555555555555556,
              "#1f9e89"
             ],
             [
              0.6666666666666666,
              "#35b779"
             ],
             [
              0.7777777777777778,
              "#6ece58"
             ],
             [
              0.8888888888888888,
              "#b5de2b"
             ],
             [
              1,
              "#fde725"
             ]
            ],
            "type": "histogram2d"
           }
          ],
          "histogram2dcontour": [
           {
            "colorbar": {
             "outlinewidth": 1,
             "tickcolor": "rgb(36,36,36)",
             "ticks": "outside"
            },
            "colorscale": [
             [
              0,
              "#440154"
             ],
             [
              0.1111111111111111,
              "#482878"
             ],
             [
              0.2222222222222222,
              "#3e4989"
             ],
             [
              0.3333333333333333,
              "#31688e"
             ],
             [
              0.4444444444444444,
              "#26828e"
             ],
             [
              0.5555555555555556,
              "#1f9e89"
             ],
             [
              0.6666666666666666,
              "#35b779"
             ],
             [
              0.7777777777777778,
              "#6ece58"
             ],
             [
              0.8888888888888888,
              "#b5de2b"
             ],
             [
              1,
              "#fde725"
             ]
            ],
            "type": "histogram2dcontour"
           }
          ],
          "mesh3d": [
           {
            "colorbar": {
             "outlinewidth": 1,
             "tickcolor": "rgb(36,36,36)",
             "ticks": "outside"
            },
            "type": "mesh3d"
           }
          ],
          "parcoords": [
           {
            "line": {
             "colorbar": {
              "outlinewidth": 1,
              "tickcolor": "rgb(36,36,36)",
              "ticks": "outside"
             }
            },
            "type": "parcoords"
           }
          ],
          "pie": [
           {
            "automargin": true,
            "type": "pie"
           }
          ],
          "scatter": [
           {
            "fillpattern": {
             "fillmode": "overlay",
             "size": 10,
             "solidity": 0.2
            },
            "type": "scatter"
           }
          ],
          "scatter3d": [
           {
            "line": {
             "colorbar": {
              "outlinewidth": 1,
              "tickcolor": "rgb(36,36,36)",
              "ticks": "outside"
             }
            },
            "marker": {
             "colorbar": {
              "outlinewidth": 1,
              "tickcolor": "rgb(36,36,36)",
              "ticks": "outside"
             }
            },
            "type": "scatter3d"
           }
          ],
          "scattercarpet": [
           {
            "marker": {
             "colorbar": {
              "outlinewidth": 1,
              "tickcolor": "rgb(36,36,36)",
              "ticks": "outside"
             }
            },
            "type": "scattercarpet"
           }
          ],
          "scattergeo": [
           {
            "marker": {
             "colorbar": {
              "outlinewidth": 1,
              "tickcolor": "rgb(36,36,36)",
              "ticks": "outside"
             }
            },
            "type": "scattergeo"
           }
          ],
          "scattergl": [
           {
            "marker": {
             "colorbar": {
              "outlinewidth": 1,
              "tickcolor": "rgb(36,36,36)",
              "ticks": "outside"
             }
            },
            "type": "scattergl"
           }
          ],
          "scattermapbox": [
           {
            "marker": {
             "colorbar": {
              "outlinewidth": 1,
              "tickcolor": "rgb(36,36,36)",
              "ticks": "outside"
             }
            },
            "type": "scattermapbox"
           }
          ],
          "scatterpolar": [
           {
            "marker": {
             "colorbar": {
              "outlinewidth": 1,
              "tickcolor": "rgb(36,36,36)",
              "ticks": "outside"
             }
            },
            "type": "scatterpolar"
           }
          ],
          "scatterpolargl": [
           {
            "marker": {
             "colorbar": {
              "outlinewidth": 1,
              "tickcolor": "rgb(36,36,36)",
              "ticks": "outside"
             }
            },
            "type": "scatterpolargl"
           }
          ],
          "scatterternary": [
           {
            "marker": {
             "colorbar": {
              "outlinewidth": 1,
              "tickcolor": "rgb(36,36,36)",
              "ticks": "outside"
             }
            },
            "type": "scatterternary"
           }
          ],
          "surface": [
           {
            "colorbar": {
             "outlinewidth": 1,
             "tickcolor": "rgb(36,36,36)",
             "ticks": "outside"
            },
            "colorscale": [
             [
              0,
              "#440154"
             ],
             [
              0.1111111111111111,
              "#482878"
             ],
             [
              0.2222222222222222,
              "#3e4989"
             ],
             [
              0.3333333333333333,
              "#31688e"
             ],
             [
              0.4444444444444444,
              "#26828e"
             ],
             [
              0.5555555555555556,
              "#1f9e89"
             ],
             [
              0.6666666666666666,
              "#35b779"
             ],
             [
              0.7777777777777778,
              "#6ece58"
             ],
             [
              0.8888888888888888,
              "#b5de2b"
             ],
             [
              1,
              "#fde725"
             ]
            ],
            "type": "surface"
           }
          ],
          "table": [
           {
            "cells": {
             "fill": {
              "color": "rgb(237,237,237)"
             },
             "line": {
              "color": "white"
             }
            },
            "header": {
             "fill": {
              "color": "rgb(217,217,217)"
             },
             "line": {
              "color": "white"
             }
            },
            "type": "table"
           }
          ]
         },
         "layout": {
          "annotationdefaults": {
           "arrowhead": 0,
           "arrowwidth": 1
          },
          "autotypenumbers": "strict",
          "coloraxis": {
           "colorbar": {
            "outlinewidth": 1,
            "tickcolor": "rgb(36,36,36)",
            "ticks": "outside"
           }
          },
          "colorscale": {
           "diverging": [
            [
             0,
             "rgb(103,0,31)"
            ],
            [
             0.1,
             "rgb(178,24,43)"
            ],
            [
             0.2,
             "rgb(214,96,77)"
            ],
            [
             0.3,
             "rgb(244,165,130)"
            ],
            [
             0.4,
             "rgb(253,219,199)"
            ],
            [
             0.5,
             "rgb(247,247,247)"
            ],
            [
             0.6,
             "rgb(209,229,240)"
            ],
            [
             0.7,
             "rgb(146,197,222)"
            ],
            [
             0.8,
             "rgb(67,147,195)"
            ],
            [
             0.9,
             "rgb(33,102,172)"
            ],
            [
             1,
             "rgb(5,48,97)"
            ]
           ],
           "sequential": [
            [
             0,
             "#440154"
            ],
            [
             0.1111111111111111,
             "#482878"
            ],
            [
             0.2222222222222222,
             "#3e4989"
            ],
            [
             0.3333333333333333,
             "#31688e"
            ],
            [
             0.4444444444444444,
             "#26828e"
            ],
            [
             0.5555555555555556,
             "#1f9e89"
            ],
            [
             0.6666666666666666,
             "#35b779"
            ],
            [
             0.7777777777777778,
             "#6ece58"
            ],
            [
             0.8888888888888888,
             "#b5de2b"
            ],
            [
             1,
             "#fde725"
            ]
           ],
           "sequentialminus": [
            [
             0,
             "#440154"
            ],
            [
             0.1111111111111111,
             "#482878"
            ],
            [
             0.2222222222222222,
             "#3e4989"
            ],
            [
             0.3333333333333333,
             "#31688e"
            ],
            [
             0.4444444444444444,
             "#26828e"
            ],
            [
             0.5555555555555556,
             "#1f9e89"
            ],
            [
             0.6666666666666666,
             "#35b779"
            ],
            [
             0.7777777777777778,
             "#6ece58"
            ],
            [
             0.8888888888888888,
             "#b5de2b"
            ],
            [
             1,
             "#fde725"
            ]
           ]
          },
          "colorway": [
           "#1F77B4",
           "#FF7F0E",
           "#2CA02C",
           "#D62728",
           "#9467BD",
           "#8C564B",
           "#E377C2",
           "#7F7F7F",
           "#BCBD22",
           "#17BECF"
          ],
          "font": {
           "color": "rgb(36,36,36)"
          },
          "geo": {
           "bgcolor": "white",
           "lakecolor": "white",
           "landcolor": "white",
           "showlakes": true,
           "showland": true,
           "subunitcolor": "white"
          },
          "hoverlabel": {
           "align": "left"
          },
          "hovermode": "closest",
          "mapbox": {
           "style": "light"
          },
          "paper_bgcolor": "white",
          "plot_bgcolor": "white",
          "polar": {
           "angularaxis": {
            "gridcolor": "rgb(232,232,232)",
            "linecolor": "rgb(36,36,36)",
            "showgrid": false,
            "showline": true,
            "ticks": "outside"
           },
           "bgcolor": "white",
           "radialaxis": {
            "gridcolor": "rgb(232,232,232)",
            "linecolor": "rgb(36,36,36)",
            "showgrid": false,
            "showline": true,
            "ticks": "outside"
           }
          },
          "scene": {
           "xaxis": {
            "backgroundcolor": "white",
            "gridcolor": "rgb(232,232,232)",
            "gridwidth": 2,
            "linecolor": "rgb(36,36,36)",
            "showbackground": true,
            "showgrid": false,
            "showline": true,
            "ticks": "outside",
            "zeroline": false,
            "zerolinecolor": "rgb(36,36,36)"
           },
           "yaxis": {
            "backgroundcolor": "white",
            "gridcolor": "rgb(232,232,232)",
            "gridwidth": 2,
            "linecolor": "rgb(36,36,36)",
            "showbackground": true,
            "showgrid": false,
            "showline": true,
            "ticks": "outside",
            "zeroline": false,
            "zerolinecolor": "rgb(36,36,36)"
           },
           "zaxis": {
            "backgroundcolor": "white",
            "gridcolor": "rgb(232,232,232)",
            "gridwidth": 2,
            "linecolor": "rgb(36,36,36)",
            "showbackground": true,
            "showgrid": false,
            "showline": true,
            "ticks": "outside",
            "zeroline": false,
            "zerolinecolor": "rgb(36,36,36)"
           }
          },
          "shapedefaults": {
           "fillcolor": "black",
           "line": {
            "width": 0
           },
           "opacity": 0.3
          },
          "ternary": {
           "aaxis": {
            "gridcolor": "rgb(232,232,232)",
            "linecolor": "rgb(36,36,36)",
            "showgrid": false,
            "showline": true,
            "ticks": "outside"
           },
           "baxis": {
            "gridcolor": "rgb(232,232,232)",
            "linecolor": "rgb(36,36,36)",
            "showgrid": false,
            "showline": true,
            "ticks": "outside"
           },
           "bgcolor": "white",
           "caxis": {
            "gridcolor": "rgb(232,232,232)",
            "linecolor": "rgb(36,36,36)",
            "showgrid": false,
            "showline": true,
            "ticks": "outside"
           }
          },
          "title": {
           "x": 0.05
          },
          "xaxis": {
           "automargin": true,
           "gridcolor": "rgb(232,232,232)",
           "linecolor": "rgb(36,36,36)",
           "showgrid": false,
           "showline": true,
           "ticks": "outside",
           "title": {
            "standoff": 15
           },
           "zeroline": false,
           "zerolinecolor": "rgb(36,36,36)"
          },
          "yaxis": {
           "automargin": true,
           "gridcolor": "rgb(232,232,232)",
           "linecolor": "rgb(36,36,36)",
           "showgrid": false,
           "showline": true,
           "ticks": "outside",
           "title": {
            "standoff": 15
           },
           "zeroline": false,
           "zerolinecolor": "rgb(36,36,36)"
          }
         }
        },
        "title": {
         "text": "Difference Plot | PIB"
        },
        "width": 1000,
        "xaxis": {
         "anchor": "y",
         "domain": [
          0,
          0.2822222222222222
         ],
         "matches": "x7",
         "showticklabels": false
        },
        "xaxis2": {
         "anchor": "y2",
         "domain": [
          0.34888888888888886,
          0.6311111111111111
         ],
         "matches": "x8",
         "range": [
          -1,
          42
         ],
         "showticklabels": false
        },
        "xaxis3": {
         "anchor": "y3",
         "domain": [
          0.6977777777777777,
          0.98
         ],
         "matches": "x9",
         "range": [
          -1,
          22
         ],
         "showticklabels": false
        },
        "xaxis4": {
         "anchor": "y4",
         "domain": [
          0,
          0.2822222222222222
         ],
         "matches": "x7",
         "showticklabels": false
        },
        "xaxis5": {
         "anchor": "y5",
         "domain": [
          0.34888888888888886,
          0.6311111111111111
         ],
         "matches": "x8",
         "range": [
          -1,
          42
         ],
         "showticklabels": false
        },
        "xaxis6": {
         "anchor": "y6",
         "domain": [
          0.6977777777777777,
          0.98
         ],
         "matches": "x9",
         "range": [
          -1,
          22
         ],
         "showticklabels": false
        },
        "xaxis7": {
         "anchor": "y7",
         "domain": [
          0,
          0.2822222222222222
         ]
        },
        "xaxis8": {
         "anchor": "y8",
         "domain": [
          0.34888888888888886,
          0.6311111111111111
         ],
         "range": [
          -1,
          42
         ]
        },
        "xaxis9": {
         "anchor": "y9",
         "domain": [
          0.6977777777777777,
          0.98
         ],
         "range": [
          -1,
          22
         ]
        },
        "yaxis": {
         "anchor": "x",
         "domain": [
          0.7333333333333333,
          1
         ]
        },
        "yaxis2": {
         "anchor": "x2",
         "domain": [
          0.7333333333333333,
          1
         ],
         "range": [
          -1.1,
          1.1
         ],
         "zerolinecolor": "#000000"
        },
        "yaxis3": {
         "anchor": "x3",
         "domain": [
          0.7333333333333333,
          1
         ],
         "range": [
          -1.1,
          1.1
         ],
         "zerolinecolor": "#000000"
        },
        "yaxis4": {
         "anchor": "x4",
         "domain": [
          0.36666666666666664,
          0.6333333333333333
         ]
        },
        "yaxis5": {
         "anchor": "x5",
         "domain": [
          0.36666666666666664,
          0.6333333333333333
         ],
         "range": [
          -1.1,
          1.1
         ],
         "zerolinecolor": "#000000"
        },
        "yaxis6": {
         "anchor": "x6",
         "domain": [
          0.36666666666666664,
          0.6333333333333333
         ],
         "range": [
          -1.1,
          1.1
         ],
         "zerolinecolor": "#000000"
        },
        "yaxis7": {
         "anchor": "x7",
         "domain": [
          0,
          0.26666666666666666
         ]
        },
        "yaxis8": {
         "anchor": "x8",
         "domain": [
          0,
          0.26666666666666666
         ],
         "range": [
          -1.1,
          1.1
         ],
         "zerolinecolor": "#000000"
        },
        "yaxis9": {
         "anchor": "x9",
         "domain": [
          0,
          0.26666666666666666
         ],
         "range": [
          -1.1,
          1.1
         ],
         "zerolinecolor": "#000000"
        }
       }
      }
     },
     "metadata": {},
     "output_type": "display_data"
    }
   ],
   "source": [
    "exp.plot_model(plot=\"diff\", \n",
    "               data_kwargs={\"order_list\": [1, 2], \"acf\": True, \"pacf\": True},\n",
    "               fig_kwargs = {\"height\":700,\"width\":1000,\"template\": \"simple_white\",\"hoverinfo\":\"skip\",\"big_data_threshold\":115})"
   ]
  },
  {
   "cell_type": "markdown",
   "metadata": {},
   "source": [
    "### xgboost_cds_dt"
   ]
  },
  {
   "cell_type": "code",
   "execution_count": 15,
   "metadata": {},
   "outputs": [
    {
     "data": {
      "text/html": [
       "<div>\n",
       "<style scoped>\n",
       "    .dataframe tbody tr th:only-of-type {\n",
       "        vertical-align: middle;\n",
       "    }\n",
       "\n",
       "    .dataframe tbody tr th {\n",
       "        vertical-align: top;\n",
       "    }\n",
       "\n",
       "    .dataframe thead th {\n",
       "        text-align: right;\n",
       "    }\n",
       "</style>\n",
       "<table border=\"1\" class=\"dataframe\">\n",
       "  <thead>\n",
       "    <tr style=\"text-align: right;\">\n",
       "      <th></th>\n",
       "      <th></th>\n",
       "      <th></th>\n",
       "    </tr>\n",
       "    <tr>\n",
       "      <th></th>\n",
       "      <th></th>\n",
       "      <th></th>\n",
       "    </tr>\n",
       "  </thead>\n",
       "  <tbody>\n",
       "    <tr>\n",
       "      <th>Initiated</th>\n",
       "      <td>. . . . . . . . . . . . . . . . . .</td>\n",
       "      <td>11:41:31</td>\n",
       "    </tr>\n",
       "    <tr>\n",
       "      <th>Status</th>\n",
       "      <td>. . . . . . . . . . . . . . . . . .</td>\n",
       "      <td>Fitting 3 Folds</td>\n",
       "    </tr>\n",
       "    <tr>\n",
       "      <th>Estimator</th>\n",
       "      <td>. . . . . . . . . . . . . . . . . .</td>\n",
       "      <td>Extreme Gradient Boosting w/ Cond. Deseasonali...</td>\n",
       "    </tr>\n",
       "  </tbody>\n",
       "</table>\n",
       "</div>"
      ],
      "text/plain": [
       "                                                \\\n",
       "                                                 \n",
       "Initiated  . . . . . . . . . . . . . . . . . .   \n",
       "Status     . . . . . . . . . . . . . . . . . .   \n",
       "Estimator  . . . . . . . . . . . . . . . . . .   \n",
       "\n",
       "                                                              \n",
       "                                                              \n",
       "Initiated                                           11:41:31  \n",
       "Status                                       Fitting 3 Folds  \n",
       "Estimator  Extreme Gradient Boosting w/ Cond. Deseasonali...  "
      ]
     },
     "metadata": {},
     "output_type": "display_data"
    },
    {
     "data": {
      "text/html": [
       "<style type=\"text/css\">\n",
       "#T_797cd_row3_col0, #T_797cd_row3_col1, #T_797cd_row3_col2, #T_797cd_row3_col3, #T_797cd_row3_col4, #T_797cd_row3_col5, #T_797cd_row3_col6 {\n",
       "  background: yellow;\n",
       "}\n",
       "</style>\n",
       "<table id=\"T_797cd\">\n",
       "  <thead>\n",
       "    <tr>\n",
       "      <th class=\"blank level0\" >&nbsp;</th>\n",
       "      <th id=\"T_797cd_level0_col0\" class=\"col_heading level0 col0\" >cutoff</th>\n",
       "      <th id=\"T_797cd_level0_col1\" class=\"col_heading level0 col1\" >MASE</th>\n",
       "      <th id=\"T_797cd_level0_col2\" class=\"col_heading level0 col2\" >RMSSE</th>\n",
       "      <th id=\"T_797cd_level0_col3\" class=\"col_heading level0 col3\" >MAE</th>\n",
       "      <th id=\"T_797cd_level0_col4\" class=\"col_heading level0 col4\" >RMSE</th>\n",
       "      <th id=\"T_797cd_level0_col5\" class=\"col_heading level0 col5\" >MAPE</th>\n",
       "      <th id=\"T_797cd_level0_col6\" class=\"col_heading level0 col6\" >SMAPE</th>\n",
       "    </tr>\n",
       "  </thead>\n",
       "  <tbody>\n",
       "    <tr>\n",
       "      <th id=\"T_797cd_level0_row0\" class=\"row_heading level0 row0\" >0</th>\n",
       "      <td id=\"T_797cd_row0_col0\" class=\"data row0 col0\" >2022Q4</td>\n",
       "      <td id=\"T_797cd_row0_col1\" class=\"data row0 col1\" >0.3542</td>\n",
       "      <td id=\"T_797cd_row0_col2\" class=\"data row0 col2\" >0.2710</td>\n",
       "      <td id=\"T_797cd_row0_col3\" class=\"data row0 col3\" >31921.1549</td>\n",
       "      <td id=\"T_797cd_row0_col4\" class=\"data row0 col4\" >31921.1549</td>\n",
       "      <td id=\"T_797cd_row0_col5\" class=\"data row0 col5\" >0.0124</td>\n",
       "      <td id=\"T_797cd_row0_col6\" class=\"data row0 col6\" >0.0123</td>\n",
       "    </tr>\n",
       "    <tr>\n",
       "      <th id=\"T_797cd_level0_row1\" class=\"row_heading level0 row1\" >1</th>\n",
       "      <td id=\"T_797cd_row1_col0\" class=\"data row1 col0\" >2023Q1</td>\n",
       "      <td id=\"T_797cd_row1_col1\" class=\"data row1 col1\" >2.2751</td>\n",
       "      <td id=\"T_797cd_row1_col2\" class=\"data row1 col2\" >1.7396</td>\n",
       "      <td id=\"T_797cd_row1_col3\" class=\"data row1 col3\" >208790.0910</td>\n",
       "      <td id=\"T_797cd_row1_col4\" class=\"data row1 col4\" >208790.0910</td>\n",
       "      <td id=\"T_797cd_row1_col5\" class=\"data row1 col5\" >0.0773</td>\n",
       "      <td id=\"T_797cd_row1_col6\" class=\"data row1 col6\" >0.0804</td>\n",
       "    </tr>\n",
       "    <tr>\n",
       "      <th id=\"T_797cd_level0_row2\" class=\"row_heading level0 row2\" >2</th>\n",
       "      <td id=\"T_797cd_row2_col0\" class=\"data row2 col0\" >2023Q2</td>\n",
       "      <td id=\"T_797cd_row2_col1\" class=\"data row2 col1\" >0.1725</td>\n",
       "      <td id=\"T_797cd_row2_col2\" class=\"data row2 col2\" >0.1323</td>\n",
       "      <td id=\"T_797cd_row2_col3\" class=\"data row2 col3\" >15984.3410</td>\n",
       "      <td id=\"T_797cd_row2_col4\" class=\"data row2 col4\" >15984.3410</td>\n",
       "      <td id=\"T_797cd_row2_col5\" class=\"data row2 col5\" >0.0058</td>\n",
       "      <td id=\"T_797cd_row2_col6\" class=\"data row2 col6\" >0.0058</td>\n",
       "    </tr>\n",
       "    <tr>\n",
       "      <th id=\"T_797cd_level0_row3\" class=\"row_heading level0 row3\" >Mean</th>\n",
       "      <td id=\"T_797cd_row3_col0\" class=\"data row3 col0\" >NaT</td>\n",
       "      <td id=\"T_797cd_row3_col1\" class=\"data row3 col1\" >0.9339</td>\n",
       "      <td id=\"T_797cd_row3_col2\" class=\"data row3 col2\" >0.7143</td>\n",
       "      <td id=\"T_797cd_row3_col3\" class=\"data row3 col3\" >85565.1956</td>\n",
       "      <td id=\"T_797cd_row3_col4\" class=\"data row3 col4\" >85565.1956</td>\n",
       "      <td id=\"T_797cd_row3_col5\" class=\"data row3 col5\" >0.0318</td>\n",
       "      <td id=\"T_797cd_row3_col6\" class=\"data row3 col6\" >0.0328</td>\n",
       "    </tr>\n",
       "    <tr>\n",
       "      <th id=\"T_797cd_level0_row4\" class=\"row_heading level0 row4\" >SD</th>\n",
       "      <td id=\"T_797cd_row4_col0\" class=\"data row4 col0\" >NaT</td>\n",
       "      <td id=\"T_797cd_row4_col1\" class=\"data row4 col1\" >0.9512</td>\n",
       "      <td id=\"T_797cd_row4_col2\" class=\"data row4 col2\" >0.7272</td>\n",
       "      <td id=\"T_797cd_row4_col3\" class=\"data row4 col3\" >87375.7275</td>\n",
       "      <td id=\"T_797cd_row4_col4\" class=\"data row4 col4\" >87375.7275</td>\n",
       "      <td id=\"T_797cd_row4_col5\" class=\"data row4 col5\" >0.0323</td>\n",
       "      <td id=\"T_797cd_row4_col6\" class=\"data row4 col6\" >0.0337</td>\n",
       "    </tr>\n",
       "  </tbody>\n",
       "</table>\n"
      ],
      "text/plain": [
       "<pandas.io.formats.style.Styler at 0x236a8dd3b50>"
      ]
     },
     "metadata": {},
     "output_type": "display_data"
    },
    {
     "data": {
      "text/html": [],
      "text/plain": [
       "<IPython.core.display.HTML object>"
      ]
     },
     "metadata": {},
     "output_type": "display_data"
    },
    {
     "data": {
      "application/vnd.plotly.v1+json": {
       "config": {
        "plotlyServerURL": "https://plot.ly"
       },
       "data": [
        {
         "line": {
          "color": "rgb(31, 119, 180)",
          "width": 2
         },
         "marker": {
          "size": 2
         },
         "mode": "lines+markers",
         "name": "Actual",
         "type": "scattergl",
         "x": [
          "1996-01-01T00:00:00",
          "1996-04-01T00:00:00",
          "1996-07-01T00:00:00",
          "1996-10-01T00:00:00",
          "1997-01-01T00:00:00",
          "1997-04-01T00:00:00",
          "1997-07-01T00:00:00",
          "1997-10-01T00:00:00",
          "1998-01-01T00:00:00",
          "1998-04-01T00:00:00",
          "1998-07-01T00:00:00",
          "1998-10-01T00:00:00",
          "1999-01-01T00:00:00",
          "1999-04-01T00:00:00",
          "1999-07-01T00:00:00",
          "1999-10-01T00:00:00",
          "2000-01-01T00:00:00",
          "2000-04-01T00:00:00",
          "2000-07-01T00:00:00",
          "2000-10-01T00:00:00",
          "2001-01-01T00:00:00",
          "2001-04-01T00:00:00",
          "2001-07-01T00:00:00",
          "2001-10-01T00:00:00",
          "2002-01-01T00:00:00",
          "2002-04-01T00:00:00",
          "2002-07-01T00:00:00",
          "2002-10-01T00:00:00",
          "2003-01-01T00:00:00",
          "2003-04-01T00:00:00",
          "2003-07-01T00:00:00",
          "2003-10-01T00:00:00",
          "2004-01-01T00:00:00",
          "2004-04-01T00:00:00",
          "2004-07-01T00:00:00",
          "2004-10-01T00:00:00",
          "2005-01-01T00:00:00",
          "2005-04-01T00:00:00",
          "2005-07-01T00:00:00",
          "2005-10-01T00:00:00",
          "2006-01-01T00:00:00",
          "2006-04-01T00:00:00",
          "2006-07-01T00:00:00",
          "2006-10-01T00:00:00",
          "2007-01-01T00:00:00",
          "2007-04-01T00:00:00",
          "2007-07-01T00:00:00",
          "2007-10-01T00:00:00",
          "2008-01-01T00:00:00",
          "2008-04-01T00:00:00",
          "2008-07-01T00:00:00",
          "2008-10-01T00:00:00",
          "2009-01-01T00:00:00",
          "2009-04-01T00:00:00",
          "2009-07-01T00:00:00",
          "2009-10-01T00:00:00",
          "2010-01-01T00:00:00",
          "2010-04-01T00:00:00",
          "2010-07-01T00:00:00",
          "2010-10-01T00:00:00",
          "2011-01-01T00:00:00",
          "2011-04-01T00:00:00",
          "2011-07-01T00:00:00",
          "2011-10-01T00:00:00",
          "2012-01-01T00:00:00",
          "2012-04-01T00:00:00",
          "2012-07-01T00:00:00",
          "2012-10-01T00:00:00",
          "2013-01-01T00:00:00",
          "2013-04-01T00:00:00",
          "2013-07-01T00:00:00",
          "2013-10-01T00:00:00",
          "2014-01-01T00:00:00",
          "2014-04-01T00:00:00",
          "2014-07-01T00:00:00",
          "2014-10-01T00:00:00",
          "2015-01-01T00:00:00",
          "2015-04-01T00:00:00",
          "2015-07-01T00:00:00",
          "2015-10-01T00:00:00",
          "2016-01-01T00:00:00",
          "2016-04-01T00:00:00",
          "2016-07-01T00:00:00",
          "2016-10-01T00:00:00",
          "2017-01-01T00:00:00",
          "2017-04-01T00:00:00",
          "2017-07-01T00:00:00",
          "2017-10-01T00:00:00",
          "2018-01-01T00:00:00",
          "2018-04-01T00:00:00",
          "2018-07-01T00:00:00",
          "2018-10-01T00:00:00",
          "2019-01-01T00:00:00",
          "2019-04-01T00:00:00",
          "2019-07-01T00:00:00",
          "2019-10-01T00:00:00",
          "2020-01-01T00:00:00",
          "2020-04-01T00:00:00",
          "2020-07-01T00:00:00",
          "2020-10-01T00:00:00",
          "2021-01-01T00:00:00",
          "2021-04-01T00:00:00",
          "2021-07-01T00:00:00",
          "2021-10-01T00:00:00",
          "2022-01-01T00:00:00",
          "2022-04-01T00:00:00",
          "2022-07-01T00:00:00",
          "2022-10-01T00:00:00",
          "2023-01-01T00:00:00",
          "2023-04-01T00:00:00",
          "2023-07-01T00:00:00",
          "2023-10-01T00:00:00"
         ],
         "xaxis": "x",
         "y": [
          189323,
          204611,
          221513,
          239316,
          219117,
          232890,
          246178,
          253904,
          235701,
          251936,
          258043,
          256671,
          250668,
          268709,
          274126,
          294208,
          276927,
          292789,
          308896,
          320481,
          312470,
          323724,
          332524,
          347038,
          342297,
          367363,
          379795,
          399333,
          397242,
          418987,
          439350,
          462372,
          444783,
          481795,
          505252,
          525920,
          499710,
          535557,
          552859,
          582458,
          554270,
          581977,
          617848,
          655355,
          631423,
          670655,
          691846,
          726339,
          712055,
          769525,
          812603,
          815620,
          756127,
          803577,
          852843,
          920492,
          886397,
          944145,
          997935,
          1057370,
          1016531,
          1086712,
          1112334,
          1160805,
          1129474,
          1183126,
          1230449,
          1271711,
          1241614,
          1322580,
          1354134,
          1413291,
          1385981,
          1422322,
          1462125,
          1508525,
          1456659,
          1479970,
          1508228,
          1550930,
          1500299,
          1559050,
          1577170,
          1632808,
          1585673,
          1630730,
          1648635,
          1720441,
          1682083,
          1734099,
          1767856,
          1820103,
          1757554,
          1826761,
          1880610,
          1924206,
          1868095,
          1752724,
          1929323,
          2059455,
          2156670,
          2203639,
          2295851,
          2355982,
          2319528,
          2517481,
          2601182,
          2641485,
          2582706,
          2701105,
          2740961,
          2831340
         ],
         "yaxis": "y"
        },
        {
         "line": {
          "color": "rgb(255, 127, 14)",
          "width": 2
         },
         "marker": {
          "size": 2
         },
         "mode": "lines+markers",
         "name": "Seasonal",
         "type": "scattergl",
         "x": [
          "1996-01-01T00:00:00",
          "1996-04-01T00:00:00",
          "1996-07-01T00:00:00",
          "1996-10-01T00:00:00",
          "1997-01-01T00:00:00",
          "1997-04-01T00:00:00",
          "1997-07-01T00:00:00",
          "1997-10-01T00:00:00",
          "1998-01-01T00:00:00",
          "1998-04-01T00:00:00",
          "1998-07-01T00:00:00",
          "1998-10-01T00:00:00",
          "1999-01-01T00:00:00",
          "1999-04-01T00:00:00",
          "1999-07-01T00:00:00",
          "1999-10-01T00:00:00",
          "2000-01-01T00:00:00",
          "2000-04-01T00:00:00",
          "2000-07-01T00:00:00",
          "2000-10-01T00:00:00",
          "2001-01-01T00:00:00",
          "2001-04-01T00:00:00",
          "2001-07-01T00:00:00",
          "2001-10-01T00:00:00",
          "2002-01-01T00:00:00",
          "2002-04-01T00:00:00",
          "2002-07-01T00:00:00",
          "2002-10-01T00:00:00",
          "2003-01-01T00:00:00",
          "2003-04-01T00:00:00",
          "2003-07-01T00:00:00",
          "2003-10-01T00:00:00",
          "2004-01-01T00:00:00",
          "2004-04-01T00:00:00",
          "2004-07-01T00:00:00",
          "2004-10-01T00:00:00",
          "2005-01-01T00:00:00",
          "2005-04-01T00:00:00",
          "2005-07-01T00:00:00",
          "2005-10-01T00:00:00",
          "2006-01-01T00:00:00",
          "2006-04-01T00:00:00",
          "2006-07-01T00:00:00",
          "2006-10-01T00:00:00",
          "2007-01-01T00:00:00",
          "2007-04-01T00:00:00",
          "2007-07-01T00:00:00",
          "2007-10-01T00:00:00",
          "2008-01-01T00:00:00",
          "2008-04-01T00:00:00",
          "2008-07-01T00:00:00",
          "2008-10-01T00:00:00",
          "2009-01-01T00:00:00",
          "2009-04-01T00:00:00",
          "2009-07-01T00:00:00",
          "2009-10-01T00:00:00",
          "2010-01-01T00:00:00",
          "2010-04-01T00:00:00",
          "2010-07-01T00:00:00",
          "2010-10-01T00:00:00",
          "2011-01-01T00:00:00",
          "2011-04-01T00:00:00",
          "2011-07-01T00:00:00",
          "2011-10-01T00:00:00",
          "2012-01-01T00:00:00",
          "2012-04-01T00:00:00",
          "2012-07-01T00:00:00",
          "2012-10-01T00:00:00",
          "2013-01-01T00:00:00",
          "2013-04-01T00:00:00",
          "2013-07-01T00:00:00",
          "2013-10-01T00:00:00",
          "2014-01-01T00:00:00",
          "2014-04-01T00:00:00",
          "2014-07-01T00:00:00",
          "2014-10-01T00:00:00",
          "2015-01-01T00:00:00",
          "2015-04-01T00:00:00",
          "2015-07-01T00:00:00",
          "2015-10-01T00:00:00",
          "2016-01-01T00:00:00",
          "2016-04-01T00:00:00",
          "2016-07-01T00:00:00",
          "2016-10-01T00:00:00",
          "2017-01-01T00:00:00",
          "2017-04-01T00:00:00",
          "2017-07-01T00:00:00",
          "2017-10-01T00:00:00",
          "2018-01-01T00:00:00",
          "2018-04-01T00:00:00",
          "2018-07-01T00:00:00",
          "2018-10-01T00:00:00",
          "2019-01-01T00:00:00",
          "2019-04-01T00:00:00",
          "2019-07-01T00:00:00",
          "2019-10-01T00:00:00",
          "2020-01-01T00:00:00",
          "2020-04-01T00:00:00",
          "2020-07-01T00:00:00",
          "2020-10-01T00:00:00",
          "2021-01-01T00:00:00",
          "2021-04-01T00:00:00",
          "2021-07-01T00:00:00",
          "2021-10-01T00:00:00",
          "2022-01-01T00:00:00",
          "2022-04-01T00:00:00",
          "2022-07-01T00:00:00",
          "2022-10-01T00:00:00",
          "2023-01-01T00:00:00",
          "2023-04-01T00:00:00",
          "2023-07-01T00:00:00",
          "2023-10-01T00:00:00"
         ],
         "xaxis": "x2",
         "y": [
          0.9700904755447513,
          0.9947113855289818,
          1.00877189184552,
          1.0264262470807468,
          0.9700904755447513,
          0.9947113855289818,
          1.00877189184552,
          1.0264262470807468,
          0.9700904755447513,
          0.9947113855289818,
          1.00877189184552,
          1.0264262470807468,
          0.9700904755447513,
          0.9947113855289818,
          1.00877189184552,
          1.0264262470807468,
          0.9700904755447513,
          0.9947113855289818,
          1.00877189184552,
          1.0264262470807468,
          0.9700904755447513,
          0.9947113855289818,
          1.00877189184552,
          1.0264262470807468,
          0.9700904755447513,
          0.9947113855289818,
          1.00877189184552,
          1.0264262470807468,
          0.9700904755447513,
          0.9947113855289818,
          1.00877189184552,
          1.0264262470807468,
          0.9700904755447513,
          0.9947113855289818,
          1.00877189184552,
          1.0264262470807468,
          0.9700904755447513,
          0.9947113855289818,
          1.00877189184552,
          1.0264262470807468,
          0.9700904755447513,
          0.9947113855289818,
          1.00877189184552,
          1.0264262470807468,
          0.9700904755447513,
          0.9947113855289818,
          1.00877189184552,
          1.0264262470807468,
          0.9700904755447513,
          0.9947113855289818,
          1.00877189184552,
          1.0264262470807468,
          0.9700904755447513,
          0.9947113855289818,
          1.00877189184552,
          1.0264262470807468,
          0.9700904755447513,
          0.9947113855289818,
          1.00877189184552,
          1.0264262470807468,
          0.9700904755447513,
          0.9947113855289818,
          1.00877189184552,
          1.0264262470807468,
          0.9700904755447513,
          0.9947113855289818,
          1.00877189184552,
          1.0264262470807468,
          0.9700904755447513,
          0.9947113855289818,
          1.00877189184552,
          1.0264262470807468,
          0.9700904755447513,
          0.9947113855289818,
          1.00877189184552,
          1.0264262470807468,
          0.9700904755447513,
          0.9947113855289818,
          1.00877189184552,
          1.0264262470807468,
          0.9700904755447513,
          0.9947113855289818,
          1.00877189184552,
          1.0264262470807468,
          0.9700904755447513,
          0.9947113855289818,
          1.00877189184552,
          1.0264262470807468,
          0.9700904755447513,
          0.9947113855289818,
          1.00877189184552,
          1.0264262470807468,
          0.9700904755447513,
          0.9947113855289818,
          1.00877189184552,
          1.0264262470807468,
          0.9700904755447513,
          0.9947113855289818,
          1.00877189184552,
          1.0264262470807468,
          0.9700904755447513,
          0.9947113855289818,
          1.00877189184552,
          1.0264262470807468,
          0.9700904755447513,
          0.9947113855289818,
          1.00877189184552,
          1.0264262470807468,
          0.9700904755447513,
          0.9947113855289818,
          1.00877189184552,
          1.0264262470807468
         ],
         "yaxis": "y2"
        },
        {
         "line": {
          "color": "rgb(44, 160, 44)",
          "width": 2
         },
         "marker": {
          "size": 2
         },
         "mode": "lines+markers",
         "name": "Trend",
         "type": "scattergl",
         "x": [
          "1996-01-01T00:00:00",
          "1996-04-01T00:00:00",
          "1996-07-01T00:00:00",
          "1996-10-01T00:00:00",
          "1997-01-01T00:00:00",
          "1997-04-01T00:00:00",
          "1997-07-01T00:00:00",
          "1997-10-01T00:00:00",
          "1998-01-01T00:00:00",
          "1998-04-01T00:00:00",
          "1998-07-01T00:00:00",
          "1998-10-01T00:00:00",
          "1999-01-01T00:00:00",
          "1999-04-01T00:00:00",
          "1999-07-01T00:00:00",
          "1999-10-01T00:00:00",
          "2000-01-01T00:00:00",
          "2000-04-01T00:00:00",
          "2000-07-01T00:00:00",
          "2000-10-01T00:00:00",
          "2001-01-01T00:00:00",
          "2001-04-01T00:00:00",
          "2001-07-01T00:00:00",
          "2001-10-01T00:00:00",
          "2002-01-01T00:00:00",
          "2002-04-01T00:00:00",
          "2002-07-01T00:00:00",
          "2002-10-01T00:00:00",
          "2003-01-01T00:00:00",
          "2003-04-01T00:00:00",
          "2003-07-01T00:00:00",
          "2003-10-01T00:00:00",
          "2004-01-01T00:00:00",
          "2004-04-01T00:00:00",
          "2004-07-01T00:00:00",
          "2004-10-01T00:00:00",
          "2005-01-01T00:00:00",
          "2005-04-01T00:00:00",
          "2005-07-01T00:00:00",
          "2005-10-01T00:00:00",
          "2006-01-01T00:00:00",
          "2006-04-01T00:00:00",
          "2006-07-01T00:00:00",
          "2006-10-01T00:00:00",
          "2007-01-01T00:00:00",
          "2007-04-01T00:00:00",
          "2007-07-01T00:00:00",
          "2007-10-01T00:00:00",
          "2008-01-01T00:00:00",
          "2008-04-01T00:00:00",
          "2008-07-01T00:00:00",
          "2008-10-01T00:00:00",
          "2009-01-01T00:00:00",
          "2009-04-01T00:00:00",
          "2009-07-01T00:00:00",
          "2009-10-01T00:00:00",
          "2010-01-01T00:00:00",
          "2010-04-01T00:00:00",
          "2010-07-01T00:00:00",
          "2010-10-01T00:00:00",
          "2011-01-01T00:00:00",
          "2011-04-01T00:00:00",
          "2011-07-01T00:00:00",
          "2011-10-01T00:00:00",
          "2012-01-01T00:00:00",
          "2012-04-01T00:00:00",
          "2012-07-01T00:00:00",
          "2012-10-01T00:00:00",
          "2013-01-01T00:00:00",
          "2013-04-01T00:00:00",
          "2013-07-01T00:00:00",
          "2013-10-01T00:00:00",
          "2014-01-01T00:00:00",
          "2014-04-01T00:00:00",
          "2014-07-01T00:00:00",
          "2014-10-01T00:00:00",
          "2015-01-01T00:00:00",
          "2015-04-01T00:00:00",
          "2015-07-01T00:00:00",
          "2015-10-01T00:00:00",
          "2016-01-01T00:00:00",
          "2016-04-01T00:00:00",
          "2016-07-01T00:00:00",
          "2016-10-01T00:00:00",
          "2017-01-01T00:00:00",
          "2017-04-01T00:00:00",
          "2017-07-01T00:00:00",
          "2017-10-01T00:00:00",
          "2018-01-01T00:00:00",
          "2018-04-01T00:00:00",
          "2018-07-01T00:00:00",
          "2018-10-01T00:00:00",
          "2019-01-01T00:00:00",
          "2019-04-01T00:00:00",
          "2019-07-01T00:00:00",
          "2019-10-01T00:00:00",
          "2020-01-01T00:00:00",
          "2020-04-01T00:00:00",
          "2020-07-01T00:00:00",
          "2020-10-01T00:00:00",
          "2021-01-01T00:00:00",
          "2021-04-01T00:00:00",
          "2021-07-01T00:00:00",
          "2021-10-01T00:00:00",
          "2022-01-01T00:00:00",
          "2022-04-01T00:00:00",
          "2022-07-01T00:00:00",
          "2022-10-01T00:00:00",
          "2023-01-01T00:00:00",
          "2023-04-01T00:00:00",
          "2023-07-01T00:00:00",
          "2023-10-01T00:00:00"
         ],
         "xaxis": "x3",
         "y": [
          null,
          null,
          217415,
          224674.125,
          231292.125,
          236198.75,
          240095.25,
          244549,
          248412.875,
          250241.875,
          252458.625,
          256426.125,
          260533.125,
          267235.625,
          275210.125,
          281502.5,
          288858.75,
          296489.125,
          304216.125,
          312525.875,
          319346.25,
          325619.375,
          332667.375,
          341850.625,
          353214.375,
          365660.125,
          379065.125,
          392386.25,
          406283.625,
          421607.875,
          435430.375,
          449224,
          465312.75,
          481494,
          496303.375,
          509889.5,
          522560.625,
          535578.75,
          549466,
          562088.5,
          576014.625,
          593250.375,
          612006.625,
          632735.5,
          653070,
          671192.75,
          690144.75,
          712582.5,
          740035.875,
          766290.625,
          782959.75,
          792725.25,
          802011.75,
          820150.75,
          849543.5,
          883398.25,
          919105.75,
          954352,
          987728.5,
          1021816.125,
          1053936.875,
          1081166.125,
          1108213.375,
          1134383,
          1161199.125,
          1189826.75,
          1217707.5,
          1249156.75,
          1282049.125,
          1315207.25,
          1350950.625,
          1381464.25,
          1407430.875,
          1432834,
          1453573,
          1469613.75,
          1482582.625,
          1493646.125,
          1504401.75,
          1519741.75,
          1538244.5,
          1557097,
          1578003.5,
          1597635.25,
          1615528.375,
          1635415.625,
          1658421,
          1683393.375,
          1711217.125,
          1738577.5,
          1760469.125,
          1781485.75,
          1807162.75,
          1834269.875,
          1861100.375,
          1865663.375,
          1862497.875,
          1885493.125,
          1938471.125,
          2030907.375,
          2133087.75,
          2215969.625,
          2273392.75,
          2332980.25,
          2410376.875,
          2484231.125,
          2552816.25,
          2608666.5,
          2649091.875,
          2690296.125,
          null,
          null
         ],
         "yaxis": "y3"
        },
        {
         "line": {
          "color": "rgb(214, 39, 40)",
          "width": 2
         },
         "marker": {
          "size": 4
         },
         "mode": "markers",
         "name": "Residuals",
         "type": "scattergl",
         "x": [
          "1996-01-01T00:00:00",
          "1996-04-01T00:00:00",
          "1996-07-01T00:00:00",
          "1996-10-01T00:00:00",
          "1997-01-01T00:00:00",
          "1997-04-01T00:00:00",
          "1997-07-01T00:00:00",
          "1997-10-01T00:00:00",
          "1998-01-01T00:00:00",
          "1998-04-01T00:00:00",
          "1998-07-01T00:00:00",
          "1998-10-01T00:00:00",
          "1999-01-01T00:00:00",
          "1999-04-01T00:00:00",
          "1999-07-01T00:00:00",
          "1999-10-01T00:00:00",
          "2000-01-01T00:00:00",
          "2000-04-01T00:00:00",
          "2000-07-01T00:00:00",
          "2000-10-01T00:00:00",
          "2001-01-01T00:00:00",
          "2001-04-01T00:00:00",
          "2001-07-01T00:00:00",
          "2001-10-01T00:00:00",
          "2002-01-01T00:00:00",
          "2002-04-01T00:00:00",
          "2002-07-01T00:00:00",
          "2002-10-01T00:00:00",
          "2003-01-01T00:00:00",
          "2003-04-01T00:00:00",
          "2003-07-01T00:00:00",
          "2003-10-01T00:00:00",
          "2004-01-01T00:00:00",
          "2004-04-01T00:00:00",
          "2004-07-01T00:00:00",
          "2004-10-01T00:00:00",
          "2005-01-01T00:00:00",
          "2005-04-01T00:00:00",
          "2005-07-01T00:00:00",
          "2005-10-01T00:00:00",
          "2006-01-01T00:00:00",
          "2006-04-01T00:00:00",
          "2006-07-01T00:00:00",
          "2006-10-01T00:00:00",
          "2007-01-01T00:00:00",
          "2007-04-01T00:00:00",
          "2007-07-01T00:00:00",
          "2007-10-01T00:00:00",
          "2008-01-01T00:00:00",
          "2008-04-01T00:00:00",
          "2008-07-01T00:00:00",
          "2008-10-01T00:00:00",
          "2009-01-01T00:00:00",
          "2009-04-01T00:00:00",
          "2009-07-01T00:00:00",
          "2009-10-01T00:00:00",
          "2010-01-01T00:00:00",
          "2010-04-01T00:00:00",
          "2010-07-01T00:00:00",
          "2010-10-01T00:00:00",
          "2011-01-01T00:00:00",
          "2011-04-01T00:00:00",
          "2011-07-01T00:00:00",
          "2011-10-01T00:00:00",
          "2012-01-01T00:00:00",
          "2012-04-01T00:00:00",
          "2012-07-01T00:00:00",
          "2012-10-01T00:00:00",
          "2013-01-01T00:00:00",
          "2013-04-01T00:00:00",
          "2013-07-01T00:00:00",
          "2013-10-01T00:00:00",
          "2014-01-01T00:00:00",
          "2014-04-01T00:00:00",
          "2014-07-01T00:00:00",
          "2014-10-01T00:00:00",
          "2015-01-01T00:00:00",
          "2015-04-01T00:00:00",
          "2015-07-01T00:00:00",
          "2015-10-01T00:00:00",
          "2016-01-01T00:00:00",
          "2016-04-01T00:00:00",
          "2016-07-01T00:00:00",
          "2016-10-01T00:00:00",
          "2017-01-01T00:00:00",
          "2017-04-01T00:00:00",
          "2017-07-01T00:00:00",
          "2017-10-01T00:00:00",
          "2018-01-01T00:00:00",
          "2018-04-01T00:00:00",
          "2018-07-01T00:00:00",
          "2018-10-01T00:00:00",
          "2019-01-01T00:00:00",
          "2019-04-01T00:00:00",
          "2019-07-01T00:00:00",
          "2019-10-01T00:00:00",
          "2020-01-01T00:00:00",
          "2020-04-01T00:00:00",
          "2020-07-01T00:00:00",
          "2020-10-01T00:00:00",
          "2021-01-01T00:00:00",
          "2021-04-01T00:00:00",
          "2021-07-01T00:00:00",
          "2021-10-01T00:00:00",
          "2022-01-01T00:00:00",
          "2022-04-01T00:00:00",
          "2022-07-01T00:00:00",
          "2022-10-01T00:00:00",
          "2023-01-01T00:00:00",
          "2023-04-01T00:00:00",
          "2023-07-01T00:00:00",
          "2023-10-01T00:00:00"
         ],
         "xaxis": "x4",
         "y": [
          null,
          null,
          1.009989229203033,
          1.0377456636801141,
          0.9765691176611333,
          0.991233924226496,
          1.0164188209755936,
          1.0115233268632875,
          0.9780815873801437,
          1.0121226767077867,
          1.0132319997251646,
          0.9751844871924621,
          0.9917990925055967,
          1.010859438765367,
          0.9873993766869683,
          1.0182266804374995,
          0.9882516149238105,
          0.9927705807998993,
          1.0065540061511238,
          0.9990530691329059,
          1.0086355382922,
          0.9994649549054213,
          0.9908771467799814,
          0.9890378327217934,
          0.9989700828398059,
          1.0099984810909164,
          0.9932131027804085,
          0.9915021753824783,
          1.0078910771118026,
          0.9990673012222417,
          1.0002278357695018,
          1.0027688323198354,
          0.9853510559829317,
          1.0059451939020982,
          1.0091781527871795,
          1.004883855701974,
          0.9857552921532505,
          1.0052759064317214,
          0.9974257753314304,
          1.0095600713647466,
          0.9919176589065206,
          0.9862129730639326,
          1.000766015816594,
          1.0090824819410764,
          0.9966631989799445,
          1.0045112872797382,
          0.9937480124955741,
          0.9930622253560378,
          0.9918557743212462,
          1.009559993859348,
          1.0288356678411772,
          1.002391617119884,
          0.971855674018849,
          0.9850011160127028,
          0.9951544632409599,
          1.0151628932276504,
          0.994146879766852,
          0.994564653837993,
          1.001547835859922,
          1.0081530850445268,
          0.994245849970881,
          1.010473535821375,
          0.9949903121758077,
          0.9969464049264362,
          1.0026683297373624,
          0.9996550881024302,
          1.0016769128878256,
          0.9918448433970906,
          0.998319820520904,
          1.010952307500343,
          0.9936402910930368,
          0.9966993929656348,
          1.015121350318934,
          0.9979412170381731,
          0.9971366585192373,
          1.000049636330657,
          1.012807129166792,
          0.996111849970994,
          0.9938256387977735,
          0.9942478333497955,
          1.0054030727458074,
          1.0065776582906225,
          0.9907807790813373,
          0.995702818286304,
          1.0117816539451405,
          1.0024364022971601,
          0.9854549025896578,
          0.9956952172919363,
          1.0132813824268658,
          1.0027270804550088,
          0.9954638682512041,
          0.9953730173854548,
          1.0025341393238762,
          1.001201308939237,
          1.0016960744270622,
          1.0048252263361603,
          1.0339295112146312,
          0.9345262210196693,
          0.9866261744115087,
          0.9879488071261155,
          1.0422279960972993,
          0.9997227102579106,
          1.001097220858677,
          0.9838596661625422,
          0.991978882066101,
          1.0187722663498793,
          1.010085674269245,
          0.9865107877625843,
          1.0049991864283003,
          1.009355820658513,
          null,
          null
         ],
         "yaxis": "y4"
        }
       ],
       "layout": {
        "annotations": [
         {
          "font": {
           "size": 16
          },
          "showarrow": false,
          "text": "PIB (transformed)",
          "x": 0.49,
          "xanchor": "center",
          "xref": "paper",
          "y": 1,
          "yanchor": "bottom",
          "yref": "paper"
         },
         {
          "font": {
           "size": 16
          },
          "showarrow": false,
          "text": "Actual",
          "textangle": 90,
          "x": 0.98,
          "xanchor": "left",
          "xref": "paper",
          "y": 0.903125,
          "yanchor": "middle",
          "yref": "paper"
         },
         {
          "font": {
           "size": 16
          },
          "showarrow": false,
          "text": "Seasonal",
          "textangle": 90,
          "x": 0.98,
          "xanchor": "left",
          "xref": "paper",
          "y": 0.6343749999999999,
          "yanchor": "middle",
          "yref": "paper"
         },
         {
          "font": {
           "size": 16
          },
          "showarrow": false,
          "text": "Trend",
          "textangle": 90,
          "x": 0.98,
          "xanchor": "left",
          "xref": "paper",
          "y": 0.365625,
          "yanchor": "middle",
          "yref": "paper"
         },
         {
          "font": {
           "size": 16
          },
          "showarrow": false,
          "text": "Residual",
          "textangle": 90,
          "x": 0.98,
          "xanchor": "left",
          "xref": "paper",
          "y": 0.096875,
          "yanchor": "middle",
          "yref": "paper"
         }
        ],
        "autosize": false,
        "height": 500,
        "showlegend": false,
        "template": {
         "data": {
          "bar": [
           {
            "error_x": {
             "color": "rgb(36,36,36)"
            },
            "error_y": {
             "color": "rgb(36,36,36)"
            },
            "marker": {
             "line": {
              "color": "white",
              "width": 0.5
             },
             "pattern": {
              "fillmode": "overlay",
              "size": 10,
              "solidity": 0.2
             }
            },
            "type": "bar"
           }
          ],
          "barpolar": [
           {
            "marker": {
             "line": {
              "color": "white",
              "width": 0.5
             },
             "pattern": {
              "fillmode": "overlay",
              "size": 10,
              "solidity": 0.2
             }
            },
            "type": "barpolar"
           }
          ],
          "carpet": [
           {
            "aaxis": {
             "endlinecolor": "rgb(36,36,36)",
             "gridcolor": "white",
             "linecolor": "white",
             "minorgridcolor": "white",
             "startlinecolor": "rgb(36,36,36)"
            },
            "baxis": {
             "endlinecolor": "rgb(36,36,36)",
             "gridcolor": "white",
             "linecolor": "white",
             "minorgridcolor": "white",
             "startlinecolor": "rgb(36,36,36)"
            },
            "type": "carpet"
           }
          ],
          "choropleth": [
           {
            "colorbar": {
             "outlinewidth": 1,
             "tickcolor": "rgb(36,36,36)",
             "ticks": "outside"
            },
            "type": "choropleth"
           }
          ],
          "contour": [
           {
            "colorbar": {
             "outlinewidth": 1,
             "tickcolor": "rgb(36,36,36)",
             "ticks": "outside"
            },
            "colorscale": [
             [
              0,
              "#440154"
             ],
             [
              0.1111111111111111,
              "#482878"
             ],
             [
              0.2222222222222222,
              "#3e4989"
             ],
             [
              0.3333333333333333,
              "#31688e"
             ],
             [
              0.4444444444444444,
              "#26828e"
             ],
             [
              0.5555555555555556,
              "#1f9e89"
             ],
             [
              0.6666666666666666,
              "#35b779"
             ],
             [
              0.7777777777777778,
              "#6ece58"
             ],
             [
              0.8888888888888888,
              "#b5de2b"
             ],
             [
              1,
              "#fde725"
             ]
            ],
            "type": "contour"
           }
          ],
          "contourcarpet": [
           {
            "colorbar": {
             "outlinewidth": 1,
             "tickcolor": "rgb(36,36,36)",
             "ticks": "outside"
            },
            "type": "contourcarpet"
           }
          ],
          "heatmap": [
           {
            "colorbar": {
             "outlinewidth": 1,
             "tickcolor": "rgb(36,36,36)",
             "ticks": "outside"
            },
            "colorscale": [
             [
              0,
              "#440154"
             ],
             [
              0.1111111111111111,
              "#482878"
             ],
             [
              0.2222222222222222,
              "#3e4989"
             ],
             [
              0.3333333333333333,
              "#31688e"
             ],
             [
              0.4444444444444444,
              "#26828e"
             ],
             [
              0.5555555555555556,
              "#1f9e89"
             ],
             [
              0.6666666666666666,
              "#35b779"
             ],
             [
              0.7777777777777778,
              "#6ece58"
             ],
             [
              0.8888888888888888,
              "#b5de2b"
             ],
             [
              1,
              "#fde725"
             ]
            ],
            "type": "heatmap"
           }
          ],
          "heatmapgl": [
           {
            "colorbar": {
             "outlinewidth": 1,
             "tickcolor": "rgb(36,36,36)",
             "ticks": "outside"
            },
            "colorscale": [
             [
              0,
              "#440154"
             ],
             [
              0.1111111111111111,
              "#482878"
             ],
             [
              0.2222222222222222,
              "#3e4989"
             ],
             [
              0.3333333333333333,
              "#31688e"
             ],
             [
              0.4444444444444444,
              "#26828e"
             ],
             [
              0.5555555555555556,
              "#1f9e89"
             ],
             [
              0.6666666666666666,
              "#35b779"
             ],
             [
              0.7777777777777778,
              "#6ece58"
             ],
             [
              0.8888888888888888,
              "#b5de2b"
             ],
             [
              1,
              "#fde725"
             ]
            ],
            "type": "heatmapgl"
           }
          ],
          "histogram": [
           {
            "marker": {
             "line": {
              "color": "white",
              "width": 0.6
             }
            },
            "type": "histogram"
           }
          ],
          "histogram2d": [
           {
            "colorbar": {
             "outlinewidth": 1,
             "tickcolor": "rgb(36,36,36)",
             "ticks": "outside"
            },
            "colorscale": [
             [
              0,
              "#440154"
             ],
             [
              0.1111111111111111,
              "#482878"
             ],
             [
              0.2222222222222222,
              "#3e4989"
             ],
             [
              0.3333333333333333,
              "#31688e"
             ],
             [
              0.4444444444444444,
              "#26828e"
             ],
             [
              0.5555555555555556,
              "#1f9e89"
             ],
             [
              0.6666666666666666,
              "#35b779"
             ],
             [
              0.7777777777777778,
              "#6ece58"
             ],
             [
              0.8888888888888888,
              "#b5de2b"
             ],
             [
              1,
              "#fde725"
             ]
            ],
            "type": "histogram2d"
           }
          ],
          "histogram2dcontour": [
           {
            "colorbar": {
             "outlinewidth": 1,
             "tickcolor": "rgb(36,36,36)",
             "ticks": "outside"
            },
            "colorscale": [
             [
              0,
              "#440154"
             ],
             [
              0.1111111111111111,
              "#482878"
             ],
             [
              0.2222222222222222,
              "#3e4989"
             ],
             [
              0.3333333333333333,
              "#31688e"
             ],
             [
              0.4444444444444444,
              "#26828e"
             ],
             [
              0.5555555555555556,
              "#1f9e89"
             ],
             [
              0.6666666666666666,
              "#35b779"
             ],
             [
              0.7777777777777778,
              "#6ece58"
             ],
             [
              0.8888888888888888,
              "#b5de2b"
             ],
             [
              1,
              "#fde725"
             ]
            ],
            "type": "histogram2dcontour"
           }
          ],
          "mesh3d": [
           {
            "colorbar": {
             "outlinewidth": 1,
             "tickcolor": "rgb(36,36,36)",
             "ticks": "outside"
            },
            "type": "mesh3d"
           }
          ],
          "parcoords": [
           {
            "line": {
             "colorbar": {
              "outlinewidth": 1,
              "tickcolor": "rgb(36,36,36)",
              "ticks": "outside"
             }
            },
            "type": "parcoords"
           }
          ],
          "pie": [
           {
            "automargin": true,
            "type": "pie"
           }
          ],
          "scatter": [
           {
            "fillpattern": {
             "fillmode": "overlay",
             "size": 10,
             "solidity": 0.2
            },
            "type": "scatter"
           }
          ],
          "scatter3d": [
           {
            "line": {
             "colorbar": {
              "outlinewidth": 1,
              "tickcolor": "rgb(36,36,36)",
              "ticks": "outside"
             }
            },
            "marker": {
             "colorbar": {
              "outlinewidth": 1,
              "tickcolor": "rgb(36,36,36)",
              "ticks": "outside"
             }
            },
            "type": "scatter3d"
           }
          ],
          "scattercarpet": [
           {
            "marker": {
             "colorbar": {
              "outlinewidth": 1,
              "tickcolor": "rgb(36,36,36)",
              "ticks": "outside"
             }
            },
            "type": "scattercarpet"
           }
          ],
          "scattergeo": [
           {
            "marker": {
             "colorbar": {
              "outlinewidth": 1,
              "tickcolor": "rgb(36,36,36)",
              "ticks": "outside"
             }
            },
            "type": "scattergeo"
           }
          ],
          "scattergl": [
           {
            "marker": {
             "colorbar": {
              "outlinewidth": 1,
              "tickcolor": "rgb(36,36,36)",
              "ticks": "outside"
             }
            },
            "type": "scattergl"
           }
          ],
          "scattermapbox": [
           {
            "marker": {
             "colorbar": {
              "outlinewidth": 1,
              "tickcolor": "rgb(36,36,36)",
              "ticks": "outside"
             }
            },
            "type": "scattermapbox"
           }
          ],
          "scatterpolar": [
           {
            "marker": {
             "colorbar": {
              "outlinewidth": 1,
              "tickcolor": "rgb(36,36,36)",
              "ticks": "outside"
             }
            },
            "type": "scatterpolar"
           }
          ],
          "scatterpolargl": [
           {
            "marker": {
             "colorbar": {
              "outlinewidth": 1,
              "tickcolor": "rgb(36,36,36)",
              "ticks": "outside"
             }
            },
            "type": "scatterpolargl"
           }
          ],
          "scatterternary": [
           {
            "marker": {
             "colorbar": {
              "outlinewidth": 1,
              "tickcolor": "rgb(36,36,36)",
              "ticks": "outside"
             }
            },
            "type": "scatterternary"
           }
          ],
          "surface": [
           {
            "colorbar": {
             "outlinewidth": 1,
             "tickcolor": "rgb(36,36,36)",
             "ticks": "outside"
            },
            "colorscale": [
             [
              0,
              "#440154"
             ],
             [
              0.1111111111111111,
              "#482878"
             ],
             [
              0.2222222222222222,
              "#3e4989"
             ],
             [
              0.3333333333333333,
              "#31688e"
             ],
             [
              0.4444444444444444,
              "#26828e"
             ],
             [
              0.5555555555555556,
              "#1f9e89"
             ],
             [
              0.6666666666666666,
              "#35b779"
             ],
             [
              0.7777777777777778,
              "#6ece58"
             ],
             [
              0.8888888888888888,
              "#b5de2b"
             ],
             [
              1,
              "#fde725"
             ]
            ],
            "type": "surface"
           }
          ],
          "table": [
           {
            "cells": {
             "fill": {
              "color": "rgb(237,237,237)"
             },
             "line": {
              "color": "white"
             }
            },
            "header": {
             "fill": {
              "color": "rgb(217,217,217)"
             },
             "line": {
              "color": "white"
             }
            },
            "type": "table"
           }
          ]
         },
         "layout": {
          "annotationdefaults": {
           "arrowhead": 0,
           "arrowwidth": 1
          },
          "autotypenumbers": "strict",
          "coloraxis": {
           "colorbar": {
            "outlinewidth": 1,
            "tickcolor": "rgb(36,36,36)",
            "ticks": "outside"
           }
          },
          "colorscale": {
           "diverging": [
            [
             0,
             "rgb(103,0,31)"
            ],
            [
             0.1,
             "rgb(178,24,43)"
            ],
            [
             0.2,
             "rgb(214,96,77)"
            ],
            [
             0.3,
             "rgb(244,165,130)"
            ],
            [
             0.4,
             "rgb(253,219,199)"
            ],
            [
             0.5,
             "rgb(247,247,247)"
            ],
            [
             0.6,
             "rgb(209,229,240)"
            ],
            [
             0.7,
             "rgb(146,197,222)"
            ],
            [
             0.8,
             "rgb(67,147,195)"
            ],
            [
             0.9,
             "rgb(33,102,172)"
            ],
            [
             1,
             "rgb(5,48,97)"
            ]
           ],
           "sequential": [
            [
             0,
             "#440154"
            ],
            [
             0.1111111111111111,
             "#482878"
            ],
            [
             0.2222222222222222,
             "#3e4989"
            ],
            [
             0.3333333333333333,
             "#31688e"
            ],
            [
             0.4444444444444444,
             "#26828e"
            ],
            [
             0.5555555555555556,
             "#1f9e89"
            ],
            [
             0.6666666666666666,
             "#35b779"
            ],
            [
             0.7777777777777778,
             "#6ece58"
            ],
            [
             0.8888888888888888,
             "#b5de2b"
            ],
            [
             1,
             "#fde725"
            ]
           ],
           "sequentialminus": [
            [
             0,
             "#440154"
            ],
            [
             0.1111111111111111,
             "#482878"
            ],
            [
             0.2222222222222222,
             "#3e4989"
            ],
            [
             0.3333333333333333,
             "#31688e"
            ],
            [
             0.4444444444444444,
             "#26828e"
            ],
            [
             0.5555555555555556,
             "#1f9e89"
            ],
            [
             0.6666666666666666,
             "#35b779"
            ],
            [
             0.7777777777777778,
             "#6ece58"
            ],
            [
             0.8888888888888888,
             "#b5de2b"
            ],
            [
             1,
             "#fde725"
            ]
           ]
          },
          "colorway": [
           "#1F77B4",
           "#FF7F0E",
           "#2CA02C",
           "#D62728",
           "#9467BD",
           "#8C564B",
           "#E377C2",
           "#7F7F7F",
           "#BCBD22",
           "#17BECF"
          ],
          "font": {
           "color": "rgb(36,36,36)"
          },
          "geo": {
           "bgcolor": "white",
           "lakecolor": "white",
           "landcolor": "white",
           "showlakes": true,
           "showland": true,
           "subunitcolor": "white"
          },
          "hoverlabel": {
           "align": "left"
          },
          "hovermode": "closest",
          "mapbox": {
           "style": "light"
          },
          "paper_bgcolor": "white",
          "plot_bgcolor": "white",
          "polar": {
           "angularaxis": {
            "gridcolor": "rgb(232,232,232)",
            "linecolor": "rgb(36,36,36)",
            "showgrid": false,
            "showline": true,
            "ticks": "outside"
           },
           "bgcolor": "white",
           "radialaxis": {
            "gridcolor": "rgb(232,232,232)",
            "linecolor": "rgb(36,36,36)",
            "showgrid": false,
            "showline": true,
            "ticks": "outside"
           }
          },
          "scene": {
           "xaxis": {
            "backgroundcolor": "white",
            "gridcolor": "rgb(232,232,232)",
            "gridwidth": 2,
            "linecolor": "rgb(36,36,36)",
            "showbackground": true,
            "showgrid": false,
            "showline": true,
            "ticks": "outside",
            "zeroline": false,
            "zerolinecolor": "rgb(36,36,36)"
           },
           "yaxis": {
            "backgroundcolor": "white",
            "gridcolor": "rgb(232,232,232)",
            "gridwidth": 2,
            "linecolor": "rgb(36,36,36)",
            "showbackground": true,
            "showgrid": false,
            "showline": true,
            "ticks": "outside",
            "zeroline": false,
            "zerolinecolor": "rgb(36,36,36)"
           },
           "zaxis": {
            "backgroundcolor": "white",
            "gridcolor": "rgb(232,232,232)",
            "gridwidth": 2,
            "linecolor": "rgb(36,36,36)",
            "showbackground": true,
            "showgrid": false,
            "showline": true,
            "ticks": "outside",
            "zeroline": false,
            "zerolinecolor": "rgb(36,36,36)"
           }
          },
          "shapedefaults": {
           "fillcolor": "black",
           "line": {
            "width": 0
           },
           "opacity": 0.3
          },
          "ternary": {
           "aaxis": {
            "gridcolor": "rgb(232,232,232)",
            "linecolor": "rgb(36,36,36)",
            "showgrid": false,
            "showline": true,
            "ticks": "outside"
           },
           "baxis": {
            "gridcolor": "rgb(232,232,232)",
            "linecolor": "rgb(36,36,36)",
            "showgrid": false,
            "showline": true,
            "ticks": "outside"
           },
           "bgcolor": "white",
           "caxis": {
            "gridcolor": "rgb(232,232,232)",
            "linecolor": "rgb(36,36,36)",
            "showgrid": false,
            "showline": true,
            "ticks": "outside"
           }
          },
          "title": {
           "x": 0.05
          },
          "xaxis": {
           "automargin": true,
           "gridcolor": "rgb(232,232,232)",
           "linecolor": "rgb(36,36,36)",
           "showgrid": false,
           "showline": true,
           "ticks": "outside",
           "title": {
            "standoff": 15
           },
           "zeroline": false,
           "zerolinecolor": "rgb(36,36,36)"
          },
          "yaxis": {
           "automargin": true,
           "gridcolor": "rgb(232,232,232)",
           "linecolor": "rgb(36,36,36)",
           "showgrid": false,
           "showline": true,
           "ticks": "outside",
           "title": {
            "standoff": 15
           },
           "zeroline": false,
           "zerolinecolor": "rgb(36,36,36)"
          }
         }
        },
        "title": {
         "text": "Classical Decomposition (multiplicative) | PIB<br>Seasonal Period = 4"
        },
        "width": 1000,
        "xaxis": {
         "anchor": "y",
         "domain": [
          0,
          0.98
         ],
         "matches": "x4",
         "showticklabels": false
        },
        "xaxis2": {
         "anchor": "y2",
         "domain": [
          0,
          0.98
         ],
         "matches": "x4",
         "showticklabels": false
        },
        "xaxis3": {
         "anchor": "y3",
         "domain": [
          0,
          0.98
         ],
         "matches": "x4",
         "showticklabels": false
        },
        "xaxis4": {
         "anchor": "y4",
         "domain": [
          0,
          0.98
         ]
        },
        "yaxis": {
         "anchor": "x",
         "domain": [
          0.80625,
          1
         ]
        },
        "yaxis2": {
         "anchor": "x2",
         "domain": [
          0.5375,
          0.73125
         ]
        },
        "yaxis3": {
         "anchor": "x3",
         "domain": [
          0.26875,
          0.4625
         ]
        },
        "yaxis4": {
         "anchor": "x4",
         "domain": [
          0,
          0.19375
         ]
        }
       }
      }
     },
     "metadata": {},
     "output_type": "display_data"
    },
    {
     "data": {
      "application/vnd.plotly.v1+json": {
       "config": {
        "plotlyServerURL": "https://plot.ly"
       },
       "data": [
        {
         "hoverinfo": "none",
         "line": {
          "width": 2
         },
         "marker": {
          "size": 5
         },
         "mode": "lines+markers",
         "name": "PIB",
         "type": "scattergl",
         "x": [
          "1996-01-01T00:00:00",
          "1996-04-01T00:00:00",
          "1996-07-01T00:00:00",
          "1996-10-01T00:00:00",
          "1997-01-01T00:00:00",
          "1997-04-01T00:00:00",
          "1997-07-01T00:00:00",
          "1997-10-01T00:00:00",
          "1998-01-01T00:00:00",
          "1998-04-01T00:00:00",
          "1998-07-01T00:00:00",
          "1998-10-01T00:00:00",
          "1999-01-01T00:00:00",
          "1999-04-01T00:00:00",
          "1999-07-01T00:00:00",
          "1999-10-01T00:00:00",
          "2000-01-01T00:00:00",
          "2000-04-01T00:00:00",
          "2000-07-01T00:00:00",
          "2000-10-01T00:00:00",
          "2001-01-01T00:00:00",
          "2001-04-01T00:00:00",
          "2001-07-01T00:00:00",
          "2001-10-01T00:00:00",
          "2002-01-01T00:00:00",
          "2002-04-01T00:00:00",
          "2002-07-01T00:00:00",
          "2002-10-01T00:00:00",
          "2003-01-01T00:00:00",
          "2003-04-01T00:00:00",
          "2003-07-01T00:00:00",
          "2003-10-01T00:00:00",
          "2004-01-01T00:00:00",
          "2004-04-01T00:00:00",
          "2004-07-01T00:00:00",
          "2004-10-01T00:00:00",
          "2005-01-01T00:00:00",
          "2005-04-01T00:00:00",
          "2005-07-01T00:00:00",
          "2005-10-01T00:00:00",
          "2006-01-01T00:00:00",
          "2006-04-01T00:00:00",
          "2006-07-01T00:00:00",
          "2006-10-01T00:00:00",
          "2007-01-01T00:00:00",
          "2007-04-01T00:00:00",
          "2007-07-01T00:00:00",
          "2007-10-01T00:00:00",
          "2008-01-01T00:00:00",
          "2008-04-01T00:00:00",
          "2008-07-01T00:00:00",
          "2008-10-01T00:00:00",
          "2009-01-01T00:00:00",
          "2009-04-01T00:00:00",
          "2009-07-01T00:00:00",
          "2009-10-01T00:00:00",
          "2010-01-01T00:00:00",
          "2010-04-01T00:00:00",
          "2010-07-01T00:00:00",
          "2010-10-01T00:00:00",
          "2011-01-01T00:00:00",
          "2011-04-01T00:00:00",
          "2011-07-01T00:00:00",
          "2011-10-01T00:00:00",
          "2012-01-01T00:00:00",
          "2012-04-01T00:00:00",
          "2012-07-01T00:00:00",
          "2012-10-01T00:00:00",
          "2013-01-01T00:00:00",
          "2013-04-01T00:00:00",
          "2013-07-01T00:00:00",
          "2013-10-01T00:00:00",
          "2014-01-01T00:00:00",
          "2014-04-01T00:00:00",
          "2014-07-01T00:00:00",
          "2014-10-01T00:00:00",
          "2015-01-01T00:00:00",
          "2015-04-01T00:00:00",
          "2015-07-01T00:00:00",
          "2015-10-01T00:00:00",
          "2016-01-01T00:00:00",
          "2016-04-01T00:00:00",
          "2016-07-01T00:00:00",
          "2016-10-01T00:00:00",
          "2017-01-01T00:00:00",
          "2017-04-01T00:00:00",
          "2017-07-01T00:00:00",
          "2017-10-01T00:00:00",
          "2018-01-01T00:00:00",
          "2018-04-01T00:00:00",
          "2018-07-01T00:00:00",
          "2018-10-01T00:00:00",
          "2019-01-01T00:00:00",
          "2019-04-01T00:00:00",
          "2019-07-01T00:00:00",
          "2019-10-01T00:00:00",
          "2020-01-01T00:00:00",
          "2020-04-01T00:00:00",
          "2020-07-01T00:00:00",
          "2020-10-01T00:00:00",
          "2021-01-01T00:00:00",
          "2021-04-01T00:00:00",
          "2021-07-01T00:00:00",
          "2021-10-01T00:00:00",
          "2022-01-01T00:00:00",
          "2022-04-01T00:00:00",
          "2022-07-01T00:00:00",
          "2022-10-01T00:00:00",
          "2023-01-01T00:00:00",
          "2023-04-01T00:00:00",
          "2023-07-01T00:00:00",
          "2023-10-01T00:00:00",
          "2024-01-01T00:00:00",
          "2024-04-01T00:00:00",
          "2024-07-01T00:00:00",
          "2024-10-01T00:00:00",
          "2025-01-01T00:00:00",
          "2025-04-01T00:00:00",
          "2025-07-01T00:00:00",
          "2025-10-01T00:00:00",
          "2026-01-01T00:00:00",
          "2026-04-01T00:00:00",
          "2026-07-01T00:00:00",
          "2026-10-01T00:00:00",
          "2027-01-01T00:00:00",
          "2027-04-01T00:00:00",
          "2027-07-01T00:00:00",
          "2027-10-01T00:00:00",
          "2028-01-01T00:00:00",
          "2028-04-01T00:00:00",
          "2028-07-01T00:00:00",
          "2028-10-01T00:00:00",
          "2029-01-01T00:00:00",
          "2029-04-01T00:00:00",
          "2029-07-01T00:00:00",
          "2029-10-01T00:00:00",
          "2030-01-01T00:00:00",
          "2030-04-01T00:00:00",
          "2030-07-01T00:00:00",
          "2030-10-01T00:00:00"
         ],
         "xaxis": "x",
         "y": [
          189323,
          204611,
          221513,
          239316,
          219117,
          232890,
          246178,
          253904,
          235701,
          251936,
          258043,
          256671,
          250668,
          268709,
          274126,
          294208,
          276927,
          292789,
          308896,
          320481,
          312470,
          323724,
          332524,
          347038,
          342297,
          367363,
          379795,
          399333,
          397242,
          418987,
          439350,
          462372,
          444783,
          481795,
          505252,
          525920,
          499710,
          535557,
          552859,
          582458,
          554270,
          581977,
          617848,
          655355,
          631423,
          670655,
          691846,
          726339,
          712055,
          769525,
          812603,
          815620,
          756127,
          803577,
          852843,
          920492,
          886397,
          944145,
          997935,
          1057370,
          1016531,
          1086712,
          1112334,
          1160805,
          1129474,
          1183126,
          1230449,
          1271711,
          1241614,
          1322580,
          1354134,
          1413291,
          1385981,
          1422322,
          1462125,
          1508525,
          1456659,
          1479970,
          1508228,
          1550930,
          1500299,
          1559050,
          1577170,
          1632808,
          1585673,
          1630730,
          1648635,
          1720441,
          1682083,
          1734099,
          1767856,
          1820103,
          1757554,
          1826761,
          1880610,
          1924206,
          1868095,
          1752724,
          1929323,
          2059455,
          2156670,
          2203639,
          2295851,
          2355982,
          2319528,
          2517481,
          2601182,
          2641485,
          2582706,
          2701105,
          2740961,
          2831340,
          null,
          null,
          null,
          null,
          null,
          null,
          null,
          null,
          null,
          null,
          null,
          null,
          null,
          null,
          null,
          null,
          null,
          null,
          null,
          null,
          null,
          null,
          null,
          null,
          null,
          null,
          null,
          null
         ],
         "yaxis": "y"
        },
        {
         "hoverinfo": "none",
         "line": {
          "width": 2
         },
         "marker": {
          "size": 5
         },
         "mode": "lines+markers",
         "name": "XGBRegressor",
         "type": "scattergl",
         "x": [
          "1996-01-01T00:00:00",
          "1996-04-01T00:00:00",
          "1996-07-01T00:00:00",
          "1996-10-01T00:00:00",
          "1997-01-01T00:00:00",
          "1997-04-01T00:00:00",
          "1997-07-01T00:00:00",
          "1997-10-01T00:00:00",
          "1998-01-01T00:00:00",
          "1998-04-01T00:00:00",
          "1998-07-01T00:00:00",
          "1998-10-01T00:00:00",
          "1999-01-01T00:00:00",
          "1999-04-01T00:00:00",
          "1999-07-01T00:00:00",
          "1999-10-01T00:00:00",
          "2000-01-01T00:00:00",
          "2000-04-01T00:00:00",
          "2000-07-01T00:00:00",
          "2000-10-01T00:00:00",
          "2001-01-01T00:00:00",
          "2001-04-01T00:00:00",
          "2001-07-01T00:00:00",
          "2001-10-01T00:00:00",
          "2002-01-01T00:00:00",
          "2002-04-01T00:00:00",
          "2002-07-01T00:00:00",
          "2002-10-01T00:00:00",
          "2003-01-01T00:00:00",
          "2003-04-01T00:00:00",
          "2003-07-01T00:00:00",
          "2003-10-01T00:00:00",
          "2004-01-01T00:00:00",
          "2004-04-01T00:00:00",
          "2004-07-01T00:00:00",
          "2004-10-01T00:00:00",
          "2005-01-01T00:00:00",
          "2005-04-01T00:00:00",
          "2005-07-01T00:00:00",
          "2005-10-01T00:00:00",
          "2006-01-01T00:00:00",
          "2006-04-01T00:00:00",
          "2006-07-01T00:00:00",
          "2006-10-01T00:00:00",
          "2007-01-01T00:00:00",
          "2007-04-01T00:00:00",
          "2007-07-01T00:00:00",
          "2007-10-01T00:00:00",
          "2008-01-01T00:00:00",
          "2008-04-01T00:00:00",
          "2008-07-01T00:00:00",
          "2008-10-01T00:00:00",
          "2009-01-01T00:00:00",
          "2009-04-01T00:00:00",
          "2009-07-01T00:00:00",
          "2009-10-01T00:00:00",
          "2010-01-01T00:00:00",
          "2010-04-01T00:00:00",
          "2010-07-01T00:00:00",
          "2010-10-01T00:00:00",
          "2011-01-01T00:00:00",
          "2011-04-01T00:00:00",
          "2011-07-01T00:00:00",
          "2011-10-01T00:00:00",
          "2012-01-01T00:00:00",
          "2012-04-01T00:00:00",
          "2012-07-01T00:00:00",
          "2012-10-01T00:00:00",
          "2013-01-01T00:00:00",
          "2013-04-01T00:00:00",
          "2013-07-01T00:00:00",
          "2013-10-01T00:00:00",
          "2014-01-01T00:00:00",
          "2014-04-01T00:00:00",
          "2014-07-01T00:00:00",
          "2014-10-01T00:00:00",
          "2015-01-01T00:00:00",
          "2015-04-01T00:00:00",
          "2015-07-01T00:00:00",
          "2015-10-01T00:00:00",
          "2016-01-01T00:00:00",
          "2016-04-01T00:00:00",
          "2016-07-01T00:00:00",
          "2016-10-01T00:00:00",
          "2017-01-01T00:00:00",
          "2017-04-01T00:00:00",
          "2017-07-01T00:00:00",
          "2017-10-01T00:00:00",
          "2018-01-01T00:00:00",
          "2018-04-01T00:00:00",
          "2018-07-01T00:00:00",
          "2018-10-01T00:00:00",
          "2019-01-01T00:00:00",
          "2019-04-01T00:00:00",
          "2019-07-01T00:00:00",
          "2019-10-01T00:00:00",
          "2020-01-01T00:00:00",
          "2020-04-01T00:00:00",
          "2020-07-01T00:00:00",
          "2020-10-01T00:00:00",
          "2021-01-01T00:00:00",
          "2021-04-01T00:00:00",
          "2021-07-01T00:00:00",
          "2021-10-01T00:00:00",
          "2022-01-01T00:00:00",
          "2022-04-01T00:00:00",
          "2022-07-01T00:00:00",
          "2022-10-01T00:00:00",
          "2023-01-01T00:00:00",
          "2023-04-01T00:00:00",
          "2023-07-01T00:00:00",
          "2023-10-01T00:00:00",
          "2024-01-01T00:00:00",
          "2024-04-01T00:00:00",
          "2024-07-01T00:00:00",
          "2024-10-01T00:00:00",
          "2025-01-01T00:00:00",
          "2025-04-01T00:00:00",
          "2025-07-01T00:00:00",
          "2025-10-01T00:00:00",
          "2026-01-01T00:00:00",
          "2026-04-01T00:00:00",
          "2026-07-01T00:00:00",
          "2026-10-01T00:00:00",
          "2027-01-01T00:00:00",
          "2027-04-01T00:00:00",
          "2027-07-01T00:00:00",
          "2027-10-01T00:00:00",
          "2028-01-01T00:00:00",
          "2028-04-01T00:00:00",
          "2028-07-01T00:00:00",
          "2028-10-01T00:00:00",
          "2029-01-01T00:00:00",
          "2029-04-01T00:00:00",
          "2029-07-01T00:00:00",
          "2029-10-01T00:00:00",
          "2030-01-01T00:00:00",
          "2030-04-01T00:00:00",
          "2030-07-01T00:00:00",
          "2030-10-01T00:00:00"
         ],
         "xaxis": "x",
         "y": [
          null,
          null,
          null,
          null,
          null,
          null,
          null,
          null,
          null,
          null,
          null,
          null,
          null,
          null,
          null,
          null,
          null,
          null,
          null,
          null,
          null,
          null,
          null,
          null,
          null,
          null,
          null,
          null,
          null,
          null,
          null,
          null,
          null,
          null,
          null,
          null,
          null,
          null,
          null,
          null,
          null,
          null,
          null,
          null,
          null,
          null,
          null,
          null,
          null,
          null,
          null,
          null,
          null,
          null,
          null,
          null,
          null,
          null,
          null,
          null,
          null,
          null,
          null,
          null,
          null,
          null,
          null,
          null,
          null,
          null,
          null,
          null,
          null,
          null,
          null,
          null,
          null,
          null,
          null,
          null,
          null,
          null,
          null,
          null,
          null,
          null,
          null,
          null,
          null,
          null,
          null,
          null,
          null,
          null,
          null,
          null,
          null,
          null,
          null,
          null,
          null,
          null,
          null,
          null,
          null,
          null,
          null,
          null,
          null,
          null,
          null,
          2779095.2248,
          2747321.4373,
          2791445.8219,
          2827584.4571,
          2865766.121,
          2837746.5209,
          2878116.7181,
          2914255.3533,
          2952437.0171,
          2924417.4171,
          2964787.6142,
          3000926.2494,
          3039107.9133,
          3011088.3132,
          3051458.5104,
          3087597.1455,
          3125778.8094,
          3097759.2094,
          3138129.4065,
          3174268.0417,
          3212449.7055,
          3184430.1055,
          3224800.3027,
          3260938.9378,
          3299120.6017,
          3271101.0017,
          3311471.1988,
          3347609.834,
          3385791.4978
         ],
         "yaxis": "y"
        }
       ],
       "layout": {
        "autosize": false,
        "height": 500,
        "showlegend": true,
        "template": {
         "data": {
          "bar": [
           {
            "error_x": {
             "color": "rgb(36,36,36)"
            },
            "error_y": {
             "color": "rgb(36,36,36)"
            },
            "marker": {
             "line": {
              "color": "white",
              "width": 0.5
             },
             "pattern": {
              "fillmode": "overlay",
              "size": 10,
              "solidity": 0.2
             }
            },
            "type": "bar"
           }
          ],
          "barpolar": [
           {
            "marker": {
             "line": {
              "color": "white",
              "width": 0.5
             },
             "pattern": {
              "fillmode": "overlay",
              "size": 10,
              "solidity": 0.2
             }
            },
            "type": "barpolar"
           }
          ],
          "carpet": [
           {
            "aaxis": {
             "endlinecolor": "rgb(36,36,36)",
             "gridcolor": "white",
             "linecolor": "white",
             "minorgridcolor": "white",
             "startlinecolor": "rgb(36,36,36)"
            },
            "baxis": {
             "endlinecolor": "rgb(36,36,36)",
             "gridcolor": "white",
             "linecolor": "white",
             "minorgridcolor": "white",
             "startlinecolor": "rgb(36,36,36)"
            },
            "type": "carpet"
           }
          ],
          "choropleth": [
           {
            "colorbar": {
             "outlinewidth": 1,
             "tickcolor": "rgb(36,36,36)",
             "ticks": "outside"
            },
            "type": "choropleth"
           }
          ],
          "contour": [
           {
            "colorbar": {
             "outlinewidth": 1,
             "tickcolor": "rgb(36,36,36)",
             "ticks": "outside"
            },
            "colorscale": [
             [
              0,
              "#440154"
             ],
             [
              0.1111111111111111,
              "#482878"
             ],
             [
              0.2222222222222222,
              "#3e4989"
             ],
             [
              0.3333333333333333,
              "#31688e"
             ],
             [
              0.4444444444444444,
              "#26828e"
             ],
             [
              0.5555555555555556,
              "#1f9e89"
             ],
             [
              0.6666666666666666,
              "#35b779"
             ],
             [
              0.7777777777777778,
              "#6ece58"
             ],
             [
              0.8888888888888888,
              "#b5de2b"
             ],
             [
              1,
              "#fde725"
             ]
            ],
            "type": "contour"
           }
          ],
          "contourcarpet": [
           {
            "colorbar": {
             "outlinewidth": 1,
             "tickcolor": "rgb(36,36,36)",
             "ticks": "outside"
            },
            "type": "contourcarpet"
           }
          ],
          "heatmap": [
           {
            "colorbar": {
             "outlinewidth": 1,
             "tickcolor": "rgb(36,36,36)",
             "ticks": "outside"
            },
            "colorscale": [
             [
              0,
              "#440154"
             ],
             [
              0.1111111111111111,
              "#482878"
             ],
             [
              0.2222222222222222,
              "#3e4989"
             ],
             [
              0.3333333333333333,
              "#31688e"
             ],
             [
              0.4444444444444444,
              "#26828e"
             ],
             [
              0.5555555555555556,
              "#1f9e89"
             ],
             [
              0.6666666666666666,
              "#35b779"
             ],
             [
              0.7777777777777778,
              "#6ece58"
             ],
             [
              0.8888888888888888,
              "#b5de2b"
             ],
             [
              1,
              "#fde725"
             ]
            ],
            "type": "heatmap"
           }
          ],
          "heatmapgl": [
           {
            "colorbar": {
             "outlinewidth": 1,
             "tickcolor": "rgb(36,36,36)",
             "ticks": "outside"
            },
            "colorscale": [
             [
              0,
              "#440154"
             ],
             [
              0.1111111111111111,
              "#482878"
             ],
             [
              0.2222222222222222,
              "#3e4989"
             ],
             [
              0.3333333333333333,
              "#31688e"
             ],
             [
              0.4444444444444444,
              "#26828e"
             ],
             [
              0.5555555555555556,
              "#1f9e89"
             ],
             [
              0.6666666666666666,
              "#35b779"
             ],
             [
              0.7777777777777778,
              "#6ece58"
             ],
             [
              0.8888888888888888,
              "#b5de2b"
             ],
             [
              1,
              "#fde725"
             ]
            ],
            "type": "heatmapgl"
           }
          ],
          "histogram": [
           {
            "marker": {
             "line": {
              "color": "white",
              "width": 0.6
             }
            },
            "type": "histogram"
           }
          ],
          "histogram2d": [
           {
            "colorbar": {
             "outlinewidth": 1,
             "tickcolor": "rgb(36,36,36)",
             "ticks": "outside"
            },
            "colorscale": [
             [
              0,
              "#440154"
             ],
             [
              0.1111111111111111,
              "#482878"
             ],
             [
              0.2222222222222222,
              "#3e4989"
             ],
             [
              0.3333333333333333,
              "#31688e"
             ],
             [
              0.4444444444444444,
              "#26828e"
             ],
             [
              0.5555555555555556,
              "#1f9e89"
             ],
             [
              0.6666666666666666,
              "#35b779"
             ],
             [
              0.7777777777777778,
              "#6ece58"
             ],
             [
              0.8888888888888888,
              "#b5de2b"
             ],
             [
              1,
              "#fde725"
             ]
            ],
            "type": "histogram2d"
           }
          ],
          "histogram2dcontour": [
           {
            "colorbar": {
             "outlinewidth": 1,
             "tickcolor": "rgb(36,36,36)",
             "ticks": "outside"
            },
            "colorscale": [
             [
              0,
              "#440154"
             ],
             [
              0.1111111111111111,
              "#482878"
             ],
             [
              0.2222222222222222,
              "#3e4989"
             ],
             [
              0.3333333333333333,
              "#31688e"
             ],
             [
              0.4444444444444444,
              "#26828e"
             ],
             [
              0.5555555555555556,
              "#1f9e89"
             ],
             [
              0.6666666666666666,
              "#35b779"
             ],
             [
              0.7777777777777778,
              "#6ece58"
             ],
             [
              0.8888888888888888,
              "#b5de2b"
             ],
             [
              1,
              "#fde725"
             ]
            ],
            "type": "histogram2dcontour"
           }
          ],
          "mesh3d": [
           {
            "colorbar": {
             "outlinewidth": 1,
             "tickcolor": "rgb(36,36,36)",
             "ticks": "outside"
            },
            "type": "mesh3d"
           }
          ],
          "parcoords": [
           {
            "line": {
             "colorbar": {
              "outlinewidth": 1,
              "tickcolor": "rgb(36,36,36)",
              "ticks": "outside"
             }
            },
            "type": "parcoords"
           }
          ],
          "pie": [
           {
            "automargin": true,
            "type": "pie"
           }
          ],
          "scatter": [
           {
            "fillpattern": {
             "fillmode": "overlay",
             "size": 10,
             "solidity": 0.2
            },
            "type": "scatter"
           }
          ],
          "scatter3d": [
           {
            "line": {
             "colorbar": {
              "outlinewidth": 1,
              "tickcolor": "rgb(36,36,36)",
              "ticks": "outside"
             }
            },
            "marker": {
             "colorbar": {
              "outlinewidth": 1,
              "tickcolor": "rgb(36,36,36)",
              "ticks": "outside"
             }
            },
            "type": "scatter3d"
           }
          ],
          "scattercarpet": [
           {
            "marker": {
             "colorbar": {
              "outlinewidth": 1,
              "tickcolor": "rgb(36,36,36)",
              "ticks": "outside"
             }
            },
            "type": "scattercarpet"
           }
          ],
          "scattergeo": [
           {
            "marker": {
             "colorbar": {
              "outlinewidth": 1,
              "tickcolor": "rgb(36,36,36)",
              "ticks": "outside"
             }
            },
            "type": "scattergeo"
           }
          ],
          "scattergl": [
           {
            "marker": {
             "colorbar": {
              "outlinewidth": 1,
              "tickcolor": "rgb(36,36,36)",
              "ticks": "outside"
             }
            },
            "type": "scattergl"
           }
          ],
          "scattermapbox": [
           {
            "marker": {
             "colorbar": {
              "outlinewidth": 1,
              "tickcolor": "rgb(36,36,36)",
              "ticks": "outside"
             }
            },
            "type": "scattermapbox"
           }
          ],
          "scatterpolar": [
           {
            "marker": {
             "colorbar": {
              "outlinewidth": 1,
              "tickcolor": "rgb(36,36,36)",
              "ticks": "outside"
             }
            },
            "type": "scatterpolar"
           }
          ],
          "scatterpolargl": [
           {
            "marker": {
             "colorbar": {
              "outlinewidth": 1,
              "tickcolor": "rgb(36,36,36)",
              "ticks": "outside"
             }
            },
            "type": "scatterpolargl"
           }
          ],
          "scatterternary": [
           {
            "marker": {
             "colorbar": {
              "outlinewidth": 1,
              "tickcolor": "rgb(36,36,36)",
              "ticks": "outside"
             }
            },
            "type": "scatterternary"
           }
          ],
          "surface": [
           {
            "colorbar": {
             "outlinewidth": 1,
             "tickcolor": "rgb(36,36,36)",
             "ticks": "outside"
            },
            "colorscale": [
             [
              0,
              "#440154"
             ],
             [
              0.1111111111111111,
              "#482878"
             ],
             [
              0.2222222222222222,
              "#3e4989"
             ],
             [
              0.3333333333333333,
              "#31688e"
             ],
             [
              0.4444444444444444,
              "#26828e"
             ],
             [
              0.5555555555555556,
              "#1f9e89"
             ],
             [
              0.6666666666666666,
              "#35b779"
             ],
             [
              0.7777777777777778,
              "#6ece58"
             ],
             [
              0.8888888888888888,
              "#b5de2b"
             ],
             [
              1,
              "#fde725"
             ]
            ],
            "type": "surface"
           }
          ],
          "table": [
           {
            "cells": {
             "fill": {
              "color": "rgb(237,237,237)"
             },
             "line": {
              "color": "white"
             }
            },
            "header": {
             "fill": {
              "color": "rgb(217,217,217)"
             },
             "line": {
              "color": "white"
             }
            },
            "type": "table"
           }
          ]
         },
         "layout": {
          "annotationdefaults": {
           "arrowhead": 0,
           "arrowwidth": 1
          },
          "autotypenumbers": "strict",
          "coloraxis": {
           "colorbar": {
            "outlinewidth": 1,
            "tickcolor": "rgb(36,36,36)",
            "ticks": "outside"
           }
          },
          "colorscale": {
           "diverging": [
            [
             0,
             "rgb(103,0,31)"
            ],
            [
             0.1,
             "rgb(178,24,43)"
            ],
            [
             0.2,
             "rgb(214,96,77)"
            ],
            [
             0.3,
             "rgb(244,165,130)"
            ],
            [
             0.4,
             "rgb(253,219,199)"
            ],
            [
             0.5,
             "rgb(247,247,247)"
            ],
            [
             0.6,
             "rgb(209,229,240)"
            ],
            [
             0.7,
             "rgb(146,197,222)"
            ],
            [
             0.8,
             "rgb(67,147,195)"
            ],
            [
             0.9,
             "rgb(33,102,172)"
            ],
            [
             1,
             "rgb(5,48,97)"
            ]
           ],
           "sequential": [
            [
             0,
             "#440154"
            ],
            [
             0.1111111111111111,
             "#482878"
            ],
            [
             0.2222222222222222,
             "#3e4989"
            ],
            [
             0.3333333333333333,
             "#31688e"
            ],
            [
             0.4444444444444444,
             "#26828e"
            ],
            [
             0.5555555555555556,
             "#1f9e89"
            ],
            [
             0.6666666666666666,
             "#35b779"
            ],
            [
             0.7777777777777778,
             "#6ece58"
            ],
            [
             0.8888888888888888,
             "#b5de2b"
            ],
            [
             1,
             "#fde725"
            ]
           ],
           "sequentialminus": [
            [
             0,
             "#440154"
            ],
            [
             0.1111111111111111,
             "#482878"
            ],
            [
             0.2222222222222222,
             "#3e4989"
            ],
            [
             0.3333333333333333,
             "#31688e"
            ],
            [
             0.4444444444444444,
             "#26828e"
            ],
            [
             0.5555555555555556,
             "#1f9e89"
            ],
            [
             0.6666666666666666,
             "#35b779"
            ],
            [
             0.7777777777777778,
             "#6ece58"
            ],
            [
             0.8888888888888888,
             "#b5de2b"
            ],
            [
             1,
             "#fde725"
            ]
           ]
          },
          "colorway": [
           "#1F77B4",
           "#FF7F0E",
           "#2CA02C",
           "#D62728",
           "#9467BD",
           "#8C564B",
           "#E377C2",
           "#7F7F7F",
           "#BCBD22",
           "#17BECF"
          ],
          "font": {
           "color": "rgb(36,36,36)"
          },
          "geo": {
           "bgcolor": "white",
           "lakecolor": "white",
           "landcolor": "white",
           "showlakes": true,
           "showland": true,
           "subunitcolor": "white"
          },
          "hoverlabel": {
           "align": "left"
          },
          "hovermode": "closest",
          "mapbox": {
           "style": "light"
          },
          "paper_bgcolor": "white",
          "plot_bgcolor": "white",
          "polar": {
           "angularaxis": {
            "gridcolor": "rgb(232,232,232)",
            "linecolor": "rgb(36,36,36)",
            "showgrid": false,
            "showline": true,
            "ticks": "outside"
           },
           "bgcolor": "white",
           "radialaxis": {
            "gridcolor": "rgb(232,232,232)",
            "linecolor": "rgb(36,36,36)",
            "showgrid": false,
            "showline": true,
            "ticks": "outside"
           }
          },
          "scene": {
           "xaxis": {
            "backgroundcolor": "white",
            "gridcolor": "rgb(232,232,232)",
            "gridwidth": 2,
            "linecolor": "rgb(36,36,36)",
            "showbackground": true,
            "showgrid": false,
            "showline": true,
            "ticks": "outside",
            "zeroline": false,
            "zerolinecolor": "rgb(36,36,36)"
           },
           "yaxis": {
            "backgroundcolor": "white",
            "gridcolor": "rgb(232,232,232)",
            "gridwidth": 2,
            "linecolor": "rgb(36,36,36)",
            "showbackground": true,
            "showgrid": false,
            "showline": true,
            "ticks": "outside",
            "zeroline": false,
            "zerolinecolor": "rgb(36,36,36)"
           },
           "zaxis": {
            "backgroundcolor": "white",
            "gridcolor": "rgb(232,232,232)",
            "gridwidth": 2,
            "linecolor": "rgb(36,36,36)",
            "showbackground": true,
            "showgrid": false,
            "showline": true,
            "ticks": "outside",
            "zeroline": false,
            "zerolinecolor": "rgb(36,36,36)"
           }
          },
          "shapedefaults": {
           "fillcolor": "black",
           "line": {
            "width": 0
           },
           "opacity": 0.3
          },
          "ternary": {
           "aaxis": {
            "gridcolor": "rgb(232,232,232)",
            "linecolor": "rgb(36,36,36)",
            "showgrid": false,
            "showline": true,
            "ticks": "outside"
           },
           "baxis": {
            "gridcolor": "rgb(232,232,232)",
            "linecolor": "rgb(36,36,36)",
            "showgrid": false,
            "showline": true,
            "ticks": "outside"
           },
           "bgcolor": "white",
           "caxis": {
            "gridcolor": "rgb(232,232,232)",
            "linecolor": "rgb(36,36,36)",
            "showgrid": false,
            "showline": true,
            "ticks": "outside"
           }
          },
          "title": {
           "x": 0.05
          },
          "xaxis": {
           "automargin": true,
           "gridcolor": "rgb(232,232,232)",
           "linecolor": "rgb(36,36,36)",
           "showgrid": false,
           "showline": true,
           "ticks": "outside",
           "title": {
            "standoff": 15
           },
           "zeroline": false,
           "zerolinecolor": "rgb(36,36,36)"
          },
          "yaxis": {
           "automargin": true,
           "gridcolor": "rgb(232,232,232)",
           "linecolor": "rgb(36,36,36)",
           "showgrid": false,
           "showline": true,
           "ticks": "outside",
           "title": {
            "standoff": 15
           },
           "zeroline": false,
           "zerolinecolor": "rgb(36,36,36)"
          }
         }
        },
        "title": {
         "text": "Actual vs. Forecast (Out-of-Sample)"
        },
        "width": 1000,
        "xaxis": {
         "anchor": "y",
         "domain": [
          0,
          1
         ]
        },
        "yaxis": {
         "anchor": "x",
         "domain": [
          0,
          1
         ]
        }
       }
      }
     },
     "metadata": {},
     "output_type": "display_data"
    },
    {
     "data": {
      "text/html": [
       "<div>\n",
       "<style scoped>\n",
       "    .dataframe tbody tr th:only-of-type {\n",
       "        vertical-align: middle;\n",
       "    }\n",
       "\n",
       "    .dataframe tbody tr th {\n",
       "        vertical-align: top;\n",
       "    }\n",
       "\n",
       "    .dataframe thead th {\n",
       "        text-align: right;\n",
       "    }\n",
       "</style>\n",
       "<table border=\"1\" class=\"dataframe\">\n",
       "  <thead>\n",
       "    <tr style=\"text-align: right;\">\n",
       "      <th></th>\n",
       "      <th>y_pred</th>\n",
       "    </tr>\n",
       "  </thead>\n",
       "  <tbody>\n",
       "    <tr>\n",
       "      <th>2023Q4</th>\n",
       "      <td>2.779095e+06</td>\n",
       "    </tr>\n",
       "    <tr>\n",
       "      <th>2024Q1</th>\n",
       "      <td>2.747321e+06</td>\n",
       "    </tr>\n",
       "    <tr>\n",
       "      <th>2024Q2</th>\n",
       "      <td>2.791446e+06</td>\n",
       "    </tr>\n",
       "    <tr>\n",
       "      <th>2024Q3</th>\n",
       "      <td>2.827584e+06</td>\n",
       "    </tr>\n",
       "    <tr>\n",
       "      <th>2024Q4</th>\n",
       "      <td>2.865766e+06</td>\n",
       "    </tr>\n",
       "    <tr>\n",
       "      <th>2025Q1</th>\n",
       "      <td>2.837747e+06</td>\n",
       "    </tr>\n",
       "    <tr>\n",
       "      <th>2025Q2</th>\n",
       "      <td>2.878117e+06</td>\n",
       "    </tr>\n",
       "    <tr>\n",
       "      <th>2025Q3</th>\n",
       "      <td>2.914255e+06</td>\n",
       "    </tr>\n",
       "    <tr>\n",
       "      <th>2025Q4</th>\n",
       "      <td>2.952437e+06</td>\n",
       "    </tr>\n",
       "    <tr>\n",
       "      <th>2026Q1</th>\n",
       "      <td>2.924417e+06</td>\n",
       "    </tr>\n",
       "    <tr>\n",
       "      <th>2026Q2</th>\n",
       "      <td>2.964788e+06</td>\n",
       "    </tr>\n",
       "    <tr>\n",
       "      <th>2026Q3</th>\n",
       "      <td>3.000926e+06</td>\n",
       "    </tr>\n",
       "    <tr>\n",
       "      <th>2026Q4</th>\n",
       "      <td>3.039108e+06</td>\n",
       "    </tr>\n",
       "    <tr>\n",
       "      <th>2027Q1</th>\n",
       "      <td>3.011088e+06</td>\n",
       "    </tr>\n",
       "    <tr>\n",
       "      <th>2027Q2</th>\n",
       "      <td>3.051459e+06</td>\n",
       "    </tr>\n",
       "    <tr>\n",
       "      <th>2027Q3</th>\n",
       "      <td>3.087597e+06</td>\n",
       "    </tr>\n",
       "    <tr>\n",
       "      <th>2027Q4</th>\n",
       "      <td>3.125779e+06</td>\n",
       "    </tr>\n",
       "    <tr>\n",
       "      <th>2028Q1</th>\n",
       "      <td>3.097759e+06</td>\n",
       "    </tr>\n",
       "    <tr>\n",
       "      <th>2028Q2</th>\n",
       "      <td>3.138129e+06</td>\n",
       "    </tr>\n",
       "    <tr>\n",
       "      <th>2028Q3</th>\n",
       "      <td>3.174268e+06</td>\n",
       "    </tr>\n",
       "    <tr>\n",
       "      <th>2028Q4</th>\n",
       "      <td>3.212450e+06</td>\n",
       "    </tr>\n",
       "    <tr>\n",
       "      <th>2029Q1</th>\n",
       "      <td>3.184430e+06</td>\n",
       "    </tr>\n",
       "    <tr>\n",
       "      <th>2029Q2</th>\n",
       "      <td>3.224800e+06</td>\n",
       "    </tr>\n",
       "    <tr>\n",
       "      <th>2029Q3</th>\n",
       "      <td>3.260939e+06</td>\n",
       "    </tr>\n",
       "    <tr>\n",
       "      <th>2029Q4</th>\n",
       "      <td>3.299121e+06</td>\n",
       "    </tr>\n",
       "    <tr>\n",
       "      <th>2030Q1</th>\n",
       "      <td>3.271101e+06</td>\n",
       "    </tr>\n",
       "    <tr>\n",
       "      <th>2030Q2</th>\n",
       "      <td>3.311471e+06</td>\n",
       "    </tr>\n",
       "    <tr>\n",
       "      <th>2030Q3</th>\n",
       "      <td>3.347610e+06</td>\n",
       "    </tr>\n",
       "    <tr>\n",
       "      <th>2030Q4</th>\n",
       "      <td>3.385791e+06</td>\n",
       "    </tr>\n",
       "  </tbody>\n",
       "</table>\n",
       "</div>"
      ],
      "text/plain": [
       "              y_pred\n",
       "2023Q4  2.779095e+06\n",
       "2024Q1  2.747321e+06\n",
       "2024Q2  2.791446e+06\n",
       "2024Q3  2.827584e+06\n",
       "2024Q4  2.865766e+06\n",
       "2025Q1  2.837747e+06\n",
       "2025Q2  2.878117e+06\n",
       "2025Q3  2.914255e+06\n",
       "2025Q4  2.952437e+06\n",
       "2026Q1  2.924417e+06\n",
       "2026Q2  2.964788e+06\n",
       "2026Q3  3.000926e+06\n",
       "2026Q4  3.039108e+06\n",
       "2027Q1  3.011088e+06\n",
       "2027Q2  3.051459e+06\n",
       "2027Q3  3.087597e+06\n",
       "2027Q4  3.125779e+06\n",
       "2028Q1  3.097759e+06\n",
       "2028Q2  3.138129e+06\n",
       "2028Q3  3.174268e+06\n",
       "2028Q4  3.212450e+06\n",
       "2029Q1  3.184430e+06\n",
       "2029Q2  3.224800e+06\n",
       "2029Q3  3.260939e+06\n",
       "2029Q4  3.299121e+06\n",
       "2030Q1  3.271101e+06\n",
       "2030Q2  3.311471e+06\n",
       "2030Q3  3.347610e+06\n",
       "2030Q4  3.385791e+06"
      ]
     },
     "execution_count": 15,
     "metadata": {},
     "output_type": "execute_result"
    }
   ],
   "source": [
    "xgboost_cds_dt = exp.create_model('xgboost_cds_dt')\n",
    "exp.plot_model(plot = 'decomp',\n",
    "               data_kwargs = {'type' : 'multiplicative'},\n",
    "               fig_kwargs = {\"height\":500,\"width\":1000,\"template\": \"simple_white\",\"hoverinfo\":\"none\",\"big_data_threshold\":115})\n",
    "exp.plot_model(estimator = xgboost_cds_dt, plot = 'forecast', \n",
    "               data_kwargs = {'fh' : 29},\n",
    "               fig_kwargs = {\"height\":500,\"width\":1000,\"template\": \"simple_white\",\"hoverinfo\":\"none\",\"big_data_threshold\":115})\n",
    "exp.predict_model(xgboost_cds_dt, fh = 29)\n"
   ]
  },
  {
   "cell_type": "markdown",
   "metadata": {},
   "source": [
    "## ets"
   ]
  },
  {
   "cell_type": "code",
   "execution_count": 16,
   "metadata": {},
   "outputs": [],
   "source": [
    "#ets  = exp.create_model('ets')\n",
    "#exp.plot_model(plot = 'decomp', \n",
    "#               data_kwargs = {'type' : 'multiplicative'},\n",
    "#               fig_kwargs = {\"height\":500,\"width\":1000,\"template\": \"simple_white\",\"hoverinfo\":\"none\",\"big_data_threshold\":100})\n",
    "#exp.plot_model(estimator = ets, plot = 'forecast', \n",
    "#               data_kwargs = {'fh' : 29},\n",
    "#               fig_kwargs = {\"height\":500,\"width\":1000,\"template\": \"simple_white\",\"hoverinfo\":\"none\",\"big_data_threshold\":100})\n",
    "#exp.predict_model(ets, fh = 29)\n"
   ]
  },
  {
   "cell_type": "markdown",
   "metadata": {},
   "source": [
    "#### arima   ARIMA "
   ]
  },
  {
   "cell_type": "code",
   "execution_count": 17,
   "metadata": {},
   "outputs": [
    {
     "data": {
      "text/html": [],
      "text/plain": [
       "<IPython.core.display.HTML object>"
      ]
     },
     "metadata": {},
     "output_type": "display_data"
    },
    {
     "data": {
      "text/html": [
       "<style type=\"text/css\">\n",
       "#T_78e57_row3_col0, #T_78e57_row3_col1, #T_78e57_row3_col2, #T_78e57_row3_col3, #T_78e57_row3_col4, #T_78e57_row3_col5, #T_78e57_row3_col6 {\n",
       "  background: yellow;\n",
       "}\n",
       "</style>\n",
       "<table id=\"T_78e57\">\n",
       "  <thead>\n",
       "    <tr>\n",
       "      <th class=\"blank level0\" >&nbsp;</th>\n",
       "      <th id=\"T_78e57_level0_col0\" class=\"col_heading level0 col0\" >cutoff</th>\n",
       "      <th id=\"T_78e57_level0_col1\" class=\"col_heading level0 col1\" >MASE</th>\n",
       "      <th id=\"T_78e57_level0_col2\" class=\"col_heading level0 col2\" >RMSSE</th>\n",
       "      <th id=\"T_78e57_level0_col3\" class=\"col_heading level0 col3\" >MAE</th>\n",
       "      <th id=\"T_78e57_level0_col4\" class=\"col_heading level0 col4\" >RMSE</th>\n",
       "      <th id=\"T_78e57_level0_col5\" class=\"col_heading level0 col5\" >MAPE</th>\n",
       "      <th id=\"T_78e57_level0_col6\" class=\"col_heading level0 col6\" >SMAPE</th>\n",
       "    </tr>\n",
       "  </thead>\n",
       "  <tbody>\n",
       "    <tr>\n",
       "      <th id=\"T_78e57_level0_row0\" class=\"row_heading level0 row0\" >0</th>\n",
       "      <td id=\"T_78e57_row0_col0\" class=\"data row0 col0\" >2022Q4</td>\n",
       "      <td id=\"T_78e57_row0_col1\" class=\"data row0 col1\" >0.1031</td>\n",
       "      <td id=\"T_78e57_row0_col2\" class=\"data row0 col2\" >0.0789</td>\n",
       "      <td id=\"T_78e57_row0_col3\" class=\"data row0 col3\" >9289.1306</td>\n",
       "      <td id=\"T_78e57_row0_col4\" class=\"data row0 col4\" >9289.1306</td>\n",
       "      <td id=\"T_78e57_row0_col5\" class=\"data row0 col5\" >0.0036</td>\n",
       "      <td id=\"T_78e57_row0_col6\" class=\"data row0 col6\" >0.0036</td>\n",
       "    </tr>\n",
       "    <tr>\n",
       "      <th id=\"T_78e57_level0_row1\" class=\"row_heading level0 row1\" >1</th>\n",
       "      <td id=\"T_78e57_row1_col0\" class=\"data row1 col0\" >2023Q1</td>\n",
       "      <td id=\"T_78e57_row1_col1\" class=\"data row1 col1\" >0.5657</td>\n",
       "      <td id=\"T_78e57_row1_col2\" class=\"data row1 col2\" >0.4326</td>\n",
       "      <td id=\"T_78e57_row1_col3\" class=\"data row1 col3\" >51919.6353</td>\n",
       "      <td id=\"T_78e57_row1_col4\" class=\"data row1 col4\" >51919.6353</td>\n",
       "      <td id=\"T_78e57_row1_col5\" class=\"data row1 col5\" >0.0192</td>\n",
       "      <td id=\"T_78e57_row1_col6\" class=\"data row1 col6\" >0.0190</td>\n",
       "    </tr>\n",
       "    <tr>\n",
       "      <th id=\"T_78e57_level0_row2\" class=\"row_heading level0 row2\" >2</th>\n",
       "      <td id=\"T_78e57_row2_col0\" class=\"data row2 col0\" >2023Q2</td>\n",
       "      <td id=\"T_78e57_row2_col1\" class=\"data row2 col1\" >0.2901</td>\n",
       "      <td id=\"T_78e57_row2_col2\" class=\"data row2 col2\" >0.2225</td>\n",
       "      <td id=\"T_78e57_row2_col3\" class=\"data row2 col3\" >26872.7038</td>\n",
       "      <td id=\"T_78e57_row2_col4\" class=\"data row2 col4\" >26872.7038</td>\n",
       "      <td id=\"T_78e57_row2_col5\" class=\"data row2 col5\" >0.0098</td>\n",
       "      <td id=\"T_78e57_row2_col6\" class=\"data row2 col6\" >0.0098</td>\n",
       "    </tr>\n",
       "    <tr>\n",
       "      <th id=\"T_78e57_level0_row3\" class=\"row_heading level0 row3\" >Mean</th>\n",
       "      <td id=\"T_78e57_row3_col0\" class=\"data row3 col0\" >NaT</td>\n",
       "      <td id=\"T_78e57_row3_col1\" class=\"data row3 col1\" >0.3196</td>\n",
       "      <td id=\"T_78e57_row3_col2\" class=\"data row3 col2\" >0.2446</td>\n",
       "      <td id=\"T_78e57_row3_col3\" class=\"data row3 col3\" >29360.4899</td>\n",
       "      <td id=\"T_78e57_row3_col4\" class=\"data row3 col4\" >29360.4899</td>\n",
       "      <td id=\"T_78e57_row3_col5\" class=\"data row3 col5\" >0.0109</td>\n",
       "      <td id=\"T_78e57_row3_col6\" class=\"data row3 col6\" >0.0108</td>\n",
       "    </tr>\n",
       "    <tr>\n",
       "      <th id=\"T_78e57_level0_row4\" class=\"row_heading level0 row4\" >SD</th>\n",
       "      <td id=\"T_78e57_row4_col0\" class=\"data row4 col0\" >NaT</td>\n",
       "      <td id=\"T_78e57_row4_col1\" class=\"data row4 col1\" >0.1900</td>\n",
       "      <td id=\"T_78e57_row4_col2\" class=\"data row4 col2\" >0.1453</td>\n",
       "      <td id=\"T_78e57_row4_col3\" class=\"data row4 col3\" >17492.5087</td>\n",
       "      <td id=\"T_78e57_row4_col4\" class=\"data row4 col4\" >17492.5087</td>\n",
       "      <td id=\"T_78e57_row4_col5\" class=\"data row4 col5\" >0.0064</td>\n",
       "      <td id=\"T_78e57_row4_col6\" class=\"data row4 col6\" >0.0063</td>\n",
       "    </tr>\n",
       "  </tbody>\n",
       "</table>\n"
      ],
      "text/plain": [
       "<pandas.io.formats.style.Styler at 0x236a4ac4040>"
      ]
     },
     "metadata": {},
     "output_type": "display_data"
    },
    {
     "data": {
      "text/html": [],
      "text/plain": [
       "<IPython.core.display.HTML object>"
      ]
     },
     "metadata": {},
     "output_type": "display_data"
    }
   ],
   "source": [
    "\n",
    "arima = exp.create_model('arima')\n",
    "exp.plot_model(plot = 'decomp', \n",
    "               data_kwargs = {'type' : 'multiplicative'},\n",
    "               fig_kwargs = {\"height\":500,\"width\":1000,\"template\": \"simple_white\",\"hoverinfo\":\"none\",\"big_data_threshold\":10})\n",
    "exp.plot_model(estimator = arima, \n",
    "               plot = 'forecast', \n",
    "               data_kwargs = {'fh' : 29},\n",
    "               fig_kwargs = {\"height\":500,\"width\":1000,\"template\": \"simple_white\",\"hoverinfo\":\"none\",\"big_data_threshold\":10})\n",
    "exp.predict_model(arima, fh = 29)"
   ]
  },
  {
   "cell_type": "code",
   "execution_count": null,
   "metadata": {},
   "outputs": [],
   "source": [
    "## AUTO_ARIMA"
   ]
  },
  {
   "cell_type": "code",
   "execution_count": null,
   "metadata": {},
   "outputs": [],
   "source": [
    "auto_arima = exp.create_model('auto_arima')\n",
    "exp.plot_model(plot = 'decomp', \n",
    "               data_kwargs = {'type' : 'multiplicative'},\n",
    "               fig_kwargs = {\"height\":500,\"width\":1000,\"template\": \"simple_white\",\"hoverinfo\":\"none\",\"big_data_threshold\":10})\n",
    "exp.plot_model(estimator = auto_arima, \n",
    "               plot = 'forecast', \n",
    "               data_kwargs = {'fh' : 29},\n",
    "               fig_kwargs = {\"height\":500,\"width\":1000,\"template\": \"simple_white\",\"hoverinfo\":\"none\",\"big_data_threshold\":10})\n",
    "exp.predict_model(auto_arima, fh = 29)"
   ]
  },
  {
   "cell_type": "code",
   "execution_count": null,
   "metadata": {},
   "outputs": [],
   "source": [
    "## stlf\n",
    "stlf  = exp.create_model('stlf')\n",
    "exp.plot_model(plot = 'decomp', \n",
    "               data_kwargs = {'type' : 'multiplicative'},\n",
    "               fig_kwargs = {\"height\":500,\"width\":1000,\"template\": \"simple_white\",\"hoverinfo\":\"none\",\"big_data_threshold\":100})\n",
    "exp.plot_model(estimator = stlf, plot = 'forecast', \n",
    "               data_kwargs = {'fh' : 29},\n",
    "               fig_kwargs = {\"height\":500,\"width\":1000,\"template\": \"simple_white\",\"hoverinfo\":\"none\",\"big_data_threshold\":100})\n",
    "exp.predict_model(stlf, fh = 29)\n"
   ]
  },
  {
   "cell_type": "markdown",
   "metadata": {},
   "source": [
    "## ALL GRAPHS"
   ]
  },
  {
   "cell_type": "code",
   "execution_count": null,
   "metadata": {},
   "outputs": [
    {
     "ename": "NameError",
     "evalue": "name 'huber_cds_dt' is not defined",
     "output_type": "error",
     "traceback": [
      "\u001b[1;31m---------------------------------------------------------------------------\u001b[0m",
      "\u001b[1;31mNameError\u001b[0m                                 Traceback (most recent call last)",
      "Cell \u001b[1;32mIn[16], line 1\u001b[0m\n\u001b[1;32m----> 1\u001b[0m exp\u001b[38;5;241m.\u001b[39mplot_model(estimator \u001b[38;5;241m=\u001b[39m \u001b[43mhuber_cds_dt\u001b[49m, plot \u001b[38;5;241m=\u001b[39m \u001b[38;5;124m'\u001b[39m\u001b[38;5;124mforecast\u001b[39m\u001b[38;5;124m'\u001b[39m, \n\u001b[0;32m      2\u001b[0m                data_kwargs \u001b[38;5;241m=\u001b[39m {\u001b[38;5;124m'\u001b[39m\u001b[38;5;124mfh\u001b[39m\u001b[38;5;124m'\u001b[39m : \u001b[38;5;241m8\u001b[39m},\n\u001b[0;32m      3\u001b[0m                fig_kwargs \u001b[38;5;241m=\u001b[39m {\u001b[38;5;124m\"\u001b[39m\u001b[38;5;124mheight\u001b[39m\u001b[38;5;124m\"\u001b[39m:\u001b[38;5;241m500\u001b[39m,\u001b[38;5;124m\"\u001b[39m\u001b[38;5;124mwidth\u001b[39m\u001b[38;5;124m\"\u001b[39m:\u001b[38;5;241m1000\u001b[39m,\u001b[38;5;124m\"\u001b[39m\u001b[38;5;124mtemplate\u001b[39m\u001b[38;5;124m\"\u001b[39m: \u001b[38;5;124m\"\u001b[39m\u001b[38;5;124msimple_white\u001b[39m\u001b[38;5;124m\"\u001b[39m,\u001b[38;5;124m\"\u001b[39m\u001b[38;5;124mhoverinfo\u001b[39m\u001b[38;5;124m\"\u001b[39m:\u001b[38;5;124m\"\u001b[39m\u001b[38;5;124mnone\u001b[39m\u001b[38;5;124m\"\u001b[39m,\u001b[38;5;124m\"\u001b[39m\u001b[38;5;124mbig_data_threshold\u001b[39m\u001b[38;5;124m\"\u001b[39m:\u001b[38;5;241m10\u001b[39m})\n\u001b[0;32m      4\u001b[0m exp\u001b[38;5;241m.\u001b[39mplot_model(estimator \u001b[38;5;241m=\u001b[39m lightgbm_cds_dt, plot \u001b[38;5;241m=\u001b[39m \u001b[38;5;124m'\u001b[39m\u001b[38;5;124mforecast\u001b[39m\u001b[38;5;124m'\u001b[39m, \n\u001b[0;32m      5\u001b[0m                data_kwargs \u001b[38;5;241m=\u001b[39m {\u001b[38;5;124m'\u001b[39m\u001b[38;5;124mfh\u001b[39m\u001b[38;5;124m'\u001b[39m : \u001b[38;5;241m8\u001b[39m},\n\u001b[0;32m      6\u001b[0m                fig_kwargs \u001b[38;5;241m=\u001b[39m {\u001b[38;5;124m\"\u001b[39m\u001b[38;5;124mheight\u001b[39m\u001b[38;5;124m\"\u001b[39m:\u001b[38;5;241m500\u001b[39m,\u001b[38;5;124m\"\u001b[39m\u001b[38;5;124mwidth\u001b[39m\u001b[38;5;124m\"\u001b[39m:\u001b[38;5;241m1000\u001b[39m,\u001b[38;5;124m\"\u001b[39m\u001b[38;5;124mtemplate\u001b[39m\u001b[38;5;124m\"\u001b[39m: \u001b[38;5;124m\"\u001b[39m\u001b[38;5;124msimple_white\u001b[39m\u001b[38;5;124m\"\u001b[39m,\u001b[38;5;124m\"\u001b[39m\u001b[38;5;124mhoverinfo\u001b[39m\u001b[38;5;124m\"\u001b[39m:\u001b[38;5;124m\"\u001b[39m\u001b[38;5;124mnone\u001b[39m\u001b[38;5;124m\"\u001b[39m,\u001b[38;5;124m\"\u001b[39m\u001b[38;5;124mbig_data_threshold\u001b[39m\u001b[38;5;124m\"\u001b[39m:\u001b[38;5;241m10\u001b[39m})\n\u001b[0;32m      7\u001b[0m exp\u001b[38;5;241m.\u001b[39mplot_model(estimator \u001b[38;5;241m=\u001b[39m polytrend, plot \u001b[38;5;241m=\u001b[39m \u001b[38;5;124m'\u001b[39m\u001b[38;5;124mforecast\u001b[39m\u001b[38;5;124m'\u001b[39m, \n\u001b[0;32m      8\u001b[0m                data_kwargs \u001b[38;5;241m=\u001b[39m {\u001b[38;5;124m'\u001b[39m\u001b[38;5;124mfh\u001b[39m\u001b[38;5;124m'\u001b[39m : \u001b[38;5;241m8\u001b[39m},\n\u001b[0;32m      9\u001b[0m                fig_kwargs \u001b[38;5;241m=\u001b[39m {\u001b[38;5;124m\"\u001b[39m\u001b[38;5;124mheight\u001b[39m\u001b[38;5;124m\"\u001b[39m:\u001b[38;5;241m500\u001b[39m,\u001b[38;5;124m\"\u001b[39m\u001b[38;5;124mwidth\u001b[39m\u001b[38;5;124m\"\u001b[39m:\u001b[38;5;241m1000\u001b[39m,\u001b[38;5;124m\"\u001b[39m\u001b[38;5;124mtemplate\u001b[39m\u001b[38;5;124m\"\u001b[39m: \u001b[38;5;124m\"\u001b[39m\u001b[38;5;124msimple_white\u001b[39m\u001b[38;5;124m\"\u001b[39m,\u001b[38;5;124m\"\u001b[39m\u001b[38;5;124mhoverinfo\u001b[39m\u001b[38;5;124m\"\u001b[39m:\u001b[38;5;124m\"\u001b[39m\u001b[38;5;124mnone\u001b[39m\u001b[38;5;124m\"\u001b[39m,\u001b[38;5;124m\"\u001b[39m\u001b[38;5;124mbig_data_threshold\u001b[39m\u001b[38;5;124m\"\u001b[39m:\u001b[38;5;241m10\u001b[39m})\n",
      "\u001b[1;31mNameError\u001b[0m: name 'huber_cds_dt' is not defined"
     ]
    }
   ],
   "source": [
    "exp.plot_model(estimator = ets, plot = 'forecast', \n",
    "               data_kwargs = {'fh' : 8},\n",
    "               fig_kwargs = {\"height\":500,\"width\":1000,\"template\": \"simple_white\",\"hoverinfo\":\"none\",\"big_data_threshold\":10})\n",
    "exp.plot_model(estimator = stlf, plot = 'forecast', \n",
    "               data_kwargs = {'fh' : 8},\n",
    "               fig_kwargs = {\"height\":500,\"width\":1000,\"template\": \"simple_white\",\"hoverinfo\":\"none\",\"big_data_threshold\":10})\n",
    "exp.plot_model(estimator = arima, plot = 'forecast', \n",
    "               data_kwargs = {'fh' : 8},\n",
    "               fig_kwargs = {\"height\":500,\"width\":1000,\"template\": \"simple_white\",\"hoverinfo\":\"none\",\"big_data_threshold\":10})\n",
    "exp.plot_model(estimator = auto_arima, plot = 'forecast', \n",
    "               data_kwargs = {'fh' : 8},\n",
    "               fig_kwargs = {\"height\":500,\"width\":1000,\"template\": \"simple_white\",\"hoverinfo\":\"none\",\"big_data_threshold\":10})\n",
    "\n",
    "               "
   ]
  }
 ],
 "metadata": {
  "kernelspec": {
   "display_name": "Python 3",
   "language": "python",
   "name": "python3"
  },
  "language_info": {
   "codemirror_mode": {
    "name": "ipython",
    "version": 3
   },
   "file_extension": ".py",
   "mimetype": "text/x-python",
   "name": "python",
   "nbconvert_exporter": "python",
   "pygments_lexer": "ipython3",
   "version": "3.10.11"
  }
 },
 "nbformat": 4,
 "nbformat_minor": 2
}
